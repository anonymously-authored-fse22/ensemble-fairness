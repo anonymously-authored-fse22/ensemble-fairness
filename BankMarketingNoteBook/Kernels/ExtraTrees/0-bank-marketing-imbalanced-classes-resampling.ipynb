{
 "cells": [
  {
   "cell_type": "markdown",
   "metadata": {
    "_uuid": "29b99ffc1d0a39ef0fba5323e5a29073b0f5bb9b"
   },
   "source": [
    "# Bank Marketing - term deposit prediction"
   ]
  },
  {
   "cell_type": "markdown",
   "metadata": {
    "_uuid": "6ea04f170a18ff9e255d4519e214271aeda9a11b"
   },
   "source": [
    "Data Set Information:\n",
    "\n",
    "The data is related with direct marketing campaigns of a Portuguese banking institution. The marketing campaigns were based on phone calls. Often, more than one contact to the same client was required, in order to access if the product (bank term deposit) would be ('yes') or not ('no') subscribed.\n",
    "\n",
    "There are four datasets:\n",
    "1) bank-additional-full.csv with all examples (41188) and 20 inputs, ordered by date (from May 2008 to November 2010), very close to the data analyzed in [Moro et al., 2014]\n",
    "2) bank-additional.csv with 10% of the examples (4119), randomly selected from 1), and 20 inputs.\n",
    "3) bank-full.csv with all examples and 17 inputs, ordered by date (older version of this dataset with less inputs).\n",
    "4) bank.csv with 10% of the examples and 17 inputs, randomly selected from 3 (older version of this dataset with less inputs).\n",
    "The smallest datasets are provided to test more computationally demanding machine learning algorithms (e.g., SVM).\n",
    "\n",
    "The classification goal is to predict if the client will subscribe (yes/no) a term deposit (variable y).\n",
    "\n",
    "Attribute Information:\n",
    "\n",
    "Input variables:\n",
    "### bank client data:\n",
    "* 1 - age (numeric)\n",
    "* 2 - job : type of job (categorical: 'admin.','blue-collar','entrepreneur','housemaid','management','retired','self-employed','services','student','technician','unemployed','unknown')\n",
    "* 3 - marital : marital status (categorical: 'divorced','married','single','unknown'; note: 'divorced' means divorced or widowed)\n",
    "* 4 - education (categorical: 'basic.4y','basic.6y','basic.9y','high.school','illiterate','professional.course','university.degree','unknown')\n",
    "* 5 - default: has credit in default? (categorical: 'no','yes','unknown')\n",
    "* 6 - housing: has housing loan? (categorical: 'no','yes','unknown')\n",
    "* 7 - loan: has personal loan? (categorical: 'no','yes','unknown')\n",
    "* related with the last contact of the current campaign:\n",
    "* 8 - contact: contact communication type (categorical: 'cellular','telephone')\n",
    "* 9 - month: last contact month of year (categorical: 'jan', 'feb', 'mar', ..., 'nov', 'dec')\n",
    "* 10 - day_of_week: last contact day of the week (categorical: 'mon','tue','wed','thu','fri')\n",
    "* 11 - duration: last contact duration, in seconds (numeric). Important note: this attribute highly affects the output target (e.g., if duration=0 then y='no'). Yet, the duration is not known before a call is performed. Also, after * the end of the call y is obviously known. Thus, this input should only be included for benchmark purposes and should be discarded if the intention is to have a realistic predictive model.\n",
    "### other attributes:\n",
    "* 12 - campaign: number of contacts performed during this campaign and for this client (numeric, includes last contact)\n",
    "* 13 - pdays: number of days that passed by after the client was last contacted from a previous campaign (numeric; 999 means client was not previously contacted)\n",
    "* 14 - previous: number of contacts performed before this campaign and for this client (numeric)\n",
    "* 15 - poutcome: outcome of the previous marketing campaign (categorical: 'failure','nonexistent','success')\n",
    "### social and economic context attributes\n",
    "* 16 - emp.var.rate: employment variation rate - quarterly indicator (numeric)\n",
    "* 17 - cons.price.idx: consumer price index - monthly indicator (numeric)\n",
    "* 18 - cons.conf.idx: consumer confidence index - monthly indicator (numeric)\n",
    "* 19 - euribor3m: euribor 3 month rate - daily indicator (numeric)\n",
    "* 20 - nr.employed: number of employees - quarterly indicator (numeric)\n",
    "\n",
    "Output variable (desired target):\n",
    "* 21 - y - has the client subscribed a term deposit? (binary: 'yes','no')\n",
    "\n",
    "Source:  http://archive.ics.uci.edu/ml/datasets/Bank+Marketing\n"
   ]
  },
  {
   "cell_type": "markdown",
   "metadata": {
    "_uuid": "4548a2cde65313217784e9daf9aa90de7b1fe445"
   },
   "source": [
    "## Loading libraries"
   ]
  },
  {
   "cell_type": "code",
   "execution_count": 1,
   "metadata": {
    "_uuid": "90676469b2bf0239ef1b8a7cc4c465e256795175"
   },
   "outputs": [],
   "source": [
    "# Load libraries\n",
    "import numpy\n",
    "import pandas as pd\n",
    "from pandas import read_csv\n",
    "import matplotlib.pyplot as plt\n",
    "import seaborn as sns\n",
    "from sklearn.model_selection import train_test_split\n",
    "from sklearn.model_selection import KFold\n",
    "from sklearn.model_selection import cross_val_score\n",
    "from sklearn.metrics import classification_report\n",
    "from sklearn.metrics import confusion_matrix\n",
    "from sklearn.metrics import accuracy_score\n",
    "from sklearn.preprocessing import LabelEncoder\n",
    "from sklearn.preprocessing import StandardScaler\n",
    "from sklearn.pipeline import Pipeline\n",
    "\n",
    "# Classification Models\n",
    "from sklearn.linear_model import LogisticRegression\n",
    "from sklearn.tree import DecisionTreeClassifier\n",
    "from sklearn.neighbors import KNeighborsClassifier\n",
    "from sklearn.naive_bayes import GaussianNB\n",
    "from sklearn.ensemble import GradientBoostingClassifier\n",
    "from sklearn.ensemble import AdaBoostClassifier\n",
    "from sklearn.ensemble import RandomForestClassifier\n",
    "from sklearn.ensemble import ExtraTreesClassifier\n",
    "from sklearn.utils import resample\n",
    "\n",
    "import warnings\n",
    "warnings.filterwarnings(\"ignore\", category=FutureWarning)"
   ]
  },
  {
   "cell_type": "markdown",
   "metadata": {
    "_uuid": "dcc90ba52d289b40205cb64bff660477a8ed142c"
   },
   "source": [
    "## Load dataset"
   ]
  },
  {
   "cell_type": "code",
   "execution_count": 2,
   "metadata": {},
   "outputs": [],
   "source": [
    "from aif360.datasets import StandardDataset\n",
    "from aif360.metrics import BinaryLabelDatasetMetric, ClassificationMetric\n",
    "import matplotlib.patches as patches\n",
    "from aif360.algorithms.preprocessing import Reweighing\n",
    "#from packages import *\n",
    "#from ml_fairness import *\n",
    "import matplotlib.pyplot as plt\n",
    "import seaborn as sns\n",
    "\n",
    "\n",
    "\n",
    "from IPython.display import Markdown, display"
   ]
  },
  {
   "cell_type": "code",
   "execution_count": 3,
   "metadata": {
    "_uuid": "4bf7a62435afa6fc721482029a0e6e2f2f783fd3"
   },
   "outputs": [],
   "source": [
    "# Load dataset\n",
    "dataset = pd.read_csv('../../Data/bank-additional-full.csv', sep = ';')\n",
    "\n",
    "# dataset_all = read_csv(filename, delim_whitespace=False, header=0, sep=\";\")\n",
    "#dataset = read_csv(filename, delim_whitespace=False, header=0, sep=\";\")"
   ]
  },
  {
   "cell_type": "markdown",
   "metadata": {
    "_uuid": "ec2fda59476ec9acc1cc14c74ecac602d886d838"
   },
   "source": [
    "### drop column duration as suggested\n",
    "> duration: last contact duration, in seconds (numeric). Important note:  this attribute highly affects the output target (e.g., if duration=0 then y=\"no\"). Yet, the duration is not known before a call is performed. Also, after the end of the call y is obviously known. Thus, this input should only be included for benchmark purposes and should be discarded if the intention is to have a realistic predictive model."
   ]
  },
  {
   "cell_type": "code",
   "execution_count": 27,
   "metadata": {
    "_uuid": "bcb611613862ae3ec5f7db45156b0c8e42002358"
   },
   "outputs": [],
   "source": [
    "# drop column duration as suggested\n",
    "dataset = dataset.drop(columns=[\"duration\"])"
   ]
  },
  {
   "cell_type": "markdown",
   "metadata": {
    "_uuid": "784399bc1d52453bf7a3de18c7cb1d5b8c214a59"
   },
   "source": [
    "## View dataset"
   ]
  },
  {
   "cell_type": "code",
   "execution_count": 28,
   "metadata": {
    "_uuid": "aab0c12d77d2f5668623af150cc8776e8a7bde2a"
   },
   "outputs": [
    {
     "name": "stdout",
     "output_type": "stream",
     "text": [
      "Shape:\n",
      "(41188, 20)\n",
      "\n",
      "Dataset info:\n",
      "\n",
      "<class 'pandas.core.frame.DataFrame'>\n",
      "RangeIndex: 41188 entries, 0 to 41187\n",
      "Data columns (total 20 columns):\n",
      " #   Column          Non-Null Count  Dtype  \n",
      "---  ------          --------------  -----  \n",
      " 0   age             41188 non-null  int64  \n",
      " 1   job             41188 non-null  object \n",
      " 2   marital         41188 non-null  object \n",
      " 3   education       41188 non-null  object \n",
      " 4   default         41188 non-null  object \n",
      " 5   housing         41188 non-null  object \n",
      " 6   loan            41188 non-null  object \n",
      " 7   contact         41188 non-null  object \n",
      " 8   month           41188 non-null  object \n",
      " 9   day_of_week     41188 non-null  object \n",
      " 10  campaign        41188 non-null  int64  \n",
      " 11  pdays           41188 non-null  int64  \n",
      " 12  previous        41188 non-null  int64  \n",
      " 13  poutcome        41188 non-null  object \n",
      " 14  emp.var.rate    41188 non-null  float64\n",
      " 15  cons.price.idx  41188 non-null  float64\n",
      " 16  cons.conf.idx   41188 non-null  float64\n",
      " 17  euribor3m       41188 non-null  float64\n",
      " 18  nr.employed     41188 non-null  float64\n",
      " 19  y               41188 non-null  object \n",
      "dtypes: float64(5), int64(4), object(11)\n",
      "memory usage: 6.3+ MB\n",
      "None\n"
     ]
    }
   ],
   "source": [
    "# shape\n",
    "print(\"Shape:\")\n",
    "print(dataset.shape)\n",
    "print()\n",
    "print(\"Dataset info:\")\n",
    "print()\n",
    "print(dataset.info())"
   ]
  },
  {
   "cell_type": "markdown",
   "metadata": {
    "_uuid": "6ab2c72b8c9ab5bc69172821453c9326a96d99f0"
   },
   "source": [
    "### Look at class distribution"
   ]
  },
  {
   "cell_type": "code",
   "execution_count": 29,
   "metadata": {
    "_uuid": "b7a10de09a963fdc24e443762d83d6d7046a62a7"
   },
   "outputs": [
    {
     "name": "stdout",
     "output_type": "stream",
     "text": [
      "y\n",
      "no     36548\n",
      "yes     4640\n",
      "dtype: int64\n"
     ]
    }
   ],
   "source": [
    "# class distribution\n",
    "print(dataset.groupby(\"y\").size())"
   ]
  },
  {
   "cell_type": "markdown",
   "metadata": {
    "_uuid": "7576c13142746b325e0f0edaf14355823847646e"
   },
   "source": [
    "The classes are imbalanced. The dataset needs to be resampled."
   ]
  },
  {
   "cell_type": "markdown",
   "metadata": {
    "_uuid": "815c5fb6446f5ce512c267ecb2469c98a86c731f"
   },
   "source": [
    "## Plotting some categorical variables"
   ]
  },
  {
   "cell_type": "code",
   "execution_count": 30,
   "metadata": {
    "_uuid": "cb39739006372276a42a4147ab9789f594647a18"
   },
   "outputs": [
    {
     "data": {
      "image/png": "[encoded data removed]",
      "text/plain": [
       "<Figure size 360x360 with 1 Axes>"
      ]
     },
     "metadata": {
      "needs_background": "light"
     },
     "output_type": "display_data"
    }
   ],
   "source": [
    "# show feature month - last contact month of year and count it\n",
    "sns.catplot(x=\"month\", kind=\"count\", data=dataset,\n",
    "            order=[\"mar\", \"apr\", \"may\", \"jun\", \"jul\", \"aug\", \"sep\", \"nov\",\n",
    "                   \"dec\"])\n",
    "plt.show()"
   ]
  },
  {
   "cell_type": "code",
   "execution_count": 31,
   "metadata": {
    "_uuid": "30ca55feb1593b2ebd4ca651f49350d839704403"
   },
   "outputs": [
    {
     "data": {
      "image/png": "[encoded data removed]",
      "text/plain": [
       "<Figure size 432x288 with 1 Axes>"
      ]
     },
     "metadata": {
      "needs_background": "light"
     },
     "output_type": "display_data"
    }
   ],
   "source": [
    "# count subscribed deposit per month\n",
    "ax = sns.countplot(x=\"month\", hue=\"y\", data=dataset,\n",
    "                   order=[\"mar\", \"apr\", \"may\", \"jun\", \"jul\", \"aug\", \"sep\",\n",
    "                          \"nov\", \"dec\"])\n",
    "\n",
    "plt.show()"
   ]
  },
  {
   "cell_type": "code",
   "execution_count": 32,
   "metadata": {
    "_uuid": "9a3685aefbbf8ce186326505d00a2d44aa04cace"
   },
   "outputs": [
    {
     "data": {
      "image/png": "[encoded data removed]",
      "text/plain": [
       "<Figure size 432x288 with 1 Axes>"
      ]
     },
     "metadata": {
      "needs_background": "light"
     },
     "output_type": "display_data"
    }
   ],
   "source": [
    "# pdays: number of days that passed by after the client was \n",
    "# last contacted from a previous campaign (numeric; 999 means client was not previously contacted)\n",
    "# count y\n",
    "ax = sns.countplot(x=\"pdays\", hue=\"y\", data=dataset)\n",
    "plt.show()"
   ]
  },
  {
   "cell_type": "markdown",
   "metadata": {
    "_uuid": "0adf1bd69289f135b4faf0e6a28677fd7d866161"
   },
   "source": [
    "It seems to me that the variable \"month\" and \"day_of_week\" have no relevance for the prediction. For some reason, many calls were made in May.\n",
    "Most calls were made for the first time (999)."
   ]
  },
  {
   "cell_type": "markdown",
   "metadata": {
    "_uuid": "fb4753eda47f9dd17aa9d7794b59dcbb353ac290"
   },
   "source": [
    "## Prepare data"
   ]
  },
  {
   "cell_type": "code",
   "execution_count": 33,
   "metadata": {
    "_uuid": "bb1d85493669e260aa7a5bdb8ee36b50f74ed051"
   },
   "outputs": [],
   "source": [
    "# Prepare Data\n",
    "dataset_enc = dataset.copy()\n",
    "\n",
    "# remove columns month and day_of_week\n",
    "dataset_enc = dataset_enc.drop(columns=[\"month\", \"day_of_week\"])"
   ]
  },
  {
   "cell_type": "markdown",
   "metadata": {
    "_uuid": "1243a995131cc8e5154624edef76358045bd8893"
   },
   "source": [
    "### Encode categorical variable"
   ]
  },
  {
   "cell_type": "code",
   "execution_count": 34,
   "metadata": {
    "_uuid": "fe0242aec58fc3dca48977ef1a4f8f6ddf3bfe7b"
   },
   "outputs": [],
   "source": [
    "# use scikit-learn LabelEncoder to encode labels\n",
    "lb = LabelEncoder()\n",
    "# Convert categorical variable\n",
    "dataset_enc = pd.get_dummies(dataset_enc, columns=['job'], prefix=['job'])\n",
    "dataset_enc = pd.get_dummies(dataset_enc,\n",
    "                             columns=['marital'], prefix=['marital'])\n",
    "dataset_enc = pd.get_dummies(dataset_enc,\n",
    "                             columns=['education'], prefix=['education'])\n",
    "dataset_enc = pd.get_dummies(dataset_enc,\n",
    "                             columns=['default'], prefix=['default'])\n",
    "dataset_enc = pd.get_dummies(dataset_enc,\n",
    "                             columns=['housing'], prefix=['housing'])\n",
    "dataset_enc = pd.get_dummies(dataset_enc, columns=['loan'], prefix=['loan'])\n",
    "\n",
    "# binary transform of column contact categorical: \"cellular\",\"telephone\"\n",
    "dataset_enc['contact'] = lb.fit_transform(dataset['contact'])\n",
    "dataset_enc = pd.get_dummies(dataset_enc,\n",
    "                             columns=['poutcome'], prefix=['poutcome'])\n",
    "\n",
    "# move y at end of dataset\n",
    "dataset_enc['y_class'] = dataset['y']\n",
    "\n",
    "# remove original y column\n",
    "dataset_enc = dataset_enc.drop(columns=[\"y\"])"
   ]
  },
  {
   "cell_type": "markdown",
   "metadata": {
    "_uuid": "c7eda9ca6d216b27fecba3318b7eb89389972f21"
   },
   "source": [
    "### View dataset again"
   ]
  },
  {
   "cell_type": "code",
   "execution_count": 35,
   "metadata": {
    "_uuid": "f712264072c86eff147237d0b2cc0e70e3f999eb"
   },
   "outputs": [
    {
     "name": "stdout",
     "output_type": "stream",
     "text": [
      "<class 'pandas.core.frame.DataFrame'>\n",
      "RangeIndex: 41188 entries, 0 to 41187\n",
      "Data columns (total 47 columns):\n",
      " #   Column                         Non-Null Count  Dtype  \n",
      "---  ------                         --------------  -----  \n",
      " 0   age                            41188 non-null  int64  \n",
      " 1   contact                        41188 non-null  int32  \n",
      " 2   campaign                       41188 non-null  int64  \n",
      " 3   pdays                          41188 non-null  int64  \n",
      " 4   previous                       41188 non-null  int64  \n",
      " 5   emp.var.rate                   41188 non-null  float64\n",
      " 6   cons.price.idx                 41188 non-null  float64\n",
      " 7   cons.conf.idx                  41188 non-null  float64\n",
      " 8   euribor3m                      41188 non-null  float64\n",
      " 9   nr.employed                    41188 non-null  float64\n",
      " 10  job_admin.                     41188 non-null  uint8  \n",
      " 11  job_blue-collar                41188 non-null  uint8  \n",
      " 12  job_entrepreneur               41188 non-null  uint8  \n",
      " 13  job_housemaid                  41188 non-null  uint8  \n",
      " 14  job_management                 41188 non-null  uint8  \n",
      " 15  job_retired                    41188 non-null  uint8  \n",
      " 16  job_self-employed              41188 non-null  uint8  \n",
      " 17  job_services                   41188 non-null  uint8  \n",
      " 18  job_student                    41188 non-null  uint8  \n",
      " 19  job_technician                 41188 non-null  uint8  \n",
      " 20  job_unemployed                 41188 non-null  uint8  \n",
      " 21  job_unknown                    41188 non-null  uint8  \n",
      " 22  marital_divorced               41188 non-null  uint8  \n",
      " 23  marital_married                41188 non-null  uint8  \n",
      " 24  marital_single                 41188 non-null  uint8  \n",
      " 25  marital_unknown                41188 non-null  uint8  \n",
      " 26  education_basic.4y             41188 non-null  uint8  \n",
      " 27  education_basic.6y             41188 non-null  uint8  \n",
      " 28  education_basic.9y             41188 non-null  uint8  \n",
      " 29  education_high.school          41188 non-null  uint8  \n",
      " 30  education_illiterate           41188 non-null  uint8  \n",
      " 31  education_professional.course  41188 non-null  uint8  \n",
      " 32  education_university.degree    41188 non-null  uint8  \n",
      " 33  education_unknown              41188 non-null  uint8  \n",
      " 34  default_no                     41188 non-null  uint8  \n",
      " 35  default_unknown                41188 non-null  uint8  \n",
      " 36  default_yes                    41188 non-null  uint8  \n",
      " 37  housing_no                     41188 non-null  uint8  \n",
      " 38  housing_unknown                41188 non-null  uint8  \n",
      " 39  housing_yes                    41188 non-null  uint8  \n",
      " 40  loan_no                        41188 non-null  uint8  \n",
      " 41  loan_unknown                   41188 non-null  uint8  \n",
      " 42  loan_yes                       41188 non-null  uint8  \n",
      " 43  poutcome_failure               41188 non-null  uint8  \n",
      " 44  poutcome_nonexistent           41188 non-null  uint8  \n",
      " 45  poutcome_success               41188 non-null  uint8  \n",
      " 46  y_class                        41188 non-null  object \n",
      "dtypes: float64(5), int32(1), int64(4), object(1), uint8(36)\n",
      "memory usage: 4.7+ MB\n"
     ]
    }
   ],
   "source": [
    "dataset_enc.info()"
   ]
  },
  {
   "cell_type": "markdown",
   "metadata": {
    "_uuid": "b212a81e1d5c29b5b071b6c314f9deb3ad61f15f"
   },
   "source": [
    "### Resample dataset - Down-sample Majority Class"
   ]
  },
  {
   "cell_type": "code",
   "execution_count": 36,
   "metadata": {
    "_uuid": "80a2fd601ae2f35fd45775da26a04bbef6e7afa6"
   },
   "outputs": [
    {
     "data": {
      "text/plain": [
       "no     4640\n",
       "yes    4640\n",
       "Name: y_class, dtype: int64"
      ]
     },
     "execution_count": 36,
     "metadata": {},
     "output_type": "execute_result"
    }
   ],
   "source": [
    "# Resample\n",
    "dataset_majority = dataset_enc[dataset_enc.y_class == \"no\"]\n",
    "dataset_minority = dataset_enc[dataset_enc.y_class == \"yes\"]\n",
    "\n",
    "# Downsample majority class\n",
    "df_majority_downsampled = resample(dataset_majority, replace=False,\n",
    "                                   n_samples=4640, random_state=123)\n",
    "\n",
    "dataset_downsampled = pd.concat([df_majority_downsampled, dataset_minority])\n",
    "dataset_downsampled.y_class.value_counts()"
   ]
  },
  {
   "cell_type": "markdown",
   "metadata": {
    "_uuid": "236e6cf74746a7d8e689136d158b04b68c2ab507"
   },
   "source": [
    "**we now have a balanced dataset**"
   ]
  },
  {
   "cell_type": "markdown",
   "metadata": {
    "_uuid": "2d5e62628c2cd017c5420554651b0185484de694"
   },
   "source": [
    "## Evaluate Algorithms"
   ]
  },
  {
   "cell_type": "code",
   "execution_count": 16,
   "metadata": {
    "_uuid": "8438299d5156a795017f1cc810b81eb886260d64"
   },
   "outputs": [],
   "source": [
    "# Evaluate Algorithms\n",
    "# Split-out validation dataset\n",
    "array = dataset_downsampled.values\n",
    "X = array[:, 0:46]\n",
    "Y = array[:, 46]\n",
    "validation_size = 0.20\n",
    "seed = 7\n",
    "\n",
    "X_train, X_validation, Y_train, Y_validation = \\\n",
    "    train_test_split(X, Y, test_size=validation_size, random_state=seed)\n",
    "\n",
    "# Test options and evaluation metric\n",
    "num_folds = 10\n",
    "seed = 7\n",
    "scoring = 'accuracy'"
   ]
  },
  {
   "cell_type": "markdown",
   "metadata": {
    "_uuid": "4f040b0ec97ab580ced3191ead2b1820ad1d8243"
   },
   "source": [
    "### Spot Check some Algorithms"
   ]
  },
  {
   "cell_type": "code",
   "execution_count": 14,
   "metadata": {
    "_uuid": "c9410b2953109e8afe11b3bfdca94858644ff985"
   },
   "outputs": [
    {
     "name": "stdout",
     "output_type": "stream",
     "text": [
      "LR 0.730872 0.010062\n",
      "KNN 0.696392 0.011014\n",
      "CART 0.648435 0.016886\n",
      "NB 0.703802 0.015245\n"
     ]
    },
    {
     "data": {
      "image/png": "[encoded data removed]",
      "text/plain": [
       "<Figure size 432x288 with 1 Axes>"
      ]
     },
     "metadata": {},
     "output_type": "display_data"
    }
   ],
   "source": [
    "# Spot Check Algorithms\n",
    "models = []\n",
    "models.append((\"LR\", LogisticRegression()))\n",
    "models.append((\"KNN\", KNeighborsClassifier()))\n",
    "models.append((\"CART\", DecisionTreeClassifier()))\n",
    "models.append((\"NB\", GaussianNB()))\n",
    "\n",
    "# evaluate each model in turn\n",
    "results = []\n",
    "names = []\n",
    "for name, model in models:\n",
    "    kfold = KFold(n_splits=num_folds, random_state=seed)\n",
    "    cv_results = cross_val_score(model, X_train, Y_train, cv=kfold,\n",
    "                                 scoring=scoring)\n",
    "    results.append(cv_results)\n",
    "    names.append(name)\n",
    "    msg = f\"{name} {cv_results.mean():f} {cv_results.std():f}\"\n",
    "    print(msg)\n",
    "\n",
    "# Compare Algorithms\n",
    "sns.boxplot(x=names, y=results)\n",
    "plt.show()"
   ]
  },
  {
   "cell_type": "markdown",
   "metadata": {
    "_uuid": "7753f38fe70fd681317a2d00700e0b326893e934"
   },
   "source": [
    "Logistic regression has the better result"
   ]
  },
  {
   "cell_type": "markdown",
   "metadata": {
    "_uuid": "8ec90c3ad928c45f469c0bc93cc05c82c5752ef7"
   },
   "source": [
    "### Spot Check some ensemble Algorithms"
   ]
  },
  {
   "cell_type": "code",
   "execution_count": 15,
   "metadata": {
    "_uuid": "4e86fa8a573fe7dac2a056cfdd2a13a2f8eed29b"
   },
   "outputs": [
    {
     "name": "stdout",
     "output_type": "stream",
     "text": [
      "AB 0.738417 0.016105\n",
      "GBM 0.745151 0.013374\n",
      "RF 0.712279 0.013865\n",
      "ET 0.693428 0.012231\n"
     ]
    },
    {
     "data": {
      "image/png": "[encoded data removed]",
      "text/plain": [
       "<Figure size 432x288 with 1 Axes>"
      ]
     },
     "metadata": {},
     "output_type": "display_data"
    }
   ],
   "source": [
    "# Compare Algorithms\n",
    "\n",
    "pipelines = []\n",
    "pipelines.append((\"AB\",\n",
    "                  Pipeline([(\"AB\", AdaBoostClassifier())])))\n",
    "pipelines.append((\"GBM\",\n",
    "                  Pipeline([(\"GBM\", GradientBoostingClassifier())])))\n",
    "pipelines.append((\"RF\",\n",
    "                  Pipeline([(\"RF\", RandomForestClassifier())])))\n",
    "pipelines.append((\"ET\",\n",
    "                  Pipeline([(\"ET\", ExtraTreesClassifier())])))\n",
    "\n",
    "results = []\n",
    "names = []\n",
    "for name, model in pipelines:\n",
    "    kfold = KFold(n_splits=num_folds, random_state=seed)\n",
    "    cv_results = cross_val_score(model, X_train, Y_train, cv=kfold,\n",
    "                                 scoring=scoring)\n",
    "    results.append(cv_results)\n",
    "    names.append(name)\n",
    "    msg = f\"{name} {cv_results.mean():f} {cv_results.std():f}\"\n",
    "    print(msg)\n",
    "\n",
    "# Compare Algorithms\n",
    "sns.boxplot(x=names, y=results)\n",
    "plt.show()"
   ]
  },
  {
   "cell_type": "markdown",
   "metadata": {
    "_uuid": "11fa25e9dffafe00bfde018410649cea2e85623a"
   },
   "source": [
    "GradientBoostingClassifier has the better result."
   ]
  },
  {
   "cell_type": "markdown",
   "metadata": {
    "_uuid": "48f5f2d94c7390e42edf11ec7e9c489181c1fe01"
   },
   "source": [
    "## Finalize Model"
   ]
  },
  {
   "cell_type": "code",
   "execution_count": 16,
   "metadata": {
    "_uuid": "faf8d75169c64c72c98a710e9523a639df8ac52e"
   },
   "outputs": [
    {
     "name": "stdout",
     "output_type": "stream",
     "text": [
      "Accuracy score: 0.7505387931034483\n",
      "Classification report\n",
      "              precision    recall  f1-score   support\n",
      "\n",
      "          no       0.71      0.86      0.78       939\n",
      "         yes       0.82      0.64      0.72       917\n",
      "\n",
      "   micro avg       0.75      0.75      0.75      1856\n",
      "   macro avg       0.76      0.75      0.75      1856\n",
      "weighted avg       0.76      0.75      0.75      1856\n",
      "\n",
      "Confusion Matrix:\n",
      "[[810 129]\n",
      " [334 583]]\n"
     ]
    },
    {
     "data": {
      "image/png": "[encoded data removed]",
      "text/plain": [
       "<Figure size 432x288 with 2 Axes>"
      ]
     },
     "metadata": {},
     "output_type": "display_data"
    }
   ],
   "source": [
    "# Finalize Model\n",
    "model = GradientBoostingClassifier()\n",
    "# prepare the model\n",
    "model.fit(X_train, Y_train)\n",
    "predictions = model.predict(X_validation)\n",
    "\n",
    "print(\"Accuracy score:\", accuracy_score(Y_validation, predictions))\n",
    "print(\"Classification report\")\n",
    "print(classification_report(Y_validation, predictions))\n",
    "\n",
    "# Confusion Matrix\n",
    "print(\"Confusion Matrix:\")\n",
    "print(confusion_matrix(Y_validation, predictions))\n",
    "conf_mat = confusion_matrix(Y_validation, predictions)\n",
    "ax = plt.subplot()\n",
    "sns.heatmap(conf_mat, annot=True, ax=ax, fmt='d')\n",
    "# labels, title and ticks\n",
    "ax.set_xlabel('Predicted labels')\n",
    "ax.set_ylabel('True labels')\n",
    "ax.set_title('Confusion Matrix')\n",
    "ax.xaxis.set_ticklabels(['no', 'yes'])\n",
    "ax.yaxis.set_ticklabels(['no', 'yes'])\n",
    "plt.show()"
   ]
  },
  {
   "cell_type": "markdown",
   "metadata": {
    "_uuid": "558472947f786e28a41ee4d2ebc798cc973c7400"
   },
   "source": [
    "## Fairness"
   ]
  },
  {
   "cell_type": "code",
   "execution_count": 4,
   "metadata": {},
   "outputs": [],
   "source": [
    "# This DataFrame is created to stock differents models and fair metrics that we produce in this notebook\n",
    "algo_metrics = pd.DataFrame(columns=['model', 'fair_metrics', 'prediction', 'probs'])\n",
    "\n",
    "def add_to_df_algo_metrics(algo_metrics, model, fair_metrics, preds, probs, name):\n",
    "    return algo_metrics.append(pd.DataFrame(data=[[model, fair_metrics, preds, probs]], columns=['model', 'fair_metrics', 'prediction', 'probs'], index=[name]))"
   ]
  },
  {
   "cell_type": "code",
   "execution_count": 5,
   "metadata": {},
   "outputs": [],
   "source": [
    "def fair_metrics(dataset, pred, pred_is_dataset=False):\n",
    "    if pred_is_dataset:\n",
    "        dataset_pred = pred\n",
    "    else:\n",
    "        dataset_pred = dataset.copy()\n",
    "        dataset_pred.labels = pred\n",
    "    \n",
    "    cols = ['statistical_parity_difference', 'equal_opportunity_difference', 'average_abs_odds_difference',  'disparate_impact', 'theil_index']\n",
    "    obj_fairness = [[0,0,0,1,0]]\n",
    "    \n",
    "    fair_metrics = pd.DataFrame(data=obj_fairness, index=['objective'], columns=cols)\n",
    "    \n",
    "    for attr in dataset_pred.protected_attribute_names:\n",
    "        idx = dataset_pred.protected_attribute_names.index(attr)\n",
    "        privileged_groups =  [{attr:dataset_pred.privileged_protected_attributes[idx][0]}] \n",
    "        unprivileged_groups = [{attr:dataset_pred.unprivileged_protected_attributes[idx][0]}] \n",
    "        \n",
    "        classified_metric = ClassificationMetric(dataset, \n",
    "                                                     dataset_pred,\n",
    "                                                     unprivileged_groups=unprivileged_groups,\n",
    "                                                     privileged_groups=privileged_groups)\n",
    "\n",
    "        metric_pred = BinaryLabelDatasetMetric(dataset_pred,\n",
    "                                                     unprivileged_groups=unprivileged_groups,\n",
    "                                                     privileged_groups=privileged_groups)\n",
    "\n",
    "        acc = classified_metric.accuracy()\n",
    "\n",
    "        row = pd.DataFrame([[metric_pred.mean_difference(),\n",
    "                                classified_metric.equal_opportunity_difference(),\n",
    "                                classified_metric.average_abs_odds_difference(),\n",
    "                                metric_pred.disparate_impact(),\n",
    "                                classified_metric.theil_index()]],\n",
    "                           columns  = cols,\n",
    "                           index = [attr]\n",
    "                          )\n",
    "        fair_metrics = fair_metrics.append(row)    \n",
    "    \n",
    "    fair_metrics = fair_metrics.replace([-np.inf, np.inf], 2)\n",
    "        \n",
    "    return fair_metrics\n",
    "\n",
    "def plot_fair_metrics(fair_metrics):\n",
    "    fig, ax = plt.subplots(figsize=(20,4), ncols=5, nrows=1)\n",
    "\n",
    "    plt.subplots_adjust(\n",
    "        left    =  0.125, \n",
    "        bottom  =  0.1, \n",
    "        right   =  0.9, \n",
    "        top     =  0.9, \n",
    "        wspace  =  .5, \n",
    "        hspace  =  1.1\n",
    "    )\n",
    "\n",
    "    y_title_margin = 1.2\n",
    "\n",
    "    plt.suptitle(\"Fairness metrics\", y = 1.09, fontsize=20)\n",
    "    sns.set(style=\"dark\")\n",
    "\n",
    "    cols = fair_metrics.columns.values\n",
    "    obj = fair_metrics.loc['objective']\n",
    "    size_rect = [0.2,0.2,0.2,0.4,0.25]\n",
    "    rect = [-0.1,-0.1,-0.1,0.8,0]\n",
    "    bottom = [-1,-1,-1,0,0]\n",
    "    top = [1,1,1,2,1]\n",
    "    bound = [[-0.1,0.1],[-0.1,0.1],[-0.1,0.1],[0.8,1.2],[0,0.25]]\n",
    "\n",
    "    display(Markdown(\"### Check bias metrics :\"))\n",
    "    display(Markdown(\"A model can be considered bias if just one of these five metrics show that this model is biased.\"))\n",
    "    for attr in fair_metrics.index[1:len(fair_metrics)].values:\n",
    "        display(Markdown(\"#### For the %s attribute :\"%attr))\n",
    "        check = [bound[i][0] < fair_metrics.loc[attr][i] < bound[i][1] for i in range(0,5)]\n",
    "        display(Markdown(\"With default thresholds, bias against unprivileged group detected in **%d** out of 5 metrics\"%(5 - sum(check))))\n",
    "\n",
    "    for i in range(0,5):\n",
    "        plt.subplot(1, 5, i+1)\n",
    "        ax = sns.barplot(x=fair_metrics.index[1:len(fair_metrics)], y=fair_metrics.iloc[1:len(fair_metrics)][cols[i]])\n",
    "        \n",
    "        for j in range(0,len(fair_metrics)-1):\n",
    "            a, val = ax.patches[j], fair_metrics.iloc[j+1][cols[i]]\n",
    "            marg = -0.2 if val < 0 else 0.1\n",
    "            ax.text(a.get_x()+a.get_width()/5, a.get_y()+a.get_height()+marg, round(val, 3), fontsize=15,color='black')\n",
    "\n",
    "        plt.ylim(bottom[i], top[i])\n",
    "        plt.setp(ax.patches, linewidth=0)\n",
    "        ax.add_patch(patches.Rectangle((-5,rect[i]), 10, size_rect[i], alpha=0.3, facecolor=\"green\", linewidth=1, linestyle='solid'))\n",
    "        plt.axhline(obj[i], color='black', alpha=0.3)\n",
    "        plt.title(cols[i])\n",
    "        ax.set_ylabel('')    \n",
    "        ax.set_xlabel('')"
   ]
  },
  {
   "cell_type": "code",
   "execution_count": 6,
   "metadata": {},
   "outputs": [],
   "source": [
    "def get_fair_metrics_and_plot(data, model, plot=False, model_aif=False):\n",
    "    pred = model.predict(data).labels if model_aif else model.predict(data.features)\n",
    "    # fair_metrics function available in the metrics.py file\n",
    "    fair = fair_metrics(data, pred)\n",
    "\n",
    "    if plot:\n",
    "        # plot_fair_metrics function available in the visualisations.py file\n",
    "        # The visualisation of this function is inspired by the dashboard on the demo of IBM aif360 \n",
    "        plot_fair_metrics(fair)\n",
    "        display(fair)\n",
    "    \n",
    "    return fair"
   ]
  },
  {
   "cell_type": "code",
   "execution_count": 40,
   "metadata": {},
   "outputs": [
    {
     "data": {
      "text/html": [
       "<div>\n",
       "<style scoped>\n",
       "    .dataframe tbody tr th:only-of-type {\n",
       "        vertical-align: middle;\n",
       "    }\n",
       "\n",
       "    .dataframe tbody tr th {\n",
       "        vertical-align: top;\n",
       "    }\n",
       "\n",
       "    .dataframe thead th {\n",
       "        text-align: right;\n",
       "    }\n",
       "</style>\n",
       "<table border=\"1\" class=\"dataframe\">\n",
       "  <thead>\n",
       "    <tr style=\"text-align: right;\">\n",
       "      <th></th>\n",
       "      <th>age</th>\n",
       "      <th>contact</th>\n",
       "      <th>campaign</th>\n",
       "      <th>pdays</th>\n",
       "      <th>previous</th>\n",
       "      <th>emp.var.rate</th>\n",
       "      <th>cons.price.idx</th>\n",
       "      <th>cons.conf.idx</th>\n",
       "      <th>euribor3m</th>\n",
       "      <th>nr.employed</th>\n",
       "      <th>...</th>\n",
       "      <th>housing_no</th>\n",
       "      <th>housing_unknown</th>\n",
       "      <th>housing_yes</th>\n",
       "      <th>loan_no</th>\n",
       "      <th>loan_unknown</th>\n",
       "      <th>loan_yes</th>\n",
       "      <th>poutcome_failure</th>\n",
       "      <th>poutcome_nonexistent</th>\n",
       "      <th>poutcome_success</th>\n",
       "      <th>y_class</th>\n",
       "    </tr>\n",
       "  </thead>\n",
       "  <tbody>\n",
       "    <tr>\n",
       "      <th>0</th>\n",
       "      <td>1</td>\n",
       "      <td>1</td>\n",
       "      <td>1</td>\n",
       "      <td>999</td>\n",
       "      <td>0</td>\n",
       "      <td>1.1</td>\n",
       "      <td>93.994</td>\n",
       "      <td>-36.4</td>\n",
       "      <td>4.857</td>\n",
       "      <td>5191.0</td>\n",
       "      <td>...</td>\n",
       "      <td>1</td>\n",
       "      <td>0</td>\n",
       "      <td>0</td>\n",
       "      <td>1</td>\n",
       "      <td>0</td>\n",
       "      <td>0</td>\n",
       "      <td>0</td>\n",
       "      <td>1</td>\n",
       "      <td>0</td>\n",
       "      <td>0</td>\n",
       "    </tr>\n",
       "    <tr>\n",
       "      <th>1</th>\n",
       "      <td>1</td>\n",
       "      <td>1</td>\n",
       "      <td>1</td>\n",
       "      <td>999</td>\n",
       "      <td>0</td>\n",
       "      <td>1.1</td>\n",
       "      <td>93.994</td>\n",
       "      <td>-36.4</td>\n",
       "      <td>4.857</td>\n",
       "      <td>5191.0</td>\n",
       "      <td>...</td>\n",
       "      <td>1</td>\n",
       "      <td>0</td>\n",
       "      <td>0</td>\n",
       "      <td>1</td>\n",
       "      <td>0</td>\n",
       "      <td>0</td>\n",
       "      <td>0</td>\n",
       "      <td>1</td>\n",
       "      <td>0</td>\n",
       "      <td>0</td>\n",
       "    </tr>\n",
       "    <tr>\n",
       "      <th>2</th>\n",
       "      <td>1</td>\n",
       "      <td>1</td>\n",
       "      <td>1</td>\n",
       "      <td>999</td>\n",
       "      <td>0</td>\n",
       "      <td>1.1</td>\n",
       "      <td>93.994</td>\n",
       "      <td>-36.4</td>\n",
       "      <td>4.857</td>\n",
       "      <td>5191.0</td>\n",
       "      <td>...</td>\n",
       "      <td>0</td>\n",
       "      <td>0</td>\n",
       "      <td>1</td>\n",
       "      <td>1</td>\n",
       "      <td>0</td>\n",
       "      <td>0</td>\n",
       "      <td>0</td>\n",
       "      <td>1</td>\n",
       "      <td>0</td>\n",
       "      <td>0</td>\n",
       "    </tr>\n",
       "    <tr>\n",
       "      <th>3</th>\n",
       "      <td>1</td>\n",
       "      <td>1</td>\n",
       "      <td>1</td>\n",
       "      <td>999</td>\n",
       "      <td>0</td>\n",
       "      <td>1.1</td>\n",
       "      <td>93.994</td>\n",
       "      <td>-36.4</td>\n",
       "      <td>4.857</td>\n",
       "      <td>5191.0</td>\n",
       "      <td>...</td>\n",
       "      <td>1</td>\n",
       "      <td>0</td>\n",
       "      <td>0</td>\n",
       "      <td>1</td>\n",
       "      <td>0</td>\n",
       "      <td>0</td>\n",
       "      <td>0</td>\n",
       "      <td>1</td>\n",
       "      <td>0</td>\n",
       "      <td>0</td>\n",
       "    </tr>\n",
       "    <tr>\n",
       "      <th>4</th>\n",
       "      <td>1</td>\n",
       "      <td>1</td>\n",
       "      <td>1</td>\n",
       "      <td>999</td>\n",
       "      <td>0</td>\n",
       "      <td>1.1</td>\n",
       "      <td>93.994</td>\n",
       "      <td>-36.4</td>\n",
       "      <td>4.857</td>\n",
       "      <td>5191.0</td>\n",
       "      <td>...</td>\n",
       "      <td>1</td>\n",
       "      <td>0</td>\n",
       "      <td>0</td>\n",
       "      <td>0</td>\n",
       "      <td>0</td>\n",
       "      <td>1</td>\n",
       "      <td>0</td>\n",
       "      <td>1</td>\n",
       "      <td>0</td>\n",
       "      <td>0</td>\n",
       "    </tr>\n",
       "    <tr>\n",
       "      <th>...</th>\n",
       "      <td>...</td>\n",
       "      <td>...</td>\n",
       "      <td>...</td>\n",
       "      <td>...</td>\n",
       "      <td>...</td>\n",
       "      <td>...</td>\n",
       "      <td>...</td>\n",
       "      <td>...</td>\n",
       "      <td>...</td>\n",
       "      <td>...</td>\n",
       "      <td>...</td>\n",
       "      <td>...</td>\n",
       "      <td>...</td>\n",
       "      <td>...</td>\n",
       "      <td>...</td>\n",
       "      <td>...</td>\n",
       "      <td>...</td>\n",
       "      <td>...</td>\n",
       "      <td>...</td>\n",
       "      <td>...</td>\n",
       "      <td>...</td>\n",
       "    </tr>\n",
       "    <tr>\n",
       "      <th>41183</th>\n",
       "      <td>1</td>\n",
       "      <td>0</td>\n",
       "      <td>1</td>\n",
       "      <td>999</td>\n",
       "      <td>0</td>\n",
       "      <td>-1.1</td>\n",
       "      <td>94.767</td>\n",
       "      <td>-50.8</td>\n",
       "      <td>1.028</td>\n",
       "      <td>4963.6</td>\n",
       "      <td>...</td>\n",
       "      <td>0</td>\n",
       "      <td>0</td>\n",
       "      <td>1</td>\n",
       "      <td>1</td>\n",
       "      <td>0</td>\n",
       "      <td>0</td>\n",
       "      <td>0</td>\n",
       "      <td>1</td>\n",
       "      <td>0</td>\n",
       "      <td>1</td>\n",
       "    </tr>\n",
       "    <tr>\n",
       "      <th>41184</th>\n",
       "      <td>1</td>\n",
       "      <td>0</td>\n",
       "      <td>1</td>\n",
       "      <td>999</td>\n",
       "      <td>0</td>\n",
       "      <td>-1.1</td>\n",
       "      <td>94.767</td>\n",
       "      <td>-50.8</td>\n",
       "      <td>1.028</td>\n",
       "      <td>4963.6</td>\n",
       "      <td>...</td>\n",
       "      <td>1</td>\n",
       "      <td>0</td>\n",
       "      <td>0</td>\n",
       "      <td>1</td>\n",
       "      <td>0</td>\n",
       "      <td>0</td>\n",
       "      <td>0</td>\n",
       "      <td>1</td>\n",
       "      <td>0</td>\n",
       "      <td>0</td>\n",
       "    </tr>\n",
       "    <tr>\n",
       "      <th>41185</th>\n",
       "      <td>1</td>\n",
       "      <td>0</td>\n",
       "      <td>2</td>\n",
       "      <td>999</td>\n",
       "      <td>0</td>\n",
       "      <td>-1.1</td>\n",
       "      <td>94.767</td>\n",
       "      <td>-50.8</td>\n",
       "      <td>1.028</td>\n",
       "      <td>4963.6</td>\n",
       "      <td>...</td>\n",
       "      <td>0</td>\n",
       "      <td>0</td>\n",
       "      <td>1</td>\n",
       "      <td>1</td>\n",
       "      <td>0</td>\n",
       "      <td>0</td>\n",
       "      <td>0</td>\n",
       "      <td>1</td>\n",
       "      <td>0</td>\n",
       "      <td>0</td>\n",
       "    </tr>\n",
       "    <tr>\n",
       "      <th>41186</th>\n",
       "      <td>1</td>\n",
       "      <td>0</td>\n",
       "      <td>1</td>\n",
       "      <td>999</td>\n",
       "      <td>0</td>\n",
       "      <td>-1.1</td>\n",
       "      <td>94.767</td>\n",
       "      <td>-50.8</td>\n",
       "      <td>1.028</td>\n",
       "      <td>4963.6</td>\n",
       "      <td>...</td>\n",
       "      <td>1</td>\n",
       "      <td>0</td>\n",
       "      <td>0</td>\n",
       "      <td>1</td>\n",
       "      <td>0</td>\n",
       "      <td>0</td>\n",
       "      <td>0</td>\n",
       "      <td>1</td>\n",
       "      <td>0</td>\n",
       "      <td>1</td>\n",
       "    </tr>\n",
       "    <tr>\n",
       "      <th>41187</th>\n",
       "      <td>1</td>\n",
       "      <td>0</td>\n",
       "      <td>3</td>\n",
       "      <td>999</td>\n",
       "      <td>1</td>\n",
       "      <td>-1.1</td>\n",
       "      <td>94.767</td>\n",
       "      <td>-50.8</td>\n",
       "      <td>1.028</td>\n",
       "      <td>4963.6</td>\n",
       "      <td>...</td>\n",
       "      <td>0</td>\n",
       "      <td>0</td>\n",
       "      <td>1</td>\n",
       "      <td>1</td>\n",
       "      <td>0</td>\n",
       "      <td>0</td>\n",
       "      <td>1</td>\n",
       "      <td>0</td>\n",
       "      <td>0</td>\n",
       "      <td>0</td>\n",
       "    </tr>\n",
       "  </tbody>\n",
       "</table>\n",
       "<p>41188 rows × 47 columns</p>\n",
       "</div>"
      ],
      "text/plain": [
       "       age  contact  campaign  pdays  previous  emp.var.rate  cons.price.idx  \\\n",
       "0        1        1         1    999         0           1.1          93.994   \n",
       "1        1        1         1    999         0           1.1          93.994   \n",
       "2        1        1         1    999         0           1.1          93.994   \n",
       "3        1        1         1    999         0           1.1          93.994   \n",
       "4        1        1         1    999         0           1.1          93.994   \n",
       "...    ...      ...       ...    ...       ...           ...             ...   \n",
       "41183    1        0         1    999         0          -1.1          94.767   \n",
       "41184    1        0         1    999         0          -1.1          94.767   \n",
       "41185    1        0         2    999         0          -1.1          94.767   \n",
       "41186    1        0         1    999         0          -1.1          94.767   \n",
       "41187    1        0         3    999         1          -1.1          94.767   \n",
       "\n",
       "       cons.conf.idx  euribor3m  nr.employed  ...  housing_no  \\\n",
       "0              -36.4      4.857       5191.0  ...           1   \n",
       "1              -36.4      4.857       5191.0  ...           1   \n",
       "2              -36.4      4.857       5191.0  ...           0   \n",
       "3              -36.4      4.857       5191.0  ...           1   \n",
       "4              -36.4      4.857       5191.0  ...           1   \n",
       "...              ...        ...          ...  ...         ...   \n",
       "41183          -50.8      1.028       4963.6  ...           0   \n",
       "41184          -50.8      1.028       4963.6  ...           1   \n",
       "41185          -50.8      1.028       4963.6  ...           0   \n",
       "41186          -50.8      1.028       4963.6  ...           1   \n",
       "41187          -50.8      1.028       4963.6  ...           0   \n",
       "\n",
       "       housing_unknown  housing_yes  loan_no  loan_unknown  loan_yes  \\\n",
       "0                    0            0        1             0         0   \n",
       "1                    0            0        1             0         0   \n",
       "2                    0            1        1             0         0   \n",
       "3                    0            0        1             0         0   \n",
       "4                    0            0        0             0         1   \n",
       "...                ...          ...      ...           ...       ...   \n",
       "41183                0            1        1             0         0   \n",
       "41184                0            0        1             0         0   \n",
       "41185                0            1        1             0         0   \n",
       "41186                0            0        1             0         0   \n",
       "41187                0            1        1             0         0   \n",
       "\n",
       "       poutcome_failure  poutcome_nonexistent  poutcome_success  y_class  \n",
       "0                     0                     1                 0        0  \n",
       "1                     0                     1                 0        0  \n",
       "2                     0                     1                 0        0  \n",
       "3                     0                     1                 0        0  \n",
       "4                     0                     1                 0        0  \n",
       "...                 ...                   ...               ...      ...  \n",
       "41183                 0                     1                 0        1  \n",
       "41184                 0                     1                 0        0  \n",
       "41185                 0                     1                 0        0  \n",
       "41186                 0                     1                 0        1  \n",
       "41187                 1                     0                 0        0  \n",
       "\n",
       "[41188 rows x 47 columns]"
      ]
     },
     "execution_count": 40,
     "metadata": {},
     "output_type": "execute_result"
    }
   ],
   "source": [
    "#function to creat group of ages, this helps because we have 78 differente values here\n",
    "def age(dataframe):\n",
    "    dataframe.loc[dataframe['age'] < 25, 'age'] = 0\n",
    "    dataframe.loc[dataframe['age'] >= 25, 'age'] = 1\n",
    "    dataframe.loc[dataframe['y_class'] == 'no', 'y_class'] = 0\n",
    "    dataframe.loc[dataframe['y_class'] == 'yes', 'y_class'] = 1\n",
    "           \n",
    "    return dataframe\n",
    "\n",
    "age(dataset_enc);\n",
    "\n",
    "\n",
    "dataset_enc"
   ]
  },
  {
   "cell_type": "code",
   "execution_count": 41,
   "metadata": {},
   "outputs": [],
   "source": [
    "#print(X)\n",
    "\n",
    "\n",
    "#combine_final = [train_df, test_df]\n",
    "#result = pd.concat(combine_final)\n",
    "#print(result.ifany())\n",
    "#print(result)\n",
    "privileged_groups = [{'age': 1}]\n",
    "unprivileged_groups = [{'age': 0}]\n",
    "dataset_orig = StandardDataset(dataset_enc,\n",
    "                                  label_name='y_class',\n",
    "                                  protected_attribute_names=['age'],\n",
    "                                  favorable_classes=[1],\n",
    "                                  privileged_classes=[[1]])\n",
    "\n",
    "#metric_orig_train = BinaryLabelDatasetMetric(dataset_orig, \n",
    "#                                             unprivileged_groups=unprivileged_groups,\n",
    "#                                             privileged_groups=privileged_groups)\n",
    "#display(Markdown(\"#### Original training dataset\"))\n",
    "#print(\"Difference in mean outcomes between unprivileged and privileged groups = %f\" % metric_orig_train.mean_difference())\n"
   ]
  },
  {
   "cell_type": "code",
   "execution_count": 42,
   "metadata": {},
   "outputs": [
    {
     "data": {
      "text/markdown": [
       "#### Original training dataset"
      ],
      "text/plain": [
       "<IPython.core.display.Markdown object>"
      ]
     },
     "metadata": {},
     "output_type": "display_data"
    },
    {
     "name": "stdout",
     "output_type": "stream",
     "text": [
      "Difference in mean outcomes between unprivileged and privileged groups = 0.130428\n"
     ]
    }
   ],
   "source": [
    "metric_orig_train = BinaryLabelDatasetMetric(dataset_orig, \n",
    "                                             unprivileged_groups=unprivileged_groups,\n",
    "                                             privileged_groups=privileged_groups)\n",
    "display(Markdown(\"#### Original training dataset\"))\n",
    "print(\"Difference in mean outcomes between unprivileged and privileged groups = %f\" % metric_orig_train.mean_difference())"
   ]
  },
  {
   "cell_type": "code",
   "execution_count": 7,
   "metadata": {},
   "outputs": [],
   "source": [
    "data_orig_train = pd.read_pickle('../../Results/ExtraTrees/1-subscription-predictor_Train.pkl')\n",
    "data_orig_test = pd.read_pickle('../../Results/ExtraTrees/1-subscription-predictor_Test.pkl')\n",
    "\n",
    "X_train = data_orig_train.features\n",
    "y_train = data_orig_train.labels.ravel()\n",
    "\n",
    "X_test = data_orig_test.features\n",
    "y_test = data_orig_test.labels.ravel()\n",
    "num_estimators = 100\n"
   ]
  },
  {
   "cell_type": "code",
   "execution_count": 43,
   "metadata": {},
   "outputs": [],
   "source": [
    "import ipynbname\n",
    "nb_fname = ipynbname.name()\n",
    "nb_path = ipynbname.path()\n",
    "\n",
    "from sklearn.linear_model import LogisticRegression\n",
    "from sklearn.neighbors import KNeighborsClassifier\n",
    "import pickle\n",
    "from sklearn.svm import SVC\n",
    "from sklearn.ensemble import RandomForestClassifier\n",
    "from xgboost import XGBClassifier\n",
    "from sklearn.ensemble import GradientBoostingClassifier\n",
    "from sklearn.ensemble import StackingClassifier\n",
    "\n",
    "data_orig_train, data_orig_test = dataset_orig.split([0.7], shuffle=True)\n",
    "X_train = data_orig_train.features\n",
    "y_train = data_orig_train.labels.ravel()\n",
    "\n",
    "X_test = data_orig_test.features\n",
    "y_test = data_orig_test.labels.ravel()\n",
    "\n",
    "num_estimators = 100\n",
    "\n",
    "model = ExtraTreesClassifier(n_estimators = 100)\n",
    "\n",
    "mdl = model.fit(X_train, y_train)\n",
    "with open('../../Results/ExtraTrees/' + nb_fname + '.pkl', 'wb') as f:\n",
    "        pickle.dump(mdl, f)\n",
    "\n",
    "with open('../../Results/ExtraTrees/' + nb_fname + '_Train' + '.pkl', 'wb') as f:\n",
    "    pickle.dump(data_orig_train, f) \n",
    "    \n",
    "with open('../../Results/ExtraTrees/' + nb_fname + '_Test' + '.pkl', 'wb') as f:\n",
    "    pickle.dump(data_orig_test, f) "
   ]
  },
  {
   "cell_type": "code",
   "execution_count": 45,
   "metadata": {},
   "outputs": [],
   "source": [
    "from csv import writer\n",
    "import numpy as np\n",
    "from sklearn.metrics import accuracy_score, f1_score\n",
    "\n",
    "final_metrics = []\n",
    "accuracy = []\n",
    "f1= []\n",
    "\n",
    "for i in range(1,num_estimators+1):\n",
    "\n",
    "    model = ExtraTreesClassifier(n_estimators = i)\n",
    "    \n",
    "    mdl = model.fit(X_train, y_train)\n",
    "    yy = mdl.predict(X_test)\n",
    "    accuracy.append(accuracy_score(y_test, yy))\n",
    "    f1.append(f1_score(y_test, yy))\n",
    "    fair = get_fair_metrics_and_plot(data_orig_test, mdl)                           \n",
    "    fair_list = fair.iloc[1].tolist()\n",
    "    fair_list.insert(0, i)\n",
    "    final_metrics.append(fair_list)\n"
   ]
  },
  {
   "cell_type": "code",
   "execution_count": 46,
   "metadata": {},
   "outputs": [
    {
     "name": "stdout",
     "output_type": "stream",
     "text": [
      "      0         1         2         3         4         5\n",
      "0     1  0.087625  0.086041  0.068823  1.900510  0.102486\n",
      "1     2  0.044555 -0.014821  0.025099  1.765748  0.104897\n",
      "2     3  0.090861  0.114942  0.081111  2.084316  0.100298\n",
      "3     4  0.064741  0.004508  0.027208  1.989991  0.100977\n",
      "4     5  0.096302  0.073619  0.067905  2.130234  0.096998\n",
      "..  ...       ...       ...       ...       ...       ...\n",
      "95   96  0.097409  0.087594  0.074067  2.260991  0.096498\n",
      "96   97  0.090752  0.046097  0.054428  2.127626  0.096007\n",
      "97   98  0.092244  0.064128  0.061870  2.167812  0.095876\n",
      "98   99  0.088488  0.067234  0.060830  2.115576  0.096417\n",
      "99  100  0.089068  0.068787  0.061838  2.131164  0.096462\n",
      "\n",
      "[100 rows x 6 columns]\n"
     ]
    },
    {
     "data": {
      "text/html": [
       "<div>\n",
       "<style scoped>\n",
       "    .dataframe tbody tr th:only-of-type {\n",
       "        vertical-align: middle;\n",
       "    }\n",
       "\n",
       "    .dataframe tbody tr th {\n",
       "        vertical-align: top;\n",
       "    }\n",
       "\n",
       "    .dataframe thead th {\n",
       "        text-align: right;\n",
       "    }\n",
       "</style>\n",
       "<table border=\"1\" class=\"dataframe\">\n",
       "  <thead>\n",
       "    <tr style=\"text-align: right;\">\n",
       "      <th></th>\n",
       "      <th>classifier</th>\n",
       "      <th>T0</th>\n",
       "      <th>T1</th>\n",
       "      <th>T2</th>\n",
       "      <th>T3</th>\n",
       "      <th>T4</th>\n",
       "      <th>T5</th>\n",
       "      <th>T6</th>\n",
       "      <th>T7</th>\n",
       "      <th>T8</th>\n",
       "      <th>...</th>\n",
       "      <th>T90</th>\n",
       "      <th>T91</th>\n",
       "      <th>T92</th>\n",
       "      <th>T93</th>\n",
       "      <th>T94</th>\n",
       "      <th>T95</th>\n",
       "      <th>T96</th>\n",
       "      <th>T97</th>\n",
       "      <th>T98</th>\n",
       "      <th>T99</th>\n",
       "    </tr>\n",
       "  </thead>\n",
       "  <tbody>\n",
       "    <tr>\n",
       "      <th>accuracy</th>\n",
       "      <td>0.876993</td>\n",
       "      <td>0.858137</td>\n",
       "      <td>0.876750</td>\n",
       "      <td>0.868819</td>\n",
       "      <td>0.878126</td>\n",
       "      <td>0.872623</td>\n",
       "      <td>0.878045</td>\n",
       "      <td>0.871247</td>\n",
       "      <td>0.877559</td>\n",
       "      <td>0.873918</td>\n",
       "      <td>...</td>\n",
       "      <td>0.876831</td>\n",
       "      <td>0.876184</td>\n",
       "      <td>0.877721</td>\n",
       "      <td>0.876750</td>\n",
       "      <td>0.878773</td>\n",
       "      <td>0.877640</td>\n",
       "      <td>0.876669</td>\n",
       "      <td>0.877640</td>\n",
       "      <td>0.876750</td>\n",
       "      <td>0.876993</td>\n",
       "    </tr>\n",
       "    <tr>\n",
       "      <th>f1</th>\n",
       "      <td>0.354291</td>\n",
       "      <td>0.321332</td>\n",
       "      <td>0.270244</td>\n",
       "      <td>0.329334</td>\n",
       "      <td>0.309808</td>\n",
       "      <td>0.353859</td>\n",
       "      <td>0.334658</td>\n",
       "      <td>0.340108</td>\n",
       "      <td>0.336694</td>\n",
       "      <td>0.354063</td>\n",
       "      <td>...</td>\n",
       "      <td>0.355631</td>\n",
       "      <td>0.353885</td>\n",
       "      <td>0.361099</td>\n",
       "      <td>0.353291</td>\n",
       "      <td>0.366328</td>\n",
       "      <td>0.353293</td>\n",
       "      <td>0.358586</td>\n",
       "      <td>0.358779</td>\n",
       "      <td>0.354934</td>\n",
       "      <td>0.354291</td>\n",
       "    </tr>\n",
       "    <tr>\n",
       "      <th>statistical_parity_difference</th>\n",
       "      <td>0.089068</td>\n",
       "      <td>0.087625</td>\n",
       "      <td>0.044555</td>\n",
       "      <td>0.090861</td>\n",
       "      <td>0.064741</td>\n",
       "      <td>0.096302</td>\n",
       "      <td>0.082415</td>\n",
       "      <td>0.080836</td>\n",
       "      <td>0.098626</td>\n",
       "      <td>0.080753</td>\n",
       "      <td>...</td>\n",
       "      <td>0.074375</td>\n",
       "      <td>0.084400</td>\n",
       "      <td>0.081141</td>\n",
       "      <td>0.074955</td>\n",
       "      <td>0.088239</td>\n",
       "      <td>0.097409</td>\n",
       "      <td>0.090752</td>\n",
       "      <td>0.092244</td>\n",
       "      <td>0.088488</td>\n",
       "      <td>0.089068</td>\n",
       "    </tr>\n",
       "    <tr>\n",
       "      <th>equal_opportunity_difference</th>\n",
       "      <td>0.068787</td>\n",
       "      <td>0.086041</td>\n",
       "      <td>-0.014821</td>\n",
       "      <td>0.114942</td>\n",
       "      <td>0.004508</td>\n",
       "      <td>0.073619</td>\n",
       "      <td>0.051184</td>\n",
       "      <td>0.042818</td>\n",
       "      <td>0.078706</td>\n",
       "      <td>0.061023</td>\n",
       "      <td>...</td>\n",
       "      <td>0.050756</td>\n",
       "      <td>0.051532</td>\n",
       "      <td>0.029619</td>\n",
       "      <td>0.053861</td>\n",
       "      <td>0.056364</td>\n",
       "      <td>0.087594</td>\n",
       "      <td>0.046097</td>\n",
       "      <td>0.064128</td>\n",
       "      <td>0.067234</td>\n",
       "      <td>0.068787</td>\n",
       "    </tr>\n",
       "    <tr>\n",
       "      <th>average_abs_odds_difference</th>\n",
       "      <td>0.061838</td>\n",
       "      <td>0.068823</td>\n",
       "      <td>0.025099</td>\n",
       "      <td>0.081111</td>\n",
       "      <td>0.027208</td>\n",
       "      <td>0.067905</td>\n",
       "      <td>0.053135</td>\n",
       "      <td>0.048153</td>\n",
       "      <td>0.073191</td>\n",
       "      <td>0.053461</td>\n",
       "      <td>...</td>\n",
       "      <td>0.045785</td>\n",
       "      <td>0.052654</td>\n",
       "      <td>0.042208</td>\n",
       "      <td>0.047477</td>\n",
       "      <td>0.055905</td>\n",
       "      <td>0.074067</td>\n",
       "      <td>0.054428</td>\n",
       "      <td>0.061870</td>\n",
       "      <td>0.060830</td>\n",
       "      <td>0.061838</td>\n",
       "    </tr>\n",
       "    <tr>\n",
       "      <th>disparate_impact</th>\n",
       "      <td>0.756668</td>\n",
       "      <td>0.642122</td>\n",
       "      <td>0.568574</td>\n",
       "      <td>0.734441</td>\n",
       "      <td>0.688130</td>\n",
       "      <td>0.756232</td>\n",
       "      <td>0.765243</td>\n",
       "      <td>0.676788</td>\n",
       "      <td>0.857967</td>\n",
       "      <td>0.675796</td>\n",
       "      <td>...</td>\n",
       "      <td>0.658958</td>\n",
       "      <td>0.720383</td>\n",
       "      <td>0.701404</td>\n",
       "      <td>0.666261</td>\n",
       "      <td>0.746197</td>\n",
       "      <td>0.815803</td>\n",
       "      <td>0.755007</td>\n",
       "      <td>0.773718</td>\n",
       "      <td>0.749327</td>\n",
       "      <td>0.756668</td>\n",
       "    </tr>\n",
       "    <tr>\n",
       "      <th>theil_index</th>\n",
       "      <td>0.096462</td>\n",
       "      <td>0.102486</td>\n",
       "      <td>0.104897</td>\n",
       "      <td>0.100298</td>\n",
       "      <td>0.100977</td>\n",
       "      <td>0.096998</td>\n",
       "      <td>0.098473</td>\n",
       "      <td>0.098764</td>\n",
       "      <td>0.098326</td>\n",
       "      <td>0.096836</td>\n",
       "      <td>...</td>\n",
       "      <td>0.096328</td>\n",
       "      <td>0.096603</td>\n",
       "      <td>0.095600</td>\n",
       "      <td>0.096604</td>\n",
       "      <td>0.094881</td>\n",
       "      <td>0.096498</td>\n",
       "      <td>0.096007</td>\n",
       "      <td>0.095876</td>\n",
       "      <td>0.096417</td>\n",
       "      <td>0.096462</td>\n",
       "    </tr>\n",
       "  </tbody>\n",
       "</table>\n",
       "<p>7 rows × 101 columns</p>\n",
       "</div>"
      ],
      "text/plain": [
       "                               classifier        T0        T1        T2  \\\n",
       "accuracy                         0.876993  0.858137  0.876750  0.868819   \n",
       "f1                               0.354291  0.321332  0.270244  0.329334   \n",
       "statistical_parity_difference    0.089068  0.087625  0.044555  0.090861   \n",
       "equal_opportunity_difference     0.068787  0.086041 -0.014821  0.114942   \n",
       "average_abs_odds_difference      0.061838  0.068823  0.025099  0.081111   \n",
       "disparate_impact                 0.756668  0.642122  0.568574  0.734441   \n",
       "theil_index                      0.096462  0.102486  0.104897  0.100298   \n",
       "\n",
       "                                     T3        T4        T5        T6  \\\n",
       "accuracy                       0.878126  0.872623  0.878045  0.871247   \n",
       "f1                             0.309808  0.353859  0.334658  0.340108   \n",
       "statistical_parity_difference  0.064741  0.096302  0.082415  0.080836   \n",
       "equal_opportunity_difference   0.004508  0.073619  0.051184  0.042818   \n",
       "average_abs_odds_difference    0.027208  0.067905  0.053135  0.048153   \n",
       "disparate_impact               0.688130  0.756232  0.765243  0.676788   \n",
       "theil_index                    0.100977  0.096998  0.098473  0.098764   \n",
       "\n",
       "                                     T7        T8  ...       T90       T91  \\\n",
       "accuracy                       0.877559  0.873918  ...  0.876831  0.876184   \n",
       "f1                             0.336694  0.354063  ...  0.355631  0.353885   \n",
       "statistical_parity_difference  0.098626  0.080753  ...  0.074375  0.084400   \n",
       "equal_opportunity_difference   0.078706  0.061023  ...  0.050756  0.051532   \n",
       "average_abs_odds_difference    0.073191  0.053461  ...  0.045785  0.052654   \n",
       "disparate_impact               0.857967  0.675796  ...  0.658958  0.720383   \n",
       "theil_index                    0.098326  0.096836  ...  0.096328  0.096603   \n",
       "\n",
       "                                    T92       T93       T94       T95  \\\n",
       "accuracy                       0.877721  0.876750  0.878773  0.877640   \n",
       "f1                             0.361099  0.353291  0.366328  0.353293   \n",
       "statistical_parity_difference  0.081141  0.074955  0.088239  0.097409   \n",
       "equal_opportunity_difference   0.029619  0.053861  0.056364  0.087594   \n",
       "average_abs_odds_difference    0.042208  0.047477  0.055905  0.074067   \n",
       "disparate_impact               0.701404  0.666261  0.746197  0.815803   \n",
       "theil_index                    0.095600  0.096604  0.094881  0.096498   \n",
       "\n",
       "                                    T96       T97       T98       T99  \n",
       "accuracy                       0.876669  0.877640  0.876750  0.876993  \n",
       "f1                             0.358586  0.358779  0.354934  0.354291  \n",
       "statistical_parity_difference  0.090752  0.092244  0.088488  0.089068  \n",
       "equal_opportunity_difference   0.046097  0.064128  0.067234  0.068787  \n",
       "average_abs_odds_difference    0.054428  0.061870  0.060830  0.061838  \n",
       "disparate_impact               0.755007  0.773718  0.749327  0.756668  \n",
       "theil_index                    0.096007  0.095876  0.096417  0.096462  \n",
       "\n",
       "[7 rows x 101 columns]"
      ]
     },
     "execution_count": 46,
     "metadata": {},
     "output_type": "execute_result"
    }
   ],
   "source": [
    "import numpy as np\n",
    "final_result = pd.DataFrame(final_metrics)\n",
    "print(final_result)\n",
    "final_result[4] = np.log(final_result[4])\n",
    "final_result = final_result.transpose()\n",
    "final_result.loc[0] = f1  # add f1 and acc to df\n",
    "acc = pd.DataFrame(accuracy).transpose()\n",
    "acc = acc.rename(index={0: 'accuracy'})\n",
    "final_result = pd.concat([acc,final_result])\n",
    "final_result = final_result.rename(index={0: 'f1', 1: 'statistical_parity_difference', 2: 'equal_opportunity_difference', 3: 'average_abs_odds_difference', 4: 'disparate_impact', 5: 'theil_index'})\n",
    "final_result.columns = ['T' + str(col) for col in final_result.columns]\n",
    "final_result.insert(0, \"classifier\", final_result['T' + str(num_estimators - 1)])   ##Add final metrics add the beginning of the df\n",
    "final_result.to_csv('../../Results/ExtraTrees/' + nb_fname + '.csv')\n",
    "final_result"
   ]
  },
  {
   "cell_type": "code",
   "execution_count": 20,
   "metadata": {},
   "outputs": [
    {
     "name": "stdout",
     "output_type": "stream",
     "text": [
      "[0.06660162795438135, -0.013693259779899769, 0.017705818827188215, 1.7508520292903327, 0.08528560506085521]\n",
      "[0.07417738553013892, 0.013343227576937067, 0.017725481505719842, 1.8362594453532757, 0.08456808361412213]\n",
      "[0.08542700980849426, 0.012405141272997133, 0.02487065155171942, 1.9618489127475007, 0.08456353045814147]\n",
      "[0.07978945768251433, 0.004046372266248488, 0.018802125249065178, 1.9184164479440067, 0.08510071124370147]\n",
      "[0.07235319216564227, -0.006272577077091057, 0.016014405128405764, 1.799256736127013, 0.08454863761868665]\n",
      "[0.07773724014745562, -0.03237097812998796, 0.03732674811953368, 1.874145299145299, 0.08500157889971698]\n",
      "[0.07337930093317163, -0.019321777603539536, 0.025531326944316802, 1.8198851573055392, 0.08467907795843196]\n",
      "[0.07312579678900509, -0.015485424659068658, 0.024326972665462285, 1.850645044610562, 0.08678334039331252]\n",
      "[0.08807476774356264, 0.0188877376718658, 0.02804705682448276, 1.9790922533317972, 0.08339972784234143]\n",
      "[0.0773952038916125, -0.004396404469211135, 0.018198426230494585, 1.8669646658152403, 0.08448176927766313]\n"
     ]
    }
   ],
   "source": [
    "from csv import writer\n",
    "import numpy as np\n",
    "from sklearn.metrics import accuracy_score, f1_score\n",
    "\n",
    "final_metrics = []\n",
    "accuracy = []\n",
    "f1= []\n",
    "\n",
    "for i in range(0,10):\n",
    "\n",
    "    #model = RandomForestClassifier(n_estimators=100, bootstrap = True)\n",
    "    model = ExtraTreesClassifier(n_estimators=100, bootstrap = False)\n",
    "\n",
    "    \n",
    "    mdl = model.fit(X_train, y_train)\n",
    "    yy = mdl.predict(X_test)\n",
    "    accuracy.append(accuracy_score(y_test, yy))\n",
    "    f1.append(f1_score(y_test, yy))\n",
    "    fair = get_fair_metrics_and_plot(data_orig_test, mdl)                           \n",
    "    fair_list = fair.iloc[1].tolist()\n",
    "    print(fair_list)\n",
    "    #fair_list.insert(0, i)\n",
    "    final_metrics.append(fair_list)\n"
   ]
  },
  {
   "cell_type": "code",
   "execution_count": 21,
   "metadata": {},
   "outputs": [
    {
     "name": "stdout",
     "output_type": "stream",
     "text": [
      "[0.07680609826459786, -0.004285794293074963, 0.022854901304638856, 1.8657365991670563, 0.0848412062366973]\n",
      "0.8961925843940233\n",
      "0.5202048432922777\n"
     ]
    }
   ],
   "source": [
    "from __future__ import division\n",
    "def mean(a):\n",
    "    return sum(a) / len(a)\n",
    "\n",
    "print(list(map(mean, zip(*final_metrics))))\n",
    "final_metrics = list(map(mean, zip(*final_metrics)))\n",
    "print(mean(accuracy))\n",
    "print(mean(f1))"
   ]
  },
  {
   "cell_type": "code",
   "execution_count": 22,
   "metadata": {},
   "outputs": [
    {
     "name": "stdout",
     "output_type": "stream",
     "text": [
      "          0\n",
      "0  0.076806\n",
      "1 -0.004286\n",
      "2  0.022855\n",
      "3  0.623656\n",
      "4  0.084841\n"
     ]
    }
   ],
   "source": [
    "import numpy as np\n",
    "final_result = pd.DataFrame(final_metrics)\n",
    "final_result[0][3] = np.log(final_result[0][3])\n",
    "print(final_result)"
   ]
  },
  {
   "cell_type": "code",
   "execution_count": null,
   "metadata": {},
   "outputs": [],
   "source": []
  }
 ],
 "metadata": {
  "kernelspec": {
   "display_name": "Python 3",
   "language": "python",
   "name": "python3"
  },
  "language_info": {
   "codemirror_mode": {
    "name": "ipython",
    "version": 3
   },
   "file_extension": ".py",
   "mimetype": "text/x-python",
   "name": "python",
   "nbconvert_exporter": "python",
   "pygments_lexer": "ipython3",
   "version": "3.8.5"
  }
 },
 "nbformat": 4,
 "nbformat_minor": 1
}
