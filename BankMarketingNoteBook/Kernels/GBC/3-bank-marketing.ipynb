{
 "cells": [
  {
   "cell_type": "markdown",
   "metadata": {},
   "source": [
    "<h3>Given:</h3>\n",
    "The data is related with direct marketing campaigns of a Portuguese banking institution.\n",
    "The marketing campaigns were based on phone calls. Often, more than one contact to\n",
    "the same client was required, in order to access if the product (bank term deposit) would\n",
    "be ('yes') or not ('no') subscribed.\n",
    "<h3>Objective:</h3>\n",
    "The classification goal is to predict the likelihood of a customer subscribing term deposit\n",
    "loans."
   ]
  },
  {
   "cell_type": "markdown",
   "metadata": {},
   "source": [
    "<h2>1. Reading the data</h2>"
   ]
  },
  {
   "cell_type": "code",
   "execution_count": 1,
   "metadata": {},
   "outputs": [],
   "source": [
    "# Importing the libraries\n",
    "import pandas as pd        # for data manipulation\n",
    "import seaborn as sns      # for statistical data visualisation\n",
    "import numpy as np         # for linear algebra\n",
    "import matplotlib.pyplot as plt      # for data visualization\n",
    "from scipy import stats        # for calculating statistics\n",
    "\n",
    "# Importing various machine learning algorithm from sklearn\n",
    "from sklearn.linear_model import LogisticRegression\n",
    "from sklearn.metrics import confusion_matrix,classification_report\n",
    "from sklearn.model_selection import train_test_split\n",
    "from sklearn.metrics import mean_absolute_error,roc_curve,auc,accuracy_score\n",
    "from  sklearn.neighbors import KNeighborsClassifier\n",
    "from scipy.stats import zscore\n",
    "from sklearn.svm import SVC\n",
    "from sklearn.naive_bayes import GaussianNB\n",
    "from sklearn.preprocessing import LabelEncoder\n",
    "from sklearn.preprocessing import StandardScaler\n",
    "from sklearn.tree import DecisionTreeClassifier\n",
    "from sklearn.ensemble import BaggingClassifier,AdaBoostClassifier,GradientBoostingClassifier,RandomForestClassifier"
   ]
  },
  {
   "cell_type": "code",
   "execution_count": 2,
   "metadata": {},
   "outputs": [],
   "source": [
    "from aif360.datasets import StandardDataset\n",
    "from aif360.metrics import BinaryLabelDatasetMetric, ClassificationMetric\n",
    "import matplotlib.patches as patches\n",
    "from aif360.algorithms.preprocessing import Reweighing\n",
    "#from packages import *\n",
    "#from ml_fairness import *\n",
    "import matplotlib.pyplot as plt\n",
    "import seaborn as sns\n",
    "\n",
    "\n",
    "\n",
    "from IPython.display import Markdown, display"
   ]
  },
  {
   "cell_type": "code",
   "execution_count": 3,
   "metadata": {},
   "outputs": [
    {
     "data": {
      "text/html": [
       "<div>\n",
       "<style scoped>\n",
       "    .dataframe tbody tr th:only-of-type {\n",
       "        vertical-align: middle;\n",
       "    }\n",
       "\n",
       "    .dataframe tbody tr th {\n",
       "        vertical-align: top;\n",
       "    }\n",
       "\n",
       "    .dataframe thead th {\n",
       "        text-align: right;\n",
       "    }\n",
       "</style>\n",
       "<table border=\"1\" class=\"dataframe\">\n",
       "  <thead>\n",
       "    <tr style=\"text-align: right;\">\n",
       "      <th></th>\n",
       "      <th>age;\"job\";\"marital\";\"education\";\"default\";\"housing\";\"loan\";\"contact\";\"month\";\"day_of_week\";\"duration\";\"campaign\";\"pdays\";\"previous\";\"poutcome\";\"emp.var.rate\";\"cons.price.idx\";\"cons.conf.idx\";\"euribor3m\";\"nr.employed\";\"y\"</th>\n",
       "    </tr>\n",
       "  </thead>\n",
       "  <tbody>\n",
       "    <tr>\n",
       "      <th>0</th>\n",
       "      <td>56;\"housemaid\";\"married\";\"basic.4y\";\"no\";\"no\";...</td>\n",
       "    </tr>\n",
       "    <tr>\n",
       "      <th>1</th>\n",
       "      <td>57;\"services\";\"married\";\"high.school\";\"unknown...</td>\n",
       "    </tr>\n",
       "    <tr>\n",
       "      <th>2</th>\n",
       "      <td>37;\"services\";\"married\";\"high.school\";\"no\";\"ye...</td>\n",
       "    </tr>\n",
       "    <tr>\n",
       "      <th>3</th>\n",
       "      <td>40;\"admin.\";\"married\";\"basic.6y\";\"no\";\"no\";\"no...</td>\n",
       "    </tr>\n",
       "    <tr>\n",
       "      <th>4</th>\n",
       "      <td>56;\"services\";\"married\";\"high.school\";\"no\";\"no...</td>\n",
       "    </tr>\n",
       "  </tbody>\n",
       "</table>\n",
       "</div>"
      ],
      "text/plain": [
       "  age;\"job\";\"marital\";\"education\";\"default\";\"housing\";\"loan\";\"contact\";\"month\";\"day_of_week\";\"duration\";\"campaign\";\"pdays\";\"previous\";\"poutcome\";\"emp.var.rate\";\"cons.price.idx\";\"cons.conf.idx\";\"euribor3m\";\"nr.employed\";\"y\"\n",
       "0  56;\"housemaid\";\"married\";\"basic.4y\";\"no\";\"no\";...                                                                                                                                                                          \n",
       "1  57;\"services\";\"married\";\"high.school\";\"unknown...                                                                                                                                                                          \n",
       "2  37;\"services\";\"married\";\"high.school\";\"no\";\"ye...                                                                                                                                                                          \n",
       "3  40;\"admin.\";\"married\";\"basic.6y\";\"no\";\"no\";\"no...                                                                                                                                                                          \n",
       "4  56;\"services\";\"married\";\"high.school\";\"no\";\"no...                                                                                                                                                                          "
      ]
     },
     "execution_count": 3,
     "metadata": {},
     "output_type": "execute_result"
    }
   ],
   "source": [
    "dataframe= pd.read_csv(\"../../Data/bank-additional-full.csv\")  # Reading the data\n",
    "dataframe.head()   # showing first 5 datas"
   ]
  },
  {
   "cell_type": "code",
   "execution_count": null,
   "metadata": {},
   "outputs": [],
   "source": [
    "dataframe.shape"
   ]
  },
  {
   "cell_type": "markdown",
   "metadata": {},
   "source": [
    "The data given has  17 columns and consist of 45211 data. And all the data is read correctly."
   ]
  },
  {
   "cell_type": "code",
   "execution_count": null,
   "metadata": {},
   "outputs": [],
   "source": [
    "dataframe.info()"
   ]
  },
  {
   "cell_type": "markdown",
   "metadata": {},
   "source": [
    "<body>\n",
    "    The above information shows the following:<br>\n",
    "    a. There are no null or missing values present <br>\n",
    "    b. The attributes are either int or object <br>\n",
    "    c. Further there maybe necessary to label encode this objects<br>\n",
    "    d. Many attribute has \"unknown\" present in the data that may mean different for each of the attribute accordingly\n",
    "       <br><br>\n"
   ]
  },
  {
   "cell_type": "code",
   "execution_count": null,
   "metadata": {},
   "outputs": [],
   "source": [
    "dataframe.isnull()"
   ]
  },
  {
   "cell_type": "markdown",
   "metadata": {},
   "source": [
    "There are no null values in any row or column"
   ]
  },
  {
   "cell_type": "code",
   "execution_count": null,
   "metadata": {},
   "outputs": [],
   "source": [
    "dataframe.apply(lambda x: len(x.unique()))"
   ]
  },
  {
   "cell_type": "markdown",
   "metadata": {},
   "source": [
    "From  the data:<br>\n",
    "\n",
    "8 variable have interval data:\n",
    "<ul><li>Age: Age of the customer</li>\n",
    "<li>Balance: average yearly balance, in euros</li>\n",
    "<li>Day: last contact day of the month</li>\n",
    "<li>Duration: last contact duration, in seconds (numeric). </li>\n",
    "<li>Month: last contact month of the year</li>\n",
    "<li>Campaign: number of contacts performed during this campaign and for this\n",
    "client</li>\n",
    "<li>Pdays: number of days that passed by after the client was last contacted from a\n",
    "previous campaign</li>\n",
    "<li>Previous: number of contacts performed before this campaign and for this client</li>\n",
    "\n",
    "</ul>\n",
    "\n",
    "4 variables have categorical data:\n",
    "<ul><li>Housing: has housing loan?</li>\n",
    "<li>Loan: has personal loan?</li>\n",
    "<li>Target: customer have a certificate of deposit or not </li>\n",
    "<li>Defualt: has credit in default? </li>\n",
    "\n",
    "</ul>\n",
    "5 variables contains Ordinal categorical data:\n",
    "<ul><li>Marital: marital status</li>\n",
    "<li>Job: Type of job</li>\n",
    "<li>Education: Education level of the customer</li>\n",
    "<li>Contact: contact communication type</li>\n",
    "<li>Poutcome: outcome of the previous marketing campaign</li>\n",
    "</ul>\n"
   ]
  },
  {
   "cell_type": "code",
   "execution_count": null,
   "metadata": {
    "scrolled": false
   },
   "outputs": [],
   "source": [
    "dataframe.describe()"
   ]
  },
  {
   "cell_type": "markdown",
   "metadata": {},
   "source": [
    "The balance and pdays column data contain negative values as experience. This can be seen in the value of min of Experience.The data in balance my go negative as the customer may have loan but in pdays column days cannot go negative, therefore may need cleansing.<br><br>\n",
    "Mean Age is aproximately 41 years old. (Minimum: 18 years old and Maximum: 95 years old.)\n",
    "\n",
    "The mean balance is 1,362. However, the Standard Deviation (std) is a high number so we can understand through this that the balance is heavily distributed across the dataset.\n",
    "\n",
    "As the data information said it will be better to drop the duration column since duration is highly correlated in whether a potential client will buy a term deposit. \n",
    "\n"
   ]
  },
  {
   "cell_type": "code",
   "execution_count": null,
   "metadata": {
    "scrolled": false
   },
   "outputs": [],
   "source": [
    "sns.pairplot(dataframe)"
   ]
  },
  {
   "cell_type": "code",
   "execution_count": null,
   "metadata": {},
   "outputs": [],
   "source": [
    "dataframe.Target.value_counts()"
   ]
  },
  {
   "cell_type": "markdown",
   "metadata": {},
   "source": [
    "Target will be our target column"
   ]
  },
  {
   "cell_type": "code",
   "execution_count": null,
   "metadata": {},
   "outputs": [],
   "source": [
    "f = plt.subplots(1, figsize=(12,4))\n",
    "\n",
    "colors = [\"#FA5858\", \"#64FE2E\"]\n",
    "labels =\"Did not Open Term Deposit\", \"Opened Term Deposit\"\n",
    "\n",
    "plt.suptitle('Information on Term Deposits', fontsize=20)\n",
    "\n",
    "plt.pie(dataframe.Target.value_counts(),explode=[0,0.25], shadow=True,colors=colors,labels=labels, startangle=25,autopct='%1.1f%%')\n",
    "\n",
    "plt.show()"
   ]
  },
  {
   "cell_type": "code",
   "execution_count": null,
   "metadata": {},
   "outputs": [],
   "source": [
    "plt.figure(figsize=(10,10))\n",
    "plt.subplot(5,1,1)\n",
    "sns.boxplot(dataframe.age)\n",
    "plt.subplot(5,1,2)\n",
    "sns.boxplot(dataframe.balance)\n",
    "plt.subplot(5,1,3)\n",
    "sns.boxplot(dataframe.campaign)\n",
    "plt.subplot(5,1,4)\n",
    "sns.boxplot(dataframe.duration)\n"
   ]
  },
  {
   "cell_type": "code",
   "execution_count": null,
   "metadata": {},
   "outputs": [],
   "source": [
    "dataframe.skew()"
   ]
  },
  {
   "cell_type": "markdown",
   "metadata": {},
   "source": [
    "<h3>Obv</h3>\n",
    "The above boxplot and the above information shows:\n",
    "Day feature is normally distributed, as the mean is nearly equal to median<br>\n",
    "<br>\n",
    "And all other attributed are hignly positively skewed as we can see the mean is greater than the medianand  has lot of outliers.<br>\n",
    "<br>\n",
    "There are some negative values contained in experience that actually dont make any sense. Its better to clean them by applying the median of experience of the group having same age and education but positive experience."
   ]
  },
  {
   "cell_type": "code",
   "execution_count": null,
   "metadata": {},
   "outputs": [],
   "source": [
    "plt.figure(figsize=(10,10))\n",
    "plt.subplot(3,1,1)\n",
    "sns.distplot(dataframe.age)\n",
    "plt.subplot(3,1,2)\n",
    "sns.countplot(dataframe.job)\n",
    "plt.subplot(3,1,3)\n",
    "sns.countplot(dataframe.marital)\n",
    "fig, (ax1, ax2, ax3) = plt.subplots(nrows = 1, ncols = 3, figsize = (20,8))\n",
    "sns.countplot(x = 'default', data = dataframe, ax = ax1)\n",
    "sns.countplot(x = 'housing', data = dataframe, ax = ax2)\n",
    "sns.countplot(x = 'loan', data = dataframe, ax = ax3)"
   ]
  },
  {
   "cell_type": "markdown",
   "metadata": {},
   "source": [
    "<h3>Obv</h3>\n",
    "<li>The ages dont mean to much, has a medium dispersion</li>\n",
    "\n",
    "<li>Looks like Jobs, Marital and Education will have more effect on whether the customer will subscribe term deposit of not</li><li>Management is the occupation that is more prevalent in this dataset.</li>\n",
    "<li>Can see that only few has credit as default</li>\n",
    "<li>Nearly 40% of the customers has housing loan</li>\n",
    "<li> And many of the customer do not have personal loan</li>\n"
   ]
  },
  {
   "cell_type": "code",
   "execution_count": null,
   "metadata": {},
   "outputs": [],
   "source": [
    "fig,(a1,a2)=plt.subplots(nrows = 1, ncols = 2, figsize = (13, 5))\n",
    "sns.boxplot(x = 'duration', data = dataframe, orient = 'v', ax = a1)\n",
    "sns.distplot(dataframe.duration, ax = a2)"
   ]
  },
  {
   "cell_type": "code",
   "execution_count": null,
   "metadata": {},
   "outputs": [],
   "source": [
    "dataframe[dataframe.duration==0]"
   ]
  },
  {
   "cell_type": "markdown",
   "metadata": {},
   "source": [
    "<h3>Obv</h3>The customer who has the duration zero indicates that they surely have not talked with bank officers which in turn means they surely have not taken the term deposit"
   ]
  },
  {
   "cell_type": "markdown",
   "metadata": {},
   "source": [
    "\n",
    "\n",
    "<h2>Choosing the target column</h2>\n",
    "As the objective is to redict the likelihood of a liability customer subscribing , the Target column will be target column.<br>\n",
    "And the distribution is as shown"
   ]
  },
  {
   "cell_type": "code",
   "execution_count": null,
   "metadata": {},
   "outputs": [],
   "source": [
    "dataframe[\"Target\"].hist(bins=2)"
   ]
  },
  {
   "cell_type": "code",
   "execution_count": null,
   "metadata": {},
   "outputs": [],
   "source": [
    "dataframe[\"Target\"].value_counts()"
   ]
  },
  {
   "cell_type": "markdown",
   "metadata": {},
   "source": [
    "As in the data, the count of customer how takes the term deposit is very less compared to who didn't. Due to which there maybe chances that the model perdiction will be effected due to this.<br>\n",
    "<h2>Checking the influence of various attributes on customer subscribing term deposit </h2>\n",
    "<h3>Influence of Default & Balance on Target</h3>\n",
    "\n"
   ]
  },
  {
   "cell_type": "code",
   "execution_count": null,
   "metadata": {},
   "outputs": [],
   "source": [
    "plt.figure(figsize=(10,10))\n",
    "sns.boxplot(x='default',y='balance',data=dataframe,hue='Target',palette='muted')"
   ]
  },
  {
   "cell_type": "markdown",
   "metadata": {},
   "source": [
    "<h4>Obv:</h4>  The graph shows the customers those who dont have the credit card in defualt will go for the subcribing the term deposit compared to those who have credit card.<br>\n",
    "<h3>Influence of Job & Banlance on target\n",
    "</h3>"
   ]
  },
  {
   "cell_type": "code",
   "execution_count": null,
   "metadata": {},
   "outputs": [],
   "source": [
    "fig,(a1,a2)=plt.subplots(nrows = 2, ncols = 1, figsize = (13, 15))\n",
    "sns.boxplot(x='job',y='age',data=dataframe,ax=a1)\n",
    "sns.boxplot(x='job',y='balance',hue='Target',data=dataframe,ax=a2)\n"
   ]
  },
  {
   "cell_type": "markdown",
   "metadata": {},
   "source": [
    "<h4>Obv</h4>a. Management is the occupation that is more prevalent in this dataset.<br>\n",
    "b. As expected, the retired are the ones who have the highest median age while student are the lowest.<br>\n",
    "c. Management and Retirees are the ones who have the highest balance in their accounts."
   ]
  },
  {
   "cell_type": "markdown",
   "metadata": {},
   "source": [
    " The graph shows that the customer who has retired like to subscribe the term deposit<br>\n",
    "<h3>Influence of Education on target\n",
    "</h3>"
   ]
  },
  {
   "cell_type": "code",
   "execution_count": null,
   "metadata": {
    "scrolled": false
   },
   "outputs": [],
   "source": [
    "plt.figure(figsize=(10,10))\n",
    "sns.countplot(x=\"education\", data=dataframe,hue=\"Target\")"
   ]
  },
  {
   "cell_type": "markdown",
   "metadata": {},
   "source": [
    "<h3>Obv</h3>\n",
    "The customer with secondary and tertiary education tends to subscribe term deposit as they will have goos income."
   ]
  },
  {
   "cell_type": "markdown",
   "metadata": {},
   "source": [
    "<h3>Influence of Customers' Mortgage on taking personal Loan\n",
    "</h3>"
   ]
  },
  {
   "cell_type": "code",
   "execution_count": null,
   "metadata": {},
   "outputs": [],
   "source": [
    "sns.catplot(x='duration',y='balance',data=dataframe,hue='marital')\n"
   ]
  },
  {
   "cell_type": "code",
   "execution_count": null,
   "metadata": {},
   "outputs": [],
   "source": [
    "sns.countplot(x='marital',hue='Target',data=dataframe)"
   ]
  },
  {
   "cell_type": "markdown",
   "metadata": {},
   "source": [
    "<h4>Obv</h4>The customers who are divorced looks like having low balance and also customers who Married and Single tends to have surscribed term deposit than divorced customer<br>\n",
    "<h3>Influence of contact duration on taking term deposit\n",
    "</h3>"
   ]
  },
  {
   "cell_type": "code",
   "execution_count": null,
   "metadata": {},
   "outputs": [],
   "source": [
    "sns.set(rc={'figure.figsize':(11.7,8.27)})\n",
    "sns.set_style('whitegrid')\n",
    "avg_duration = dataframe['duration'].mean()\n",
    "\n",
    "lst = [dataframe]\n",
    "dataframe[\"duration_status\"] = np.nan\n",
    "\n",
    "for col in lst:\n",
    "    col.loc[col[\"duration\"] < avg_duration, \"duration_status\"] = \"below_average\"\n",
    "    col.loc[col[\"duration\"] > avg_duration, \"duration_status\"] = \"above_average\"\n",
    "    \n",
    "pct_term = pd.crosstab(dataframe['duration_status'], dataframe['Target']).apply(lambda r: round(r/r.sum(), 2) * 100, axis=1)\n",
    "\n",
    "\n",
    "ax = pct_term.plot(kind='bar', stacked=False, cmap='RdBu')\n",
    "plt.xlabel(\"Duration Status\", fontsize=18);\n",
    "plt.ylabel(\"Percentage (%)\", fontsize=18)\n",
    "\n",
    "for p in ax.patches:\n",
    "    ax.annotate(str(p.get_height()), (p.get_x() * 1.02, p.get_height() * 1.02))\n",
    "    \n",
    "\n",
    "plt.show()"
   ]
  },
  {
   "cell_type": "markdown",
   "metadata": {},
   "source": [
    "<h3>Obv</h3>The customers who have talked with bank more than average duration are likely to subscribe the term deposit than customers who have talked below average duration<br>\n",
    "<h2>Corelation of Attributes</h2>"
   ]
  },
  {
   "cell_type": "code",
   "execution_count": null,
   "metadata": {},
   "outputs": [],
   "source": [
    "labelencoder_X=LabelEncoder()\n",
    "dataframe.Target=labelencoder_X.fit_transform(dataframe.Target)\n",
    "corelation=dataframe.corr()"
   ]
  },
  {
   "cell_type": "code",
   "execution_count": null,
   "metadata": {
    "scrolled": false
   },
   "outputs": [],
   "source": [
    "plt.figure(figsize=(10,10))\n",
    "a=sns.heatmap(corelation,annot=True)\n",
    "\n"
   ]
  },
  {
   "cell_type": "markdown",
   "metadata": {},
   "source": [
    "<h3>Obv</h3>\n",
    "<li>We can see Target and duration are corelated</li>\n",
    "<li> Looks like previous number of contacts performed and pdays are corelated</li>\n",
    "<li>And also the last contacted day and campaign are also corelated</li>\n",
    "\n",
    "<h2>Preparing the data for modeling</h2>\n",
    "<h3>Label encoding the attributes having object datatype</h3>"
   ]
  },
  {
   "cell_type": "code",
   "execution_count": null,
   "metadata": {},
   "outputs": [],
   "source": [
    "labelencoder_X = LabelEncoder()\n",
    "dataframe['job']      = labelencoder_X.fit_transform(dataframe['job']) \n",
    "dataframe['marital']  = labelencoder_X.fit_transform(dataframe['marital']) \n",
    "dataframe['education']= labelencoder_X.fit_transform(dataframe['education']) \n",
    "dataframe['default']  = labelencoder_X.fit_transform(dataframe['default']) \n",
    "dataframe['housing']  = labelencoder_X.fit_transform(dataframe['housing']) \n",
    "dataframe['loan']     = labelencoder_X.fit_transform(dataframe['loan'])\n",
    "dataframe['contact']     = labelencoder_X.fit_transform(dataframe['contact']) \n",
    "dataframe['day'] = labelencoder_X.fit_transform(dataframe['day']) \n",
    "dataframe['month'] = labelencoder_X.fit_transform(dataframe['month']) "
   ]
  },
  {
   "cell_type": "markdown",
   "metadata": {},
   "source": [
    "Its better to remove duration column from dataset but checking how it may work if we group the duration upon the quartile range on the target attribute.<br>\n",
    "Also grouping the data of age attribute upon quartile range."
   ]
  },
  {
   "cell_type": "code",
   "execution_count": null,
   "metadata": {},
   "outputs": [],
   "source": [
    "print('1º Quartile: ', dataframe['duration'].quantile(q = 0.25))\n",
    "print('2º Quartile: ', dataframe['duration'].quantile(q = 0.50))\n",
    "print('3º Quartile: ', dataframe['duration'].quantile(q = 0.75))\n",
    "print('4º Quartile: ', dataframe['duration'].quantile(q = 1.00))\n",
    "\n",
    "print('1º Quartile: ', dataframe['age'].quantile(q = 0.25))\n",
    "print('2º Quartile: ', dataframe['age'].quantile(q = 0.50))\n",
    "print('3º Quartile: ', dataframe['age'].quantile(q = 0.75))\n",
    "print('4º Quartile: ', dataframe['age'].quantile(q = 1.00))"
   ]
  },
  {
   "cell_type": "code",
   "execution_count": null,
   "metadata": {},
   "outputs": [],
   "source": [
    "dataframe.loc[dataframe['age'] <= 33, 'age'] = 1\n",
    "dataframe.loc[(dataframe['age'] > 33) & (dataframe['age'] <= 39), 'age'] = 2\n",
    "dataframe.loc[(dataframe['age'] > 39) & (dataframe['age'] <= 48), 'age'] = 3\n",
    "dataframe.loc[(dataframe['age'] > 48) & (dataframe['age'] <= 98), 'age'] = 4\n",
    "\n",
    "dataframe.loc[dataframe['duration'] <= 103, 'duration'] = 1\n",
    "dataframe.loc[(dataframe['duration'] > 103) & (dataframe['duration'] <= 180)  , 'duration']    = 2\n",
    "dataframe.loc[(dataframe['duration'] > 180) & (dataframe['duration'] <= 319)  , 'duration']   = 3\n",
    "dataframe.loc[(dataframe['duration'] > 319) & (dataframe['duration'] <= 644.5), 'duration'] = 4\n",
    "dataframe.loc[dataframe['duration']  > 644.5, 'duration'] = 5\n",
    "\n"
   ]
  },
  {
   "cell_type": "code",
   "execution_count": null,
   "metadata": {},
   "outputs": [],
   "source": [
    "dataframe['poutcome'].replace(['unknown', 'failure','other','success'], [1,2,3,4], inplace  = True)\n",
    "#dataframe['Target'].replace(['no', 'yes'], [0,1], inplace  = True)"
   ]
  },
  {
   "cell_type": "code",
   "execution_count": null,
   "metadata": {},
   "outputs": [],
   "source": [
    "dataframe.head()"
   ]
  },
  {
   "cell_type": "markdown",
   "metadata": {},
   "source": [
    "\n",
    "<h2>Classification Models</h2>\n",
    "<h3> Splitting the Data</h3>"
   ]
  },
  {
   "cell_type": "code",
   "execution_count": null,
   "metadata": {},
   "outputs": [],
   "source": [
    "dataframe.columns"
   ]
  },
  {
   "cell_type": "code",
   "execution_count": null,
   "metadata": {},
   "outputs": [],
   "source": [
    "features=['age', 'job', 'marital', 'education', 'default','balance','duration',\n",
    "       'housing', 'loan', 'contact','month', 'day','campaign','pdays','previous','poutcome']\n",
    "X=dataframe[features]\n",
    "Y=dataframe['Target']         "
   ]
  },
  {
   "cell_type": "markdown",
   "metadata": {},
   "source": [
    "As for the side note as the range of various attribute vary  a lot (like range of age is 23 to 67 where are the income is 8 to 224 having different units),there may come a need to normalize the data.<br>\n",
    "But for Logestic Regression and Naive Bayes classification Normalization is not required as it doesnot effect it.<br>\n",
    "For KNN algorithm normalization is required as it depends on distance of data points."
   ]
  },
  {
   "cell_type": "markdown",
   "metadata": {},
   "source": [
    "Splitting the model in 7:3 ratio"
   ]
  },
  {
   "cell_type": "code",
   "execution_count": null,
   "metadata": {},
   "outputs": [],
   "source": [
    "train_X,test_X,train_y,test_y=train_test_split(X,Y,test_size=0.3,random_state=1)\n",
    "train_X.count() "
   ]
  },
  {
   "cell_type": "code",
   "execution_count": null,
   "metadata": {},
   "outputs": [],
   "source": [
    "train_X.head()"
   ]
  },
  {
   "cell_type": "code",
   "execution_count": null,
   "metadata": {},
   "outputs": [],
   "source": [
    "test_X.count()"
   ]
  },
  {
   "cell_type": "code",
   "execution_count": null,
   "metadata": {},
   "outputs": [],
   "source": [
    "test_X.head()"
   ]
  },
  {
   "cell_type": "code",
   "execution_count": null,
   "metadata": {
    "scrolled": true
   },
   "outputs": [],
   "source": [
    "\n",
    "scaling = StandardScaler()\n",
    "train_X = scaling.fit_transform(train_X)\n",
    "test_X = scaling.fit_transform(test_X)\n",
    "print(train_X)"
   ]
  },
  {
   "cell_type": "markdown",
   "metadata": {},
   "source": [
    "<h2>Using Logestic Regression for prediction</h2><br>\n",
    "Trianing the model"
   ]
  },
  {
   "cell_type": "code",
   "execution_count": null,
   "metadata": {},
   "outputs": [],
   "source": [
    "LR_Model=LogisticRegression(random_state=1)\n",
    "Logestic_Model=LR_Model.fit(train_X,train_y)\n",
    "Logestic_Model"
   ]
  },
  {
   "cell_type": "markdown",
   "metadata": {},
   "source": [
    "Predicting from the trained model and showing the confusion matrix"
   ]
  },
  {
   "cell_type": "code",
   "execution_count": null,
   "metadata": {
    "scrolled": false
   },
   "outputs": [],
   "source": [
    "predict=LR_Model.predict(test_X)\n",
    "print(predict[0:1000])\n",
    "metrics=confusion_matrix(test_y,predict)\n",
    "metrics"
   ]
  },
  {
   "cell_type": "code",
   "execution_count": null,
   "metadata": {},
   "outputs": [],
   "source": [
    "sns.heatmap(metrics,annot=True,fmt='g',cmap='Blues')"
   ]
  },
  {
   "cell_type": "code",
   "execution_count": null,
   "metadata": {
    "scrolled": false
   },
   "outputs": [],
   "source": [
    "print(classification_report(test_y,predict))"
   ]
  },
  {
   "cell_type": "code",
   "execution_count": null,
   "metadata": {},
   "outputs": [],
   "source": [
    "probability=Logestic_Model.predict_proba(test_X)\n",
    "pred=probability[:,1]\n",
    "fpr,tpr,thresh=roc_curve(test_y,pred)\n",
    "roc_auc=auc(fpr,tpr)\n",
    "plt.title('Receiver Operating Characteristic')\n",
    "plt.plot(fpr,tpr,'b',label='AUC =%0.2f'%roc_auc)\n",
    "plt.legend(loc = 'lower right')\n",
    "plt.plot([0, 1], [0,1],'r--')\n",
    "plt.xlim([0, 1])\n",
    "plt.ylim([0, 1])\n",
    "plt.ylabel('True Positive Rate')\n",
    "plt.xlabel('False Positive Rate')\n",
    "plt.show()"
   ]
  },
  {
   "cell_type": "code",
   "execution_count": null,
   "metadata": {},
   "outputs": [],
   "source": [
    "LR_accuracy=accuracy_score(test_y,predict)\n",
    "LR_accuracy"
   ]
  },
  {
   "cell_type": "code",
   "execution_count": null,
   "metadata": {},
   "outputs": [],
   "source": [
    "LR_AUC=roc_auc\n",
    "LR_AUC"
   ]
  },
  {
   "cell_type": "code",
   "execution_count": null,
   "metadata": {},
   "outputs": [],
   "source": [
    "LR_Gini = 2*roc_auc - 1\n",
    "LR_Gini"
   ]
  },
  {
   "cell_type": "markdown",
   "metadata": {},
   "source": [
    "<h3>Obv:</h3>\n",
    "The heat map shows that the model perdicts customer how dont subscribe term deposit pretty well whereas prediction on customer subscribing is not so good (417 out of 1134).<br>\n",
    "The confusion matrix shows that the model prediction of customer subscribe term deposit not that satisfactory. This maybe due to lack of available data of customers who goes for subscribing term deposit for the model to learn.<br>As we can see the accuracy is 89.6% along with Area Under the Curve is87.3% which pretty good.<br>\n",
    "The Gini value is 0.736.<br><br>\n",
    "<h2> Using KNN Classification Model</h2>\n",
    "<br>\n",
    "\n"
   ]
  },
  {
   "cell_type": "markdown",
   "metadata": {},
   "source": [
    "Predicting from the trained model"
   ]
  },
  {
   "cell_type": "markdown",
   "metadata": {},
   "source": [
    "Checking for suitable number for number of nearest neighbor the model should look into for prediction"
   ]
  },
  {
   "cell_type": "code",
   "execution_count": null,
   "metadata": {},
   "outputs": [],
   "source": [
    "n=[1,3,5,7,11,13,15,17,19,21,23,25,27,29,31,33,35]\n",
    "accuracy_scores=[]\n",
    "for i in n:\n",
    "    KNN_Model=KNeighborsClassifier(n_neighbors=i)\n",
    "    KNN_Model.fit(train_X,train_y)\n",
    "    predict=KNN_Model.predict(test_X)\n",
    "    accuracy_scores.append(accuracy_score(test_y,predict))\n",
    "accuracy_scores\n",
    "    "
   ]
  },
  {
   "cell_type": "markdown",
   "metadata": {},
   "source": [
    "Looks like for N_neigbors = 11 the accuracy score is highest for this model.<br>\n",
    "Checking fro whether we should use  manhattan_distance (p=1) or euclidean_distance (p=2)"
   ]
  },
  {
   "cell_type": "code",
   "execution_count": null,
   "metadata": {},
   "outputs": [],
   "source": [
    "p=[1,2]\n",
    "accuracy_scores=[]\n",
    "for i in p:\n",
    "    KNN_Model=KNeighborsClassifier(n_neighbors=11,p=i)\n",
    "    KNN_Model.fit(train_X,train_y)\n",
    "    predict=KNN_Model.predict(test_X)\n",
    "    accuracy_scores.append(accuracy_score(test_y,predict))\n",
    "accuracy_scores\n",
    "\n",
    "    "
   ]
  },
  {
   "cell_type": "markdown",
   "metadata": {},
   "source": [
    "The p value doesnot make a difference in this model."
   ]
  },
  {
   "cell_type": "code",
   "execution_count": null,
   "metadata": {},
   "outputs": [],
   "source": [
    "KNN_Model=KNeighborsClassifier(n_neighbors=13,p=1)  \n",
    "KNN_Model.fit(train_X,train_y)\n",
    "predict=KNN_Model.predict(test_X)\n",
    "print(predict[0:200,])\n",
    "Knn_matrics=confusion_matrix(test_y,predict)\n",
    "Knn_matrics"
   ]
  },
  {
   "cell_type": "code",
   "execution_count": null,
   "metadata": {},
   "outputs": [],
   "source": [
    "print(classification_report(test_y,predict))"
   ]
  },
  {
   "cell_type": "code",
   "execution_count": null,
   "metadata": {},
   "outputs": [],
   "source": [
    "sns.heatmap(Knn_matrics,annot=True,cmap='Blues',fmt='g')"
   ]
  },
  {
   "cell_type": "code",
   "execution_count": null,
   "metadata": {},
   "outputs": [],
   "source": [
    "probs = KNN_Model.predict_proba(test_X)\n",
    "preds = probs[:,1]\n",
    "fpr, tpr, threshold = roc_curve(test_y, preds)\n",
    "roc_auc = auc(fpr, tpr)\n",
    "\n",
    "plt.title('Receiver Operating Characteristic')\n",
    "plt.plot(fpr, tpr, 'b', label = 'AUC = %0.2f' % roc_auc)\n",
    "plt.legend(loc = 'lower right')\n",
    "plt.plot([0, 1], [0,1],'r--')\n",
    "plt.xlim([0, 1])\n",
    "plt.ylim([0, 1])\n",
    "plt.ylabel('True Positive Rate')\n",
    "plt.xlabel('False Positive Rate')\n",
    "plt.show()"
   ]
  },
  {
   "cell_type": "code",
   "execution_count": null,
   "metadata": {},
   "outputs": [],
   "source": [
    "KNN_accuracy=accuracy_score(test_y,predict)\n",
    "KNN_accuracy"
   ]
  },
  {
   "cell_type": "code",
   "execution_count": null,
   "metadata": {},
   "outputs": [],
   "source": [
    "KNN_Gini=2*roc_auc-1\n",
    "KNN_Gini"
   ]
  },
  {
   "cell_type": "code",
   "execution_count": null,
   "metadata": {},
   "outputs": [],
   "source": [
    "KNN_AUC=roc_auc\n",
    "KNN_AUC"
   ]
  },
  {
   "cell_type": "markdown",
   "metadata": {},
   "source": [
    "<h3>Obv:</h3>\n",
    "The heat map shows that the model perdicts customer who dont take term deposit pretty well but prediction on wheather customer taking term deposit is not good compared to Logestic regression (372 out of 1551).<br>\n",
    "The confusion matrix shows that the model prediction of customer taking loan is comparitively ok.<br>As we can see the accuracy has increased to 89.7% along with Area Under the Curve is 86.5% which pretty good.<br>\n",
    "The Gini value is 0.73.<br>The AUC and Gini value decreased but not by huge difference.<br>\n",
    "<h2> Using Naive Bayes Classification Model</h2>\n",
    "<br>\n",
    "<br>\n",
    "Splitting the data again and Training the model.\n"
   ]
  },
  {
   "cell_type": "code",
   "execution_count": null,
   "metadata": {},
   "outputs": [],
   "source": [
    "\n",
    "NB_Model=GaussianNB()\n",
    "naiveB_Model=NB_Model.fit(train_X,train_y)\n",
    "naiveB_Model"
   ]
  },
  {
   "cell_type": "markdown",
   "metadata": {},
   "source": [
    "Predicting with the above trained model."
   ]
  },
  {
   "cell_type": "code",
   "execution_count": null,
   "metadata": {},
   "outputs": [],
   "source": [
    "predict=NB_Model.predict(test_X)\n",
    "predict[0:200,]"
   ]
  },
  {
   "cell_type": "code",
   "execution_count": null,
   "metadata": {},
   "outputs": [],
   "source": [
    "ac_score=accuracy_score(test_y,predict)\n",
    "ac_score"
   ]
  },
  {
   "cell_type": "code",
   "execution_count": null,
   "metadata": {},
   "outputs": [],
   "source": [
    "print(classification_report(test_y,predict))"
   ]
  },
  {
   "cell_type": "code",
   "execution_count": null,
   "metadata": {},
   "outputs": [],
   "source": [
    "NB_matrics=confusion_matrix(test_y,predict)\n",
    "NB_matrics"
   ]
  },
  {
   "cell_type": "code",
   "execution_count": null,
   "metadata": {},
   "outputs": [],
   "source": [
    "sns.heatmap(NB_matrics,annot=True,cmap='Blues',fmt='g')"
   ]
  },
  {
   "cell_type": "code",
   "execution_count": null,
   "metadata": {},
   "outputs": [],
   "source": [
    "probs=NB_Model.predict_proba(test_X)\n",
    "\n",
    "preds = probs[:,1]\n",
    "fpr, tpr, threshold = roc_curve(test_y, preds)\n",
    "roc_auc = auc(fpr, tpr)\n",
    "\n",
    "plt.title('Receiver Operating Characteristic')\n",
    "plt.plot(fpr, tpr, 'b', label = 'AUC = %0.2f' % roc_auc)\n",
    "plt.legend(loc = 'lower right')\n",
    "plt.plot([0, 1], [0,1],'r--')\n",
    "plt.xlim([0, 1])\n",
    "plt.ylim([0, 1])\n",
    "plt.ylabel('True Positive Rate')\n",
    "plt.xlabel('False Positive Rate')\n",
    "plt.show()"
   ]
  },
  {
   "cell_type": "code",
   "execution_count": null,
   "metadata": {},
   "outputs": [],
   "source": [
    "NB_accuracy=accuracy_score(test_y,predict)\n",
    "NB_accuracy"
   ]
  },
  {
   "cell_type": "code",
   "execution_count": null,
   "metadata": {},
   "outputs": [],
   "source": [
    "NB_Gini=2*roc_auc-1\n",
    "NB_Gini"
   ]
  },
  {
   "cell_type": "code",
   "execution_count": null,
   "metadata": {},
   "outputs": [],
   "source": [
    "NB_AUC=roc_auc\n",
    "NB_AUC"
   ]
  },
  {
   "cell_type": "markdown",
   "metadata": {},
   "source": [
    "<h3>Obv:</h3>\n",
    "The heat map shows that the model perdicts customer how dont take personal loan pretty well as well as  prediction on wheather customer taking loan is also good compared to Logestic regression (683 out of 1551).<br>\n",
    "The confusion matrix shows that the model prediction of customer taking loan is comparitively satisfactory.<br>As we can see the accuracy has decreased  to 84.1% compared to along with Area Under the Curve is 80.5% which pretty good.<br>\n",
    "The Gini value is 0.60.9.<br>\n",
    "<h2>SVC model</h2>\n",
    "\n",
    "<br>\n",
    "Splitting the data again and Training the model.\n"
   ]
  },
  {
   "cell_type": "code",
   "execution_count": null,
   "metadata": {},
   "outputs": [],
   "source": [
    "\n",
    "svc=SVC(kernel='sigmoid',random_state=1,probability=True)\n",
    "svc_Model=svc.fit(train_X,train_y)\n",
    "svc_Model"
   ]
  },
  {
   "cell_type": "markdown",
   "metadata": {},
   "source": [
    "Predicting with the above trained model."
   ]
  },
  {
   "cell_type": "code",
   "execution_count": null,
   "metadata": {},
   "outputs": [],
   "source": [
    "predict=svc_Model.predict(test_X)\n",
    "predict[0:200,]"
   ]
  },
  {
   "cell_type": "code",
   "execution_count": null,
   "metadata": {},
   "outputs": [],
   "source": [
    "ac_score=accuracy_score(test_y,predict)\n",
    "ac_score"
   ]
  },
  {
   "cell_type": "code",
   "execution_count": null,
   "metadata": {},
   "outputs": [],
   "source": [
    "print(classification_report(test_y,predict))"
   ]
  },
  {
   "cell_type": "code",
   "execution_count": null,
   "metadata": {},
   "outputs": [],
   "source": [
    "svc_matrics=confusion_matrix(test_y,predict)\n",
    "svc_matrics"
   ]
  },
  {
   "cell_type": "code",
   "execution_count": null,
   "metadata": {},
   "outputs": [],
   "source": [
    "sns.heatmap(svc_matrics,annot=True,cmap='Blues',fmt='g')"
   ]
  },
  {
   "cell_type": "code",
   "execution_count": null,
   "metadata": {},
   "outputs": [],
   "source": [
    "probs=svc_Model.predict_proba(test_X)\n",
    "preds = probs[:,1]\n",
    "fpr, tpr, threshold = roc_curve(test_y, preds)\n",
    "roc_auc = auc(fpr, tpr)\n",
    "plt.title('Receiver Operating Characteristic')\n",
    "plt.plot(fpr, tpr, 'b', label = 'AUC = %0.2f' % roc_auc)\n",
    "plt.legend(loc = 'lower right')\n",
    "plt.plot([0, 1], [0,1],'r--')\n",
    "plt.xlim([0, 1])\n",
    "plt.ylim([0, 1])\n",
    "plt.ylabel('True Positive Rate')\n",
    "plt.xlabel('False Positive Rate')\n",
    "plt.show()\n"
   ]
  },
  {
   "cell_type": "code",
   "execution_count": null,
   "metadata": {},
   "outputs": [],
   "source": [
    "svc_accuracy=accuracy_score(test_y,predict)\n",
    "svc_accuracy"
   ]
  },
  {
   "cell_type": "code",
   "execution_count": null,
   "metadata": {},
   "outputs": [],
   "source": [
    "svc_Gini=2*roc_auc-1\n",
    "svc_Gini"
   ]
  },
  {
   "cell_type": "code",
   "execution_count": null,
   "metadata": {},
   "outputs": [],
   "source": [
    "svc_AUC=roc_auc\n",
    "svc_AUC"
   ]
  },
  {
   "cell_type": "markdown",
   "metadata": {},
   "source": [
    "The heat map shows that the model perdicts customer how dont subscribe term deposit pretty well whereas prediction on customer subscribing is not so good (512 out of 1551).<br>\n",
    "The confusion matrix shows that the model prediction of customer subscribe term deposit not that satisfactory. This maybe due to lack of available data of customers who goes for subscribing term deposit for the model to learn.<br>As we can see the accuracy is 83.4% along with Area Under the Curve is 69.6% which pretty bad.<br>\n",
    "The Gini value is 0.392.<br><br>\n",
    "<h2> Comparing Standard Models</h2>"
   ]
  },
  {
   "cell_type": "code",
   "execution_count": null,
   "metadata": {},
   "outputs": [],
   "source": [
    "data=[[LR_accuracy,LR_Gini,LR_AUC],[KNN_accuracy,KNN_Gini,KNN_AUC],[NB_accuracy,NB_Gini,NB_AUC],[svc_accuracy,svc_Gini,svc_AUC]]"
   ]
  },
  {
   "cell_type": "code",
   "execution_count": null,
   "metadata": {},
   "outputs": [],
   "source": [
    "comparison=pd.DataFrame(data,index=['Logestic','KNN','Naive Bayes','SVC'],columns=['Accuracy','Gini','AUC'])\n",
    "comparison"
   ]
  },
  {
   "cell_type": "markdown",
   "metadata": {},
   "source": [
    "Till now the KNN model holds best as the accuracy is better than others.\n",
    "<h2>Using Essemble techniques</h2>\n",
    "<h2>Decision Tree</h2>\n",
    "Training the model and selecting the best tree."
   ]
  },
  {
   "cell_type": "code",
   "execution_count": null,
   "metadata": {},
   "outputs": [],
   "source": [
    "dtree_accuracy_score=[]\n",
    "for m in range(1,18):\n",
    "    dtree=DecisionTreeClassifier(criterion='gini',max_depth=m,random_state=1)\n",
    "    dtree_model=dtree.fit(train_X,train_y)\n",
    "    predict=dtree.predict(test_X)\n",
    "    dtree_accuracy_score.append(accuracy_score(test_y,predict))\n",
    "dtree_accuracy_score"
   ]
  },
  {
   "cell_type": "code",
   "execution_count": null,
   "metadata": {},
   "outputs": [],
   "source": [
    "dtree=DecisionTreeClassifier(criterion='gini',max_depth=8,random_state=1)\n",
    "dtree_model=dtree.fit(train_X,train_y)\n",
    "predict=dtree.predict(test_X)"
   ]
  },
  {
   "cell_type": "markdown",
   "metadata": {},
   "source": [
    "Predicitng from the model"
   ]
  },
  {
   "cell_type": "code",
   "execution_count": null,
   "metadata": {},
   "outputs": [],
   "source": [
    "predict=dtree_model.predict(test_X)\n",
    "predict[0:200,]"
   ]
  },
  {
   "cell_type": "code",
   "execution_count": null,
   "metadata": {},
   "outputs": [],
   "source": [
    "ac_score=accuracy_score(test_y,predict)\n",
    "ac_score"
   ]
  },
  {
   "cell_type": "code",
   "execution_count": null,
   "metadata": {},
   "outputs": [],
   "source": [
    "print(classification_report(test_y,predict))"
   ]
  },
  {
   "cell_type": "code",
   "execution_count": null,
   "metadata": {},
   "outputs": [],
   "source": [
    "dtree_matrics=confusion_matrix(test_y,predict)\n",
    "dtree_matrics"
   ]
  },
  {
   "cell_type": "code",
   "execution_count": null,
   "metadata": {},
   "outputs": [],
   "source": [
    "sns.heatmap(dtree_matrics,annot=True,cmap='Blues',fmt='g')"
   ]
  },
  {
   "cell_type": "code",
   "execution_count": null,
   "metadata": {},
   "outputs": [],
   "source": [
    "probs=dtree_model.predict_proba(test_X)\n",
    "\n",
    "preds = probs[:,1]\n",
    "fpr, tpr, threshold = roc_curve(test_y, preds)\n",
    "roc_auc = auc(fpr, tpr)\n",
    "\n",
    "plt.title('Receiver Operating Characteristic')\n",
    "plt.plot(fpr, tpr, 'b', label = 'AUC = %0.2f' % roc_auc)\n",
    "plt.legend(loc = 'lower right')\n",
    "plt.plot([0, 1], [0,1],'r--')\n",
    "plt.xlim([0, 1])\n",
    "plt.ylim([0, 1])\n",
    "plt.ylabel('True Positive Rate')\n",
    "plt.xlabel('False Positive Rate')\n",
    "plt.show()"
   ]
  },
  {
   "cell_type": "code",
   "execution_count": null,
   "metadata": {},
   "outputs": [],
   "source": [
    "dtree_accuracy=accuracy_score(test_y,predict)\n",
    "dtree_accuracy"
   ]
  },
  {
   "cell_type": "code",
   "execution_count": null,
   "metadata": {},
   "outputs": [],
   "source": [
    "dtree_Gini=2*roc_auc-1\n",
    "dtree_Gini"
   ]
  },
  {
   "cell_type": "code",
   "execution_count": null,
   "metadata": {},
   "outputs": [],
   "source": [
    "dtree_AUC=roc_auc\n",
    "dtree_AUC"
   ]
  },
  {
   "cell_type": "markdown",
   "metadata": {},
   "source": [
    "The heat map shows that the model perdicts customer how dont subscribe term deposit pretty well whereas prediction on customer subscribing is comparitively good (597 out of 1551).<br>\n",
    "The confusion matrix shows that the model prediction of customer subscribe term deposit not that satisfactory. This maybe due to lack of available data of customers who goes for subscribing term deposit for the model to learn.<br>As we can see the accuracy is 90.23% along with Area Under the Curve is 86.6% which pretty gppd.<br>\n",
    "The Gini value is 0.866.<br><br>\n",
    "<h2> Bagging Model</h2>\n",
    "Training the model."
   ]
  },
  {
   "cell_type": "code",
   "execution_count": null,
   "metadata": {},
   "outputs": [],
   "source": [
    "#bagging=BaggingClassifier(n_estimators=50,random_state=1)\n",
    "bagging_accuracy_score=[]\n",
    "for m in range(50,90):\n",
    "    bagging=BaggingClassifier(n_estimators=m,random_state=1)    \n",
    "    bagging_model=bagging.fit(train_X,train_y)\n",
    "    predict=dtree.predict(test_X)\n",
    "    bagging_accuracy_score.append(accuracy_score(test_y,predict))\n",
    "bagging_accuracy_score"
   ]
  },
  {
   "cell_type": "markdown",
   "metadata": {},
   "source": [
    "Predicting from the model"
   ]
  },
  {
   "cell_type": "code",
   "execution_count": null,
   "metadata": {},
   "outputs": [],
   "source": [
    "bagging=BaggingClassifier(n_estimators=50,random_state=1)    \n",
    "bagging_model=bagging.fit(train_X,train_y)\n",
    "predict=bagging.predict(test_X)"
   ]
  },
  {
   "cell_type": "code",
   "execution_count": null,
   "metadata": {},
   "outputs": [],
   "source": [
    "predict=bagging_model.predict(test_X)\n",
    "predict[0:200,]"
   ]
  },
  {
   "cell_type": "code",
   "execution_count": null,
   "metadata": {},
   "outputs": [],
   "source": [
    "ac_score=accuracy_score(test_y,predict)\n",
    "ac_score"
   ]
  },
  {
   "cell_type": "code",
   "execution_count": null,
   "metadata": {},
   "outputs": [],
   "source": [
    "print(classification_report(test_y,predict))"
   ]
  },
  {
   "cell_type": "code",
   "execution_count": null,
   "metadata": {},
   "outputs": [],
   "source": [
    "bagging_matrics=confusion_matrix(test_y,predict)\n",
    "bagging_matrics"
   ]
  },
  {
   "cell_type": "code",
   "execution_count": null,
   "metadata": {},
   "outputs": [],
   "source": [
    "sns.heatmap(bagging_matrics,annot=True,cmap='Blues',fmt='g')"
   ]
  },
  {
   "cell_type": "code",
   "execution_count": null,
   "metadata": {},
   "outputs": [],
   "source": [
    "probs=bagging_model.predict_proba(test_X)\n",
    "\n",
    "preds = probs[:,1]\n",
    "fpr, tpr, threshold = roc_curve(test_y, preds)\n",
    "roc_auc = auc(fpr, tpr)\n",
    "\n",
    "plt.title('Receiver Operating Characteristic')\n",
    "plt.plot(fpr, tpr, 'b', label = 'AUC = %0.2f' % roc_auc)\n",
    "plt.legend(loc = 'lower right')\n",
    "plt.plot([0, 1], [0,1],'r--')\n",
    "plt.xlim([0, 1])\n",
    "plt.ylim([0, 1])\n",
    "plt.ylabel('True Positive Rate')\n",
    "plt.xlabel('False Positive Rate')\n",
    "plt.show()"
   ]
  },
  {
   "cell_type": "code",
   "execution_count": null,
   "metadata": {},
   "outputs": [],
   "source": [
    "bagging_accuracy=accuracy_score(test_y,predict)\n",
    "bagging_accuracy"
   ]
  },
  {
   "cell_type": "code",
   "execution_count": null,
   "metadata": {},
   "outputs": [],
   "source": [
    "bagging_Gini=2*roc_auc-1\n",
    "bagging_Gini"
   ]
  },
  {
   "cell_type": "code",
   "execution_count": null,
   "metadata": {},
   "outputs": [],
   "source": [
    "bagging_AUC=roc_auc\n",
    "bagging_AUC"
   ]
  },
  {
   "cell_type": "markdown",
   "metadata": {},
   "source": [
    "The heat map shows that the model perdicts customer how dont subscribe term deposit pretty well whereas prediction on customer subscribing is not so good (721 out of 1551).<br>\n",
    " we can see the accuracy is 90.32% along with Area Under the Curve is 90.7% which good.<br>\n",
    "The Gini value is 0.8157.<br><br>\n",
    "<h2> AdaBoosting Model</h2>\n",
    "Traing the data"
   ]
  },
  {
   "cell_type": "code",
   "execution_count": null,
   "metadata": {},
   "outputs": [],
   "source": [
    "aboost_accuracy_score=[]\n",
    "for m in range(50,90):\n",
    "    aboost=AdaBoostClassifier(n_estimators=m,random_state=1)    \n",
    "    aboost_model=aboost.fit(train_X,train_y)\n",
    "    predict=aboost.predict(test_X)\n",
    "    aboost_accuracy_score.append(accuracy_score(test_y,predict))\n",
    "aboost_accuracy_score"
   ]
  },
  {
   "cell_type": "code",
   "execution_count": null,
   "metadata": {},
   "outputs": [],
   "source": [
    "aboost=AdaBoostClassifier(n_estimators=66,random_state=1)    \n",
    "aboost_model=aboost.fit(train_X,train_y)\n",
    "predict=aboost.predict(test_X)"
   ]
  },
  {
   "cell_type": "markdown",
   "metadata": {},
   "source": [
    "Predicting from the model."
   ]
  },
  {
   "cell_type": "code",
   "execution_count": null,
   "metadata": {},
   "outputs": [],
   "source": [
    "predict=aboost_model.predict(test_X)\n",
    "predict[0:200,]"
   ]
  },
  {
   "cell_type": "code",
   "execution_count": null,
   "metadata": {},
   "outputs": [],
   "source": [
    "ac_score=accuracy_score(test_y,predict)\n",
    "ac_score"
   ]
  },
  {
   "cell_type": "code",
   "execution_count": null,
   "metadata": {},
   "outputs": [],
   "source": [
    "print(classification_report(test_y,predict))"
   ]
  },
  {
   "cell_type": "code",
   "execution_count": null,
   "metadata": {},
   "outputs": [],
   "source": [
    "aboost_matrics=confusion_matrix(test_y,predict)\n",
    "aboost_matrics"
   ]
  },
  {
   "cell_type": "code",
   "execution_count": null,
   "metadata": {},
   "outputs": [],
   "source": [
    "sns.heatmap(aboost_matrics,annot=True,cmap='Blues',fmt='g')"
   ]
  },
  {
   "cell_type": "code",
   "execution_count": null,
   "metadata": {},
   "outputs": [],
   "source": [
    "probs=aboost_model.predict_proba(test_X)\n",
    "\n",
    "preds = probs[:,1]\n",
    "fpr, tpr, threshold = roc_curve(test_y, preds)\n",
    "roc_auc = auc(fpr, tpr)\n",
    "\n",
    "plt.title('Receiver Operating Characteristic')\n",
    "plt.plot(fpr, tpr, 'b', label = 'AUC = %0.2f' % roc_auc)\n",
    "plt.legend(loc = 'lower right')\n",
    "plt.plot([0, 1], [0,1],'r--')\n",
    "plt.xlim([0, 1])\n",
    "plt.ylim([0, 1])\n",
    "plt.ylabel('True Positive Rate')\n",
    "plt.xlabel('False Positive Rate')\n",
    "plt.show()"
   ]
  },
  {
   "cell_type": "code",
   "execution_count": null,
   "metadata": {},
   "outputs": [],
   "source": [
    "aboost_accuracy=accuracy_score(test_y,predict)\n",
    "aboost_accuracy"
   ]
  },
  {
   "cell_type": "code",
   "execution_count": null,
   "metadata": {},
   "outputs": [],
   "source": [
    "aboost_Gini=2*roc_auc-1\n",
    "aboost_Gini"
   ]
  },
  {
   "cell_type": "code",
   "execution_count": null,
   "metadata": {},
   "outputs": [],
   "source": [
    "aboost_AUC=roc_auc\n",
    "aboost_AUC"
   ]
  },
  {
   "cell_type": "markdown",
   "metadata": {},
   "source": [
    "The heat map shows that the model perdicts customer how dont subscribe term deposit pretty well whereas prediction on customer subscribing is not so good (555 out of 1551).<br>\n",
    " we can see the accuracy is 90.1% along with Area Under the Curve is 90.1% which good.<br>\n",
    "The Gini value is 0.801.<br><br>\n",
    "<h2> Gradient Boosting Model</h2>\n",
    "Training the model"
   ]
  },
  {
   "cell_type": "code",
   "execution_count": null,
   "metadata": {},
   "outputs": [],
   "source": [
    "gboost_accuracy_score=[]\n",
    "for m in range(50,90):\n",
    "    gboost=GradientBoostingClassifier(n_estimators=m,random_state=1)    \n",
    "    gboost_model=gboost.fit(train_X,train_y)\n",
    "    predict=gboost.predict(test_X)\n",
    "    gboost_accuracy_score.append(accuracy_score(test_y,predict))\n",
    "aboost_accuracy_score"
   ]
  },
  {
   "cell_type": "code",
   "execution_count": null,
   "metadata": {},
   "outputs": [],
   "source": [
    "gboost=GradientBoostingClassifier(n_estimators=66,random_state=1)    \n",
    "gboost_model=gboost.fit(train_X,train_y)"
   ]
  },
  {
   "cell_type": "markdown",
   "metadata": {},
   "source": [
    "Predicting from the model"
   ]
  },
  {
   "cell_type": "code",
   "execution_count": null,
   "metadata": {},
   "outputs": [],
   "source": [
    "predict=gboost_model.predict(test_X)`\n",
    "predict[0:200,]"
   ]
  },
  {
   "cell_type": "code",
   "execution_count": null,
   "metadata": {},
   "outputs": [],
   "source": [
    "ac_score=accuracy_score(test_y,predict)\n",
    "ac_score"
   ]
  },
  {
   "cell_type": "code",
   "execution_count": null,
   "metadata": {},
   "outputs": [],
   "source": [
    "print(classification_report(test_y,predict))"
   ]
  },
  {
   "cell_type": "code",
   "execution_count": null,
   "metadata": {},
   "outputs": [],
   "source": [
    "gboost_matrics=confusion_matrix(test_y,predict)\n",
    "gboost_matrics"
   ]
  },
  {
   "cell_type": "code",
   "execution_count": null,
   "metadata": {},
   "outputs": [],
   "source": [
    "sns.heatmap(gboost_matrics,annot=True,cmap='Blues',fmt='g')"
   ]
  },
  {
   "cell_type": "code",
   "execution_count": null,
   "metadata": {},
   "outputs": [],
   "source": [
    "probs=gboost_model.predict_proba(test_X)\n",
    "\n",
    "preds = probs[:,1]\n",
    "fpr, tpr, threshold = roc_curve(test_y, preds)\n",
    "roc_auc = auc(fpr, tpr)\n",
    "\n",
    "plt.title('Receiver Operating Characteristic')\n",
    "plt.plot(fpr, tpr, 'b', label = 'AUC = %0.2f' % roc_auc)\n",
    "plt.legend(loc = 'lower right')\n",
    "plt.plot([0, 1], [0,1],'r--')\n",
    "plt.xlim([0, 1])\n",
    "plt.ylim([0, 1])\n",
    "plt.ylabel('True Positive Rate')\n",
    "plt.xlabel('False Positive Rate')\n",
    "plt.show()"
   ]
  },
  {
   "cell_type": "code",
   "execution_count": null,
   "metadata": {},
   "outputs": [],
   "source": [
    "gboost_accuracy=accuracy_score(test_y,predict)\n",
    "gboost_accuracy"
   ]
  },
  {
   "cell_type": "code",
   "execution_count": null,
   "metadata": {},
   "outputs": [],
   "source": [
    "gboost_Gini=2*roc_auc-1\n",
    "gboost_Gini"
   ]
  },
  {
   "cell_type": "code",
   "execution_count": null,
   "metadata": {},
   "outputs": [],
   "source": [
    "gboost_AUC=roc_auc\n",
    "gboost_AUC"
   ]
  },
  {
   "cell_type": "markdown",
   "metadata": {},
   "source": [
    "The heat map shows that the model perdicts customer how dont subscribe term deposit pretty well whereas prediction on customer subscribing is better (569 out of 1551).<br>\n",
    " we can see the accuracy is 90.37% along with Area Under the Curve is 91.1% which good.<br>\n",
    "The Gini value is 0.8222.<br><br>\n",
    "<h2> Random Forest Model</h2>\n",
    "Training the model"
   ]
  },
  {
   "cell_type": "code",
   "execution_count": null,
   "metadata": {},
   "outputs": [],
   "source": [
    "R_forest=RandomForestClassifier(n_estimators=50,random_state=1,max_features=15)    \n",
    "R_forest_model=R_forest.fit(train_X,train_y)\n",
    "predict=R_forest.predict(test_X)"
   ]
  },
  {
   "cell_type": "markdown",
   "metadata": {},
   "source": [
    "Predicting from the model"
   ]
  },
  {
   "cell_type": "code",
   "execution_count": null,
   "metadata": {},
   "outputs": [],
   "source": [
    "predict=R_forest_model.predict(test_X)\n",
    "predict[0:200,]"
   ]
  },
  {
   "cell_type": "code",
   "execution_count": null,
   "metadata": {},
   "outputs": [],
   "source": [
    "ac_score=accuracy_score(test_y,predict)\n",
    "ac_score"
   ]
  },
  {
   "cell_type": "code",
   "execution_count": null,
   "metadata": {},
   "outputs": [],
   "source": [
    "print(classification_report(test_y,predict))"
   ]
  },
  {
   "cell_type": "code",
   "execution_count": null,
   "metadata": {},
   "outputs": [],
   "source": [
    "R_forest_matrics=confusion_matrix(test_y,predict)\n",
    "R_forest_matrics"
   ]
  },
  {
   "cell_type": "code",
   "execution_count": null,
   "metadata": {},
   "outputs": [],
   "source": [
    "sns.heatmap(R_forest_matrics,annot=True,cmap='Blues',fmt='g')"
   ]
  },
  {
   "cell_type": "code",
   "execution_count": null,
   "metadata": {},
   "outputs": [],
   "source": [
    "probs=R_forest_model.predict_proba(test_X)\n",
    "\n",
    "preds = probs[:,1]\n",
    "fpr, tpr, threshold = roc_curve(test_y, preds)\n",
    "roc_auc = auc(fpr, tpr)\n",
    "\n",
    "plt.title('Receiver Operating Characteristic')\n",
    "plt.plot(fpr, tpr, 'b', label = 'AUC = %0.2f' % roc_auc)\n",
    "plt.legend(loc = 'lower right')\n",
    "plt.plot([0, 1], [0,1],'r--')\n",
    "plt.xlim([0, 1])\n",
    "plt.ylim([0, 1])\n",
    "plt.ylabel('True Positive Rate')\n",
    "plt.xlabel('False Positive Rate')\n",
    "plt.show()"
   ]
  },
  {
   "cell_type": "code",
   "execution_count": null,
   "metadata": {},
   "outputs": [],
   "source": [
    "R_forest_accuracy=accuracy_score(test_y,predict)\n",
    "R_forest_accuracy"
   ]
  },
  {
   "cell_type": "code",
   "execution_count": null,
   "metadata": {},
   "outputs": [],
   "source": [
    "R_forest_Gini=2*roc_auc-1\n",
    "R_forest_Gini"
   ]
  },
  {
   "cell_type": "code",
   "execution_count": null,
   "metadata": {},
   "outputs": [],
   "source": [
    "R_forest_AUC=roc_auc\n",
    "R_forest_AUC"
   ]
  },
  {
   "cell_type": "markdown",
   "metadata": {},
   "source": [
    "The heat map shows that the model perdicts customer how dont subscribe term deposit pretty well whereas prediction on customer subscribing is good (695 out of 1551).<br>\n",
    " we can see the accuracy is 89.89% along with Area Under the Curve is 90.7% which good.<br>\n",
    "The Gini value is 0.8145.<br><br>\n",
    "<h2> Comparing all the Model</h2>"
   ]
  },
  {
   "cell_type": "code",
   "execution_count": null,
   "metadata": {},
   "outputs": [],
   "source": [
    "data=[[LR_accuracy,LR_Gini,LR_AUC],[KNN_accuracy,KNN_Gini,KNN_AUC],[NB_accuracy,NB_Gini,NB_AUC],[svc_accuracy,svc_Gini,svc_AUC],\n",
    "     [dtree_accuracy,dtree_Gini,dtree_AUC],[bagging_accuracy,bagging_Gini,bagging_AUC],[aboost_accuracy,aboost_Gini,aboost_Gini],\n",
    "     [gboost_accuracy,gboost_Gini,gboost_AUC],[R_forest_accuracy,R_forest_Gini,R_forest_AUC]]"
   ]
  },
  {
   "cell_type": "code",
   "execution_count": null,
   "metadata": {},
   "outputs": [],
   "source": [
    "comparison=pd.DataFrame(data,index=['Logestic','KNN','Naive Bayes','SVC','Decision Tree','Bagging','AdaBoosting','GradientBoosting','Random Forest'],columns=['Accuracy','Gini','AUC'])\n",
    "comparison"
   ]
  },
  {
   "cell_type": "markdown",
   "metadata": {},
   "source": [
    "As for the above matrix, the accuracy of Gradient Boosting model is highest among others along with the Gini value and AUC is also better than other model <br> \n",
    "<h3>So, in this case Gradient Boosting would be the best model to use for predicting the likelihood of a liability customer purchasing Term Deposit.<h3>"
   ]
  },
  {
   "cell_type": "markdown",
   "metadata": {},
   "source": [
    "<h5>Thank you</h5>"
   ]
  }
 ],
 "metadata": {
  "kernelspec": {
   "display_name": "Python 3",
   "language": "python",
   "name": "python3"
  },
  "language_info": {
   "codemirror_mode": {
    "name": "ipython",
    "version": 3
   },
   "file_extension": ".py",
   "mimetype": "text/x-python",
   "name": "python",
   "nbconvert_exporter": "python",
   "pygments_lexer": "ipython3",
   "version": "3.8.5"
  }
 },
 "nbformat": 4,
 "nbformat_minor": 4
}
