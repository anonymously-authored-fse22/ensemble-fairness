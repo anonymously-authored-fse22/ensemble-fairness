{
 "cells": [
  {
   "cell_type": "markdown",
   "metadata": {
    "id": "HOd-V95CpdV_"
   },
   "source": [
    "## INTRODUCTION\n",
    "\n",
    "\n",
    "---\n",
    "\n",
    "\n",
    "**WHAT YOU WILL SEE IN THIS KERNEL :**\n",
    "\n",
    "*   **Neural Networks:** Keras & Tensorflow based model to predict the success of the marketting campaign. \n",
    "\n",
    "*   **Multi model evaluation:** Gradient Boosted Trees, XGBosst, Light GBM, Logistic Regression, Support Vector Machines, Naive Bayes (Gaussian NB), KNN, Neural Networks\n",
    "\n",
    "*   **SMOTE** to handle imbalanced data\n",
    "\n",
    "*   **Kappa** score to evaluate models for imbalanced data. Accuracy is ususally not a good measure for imbalanced datasets. Cohen’s kappa statistic is a very good measure that can handle very well both multi-class and imbalanced class problems. It basically tells you how much better your classifier is performing over the performance of a classifier that simply guesses at random according to the frequency of each class.\n",
    "\n",
    "*   **ROC_AUC Curves and PR AUC Curves** for model evaluation\n",
    "\n",
    "*   **Additional Insights** in Exploratory Data Analysis\n",
    "\n",
    "---\n",
    "**DATASET:**\n",
    "\n",
    "\n",
    "The data is related with direct marketing campaigns (phone calls) of a Portuguese banking institution. The classification goal is to predict if the client will subscribe a term deposit (variable y).\n",
    "\n",
    "The data is related with direct marketing campaigns of a Portuguese banking institution. The marketing campaigns were based on phone calls. Often, more than one contact to the same client was required, in order to access if the product (bank term deposit) would be ('yes') or not ('no') subscribed.\n",
    " \n",
    "---\n",
    "**IMBALANCED DATA:** Since the data is imbalanced, appropriate steps have to be taken to analyze and predict skewed classes. \n",
    "\n",
    "Steps taken to handle imbalanced data - \n",
    "*   Accuracy is avoided as the model performance metric. Precision, Recall, F1 Score, Kappa , ROC-AUC & PR AUC have been considered to evaluate models.\n",
    "*   Generate Synthetic Samples using SMOTE for the minority class.\n",
    "*   Different algorithm were evaluated, and the one with best performance was selected.\n",
    "\n",
    "---"
   ]
  },
  {
   "cell_type": "markdown",
   "metadata": {
    "id": "tB-jXiZiz2hV"
   },
   "source": [
    "Lets begin! The Basics first!\n",
    "\n",
    "\n",
    "Load all the necessary libraries."
   ]
  },
  {
   "cell_type": "code",
   "execution_count": null,
   "metadata": {
    "id": "sMRF-49uzv6h",
    "outputId": "feb0df0b-6eaf-4b52-d2ba-49df7b9c4c98"
   },
   "outputs": [],
   "source": [
    "import pandas as pd\n",
    "import numpy as np\n",
    "import matplotlib.pyplot as plt\n",
    "%matplotlib inline\n",
    "import seaborn as sns\n",
    "sns.set()\n",
    "import statsmodels.api as sm\n",
    "from sklearn.preprocessing import MinMaxScaler, StandardScaler\n",
    "from sklearn.model_selection import train_test_split\n",
    "from sklearn.metrics import classification_report, confusion_matrix\n",
    "from sklearn.ensemble import GradientBoostingClassifier\n",
    "from sklearn.model_selection import GridSearchCV, RandomizedSearchCV\n",
    "from xgboost import XGBClassifier\n",
    "from sklearn.linear_model import LogisticRegression\n",
    "from sklearn.naive_bayes import GaussianNB, MultinomialNB\n",
    "from sklearn import metrics\n",
    "from sklearn import svm\n",
    "from sklearn.neighbors import KNeighborsClassifier\n",
    "import tensorflow as tf\n",
    "from tensorflow import keras\n",
    "from sklearn.metrics import f1_score\n",
    "from sklearn.metrics import roc_auc_score\n",
    "from sklearn.metrics import average_precision_score\n",
    "from sklearn.metrics import cohen_kappa_score\n",
    "from sklearn.model_selection import StratifiedKFold\n",
    "from imblearn.over_sampling import SMOTENC\n",
    "from sklearn.svm import SVC\n",
    "from lightgbm import LGBMClassifier\n",
    "from keras.wrappers.scikit_learn import KerasClassifier\n",
    "from matplotlib.ticker import FormatStrFormatter\n",
    "\n",
    "import warnings\n",
    "warnings.filterwarnings('ignore')\n",
    "pd.options.mode.chained_assignment = None  # default='warn'\n",
    "from warnings import simplefilter\n",
    "simplefilter(action='ignore', category=FutureWarning)"
   ]
  },
  {
   "cell_type": "markdown",
   "metadata": {
    "id": "mpuNKgYz02K4"
   },
   "source": [
    "Load the data from csv and verify the structure and counts from the dataframe"
   ]
  },
  {
   "cell_type": "code",
   "execution_count": null,
   "metadata": {
    "id": "2pitrf8A0hhH",
    "outputId": "1c90cf5b-039a-4a13-d63f-6f36bf83caed"
   },
   "outputs": [],
   "source": [
    "df_eda = pd.read_csv('../input/bank-marketing/bank-additional-full.csv',sep=';') \n",
    "\n",
    "df_eda.info()"
   ]
  },
  {
   "cell_type": "markdown",
   "metadata": {
    "id": "iA6E2BVc1An3"
   },
   "source": [
    "Lets begin with some basic cleanup. \n",
    "\n",
    "Check how many NULLs are present in the dataset"
   ]
  },
  {
   "cell_type": "code",
   "execution_count": null,
   "metadata": {
    "id": "d3_BOynG09Tr",
    "outputId": "934040d8-eccb-46d5-bdf1-b8103c857984"
   },
   "outputs": [],
   "source": [
    "df_eda.isnull().sum()"
   ]
  },
  {
   "cell_type": "markdown",
   "metadata": {
    "id": "CVM77vNu1_u6"
   },
   "source": [
    "Check for duplicates in the dataset"
   ]
  },
  {
   "cell_type": "code",
   "execution_count": null,
   "metadata": {
    "id": "0zzf8dwQ1ZoS",
    "outputId": "4b2c065c-d223-4675-bd0f-5f32a1169cc5"
   },
   "outputs": [],
   "source": [
    "len(df_eda)-len(df_eda.drop_duplicates())"
   ]
  },
  {
   "cell_type": "markdown",
   "metadata": {
    "id": "JOCbI8vo2CqV"
   },
   "source": [
    "Drop the duplicates in the dataset"
   ]
  },
  {
   "cell_type": "code",
   "execution_count": null,
   "metadata": {
    "id": "kULcXhas2UOh"
   },
   "outputs": [],
   "source": [
    "df_eda = df_eda.drop_duplicates()"
   ]
  },
  {
   "cell_type": "markdown",
   "metadata": {
    "id": "sbC3LiKjphw8"
   },
   "source": [
    "## EXPLORATORY DATA ANALYSIS\n",
    "\n",
    "Data has been analyzed for - \n",
    "\n",
    "*   Correlations\n",
    "*   Univariate & Bivariate analysis\n",
    "*   Outliers"
   ]
  },
  {
   "cell_type": "markdown",
   "metadata": {
    "id": "pNm1rCEc7gNM"
   },
   "source": [
    "*Age*: Check how customers' behavior is per age group"
   ]
  },
  {
   "cell_type": "code",
   "execution_count": null,
   "metadata": {
    "id": "jgwDH7vF4WJg",
    "outputId": "39a8024d-c94d-49b6-f35f-77ccbc34ac4a"
   },
   "outputs": [],
   "source": [
    "fig, axs = plt.subplots(1,2, figsize=(13,5))\n",
    "plt.tight_layout(pad=3)\n",
    "\n",
    "ax = df_eda[\"age\"].value_counts(bins=8).plot(kind='barh', color=\"C1\", ax=axs[0])\n",
    "df_eda[df_eda[\"y\"]=='yes'][\"age\"].value_counts(bins=8).plot(kind='barh', ax = ax, color=\"C2\")\n",
    "ax2 = (df_eda[df_eda[\"y\"]=='yes'][\"age\"].value_counts(bins=20) * 100 / df_eda[\"age\"].value_counts(bins=20) ).plot(kind='barh', color=\"C1\", ax=axs[1])\n",
    "axs[0].set_xlabel('Count(Yes) & Total Counts')\n",
    "axs[0].set_ylabel('Age Groups')\n",
    "axs[0].title.set_text('Count of Customers who said Yes & Total Counts ')\n",
    "axs[0].yaxis.set_major_formatter(FormatStrFormatter('%d'))\n",
    "axs[1].yaxis.set_major_formatter(FormatStrFormatter('%d'))\n",
    "axs[1].set_xlabel('Percentage')\n",
    "axs[1].set_ylabel('Age Groups')\n",
    "axs[1].title.set_text('Percentage of Customers (per Age Group) who Subscribed')"
   ]
  },
  {
   "cell_type": "markdown",
   "metadata": {
    "id": "868QwEE76w4A"
   },
   "source": [
    "*Conclusion:*\n",
    "\n",
    "*   Any customer above the age of 60 has atleast a 40% chance of subscribing for the Bank Term Deposit.\n",
    "*   Customers above the age of 73 have a 50% chance of saying YES."
   ]
  },
  {
   "cell_type": "markdown",
   "metadata": {
    "id": "FkbUOIIjTGtk"
   },
   "source": [
    "Age has some outliers"
   ]
  },
  {
   "cell_type": "code",
   "execution_count": null,
   "metadata": {
    "id": "aTU5pJthS9gX",
    "outputId": "687bcb99-0f32-44e5-9511-b2cf1fca92c2"
   },
   "outputs": [],
   "source": [
    "sns.boxplot(x=df_eda['age'])"
   ]
  },
  {
   "cell_type": "markdown",
   "metadata": {
    "id": "kqJl-WSs_pD1"
   },
   "source": [
    "Next,\n",
    "\n",
    "Lets evaluate the *Job* categories for the different clients"
   ]
  },
  {
   "cell_type": "code",
   "execution_count": null,
   "metadata": {
    "id": "xNjirbAN4c48",
    "outputId": "c11bb0c7-d2b2-4742-9c67-6409152db4e4"
   },
   "outputs": [],
   "source": [
    "fig, axs = plt.subplots(1,2, figsize=(13,5))\n",
    "plt.tight_layout(pad=3)\n",
    "ax = df_eda[\"job\"].value_counts().plot(kind='barh', color=\"C3\", ax=axs[0])\n",
    "df_eda[df_eda[\"y\"]=='yes'][\"job\"].value_counts().plot(kind='barh', ax = ax, color=\"C4\")\n",
    "ax = (df_eda[df_eda[\"y\"]=='yes'][\"job\"].value_counts() * 100 / df_eda[\"job\"].value_counts() ).plot(kind='barh', color=\"C3\", ax=axs[1])\n",
    "axs[0].set_xlabel('Count(Yes) & Total Counts')\n",
    "axs[0].set_ylabel('Job Categories')\n",
    "axs[0].title.set_text('Count of Customers who said Yes & Total Counts ')\n",
    "axs[0].yaxis.set_major_formatter(FormatStrFormatter('%d'))\n",
    "axs[1].yaxis.set_major_formatter(FormatStrFormatter('%d'))\n",
    "axs[1].set_xlabel('Percentage')\n",
    "axs[1].set_ylabel('Job Categories')\n",
    "axs[1].title.set_text('Percentage of Customers (per Job Categories) who Subscribed')"
   ]
  },
  {
   "cell_type": "markdown",
   "metadata": {
    "id": "xaMebAEjBBwq"
   },
   "source": [
    "*Conclusion:*\n",
    "\n",
    "*   Students and Retired customers have a good chance(> 25%) of creating a Fixed Deposit. \n",
    "\n"
   ]
  },
  {
   "cell_type": "markdown",
   "metadata": {
    "id": "Hr1CkqrPBdcg"
   },
   "source": [
    "Next,\n",
    "\n",
    "Lets explore the *Marital* status of customers."
   ]
  },
  {
   "cell_type": "code",
   "execution_count": null,
   "metadata": {
    "id": "GiKr1UEo_jOe",
    "outputId": "5b5f6381-f170-42ba-d395-152e23cd6ead"
   },
   "outputs": [],
   "source": [
    "fig, axs = plt.subplots(1,2, figsize=(13,5))\n",
    "plt.tight_layout(pad=3)\n",
    "\n",
    "ax = df_eda[\"marital\"].value_counts().plot(kind='barh', color=\"C5\", ax=axs[0])\n",
    "df_eda[df_eda[\"y\"]=='yes'][\"marital\"].value_counts().plot(kind='barh', ax = ax, color=\"C6\")\n",
    "ax = (df_eda[df_eda[\"y\"]=='yes'][\"marital\"].value_counts() * 100 / df_eda[\"marital\"].value_counts() ).plot(kind='barh', color=\"C5\", ax=axs[1])\n",
    "\n",
    "axs[0].set_xlabel('Count(Yes) & Total Counts')\n",
    "axs[0].set_ylabel('Marital Status')\n",
    "axs[0].title.set_text('Count of Customers who said Yes & Total Counts ')\n",
    "axs[0].yaxis.set_major_formatter(FormatStrFormatter('%d'))\n",
    "axs[1].yaxis.set_major_formatter(FormatStrFormatter('%d'))\n",
    "axs[1].set_xlabel('Percentage')\n",
    "axs[1].set_ylabel('Marital Status')\n",
    "axs[1].title.set_text('Percentage of Customers (per Marital Status) who Subscribed')"
   ]
  },
  {
   "cell_type": "markdown",
   "metadata": {
    "id": "uoDp_nOlDErd"
   },
   "source": [
    "There isn't much of a trend here. Lets move on. \n",
    "\n",
    "Lets explore the *Education* of the customers."
   ]
  },
  {
   "cell_type": "code",
   "execution_count": null,
   "metadata": {
    "id": "mNjaMMn3DhRf",
    "outputId": "7fc82479-9c57-4e05-d59e-9f366892f577"
   },
   "outputs": [],
   "source": [
    "fig, axs = plt.subplots(1,2, figsize=(13,5))\n",
    "plt.tight_layout(pad=3)\n",
    "\n",
    "ax = df_eda[\"education\"].value_counts().plot(kind='barh', color=\"C1\", ax=axs[0])\n",
    "df_eda[df_eda[\"y\"]=='yes'][\"education\"].value_counts().plot(kind='barh', ax = ax, color=\"C2\")\n",
    "ax = (df_eda[df_eda[\"y\"]=='yes'][\"education\"].value_counts() * 100 / df_eda[\"education\"].value_counts() ).plot(kind='barh', color=\"C1\", ax=axs[1])\n",
    "\n",
    "axs[0].set_xlabel('Count(Yes) & Total Counts')\n",
    "axs[0].set_ylabel('Education')\n",
    "axs[0].title.set_text('Count of Customers who said Yes & Total Counts ')\n",
    "axs[0].yaxis.set_major_formatter(FormatStrFormatter('%d'))\n",
    "axs[1].yaxis.set_major_formatter(FormatStrFormatter('%d'))\n",
    "axs[1].set_xlabel('Percentage')\n",
    "axs[1].set_ylabel('Education')\n",
    "axs[1].title.set_text('Percentage of Customers (per Education type) who Subscribed')"
   ]
  },
  {
   "cell_type": "markdown",
   "metadata": {
    "id": "_5_iOKxzD4xg"
   },
   "source": [
    "*Conclusion:*\n",
    "\n",
    "*   Surprisingly, the Illiterate category has a higher chance(> 20%) of opting for the Term Deposit."
   ]
  },
  {
   "cell_type": "markdown",
   "metadata": {
    "id": "8qCamx7dEQdF"
   },
   "source": [
    "Next, lets check the numbers on whether the has customer *Defaulted* before or not."
   ]
  },
  {
   "cell_type": "code",
   "execution_count": null,
   "metadata": {
    "id": "nnbCZf28Eo9v",
    "outputId": "43ffffaa-6bcf-4757-8324-f67b616f0789"
   },
   "outputs": [],
   "source": [
    "fig, axs = plt.subplots(1,2, figsize=(13,5))\n",
    "plt.tight_layout(pad=3)\n",
    "\n",
    "ax = df_eda[\"default\"].value_counts().plot(kind='barh', color=\"C3\", ax=axs[0])\n",
    "df_eda[df_eda[\"y\"]=='yes'][\"default\"].value_counts().plot(kind='barh', ax = ax, color=\"C4\")\n",
    "ax = (df_eda[df_eda[\"y\"]=='yes'][\"default\"].value_counts() * 100 / df_eda[\"default\"].value_counts() ).plot(kind='barh', color=\"C3\", ax=axs[1])\n",
    "\n",
    "axs[0].set_xlabel('Count(Yes) & Total Counts')\n",
    "axs[0].set_ylabel('Defaulter Category')\n",
    "axs[0].title.set_text('Count of Customers who said Yes & Total Counts ')\n",
    "axs[0].yaxis.set_major_formatter(FormatStrFormatter('%d'))\n",
    "axs[1].yaxis.set_major_formatter(FormatStrFormatter('%d'))\n",
    "axs[1].set_xlabel('Percentage')\n",
    "axs[1].set_ylabel('Defaulter Category')\n",
    "axs[1].title.set_text('Percentage of Customers (per Defaulter Category) who Subscribed')"
   ]
  },
  {
   "cell_type": "markdown",
   "metadata": {
    "id": "P-1eraaaFoLS"
   },
   "source": [
    "As expected, customers who have not defaulted have a higher probability of taking the Term Deposit. \n",
    "\n",
    "Lets check further,\n",
    "\n",
    "*Housing* Loan is the next attribute."
   ]
  },
  {
   "cell_type": "code",
   "execution_count": null,
   "metadata": {
    "id": "O5vWCRJyGK4e",
    "outputId": "797ba9d1-926d-4bf8-eddb-83b74b2c5987"
   },
   "outputs": [],
   "source": [
    "fig, axs = plt.subplots(1,2, figsize=(13,5))\n",
    "plt.tight_layout(pad=3)\n",
    "\n",
    "ax = df_eda[\"housing\"].value_counts().plot(kind='barh', color=\"C5\", ax=axs[0])\n",
    "df_eda[df_eda[\"y\"]=='yes'][\"housing\"].value_counts().plot(kind='barh', ax = ax, color=\"C6\")\n",
    "ax = (df_eda[df_eda[\"y\"]=='yes'][\"housing\"].value_counts() * 100 / df_eda[\"housing\"].value_counts() ).plot(kind='barh', color=\"C5\", ax=axs[1])\n",
    "\n",
    "axs[0].set_xlabel('Count(Yes) & Total Counts')\n",
    "axs[0].set_ylabel('Housing Loan')\n",
    "axs[0].title.set_text('Count of Customers who said Yes & Total Counts ')\n",
    "axs[0].yaxis.set_major_formatter(FormatStrFormatter('%d'))\n",
    "axs[1].yaxis.set_major_formatter(FormatStrFormatter('%d'))\n",
    "axs[1].set_xlabel('Percentage')\n",
    "axs[1].set_ylabel('Housing Loan')\n",
    "axs[1].title.set_text('Percentage of Customers (per Housing Loan Category) who Subscribed')"
   ]
  },
  {
   "cell_type": "markdown",
   "metadata": {
    "id": "xljiMYFIGDvn"
   },
   "source": [
    "Again, no trend noticed here. \n",
    "\n",
    "Next is Personal *Loan*"
   ]
  },
  {
   "cell_type": "code",
   "execution_count": null,
   "metadata": {
    "id": "IsUEtDpZHDFE",
    "outputId": "c03a79ef-7ce1-44f6-925d-9aef6443ccdf"
   },
   "outputs": [],
   "source": [
    "fig, axs = plt.subplots(1,2, figsize=(13,5))\n",
    "plt.tight_layout(pad=3)\n",
    "\n",
    "ax = df_eda[\"loan\"].value_counts().plot(kind='barh', color=\"C1\", ax=axs[0])\n",
    "df_eda[df_eda[\"y\"]=='yes'][\"loan\"].value_counts().plot(kind='barh', ax = ax, color=\"C2\")\n",
    "ax = (df_eda[df_eda[\"y\"]=='yes'][\"loan\"].value_counts() * 100 / df_eda[\"loan\"].value_counts() ).plot(kind='barh', color=\"C1\", ax=axs[1])\n",
    "\n",
    "axs[0].set_xlabel('Count(Yes) & Total Counts')\n",
    "axs[0].set_ylabel('Personal Loan')\n",
    "axs[0].title.set_text('Count of Customers who said Yes & Total Counts ')\n",
    "axs[0].yaxis.set_major_formatter(FormatStrFormatter('%d'))\n",
    "axs[1].yaxis.set_major_formatter(FormatStrFormatter('%d'))\n",
    "axs[1].set_xlabel('Percentage')\n",
    "axs[1].set_ylabel('Personal Loan')\n",
    "axs[1].title.set_text('Percentage of Customers (per Personal Loan Category) who Subscribed')"
   ]
  },
  {
   "cell_type": "markdown",
   "metadata": {
    "id": "E3XCYL9fHatn"
   },
   "source": [
    "Nothing here. \n",
    "\n",
    "Lets evaluate *Contact* communication type"
   ]
  },
  {
   "cell_type": "code",
   "execution_count": null,
   "metadata": {
    "id": "EYB3yBJkH0v2",
    "outputId": "765f45ea-2e31-4d66-beb1-c2680c73c37e"
   },
   "outputs": [],
   "source": [
    "fig, axs = plt.subplots(1,2, figsize=(13,5))\n",
    "plt.tight_layout(pad=3)\n",
    "\n",
    "ax = df_eda[\"contact\"].value_counts().plot(kind='barh', color=\"C3\", ax=axs[0])\n",
    "df_eda[df_eda[\"y\"]=='yes'][\"contact\"].value_counts().plot(kind='barh', ax = ax, color=\"C4\")\n",
    "ax = (df_eda[df_eda[\"y\"]=='yes'][\"contact\"].value_counts() * 100 / df_eda[\"contact\"].value_counts() ).plot(kind='barh', color=\"C3\", ax=axs[1])\n",
    "\n",
    "axs[0].set_xlabel('Count(Yes) & Total Counts')\n",
    "axs[0].set_ylabel('Contact Communication Type')\n",
    "axs[0].title.set_text('Count of Customers who said Yes & Total Counts ')\n",
    "axs[0].yaxis.set_major_formatter(FormatStrFormatter('%d'))\n",
    "axs[1].yaxis.set_major_formatter(FormatStrFormatter('%d'))\n",
    "axs[1].set_xlabel('Percentage')\n",
    "axs[1].set_ylabel('Contact Communication Type')\n",
    "axs[1].title.set_text('Percentage of Customers (per Contact Communication Type) who Subscribed')"
   ]
  },
  {
   "cell_type": "markdown",
   "metadata": {
    "id": "HR4CujyrILPC"
   },
   "source": [
    "People with a Mobile phone have a higher probability of accepting the offer from the bank."
   ]
  },
  {
   "cell_type": "markdown",
   "metadata": {
    "id": "6Moi9qpfIf-m"
   },
   "source": [
    "Time usually plays an important role with how decisions are made. Lets see how it plays out with this dataset.\n",
    "\n",
    "Lets evaluate the *Month* when the last contact was made."
   ]
  },
  {
   "cell_type": "code",
   "execution_count": null,
   "metadata": {
    "id": "m7hKgPl5Iwha",
    "outputId": "6b1eae3b-8070-44b9-b555-fb607a1543cc"
   },
   "outputs": [],
   "source": [
    "fig, axs = plt.subplots(1,2, figsize=(13,5))\n",
    "plt.tight_layout(pad=3)\n",
    "\n",
    "ax = df_eda[\"month\"].value_counts().plot(kind='barh', color=\"C5\", ax=axs[0])\n",
    "df_eda[df_eda[\"y\"]=='yes'][\"month\"].value_counts().plot(kind='barh', ax = ax, color=\"C6\")\n",
    "ax = (df_eda[df_eda[\"y\"]=='yes'][\"month\"].value_counts() * 100 / df_eda[\"month\"].value_counts() ).plot(kind='barh', color=\"C5\", ax=axs[1])\n",
    "\n",
    "axs[0].set_xlabel('Count(Yes) & Total Counts')\n",
    "axs[0].set_ylabel('Month')\n",
    "axs[0].title.set_text('Count of Customers who said Yes & Total Counts ')\n",
    "axs[0].yaxis.set_major_formatter(FormatStrFormatter('%d'))\n",
    "axs[1].yaxis.set_major_formatter(FormatStrFormatter('%d'))\n",
    "axs[1].set_xlabel('Percentage')\n",
    "axs[1].set_ylabel('Month')\n",
    "axs[1].title.set_text('Percentage of Customers (per Month) who Subscribed')"
   ]
  },
  {
   "cell_type": "markdown",
   "metadata": {
    "id": "Zpl9KMsGJMHt"
   },
   "source": [
    "*Conclusion:*\n",
    "\n",
    "*   Mar, Sep, Dec & Oct where great months for the campaign with a 40% or more probability of customers accepting the marketting offer. It generally seems like the last month of each quarter is a fruitful time for campaigning."
   ]
  },
  {
   "cell_type": "markdown",
   "metadata": {
    "id": "tzfiN9LtJ-Vz"
   },
   "source": [
    "Next is *Day of the Week*"
   ]
  },
  {
   "cell_type": "code",
   "execution_count": null,
   "metadata": {
    "id": "VHOb-hWlKDHu",
    "outputId": "48b5ecd4-f6c8-4d8e-ad9f-a8525ff10f9c"
   },
   "outputs": [],
   "source": [
    "fig, axs = plt.subplots(1,2, figsize=(13,5))\n",
    "plt.tight_layout(pad=3)\n",
    "\n",
    "ax = df_eda[\"day_of_week\"].value_counts().plot(kind='barh', color=\"C1\", ax=axs[0])\n",
    "df_eda[df_eda[\"y\"]=='yes'][\"day_of_week\"].value_counts().plot(kind='barh', ax = ax, color=\"C2\")\n",
    "ax = (df_eda[df_eda[\"y\"]=='yes'][\"day_of_week\"].value_counts() * 100 / df_eda[\"day_of_week\"].value_counts() ).plot(kind='barh', color=\"C1\", ax=axs[1])\n",
    "\n",
    "axs[0].set_xlabel('Count(Yes) & Total Counts')\n",
    "axs[0].set_ylabel('Day_of_week')\n",
    "axs[0].title.set_text('Count of Customers who said Yes & Total Counts ')\n",
    "axs[0].yaxis.set_major_formatter(FormatStrFormatter('%d'))\n",
    "axs[1].yaxis.set_major_formatter(FormatStrFormatter('%d'))\n",
    "axs[1].set_xlabel('Percentage')\n",
    "axs[1].set_ylabel('Day_of_week')\n",
    "axs[1].title.set_text('Percentage of Customers (per Day_of_week) who Subscribed')"
   ]
  },
  {
   "cell_type": "markdown",
   "metadata": {
    "id": "TCmR-yzWKd8t"
   },
   "source": [
    "No trend noticed here. \n",
    "\n",
    "Lets plot *Duration* too"
   ]
  },
  {
   "cell_type": "code",
   "execution_count": null,
   "metadata": {
    "id": "iTz7teG8KsTG",
    "outputId": "d4397187-8efd-41fb-b3d7-6049b9b77e50"
   },
   "outputs": [],
   "source": [
    "ax = df_eda[\"duration\"].value_counts(bins=20).plot(kind='barh', color=\"C3\", figsize=(13,5))\n",
    "df_eda[df_eda[\"y\"]=='yes'][\"duration\"].value_counts(bins=20).plot(kind='barh', ax = ax, color=\"C4\")"
   ]
  },
  {
   "cell_type": "markdown",
   "metadata": {
    "id": "VII5c1XsTXvp"
   },
   "source": [
    "Duration has outliers. Few people had long conversations!"
   ]
  },
  {
   "cell_type": "code",
   "execution_count": null,
   "metadata": {
    "id": "hfCbto79TVQK",
    "outputId": "081c45ae-969a-46d5-db0a-211ea04e530e"
   },
   "outputs": [],
   "source": [
    "sns.boxplot(x=df_eda['duration'])"
   ]
  },
  {
   "cell_type": "markdown",
   "metadata": {
    "id": "YziymE5yK7QN"
   },
   "source": [
    "Campaign styles play an important role in converting a sale or not."
   ]
  },
  {
   "cell_type": "code",
   "execution_count": null,
   "metadata": {
    "id": "OuO44YoBLAuF",
    "outputId": "fd09f111-4a4f-493f-cfbf-d58184733b8b"
   },
   "outputs": [],
   "source": [
    "fig, axs = plt.subplots(1,2, figsize=(13,5))\n",
    "plt.tight_layout(pad=3)\n",
    "\n",
    "ax = df_eda[\"campaign\"].value_counts().plot(kind='barh', color=\"C5\", ax=axs[0])\n",
    "df_eda[df_eda[\"y\"]=='yes'][\"campaign\"].value_counts().plot(kind='barh', ax = ax, color=\"C6\")\n",
    "ax = (df_eda[df_eda[\"y\"]=='yes'][\"campaign\"].value_counts() * 100 / df_eda[\"campaign\"].value_counts() ).plot(kind='barh', color=\"C5\", ax=axs[1])\n",
    "\n",
    "axs[0].set_xlabel('Count(Yes) & Total Counts')\n",
    "axs[0].set_ylabel('Campaign')\n",
    "axs[0].title.set_text('Count of Customers who said Yes & Total Counts ')\n",
    "axs[0].yaxis.set_major_formatter(FormatStrFormatter('%d'))\n",
    "axs[1].yaxis.set_major_formatter(FormatStrFormatter('%d'))\n",
    "axs[1].set_xlabel('Percentage')\n",
    "axs[1].set_ylabel('Campaign')\n",
    "axs[1].title.set_text('Percentage of Customers (per Campaign) who Subscribed')"
   ]
  },
  {
   "cell_type": "markdown",
   "metadata": {
    "id": "9L7CMDU9Lgoc"
   },
   "source": [
    "*Conclusion:*\n",
    "\n",
    "*   Increasing the number of calls to a customer only reduces the chances of him accepting the product. "
   ]
  },
  {
   "cell_type": "markdown",
   "metadata": {
    "id": "n4FO2r9kTv2R"
   },
   "source": [
    "Some campaigns went for too long."
   ]
  },
  {
   "cell_type": "code",
   "execution_count": null,
   "metadata": {
    "id": "CXQsWEcgTrRr",
    "outputId": "a79fd621-ca1b-4bef-a437-362d36797602"
   },
   "outputs": [],
   "source": [
    "sns.boxplot(x=df_eda['campaign'])"
   ]
  },
  {
   "cell_type": "markdown",
   "metadata": {
    "id": "DsNJR3LrLymH"
   },
   "source": [
    "Does prior contact with a customer improve conversions? \n",
    "\n",
    "Lets explore *Previous* attribute\n"
   ]
  },
  {
   "cell_type": "code",
   "execution_count": null,
   "metadata": {
    "id": "iUC1PE65Mk5v",
    "outputId": "cdcba049-ced1-4536-cfd8-4571d54f1b5d"
   },
   "outputs": [],
   "source": [
    "fig, axs = plt.subplots(1,2, figsize=(13,5))\n",
    "plt.tight_layout(pad=3)\n",
    "\n",
    "ax = df_eda[\"previous\"].value_counts().plot(kind='barh', color=\"C1\", ax=axs[0])\n",
    "df_eda[df_eda[\"y\"]=='yes'][\"previous\"].value_counts().plot(kind='barh', ax = ax, color=\"C2\")\n",
    "ax = (df_eda[df_eda[\"y\"]=='yes'][\"previous\"].value_counts() * 100 / df_eda[\"previous\"].value_counts() ).plot(kind='barh', color=\"C1\", ax=axs[1])\n",
    "\n",
    "axs[0].set_xlabel('Count(Yes) & Total Counts')\n",
    "axs[0].set_ylabel('Previous')\n",
    "axs[0].title.set_text('Count of Customers who said Yes & Total Counts ')\n",
    "axs[0].yaxis.set_major_formatter(FormatStrFormatter('%d'))\n",
    "axs[1].yaxis.set_major_formatter(FormatStrFormatter('%d'))\n",
    "axs[1].set_xlabel('Percentage')\n",
    "axs[1].set_ylabel('Previous')\n",
    "axs[1].title.set_text('Percentage of Customers (per Previous Count) who Subscribed')"
   ]
  },
  {
   "cell_type": "markdown",
   "metadata": {
    "id": "rWrgiDxJNExi"
   },
   "source": [
    "*Conclusion:*\n",
    "\n",
    "*   Interestingly, if a customer is contacted atleast a couple of times before a campaign begins, chances of the success of the campaign improve by 50% or more. In some cases upto 70%."
   ]
  },
  {
   "cell_type": "markdown",
   "metadata": {
    "id": "Ht8dov-zN1_D"
   },
   "source": [
    "Does previous marketting campaigns affect the decision in the next campaign ?\n",
    "\n",
    "Lets get an insight on *Poutcome*"
   ]
  },
  {
   "cell_type": "code",
   "execution_count": null,
   "metadata": {
    "id": "u2Us5ZmuN4pr",
    "outputId": "f5e9fb74-77af-4833-85b2-2216f6d980a6"
   },
   "outputs": [],
   "source": [
    "fig, axs = plt.subplots(1,2, figsize=(13,5))\n",
    "plt.tight_layout(pad=3)\n",
    "\n",
    "ax = df_eda[\"poutcome\"].value_counts().plot(kind='barh', color=\"C3\", ax=axs[0])\n",
    "df_eda[df_eda[\"y\"]=='yes'][\"poutcome\"].value_counts().plot(kind='barh', ax = ax, color=\"C4\")\n",
    "ax = (df_eda[df_eda[\"y\"]=='yes'][\"poutcome\"].value_counts() * 100 / df_eda[\"poutcome\"].value_counts() ).plot(kind='barh', color=\"C3\", ax=axs[1])\n",
    "\n",
    "axs[0].set_xlabel('Count(Yes) & Total Counts')\n",
    "axs[0].set_ylabel('Poutcome Type')\n",
    "axs[0].title.set_text('Count of Customers who said Yes & Total Counts ')\n",
    "axs[0].yaxis.set_major_formatter(FormatStrFormatter('%d'))\n",
    "axs[1].yaxis.set_major_formatter(FormatStrFormatter('%d'))\n",
    "axs[1].set_xlabel('Percentage')\n",
    "axs[1].set_ylabel('Poutcome Type')\n",
    "axs[1].title.set_text('Percentage of Customers (per Poutcome Type) who Subscribed')"
   ]
  },
  {
   "cell_type": "markdown",
   "metadata": {
    "id": "TcSjgMbBOsE1"
   },
   "source": [
    "*Conclusion:*\n",
    "\n",
    "*   If the previous campaign was a success with a customer, there is a 60% chance the current campaign will succeed."
   ]
  },
  {
   "cell_type": "markdown",
   "metadata": {
    "id": "N10TWw-bPOov"
   },
   "source": [
    "*Pdays*"
   ]
  },
  {
   "cell_type": "code",
   "execution_count": null,
   "metadata": {
    "id": "LlHMfmdYPRBE",
    "outputId": "e968669f-9cf1-4572-8912-45dc65146cba"
   },
   "outputs": [],
   "source": [
    "fig, axs = plt.subplots(1,2, figsize=(13,5))\n",
    "plt.tight_layout(pad=3)\n",
    "\n",
    "ax = df_eda[\"pdays\"].value_counts().plot(kind='barh', color=\"C5\", ax=axs[0])\n",
    "df_eda[df_eda[\"y\"]=='yes'][\"pdays\"].value_counts().plot(kind='barh', ax = ax, color=\"C6\")\n",
    "ax = (df_eda[df_eda[\"y\"]=='yes'][\"pdays\"].value_counts() * 100 / df_eda[\"pdays\"].value_counts() ).plot(kind='barh', color=\"C5\", ax=axs[1])\n",
    "\n",
    "axs[0].set_xlabel('Count(Yes) & Total Counts')\n",
    "axs[0].set_ylabel('Pdays Count')\n",
    "axs[0].title.set_text('Count of Customers who said Yes & Total Counts ')\n",
    "axs[0].yaxis.set_major_formatter(FormatStrFormatter('%d'))\n",
    "axs[1].yaxis.set_major_formatter(FormatStrFormatter('%d'))\n",
    "axs[1].set_xlabel('Percentage')\n",
    "axs[1].set_ylabel('Pdays Count')\n",
    "axs[1].title.set_text('Percentage of Customers (per Pdays Count) who Subscribed')"
   ]
  },
  {
   "cell_type": "markdown",
   "metadata": {
    "id": "8ByWfVUpPiQu"
   },
   "source": [
    "Atleast a single contact improves the changes of the campaign drastically. Look for Pdays=999 ( which means customer was not contacted before)"
   ]
  },
  {
   "cell_type": "markdown",
   "metadata": {
    "id": "FZFo2EakQOe0"
   },
   "source": [
    "Lets plot \n",
    "*   *emp.var.rate* \n",
    "*   *euribor3m*\n",
    "*   *cons.price.idx*\n",
    "*   *nr.employed*\n",
    "\n"
   ]
  },
  {
   "cell_type": "code",
   "execution_count": null,
   "metadata": {
    "id": "o0XhlVEWQcyN",
    "outputId": "2176e455-4c50-4f2e-ff5c-7e92a343bc10"
   },
   "outputs": [],
   "source": [
    "fig, axs = plt.subplots(1,3, figsize=(13,5))\n",
    "plt.tight_layout()\n",
    "\n",
    "fig.suptitle(\"Percentage of Customers who Subscribed\", fontsize=12)\n",
    "fig.subplots_adjust(top=0.88)\n",
    "ax = (df_eda[df_eda[\"y\"]=='yes'][\"emp.var.rate\"].value_counts() * 100 / df_eda[\"emp.var.rate\"].value_counts() ).plot(kind='barh', color=\"C1\", ax=axs[0])\n",
    "ax = (df_eda[df_eda[\"y\"]=='yes'][\"cons.price.idx\"].value_counts() * 100 / df_eda[\"cons.price.idx\"].value_counts() ).plot(kind='barh', color=\"C2\", ax=axs[1])\n",
    "ax = (df_eda[df_eda[\"y\"]=='yes'][\"nr.employed\"].value_counts() * 100 / df_eda[\"nr.employed\"].value_counts() ).plot(kind='barh', color=\"C4\", ax=axs[2])\n",
    "axs[0].title.set_text('emp.var.rate')\n",
    "axs[1].title.set_text('cons.price.idx')\n",
    "axs[2].title.set_text('per nr.employed')\n",
    "axs[0].yaxis.set_major_formatter(FormatStrFormatter('%d'))\n",
    "axs[1].yaxis.set_major_formatter(FormatStrFormatter('%d'))\n",
    "axs[2].yaxis.set_major_formatter(FormatStrFormatter('%d'))\n",
    "fig.suptitle(\"Percentage of Customers who Subscribed\", fontsize=12)"
   ]
  },
  {
   "cell_type": "markdown",
   "metadata": {
    "id": "RVMUmJvuVMOg"
   },
   "source": [
    "emp.var.rate & cons.price.idx have a certain degree of correlation"
   ]
  },
  {
   "cell_type": "code",
   "execution_count": null,
   "metadata": {
    "id": "dJhL_fEKUxp9",
    "outputId": "7d876296-4056-4fef-d29b-5869c62482cc"
   },
   "outputs": [],
   "source": [
    "plt.scatter(x=df_eda['emp.var.rate'], y=df_eda['cons.price.idx'], alpha=0.5)"
   ]
  },
  {
   "cell_type": "markdown",
   "metadata": {
    "id": "LFN21D4TVNv4"
   },
   "source": [
    "euribor3m & nr.employed too have a correlation"
   ]
  },
  {
   "cell_type": "code",
   "execution_count": null,
   "metadata": {
    "id": "ZEssoStmU--V",
    "outputId": "b38a4101-8e7b-43ec-80a5-6d190637826b"
   },
   "outputs": [],
   "source": [
    "plt.scatter(x=df_eda['euribor3m'], y=df_eda['nr.employed'], alpha=0.5)"
   ]
  },
  {
   "cell_type": "markdown",
   "metadata": {
    "id": "8WCtm0UgVZNO"
   },
   "source": [
    "Correlation can be further explored with df_cat.corr(). I have checked this and there is minimal feature correlation apart from the above two. \n",
    "\n",
    "Lets preprocess the data now."
   ]
  },
  {
   "cell_type": "markdown",
   "metadata": {
    "id": "wADkn-GxCLdm"
   },
   "source": [
    "## DATA PREPROCESSING"
   ]
  },
  {
   "cell_type": "markdown",
   "metadata": {
    "id": "VQ0aW9KZWE4I"
   },
   "source": [
    "We will maintain 2 dataframes, \n",
    "*   one for categorical encoded data \n",
    "*   and another for one-hot-encoded data\n",
    "\n"
   ]
  },
  {
   "cell_type": "code",
   "execution_count": null,
   "metadata": {
    "id": "3jKE7q1zCO-e"
   },
   "outputs": [],
   "source": [
    "df_enc = df_eda.copy()\n",
    "df_cat = df_eda.copy()"
   ]
  },
  {
   "cell_type": "markdown",
   "metadata": {
    "id": "7YUGQqUBCcEl"
   },
   "source": [
    "Setup Categorical dataframe"
   ]
  },
  {
   "cell_type": "code",
   "execution_count": null,
   "metadata": {
    "id": "cxZBHyhsCZYu"
   },
   "outputs": [],
   "source": [
    "df_eda.job = pd.Categorical(df_eda.job)\n",
    "df_cat['job'] = df_eda.job.cat.codes\n",
    "\n",
    "df_eda.marital = pd.Categorical(df_eda.marital)\n",
    "df_cat['marital'] = df_eda.marital.cat.codes\n",
    "\n",
    "df_eda.education = pd.Categorical(df_eda.education)\n",
    "df_cat['education'] = df_eda.education.cat.codes\n",
    "\n",
    "df_eda.default = pd.Categorical(df_eda.default)\n",
    "df_cat['default'] = df_eda.default.cat.codes\n",
    "\n",
    "df_eda.housing = pd.Categorical(df_eda.housing)\n",
    "df_cat['housing'] = df_eda.housing.cat.codes\n",
    "\n",
    "df_eda.loan = pd.Categorical(df_eda.loan)\n",
    "df_cat['loan'] = df_eda.loan.cat.codes\n",
    "\n",
    "df_eda.contact = pd.Categorical(df_eda.contact)\n",
    "df_cat['contact'] = df_eda.contact.cat.codes\n",
    "\n",
    "df_eda.month = pd.Categorical(df_eda.month)\n",
    "df_cat['month'] = df_eda.month.cat.codes\n",
    "\n",
    "df_eda.day_of_week = pd.Categorical(df_eda.day_of_week)\n",
    "df_cat['day_of_week'] = df_eda.day_of_week.cat.codes\n",
    "\n",
    "df_eda.poutcome = pd.Categorical(df_eda.poutcome)\n",
    "df_cat['poutcome'] = df_eda.poutcome.cat.codes\n"
   ]
  },
  {
   "cell_type": "markdown",
   "metadata": {
    "id": "-JmuU986CfS-"
   },
   "source": [
    "Setup One-hot Encoded dataframe"
   ]
  },
  {
   "cell_type": "code",
   "execution_count": null,
   "metadata": {
    "id": "qKiG8GcYCaTc"
   },
   "outputs": [],
   "source": [
    "encoded_jobs = pd.get_dummies(df_eda['job'])\n",
    "df_enc = pd.concat([df_enc, encoded_jobs], axis=1)\n",
    "df_enc.drop(['job'], axis=1, errors='ignore',  inplace=True)\n",
    "df_enc.rename({'unknown': 'unknown_job'}, axis=1, inplace=True)\n",
    "\n",
    "encoded_marital = pd.get_dummies(df_eda['marital'])\n",
    "df_enc = pd.concat([df_enc, encoded_marital], axis=1)\n",
    "df_enc.drop(['marital'], axis=1, errors='ignore',  inplace=True)\n",
    "df_enc.rename({'unknown': 'unknown_marital'}, axis=1, inplace=True)\n",
    "\n",
    "encoded_education = pd.get_dummies(df_eda['education'])\n",
    "df_enc = pd.concat([df_enc, encoded_education], axis=1)\n",
    "df_enc.drop(['education'], axis=1, errors='ignore',  inplace=True)\n",
    "df_enc.rename({'unknown': 'unknown_edu'}, axis=1, inplace=True)\n",
    "\n",
    "encoded_default = pd.get_dummies(df_eda['default'])\n",
    "df_enc = pd.concat([df_enc, encoded_default], axis=1)\n",
    "df_enc.drop(['default'], axis=1, errors='ignore',  inplace=True)\n",
    "df_enc.rename({'unknown': 'unknown_default'}, axis=1, inplace=True)\n",
    "df_enc.rename({'yes': 'yes_default'}, axis=1, inplace=True)\n",
    "df_enc.rename({'no': 'no_default'}, axis=1, inplace=True)\n",
    "\n",
    "encoded_housing = pd.get_dummies(df_eda['housing'])\n",
    "df_enc = pd.concat([df_enc, encoded_housing], axis=1)\n",
    "df_enc.drop(['housing'], axis=1, errors='ignore',  inplace=True)\n",
    "df_enc.rename({'unknown': 'unknown_housing'}, axis=1, inplace=True)\n",
    "df_enc.rename({'yes': 'yes_housing'}, axis=1, inplace=True)\n",
    "df_enc.rename({'no': 'no_housing'}, axis=1, inplace=True)\n",
    "\n",
    "encoded_loan = pd.get_dummies(df_eda['loan'])\n",
    "df_enc = pd.concat([df_enc, encoded_loan], axis=1)\n",
    "df_enc.drop(['loan'], axis=1, errors='ignore',  inplace=True)\n",
    "df_enc.rename({'unknown': 'unknown_loan'}, axis=1, inplace=True)\n",
    "df_enc.rename({'yes': 'yes_loan'}, axis=1, inplace=True)\n",
    "df_enc.rename({'no': 'no_loan'}, axis=1, inplace=True)\n",
    "\n",
    "\n",
    "encoded_contact = pd.get_dummies(df_eda['contact'])\n",
    "df_enc = pd.concat([df_enc, encoded_contact], axis=1)\n",
    "df_enc.drop(['contact'], axis=1, errors='ignore',  inplace=True)\n",
    "\n",
    "encoded_month = pd.get_dummies(df_eda['month'])\n",
    "df_enc = pd.concat([df_enc, encoded_month], axis=1)\n",
    "df_enc.drop(['month'], axis=1, errors='ignore',  inplace=True)\n",
    "\n",
    "encoded_day_of_week = pd.get_dummies(df_eda['day_of_week'])\n",
    "df_enc = pd.concat([df_enc, encoded_day_of_week], axis=1)\n",
    "df_enc.drop(['day_of_week'], axis=1, errors='ignore',  inplace=True)\n",
    "\n",
    "encoded_poutcome = pd.get_dummies(df_eda['poutcome'])\n",
    "df_enc = pd.concat([df_enc, encoded_poutcome], axis=1)\n",
    "df_enc.drop(['poutcome'], axis=1, errors='ignore',  inplace=True)\n",
    "\n",
    "df_eda.y = pd.Categorical(df_eda.y)\n",
    "df_cat['y'] = df_eda.y.cat.codes\n",
    "df_enc['y'] = df_eda.y.cat.codes"
   ]
  },
  {
   "cell_type": "markdown",
   "metadata": {
    "id": "EYO-7ZA3T6dc"
   },
   "source": [
    "How do the features match up for correlation? "
   ]
  },
  {
   "cell_type": "code",
   "execution_count": null,
   "metadata": {
    "id": "QydmsQ_QUAnI",
    "outputId": "159a5282-0bee-49e6-add8-778eb6f061f5"
   },
   "outputs": [],
   "source": [
    "corr = df_cat.corr()# plot the heatmap\n",
    "sns.heatmap(corr, xticklabels=corr.columns, yticklabels=corr.columns)"
   ]
  },
  {
   "cell_type": "code",
   "execution_count": null,
   "metadata": {
    "id": "NWqPo0P5V6jK"
   },
   "outputs": [],
   "source": [
    "y_cat = df_cat['y'].copy()\n",
    "y_enc = df_enc['y'].copy()\n",
    "\n",
    "df_cat.drop(['y'], axis=1, errors='ignore', inplace=True)\n",
    "df_enc.drop(['y'], axis=1, errors='ignore', inplace=True)"
   ]
  },
  {
   "cell_type": "markdown",
   "metadata": {
    "id": "77zsCjZIWAf6"
   },
   "source": [
    "Split data into train and test."
   ]
  },
  {
   "cell_type": "code",
   "execution_count": null,
   "metadata": {
    "id": "jbAeaL5JV_5d"
   },
   "outputs": [],
   "source": [
    "X_cat_train, X_cat_test, y_cat_train, y_cat_test = train_test_split(df_cat, y_cat, stratify=y_cat, test_size=0.25)\n",
    "X_enc_train, X_enc_test, y_enc_train, y_enc_test = train_test_split(df_enc, y_enc, stratify=y_enc, test_size=0.25)"
   ]
  },
  {
   "cell_type": "markdown",
   "metadata": {
    "id": "7PTC4S19WX9K"
   },
   "source": [
    "**SMOTE**\n",
    "\n",
    "Since the data is imbalanced, lets balance it by generating some synthetic data for the minority class. This improves ML Models' scores and performance. \n",
    "\n",
    "The F1 scores for all the models improved by about 2% by introducing SMOTE."
   ]
  },
  {
   "cell_type": "code",
   "execution_count": null,
   "metadata": {
    "id": "3EbpHpF0WuIU",
    "outputId": "33e4c3b6-34af-4aad-9fa3-2163c0fd2b4a"
   },
   "outputs": [],
   "source": [
    "X_enc_train_SMT = X_enc_train.copy()\n",
    "y_enc_train_SMT = y_enc_train.copy()\n",
    "\n",
    "smote_nc = SMOTENC(categorical_features=[10,11,12,13,14,15,16,17,18,19,20,21,22,23,24,25,26,27,28,29,30,31,32,33,34,35,36,37,38,39,40,41,42,43,44,45,46,47,48,49,50,51,52,53,54,55,56,57,58,59,60,61,62], random_state=0)\n",
    "X_enc_train_SMT2, y_enc_train_SMT2 = smote_nc.fit_resample(X_enc_train_SMT, y_enc_train_SMT)\n",
    "\n",
    "X_enc_train = pd.DataFrame(X_enc_train_SMT2, columns=df_enc.columns)\n",
    "y_enc_train = y_enc_train_SMT2"
   ]
  },
  {
   "cell_type": "code",
   "execution_count": null,
   "metadata": {
    "id": "ZkDejoXvWy_3",
    "outputId": "1a90b951-ba16-4fb8-cdb8-958d635db343"
   },
   "outputs": [],
   "source": [
    "X_cat_train_SMT = X_cat_train.copy()\n",
    "y_cat_train_SMT = y_cat_train.copy()\n",
    "\n",
    "smote_nc = SMOTENC(categorical_features=[2, 3, 4, 5, 6, 7, 8, 9], random_state=0)\n",
    "X_cat_train_SMT2, y_cat_train_SMT2 = smote_nc.fit_resample(X_cat_train_SMT, y_cat_train_SMT)\n",
    "\n",
    "X_cat_train = pd.DataFrame(X_cat_train_SMT2, columns=df_cat.columns)\n",
    "y_cat_train = y_cat_train_SMT2"
   ]
  },
  {
   "cell_type": "markdown",
   "metadata": {
    "id": "hFyoAoV3W4uU"
   },
   "source": [
    "**Standardization**\n",
    "\n",
    "Data needs to normaliszed to make it Machine Learn'able. \n",
    "\n",
    "*   We will use MinMaxScaler for all the models except Logistic Regression. All of the remaining models perform well with MinMaxScaler\n",
    "*   For Logistic Regression, StandardScaler is appropriate.\n",
    "\n"
   ]
  },
  {
   "cell_type": "code",
   "execution_count": null,
   "metadata": {
    "id": "qpqBU1NsXjFl",
    "outputId": "920a6ed8-2bd7-45b6-aa47-1b2d9864e120"
   },
   "outputs": [],
   "source": [
    "scaler = MinMaxScaler()\n",
    "X_cat_train[['age', 'duration','pdays','previous','emp.var.rate','cons.price.idx','cons.conf.idx','euribor3m','nr.employed']] = scaler.fit_transform(X_cat_train[['age', 'duration','pdays','previous','emp.var.rate','cons.price.idx','cons.conf.idx','euribor3m','nr.employed']])\n",
    "X_cat_test[['age', 'duration','pdays','previous','emp.var.rate','cons.price.idx','cons.conf.idx','euribor3m','nr.employed']] = scaler.fit_transform(X_cat_test[['age', 'duration','pdays','previous','emp.var.rate','cons.price.idx','cons.conf.idx','euribor3m','nr.employed']])\n",
    "\n",
    "pd.options.mode.chained_assignment = None\n",
    "X_enc_std_train = X_enc_train.copy(deep=True)\n",
    "X_enc_std_test = X_enc_test.copy(deep=True)\n",
    "\n",
    "X_enc_train[['age', 'duration','pdays','previous','emp.var.rate','cons.price.idx','cons.conf.idx','euribor3m','nr.employed']] = scaler.fit_transform(X_enc_train[['age', 'duration','pdays','previous','emp.var.rate','cons.price.idx','cons.conf.idx','euribor3m','nr.employed']])\n",
    "X_enc_test[['age', 'duration','pdays','previous','emp.var.rate','cons.price.idx','cons.conf.idx','euribor3m','nr.employed']] = scaler.fit_transform(X_enc_test[['age', 'duration','pdays','previous','emp.var.rate','cons.price.idx','cons.conf.idx','euribor3m','nr.employed']])\n",
    "\n",
    "scaler2 = StandardScaler()\n",
    "pd.options.mode.chained_assignment = None\n",
    "X_enc_std_train[['age', 'duration','pdays','previous','emp.var.rate','cons.price.idx','cons.conf.idx','euribor3m','nr.employed']] = scaler2.fit_transform(X_enc_std_train[['age', 'duration','pdays','previous','emp.var.rate','cons.price.idx','cons.conf.idx','euribor3m','nr.employed']])\n",
    "X_enc_std_test[['age', 'duration','pdays','previous','emp.var.rate','cons.price.idx','cons.conf.idx','euribor3m','nr.employed']] = scaler2.fit_transform(X_enc_std_test[['age', 'duration','pdays','previous','emp.var.rate','cons.price.idx','cons.conf.idx','euribor3m','nr.employed']])\n"
   ]
  },
  {
   "cell_type": "markdown",
   "metadata": {
    "id": "Zg6fwnXfpnJe"
   },
   "source": [
    "## MODEL EVALUATION\n",
    "\n",
    "\n",
    "---\n",
    "\n",
    "\n",
    "\n",
    "\n",
    "\n",
    "\n",
    "**Hyperparameter Tuning:** To get the best hyperparameters, we will use GridsearchCV for all the models \n",
    "\n",
    "---\n",
    "**Improve Scores** - To improve the F1 Scores / ROC_AUC scores, SMOTE is used to increase the values of minority class for training. This improved the score for each of the models by around 2%\n",
    "\n",
    "---\n",
    "**ROC-AUC / PRAUC Curves** indicate which model performs better than the others.\n",
    "\n",
    "---\n",
    "**Models** - For classification, following models have been considered. \n",
    "\n",
    "*   Gradient Boosted Trees\n",
    "*   XGBosst\n",
    "*   Light GBM\n",
    "*   Logistic Regression\n",
    "*   Support Vector Machines\n",
    "*   Naive Bayes (Gaussian NB)\n",
    "*   KNN\n",
    "*   Neural Networks (Keras/Tensorflow)\n",
    "---\n",
    "**Evaluation Metrics:** The dataset is imbalanced, there are more rows for Label y=NO than there are for y=YES, so accuracy will not be the appropriate pointer for a successful model. F1 score, ROC_AUC, Kappa & PR AUC are the appropriate metrics for a skewed dataset.\n",
    "\n",
    "---\n"
   ]
  },
  {
   "cell_type": "markdown",
   "metadata": {
    "id": "ySowmQ9ceILG"
   },
   "source": [
    "**Round 1 : Grandient Boosted Trees**\n"
   ]
  },
  {
   "cell_type": "markdown",
   "metadata": {
    "id": "LgvXrfC3bG2d"
   },
   "source": [
    "Pull up the best hyperparameters for GBTs"
   ]
  },
  {
   "cell_type": "code",
   "execution_count": null,
   "metadata": {
    "id": "-2KjiveFUem_",
    "outputId": "115d6722-0381-48f8-ac3d-8278d04e0e54"
   },
   "outputs": [],
   "source": [
    "p_test3 = {'learning_rate':[1, 0.50,0.25], 'n_estimators':[70,100], 'max_depth':[3,8,12], \"min_samples_split\": np.linspace(0.1, 0.5, 2, 12),\n",
    "    \"min_samples_leaf\": np.linspace(0.1, 0.5, 1, 12)}\n",
    "\n",
    "\n",
    "tuning = GridSearchCV(estimator =GradientBoostingClassifier(subsample=1,max_features='sqrt', random_state=10), \n",
    "            param_grid = p_test3, scoring='f1',n_jobs=4,iid=False, cv=5)\n",
    "tuning.fit(X_cat_train, y_cat_train)\n",
    "print(tuning.best_params_)\n",
    "print(tuning.score(X_cat_train, y_cat_train))\n",
    "print(tuning.best_score_)"
   ]
  },
  {
   "cell_type": "code",
   "execution_count": null,
   "metadata": {
    "id": "NsDgxeXC3jXS"
   },
   "outputs": [],
   "source": [
    "gb_clf2 = GradientBoostingClassifier(n_estimators=100, learning_rate=0.5, max_features=5, max_depth=8, random_state=0) #0.548 0.72\n",
    "\n",
    "gb_clf2.fit(X_cat_train, y_cat_train)\n",
    "predictions = gb_clf2.predict(X_cat_test)\n",
    "\n",
    "print(\"Confusion Matrix:\")\n",
    "print(confusion_matrix(y_cat_test, predictions))\n",
    "print(\" \")\n",
    "print(\"Classification Report\")\n",
    "print(classification_report(y_cat_test, predictions))\n",
    "print(\" \")\n",
    "print(\"Kappa- \", cohen_kappa_score(y_cat_test, predictions))\n",
    "print(\"F1- \", f1_score(y_cat_test, predictions))\n",
    "print(\"ROC_AUC_score- \", roc_auc_score(y_cat_test, predictions))\n",
    "print(\"PR AUC- \", average_precision_score(y_cat_test, predictions))\n",
    "\n",
    "print(\" \")\n",
    "fig, (ax1, ax2) = plt.subplots(1, 2, figsize=(13,5))\n",
    "fig.tight_layout()\n",
    "\n",
    "fpr, tpr, threshold = metrics.roc_curve(y_cat_test, predictions)\n",
    "roc_auc = metrics.auc(fpr, tpr)\n",
    "ax1.set_title('Receiver Operating Characteristic')\n",
    "ax1.plot(fpr, tpr, 'b', label = 'AUC = %0.2f' % roc_auc)\n",
    "ax1.legend(loc = 'lower right')\n",
    "ax1.plot([0, 1], [0, 1],'r--')\n",
    "ax1.set_xlim([0, 1])\n",
    "ax1.set_ylim([0, 1])\n",
    "ax1.set_ylabel('True Positive Rate')\n",
    "ax1.set_xlabel('False Positive Rate')\n",
    "\n",
    "lr_precision, lr_recall, _ = metrics.precision_recall_curve(y_cat_test, predictions)\n",
    "ax2.set_title('Precision-Recall AUC Curve')\n",
    "ax2.plot(lr_recall, lr_precision, marker='.')\n",
    "ax2.set_xlabel('Recall')\n",
    "ax2.set_ylabel('Precision')\n",
    "ax2.set_xlim([0, 1])\n",
    "ax2.set_ylim([0, 1])\n",
    "\n",
    "plt.show()"
   ]
  },
  {
   "cell_type": "markdown",
   "metadata": {
    "id": "HBP_LSQB4LMs"
   },
   "source": [
    "**Round 2 :  XGBoost**\n"
   ]
  },
  {
   "cell_type": "markdown",
   "metadata": {
    "id": "7s7tPn51KV_v"
   },
   "source": [
    "use categorical dataframe"
   ]
  },
  {
   "cell_type": "code",
   "execution_count": null,
   "metadata": {
    "id": "LkZkDgv2kvgO"
   },
   "outputs": [],
   "source": [
    "xgb = XGBClassifier(learning_rate=0.02, n_estimators=100, objective='binary:logistic',\n",
    "                    silent=True, nthread=1)\n",
    "\n",
    "params = {\n",
    "        'min_child_weight': [1, 5, 10],\n",
    "        'gamma': [0.5, 1, 1.5, 2, 5],\n",
    "        'subsample': [0.6, 0.8, 1.0],\n",
    "        'colsample_bytree': [0.6, 0.8, 1.0],\n",
    "        'max_depth': [3, 4, 5]\n",
    "        }"
   ]
  },
  {
   "cell_type": "code",
   "execution_count": null,
   "metadata": {
    "id": "tENm3XzrlBsb"
   },
   "outputs": [],
   "source": [
    "folds = 3\n",
    "param_comb = 5\n",
    "\n",
    "skf = StratifiedKFold(n_splits=folds, shuffle = True, random_state = 1001)\n",
    "\n",
    "random_search = RandomizedSearchCV(xgb, param_distributions=params, n_iter=param_comb, scoring='f1', n_jobs=4, cv=skf.split(X_cat_train, y_cat_train), verbose=3, random_state=1001 )\n",
    "\n",
    "random_search.fit(X_cat_train, y_cat_train)\n"
   ]
  },
  {
   "cell_type": "code",
   "execution_count": null,
   "metadata": {
    "id": "FbopK85mm6SZ"
   },
   "outputs": [],
   "source": [
    "print(random_search.best_params_)\n",
    "print(random_search.score(X_cat_train, y_cat_train))\n",
    "print(random_search.best_score_)"
   ]
  },
  {
   "cell_type": "code",
   "execution_count": null,
   "metadata": {
    "id": "zP1SW6va3T1B"
   },
   "outputs": [],
   "source": [
    "xgb_clf = XGBClassifier(subsample=0.8, min_child_weight=1, max_depth=4, gamma=1, colsample_bytree=1.0) #0.53 0.70\n",
    "\n",
    "xgb_clf.fit(X_cat_train, y_cat_train)"
   ]
  },
  {
   "cell_type": "code",
   "execution_count": null,
   "metadata": {
    "id": "w4bmifv84vyB"
   },
   "outputs": [],
   "source": [
    "predictions = xgb_clf.predict(X_cat_test)\n",
    "\n",
    "print(\"Confusion Matrix:\")\n",
    "print(confusion_matrix(y_cat_test, predictions))\n",
    "\n",
    "print(\"Classification Report\")\n",
    "print(classification_report(y_cat_test, predictions))\n",
    "\n",
    "print(\"Kappa- \", cohen_kappa_score(y_cat_test, predictions))\n",
    "print(\"F1- \", f1_score(y_cat_test, predictions))\n",
    "print(\"ROC_AUC_score- \", roc_auc_score(y_cat_test, predictions))\n",
    "print(\"PR AUC- \", average_precision_score(y_cat_test, predictions))\n",
    "\n",
    "print(\" \")\n",
    "fig, (ax1, ax2) = plt.subplots(1, 2, figsize=(13,5))\n",
    "fig.tight_layout()\n",
    "\n",
    "fpr, tpr, threshold = metrics.roc_curve(y_cat_test, predictions)\n",
    "roc_auc = metrics.auc(fpr, tpr)\n",
    "ax1.set_title('Receiver Operating Characteristic')\n",
    "ax1.plot(fpr, tpr, 'b', label = 'AUC = %0.2f' % roc_auc)\n",
    "ax1.legend(loc = 'lower right')\n",
    "ax1.plot([0, 1], [0, 1],'r--')\n",
    "ax1.set_xlim([0, 1])\n",
    "ax1.set_ylim([0, 1])\n",
    "ax1.set_ylabel('True Positive Rate')\n",
    "ax1.set_xlabel('False Positive Rate')\n",
    "\n",
    "lr_precision, lr_recall, _ = metrics.precision_recall_curve(y_cat_test, predictions)\n",
    "ax2.set_title('Precision-Recall AUC Curve')\n",
    "ax2.plot(lr_recall, lr_precision, marker='.')\n",
    "ax2.set_xlabel('Recall')\n",
    "ax2.set_ylabel('Precision')\n",
    "ax2.set_xlim([0, 1])\n",
    "ax2.set_ylim([0, 1])\n",
    "\n",
    "plt.show()"
   ]
  },
  {
   "cell_type": "code",
   "execution_count": null,
   "metadata": {
    "id": "940d4UHO4jR8"
   },
   "outputs": [],
   "source": [
    "score = xgb_clf.score(X_cat_test, y_cat_test)\n",
    "print(score)"
   ]
  },
  {
   "cell_type": "markdown",
   "metadata": {
    "id": "W4GvnATPDBbc"
   },
   "source": [
    "**Round 3 : Logistic Regression**"
   ]
  },
  {
   "cell_type": "markdown",
   "metadata": {
    "id": "j3IBsaHOKODP"
   },
   "source": [
    "use one hot encoded dataframe"
   ]
  },
  {
   "cell_type": "code",
   "execution_count": null,
   "metadata": {
    "id": "ikFvUQLUK7Cu"
   },
   "outputs": [],
   "source": [
    "logreg=LogisticRegression()\n",
    "grid={\"C\":np.logspace(-3,3,7), \"penalty\":[\"l2\"], 'max_iter':[10000]}\n",
    "\n",
    "logreg_cv=GridSearchCV(logreg,grid,scoring='f1', cv=10)\n",
    "logreg_cv.fit(X_enc_std_train,y_enc_train)\n",
    "\n",
    "print(\"tuned hpyerparameters :(best parameters) \",logreg_cv.best_params_)\n",
    "print(\"accuracy :\",logreg_cv.best_score_)\n",
    "\n",
    "print(logreg_cv.best_params_)\n",
    "print(logreg_cv.score(X_enc_std_train,y_enc_train))\n",
    "print(logreg_cv.best_score_)\n"
   ]
  },
  {
   "cell_type": "code",
   "execution_count": null,
   "metadata": {
    "id": "BcXvHMhdLCqG"
   },
   "outputs": [],
   "source": [
    "logreg2=LogisticRegression(C=100,penalty=\"l2\", max_iter=10000) #0.60 0.77 , solver='liblinear'\n",
    "logreg2.fit(X_enc_train,y_enc_train)\n",
    "print(\"score\",logreg2.score(X_enc_test,y_enc_test))"
   ]
  },
  {
   "cell_type": "code",
   "execution_count": null,
   "metadata": {
    "id": "oZk39pnxIkPW"
   },
   "outputs": [],
   "source": [
    "predictions = logreg2.predict(X_enc_test)\n",
    "\n",
    "print(\"Confusion Matrix:\")\n",
    "print(confusion_matrix(y_enc_test, predictions))\n",
    "\n",
    "print(\"Classification Report\")\n",
    "print(classification_report(y_enc_test, predictions))\n",
    "\n",
    "print(\"Kappa- \", cohen_kappa_score(y_enc_test, predictions))\n",
    "print(\"F1- \", f1_score(y_enc_test, predictions))\n",
    "print(\"ROC_AUC_score- \", roc_auc_score(y_enc_test, predictions))\n",
    "print(\"PR AUC- \", average_precision_score(y_enc_test, predictions))\n",
    "\n",
    "\n",
    "print(\" \")\n",
    "fig, (ax1, ax2) = plt.subplots(1, 2, figsize=(13,5))\n",
    "fig.tight_layout()\n",
    "\n",
    "fpr, tpr, threshold = metrics.roc_curve(y_enc_test, predictions)\n",
    "roc_auc = metrics.auc(fpr, tpr)\n",
    "ax1.set_title('Receiver Operating Characteristic')\n",
    "ax1.plot(fpr, tpr, 'b', label = 'AUC = %0.2f' % roc_auc)\n",
    "ax1.legend(loc = 'lower right')\n",
    "ax1.plot([0, 1], [0, 1],'r--')\n",
    "ax1.set_xlim([0, 1])\n",
    "ax1.set_ylim([0, 1])\n",
    "ax1.set_ylabel('True Positive Rate')\n",
    "ax1.set_xlabel('False Positive Rate')\n",
    "\n",
    "lr_precision, lr_recall, _ = metrics.precision_recall_curve(y_enc_test, predictions)\n",
    "ax2.set_title('Precision-Recall AUC Curve')\n",
    "ax2.plot(lr_recall, lr_precision, marker='.')\n",
    "ax2.set_xlabel('Recall')\n",
    "ax2.set_ylabel('Precision')\n",
    "ax2.set_xlim([0, 1])\n",
    "ax2.set_ylim([0, 1])\n",
    "\n",
    "plt.show()"
   ]
  },
  {
   "cell_type": "markdown",
   "metadata": {
    "id": "wkIpYzu6yCQH"
   },
   "source": [
    "**Round 4 : Light GBM**"
   ]
  },
  {
   "cell_type": "code",
   "execution_count": null,
   "metadata": {
    "id": "KkzvEnR5yGZX"
   },
   "outputs": [],
   "source": [
    "lgbm=LGBMClassifier()\n",
    "lgbm.fit(X_cat_train,y_cat_train)\n",
    "print(\"score\",lgbm.score(X_cat_test,y_cat_test))"
   ]
  },
  {
   "cell_type": "code",
   "execution_count": null,
   "metadata": {
    "id": "RrnOE9AN0buj"
   },
   "outputs": [],
   "source": [
    "predictions = lgbm.predict(X_cat_test)\n",
    "\n",
    "print(\"Confusion Matrix:\")\n",
    "print(confusion_matrix(y_cat_test, predictions))\n",
    "\n",
    "print(\"Classification Report\")\n",
    "print(classification_report(y_cat_test, predictions))\n",
    "\n",
    "print(\"Kappa- \", cohen_kappa_score(y_cat_test, predictions))\n",
    "print(\"F1- \", f1_score(y_cat_test, predictions))\n",
    "print(\"ROC_AUC_score- \", roc_auc_score(y_cat_test, predictions))\n",
    "print(\"PR AUC- \", average_precision_score(y_cat_test, predictions))\n",
    "\n",
    "\n",
    "print(\" \")\n",
    "fig, (ax1, ax2) = plt.subplots(1, 2, figsize=(13,5))\n",
    "fig.tight_layout()\n",
    "\n",
    "fpr, tpr, threshold = metrics.roc_curve(y_cat_test, predictions)\n",
    "roc_auc = metrics.auc(fpr, tpr)\n",
    "ax1.set_title('Receiver Operating Characteristic')\n",
    "ax1.plot(fpr, tpr, 'b', label = 'AUC = %0.2f' % roc_auc)\n",
    "ax1.legend(loc = 'lower right')\n",
    "ax1.plot([0, 1], [0, 1],'r--')\n",
    "ax1.set_xlim([0, 1])\n",
    "ax1.set_ylim([0, 1])\n",
    "ax1.set_ylabel('True Positive Rate')\n",
    "ax1.set_xlabel('False Positive Rate')\n",
    "\n",
    "lr_precision, lr_recall, _ = metrics.precision_recall_curve(y_cat_test, predictions)\n",
    "ax2.set_title('Precision-Recall AUC Curve')\n",
    "ax2.plot(lr_recall, lr_precision, marker='.')\n",
    "ax2.set_xlabel('Recall')\n",
    "ax2.set_ylabel('Precision')\n",
    "ax2.set_xlim([0, 1])\n",
    "ax2.set_ylim([0, 1])\n",
    "\n",
    "plt.show()"
   ]
  },
  {
   "cell_type": "markdown",
   "metadata": {
    "id": "NCXkfJDfIyZl"
   },
   "source": [
    "**Round 5 : Naive Bayes**"
   ]
  },
  {
   "cell_type": "markdown",
   "metadata": {
    "id": "qJnkaNjPKsXR"
   },
   "source": [
    "uses one hot encoded data"
   ]
  },
  {
   "cell_type": "code",
   "execution_count": null,
   "metadata": {
    "id": "pMoqpMOsHXre"
   },
   "outputs": [],
   "source": [
    "skf = StratifiedKFold(n_splits=10)\n",
    "params = {}\n",
    "\n",
    "nb = GaussianNB() \n",
    "gs = GridSearchCV(nb, cv=skf, param_grid=params, scoring='f1', return_train_score=True)\n",
    "gs.fit(X_enc_train, y_enc_train)\n",
    "\n",
    "print(\"tuned hpyerparameters :(best parameters) \",logreg_cv.best_params_)\n",
    "print(\"accuracy :\",gs.best_score_)\n",
    "\n",
    "print(gs.best_params_)\n",
    "print(gs.score(X_enc_train,y_enc_train))\n",
    "print(gs.best_score_)"
   ]
  },
  {
   "cell_type": "code",
   "execution_count": null,
   "metadata": {
    "id": "IfqlmZAFI4-9"
   },
   "outputs": [],
   "source": [
    "gnb = GaussianNB() \n",
    "\n",
    "gnb.fit(X_enc_train, y_enc_train)\n",
    "\n",
    "predictions = gnb.predict(X_enc_test)"
   ]
  },
  {
   "cell_type": "code",
   "execution_count": null,
   "metadata": {
    "id": "cdyTdI0uLKcs"
   },
   "outputs": [],
   "source": [
    "print(\"Accuracy:\",metrics.accuracy_score(y_enc_test, predictions))\n",
    "\n",
    "print(\"Confusion Matrix:\")\n",
    "print(confusion_matrix(y_enc_test, predictions))\n",
    "\n",
    "print(\"Classification Report\")\n",
    "print(classification_report(y_enc_test, predictions))\n",
    "\n",
    "print(\"Kappa- \", cohen_kappa_score(y_enc_test, predictions))\n",
    "print(\"F1- \", f1_score(y_enc_test, predictions))\n",
    "print(\"ROC_AUC_score- \", roc_auc_score(y_enc_test, predictions))\n",
    "print(\"PR AUC- \", average_precision_score(y_enc_test, predictions))\n",
    "\n",
    "\n",
    "print(\" \")\n",
    "fig, (ax1, ax2) = plt.subplots(1, 2, figsize=(13,5))\n",
    "fig.tight_layout()\n",
    "\n",
    "fpr, tpr, threshold = metrics.roc_curve(y_enc_test, predictions)\n",
    "roc_auc = metrics.auc(fpr, tpr)\n",
    "ax1.set_title('Receiver Operating Characteristic')\n",
    "ax1.plot(fpr, tpr, 'b', label = 'AUC = %0.2f' % roc_auc)\n",
    "ax1.legend(loc = 'lower right')\n",
    "ax1.plot([0, 1], [0, 1],'r--')\n",
    "ax1.set_xlim([0, 1])\n",
    "ax1.set_ylim([0, 1])\n",
    "ax1.set_ylabel('True Positive Rate')\n",
    "ax1.set_xlabel('False Positive Rate')\n",
    "\n",
    "lr_precision, lr_recall, _ = metrics.precision_recall_curve(y_enc_test, predictions)\n",
    "ax2.set_title('Precision-Recall AUC Curve')\n",
    "ax2.plot(lr_recall, lr_precision, marker='.')\n",
    "ax2.set_xlabel('Recall')\n",
    "ax2.set_ylabel('Precision')\n",
    "ax2.set_xlim([0, 1])\n",
    "ax2.set_ylim([0, 1])\n",
    "\n",
    "plt.show()"
   ]
  },
  {
   "cell_type": "markdown",
   "metadata": {
    "id": "GWHvsdLLN8HH"
   },
   "source": [
    "**Round 6 : Support Vector Machines**"
   ]
  },
  {
   "cell_type": "markdown",
   "metadata": {
    "id": "g6a1rsXsO5Vk"
   },
   "source": [
    "accepts categorical data\n"
   ]
  },
  {
   "cell_type": "code",
   "execution_count": null,
   "metadata": {
    "id": "Cbx1j1kcj0RA"
   },
   "outputs": [],
   "source": [
    "tuned_parameters = [{'kernel': ['rbf'], 'gamma': [0.1],\n",
    "                     'C': [1]},\n",
    "                    {'kernel': ['linear'], 'C': [1]}]\n",
    "\n",
    "clf = GridSearchCV(SVC(), tuned_parameters, cv=5, scoring='precision')\n",
    "clf.fit(X_cat_train, y_cat_train)\n",
    "\n",
    "print('The best model is: ', clf.best_params_)\n",
    "print('Mean cross-validated score (precision) of', clf.best_score_)"
   ]
  },
  {
   "cell_type": "code",
   "execution_count": null,
   "metadata": {
    "id": "T8RKl1VMN_Wf"
   },
   "outputs": [],
   "source": [
    "clf = svm.SVC(kernel='linear') \n",
    "\n",
    "clf.fit(X_cat_train, y_cat_train)\n",
    "\n",
    "predictions = clf.predict(X_cat_test)"
   ]
  },
  {
   "cell_type": "code",
   "execution_count": null,
   "metadata": {
    "id": "UunGnPJyO0L5"
   },
   "outputs": [],
   "source": [
    "print(\"Accuracy:\",metrics.accuracy_score(y_cat_test, predictions))\n",
    "\n",
    "print(\"Confusion Matrix:\")\n",
    "print(confusion_matrix(y_cat_test, predictions))\n",
    "\n",
    "print(\"Classification Report\")\n",
    "print(classification_report(y_cat_test, predictions))\n",
    "\n",
    "print(\"Kappa- \", cohen_kappa_score(y_cat_test, predictions))\n",
    "print(\"F1- \", f1_score(y_cat_test, predictions))\n",
    "print(\"ROC_AUC_score- \", roc_auc_score(y_cat_test, predictions))\n",
    "print(\"PR AUC- \", average_precision_score(y_cat_test, predictions))\n",
    "\n",
    "\n",
    "print(\" \")\n",
    "fig, (ax1, ax2) = plt.subplots(1, 2, figsize=(13,5))\n",
    "fig.tight_layout()\n",
    "\n",
    "fpr, tpr, threshold = metrics.roc_curve(y_cat_test, predictions)\n",
    "roc_auc = metrics.auc(fpr, tpr)\n",
    "ax1.set_title('Receiver Operating Characteristic')\n",
    "ax1.plot(fpr, tpr, 'b', label = 'AUC = %0.2f' % roc_auc)\n",
    "ax1.legend(loc = 'lower right')\n",
    "ax1.plot([0, 1], [0, 1],'r--')\n",
    "ax1.set_xlim([0, 1])\n",
    "ax1.set_ylim([0, 1])\n",
    "ax1.set_ylabel('True Positive Rate')\n",
    "ax1.set_xlabel('False Positive Rate')\n",
    "\n",
    "lr_precision, lr_recall, _ = metrics.precision_recall_curve(y_cat_test, predictions)\n",
    "ax2.set_title('Precision-Recall AUC Curve')\n",
    "ax2.plot(lr_recall, lr_precision, marker='.')\n",
    "ax2.set_xlabel('Recall')\n",
    "ax2.set_ylabel('Precision')\n",
    "ax2.set_xlim([0, 1])\n",
    "ax2.set_ylim([0, 1])\n",
    "\n",
    "plt.show()"
   ]
  },
  {
   "cell_type": "markdown",
   "metadata": {
    "id": "-DOc3_jy1N3T"
   },
   "source": [
    "**Round 7 : KNN**"
   ]
  },
  {
   "cell_type": "code",
   "execution_count": null,
   "metadata": {
    "id": "Nn73j1ro1SiY"
   },
   "outputs": [],
   "source": [
    "neighbors = np.arange(1,19)\n",
    "train_accuracy =np.empty(len(neighbors))\n",
    "test_accuracy = np.empty(len(neighbors))\n",
    "\n",
    "for i,k in enumerate(neighbors):\n",
    "    knn = KNeighborsClassifier(n_neighbors=k)\n",
    "    \n",
    "    knn.fit(X_cat_train, y_cat_train)\n",
    "    \n",
    "    train_accuracy[i] = knn.score(X_cat_train, y_cat_train)\n",
    "    \n",
    "    test_accuracy[i] = knn.score(X_cat_test, y_cat_test) "
   ]
  },
  {
   "cell_type": "code",
   "execution_count": null,
   "metadata": {
    "id": "p_oiXxHj2Eby"
   },
   "outputs": [],
   "source": [
    "plt.title('k-NN Varying number of neighbors')\n",
    "plt.plot(neighbors, test_accuracy, label='Testing Accuracy')\n",
    "plt.plot(neighbors, train_accuracy, label='Training accuracy')\n",
    "plt.legend()\n",
    "plt.xlabel('Number of neighbors')\n",
    "plt.ylabel('Accuracy')\n",
    "plt.show()"
   ]
  },
  {
   "cell_type": "code",
   "execution_count": null,
   "metadata": {
    "id": "J6iokCQ-2JHn"
   },
   "outputs": [],
   "source": [
    "knn = KNeighborsClassifier(n_neighbors=5)\n",
    "knn.fit(X_cat_train, y_cat_train)\n",
    "predictions = knn.predict(X_cat_test)\n",
    "\n",
    "print(\"Accuracy:\",metrics.accuracy_score(y_cat_test, predictions))\n",
    "\n",
    "print(\"Confusion Matrix:\")\n",
    "print(confusion_matrix(y_cat_test, predictions))\n",
    "\n",
    "print(\"Classification Report\")\n",
    "print(classification_report(y_cat_test, predictions))\n",
    "\n",
    "print(\"Kappa- \", cohen_kappa_score(y_cat_test, predictions))\n",
    "print(\"F1- \", f1_score(y_cat_test, predictions))\n",
    "print(\"ROC_AUC_score- \", roc_auc_score(y_cat_test, predictions))\n",
    "print(\"PR AUC- \", average_precision_score(y_cat_test, predictions))\n",
    "\n",
    "print(\" \")\n",
    "fig, (ax1, ax2) = plt.subplots(1, 2, figsize=(13,5))\n",
    "fig.tight_layout()\n",
    "\n",
    "fpr, tpr, threshold = metrics.roc_curve(y_cat_test, predictions)\n",
    "roc_auc = metrics.auc(fpr, tpr)\n",
    "ax1.set_title('Receiver Operating Characteristic')\n",
    "ax1.plot(fpr, tpr, 'b', label = 'AUC = %0.2f' % roc_auc)\n",
    "ax1.legend(loc = 'lower right')\n",
    "ax1.plot([0, 1], [0, 1],'r--')\n",
    "ax1.set_xlim([0, 1])\n",
    "ax1.set_ylim([0, 1])\n",
    "ax1.set_ylabel('True Positive Rate')\n",
    "ax1.set_xlabel('False Positive Rate')\n",
    "\n",
    "lr_precision, lr_recall, _ = metrics.precision_recall_curve(y_cat_test, predictions)\n",
    "ax2.set_title('Precision-Recall AUC Curve')\n",
    "ax2.plot(lr_recall, lr_precision, marker='.')\n",
    "ax2.set_xlabel('Recall')\n",
    "ax2.set_ylabel('Precision')\n",
    "ax2.set_xlim([0, 1])\n",
    "ax2.set_ylim([0, 1])\n",
    "\n",
    "plt.show()"
   ]
  },
  {
   "cell_type": "markdown",
   "metadata": {
    "id": "GFL6BIg22_WZ"
   },
   "source": [
    "**Round 8 : Deep Learning**"
   ]
  },
  {
   "cell_type": "code",
   "execution_count": null,
   "metadata": {
    "id": "m8FnLLcS6L5q",
    "outputId": "b156e527-127e-4845-d0e2-b93d5dbacd2d"
   },
   "outputs": [],
   "source": [
    "def create_model():\n",
    "  model = keras.Sequential([\n",
    "    keras.layers.Flatten(input_shape=(63,)),\n",
    "    tf.keras.layers.BatchNormalization(),\n",
    "    keras.layers.Dense(64, activation='relu'),\n",
    "    keras.layers.Dense(16, activation='relu'),\n",
    "    keras.layers.Dropout(0.2),\n",
    "    keras.layers.Dense(1, activation='sigmoid')\n",
    "  ])\n",
    "  model.compile(loss='binary_crossentropy', optimizer='adam', metrics=['accuracy'])\n",
    "  return model\n",
    "\n",
    "model = KerasClassifier(build_fn=create_model, verbose=0)\n",
    "\n",
    "# define the grid search parameters\n",
    "batch_size = [100, 150]\n",
    "epochs = [10]\n",
    "param_grid = dict(batch_size=batch_size, epochs=epochs)\n",
    "\n",
    "grid = GridSearchCV(estimator=model, param_grid=param_grid, n_jobs=-1, cv=3)\n",
    "grid_result = grid.fit(X_enc_train, y_enc_train)\n",
    "# summarize results\n",
    "print(\"Best: %f using %s\" % (grid_result.best_score_, grid_result.best_params_))"
   ]
  },
  {
   "cell_type": "code",
   "execution_count": null,
   "metadata": {
    "id": "9wY9X90U29tX",
    "outputId": "c42fb786-7d90-42e6-f15e-334d872df1eb"
   },
   "outputs": [],
   "source": [
    "\n",
    "model = keras.Sequential([\n",
    "    keras.layers.Flatten(input_shape=(63,)),\n",
    "    keras.layers.Dense(64, activation='relu'),\n",
    "    keras.layers.Dense(16, activation='relu'),\n",
    "    keras.layers.Dense(1, activation='sigmoid')\n",
    "])\n",
    "\n",
    "model.compile(optimizer='adam',\n",
    "              loss=tf.keras.losses.BinaryCrossentropy(), #from_logits=True\n",
    "              metrics=['AUC'])\n",
    "\n",
    "model.summary()\n",
    "\n",
    "history = model.fit(X_enc_train, y_enc_train, epochs=10)\n",
    "\n",
    "test_loss, test_acc = model.evaluate(X_enc_test, y_enc_test, verbose=0)\n",
    "predictions = model.predict(X_enc_test)\n",
    "\n",
    "predictions[predictions>0.5] = 1\n",
    "predictions[predictions<=0.5] = 0"
   ]
  },
  {
   "cell_type": "code",
   "execution_count": null,
   "metadata": {
    "id": "ltsuR_e16Krb",
    "outputId": "0df3bbe6-d133-4419-92f0-db96bb6fa0ef"
   },
   "outputs": [],
   "source": [
    "print(\"Accuracy:\",metrics.accuracy_score(y_enc_test, predictions))\n",
    "\n",
    "print(\"Confusion Matrix:\")\n",
    "print(confusion_matrix(y_enc_test, predictions))\n",
    "\n",
    "print(\"Classification Report\")\n",
    "print(classification_report(y_enc_test, predictions))\n",
    "\n",
    "print(\"Kappa- \", cohen_kappa_score(y_enc_test, predictions))\n",
    "print(\"F1- \", f1_score(y_enc_test, predictions))\n",
    "print(\"ROC_AUC_score- \", roc_auc_score(y_enc_test, predictions))\n",
    "print(\"PR AUC- \", average_precision_score(y_enc_test, predictions))\n",
    "\n",
    "print(\" \")\n",
    "fig, (ax1, ax2) = plt.subplots(1, 2, figsize=(13,5))\n",
    "fig.tight_layout()\n",
    "\n",
    "fpr, tpr, threshold = metrics.roc_curve(y_enc_test, predictions)\n",
    "roc_auc = metrics.auc(fpr, tpr)\n",
    "ax1.set_title('Receiver Operating Characteristic')\n",
    "ax1.plot(fpr, tpr, 'b', label = 'AUC = %0.2f' % roc_auc)\n",
    "ax1.legend(loc = 'lower right')\n",
    "ax1.plot([0, 1], [0, 1],'r--')\n",
    "ax1.set_xlim([0, 1])\n",
    "ax1.set_ylim([0, 1])\n",
    "ax1.set_ylabel('True Positive Rate')\n",
    "ax1.set_xlabel('False Positive Rate')\n",
    "\n",
    "lr_precision, lr_recall, _ = metrics.precision_recall_curve(y_enc_test, predictions)\n",
    "ax2.set_title('Precision-Recall AUC Curve')\n",
    "ax2.plot(lr_recall, lr_precision, marker='.')\n",
    "ax2.set_xlabel('Recall')\n",
    "ax2.set_ylabel('Precision')\n",
    "ax2.set_xlim([0, 1])\n",
    "ax2.set_ylim([0, 1])\n",
    "\n",
    "plt.show()"
   ]
  },
  {
   "cell_type": "markdown",
   "metadata": {
    "id": "Ia0tNyYDsna2"
   },
   "source": [
    "## MODEL PERFORMANCE REPORT"
   ]
  },
  {
   "cell_type": "markdown",
   "metadata": {},
   "source": [
    "| ML MODEL  | F1 SCORE  | ROC AUC  | KAPPA  | PR AUC  |\n",
    "|---|---|---|---|---|\n",
    "| Grandient Boosted Trees  | 0.57  | 0.78  | 0.51  | 0.37  |\n",
    "| XGBoost  | 0.61  | 0.83  | 0.54  | 0.41  |\n",
    "| Logistic Regression  | 0.59  | 0.76  | 0.54  | 0.40  |\n",
    "| Light GBM  | 0.62  | 0.85  | 0.56  | 0.43  |\n",
    "| Naive Bayes (GaussianNB)  | 0.32  | 0.66  | 0.19  | 0.17  |\n",
    "| Support Vector Machines  | 0.54  | 0.85  | 0.45  | 0.35  |\n",
    "| KNN  | 0.39  | 0.69  | 0.28  | 0.21  |\n",
    "| Neural Networks  | 0.58  | 0.77  | 0.52  | 0.38  |\n"
   ]
  },
  {
   "cell_type": "markdown",
   "metadata": {
    "id": "gfNQIn1tpqj0"
   },
   "source": [
    "## CONCLUSIONS\n",
    "\n",
    "\n",
    "---\n",
    "\n",
    "**Important Conclusions** - \n",
    "*   Interestingly, if a customer is contacted atleast a couple of times before a campaign begins, chances of the success of the campaign improve by 50% or more. In some cases upto 70%.\n",
    "*   Customers above the age of 73 have a 50% chance of saying YES.\n",
    "*   If the previous campaign was a success with a customer, there is a 60% chance the current campaign will succeed.\n",
    "\n",
    "---\n",
    "\n",
    "Here is the **consolidated list** of other conclusions derived from the analysis done earlier.\n",
    "\n",
    "*   Any customer above the age of 60 has atleast a 40% chance of subscribing for the Bank Term Deposit.\n",
    "*   Students and Retired customers have a good chance(> 25%) of creating a Fixed Deposit. \n",
    "*   Surprisingly, the Illiterate category has a higher chance(> 20%) of opting for the Term Deposit.\n",
    "*   Mar, Sep, Dec & Oct where great months for the campaign with a 40% or more probability of customers accepting the marketting offer. It generally seems like the last month of each quarter is a fruitful time for campaigning.\n",
    "*   Increasing the number of calls to a customer only reduces the chances of him accepting the product. \n",
    "\n",
    "---\n",
    "\n",
    "**Best Perfroming Models** - \n",
    "*   Light GBM has the top scores for all the metrics and outperforms XGBoost as expected.\n",
    "*   Its closely followed by XGBoost and Neural Networks. I didnt tune the Neural Network model for lack of more time. This has scope to be tuned and improved.\n",
    "\n",
    "---\n",
    "<h3><center>\n",
    "Hope you liked the notebook. If you did, then give it a vote.\n",
    "</center></h3>\n",
    "\n",
    "\n",
    "---"
   ]
  },
  {
   "cell_type": "code",
   "execution_count": null,
   "metadata": {
    "id": "ZQMscK_fpSPQ"
   },
   "outputs": [],
   "source": []
  }
 ],
 "metadata": {
  "kernelspec": {
   "display_name": "Python 3",
   "language": "python",
   "name": "python3"
  },
  "language_info": {
   "codemirror_mode": {
    "name": "ipython",
    "version": 3
   },
   "file_extension": ".py",
   "mimetype": "text/x-python",
   "name": "python",
   "nbconvert_exporter": "python",
   "pygments_lexer": "ipython3",
   "version": "3.8.5"
  }
 },
 "nbformat": 4,
 "nbformat_minor": 4
}
