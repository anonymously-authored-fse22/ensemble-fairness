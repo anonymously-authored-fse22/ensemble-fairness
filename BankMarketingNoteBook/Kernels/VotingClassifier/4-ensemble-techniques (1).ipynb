{
 "cells": [
  {
   "cell_type": "markdown",
   "metadata": {},
   "source": [
    "### Data Description"
   ]
  },
  {
   "cell_type": "markdown",
   "metadata": {},
   "source": [
    "The data is related with direct marketing campaigns of a\n",
    "Portuguese banking institution. The marketing campaigns\n",
    "were based on phone calls. Often, more than one contact to\n",
    "the same client was required, in order to access if the product\n",
    "(bank term deposit) would be ('yes') or not ('no') subscribed."
   ]
  },
  {
   "cell_type": "markdown",
   "metadata": {},
   "source": [
    "### Objective"
   ]
  },
  {
   "cell_type": "markdown",
   "metadata": {},
   "source": [
    "The classification goal is to predict if the client will subscribe\n",
    "(yes/no) a term deposit (variable y)"
   ]
  },
  {
   "cell_type": "markdown",
   "metadata": {},
   "source": [
    "### Attribute Classification"
   ]
  },
  {
   "cell_type": "markdown",
   "metadata": {},
   "source": [
    "#### Bank Client Data"
   ]
  },
  {
   "cell_type": "markdown",
   "metadata": {},
   "source": [
    "> **'Age:'** Numeric                                                                                                         \n",
    ">**Job:** type of job (categorical:'admin.','blue-collar','entrepreneur','housemaid','management','retired','selfemployed',\n",
    "'services','student','technician','unemployed','unknown')                                                                     \n",
    ">**marital:** marital status (categorical:'divorced','married','single','unknown'; note: 'divorced' means divorced or widowed)  \n",
    ">**education** -                                                                                                               \n",
    ">**default:**  has credit in default? (categorical:'no','yes','unknown')                                                       \n",
    ">**balance:** average yearly balance, in euros (numeric)                                                                      \n",
    ">**housing:** has housing loan? (categorical:'no','yes','unknown')                                                             \n",
    ">**loan:** has personal loan? (categorical: 'no','yes','unknown')                                                              \n",
    ">**contact:** contact communication type (categorical:'cellular','telephone')"
   ]
  },
  {
   "cell_type": "markdown",
   "metadata": {},
   "source": [
    "#### Client Contact Data"
   ]
  },
  {
   "cell_type": "markdown",
   "metadata": {},
   "source": [
    ">**day:** last contact day of the month (numeric 1 -31)                                                                        \n",
    ">**month:**: last contact month of year (categorical: 'jan', 'feb','mar', ..., 'nov', 'dec')                                   \n",
    ">**duration:** last contact duration, in seconds (numeric). Important note: this attribute highly affects the output target (e.g., if duration=0 then y='no'). Yet, the duration is not known before a call is performed. Also, after the end of the call y is obviously known. Thus, this input should only be included for benchmark purposes and should be discarded if the intention is to have a realistic predictive model                                                                                           \n",
    ">**campaign:** number of contacts performed during this campaign and for this client (numeric, includes last contact)          \n",
    ">**pdays:** number of days that passed by after the client was last contacted from a previous campaign (numeric; 999 means      client was not previously contacted)                                                                                           \n",
    ">**previous:** number of contacts performed before this campaign and for this client (numeric)                                 \n",
    ">**poutcome:** outcome of the previous marketing campaign (categorical: 'failure','nonexistent','success')                     "
   ]
  },
  {
   "cell_type": "markdown",
   "metadata": {},
   "source": [
    "#### Target Variable"
   ]
  },
  {
   "cell_type": "markdown",
   "metadata": {},
   "source": [
    ">**target:** has the client subscribed a term deposit? (binary:\"yes\",\"no\")"
   ]
  },
  {
   "cell_type": "markdown",
   "metadata": {},
   "source": [
    "### Learning Outcomes:"
   ]
  },
  {
   "cell_type": "markdown",
   "metadata": {},
   "source": [
    "> Exploratory Data Analysis                                                                                                    \n",
    "> Preparing the data to train a model                                                                                           \n",
    "> Training and making predictions using Ensemble Model                                                                         \n",
    "> Tuning an Ensemble model                                                                                                    "
   ]
  },
  {
   "cell_type": "markdown",
   "metadata": {},
   "source": [
    "### Steps and tasks:\n",
    "1. Import the necessary libraries\n",
    "2. Read the data as a data frame\n",
    "3. Perform basic EDA which should include the following\n",
    "and print out your insights at every step.\n",
    "a. Shape of the data\n",
    "b. Data type of each attribute\n",
    "c. Checking the presence of missing values\n",
    "d. 5 point summary of numerical attributes\n",
    "e. Checking the presence of outliers\n",
    "4. Prepare the data to train a model – check if data types are\n",
    "appropriate, get rid of the missing values etc\n",
    "5. Train a few standard classification algorithms, note and\n",
    "comment on their performances along different metrics.\n",
    "6. Build the ensemble models and compare the results with\n",
    "the base models. Note: Random forest can be used only\n",
    "with Decision trees.\n",
    "7. Compare performances of all the models"
   ]
  },
  {
   "cell_type": "markdown",
   "metadata": {},
   "source": [
    "### Import the necessary libraries"
   ]
  },
  {
   "cell_type": "code",
   "execution_count": 1,
   "metadata": {},
   "outputs": [
    {
     "data": {
      "text/html": [
       "        <script type=\"text/javascript\">\n",
       "        window.PlotlyConfig = {MathJaxConfig: 'local'};\n",
       "        if (window.MathJax) {MathJax.Hub.Config({SVG: {font: \"STIX-Web\"}});}\n",
       "        if (typeof require !== 'undefined') {\n",
       "        require.undef(\"plotly\");\n",
       "        requirejs.config({\n",
       "            paths: {\n",
       "                'plotly': ['https://cdn.plot.ly/plotly-2.4.2.min']\n",
       "            }\n",
       "        });\n",
       "        require(['plotly'], function(Plotly) {\n",
       "            window._Plotly = Plotly;\n",
       "        });\n",
       "        }\n",
       "        </script>\n",
       "        "
      ]
     },
     "metadata": {},
     "output_type": "display_data"
    }
   ],
   "source": [
    "#Importing the necessary libraries \n",
    "\n",
    "import pandas as pd\n",
    "import numpy as np\n",
    "import seaborn as sns\n",
    "\n",
    "from sklearn.model_selection import KFold\n",
    "from sklearn.model_selection import cross_val_score\n",
    "\n",
    "from sklearn import metrics\n",
    "from sklearn.metrics import confusion_matrix\n",
    "from sklearn.metrics import roc_curve, auc, roc_auc_score\n",
    "\n",
    "import matplotlib.pyplot as plt\n",
    "from plotly.offline import download_plotlyjs, init_notebook_mode, plot, iplot\n",
    "import cufflinks as cf\n",
    "cf.go_offline()\n",
    "\n",
    "%matplotlib inline"
   ]
  },
  {
   "cell_type": "code",
   "execution_count": 2,
   "metadata": {},
   "outputs": [],
   "source": [
    "from aif360.datasets import StandardDataset\n",
    "from aif360.metrics import BinaryLabelDatasetMetric, ClassificationMetric\n",
    "import matplotlib.patches as patches\n",
    "from aif360.algorithms.preprocessing import Reweighing\n",
    "#from packages import *\n",
    "#from ml_fairness import *\n",
    "import matplotlib.pyplot as plt\n",
    "import seaborn as sns\n",
    "\n",
    "\n",
    "\n",
    "from IPython.display import Markdown, display"
   ]
  },
  {
   "cell_type": "markdown",
   "metadata": {},
   "source": [
    "### Read the data as a data frame"
   ]
  },
  {
   "cell_type": "code",
   "execution_count": 3,
   "metadata": {},
   "outputs": [],
   "source": [
    "df = pd.read_csv('../../Data/bank-additional-full.csv', sep=';')  #Read the datafile as dataframe"
   ]
  },
  {
   "cell_type": "markdown",
   "metadata": {},
   "source": [
    "### Perform basic EDA which should include the following and print out your insights at every step."
   ]
  },
  {
   "cell_type": "markdown",
   "metadata": {},
   "source": [
    "### Shape of the data"
   ]
  },
  {
   "cell_type": "code",
   "execution_count": 4,
   "metadata": {},
   "outputs": [
    {
     "name": "stdout",
     "output_type": "stream",
     "text": [
      "Data has Rows 41188, Columns 21\n"
     ]
    }
   ],
   "source": [
    "df_shape = df.shape                                          #View the shape of the dataset\n",
    "print('Data has Rows {}, Columns {}'.format(*df_shape)) "
   ]
  },
  {
   "cell_type": "markdown",
   "metadata": {},
   "source": [
    "### Data type of each attribute"
   ]
  },
  {
   "cell_type": "code",
   "execution_count": 5,
   "metadata": {},
   "outputs": [
    {
     "name": "stdout",
     "output_type": "stream",
     "text": [
      "<class 'pandas.core.frame.DataFrame'>\n",
      "RangeIndex: 41188 entries, 0 to 41187\n",
      "Data columns (total 21 columns):\n",
      " #   Column          Non-Null Count  Dtype  \n",
      "---  ------          --------------  -----  \n",
      " 0   age             41188 non-null  int64  \n",
      " 1   job             41188 non-null  object \n",
      " 2   marital         41188 non-null  object \n",
      " 3   education       41188 non-null  object \n",
      " 4   default         41188 non-null  object \n",
      " 5   housing         41188 non-null  object \n",
      " 6   loan            41188 non-null  object \n",
      " 7   contact         41188 non-null  object \n",
      " 8   month           41188 non-null  object \n",
      " 9   day_of_week     41188 non-null  object \n",
      " 10  duration        41188 non-null  int64  \n",
      " 11  campaign        41188 non-null  int64  \n",
      " 12  pdays           41188 non-null  int64  \n",
      " 13  previous        41188 non-null  int64  \n",
      " 14  poutcome        41188 non-null  object \n",
      " 15  emp.var.rate    41188 non-null  float64\n",
      " 16  cons.price.idx  41188 non-null  float64\n",
      " 17  cons.conf.idx   41188 non-null  float64\n",
      " 18  euribor3m       41188 non-null  float64\n",
      " 19  nr.employed     41188 non-null  float64\n",
      " 20  y               41188 non-null  object \n",
      "dtypes: float64(5), int64(5), object(11)\n",
      "memory usage: 6.6+ MB\n"
     ]
    }
   ],
   "source": [
    "df.info()                                                    #Understand the various attributes of the dataset"
   ]
  },
  {
   "cell_type": "markdown",
   "metadata": {},
   "source": [
    "> There are two kinds of attributes objectand int. Consists of 10 object type and 7 int64 attributes. This will change as we need to convert the categorical variables "
   ]
  },
  {
   "cell_type": "markdown",
   "metadata": {},
   "source": [
    "### Checking the presence of missing values"
   ]
  },
  {
   "cell_type": "code",
   "execution_count": 6,
   "metadata": {},
   "outputs": [
    {
     "data": {
      "text/plain": [
       "age               0\n",
       "job               0\n",
       "marital           0\n",
       "education         0\n",
       "default           0\n",
       "housing           0\n",
       "loan              0\n",
       "contact           0\n",
       "month             0\n",
       "day_of_week       0\n",
       "duration          0\n",
       "campaign          0\n",
       "pdays             0\n",
       "previous          0\n",
       "poutcome          0\n",
       "emp.var.rate      0\n",
       "cons.price.idx    0\n",
       "cons.conf.idx     0\n",
       "euribor3m         0\n",
       "nr.employed       0\n",
       "y                 0\n",
       "dtype: int64"
      ]
     },
     "execution_count": 6,
     "metadata": {},
     "output_type": "execute_result"
    }
   ],
   "source": [
    "df.apply(lambda x: sum(x.isnull()))              #Check if the dataset has any missing values"
   ]
  },
  {
   "cell_type": "markdown",
   "metadata": {},
   "source": [
    "> No missing values. If there are any missing values we can fill them with mean, median and mode"
   ]
  },
  {
   "cell_type": "markdown",
   "metadata": {},
   "source": [
    "### 5 point summary of numerical attributes"
   ]
  },
  {
   "cell_type": "code",
   "execution_count": 7,
   "metadata": {},
   "outputs": [
    {
     "data": {
      "text/html": [
       "<div>\n",
       "<style scoped>\n",
       "    .dataframe tbody tr th:only-of-type {\n",
       "        vertical-align: middle;\n",
       "    }\n",
       "\n",
       "    .dataframe tbody tr th {\n",
       "        vertical-align: top;\n",
       "    }\n",
       "\n",
       "    .dataframe thead th {\n",
       "        text-align: right;\n",
       "    }\n",
       "</style>\n",
       "<table border=\"1\" class=\"dataframe\">\n",
       "  <thead>\n",
       "    <tr style=\"text-align: right;\">\n",
       "      <th></th>\n",
       "      <th>count</th>\n",
       "      <th>mean</th>\n",
       "      <th>std</th>\n",
       "      <th>min</th>\n",
       "      <th>25%</th>\n",
       "      <th>50%</th>\n",
       "      <th>75%</th>\n",
       "      <th>max</th>\n",
       "    </tr>\n",
       "  </thead>\n",
       "  <tbody>\n",
       "    <tr>\n",
       "      <th>age</th>\n",
       "      <td>41188.0</td>\n",
       "      <td>40.024060</td>\n",
       "      <td>10.421250</td>\n",
       "      <td>17.000</td>\n",
       "      <td>32.000</td>\n",
       "      <td>38.000</td>\n",
       "      <td>47.000</td>\n",
       "      <td>98.000</td>\n",
       "    </tr>\n",
       "    <tr>\n",
       "      <th>duration</th>\n",
       "      <td>41188.0</td>\n",
       "      <td>258.285010</td>\n",
       "      <td>259.279249</td>\n",
       "      <td>0.000</td>\n",
       "      <td>102.000</td>\n",
       "      <td>180.000</td>\n",
       "      <td>319.000</td>\n",
       "      <td>4918.000</td>\n",
       "    </tr>\n",
       "    <tr>\n",
       "      <th>campaign</th>\n",
       "      <td>41188.0</td>\n",
       "      <td>2.567593</td>\n",
       "      <td>2.770014</td>\n",
       "      <td>1.000</td>\n",
       "      <td>1.000</td>\n",
       "      <td>2.000</td>\n",
       "      <td>3.000</td>\n",
       "      <td>56.000</td>\n",
       "    </tr>\n",
       "    <tr>\n",
       "      <th>pdays</th>\n",
       "      <td>41188.0</td>\n",
       "      <td>962.475454</td>\n",
       "      <td>186.910907</td>\n",
       "      <td>0.000</td>\n",
       "      <td>999.000</td>\n",
       "      <td>999.000</td>\n",
       "      <td>999.000</td>\n",
       "      <td>999.000</td>\n",
       "    </tr>\n",
       "    <tr>\n",
       "      <th>previous</th>\n",
       "      <td>41188.0</td>\n",
       "      <td>0.172963</td>\n",
       "      <td>0.494901</td>\n",
       "      <td>0.000</td>\n",
       "      <td>0.000</td>\n",
       "      <td>0.000</td>\n",
       "      <td>0.000</td>\n",
       "      <td>7.000</td>\n",
       "    </tr>\n",
       "    <tr>\n",
       "      <th>emp.var.rate</th>\n",
       "      <td>41188.0</td>\n",
       "      <td>0.081886</td>\n",
       "      <td>1.570960</td>\n",
       "      <td>-3.400</td>\n",
       "      <td>-1.800</td>\n",
       "      <td>1.100</td>\n",
       "      <td>1.400</td>\n",
       "      <td>1.400</td>\n",
       "    </tr>\n",
       "    <tr>\n",
       "      <th>cons.price.idx</th>\n",
       "      <td>41188.0</td>\n",
       "      <td>93.575664</td>\n",
       "      <td>0.578840</td>\n",
       "      <td>92.201</td>\n",
       "      <td>93.075</td>\n",
       "      <td>93.749</td>\n",
       "      <td>93.994</td>\n",
       "      <td>94.767</td>\n",
       "    </tr>\n",
       "    <tr>\n",
       "      <th>cons.conf.idx</th>\n",
       "      <td>41188.0</td>\n",
       "      <td>-40.502600</td>\n",
       "      <td>4.628198</td>\n",
       "      <td>-50.800</td>\n",
       "      <td>-42.700</td>\n",
       "      <td>-41.800</td>\n",
       "      <td>-36.400</td>\n",
       "      <td>-26.900</td>\n",
       "    </tr>\n",
       "    <tr>\n",
       "      <th>euribor3m</th>\n",
       "      <td>41188.0</td>\n",
       "      <td>3.621291</td>\n",
       "      <td>1.734447</td>\n",
       "      <td>0.634</td>\n",
       "      <td>1.344</td>\n",
       "      <td>4.857</td>\n",
       "      <td>4.961</td>\n",
       "      <td>5.045</td>\n",
       "    </tr>\n",
       "    <tr>\n",
       "      <th>nr.employed</th>\n",
       "      <td>41188.0</td>\n",
       "      <td>5167.035911</td>\n",
       "      <td>72.251528</td>\n",
       "      <td>4963.600</td>\n",
       "      <td>5099.100</td>\n",
       "      <td>5191.000</td>\n",
       "      <td>5228.100</td>\n",
       "      <td>5228.100</td>\n",
       "    </tr>\n",
       "  </tbody>\n",
       "</table>\n",
       "</div>"
      ],
      "text/plain": [
       "                  count         mean         std       min       25%  \\\n",
       "age             41188.0    40.024060   10.421250    17.000    32.000   \n",
       "duration        41188.0   258.285010  259.279249     0.000   102.000   \n",
       "campaign        41188.0     2.567593    2.770014     1.000     1.000   \n",
       "pdays           41188.0   962.475454  186.910907     0.000   999.000   \n",
       "previous        41188.0     0.172963    0.494901     0.000     0.000   \n",
       "emp.var.rate    41188.0     0.081886    1.570960    -3.400    -1.800   \n",
       "cons.price.idx  41188.0    93.575664    0.578840    92.201    93.075   \n",
       "cons.conf.idx   41188.0   -40.502600    4.628198   -50.800   -42.700   \n",
       "euribor3m       41188.0     3.621291    1.734447     0.634     1.344   \n",
       "nr.employed     41188.0  5167.035911   72.251528  4963.600  5099.100   \n",
       "\n",
       "                     50%       75%       max  \n",
       "age               38.000    47.000    98.000  \n",
       "duration         180.000   319.000  4918.000  \n",
       "campaign           2.000     3.000    56.000  \n",
       "pdays            999.000   999.000   999.000  \n",
       "previous           0.000     0.000     7.000  \n",
       "emp.var.rate       1.100     1.400     1.400  \n",
       "cons.price.idx    93.749    93.994    94.767  \n",
       "cons.conf.idx    -41.800   -36.400   -26.900  \n",
       "euribor3m          4.857     4.961     5.045  \n",
       "nr.employed     5191.000  5228.100  5228.100  "
      ]
     },
     "execution_count": 7,
     "metadata": {},
     "output_type": "execute_result"
    }
   ],
   "source": [
    "df.describe().T                                    #Get the 5-point summary of data"
   ]
  },
  {
   "cell_type": "markdown",
   "metadata": {},
   "source": [
    "> Looks like the features 'balance', 'duration', 'pdays' has lot of outliers with higher standard deviation"
   ]
  },
  {
   "cell_type": "code",
   "execution_count": 8,
   "metadata": {},
   "outputs": [
    {
     "name": "stderr",
     "output_type": "stream",
     "text": [
      "Pass the following variable as a keyword arg: x. From version 0.12, the only valid positional argument will be `data`, and passing other arguments without an explicit keyword will result in an error or misinterpretation.\n"
     ]
    },
    {
     "data": {
      "image/png": "[encoded data removed]",
      "text/plain": [
       "<Figure size 1440x576 with 1 Axes>"
      ]
     },
     "metadata": {
      "needs_background": "light"
     },
     "output_type": "display_data"
    },
    {
     "name": "stdout",
     "output_type": "stream",
     "text": [
      "Maximum Age of client: 98\n",
      "Minimum Age of client: 17\n",
      "Minimum Age of client: 40.02406040594348\n",
      "\n",
      "\n",
      "The Mean is: 40.02406040594348\n",
      "The Standard Deviation is: 10.421249980934048\n",
      "The Coefficient of variation is: 26\n"
     ]
    }
   ],
   "source": [
    "# Getting the distribution of 'age' variable\n",
    "fig, ax = plt.subplots()\n",
    "fig.set_size_inches(20,8)\n",
    "\n",
    "sns.countplot(df['age'])\n",
    "plt.title('Age Distribution')\n",
    "plt.show()\n",
    "\n",
    "# Trying to understand the client's minimum and maximum age \n",
    "print('Maximum Age of client:', df['age'].max())\n",
    "print('Minimum Age of client:', df['age'].min())\n",
    "print('Minimum Age of client:', df['age'].mean())\n",
    "print('\\n')\n",
    "# Let's see if there too much variance in the variable\n",
    "print('The Mean is:', df['age'].mean())\n",
    "print('The Standard Deviation is:', df['age'].std())\n",
    "print('The Coefficient of variation is:', round(df['age'].std()*100 / df['age'].mean()))"
   ]
  },
  {
   "cell_type": "markdown",
   "metadata": {},
   "source": [
    "> The variable is normally distributed. The average is 40 and there is not much of deviation from mean data seems to be good. The minimum age of client is 18 and upto clients with 95 years of age\n",
    "Age which not much influence the target variable, just understanding the distribution"
   ]
  },
  {
   "cell_type": "code",
   "execution_count": 9,
   "metadata": {},
   "outputs": [
    {
     "ename": "KeyError",
     "evalue": "'balance'",
     "output_type": "error",
     "traceback": [
      "\u001b[1;31m---------------------------------------------------------------------------\u001b[0m",
      "\u001b[1;31mKeyError\u001b[0m                                  Traceback (most recent call last)",
      "\u001b[1;32m~\\AppData\\Local\\Programs\\Python\\Python38\\lib\\site-packages\\pandas\\core\\indexes\\base.py\u001b[0m in \u001b[0;36mget_loc\u001b[1;34m(self, key, method, tolerance)\u001b[0m\n\u001b[0;32m   2894\u001b[0m             \u001b[1;32mtry\u001b[0m\u001b[1;33m:\u001b[0m\u001b[1;33m\u001b[0m\u001b[1;33m\u001b[0m\u001b[0m\n\u001b[1;32m-> 2895\u001b[1;33m                 \u001b[1;32mreturn\u001b[0m \u001b[0mself\u001b[0m\u001b[1;33m.\u001b[0m\u001b[0m_engine\u001b[0m\u001b[1;33m.\u001b[0m\u001b[0mget_loc\u001b[0m\u001b[1;33m(\u001b[0m\u001b[0mcasted_key\u001b[0m\u001b[1;33m)\u001b[0m\u001b[1;33m\u001b[0m\u001b[1;33m\u001b[0m\u001b[0m\n\u001b[0m\u001b[0;32m   2896\u001b[0m             \u001b[1;32mexcept\u001b[0m \u001b[0mKeyError\u001b[0m \u001b[1;32mas\u001b[0m \u001b[0merr\u001b[0m\u001b[1;33m:\u001b[0m\u001b[1;33m\u001b[0m\u001b[1;33m\u001b[0m\u001b[0m\n",
      "\u001b[1;32mpandas\\_libs\\index.pyx\u001b[0m in \u001b[0;36mpandas._libs.index.IndexEngine.get_loc\u001b[1;34m()\u001b[0m\n",
      "\u001b[1;32mpandas\\_libs\\index.pyx\u001b[0m in \u001b[0;36mpandas._libs.index.IndexEngine.get_loc\u001b[1;34m()\u001b[0m\n",
      "\u001b[1;32mpandas\\_libs\\hashtable_class_helper.pxi\u001b[0m in \u001b[0;36mpandas._libs.hashtable.PyObjectHashTable.get_item\u001b[1;34m()\u001b[0m\n",
      "\u001b[1;32mpandas\\_libs\\hashtable_class_helper.pxi\u001b[0m in \u001b[0;36mpandas._libs.hashtable.PyObjectHashTable.get_item\u001b[1;34m()\u001b[0m\n",
      "\u001b[1;31mKeyError\u001b[0m: 'balance'",
      "\nThe above exception was the direct cause of the following exception:\n",
      "\u001b[1;31mKeyError\u001b[0m                                  Traceback (most recent call last)",
      "\u001b[1;32m<ipython-input-9-334f1ce2fc80>\u001b[0m in \u001b[0;36m<module>\u001b[1;34m\u001b[0m\n\u001b[0;32m      1\u001b[0m \u001b[0mplt\u001b[0m\u001b[1;33m.\u001b[0m\u001b[0mfigure\u001b[0m\u001b[1;33m(\u001b[0m\u001b[0mfigsize\u001b[0m\u001b[1;33m=\u001b[0m\u001b[1;33m(\u001b[0m\u001b[1;36m10\u001b[0m\u001b[1;33m,\u001b[0m \u001b[1;36m8\u001b[0m\u001b[1;33m)\u001b[0m\u001b[1;33m)\u001b[0m\u001b[1;33m\u001b[0m\u001b[1;33m\u001b[0m\u001b[0m\n\u001b[0;32m      2\u001b[0m \u001b[1;33m\u001b[0m\u001b[0m\n\u001b[1;32m----> 3\u001b[1;33m \u001b[0mdf\u001b[0m\u001b[1;33m.\u001b[0m\u001b[0mplot\u001b[0m\u001b[1;33m.\u001b[0m\u001b[0mscatter\u001b[0m\u001b[1;33m(\u001b[0m\u001b[1;34m'age'\u001b[0m\u001b[1;33m,\u001b[0m \u001b[1;34m'balance'\u001b[0m\u001b[1;33m)\u001b[0m\u001b[1;33m\u001b[0m\u001b[1;33m\u001b[0m\u001b[0m\n\u001b[0m\u001b[0;32m      4\u001b[0m \u001b[0mplt\u001b[0m\u001b[1;33m.\u001b[0m\u001b[0mtitle\u001b[0m\u001b[1;33m(\u001b[0m\u001b[1;34m'Relationship between Age and Balance variable'\u001b[0m\u001b[1;33m)\u001b[0m\u001b[1;33m\u001b[0m\u001b[1;33m\u001b[0m\u001b[0m\n\u001b[0;32m      5\u001b[0m \u001b[1;33m\u001b[0m\u001b[0m\n",
      "\u001b[1;32m~\\AppData\\Local\\Programs\\Python\\Python38\\lib\\site-packages\\pandas\\plotting\\_core.py\u001b[0m in \u001b[0;36mscatter\u001b[1;34m(self, x, y, s, c, **kwargs)\u001b[0m\n\u001b[0;32m   1611\u001b[0m             ...                       colormap='viridis')\n\u001b[0;32m   1612\u001b[0m         \"\"\"\n\u001b[1;32m-> 1613\u001b[1;33m         \u001b[1;32mreturn\u001b[0m \u001b[0mself\u001b[0m\u001b[1;33m(\u001b[0m\u001b[0mkind\u001b[0m\u001b[1;33m=\u001b[0m\u001b[1;34m\"scatter\"\u001b[0m\u001b[1;33m,\u001b[0m \u001b[0mx\u001b[0m\u001b[1;33m=\u001b[0m\u001b[0mx\u001b[0m\u001b[1;33m,\u001b[0m \u001b[0my\u001b[0m\u001b[1;33m=\u001b[0m\u001b[0my\u001b[0m\u001b[1;33m,\u001b[0m \u001b[0ms\u001b[0m\u001b[1;33m=\u001b[0m\u001b[0ms\u001b[0m\u001b[1;33m,\u001b[0m \u001b[0mc\u001b[0m\u001b[1;33m=\u001b[0m\u001b[0mc\u001b[0m\u001b[1;33m,\u001b[0m \u001b[1;33m**\u001b[0m\u001b[0mkwargs\u001b[0m\u001b[1;33m)\u001b[0m\u001b[1;33m\u001b[0m\u001b[1;33m\u001b[0m\u001b[0m\n\u001b[0m\u001b[0;32m   1614\u001b[0m \u001b[1;33m\u001b[0m\u001b[0m\n\u001b[0;32m   1615\u001b[0m     \u001b[1;32mdef\u001b[0m \u001b[0mhexbin\u001b[0m\u001b[1;33m(\u001b[0m\u001b[0mself\u001b[0m\u001b[1;33m,\u001b[0m \u001b[0mx\u001b[0m\u001b[1;33m,\u001b[0m \u001b[0my\u001b[0m\u001b[1;33m,\u001b[0m \u001b[0mC\u001b[0m\u001b[1;33m=\u001b[0m\u001b[1;32mNone\u001b[0m\u001b[1;33m,\u001b[0m \u001b[0mreduce_C_function\u001b[0m\u001b[1;33m=\u001b[0m\u001b[1;32mNone\u001b[0m\u001b[1;33m,\u001b[0m \u001b[0mgridsize\u001b[0m\u001b[1;33m=\u001b[0m\u001b[1;32mNone\u001b[0m\u001b[1;33m,\u001b[0m \u001b[1;33m**\u001b[0m\u001b[0mkwargs\u001b[0m\u001b[1;33m)\u001b[0m\u001b[1;33m:\u001b[0m\u001b[1;33m\u001b[0m\u001b[1;33m\u001b[0m\u001b[0m\n",
      "\u001b[1;32m~\\AppData\\Local\\Programs\\Python\\Python38\\lib\\site-packages\\pandas\\plotting\\_core.py\u001b[0m in \u001b[0;36m__call__\u001b[1;34m(self, *args, **kwargs)\u001b[0m\n\u001b[0;32m    892\u001b[0m         \u001b[1;32mif\u001b[0m \u001b[0mkind\u001b[0m \u001b[1;32min\u001b[0m \u001b[0mself\u001b[0m\u001b[1;33m.\u001b[0m\u001b[0m_dataframe_kinds\u001b[0m\u001b[1;33m:\u001b[0m\u001b[1;33m\u001b[0m\u001b[1;33m\u001b[0m\u001b[0m\n\u001b[0;32m    893\u001b[0m             \u001b[1;32mif\u001b[0m \u001b[0misinstance\u001b[0m\u001b[1;33m(\u001b[0m\u001b[0mdata\u001b[0m\u001b[1;33m,\u001b[0m \u001b[0mABCDataFrame\u001b[0m\u001b[1;33m)\u001b[0m\u001b[1;33m:\u001b[0m\u001b[1;33m\u001b[0m\u001b[1;33m\u001b[0m\u001b[0m\n\u001b[1;32m--> 894\u001b[1;33m                 \u001b[1;32mreturn\u001b[0m \u001b[0mplot_backend\u001b[0m\u001b[1;33m.\u001b[0m\u001b[0mplot\u001b[0m\u001b[1;33m(\u001b[0m\u001b[0mdata\u001b[0m\u001b[1;33m,\u001b[0m \u001b[0mx\u001b[0m\u001b[1;33m=\u001b[0m\u001b[0mx\u001b[0m\u001b[1;33m,\u001b[0m \u001b[0my\u001b[0m\u001b[1;33m=\u001b[0m\u001b[0my\u001b[0m\u001b[1;33m,\u001b[0m \u001b[0mkind\u001b[0m\u001b[1;33m=\u001b[0m\u001b[0mkind\u001b[0m\u001b[1;33m,\u001b[0m \u001b[1;33m**\u001b[0m\u001b[0mkwargs\u001b[0m\u001b[1;33m)\u001b[0m\u001b[1;33m\u001b[0m\u001b[1;33m\u001b[0m\u001b[0m\n\u001b[0m\u001b[0;32m    895\u001b[0m             \u001b[1;32melse\u001b[0m\u001b[1;33m:\u001b[0m\u001b[1;33m\u001b[0m\u001b[1;33m\u001b[0m\u001b[0m\n\u001b[0;32m    896\u001b[0m                 \u001b[1;32mraise\u001b[0m \u001b[0mValueError\u001b[0m\u001b[1;33m(\u001b[0m\u001b[1;34mf\"plot kind {kind} can only be used for data frames\"\u001b[0m\u001b[1;33m)\u001b[0m\u001b[1;33m\u001b[0m\u001b[1;33m\u001b[0m\u001b[0m\n",
      "\u001b[1;32m~\\AppData\\Local\\Programs\\Python\\Python38\\lib\\site-packages\\pandas\\plotting\\_matplotlib\\__init__.py\u001b[0m in \u001b[0;36mplot\u001b[1;34m(data, kind, **kwargs)\u001b[0m\n\u001b[0;32m     59\u001b[0m             \u001b[0mkwargs\u001b[0m\u001b[1;33m[\u001b[0m\u001b[1;34m\"ax\"\u001b[0m\u001b[1;33m]\u001b[0m \u001b[1;33m=\u001b[0m \u001b[0mgetattr\u001b[0m\u001b[1;33m(\u001b[0m\u001b[0max\u001b[0m\u001b[1;33m,\u001b[0m \u001b[1;34m\"left_ax\"\u001b[0m\u001b[1;33m,\u001b[0m \u001b[0max\u001b[0m\u001b[1;33m)\u001b[0m\u001b[1;33m\u001b[0m\u001b[1;33m\u001b[0m\u001b[0m\n\u001b[0;32m     60\u001b[0m     \u001b[0mplot_obj\u001b[0m \u001b[1;33m=\u001b[0m \u001b[0mPLOT_CLASSES\u001b[0m\u001b[1;33m[\u001b[0m\u001b[0mkind\u001b[0m\u001b[1;33m]\u001b[0m\u001b[1;33m(\u001b[0m\u001b[0mdata\u001b[0m\u001b[1;33m,\u001b[0m \u001b[1;33m**\u001b[0m\u001b[0mkwargs\u001b[0m\u001b[1;33m)\u001b[0m\u001b[1;33m\u001b[0m\u001b[1;33m\u001b[0m\u001b[0m\n\u001b[1;32m---> 61\u001b[1;33m     \u001b[0mplot_obj\u001b[0m\u001b[1;33m.\u001b[0m\u001b[0mgenerate\u001b[0m\u001b[1;33m(\u001b[0m\u001b[1;33m)\u001b[0m\u001b[1;33m\u001b[0m\u001b[1;33m\u001b[0m\u001b[0m\n\u001b[0m\u001b[0;32m     62\u001b[0m     \u001b[0mplot_obj\u001b[0m\u001b[1;33m.\u001b[0m\u001b[0mdraw\u001b[0m\u001b[1;33m(\u001b[0m\u001b[1;33m)\u001b[0m\u001b[1;33m\u001b[0m\u001b[1;33m\u001b[0m\u001b[0m\n\u001b[0;32m     63\u001b[0m     \u001b[1;32mreturn\u001b[0m \u001b[0mplot_obj\u001b[0m\u001b[1;33m.\u001b[0m\u001b[0mresult\u001b[0m\u001b[1;33m\u001b[0m\u001b[1;33m\u001b[0m\u001b[0m\n",
      "\u001b[1;32m~\\AppData\\Local\\Programs\\Python\\Python38\\lib\\site-packages\\pandas\\plotting\\_matplotlib\\core.py\u001b[0m in \u001b[0;36mgenerate\u001b[1;34m(self)\u001b[0m\n\u001b[0;32m    269\u001b[0m         \u001b[0mself\u001b[0m\u001b[1;33m.\u001b[0m\u001b[0m_compute_plot_data\u001b[0m\u001b[1;33m(\u001b[0m\u001b[1;33m)\u001b[0m\u001b[1;33m\u001b[0m\u001b[1;33m\u001b[0m\u001b[0m\n\u001b[0;32m    270\u001b[0m         \u001b[0mself\u001b[0m\u001b[1;33m.\u001b[0m\u001b[0m_setup_subplots\u001b[0m\u001b[1;33m(\u001b[0m\u001b[1;33m)\u001b[0m\u001b[1;33m\u001b[0m\u001b[1;33m\u001b[0m\u001b[0m\n\u001b[1;32m--> 271\u001b[1;33m         \u001b[0mself\u001b[0m\u001b[1;33m.\u001b[0m\u001b[0m_make_plot\u001b[0m\u001b[1;33m(\u001b[0m\u001b[1;33m)\u001b[0m\u001b[1;33m\u001b[0m\u001b[1;33m\u001b[0m\u001b[0m\n\u001b[0m\u001b[0;32m    272\u001b[0m         \u001b[0mself\u001b[0m\u001b[1;33m.\u001b[0m\u001b[0m_add_table\u001b[0m\u001b[1;33m(\u001b[0m\u001b[1;33m)\u001b[0m\u001b[1;33m\u001b[0m\u001b[1;33m\u001b[0m\u001b[0m\n\u001b[0;32m    273\u001b[0m         \u001b[0mself\u001b[0m\u001b[1;33m.\u001b[0m\u001b[0m_make_legend\u001b[0m\u001b[1;33m(\u001b[0m\u001b[1;33m)\u001b[0m\u001b[1;33m\u001b[0m\u001b[1;33m\u001b[0m\u001b[0m\n",
      "\u001b[1;32m~\\AppData\\Local\\Programs\\Python\\Python38\\lib\\site-packages\\pandas\\plotting\\_matplotlib\\core.py\u001b[0m in \u001b[0;36m_make_plot\u001b[1;34m(self)\u001b[0m\n\u001b[0;32m   1010\u001b[0m         scatter = ax.scatter(\n\u001b[0;32m   1011\u001b[0m             \u001b[0mdata\u001b[0m\u001b[1;33m[\u001b[0m\u001b[0mx\u001b[0m\u001b[1;33m]\u001b[0m\u001b[1;33m.\u001b[0m\u001b[0mvalues\u001b[0m\u001b[1;33m,\u001b[0m\u001b[1;33m\u001b[0m\u001b[1;33m\u001b[0m\u001b[0m\n\u001b[1;32m-> 1012\u001b[1;33m             \u001b[0mdata\u001b[0m\u001b[1;33m[\u001b[0m\u001b[0my\u001b[0m\u001b[1;33m]\u001b[0m\u001b[1;33m.\u001b[0m\u001b[0mvalues\u001b[0m\u001b[1;33m,\u001b[0m\u001b[1;33m\u001b[0m\u001b[1;33m\u001b[0m\u001b[0m\n\u001b[0m\u001b[0;32m   1013\u001b[0m             \u001b[0mc\u001b[0m\u001b[1;33m=\u001b[0m\u001b[0mc_values\u001b[0m\u001b[1;33m,\u001b[0m\u001b[1;33m\u001b[0m\u001b[1;33m\u001b[0m\u001b[0m\n\u001b[0;32m   1014\u001b[0m             \u001b[0mlabel\u001b[0m\u001b[1;33m=\u001b[0m\u001b[0mlabel\u001b[0m\u001b[1;33m,\u001b[0m\u001b[1;33m\u001b[0m\u001b[1;33m\u001b[0m\u001b[0m\n",
      "\u001b[1;32m~\\AppData\\Local\\Programs\\Python\\Python38\\lib\\site-packages\\pandas\\core\\frame.py\u001b[0m in \u001b[0;36m__getitem__\u001b[1;34m(self, key)\u001b[0m\n\u001b[0;32m   2900\u001b[0m             \u001b[1;32mif\u001b[0m \u001b[0mself\u001b[0m\u001b[1;33m.\u001b[0m\u001b[0mcolumns\u001b[0m\u001b[1;33m.\u001b[0m\u001b[0mnlevels\u001b[0m \u001b[1;33m>\u001b[0m \u001b[1;36m1\u001b[0m\u001b[1;33m:\u001b[0m\u001b[1;33m\u001b[0m\u001b[1;33m\u001b[0m\u001b[0m\n\u001b[0;32m   2901\u001b[0m                 \u001b[1;32mreturn\u001b[0m \u001b[0mself\u001b[0m\u001b[1;33m.\u001b[0m\u001b[0m_getitem_multilevel\u001b[0m\u001b[1;33m(\u001b[0m\u001b[0mkey\u001b[0m\u001b[1;33m)\u001b[0m\u001b[1;33m\u001b[0m\u001b[1;33m\u001b[0m\u001b[0m\n\u001b[1;32m-> 2902\u001b[1;33m             \u001b[0mindexer\u001b[0m \u001b[1;33m=\u001b[0m \u001b[0mself\u001b[0m\u001b[1;33m.\u001b[0m\u001b[0mcolumns\u001b[0m\u001b[1;33m.\u001b[0m\u001b[0mget_loc\u001b[0m\u001b[1;33m(\u001b[0m\u001b[0mkey\u001b[0m\u001b[1;33m)\u001b[0m\u001b[1;33m\u001b[0m\u001b[1;33m\u001b[0m\u001b[0m\n\u001b[0m\u001b[0;32m   2903\u001b[0m             \u001b[1;32mif\u001b[0m \u001b[0mis_integer\u001b[0m\u001b[1;33m(\u001b[0m\u001b[0mindexer\u001b[0m\u001b[1;33m)\u001b[0m\u001b[1;33m:\u001b[0m\u001b[1;33m\u001b[0m\u001b[1;33m\u001b[0m\u001b[0m\n\u001b[0;32m   2904\u001b[0m                 \u001b[0mindexer\u001b[0m \u001b[1;33m=\u001b[0m \u001b[1;33m[\u001b[0m\u001b[0mindexer\u001b[0m\u001b[1;33m]\u001b[0m\u001b[1;33m\u001b[0m\u001b[1;33m\u001b[0m\u001b[0m\n",
      "\u001b[1;32m~\\AppData\\Local\\Programs\\Python\\Python38\\lib\\site-packages\\pandas\\core\\indexes\\base.py\u001b[0m in \u001b[0;36mget_loc\u001b[1;34m(self, key, method, tolerance)\u001b[0m\n\u001b[0;32m   2895\u001b[0m                 \u001b[1;32mreturn\u001b[0m \u001b[0mself\u001b[0m\u001b[1;33m.\u001b[0m\u001b[0m_engine\u001b[0m\u001b[1;33m.\u001b[0m\u001b[0mget_loc\u001b[0m\u001b[1;33m(\u001b[0m\u001b[0mcasted_key\u001b[0m\u001b[1;33m)\u001b[0m\u001b[1;33m\u001b[0m\u001b[1;33m\u001b[0m\u001b[0m\n\u001b[0;32m   2896\u001b[0m             \u001b[1;32mexcept\u001b[0m \u001b[0mKeyError\u001b[0m \u001b[1;32mas\u001b[0m \u001b[0merr\u001b[0m\u001b[1;33m:\u001b[0m\u001b[1;33m\u001b[0m\u001b[1;33m\u001b[0m\u001b[0m\n\u001b[1;32m-> 2897\u001b[1;33m                 \u001b[1;32mraise\u001b[0m \u001b[0mKeyError\u001b[0m\u001b[1;33m(\u001b[0m\u001b[0mkey\u001b[0m\u001b[1;33m)\u001b[0m \u001b[1;32mfrom\u001b[0m \u001b[0merr\u001b[0m\u001b[1;33m\u001b[0m\u001b[1;33m\u001b[0m\u001b[0m\n\u001b[0m\u001b[0;32m   2898\u001b[0m \u001b[1;33m\u001b[0m\u001b[0m\n\u001b[0;32m   2899\u001b[0m         \u001b[1;32mif\u001b[0m \u001b[0mtolerance\u001b[0m \u001b[1;32mis\u001b[0m \u001b[1;32mnot\u001b[0m \u001b[1;32mNone\u001b[0m\u001b[1;33m:\u001b[0m\u001b[1;33m\u001b[0m\u001b[1;33m\u001b[0m\u001b[0m\n",
      "\u001b[1;31mKeyError\u001b[0m: 'balance'"
     ]
    },
    {
     "data": {
      "text/plain": [
       "<Figure size 720x576 with 0 Axes>"
      ]
     },
     "metadata": {},
     "output_type": "display_data"
    },
    {
     "data": {
      "image/png": "[encoded data removed]",
      "text/plain": [
       "<Figure size 432x288 with 1 Axes>"
      ]
     },
     "metadata": {
      "needs_background": "light"
     },
     "output_type": "display_data"
    }
   ],
   "source": [
    "plt.figure(figsize=(10, 8))\n",
    "\n",
    "df.plot.scatter('age', 'balance')\n",
    "plt.title('Relationship between Age and Balance variable')\n",
    "\n",
    "plt.show()"
   ]
  },
  {
   "cell_type": "markdown",
   "metadata": {},
   "source": [
    "> Most balance is between the age group 30 to 60. And the balance after 60 years of age gets reduced becuase it's natural that the person retires after 60 years of age and the balance would not be as high as earlier "
   ]
  },
  {
   "cell_type": "code",
   "execution_count": null,
   "metadata": {},
   "outputs": [],
   "source": [
    "fig, ax = plt.subplots()\n",
    "fig.set_size_inches(10,8)\n",
    "\n",
    "sns.countplot(df['housing'], hue=df['default'], palette=\"ch:.25\")\n",
    "\n",
    "plt.show()"
   ]
  },
  {
   "cell_type": "markdown",
   "metadata": {},
   "source": [
    "> There are no significant association between the housing loan and the default variable. 'Default' seems to be same among housing loan holders and no housing loan holders"
   ]
  },
  {
   "cell_type": "code",
   "execution_count": null,
   "metadata": {},
   "outputs": [],
   "source": [
    "fig, ax = plt.subplots()\n",
    "fig.set_size_inches(20,8)\n",
    "\n",
    "sns.countplot(df['day'])\n",
    "plt.title('Day of last contact')\n",
    "\n",
    "plt.show()"
   ]
  },
  {
   "cell_type": "markdown",
   "metadata": {},
   "source": [
    "> The last contact day for the campaign is on different date for different clients spaning to the entire month. However the most last contact calls is observed on 20th day of the month"
   ]
  },
  {
   "cell_type": "code",
   "execution_count": null,
   "metadata": {},
   "outputs": [],
   "source": [
    "plt.figure(figsize=(10, 8))\n",
    "\n",
    "df.plot.scatter('age', 'duration')\n",
    "plt.title('Relationship between Age and Duration variable')\n",
    "\n",
    "plt.show()"
   ]
  },
  {
   "cell_type": "markdown",
   "metadata": {},
   "source": [
    "> The duration of the call is higher 30 to 60 age groups. May be we can expect more subcriptions from people within age group as it makes sense that persons within this age group would be employed which generate more transactions with the banks hence more possibility of subcription"
   ]
  },
  {
   "cell_type": "code",
   "execution_count": null,
   "metadata": {},
   "outputs": [],
   "source": [
    "plt.figure(figsize=(20,8)) \n",
    "sns.countplot(df['month'], hue=df['Target'], palette=\"Set3\")\n",
    "plt.title('fig 1: Distribution of success rate for the year')\n",
    "\n",
    "plt.figure(figsize=(20,10)) \n",
    "sns.countplot(df['job'], hue=df['Target'])\n",
    "plt.title('fig 2: Understanding Employment data')\n",
    "\n",
    "plt.show()"
   ]
  },
  {
   "cell_type": "markdown",
   "metadata": {},
   "source": [
    "> Fig 1: Shows the distribution of subcription and otherwise across the year. Month of may being the highest in terms of both success and not success in getting the clients subcriptions. Dec being the lowest.                                             \n",
    "> Fig 2: Shows the whether the clients subcribed or not across various job types. Management job has more 'yes' to term deposit, and but-color job has more 'no' to term deposits "
   ]
  },
  {
   "cell_type": "code",
   "execution_count": null,
   "metadata": {},
   "outputs": [],
   "source": [
    "plt.figure(figsize=(10, 8))\n",
    "\n",
    "sns.distplot(df['duration'])\n",
    "plt.show()"
   ]
  },
  {
   "cell_type": "markdown",
   "metadata": {},
   "source": [
    "> Most of the call duration is within the 5mins of the call duration"
   ]
  },
  {
   "cell_type": "code",
   "execution_count": null,
   "metadata": {},
   "outputs": [],
   "source": [
    "plt.figure(figsize=(15,8))\n",
    "\n",
    "sns.scatterplot(x=df['campaign'], y=df['duration'], hue=df['Target'])\n",
    "\n",
    "plt.show()"
   ]
  },
  {
   "cell_type": "markdown",
   "metadata": {},
   "source": [
    "> The higher subcription rates is acheived within lesser number of contacts. As the percentage of contacts increase there are lesser chance of subcriptions"
   ]
  },
  {
   "cell_type": "code",
   "execution_count": null,
   "metadata": {},
   "outputs": [],
   "source": [
    "plt.figure(figsize= (25,25))\n",
    "plt.subplot(3,3,1)\n",
    "sns.countplot(df.education, hue=df['default'], color='red', edgecolor = 'black', alpha = 0.7)\n",
    "plt.xlabel('Education')\n",
    "plt.title('Education vs Default')\n",
    "\n",
    "plt.subplot(3,3,2)\n",
    "sns.countplot(df.marital, hue=df['default'], color='red', edgecolor = 'black', alpha = 0.7)\n",
    "plt.xlabel('Marital')\n",
    "plt.title('Marital Status vs Defaults')\n",
    "\n",
    "plt.subplot(3,3,3)\n",
    "sns.countplot(df.loan, hue=df['default'], color='red', edgecolor = 'black', alpha = 0.7)\n",
    "plt.xlabel('Loan')\n",
    "plt.title('Loan vs Default')\n",
    "\n",
    "plt.subplot(3,3,4)\n",
    "sns.countplot(df.housing, hue=df['default'], color='red', edgecolor = 'black', alpha = 0.7)\n",
    "plt.xlabel('Housing')\n",
    "plt.title('Housing vs Default')\n",
    "\n",
    "plt.show()"
   ]
  },
  {
   "cell_type": "markdown",
   "metadata": {},
   "source": [
    "> From the above graph we are trying to understand the relation between the two varaibles                               \n",
    "> **Fig 1**: In the first plot the clients with secondary education background have higher defaults compared to rest           \n",
    "> **Fig 2**: The second plot tells us who has defaults according to their marital status. The defaults are very much lower for each of the category however married clients seems to have higher in defaults                                                   \n",
    "> **Fig 3**: There is no much difference in defaults among clients having loan and no loan                                    \n",
    "> **Fig 4**: Here also the default among housing categories seems to be similar and very low"
   ]
  },
  {
   "cell_type": "code",
   "execution_count": 10,
   "metadata": {},
   "outputs": [
    {
     "ename": "KeyError",
     "evalue": "'Target'",
     "output_type": "error",
     "traceback": [
      "\u001b[1;31m---------------------------------------------------------------------------\u001b[0m",
      "\u001b[1;31mKeyError\u001b[0m                                  Traceback (most recent call last)",
      "\u001b[1;32m~\\AppData\\Local\\Programs\\Python\\Python38\\lib\\site-packages\\pandas\\core\\indexes\\base.py\u001b[0m in \u001b[0;36mget_loc\u001b[1;34m(self, key, method, tolerance)\u001b[0m\n\u001b[0;32m   2894\u001b[0m             \u001b[1;32mtry\u001b[0m\u001b[1;33m:\u001b[0m\u001b[1;33m\u001b[0m\u001b[1;33m\u001b[0m\u001b[0m\n\u001b[1;32m-> 2895\u001b[1;33m                 \u001b[1;32mreturn\u001b[0m \u001b[0mself\u001b[0m\u001b[1;33m.\u001b[0m\u001b[0m_engine\u001b[0m\u001b[1;33m.\u001b[0m\u001b[0mget_loc\u001b[0m\u001b[1;33m(\u001b[0m\u001b[0mcasted_key\u001b[0m\u001b[1;33m)\u001b[0m\u001b[1;33m\u001b[0m\u001b[1;33m\u001b[0m\u001b[0m\n\u001b[0m\u001b[0;32m   2896\u001b[0m             \u001b[1;32mexcept\u001b[0m \u001b[0mKeyError\u001b[0m \u001b[1;32mas\u001b[0m \u001b[0merr\u001b[0m\u001b[1;33m:\u001b[0m\u001b[1;33m\u001b[0m\u001b[1;33m\u001b[0m\u001b[0m\n",
      "\u001b[1;32mpandas\\_libs\\index.pyx\u001b[0m in \u001b[0;36mpandas._libs.index.IndexEngine.get_loc\u001b[1;34m()\u001b[0m\n",
      "\u001b[1;32mpandas\\_libs\\index.pyx\u001b[0m in \u001b[0;36mpandas._libs.index.IndexEngine.get_loc\u001b[1;34m()\u001b[0m\n",
      "\u001b[1;32mpandas\\_libs\\hashtable_class_helper.pxi\u001b[0m in \u001b[0;36mpandas._libs.hashtable.PyObjectHashTable.get_item\u001b[1;34m()\u001b[0m\n",
      "\u001b[1;32mpandas\\_libs\\hashtable_class_helper.pxi\u001b[0m in \u001b[0;36mpandas._libs.hashtable.PyObjectHashTable.get_item\u001b[1;34m()\u001b[0m\n",
      "\u001b[1;31mKeyError\u001b[0m: 'Target'",
      "\nThe above exception was the direct cause of the following exception:\n",
      "\u001b[1;31mKeyError\u001b[0m                                  Traceback (most recent call last)",
      "\u001b[1;32m<ipython-input-10-75558d20167d>\u001b[0m in \u001b[0;36m<module>\u001b[1;34m\u001b[0m\n\u001b[0;32m      1\u001b[0m \u001b[0mplt\u001b[0m\u001b[1;33m.\u001b[0m\u001b[0mfigure\u001b[0m\u001b[1;33m(\u001b[0m\u001b[0mfigsize\u001b[0m\u001b[1;33m=\u001b[0m \u001b[1;33m(\u001b[0m\u001b[1;36m25\u001b[0m\u001b[1;33m,\u001b[0m\u001b[1;36m25\u001b[0m\u001b[1;33m)\u001b[0m\u001b[1;33m)\u001b[0m\u001b[1;33m\u001b[0m\u001b[1;33m\u001b[0m\u001b[0m\n\u001b[0;32m      2\u001b[0m \u001b[0mplt\u001b[0m\u001b[1;33m.\u001b[0m\u001b[0msubplot\u001b[0m\u001b[1;33m(\u001b[0m\u001b[1;36m3\u001b[0m\u001b[1;33m,\u001b[0m\u001b[1;36m3\u001b[0m\u001b[1;33m,\u001b[0m\u001b[1;36m1\u001b[0m\u001b[1;33m)\u001b[0m\u001b[1;33m\u001b[0m\u001b[1;33m\u001b[0m\u001b[0m\n\u001b[1;32m----> 3\u001b[1;33m \u001b[0msns\u001b[0m\u001b[1;33m.\u001b[0m\u001b[0mcountplot\u001b[0m\u001b[1;33m(\u001b[0m\u001b[0mdf\u001b[0m\u001b[1;33m.\u001b[0m\u001b[0meducation\u001b[0m\u001b[1;33m,\u001b[0m \u001b[0mhue\u001b[0m\u001b[1;33m=\u001b[0m\u001b[0mdf\u001b[0m\u001b[1;33m[\u001b[0m\u001b[1;34m'Target'\u001b[0m\u001b[1;33m]\u001b[0m\u001b[1;33m,\u001b[0m \u001b[0mcolor\u001b[0m\u001b[1;33m=\u001b[0m\u001b[1;34m'red'\u001b[0m\u001b[1;33m,\u001b[0m \u001b[0medgecolor\u001b[0m \u001b[1;33m=\u001b[0m \u001b[1;34m'black'\u001b[0m\u001b[1;33m,\u001b[0m \u001b[0malpha\u001b[0m \u001b[1;33m=\u001b[0m \u001b[1;36m0.7\u001b[0m\u001b[1;33m)\u001b[0m\u001b[1;33m\u001b[0m\u001b[1;33m\u001b[0m\u001b[0m\n\u001b[0m\u001b[0;32m      4\u001b[0m \u001b[0mplt\u001b[0m\u001b[1;33m.\u001b[0m\u001b[0mxlabel\u001b[0m\u001b[1;33m(\u001b[0m\u001b[1;34m'Education'\u001b[0m\u001b[1;33m)\u001b[0m\u001b[1;33m\u001b[0m\u001b[1;33m\u001b[0m\u001b[0m\n\u001b[0;32m      5\u001b[0m \u001b[0mplt\u001b[0m\u001b[1;33m.\u001b[0m\u001b[0mtitle\u001b[0m\u001b[1;33m(\u001b[0m\u001b[1;34m'Fig 1: Education vs Target'\u001b[0m\u001b[1;33m)\u001b[0m\u001b[1;33m\u001b[0m\u001b[1;33m\u001b[0m\u001b[0m\n",
      "\u001b[1;32m~\\AppData\\Local\\Programs\\Python\\Python38\\lib\\site-packages\\pandas\\core\\frame.py\u001b[0m in \u001b[0;36m__getitem__\u001b[1;34m(self, key)\u001b[0m\n\u001b[0;32m   2900\u001b[0m             \u001b[1;32mif\u001b[0m \u001b[0mself\u001b[0m\u001b[1;33m.\u001b[0m\u001b[0mcolumns\u001b[0m\u001b[1;33m.\u001b[0m\u001b[0mnlevels\u001b[0m \u001b[1;33m>\u001b[0m \u001b[1;36m1\u001b[0m\u001b[1;33m:\u001b[0m\u001b[1;33m\u001b[0m\u001b[1;33m\u001b[0m\u001b[0m\n\u001b[0;32m   2901\u001b[0m                 \u001b[1;32mreturn\u001b[0m \u001b[0mself\u001b[0m\u001b[1;33m.\u001b[0m\u001b[0m_getitem_multilevel\u001b[0m\u001b[1;33m(\u001b[0m\u001b[0mkey\u001b[0m\u001b[1;33m)\u001b[0m\u001b[1;33m\u001b[0m\u001b[1;33m\u001b[0m\u001b[0m\n\u001b[1;32m-> 2902\u001b[1;33m             \u001b[0mindexer\u001b[0m \u001b[1;33m=\u001b[0m \u001b[0mself\u001b[0m\u001b[1;33m.\u001b[0m\u001b[0mcolumns\u001b[0m\u001b[1;33m.\u001b[0m\u001b[0mget_loc\u001b[0m\u001b[1;33m(\u001b[0m\u001b[0mkey\u001b[0m\u001b[1;33m)\u001b[0m\u001b[1;33m\u001b[0m\u001b[1;33m\u001b[0m\u001b[0m\n\u001b[0m\u001b[0;32m   2903\u001b[0m             \u001b[1;32mif\u001b[0m \u001b[0mis_integer\u001b[0m\u001b[1;33m(\u001b[0m\u001b[0mindexer\u001b[0m\u001b[1;33m)\u001b[0m\u001b[1;33m:\u001b[0m\u001b[1;33m\u001b[0m\u001b[1;33m\u001b[0m\u001b[0m\n\u001b[0;32m   2904\u001b[0m                 \u001b[0mindexer\u001b[0m \u001b[1;33m=\u001b[0m \u001b[1;33m[\u001b[0m\u001b[0mindexer\u001b[0m\u001b[1;33m]\u001b[0m\u001b[1;33m\u001b[0m\u001b[1;33m\u001b[0m\u001b[0m\n",
      "\u001b[1;32m~\\AppData\\Local\\Programs\\Python\\Python38\\lib\\site-packages\\pandas\\core\\indexes\\base.py\u001b[0m in \u001b[0;36mget_loc\u001b[1;34m(self, key, method, tolerance)\u001b[0m\n\u001b[0;32m   2895\u001b[0m                 \u001b[1;32mreturn\u001b[0m \u001b[0mself\u001b[0m\u001b[1;33m.\u001b[0m\u001b[0m_engine\u001b[0m\u001b[1;33m.\u001b[0m\u001b[0mget_loc\u001b[0m\u001b[1;33m(\u001b[0m\u001b[0mcasted_key\u001b[0m\u001b[1;33m)\u001b[0m\u001b[1;33m\u001b[0m\u001b[1;33m\u001b[0m\u001b[0m\n\u001b[0;32m   2896\u001b[0m             \u001b[1;32mexcept\u001b[0m \u001b[0mKeyError\u001b[0m \u001b[1;32mas\u001b[0m \u001b[0merr\u001b[0m\u001b[1;33m:\u001b[0m\u001b[1;33m\u001b[0m\u001b[1;33m\u001b[0m\u001b[0m\n\u001b[1;32m-> 2897\u001b[1;33m                 \u001b[1;32mraise\u001b[0m \u001b[0mKeyError\u001b[0m\u001b[1;33m(\u001b[0m\u001b[0mkey\u001b[0m\u001b[1;33m)\u001b[0m \u001b[1;32mfrom\u001b[0m \u001b[0merr\u001b[0m\u001b[1;33m\u001b[0m\u001b[1;33m\u001b[0m\u001b[0m\n\u001b[0m\u001b[0;32m   2898\u001b[0m \u001b[1;33m\u001b[0m\u001b[0m\n\u001b[0;32m   2899\u001b[0m         \u001b[1;32mif\u001b[0m \u001b[0mtolerance\u001b[0m \u001b[1;32mis\u001b[0m \u001b[1;32mnot\u001b[0m \u001b[1;32mNone\u001b[0m\u001b[1;33m:\u001b[0m\u001b[1;33m\u001b[0m\u001b[1;33m\u001b[0m\u001b[0m\n",
      "\u001b[1;31mKeyError\u001b[0m: 'Target'"
     ]
    },
    {
     "data": {
      "image/png": "[encoded data removed]",
      "text/plain": [
       "<Figure size 1800x1800 with 1 Axes>"
      ]
     },
     "metadata": {
      "needs_background": "light"
     },
     "output_type": "display_data"
    }
   ],
   "source": [
    "plt.figure(figsize= (25,25))\n",
    "plt.subplot(3,3,1)\n",
    "sns.countplot(df.education, hue=df['Target'], color='red', edgecolor = 'black', alpha = 0.7)\n",
    "plt.xlabel('Education')\n",
    "plt.title('Fig 1: Education vs Target')\n",
    "\n",
    "plt.subplot(3,3,2)\n",
    "sns.countplot(df.marital, hue=df['Target'], color='red', edgecolor = 'black', alpha = 0.7)\n",
    "plt.xlabel('Marital')\n",
    "plt.title('Fig 2:Marital Status vs Target')\n",
    "\n",
    "plt.subplot(3,3,3)\n",
    "sns.countplot(df.loan, hue=df['Target'], color='red', edgecolor = 'black', alpha = 0.7)\n",
    "plt.xlabel('Loan')\n",
    "plt.title('Fig 3: Loan vs Target')\n",
    "\n",
    "plt.subplot(3,3,4)\n",
    "sns.countplot(df.housing, hue=df['Target'], color='red', edgecolor = 'black', alpha = 0.7)\n",
    "plt.xlabel('Housing')\n",
    "plt.title('Fig 4: Housing vs Target')\n",
    "\n",
    "plt.show()"
   ]
  },
  {
   "cell_type": "markdown",
   "metadata": {},
   "source": [
    "> **Fig 1:** People for secondary education has higher term deposits and also non-deposits followed by tertiary education. Primary being the lowest and we can also see there unidentified education type as well                                         \n",
    "> **Fig 2:** People married subcribe more for term deposits but majority are not yet subcribed                                 \n",
    "> **Fig 3:** Higher number of term deposits comes from non-personal loan holders, very minimal from personal holders           \n",
    "> **Fig 4:** Similarly housing loan holders subcribe less to term deposits compared to non-housing loan holders                "
   ]
  },
  {
   "cell_type": "code",
   "execution_count": 17,
   "metadata": {},
   "outputs": [
    {
     "data": {
      "image/png": "[encoded data removed]",
      "text/plain": [
       "<Figure size 1440x1440 with 3 Axes>"
      ]
     },
     "metadata": {
      "needs_background": "light"
     },
     "output_type": "display_data"
    }
   ],
   "source": [
    "plt.figure(figsize=(20,20))\n",
    "plt.subplot(3,3,1)\n",
    "sns.countplot(df.education, hue=df['loan'], color='olive', edgecolor = 'black', alpha = 0.7)\n",
    "plt.xlabel('Education')\n",
    "plt.title('Education vs Loan')\n",
    "\n",
    "plt.subplot(3,3,2)\n",
    "sns.countplot(df.marital, hue=df['loan'], color='olive', edgecolor = 'black', alpha = 0.7)\n",
    "plt.xlabel('Marital Status')\n",
    "plt.title('Marital Status vs Loan')\n",
    "\n",
    "plt.subplot(3,3,3)\n",
    "sns.countplot(df.housing, hue=df['loan'], color='olive', edgecolor = 'black', alpha = 0.7)\n",
    "plt.xlabel('Housing')\n",
    "plt.title('Housing vs Loan')\n",
    "\n",
    "plt.show()"
   ]
  },
  {
   "cell_type": "markdown",
   "metadata": {},
   "source": [
    "> From the above graph we are trying to understand the relation between the two varaibles                               \n",
    "> **Fig 1**: Most of the loan holders are from secondary education background, then comes people from who are from tertiary education backgroud                                                                                                            \n",
    "> **Fig 2**: It's understandable that the married people opt for loans due to various commitments followed by unmarried clients  \n",
    "> **Fig 3**: Clients have housing loan is having personal loan as well even though it doesn't go together                       "
   ]
  },
  {
   "cell_type": "code",
   "execution_count": 18,
   "metadata": {},
   "outputs": [
    {
     "data": {
      "image/png": "[encoded data removed]",
      "text/plain": [
       "<Figure size 1440x1080 with 2 Axes>"
      ]
     },
     "metadata": {
      "needs_background": "light"
     },
     "output_type": "display_data"
    }
   ],
   "source": [
    "plt.figure(figsize= (20,15))\n",
    "plt.subplot(3,3,1)\n",
    "sns.countplot(df.marital, color='deepskyblue', edgecolor = 'black', alpha = 0.7)\n",
    "plt.xlabel('Marital')\n",
    "plt.title('Marital Data')\n",
    "\n",
    "plt.subplot(3,3,2)\n",
    "sns.countplot(df.education, color='deepskyblue', edgecolor = 'black', alpha = 0.7)\n",
    "plt.xlabel('Education')\n",
    "plt.title('Education Data')\n",
    "\n",
    "plt.show()"
   ]
  },
  {
   "cell_type": "markdown",
   "metadata": {},
   "source": [
    "> **Marital Status:** Married category has the highest numbers, second comes single category followed by divorced               \n",
    ">**Education Status:** Majority of the people are from secondary education background followed by tertiary education which is the third level education. There are few data where the education background is unknown "
   ]
  },
  {
   "cell_type": "code",
   "execution_count": 19,
   "metadata": {},
   "outputs": [
    {
     "name": "stdout",
     "output_type": "stream",
     "text": [
      "Total number of Targets: 45211\n",
      "Number of Target said yes: 5289\n",
      "Number of Target said no: 39922\n"
     ]
    },
    {
     "data": {
      "image/png": "[encoded data removed]",
      "text/plain": [
       "<Figure size 432x288 with 1 Axes>"
      ]
     },
     "metadata": {
      "needs_background": "light"
     },
     "output_type": "display_data"
    }
   ],
   "source": [
    "sns.countplot(df['Target'], palette='dark')\n",
    "\n",
    "print('Total number of Targets:', df['Target'].count())\n",
    "print('Number of Target said yes:', df[df['Target'] == 'yes'] ['age'].count())\n",
    "print('Number of Target said no:', df[df['Target'] == 'no'] ['age'].count())"
   ]
  },
  {
   "cell_type": "code",
   "execution_count": 20,
   "metadata": {},
   "outputs": [
    {
     "data": {
      "image/png": "[encoded data removed]",
      "text/plain": [
       "<Figure size 720x576 with 1 Axes>"
      ]
     },
     "metadata": {},
     "output_type": "display_data"
    }
   ],
   "source": [
    "plt.figure(figsize=(10,8))\n",
    "\n",
    "df['Target'].value_counts().plot.pie(explode=[0,0.25], autopct='%1.2f%%', colors='cyan')\n",
    "plt.title('Subcriptions Data')\n",
    "plt.ylabel('Conditions of loans')\n",
    "plt.show()"
   ]
  },
  {
   "cell_type": "markdown",
   "metadata": {},
   "source": [
    "> The total percentage of term deposit holders (subcribed) vs the rest"
   ]
  },
  {
   "cell_type": "code",
   "execution_count": 21,
   "metadata": {},
   "outputs": [],
   "source": [
    "from sklearn.preprocessing import LabelEncoder      # Converting the labels into numeric form so as make it machine-learing form\n",
    "\n",
    "job_enc = LabelEncoder()\n",
    "df['job'] = job_enc.fit_transform(df['job']) \n",
    "\n",
    "marital_enc = LabelEncoder()\n",
    "df['marital'] = marital_enc.fit_transform(df['marital'])\n",
    "\n",
    "education_enc = LabelEncoder()\n",
    "df['education'] = education_enc.fit_transform(df['education']) \n",
    "\n",
    "default_enc = LabelEncoder()\n",
    "df['default'] = default_enc.fit_transform(df['default'])\n",
    "\n",
    "housing_enc = LabelEncoder()\n",
    "df['housing'] = housing_enc.fit_transform(df['housing'])\n",
    "\n",
    "df['contact'] = df['contact'].fillna(df['contact'].mode())\n",
    "\n",
    "contact_enc = LabelEncoder()\n",
    "df['contact'] = contact_enc.fit_transform(df['contact'])\n",
    "\n",
    "loan_enc = LabelEncoder()\n",
    "df['loan'] = loan_enc.fit_transform(df['loan'])\n",
    "\n",
    "Target_enc = LabelEncoder()\n",
    "df['Target'] = Target_enc.fit_transform(df['Target']) "
   ]
  },
  {
   "cell_type": "code",
   "execution_count": 22,
   "metadata": {},
   "outputs": [],
   "source": [
    "#Assinging the value to each month in an year so it makes us easy to analyze\n",
    "\n",
    "df.month[df.month == 'jan'] = 1\n",
    "df.month[df.month == 'feb'] = 2\n",
    "df.month[df.month == 'mar'] = 3\n",
    "df.month[df.month == 'apr'] = 4\n",
    "df.month[df.month == 'may'] = 5\n",
    "df.month[df.month == 'jun'] = 6\n",
    "df.month[df.month == 'jul'] = 7\n",
    "df.month[df.month == 'aug'] = 8\n",
    "df.month[df.month == 'sep'] = 9\n",
    "df.month[df.month == 'oct'] = 10\n",
    "df.month[df.month == 'nov'] = 11\n",
    "df.month[df.month == 'dec'] = 12\n",
    "\n",
    "df = df"
   ]
  },
  {
   "cell_type": "code",
   "execution_count": 23,
   "metadata": {},
   "outputs": [],
   "source": [
    "#Even here we are assigning the value to each status of he 'poutcome' variable\n",
    "\n",
    "df.poutcome[df.poutcome == 'failure'] = 0\n",
    "df.poutcome[df.poutcome == 'success'] = 1\n",
    "df.poutcome[df.poutcome == 'unknown'] = 'other'\n",
    "df.poutcome[df.poutcome == 'other'] = 2"
   ]
  },
  {
   "cell_type": "markdown",
   "metadata": {},
   "source": [
    "### Checking the presence of outliers"
   ]
  },
  {
   "cell_type": "code",
   "execution_count": 24,
   "metadata": {},
   "outputs": [
    {
     "data": {
      "text/plain": [
       "<matplotlib.axes._subplots.AxesSubplot at 0x7f485913f048>"
      ]
     },
     "execution_count": 24,
     "metadata": {},
     "output_type": "execute_result"
    },
    {
     "data": {
      "image/png": "[encoded data removed]",
      "text/plain": [
       "<Figure size 1440x1440 with 7 Axes>"
      ]
     },
     "metadata": {
      "needs_background": "light"
     },
     "output_type": "display_data"
    }
   ],
   "source": [
    "plt.figure(figsize=(20,20))\n",
    "\n",
    "plt.subplot(3,3,1)\n",
    "sns.boxplot(df.education) \n",
    "\n",
    "plt.subplot(3,3,2)\n",
    "sns.boxplot(df.balance) \n",
    "\n",
    "plt.subplot(3,3,3)\n",
    "sns.boxplot(df.day) \n",
    "\n",
    "plt.subplot(3,3,4)\n",
    "sns.boxplot(df.duration)\n",
    "\n",
    "plt.subplot(3,3,5)\n",
    "sns.boxplot(df.campaign) \n",
    "\n",
    "plt.subplot(3,3,6)\n",
    "sns.boxplot(df.pdays)\n",
    "\n",
    "plt.subplot(3,3,7)\n",
    "sns.boxplot(df.previous)"
   ]
  },
  {
   "cell_type": "code",
   "execution_count": 25,
   "metadata": {},
   "outputs": [
    {
     "data": {
      "image/png": "[encoded data removed]",
      "text/plain": [
       "<Figure size 864x864 with 2 Axes>"
      ]
     },
     "metadata": {
      "needs_background": "light"
     },
     "output_type": "display_data"
    }
   ],
   "source": [
    "plt.subplots(figsize=(12,12))                  #Checking the correlation metrics between independent and dependent variables\n",
    "sns.heatmap(df.corr(), annot=True, cmap='YlGnBu')\n",
    "plt.show()"
   ]
  },
  {
   "cell_type": "markdown",
   "metadata": {},
   "source": [
    "### Split the dataset into features and target"
   ]
  },
  {
   "cell_type": "code",
   "execution_count": 26,
   "metadata": {},
   "outputs": [],
   "source": [
    "X = df.drop(['Target'], axis=1)                         #Creating variable 'X' for independent features\n",
    "y = df['Target']                                          #Creating variable 'y' for independent features"
   ]
  },
  {
   "cell_type": "code",
   "execution_count": 27,
   "metadata": {},
   "outputs": [],
   "source": [
    "#Before we proceed in removing outliers we need to make sure that all our attributes are in integer format \n",
    "\n",
    "#df.info()                              "
   ]
  },
  {
   "cell_type": "code",
   "execution_count": 28,
   "metadata": {},
   "outputs": [],
   "source": [
    "df = df.astype({\"poutcome\":'int32'})         #Converting 'poutcome' attribute to integer\n",
    "df = df.astype({\"month\":'int32'})            #Converting the 'month' attribute to integer"
   ]
  },
  {
   "cell_type": "markdown",
   "metadata": {},
   "source": [
    "### Removing Outliers"
   ]
  },
  {
   "cell_type": "code",
   "execution_count": 29,
   "metadata": {},
   "outputs": [],
   "source": [
    "# It first computes the zscore for each value in the column, relative to the column mean and standard deviation\n",
    "# Then it consideres the absolute z-score, only if it is below the threshold\n",
    "# axis =1 applying to each row, all columns satisfy the constraint\n",
    "\n",
    "from scipy import stats               #Importing the 'stats' as I need zscore librariy to set the threshold \n",
    "df = df[(np.abs(stats.zscore(df)) < 3).all(axis=1)]    "
   ]
  },
  {
   "cell_type": "markdown",
   "metadata": {},
   "source": [
    "### Using Standard Scaler method to scale the dataframe"
   ]
  },
  {
   "cell_type": "code",
   "execution_count": 30,
   "metadata": {},
   "outputs": [],
   "source": [
    "from sklearn.preprocessing import StandardScaler"
   ]
  },
  {
   "cell_type": "code",
   "execution_count": 31,
   "metadata": {},
   "outputs": [],
   "source": [
    "df_std = StandardScaler()"
   ]
  },
  {
   "cell_type": "code",
   "execution_count": 32,
   "metadata": {},
   "outputs": [],
   "source": [
    "X = df_std.fit_transform(X)"
   ]
  },
  {
   "cell_type": "markdown",
   "metadata": {},
   "source": [
    "### Data is now ready to train the model. I have tried two types of cross-validation method "
   ]
  },
  {
   "cell_type": "markdown",
   "metadata": {},
   "source": [
    "### Type 1: Using Stratified K-Fold"
   ]
  },
  {
   "cell_type": "markdown",
   "metadata": {},
   "source": [
    "Provides train/test indices to split data in train/test sets. It rearranges the data in such a way that it represents the whole data. It is perticulary usefull where is the data has huge class imbalance.                                                    \n",
    "The folds are selected so that the mean response value is approxmately equal in all the folds. In the case of binary classification, this means that each fold roughly contains the same proportions of the two types of class labels.              \n",
    "Stratification is generally a better scheme, both in terms of bias and variance when compared to regular cross-validation"
   ]
  },
  {
   "cell_type": "code",
   "execution_count": 33,
   "metadata": {},
   "outputs": [],
   "source": [
    "#from sklearn.model_selection import StratifiedKFold\n",
    "\n",
    "#skf = StratifiedKFold(n_splits=6)\n",
    "#skf.get_n_splits(X, y)\n",
    "\n",
    "#for train_index, test_index in skf.split(X, y):\n",
    "    #print(\"TRAIN:\", train_index, \"TEST:\", test_index)\n",
    "    #X_train, X_test = X[train_index], X[test_index]\n",
    "    #y_train, y_test = y[train_index], y[test_index]"
   ]
  },
  {
   "cell_type": "markdown",
   "metadata": {},
   "source": [
    "> **The results from StraightKFold split model wasn't that good. I will try with another method called 'RepeatedKFold' let's see how it performs"
   ]
  },
  {
   "cell_type": "markdown",
   "metadata": {},
   "source": [
    "### Type 2: Repeated K-Fold Validation"
   ]
  },
  {
   "cell_type": "markdown",
   "metadata": {},
   "source": [
    "In this method the data is split into k-folds and repeated a numbe of times. The final model accuracy is taken as the mean from the number of repeats. I have considered 10-fold cross validation with 5 repeats on the training data set"
   ]
  },
  {
   "cell_type": "code",
   "execution_count": 34,
   "metadata": {},
   "outputs": [
    {
     "name": "stdout",
     "output_type": "stream",
     "text": [
      "Train: [    0     1     2 ... 45208 45209 45210] Validation: [    6    16    71 ... 45182 45186 45194]\n",
      "Train: [    0     1     2 ... 45207 45208 45210] Validation: [    3    13    14 ... 45177 45179 45209]\n",
      "Train: [    0     1     2 ... 45207 45209 45210] Validation: [   20    40    42 ... 45193 45203 45208]\n",
      "Train: [    1     3     4 ... 45208 45209 45210] Validation: [    0     2     8 ... 45191 45192 45207]\n",
      "Train: [    0     1     2 ... 45208 45209 45210] Validation: [    7     9    25 ... 45190 45197 45198]\n",
      "Train: [    0     1     2 ... 45208 45209 45210] Validation: [   29    34    47 ... 45196 45199 45201]\n",
      "Train: [    0     1     2 ... 45208 45209 45210] Validation: [   28    51    62 ... 45176 45200 45202]\n",
      "Train: [    0     1     2 ... 45208 45209 45210] Validation: [    5    12    21 ... 45161 45195 45204]\n",
      "Train: [    0     1     2 ... 45207 45208 45209] Validation: [   19    26    43 ... 45174 45205 45210]\n",
      "Train: [    0     2     3 ... 45208 45209 45210] Validation: [    1     4    10 ... 45185 45189 45206]\n",
      "Train: [    1     3     4 ... 45208 45209 45210] Validation: [    0     2    10 ... 45178 45192 45200]\n",
      "Train: [    0     1     2 ... 45208 45209 45210] Validation: [    6     8    25 ... 45162 45199 45204]\n",
      "Train: [    0     1     2 ... 45206 45207 45210] Validation: [    5    11    18 ... 45185 45208 45209]\n",
      "Train: [    0     1     2 ... 45208 45209 45210] Validation: [   14    22    28 ... 45187 45191 45198]\n",
      "Train: [    0     1     2 ... 45208 45209 45210] Validation: [   19    23    38 ... 45175 45189 45194]\n",
      "Train: [    0     1     2 ... 45208 45209 45210] Validation: [    9    42    54 ... 45201 45206 45207]\n",
      "Train: [    0     1     2 ... 45208 45209 45210] Validation: [    7    17    32 ... 45193 45203 45205]\n",
      "Train: [    0     1     2 ... 45208 45209 45210] Validation: [   20    21    37 ... 45173 45177 45188]\n",
      "Train: [    0     2     5 ... 45207 45208 45209] Validation: [    1     3     4 ... 45196 45202 45210]\n",
      "Train: [    0     1     2 ... 45208 45209 45210] Validation: [   16    24    80 ... 45176 45181 45195]\n",
      "Train: [    0     1     3 ... 45208 45209 45210] Validation: [    2    12    27 ... 45197 45200 45203]\n",
      "Train: [    0     1     2 ... 45208 45209 45210] Validation: [    5    25    40 ... 45152 45159 45165]\n",
      "Train: [    0     1     2 ... 45206 45207 45210] Validation: [    3    19    24 ... 45202 45208 45209]\n",
      "Train: [    0     1     2 ... 45208 45209 45210] Validation: [    6    16    20 ... 45170 45191 45193]\n",
      "Train: [    0     1     2 ... 45208 45209 45210] Validation: [    4    14    31 ... 45188 45206 45207]\n",
      "Train: [    1     2     3 ... 45208 45209 45210] Validation: [    0    15    21 ... 45162 45187 45201]\n",
      "Train: [    0     1     2 ... 45208 45209 45210] Validation: [   10    17    37 ... 45181 45189 45204]\n",
      "Train: [    0     2     3 ... 45208 45209 45210] Validation: [    1     9    13 ... 45180 45182 45195]\n",
      "Train: [    0     1     2 ... 45208 45209 45210] Validation: [    7    11    22 ... 45185 45196 45205]\n",
      "Train: [    0     1     2 ... 45207 45208 45209] Validation: [    8    18    49 ... 45198 45199 45210]\n",
      "Train: [    0     1     2 ... 45208 45209 45210] Validation: [   16    22    30 ... 45185 45195 45198]\n",
      "Train: [    0     2     3 ... 45208 45209 45210] Validation: [    1     9    23 ... 45178 45180 45196]\n",
      "Train: [    0     1     2 ... 45208 45209 45210] Validation: [    3     7    10 ... 45118 45168 45179]\n",
      "Train: [    0     1     2 ... 45206 45209 45210] Validation: [    6    13    17 ... 45202 45207 45208]\n",
      "Train: [    0     1     2 ... 45208 45209 45210] Validation: [   11    12    14 ... 45186 45193 45200]\n",
      "Train: [    0     1     2 ... 45208 45209 45210] Validation: [    8    18    45 ... 45183 45189 45205]\n",
      "Train: [    1     2     3 ... 45208 45209 45210] Validation: [    0    20    21 ... 45158 45160 45199]\n",
      "Train: [    0     1     2 ... 45208 45209 45210] Validation: [   26    34    38 ... 45187 45197 45201]\n",
      "Train: [    0     1     2 ... 45208 45209 45210] Validation: [   15    27    31 ... 45191 45192 45204]\n",
      "Train: [    0     1     3 ... 45205 45207 45208] Validation: [    2     4     5 ... 45206 45209 45210]\n",
      "Train: [    0     1     2 ... 45207 45208 45210] Validation: [   10    15    23 ... 45173 45180 45209]\n",
      "Train: [    0     1     2 ... 45208 45209 45210] Validation: [    3     8    19 ... 45202 45205 45207]\n",
      "Train: [    0     1     2 ... 45208 45209 45210] Validation: [   18    21    66 ... 45186 45190 45203]\n",
      "Train: [    1     2     3 ... 45208 45209 45210] Validation: [    0     6    17 ... 45167 45194 45204]\n",
      "Train: [    0     1     2 ... 45208 45209 45210] Validation: [    7    22    24 ... 45195 45196 45200]\n",
      "Train: [    0     1     2 ... 45207 45209 45210] Validation: [   12    13    20 ... 45197 45198 45208]\n",
      "Train: [    0     1     2 ... 45208 45209 45210] Validation: [   11    27    31 ... 45185 45188 45199]\n",
      "Train: [    0     1     2 ... 45208 45209 45210] Validation: [    9    14    16 ... 45187 45193 45206]\n",
      "Train: [    0     2     3 ... 45208 45209 45210] Validation: [    1    26    30 ... 45171 45175 45189]\n",
      "Train: [    0     1     3 ... 45207 45208 45209] Validation: [    2     4     5 ... 45176 45192 45210]\n"
     ]
    }
   ],
   "source": [
    "from sklearn.model_selection import RepeatedKFold\n",
    "\n",
    "rkf = RepeatedKFold(n_splits=10, n_repeats=5, random_state=None)\n",
    "\n",
    "for train_index, test_index in rkf.split(X):\n",
    "    print(\"Train:\", train_index, \"Validation:\", test_index)\n",
    "    X_train, X_test = X[train_index], X[test_index]\n",
    "    y_train, y_test = y[train_index], y[test_index]"
   ]
  },
  {
   "cell_type": "markdown",
   "metadata": {},
   "source": [
    "> Repeated K_Fold performs better than the stratified method. It was close to Stratifies method but scores around 2% better. Hence I consider this method to build the model "
   ]
  },
  {
   "cell_type": "markdown",
   "metadata": {},
   "source": [
    "**### Train a few standard classification algorithms, note and comment on their performances along different metrics."
   ]
  },
  {
   "cell_type": "markdown",
   "metadata": {},
   "source": [
    "### Machine Learning models used:\n",
    "1. Support Vactor Machine Classifier\n",
    "> SVM is a discriminative classifier formally defined by a separating hyperplane. Given labeled training data (supervised learning), the algorithm outputs an optimal hyperplane which categorizes new examples. In two dimentional space this hyperplane is a line dividing a plane in two parts where in each class lay in either side.                                                \n",
    "2. Gaussian Naive Bayes\n",
    "> The Naive Bayes classifier is a probabilistic machine learning model that's used for classification task. The crux of classifier is based on the Bayes theorem                                                                                       \n",
    "Gaussian - When the predictors take up a continous value and are not discrete, we assume that these values are sampled from a gaussian distribution\n",
    "3. K-Nearest Neighbour\n",
    "    > KNN is a non-parametric method used for classification and regression. It consists of k closest training examples in the feature space. In Classification the output is a class membership. An object is classified by a plurality vote of its neighbours, with the object being assigned to the class most among its K nearest neighbors ( K is positive integer, typically the small) if k = 1 then the object is simply assigned to the same class of that single nearest neighbor\n",
    "4. Logistic Regression\n",
    "> A Supervised classification algorithm. It used Sigmoid function for classifying the binary labelled output variables. \n",
    "5. XGBoost\n",
    "> eXtreme Gradient Boosting is a library of gradient boosting algorithms. It leverages the techniques mentioned with boosting and comes wrapped in easy to use library. Some major benefits includes highly scalable, quick to execute and out performs other algorithms. \n",
    "6. Decision Tree\n",
    "> Is a flowchart-like tree structure where an internal node represents feature, the branch represents a decision rule and each leaf node represents the outcome. Repetitively divides the working area into sub part by identifying lines. \n",
    "7. Decision Tree Entropy\n",
    "> Entropy used to construct decision trees. To calculate the homogeneity of a sample. If the sample is completly homogeneous the entropy is zero and if the sample is equally divided then it has entropy of one. \n",
    "8. Random Forest\n",
    "> A random forest is a meta estimator that fits a nummber of decision tree classifiers on various sub-samples of the dataset and uses averaging to improve the predictive accuracy and control over-fitting\n",
    "9. Adaboost Classifier\n",
    "> The core definition of boosting is a method that converts weak leaners to strong learners and is typically applied to trees. Boosting Algorithm adds iterations of the model sequentially, adjusting the weights of the weak-learners along the way. This reduces the bias from the model and typically improves accuracy.  \n",
    "10. Bagging Classifier\n",
    "> Bootstrap Aggregation or Bagging has two distinct features. For training it leverages a Bootstrap procedure to separate the training data into different random subsamples. For prediction, a bagging classifier will use the prediction with the most votes from each model to produce its output and a bagging regression will take an average of all models to produce an output. \n",
    "11. GradientBoost Classifier\n",
    "> Gradient boosted classification is an addictive training free classification method where trees are build in series and compared to each other based on mathematically derived score of splits. The trees are compared based on weighted leaf scores within each leaf "
   ]
  },
  {
   "cell_type": "markdown",
   "metadata": {},
   "source": [
    "### Support Vector Machines "
   ]
  },
  {
   "cell_type": "code",
   "execution_count": 35,
   "metadata": {},
   "outputs": [],
   "source": [
    "from sklearn import svm\n",
    "\n",
    "svm = svm.SVC(probability=True, gamma='auto')\n",
    "svm_model = svm.fit(X_train, y_train)\n",
    "\n",
    "svm_pred = svm_model.predict(X_test)"
   ]
  },
  {
   "cell_type": "code",
   "execution_count": 36,
   "metadata": {},
   "outputs": [
    {
     "name": "stdout",
     "output_type": "stream",
     "text": [
      "Accuracy 0.9059942490599425\n",
      "F1 core 0.4248985115020298\n",
      "\n",
      "\n",
      "Scoring on Training Dataset 0.9085278938314082\n",
      "Scoring on Test Dataset 0.9059942490599425\n",
      "\n",
      "\n",
      "Confusion matrix \n",
      " [[3939   91]\n",
      " [ 334  157]]\n",
      "\n",
      "\n",
      "AUC Score 0.9009313529126171\n",
      "roc_auc_score 0.6635636503850308\n"
     ]
    }
   ],
   "source": [
    "k_fold = KFold(n_splits=10, shuffle=True, random_state=0)\n",
    "\n",
    "print('Accuracy', metrics.accuracy_score(y_test, svm_pred))\n",
    "print('F1 core', metrics.f1_score(y_test, svm_pred))\n",
    "print('\\n')                                                                                                                \n",
    "print('Scoring on Training Dataset', svm.score(X_train, y_train))\n",
    "print('Scoring on Test Dataset', svm.score(X_test, y_test))\n",
    "print('\\n')                                                                                                                \n",
    "print('Confusion matrix \\n',confusion_matrix(y_test, svm_pred))\n",
    "print('\\n')\n",
    "false_positive_rate, true_positive_rate, thresholds = roc_curve(y, svm_model.predict_proba(X)[:,1])\n",
    "print('AUC Score',auc(false_positive_rate, true_positive_rate))\n",
    "print('roc_auc_score',roc_auc_score(y, svm_model.predict(X)))\n",
    "\n",
    "SVM = (cross_val_score(svm_model, X_train, y_train, cv=k_fold, n_jobs=1, scoring='accuracy').mean())"
   ]
  },
  {
   "cell_type": "markdown",
   "metadata": {},
   "source": [
    "### Notes on Results:\n",
    "1. Accuracy: Score is good\n",
    "2. F1 Score: Score is bit low\n",
    "3. Results on Training and Test dataset looks good which tell us that there is no Overfitting or Underfitting issues\n",
    "4. AUC is pretty good"
   ]
  },
  {
   "cell_type": "markdown",
   "metadata": {},
   "source": [
    "### Naive Bayes"
   ]
  },
  {
   "cell_type": "code",
   "execution_count": 37,
   "metadata": {},
   "outputs": [
    {
     "name": "stdout",
     "output_type": "stream",
     "text": [
      "Accuracy Score for Naive Bayes Classifier is: 0.8281353682813537\n",
      "F1 Score for Naive Bayes Classifier is: 0.3857707509881423\n",
      "\n",
      "\n",
      "Scoring on Training Data: 0.8281150159744409\n",
      "Scoring on Test Data: 0.8281353682813537\n",
      "\n",
      "\n",
      "Confusion matrix \n",
      " [[3500  530]\n",
      " [ 247  244]]\n",
      "\n",
      "\n",
      "AUC Score 0.813744463833422\n",
      "roc_auc_score 0.6841123135851345\n"
     ]
    }
   ],
   "source": [
    "from sklearn.naive_bayes import GaussianNB\n",
    "\n",
    "naive_model = GaussianNB()\n",
    "NB_model = naive_model.fit(X_train, y_train)\n",
    "NB_predict = naive_model.predict(X_test)\n",
    "\n",
    "print('Accuracy Score for Naive Bayes Classifier is:', metrics.accuracy_score(y_test, NB_predict))\n",
    "print('F1 Score for Naive Bayes Classifier is:', metrics.f1_score(y_test, NB_predict))\n",
    "print('\\n')                                                                                                                \n",
    "print('Scoring on Training Data:', naive_model.score(X_train, y_train)) \n",
    "print('Scoring on Test Data:', naive_model.score(X_test, y_test)) \n",
    "print('\\n')                                                                                                                                                                                                                               \n",
    "print('Confusion matrix', '\\n', confusion_matrix(y_test, NB_predict))\n",
    "print('\\n')                                                                                                                \n",
    "\n",
    "false_positive_rate, true_positive_rate, thresholds = roc_curve(y, NB_model.predict_proba(X)[:,1])\n",
    "print('AUC Score',auc(false_positive_rate, true_positive_rate))\n",
    "print('roc_auc_score',roc_auc_score(y, NB_model.predict(X)))\n",
    "\n",
    "Gausian = (cross_val_score(naive_model, X_train, y_train, cv=k_fold, n_jobs=1, scoring='accuracy').mean())"
   ]
  },
  {
   "cell_type": "markdown",
   "metadata": {},
   "source": [
    "### Notes on Results:\n",
    "\n",
    "1. Accuracy: Score is ok but not that great \n",
    "2. F1 Score: Score is also bit too low\n",
    "3. Results on Training and Test dataset looks good which tell us that there is no Overfitting and Underfitting issues\n",
    "4. AUC is also low"
   ]
  },
  {
   "cell_type": "markdown",
   "metadata": {},
   "source": [
    "### KNN "
   ]
  },
  {
   "cell_type": "code",
   "execution_count": 38,
   "metadata": {},
   "outputs": [],
   "source": [
    "from sklearn.neighbors import KNeighborsClassifier"
   ]
  },
  {
   "cell_type": "code",
   "execution_count": 39,
   "metadata": {},
   "outputs": [],
   "source": [
    "error_rate = []\n",
    "\n",
    "for i in range(1,40):\n",
    "    \n",
    "    knn = KNeighborsClassifier(n_neighbors=i)\n",
    "    knn.fit(X_train, y_train)\n",
    "    pred_i = knn.predict(X_test)\n",
    "    error_rate.append(np.mean(pred_i != y_test))"
   ]
  },
  {
   "cell_type": "code",
   "execution_count": 40,
   "metadata": {},
   "outputs": [
    {
     "data": {
      "text/plain": [
       "Text(0, 0.5, 'Error Rate')"
      ]
     },
     "execution_count": 40,
     "metadata": {},
     "output_type": "execute_result"
    },
    {
     "data": {
      "image/png": "[encoded data removed]",
      "text/plain": [
       "<Figure size 720x432 with 1 Axes>"
      ]
     },
     "metadata": {
      "needs_background": "light"
     },
     "output_type": "display_data"
    }
   ],
   "source": [
    "plt.figure(figsize=(10,6))\n",
    "plt.plot(range(1,40), error_rate, color='blue', linestyle='dashed', marker='o',\n",
    "        markerfacecolor='red', markersize=10)\n",
    "plt.title('Error Rate vs. K Value')\n",
    "plt.xlabel('K')\n",
    "plt.ylabel('Error Rate') "
   ]
  },
  {
   "cell_type": "code",
   "execution_count": 41,
   "metadata": {},
   "outputs": [
    {
     "name": "stdout",
     "output_type": "stream",
     "text": [
      "**Accuracy for KNN classifier is: 0.8772395487723955\n",
      "**F1_score for KNN classifier is: 0.41145281018027574\n"
     ]
    }
   ],
   "source": [
    "#FIRST A QUICK COMPARISON TO OUR ORIGINAL K=1\n",
    "\n",
    "knn = KNeighborsClassifier(n_neighbors=1)\n",
    "\n",
    "knn.fit(X_train,y_train)\n",
    "pred = knn.predict(X_test)\n",
    "print('**Accuracy for KNN classifier is:', metrics.accuracy_score(y_test, pred))\n",
    "print('**F1_score for KNN classifier is:', metrics.f1_score(y_test, pred))"
   ]
  },
  {
   "cell_type": "code",
   "execution_count": 42,
   "metadata": {},
   "outputs": [
    {
     "name": "stdout",
     "output_type": "stream",
     "text": [
      "**Accuracy for KNN classifier is: 0.9037823490378235\n",
      "**F1_score for KNN classifier is: 0.3794579172610557\n",
      "\n",
      "\n",
      "Scoring on Training Dataset is: 1.0\n",
      "Scoring on Test Dataset is: 0.9037823490378235\n",
      "\n",
      "\n",
      "AUC Score 0.996769613016132\n",
      "roc_auc_score 0.9651917926475819\n",
      "\n",
      "\n",
      "Confusion matrix \n",
      " [[3953   77]\n",
      " [ 358  133]]\n"
     ]
    }
   ],
   "source": [
    "#Now with K=5\n",
    "\n",
    "KNN_model = KNeighborsClassifier(n_neighbors=32, weights = 'distance')\n",
    "knn_model = KNN_model.fit(X_train, y_train)\n",
    "knn_predict = KNN_model.predict(X_test)\n",
    "\n",
    "print('**Accuracy for KNN classifier is:', metrics.accuracy_score(y_test, knn_predict))\n",
    "print('**F1_score for KNN classifier is:', metrics.f1_score(y_test, knn_predict))\n",
    "print('\\n')\n",
    "print('Scoring on Training Dataset is:', KNN_model.score(X_train, y_train))\n",
    "print('Scoring on Test Dataset is:', KNN_model.score(X_test, y_test))\n",
    "print('\\n')\n",
    "false_positive_rate, true_positive_rate, thresholds = roc_curve(y, knn_model.predict_proba(X)[:,1])\n",
    "print('AUC Score',auc(false_positive_rate, true_positive_rate))\n",
    "print('roc_auc_score',roc_auc_score(y, knn_model.predict(X)))\n",
    "print('\\n')\n",
    "print('Confusion matrix', '\\n', confusion_matrix(y_test, knn_predict))\n",
    "\n",
    "knn = (cross_val_score(KNN_model, X_train, y_train, cv=k_fold, n_jobs=1, scoring='accuracy').mean())"
   ]
  },
  {
   "cell_type": "markdown",
   "metadata": {},
   "source": [
    "### Notes on Results:\n",
    "\n",
    "1. Accuracy is score is good \n",
    "2. F1 Score score is too low\n",
    "3. Model score on Training shows 1 which might not be realistically correct\n",
    "4. AUC is also close to 1 which might not be realistically correct\n",
    "5. Confusion matrix shows values for TN, TP, FP and FN. Our aim is to get the lower False Positive which is pretty good in this model"
   ]
  },
  {
   "cell_type": "markdown",
   "metadata": {},
   "source": [
    "### Logistic Regression"
   ]
  },
  {
   "cell_type": "code",
   "execution_count": 43,
   "metadata": {},
   "outputs": [
    {
     "name": "stderr",
     "output_type": "stream",
     "text": [
      "/opt/conda/lib/python3.6/site-packages/sklearn/linear_model/logistic.py:432: FutureWarning:\n",
      "\n",
      "Default solver will be changed to 'lbfgs' in 0.22. Specify a solver to silence this warning.\n",
      "\n"
     ]
    },
    {
     "name": "stdout",
     "output_type": "stream",
     "text": [
      "Accuracy for Logistic Regression model is: 0.8951559389515594\n",
      "F1_score for Logistic Regression model is: 0.29881656804733725\n",
      "\n",
      "\n",
      "Confusion matrix \n",
      " [[3946   84]\n",
      " [ 390  101]]\n",
      "\n",
      "\n",
      "AUC Score 0.8706538726125701\n",
      "roc_auc_score 0.5965211359541918\n",
      "\n",
      "\n",
      "Scoring on Training Data: 0.8900221184566233\n",
      "Scoring on Test Data: 0.8951559389515594\n"
     ]
    },
    {
     "name": "stderr",
     "output_type": "stream",
     "text": [
      "/opt/conda/lib/python3.6/site-packages/sklearn/linear_model/logistic.py:432: FutureWarning:\n",
      "\n",
      "Default solver will be changed to 'lbfgs' in 0.22. Specify a solver to silence this warning.\n",
      "\n",
      "/opt/conda/lib/python3.6/site-packages/sklearn/linear_model/logistic.py:432: FutureWarning:\n",
      "\n",
      "Default solver will be changed to 'lbfgs' in 0.22. Specify a solver to silence this warning.\n",
      "\n",
      "/opt/conda/lib/python3.6/site-packages/sklearn/linear_model/logistic.py:432: FutureWarning:\n",
      "\n",
      "Default solver will be changed to 'lbfgs' in 0.22. Specify a solver to silence this warning.\n",
      "\n",
      "/opt/conda/lib/python3.6/site-packages/sklearn/linear_model/logistic.py:432: FutureWarning:\n",
      "\n",
      "Default solver will be changed to 'lbfgs' in 0.22. Specify a solver to silence this warning.\n",
      "\n",
      "/opt/conda/lib/python3.6/site-packages/sklearn/linear_model/logistic.py:432: FutureWarning:\n",
      "\n",
      "Default solver will be changed to 'lbfgs' in 0.22. Specify a solver to silence this warning.\n",
      "\n",
      "/opt/conda/lib/python3.6/site-packages/sklearn/linear_model/logistic.py:432: FutureWarning:\n",
      "\n",
      "Default solver will be changed to 'lbfgs' in 0.22. Specify a solver to silence this warning.\n",
      "\n",
      "/opt/conda/lib/python3.6/site-packages/sklearn/linear_model/logistic.py:432: FutureWarning:\n",
      "\n",
      "Default solver will be changed to 'lbfgs' in 0.22. Specify a solver to silence this warning.\n",
      "\n",
      "/opt/conda/lib/python3.6/site-packages/sklearn/linear_model/logistic.py:432: FutureWarning:\n",
      "\n",
      "Default solver will be changed to 'lbfgs' in 0.22. Specify a solver to silence this warning.\n",
      "\n",
      "/opt/conda/lib/python3.6/site-packages/sklearn/linear_model/logistic.py:432: FutureWarning:\n",
      "\n",
      "Default solver will be changed to 'lbfgs' in 0.22. Specify a solver to silence this warning.\n",
      "\n",
      "/opt/conda/lib/python3.6/site-packages/sklearn/linear_model/logistic.py:432: FutureWarning:\n",
      "\n",
      "Default solver will be changed to 'lbfgs' in 0.22. Specify a solver to silence this warning.\n",
      "\n"
     ]
    }
   ],
   "source": [
    "from sklearn.linear_model import LogisticRegression\n",
    "\n",
    "logit_model = LogisticRegression()\n",
    "LG_model = logit_model.fit(X_train, y_train)\n",
    "\n",
    "logit_predict = logit_model.predict(X_test)\n",
    "\n",
    "print('Accuracy for Logistic Regression model is:', metrics.accuracy_score(y_test, logit_predict))\n",
    "print('F1_score for Logistic Regression model is:', metrics.f1_score(y_test, logit_predict))\n",
    "print('\\n')\n",
    "print('Confusion matrix', '\\n', confusion_matrix(y_test, logit_predict))\n",
    "print('\\n')\n",
    "false_positive_rate, true_positive_rate, thresholds = roc_curve(y, LG_model.predict_proba(X)[:,1])\n",
    "print('AUC Score',auc(false_positive_rate, true_positive_rate))\n",
    "print('roc_auc_score',roc_auc_score(y, LG_model.predict(X)))\n",
    "print('\\n')\n",
    "print('Scoring on Training Data:', logit_model.score(X_train, y_train)) \n",
    "print('Scoring on Test Data:', logit_model.score(X_test, y_test)) \n",
    "\n",
    "LogitRegression = (cross_val_score(logit_model, X_train, y_train, cv=k_fold, n_jobs=1, scoring='accuracy').mean())"
   ]
  },
  {
   "cell_type": "markdown",
   "metadata": {},
   "source": [
    "### Notes on Results:\n",
    "\n",
    "1. Accuracy is score is good \n",
    "2. F1 Score score is too low\n",
    "3. Model score on Training and Test dataset is good which tell us no Overfitting/Undersitting of the model\n",
    "4. AUC score is good\n",
    "5. Confusion matrix shows values for TN, TP, FP and FN. Our aim is to get the lower False Positive which is pretty good in this model"
   ]
  },
  {
   "cell_type": "markdown",
   "metadata": {},
   "source": [
    "#### XGBoost"
   ]
  },
  {
   "cell_type": "code",
   "execution_count": 44,
   "metadata": {},
   "outputs": [
    {
     "name": "stdout",
     "output_type": "stream",
     "text": [
      "**Scoring on Training Data: 0.9062668960432538\n",
      "**Scoring on Test Data: 0.9095332890953329\n",
      "\n",
      "\n",
      "**Accuracy for XGBoost classifier is: 0.9095332890953329\n",
      "**F1_score for XGBoost classifier is: 0.47361647361647363\n",
      "\n",
      "\n",
      "Confusion matrix \n",
      " [[3928  102]\n",
      " [ 307  184]]\n",
      "\n",
      "\n",
      "AUC Score 0.9292148309926611\n",
      "roc_auc_score 0.6736833341370371\n"
     ]
    }
   ],
   "source": [
    "from xgboost import XGBClassifier\n",
    "\n",
    "xgb = XGBClassifier()\n",
    "xgb_model = xgb.fit(X_train, y_train)\n",
    "xgb_predict = xgb.predict(X_test)\n",
    "\n",
    "print('**Scoring on Training Data:', xgb.score(X_train, y_train)) \n",
    "print('**Scoring on Test Data:',xgb.score(X_test, y_test))\n",
    "print('\\n')\n",
    "print('**Accuracy for XGBoost classifier is:', metrics.accuracy_score(y_test, xgb_predict))\n",
    "print('**F1_score for XGBoost classifier is:', metrics.f1_score(y_test, xgb_predict))\n",
    "print('\\n')\n",
    "print('Confusion matrix', '\\n', confusion_matrix(y_test, xgb_predict))\n",
    "print('\\n')\n",
    "false_positive_rate, true_positive_rate, thresholds = roc_curve(y, xgb_model.predict_proba(X)[:,1])\n",
    "print('AUC Score',auc(false_positive_rate, true_positive_rate))\n",
    "print('roc_auc_score',roc_auc_score(y, xgb_model.predict(X)))\n",
    "\n",
    "XGBoost = (cross_val_score(xgb, X_train, y_train, cv=k_fold, n_jobs=1, scoring='accuracy').mean())"
   ]
  },
  {
   "cell_type": "markdown",
   "metadata": {},
   "source": [
    "### Notes on Results:\n",
    "\n",
    "1. Accuracy is score is very good \n",
    "2. F1 Score score is low \n",
    "3. Model score on Training and Test dataset is good which tell us no Overfitting/Undersitting of the model\n",
    "4. AUC score is good\n",
    "5. Confusion matrix shows values for TN, TP, FP and FN. Our aim is to get the lower False Positive which is pretty good in this model"
   ]
  },
  {
   "cell_type": "code",
   "execution_count": 45,
   "metadata": {},
   "outputs": [
    {
     "name": "stderr",
     "output_type": "stream",
     "text": [
      "/opt/conda/lib/python3.6/site-packages/sklearn/linear_model/logistic.py:432: FutureWarning:\n",
      "\n",
      "Default solver will be changed to 'lbfgs' in 0.22. Specify a solver to silence this warning.\n",
      "\n"
     ]
    },
    {
     "name": "stdout",
     "output_type": "stream",
     "text": [
      "Accuracy: 0.904888299048883\n",
      "F1_Score: 0.4189189189189189\n",
      "\n",
      "\n",
      "Confusion matrix \n",
      " [[3936   94]\n",
      " [ 336  155]]\n",
      "\n",
      "\n",
      "Training Score: 0.9162693536495453\n",
      "Testing Score: 0.904888299048883\n"
     ]
    }
   ],
   "source": [
    "from sklearn.ensemble import VotingClassifier\n",
    "\n",
    "v_clf = VotingClassifier(estimators=[('svm',svm_model),('NB',NB_model),('knn',knn_model),('Logistic',LG_model),\n",
    "                                    ('xgb',xgb_model)], voting='hard')\n",
    "\n",
    "vclf_model = v_clf.fit(X_train, y_train)\n",
    "\n",
    "pred_vclf =v_clf.predict(X_test)\n",
    "\n",
    "print('Accuracy:', metrics.accuracy_score(y_test, pred_vclf))\n",
    "print('F1_Score:', metrics.f1_score(y_test, pred_vclf))\n",
    "print('\\n')\n",
    "print('Confusion matrix', '\\n', confusion_matrix(y_test, pred_vclf))\n",
    "print('\\n')\n",
    "print('Training Score:', vclf_model.score(X_train, y_train))\n",
    "print('Testing Score:', vclf_model.score(X_test, y_test))"
   ]
  },
  {
   "cell_type": "markdown",
   "metadata": {},
   "source": [
    "### Notes on Results:\n",
    "\n",
    "1. Accuracy is score is good \n",
    "2. F1 Score score is low\n",
    "3. Model score on Training and Test dataset is good which tell us no Overfitting/Undersitting of the model\n",
    "4. Confusion matrix shows values for TN, TP, FP and FN. Our aim is to get the lower False Positive which is pretty good in this model"
   ]
  },
  {
   "cell_type": "markdown",
   "metadata": {},
   "source": [
    "### 6. Build the ensemble models and compare the results with the base models. Note: Random forest can be used only with Decision trees"
   ]
  },
  {
   "cell_type": "markdown",
   "metadata": {},
   "source": [
    "### Creating a decision tree model using 'entropy' method of finding the split columns and fit to training data"
   ]
  },
  {
   "cell_type": "markdown",
   "metadata": {},
   "source": [
    "### Decision Tree "
   ]
  },
  {
   "cell_type": "code",
   "execution_count": 46,
   "metadata": {},
   "outputs": [],
   "source": [
    "#Invoking the Decision Tree classifier function using 'Entropy' method of finding the split columns. \n",
    "#Other option could be gini index and also restricting the depth of the tree to 5 (just a random number)\n",
    "\n",
    "from sklearn.tree import DecisionTreeClassifier\n",
    "\n",
    "model_entropy = DecisionTreeClassifier(criterion='entropy')\n",
    "entropy_model = model_entropy.fit(X_train, y_train)"
   ]
  },
  {
   "cell_type": "code",
   "execution_count": 47,
   "metadata": {},
   "outputs": [
    {
     "name": "stdout",
     "output_type": "stream",
     "text": [
      "**Accuracy for Decision Tree classifier is: 0.880557398805574\n",
      "**F1_score for Decision Tree classifier is: 0.468503937007874\n",
      "\n",
      "\n",
      "Confusion matrix [[3743  287]\n",
      " [ 253  238]]\n",
      "\n",
      "\n",
      "**Scoring on Training Data is: 1.0\n",
      "**Scoring on Test Data is: 0.880557398805574\n",
      "\n",
      "\n",
      "AUC Score 0.9724879259498355\n",
      "roc_auc_score 0.9724879259498355\n"
     ]
    }
   ],
   "source": [
    "DT_predict = model_entropy.predict(X_test)\n",
    "\n",
    "print('**Accuracy for Decision Tree classifier is:', metrics.accuracy_score(y_test, DT_predict))\n",
    "print('**F1_score for Decision Tree classifier is:', metrics.f1_score(y_test, DT_predict))\n",
    "print('\\n')\n",
    "print('Confusion matrix', confusion_matrix(y_test, DT_predict))\n",
    "print('\\n')\n",
    "print('**Scoring on Training Data is:', model_entropy.score(X_train, y_train))\n",
    "print('**Scoring on Test Data is:', model_entropy.score(X_test, y_test))\n",
    "print('\\n')\n",
    "false_positive_rate, true_positive_rate, thresholds = roc_curve(y, entropy_model.predict_proba(X)[:,1])\n",
    "print('AUC Score',auc(false_positive_rate, true_positive_rate))\n",
    "print('roc_auc_score',roc_auc_score(y, entropy_model.predict(X)))\n",
    "\n",
    "DecisionTree = (cross_val_score(model_entropy, X_train, y_train, cv=k_fold, n_jobs=1, scoring='accuracy').mean())"
   ]
  },
  {
   "cell_type": "markdown",
   "metadata": {},
   "source": [
    "### Notes on Results:\n",
    "\n",
    "1. Accuracy is score is good \n",
    "2. F1 Score score highest compared to earlier models \n",
    "3. Model score on Training and Test dataset is good\n",
    "4. AUC score is good\n",
    "5. Confusion matrix shows values for TN, TP, FP and FN. Our aim is to get the lower False Positive which is pretty good in this model. False Positives rate pretty high."
   ]
  },
  {
   "cell_type": "markdown",
   "metadata": {},
   "source": [
    "#### Decision Tree Purned - The above error can reduced bypurned/regularize method basically by reducing the depth of the decision tree"
   ]
  },
  {
   "cell_type": "code",
   "execution_count": 48,
   "metadata": {},
   "outputs": [],
   "source": [
    "clf_pruned = DecisionTreeClassifier(criterion = 'entropy', random_state=100, max_depth = 4, min_samples_leaf=5)\n",
    "pruned_clf = clf_pruned.fit(X_train, y_train)   #Fitting the training to the model "
   ]
  },
  {
   "cell_type": "code",
   "execution_count": 49,
   "metadata": {},
   "outputs": [
    {
     "name": "stdout",
     "output_type": "stream",
     "text": [
      "**Accuracy for Decision Tree with Entropy is: 0.8942711789427118\n",
      "**F1_score for Decision Tree with Entropy is: 0.28656716417910444\n",
      "\n",
      "\n",
      "Confusion matrix \n",
      " [[3947   83]\n",
      " [ 395   96]]\n",
      "\n",
      "\n",
      "Training Score is: 0.888891619562546\n",
      "Test Score is: 0.8942711789427118\n",
      "\n",
      "\n",
      "AUC Score 0.864183692895796\n",
      "roc_auc_score 0.5885958996484817\n"
     ]
    }
   ],
   "source": [
    "clf_pruned.score(X_train, y_train)\n",
    "clf_pruned.score(X_test, y_test)\n",
    "\n",
    "dtentropy_predict = clf_pruned.predict(X_test)\n",
    "\n",
    "print('**Accuracy for Decision Tree with Entropy is:', metrics.accuracy_score(y_test, dtentropy_predict))\n",
    "print('**F1_score for Decision Tree with Entropy is:', metrics.f1_score(y_test, dtentropy_predict))\n",
    "print('\\n')\n",
    "print('Confusion matrix', '\\n', confusion_matrix(y_test, dtentropy_predict))\n",
    "print('\\n')\n",
    "print('Training Score is:', clf_pruned.score(X_train, y_train))\n",
    "print('Test Score is:', clf_pruned.score(X_test, y_test))\n",
    "print('\\n')\n",
    "false_positive_rate, true_positive_rate, thresholds = roc_curve(y, pruned_clf.predict_proba(X)[:,1])\n",
    "print('AUC Score',auc(false_positive_rate, true_positive_rate))\n",
    "print('roc_auc_score',roc_auc_score(y, pruned_clf.predict(X)))\n",
    "\n",
    "DecisionTree_Entropy = (cross_val_score(clf_pruned, X_train, y_train, cv=k_fold, n_jobs=1, scoring='accuracy').mean())"
   ]
  },
  {
   "cell_type": "markdown",
   "metadata": {},
   "source": [
    "### Notes on Results:\n",
    "\n",
    "1. Accuracy is score is good \n",
    "2. F1 Score score is very very low \n",
    "3. Model score on Training and Test dataset is good which tell us no Overfitting/Undersitting of the model\n",
    "4. AUC score is good\n",
    "5. Confusion matrix shows values for TN, TP, FP and FN. Our aim is to get the lower False Positive which is pretty good in this model"
   ]
  },
  {
   "cell_type": "markdown",
   "metadata": {},
   "source": [
    "### Visualizing the tree"
   ]
  },
  {
   "cell_type": "code",
   "execution_count": 50,
   "metadata": {},
   "outputs": [
    {
     "ename": "ModuleNotFoundError",
     "evalue": "No module named 'pydotplus'",
     "output_type": "error",
     "traceback": [
      "\u001b[0;31m---------------------------------------------------------------------------\u001b[0m",
      "\u001b[0;31mModuleNotFoundError\u001b[0m                       Traceback (most recent call last)",
      "\u001b[0;32m<ipython-input-50-8b60f148dfec>\u001b[0m in \u001b[0;36m<module>\u001b[0;34m\u001b[0m\n\u001b[0;32m----> 1\u001b[0;31m \u001b[0;32mimport\u001b[0m \u001b[0mpydotplus\u001b[0m\u001b[0;34m\u001b[0m\u001b[0m\n\u001b[0m\u001b[1;32m      2\u001b[0m \u001b[0;32mfrom\u001b[0m \u001b[0msklearn\u001b[0m\u001b[0;34m.\u001b[0m\u001b[0mtree\u001b[0m \u001b[0;32mimport\u001b[0m \u001b[0mexport_graphviz\u001b[0m\u001b[0;34m\u001b[0m\u001b[0m\n\u001b[1;32m      3\u001b[0m \u001b[0;32mfrom\u001b[0m \u001b[0msklearn\u001b[0m \u001b[0;32mimport\u001b[0m \u001b[0mtree\u001b[0m\u001b[0;34m\u001b[0m\u001b[0m\n\u001b[1;32m      4\u001b[0m \u001b[0;32mimport\u001b[0m \u001b[0mcollections\u001b[0m\u001b[0;34m\u001b[0m\u001b[0m\n\u001b[1;32m      5\u001b[0m \u001b[0;32mimport\u001b[0m \u001b[0mmatplotlib\u001b[0m\u001b[0;34m.\u001b[0m\u001b[0mimage\u001b[0m \u001b[0;32mas\u001b[0m \u001b[0mmpimg\u001b[0m\u001b[0;34m\u001b[0m\u001b[0m\n",
      "\u001b[0;31mModuleNotFoundError\u001b[0m: No module named 'pydotplus'"
     ]
    }
   ],
   "source": [
    "import pydotplus\n",
    "from sklearn.tree import export_graphviz\n",
    "from sklearn import tree\n",
    "import collections\n",
    "import matplotlib.image as mpimg\n",
    "from IPython.display import Image"
   ]
  },
  {
   "cell_type": "code",
   "execution_count": 51,
   "metadata": {},
   "outputs": [],
   "source": [
    "data_feature_names = ['age', 'job', 'marital', 'education', 'default', 'balance', 'housing',\n",
    "       'loan', 'contact', 'day', 'month', 'duration', 'campaign', 'pdays',\n",
    "       'previous', 'poutcome', ]"
   ]
  },
  {
   "cell_type": "code",
   "execution_count": 52,
   "metadata": {},
   "outputs": [
    {
     "ename": "NameError",
     "evalue": "name 'tree' is not defined",
     "output_type": "error",
     "traceback": [
      "\u001b[0;31m---------------------------------------------------------------------------\u001b[0m",
      "\u001b[0;31mNameError\u001b[0m                                 Traceback (most recent call last)",
      "\u001b[0;32m<ipython-input-52-303e514548de>\u001b[0m in \u001b[0;36m<module>\u001b[0;34m\u001b[0m\n\u001b[0;32m----> 1\u001b[0;31m \u001b[0mdata\u001b[0m \u001b[0;34m=\u001b[0m \u001b[0mtree\u001b[0m\u001b[0;34m.\u001b[0m\u001b[0mexport_graphviz\u001b[0m\u001b[0;34m(\u001b[0m\u001b[0mclf_pruned\u001b[0m\u001b[0;34m,\u001b[0m \u001b[0mfeature_names\u001b[0m\u001b[0;34m=\u001b[0m\u001b[0mdata_feature_names\u001b[0m\u001b[0;34m,\u001b[0m \u001b[0mout_file\u001b[0m\u001b[0;34m=\u001b[0m\u001b[0;32mNone\u001b[0m\u001b[0;34m,\u001b[0m\u001b[0mfilled\u001b[0m\u001b[0;34m=\u001b[0m\u001b[0;32mTrue\u001b[0m\u001b[0;34m,\u001b[0m\u001b[0mrounded\u001b[0m\u001b[0;34m=\u001b[0m\u001b[0;32mTrue\u001b[0m\u001b[0;34m)\u001b[0m\u001b[0;34m\u001b[0m\u001b[0m\n\u001b[0m\u001b[1;32m      2\u001b[0m \u001b[0mgraph\u001b[0m \u001b[0;34m=\u001b[0m \u001b[0mpydotplus\u001b[0m\u001b[0;34m.\u001b[0m\u001b[0mgraph_from_dot_data\u001b[0m\u001b[0;34m(\u001b[0m\u001b[0mdata\u001b[0m\u001b[0;34m)\u001b[0m\u001b[0;34m\u001b[0m\u001b[0m\n\u001b[1;32m      3\u001b[0m \u001b[0;34m\u001b[0m\u001b[0m\n\u001b[1;32m      4\u001b[0m \u001b[0mcolors\u001b[0m \u001b[0;34m=\u001b[0m \u001b[0;34m(\u001b[0m\u001b[0;34m'turquoise'\u001b[0m\u001b[0;34m,\u001b[0m \u001b[0;34m'orange'\u001b[0m\u001b[0;34m)\u001b[0m\u001b[0;34m\u001b[0m\u001b[0m\n\u001b[1;32m      5\u001b[0m \u001b[0medges\u001b[0m \u001b[0;34m=\u001b[0m \u001b[0mcollections\u001b[0m\u001b[0;34m.\u001b[0m\u001b[0mdefaultdict\u001b[0m\u001b[0;34m(\u001b[0m\u001b[0mlist\u001b[0m\u001b[0;34m)\u001b[0m\u001b[0;34m\u001b[0m\u001b[0m\n",
      "\u001b[0;31mNameError\u001b[0m: name 'tree' is not defined"
     ]
    }
   ],
   "source": [
    "data = tree.export_graphviz(clf_pruned, feature_names=data_feature_names, out_file=None,filled=True,rounded=True)\n",
    "graph = pydotplus.graph_from_dot_data(data)\n",
    "\n",
    "colors = ('turquoise', 'orange')\n",
    "edges = collections.defaultdict(list)\n",
    "\n",
    "for edge in graph.get_edge_list():\n",
    "    edges[edge.get_source()].append(int(edge.get_destination()))\n",
    "    \n",
    "for edge in edges:\n",
    "    edges[edge].sort()\n",
    "    for i in range(2):\n",
    "        dest = graph.get_node(str(edges[edge][i]))[0]\n",
    "        dest.set_fillcolor(colors[i])\n",
    "        \n",
    "graph.write_png('tree.png')\n",
    "Image(graph.create_png())"
   ]
  },
  {
   "cell_type": "markdown",
   "metadata": {},
   "source": [
    "### Tree regularaised"
   ]
  },
  {
   "cell_type": "code",
   "execution_count": 53,
   "metadata": {},
   "outputs": [
    {
     "data": {
      "text/html": [
       "<div>\n",
       "<style scoped>\n",
       "    .dataframe tbody tr th:only-of-type {\n",
       "        vertical-align: middle;\n",
       "    }\n",
       "\n",
       "    .dataframe tbody tr th {\n",
       "        vertical-align: top;\n",
       "    }\n",
       "\n",
       "    .dataframe thead th {\n",
       "        text-align: right;\n",
       "    }\n",
       "</style>\n",
       "<table border=\"1\" class=\"dataframe\">\n",
       "  <thead>\n",
       "    <tr style=\"text-align: right;\">\n",
       "      <th></th>\n",
       "      <th>0</th>\n",
       "    </tr>\n",
       "  </thead>\n",
       "  <tbody>\n",
       "    <tr>\n",
       "      <th>duration</th>\n",
       "      <td>0.619918</td>\n",
       "    </tr>\n",
       "    <tr>\n",
       "      <th>pdays</th>\n",
       "      <td>0.149146</td>\n",
       "    </tr>\n",
       "    <tr>\n",
       "      <th>contact</th>\n",
       "      <td>0.118550</td>\n",
       "    </tr>\n",
       "    <tr>\n",
       "      <th>housing</th>\n",
       "      <td>0.093113</td>\n",
       "    </tr>\n",
       "    <tr>\n",
       "      <th>month</th>\n",
       "      <td>0.019274</td>\n",
       "    </tr>\n",
       "    <tr>\n",
       "      <th>age</th>\n",
       "      <td>0.000000</td>\n",
       "    </tr>\n",
       "    <tr>\n",
       "      <th>job</th>\n",
       "      <td>0.000000</td>\n",
       "    </tr>\n",
       "    <tr>\n",
       "      <th>marital</th>\n",
       "      <td>0.000000</td>\n",
       "    </tr>\n",
       "    <tr>\n",
       "      <th>education</th>\n",
       "      <td>0.000000</td>\n",
       "    </tr>\n",
       "    <tr>\n",
       "      <th>default</th>\n",
       "      <td>0.000000</td>\n",
       "    </tr>\n",
       "    <tr>\n",
       "      <th>balance</th>\n",
       "      <td>0.000000</td>\n",
       "    </tr>\n",
       "    <tr>\n",
       "      <th>loan</th>\n",
       "      <td>0.000000</td>\n",
       "    </tr>\n",
       "    <tr>\n",
       "      <th>day</th>\n",
       "      <td>0.000000</td>\n",
       "    </tr>\n",
       "    <tr>\n",
       "      <th>campaign</th>\n",
       "      <td>0.000000</td>\n",
       "    </tr>\n",
       "    <tr>\n",
       "      <th>previous</th>\n",
       "      <td>0.000000</td>\n",
       "    </tr>\n",
       "    <tr>\n",
       "      <th>poutcome</th>\n",
       "      <td>0.000000</td>\n",
       "    </tr>\n",
       "  </tbody>\n",
       "</table>\n",
       "</div>"
      ],
      "text/plain": [
       "                  0\n",
       "duration   0.619918\n",
       "pdays      0.149146\n",
       "contact    0.118550\n",
       "housing    0.093113\n",
       "month      0.019274\n",
       "age        0.000000\n",
       "job        0.000000\n",
       "marital    0.000000\n",
       "education  0.000000\n",
       "default    0.000000\n",
       "balance    0.000000\n",
       "loan       0.000000\n",
       "day        0.000000\n",
       "campaign   0.000000\n",
       "previous   0.000000\n",
       "poutcome   0.000000"
      ]
     },
     "execution_count": 53,
     "metadata": {},
     "output_type": "execute_result"
    }
   ],
   "source": [
    "feat_importance = clf_pruned.tree_.compute_feature_importances(normalize=False)\n",
    "\n",
    "feat_imp_dict = dict(zip(df, clf_pruned.feature_importances_))\n",
    "feat_imp = pd.DataFrame.from_dict(feat_imp_dict, orient='index')\n",
    "feat_imp.sort_values(by=0, ascending=False)"
   ]
  },
  {
   "cell_type": "markdown",
   "metadata": {},
   "source": [
    "### Random Forest"
   ]
  },
  {
   "cell_type": "code",
   "execution_count": 54,
   "metadata": {},
   "outputs": [
    {
     "name": "stdout",
     "output_type": "stream",
     "text": [
      "Accuracy Score is: 0.9055518690555187\n",
      "F1 Score is: 0.47863247863247865\n",
      "\n",
      "\n",
      "Confusion matrix \n",
      " [[3898  132]\n",
      " [ 295  196]]\n",
      "\n",
      "\n",
      "AUC Score 0.9965446564836221\n",
      "roc_auc_score 0.9703641708061671\n",
      "\n",
      "\n",
      "Training Score is: 0.9999754239370853\n",
      "Test Score is: 0.9055518690555187\n"
     ]
    }
   ],
   "source": [
    "from sklearn.ensemble import RandomForestClassifier\n",
    "rfcl = RandomForestClassifier(n_estimators = 100)\n",
    "rfcl = rfcl.fit(X_train, y_train)\n",
    "\n",
    "rf_predict = rfcl.predict(X_test)\n",
    "\n",
    "print('Accuracy Score is:', metrics.accuracy_score(y_test, rf_predict))\n",
    "print('F1 Score is:', metrics.f1_score(y_test, rf_predict))\n",
    "print('\\n')\n",
    "\n",
    "print('Confusion matrix', '\\n', confusion_matrix(y_test, rf_predict))\n",
    "print('\\n')\n",
    "false_positive_rate, true_positive_rate, thresholds = roc_curve(y, rfcl.predict_proba(X)[:,1])\n",
    "print('AUC Score',auc(false_positive_rate, true_positive_rate))\n",
    "print('roc_auc_score',roc_auc_score(y, rfcl.predict(X)))\n",
    "print('\\n')\n",
    "print('Training Score is:', rfcl.score(X_train, y_train))\n",
    "print('Test Score is:', rfcl.score(X_test, y_test)) \n",
    "\n",
    "RandomForest = (cross_val_score(rfcl, X_train, y_train, cv=k_fold, n_jobs=1, scoring='accuracy').mean())"
   ]
  },
  {
   "cell_type": "markdown",
   "metadata": {},
   "source": [
    "### Notes on Results:\n",
    "\n",
    "1. Accuracy is score is good \n",
    "2. F1 Score is higher to Decision Tree model which has the best score earlier\n",
    "3. Model score on Training and Test dataset is good which tell us no Overfitting/Undersitting of the model\n",
    "4. AUC score is good\n",
    "5. Confusion matrix shows values for TN, TP, FP and FN. Our aim is to get the lower False Positive which is pretty good in this model. False Positive rates is not that great"
   ]
  },
  {
   "cell_type": "markdown",
   "metadata": {},
   "source": [
    "### Apply Adaboost"
   ]
  },
  {
   "cell_type": "code",
   "execution_count": 55,
   "metadata": {},
   "outputs": [
    {
     "name": "stdout",
     "output_type": "stream",
     "text": [
      "Accuracy Score is: 0.8947135589471356\n",
      "F1 Score is: 0.21710526315789472\n",
      "\n",
      "\n",
      "Training Score is: 0.8888424674367167\n",
      "Test Score is: 0.8947135589471356\n",
      "\n",
      "\n",
      "AUC Score 0.8883741806638278\n",
      "roc_auc_score 0.5720295955445506\n",
      "\n",
      "\n",
      "Confusion matrix \n",
      " [[3979   51]\n",
      " [ 425   66]]\n"
     ]
    }
   ],
   "source": [
    "from sklearn.ensemble import AdaBoostClassifier\n",
    "\n",
    "abcl = AdaBoostClassifier( n_estimators= 100, learning_rate=0.1, random_state=22)\n",
    "abcl = abcl.fit(X_train, y_train)\n",
    "\n",
    "pred_AB =abcl.predict(X_test)\n",
    "\n",
    "print('Accuracy Score is:', metrics.accuracy_score(y_test, pred_AB))\n",
    "print('F1 Score is:', metrics.f1_score(y_test, pred_AB))\n",
    "print('\\n')\n",
    "print('Training Score is:',abcl.score(X_train, y_train)) \n",
    "print('Test Score is:',abcl.score(X_test, y_test)) \n",
    "print('\\n')\n",
    "false_positive_rate, true_positive_rate, thresholds = roc_curve(y, abcl.predict_proba(X)[:,1])\n",
    "print('AUC Score',auc(false_positive_rate, true_positive_rate))\n",
    "print('roc_auc_score',roc_auc_score(y, abcl.predict(X)))\n",
    "print('\\n')\n",
    "print('Confusion matrix', '\\n', confusion_matrix(y_test, pred_AB))\n",
    "\n",
    "Adaboost = (cross_val_score(abcl, X_train, y_train, cv=k_fold, n_jobs=1, scoring='accuracy').mean())"
   ]
  },
  {
   "cell_type": "markdown",
   "metadata": {},
   "source": [
    "### Notes on Results:\n",
    "\n",
    "1. Accuracy is score is good \n",
    "2. F1 Score score is too low\n",
    "3. Model score on Training and Test dataset is good which tell us no Overfitting/Undersitting of the model\n",
    "4. AUC score is good\n",
    "5. Confusion matrix shows values for TN, TP, FP and FN. Our aim is to get the lower False Positive which is pretty good in this model. False Positve Rate is lower."
   ]
  },
  {
   "cell_type": "markdown",
   "metadata": {},
   "source": [
    "### Apply Bagging"
   ]
  },
  {
   "cell_type": "code",
   "execution_count": 56,
   "metadata": {},
   "outputs": [
    {
     "name": "stdout",
     "output_type": "stream",
     "text": [
      "Accuracy Score is: 0.9073213890732139\n",
      "F1 Score is: 0.5211428571428571\n",
      "\n",
      "\n",
      "Confusion matrix \n",
      " [[3874  156]\n",
      " [ 263  228]]\n",
      "\n",
      "\n",
      "Training Score is: 0.9959203735561563\n",
      "Test Score: 0.9073213890732139\n",
      "\n",
      "\n",
      "AUC Score 0.9949781280341059\n",
      "roc_auc_score 0.958392444866658\n"
     ]
    }
   ],
   "source": [
    "from sklearn.ensemble import BaggingClassifier           #Importing the necessary libraries \n",
    "\n",
    "bgcl = BaggingClassifier(n_estimators=100, max_samples= .7, bootstrap = True, oob_score=True, random_state=22)\n",
    "bgcl = bgcl.fit(X_train, y_train)\n",
    "\n",
    "pred_BG =bgcl.predict(X_test)\n",
    "\n",
    "print('Accuracy Score is:', metrics.accuracy_score(y_test, pred_BG))\n",
    "print('F1 Score is:', metrics.f1_score(y_test, pred_BG))\n",
    "print('\\n')\n",
    "print('Confusion matrix', '\\n', confusion_matrix(y_test, pred_BG))\n",
    "print('\\n')\n",
    "print('Training Score is:', bgcl.score(X_train, y_train))\n",
    "print('Test Score:', bgcl.score(X_test, y_test))\n",
    "print('\\n')\n",
    "false_positive_rate, true_positive_rate, thresholds = roc_curve(y, bgcl.predict_proba(X)[:,1])\n",
    "print('AUC Score',auc(false_positive_rate, true_positive_rate))\n",
    "print('roc_auc_score',roc_auc_score(y, bgcl.predict(X)))\n",
    "\n",
    "Bagging = (cross_val_score(bgcl, X_train, y_train, cv=k_fold, n_jobs=1, scoring='accuracy').mean())"
   ]
  },
  {
   "cell_type": "markdown",
   "metadata": {},
   "source": [
    "### Notes on Results:\n",
    "\n",
    "1. Accuracy is score is good \n",
    "2. F1 Score score is best to any other models \n",
    "3. Model score on Training and Test dataset is good which tell us no Overfitting/Undersitting of the model\n",
    "4. AUC score is good\n",
    "5. Confusion matrix shows values for TN, TP, FP and FN. Our aim is to get the lower False Positive which is pretty good in this model. False Positve Rate is bit higher "
   ]
  },
  {
   "cell_type": "markdown",
   "metadata": {},
   "source": [
    "### Apply GradientBoost Classifier"
   ]
  },
  {
   "cell_type": "code",
   "execution_count": 57,
   "metadata": {},
   "outputs": [
    {
     "name": "stdout",
     "output_type": "stream",
     "text": [
      "Accuracy: 0.9101968591019686\n",
      "F1_Score: 0.4873737373737374\n",
      "\n",
      "\n",
      "Confusion matrix \n",
      " [[3922  108]\n",
      " [ 298  193]]\n",
      "\n",
      "\n",
      "Training Score: 0.9080363725731138\n",
      "Testing Score: 0.9101968591019686\n",
      "\n",
      "\n",
      "AUC Score 0.9319688660424224\n",
      "roc_auc_score 0.6907789129055013\n"
     ]
    }
   ],
   "source": [
    "from sklearn.ensemble import GradientBoostingClassifier\n",
    "gbcl = GradientBoostingClassifier(n_estimators = 100, learning_rate = 0.1, random_state=22)\n",
    "gbcl = gbcl.fit(X_train, y_train)\n",
    "\n",
    "pred_GB =gbcl.predict(X_test)\n",
    "\n",
    "print('Accuracy:', metrics.accuracy_score(y_test, pred_GB))\n",
    "print('F1_Score:', metrics.f1_score(y_test, pred_GB))\n",
    "print('\\n')\n",
    "print('Confusion matrix', '\\n', confusion_matrix(y_test, pred_GB))\n",
    "print('\\n')\n",
    "print('Training Score:', gbcl.score(X_train, y_train))\n",
    "print('Testing Score:', gbcl.score(X_test, y_test))\n",
    "print('\\n')\n",
    "false_positive_rate, true_positive_rate, thresholds = roc_curve(y, gbcl.predict_proba(X)[:,1])\n",
    "print('AUC Score',auc(false_positive_rate, true_positive_rate))\n",
    "print('roc_auc_score',roc_auc_score(y, gbcl.predict(X)))\n",
    "\n",
    "GradientBoost = (cross_val_score(gbcl, X_train, y_train, cv=k_fold, n_jobs=1, scoring='accuracy').mean())"
   ]
  },
  {
   "cell_type": "markdown",
   "metadata": {},
   "source": [
    "### Notes on Results:\n",
    "\n",
    "1. Accuracy is score is good \n",
    "2. F1 Score score is decent \n",
    "3. Model score on Training and Test dataset is good which tell us no Overfitting/Undersitting of the model\n",
    "4. AUC score is good\n",
    "5. Confusion matrix shows values for TN, TP, FP and FN. Our aim is to get the lower False Positive which is pretty good in this model. False Positve Rate is not that great"
   ]
  },
  {
   "cell_type": "markdown",
   "metadata": {},
   "source": [
    "### Knowing the AUROC score for each of the classifier"
   ]
  },
  {
   "cell_type": "code",
   "execution_count": 58,
   "metadata": {},
   "outputs": [
    {
     "data": {
      "image/png": "[encoded data removed]",
      "text/plain": [
       "<Figure size 1440x1080 with 3 Axes>"
      ]
     },
     "metadata": {
      "needs_background": "light"
     },
     "output_type": "display_data"
    },
    {
     "data": {
      "text/plain": [
       "Text(0.5, 0, 'False Positive Rate')"
      ]
     },
     "execution_count": 58,
     "metadata": {},
     "output_type": "execute_result"
    },
    {
     "data": {
      "image/png": "[encoded data removed]",
      "text/plain": [
       "<Figure size 1440x1080 with 2 Axes>"
      ]
     },
     "metadata": {
      "needs_background": "light"
     },
     "output_type": "display_data"
    }
   ],
   "source": [
    "plt.figure(figsize=(20,15))\n",
    "\n",
    "probs = svm_model.predict_proba(X_test)                              #ROC Curve for svm \n",
    "preds = probs[:,1]\n",
    "fpr, tpr, threshold = metrics.roc_curve(y_test, preds)\n",
    "roc_auc = metrics.auc(fpr, tpr)\n",
    "\n",
    "plt.subplot(3,3,1)\n",
    "plt.plot(fpr, tpr, 'b', label= 'AUC = %0.2f' % roc_auc)\n",
    "plt.plot([0, 1], [0, 1],'r--')\n",
    "plt.title('Receiver Operating Characteristic SVM')\n",
    "plt.legend(loc = 'lower right')\n",
    "plt.ylabel('True Positive Rate')\n",
    "plt.xlabel('False Positive Rate')\n",
    "\n",
    "probs = NB_model.predict_proba(X_test)                               #ROC Curve for Naive Bayes \n",
    "preds = probs[:,1]\n",
    "fpr, tpr, threshold = metrics.roc_curve(y_test, preds)\n",
    "roc_auc = metrics.auc(fpr, tpr)\n",
    "\n",
    "plt.subplot(3,3,2)\n",
    "plt.plot(fpr, tpr, 'b', label= 'AUC = %0.2f' % roc_auc)\n",
    "plt.plot([0, 1], [0, 1],'r--')\n",
    "plt.title('Receiver Operating Characteristic Naive Bayes')\n",
    "plt.legend(loc = 'lower right')\n",
    "plt.ylabel('True Positive Rate')\n",
    "plt.xlabel('False Positive Rate')\n",
    "\n",
    "probs = KNN_model.predict_proba(X_test)                              #ROC Curve for KNN \n",
    "preds = probs[:,1]\n",
    "fpr, tpr, threshold = metrics.roc_curve(y_test, preds)\n",
    "roc_auc = metrics.auc(fpr, tpr)\n",
    "\n",
    "plt.subplot(3,3,3)\n",
    "plt.plot(fpr, tpr, 'b', label= 'AUC = %0.2f' % roc_auc)\n",
    "plt.plot([0, 1], [0, 1],'r--')\n",
    "plt.title('Receiver Operating Characteristic KNN')\n",
    "plt.legend(loc = 'lower right')\n",
    "plt.ylabel('True Positive Rate')\n",
    "plt.xlabel('False Positive Rate')\n",
    "plt.show()\n",
    "\n",
    "plt.figure(figsize=(20,15))\n",
    "probs = logit_model.predict_proba(X_test)                            #ROC Curve for Logistic Regression\n",
    "preds = probs[:,1]\n",
    "fpr, tpr, threshold = metrics.roc_curve(y_test, preds)\n",
    "roc_auc = metrics.auc(fpr, tpr)\n",
    "\n",
    "plt.subplot(3,3,4)\n",
    "plt.plot(fpr, tpr, 'b', label= 'AUC = %0.2f' % roc_auc)\n",
    "plt.plot([0, 1], [0, 1],'r--')\n",
    "plt.title('Receiver Operating Characteristic Logistic Regression')\n",
    "plt.legend(loc = 'lower right')\n",
    "plt.ylabel('True Positive Rate')\n",
    "plt.xlabel('False Positive Rate')\n",
    "\n",
    "probs = xgb.predict_proba(X_test)                                    #ROC Curve for XGBoost\n",
    "preds = probs[:,1]\n",
    "fpr, tpr, threshold = metrics.roc_curve(y_test, preds)\n",
    "roc_auc = metrics.auc(fpr, tpr)\n",
    "\n",
    "plt.subplot(3,3,5)\n",
    "plt.plot(fpr, tpr, 'b', label= 'AUC = %0.2f' % roc_auc)\n",
    "plt.plot([0, 1], [0, 1],'r--')\n",
    "plt.title('Receiver Operating Characteristic XGBoost')\n",
    "plt.legend(loc = 'lower right')\n",
    "plt.ylabel('True Positive Rate')\n",
    "plt.xlabel('False Positive Rate')"
   ]
  },
  {
   "cell_type": "markdown",
   "metadata": {},
   "source": [
    "### Knowing the AUROC score for Ensemble Methods"
   ]
  },
  {
   "cell_type": "code",
   "execution_count": 59,
   "metadata": {},
   "outputs": [
    {
     "data": {
      "image/png": "[encoded data removed]",
      "text/plain": [
       "<Figure size 1440x1080 with 6 Axes>"
      ]
     },
     "metadata": {
      "needs_background": "light"
     },
     "output_type": "display_data"
    }
   ],
   "source": [
    "probs = model_entropy.predict_proba(X_test)                        #ROC Curve for Decision Tree with Entropy \n",
    "preds = probs[:,1]\n",
    "fpr, tpr, threshold = metrics.roc_curve(y_test, preds)\n",
    "roc_auc = metrics.auc(fpr, tpr)\n",
    "\n",
    "plt.figure(figsize=(20,15))\n",
    "plt.subplot(3,3,1)\n",
    "plt.plot(fpr, tpr, 'b', label= 'AUC = %0.2f' % roc_auc)\n",
    "plt.plot([0, 1], [0, 1],'r--')\n",
    "plt.title('Receiver Operating Characteristic Decision Tree Entropy')\n",
    "plt.legend(loc = 'lower right') \n",
    "plt.ylabel('True Positive Rate')\n",
    "plt.xlabel('False Positive Rate')\n",
    "\n",
    "probs = clf_pruned.predict_proba(X_test)                          #ROC Curve for Decision Tree Purned\n",
    "preds = probs[:,1]\n",
    "fpr, tpr, threshold = metrics.roc_curve(y_test, preds)\n",
    "roc_auc = metrics.auc(fpr, tpr)\n",
    "\n",
    "plt.subplot(3,3,2)\n",
    "plt.plot(fpr, tpr, 'b', label= 'AUC = %0.2f' % roc_auc)\n",
    "plt.plot([0, 1], [0, 1],'r--')\n",
    "plt.title('Receiver Operating Characteristic Decision Tree Pruned')\n",
    "plt.legend(loc = 'lower right')\n",
    "plt.ylabel('True Positive Rate')\n",
    "plt.xlabel('False Positive Rate')\n",
    "\n",
    "probs = rfcl.predict_proba(X_test)                                 #ROC Curve for Random Forest \n",
    "preds = probs[:,1]\n",
    "fpr, tpr, threshold = metrics.roc_curve(y_test, preds)\n",
    "roc_auc = metrics.auc(fpr, tpr)\n",
    "\n",
    "plt.subplot(3,3,3)\n",
    "plt.plot(fpr, tpr, 'b', label= 'AUC = %0.2f' % roc_auc)\n",
    "plt.plot([0, 1], [0, 1],'r--')\n",
    "plt.title('Receiver Operating Characteristic Random Forest')\n",
    "plt.legend(loc = 'lower right')\n",
    "plt.ylabel('True Positive Rate')\n",
    "plt.xlabel('False Positive Rate')\n",
    "\n",
    "probs = abcl.predict_proba(X_test)                                 #ROC Curve for AdaBoost \n",
    "preds = probs[:,1]\n",
    "fpr, tpr, threshold = metrics.roc_curve(y_test, preds)\n",
    "roc_auc = metrics.auc(fpr, tpr)\n",
    "\n",
    "plt.subplot(3,3,4)\n",
    "plt.plot(fpr, tpr, 'b', label= 'AUC = %0.2f' % roc_auc)\n",
    "plt.plot([0, 1], [0, 1],'r--')\n",
    "plt.title('Receiver Operating Characteristic AdaBoost')\n",
    "plt.legend(loc = 'lower right')\n",
    "plt.ylabel('True Positive Rate')\n",
    "plt.xlabel('False Positive Rate')\n",
    "\n",
    "probs = bgcl.predict_proba(X_test)                                 #ROC Curve for Bagging\n",
    "preds = probs[:,1]\n",
    "fpr, tpr, threshold = metrics.roc_curve(y_test, preds)\n",
    "roc_auc = metrics.auc(fpr, tpr)\n",
    "\n",
    "plt.subplot(3,3,5)\n",
    "plt.plot(fpr, tpr, 'b', label= 'AUC = %0.2f' % roc_auc)\n",
    "plt.plot([0, 1], [0, 1],'r--')\n",
    "plt.title('Receiver Operating Characteristic Bagging')\n",
    "plt.legend(loc = 'lower right')\n",
    "plt.ylabel('True Positive Rate')\n",
    "plt.xlabel('False Positive Rate')\n",
    "\n",
    "probs = gbcl.predict_proba(X_test)                                 #ROC Curve for GradientBoost\n",
    "preds = probs[:,1]\n",
    "fpr, tpr, threshold = metrics.roc_curve(y_test, preds)\n",
    "roc_auc = metrics.auc(fpr, tpr)\n",
    "\n",
    "plt.subplot(3,3,6)\n",
    "plt.plot(fpr, tpr, 'b', label= 'AUC = %0.2f' % roc_auc)\n",
    "plt.plot([0, 1], [0, 1],'r--')\n",
    "plt.title('Receiver Operating Characteristic Gradient Boosting')\n",
    "plt.legend(loc = 'lower right')\n",
    "plt.ylabel('True Positive Rate')\n",
    "plt.xlabel('False Positive Rate')\n",
    "plt.show()\n"
   ]
  },
  {
   "cell_type": "markdown",
   "metadata": {},
   "source": [
    "### 7. Compare performances of all the models"
   ]
  },
  {
   "cell_type": "code",
   "execution_count": 60,
   "metadata": {},
   "outputs": [
    {
     "data": {
      "text/html": [
       "<div>\n",
       "<style scoped>\n",
       "    .dataframe tbody tr th:only-of-type {\n",
       "        vertical-align: middle;\n",
       "    }\n",
       "\n",
       "    .dataframe tbody tr th {\n",
       "        vertical-align: top;\n",
       "    }\n",
       "\n",
       "    .dataframe thead th {\n",
       "        text-align: right;\n",
       "    }\n",
       "</style>\n",
       "<table border=\"1\" class=\"dataframe\">\n",
       "  <thead>\n",
       "    <tr style=\"text-align: right;\">\n",
       "      <th></th>\n",
       "      <th>Models</th>\n",
       "      <th>Score</th>\n",
       "    </tr>\n",
       "  </thead>\n",
       "  <tbody>\n",
       "    <tr>\n",
       "      <th>8</th>\n",
       "      <td>DecisionTree_Entropy</td>\n",
       "      <td>0.905038</td>\n",
       "    </tr>\n",
       "    <tr>\n",
       "      <th>4</th>\n",
       "      <td>Bagging</td>\n",
       "      <td>0.904571</td>\n",
       "    </tr>\n",
       "    <tr>\n",
       "      <th>3</th>\n",
       "      <td>GradientBoost</td>\n",
       "      <td>0.903908</td>\n",
       "    </tr>\n",
       "    <tr>\n",
       "      <th>6</th>\n",
       "      <td>XGBoost</td>\n",
       "      <td>0.902974</td>\n",
       "    </tr>\n",
       "    <tr>\n",
       "      <th>1</th>\n",
       "      <td>knn</td>\n",
       "      <td>0.896830</td>\n",
       "    </tr>\n",
       "    <tr>\n",
       "      <th>2</th>\n",
       "      <td>LogitRegression</td>\n",
       "      <td>0.889703</td>\n",
       "    </tr>\n",
       "    <tr>\n",
       "      <th>5</th>\n",
       "      <td>Adaboost</td>\n",
       "      <td>0.888007</td>\n",
       "    </tr>\n",
       "    <tr>\n",
       "      <th>9</th>\n",
       "      <td>RandomForest</td>\n",
       "      <td>0.887687</td>\n",
       "    </tr>\n",
       "    <tr>\n",
       "      <th>7</th>\n",
       "      <td>DecisionTree</td>\n",
       "      <td>0.877390</td>\n",
       "    </tr>\n",
       "    <tr>\n",
       "      <th>0</th>\n",
       "      <td>Gausian</td>\n",
       "      <td>0.828336</td>\n",
       "    </tr>\n",
       "  </tbody>\n",
       "</table>\n",
       "</div>"
      ],
      "text/plain": [
       "                 Models     Score\n",
       "8  DecisionTree_Entropy  0.905038\n",
       "4               Bagging  0.904571\n",
       "3         GradientBoost  0.903908\n",
       "6               XGBoost  0.902974\n",
       "1                   knn  0.896830\n",
       "2       LogitRegression  0.889703\n",
       "5              Adaboost  0.888007\n",
       "9          RandomForest  0.887687\n",
       "7          DecisionTree  0.877390\n",
       "0               Gausian  0.828336"
      ]
     },
     "execution_count": 60,
     "metadata": {},
     "output_type": "execute_result"
    }
   ],
   "source": [
    "models = pd.DataFrame({'Models': ['Gausian', 'knn', 'LogitRegression', 'GradientBoost', 'Bagging',\n",
    "                                 'Adaboost', 'XGBoost', 'DecisionTree', 'DecisionTree_Entropy', 'RandomForest'],\n",
    "                       'Score': [Gausian, knn, LogitRegression, GradientBoost, Bagging, Adaboost, XGBoost, DecisionTree, \n",
    "                                 RandomForest, DecisionTree_Entropy]})\n",
    "models.sort_values(by='Score', ascending = False)"
   ]
  },
  {
   "cell_type": "markdown",
   "metadata": {},
   "source": [
    "### Concluding"
   ]
  },
  {
   "cell_type": "markdown",
   "metadata": {},
   "source": [
    "> **Final Result:** \n",
    "From all the above models **Decision Tree with Bagging method** performed better with Accuracy - 90%, F1 Score - 52%, AUC - 99%. Scored well on training and test data as well no issues of overfitting/underfitting.                                      \n",
    "Another important metric to note is **cross_val_score** which considers **mean** of each fold. \n",
    "There are two top methods whose scores are high first is DecisionTree_Entropy method and second one is the 'bagging' method has the pretty good score as well. "
   ]
  },
  {
   "cell_type": "markdown",
   "metadata": {},
   "source": [
    "### Below are the metrics used for each model to know the its performance\n",
    "1. **Accuracy:** One metric for evaluating classification model. Accuracy the fraction of predictions our model got right. It is calculated in terms of positive and negatives values                                                                          \n",
    "Accuracy =  True Positive + True Negative / True Positives + True Negatives + False Positives + False Negatives                                                                                                                                                                                               \n",
    "\n",
    "\n",
    "2. **F1 Score:** It considers both the precision p and recall r of the test to compute the score. p is the number of correct positive results divided by the number of all positive results                       \n",
    "\n",
    "\n",
    "3. **AUROC Score:** This score gives us a good idea of how well the model performed. Basically helps to determine which of the used models predicts the classes best\n",
    "\n",
    "\n",
    "4. **cross_val_score:** The accuracy of the model is the average of the accuracy of each fold\n",
    "\n",
    "\n",
    "5. **Scoring on Training and Testing dataset using model.score():** Estimators implement a score method. Scores are between 0 and 1m with a larger score indicating a better fit. \n",
    "This is used to check whether the model has any underfitting or overfitting issues. \n",
    "Overfitting: Where the model observes more noise from the training data, while performing poorly on the new data set i.e Test data.\n",
    "Underfitting: Where the model poorly performs on the training data by not considering the significant features\n",
    "\n",
    "\n",
    "6. **Confusion Matrix:** Used to get the performance of the model on a set of test data for which the true values are known"
   ]
  },
  {
   "cell_type": "markdown",
   "metadata": {},
   "source": [
    "### Manual calculation of Gradient Boosting as an example to show how various matrics works\n",
    "\n",
    "**Accuracy:** (tp + tn) / (p + n) = 211+3870 / 330 + 4191 = 4081 / 4521 = 0.902676399026764\n",
    "\n",
    "**Precision:** tp / (tp + fp) = 211 / (211 + 119) = 211 / 330 = 0.6393939393939394\n",
    "\n",
    "**Recall:** tp / (tp + fn) = 211 / (211 + 321) = 211 / 532 = 0.3966165413533835 \n",
    "\n",
    "**F1:** 2 tp / (2 tp + fp + fn) = 2 211 / (2 211 + 119 + 321) = 422 / (422 + 119 + 321) = 422 / 862 = 0.4895591647331787 "
   ]
  },
  {
   "cell_type": "markdown",
   "metadata": {},
   "source": [
    "### Thank you"
   ]
  }
 ],
 "metadata": {
  "kernelspec": {
   "display_name": "Python 3",
   "language": "python",
   "name": "python3"
  },
  "language_info": {
   "codemirror_mode": {
    "name": "ipython",
    "version": 3
   },
   "file_extension": ".py",
   "mimetype": "text/x-python",
   "name": "python",
   "nbconvert_exporter": "python",
   "pygments_lexer": "ipython3",
   "version": "3.8.5"
  }
 },
 "nbformat": 4,
 "nbformat_minor": 1
}
