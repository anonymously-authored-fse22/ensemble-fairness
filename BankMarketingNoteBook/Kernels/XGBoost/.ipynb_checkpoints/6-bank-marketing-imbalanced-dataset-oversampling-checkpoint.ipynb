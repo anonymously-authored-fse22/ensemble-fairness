{
 "cells": [
  {
   "cell_type": "markdown",
   "metadata": {
    "papermill": {
     "duration": 0.028169,
     "end_time": "2021-01-12T10:53:37.508223",
     "exception": false,
     "start_time": "2021-01-12T10:53:37.480054",
     "status": "completed"
    },
    "tags": []
   },
   "source": [
    "# Data Import"
   ]
  },
  {
   "cell_type": "code",
   "execution_count": 1,
   "metadata": {
    "_cell_guid": "79c7e3d0-c299-4dcb-8224-4455121ee9b0",
    "_uuid": "d629ff2d2480ee46fbb7e2d37f6b5fab8052498a",
    "execution": {
     "iopub.execute_input": "2021-01-12T10:53:37.573711Z",
     "iopub.status.busy": "2021-01-12T10:53:37.572947Z",
     "iopub.status.idle": "2021-01-12T10:53:40.348333Z",
     "shell.execute_reply": "2021-01-12T10:53:40.346428Z"
    },
    "papermill": {
     "duration": 2.812299,
     "end_time": "2021-01-12T10:53:40.348492",
     "exception": false,
     "start_time": "2021-01-12T10:53:37.536193",
     "status": "completed"
    },
    "tags": []
   },
   "outputs": [],
   "source": [
    "import pandas as pd\n",
    "import numpy as np\n",
    "import matplotlib.pyplot as plt \n",
    "import seaborn as sns\n",
    "from sklearn import metrics\n",
    "from sklearn.model_selection import train_test_split\n",
    "from sklearn.metrics import classification_report, confusion_matrix, accuracy_score, roc_auc_score, roc_curve, recall_score\n",
    "from sklearn.model_selection import GridSearchCV, RepeatedStratifiedKFold, RandomizedSearchCV, cross_val_score\n",
    "from sklearn.discriminant_analysis import LinearDiscriminantAnalysis, QuadraticDiscriminantAnalysis\n",
    "from sklearn.neighbors import KNeighborsClassifier\n",
    "from sklearn.tree import DecisionTreeClassifier\n",
    "import xgboost as xgb\n",
    "from xgboost import XGBClassifier\n",
    "from sklearn.linear_model import LogisticRegression\n",
    "from sklearn.naive_bayes import GaussianNB\n",
    "from sklearn.svm import SVC \n",
    "from sklearn.ensemble import RandomForestClassifier,VotingClassifier\n",
    "from imblearn.under_sampling import RandomUnderSampler\n",
    "from imblearn.over_sampling import RandomOverSampler, SMOTE\n",
    "from collections import Counter\n",
    "from pprint import pprint\n",
    "from scipy import stats\n",
    "from sklearn.preprocessing import StandardScaler"
   ]
  },
  {
   "cell_type": "code",
   "execution_count": 2,
   "metadata": {},
   "outputs": [],
   "source": [
    "from aif360.datasets import StandardDataset\n",
    "from aif360.metrics import BinaryLabelDatasetMetric, ClassificationMetric\n",
    "import matplotlib.patches as patches\n",
    "from aif360.algorithms.preprocessing import Reweighing\n",
    "#from packages import *\n",
    "#from ml_fairness import *\n",
    "import matplotlib.pyplot as plt\n",
    "import seaborn as sns\n",
    "\n",
    "\n",
    "\n",
    "from IPython.display import Markdown, display"
   ]
  },
  {
   "cell_type": "code",
   "execution_count": 3,
   "metadata": {
    "execution": {
     "iopub.execute_input": "2021-01-12T10:53:40.413845Z",
     "iopub.status.busy": "2021-01-12T10:53:40.413137Z",
     "iopub.status.idle": "2021-01-12T10:53:40.676918Z",
     "shell.execute_reply": "2021-01-12T10:53:40.677472Z"
    },
    "papermill": {
     "duration": 0.301432,
     "end_time": "2021-01-12T10:53:40.677623",
     "exception": false,
     "start_time": "2021-01-12T10:53:40.376191",
     "status": "completed"
    },
    "tags": []
   },
   "outputs": [
    {
     "data": {
      "text/html": [
       "<div>\n",
       "<style scoped>\n",
       "    .dataframe tbody tr th:only-of-type {\n",
       "        vertical-align: middle;\n",
       "    }\n",
       "\n",
       "    .dataframe tbody tr th {\n",
       "        vertical-align: top;\n",
       "    }\n",
       "\n",
       "    .dataframe thead th {\n",
       "        text-align: right;\n",
       "    }\n",
       "</style>\n",
       "<table border=\"1\" class=\"dataframe\">\n",
       "  <thead>\n",
       "    <tr style=\"text-align: right;\">\n",
       "      <th></th>\n",
       "      <th>age</th>\n",
       "      <th>job</th>\n",
       "      <th>marital</th>\n",
       "      <th>education</th>\n",
       "      <th>default</th>\n",
       "      <th>housing</th>\n",
       "      <th>loan</th>\n",
       "      <th>contact</th>\n",
       "      <th>month</th>\n",
       "      <th>day_of_week</th>\n",
       "      <th>...</th>\n",
       "      <th>campaign</th>\n",
       "      <th>pdays</th>\n",
       "      <th>previous</th>\n",
       "      <th>poutcome</th>\n",
       "      <th>emp.var.rate</th>\n",
       "      <th>cons.price.idx</th>\n",
       "      <th>cons.conf.idx</th>\n",
       "      <th>euribor3m</th>\n",
       "      <th>nr.employed</th>\n",
       "      <th>y</th>\n",
       "    </tr>\n",
       "  </thead>\n",
       "  <tbody>\n",
       "    <tr>\n",
       "      <th>0</th>\n",
       "      <td>56</td>\n",
       "      <td>housemaid</td>\n",
       "      <td>married</td>\n",
       "      <td>basic.4y</td>\n",
       "      <td>no</td>\n",
       "      <td>no</td>\n",
       "      <td>no</td>\n",
       "      <td>telephone</td>\n",
       "      <td>may</td>\n",
       "      <td>mon</td>\n",
       "      <td>...</td>\n",
       "      <td>1</td>\n",
       "      <td>999</td>\n",
       "      <td>0</td>\n",
       "      <td>nonexistent</td>\n",
       "      <td>1.1</td>\n",
       "      <td>93.994</td>\n",
       "      <td>-36.4</td>\n",
       "      <td>4.857</td>\n",
       "      <td>5191.0</td>\n",
       "      <td>no</td>\n",
       "    </tr>\n",
       "    <tr>\n",
       "      <th>1</th>\n",
       "      <td>57</td>\n",
       "      <td>services</td>\n",
       "      <td>married</td>\n",
       "      <td>high.school</td>\n",
       "      <td>unknown</td>\n",
       "      <td>no</td>\n",
       "      <td>no</td>\n",
       "      <td>telephone</td>\n",
       "      <td>may</td>\n",
       "      <td>mon</td>\n",
       "      <td>...</td>\n",
       "      <td>1</td>\n",
       "      <td>999</td>\n",
       "      <td>0</td>\n",
       "      <td>nonexistent</td>\n",
       "      <td>1.1</td>\n",
       "      <td>93.994</td>\n",
       "      <td>-36.4</td>\n",
       "      <td>4.857</td>\n",
       "      <td>5191.0</td>\n",
       "      <td>no</td>\n",
       "    </tr>\n",
       "    <tr>\n",
       "      <th>2</th>\n",
       "      <td>37</td>\n",
       "      <td>services</td>\n",
       "      <td>married</td>\n",
       "      <td>high.school</td>\n",
       "      <td>no</td>\n",
       "      <td>yes</td>\n",
       "      <td>no</td>\n",
       "      <td>telephone</td>\n",
       "      <td>may</td>\n",
       "      <td>mon</td>\n",
       "      <td>...</td>\n",
       "      <td>1</td>\n",
       "      <td>999</td>\n",
       "      <td>0</td>\n",
       "      <td>nonexistent</td>\n",
       "      <td>1.1</td>\n",
       "      <td>93.994</td>\n",
       "      <td>-36.4</td>\n",
       "      <td>4.857</td>\n",
       "      <td>5191.0</td>\n",
       "      <td>no</td>\n",
       "    </tr>\n",
       "    <tr>\n",
       "      <th>3</th>\n",
       "      <td>40</td>\n",
       "      <td>admin.</td>\n",
       "      <td>married</td>\n",
       "      <td>basic.6y</td>\n",
       "      <td>no</td>\n",
       "      <td>no</td>\n",
       "      <td>no</td>\n",
       "      <td>telephone</td>\n",
       "      <td>may</td>\n",
       "      <td>mon</td>\n",
       "      <td>...</td>\n",
       "      <td>1</td>\n",
       "      <td>999</td>\n",
       "      <td>0</td>\n",
       "      <td>nonexistent</td>\n",
       "      <td>1.1</td>\n",
       "      <td>93.994</td>\n",
       "      <td>-36.4</td>\n",
       "      <td>4.857</td>\n",
       "      <td>5191.0</td>\n",
       "      <td>no</td>\n",
       "    </tr>\n",
       "    <tr>\n",
       "      <th>4</th>\n",
       "      <td>56</td>\n",
       "      <td>services</td>\n",
       "      <td>married</td>\n",
       "      <td>high.school</td>\n",
       "      <td>no</td>\n",
       "      <td>no</td>\n",
       "      <td>yes</td>\n",
       "      <td>telephone</td>\n",
       "      <td>may</td>\n",
       "      <td>mon</td>\n",
       "      <td>...</td>\n",
       "      <td>1</td>\n",
       "      <td>999</td>\n",
       "      <td>0</td>\n",
       "      <td>nonexistent</td>\n",
       "      <td>1.1</td>\n",
       "      <td>93.994</td>\n",
       "      <td>-36.4</td>\n",
       "      <td>4.857</td>\n",
       "      <td>5191.0</td>\n",
       "      <td>no</td>\n",
       "    </tr>\n",
       "  </tbody>\n",
       "</table>\n",
       "<p>5 rows × 21 columns</p>\n",
       "</div>"
      ],
      "text/plain": [
       "   age        job  marital    education  default housing loan    contact  \\\n",
       "0   56  housemaid  married     basic.4y       no      no   no  telephone   \n",
       "1   57   services  married  high.school  unknown      no   no  telephone   \n",
       "2   37   services  married  high.school       no     yes   no  telephone   \n",
       "3   40     admin.  married     basic.6y       no      no   no  telephone   \n",
       "4   56   services  married  high.school       no      no  yes  telephone   \n",
       "\n",
       "  month day_of_week  ...  campaign  pdays  previous     poutcome emp.var.rate  \\\n",
       "0   may         mon  ...         1    999         0  nonexistent          1.1   \n",
       "1   may         mon  ...         1    999         0  nonexistent          1.1   \n",
       "2   may         mon  ...         1    999         0  nonexistent          1.1   \n",
       "3   may         mon  ...         1    999         0  nonexistent          1.1   \n",
       "4   may         mon  ...         1    999         0  nonexistent          1.1   \n",
       "\n",
       "   cons.price.idx  cons.conf.idx  euribor3m  nr.employed   y  \n",
       "0          93.994          -36.4      4.857       5191.0  no  \n",
       "1          93.994          -36.4      4.857       5191.0  no  \n",
       "2          93.994          -36.4      4.857       5191.0  no  \n",
       "3          93.994          -36.4      4.857       5191.0  no  \n",
       "4          93.994          -36.4      4.857       5191.0  no  \n",
       "\n",
       "[5 rows x 21 columns]"
      ]
     },
     "execution_count": 3,
     "metadata": {},
     "output_type": "execute_result"
    }
   ],
   "source": [
    "dataset = pd.read_csv('../../Data/bank-additional-full.csv', sep = ';')\n",
    "dataset.head()"
   ]
  },
  {
   "cell_type": "markdown",
   "metadata": {
    "papermill": {
     "duration": 0.02696,
     "end_time": "2021-01-12T10:53:40.732103",
     "exception": false,
     "start_time": "2021-01-12T10:53:40.705143",
     "status": "completed"
    },
    "tags": []
   },
   "source": [
    "# Data Cleaning and Preprocessing"
   ]
  },
  {
   "cell_type": "code",
   "execution_count": 4,
   "metadata": {
    "execution": {
     "iopub.execute_input": "2021-01-12T10:53:40.817611Z",
     "iopub.status.busy": "2021-01-12T10:53:40.81651Z",
     "iopub.status.idle": "2021-01-12T10:53:40.901123Z",
     "shell.execute_reply": "2021-01-12T10:53:40.899983Z"
    },
    "papermill": {
     "duration": 0.13131,
     "end_time": "2021-01-12T10:53:40.901472",
     "exception": false,
     "start_time": "2021-01-12T10:53:40.770162",
     "status": "completed"
    },
    "tags": []
   },
   "outputs": [
    {
     "name": "stdout",
     "output_type": "stream",
     "text": [
      "<class 'pandas.core.frame.DataFrame'>\n",
      "RangeIndex: 41188 entries, 0 to 41187\n",
      "Data columns (total 21 columns):\n",
      " #   Column          Non-Null Count  Dtype  \n",
      "---  ------          --------------  -----  \n",
      " 0   age             41188 non-null  int64  \n",
      " 1   job             41188 non-null  object \n",
      " 2   marital         41188 non-null  object \n",
      " 3   education       41188 non-null  object \n",
      " 4   default         41188 non-null  object \n",
      " 5   housing         41188 non-null  object \n",
      " 6   loan            41188 non-null  object \n",
      " 7   contact         41188 non-null  object \n",
      " 8   month           41188 non-null  object \n",
      " 9   day_of_week     41188 non-null  object \n",
      " 10  duration        41188 non-null  int64  \n",
      " 11  campaign        41188 non-null  int64  \n",
      " 12  pdays           41188 non-null  int64  \n",
      " 13  previous        41188 non-null  int64  \n",
      " 14  poutcome        41188 non-null  object \n",
      " 15  emp.var.rate    41188 non-null  float64\n",
      " 16  cons.price.idx  41188 non-null  float64\n",
      " 17  cons.conf.idx   41188 non-null  float64\n",
      " 18  euribor3m       41188 non-null  float64\n",
      " 19  nr.employed     41188 non-null  float64\n",
      " 20  y               41188 non-null  object \n",
      "dtypes: float64(5), int64(5), object(11)\n",
      "memory usage: 6.6+ MB\n"
     ]
    }
   ],
   "source": [
    "dataset.info()"
   ]
  },
  {
   "cell_type": "code",
   "execution_count": 5,
   "metadata": {
    "execution": {
     "iopub.execute_input": "2021-01-12T10:53:41.017068Z",
     "iopub.status.busy": "2021-01-12T10:53:41.016298Z",
     "iopub.status.idle": "2021-01-12T10:53:41.025104Z",
     "shell.execute_reply": "2021-01-12T10:53:41.025604Z"
    },
    "papermill": {
     "duration": 0.089951,
     "end_time": "2021-01-12T10:53:41.02576",
     "exception": false,
     "start_time": "2021-01-12T10:53:40.935809",
     "status": "completed"
    },
    "tags": []
   },
   "outputs": [
    {
     "data": {
      "text/plain": [
       "age               0\n",
       "job               0\n",
       "marital           0\n",
       "education         0\n",
       "default           0\n",
       "housing           0\n",
       "loan              0\n",
       "contact           0\n",
       "month             0\n",
       "day_of_week       0\n",
       "duration          0\n",
       "campaign          0\n",
       "pdays             0\n",
       "previous          0\n",
       "poutcome          0\n",
       "emp.var.rate      0\n",
       "cons.price.idx    0\n",
       "cons.conf.idx     0\n",
       "euribor3m         0\n",
       "nr.employed       0\n",
       "y                 0\n",
       "dtype: int64"
      ]
     },
     "execution_count": 5,
     "metadata": {},
     "output_type": "execute_result"
    }
   ],
   "source": [
    "dataset.isnull().sum()"
   ]
  },
  {
   "cell_type": "markdown",
   "metadata": {},
   "source": [
    "There are no missing values in the dataset."
   ]
  },
  {
   "cell_type": "code",
   "execution_count": 6,
   "metadata": {
    "execution": {
     "iopub.execute_input": "2021-01-12T10:53:41.094137Z",
     "iopub.status.busy": "2021-01-12T10:53:41.093184Z",
     "iopub.status.idle": "2021-01-12T10:53:41.141626Z",
     "shell.execute_reply": "2021-01-12T10:53:41.142108Z"
    },
    "papermill": {
     "duration": 0.086242,
     "end_time": "2021-01-12T10:53:41.142284",
     "exception": false,
     "start_time": "2021-01-12T10:53:41.056042",
     "status": "completed"
    },
    "tags": []
   },
   "outputs": [
    {
     "data": {
      "text/html": [
       "<div>\n",
       "<style scoped>\n",
       "    .dataframe tbody tr th:only-of-type {\n",
       "        vertical-align: middle;\n",
       "    }\n",
       "\n",
       "    .dataframe tbody tr th {\n",
       "        vertical-align: top;\n",
       "    }\n",
       "\n",
       "    .dataframe thead th {\n",
       "        text-align: right;\n",
       "    }\n",
       "</style>\n",
       "<table border=\"1\" class=\"dataframe\">\n",
       "  <thead>\n",
       "    <tr style=\"text-align: right;\">\n",
       "      <th></th>\n",
       "      <th>age</th>\n",
       "      <th>duration</th>\n",
       "      <th>campaign</th>\n",
       "      <th>pdays</th>\n",
       "      <th>previous</th>\n",
       "      <th>emp.var.rate</th>\n",
       "      <th>cons.price.idx</th>\n",
       "      <th>cons.conf.idx</th>\n",
       "      <th>euribor3m</th>\n",
       "      <th>nr.employed</th>\n",
       "    </tr>\n",
       "  </thead>\n",
       "  <tbody>\n",
       "    <tr>\n",
       "      <th>count</th>\n",
       "      <td>41188.00000</td>\n",
       "      <td>41188.000000</td>\n",
       "      <td>41188.000000</td>\n",
       "      <td>41188.000000</td>\n",
       "      <td>41188.000000</td>\n",
       "      <td>41188.000000</td>\n",
       "      <td>41188.000000</td>\n",
       "      <td>41188.000000</td>\n",
       "      <td>41188.000000</td>\n",
       "      <td>41188.000000</td>\n",
       "    </tr>\n",
       "    <tr>\n",
       "      <th>mean</th>\n",
       "      <td>40.02406</td>\n",
       "      <td>258.285010</td>\n",
       "      <td>2.567593</td>\n",
       "      <td>962.475454</td>\n",
       "      <td>0.172963</td>\n",
       "      <td>0.081886</td>\n",
       "      <td>93.575664</td>\n",
       "      <td>-40.502600</td>\n",
       "      <td>3.621291</td>\n",
       "      <td>5167.035911</td>\n",
       "    </tr>\n",
       "    <tr>\n",
       "      <th>std</th>\n",
       "      <td>10.42125</td>\n",
       "      <td>259.279249</td>\n",
       "      <td>2.770014</td>\n",
       "      <td>186.910907</td>\n",
       "      <td>0.494901</td>\n",
       "      <td>1.570960</td>\n",
       "      <td>0.578840</td>\n",
       "      <td>4.628198</td>\n",
       "      <td>1.734447</td>\n",
       "      <td>72.251528</td>\n",
       "    </tr>\n",
       "    <tr>\n",
       "      <th>min</th>\n",
       "      <td>17.00000</td>\n",
       "      <td>0.000000</td>\n",
       "      <td>1.000000</td>\n",
       "      <td>0.000000</td>\n",
       "      <td>0.000000</td>\n",
       "      <td>-3.400000</td>\n",
       "      <td>92.201000</td>\n",
       "      <td>-50.800000</td>\n",
       "      <td>0.634000</td>\n",
       "      <td>4963.600000</td>\n",
       "    </tr>\n",
       "    <tr>\n",
       "      <th>25%</th>\n",
       "      <td>32.00000</td>\n",
       "      <td>102.000000</td>\n",
       "      <td>1.000000</td>\n",
       "      <td>999.000000</td>\n",
       "      <td>0.000000</td>\n",
       "      <td>-1.800000</td>\n",
       "      <td>93.075000</td>\n",
       "      <td>-42.700000</td>\n",
       "      <td>1.344000</td>\n",
       "      <td>5099.100000</td>\n",
       "    </tr>\n",
       "    <tr>\n",
       "      <th>50%</th>\n",
       "      <td>38.00000</td>\n",
       "      <td>180.000000</td>\n",
       "      <td>2.000000</td>\n",
       "      <td>999.000000</td>\n",
       "      <td>0.000000</td>\n",
       "      <td>1.100000</td>\n",
       "      <td>93.749000</td>\n",
       "      <td>-41.800000</td>\n",
       "      <td>4.857000</td>\n",
       "      <td>5191.000000</td>\n",
       "    </tr>\n",
       "    <tr>\n",
       "      <th>75%</th>\n",
       "      <td>47.00000</td>\n",
       "      <td>319.000000</td>\n",
       "      <td>3.000000</td>\n",
       "      <td>999.000000</td>\n",
       "      <td>0.000000</td>\n",
       "      <td>1.400000</td>\n",
       "      <td>93.994000</td>\n",
       "      <td>-36.400000</td>\n",
       "      <td>4.961000</td>\n",
       "      <td>5228.100000</td>\n",
       "    </tr>\n",
       "    <tr>\n",
       "      <th>max</th>\n",
       "      <td>98.00000</td>\n",
       "      <td>4918.000000</td>\n",
       "      <td>56.000000</td>\n",
       "      <td>999.000000</td>\n",
       "      <td>7.000000</td>\n",
       "      <td>1.400000</td>\n",
       "      <td>94.767000</td>\n",
       "      <td>-26.900000</td>\n",
       "      <td>5.045000</td>\n",
       "      <td>5228.100000</td>\n",
       "    </tr>\n",
       "  </tbody>\n",
       "</table>\n",
       "</div>"
      ],
      "text/plain": [
       "               age      duration      campaign         pdays      previous  \\\n",
       "count  41188.00000  41188.000000  41188.000000  41188.000000  41188.000000   \n",
       "mean      40.02406    258.285010      2.567593    962.475454      0.172963   \n",
       "std       10.42125    259.279249      2.770014    186.910907      0.494901   \n",
       "min       17.00000      0.000000      1.000000      0.000000      0.000000   \n",
       "25%       32.00000    102.000000      1.000000    999.000000      0.000000   \n",
       "50%       38.00000    180.000000      2.000000    999.000000      0.000000   \n",
       "75%       47.00000    319.000000      3.000000    999.000000      0.000000   \n",
       "max       98.00000   4918.000000     56.000000    999.000000      7.000000   \n",
       "\n",
       "       emp.var.rate  cons.price.idx  cons.conf.idx     euribor3m   nr.employed  \n",
       "count  41188.000000    41188.000000   41188.000000  41188.000000  41188.000000  \n",
       "mean       0.081886       93.575664     -40.502600      3.621291   5167.035911  \n",
       "std        1.570960        0.578840       4.628198      1.734447     72.251528  \n",
       "min       -3.400000       92.201000     -50.800000      0.634000   4963.600000  \n",
       "25%       -1.800000       93.075000     -42.700000      1.344000   5099.100000  \n",
       "50%        1.100000       93.749000     -41.800000      4.857000   5191.000000  \n",
       "75%        1.400000       93.994000     -36.400000      4.961000   5228.100000  \n",
       "max        1.400000       94.767000     -26.900000      5.045000   5228.100000  "
      ]
     },
     "execution_count": 6,
     "metadata": {},
     "output_type": "execute_result"
    }
   ],
   "source": [
    "dataset.describe()"
   ]
  },
  {
   "cell_type": "code",
   "execution_count": 7,
   "metadata": {
    "execution": {
     "iopub.execute_input": "2021-01-12T10:53:41.205006Z",
     "iopub.status.busy": "2021-01-12T10:53:41.204334Z",
     "iopub.status.idle": "2021-01-12T10:53:42.800887Z",
     "shell.execute_reply": "2021-01-12T10:53:42.800177Z"
    },
    "papermill": {
     "duration": 1.629288,
     "end_time": "2021-01-12T10:53:42.801003",
     "exception": false,
     "start_time": "2021-01-12T10:53:41.171715",
     "status": "completed"
    },
    "tags": []
   },
   "outputs": [
    {
     "data": {
      "image/png": "[encoded data removed]",
      "text/plain": [
       "<Figure size 720x720 with 12 Axes>"
      ]
     },
     "metadata": {
      "needs_background": "light"
     },
     "output_type": "display_data"
    }
   ],
   "source": [
    "dataset.hist(bins = 15, figsize = (10,10), xlabelsize = 0.1, ylabelsize = 0.1)\n",
    "plt.show()"
   ]
  },
  {
   "cell_type": "code",
   "execution_count": 8,
   "metadata": {
    "execution": {
     "iopub.execute_input": "2021-01-12T10:53:42.88176Z",
     "iopub.status.busy": "2021-01-12T10:53:42.878385Z",
     "iopub.status.idle": "2021-01-12T10:53:42.886455Z",
     "shell.execute_reply": "2021-01-12T10:53:42.885859Z"
    },
    "papermill": {
     "duration": 0.044337,
     "end_time": "2021-01-12T10:53:42.886577",
     "exception": false,
     "start_time": "2021-01-12T10:53:42.84224",
     "status": "completed"
    },
    "tags": []
   },
   "outputs": [
    {
     "data": {
      "text/plain": [
       "999    0.963217\n",
       "3      0.010658\n",
       "6      0.010003\n",
       "4      0.002865\n",
       "9      0.001554\n",
       "2      0.001481\n",
       "7      0.001457\n",
       "12     0.001408\n",
       "10     0.001263\n",
       "5      0.001117\n",
       "13     0.000874\n",
       "11     0.000680\n",
       "1      0.000631\n",
       "15     0.000583\n",
       "14     0.000486\n",
       "8      0.000437\n",
       "0      0.000364\n",
       "16     0.000267\n",
       "17     0.000194\n",
       "18     0.000170\n",
       "19     0.000073\n",
       "22     0.000073\n",
       "21     0.000049\n",
       "26     0.000024\n",
       "20     0.000024\n",
       "25     0.000024\n",
       "27     0.000024\n",
       "Name: pdays, dtype: float64"
      ]
     },
     "execution_count": 8,
     "metadata": {},
     "output_type": "execute_result"
    }
   ],
   "source": [
    "dataset.pdays.value_counts(normalize=True)"
   ]
  },
  {
   "cell_type": "markdown",
   "metadata": {},
   "source": [
    "pdays variable has the value 999 96% of the time. The variable gives no information since its variance is very low. It is better to drop this variable."
   ]
  },
  {
   "cell_type": "code",
   "execution_count": 9,
   "metadata": {
    "execution": {
     "iopub.execute_input": "2021-01-12T10:53:42.957853Z",
     "iopub.status.busy": "2021-01-12T10:53:42.956821Z",
     "iopub.status.idle": "2021-01-12T10:53:43.430089Z",
     "shell.execute_reply": "2021-01-12T10:53:43.429474Z"
    },
    "papermill": {
     "duration": 0.512185,
     "end_time": "2021-01-12T10:53:43.430218",
     "exception": false,
     "start_time": "2021-01-12T10:53:42.918033",
     "status": "completed"
    },
    "tags": []
   },
   "outputs": [
    {
     "data": {
      "text/plain": [
       "<seaborn.axisgrid.FacetGrid at 0x21460aa2c70>"
      ]
     },
     "execution_count": 9,
     "metadata": {},
     "output_type": "execute_result"
    },
    {
     "data": {
      "image/png": "[encoded data removed]",
      "text/plain": [
       "<Figure size 413.25x360 with 1 Axes>"
      ]
     },
     "metadata": {
      "needs_background": "light"
     },
     "output_type": "display_data"
    }
   ],
   "source": [
    "sns.catplot(x='default',hue='y',kind='count',data=dataset)"
   ]
  },
  {
   "cell_type": "code",
   "execution_count": 10,
   "metadata": {
    "execution": {
     "iopub.execute_input": "2021-01-12T10:53:43.502417Z",
     "iopub.status.busy": "2021-01-12T10:53:43.501654Z",
     "iopub.status.idle": "2021-01-12T10:53:43.536242Z",
     "shell.execute_reply": "2021-01-12T10:53:43.535673Z"
    },
    "papermill": {
     "duration": 0.073039,
     "end_time": "2021-01-12T10:53:43.536371",
     "exception": false,
     "start_time": "2021-01-12T10:53:43.463332",
     "status": "completed"
    },
    "tags": []
   },
   "outputs": [
    {
     "data": {
      "text/html": [
       "<div>\n",
       "<style scoped>\n",
       "    .dataframe tbody tr th:only-of-type {\n",
       "        vertical-align: middle;\n",
       "    }\n",
       "\n",
       "    .dataframe tbody tr th {\n",
       "        vertical-align: top;\n",
       "    }\n",
       "\n",
       "    .dataframe thead th {\n",
       "        text-align: right;\n",
       "    }\n",
       "</style>\n",
       "<table border=\"1\" class=\"dataframe\">\n",
       "  <thead>\n",
       "    <tr style=\"text-align: right;\">\n",
       "      <th>y</th>\n",
       "      <th>no</th>\n",
       "      <th>yes</th>\n",
       "    </tr>\n",
       "    <tr>\n",
       "      <th>default</th>\n",
       "      <th></th>\n",
       "      <th></th>\n",
       "    </tr>\n",
       "  </thead>\n",
       "  <tbody>\n",
       "    <tr>\n",
       "      <th>no</th>\n",
       "      <td>28391</td>\n",
       "      <td>4197</td>\n",
       "    </tr>\n",
       "    <tr>\n",
       "      <th>unknown</th>\n",
       "      <td>8154</td>\n",
       "      <td>443</td>\n",
       "    </tr>\n",
       "    <tr>\n",
       "      <th>yes</th>\n",
       "      <td>3</td>\n",
       "      <td>0</td>\n",
       "    </tr>\n",
       "  </tbody>\n",
       "</table>\n",
       "</div>"
      ],
      "text/plain": [
       "y           no   yes\n",
       "default             \n",
       "no       28391  4197\n",
       "unknown   8154   443\n",
       "yes          3     0"
      ]
     },
     "execution_count": 10,
     "metadata": {},
     "output_type": "execute_result"
    }
   ],
   "source": [
    "pd.crosstab(dataset['default'], dataset.y)"
   ]
  },
  {
   "cell_type": "markdown",
   "metadata": {},
   "source": [
    "There are only 3 customers which we know for sure that they have a loan in default. Again, this variable gives no information and it will be dropped in a later stage."
   ]
  },
  {
   "cell_type": "code",
   "execution_count": 11,
   "metadata": {
    "execution": {
     "iopub.execute_input": "2021-01-12T10:53:43.621298Z",
     "iopub.status.busy": "2021-01-12T10:53:43.612038Z",
     "iopub.status.idle": "2021-01-12T10:53:43.627515Z",
     "shell.execute_reply": "2021-01-12T10:53:43.626877Z"
    },
    "papermill": {
     "duration": 0.058926,
     "end_time": "2021-01-12T10:53:43.627638",
     "exception": false,
     "start_time": "2021-01-12T10:53:43.568712",
     "status": "completed"
    },
    "tags": []
   },
   "outputs": [
    {
     "data": {
      "text/plain": [
       "no     0.887346\n",
       "yes    0.112654\n",
       "Name: y, dtype: float64"
      ]
     },
     "execution_count": 11,
     "metadata": {},
     "output_type": "execute_result"
    }
   ],
   "source": [
    "dataset.y.value_counts(normalize=True)"
   ]
  },
  {
   "cell_type": "markdown",
   "metadata": {},
   "source": [
    "Looking at the proportion of the classes we like to predict, we see that the dataset is imbalanced. We will take care of this problem with oversampling method."
   ]
  },
  {
   "cell_type": "code",
   "execution_count": 12,
   "metadata": {
    "execution": {
     "iopub.execute_input": "2021-01-12T10:53:43.697408Z",
     "iopub.status.busy": "2021-01-12T10:53:43.696668Z",
     "iopub.status.idle": "2021-01-12T10:53:43.833404Z",
     "shell.execute_reply": "2021-01-12T10:53:43.83394Z"
    },
    "papermill": {
     "duration": 0.173204,
     "end_time": "2021-01-12T10:53:43.834085",
     "exception": false,
     "start_time": "2021-01-12T10:53:43.660881",
     "status": "completed"
    },
    "tags": []
   },
   "outputs": [
    {
     "name": "stderr",
     "output_type": "stream",
     "text": [
      "Pass the following variable as a keyword arg: x. From version 0.12, the only valid positional argument will be `data`, and passing other arguments without an explicit keyword will result in an error or misinterpretation.\n"
     ]
    },
    {
     "data": {
      "text/plain": [
       "Text(0.5, 1.0, 'Deposit Distributions \\n (0: No || 1: Yes)')"
      ]
     },
     "execution_count": 12,
     "metadata": {},
     "output_type": "execute_result"
    },
    {
     "data": {
      "image/png": "[encoded data removed]",
      "text/plain": [
       "<Figure size 432x288 with 1 Axes>"
      ]
     },
     "metadata": {
      "needs_background": "light"
     },
     "output_type": "display_data"
    }
   ],
   "source": [
    "colors = [\"#0101DF\", \"#DF0101\"]\n",
    "\n",
    "sns.countplot('y', data=dataset, palette=colors)\n",
    "plt.title('Deposit Distributions \\n (0: No || 1: Yes)', fontsize=14)"
   ]
  },
  {
   "cell_type": "markdown",
   "metadata": {},
   "source": [
    "# Correlation Matrix"
   ]
  },
  {
   "cell_type": "code",
   "execution_count": 13,
   "metadata": {
    "execution": {
     "iopub.execute_input": "2021-01-12T10:53:43.90606Z",
     "iopub.status.busy": "2021-01-12T10:53:43.905415Z",
     "iopub.status.idle": "2021-01-12T10:53:44.542571Z",
     "shell.execute_reply": "2021-01-12T10:53:44.54313Z"
    },
    "papermill": {
     "duration": 0.674915,
     "end_time": "2021-01-12T10:53:44.543306",
     "exception": false,
     "start_time": "2021-01-12T10:53:43.868391",
     "status": "completed"
    },
    "tags": []
   },
   "outputs": [
    {
     "data": {
      "text/plain": [
       "<AxesSubplot:>"
      ]
     },
     "execution_count": 13,
     "metadata": {},
     "output_type": "execute_result"
    },
    {
     "data": {
      "image/png": "[encoded data removed]",
      "text/plain": [
       "<Figure size 1080x1080 with 2 Axes>"
      ]
     },
     "metadata": {
      "needs_background": "light"
     },
     "output_type": "display_data"
    }
   ],
   "source": [
    "plt.figure(figsize=(15,15))\n",
    "sns.heatmap(dataset.corr(),square=True,annot=True,cmap= 'twilight_shifted')"
   ]
  },
  {
   "cell_type": "markdown",
   "metadata": {},
   "source": [
    "There are highly correlated variables in the dataset. It would be reasonable to perform feature selection but most of the algorithms I use have their own feature selection, I omit to ddo that."
   ]
  },
  {
   "cell_type": "markdown",
   "metadata": {
    "papermill": {
     "duration": 0.036806,
     "end_time": "2021-01-12T10:53:44.61872",
     "exception": false,
     "start_time": "2021-01-12T10:53:44.581914",
     "status": "completed"
    },
    "tags": []
   },
   "source": [
    "## Standardization"
   ]
  },
  {
   "cell_type": "code",
   "execution_count": 16,
   "metadata": {},
   "outputs": [],
   "source": [
    "#function to creat group of ages, this helps because we have 78 differente values here\n",
    "def age(dataframe):\n",
    "    dataframe.loc[dataframe['age'] < 25, 'age'] = 0\n",
    "    dataframe.loc[dataframe['age'] >= 25, 'age'] = 1\n",
    "           \n",
    "    return dataframe\n",
    "\n",
    "age(dataset);"
   ]
  },
  {
   "cell_type": "code",
   "execution_count": 35,
   "metadata": {},
   "outputs": [],
   "source": [
    "dataset['age'].unique()\n",
    "dataset_age = dataset['age']"
   ]
  },
  {
   "cell_type": "code",
   "execution_count": 20,
   "metadata": {
    "execution": {
     "iopub.execute_input": "2021-01-12T10:53:44.704877Z",
     "iopub.status.busy": "2021-01-12T10:53:44.704119Z",
     "iopub.status.idle": "2021-01-12T10:53:44.768525Z",
     "shell.execute_reply": "2021-01-12T10:53:44.767847Z"
    },
    "papermill": {
     "duration": 0.111892,
     "end_time": "2021-01-12T10:53:44.768659",
     "exception": false,
     "start_time": "2021-01-12T10:53:44.656767",
     "status": "completed"
    },
    "tags": []
   },
   "outputs": [
    {
     "data": {
      "text/plain": [
       "StandardScaler()"
      ]
     },
     "execution_count": 20,
     "metadata": {},
     "output_type": "execute_result"
    }
   ],
   "source": [
    "# make a copy of dataset to scaling\n",
    "bank_scale=dataset.copy()\n",
    "\n",
    "# remove 'pdays' and 'default' columns\n",
    "bank_scale= bank_scale.drop(['pdays', 'default'], axis=1)\n",
    "\n",
    "bank_scale.y.replace(('yes', 'no'), (1, 0), inplace=True)\n",
    "\n",
    "# standardization for just numerical variables \n",
    "categorical_cols= ['job','marital', 'education',  'housing', 'loan', 'contact', 'month', 'day_of_week','poutcome','y']\n",
    "feature_scale=[feature for feature in bank_scale.columns if feature not in categorical_cols]\n",
    "\n",
    "scaler=StandardScaler()\n",
    "scaler.fit(bank_scale[feature_scale])"
   ]
  },
  {
   "cell_type": "code",
   "execution_count": 21,
   "metadata": {
    "execution": {
     "iopub.execute_input": "2021-01-12T10:53:44.856799Z",
     "iopub.status.busy": "2021-01-12T10:53:44.853895Z",
     "iopub.status.idle": "2021-01-12T10:53:44.951759Z",
     "shell.execute_reply": "2021-01-12T10:53:44.951122Z"
    },
    "papermill": {
     "duration": 0.144392,
     "end_time": "2021-01-12T10:53:44.95188",
     "exception": false,
     "start_time": "2021-01-12T10:53:44.807488",
     "status": "completed"
    },
    "tags": []
   },
   "outputs": [
    {
     "data": {
      "text/html": [
       "<div>\n",
       "<style scoped>\n",
       "    .dataframe tbody tr th:only-of-type {\n",
       "        vertical-align: middle;\n",
       "    }\n",
       "\n",
       "    .dataframe tbody tr th {\n",
       "        vertical-align: top;\n",
       "    }\n",
       "\n",
       "    .dataframe thead th {\n",
       "        text-align: right;\n",
       "    }\n",
       "</style>\n",
       "<table border=\"1\" class=\"dataframe\">\n",
       "  <thead>\n",
       "    <tr style=\"text-align: right;\">\n",
       "      <th></th>\n",
       "      <th>y</th>\n",
       "      <th>age</th>\n",
       "      <th>duration</th>\n",
       "      <th>campaign</th>\n",
       "      <th>previous</th>\n",
       "      <th>emp.var.rate</th>\n",
       "      <th>cons.price.idx</th>\n",
       "      <th>cons.conf.idx</th>\n",
       "      <th>euribor3m</th>\n",
       "      <th>nr.employed</th>\n",
       "      <th>...</th>\n",
       "      <th>month_may</th>\n",
       "      <th>month_nov</th>\n",
       "      <th>month_oct</th>\n",
       "      <th>month_sep</th>\n",
       "      <th>day_of_week_mon</th>\n",
       "      <th>day_of_week_thu</th>\n",
       "      <th>day_of_week_tue</th>\n",
       "      <th>day_of_week_wed</th>\n",
       "      <th>poutcome_nonexistent</th>\n",
       "      <th>poutcome_success</th>\n",
       "    </tr>\n",
       "  </thead>\n",
       "  <tbody>\n",
       "    <tr>\n",
       "      <th>0</th>\n",
       "      <td>0</td>\n",
       "      <td>0.163157</td>\n",
       "      <td>0.010471</td>\n",
       "      <td>-0.565922</td>\n",
       "      <td>-0.349494</td>\n",
       "      <td>0.648092</td>\n",
       "      <td>0.722722</td>\n",
       "      <td>0.886447</td>\n",
       "      <td>0.71246</td>\n",
       "      <td>0.33168</td>\n",
       "      <td>...</td>\n",
       "      <td>1</td>\n",
       "      <td>0</td>\n",
       "      <td>0</td>\n",
       "      <td>0</td>\n",
       "      <td>1</td>\n",
       "      <td>0</td>\n",
       "      <td>0</td>\n",
       "      <td>0</td>\n",
       "      <td>1</td>\n",
       "      <td>0</td>\n",
       "    </tr>\n",
       "    <tr>\n",
       "      <th>1</th>\n",
       "      <td>0</td>\n",
       "      <td>0.163157</td>\n",
       "      <td>-0.421501</td>\n",
       "      <td>-0.565922</td>\n",
       "      <td>-0.349494</td>\n",
       "      <td>0.648092</td>\n",
       "      <td>0.722722</td>\n",
       "      <td>0.886447</td>\n",
       "      <td>0.71246</td>\n",
       "      <td>0.33168</td>\n",
       "      <td>...</td>\n",
       "      <td>1</td>\n",
       "      <td>0</td>\n",
       "      <td>0</td>\n",
       "      <td>0</td>\n",
       "      <td>1</td>\n",
       "      <td>0</td>\n",
       "      <td>0</td>\n",
       "      <td>0</td>\n",
       "      <td>1</td>\n",
       "      <td>0</td>\n",
       "    </tr>\n",
       "    <tr>\n",
       "      <th>2</th>\n",
       "      <td>0</td>\n",
       "      <td>0.163157</td>\n",
       "      <td>-0.124520</td>\n",
       "      <td>-0.565922</td>\n",
       "      <td>-0.349494</td>\n",
       "      <td>0.648092</td>\n",
       "      <td>0.722722</td>\n",
       "      <td>0.886447</td>\n",
       "      <td>0.71246</td>\n",
       "      <td>0.33168</td>\n",
       "      <td>...</td>\n",
       "      <td>1</td>\n",
       "      <td>0</td>\n",
       "      <td>0</td>\n",
       "      <td>0</td>\n",
       "      <td>1</td>\n",
       "      <td>0</td>\n",
       "      <td>0</td>\n",
       "      <td>0</td>\n",
       "      <td>1</td>\n",
       "      <td>0</td>\n",
       "    </tr>\n",
       "    <tr>\n",
       "      <th>3</th>\n",
       "      <td>0</td>\n",
       "      <td>0.163157</td>\n",
       "      <td>-0.413787</td>\n",
       "      <td>-0.565922</td>\n",
       "      <td>-0.349494</td>\n",
       "      <td>0.648092</td>\n",
       "      <td>0.722722</td>\n",
       "      <td>0.886447</td>\n",
       "      <td>0.71246</td>\n",
       "      <td>0.33168</td>\n",
       "      <td>...</td>\n",
       "      <td>1</td>\n",
       "      <td>0</td>\n",
       "      <td>0</td>\n",
       "      <td>0</td>\n",
       "      <td>1</td>\n",
       "      <td>0</td>\n",
       "      <td>0</td>\n",
       "      <td>0</td>\n",
       "      <td>1</td>\n",
       "      <td>0</td>\n",
       "    </tr>\n",
       "    <tr>\n",
       "      <th>4</th>\n",
       "      <td>0</td>\n",
       "      <td>0.163157</td>\n",
       "      <td>0.187888</td>\n",
       "      <td>-0.565922</td>\n",
       "      <td>-0.349494</td>\n",
       "      <td>0.648092</td>\n",
       "      <td>0.722722</td>\n",
       "      <td>0.886447</td>\n",
       "      <td>0.71246</td>\n",
       "      <td>0.33168</td>\n",
       "      <td>...</td>\n",
       "      <td>1</td>\n",
       "      <td>0</td>\n",
       "      <td>0</td>\n",
       "      <td>0</td>\n",
       "      <td>1</td>\n",
       "      <td>0</td>\n",
       "      <td>0</td>\n",
       "      <td>0</td>\n",
       "      <td>1</td>\n",
       "      <td>0</td>\n",
       "    </tr>\n",
       "  </tbody>\n",
       "</table>\n",
       "<p>5 rows × 51 columns</p>\n",
       "</div>"
      ],
      "text/plain": [
       "   y       age  duration  campaign  previous  emp.var.rate  cons.price.idx  \\\n",
       "0  0  0.163157  0.010471 -0.565922 -0.349494      0.648092        0.722722   \n",
       "1  0  0.163157 -0.421501 -0.565922 -0.349494      0.648092        0.722722   \n",
       "2  0  0.163157 -0.124520 -0.565922 -0.349494      0.648092        0.722722   \n",
       "3  0  0.163157 -0.413787 -0.565922 -0.349494      0.648092        0.722722   \n",
       "4  0  0.163157  0.187888 -0.565922 -0.349494      0.648092        0.722722   \n",
       "\n",
       "   cons.conf.idx  euribor3m  nr.employed  ...  month_may  month_nov  \\\n",
       "0       0.886447    0.71246      0.33168  ...          1          0   \n",
       "1       0.886447    0.71246      0.33168  ...          1          0   \n",
       "2       0.886447    0.71246      0.33168  ...          1          0   \n",
       "3       0.886447    0.71246      0.33168  ...          1          0   \n",
       "4       0.886447    0.71246      0.33168  ...          1          0   \n",
       "\n",
       "   month_oct  month_sep  day_of_week_mon  day_of_week_thu  day_of_week_tue  \\\n",
       "0          0          0                1                0                0   \n",
       "1          0          0                1                0                0   \n",
       "2          0          0                1                0                0   \n",
       "3          0          0                1                0                0   \n",
       "4          0          0                1                0                0   \n",
       "\n",
       "   day_of_week_wed  poutcome_nonexistent  poutcome_success  \n",
       "0                0                     1                 0  \n",
       "1                0                     1                 0  \n",
       "2                0                     1                 0  \n",
       "3                0                     1                 0  \n",
       "4                0                     1                 0  \n",
       "\n",
       "[5 rows x 51 columns]"
      ]
     },
     "execution_count": 21,
     "metadata": {},
     "output_type": "execute_result"
    }
   ],
   "source": [
    "scaled_data = pd.concat([bank_scale[categorical_cols].reset_index(drop=True),\n",
    "                    pd.DataFrame(scaler.transform(bank_scale[feature_scale]), columns=feature_scale)],\n",
    "                    axis=1)\n",
    "\n",
    "categorical_cols1= ['job','marital', 'education', 'housing', 'loan', 'contact', 'month', 'day_of_week','poutcome']\n",
    "scaled_data= pd.get_dummies(scaled_data, columns = categorical_cols1, drop_first=True)\n",
    "scaled_data.head()"
   ]
  },
  {
   "cell_type": "code",
   "execution_count": 22,
   "metadata": {},
   "outputs": [
    {
     "data": {
      "text/plain": [
       "array([ 0.16315679, -6.12907359])"
      ]
     },
     "execution_count": 22,
     "metadata": {},
     "output_type": "execute_result"
    }
   ],
   "source": [
    "scaled_data['age'].unique()"
   ]
  },
  {
   "cell_type": "markdown",
   "metadata": {
    "papermill": {
     "duration": 0.03809,
     "end_time": "2021-01-12T10:53:45.028299",
     "exception": false,
     "start_time": "2021-01-12T10:53:44.990209",
     "status": "completed"
    },
    "tags": []
   },
   "source": [
    "## Train/Test Split"
   ]
  },
  {
   "cell_type": "code",
   "execution_count": null,
   "metadata": {
    "execution": {
     "iopub.execute_input": "2021-01-12T10:53:45.112244Z",
     "iopub.status.busy": "2021-01-12T10:53:45.111515Z",
     "iopub.status.idle": "2021-01-12T10:53:45.129065Z",
     "shell.execute_reply": "2021-01-12T10:53:45.128464Z"
    },
    "papermill": {
     "duration": 0.06218,
     "end_time": "2021-01-12T10:53:45.129304",
     "exception": false,
     "start_time": "2021-01-12T10:53:45.067124",
     "status": "completed"
    },
    "tags": []
   },
   "outputs": [],
   "source": [
    "X = scaled_data.iloc[:,1:]\n",
    "Y = scaled_data.iloc[:,-0]\n",
    "\n",
    "X_train, X_test, y_train, y_test = train_test_split(X, Y, test_size=0.25, random_state=2)"
   ]
  },
  {
   "cell_type": "markdown",
   "metadata": {
    "papermill": {
     "duration": 0.039192,
     "end_time": "2021-01-12T10:53:45.207895",
     "exception": false,
     "start_time": "2021-01-12T10:53:45.168703",
     "status": "completed"
    },
    "tags": []
   },
   "source": [
    "# Benchmark Models"
   ]
  },
  {
   "cell_type": "code",
   "execution_count": null,
   "metadata": {
    "execution": {
     "iopub.execute_input": "2021-01-12T10:53:45.305837Z",
     "iopub.status.busy": "2021-01-12T10:53:45.299603Z",
     "iopub.status.idle": "2021-01-12T11:16:50.493162Z",
     "shell.execute_reply": "2021-01-12T11:16:50.494129Z"
    },
    "papermill": {
     "duration": 1385.247697,
     "end_time": "2021-01-12T11:16:50.494388",
     "exception": false,
     "start_time": "2021-01-12T10:53:45.246691",
     "status": "completed"
    },
    "tags": []
   },
   "outputs": [],
   "source": [
    "import warnings\n",
    "warnings.filterwarnings(\"ignore\")\n",
    "# Tuning parameter for RF ( tuning parameters are choosen based on best parameters of RandomizedSearchCV)\n",
    "n_estimators = [int(x) for x in np.linspace(start = 20, stop = 200, num = 5)]\n",
    "max_features = ['auto', 'sqrt']\n",
    "max_depth = [int(x) for x in np.linspace(1, 45, num = 3)]\n",
    "min_samples_split = [5, 10]\n",
    "random_grid = {'n_estimators': n_estimators,\n",
    "               'max_features': max_features,\n",
    "               'max_depth': max_depth,\n",
    "               'min_samples_split': min_samples_split}\n",
    "tuning_rf = RandomizedSearchCV(estimator = RandomForestClassifier(), param_distributions = random_grid, n_iter = 10, cv = 10, verbose=2, random_state=42, n_jobs = -1, scoring='roc_auc')\n",
    "tuning_rf.fit(X_train,y_train)\n",
    "print('Best Parameter for Random Forest', tuning_rf.best_params_, tuning_rf.best_score_)\n",
    "\n",
    "# Tuning parameter for Tree\n",
    "param_dict= {\"criterion\": ['gini', 'entropy'],\n",
    "            \"max_depth\": range(1,10),\n",
    "            \"min_samples_split\": range(1,10),\n",
    "            \"min_samples_leaf\": range(1,5)}\n",
    "tuning_tree = GridSearchCV(DecisionTreeClassifier(random_state=12),  param_grid=param_dict, cv=10, verbose=1, n_jobs=-1)\n",
    "tuning_tree.fit(X_train,y_train)\n",
    "print('Best Parameter for Tree', tuning_tree.best_params_, tuning_tree.best_score_)\n",
    "\n",
    "# Xgboost Parameters\n",
    "param_xgb = {\n",
    " 'max_depth':[4,5,6],\n",
    " 'min_child_weight':[4,5,6],\n",
    " 'gamma':[i/10.0 for i in range(0,5)]\n",
    "}\n",
    "tuning_xgb = GridSearchCV(estimator = XGBClassifier( learning_rate =0.1, n_estimators=140, max_depth=4,\n",
    " min_child_weight=6, gamma=0, subsample=0.8, colsample_bytree=0.8,\n",
    " objective= 'binary:logistic', nthread=4, scale_pos_weight=1,seed=27), \n",
    " param_grid = param_xgb, scoring='roc_auc',n_jobs=4, cv=5)\n",
    "tuning_xgb.fit(X_train,y_train)\n",
    "print('Best Parameter for XGBoost', tuning_xgb.best_params_, tuning_xgb.best_score_)"
   ]
  },
  {
   "cell_type": "code",
   "execution_count": null,
   "metadata": {
    "execution": {
     "iopub.execute_input": "2021-01-12T11:16:50.62469Z",
     "iopub.status.busy": "2021-01-12T11:16:50.623807Z",
     "iopub.status.idle": "2021-01-12T11:20:01.999198Z",
     "shell.execute_reply": "2021-01-12T11:20:02.00013Z"
    },
    "papermill": {
     "duration": 191.446407,
     "end_time": "2021-01-12T11:20:02.000373",
     "exception": false,
     "start_time": "2021-01-12T11:16:50.553966",
     "status": "completed"
    },
    "tags": []
   },
   "outputs": [],
   "source": [
    "%%time\n",
    "# Voting Classifier\n",
    "clf1 = DecisionTreeClassifier()\n",
    "clf2 = RandomForestClassifier(random_state=1)\n",
    "clf3 = GaussianNB()\n",
    "clf4= KNeighborsClassifier()\n",
    "clf5= LinearDiscriminantAnalysis()\n",
    "clf6= XGBClassifier()\n",
    "\n",
    "# Instantiate the classfiers and make a list\n",
    "classifiers = [LinearDiscriminantAnalysis(),\n",
    "               KNeighborsClassifier(),\n",
    "               GaussianNB(), \n",
    "               SVC(kernel='linear'),\n",
    "               DecisionTreeClassifier(criterion='gini', max_depth=6, min_samples_split=9,min_samples_leaf=2, random_state=12),\n",
    "               RandomForestClassifier(n_estimators=155, max_features='auto', max_depth=45, min_samples_split=10, random_state=27),\n",
    "               XGBClassifier(learning_rate =0.1, n_estimators=140, max_depth=5, min_child_weight=4, gamma=0.3, subsample=0.8, colsample_bytree=0.8, objective= 'binary:logistic', nthread=4, scale_pos_weight=1,seed=27),\n",
    "               VotingClassifier(estimators = [('DTree', clf1), ('rf', clf2), ('gnb', clf3),  ('knn', clf4),('lda', clf5), ('xgb', clf6)], voting ='soft')]\n",
    "\n",
    "# Define a result table as a DataFrame\n",
    "result_table = pd.DataFrame(columns=['classifiers', 'fpr1','tpr1','fpr','tpr','train_accuracy','test_accuracy', 'train_auc', 'test_auc', 'f1_score', 'precision','recall','confusion matrix','Report'])\n",
    "\n",
    "# Train the models and record the results\n",
    "for cls in classifiers:\n",
    "    model = cls.fit(X_train, y_train)\n",
    "    y_train_pred = model.predict(X_train)\n",
    "    y_test_pred = model.predict(X_test)\n",
    "    \n",
    "    train_accuracy= accuracy_score(y_train, y_train_pred)\n",
    "    test_accuracy= accuracy_score(y_test, y_test_pred)\n",
    "     \n",
    "    fpr, tpr, _ = roc_curve(y_test,  y_test_pred)\n",
    "    fpr1, tpr1, _ = roc_curve(y_train,  y_train_pred)\n",
    "    \n",
    "    train_auc = roc_auc_score(y_train, y_train_pred)\n",
    "    test_auc = roc_auc_score(y_test, y_test_pred)\n",
    "    \n",
    "    f1_score= metrics.f1_score(y_test, y_test_pred)\n",
    "    precision = metrics.precision_score(y_test, y_test_pred)\n",
    "    recall = metrics.recall_score(y_test, y_test_pred)\n",
    "    \n",
    "    conf_mat= confusion_matrix(y_test,y_test_pred)\n",
    "    report=classification_report(y_test,y_test_pred, digits=3, output_dict=True)\n",
    "    \n",
    "    result_table = result_table.append({'classifiers':cls.__class__.__name__,\n",
    "                                        'fpr1':fpr1,\n",
    "                                        'tpr1':tpr1,\n",
    "                                        'fpr':fpr, \n",
    "                                        'tpr':tpr, \n",
    "                                        'train_accuracy': train_accuracy,\n",
    "                                        'test_accuracy': test_accuracy,\n",
    "                                        'train_auc':train_auc,\n",
    "                                        'test_auc':test_auc,\n",
    "                                        'f1_score': f1_score,\n",
    "                                        'precision': precision,\n",
    "                                        'recall': recall,\n",
    "                                        'confusion matrix':conf_mat,\n",
    "                                        'Report':report}, ignore_index=True)\n",
    "\n",
    "# Set name of the classifiers as index labels\n",
    "result_table.set_index('classifiers', inplace=True)"
   ]
  },
  {
   "cell_type": "code",
   "execution_count": null,
   "metadata": {
    "execution": {
     "iopub.execute_input": "2021-01-12T11:20:02.162953Z",
     "iopub.status.busy": "2021-01-12T11:20:02.155896Z",
     "iopub.status.idle": "2021-01-12T11:20:02.168955Z",
     "shell.execute_reply": "2021-01-12T11:20:02.168319Z"
    },
    "papermill": {
     "duration": 0.112255,
     "end_time": "2021-01-12T11:20:02.169089",
     "exception": false,
     "start_time": "2021-01-12T11:20:02.056834",
     "status": "completed"
    },
    "tags": []
   },
   "outputs": [],
   "source": [
    "result_table.rename(index={'VotingClassifier':'Model Ensemble'},inplace=True)\n",
    "result_table"
   ]
  },
  {
   "cell_type": "code",
   "execution_count": null,
   "metadata": {
    "execution": {
     "iopub.execute_input": "2021-01-12T11:20:02.275288Z",
     "iopub.status.busy": "2021-01-12T11:20:02.274471Z",
     "iopub.status.idle": "2021-01-12T11:20:02.278227Z",
     "shell.execute_reply": "2021-01-12T11:20:02.278737Z"
    },
    "papermill": {
     "duration": 0.06318,
     "end_time": "2021-01-12T11:20:02.278891",
     "exception": false,
     "start_time": "2021-01-12T11:20:02.215711",
     "status": "completed"
    },
    "tags": []
   },
   "outputs": [],
   "source": [
    "pd.DataFrame(result_table.iloc[0,12]).transpose()"
   ]
  },
  {
   "cell_type": "code",
   "execution_count": null,
   "metadata": {
    "execution": {
     "iopub.execute_input": "2021-01-12T11:20:02.375277Z",
     "iopub.status.busy": "2021-01-12T11:20:02.374521Z",
     "iopub.status.idle": "2021-01-12T11:20:02.655637Z",
     "shell.execute_reply": "2021-01-12T11:20:02.655036Z"
    },
    "papermill": {
     "duration": 0.330297,
     "end_time": "2021-01-12T11:20:02.655768",
     "exception": false,
     "start_time": "2021-01-12T11:20:02.325471",
     "status": "completed"
    },
    "tags": []
   },
   "outputs": [],
   "source": [
    "fig = plt.figure(figsize=(15,10))\n",
    "\n",
    "for i in range(result_table.shape[0]):\n",
    "    plt.plot(result_table.iloc[i,]['fpr'], \n",
    "             result_table.iloc[i,]['tpr'], \n",
    "             label=\"{}, AUC={:.3f}\".format(result_table.index[i], result_table.iloc[i,]['test_auc']))\n",
    "    \n",
    "plt.plot([0,1], [0,1], color='orange', linestyle='--')\n",
    "plt.xticks(np.arange(0.0, 1.1, step=0.1))\n",
    "plt.xlabel(\"False Positive Rate\", fontsize=15)\n",
    "plt.yticks(np.arange(0.0, 1.1, step=0.1))\n",
    "plt.ylabel(\"True Positive Rate\", fontsize=15)\n",
    "plt.title('ROC Curve Analysis', fontweight='bold', fontsize=15)\n",
    "plt.legend(prop={'size':13}, loc='lower right')\n",
    "plt.show()"
   ]
  },
  {
   "cell_type": "markdown",
   "metadata": {
    "papermill": {
     "duration": 0.04897,
     "end_time": "2021-01-12T11:20:02.755461",
     "exception": false,
     "start_time": "2021-01-12T11:20:02.706491",
     "status": "completed"
    },
    "tags": []
   },
   "source": [
    "# Oversampling - RandomOverSampler"
   ]
  },
  {
   "cell_type": "code",
   "execution_count": null,
   "metadata": {
    "execution": {
     "iopub.execute_input": "2021-01-12T11:20:02.877894Z",
     "iopub.status.busy": "2021-01-12T11:20:02.871036Z",
     "iopub.status.idle": "2021-01-12T11:20:02.98765Z",
     "shell.execute_reply": "2021-01-12T11:20:02.989004Z"
    },
    "papermill": {
     "duration": 0.183622,
     "end_time": "2021-01-12T11:20:02.989331",
     "exception": false,
     "start_time": "2021-01-12T11:20:02.805709",
     "status": "completed"
    },
    "tags": []
   },
   "outputs": [],
   "source": [
    "print(\"Before OverSampling, counts of label '1': {}\".format(sum(y_train == 1))) \n",
    "print(\"Before OverSampling, counts of label '0': {} \\n\".format(sum(y_train == 0))) \n",
    "\n",
    "from imblearn.over_sampling import RandomOverSampler\n",
    "# define oversampling strategy\n",
    "oversample = RandomOverSampler(sampling_strategy='minority') \n",
    "X_train_over, y_train_over = oversample.fit_resample(X_train, y_train)\n",
    "  \n",
    "print('After OverSampling, the shape of X_train: {}'.format(X_train_over.shape)) \n",
    "print('After OverSampling, the shape of y_train: {} \\n'.format(y_train_over.shape)) \n",
    "  \n",
    "print(\"After OverSampling, counts of label '1': {}\".format(sum(y_train_over == 1))) \n",
    "print(\"After OverSampling, counts of label '0': {}\".format(sum(y_train_over == 0))) "
   ]
  },
  {
   "cell_type": "code",
   "execution_count": null,
   "metadata": {
    "execution": {
     "iopub.execute_input": "2021-01-12T11:20:03.116879Z",
     "iopub.status.busy": "2021-01-12T11:20:03.116148Z",
     "iopub.status.idle": "2021-01-12T11:56:34.843849Z",
     "shell.execute_reply": "2021-01-12T11:56:34.844589Z"
    },
    "papermill": {
     "duration": 2191.798326,
     "end_time": "2021-01-12T11:56:34.844793",
     "exception": false,
     "start_time": "2021-01-12T11:20:03.046467",
     "status": "completed"
    },
    "tags": []
   },
   "outputs": [],
   "source": [
    "# Tuning parameter for RF \n",
    "n_estimators = [int(x) for x in np.linspace(start = 20, stop = 200, num = 5)]\n",
    "max_features = ['auto', 'sqrt']\n",
    "max_depth = [int(x) for x in np.linspace(1, 45, num = 3)]\n",
    "min_samples_split = [5, 10]\n",
    "random_grid = {'n_estimators': n_estimators,\n",
    "               'max_features': max_features,\n",
    "               'max_depth': max_depth,\n",
    "               'min_samples_split': min_samples_split}\n",
    "tuning_rf = RandomizedSearchCV(estimator = RandomForestClassifier(), param_distributions = random_grid, n_iter = 10, cv = 10, verbose=2, random_state=42, n_jobs = -1, scoring='roc_auc')\n",
    "tuning_rf.fit(X_train_over,y_train_over)\n",
    "print('Best Parameter for Random Forest', tuning_rf.best_params_, tuning_rf.best_score_)\n",
    "\n",
    "# Tuning parameter for Tree\n",
    "param_dict= {\"criterion\": ['gini', 'entropy'],\n",
    "            \"max_depth\": range(1,10),\n",
    "            \"min_samples_split\": range(1,10),\n",
    "            \"min_samples_leaf\": range(1,5)}\n",
    "tuning_tree = GridSearchCV(DecisionTreeClassifier(random_state=12),  param_grid=param_dict, cv=10, verbose=1, n_jobs=-1)\n",
    "tuning_tree.fit(X_train_over,y_train_over)\n",
    "print('Best Parameter for Tree', tuning_tree.best_params_, tuning_tree.best_score_)\n",
    "\n",
    "# Xgboost Parameters\n",
    "param_xgb = {\n",
    " 'max_depth':[4,5,6],\n",
    " 'min_child_weight':[4,5,6],\n",
    " 'gamma':[i/10.0 for i in range(0,5)]}\n",
    "tuning_xgb = GridSearchCV(estimator = XGBClassifier( learning_rate =0.1, n_estimators=140, max_depth=4,\n",
    " min_child_weight=6, gamma=0, subsample=0.8, colsample_bytree=0.8,\n",
    " objective= 'binary:logistic', nthread=4, scale_pos_weight=1,seed=27), \n",
    " param_grid = param_xgb, scoring='roc_auc',n_jobs=4, cv=5)\n",
    "tuning_xgb.fit(X_train_over,y_train_over)\n",
    "print('Best Parameter for XGBoost', tuning_xgb.best_params_, tuning_xgb.best_score_)"
   ]
  },
  {
   "cell_type": "code",
   "execution_count": null,
   "metadata": {
    "execution": {
     "iopub.execute_input": "2021-01-12T11:56:34.998439Z",
     "iopub.status.busy": "2021-01-12T11:56:34.997344Z",
     "iopub.status.idle": "2021-01-12T12:04:43.563165Z",
     "shell.execute_reply": "2021-01-12T12:04:43.563964Z"
    },
    "papermill": {
     "duration": 488.643729,
     "end_time": "2021-01-12T12:04:43.564168",
     "exception": false,
     "start_time": "2021-01-12T11:56:34.920439",
     "status": "completed"
    },
    "tags": []
   },
   "outputs": [],
   "source": [
    "%%time\n",
    "# Voting Classifier\n",
    "clf1 = DecisionTreeClassifier()\n",
    "clf2 = RandomForestClassifier(random_state=1)\n",
    "clf3 = GaussianNB()\n",
    "clf4 = KNeighborsClassifier()\n",
    "clf5= LinearDiscriminantAnalysis()\n",
    "clf6= XGBClassifier()\n",
    "\n",
    "# Instantiate the classfiers and make a list\n",
    "classifiers = [LinearDiscriminantAnalysis(),\n",
    "               KNeighborsClassifier(),\n",
    "               GaussianNB(), \n",
    "               SVC(kernel='linear'),\n",
    "               DecisionTreeClassifier(criterion='gini', max_depth=9, min_samples_split=5,min_samples_leaf=1, random_state=12),\n",
    "               RandomForestClassifier(n_estimators=200, max_features='sqrt', max_depth=45, min_samples_split=5, random_state=27),\n",
    "               XGBClassifier(learning_rate =0.1, n_estimators=140, max_depth=4, min_child_weight=6, gamma=0.4, subsample=0.8, colsample_bytree=0.8, objective= 'binary:logistic', nthread=4, scale_pos_weight=1,seed=27),\n",
    "               VotingClassifier(estimators = [('DTree', clf1), ('rf', clf2), ('gnb', clf3), ('knn', clf4), ('lda', clf5), ('xgb', clf6)], voting ='soft')]\n",
    "\n",
    "# Define a result table as a DataFrame\n",
    "result_table1 = pd.DataFrame(columns=['classifiers', 'fpr1','tpr1','fpr','tpr','train_accuracy','test_accuracy', 'train_auc', 'test_auc', 'f1_score', 'precision','recall','confusion matrix','Report'])\n",
    "\n",
    "# Train the models and record the results\n",
    "for cls in classifiers:\n",
    "    model = cls.fit(X_train_over, y_train_over)\n",
    "    y_train_pred = model.predict(X_train_over)\n",
    "    y_test_pred = model.predict(X_test)\n",
    "    \n",
    "    train_accuracy= accuracy_score(y_train_over, y_train_pred)\n",
    "    test_accuracy= accuracy_score(y_test, y_test_pred)\n",
    "     \n",
    "    fpr, tpr, _ = roc_curve(y_test,  y_test_pred)\n",
    "    fpr1, tpr1, _ = roc_curve(y_train_over,  y_train_pred)\n",
    "    \n",
    "    train_auc = roc_auc_score(y_train_over, y_train_pred)\n",
    "    test_auc = roc_auc_score(y_test, y_test_pred)\n",
    "    \n",
    "    f1_score= metrics.f1_score(y_test, y_test_pred)\n",
    "    precision = metrics.precision_score(y_test, y_test_pred)\n",
    "    recall = metrics.recall_score(y_test, y_test_pred)\n",
    "    \n",
    "    conf_mat= confusion_matrix(y_test,y_test_pred)\n",
    "    report=classification_report(y_test,y_test_pred, digits=3, output_dict=True)\n",
    "    \n",
    "    result_table1 = result_table1.append({'classifiers':cls.__class__.__name__,\n",
    "                                        'fpr1':fpr1,\n",
    "                                        'tpr1':tpr1,\n",
    "                                        'fpr':fpr, \n",
    "                                        'tpr':tpr, \n",
    "                                        'train_accuracy': train_accuracy,\n",
    "                                        'test_accuracy': test_accuracy,\n",
    "                                        'train_auc':train_auc,\n",
    "                                        'test_auc':test_auc,\n",
    "                                        'f1_score': f1_score,\n",
    "                                        'precision': precision,\n",
    "                                        'recall': recall,\n",
    "                                        'confusion matrix':conf_mat,\n",
    "                                        'Report':report}, ignore_index=True)\n",
    "\n",
    "# Set name of the classifiers as index labels\n",
    "result_table1.set_index('classifiers', inplace=True)"
   ]
  },
  {
   "cell_type": "code",
   "execution_count": null,
   "metadata": {
    "execution": {
     "iopub.execute_input": "2021-01-12T12:04:43.745515Z",
     "iopub.status.busy": "2021-01-12T12:04:43.744788Z",
     "iopub.status.idle": "2021-01-12T12:04:43.75036Z",
     "shell.execute_reply": "2021-01-12T12:04:43.749631Z"
    },
    "papermill": {
     "duration": 0.128635,
     "end_time": "2021-01-12T12:04:43.750496",
     "exception": false,
     "start_time": "2021-01-12T12:04:43.621861",
     "status": "completed"
    },
    "tags": []
   },
   "outputs": [],
   "source": [
    "result_table1.rename(index={'VotingClassifier':'Model Ensemble'},inplace=True)\n",
    "result_table1"
   ]
  },
  {
   "cell_type": "code",
   "execution_count": null,
   "metadata": {
    "execution": {
     "iopub.execute_input": "2021-01-12T12:04:43.87194Z",
     "iopub.status.busy": "2021-01-12T12:04:43.870821Z",
     "iopub.status.idle": "2021-01-12T12:04:44.143713Z",
     "shell.execute_reply": "2021-01-12T12:04:44.143139Z"
    },
    "papermill": {
     "duration": 0.334814,
     "end_time": "2021-01-12T12:04:44.143851",
     "exception": false,
     "start_time": "2021-01-12T12:04:43.809037",
     "status": "completed"
    },
    "tags": []
   },
   "outputs": [],
   "source": [
    "fig = plt.figure(figsize=(15,10))\n",
    "\n",
    "for i in range(result_table1.shape[0]):\n",
    "    plt.plot(result_table1.iloc[i,]['fpr'], \n",
    "             result_table1.iloc[i,]['tpr'], \n",
    "             label=\"{}, AUC={:.3f}\".format(result_table1.index[i], result_table1.iloc[i,]['test_auc']))\n",
    "    \n",
    "plt.plot([0,1], [0,1], color='orange', linestyle='--')\n",
    "plt.xticks(np.arange(0.0, 1.1, step=0.1))\n",
    "plt.xlabel(\"False Positive Rate\", fontsize=15)\n",
    "plt.yticks(np.arange(0.0, 1.1, step=0.1))\n",
    "plt.ylabel(\"True Positive Rate\", fontsize=15)\n",
    "plt.title('ROC Curve Analysis', fontweight='bold', fontsize=15)\n",
    "plt.legend(prop={'size':13}, loc='lower right')\n",
    "plt.show()"
   ]
  },
  {
   "cell_type": "markdown",
   "metadata": {
    "papermill": {
     "duration": 0.060249,
     "end_time": "2021-01-12T12:04:44.265558",
     "exception": false,
     "start_time": "2021-01-12T12:04:44.205309",
     "status": "completed"
    },
    "tags": []
   },
   "source": [
    "# Results"
   ]
  },
  {
   "cell_type": "code",
   "execution_count": null,
   "metadata": {
    "execution": {
     "iopub.execute_input": "2021-01-12T12:04:44.405721Z",
     "iopub.status.busy": "2021-01-12T12:04:44.404643Z",
     "iopub.status.idle": "2021-01-12T12:04:44.410689Z",
     "shell.execute_reply": "2021-01-12T12:04:44.410109Z"
    },
    "papermill": {
     "duration": 0.084733,
     "end_time": "2021-01-12T12:04:44.410822",
     "exception": false,
     "start_time": "2021-01-12T12:04:44.326089",
     "status": "completed"
    },
    "tags": []
   },
   "outputs": [],
   "source": [
    "# Baseline Model\n",
    "result_table.iloc[:,[4,5,6,7,8,9,10]]"
   ]
  },
  {
   "cell_type": "code",
   "execution_count": null,
   "metadata": {
    "execution": {
     "iopub.execute_input": "2021-01-12T12:04:44.551238Z",
     "iopub.status.busy": "2021-01-12T12:04:44.550561Z",
     "iopub.status.idle": "2021-01-12T12:04:44.555422Z",
     "shell.execute_reply": "2021-01-12T12:04:44.554684Z"
    },
    "papermill": {
     "duration": 0.083077,
     "end_time": "2021-01-12T12:04:44.55556",
     "exception": false,
     "start_time": "2021-01-12T12:04:44.472483",
     "status": "completed"
    },
    "tags": []
   },
   "outputs": [],
   "source": [
    "# Oversampling with RandomOverSampler\n",
    "result_table1.iloc[:,[4,5,6,7,8,9,10]]"
   ]
  },
  {
   "cell_type": "markdown",
   "metadata": {
    "papermill": {
     "duration": 0.062239,
     "end_time": "2021-01-12T12:04:44.681624",
     "exception": false,
     "start_time": "2021-01-12T12:04:44.619385",
     "status": "completed"
    },
    "tags": []
   },
   "source": [
    "# Feature Importance and SHAP Values"
   ]
  },
  {
   "cell_type": "code",
   "execution_count": null,
   "metadata": {
    "execution": {
     "iopub.execute_input": "2021-01-12T12:04:44.811783Z",
     "iopub.status.busy": "2021-01-12T12:04:44.810962Z",
     "iopub.status.idle": "2021-01-12T12:04:50.532495Z",
     "shell.execute_reply": "2021-01-12T12:04:50.53321Z"
    },
    "papermill": {
     "duration": 5.789684,
     "end_time": "2021-01-12T12:04:50.533412",
     "exception": false,
     "start_time": "2021-01-12T12:04:44.743728",
     "status": "completed"
    },
    "tags": []
   },
   "outputs": [],
   "source": [
    "xgb = XGBClassifier(learning_rate =0.1, n_estimators=140, max_depth=4, min_child_weight=6, gamma=0.4, subsample=0.8, colsample_bytree=0.8, nthread=4, scale_pos_weight=1,seed=27)\n",
    "model_xgb = xgb.fit(X_train_over, y_train_over)\n",
    "y_train_xgb = model_xgb.predict(X_train_over)\n",
    "y_test_xgb = model_xgb.predict(X_test)\n",
    "\n",
    "print(confusion_matrix(y_test,y_test_xgb))\n",
    "print(classification_report(y_test,y_test_xgb, digits=3))\n",
    "\n",
    "print('Train accuracy: %0.3f' % accuracy_score(y_train_over, y_train_xgb))\n",
    "print('Test accuracy: %0.3f' % accuracy_score(y_test, y_test_xgb))\n",
    "\n",
    "print('Train AUC: %0.3f' % roc_auc_score(y_train_over, y_train_xgb))\n",
    "print('Test AUC: %0.3f' % roc_auc_score(y_test, y_test_xgb))"
   ]
  },
  {
   "cell_type": "code",
   "execution_count": null,
   "metadata": {
    "execution": {
     "iopub.execute_input": "2021-01-12T12:04:50.822675Z",
     "iopub.status.busy": "2021-01-12T12:04:50.821906Z",
     "iopub.status.idle": "2021-01-12T12:04:59.524101Z",
     "shell.execute_reply": "2021-01-12T12:04:59.525181Z"
    },
    "papermill": {
     "duration": 8.773031,
     "end_time": "2021-01-12T12:04:59.525387",
     "exception": false,
     "start_time": "2021-01-12T12:04:50.752356",
     "status": "completed"
    },
    "tags": []
   },
   "outputs": [],
   "source": [
    "import shap\n",
    "expl_xgb = shap.TreeExplainer(model_xgb)\n",
    "shap_xgb = expl_xgb.shap_values(X_train_over)"
   ]
  },
  {
   "cell_type": "code",
   "execution_count": null,
   "metadata": {
    "execution": {
     "iopub.execute_input": "2021-01-12T12:04:59.70479Z",
     "iopub.status.busy": "2021-01-12T12:04:59.703988Z",
     "iopub.status.idle": "2021-01-12T12:05:00.011929Z",
     "shell.execute_reply": "2021-01-12T12:05:00.01246Z"
    },
    "papermill": {
     "duration": 0.404559,
     "end_time": "2021-01-12T12:05:00.012627",
     "exception": false,
     "start_time": "2021-01-12T12:04:59.608068",
     "status": "completed"
    },
    "tags": []
   },
   "outputs": [],
   "source": [
    "shap.summary_plot(shap_xgb, X_train_over, plot_type=\"bar\")"
   ]
  },
  {
   "cell_type": "code",
   "execution_count": null,
   "metadata": {
    "execution": {
     "iopub.execute_input": "2021-01-12T12:05:00.156298Z",
     "iopub.status.busy": "2021-01-12T12:05:00.155625Z",
     "iopub.status.idle": "2021-01-12T12:05:11.073196Z",
     "shell.execute_reply": "2021-01-12T12:05:11.073765Z"
    },
    "papermill": {
     "duration": 10.986943,
     "end_time": "2021-01-12T12:05:11.073913",
     "exception": false,
     "start_time": "2021-01-12T12:05:00.08697",
     "status": "completed"
    },
    "tags": []
   },
   "outputs": [],
   "source": [
    "shap.summary_plot(shap_xgb, X_train_over)"
   ]
  },
  {
   "cell_type": "code",
   "execution_count": null,
   "metadata": {
    "execution": {
     "iopub.execute_input": "2021-01-12T12:05:11.212917Z",
     "iopub.status.busy": "2021-01-12T12:05:11.211859Z",
     "iopub.status.idle": "2021-01-12T12:05:11.254901Z",
     "shell.execute_reply": "2021-01-12T12:05:11.254347Z"
    },
    "papermill": {
     "duration": 0.1144,
     "end_time": "2021-01-12T12:05:11.25501",
     "exception": false,
     "start_time": "2021-01-12T12:05:11.14061",
     "status": "completed"
    },
    "tags": []
   },
   "outputs": [],
   "source": [
    "shap.initjs()\n",
    "shap.force_plot(expl_xgb.expected_value, shap_xgb[1050,:], X_train_over.iloc[1050,:], link='logit')"
   ]
  },
  {
   "cell_type": "code",
   "execution_count": null,
   "metadata": {
    "execution": {
     "iopub.execute_input": "2021-01-12T12:05:11.426153Z",
     "iopub.status.busy": "2021-01-12T12:05:11.425475Z",
     "iopub.status.idle": "2021-01-12T12:05:11.457429Z",
     "shell.execute_reply": "2021-01-12T12:05:11.456644Z"
    },
    "papermill": {
     "duration": 0.122511,
     "end_time": "2021-01-12T12:05:11.457608",
     "exception": false,
     "start_time": "2021-01-12T12:05:11.335097",
     "status": "completed"
    },
    "tags": []
   },
   "outputs": [],
   "source": [
    "shap.initjs()\n",
    "shap.force_plot(expl_xgb.expected_value, shap_xgb[4000,:], X_train_over.iloc[4000,:], link='logit')"
   ]
  },
  {
   "cell_type": "code",
   "execution_count": null,
   "metadata": {
    "execution": {
     "iopub.execute_input": "2021-01-12T12:05:11.648639Z",
     "iopub.status.busy": "2021-01-12T12:05:11.647828Z",
     "iopub.status.idle": "2021-01-12T12:05:11.654445Z",
     "shell.execute_reply": "2021-01-12T12:05:11.655052Z"
    },
    "papermill": {
     "duration": 0.103899,
     "end_time": "2021-01-12T12:05:11.655197",
     "exception": false,
     "start_time": "2021-01-12T12:05:11.551298",
     "status": "completed"
    },
    "tags": []
   },
   "outputs": [],
   "source": [
    "# base value\n",
    "y_train_over.mean()"
   ]
  },
  {
   "cell_type": "code",
   "execution_count": null,
   "metadata": {
    "execution": {
     "iopub.execute_input": "2021-01-12T12:05:11.853325Z",
     "iopub.status.busy": "2021-01-12T12:05:11.85261Z",
     "iopub.status.idle": "2021-01-12T12:05:11.862269Z",
     "shell.execute_reply": "2021-01-12T12:05:11.862778Z"
    },
    "papermill": {
     "duration": 0.107973,
     "end_time": "2021-01-12T12:05:11.862921",
     "exception": false,
     "start_time": "2021-01-12T12:05:11.754948",
     "status": "completed"
    },
    "tags": []
   },
   "outputs": [],
   "source": [
    "X_train_over.iloc[4000,]"
   ]
  },
  {
   "cell_type": "markdown",
   "metadata": {},
   "source": [
    "## Fairness"
   ]
  },
  {
   "cell_type": "code",
   "execution_count": 23,
   "metadata": {},
   "outputs": [],
   "source": [
    "# This DataFrame is created to stock differents models and fair metrics that we produce in this notebook\n",
    "algo_metrics = pd.DataFrame(columns=['model', 'fair_metrics', 'prediction', 'probs'])\n",
    "\n",
    "def add_to_df_algo_metrics(algo_metrics, model, fair_metrics, preds, probs, name):\n",
    "    return algo_metrics.append(pd.DataFrame(data=[[model, fair_metrics, preds, probs]], columns=['model', 'fair_metrics', 'prediction', 'probs'], index=[name]))"
   ]
  },
  {
   "cell_type": "code",
   "execution_count": 24,
   "metadata": {},
   "outputs": [],
   "source": [
    "def fair_metrics(dataset, pred, pred_is_dataset=False):\n",
    "    if pred_is_dataset:\n",
    "        dataset_pred = pred\n",
    "    else:\n",
    "        dataset_pred = dataset.copy()\n",
    "        dataset_pred.labels = pred\n",
    "    \n",
    "    cols = ['statistical_parity_difference', 'equal_opportunity_difference', 'average_abs_odds_difference',  'disparate_impact', 'theil_index']\n",
    "    obj_fairness = [[0,0,0,1,0]]\n",
    "    \n",
    "    fair_metrics = pd.DataFrame(data=obj_fairness, index=['objective'], columns=cols)\n",
    "    \n",
    "    for attr in dataset_pred.protected_attribute_names:\n",
    "        idx = dataset_pred.protected_attribute_names.index(attr)\n",
    "        privileged_groups =  [{attr:dataset_pred.privileged_protected_attributes[idx][0]}] \n",
    "        unprivileged_groups = [{attr:dataset_pred.unprivileged_protected_attributes[idx][0]}] \n",
    "        \n",
    "        classified_metric = ClassificationMetric(dataset, \n",
    "                                                     dataset_pred,\n",
    "                                                     unprivileged_groups=unprivileged_groups,\n",
    "                                                     privileged_groups=privileged_groups)\n",
    "\n",
    "        metric_pred = BinaryLabelDatasetMetric(dataset_pred,\n",
    "                                                     unprivileged_groups=unprivileged_groups,\n",
    "                                                     privileged_groups=privileged_groups)\n",
    "\n",
    "        acc = classified_metric.accuracy()\n",
    "\n",
    "        row = pd.DataFrame([[metric_pred.mean_difference(),\n",
    "                                classified_metric.equal_opportunity_difference(),\n",
    "                                classified_metric.average_abs_odds_difference(),\n",
    "                                metric_pred.disparate_impact(),\n",
    "                                classified_metric.theil_index()]],\n",
    "                           columns  = cols,\n",
    "                           index = [attr]\n",
    "                          )\n",
    "        fair_metrics = fair_metrics.append(row)    \n",
    "    \n",
    "    fair_metrics = fair_metrics.replace([-np.inf, np.inf], 2)\n",
    "        \n",
    "    return fair_metrics\n",
    "\n",
    "def plot_fair_metrics(fair_metrics):\n",
    "    fig, ax = plt.subplots(figsize=(20,4), ncols=5, nrows=1)\n",
    "\n",
    "    plt.subplots_adjust(\n",
    "        left    =  0.125, \n",
    "        bottom  =  0.1, \n",
    "        right   =  0.9, \n",
    "        top     =  0.9, \n",
    "        wspace  =  .5, \n",
    "        hspace  =  1.1\n",
    "    )\n",
    "\n",
    "    y_title_margin = 1.2\n",
    "\n",
    "    plt.suptitle(\"Fairness metrics\", y = 1.09, fontsize=20)\n",
    "    sns.set(style=\"dark\")\n",
    "\n",
    "    cols = fair_metrics.columns.values\n",
    "    obj = fair_metrics.loc['objective']\n",
    "    size_rect = [0.2,0.2,0.2,0.4,0.25]\n",
    "    rect = [-0.1,-0.1,-0.1,0.8,0]\n",
    "    bottom = [-1,-1,-1,0,0]\n",
    "    top = [1,1,1,2,1]\n",
    "    bound = [[-0.1,0.1],[-0.1,0.1],[-0.1,0.1],[0.8,1.2],[0,0.25]]\n",
    "\n",
    "    display(Markdown(\"### Check bias metrics :\"))\n",
    "    display(Markdown(\"A model can be considered bias if just one of these five metrics show that this model is biased.\"))\n",
    "    for attr in fair_metrics.index[1:len(fair_metrics)].values:\n",
    "        display(Markdown(\"#### For the %s attribute :\"%attr))\n",
    "        check = [bound[i][0] < fair_metrics.loc[attr][i] < bound[i][1] for i in range(0,5)]\n",
    "        display(Markdown(\"With default thresholds, bias against unprivileged group detected in **%d** out of 5 metrics\"%(5 - sum(check))))\n",
    "\n",
    "    for i in range(0,5):\n",
    "        plt.subplot(1, 5, i+1)\n",
    "        ax = sns.barplot(x=fair_metrics.index[1:len(fair_metrics)], y=fair_metrics.iloc[1:len(fair_metrics)][cols[i]])\n",
    "        \n",
    "        for j in range(0,len(fair_metrics)-1):\n",
    "            a, val = ax.patches[j], fair_metrics.iloc[j+1][cols[i]]\n",
    "            marg = -0.2 if val < 0 else 0.1\n",
    "            ax.text(a.get_x()+a.get_width()/5, a.get_y()+a.get_height()+marg, round(val, 3), fontsize=15,color='black')\n",
    "\n",
    "        plt.ylim(bottom[i], top[i])\n",
    "        plt.setp(ax.patches, linewidth=0)\n",
    "        ax.add_patch(patches.Rectangle((-5,rect[i]), 10, size_rect[i], alpha=0.3, facecolor=\"green\", linewidth=1, linestyle='solid'))\n",
    "        plt.axhline(obj[i], color='black', alpha=0.3)\n",
    "        plt.title(cols[i])\n",
    "        ax.set_ylabel('')    \n",
    "        ax.set_xlabel('')"
   ]
  },
  {
   "cell_type": "code",
   "execution_count": 25,
   "metadata": {},
   "outputs": [],
   "source": [
    "def get_fair_metrics_and_plot(data, model, plot=False, model_aif=False):\n",
    "    pred = model.predict(data).labels if model_aif else model.predict(data.features)\n",
    "    # fair_metrics function available in the metrics.py file\n",
    "    fair = fair_metrics(data, pred)\n",
    "\n",
    "    if plot:\n",
    "        # plot_fair_metrics function available in the visualisations.py file\n",
    "        # The visualisation of this function is inspired by the dashboard on the demo of IBM aif360 \n",
    "        plot_fair_metrics(fair)\n",
    "        display(fair)\n",
    "    \n",
    "    return fair"
   ]
  },
  {
   "cell_type": "code",
   "execution_count": 36,
   "metadata": {},
   "outputs": [],
   "source": [
    "scaled_data['age'] = dataset_age"
   ]
  },
  {
   "cell_type": "code",
   "execution_count": 38,
   "metadata": {},
   "outputs": [],
   "source": [
    "#print(X)\n",
    "\n",
    "\n",
    "#combine_final = [train_df, test_df]\n",
    "#result = pd.concat(combine_final)\n",
    "#print(result.ifany())\n",
    "#print(result)\n",
    "privileged_groups = [{'age': 1}]\n",
    "unprivileged_groups = [{'age': 0}]\n",
    "dataset_orig = StandardDataset(scaled_data,\n",
    "                                  label_name='y',\n",
    "                                  protected_attribute_names=['age'],\n",
    "                                  favorable_classes=[1],\n",
    "                                  privileged_classes=[[1]])\n",
    "\n",
    "#metric_orig_train = BinaryLabelDatasetMetric(dataset_orig, \n",
    "#                                             unprivileged_groups=unprivileged_groups,\n",
    "#                                             privileged_groups=privileged_groups)\n",
    "#display(Markdown(\"#### Original training dataset\"))\n",
    "#print(\"Difference in mean outcomes between unprivileged and privileged groups = %f\" % metric_orig_train.mean_difference())\n"
   ]
  },
  {
   "cell_type": "code",
   "execution_count": 39,
   "metadata": {},
   "outputs": [
    {
     "data": {
      "text/markdown": [
       "#### Original training dataset"
      ],
      "text/plain": [
       "<IPython.core.display.Markdown object>"
      ]
     },
     "metadata": {},
     "output_type": "display_data"
    },
    {
     "name": "stdout",
     "output_type": "stream",
     "text": [
      "Difference in mean outcomes between unprivileged and privileged groups = 0.130428\n"
     ]
    }
   ],
   "source": [
    "metric_orig_train = BinaryLabelDatasetMetric(dataset_orig, \n",
    "                                             unprivileged_groups=unprivileged_groups,\n",
    "                                             privileged_groups=privileged_groups)\n",
    "display(Markdown(\"#### Original training dataset\"))\n",
    "print(\"Difference in mean outcomes between unprivileged and privileged groups = %f\" % metric_orig_train.mean_difference())"
   ]
  },
  {
   "cell_type": "code",
   "execution_count": 41,
   "metadata": {},
   "outputs": [],
   "source": [
    "import ipynbname\n",
    "import sys\n",
    "import numpy\n",
    "numpy.set_printoptions(threshold=sys.maxsize)\n",
    "nb_fname = ipynbname.name()\n",
    "nb_path = ipynbname.path()\n",
    "\n",
    "from xgboost import XGBClassifier\n",
    "import pickle\n",
    "\n",
    "data_orig_train, data_orig_test = dataset_orig.split([0.7], shuffle=True)\n",
    "X_train = data_orig_train.features\n",
    "y_train = data_orig_train.labels.ravel()\n",
    "\n",
    "X_test = data_orig_test.features\n",
    "y_test = data_orig_test.labels.ravel()\n",
    "num_estimators = 140\n",
    "\n",
    "model = XGBClassifier(n_estimators= 1, learning_rate =0.1, max_depth=5, min_child_weight=4, gamma=0.3, subsample=0.8, colsample_bytree=0.8, objective= 'binary:logistic', nthread=4, scale_pos_weight=1,seed=27)\n",
    "\n",
    "mdl = model.fit(X_train, y_train)\n",
    "yy = mdl.predict(X_test)\n",
    "\n",
    "with open('../../Results/XGBoost/' + nb_fname + '.pkl', 'wb') as f:\n",
    "    pickle.dump(mdl, f)\n",
    "\n",
    "with open('../../Results/XGBoost/' + nb_fname + '_Train' + '.pkl', 'wb') as f:\n",
    "    pickle.dump(data_orig_train, f) \n",
    "    \n",
    "with open('../../Results/XGBoost/' + nb_fname + '_Test' + '.pkl', 'wb') as f:\n",
    "    pickle.dump(data_orig_test, f) "
   ]
  },
  {
   "cell_type": "code",
   "execution_count": 42,
   "metadata": {},
   "outputs": [],
   "source": [
    "from csv import writer\n",
    "from sklearn.metrics import accuracy_score, f1_score\n",
    "\n",
    "final_metrics = []\n",
    "accuracy = []\n",
    "f1= []\n",
    "\n",
    "for i in range(1,num_estimators+1):\n",
    "    \n",
    "    model = XGBClassifier(n_estimators= i, learning_rate =0.1, max_depth=5, min_child_weight=4, gamma=0.3, subsample=0.8, colsample_bytree=0.8, objective= 'binary:logistic', nthread=4, scale_pos_weight=1,seed=27)\n",
    "    mdl = model.fit(X_train, y_train)\n",
    "    yy = mdl.predict(X_test)\n",
    "    accuracy.append(accuracy_score(y_test, yy))\n",
    "    f1.append(f1_score(y_test, yy))\n",
    "    fair = get_fair_metrics_and_plot(data_orig_test, mdl)                           \n",
    "    fair_list = fair.iloc[1].tolist()\n",
    "    fair_list.insert(0, i)\n",
    "    final_metrics.append(fair_list)\n"
   ]
  },
  {
   "cell_type": "code",
   "execution_count": 43,
   "metadata": {},
   "outputs": [
    {
     "data": {
      "text/html": [
       "<div>\n",
       "<style scoped>\n",
       "    .dataframe tbody tr th:only-of-type {\n",
       "        vertical-align: middle;\n",
       "    }\n",
       "\n",
       "    .dataframe tbody tr th {\n",
       "        vertical-align: top;\n",
       "    }\n",
       "\n",
       "    .dataframe thead th {\n",
       "        text-align: right;\n",
       "    }\n",
       "</style>\n",
       "<table border=\"1\" class=\"dataframe\">\n",
       "  <thead>\n",
       "    <tr style=\"text-align: right;\">\n",
       "      <th></th>\n",
       "      <th>classifier</th>\n",
       "      <th>T0</th>\n",
       "      <th>T1</th>\n",
       "      <th>T2</th>\n",
       "      <th>T3</th>\n",
       "      <th>T4</th>\n",
       "      <th>T5</th>\n",
       "      <th>T6</th>\n",
       "      <th>T7</th>\n",
       "      <th>T8</th>\n",
       "      <th>...</th>\n",
       "      <th>T130</th>\n",
       "      <th>T131</th>\n",
       "      <th>T132</th>\n",
       "      <th>T133</th>\n",
       "      <th>T134</th>\n",
       "      <th>T135</th>\n",
       "      <th>T136</th>\n",
       "      <th>T137</th>\n",
       "      <th>T138</th>\n",
       "      <th>T139</th>\n",
       "    </tr>\n",
       "  </thead>\n",
       "  <tbody>\n",
       "    <tr>\n",
       "      <th>accuracy</th>\n",
       "      <td>0.915190</td>\n",
       "      <td>0.911224</td>\n",
       "      <td>0.903536</td>\n",
       "      <td>0.901432</td>\n",
       "      <td>0.901594</td>\n",
       "      <td>0.904103</td>\n",
       "      <td>0.905479</td>\n",
       "      <td>0.906693</td>\n",
       "      <td>0.907421</td>\n",
       "      <td>0.907664</td>\n",
       "      <td>...</td>\n",
       "      <td>0.915756</td>\n",
       "      <td>0.915837</td>\n",
       "      <td>0.915675</td>\n",
       "      <td>0.915594</td>\n",
       "      <td>0.915675</td>\n",
       "      <td>0.915756</td>\n",
       "      <td>0.915190</td>\n",
       "      <td>0.915352</td>\n",
       "      <td>0.915271</td>\n",
       "      <td>0.915190</td>\n",
       "    </tr>\n",
       "    <tr>\n",
       "      <th>f1</th>\n",
       "      <td>0.593483</td>\n",
       "      <td>0.528578</td>\n",
       "      <td>0.397371</td>\n",
       "      <td>0.347966</td>\n",
       "      <td>0.353879</td>\n",
       "      <td>0.401817</td>\n",
       "      <td>0.422354</td>\n",
       "      <td>0.440563</td>\n",
       "      <td>0.447343</td>\n",
       "      <td>0.455889</td>\n",
       "      <td>...</td>\n",
       "      <td>0.596042</td>\n",
       "      <td>0.597211</td>\n",
       "      <td>0.596437</td>\n",
       "      <td>0.595893</td>\n",
       "      <td>0.597061</td>\n",
       "      <td>0.596980</td>\n",
       "      <td>0.593798</td>\n",
       "      <td>0.594574</td>\n",
       "      <td>0.594343</td>\n",
       "      <td>0.593483</td>\n",
       "    </tr>\n",
       "    <tr>\n",
       "      <th>statistical_parity_difference</th>\n",
       "      <td>0.133427</td>\n",
       "      <td>0.104630</td>\n",
       "      <td>0.093294</td>\n",
       "      <td>0.077607</td>\n",
       "      <td>0.076442</td>\n",
       "      <td>0.099253</td>\n",
       "      <td>0.102053</td>\n",
       "      <td>0.108122</td>\n",
       "      <td>0.107374</td>\n",
       "      <td>0.102025</td>\n",
       "      <td>...</td>\n",
       "      <td>0.121093</td>\n",
       "      <td>0.126886</td>\n",
       "      <td>0.126886</td>\n",
       "      <td>0.126969</td>\n",
       "      <td>0.126553</td>\n",
       "      <td>0.129907</td>\n",
       "      <td>0.127052</td>\n",
       "      <td>0.133261</td>\n",
       "      <td>0.136282</td>\n",
       "      <td>0.133427</td>\n",
       "    </tr>\n",
       "    <tr>\n",
       "      <th>equal_opportunity_difference</th>\n",
       "      <td>0.080426</td>\n",
       "      <td>0.103045</td>\n",
       "      <td>0.141127</td>\n",
       "      <td>0.089618</td>\n",
       "      <td>0.083634</td>\n",
       "      <td>0.137387</td>\n",
       "      <td>0.141289</td>\n",
       "      <td>0.133891</td>\n",
       "      <td>0.139955</td>\n",
       "      <td>0.128736</td>\n",
       "      <td>...</td>\n",
       "      <td>0.078183</td>\n",
       "      <td>0.075939</td>\n",
       "      <td>0.076687</td>\n",
       "      <td>0.077435</td>\n",
       "      <td>0.075191</td>\n",
       "      <td>0.088735</td>\n",
       "      <td>0.079678</td>\n",
       "      <td>0.091727</td>\n",
       "      <td>0.091727</td>\n",
       "      <td>0.080426</td>\n",
       "    </tr>\n",
       "    <tr>\n",
       "      <th>average_abs_odds_difference</th>\n",
       "      <td>0.069277</td>\n",
       "      <td>0.066744</td>\n",
       "      <td>0.085537</td>\n",
       "      <td>0.061747</td>\n",
       "      <td>0.058475</td>\n",
       "      <td>0.087887</td>\n",
       "      <td>0.089276</td>\n",
       "      <td>0.089142</td>\n",
       "      <td>0.090111</td>\n",
       "      <td>0.081877</td>\n",
       "      <td>...</td>\n",
       "      <td>0.060090</td>\n",
       "      <td>0.063001</td>\n",
       "      <td>0.063328</td>\n",
       "      <td>0.063702</td>\n",
       "      <td>0.062486</td>\n",
       "      <td>0.069352</td>\n",
       "      <td>0.064730</td>\n",
       "      <td>0.072864</td>\n",
       "      <td>0.074880</td>\n",
       "      <td>0.069277</td>\n",
       "    </tr>\n",
       "    <tr>\n",
       "      <th>disparate_impact</th>\n",
       "      <td>0.908360</td>\n",
       "      <td>0.909092</td>\n",
       "      <td>1.159095</td>\n",
       "      <td>1.185033</td>\n",
       "      <td>1.151537</td>\n",
       "      <td>1.200632</td>\n",
       "      <td>1.169170</td>\n",
       "      <td>1.165525</td>\n",
       "      <td>1.150361</td>\n",
       "      <td>1.085183</td>\n",
       "      <td>...</td>\n",
       "      <td>0.850026</td>\n",
       "      <td>0.875441</td>\n",
       "      <td>0.875441</td>\n",
       "      <td>0.876359</td>\n",
       "      <td>0.871778</td>\n",
       "      <td>0.889234</td>\n",
       "      <td>0.877278</td>\n",
       "      <td>0.906516</td>\n",
       "      <td>0.919939</td>\n",
       "      <td>0.908360</td>\n",
       "    </tr>\n",
       "    <tr>\n",
       "      <th>theil_index</th>\n",
       "      <td>0.066475</td>\n",
       "      <td>0.076579</td>\n",
       "      <td>0.092210</td>\n",
       "      <td>0.096903</td>\n",
       "      <td>0.096385</td>\n",
       "      <td>0.091702</td>\n",
       "      <td>0.089515</td>\n",
       "      <td>0.087506</td>\n",
       "      <td>0.086712</td>\n",
       "      <td>0.085765</td>\n",
       "      <td>...</td>\n",
       "      <td>0.066103</td>\n",
       "      <td>0.065900</td>\n",
       "      <td>0.066015</td>\n",
       "      <td>0.066101</td>\n",
       "      <td>0.065899</td>\n",
       "      <td>0.065929</td>\n",
       "      <td>0.066417</td>\n",
       "      <td>0.066302</td>\n",
       "      <td>0.066331</td>\n",
       "      <td>0.066475</td>\n",
       "    </tr>\n",
       "  </tbody>\n",
       "</table>\n",
       "<p>7 rows × 141 columns</p>\n",
       "</div>"
      ],
      "text/plain": [
       "                               classifier        T0        T1        T2  \\\n",
       "accuracy                         0.915190  0.911224  0.903536  0.901432   \n",
       "f1                               0.593483  0.528578  0.397371  0.347966   \n",
       "statistical_parity_difference    0.133427  0.104630  0.093294  0.077607   \n",
       "equal_opportunity_difference     0.080426  0.103045  0.141127  0.089618   \n",
       "average_abs_odds_difference      0.069277  0.066744  0.085537  0.061747   \n",
       "disparate_impact                 0.908360  0.909092  1.159095  1.185033   \n",
       "theil_index                      0.066475  0.076579  0.092210  0.096903   \n",
       "\n",
       "                                     T3        T4        T5        T6  \\\n",
       "accuracy                       0.901594  0.904103  0.905479  0.906693   \n",
       "f1                             0.353879  0.401817  0.422354  0.440563   \n",
       "statistical_parity_difference  0.076442  0.099253  0.102053  0.108122   \n",
       "equal_opportunity_difference   0.083634  0.137387  0.141289  0.133891   \n",
       "average_abs_odds_difference    0.058475  0.087887  0.089276  0.089142   \n",
       "disparate_impact               1.151537  1.200632  1.169170  1.165525   \n",
       "theil_index                    0.096385  0.091702  0.089515  0.087506   \n",
       "\n",
       "                                     T7        T8  ...      T130      T131  \\\n",
       "accuracy                       0.907421  0.907664  ...  0.915756  0.915837   \n",
       "f1                             0.447343  0.455889  ...  0.596042  0.597211   \n",
       "statistical_parity_difference  0.107374  0.102025  ...  0.121093  0.126886   \n",
       "equal_opportunity_difference   0.139955  0.128736  ...  0.078183  0.075939   \n",
       "average_abs_odds_difference    0.090111  0.081877  ...  0.060090  0.063001   \n",
       "disparate_impact               1.150361  1.085183  ...  0.850026  0.875441   \n",
       "theil_index                    0.086712  0.085765  ...  0.066103  0.065900   \n",
       "\n",
       "                                   T132      T133      T134      T135  \\\n",
       "accuracy                       0.915675  0.915594  0.915675  0.915756   \n",
       "f1                             0.596437  0.595893  0.597061  0.596980   \n",
       "statistical_parity_difference  0.126886  0.126969  0.126553  0.129907   \n",
       "equal_opportunity_difference   0.076687  0.077435  0.075191  0.088735   \n",
       "average_abs_odds_difference    0.063328  0.063702  0.062486  0.069352   \n",
       "disparate_impact               0.875441  0.876359  0.871778  0.889234   \n",
       "theil_index                    0.066015  0.066101  0.065899  0.065929   \n",
       "\n",
       "                                   T136      T137      T138      T139  \n",
       "accuracy                       0.915190  0.915352  0.915271  0.915190  \n",
       "f1                             0.593798  0.594574  0.594343  0.593483  \n",
       "statistical_parity_difference  0.127052  0.133261  0.136282  0.133427  \n",
       "equal_opportunity_difference   0.079678  0.091727  0.091727  0.080426  \n",
       "average_abs_odds_difference    0.064730  0.072864  0.074880  0.069277  \n",
       "disparate_impact               0.877278  0.906516  0.919939  0.908360  \n",
       "theil_index                    0.066417  0.066302  0.066331  0.066475  \n",
       "\n",
       "[7 rows x 141 columns]"
      ]
     },
     "execution_count": 43,
     "metadata": {},
     "output_type": "execute_result"
    }
   ],
   "source": [
    "import numpy as np\n",
    "final_result = pd.DataFrame(final_metrics)\n",
    "final_result[4] = np.log(final_result[4])\n",
    "final_result = final_result.transpose()\n",
    "final_result.loc[0] = f1  # add f1 and acc to df\n",
    "acc = pd.DataFrame(accuracy).transpose()\n",
    "acc = acc.rename(index={0: 'accuracy'})\n",
    "final_result = pd.concat([acc,final_result])\n",
    "final_result = final_result.rename(index={0: 'f1', 1: 'statistical_parity_difference', 2: 'equal_opportunity_difference', 3: 'average_abs_odds_difference', 4: 'disparate_impact', 5: 'theil_index'})\n",
    "final_result.columns = ['T' + str(col) for col in final_result.columns]\n",
    "final_result.insert(0, \"classifier\", final_result['T' + str(num_estimators - 1)])   ##Add final metrics add the beginning of the df\n",
    "final_result.to_csv('../../Results/XGBoost/' + nb_fname + '.csv')\n",
    "final_result"
   ]
  }
 ],
 "metadata": {
  "kernelspec": {
   "display_name": "Python 3",
   "language": "python",
   "name": "python3"
  },
  "language_info": {
   "codemirror_mode": {
    "name": "ipython",
    "version": 3
   },
   "file_extension": ".py",
   "mimetype": "text/x-python",
   "name": "python",
   "nbconvert_exporter": "python",
   "pygments_lexer": "ipython3",
   "version": "3.8.5"
  }
 },
 "nbformat": 4,
 "nbformat_minor": 4
}
