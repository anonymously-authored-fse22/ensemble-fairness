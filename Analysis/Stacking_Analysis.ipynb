{
 "cells": [
  {
   "cell_type": "code",
   "execution_count": 1,
   "metadata": {
    "hideCode": false,
    "hidePrompt": false
   },
   "outputs": [],
   "source": [
    "# libraries used\n",
    "import pandas as pd\n",
    "import numpy as np\n",
    "import matplotlib.pyplot as plt\n",
    "import seaborn as sns\n",
    "import re\n",
    "from sklearn.svm import LinearSVC, SVC\n",
    "from catboost import CatBoostClassifier\n",
    "from xgboost import XGBClassifier\n",
    "from sklearn.ensemble import AdaBoostClassifier, ExtraTreesClassifier, GradientBoostingClassifier, RandomForestClassifier, StackingClassifier\n",
    "\n",
    "from sklearn.ensemble import RandomForestClassifier, GradientBoostingClassifier, ExtraTreesClassifier\n",
    "from lightgbm import LGBMClassifier\n",
    "from sklearn.linear_model import LogisticRegression, RidgeClassifierCV\n",
    "from sklearn.neighbors import KNeighborsClassifier\n",
    "\n",
    "\n",
    "from aif360.datasets import StandardDataset\n",
    "from aif360.metrics import BinaryLabelDatasetMetric, ClassificationMetric\n",
    "import matplotlib.patches as patches\n",
    "from aif360.algorithms.preprocessing import Reweighing\n",
    "#from packages import *\n",
    "#from ml_fairness import *\n",
    "import matplotlib.pyplot as plt\n",
    "import seaborn as sns\n",
    "\n",
    "\n",
    "\n",
    "from IPython.display import Markdown, display\n",
    "\n",
    "import ipynbname\n",
    "nb_fname = ipynbname.name()\n",
    "nb_path = ipynbname.path()\n",
    "\n",
    "import pickle"
   ]
  },
  {
   "cell_type": "code",
   "execution_count": 2,
   "metadata": {},
   "outputs": [],
   "source": [
    "TM1 = pd.read_csv('Titanic/Results/Stacking/1-titanic-eda-and-feature-engineering.csv')\n",
    "TM2 = pd.read_csv('Titanic/Results/Stacking/2-top-1-titanic-solution.csv')\n",
    "TM3 = pd.read_csv('Titanic/Results/Stacking/3-introduction-to-ensembling-techniques.csv')\n",
    "TM4 = pd.read_csv('Titanic/Results/Stacking/4-stacked-classifier-top-10-on-lb.csv')\n",
    "TM5 = pd.read_csv('Titanic/Results/Stacking/5-ultimate-titanic-guide-for-beginners.csv')\n",
    "TM6 = pd.read_csv('Titanic/Results/Stacking/6-titanic-complete-guide-to-top-3.csv')\n",
    "#AM0 = pd.read_csv('AdultNoteBook/Results/Stacking/0-income-classification-using-meta-learning.csv')"
   ]
  },
  {
   "cell_type": "code",
   "execution_count": 3,
   "metadata": {},
   "outputs": [],
   "source": [
    "TM1_model = pd.read_pickle('Titanic/Results/Stacking/1-titanic-eda-and-feature-engineering.pkl')\n",
    "TM2_model = pd.read_pickle('Titanic/Results/Stacking/2-top-1-titanic-solution.pkl')\n",
    "TM3_model = pd.read_pickle('Titanic/Results/Stacking/3-introduction-to-ensembling-techniques.pkl')\n",
    "TM4_model = pd.read_pickle('Titanic/Results/Stacking/4-stacked-classifier-top-10-on-lb.pkl')\n",
    "TM5_model = pd.read_pickle('Titanic/Results/Stacking/5-ultimate-titanic-guide-for-beginners.pkl')\n",
    "TM6_model = pd.read_pickle('Titanic/Results/Stacking/6-titanic-complete-guide-to-top-3.pkl')"
   ]
  },
  {
   "cell_type": "code",
   "execution_count": 26,
   "metadata": {},
   "outputs": [
    {
     "data": {
      "text/plain": [
       "Index(['Fare', 'Age_cat', 'Ticket_frequency', 'Ticket_extracted',\n",
       "       'Name_length', 'Family_Survival', 'Pclass_2', 'Pclass_3', 'Sex_male',\n",
       "       'Embarked_Q', 'Embarked_S', 'Deck_DE', 'Deck_FG', 'Deck_M',\n",
       "       'Title_Miss.', 'Title_Mr.', 'Title_Mrs.', 'Title_rare',\n",
       "       'Family_size_cat_large_family', 'Family_size_cat_small_family',\n",
       "       'Survived'],\n",
       "      dtype='object')"
      ]
     },
     "execution_count": 26,
     "metadata": {},
     "output_type": "execute_result"
    }
   ],
   "source": [
    "TM6_data = pd.read_pickle('Titanic/Results/Stacking/6-titanic-complete-guide-to-top-3_Train.pkl')\n",
    "df = TM6_data.convert_to_dataframe()\n",
    "df[0].columns"
   ]
  },
  {
   "cell_type": "code",
   "execution_count": 31,
   "metadata": {},
   "outputs": [
    {
     "data": {
      "text/plain": [
       "Index(['Pclass', 'Sex', 'Age', 'Fare', 'Embarked', 'NlengthD', 'FsizeD',\n",
       "       'Title', 'Deck', 'NameLength', 'TicketNumber', 'Survived'],\n",
       "      dtype='object')"
      ]
     },
     "execution_count": 31,
     "metadata": {},
     "output_type": "execute_result"
    }
   ],
   "source": [
    "TM4_data =  pd.read_pickle('Titanic/Results/Stacking/4-stacked-classifier-top-10-on-lb_Train.pkl')\n",
    "df1 = TM4_data.convert_to_dataframe()\n",
    "df1[0].columns"
   ]
  },
  {
   "cell_type": "code",
   "execution_count": null,
   "metadata": {},
   "outputs": [],
   "source": []
  },
  {
   "cell_type": "code",
   "execution_count": 4,
   "metadata": {},
   "outputs": [],
   "source": [
    "final = [TM1['classifier'], TM2['classifier'], TM3['classifier'], TM4['classifier'], TM5['classifier'], TM6['classifier']]"
   ]
  },
  {
   "cell_type": "code",
   "execution_count": 5,
   "metadata": {
    "hideCode": false,
    "hidePrompt": false
   },
   "outputs": [],
   "source": [
    "model_estimators = [TM1_model.estimators, TM2_model.estimators, TM3_model.estimators, TM4_model.estimators, TM5_model.estimators, TM6_model.estimators]"
   ]
  },
  {
   "cell_type": "code",
   "execution_count": 6,
   "metadata": {},
   "outputs": [],
   "source": [
    "df = pd.DataFrame({'TM1':TM1['classifier'], 'TM2':TM2['classifier'],'TM3':TM3['classifier'],'TM4':TM4['classifier'],'TM5':TM5['classifier'],'TM6':TM6['classifier'] })\n",
    "a_series = pd.Series(model_estimators, index = df.columns)\n",
    "df = df.append(a_series, ignore_index=True)"
   ]
  },
  {
   "cell_type": "code",
   "execution_count": 7,
   "metadata": {},
   "outputs": [],
   "source": [
    "df.index = ['accuracy', 'f1', 'spd', 'eod', 'aod', 'di', 'ti', 'estimators']"
   ]
  },
  {
   "cell_type": "code",
   "execution_count": 8,
   "metadata": {},
   "outputs": [
    {
     "data": {
      "text/html": [
       "<div>\n",
       "<style scoped>\n",
       "    .dataframe tbody tr th:only-of-type {\n",
       "        vertical-align: middle;\n",
       "    }\n",
       "\n",
       "    .dataframe tbody tr th {\n",
       "        vertical-align: top;\n",
       "    }\n",
       "\n",
       "    .dataframe thead th {\n",
       "        text-align: right;\n",
       "    }\n",
       "</style>\n",
       "<table border=\"1\" class=\"dataframe\">\n",
       "  <thead>\n",
       "    <tr style=\"text-align: right;\">\n",
       "      <th></th>\n",
       "      <th>TM1</th>\n",
       "      <th>TM2</th>\n",
       "      <th>TM3</th>\n",
       "      <th>TM4</th>\n",
       "      <th>TM5</th>\n",
       "      <th>TM6</th>\n",
       "    </tr>\n",
       "  </thead>\n",
       "  <tbody>\n",
       "    <tr>\n",
       "      <th>accuracy</th>\n",
       "      <td>0.802239</td>\n",
       "      <td>0.847015</td>\n",
       "      <td>0.835821</td>\n",
       "      <td>0.828358</td>\n",
       "      <td>0.735849</td>\n",
       "      <td>0.876866</td>\n",
       "    </tr>\n",
       "    <tr>\n",
       "      <th>f1</th>\n",
       "      <td>0.741463</td>\n",
       "      <td>0.8</td>\n",
       "      <td>0.752809</td>\n",
       "      <td>0.762887</td>\n",
       "      <td>0.631579</td>\n",
       "      <td>0.835821</td>\n",
       "    </tr>\n",
       "    <tr>\n",
       "      <th>spd</th>\n",
       "      <td>-0.716873</td>\n",
       "      <td>-0.843457</td>\n",
       "      <td>-0.773227</td>\n",
       "      <td>-0.780652</td>\n",
       "      <td>-0.445653</td>\n",
       "      <td>-0.755544</td>\n",
       "    </tr>\n",
       "    <tr>\n",
       "      <th>eod</th>\n",
       "      <td>-0.638537</td>\n",
       "      <td>-0.72</td>\n",
       "      <td>-0.616667</td>\n",
       "      <td>-0.622857</td>\n",
       "      <td>-0.32605</td>\n",
       "      <td>-0.645161</td>\n",
       "    </tr>\n",
       "    <tr>\n",
       "      <th>aod</th>\n",
       "      <td>0.554231</td>\n",
       "      <td>0.675373</td>\n",
       "      <td>0.609903</td>\n",
       "      <td>0.625369</td>\n",
       "      <td>0.304356</td>\n",
       "      <td>0.504019</td>\n",
       "    </tr>\n",
       "    <tr>\n",
       "      <th>di</th>\n",
       "      <td>-2.40658</td>\n",
       "      <td>-2.64157</td>\n",
       "      <td>-2.3976</td>\n",
       "      <td>-2.46802</td>\n",
       "      <td>-1.66571</td>\n",
       "      <td>-2.31456</td>\n",
       "    </tr>\n",
       "    <tr>\n",
       "      <th>ti</th>\n",
       "      <td>0.177794</td>\n",
       "      <td>0.113712</td>\n",
       "      <td>0.116935</td>\n",
       "      <td>0.112602</td>\n",
       "      <td>0.248921</td>\n",
       "      <td>0.0955157</td>\n",
       "    </tr>\n",
       "    <tr>\n",
       "      <th>estimators</th>\n",
       "      <td>[(logreg, LogisticRegression(C=0.28, l1_ratio=...</td>\n",
       "      <td>[(SVM, SVC(C=5, degree=2, gamma=0.1, kernel='p...</td>\n",
       "      <td>[(xgb, XGBClassifier(base_score=None, booster=...</td>\n",
       "      <td>[(svc, SVC(C=50, degree=1, gamma='auto', proba...</td>\n",
       "      <td>[(rf_1, RandomForestClassifier(n_estimators=40...</td>\n",
       "      <td>[(logreg, LogisticRegression(C=0.28, l1_ratio=...</td>\n",
       "    </tr>\n",
       "  </tbody>\n",
       "</table>\n",
       "</div>"
      ],
      "text/plain": [
       "                                                          TM1  \\\n",
       "accuracy                                             0.802239   \n",
       "f1                                                   0.741463   \n",
       "spd                                                 -0.716873   \n",
       "eod                                                 -0.638537   \n",
       "aod                                                  0.554231   \n",
       "di                                                   -2.40658   \n",
       "ti                                                   0.177794   \n",
       "estimators  [(logreg, LogisticRegression(C=0.28, l1_ratio=...   \n",
       "\n",
       "                                                          TM2  \\\n",
       "accuracy                                             0.847015   \n",
       "f1                                                        0.8   \n",
       "spd                                                 -0.843457   \n",
       "eod                                                     -0.72   \n",
       "aod                                                  0.675373   \n",
       "di                                                   -2.64157   \n",
       "ti                                                   0.113712   \n",
       "estimators  [(SVM, SVC(C=5, degree=2, gamma=0.1, kernel='p...   \n",
       "\n",
       "                                                          TM3  \\\n",
       "accuracy                                             0.835821   \n",
       "f1                                                   0.752809   \n",
       "spd                                                 -0.773227   \n",
       "eod                                                 -0.616667   \n",
       "aod                                                  0.609903   \n",
       "di                                                    -2.3976   \n",
       "ti                                                   0.116935   \n",
       "estimators  [(xgb, XGBClassifier(base_score=None, booster=...   \n",
       "\n",
       "                                                          TM4  \\\n",
       "accuracy                                             0.828358   \n",
       "f1                                                   0.762887   \n",
       "spd                                                 -0.780652   \n",
       "eod                                                 -0.622857   \n",
       "aod                                                  0.625369   \n",
       "di                                                   -2.46802   \n",
       "ti                                                   0.112602   \n",
       "estimators  [(svc, SVC(C=50, degree=1, gamma='auto', proba...   \n",
       "\n",
       "                                                          TM5  \\\n",
       "accuracy                                             0.735849   \n",
       "f1                                                   0.631579   \n",
       "spd                                                 -0.445653   \n",
       "eod                                                  -0.32605   \n",
       "aod                                                  0.304356   \n",
       "di                                                   -1.66571   \n",
       "ti                                                   0.248921   \n",
       "estimators  [(rf_1, RandomForestClassifier(n_estimators=40...   \n",
       "\n",
       "                                                          TM6  \n",
       "accuracy                                             0.876866  \n",
       "f1                                                   0.835821  \n",
       "spd                                                 -0.755544  \n",
       "eod                                                 -0.645161  \n",
       "aod                                                  0.504019  \n",
       "di                                                   -2.31456  \n",
       "ti                                                  0.0955157  \n",
       "estimators  [(logreg, LogisticRegression(C=0.28, l1_ratio=...  "
      ]
     },
     "execution_count": 8,
     "metadata": {},
     "output_type": "execute_result"
    }
   ],
   "source": [
    "df"
   ]
  },
  {
   "cell_type": "code",
   "execution_count": 10,
   "metadata": {},
   "outputs": [],
   "source": [
    "df.to_csv(\"Stacking_Titanic_Anlaysis.csv\")"
   ]
  }
 ],
 "metadata": {
  "hide_code_all_hidden": true,
  "kernelspec": {
   "display_name": "Python 3",
   "language": "python",
   "name": "python3"
  },
  "language_info": {
   "codemirror_mode": {
    "name": "ipython",
    "version": 3
   },
   "file_extension": ".py",
   "mimetype": "text/x-python",
   "name": "python",
   "nbconvert_exporter": "python",
   "pygments_lexer": "ipython3",
   "version": "3.8.5"
  }
 },
 "nbformat": 4,
 "nbformat_minor": 2
}
