{
 "cells": [
  {
   "cell_type": "markdown",
   "metadata": {
    "toc": true
   },
   "source": [
    "<h1>Table of Contents<span class=\"tocSkip\"></span></h1>\n",
    "<div class=\"toc\"><ul class=\"toc-item\"><li><span><a href=\"#Libraries\" data-toc-modified-id=\"Libraries-1\"><span class=\"toc-item-num\">1&nbsp;&nbsp;</span>Libraries</a></span></li><li><span><a href=\"#Reading-and-Exploring-the-Data\" data-toc-modified-id=\"Reading-and-Exploring-the-Data-2\"><span class=\"toc-item-num\">2&nbsp;&nbsp;</span>Reading and Exploring the Data</a></span><ul class=\"toc-item\"><li><span><a href=\"#Numerical-Features-Analysis\" data-toc-modified-id=\"Numerical-Features-Analysis-2.1\"><span class=\"toc-item-num\">2.1&nbsp;&nbsp;</span>Numerical Features Analysis</a></span></li><li><span><a href=\"#Categorical-Features-Analysis\" data-toc-modified-id=\"Categorical-Features-Analysis-2.2\"><span class=\"toc-item-num\">2.2&nbsp;&nbsp;</span>Categorical Features Analysis</a></span></li><li><span><a href=\"#Insights-from-Data\" data-toc-modified-id=\"Insights-from-Data-2.3\"><span class=\"toc-item-num\">2.3&nbsp;&nbsp;</span>Insights from Data</a></span></li><li><span><a href=\"#Clustering-Data\" data-toc-modified-id=\"Clustering-Data-2.4\"><span class=\"toc-item-num\">2.4&nbsp;&nbsp;</span>Clustering Data</a></span><ul class=\"toc-item\"><li><span><a href=\"#Age-and-Duration\" data-toc-modified-id=\"Age-and-Duration-2.4.1\"><span class=\"toc-item-num\">2.4.1&nbsp;&nbsp;</span>Age and Duration</a></span></li><li><span><a href=\"#Credit-Amount-and-Duration\" data-toc-modified-id=\"Credit-Amount-and-Duration-2.4.2\"><span class=\"toc-item-num\">2.4.2&nbsp;&nbsp;</span>Credit Amount and Duration</a></span></li></ul></li></ul></li><li><span><a href=\"#Data-Prep\" data-toc-modified-id=\"Data-Prep-3\"><span class=\"toc-item-num\">3&nbsp;&nbsp;</span>Data Prep</a></span><ul class=\"toc-item\"><li><span><a href=\"#Preprocessing-Pipeline\" data-toc-modified-id=\"Preprocessing-Pipeline-3.1\"><span class=\"toc-item-num\">3.1&nbsp;&nbsp;</span>Preprocessing Pipeline</a></span></li><li><span><a href=\"#Processing-Pipeline\" data-toc-modified-id=\"Processing-Pipeline-3.2\"><span class=\"toc-item-num\">3.2&nbsp;&nbsp;</span>Processing Pipeline</a></span></li></ul></li><li><span><a href=\"#Training-and-Evaluating-a-Model\" data-toc-modified-id=\"Training-and-Evaluating-a-Model-4\"><span class=\"toc-item-num\">4&nbsp;&nbsp;</span>Training and Evaluating a Model</a></span></li><li><span><a href=\"#Production-Script\" data-toc-modified-id=\"Production-Script-5\"><span class=\"toc-item-num\">5&nbsp;&nbsp;</span>Production Script</a></span></li></ul></div>"
   ]
  },
  {
   "cell_type": "markdown",
   "metadata": {},
   "source": [
    "Hi everyone! The _German Credit Risk_ dataset has been the first place I started my kaggle journey. As long as I've been studying Data Science and Machine Learning, I always saw Kaggle as one of the greates ways to learn more about everything related on these two topics. So here I am!"
   ]
  },
  {
   "cell_type": "markdown",
   "metadata": {},
   "source": [
    "**UPDATE:** I just finished my \"German Credit Risk Project\" with a DevOps approach for training a Machine Learning model and scoring production data received for a source. The idea is to simulate what we get in practice. So if you want to take a look at it, please visit my github at [ThiagoPaniniGithub](https://github.com/ThiagoPanini/kaggle_challenges/tree/master/kernels/01_german_credit_risk) - you will see that the project strucuture have a `/dev`, `/models`, `/pipelines`, `´/prod` and other folders, simulating what I consider an organized Machine Learning project for real. The scripts we can pay attention is the `train.py` (for reading the data, building pipelines and training a model) and the `score.py` (for receiving new data, applying the pipelines and scoring the data using the trained model).\n",
    "\n",
    "I really like you enjoy! At the end of this notebook you can see a little taste of it."
   ]
  },
  {
   "cell_type": "markdown",
   "metadata": {},
   "source": [
    "# Libraries"
   ]
  },
  {
   "cell_type": "code",
   "execution_count": 16,
   "metadata": {
    "ExecuteTime": {
     "end_time": "2020-07-01T00:13:05.975826Z",
     "start_time": "2020-07-01T00:12:59.022046Z"
    }
   },
   "outputs": [
    {
     "ename": "SyntaxError",
     "evalue": "invalid syntax (viz_utils.py, line 12)",
     "output_type": "error",
     "traceback": [
      "Traceback \u001b[1;36m(most recent call last)\u001b[0m:\n",
      "  File \u001b[0;32m\"C:\\Users\\Usman Gohar\\AppData\\Local\\Programs\\Python\\Python38\\lib\\site-packages\\IPython\\core\\interactiveshell.py\"\u001b[0m, line \u001b[0;32m3417\u001b[0m, in \u001b[0;35mrun_code\u001b[0m\n    exec(code_obj, self.user_global_ns, self.user_ns)\n",
      "\u001b[1;36m  File \u001b[1;32m\"<ipython-input-16-bde48dcc09ad>\"\u001b[1;36m, line \u001b[1;32m12\u001b[1;36m, in \u001b[1;35m<module>\u001b[1;36m\u001b[0m\n\u001b[1;33m    from viz_utils import *\u001b[0m\n",
      "\u001b[1;36m  File \u001b[1;32m\"C:\\Users\\Usman Gohar\\FairnessExperiments\\GermanCredit\\Models\\RF\\viz_utils.py\"\u001b[1;36m, line \u001b[1;32m12\u001b[0m\n\u001b[1;33m    def format_spines(ax, right-border = True)\u001b[0m\n\u001b[1;37m                               ^\u001b[0m\n\u001b[1;31mSyntaxError\u001b[0m\u001b[1;31m:\u001b[0m invalid syntax\n"
     ]
    }
   ],
   "source": [
    "# Stsandard libs\n",
    "import pandas as pd\n",
    "import numpy as np\n",
    "import matplotlib.pyplot as plt\n",
    "import seaborn as sns\n",
    "import matplotlib.pyplot as plt\n",
    "%matplotlib inline\n",
    "from datetime import datetime\n",
    "import time\n",
    "\n",
    "# Utilities\n",
    "from viz_utils import *\n",
    "from ml_utils import *\n",
    "from custom_transformers import *\n",
    "\n",
    "# Pipeline\n",
    "from sklearn.pipeline import Pipeline\n",
    "from sklearn.compose import ColumnTransformer\n",
    "\n",
    "# Modeling\n",
    "from sklearn.preprocessing import StandardScaler\n",
    "from sklearn.impute import SimpleImputer\n",
    "from sklearn.linear_model import LogisticRegression\n",
    "from sklearn.tree import DecisionTreeClassifier\n",
    "from sklearn.ensemble import RandomForestClassifier\n",
    "import lightgbm as lgb\n",
    "from sklearn.model_selection import train_test_split, RandomizedSearchCV, cross_val_score, cross_val_predict, \\\n",
    "                                    learning_curve\n",
    "from sklearn.metrics import classification_report, confusion_matrix, roc_auc_score, roc_curve, \\\n",
    "    accuracy_score, precision_score, recall_score, f1_score\n",
    "from imblearn.under_sampling import RandomUnderSampler\n",
    "from imblearn.over_sampling import SMOTE"
   ]
  },
  {
   "cell_type": "markdown",
   "metadata": {},
   "source": [
    "# Reading and Exploring the Data"
   ]
  },
  {
   "cell_type": "markdown",
   "metadata": {},
   "source": [
    "Here we will answear the following questions:\n",
    "    - What's the content of data?\n",
    "    - How are the numerical attributes distributed?\n",
    "    - How are the categorical attributes distributed?\n",
    "    - What's the influence of Risk and Credit Amount in other features?\n",
    "    - Is there any other pattern that may be related to credit risk?"
   ]
  },
  {
   "cell_type": "code",
   "execution_count": 4,
   "metadata": {
    "ExecuteTime": {
     "end_time": "2020-07-01T00:13:06.056489Z",
     "start_time": "2020-07-01T00:13:05.980813Z"
    },
    "_kg_hide-input": true
   },
   "outputs": [
    {
     "ename": "NameError",
     "evalue": "name 'import_data' is not defined",
     "output_type": "error",
     "traceback": [
      "\u001b[1;31m---------------------------------------------------------------------------\u001b[0m",
      "\u001b[1;31mNameError\u001b[0m                                 Traceback (most recent call last)",
      "\u001b[1;32m<ipython-input-4-82c36a5f7e47>\u001b[0m in \u001b[0;36m<module>\u001b[1;34m\u001b[0m\n\u001b[0;32m      1\u001b[0m \u001b[1;31m# Data path\u001b[0m\u001b[1;33m\u001b[0m\u001b[1;33m\u001b[0m\u001b[1;33m\u001b[0m\u001b[0m\n\u001b[1;32m----> 2\u001b[1;33m \u001b[0mdf_ori\u001b[0m \u001b[1;33m=\u001b[0m \u001b[0mimport_data\u001b[0m\u001b[1;33m(\u001b[0m\u001b[1;34m'../../data/german-credit-data-with-risk/german_credit_data.csv'\u001b[0m\u001b[1;33m,\u001b[0m \u001b[0moptimized\u001b[0m\u001b[1;33m=\u001b[0m\u001b[1;32mTrue\u001b[0m\u001b[1;33m)\u001b[0m\u001b[1;33m\u001b[0m\u001b[1;33m\u001b[0m\u001b[0m\n\u001b[0m\u001b[0;32m      3\u001b[0m \u001b[0mdf\u001b[0m \u001b[1;33m=\u001b[0m \u001b[0mdf_ori\u001b[0m\u001b[1;33m.\u001b[0m\u001b[0miloc\u001b[0m\u001b[1;33m[\u001b[0m\u001b[1;33m:\u001b[0m\u001b[1;33m,\u001b[0m \u001b[1;36m1\u001b[0m\u001b[1;33m:\u001b[0m\u001b[1;33m]\u001b[0m\u001b[1;33m\u001b[0m\u001b[1;33m\u001b[0m\u001b[0m\n\u001b[0;32m      4\u001b[0m \u001b[0mdf\u001b[0m\u001b[1;33m.\u001b[0m\u001b[0mcolumns\u001b[0m \u001b[1;33m=\u001b[0m \u001b[1;33m[\u001b[0m\u001b[0mcol\u001b[0m\u001b[1;33m.\u001b[0m\u001b[0mlower\u001b[0m\u001b[1;33m(\u001b[0m\u001b[1;33m)\u001b[0m\u001b[1;33m.\u001b[0m\u001b[0mstrip\u001b[0m\u001b[1;33m(\u001b[0m\u001b[1;33m)\u001b[0m\u001b[1;33m.\u001b[0m\u001b[0mreplace\u001b[0m\u001b[1;33m(\u001b[0m\u001b[1;34m' '\u001b[0m\u001b[1;33m,\u001b[0m \u001b[1;34m'_'\u001b[0m\u001b[1;33m)\u001b[0m \u001b[1;32mfor\u001b[0m \u001b[0mcol\u001b[0m \u001b[1;32min\u001b[0m \u001b[0mdf\u001b[0m\u001b[1;33m.\u001b[0m\u001b[0mcolumns\u001b[0m\u001b[1;33m]\u001b[0m\u001b[1;33m\u001b[0m\u001b[1;33m\u001b[0m\u001b[0m\n\u001b[0;32m      5\u001b[0m \u001b[1;33m\u001b[0m\u001b[0m\n",
      "\u001b[1;31mNameError\u001b[0m: name 'import_data' is not defined"
     ]
    }
   ],
   "source": [
    "# Data path\n",
    "df_ori = import_data('../../data/german-credit-data-with-risk/german_credit_data.csv', optimized=True)\n",
    "df = df_ori.iloc[:, 1:]\n",
    "df.columns = [col.lower().strip().replace(' ', '_') for col in df.columns]\n",
    "\n",
    "# Results\n",
    "print(f'Data dimension: {df.shape}')\n",
    "df.head()"
   ]
  },
  {
   "cell_type": "markdown",
   "metadata": {},
   "source": [
    "___\n",
    "* _Target class balance_\n",
    "___"
   ]
  },
  {
   "cell_type": "code",
   "execution_count": 2,
   "metadata": {
    "ExecuteTime": {
     "end_time": "2020-07-01T00:13:06.255685Z",
     "start_time": "2020-07-01T00:13:06.062157Z"
    },
    "_kg_hide-input": true
   },
   "outputs": [
    {
     "ename": "NameError",
     "evalue": "name 'df_ori' is not defined",
     "output_type": "error",
     "traceback": [
      "\u001b[1;31m---------------------------------------------------------------------------\u001b[0m",
      "\u001b[1;31mNameError\u001b[0m                                 Traceback (most recent call last)",
      "\u001b[1;32m<ipython-input-2-1234a2436f7e>\u001b[0m in \u001b[0;36m<module>\u001b[1;34m\u001b[0m\n\u001b[0;32m      3\u001b[0m \u001b[0mlabel_names\u001b[0m \u001b[1;33m=\u001b[0m \u001b[1;33m[\u001b[0m\u001b[1;34m'Good'\u001b[0m\u001b[1;33m,\u001b[0m \u001b[1;34m'Bad'\u001b[0m\u001b[1;33m]\u001b[0m\u001b[1;33m\u001b[0m\u001b[1;33m\u001b[0m\u001b[0m\n\u001b[0;32m      4\u001b[0m \u001b[0mcolor_list\u001b[0m \u001b[1;33m=\u001b[0m \u001b[1;33m[\u001b[0m\u001b[1;34m'navy'\u001b[0m\u001b[1;33m,\u001b[0m \u001b[1;34m'mediumvioletred'\u001b[0m\u001b[1;33m]\u001b[0m\u001b[1;33m\u001b[0m\u001b[1;33m\u001b[0m\u001b[0m\n\u001b[1;32m----> 5\u001b[1;33m \u001b[0mtext\u001b[0m \u001b[1;33m=\u001b[0m \u001b[1;34mf'Total\\n{len(df_ori)}'\u001b[0m\u001b[1;33m\u001b[0m\u001b[1;33m\u001b[0m\u001b[0m\n\u001b[0m\u001b[0;32m      6\u001b[0m \u001b[0mtitle\u001b[0m \u001b[1;33m=\u001b[0m \u001b[1;34m'Target Class Balance'\u001b[0m\u001b[1;33m\u001b[0m\u001b[1;33m\u001b[0m\u001b[0m\n\u001b[0;32m      7\u001b[0m \u001b[1;33m\u001b[0m\u001b[0m\n",
      "\u001b[1;31mNameError\u001b[0m: name 'df_ori' is not defined"
     ]
    },
    {
     "data": {
      "image/png": "[encoded data removed]",
      "text/plain": [
       "<Figure size 504x504 with 1 Axes>"
      ]
     },
     "metadata": {
      "needs_background": "light"
     },
     "output_type": "display_data"
    }
   ],
   "source": [
    "# Target class balance\n",
    "fig, ax = plt.subplots(figsize=(7, 7))\n",
    "label_names = ['Good', 'Bad']\n",
    "color_list = ['navy', 'mediumvioletred']\n",
    "text = f'Total\\n{len(df_ori)}'\n",
    "title = 'Target Class Balance'\n",
    "\n",
    "# Visualizing it through a donut chart\n",
    "donut_plot(df, col='risk', ax=ax, label_names=label_names, colors=color_list, title=title, text=text)"
   ]
  },
  {
   "cell_type": "markdown",
   "metadata": {},
   "source": [
    "An overview of the data."
   ]
  },
  {
   "cell_type": "code",
   "execution_count": null,
   "metadata": {
    "ExecuteTime": {
     "end_time": "2020-07-01T00:13:06.318341Z",
     "start_time": "2020-07-01T00:13:06.257682Z"
    },
    "_kg_hide-input": true
   },
   "outputs": [],
   "source": [
    "# Overview from the data\n",
    "df_overview = data_overview(df)\n",
    "df_overview"
   ]
  },
  {
   "cell_type": "markdown",
   "metadata": {},
   "source": [
    "## Numerical Features Analysis"
   ]
  },
  {
   "cell_type": "markdown",
   "metadata": {},
   "source": [
    "___\n",
    "* _Distribution_\n",
    "___"
   ]
  },
  {
   "cell_type": "code",
   "execution_count": null,
   "metadata": {
    "ExecuteTime": {
     "end_time": "2020-07-01T00:13:09.305128Z",
     "start_time": "2020-07-01T00:13:06.320269Z"
    },
    "_kg_hide-input": true
   },
   "outputs": [],
   "source": [
    "num_cols = ['age', 'credit_amount', 'duration']\n",
    "color_sequence = ['navy', 'mediumseagreen', 'navy']\n",
    "numplot_analysis(df[num_cols], color_sequence=color_sequence, hist=True)\n",
    "plt.show()"
   ]
  },
  {
   "cell_type": "markdown",
   "metadata": {},
   "source": [
    "___\n",
    "* _Distribution by risk_\n",
    "___"
   ]
  },
  {
   "cell_type": "code",
   "execution_count": null,
   "metadata": {
    "ExecuteTime": {
     "end_time": "2020-07-01T00:13:11.497759Z",
     "start_time": "2020-07-01T00:13:09.30879Z"
    },
    "_kg_hide-input": true
   },
   "outputs": [],
   "source": [
    "num_cols += ['risk']\n",
    "numplot_analysis(df[num_cols], hue='risk', color_hue=color_list)"
   ]
  },
  {
   "cell_type": "code",
   "execution_count": null,
   "metadata": {
    "ExecuteTime": {
     "end_time": "2020-07-01T00:13:13.573284Z",
     "start_time": "2020-07-01T00:13:11.500925Z"
    },
    "_kg_hide-input": true
   },
   "outputs": [],
   "source": [
    "boxenplot(df, features=['age', 'credit_amount', 'duration'], hue='risk', fig_cols=3, figsize=(15, 5), \n",
    "          palette=color_list)"
   ]
  },
  {
   "cell_type": "markdown",
   "metadata": {},
   "source": [
    "By looking at the the plots above, it's reasonble to point that:\n",
    "\n",
    "* **Young people tend to present more risk than the older ones**\n",
    "    * To me this statement makes sense because maybe older people usually have more financial stability than the younger ones;\n",
    "    * By the perspective of a bank or a loan establishment, probably it's safer to offer better credit programs to people who has condition to pay back.\n",
    "    \n",
    "    \n",
    "* **Higher credit amount presents more risk than lower ones**\n",
    "    * Well, this is kind of intuitive and makes total sense to me;\n",
    "    * By the perspective of a customer who took a loan or entered a credit program, it's easier to pay back a low amount.\n",
    "    \n",
    "    \n",
    "* **Higher duration is related to a higher risk**\n",
    "    * Once again this is perfectly fine to say;\n",
    "    * The common credit programs are based on interest or fees that gets higher through the time;\n",
    "    * A costumer who took money for a long time will have to pay much more by the end."
   ]
  },
  {
   "cell_type": "markdown",
   "metadata": {},
   "source": [
    "## Categorical Features Analysis"
   ]
  },
  {
   "cell_type": "markdown",
   "metadata": {},
   "source": [
    "___\n",
    "* _Quantity for each category_\n",
    "___"
   ]
  },
  {
   "cell_type": "code",
   "execution_count": null,
   "metadata": {
    "ExecuteTime": {
     "end_time": "2020-07-01T00:13:18.242953Z",
     "start_time": "2020-07-01T00:13:13.577298Z"
    },
    "_kg_hide-input": true
   },
   "outputs": [],
   "source": [
    "cat_features = [col for col, dtype in df.dtypes.items() if dtype == 'object']\n",
    "catplot_analysis(df[cat_features], palette='plasma')"
   ]
  },
  {
   "cell_type": "markdown",
   "metadata": {},
   "source": [
    "These categorical analysis provided an overview of our dataset in terms of quantity. For each categorical column, now is possible to know what are the marjority ones. Meanwhile, to give more power to the analysis, let's separate each categorical entry into the risk approach."
   ]
  },
  {
   "cell_type": "markdown",
   "metadata": {},
   "source": [
    "___\n",
    "* _Quantity for each category by risk_\n",
    "___"
   ]
  },
  {
   "cell_type": "code",
   "execution_count": null,
   "metadata": {
    "ExecuteTime": {
     "end_time": "2020-07-01T00:13:22.082453Z",
     "start_time": "2020-07-01T00:13:18.249931Z"
    },
    "_kg_hide-input": true
   },
   "outputs": [],
   "source": [
    "catplot_analysis(df[cat_features], hue='risk', palette=color_list)"
   ]
  },
  {
   "cell_type": "markdown",
   "metadata": {},
   "source": [
    "On the first look, maybe the main category that demands some attention if `checking_account`. If we look at those ones with _little_ checking account and its distribution by risk, it's almost 50/50. To make it cleaner for us to conclude, let's repeat this analysis but in a percentage approach."
   ]
  },
  {
   "cell_type": "code",
   "execution_count": null,
   "metadata": {
    "ExecuteTime": {
     "end_time": "2020-07-01T00:13:25.639683Z",
     "start_time": "2020-07-01T00:13:22.088723Z"
    },
    "_kg_hide-input": true
   },
   "outputs": [],
   "source": [
    "rev_color_list = ['mediumvioletred', 'navy']\n",
    "catplot_percentage_analysis(df[cat_features], hue='risk', palette=rev_color_list)"
   ]
  },
  {
   "cell_type": "markdown",
   "metadata": {},
   "source": [
    "The insights we can take from the plot above are:\n",
    "\n",
    "* People with `little` saving account and checking account presents higher risk;\n",
    "* When customers take some credit for `vacation/others`, it's a sign that the risk could be high;\n",
    "* People who have their own house have lower risk"
   ]
  },
  {
   "cell_type": "markdown",
   "metadata": {},
   "source": [
    "## Insights from Data"
   ]
  },
  {
   "cell_type": "markdown",
   "metadata": {},
   "source": [
    "In this session we will go deeper into the dataset to make some graphical analysis in order to take valuable insights that could be used on understanding the problem or even on training a model."
   ]
  },
  {
   "cell_type": "markdown",
   "metadata": {},
   "source": [
    "___\n",
    "* _For what purpose people tend to apply for higher amount loans in average? In terms of total amount, what's the main purpose?_\n",
    "___"
   ]
  },
  {
   "cell_type": "code",
   "execution_count": null,
   "metadata": {
    "ExecuteTime": {
     "end_time": "2020-07-01T00:13:27.192704Z",
     "start_time": "2020-07-01T00:13:25.642677Z"
    },
    "_kg_hide-input": true
   },
   "outputs": [],
   "source": [
    "mean_sum_analysis(df, group_col='purpose', value_col='credit_amount')"
   ]
  },
  {
   "cell_type": "markdown",
   "metadata": {},
   "source": [
    "We could see by the graphic that, in average, people often request higher credit amount for `vacation/other`. Meanwhile this purpose is only the 6th in terms of total amount given by the loan establishment.\n",
    "\n",
    "By the way, people who request credit for `car` purpose representes the main public for the bank/loan establishment."
   ]
  },
  {
   "cell_type": "markdown",
   "metadata": {},
   "source": [
    "___\n",
    "* _Is there any purpose in particular with long duration credit requests?_\n",
    "___"
   ]
  },
  {
   "cell_type": "code",
   "execution_count": null,
   "metadata": {
    "ExecuteTime": {
     "end_time": "2020-07-01T00:13:29.01606Z",
     "start_time": "2020-07-01T00:13:27.202347Z"
    },
    "_kg_hide-input": true
   },
   "outputs": [],
   "source": [
    "mean_sum_analysis(df, group_col='purpose', value_col='duration')"
   ]
  },
  {
   "cell_type": "markdown",
   "metadata": {},
   "source": [
    "___\n",
    "* _How credit amount is related to gender?_\n",
    "___"
   ]
  },
  {
   "cell_type": "code",
   "execution_count": null,
   "metadata": {
    "ExecuteTime": {
     "end_time": "2020-07-01T00:13:29.607709Z",
     "start_time": "2020-07-01T00:13:29.020576Z"
    },
    "_kg_hide-input": true,
    "code_folding": []
   },
   "outputs": [],
   "source": [
    "gender_palette = ['cornflowerblue', 'salmon']\n",
    "mean_sum_analysis(df, group_col='sex', value_col='credit_amount', orient='horizontal', \n",
    "                  palette=gender_palette, figsize=(12, 4))"
   ]
  },
  {
   "cell_type": "markdown",
   "metadata": {},
   "source": [
    "___\n",
    "* _Is there any correlation between features?_\n",
    "___"
   ]
  },
  {
   "cell_type": "markdown",
   "metadata": {},
   "source": [
    "For this let's use the `pairplot` function from `seaborn`."
   ]
  },
  {
   "cell_type": "code",
   "execution_count": null,
   "metadata": {
    "ExecuteTime": {
     "end_time": "2020-07-01T00:13:38.81555Z",
     "start_time": "2020-07-01T00:13:29.609707Z"
    },
    "_kg_hide-input": true
   },
   "outputs": [],
   "source": [
    "sns.pairplot(df[num_cols], hue='risk', palette=color_list)\n",
    "plt.show()"
   ]
  },
  {
   "cell_type": "markdown",
   "metadata": {},
   "source": [
    "The scatterplots built into the `pairplot` function show us that maybe there is a positive correlation between `credit amount` and `duration` of the credit request. It makes sense, since long term credits could be related to higher amounts."
   ]
  },
  {
   "cell_type": "markdown",
   "metadata": {},
   "source": [
    "___\n",
    "* _How much credit was given for bad risk customers?_\n",
    "___"
   ]
  },
  {
   "cell_type": "markdown",
   "metadata": {},
   "source": [
    "Just to clarify, this is a really important question by the way. The answear we search here is to see the profile of the bank/credit stablishment in terms of risk."
   ]
  },
  {
   "cell_type": "code",
   "execution_count": null,
   "metadata": {
    "ExecuteTime": {
     "end_time": "2020-07-01T00:13:38.947788Z",
     "start_time": "2020-07-01T00:13:38.817576Z"
    },
    "_kg_hide-input": true
   },
   "outputs": [],
   "source": [
    "amount_risk = df.groupby(by='risk', as_index=False).sum().loc[:, ['risk', 'credit_amount']]\n",
    "amount_risk['percentage'] = amount_risk['credit_amount'] / amount_risk['credit_amount'].sum()\n",
    "amount_risk.style.background_gradient(cmap='Reds_r')"
   ]
  },
  {
   "cell_type": "code",
   "execution_count": null,
   "metadata": {
    "ExecuteTime": {
     "end_time": "2020-07-01T00:13:39.228564Z",
     "start_time": "2020-07-01T00:13:38.950167Z"
    },
    "_kg_hide-input": true
   },
   "outputs": [],
   "source": [
    "# Creating figure\n",
    "fig, ax = plt.subplots(figsize=(7, 7))\n",
    "\n",
    "# Defining useful elements for the donut chart\n",
    "values = amount_risk['credit_amount']\n",
    "labels = amount_risk['risk']\n",
    "center_circle = plt.Circle((0, 0), 0.8, color='white')\n",
    "\n",
    "# Plotting the pizza chart and the center circle\n",
    "ax.pie(values, labels=labels, colors=['darkred', 'cadetblue'], autopct=make_autopct(values))\n",
    "ax.add_artist(center_circle)\n",
    "\n",
    "kwargs = dict(size=20, fontweight='bold', va='center')\n",
    "ax.text(0, 0, f'Total Amount\\n${values.sum()}', ha='center', **kwargs)\n",
    "ax.set_title('Credit Amount Made Available to Customers by Risk', size=14, color='dimgrey')\n",
    "plt.show()"
   ]
  },
  {
   "cell_type": "markdown",
   "metadata": {},
   "source": [
    "___\n",
    "* _Analysing how housing and job attributes is related to age and credit amount_\n",
    "___"
   ]
  },
  {
   "cell_type": "code",
   "execution_count": null,
   "metadata": {
    "ExecuteTime": {
     "end_time": "2020-07-01T00:13:41.146464Z",
     "start_time": "2020-07-01T00:13:39.230562Z"
    },
    "_kg_hide-input": true
   },
   "outputs": [],
   "source": [
    "# Creating figure\n",
    "fig, axs = plt.subplots(ncols=2, figsize=(15, 5))\n",
    "\n",
    "# Scatterplot\n",
    "sns.scatterplot(x='age', y='credit_amount', data=df, hue='housing', ax=axs[0], palette='magma', alpha=.8)\n",
    "sns.scatterplot(x='age', y='credit_amount', data=df, hue='job', ax=axs[1], palette='YlGnBu')\n",
    "\n",
    "# Customizing plot\n",
    "format_spines(axs[0], right_border=False)\n",
    "format_spines(axs[1], right_border=False)\n",
    "axs[0].set_title('Credit Amomunt and Age Distribution by Housing', size=12, color='dimgrey')\n",
    "axs[1].set_title('Credit Amomunt and Age Distribution by Job', size=12, color='dimgrey')\n",
    "plt.show()"
   ]
  },
  {
   "cell_type": "markdown",
   "metadata": {},
   "source": [
    "___\n",
    "* _How the duration of loan requests are associated with age and credit amount?_\n",
    "___"
   ]
  },
  {
   "cell_type": "code",
   "execution_count": null,
   "metadata": {
    "ExecuteTime": {
     "end_time": "2020-07-01T00:13:45.563589Z",
     "start_time": "2020-07-01T00:13:43.405875Z"
    },
    "_kg_hide-input": true
   },
   "outputs": [],
   "source": [
    "g = (sns.jointplot(x='credit_amount', y='duration', data=df, color='seagreen', kind='hex'))"
   ]
  },
  {
   "cell_type": "markdown",
   "metadata": {},
   "source": [
    "Let's create bins for duration and see its behavior along a age and credit amount scatterplot"
   ]
  },
  {
   "cell_type": "code",
   "execution_count": null,
   "metadata": {
    "ExecuteTime": {
     "end_time": "2020-07-01T00:13:46.301868Z",
     "start_time": "2020-07-01T00:13:45.564586Z"
    },
    "_kg_hide-input": true
   },
   "outputs": [],
   "source": [
    "# Creating new categories for duration col\n",
    "bins = [0, 10, 30, 50, np.inf]\n",
    "labels = ['<= 10', 'between 10 and 30', 'between 30 and 50', '> 50']\n",
    "df['cat_duration'] = pd.cut(df['duration'], bins=bins, labels=labels)\n",
    "\n",
    "# Creating figure\n",
    "fig, ax = plt.subplots(figsize=(10, 5))\n",
    "\n",
    "# Scatterplot\n",
    "sns.scatterplot(x='age', y='credit_amount', data=df, hue='cat_duration', palette='YlGnBu')\n",
    "\n",
    "# Customizing plot\n",
    "format_spines(ax, right_border=False)\n",
    "ax.set_title('Credit Amomunt and Age Distribution by Duration Category', size=14, color='dimgrey')\n",
    "ax.legend(loc='upper right', fancybox=False, framealpha=0.2)\n",
    "df.drop('cat_duration', axis=1, inplace=True)\n",
    "plt.show()"
   ]
  },
  {
   "cell_type": "markdown",
   "metadata": {},
   "source": [
    "## Clustering Data"
   ]
  },
  {
   "cell_type": "markdown",
   "metadata": {},
   "source": [
    "In this session, we will select some useful features to split the data into different clusters. The aim is to present a better way to understanding the relationship between features and to study how our public could be splitted into clusters."
   ]
  },
  {
   "cell_type": "markdown",
   "metadata": {},
   "source": [
    "### Age and Duration"
   ]
  },
  {
   "cell_type": "code",
   "execution_count": null,
   "metadata": {
    "ExecuteTime": {
     "end_time": "2020-07-05T15:26:13.69069Z",
     "start_time": "2020-07-05T15:26:12.507807Z"
    },
    "_kg_hide-input": true
   },
   "outputs": [],
   "source": [
    "# Definindo melhor número de clusters\n",
    "columns = ['age', 'duration']\n",
    "cluster_data = df.loc[:, columns]\n",
    "K_min, K_max = 1, 8\n",
    "elbow_method_kmeans(cluster_data, K_min, K_max)"
   ]
  },
  {
   "cell_type": "code",
   "execution_count": null,
   "metadata": {
    "ExecuteTime": {
     "end_time": "2020-07-05T15:31:16.651233Z",
     "start_time": "2020-07-05T15:31:16.041789Z"
    },
    "_kg_hide-input": true
   },
   "outputs": [],
   "source": [
    "# Treinando algoritmo KMeans\n",
    "k_means = KMeans(n_clusters=3)\n",
    "k_means.fit(cluster_data)\n",
    "y_kmeans = k_means.predict(cluster_data)\n",
    "centers = k_means.cluster_centers_\n",
    "\n",
    "# Plotando resultado do agrupamento\n",
    "plot_kmeans_clusters(cluster_data, y_kmeans, centers, cmap='viridis')"
   ]
  },
  {
   "cell_type": "markdown",
   "metadata": {},
   "source": [
    "It's really interesting to see the three main group on the data when we look at `age` and `duration` features. To present you some description with that I thought on:\n",
    "\n",
    "* **Group 1 (purple):** Here we have young people (from 18 to 40 years approximately) who usually request short term loans (from 0 to 30 years approximately).\n",
    "\n",
    "* **Group 2 (yellow):** On the cluster above the others, we have people who take loans for a long time (higher than 30 years).\n",
    "\n",
    "* **Group 3 (green):** The third cluster have older people (with age higher than 40) and short term loans."
   ]
  },
  {
   "cell_type": "markdown",
   "metadata": {},
   "source": [
    "### Credit Amount and Duration"
   ]
  },
  {
   "cell_type": "code",
   "execution_count": null,
   "metadata": {
    "ExecuteTime": {
     "end_time": "2020-07-05T15:39:12.082594Z",
     "start_time": "2020-07-05T15:39:11.091088Z"
    },
    "_kg_hide-input": true
   },
   "outputs": [],
   "source": [
    "# Definindo melhor número de clusters\n",
    "columns = ['credit_amount', 'duration']\n",
    "cluster_data = df.loc[:, columns]\n",
    "K_min, K_max = 1, 8\n",
    "elbow_method_kmeans(cluster_data, K_min, K_max)"
   ]
  },
  {
   "cell_type": "code",
   "execution_count": null,
   "metadata": {
    "ExecuteTime": {
     "end_time": "2020-07-05T15:39:17.811945Z",
     "start_time": "2020-07-05T15:39:17.17746Z"
    },
    "_kg_hide-input": true
   },
   "outputs": [],
   "source": [
    "# Treinando algoritmo KMeans\n",
    "k_means = KMeans(n_clusters=2)\n",
    "k_means.fit(cluster_data)\n",
    "y_kmeans = k_means.predict(cluster_data)\n",
    "centers = k_means.cluster_centers_\n",
    "\n",
    "# Plotando resultado do agrupamento\n",
    "plot_kmeans_clusters(cluster_data, y_kmeans, centers, cmap='viridis')"
   ]
  },
  {
   "cell_type": "markdown",
   "metadata": {},
   "source": [
    "Now we are using the `duration` and `credit_amount` features. The elbow method showed us that 2 is optimal number of clusters that we can get between these two features. So we have:\n",
    "\n",
    "* **Group 1 (purple):** On this cluster we have customers who take lower amount for credit for a middle term duration (between 0 and 50 years).\n",
    "\n",
    "* **Group 2 (yellow):** This cluster shows us customers that request higher amount for credit for a usually higher duration."
   ]
  },
  {
   "cell_type": "markdown",
   "metadata": {},
   "source": [
    "# Data Prep"
   ]
  },
  {
   "cell_type": "markdown",
   "metadata": {},
   "source": [
    "After a pool of visualizations build in order to help us to get insights from the data, we can now safely go through the steps needed to prepare our data to a predictive model.\n",
    "\n",
    "For this session, I prepared a utility model called `custom_transformers.py` with some classes already built right for this task."
   ]
  },
  {
   "cell_type": "code",
   "execution_count": null,
   "metadata": {
    "ExecuteTime": {
     "end_time": "2020-07-01T00:13:46.333104Z",
     "start_time": "2020-07-01T00:13:46.303804Z"
    }
   },
   "outputs": [],
   "source": [
    "# Creating a target column\n",
    "df['target'] = df['risk'].apply(lambda x: 1 if x == 'bad' else 0)\n",
    "df.drop('risk', axis=1, inplace=True)\n",
    "df.head()"
   ]
  },
  {
   "cell_type": "markdown",
   "metadata": {},
   "source": [
    "## Preprocessing Pipeline"
   ]
  },
  {
   "cell_type": "markdown",
   "metadata": {},
   "source": [
    "In this topic, I purpose the application of a preprocessing Pipeline to:\n",
    "\n",
    "    - Remove duplicated instances;\n",
    "    - Splitting data into train and test sets."
   ]
  },
  {
   "cell_type": "code",
   "execution_count": null,
   "metadata": {
    "ExecuteTime": {
     "end_time": "2020-07-01T00:13:46.356508Z",
     "start_time": "2020-07-01T00:13:46.33599Z"
    }
   },
   "outputs": [],
   "source": [
    "# Building the preprocessing Pipeline\n",
    "preprocessing_pipeline = Pipeline([\n",
    "    ('dup_dropped', DropDuplicates()),\n",
    "    ('data_splitter', SplitData(target='target'))\n",
    "])\n",
    "\n",
    "# Applying this pipeline\n",
    "X_train, X_test, y_train, y_test = preprocessing_pipeline.fit_transform(df)\n",
    "print(f'Shape of X_train: {X_train.shape}')\n",
    "print(f'Shape of X_test: {X_test.shape}')"
   ]
  },
  {
   "cell_type": "markdown",
   "metadata": {},
   "source": [
    "## Processing Pipeline"
   ]
  },
  {
   "cell_type": "markdown",
   "metadata": {},
   "source": [
    "In this step, the point is to construct pipelines for numerical and categorical data so we can:\n",
    "\n",
    "**Numerical pipeline:**\n",
    "    - Filling null data (if exists)\n",
    "    - Scalling with StandardScaler\n",
    "    \n",
    "**Categorical pipeline:**\n",
    "    - Filling null data (if exists - and we already know that it exists)\n",
    "    - Apply encoding (with get_dummies)"
   ]
  },
  {
   "cell_type": "code",
   "execution_count": null,
   "metadata": {
    "ExecuteTime": {
     "end_time": "2020-07-01T00:13:46.381772Z",
     "start_time": "2020-07-01T00:13:46.365813Z"
    }
   },
   "outputs": [],
   "source": [
    "# Splitting the data by dtype\n",
    "num_features = [col for col, dtype in X_train.dtypes.items() if dtype != 'object']\n",
    "cat_features = [col for col, dtype in X_train.dtypes.items() if dtype == 'object']\n",
    "\n",
    "# Building a numerical pipeline\n",
    "num_pipeline = Pipeline([\n",
    "    ('scaler', StandardScaler())\n",
    "])\n",
    "\n",
    "# Building a categorical pipeline\n",
    "cat_pipeline = Pipeline([\n",
    "    ('encoder', DummiesEncoding(dummy_na=True))\n",
    "])\n",
    "\n",
    "# Building a complete pipeline\n",
    "full_pipeline = ColumnTransformer([\n",
    "    ('num', num_pipeline, num_features),\n",
    "    ('cat', cat_pipeline, cat_features)\n",
    "])"
   ]
  },
  {
   "cell_type": "code",
   "execution_count": null,
   "metadata": {
    "ExecuteTime": {
     "end_time": "2020-07-01T00:13:46.472744Z",
     "start_time": "2020-07-01T00:13:46.389782Z"
    }
   },
   "outputs": [],
   "source": [
    "# Applying the data prep pipeline\n",
    "X_train_prep = full_pipeline.fit_transform(X_train)\n",
    "X_test_prep = full_pipeline.fit_transform(X_test)\n",
    "\n",
    "print(f'Shape of X_train_prep: {X_train_prep.shape}')\n",
    "print(f'Shape of X_test_prep: {X_test_prep.shape}')"
   ]
  },
  {
   "cell_type": "code",
   "execution_count": null,
   "metadata": {
    "ExecuteTime": {
     "end_time": "2020-07-01T00:13:46.533489Z",
     "start_time": "2020-07-01T00:13:46.47519Z"
    }
   },
   "outputs": [],
   "source": [
    "# Returning the final features of the dataset\n",
    "encoded_features = full_pipeline.named_transformers_['cat']['encoder'].features_after_encoding\n",
    "model_features = num_features + encoded_features\n",
    "df_train_prep = pd.DataFrame(X_train_prep, columns=model_features)\n",
    "df_train_prep.head()"
   ]
  },
  {
   "cell_type": "markdown",
   "metadata": {},
   "source": [
    "# Training and Evaluating a Model"
   ]
  },
  {
   "cell_type": "markdown",
   "metadata": {},
   "source": [
    "It seems we finally have a final dataset to analyze a classifying model. Our goal here is to use the features we prepared to predict the loan risk and, for that, we will go through evaluation metrics, ROC Curve, Confusion Matrix and other tools to show how good our models really are."
   ]
  },
  {
   "cell_type": "markdown",
   "metadata": {},
   "source": [
    "First let's setup all the hyperparmeters for the classifiers we pretend to evaluate"
   ]
  },
  {
   "cell_type": "code",
   "execution_count": null,
   "metadata": {
    "ExecuteTime": {
     "end_time": "2020-07-01T00:13:46.557505Z",
     "start_time": "2020-07-01T00:13:46.536481Z"
    }
   },
   "outputs": [],
   "source": [
    "# Logistic Regression hyperparameters\n",
    "logreg_param_grid = {\n",
    "    'C': np.linspace(0.1, 10, 20),\n",
    "    'penalty': ['l1', 'l2'],\n",
    "    'class_weight': ['balanced', None],\n",
    "    'random_state': [42],\n",
    "    'solver': ['liblinear']\n",
    "}\n",
    "\n",
    "# Decision Trees hyperparameters\n",
    "tree_param_grid = {\n",
    "    'criterion': ['entropy', 'gini'],\n",
    "    'max_depth': [3, 5, 10, 20],\n",
    "    'max_features': np.arange(1, X_train.shape[1]),\n",
    "    'class_weight': ['balanced', None],\n",
    "    'random_state': [42]\n",
    "}\n",
    "\n",
    "# Random Forest hyperparameters\n",
    "forest_param_grid = {\n",
    "    'bootstrap': [True, False],\n",
    "    'max_depth': [3, 5, 10, 20, 50],\n",
    "    'n_estimators': [50, 100, 200, 500],\n",
    "    'random_state': [42],\n",
    "    'max_features': ['auto', 'sqrt'],\n",
    "    'class_weight': ['balanced', None]\n",
    "}\n",
    "\n",
    "# LightGBM hyperparameters\n",
    "lgbm_param_grid = {\n",
    "    'num_leaves': list(range(8, 92, 4)),\n",
    "    'min_data_in_leaf': [10, 20, 40, 60, 100],\n",
    "    'max_depth': [3, 4, 5, 6, 8, 12, 16],\n",
    "    'learning_rate': [0.1, 0.05, 0.01, 0.005],\n",
    "    'bagging_freq': [3, 4, 5, 6, 7],\n",
    "    'bagging_fraction': np.linspace(0.6, 0.95, 10),\n",
    "    'reg_alpha': np.linspace(0.1, 0.95, 10),\n",
    "    'reg_lambda': np.linspace(0.1, 0.95, 10),\n",
    "}\n",
    "\n",
    "lgbm_fixed_params = {\n",
    "    'application': 'binary',\n",
    "    'objective': 'binary',\n",
    "    'metric': 'auc',\n",
    "    'is_unbalance': 'true',\n",
    "    'boosting_type': 'gbdt',\n",
    "    'num_leaves': 31,\n",
    "    'feature_fraction': 0.5,\n",
    "    'bagging_fraction': 0.5,\n",
    "    'bagging_freq': 20,\n",
    "    'learning_rate': 0.05,\n",
    "    'verbose': 0\n",
    "}"
   ]
  },
  {
   "cell_type": "markdown",
   "metadata": {},
   "source": [
    "At least, let's prepare a dictionary with the instances of our classifiers and the respective hyperparameters"
   ]
  },
  {
   "cell_type": "code",
   "execution_count": null,
   "metadata": {
    "ExecuteTime": {
     "end_time": "2020-07-01T00:13:46.568988Z",
     "start_time": "2020-07-01T00:13:46.559502Z"
    }
   },
   "outputs": [],
   "source": [
    "# Setting up classifiers\n",
    "set_classifiers = {\n",
    "    'LogisticRegression': {\n",
    "        'model': LogisticRegression(),\n",
    "        'params': logreg_param_grid\n",
    "    },\n",
    "    'DecisionTrees': {\n",
    "        'model': DecisionTreeClassifier(),\n",
    "        'params': tree_param_grid\n",
    "    },\n",
    "    'RandomForest': {\n",
    "        'model': RandomForestClassifier(),\n",
    "        'params': forest_param_grid\n",
    "    },\n",
    "    'LightGBM': {\n",
    "        'model': lgb.LGBMClassifier(**lgbm_fixed_params),\n",
    "        'params': lgbm_param_grid\n",
    "    }\n",
    "}"
   ]
  },
  {
   "cell_type": "markdown",
   "metadata": {},
   "source": [
    "___\n",
    "* _Training and evaluating classifiers_\n",
    "___"
   ]
  },
  {
   "cell_type": "code",
   "execution_count": null,
   "metadata": {
    "ExecuteTime": {
     "end_time": "2020-07-01T00:14:06.370876Z",
     "start_time": "2020-07-01T00:13:46.57198Z"
    }
   },
   "outputs": [],
   "source": [
    "# Creating an instance for the homemade class BinaryClassifiersAnalysis\n",
    "clf_tool = BinaryClassifiersAnalysis()\n",
    "clf_tool.fit(set_classifiers, X_train_prep, y_train, random_search=True, cv=5, verbose=5)"
   ]
  },
  {
   "cell_type": "code",
   "execution_count": null,
   "metadata": {
    "ExecuteTime": {
     "end_time": "2020-07-01T00:14:35.04338Z",
     "start_time": "2020-07-01T00:14:06.373896Z"
    }
   },
   "outputs": [],
   "source": [
    "# Evaluating metrics\n",
    "df_performances = clf_tool.evaluate_performance(X_train_prep, y_train, X_test_prep, y_test, cv=5)\n",
    "df_performances.reset_index(drop=True).style.background_gradient(cmap='Blues')"
   ]
  },
  {
   "cell_type": "markdown",
   "metadata": {},
   "source": [
    "___\n",
    "* _Looking at the feature importance of a specific model_\n",
    "___"
   ]
  },
  {
   "cell_type": "code",
   "execution_count": null,
   "metadata": {
    "ExecuteTime": {
     "end_time": "2020-07-03T01:22:38.570874Z",
     "start_time": "2020-07-03T01:22:37.769918Z"
    },
    "_kg_hide-input": true
   },
   "outputs": [],
   "source": [
    "fig, ax = plt.subplots(figsize=(13, 11))\n",
    "lgbm_feature_importance = clf_tool.feature_importance_analysis(model_features, specific_model='LightGBM', ax=ax)\n",
    "plt.show()"
   ]
  },
  {
   "cell_type": "markdown",
   "metadata": {},
   "source": [
    "___\n",
    "* _Plotting the ROC Curve for the classifiers (train and test)_\n",
    "___"
   ]
  },
  {
   "cell_type": "code",
   "execution_count": null,
   "metadata": {
    "ExecuteTime": {
     "end_time": "2020-07-03T01:22:39.568145Z",
     "start_time": "2020-07-03T01:22:38.572867Z"
    },
    "_kg_hide-input": true
   },
   "outputs": [],
   "source": [
    "clf_tool.plot_roc_curve()"
   ]
  },
  {
   "cell_type": "markdown",
   "metadata": {},
   "source": [
    "___\n",
    "* _Plotting Confusion Matrix for each classifier (train and test)_\n",
    "___"
   ]
  },
  {
   "cell_type": "code",
   "execution_count": null,
   "metadata": {
    "ExecuteTime": {
     "end_time": "2020-07-03T01:22:46.219948Z",
     "start_time": "2020-07-03T01:22:39.57014Z"
    },
    "_kg_hide-input": true
   },
   "outputs": [],
   "source": [
    "clf_tool.plot_confusion_matrix(classes=['Good', 'Bad'])"
   ]
  },
  {
   "cell_type": "markdown",
   "metadata": {},
   "source": [
    "___\n",
    "* _Learning curve for a specific model_\n",
    "___"
   ]
  },
  {
   "cell_type": "code",
   "execution_count": null,
   "metadata": {
    "ExecuteTime": {
     "end_time": "2020-07-04T00:06:17.196544Z",
     "start_time": "2020-07-04T00:06:13.619885Z"
    },
    "_kg_hide-input": true
   },
   "outputs": [],
   "source": [
    "fig, ax = plt.subplots(figsize=(12, 6))\n",
    "clf_tool.plot_learning_curve('LightGBM', ax=ax)\n",
    "plt.show()"
   ]
  },
  {
   "cell_type": "markdown",
   "metadata": {},
   "source": [
    "___\n",
    "* _Looking at score (proba) distribution for a specific model_\n",
    "___"
   ]
  },
  {
   "cell_type": "code",
   "execution_count": null,
   "metadata": {
    "ExecuteTime": {
     "end_time": "2020-07-04T00:06:17.644083Z",
     "start_time": "2020-07-04T00:06:17.199502Z"
    },
    "_kg_hide-input": true
   },
   "outputs": [],
   "source": [
    "clf_tool.plot_score_distribution('LightGBM', shade=True)"
   ]
  },
  {
   "cell_type": "code",
   "execution_count": null,
   "metadata": {
    "ExecuteTime": {
     "end_time": "2020-07-04T00:06:25.421521Z",
     "start_time": "2020-07-04T00:06:24.108077Z"
    },
    "_kg_hide-input": true
   },
   "outputs": [],
   "source": [
    "clf_tool.plot_score_bins('LightGBM', bin_range=0.1)"
   ]
  },
  {
   "cell_type": "markdown",
   "metadata": {},
   "source": [
    "By looking at the graphs and the model results, it seems we've done a good work on preparing and training the data. By the end, the model LightGBM showd us the best performance among the classifiers used on analysis. Meanwhile, the model **learning curve** shows us that there is space for improvement: the high gap between training scores and validation scores is a proxy that the model could is overfitting the data and so we could work on that to raise up the validation score metric.\n",
    "\n",
    "For the next steps, thinking on putting this model on production, we could encapsulate every step in a pipeline and build a python script to receive some entrance base and return the instance score or the instance prediction based on the business problem."
   ]
  },
  {
   "cell_type": "markdown",
   "metadata": {},
   "source": [
    "# Production Script"
   ]
  },
  {
   "cell_type": "markdown",
   "metadata": {},
   "source": [
    "Let's imagine that we have already trained and selected the best model for this task. After that, we receive new data for scoring and we want to use our built pipeline to make this process easier. So, considering the data we have is the same we would use for scoring, the script could be constructed as:"
   ]
  },
  {
   "cell_type": "code",
   "execution_count": null,
   "metadata": {
    "ExecuteTime": {
     "end_time": "2020-07-07T16:39:42.080588Z",
     "start_time": "2020-07-07T16:39:41.955994Z"
    }
   },
   "outputs": [],
   "source": [
    "# Libs\n",
    "import pandas as pd\n",
    "from custom_transformers import *\n",
    "from sklearn.pipeline import Pipeline\n",
    "\n",
    "# Reading the raw data\n",
    "df_ori = import_data('../input/german-credit-data-with-risk/german_credit_data.csv', optimized=True)\n",
    "df = df_ori.iloc[:, 1:]\n",
    "df.columns = [col.lower().strip().replace(' ', '_') for col in df.columns]\n",
    "df['target'] = df['risk'].apply(lambda x: 1 if x == 'bad' else 0)\n",
    "df.drop('risk', axis=1, inplace=True)\n",
    "\n",
    "# Applying the data prep pipeline (the pkl file could be read from a specific path)\n",
    "scoring_data = full_pipeline.fit_transform(df)\n",
    "\n",
    "# Using the trained model for predicting (the pkl file could be read from a specific path)\n",
    "model = clf_tool.classifiers_info['LightGBM']['estimator']\n",
    "y_pred = model.predict(scoring_data)\n",
    "y_score = model.predict_proba(scoring_data)[:, 1]\n",
    "\n",
    "# Appending the predictions to the data\n",
    "df['y_score'] = y_score\n",
    "df['y_pred'] = y_pred\n",
    "df['y_class'] = df['y_pred'].apply(lambda x: 'Bad' if x == 1 else 'Good')\n",
    "\n",
    "# Creating bins\n",
    "bins = df['y_score'].quantile(np.arange(0, 1.01, 0.1)).values\n",
    "labels = ['Faixa ' + str(i) for i in range(len(bins)-1, 0, -1)]\n",
    "df['faixa'] = pd.cut(df['y_score'], bins=bins, labels=labels, include_lowest=True)\n",
    "df.head()"
   ]
  },
  {
   "cell_type": "markdown",
   "metadata": {},
   "source": [
    "<font size=\"+1\" color=\"black\"><b>Please visit my other kernels by clicking on the buttons</b></font><br>\n",
    "\n",
    "<a href=\"https://www.kaggle.com/thiagopanini/predicting-restaurant-s-rate-in-bengaluru\" class=\"btn btn-primary\" style=\"color:white;\">Bengaluru's Restaurants</a>\n",
    "<a href=\"https://www.kaggle.com/thiagopanini/sentimental-analysis-on-e-commerce-reviews\" class=\"btn btn-primary\" style=\"color:white;\">Sentimental Analysis E-Commerce</a>\n",
    "<a href=\"https://www.kaggle.com/thiagopanini/credit-fraud-how-to-choose-the-best-classifier\" class=\"btn btn-primary\" style=\"color:white;\">Credit Card Fraud Detection</a>\n",
    "<a href=\"https://www.kaggle.com/thiagopanini/global-terrorism-eda-nlp\" class=\"btn btn-primary\" style=\"color:white;\">Global Terrorism</a>"
   ]
  },
  {
   "cell_type": "markdown",
   "metadata": {},
   "source": [
    "If you like this kernel, please **upvote**!"
   ]
  }
 ],
 "metadata": {
  "kernelspec": {
   "display_name": "Python 3",
   "language": "python",
   "name": "python3"
  },
  "language_info": {
   "codemirror_mode": {
    "name": "ipython",
    "version": 3
   },
   "file_extension": ".py",
   "mimetype": "text/x-python",
   "name": "python",
   "nbconvert_exporter": "python",
   "pygments_lexer": "ipython3",
   "version": "3.8.5"
  }
 },
 "nbformat": 4,
 "nbformat_minor": 4
}
