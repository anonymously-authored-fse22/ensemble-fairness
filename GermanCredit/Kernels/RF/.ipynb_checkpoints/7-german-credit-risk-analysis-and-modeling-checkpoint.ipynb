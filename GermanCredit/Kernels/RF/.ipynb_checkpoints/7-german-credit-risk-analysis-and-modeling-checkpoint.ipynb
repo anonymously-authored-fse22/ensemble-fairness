{
 "cells": [
  {
   "cell_type": "code",
   "execution_count": 1,
   "metadata": {
    "_cell_guid": "b1076dfc-b9ad-4769-8c92-a6c4dae69d19",
    "_uuid": "8f2839f25d086af736a60e9eeb907d3b93b6e0e5",
    "execution": {
     "iopub.execute_input": "2021-08-18T15:51:43.828967Z",
     "iopub.status.busy": "2021-08-18T15:51:43.828462Z",
     "iopub.status.idle": "2021-08-18T15:51:43.846011Z",
     "shell.execute_reply": "2021-08-18T15:51:43.844793Z",
     "shell.execute_reply.started": "2021-08-18T15:51:43.828929Z"
    }
   },
   "outputs": [],
   "source": [
    "import numpy as np\n",
    "import pandas as pd\n",
    "import seaborn as sns\n",
    "import matplotlib.pyplot as plt\n",
    "from IPython.display import display, Markdown, Latex\n",
    "\n",
    "sns.set_style('whitegrid')\n",
    "\n",
    "from sklearn.preprocessing import LabelEncoder\n",
    "from sklearn import model_selection\n",
    "from sklearn.cluster import KMeans\n",
    "from sklearn.svm import SVC\n",
    "from sklearn.neighbors import KNeighborsClassifier\n",
    "from sklearn.tree import DecisionTreeClassifier\n",
    "from sklearn.ensemble import RandomForestClassifier\n",
    "from sklearn.naive_bayes import GaussianNB\n",
    "\n",
    "from sklearn.metrics import f1_score\n",
    "\n",
    "import os\n",
    "for dirname, _, filenames in os.walk('/kaggle/input'):\n",
    "    for filename in filenames:\n",
    "        print(os.path.join(dirname, filename))"
   ]
  },
  {
   "cell_type": "code",
   "execution_count": 2,
   "metadata": {},
   "outputs": [],
   "source": [
    "from aif360.datasets import StandardDataset\n",
    "from aif360.metrics import BinaryLabelDatasetMetric, ClassificationMetric\n",
    "import matplotlib.patches as patches\n",
    "from aif360.algorithms.preprocessing import Reweighing\n",
    "#from packages import *\n",
    "#from ml_fairness import *\n",
    "import matplotlib.pyplot as plt\n",
    "import seaborn as sns\n",
    "\n",
    "\n",
    "\n",
    "from IPython.display import Markdown, display"
   ]
  },
  {
   "cell_type": "markdown",
   "metadata": {},
   "source": [
    "## 0. Loading and Understanding the Dataset"
   ]
  },
  {
   "cell_type": "code",
   "execution_count": 3,
   "metadata": {
    "execution": {
     "iopub.execute_input": "2021-08-18T13:44:22.087012Z",
     "iopub.status.busy": "2021-08-18T13:44:22.086651Z",
     "iopub.status.idle": "2021-08-18T13:44:22.115037Z",
     "shell.execute_reply": "2021-08-18T13:44:22.114061Z",
     "shell.execute_reply.started": "2021-08-18T13:44:22.086979Z"
    }
   },
   "outputs": [
    {
     "data": {
      "text/html": [
       "<div>\n",
       "<style scoped>\n",
       "    .dataframe tbody tr th:only-of-type {\n",
       "        vertical-align: middle;\n",
       "    }\n",
       "\n",
       "    .dataframe tbody tr th {\n",
       "        vertical-align: top;\n",
       "    }\n",
       "\n",
       "    .dataframe thead th {\n",
       "        text-align: right;\n",
       "    }\n",
       "</style>\n",
       "<table border=\"1\" class=\"dataframe\">\n",
       "  <thead>\n",
       "    <tr style=\"text-align: right;\">\n",
       "      <th></th>\n",
       "      <th>Age</th>\n",
       "      <th>Sex</th>\n",
       "      <th>Job</th>\n",
       "      <th>Housing</th>\n",
       "      <th>Saving accounts</th>\n",
       "      <th>Checking account</th>\n",
       "      <th>Credit amount</th>\n",
       "      <th>Duration</th>\n",
       "      <th>Purpose</th>\n",
       "      <th>Risk</th>\n",
       "    </tr>\n",
       "  </thead>\n",
       "  <tbody>\n",
       "    <tr>\n",
       "      <th>0</th>\n",
       "      <td>67</td>\n",
       "      <td>male</td>\n",
       "      <td>2</td>\n",
       "      <td>own</td>\n",
       "      <td>NaN</td>\n",
       "      <td>little</td>\n",
       "      <td>1169</td>\n",
       "      <td>6</td>\n",
       "      <td>radio/TV</td>\n",
       "      <td>good</td>\n",
       "    </tr>\n",
       "    <tr>\n",
       "      <th>1</th>\n",
       "      <td>22</td>\n",
       "      <td>female</td>\n",
       "      <td>2</td>\n",
       "      <td>own</td>\n",
       "      <td>little</td>\n",
       "      <td>moderate</td>\n",
       "      <td>5951</td>\n",
       "      <td>48</td>\n",
       "      <td>radio/TV</td>\n",
       "      <td>bad</td>\n",
       "    </tr>\n",
       "    <tr>\n",
       "      <th>2</th>\n",
       "      <td>49</td>\n",
       "      <td>male</td>\n",
       "      <td>1</td>\n",
       "      <td>own</td>\n",
       "      <td>little</td>\n",
       "      <td>NaN</td>\n",
       "      <td>2096</td>\n",
       "      <td>12</td>\n",
       "      <td>education</td>\n",
       "      <td>good</td>\n",
       "    </tr>\n",
       "    <tr>\n",
       "      <th>3</th>\n",
       "      <td>45</td>\n",
       "      <td>male</td>\n",
       "      <td>2</td>\n",
       "      <td>free</td>\n",
       "      <td>little</td>\n",
       "      <td>little</td>\n",
       "      <td>7882</td>\n",
       "      <td>42</td>\n",
       "      <td>furniture/equipment</td>\n",
       "      <td>good</td>\n",
       "    </tr>\n",
       "    <tr>\n",
       "      <th>4</th>\n",
       "      <td>53</td>\n",
       "      <td>male</td>\n",
       "      <td>2</td>\n",
       "      <td>free</td>\n",
       "      <td>little</td>\n",
       "      <td>little</td>\n",
       "      <td>4870</td>\n",
       "      <td>24</td>\n",
       "      <td>car</td>\n",
       "      <td>bad</td>\n",
       "    </tr>\n",
       "  </tbody>\n",
       "</table>\n",
       "</div>"
      ],
      "text/plain": [
       "   Age     Sex  Job Housing Saving accounts Checking account  Credit amount  \\\n",
       "0   67    male    2     own             NaN           little           1169   \n",
       "1   22  female    2     own          little         moderate           5951   \n",
       "2   49    male    1     own          little              NaN           2096   \n",
       "3   45    male    2    free          little           little           7882   \n",
       "4   53    male    2    free          little           little           4870   \n",
       "\n",
       "   Duration              Purpose  Risk  \n",
       "0         6             radio/TV  good  \n",
       "1        48             radio/TV   bad  \n",
       "2        12            education  good  \n",
       "3        42  furniture/equipment  good  \n",
       "4        24                  car   bad  "
      ]
     },
     "execution_count": 3,
     "metadata": {},
     "output_type": "execute_result"
    }
   ],
   "source": [
    "df= pd.read_csv('../../data/german_credit_data.csv',index_col=0)\n",
    "df.head()"
   ]
  },
  {
   "cell_type": "code",
   "execution_count": 4,
   "metadata": {
    "execution": {
     "iopub.execute_input": "2021-08-18T13:44:22.121832Z",
     "iopub.status.busy": "2021-08-18T13:44:22.121507Z",
     "iopub.status.idle": "2021-08-18T13:44:22.138058Z",
     "shell.execute_reply": "2021-08-18T13:44:22.136935Z",
     "shell.execute_reply.started": "2021-08-18T13:44:22.121802Z"
    }
   },
   "outputs": [
    {
     "name": "stdout",
     "output_type": "stream",
     "text": [
      "<class 'pandas.core.frame.DataFrame'>\n",
      "Int64Index: 1000 entries, 0 to 999\n",
      "Data columns (total 10 columns):\n",
      " #   Column            Non-Null Count  Dtype \n",
      "---  ------            --------------  ----- \n",
      " 0   Age               1000 non-null   int64 \n",
      " 1   Sex               1000 non-null   object\n",
      " 2   Job               1000 non-null   int64 \n",
      " 3   Housing           1000 non-null   object\n",
      " 4   Saving accounts   817 non-null    object\n",
      " 5   Checking account  606 non-null    object\n",
      " 6   Credit amount     1000 non-null   int64 \n",
      " 7   Duration          1000 non-null   int64 \n",
      " 8   Purpose           1000 non-null   object\n",
      " 9   Risk              1000 non-null   object\n",
      "dtypes: int64(4), object(6)\n",
      "memory usage: 85.9+ KB\n"
     ]
    }
   ],
   "source": [
    "df.info()"
   ]
  },
  {
   "cell_type": "markdown",
   "metadata": {},
   "source": [
    "There are missing values in columns \"Saving accounts\" and \"Checking accounts\"."
   ]
  },
  {
   "cell_type": "code",
   "execution_count": 5,
   "metadata": {
    "execution": {
     "iopub.execute_input": "2021-08-18T13:44:22.148916Z",
     "iopub.status.busy": "2021-08-18T13:44:22.148608Z",
     "iopub.status.idle": "2021-08-18T13:44:22.169308Z",
     "shell.execute_reply": "2021-08-18T13:44:22.16858Z",
     "shell.execute_reply.started": "2021-08-18T13:44:22.148888Z"
    }
   },
   "outputs": [
    {
     "data": {
      "text/markdown": [
       "#### Explore the Values of Text Columns:"
      ],
      "text/plain": [
       "<IPython.core.display.Markdown object>"
      ]
     },
     "metadata": {},
     "output_type": "display_data"
    },
    {
     "data": {
      "text/markdown": [
       "**Sex:** male, female, "
      ],
      "text/plain": [
       "<IPython.core.display.Markdown object>"
      ]
     },
     "metadata": {},
     "output_type": "display_data"
    },
    {
     "data": {
      "text/markdown": [
       "**Housing:** own, free, rent, "
      ],
      "text/plain": [
       "<IPython.core.display.Markdown object>"
      ]
     },
     "metadata": {},
     "output_type": "display_data"
    },
    {
     "data": {
      "text/markdown": [
       "**Saving accounts:** nan, little, quite rich, rich, moderate, "
      ],
      "text/plain": [
       "<IPython.core.display.Markdown object>"
      ]
     },
     "metadata": {},
     "output_type": "display_data"
    },
    {
     "data": {
      "text/markdown": [
       "**Checking account:** little, moderate, nan, rich, "
      ],
      "text/plain": [
       "<IPython.core.display.Markdown object>"
      ]
     },
     "metadata": {},
     "output_type": "display_data"
    },
    {
     "data": {
      "text/markdown": [
       "**Purpose:** radio/TV, education, furniture/equipment, car, business, domestic appliances, repairs, vacation/others, "
      ],
      "text/plain": [
       "<IPython.core.display.Markdown object>"
      ]
     },
     "metadata": {},
     "output_type": "display_data"
    },
    {
     "data": {
      "text/markdown": [
       "**Risk:** good, bad, "
      ],
      "text/plain": [
       "<IPython.core.display.Markdown object>"
      ]
     },
     "metadata": {},
     "output_type": "display_data"
    }
   ],
   "source": [
    "display(Markdown(\"#### Explore the Values of Text Columns:\"))\n",
    "cols = ['Sex', 'Housing', 'Saving accounts', 'Checking account', 'Purpose', 'Risk']\n",
    "for col in cols:\n",
    "    line = \"**\" + col + \":** \"\n",
    "    for v in df[col].unique():\n",
    "        line = line + str(v) + \", \"\n",
    "    display(Markdown(line))"
   ]
  },
  {
   "cell_type": "markdown",
   "metadata": {},
   "source": [
    "From above exploration:\n",
    "- Columns \"Housing\", \"Saving accounts\" and \"Checking accounts\" are **Ordinal** data.    \n",
    "- Columns \"Sex\", \"Purpose\" and \"Risk\" are **Categorical** data.    "
   ]
  },
  {
   "cell_type": "markdown",
   "metadata": {},
   "source": [
    "## 1. Data Pre-processing For Ordinal Columns"
   ]
  },
  {
   "cell_type": "markdown",
   "metadata": {},
   "source": [
    "Known from Content in the dataset page, column \"Job\" is **Ordinal** data that:\n",
    "- 0 - unskilled and non-resident, \n",
    "- 1 - unskilled and resident, \n",
    "- 2 - skilled, \n",
    "- 3 - highly skilled\n",
    "\n",
    "SO, apply the save logic to other **Ordinal** columns \"Housing\", \"Saving accounts\" and \"Checking accounts\".\n",
    "\n",
    "For \"Saving accounts\" and \"Checking accounts\":\n",
    "- 0 - missing value, as UNKNOWN \n",
    "- 1 - little\n",
    "- 2 - moderate\n",
    "- 3 - quite rich\n",
    "- 4 - rich\n",
    "\n",
    "For \"Housing\":\n",
    "- 0 - free\n",
    "- 1 - rent\n",
    "- 2 - own"
   ]
  },
  {
   "cell_type": "code",
   "execution_count": 6,
   "metadata": {
    "execution": {
     "iopub.execute_input": "2021-08-18T13:44:22.218505Z",
     "iopub.status.busy": "2021-08-18T13:44:22.218025Z",
     "iopub.status.idle": "2021-08-18T13:44:22.227266Z",
     "shell.execute_reply": "2021-08-18T13:44:22.226245Z",
     "shell.execute_reply.started": "2021-08-18T13:44:22.218474Z"
    }
   },
   "outputs": [],
   "source": [
    "# label encode account quality and fill NaN with 0\n",
    "def SC_LabelEncoder(text):\n",
    "    if text == \"little\":\n",
    "        return 1\n",
    "    elif text == \"moderate\":\n",
    "        return 2\n",
    "    elif text == \"quite rich\":\n",
    "        return 3\n",
    "    elif text == \"rich\":\n",
    "        return 4\n",
    "    else:\n",
    "        return 0\n",
    "\n",
    "df[\"Saving accounts\"] = df[\"Saving accounts\"].apply(SC_LabelEncoder)\n",
    "df[\"Checking account\"] = df[\"Checking account\"].apply(SC_LabelEncoder)"
   ]
  },
  {
   "cell_type": "code",
   "execution_count": 7,
   "metadata": {
    "execution": {
     "iopub.execute_input": "2021-08-18T13:44:22.244435Z",
     "iopub.status.busy": "2021-08-18T13:44:22.244047Z",
     "iopub.status.idle": "2021-08-18T13:44:22.251684Z",
     "shell.execute_reply": "2021-08-18T13:44:22.250532Z",
     "shell.execute_reply.started": "2021-08-18T13:44:22.2444Z"
    }
   },
   "outputs": [],
   "source": [
    "# label encode account quality and fill NaN with 0\n",
    "def H_LabelEncoder(text):\n",
    "    if text == \"free\":\n",
    "        return 0\n",
    "    elif text == \"rent\":\n",
    "        return 1\n",
    "    elif text == \"own\":\n",
    "        return 2\n",
    "\n",
    "df[\"Housing\"] = df[\"Housing\"].apply(H_LabelEncoder)"
   ]
  },
  {
   "cell_type": "markdown",
   "metadata": {},
   "source": [
    "## 2. EDA"
   ]
  },
  {
   "cell_type": "code",
   "execution_count": 8,
   "metadata": {
    "execution": {
     "iopub.execute_input": "2021-08-18T13:44:22.270499Z",
     "iopub.status.busy": "2021-08-18T13:44:22.270139Z",
     "iopub.status.idle": "2021-08-18T13:44:23.260883Z",
     "shell.execute_reply": "2021-08-18T13:44:23.259825Z",
     "shell.execute_reply.started": "2021-08-18T13:44:22.270465Z"
    }
   },
   "outputs": [
    {
     "data": {
      "image/png": "[encoded data removed]",
      "text/plain": [
       "<Figure size 1080x360 with 2 Axes>"
      ]
     },
     "metadata": {},
     "output_type": "display_data"
    },
    {
     "data": {
      "image/png": "[encoded data removed]",
      "text/plain": [
       "<Figure size 1080x360 with 2 Axes>"
      ]
     },
     "metadata": {},
     "output_type": "display_data"
    }
   ],
   "source": [
    "fig, ax = plt.subplots(1,2,figsize=(15,5))\n",
    "sns.histplot(df, x='Age', bins=30, hue=\"Sex\", ax=ax[0]).set_title(\"Age/Sex Distribution\");\n",
    "sns.boxplot(data=df, x=\"Sex\", y=\"Age\", ax=ax[1]).set_title(\"Age/Sex Distribution\");\n",
    "\n",
    "fig, ax = plt.subplots(1,2,figsize=(15,5))\n",
    "sns.boxplot(data=df, x='Risk', y='Age', ax=ax[0]).set_title(\"Age Distribution with Risk\");\n",
    "sns.countplot(data=df, x=\"Sex\", hue=\"Risk\", ax=ax[1]).set_title(\"Sex Distribution with Risk\");"
   ]
  },
  {
   "cell_type": "markdown",
   "metadata": {},
   "source": [
    "**Analysis:** \n",
    "- Age does not affect the risk rating much. \n",
    "- Males take more count of credit from Bank.\n",
    "- Males have lower percentage of bad rating than woman."
   ]
  },
  {
   "cell_type": "code",
   "execution_count": null,
   "metadata": {
    "execution": {
     "iopub.execute_input": "2021-08-18T13:44:23.262687Z",
     "iopub.status.busy": "2021-08-18T13:44:23.26238Z",
     "iopub.status.idle": "2021-08-18T13:44:24.297719Z",
     "shell.execute_reply": "2021-08-18T13:44:24.296501Z",
     "shell.execute_reply.started": "2021-08-18T13:44:23.262654Z"
    }
   },
   "outputs": [],
   "source": [
    "fig, ax = plt.subplots(1,2,figsize=(15,5))\n",
    "sns.histplot(df, x='Credit amount', bins=30, ax=ax[0]).set_title(\"Credit Amount (in Deutsch Mark) Distribution\");\n",
    "sns.histplot(df, x='Duration', bins=30, ax=ax[1]).set_title(\"Duration (in month) Distribution\");\n",
    "\n",
    "fig, ax = plt.subplots(1,2,figsize=(15,5))\n",
    "sns.boxplot(data=df, x='Risk', y='Credit amount', ax=ax[0]).set_title(\"Credit Amount (in Deutsch Mark) Distribution with Risk\");\n",
    "sns.boxplot(data=df, x='Risk', y='Duration', ax=ax[1]).set_title(\"Duration (in month) Distribution with Risk\");"
   ]
  },
  {
   "cell_type": "markdown",
   "metadata": {},
   "source": [
    "**Analysis:** The higher credit amount and longer duration means higher risk to the bank."
   ]
  },
  {
   "cell_type": "code",
   "execution_count": null,
   "metadata": {
    "execution": {
     "iopub.execute_input": "2021-08-18T13:44:24.301095Z",
     "iopub.status.busy": "2021-08-18T13:44:24.300728Z",
     "iopub.status.idle": "2021-08-18T13:44:24.713691Z",
     "shell.execute_reply": "2021-08-18T13:44:24.712757Z",
     "shell.execute_reply.started": "2021-08-18T13:44:24.301063Z"
    }
   },
   "outputs": [],
   "source": [
    "fig, ax = plt.subplots(1,2, figsize=(15,5))\n",
    "sns.countplot(data=df, x=\"Job\", hue=\"Risk\", ax=ax[0]).set_title(\"Job Distribution with Risk\");\n",
    "sns.countplot(data=df, x=\"Housing\", hue=\"Risk\", ax=ax[1]).set_title(\"Housing Distribution with Risk\");"
   ]
  },
  {
   "cell_type": "markdown",
   "metadata": {},
   "source": [
    "**Analysis:** \n",
    "- Most of people in records have job skill level 2, but the job skill level does not affect the risk rating much.\n",
    "- People who own a house means low risk and good rating to the bank."
   ]
  },
  {
   "cell_type": "code",
   "execution_count": null,
   "metadata": {
    "execution": {
     "iopub.execute_input": "2021-08-18T13:44:24.716035Z",
     "iopub.status.busy": "2021-08-18T13:44:24.715636Z",
     "iopub.status.idle": "2021-08-18T13:44:25.20214Z",
     "shell.execute_reply": "2021-08-18T13:44:25.200928Z",
     "shell.execute_reply.started": "2021-08-18T13:44:24.715993Z"
    }
   },
   "outputs": [],
   "source": [
    "fig, ax = plt.subplots(1,2, figsize=(15,5))\n",
    "sns.countplot(data=df, x=\"Saving accounts\", hue=\"Risk\", ax=ax[0]).set_title(\"Saving Account Quality Distribution with Risk\");\n",
    "sns.countplot(data=df, x=\"Checking account\", hue=\"Risk\", ax=ax[1]).set_title(\"Checking Account Quality Distribution with Risk\");"
   ]
  },
  {
   "cell_type": "markdown",
   "metadata": {},
   "source": [
    "**Analysis** (since 0 means unknown, only discuss quality level 1 to 4):\n",
    "- The person with more saving means less risk to the bank, but most people in the records have little saving (not rich!)\n",
    "- About half of people who have little checking account are considered as bad rating in risk.\n",
    "- About 20% of people who have moderate checking account are considered as bad rating in risk."
   ]
  },
  {
   "cell_type": "code",
   "execution_count": null,
   "metadata": {
    "execution": {
     "iopub.execute_input": "2021-08-18T13:44:25.203769Z",
     "iopub.status.busy": "2021-08-18T13:44:25.203426Z",
     "iopub.status.idle": "2021-08-18T13:44:42.064014Z",
     "shell.execute_reply": "2021-08-18T13:44:42.062881Z",
     "shell.execute_reply.started": "2021-08-18T13:44:25.203738Z"
    }
   },
   "outputs": [],
   "source": [
    "sns.pairplot(df[['Age', 'Job', 'Housing', 'Saving accounts', \n",
    "                 'Checking account', 'Credit amount', 'Duration', \"Risk\"]], hue=\"Risk\");"
   ]
  },
  {
   "cell_type": "code",
   "execution_count": null,
   "metadata": {
    "execution": {
     "iopub.execute_input": "2021-08-18T14:56:09.47739Z",
     "iopub.status.busy": "2021-08-18T14:56:09.476772Z",
     "iopub.status.idle": "2021-08-18T14:56:09.961923Z",
     "shell.execute_reply": "2021-08-18T14:56:09.960898Z",
     "shell.execute_reply.started": "2021-08-18T14:56:09.477336Z"
    }
   },
   "outputs": [],
   "source": [
    "corr = df[['Age', 'Job', 'Housing', 'Saving accounts', 'Checking account', 'Credit amount', 'Duration']].corr()\n",
    "sns.set(rc={'figure.figsize':(11,7)})\n",
    "sns.heatmap(corr,linewidths=.5, annot=True, cmap=\"YlGnBu\",mask=np.triu(np.ones_like(corr, dtype=np.bool)))\\\n",
    "    .set_title(\"Pearson Correlations Heatmap\");"
   ]
  },
  {
   "cell_type": "markdown",
   "metadata": {},
   "source": [
    "**Analysis:** The Credit Amount is HIGHLY and POSITIVELY related to the Duration."
   ]
  },
  {
   "cell_type": "markdown",
   "metadata": {},
   "source": [
    "## 3. Data Pre-processing For Discrete Categorical Columns"
   ]
  },
  {
   "cell_type": "code",
   "execution_count": 9,
   "metadata": {
    "execution": {
     "iopub.execute_input": "2021-08-18T13:45:46.689538Z",
     "iopub.status.busy": "2021-08-18T13:45:46.689159Z",
     "iopub.status.idle": "2021-08-18T13:45:46.708923Z",
     "shell.execute_reply": "2021-08-18T13:45:46.707854Z",
     "shell.execute_reply.started": "2021-08-18T13:45:46.689502Z"
    }
   },
   "outputs": [
    {
     "data": {
      "text/html": [
       "<div>\n",
       "<style scoped>\n",
       "    .dataframe tbody tr th:only-of-type {\n",
       "        vertical-align: middle;\n",
       "    }\n",
       "\n",
       "    .dataframe tbody tr th {\n",
       "        vertical-align: top;\n",
       "    }\n",
       "\n",
       "    .dataframe thead th {\n",
       "        text-align: right;\n",
       "    }\n",
       "</style>\n",
       "<table border=\"1\" class=\"dataframe\">\n",
       "  <thead>\n",
       "    <tr style=\"text-align: right;\">\n",
       "      <th></th>\n",
       "      <th>Age</th>\n",
       "      <th>Sex</th>\n",
       "      <th>Job</th>\n",
       "      <th>Housing</th>\n",
       "      <th>Saving accounts</th>\n",
       "      <th>Checking account</th>\n",
       "      <th>Credit amount</th>\n",
       "      <th>Duration</th>\n",
       "      <th>Purpose</th>\n",
       "      <th>Risk</th>\n",
       "    </tr>\n",
       "  </thead>\n",
       "  <tbody>\n",
       "    <tr>\n",
       "      <th>0</th>\n",
       "      <td>67</td>\n",
       "      <td>1</td>\n",
       "      <td>2</td>\n",
       "      <td>2</td>\n",
       "      <td>0</td>\n",
       "      <td>1</td>\n",
       "      <td>1169</td>\n",
       "      <td>6</td>\n",
       "      <td>5</td>\n",
       "      <td>1</td>\n",
       "    </tr>\n",
       "    <tr>\n",
       "      <th>1</th>\n",
       "      <td>22</td>\n",
       "      <td>0</td>\n",
       "      <td>2</td>\n",
       "      <td>2</td>\n",
       "      <td>1</td>\n",
       "      <td>2</td>\n",
       "      <td>5951</td>\n",
       "      <td>48</td>\n",
       "      <td>5</td>\n",
       "      <td>0</td>\n",
       "    </tr>\n",
       "    <tr>\n",
       "      <th>2</th>\n",
       "      <td>49</td>\n",
       "      <td>1</td>\n",
       "      <td>1</td>\n",
       "      <td>2</td>\n",
       "      <td>1</td>\n",
       "      <td>0</td>\n",
       "      <td>2096</td>\n",
       "      <td>12</td>\n",
       "      <td>3</td>\n",
       "      <td>1</td>\n",
       "    </tr>\n",
       "    <tr>\n",
       "      <th>3</th>\n",
       "      <td>45</td>\n",
       "      <td>1</td>\n",
       "      <td>2</td>\n",
       "      <td>0</td>\n",
       "      <td>1</td>\n",
       "      <td>1</td>\n",
       "      <td>7882</td>\n",
       "      <td>42</td>\n",
       "      <td>4</td>\n",
       "      <td>1</td>\n",
       "    </tr>\n",
       "    <tr>\n",
       "      <th>4</th>\n",
       "      <td>53</td>\n",
       "      <td>1</td>\n",
       "      <td>2</td>\n",
       "      <td>0</td>\n",
       "      <td>1</td>\n",
       "      <td>1</td>\n",
       "      <td>4870</td>\n",
       "      <td>24</td>\n",
       "      <td>1</td>\n",
       "      <td>0</td>\n",
       "    </tr>\n",
       "  </tbody>\n",
       "</table>\n",
       "</div>"
      ],
      "text/plain": [
       "   Age  Sex  Job  Housing  Saving accounts  Checking account  Credit amount  \\\n",
       "0   67    1    2        2                0                 1           1169   \n",
       "1   22    0    2        2                1                 2           5951   \n",
       "2   49    1    1        2                1                 0           2096   \n",
       "3   45    1    2        0                1                 1           7882   \n",
       "4   53    1    2        0                1                 1           4870   \n",
       "\n",
       "   Duration  Purpose  Risk  \n",
       "0         6        5     1  \n",
       "1        48        5     0  \n",
       "2        12        3     1  \n",
       "3        42        4     1  \n",
       "4        24        1     0  "
      ]
     },
     "execution_count": 9,
     "metadata": {},
     "output_type": "execute_result"
    }
   ],
   "source": [
    "# use LabelEncoder() to encode other categorical columns:\n",
    "for col in [\"Sex\", \"Purpose\", \"Risk\"]:\n",
    "    le = LabelEncoder()\n",
    "    le.fit(df[col])\n",
    "    df[col] = le.transform(df[col])\n",
    "df.head()"
   ]
  },
  {
   "cell_type": "markdown",
   "metadata": {},
   "source": [
    "## 4. Clustering"
   ]
  },
  {
   "cell_type": "code",
   "execution_count": null,
   "metadata": {
    "execution": {
     "iopub.execute_input": "2021-08-18T14:45:01.251128Z",
     "iopub.status.busy": "2021-08-18T14:45:01.250713Z",
     "iopub.status.idle": "2021-08-18T14:45:01.258153Z",
     "shell.execute_reply": "2021-08-18T14:45:01.256947Z",
     "shell.execute_reply.started": "2021-08-18T14:45:01.251082Z"
    }
   },
   "outputs": [],
   "source": [
    "cdf = df.drop(\"Risk\", axis=1)"
   ]
  },
  {
   "cell_type": "markdown",
   "metadata": {},
   "source": [
    "### 4.1 Find the Best Number of Clusters for K-Means and Analysis"
   ]
  },
  {
   "cell_type": "markdown",
   "metadata": {},
   "source": [
    "#### Start with applying Elbow Method."
   ]
  },
  {
   "cell_type": "code",
   "execution_count": null,
   "metadata": {
    "execution": {
     "iopub.execute_input": "2021-08-18T14:26:13.783472Z",
     "iopub.status.busy": "2021-08-18T14:26:13.783046Z",
     "iopub.status.idle": "2021-08-18T14:26:44.570238Z",
     "shell.execute_reply": "2021-08-18T14:26:44.569211Z",
     "shell.execute_reply.started": "2021-08-18T14:26:13.783439Z"
    }
   },
   "outputs": [],
   "source": [
    "inertias = []\n",
    "\n",
    "for i in range(2,16):\n",
    "    kmeans = KMeans(n_clusters=i, random_state=0).fit(cdf)\n",
    "    inertias.append(kmeans.inertia_)\n",
    "\n",
    "plt.figure(figsize=(10,5))\n",
    "plt.title('Inertias v.s. N_Clusters')\n",
    "plt.plot(np.arange(2,16),inertias, marker='o', lw=2);"
   ]
  },
  {
   "cell_type": "markdown",
   "metadata": {},
   "source": [
    "**Analysis:** The \"elbow\" in above chart is indicated  at 4. The number of clusters chosen should therefore be 4. \n",
    "#### With 4 Clusters:"
   ]
  },
  {
   "cell_type": "code",
   "execution_count": null,
   "metadata": {
    "execution": {
     "iopub.execute_input": "2021-08-18T14:33:30.184501Z",
     "iopub.status.busy": "2021-08-18T14:33:30.184164Z",
     "iopub.status.idle": "2021-08-18T14:33:30.27256Z",
     "shell.execute_reply": "2021-08-18T14:33:30.271542Z",
     "shell.execute_reply.started": "2021-08-18T14:33:30.184473Z"
    }
   },
   "outputs": [],
   "source": [
    "km = KMeans(n_clusters=4, random_state=0)\n",
    "clusters = km.fit_predict(cdf)"
   ]
  },
  {
   "cell_type": "code",
   "execution_count": null,
   "metadata": {
    "execution": {
     "iopub.execute_input": "2021-08-18T14:45:11.952447Z",
     "iopub.status.busy": "2021-08-18T14:45:11.951975Z",
     "iopub.status.idle": "2021-08-18T14:45:31.195192Z",
     "shell.execute_reply": "2021-08-18T14:45:31.19432Z",
     "shell.execute_reply.started": "2021-08-18T14:45:11.952418Z"
    }
   },
   "outputs": [],
   "source": [
    "df_clustered = cdf[['Age', 'Job', 'Housing', 'Saving accounts', 'Checking account', 'Credit amount', 'Duration']]\n",
    "df_clustered[\"Cluster\"] = clusters\n",
    "sns.pairplot(df_clustered[['Age', 'Job', 'Housing', 'Saving accounts', \n",
    "                 'Checking account', 'Credit amount', 'Duration', \"Cluster\"]], hue=\"Cluster\");"
   ]
  },
  {
   "cell_type": "markdown",
   "metadata": {},
   "source": [
    "**Analysis:** Compare the matrix in EDA, this 4-clustered matrix plot show a clearer grouping boundaries than the given Good/Bad Risk rating."
   ]
  },
  {
   "cell_type": "markdown",
   "metadata": {},
   "source": [
    "### 4.2 Cluster the data to Two Group and Compare with Given Good/Bad Risk Rating\n",
    "Use K-means to cluster people in the records into 2 group and check if the result closed to given two risk groups."
   ]
  },
  {
   "cell_type": "code",
   "execution_count": null,
   "metadata": {
    "execution": {
     "iopub.execute_input": "2021-08-18T14:10:44.566603Z",
     "iopub.status.busy": "2021-08-18T14:10:44.566163Z",
     "iopub.status.idle": "2021-08-18T14:10:44.630167Z",
     "shell.execute_reply": "2021-08-18T14:10:44.629039Z",
     "shell.execute_reply.started": "2021-08-18T14:10:44.566565Z"
    }
   },
   "outputs": [],
   "source": [
    "km = KMeans(n_clusters=2, random_state=0)\n",
    "clusters = km.fit_predict(cdf)"
   ]
  },
  {
   "cell_type": "code",
   "execution_count": null,
   "metadata": {
    "execution": {
     "iopub.execute_input": "2021-08-18T14:18:55.380131Z",
     "iopub.status.busy": "2021-08-18T14:18:55.379742Z",
     "iopub.status.idle": "2021-08-18T14:18:55.391713Z",
     "shell.execute_reply": "2021-08-18T14:18:55.390323Z",
     "shell.execute_reply.started": "2021-08-18T14:18:55.380072Z"
    }
   },
   "outputs": [],
   "source": [
    "display(Markdown(\"In encoded Risk column, good = 1 and bad = 0, but the predicted clusters 0 and 1 does not have the same meaning. Thus, whether the predicted clusters is equal or opposite to the given risk, the higher TRUE percentage will be the accuracy rate.\"))\n",
    "acc = max((sum(clusters == df[\"Risk\"]) / len(df)), (sum(clusters != df[\"Risk\"]) / len(df)))\n",
    "display(Markdown(\"The accuracy rate of 2-Means clustering is \" + str(acc)))"
   ]
  },
  {
   "cell_type": "markdown",
   "metadata": {},
   "source": [
    "## 5. Predicting the Risk\n",
    "**Based on given Risk column**"
   ]
  },
  {
   "cell_type": "code",
   "execution_count": null,
   "metadata": {
    "execution": {
     "iopub.execute_input": "2021-08-18T15:20:27.036729Z",
     "iopub.status.busy": "2021-08-18T15:20:27.03628Z",
     "iopub.status.idle": "2021-08-18T15:20:27.04896Z",
     "shell.execute_reply": "2021-08-18T15:20:27.047782Z",
     "shell.execute_reply.started": "2021-08-18T15:20:27.03669Z"
    }
   },
   "outputs": [],
   "source": [
    "X, y = df.drop(\"Risk\", axis=1), df[\"Risk\"]\n",
    "X_train, X_test, y_train, y_test = model_selection.train_test_split(X, y, test_size=0.20, random_state=0)"
   ]
  },
  {
   "cell_type": "markdown",
   "metadata": {},
   "source": [
    "### 5.1 K-Nearest Neighbors Classification"
   ]
  },
  {
   "cell_type": "code",
   "execution_count": null,
   "metadata": {
    "execution": {
     "iopub.execute_input": "2021-08-18T16:11:19.956344Z",
     "iopub.status.busy": "2021-08-18T16:11:19.955825Z",
     "iopub.status.idle": "2021-08-18T16:11:21.459373Z",
     "shell.execute_reply": "2021-08-18T16:11:21.458693Z",
     "shell.execute_reply.started": "2021-08-18T16:11:19.956311Z"
    }
   },
   "outputs": [],
   "source": [
    "max_score = 0\n",
    "max_k = 0\n",
    "for k in range(1, 100):\n",
    "    neigh = KNeighborsClassifier(n_neighbors=k)\n",
    "    neigh.fit(X_train,y_train)\n",
    "    score = f1_score(y_test, neigh.predict(X_test))\n",
    "    if score > max_score:\n",
    "        max_k = k\n",
    "        max_score = score\n",
    "\n",
    "display(Markdown(\"If use K-Nearest Neighbors Classification, the k should be \" + str(max_k) + \" to get best prediction, and then the  mean accuracy is \" + str(max_score)))"
   ]
  },
  {
   "cell_type": "markdown",
   "metadata": {},
   "source": [
    "### 5.2 Modeling by Other Classifiers\n",
    "Since KNN algorithm cost lots of memory and time for prediction, this section want to try some more classifiers.\n",
    "#### Model Selection with Cross Validate"
   ]
  },
  {
   "cell_type": "code",
   "execution_count": null,
   "metadata": {
    "execution": {
     "iopub.execute_input": "2021-08-18T16:11:49.241376Z",
     "iopub.status.busy": "2021-08-18T16:11:49.240801Z",
     "iopub.status.idle": "2021-08-18T16:11:49.247174Z",
     "shell.execute_reply": "2021-08-18T16:11:49.245848Z",
     "shell.execute_reply.started": "2021-08-18T16:11:49.241333Z"
    }
   },
   "outputs": [],
   "source": [
    "# define models\n",
    "Models = {\n",
    "    \"SVC\": SVC(),\n",
    "    \"DecisionTree\": DecisionTreeClassifier(),\n",
    "    \"RandomForest\": RandomForestClassifier(),\n",
    "    \"GaussianNaiveBayes\": GaussianNB()\n",
    "}"
   ]
  },
  {
   "cell_type": "code",
   "execution_count": null,
   "metadata": {
    "execution": {
     "iopub.execute_input": "2021-08-18T16:11:51.369812Z",
     "iopub.status.busy": "2021-08-18T16:11:51.36945Z",
     "iopub.status.idle": "2021-08-18T16:11:52.312614Z",
     "shell.execute_reply": "2021-08-18T16:11:52.311695Z",
     "shell.execute_reply.started": "2021-08-18T16:11:51.369781Z"
    }
   },
   "outputs": [],
   "source": [
    "cv_results = pd.DataFrame(columns=['model', 'train_score', 'test_score'])\n",
    "for key in Models.keys():\n",
    "    cv_res = model_selection.cross_validate(Models[key], X_train, y_train, \n",
    "                                             return_train_score=True,\n",
    "                                             scoring=\"f1\",\n",
    "                                             cv=5, n_jobs=-1)\n",
    "    res = {\n",
    "        'model': key, \n",
    "        'train_score': cv_res[\"train_score\"].mean(), \n",
    "        'test_score': cv_res[\"test_score\"].mean(),\n",
    "        'fit_time': cv_res[\"fit_time\"].mean(),\n",
    "        'score_time': cv_res[\"score_time\"].mean(),\n",
    "        }\n",
    "    cv_results = cv_results.append(res, ignore_index=True)\n",
    "    print(\"CV for model:\", key, \"done.\")\n",
    "cv_results"
   ]
  },
  {
   "cell_type": "markdown",
   "metadata": {},
   "source": [
    "#### Evaluate Model on Testing Set\n",
    "- Random Forest Classifier gives a good result on both train_score and test_score.\n",
    "- SVC and Gaussian Naive Bayes show the less over-fiting.\n",
    "- Gaussian Naive Bayes Classifier has least runtime.\n",
    "- Random Forest Classifier would tell feature importances, while SVC only return coef_ in the case of a linear kernel, which will be too slow.\n",
    "\n",
    "**Taking all this into consideration, Random Forest Classifier is chose to evaluate on testing set:**"
   ]
  },
  {
   "cell_type": "code",
   "execution_count": null,
   "metadata": {
    "execution": {
     "iopub.execute_input": "2021-08-18T16:11:59.654524Z",
     "iopub.status.busy": "2021-08-18T16:11:59.654061Z",
     "iopub.status.idle": "2021-08-18T16:11:59.947938Z",
     "shell.execute_reply": "2021-08-18T16:11:59.946698Z",
     "shell.execute_reply.started": "2021-08-18T16:11:59.65449Z"
    }
   },
   "outputs": [],
   "source": [
    "rf = Models[\"RandomForest\"].fit(X_train, y_train)\n",
    "print('f1_score:', f1_score(y_test, rf.predict(X_test)))"
   ]
  },
  {
   "cell_type": "markdown",
   "metadata": {},
   "source": [
    "#### Feature Importance Discussion"
   ]
  },
  {
   "cell_type": "code",
   "execution_count": null,
   "metadata": {
    "execution": {
     "iopub.execute_input": "2021-08-18T16:19:57.612409Z",
     "iopub.status.busy": "2021-08-18T16:19:57.611856Z",
     "iopub.status.idle": "2021-08-18T16:19:57.640668Z",
     "shell.execute_reply": "2021-08-18T16:19:57.639481Z",
     "shell.execute_reply.started": "2021-08-18T16:19:57.612361Z"
    }
   },
   "outputs": [],
   "source": [
    "feature_importance = pd.DataFrame()\n",
    "feature_importance[\"feature\"] = X_train.columns\n",
    "feature_importance[\"importance\"] = rf.feature_importances_\n",
    "feature_importance = feature_importance.sort_values(\"importance\", ascending=False)\n",
    "feature_importance"
   ]
  },
  {
   "cell_type": "markdown",
   "metadata": {},
   "source": [
    "## Fairness"
   ]
  },
  {
   "cell_type": "code",
   "execution_count": 10,
   "metadata": {},
   "outputs": [],
   "source": [
    "# This DataFrame is created to stock differents models and fair metrics that we produce in this notebook\n",
    "algo_metrics = pd.DataFrame(columns=['model', 'fair_metrics', 'prediction', 'probs'])\n",
    "\n",
    "def add_to_df_algo_metrics(algo_metrics, model, fair_metrics, preds, probs, name):\n",
    "    return algo_metrics.append(pd.DataFrame(data=[[model, fair_metrics, preds, probs]], columns=['model', 'fair_metrics', 'prediction', 'probs'], index=[name]))"
   ]
  },
  {
   "cell_type": "code",
   "execution_count": 11,
   "metadata": {},
   "outputs": [],
   "source": [
    "def fair_metrics(dataset, pred, pred_is_dataset=False):\n",
    "    if pred_is_dataset:\n",
    "        dataset_pred = pred\n",
    "    else:\n",
    "        dataset_pred = dataset.copy()\n",
    "        dataset_pred.labels = pred\n",
    "    \n",
    "    cols = ['statistical_parity_difference', 'equal_opportunity_difference', 'average_abs_odds_difference',  'disparate_impact', 'theil_index']\n",
    "    obj_fairness = [[0,0,0,1,0]]\n",
    "    \n",
    "    fair_metrics = pd.DataFrame(data=obj_fairness, index=['objective'], columns=cols)\n",
    "    \n",
    "    for attr in dataset_pred.protected_attribute_names:\n",
    "        idx = dataset_pred.protected_attribute_names.index(attr)\n",
    "        privileged_groups =  [{attr:dataset_pred.privileged_protected_attributes[idx][0]}] \n",
    "        unprivileged_groups = [{attr:dataset_pred.unprivileged_protected_attributes[idx][0]}] \n",
    "        \n",
    "        classified_metric = ClassificationMetric(dataset, \n",
    "                                                     dataset_pred,\n",
    "                                                     unprivileged_groups=unprivileged_groups,\n",
    "                                                     privileged_groups=privileged_groups)\n",
    "\n",
    "        metric_pred = BinaryLabelDatasetMetric(dataset_pred,\n",
    "                                                     unprivileged_groups=unprivileged_groups,\n",
    "                                                     privileged_groups=privileged_groups)\n",
    "\n",
    "        acc = classified_metric.accuracy()\n",
    "\n",
    "        row = pd.DataFrame([[metric_pred.mean_difference(),\n",
    "                                classified_metric.equal_opportunity_difference(),\n",
    "                                classified_metric.average_abs_odds_difference(),\n",
    "                                metric_pred.disparate_impact(),\n",
    "                                classified_metric.theil_index()]],\n",
    "                           columns  = cols,\n",
    "                           index = [attr]\n",
    "                          )\n",
    "        fair_metrics = fair_metrics.append(row)    \n",
    "    \n",
    "    fair_metrics = fair_metrics.replace([-np.inf, np.inf], 2)\n",
    "        \n",
    "    return fair_metrics\n",
    "\n",
    "def plot_fair_metrics(fair_metrics):\n",
    "    fig, ax = plt.subplots(figsize=(20,4), ncols=5, nrows=1)\n",
    "\n",
    "    plt.subplots_adjust(\n",
    "        left    =  0.125, \n",
    "        bottom  =  0.1, \n",
    "        right   =  0.9, \n",
    "        top     =  0.9, \n",
    "        wspace  =  .5, \n",
    "        hspace  =  1.1\n",
    "    )\n",
    "\n",
    "    y_title_margin = 1.2\n",
    "\n",
    "    plt.suptitle(\"Fairness metrics\", y = 1.09, fontsize=20)\n",
    "    sns.set(style=\"dark\")\n",
    "\n",
    "    cols = fair_metrics.columns.values\n",
    "    obj = fair_metrics.loc['objective']\n",
    "    size_rect = [0.2,0.2,0.2,0.4,0.25]\n",
    "    rect = [-0.1,-0.1,-0.1,0.8,0]\n",
    "    bottom = [-1,-1,-1,0,0]\n",
    "    top = [1,1,1,2,1]\n",
    "    bound = [[-0.1,0.1],[-0.1,0.1],[-0.1,0.1],[0.8,1.2],[0,0.25]]\n",
    "\n",
    "    display(Markdown(\"### Check bias metrics :\"))\n",
    "    display(Markdown(\"A model can be considered bias if just one of these five metrics show that this model is biased.\"))\n",
    "    for attr in fair_metrics.index[1:len(fair_metrics)].values:\n",
    "        display(Markdown(\"#### For the %s attribute :\"%attr))\n",
    "        check = [bound[i][0] < fair_metrics.loc[attr][i] < bound[i][1] for i in range(0,5)]\n",
    "        display(Markdown(\"With default thresholds, bias against unprivileged group detected in **%d** out of 5 metrics\"%(5 - sum(check))))\n",
    "\n",
    "    for i in range(0,5):\n",
    "        plt.subplot(1, 5, i+1)\n",
    "        ax = sns.barplot(x=fair_metrics.index[1:len(fair_metrics)], y=fair_metrics.iloc[1:len(fair_metrics)][cols[i]])\n",
    "        \n",
    "        for j in range(0,len(fair_metrics)-1):\n",
    "            a, val = ax.patches[j], fair_metrics.iloc[j+1][cols[i]]\n",
    "            marg = -0.2 if val < 0 else 0.1\n",
    "            ax.text(a.get_x()+a.get_width()/5, a.get_y()+a.get_height()+marg, round(val, 3), fontsize=15,color='black')\n",
    "\n",
    "        plt.ylim(bottom[i], top[i])\n",
    "        plt.setp(ax.patches, linewidth=0)\n",
    "        ax.add_patch(patches.Rectangle((-5,rect[i]), 10, size_rect[i], alpha=0.3, facecolor=\"green\", linewidth=1, linestyle='solid'))\n",
    "        plt.axhline(obj[i], color='black', alpha=0.3)\n",
    "        plt.title(cols[i])\n",
    "        ax.set_ylabel('')    \n",
    "        ax.set_xlabel('')"
   ]
  },
  {
   "cell_type": "code",
   "execution_count": 12,
   "metadata": {},
   "outputs": [],
   "source": [
    "def get_fair_metrics_and_plot(data, model, plot=False, model_aif=False):\n",
    "    pred = model.predict(data).labels if model_aif else model.predict(data.features)\n",
    "    # fair_metrics function available in the metrics.py file\n",
    "    fair = fair_metrics(data, pred)\n",
    "\n",
    "    if plot:\n",
    "        # plot_fair_metrics function available in the visualisations.py file\n",
    "        # The visualisation of this function is inspired by the dashboard on the demo of IBM aif360 \n",
    "        plot_fair_metrics(fair)\n",
    "        display(fair)\n",
    "    \n",
    "    return fair"
   ]
  },
  {
   "cell_type": "code",
   "execution_count": 13,
   "metadata": {},
   "outputs": [
    {
     "data": {
      "text/html": [
       "<div>\n",
       "<style scoped>\n",
       "    .dataframe tbody tr th:only-of-type {\n",
       "        vertical-align: middle;\n",
       "    }\n",
       "\n",
       "    .dataframe tbody tr th {\n",
       "        vertical-align: top;\n",
       "    }\n",
       "\n",
       "    .dataframe thead th {\n",
       "        text-align: right;\n",
       "    }\n",
       "</style>\n",
       "<table border=\"1\" class=\"dataframe\">\n",
       "  <thead>\n",
       "    <tr style=\"text-align: right;\">\n",
       "      <th></th>\n",
       "      <th>Age</th>\n",
       "      <th>Sex</th>\n",
       "      <th>Job</th>\n",
       "      <th>Housing</th>\n",
       "      <th>Saving accounts</th>\n",
       "      <th>Checking account</th>\n",
       "      <th>Credit amount</th>\n",
       "      <th>Duration</th>\n",
       "      <th>Purpose</th>\n",
       "      <th>Risk</th>\n",
       "    </tr>\n",
       "  </thead>\n",
       "  <tbody>\n",
       "    <tr>\n",
       "      <th>0</th>\n",
       "      <td>67</td>\n",
       "      <td>1</td>\n",
       "      <td>2</td>\n",
       "      <td>2</td>\n",
       "      <td>0</td>\n",
       "      <td>1</td>\n",
       "      <td>1169</td>\n",
       "      <td>6</td>\n",
       "      <td>5</td>\n",
       "      <td>1</td>\n",
       "    </tr>\n",
       "    <tr>\n",
       "      <th>1</th>\n",
       "      <td>22</td>\n",
       "      <td>0</td>\n",
       "      <td>2</td>\n",
       "      <td>2</td>\n",
       "      <td>1</td>\n",
       "      <td>2</td>\n",
       "      <td>5951</td>\n",
       "      <td>48</td>\n",
       "      <td>5</td>\n",
       "      <td>0</td>\n",
       "    </tr>\n",
       "    <tr>\n",
       "      <th>2</th>\n",
       "      <td>49</td>\n",
       "      <td>1</td>\n",
       "      <td>1</td>\n",
       "      <td>2</td>\n",
       "      <td>1</td>\n",
       "      <td>0</td>\n",
       "      <td>2096</td>\n",
       "      <td>12</td>\n",
       "      <td>3</td>\n",
       "      <td>1</td>\n",
       "    </tr>\n",
       "    <tr>\n",
       "      <th>3</th>\n",
       "      <td>45</td>\n",
       "      <td>1</td>\n",
       "      <td>2</td>\n",
       "      <td>0</td>\n",
       "      <td>1</td>\n",
       "      <td>1</td>\n",
       "      <td>7882</td>\n",
       "      <td>42</td>\n",
       "      <td>4</td>\n",
       "      <td>1</td>\n",
       "    </tr>\n",
       "    <tr>\n",
       "      <th>4</th>\n",
       "      <td>53</td>\n",
       "      <td>1</td>\n",
       "      <td>2</td>\n",
       "      <td>0</td>\n",
       "      <td>1</td>\n",
       "      <td>1</td>\n",
       "      <td>4870</td>\n",
       "      <td>24</td>\n",
       "      <td>1</td>\n",
       "      <td>0</td>\n",
       "    </tr>\n",
       "    <tr>\n",
       "      <th>...</th>\n",
       "      <td>...</td>\n",
       "      <td>...</td>\n",
       "      <td>...</td>\n",
       "      <td>...</td>\n",
       "      <td>...</td>\n",
       "      <td>...</td>\n",
       "      <td>...</td>\n",
       "      <td>...</td>\n",
       "      <td>...</td>\n",
       "      <td>...</td>\n",
       "    </tr>\n",
       "    <tr>\n",
       "      <th>995</th>\n",
       "      <td>31</td>\n",
       "      <td>0</td>\n",
       "      <td>1</td>\n",
       "      <td>2</td>\n",
       "      <td>1</td>\n",
       "      <td>0</td>\n",
       "      <td>1736</td>\n",
       "      <td>12</td>\n",
       "      <td>4</td>\n",
       "      <td>1</td>\n",
       "    </tr>\n",
       "    <tr>\n",
       "      <th>996</th>\n",
       "      <td>40</td>\n",
       "      <td>1</td>\n",
       "      <td>3</td>\n",
       "      <td>2</td>\n",
       "      <td>1</td>\n",
       "      <td>1</td>\n",
       "      <td>3857</td>\n",
       "      <td>30</td>\n",
       "      <td>1</td>\n",
       "      <td>1</td>\n",
       "    </tr>\n",
       "    <tr>\n",
       "      <th>997</th>\n",
       "      <td>38</td>\n",
       "      <td>1</td>\n",
       "      <td>2</td>\n",
       "      <td>2</td>\n",
       "      <td>1</td>\n",
       "      <td>0</td>\n",
       "      <td>804</td>\n",
       "      <td>12</td>\n",
       "      <td>5</td>\n",
       "      <td>1</td>\n",
       "    </tr>\n",
       "    <tr>\n",
       "      <th>998</th>\n",
       "      <td>23</td>\n",
       "      <td>1</td>\n",
       "      <td>2</td>\n",
       "      <td>0</td>\n",
       "      <td>1</td>\n",
       "      <td>1</td>\n",
       "      <td>1845</td>\n",
       "      <td>45</td>\n",
       "      <td>5</td>\n",
       "      <td>0</td>\n",
       "    </tr>\n",
       "    <tr>\n",
       "      <th>999</th>\n",
       "      <td>27</td>\n",
       "      <td>1</td>\n",
       "      <td>2</td>\n",
       "      <td>2</td>\n",
       "      <td>2</td>\n",
       "      <td>2</td>\n",
       "      <td>4576</td>\n",
       "      <td>45</td>\n",
       "      <td>1</td>\n",
       "      <td>1</td>\n",
       "    </tr>\n",
       "  </tbody>\n",
       "</table>\n",
       "<p>1000 rows × 10 columns</p>\n",
       "</div>"
      ],
      "text/plain": [
       "     Age  Sex  Job  Housing  Saving accounts  Checking account  Credit amount  \\\n",
       "0     67    1    2        2                0                 1           1169   \n",
       "1     22    0    2        2                1                 2           5951   \n",
       "2     49    1    1        2                1                 0           2096   \n",
       "3     45    1    2        0                1                 1           7882   \n",
       "4     53    1    2        0                1                 1           4870   \n",
       "..   ...  ...  ...      ...              ...               ...            ...   \n",
       "995   31    0    1        2                1                 0           1736   \n",
       "996   40    1    3        2                1                 1           3857   \n",
       "997   38    1    2        2                1                 0            804   \n",
       "998   23    1    2        0                1                 1           1845   \n",
       "999   27    1    2        2                2                 2           4576   \n",
       "\n",
       "     Duration  Purpose  Risk  \n",
       "0           6        5     1  \n",
       "1          48        5     0  \n",
       "2          12        3     1  \n",
       "3          42        4     1  \n",
       "4          24        1     0  \n",
       "..        ...      ...   ...  \n",
       "995        12        4     1  \n",
       "996        30        1     1  \n",
       "997        12        5     1  \n",
       "998        45        5     0  \n",
       "999        45        1     1  \n",
       "\n",
       "[1000 rows x 10 columns]"
      ]
     },
     "execution_count": 13,
     "metadata": {},
     "output_type": "execute_result"
    }
   ],
   "source": [
    "df"
   ]
  },
  {
   "cell_type": "code",
   "execution_count": 15,
   "metadata": {},
   "outputs": [],
   "source": [
    "privileged_groups = [{'Sex': 1}]\n",
    "unprivileged_groups = [{'Sex': 0}]\n",
    "dataset_orig = StandardDataset(df,\n",
    "                                  label_name='Risk',\n",
    "                                  protected_attribute_names=['Sex'],\n",
    "                                  favorable_classes=[1],\n",
    "                                  privileged_classes=[[1]])\n"
   ]
  },
  {
   "cell_type": "code",
   "execution_count": 16,
   "metadata": {},
   "outputs": [
    {
     "data": {
      "text/markdown": [
       "#### Original training dataset"
      ],
      "text/plain": [
       "<IPython.core.display.Markdown object>"
      ]
     },
     "metadata": {},
     "output_type": "display_data"
    },
    {
     "name": "stdout",
     "output_type": "stream",
     "text": [
      "Difference in mean outcomes between unprivileged and privileged groups = -0.074801\n"
     ]
    }
   ],
   "source": [
    "metric_orig_train = BinaryLabelDatasetMetric(dataset_orig, \n",
    "                                             unprivileged_groups=unprivileged_groups,\n",
    "                                             privileged_groups=privileged_groups)\n",
    "display(Markdown(\"#### Original training dataset\"))\n",
    "print(\"Difference in mean outcomes between unprivileged and privileged groups = %f\" % metric_orig_train.mean_difference())"
   ]
  },
  {
   "cell_type": "code",
   "execution_count": 17,
   "metadata": {},
   "outputs": [],
   "source": [
    "import ipynbname\n",
    "nb_fname = ipynbname.name()\n",
    "nb_path = ipynbname.path()\n",
    "\n",
    "from sklearn.linear_model import LogisticRegression\n",
    "from sklearn.neighbors import KNeighborsClassifier\n",
    "import pickle\n",
    "from sklearn.svm import SVC\n",
    "from sklearn.ensemble import RandomForestClassifier\n",
    "from xgboost import XGBClassifier\n",
    "from sklearn.ensemble import GradientBoostingClassifier\n",
    "from sklearn.ensemble import StackingClassifier\n",
    "\n",
    "data_orig_train, data_orig_test = dataset_orig.split([0.7], shuffle=True)\n",
    "X_train = data_orig_train.features\n",
    "y_train = data_orig_train.labels.ravel()\n",
    "\n",
    "X_test = data_orig_test.features\n",
    "y_test = data_orig_test.labels.ravel()\n",
    "\n",
    "num_estimators = 100\n",
    "\n",
    "model = RandomForestClassifier(n_estimators=100)\n",
    "\n",
    "mdl = model.fit(X_train, y_train)\n",
    "with open('../../Results/RF/' + nb_fname + '.pkl', 'wb') as f:\n",
    "        pickle.dump(mdl, f)\n",
    "\n",
    "with open('../../Results/RF/' + nb_fname + '_Train' + '.pkl', 'wb') as f:\n",
    "    pickle.dump(data_orig_train, f) \n",
    "    \n",
    "with open('../../Results/RF/' + nb_fname + '_Test' + '.pkl', 'wb') as f:\n",
    "    pickle.dump(data_orig_test, f) "
   ]
  },
  {
   "cell_type": "code",
   "execution_count": 18,
   "metadata": {},
   "outputs": [],
   "source": [
    "from csv import writer\n",
    "from sklearn.metrics import accuracy_score, f1_score\n",
    "\n",
    "final_metrics = []\n",
    "accuracy = []\n",
    "f1= []\n",
    "\n",
    "for i in range(1,num_estimators+1):\n",
    "    \n",
    "    model = RandomForestClassifier(n_estimators=i)\n",
    "\n",
    "    \n",
    "    mdl = model.fit(X_train, y_train)\n",
    "    yy = mdl.predict(X_test)\n",
    "    accuracy.append(accuracy_score(y_test, yy))\n",
    "    f1.append(f1_score(y_test, yy))\n",
    "    fair = get_fair_metrics_and_plot(data_orig_test, mdl)                           \n",
    "    fair_list = fair.iloc[1].tolist()\n",
    "    fair_list.insert(0, i)\n",
    "    final_metrics.append(fair_list)\n"
   ]
  },
  {
   "cell_type": "code",
   "execution_count": 19,
   "metadata": {},
   "outputs": [
    {
     "data": {
      "text/html": [
       "<div>\n",
       "<style scoped>\n",
       "    .dataframe tbody tr th:only-of-type {\n",
       "        vertical-align: middle;\n",
       "    }\n",
       "\n",
       "    .dataframe tbody tr th {\n",
       "        vertical-align: top;\n",
       "    }\n",
       "\n",
       "    .dataframe thead th {\n",
       "        text-align: right;\n",
       "    }\n",
       "</style>\n",
       "<table border=\"1\" class=\"dataframe\">\n",
       "  <thead>\n",
       "    <tr style=\"text-align: right;\">\n",
       "      <th></th>\n",
       "      <th>classifier</th>\n",
       "      <th>T0</th>\n",
       "      <th>T1</th>\n",
       "      <th>T2</th>\n",
       "      <th>T3</th>\n",
       "      <th>T4</th>\n",
       "      <th>T5</th>\n",
       "      <th>T6</th>\n",
       "      <th>T7</th>\n",
       "      <th>T8</th>\n",
       "      <th>...</th>\n",
       "      <th>T90</th>\n",
       "      <th>T91</th>\n",
       "      <th>T92</th>\n",
       "      <th>T93</th>\n",
       "      <th>T94</th>\n",
       "      <th>T95</th>\n",
       "      <th>T96</th>\n",
       "      <th>T97</th>\n",
       "      <th>T98</th>\n",
       "      <th>T99</th>\n",
       "    </tr>\n",
       "  </thead>\n",
       "  <tbody>\n",
       "    <tr>\n",
       "      <th>accuracy</th>\n",
       "      <td>0.710000</td>\n",
       "      <td>0.650000</td>\n",
       "      <td>0.600000</td>\n",
       "      <td>0.706667</td>\n",
       "      <td>0.656667</td>\n",
       "      <td>0.693333</td>\n",
       "      <td>0.653333</td>\n",
       "      <td>0.710000</td>\n",
       "      <td>0.720000</td>\n",
       "      <td>0.713333</td>\n",
       "      <td>...</td>\n",
       "      <td>0.736667</td>\n",
       "      <td>0.720000</td>\n",
       "      <td>0.716667</td>\n",
       "      <td>0.716667</td>\n",
       "      <td>0.720000</td>\n",
       "      <td>0.726667</td>\n",
       "      <td>0.733333</td>\n",
       "      <td>0.726667</td>\n",
       "      <td>0.713333</td>\n",
       "      <td>0.710000</td>\n",
       "    </tr>\n",
       "    <tr>\n",
       "      <th>f1</th>\n",
       "      <td>0.806236</td>\n",
       "      <td>0.745763</td>\n",
       "      <td>0.668508</td>\n",
       "      <td>0.794393</td>\n",
       "      <td>0.749392</td>\n",
       "      <td>0.788991</td>\n",
       "      <td>0.753555</td>\n",
       "      <td>0.800915</td>\n",
       "      <td>0.802817</td>\n",
       "      <td>0.805430</td>\n",
       "      <td>...</td>\n",
       "      <td>0.825607</td>\n",
       "      <td>0.814978</td>\n",
       "      <td>0.810690</td>\n",
       "      <td>0.811530</td>\n",
       "      <td>0.813333</td>\n",
       "      <td>0.820175</td>\n",
       "      <td>0.824561</td>\n",
       "      <td>0.817778</td>\n",
       "      <td>0.811404</td>\n",
       "      <td>0.806236</td>\n",
       "    </tr>\n",
       "    <tr>\n",
       "      <th>statistical_parity_difference</th>\n",
       "      <td>-0.035013</td>\n",
       "      <td>0.046788</td>\n",
       "      <td>-0.092956</td>\n",
       "      <td>-0.165462</td>\n",
       "      <td>-0.005474</td>\n",
       "      <td>-0.049370</td>\n",
       "      <td>-0.058872</td>\n",
       "      <td>-0.116195</td>\n",
       "      <td>-0.078290</td>\n",
       "      <td>-0.001033</td>\n",
       "      <td>...</td>\n",
       "      <td>-0.038938</td>\n",
       "      <td>-0.059285</td>\n",
       "      <td>-0.065999</td>\n",
       "      <td>-0.060215</td>\n",
       "      <td>-0.086346</td>\n",
       "      <td>-0.022516</td>\n",
       "      <td>-0.068994</td>\n",
       "      <td>-0.070853</td>\n",
       "      <td>-0.068994</td>\n",
       "      <td>-0.035013</td>\n",
       "    </tr>\n",
       "    <tr>\n",
       "      <th>equal_opportunity_difference</th>\n",
       "      <td>-0.017791</td>\n",
       "      <td>0.095664</td>\n",
       "      <td>-0.044210</td>\n",
       "      <td>-0.169809</td>\n",
       "      <td>-0.017258</td>\n",
       "      <td>-0.047726</td>\n",
       "      <td>-0.073399</td>\n",
       "      <td>-0.113029</td>\n",
       "      <td>-0.086183</td>\n",
       "      <td>0.002344</td>\n",
       "      <td>...</td>\n",
       "      <td>-0.035475</td>\n",
       "      <td>-0.022052</td>\n",
       "      <td>-0.069671</td>\n",
       "      <td>-0.053798</td>\n",
       "      <td>-0.031213</td>\n",
       "      <td>0.009694</td>\n",
       "      <td>-0.064770</td>\n",
       "      <td>-0.037925</td>\n",
       "      <td>-0.022052</td>\n",
       "      <td>-0.017791</td>\n",
       "    </tr>\n",
       "    <tr>\n",
       "      <th>average_abs_odds_difference</th>\n",
       "      <td>0.027005</td>\n",
       "      <td>0.061697</td>\n",
       "      <td>0.102184</td>\n",
       "      <td>0.139800</td>\n",
       "      <td>0.037208</td>\n",
       "      <td>0.031786</td>\n",
       "      <td>0.037549</td>\n",
       "      <td>0.096695</td>\n",
       "      <td>0.046770</td>\n",
       "      <td>0.018150</td>\n",
       "      <td>...</td>\n",
       "      <td>0.018303</td>\n",
       "      <td>0.062809</td>\n",
       "      <td>0.044173</td>\n",
       "      <td>0.045009</td>\n",
       "      <td>0.099647</td>\n",
       "      <td>0.031729</td>\n",
       "      <td>0.050495</td>\n",
       "      <td>0.069330</td>\n",
       "      <td>0.080352</td>\n",
       "      <td>0.027005</td>\n",
       "    </tr>\n",
       "    <tr>\n",
       "      <th>disparate_impact</th>\n",
       "      <td>-0.044698</td>\n",
       "      <td>0.068961</td>\n",
       "      <td>-0.193194</td>\n",
       "      <td>-0.241272</td>\n",
       "      <td>-0.008265</td>\n",
       "      <td>-0.066972</td>\n",
       "      <td>-0.085497</td>\n",
       "      <td>-0.159880</td>\n",
       "      <td>-0.112165</td>\n",
       "      <td>-0.001348</td>\n",
       "      <td>...</td>\n",
       "      <td>-0.048923</td>\n",
       "      <td>-0.074551</td>\n",
       "      <td>-0.084917</td>\n",
       "      <td>-0.076703</td>\n",
       "      <td>-0.111211</td>\n",
       "      <td>-0.027829</td>\n",
       "      <td>-0.086247</td>\n",
       "      <td>-0.090887</td>\n",
       "      <td>-0.086247</td>\n",
       "      <td>-0.044698</td>\n",
       "    </tr>\n",
       "    <tr>\n",
       "      <th>theil_index</th>\n",
       "      <td>0.158826</td>\n",
       "      <td>0.262809</td>\n",
       "      <td>0.400430</td>\n",
       "      <td>0.196523</td>\n",
       "      <td>0.261663</td>\n",
       "      <td>0.191828</td>\n",
       "      <td>0.243941</td>\n",
       "      <td>0.179032</td>\n",
       "      <td>0.190742</td>\n",
       "      <td>0.168421</td>\n",
       "      <td>...</td>\n",
       "      <td>0.135262</td>\n",
       "      <td>0.144141</td>\n",
       "      <td>0.154561</td>\n",
       "      <td>0.151231</td>\n",
       "      <td>0.150769</td>\n",
       "      <td>0.136656</td>\n",
       "      <td>0.132480</td>\n",
       "      <td>0.146517</td>\n",
       "      <td>0.145007</td>\n",
       "      <td>0.158826</td>\n",
       "    </tr>\n",
       "  </tbody>\n",
       "</table>\n",
       "<p>7 rows × 101 columns</p>\n",
       "</div>"
      ],
      "text/plain": [
       "                               classifier        T0        T1        T2  \\\n",
       "accuracy                         0.710000  0.650000  0.600000  0.706667   \n",
       "f1                               0.806236  0.745763  0.668508  0.794393   \n",
       "statistical_parity_difference   -0.035013  0.046788 -0.092956 -0.165462   \n",
       "equal_opportunity_difference    -0.017791  0.095664 -0.044210 -0.169809   \n",
       "average_abs_odds_difference      0.027005  0.061697  0.102184  0.139800   \n",
       "disparate_impact                -0.044698  0.068961 -0.193194 -0.241272   \n",
       "theil_index                      0.158826  0.262809  0.400430  0.196523   \n",
       "\n",
       "                                     T3        T4        T5        T6  \\\n",
       "accuracy                       0.656667  0.693333  0.653333  0.710000   \n",
       "f1                             0.749392  0.788991  0.753555  0.800915   \n",
       "statistical_parity_difference -0.005474 -0.049370 -0.058872 -0.116195   \n",
       "equal_opportunity_difference  -0.017258 -0.047726 -0.073399 -0.113029   \n",
       "average_abs_odds_difference    0.037208  0.031786  0.037549  0.096695   \n",
       "disparate_impact              -0.008265 -0.066972 -0.085497 -0.159880   \n",
       "theil_index                    0.261663  0.191828  0.243941  0.179032   \n",
       "\n",
       "                                     T7        T8  ...       T90       T91  \\\n",
       "accuracy                       0.720000  0.713333  ...  0.736667  0.720000   \n",
       "f1                             0.802817  0.805430  ...  0.825607  0.814978   \n",
       "statistical_parity_difference -0.078290 -0.001033  ... -0.038938 -0.059285   \n",
       "equal_opportunity_difference  -0.086183  0.002344  ... -0.035475 -0.022052   \n",
       "average_abs_odds_difference    0.046770  0.018150  ...  0.018303  0.062809   \n",
       "disparate_impact              -0.112165 -0.001348  ... -0.048923 -0.074551   \n",
       "theil_index                    0.190742  0.168421  ...  0.135262  0.144141   \n",
       "\n",
       "                                    T92       T93       T94       T95  \\\n",
       "accuracy                       0.716667  0.716667  0.720000  0.726667   \n",
       "f1                             0.810690  0.811530  0.813333  0.820175   \n",
       "statistical_parity_difference -0.065999 -0.060215 -0.086346 -0.022516   \n",
       "equal_opportunity_difference  -0.069671 -0.053798 -0.031213  0.009694   \n",
       "average_abs_odds_difference    0.044173  0.045009  0.099647  0.031729   \n",
       "disparate_impact              -0.084917 -0.076703 -0.111211 -0.027829   \n",
       "theil_index                    0.154561  0.151231  0.150769  0.136656   \n",
       "\n",
       "                                    T96       T97       T98       T99  \n",
       "accuracy                       0.733333  0.726667  0.713333  0.710000  \n",
       "f1                             0.824561  0.817778  0.811404  0.806236  \n",
       "statistical_parity_difference -0.068994 -0.070853 -0.068994 -0.035013  \n",
       "equal_opportunity_difference  -0.064770 -0.037925 -0.022052 -0.017791  \n",
       "average_abs_odds_difference    0.050495  0.069330  0.080352  0.027005  \n",
       "disparate_impact              -0.086247 -0.090887 -0.086247 -0.044698  \n",
       "theil_index                    0.132480  0.146517  0.145007  0.158826  \n",
       "\n",
       "[7 rows x 101 columns]"
      ]
     },
     "execution_count": 19,
     "metadata": {},
     "output_type": "execute_result"
    }
   ],
   "source": [
    "import numpy as np\n",
    "final_result = pd.DataFrame(final_metrics)\n",
    "final_result[4] = np.log(final_result[4])\n",
    "final_result = final_result.transpose()\n",
    "final_result.loc[0] = f1  # add f1 and acc to df\n",
    "acc = pd.DataFrame(accuracy).transpose()\n",
    "acc = acc.rename(index={0: 'accuracy'})\n",
    "final_result = pd.concat([acc,final_result])\n",
    "final_result = final_result.rename(index={0: 'f1', 1: 'statistical_parity_difference', 2: 'equal_opportunity_difference', 3: 'average_abs_odds_difference', 4: 'disparate_impact', 5: 'theil_index'})\n",
    "final_result.columns = ['T' + str(col) for col in final_result.columns]\n",
    "final_result.insert(0, \"classifier\", final_result['T' + str(num_estimators - 1)])   ##Add final metrics add the beginning of the df\n",
    "final_result.to_csv('../../Results/RF/' + nb_fname + '.csv')\n",
    "final_result"
   ]
  },
  {
   "cell_type": "code",
   "execution_count": null,
   "metadata": {},
   "outputs": [],
   "source": []
  }
 ],
 "metadata": {
  "kernelspec": {
   "display_name": "Python 3",
   "language": "python",
   "name": "python3"
  },
  "language_info": {
   "codemirror_mode": {
    "name": "ipython",
    "version": 3
   },
   "file_extension": ".py",
   "mimetype": "text/x-python",
   "name": "python",
   "nbconvert_exporter": "python",
   "pygments_lexer": "ipython3",
   "version": "3.8.5"
  }
 },
 "nbformat": 4,
 "nbformat_minor": 4
}
