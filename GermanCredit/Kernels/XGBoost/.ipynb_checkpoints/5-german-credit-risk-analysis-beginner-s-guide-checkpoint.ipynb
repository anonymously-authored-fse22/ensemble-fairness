{
 "cells": [
  {
   "cell_type": "markdown",
   "metadata": {
    "_uuid": "759287361a7d887e100f0616afdc25033b149979"
   },
   "source": [
    "## <a name=\"Introduction-Credit-Risk-Analysis\">Introduction : Credit Risk Analysis</a>\n",
    "\n",
    "#### <a name=\"credit_risk\"> Credit risk</a>\n",
    "Credit Risk is the probable risk of loss resulting from a borrower's failure to repay a loan or meet contractual obligations. If a company offers credit to its client,then there is a risk that its clients may not pay their invoices.                                \n",
    "\n",
    "#### <a name=\"credit_risk_types\">Types of Credit Risk</a>           \n",
    " __Good Risk__: An investment that one believes is likely to be profitable. The term most often refers to a loan made to a creditworthy person or company. Good risks are considered exceptionally likely to be repaid.               \n",
    " __Bad Risk__: A loan that is unlikely to be repaid because of bad credit history, insufficient income, or some other reason. A bad risk increases the risk to the lender and the likelihood of default on the part of the borrower.\n",
    "\n",
    "\n",
    "####  <a name=\"objective\">Objective</a>: \n",
    "Based on the attributes, classify a person as good or bad credit risk.\n",
    "#### <a name=\"dataset_description\">Dataset Description</a>: \n",
    "The dataset contains 1000 entries with 20 independent variables (7 numerical, 13 categorical) and 1 target variable prepared by Prof. Hofmann. In this dataset, each entry represents a person who takes a credit by a bank. Each person is classified as good or bad credit risks according to the set of attributes.The attributes are:                                  \n",
    "#### <a name=\"independent_variable\">Independent Variables</a>\n",
    "   * Attribute 1:  (qualitative) __Status of existing checking account__                           \n",
    "      A11 :      ... <    0 DM                           \n",
    "      A12 : 0 <= ... <  200 DM                                   \n",
    "      A13 :      ... >= 200 DM / salary assignments for at least 1 year                           \n",
    "      A14 : no checking account    \n",
    "      \n",
    "   * Attribute 2:  (numerical) __Duration in month__\n",
    "\n",
    "   * Attribute 3:  (qualitative) __Credit history__               \n",
    "      A30 : no credits taken/all credits paid back duly                   \n",
    "      A31 : all credits at this bank paid back duly                       \n",
    "      A32 : existing credits paid back duly till now                       \n",
    "      A33 : delay in paying off in the past                           \n",
    "      A34 : critical account/other credits existing (not at this bank)          \n",
    "      \n",
    "   * Attribute 4:  (qualitative)    __Purpose__              \n",
    "      A40 : car (new)                         \n",
    "      A41 : car (used)                              \n",
    "      A42 : furniture/equipment                              \n",
    "      A43 : radio/television                 \n",
    "      A44 : domestic appliances                     \n",
    "      A45 : repairs                        \n",
    "      A46 : education                      \n",
    "      A47 : vacation                    \n",
    "      A48 : retraining                     \n",
    "      A49 : business                         \n",
    "      A410 : others\n",
    "   * Attribute 5:  (numerical) __Credit amount__   \n",
    "   * Attibute 6:  (qualitative) __Savings account/bonds__           \n",
    "      A61 :          ... <  100 DM            \n",
    "      A62 :   100 <= ... <  500 DM           \n",
    "      A63 :   500 <= ... < 1000 DM            \n",
    "      A64 :          .. >= 1000 DM                   \n",
    "      A65 :   unknown/ no savings account         \n",
    "      \n",
    "   * Attribute 7:  (qualitative) __Present employment since__      \n",
    "        A71 : unemployed                       \n",
    "        A72 :       ... < 1 year           \n",
    "        A73 : 1  <= ... < 4 years         \n",
    "        A74 : 4  <= ... < 7 years            \n",
    "        A75 :       .. >= 7 years         \n",
    "   * Attribute 8:  (numerical) __Installment rate in percentage of disposable income__ \n",
    "   * Attribute 9:  (qualitative) __Personal status and sex__                      \n",
    "        A91 : male   : divorced/separated               \n",
    "        A92 : female : divorced/separated/married              \n",
    "        A93 : male   : single               \n",
    "        A94 : male   : married/widowed              \n",
    "        A95 : female : single      \n",
    "   * Attribute 10: (qualitative) __Other debtors / guarantors__                   \n",
    "        A101 : none                  \n",
    "        A102 : co-applicant                   \n",
    "        A103 : guarantor             \n",
    "        \n",
    "   * Attribute 11: (numerical) __Present residence since__   \n",
    "\n",
    "   * Attribute 12: (qualitative) __Property__\n",
    "        A121 : real estate                        \n",
    "        A122 : if not A121 : building society savings agreement/life insurance                           \n",
    "        A123 : if not A121/A122 : car or other, not in attribute 6           \n",
    "        A124 : unknown / no property    \n",
    "     \n",
    "   * Attribute 13: (numerical) __Age in years__\n",
    "   * Attribute 14: (qualitative) __Other installment plans__    \n",
    "        A141 : bank   \n",
    "        A142 : stores    \n",
    "        A143 : none  \n",
    "   * Attribute 15: (qualitative) __Housing__           \n",
    "        A151 : rent       \n",
    "        A152 : own          \n",
    "        A153 : for free      \n",
    "   * Attribute 16: (numerical) __Number of existing credits at this bank__\n",
    "   * Attribute 17: (qualitative) __Job__         \n",
    "        A171 : unemployed/ unskilled  - non-resident           \n",
    "        A172 : unskilled - resident                  \n",
    "        A173 : skilled employee / official                                \n",
    "        A174 : management/ self-employed/highly qualified employee/ officer \n",
    "        \n",
    "       \n",
    "   \n",
    "  * Attribute 18: (numerical) __Number of people being liable to provide maintenance for__ \n",
    "  * Attribute 19: (qualitative) __Telephone__             \n",
    "    A191 : none              \n",
    "    A192 : yes, registered under the customers name                     \n",
    "  * Attribute 20: (qualitative) __foreign worker__              \n",
    "    A201 : yes         \n",
    "    A202 : no   \n",
    "\n",
    "\n",
    "#### <a name=\"target_variable\">Target Variable</a>                                        \n",
    "* __Cost Matrix__  \n",
    "    * 1 = __Good Risk__\n",
    "    * 2 = __Bad Risk__\n"
   ]
  },
  {
   "cell_type": "markdown",
   "metadata": {
    "_uuid": "59b59fb6215d51da76d0d6491c1396fce969df66"
   },
   "source": [
    "## <a name=\"data_collection\">Data Collection</a>\n",
    "\n",
    "#### <a name=\"import_libraries\">Import Libraries</a>\n",
    "\n"
   ]
  },
  {
   "cell_type": "code",
   "execution_count": 1,
   "metadata": {
    "_uuid": "319eff7b34cb33cee4b48c25ad0c61271f3b153f"
   },
   "outputs": [],
   "source": [
    "import numpy as np\n",
    "import pandas as pd\n",
    "import seaborn as sns\n",
    "from scipy import stats\n",
    "import scikitplot as skplt\n",
    "from math import floor,ceil\n",
    "import statsmodels.api as sm\n",
    "import matplotlib.pyplot as plt\n",
    "from xgboost import XGBClassifier\n",
    "from sklearn.decomposition import PCA\n",
    "from IPython.display import display, HTML\n",
    "pd.set_option('display.max_columns', None)\n",
    "from sklearn.model_selection import GridSearchCV\n",
    "from sklearn.metrics import accuracy_score, confusion_matrix,roc_curve\n",
    "from sklearn.model_selection import train_test_split, KFold, cross_val_score\n",
    "\n",
    "\n",
    "import warnings\n",
    "warnings.simplefilter('ignore', DeprecationWarning)"
   ]
  },
  {
   "cell_type": "code",
   "execution_count": 2,
   "metadata": {
    "_kg_hide-input": true,
    "_uuid": "bccfbd35393a6d31460e9db0f828943feb598276"
   },
   "outputs": [],
   "source": [
    "def style_specific_cell(x):\n",
    "\n",
    "    color_thresh = 'background-color: lightpink'\n",
    "    \n",
    "    df_color = pd.DataFrame('', index=x.index, columns=x.columns)\n",
    "    rows_number=len(x.index)\n",
    "    column_number=len(x.columns)\n",
    "    for r in range(0,rows_number): \n",
    "        for c in range(0,column_number):\n",
    "            try:\n",
    "                val=float(x.iloc[r, c])\n",
    "                if x.iloc[r, 0]==\"Percentage\":\n",
    "                    if val<10:\n",
    "                        df_color.iloc[r, c]=color_thresh\n",
    "            except:\n",
    "                pass\n",
    "            \n",
    "    return df_color\n",
    "\n",
    "def style_stats_specific_cell(x):\n",
    "\n",
    "    color_thresh = 'background-color: lightpink'\n",
    "    \n",
    "    df_color = pd.DataFrame('', index=x.index, columns=x.columns)\n",
    "    rows_number=len(x.index)\n",
    "    for r in range(0,rows_number):\n",
    "        try:\n",
    "            val=(x.iloc[r, 1])\n",
    "            if val>0.05:\n",
    "                df_color.iloc[r, 1]=color_thresh\n",
    "        except:\n",
    "            pass\n",
    "    return df_color\n",
    "\n"
   ]
  },
  {
   "cell_type": "code",
   "execution_count": null,
   "metadata": {},
   "outputs": [],
   "source": [
    "from aif360.datasets import StandardDataset\n",
    "from aif360.metrics import BinaryLabelDatasetMetric, ClassificationMetric\n",
    "import matplotlib.patches as patches\n",
    "from aif360.algorithms.preprocessing import Reweighing\n",
    "#from packages import *\n",
    "#from ml_fairness import *\n",
    "import matplotlib.pyplot as plt\n",
    "import seaborn as sns\n",
    "\n",
    "\n",
    "\n",
    "from IPython.display import Markdown, display"
   ]
  },
  {
   "cell_type": "markdown",
   "metadata": {
    "_uuid": "23c8fbc8888d81c66413cfcc354c2bbfba40c439"
   },
   "source": [
    "### <a name=\"import-data\">Import Data</a> \n",
    "Import data from __UCI machine learning repository__.                               \n",
    "link: http://archive.ics.uci.edu/ml/machine-learning-databases/statlog/german/german.data"
   ]
  },
  {
   "cell_type": "code",
   "execution_count": null,
   "metadata": {
    "_uuid": "7f1bf806c2efff41fc84d908e5525bc73019a7ac"
   },
   "outputs": [],
   "source": [
    "#Reading Dataset from  http://archive.ics.uci.edu/ml/machine-learning-databases/statlog/german/german.data\n",
    "df=pd.read_csv(\"http://archive.ics.uci.edu/ml/machine-learning-databases/statlog/german/german.data\",sep=\" \",header=None)\n",
    "headers=[\"Status of existing checking account\",\"Duration in month\",\"Credit history\",\\\n",
    "         \"Purpose\",\"Credit amount\",\"Savings account/bonds\",\"Present employment since\",\\\n",
    "         \"Installment rate in percentage of disposable income\",\"Personal status and sex\",\\\n",
    "         \"Other debtors / guarantors\",\"Present residence since\",\"Property\",\"Age in years\",\\\n",
    "        \"Other installment plans\",\"Housing\",\"Number of existing credits at this bank\",\\\n",
    "        \"Job\",\"Number of people being liable to provide maintenance for\",\"Telephone\",\"foreign worker\",\"Cost Matrix(Risk)\"]\n",
    "df.columns=headers\n",
    "df.to_csv(\"german_data_credit_cat.csv\",index=False) #save as csv file\n",
    "\n",
    "#for structuring only\n",
    "Status_of_existing_checking_account={'A14':\"no checking account\",'A11':\"<0 DM\", 'A12': \"0 <= <200 DM\",'A13':\">= 200 DM \"}\n",
    "df[\"Status of existing checking account\"]=df[\"Status of existing checking account\"].map(Status_of_existing_checking_account)\n",
    "\n",
    "Credit_history={\"A34\":\"critical account\",\"A33\":\"delay in paying off\",\"A32\":\"existing credits paid back duly till now\",\"A31\":\"all credits at this bank paid back duly\",\"A30\":\"no credits taken\"}\n",
    "df[\"Credit history\"]=df[\"Credit history\"].map(Credit_history)\n",
    "\n",
    "Purpose={\"A40\" : \"car (new)\", \"A41\" : \"car (used)\", \"A42\" : \"furniture/equipment\", \"A43\" :\"radio/television\" , \"A44\" : \"domestic appliances\", \"A45\" : \"repairs\", \"A46\" : \"education\", 'A47' : 'vacation','A48' : 'retraining','A49' : 'business','A410' : 'others'}\n",
    "df[\"Purpose\"]=df[\"Purpose\"].map(Purpose)\n",
    "\n",
    "Saving_account={\"A65\" : \"no savings account\",\"A61\" :\"<100 DM\",\"A62\" : \"100 <= <500 DM\",\"A63\" :\"500 <= < 1000 DM\", \"A64\" :\">= 1000 DM\"}\n",
    "df[\"Savings account/bonds\"]=df[\"Savings account/bonds\"].map(Saving_account)\n",
    "\n",
    "Present_employment={'A75':\">=7 years\", 'A74':\"4<= <7 years\",  'A73':\"1<= < 4 years\", 'A72':\"<1 years\",'A71':\"unemployed\"}\n",
    "df[\"Present employment since\"]=df[\"Present employment since\"].map(Present_employment)\n",
    "\n",
    "\n",
    "\n",
    "Personal_status_and_sex={ 'A95':\"female:single\",'A94':\"male:married/widowed\",'A93':\"male:single\", 'A92':\"female:divorced/separated/married\", 'A91':\"male:divorced/separated\"}\n",
    "df[\"Personal status and sex\"]=df[\"Personal status and sex\"].map(Personal_status_and_sex)\n",
    "\n",
    "\n",
    "Other_debtors_guarantors={'A101':\"none\", 'A102':\"co-applicant\", 'A103':\"guarantor\"}\n",
    "df[\"Other debtors / guarantors\"]=df[\"Other debtors / guarantors\"].map(Other_debtors_guarantors)\n",
    "\n",
    "\n",
    "Property={'A121':\"real estate\", 'A122':\"savings agreement/life insurance\", 'A123':\"car or other\", 'A124':\"unknown / no property\"}\n",
    "df[\"Property\"]=df[\"Property\"].map(Property)\n",
    "\n",
    "\n",
    "\n",
    "\n",
    "Other_installment_plans={'A143':\"none\", 'A142':\"store\", 'A141':\"bank\"}\n",
    "df[\"Other installment plans\"]=df[\"Other installment plans\"].map(Other_installment_plans)\n",
    "\n",
    "Housing={'A153':\"for free\", 'A152':\"own\", 'A151':\"rent\"}\n",
    "df[\"Housing\"]=df[\"Housing\"].map(Housing)\n",
    "\n",
    "\n",
    "\n",
    "\n",
    "Job={'A174':\"management/ highly qualified employee\", 'A173':\"skilled employee / official\", 'A172':\"unskilled - resident\", 'A171':\"unemployed/ unskilled  - non-resident\"}\n",
    "df[\"Job\"]=df[\"Job\"].map(Job)\n",
    "\n",
    "Telephone={'A192':\"yes\", 'A191':\"none\"}\n",
    "df[\"Telephone\"]=df[\"Telephone\"].map(Telephone)\n",
    "\n",
    "\n",
    "\n",
    "foreign_worker={'A201':\"yes\", 'A202':\"no\"}\n",
    "df[\"foreign worker\"]=df[\"foreign worker\"].map(foreign_worker)\n",
    "\n",
    "\n",
    "\n",
    "risk={1:\"Good Risk\", 2:\"Bad Risk\"}\n",
    "df[\"Cost Matrix(Risk)\"]=df[\"Cost Matrix(Risk)\"].map(risk)\n",
    "\n"
   ]
  },
  {
   "cell_type": "markdown",
   "metadata": {
    "_uuid": "a40b89aaf9ac13571147b4eb990d29881c686dc5"
   },
   "source": [
    "## <a name=\"data_overview\">Data Overview</a>"
   ]
  },
  {
   "cell_type": "code",
   "execution_count": null,
   "metadata": {
    "_uuid": "eb6b6de5bc738dc6368cc198952a986315d99c55"
   },
   "outputs": [],
   "source": [
    "df.head() #top 5 rows of the dataset"
   ]
  },
  {
   "cell_type": "markdown",
   "metadata": {
    "_uuid": "bd896244902b72b9b786cc0767f17dee40c7b325"
   },
   "source": [
    "### <a name=\"data-types\">Data Info</a>"
   ]
  },
  {
   "cell_type": "code",
   "execution_count": null,
   "metadata": {
    "_uuid": "aa051552671b3ca58a23608f1b69e259496d09c0"
   },
   "outputs": [],
   "source": [
    "df.info()"
   ]
  },
  {
   "cell_type": "markdown",
   "metadata": {
    "_uuid": "3b31cdf545da6cb009c37c530700101f55aa9c85"
   },
   "source": [
    "## <a name=\"summary_statistics\">Table of Summary statistics</a>"
   ]
  },
  {
   "cell_type": "markdown",
   "metadata": {
    "_uuid": "42efd8568a2db9c39dbb6177bab0700ee2c771ac"
   },
   "source": [
    "### <a name=\"categorical-variable-stats\">Categorical Variable</a>\n",
    "\n",
    "#### Levels and Proportions"
   ]
  },
  {
   "cell_type": "code",
   "execution_count": null,
   "metadata": {
    "_kg_hide-input": true,
    "_uuid": "e6018fd82ac70c15cdb19fa108ae2c12453e5ca0"
   },
   "outputs": [],
   "source": [
    "column_names=df.columns.tolist()\n",
    "column_names.remove(\"Credit amount\") #numerical variable\n",
    "column_names.remove(\"Age in years\") #numerical variable\n",
    "column_names.remove(\"Duration in month\") #numerical variable\n",
    "#----------------------------------------------------------------------------------------\n",
    "\n",
    "column_names_cat={}\n",
    "for name in column_names:\n",
    "    column_names_cat[name]=len(df[name].unique().tolist())\n",
    "\n",
    "    marginal_report_cluster={}\n",
    "for itr in range(0,np.asarray(list(column_names_cat.values())).max()+1):\n",
    "    if [k for k,v in column_names_cat.items() if v == itr]:\n",
    "        marginal_report_cluster[itr]=[k for k,v in column_names_cat.items() if v == itr]\n",
    "\n",
    "#----------------------------------------------------------------------------------------\n",
    "for key in marginal_report_cluster.keys():\n",
    "    marginal_percentage_report=[]\n",
    "    for name in sorted(marginal_report_cluster[key]):\n",
    "        data=pd.crosstab(df[name],columns=[\"Percentage\"]).apply(lambda r: (round((r/r.sum())*100,2)), axis=0).reset_index()\n",
    "        data.columns=[name,\"Percentage\"]\n",
    "        data=data.transpose().reset_index()\n",
    "        [marginal_percentage_report.append(x) for x in data.values.tolist()]\n",
    "        options=[]\n",
    "    marginal_percentage_report=pd.DataFrame(marginal_percentage_report)\n",
    "    [options.append(\"Category Option \"+str(itr)) for itr in range(1,len(marginal_percentage_report.columns))]\n",
    "    marginal_percentage_report.columns=[\"Attribute\"]+options\n",
    "    display(marginal_percentage_report.style.apply(style_specific_cell, axis=None))\n",
    "    "
   ]
  },
  {
   "cell_type": "markdown",
   "metadata": {
    "_uuid": "5b1ad6070a1a92de4a0e71176699ca547462c33e"
   },
   "source": [
    "Most of the predictors are categorical with several levels, some of the levels have very few observations.\n",
    "Depending on the cell proportions given in the one-way table above,i have merged some of the levels for a particular attribute.\n",
    "\n",
    "#### Other debtors / guarantors : 1) co-applicant/guarantor 2) None                            \n",
    "#### Other installment plans : 1) bank/store 2) None                                     \n",
    "#### Job : 1) Employed 2)Unemployed                 \n",
    "####  Number of existing credits at this bank : 1 ) One  2) More than one\t\n",
    "#### Personal status and sex : 1) Male  2)Female\n",
    "#### Status of existing checking account : 1) no checking account\t2)< 0 DM 3) > 0 DM\n",
    "#### Credit history: 1) all credit / existing credits paid back duly till now  2)no credits taken 3)critical account/delay in paying off\n",
    "#### Savings account/bonds: 1) <100 DM 2) < 500 DM 3) > 500 DM 4)no savings account\n",
    "#### Purpose: 1) New car 2)Used car  3)Home Related 4)Other\n",
    "#### Present employment since: 1) < 1 years /unemployed 2) 1<= < 4 years 3) 4< = <7 years 4) >=7 years"
   ]
  },
  {
   "cell_type": "code",
   "execution_count": null,
   "metadata": {
    "_kg_hide-input": true,
    "_uuid": "e0b3f99b029c7ecac7d9537b6810ee5b32f9f5f1"
   },
   "outputs": [],
   "source": [
    "df=pd.read_csv(\"german_data_credit_cat.csv\")\n",
    "number_of_credit={1:1,2:2,3:2,4:2}\n",
    "df[\"Number of existing credits at this bank\"]=df[\"Number of existing credits at this bank\"].map(number_of_credit)\n",
    "\n",
    "Status_of_existing_checking_account={'A14':\"no checking account\",'A11':\"<0 DM\", 'A12': \">0 DM\",'A13':\">0 DM\"}\n",
    "df[\"Status of existing checking account\"]=df[\"Status of existing checking account\"].map(Status_of_existing_checking_account)\n",
    "\n",
    "Credit_history={\"A34\":\"critical account/delay in paying off\",\"A33\":\"critical account/delay in paying off\",\"A32\":\"all credit / existing credits paid back duly till now\",\"A31\":\"all credit / existing credits paid back duly till now\",\"A30\":\"no credits taken\"}\n",
    "df[\"Credit history\"]=df[\"Credit history\"].map(Credit_history)\n",
    "\n",
    "\n",
    "\n",
    "\n",
    "Purpose={\"A40\" : \"car (new)\", \"A41\" : \"car (used)\", \"A42\" : \"Home Related\", \"A43\" :\"Home Related\" , \"A44\" : \"Home Related\", \"A45\" : \"Home Related\", \"A46\" : \"others\", 'A47' : 'others','A48' : 'others','A49' : 'others','A410' : 'others'}\n",
    "df[\"Purpose\"]=df[\"Purpose\"].map(Purpose)\n",
    "\n",
    "Saving_account={\"A65\" : \"no savings account\",\"A61\" :\"<100 DM\",\"A62\" : \"<500 DM\",\"A63\" :\">500 DM\", \"A64\" :\">500 DM\"}\n",
    "df[\"Savings account/bonds\"]=df[\"Savings account/bonds\"].map(Saving_account)\n",
    "\n",
    "\n",
    "\n",
    "           \n",
    "Present_employment={'A75':\">=7 years\", 'A74':\"4<= <7 years\",  'A73':\"1<= < 4 years\", 'A72':\"<1 years\",'A71':\"<1 years\"}\n",
    "df[\"Present employment since\"]=df[\"Present employment since\"].map(Present_employment)\n",
    "\n",
    "\n",
    "\n",
    "\n",
    "Personal_status_and_sex={ 'A95':\"female\",'A94':\"male\",'A93':\"male\", 'A92':\"female\", 'A91':\"male\"}\n",
    "df[\"Personal status and sex\"]=df[\"Personal status and sex\"].map(Personal_status_and_sex)\n",
    "\n",
    "\n",
    "Other_debtors_guarantors={'A101':\"none\", 'A102':\"co-applicant/guarantor\", 'A103':\"co-applicant/guarantor\"}\n",
    "df[\"Other debtors / guarantors\"]=df[\"Other debtors / guarantors\"].map(Other_debtors_guarantors)\n",
    "\n",
    "\n",
    "Property={'A121':\"real estate\", 'A122':\"savings agreement/life insurance\", 'A123':\"car or other\", 'A124':\"unknown / no property\"}\n",
    "df[\"Property\"]=df[\"Property\"].map(Property)\n",
    "\n",
    "\n",
    "\n",
    "\n",
    "Other_installment_plans={'A143':\"none\", 'A142':\"bank/store\", 'A141':\"bank/store\"}\n",
    "df[\"Other installment plans\"]=df[\"Other installment plans\"].map(Other_installment_plans)\n",
    "\n",
    "Housing={'A153':\"for free\", 'A152':\"own\", 'A151':\"rent\"}\n",
    "df[\"Housing\"]=df[\"Housing\"].map(Housing)\n",
    "\n",
    "\n",
    "\n",
    "\n",
    "Job={'A174':\"employed\", 'A173':\"employed\", 'A172':\"unemployed\", 'A171':\"unemployed\"}\n",
    "df[\"Job\"]=df[\"Job\"].map(Job)\n",
    "\n",
    "Telephone={'A192':\"yes\", 'A191':\"none\"}\n",
    "df[\"Telephone\"]=df[\"Telephone\"].map(Telephone)\n",
    "\n",
    "\n",
    "\n",
    "foreign_worker={'A201':\"yes\", 'A202':\"no\"}\n",
    "df[\"foreign worker\"]=df[\"foreign worker\"].map(foreign_worker)\n",
    "\n",
    "\n",
    "\n",
    "risk={1:\"Good Risk\", 2:\"Bad Risk\"}\n",
    "df[\"Cost Matrix(Risk)\"]=df[\"Cost Matrix(Risk)\"].map(risk)"
   ]
  },
  {
   "cell_type": "markdown",
   "metadata": {
    "_uuid": "345536109ca408eebd38329be453aeed2700181b"
   },
   "source": [
    "After, merging following are the Levels and Proportions for the data\n"
   ]
  },
  {
   "cell_type": "code",
   "execution_count": null,
   "metadata": {
    "_kg_hide-input": true,
    "_uuid": "8fe44fee5c51a522e5b6e8a80299a19a0d91a268"
   },
   "outputs": [],
   "source": [
    "column_names=df.columns.tolist()\n",
    "column_names.remove(\"Credit amount\") #numerical variable\n",
    "column_names.remove(\"Age in years\") #numerical variable\n",
    "column_names.remove(\"Duration in month\") #numerical variable\n",
    "#----------------------------------------------------------------------------------------\n",
    "\n",
    "column_names_cat={}\n",
    "for name in column_names:\n",
    "    column_names_cat[name]=len(df[name].unique().tolist())\n",
    "\n",
    "    marginal_report_cluster={}\n",
    "for itr in range(0,np.asarray(list(column_names_cat.values())).max()+1):\n",
    "    if [k for k,v in column_names_cat.items() if v == itr]:\n",
    "        marginal_report_cluster[itr]=[k for k,v in column_names_cat.items() if v == itr]\n",
    "\n",
    "#----------------------------------------------------------------------------------------\n",
    "for key in marginal_report_cluster.keys():\n",
    "    marginal_percentage_report=[]\n",
    "    for name in sorted(marginal_report_cluster[key]):\n",
    "        data=pd.crosstab(df[name],columns=[\"Percentage\"]).apply(lambda r: (round((r/r.sum())*100,2)), axis=0).reset_index()\n",
    "        data.columns=[name,\"Percentage\"]\n",
    "        data=data.transpose().reset_index()\n",
    "        [marginal_percentage_report.append(x) for x in data.values.tolist()]\n",
    "        options=[]\n",
    "    marginal_percentage_report=pd.DataFrame(marginal_percentage_report)\n",
    "    [options.append(\"Category Option \"+str(itr)) for itr in range(1,len(marginal_percentage_report.columns))]\n",
    "    marginal_percentage_report.columns=[\"Attribute\"]+options\n",
    "    display(marginal_percentage_report.style.apply(style_specific_cell, axis=None))\n",
    "    "
   ]
  },
  {
   "cell_type": "markdown",
   "metadata": {
    "_uuid": "1a84c6da8688b06576f654958d22c82408341944"
   },
   "source": [
    "### <a name=\"numerical-variable-stats\">Numerical Variable</a>"
   ]
  },
  {
   "cell_type": "code",
   "execution_count": null,
   "metadata": {
    "_kg_hide-input": true,
    "_uuid": "fcf05842936a8ba4329a615169804501590c42ca"
   },
   "outputs": [],
   "source": [
    "df[[\"Credit amount\",\"Age in years\",\"Duration in month\"]].describe()"
   ]
  },
  {
   "cell_type": "markdown",
   "metadata": {
    "_uuid": "d5765b5f3d1b3ac2545887d32dba2ebd08e82372"
   },
   "source": [
    "## <a name=\"eda\">Exploratory Data Analysis (EDA)</a>"
   ]
  },
  {
   "cell_type": "markdown",
   "metadata": {
    "_uuid": "73b52e64b2903e2a3c35f2ef2d350ab8abd4aa7a"
   },
   "source": [
    "### <a name=\"categorical-eda\">Categorical Variable</a>"
   ]
  },
  {
   "cell_type": "code",
   "execution_count": null,
   "metadata": {
    "_kg_hide-input": true,
    "_uuid": "dd69efd90391710c82daf1b460a2ce760fa555c1"
   },
   "outputs": [],
   "source": [
    "def visualize_distribution(attr):\n",
    "    good_risk_df = df[df[\"Cost Matrix(Risk)\"]==\"Good Risk\"]\n",
    "    bad_risk_df = df[df[\"Cost Matrix(Risk)\"]==\"Bad Risk\"]\n",
    "    fig, ax = plt.subplots(nrows=1, ncols=2, figsize=(15,5))\n",
    "    attr_good_risk_df = good_risk_df[[attr, 'Cost Matrix(Risk)']].groupby(attr).count()\n",
    "    attr_bad_risk_df = bad_risk_df[[attr, 'Cost Matrix(Risk)']].groupby(attr).count()\n",
    "    ax[0].barh( attr_good_risk_df['Cost Matrix(Risk)'].index.tolist(), attr_good_risk_df['Cost Matrix(Risk)'].tolist(), align='center', color=\"#5975A4\")\n",
    "    ax[1].barh( attr_bad_risk_df['Cost Matrix(Risk)'].index.tolist(), attr_bad_risk_df['Cost Matrix(Risk)'].tolist(), align='center', color=\"#B55D60\")\n",
    "    ax[0].set_title('Good Risk')\n",
    "    ax[1].set_title('Bad Risk')\n",
    "    ax[0].invert_xaxis()\n",
    "    ax[1].yaxis.tick_right()\n",
    "    \n",
    "    num_para_change=[\"Present residence since\",\"Number of existing credits at this bank\",\"Installment rate in percentage of disposable income\",\"Number of people being liable to provide maintenance for\"]\n",
    "    if attr in num_para_change:\n",
    "        for i, v in enumerate(attr_good_risk_df['Cost Matrix(Risk)'].tolist()):\n",
    "            ax[0].text(v+15, i+1, str(v), color='black')\n",
    "        for i, v in enumerate(attr_bad_risk_df['Cost Matrix(Risk)'].tolist()):\n",
    "            ax[1].text(v+2, i+1, str(v), color='black')\n",
    "    else:\n",
    "        for i, v in enumerate(attr_good_risk_df['Cost Matrix(Risk)'].tolist()):\n",
    "            ax[0].text(v+25, i + .05, str(v), color='black')\n",
    "        for i, v in enumerate(attr_bad_risk_df['Cost Matrix(Risk)'].tolist()):\n",
    "            ax[1].text(v+1, i + .05, str(v), color='black')\n",
    "    plt.suptitle(attr)\n",
    "    plt.tight_layout()\n",
    "    plt.show()"
   ]
  },
  {
   "cell_type": "markdown",
   "metadata": {
    "_uuid": "74eb6f20eab43dfe66da1593be8e56b2b6d1a18c"
   },
   "source": [
    "#### Status of existing checking account\n",
    "A checking account is a deposit account held at a financial institution that allows withdrawals and deposits."
   ]
  },
  {
   "cell_type": "code",
   "execution_count": null,
   "metadata": {
    "_kg_hide-input": true,
    "_uuid": "bcd9641a883db5a0c817114e27cbd042550e0840"
   },
   "outputs": [],
   "source": [
    "visualize_distribution(\"Status of existing checking account\")"
   ]
  },
  {
   "cell_type": "markdown",
   "metadata": {
    "_uuid": "4c64bb1aa762f28918199928144c10ffee8dec10"
   },
   "source": [
    "#### Credit history\n",
    "A credit history is a record of a borrower's responsible repayment of debts."
   ]
  },
  {
   "cell_type": "code",
   "execution_count": null,
   "metadata": {
    "_kg_hide-input": true,
    "_uuid": "a0bd98085ded0099a2c01b3578ffd3e9ba06314c"
   },
   "outputs": [],
   "source": [
    "visualize_distribution(\"Credit history\")"
   ]
  },
  {
   "cell_type": "markdown",
   "metadata": {
    "_uuid": "a3aec4c396a2a25422e8cca1a2d3daccff3c7820"
   },
   "source": [
    "#### Purpose\n",
    "The underlying reason an applicant is seeking a loan"
   ]
  },
  {
   "cell_type": "code",
   "execution_count": null,
   "metadata": {
    "_kg_hide-input": true,
    "_uuid": "34c152cab835c329bbdc3fd7b7d4858330c6edbb"
   },
   "outputs": [],
   "source": [
    "visualize_distribution(\"Purpose\")"
   ]
  },
  {
   "cell_type": "markdown",
   "metadata": {
    "_uuid": "0749476e1662e43fdd79e09c68f0494041e66a6a"
   },
   "source": [
    "#### Savings account/bonds\n",
    "A savings account is an interest-bearing deposit account held at a bank or other financial institution that provides a modest interest rate.m"
   ]
  },
  {
   "cell_type": "code",
   "execution_count": null,
   "metadata": {
    "_kg_hide-input": true,
    "_uuid": "b81f23dcd55d73aa2c4b48e85816ecca0d5fcae7"
   },
   "outputs": [],
   "source": [
    "visualize_distribution(\"Savings account/bonds\")"
   ]
  },
  {
   "cell_type": "markdown",
   "metadata": {
    "_uuid": "2a4c2eb6e04c90bd5721b85f10d96860434243aa"
   },
   "source": [
    "#### Present employment since\n"
   ]
  },
  {
   "cell_type": "code",
   "execution_count": null,
   "metadata": {
    "_kg_hide-input": true,
    "_uuid": "0db74eb5fbfabf70691cd4296ae94ea9538bdaab"
   },
   "outputs": [],
   "source": [
    "visualize_distribution(\"Present employment since\")"
   ]
  },
  {
   "cell_type": "markdown",
   "metadata": {
    "_uuid": "1ce72dd3f8521d2ee542d7e5913ef162e9ec19e2"
   },
   "source": [
    "#### Installment rate in percentage of disposable income"
   ]
  },
  {
   "cell_type": "code",
   "execution_count": null,
   "metadata": {
    "_kg_hide-input": true,
    "_uuid": "c4d7c0f6f842a08bc5f8edd4a7a002bdf62300f4"
   },
   "outputs": [],
   "source": [
    "visualize_distribution(\"Installment rate in percentage of disposable income\")"
   ]
  },
  {
   "cell_type": "markdown",
   "metadata": {
    "_uuid": "4820823e67bf92f143c833ec53cb6c27608b2f15"
   },
   "source": [
    "#### Personal status and sex"
   ]
  },
  {
   "cell_type": "code",
   "execution_count": null,
   "metadata": {
    "_kg_hide-input": true,
    "_uuid": "6a632659b138275553bcff87f14dc508b1456865"
   },
   "outputs": [],
   "source": [
    "visualize_distribution(\"Personal status and sex\")"
   ]
  },
  {
   "cell_type": "markdown",
   "metadata": {
    "_uuid": "710a2088e040b3f40272993ebb87c0878f18cfd7"
   },
   "source": [
    "#### Other debtors / guarantors\n",
    "A guarantor is a person who guarantees to pay for someone else's debt if he or she should default on a loan obligation. A guarantor acts as a co-signer of sorts, in that they pledge their own assets or services if a situation arises in which the original debtor cannot perform their obligations"
   ]
  },
  {
   "cell_type": "code",
   "execution_count": null,
   "metadata": {
    "_kg_hide-input": true,
    "_uuid": "f3c83d299403401de5a85edae0a26378255d1531"
   },
   "outputs": [],
   "source": [
    "visualize_distribution(\"Other debtors / guarantors\")"
   ]
  },
  {
   "cell_type": "markdown",
   "metadata": {
    "_uuid": "fb214c777ddfb816f0cfca1538d881eac5fb9ec1"
   },
   "source": [
    "#### Present residence since"
   ]
  },
  {
   "cell_type": "code",
   "execution_count": null,
   "metadata": {
    "_kg_hide-input": true,
    "_uuid": "bc67f69ce7ce6561f6dcedf4e30f2b2ad50dbf42"
   },
   "outputs": [],
   "source": [
    "visualize_distribution(\"Present residence since\")"
   ]
  },
  {
   "cell_type": "markdown",
   "metadata": {
    "_uuid": "e1aad6372f3e9dff9e031471687a658a800c0149"
   },
   "source": [
    "#### Property\n",
    "Borrower's property"
   ]
  },
  {
   "cell_type": "code",
   "execution_count": null,
   "metadata": {
    "_kg_hide-input": true,
    "_uuid": "1ec57f9dc3a46940060762cbd7a5ddc9c0c0e908"
   },
   "outputs": [],
   "source": [
    "visualize_distribution(\"Property\")"
   ]
  },
  {
   "cell_type": "markdown",
   "metadata": {
    "_uuid": "6993da9f62cfef29a476b2705f1139910850210a"
   },
   "source": [
    "#### Other installment plans\n",
    "Installment plan enable people to buy goods over an extended period of time, without having to put down very much money at the time of purchase"
   ]
  },
  {
   "cell_type": "code",
   "execution_count": null,
   "metadata": {
    "_kg_hide-input": true,
    "_uuid": "7a1b33f89cc2fa4bd6243e186067ba973088d583"
   },
   "outputs": [],
   "source": [
    "visualize_distribution(\"Other installment plans\")"
   ]
  },
  {
   "cell_type": "markdown",
   "metadata": {
    "_uuid": "c2cbc5d1e6fa62aa1aadee257bf986cc613b9cb9"
   },
   "source": [
    "#### Housing"
   ]
  },
  {
   "cell_type": "code",
   "execution_count": null,
   "metadata": {
    "_kg_hide-input": true,
    "_uuid": "cbbbb3028f9bf4dac944f2b84c9fb7437360a817"
   },
   "outputs": [],
   "source": [
    "visualize_distribution(\"Housing\")"
   ]
  },
  {
   "cell_type": "markdown",
   "metadata": {
    "_uuid": "30b78f097a6fa1b57846a9cbe3ad9f046d2441e0"
   },
   "source": [
    "#### Number of existing credits at this bank"
   ]
  },
  {
   "cell_type": "code",
   "execution_count": null,
   "metadata": {
    "_kg_hide-input": true,
    "_uuid": "e9349c7f7a1d188a32eff8ec9e25261651f6129b"
   },
   "outputs": [],
   "source": [
    "visualize_distribution(\"Number of existing credits at this bank\")"
   ]
  },
  {
   "cell_type": "markdown",
   "metadata": {
    "_uuid": "60ade8f176e5ae813629955f5db5f70570f988f4"
   },
   "source": [
    "#### Number of people being liable to provide maintenance for"
   ]
  },
  {
   "cell_type": "code",
   "execution_count": null,
   "metadata": {
    "_kg_hide-input": true,
    "_uuid": "f8d83ed2636c931d7d3ac0d62948c0aac699d5f1"
   },
   "outputs": [],
   "source": [
    "visualize_distribution(\"Number of people being liable to provide maintenance for\")"
   ]
  },
  {
   "cell_type": "markdown",
   "metadata": {
    "_uuid": "d407b5bfdaf1879b0c2ea0cfff26b14ac0288a47"
   },
   "source": [
    "#### Foreign worker"
   ]
  },
  {
   "cell_type": "code",
   "execution_count": null,
   "metadata": {
    "_kg_hide-input": true,
    "_uuid": "1038190380439aaac765019e08fa1ad89ea81875"
   },
   "outputs": [],
   "source": [
    "visualize_distribution(\"foreign worker\")"
   ]
  },
  {
   "cell_type": "markdown",
   "metadata": {
    "_uuid": "a614c19dea37ca441af9a9621431efb0c23cad21"
   },
   "source": [
    "#### Duration in Year\n",
    "Duration in month converted to years.\n"
   ]
  },
  {
   "cell_type": "code",
   "execution_count": null,
   "metadata": {
    "_kg_hide-input": true,
    "_uuid": "dcdbd67f2213aef1c7dc71fd82e090a4c3c7a033"
   },
   "outputs": [],
   "source": [
    "df[\"Duration in year\"]=df[\"Duration in month\"].apply(lambda x: (floor(x/12)))\n",
    "visualize_distribution(\"Duration in year\")"
   ]
  },
  {
   "cell_type": "markdown",
   "metadata": {
    "_uuid": "63e0e443f4e34848a3c6848d422be09d552829ef"
   },
   "source": [
    "#### Age category\n",
    "age converted to categorica variable based on range"
   ]
  },
  {
   "cell_type": "code",
   "execution_count": null,
   "metadata": {
    "_kg_hide-input": true,
    "_uuid": "08443fe97fd8fb528efe066d3ab0210c872ba446"
   },
   "outputs": [],
   "source": [
    "age_interval = [18, 24, 35, 55, 120]\n",
    "age_category = ['Student', 'Young-Adult', 'Middle-Aged Adult', 'Senior']\n",
    "df[\"Age_Category\"] = pd.cut(df[\"Age in years\"], age_interval, labels=age_category)\n",
    "visualize_distribution(\"Age_Category\")\n"
   ]
  },
  {
   "cell_type": "markdown",
   "metadata": {
    "_uuid": "34231fe3d140bf78594dd02f0c6dc46f130f459d"
   },
   "source": [
    "### <a name=\"numerical-eda\">Numerical Variable</a>"
   ]
  },
  {
   "cell_type": "code",
   "execution_count": null,
   "metadata": {
    "_kg_hide-input": true,
    "_uuid": "bc3c11da7fd2cfca9bdbdd444b5c6cff168fc38a"
   },
   "outputs": [],
   "source": [
    "sns.set()\n",
    "f, axes = plt.subplots(1, 3,figsize=(15,5))\n",
    "sns.boxplot(y=df[\"Credit amount\"],x=df[\"Cost Matrix(Risk)\"],orient='v' , ax=axes[0],palette=[\"#5975A4\",\"#B55D60\"]) #box plot\n",
    "sns.boxplot(y=df[\"Duration in month\"],x=df[\"Cost Matrix(Risk)\"], orient='v' , ax=axes[1],palette=[\"#5975A4\",\"#B55D60\"]) #box plot\n",
    "sns.boxplot(y=df[\"Age in years\"],x=df[\"Cost Matrix(Risk)\"], orient='v' , ax=axes[2],palette=[\"#5975A4\",\"#B55D60\"]) #box plot\n",
    "plt.show()"
   ]
  },
  {
   "cell_type": "markdown",
   "metadata": {
    "_uuid": "95915e5767ebf56d8507b706e90c83245b24da04"
   },
   "source": [
    "### <a name=\"feature-selection\">Feature Selection</a>"
   ]
  },
  {
   "cell_type": "code",
   "execution_count": null,
   "metadata": {
    "_kg_hide-input": true,
    "_uuid": "4461220229b2f2ccf88240b3ed8b6b0d4221d050"
   },
   "outputs": [],
   "source": [
    "column_names_cat_stats=[\"Status of existing checking account\",\"Credit history\",\"Purpose\",\\\n",
    "\"Savings account/bonds\",\"Present employment since\",\\\n",
    "\"Installment rate in percentage of disposable income\",\"Personal status and sex\",\\\n",
    "\"Other debtors / guarantors\",\"Present residence since\",\"Property\",\\\n",
    "\"Other installment plans\",\"Housing\",\"Number of existing credits at this bank\",\\\n",
    "\"Job\",\"Number of people being liable to provide maintenance for\",\"Telephone\",\"foreign worker\"]\n",
    "\n",
    "statistical_significance=[]\n",
    "for attr in column_names_cat_stats:\n",
    "    data_count=pd.crosstab(df[attr],df[\"Cost Matrix(Risk)\"]).reset_index()\n",
    "    obs=np.asarray(data_count[[\"Bad Risk\",\"Good Risk\"]])\n",
    "    chi2, p, dof, expected = stats.chi2_contingency(obs)\n",
    "    statistical_significance.append([attr,round(p,6)])\n",
    "statistical_significance=pd.DataFrame(statistical_significance)\n",
    "statistical_significance.columns=[\"Attribute\",\"P-value\"]\n",
    "display(statistical_significance.style.apply(style_stats_specific_cell, axis=None))\n",
    "\n",
    "\n",
    "statistical_significance=[]\n",
    "column_names_cont_stats=[\"Credit amount\",\"Age in years\",\"Duration in month\"]\n",
    "good_risk_df = df[df[\"Cost Matrix(Risk)\"]==\"Good Risk\"]\n",
    "bad_risk_df = df[df[\"Cost Matrix(Risk)\"]==\"Bad Risk\"]\n",
    "for attr in column_names_cont_stats:\n",
    "    statistic, p=stats.f_oneway(good_risk_df[attr].values,bad_risk_df[attr].values)\n",
    "    statistical_significance.append([attr,round(p,6)])\n",
    "statistical_significance=pd.DataFrame(statistical_significance)\n",
    "statistical_significance.columns=[\"Attribute\",\"P-value\"]\n",
    "display(statistical_significance.style.apply(style_stats_specific_cell, axis=None))"
   ]
  },
  {
   "cell_type": "markdown",
   "metadata": {
    "_uuid": "396cf316dd46e9335d226acfa524630e777b8edd"
   },
   "source": [
    "<a name=\"selected-feature\">__Selected_Features__</a>: Status of existing checking account, Credit history, Purpose,Savings account/bonds, Present employment since, Personal status and sex, Property, Other installment plans, Housing, foreign worker, Credit amount, Age in years, Duration in month"
   ]
  },
  {
   "cell_type": "code",
   "execution_count": null,
   "metadata": {
    "_uuid": "4b97bbf8d7e51a827a1bff922c91f94233e2c924"
   },
   "outputs": [],
   "source": [
    "attr_significant=[\"Status of existing checking account\",\"Credit history\",\"Purpose\",\\\n",
    "\"Savings account/bonds\",\"Present employment since\",\\\n",
    "\"Personal status and sex\",\"Property\",\"Other installment plans\",\"Housing\",\"foreign worker\",\\\n",
    "\"Credit amount\",\"Age in years\",\"Duration in month\"]\n",
    "target_variable=[\"Cost Matrix(Risk)\"]\n",
    "df=df[attr_significant+target_variable]"
   ]
  },
  {
   "cell_type": "markdown",
   "metadata": {
    "_uuid": "9ea13af9db9e12b5dce006b00d9b34bb298dd452"
   },
   "source": [
    "<a name=\"data-pre\">__Creating Dummy Variable from Categorical Variables__</a>"
   ]
  },
  {
   "cell_type": "code",
   "execution_count": null,
   "metadata": {
    "_kg_hide-input": false,
    "_uuid": "86ec9371b80dc27e0dec98e67a08a8854030a897"
   },
   "outputs": [],
   "source": [
    "col_cat_names=[\"Status of existing checking account\",\"Credit history\",\"Purpose\",\\\n",
    "\"Savings account/bonds\",\"Present employment since\",\\\n",
    "\"Personal status and sex\",\"Property\",\"Other installment plans\",\"Housing\",\"foreign worker\"]\n",
    "for attr in col_cat_names:\n",
    "    df = df.merge(pd.get_dummies(df[attr], prefix=attr), left_index=True, right_index=True)\n",
    "    df.drop(attr,axis=1,inplace=True)\n",
    " \n",
    "#converting target variable into numeric\n",
    "risk={\"Good Risk\":1, \"Bad Risk\":0}\n",
    "df[\"Cost Matrix(Risk)\"]=df[\"Cost Matrix(Risk)\"].map(risk)\n"
   ]
  },
  {
   "cell_type": "code",
   "execution_count": null,
   "metadata": {
    "_uuid": "2a39d7b9727cde156638917353f0fbf4f5b42178"
   },
   "outputs": [],
   "source": [
    "#view of the dataset for modelling\n",
    "df.head()"
   ]
  },
  {
   "cell_type": "markdown",
   "metadata": {
    "_uuid": "108951de8b8f0083b2caf8c1271d3fcf2b97e3cd"
   },
   "source": [
    "####  <a name=\"pca\">Principal Component Analysis : Dimensionality Reduction</a>"
   ]
  },
  {
   "cell_type": "code",
   "execution_count": null,
   "metadata": {
    "_uuid": "d68e3cd5e6d4623433854f7f0c8e4c9463314730"
   },
   "outputs": [],
   "source": [
    "X = df.drop('Cost Matrix(Risk)', 1).values #independent variables\n",
    "y = df[\"Cost Matrix(Risk)\"].values #target variables\n",
    "\n",
    "pca = PCA(n_components=16)\n",
    "X = pca.fit_transform(X)\n"
   ]
  },
  {
   "cell_type": "markdown",
   "metadata": {
    "_uuid": "5404fc8195f8a845d0e0876f01d8cd0410e0abde"
   },
   "source": [
    "### <a name=\"model\">Modelling</a>"
   ]
  },
  {
   "cell_type": "markdown",
   "metadata": {
    "_uuid": "fe28f569228c317c9d6cf02838954c3c1bed9603"
   },
   "source": [
    "### <a name=\"train-test\">Train/Test Split </a>"
   ]
  },
  {
   "cell_type": "code",
   "execution_count": null,
   "metadata": {
    "_uuid": "6a8c2de4c8ef765096da7c64768da6e2251df5c9"
   },
   "outputs": [],
   "source": [
    "# Spliting dataset into train and test version\n",
    "X_train, X_test, y_train, y_test = train_test_split(X, y, test_size = 0.30,random_state=0)"
   ]
  },
  {
   "cell_type": "markdown",
   "metadata": {
    "_uuid": "8417aff74f8b90da6e01442b25a03335b38f1b63"
   },
   "source": [
    "### <a name=\"xgb\">Model: XGBClassifier</a>"
   ]
  },
  {
   "cell_type": "code",
   "execution_count": null,
   "metadata": {
    "_uuid": "b339b55a74f74ac73c7c67411bdf71da1eb97f52"
   },
   "outputs": [],
   "source": [
    "model=XGBClassifier()"
   ]
  },
  {
   "cell_type": "markdown",
   "metadata": {
    "_uuid": "b9503e083be732f4c7f507a997b1f205c9717964"
   },
   "source": [
    "### <a name=\"accuracy\">Accuracy Score</a>"
   ]
  },
  {
   "cell_type": "code",
   "execution_count": null,
   "metadata": {
    "_uuid": "570ee9b0942e4ebf07ae04222420a3d7fe6f35b0"
   },
   "outputs": [],
   "source": [
    "model.fit(X_train, y_train)\n",
    "y_pred = model.predict(X_test)\n",
    "print(\"Accuracy: \")\n",
    "print(round(accuracy_score(y_test,y_pred)*100,2))"
   ]
  },
  {
   "cell_type": "markdown",
   "metadata": {
    "_uuid": "fd383858c9138c613a3dd79736f7edb45c91a9e3"
   },
   "source": [
    "### <a name=\"roc\"> ROC curve </a>"
   ]
  },
  {
   "cell_type": "code",
   "execution_count": null,
   "metadata": {
    "_uuid": "beacdcaa7537a8e373dd33b9685ece0f09b20370"
   },
   "outputs": [],
   "source": [
    "y_pred_prob = model.predict_proba(X_test)[:,1]\n",
    "fpr, tpr, thresholds = roc_curve(y_test, y_pred_prob)\n",
    "plt.plot([0, 1], [0, 1], 'k--')\n",
    "plt.plot(fpr, tpr)\n",
    "plt.xlabel('False Positive Rate')\n",
    "plt.ylabel('True Positive Rate')\n",
    "plt.title('ROC Curve')\n",
    "plt.show()"
   ]
  }
 ],
 "metadata": {
  "kernelspec": {
   "display_name": "Python 3",
   "language": "python",
   "name": "python3"
  },
  "language_info": {
   "codemirror_mode": {
    "name": "ipython",
    "version": 3
   },
   "file_extension": ".py",
   "mimetype": "text/x-python",
   "name": "python",
   "nbconvert_exporter": "python",
   "pygments_lexer": "ipython3",
   "version": "3.8.5"
  }
 },
 "nbformat": 4,
 "nbformat_minor": 1
}
