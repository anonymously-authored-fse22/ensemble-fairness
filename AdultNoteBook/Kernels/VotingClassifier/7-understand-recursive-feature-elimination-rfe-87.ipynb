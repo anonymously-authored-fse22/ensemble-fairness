{
 "cells": [
  {
   "cell_type": "markdown",
   "execution_count": null,
   "metadata": {},
   "source": [
    "## Importing libraries "
   ]
  },
  {
   "cell_type": "code",
   "execution_count": 1,
   "metadata": {},
   "outputs": [],
   "source": [
    "from xgboost import XGBClassifier"
   ]
  },
  {
   "cell_type": "code",
   "execution_count": 2,
   "metadata": {},
   "outputs": [],
   "source": [
    "import numpy as np\n",
    "import pandas as pd\n",
    "import os\n",
    "import matplotlib.pyplot as plt\n",
    "import seaborn as sns\n",
    "from numpy import *\n",
    "#from IPython.core.display import display, HTML\n",
    "\n",
    "import warnings\n",
    "warnings.filterwarnings('ignore')\n",
    "warnings.simplefilter('ignore')"
   ]
  },
  {
   "cell_type": "code",
   "execution_count": 3,
   "metadata": {},
   "outputs": [],
   "source": [
    "import pandas as pd\n",
    "import numpy as np\n",
    "import matplotlib.pyplot as plt\n",
    "import seaborn as sns\n",
    "%matplotlib inline\n",
    "\n",
    "from collections import Counter\n",
    "\n",
    "from sklearn.ensemble import RandomForestClassifier, AdaBoostClassifier, GradientBoostingClassifier, ExtraTreesClassifier, VotingClassifier\n",
    "from sklearn.discriminant_analysis import LinearDiscriminantAnalysis\n",
    "from sklearn.linear_model import LogisticRegression\n",
    "from sklearn.neighbors import KNeighborsClassifier\n",
    "from sklearn.tree import DecisionTreeClassifier\n",
    "from sklearn.neural_network import MLPClassifier\n",
    "from sklearn.naive_bayes import GaussianNB\n",
    "from sklearn.ensemble import RandomForestClassifier\n",
    "from sklearn.model_selection import GridSearchCV, cross_val_score, StratifiedKFold, learning_curve, train_test_split, KFold\n",
    "from sklearn.metrics import classification_report\n",
    "from sklearn.metrics import confusion_matrix\n",
    "from sklearn.metrics import accuracy_score\n",
    "\n",
    "sns.set(style='white', context='notebook', palette='deep')"
   ]
  },
  {
   "cell_type": "markdown",
   "execution_count": null,
   "metadata": {},
   "source": [
    "# Getting the Dataset using Kaggle API"
   ]
  },
  {
   "cell_type": "code",
   "execution_count": 4,
   "metadata": {},
   "outputs": [
    {
     "name": "stdout",
     "output_type": "stream",
     "text": [
      "/kaggle/input/adult-census-income/adult.csv\n"
     ]
    }
   ],
   "source": [
    "import os\n",
    "for dirname, _, filenames in os.walk('/kaggle/input'):\n",
    "    for filename in filenames:\n",
    "        print(os.path.join(dirname, filename))"
   ]
  },
  {
   "cell_type": "code",
   "execution_count": 5,
   "metadata": {},
   "outputs": [
    {
     "data": {
      "text/html": [
       "<div>\n",
       "<style scoped>\n",
       "    .dataframe tbody tr th:only-of-type {\n",
       "        vertical-align: middle;\n",
       "    }\n",
       "\n",
       "    .dataframe tbody tr th {\n",
       "        vertical-align: top;\n",
       "    }\n",
       "\n",
       "    .dataframe thead th {\n",
       "        text-align: right;\n",
       "    }\n",
       "</style>\n",
       "<table border=\"1\" class=\"dataframe\">\n",
       "  <thead>\n",
       "    <tr style=\"text-align: right;\">\n",
       "      <th></th>\n",
       "      <th>age</th>\n",
       "      <th>workclass</th>\n",
       "      <th>fnlwgt</th>\n",
       "      <th>education</th>\n",
       "      <th>education.num</th>\n",
       "      <th>marital.status</th>\n",
       "      <th>occupation</th>\n",
       "      <th>relationship</th>\n",
       "      <th>race</th>\n",
       "      <th>sex</th>\n",
       "      <th>capital.gain</th>\n",
       "      <th>capital.loss</th>\n",
       "      <th>hours.per.week</th>\n",
       "      <th>native.country</th>\n",
       "      <th>income</th>\n",
       "    </tr>\n",
       "  </thead>\n",
       "  <tbody>\n",
       "    <tr>\n",
       "      <th>0</th>\n",
       "      <td>90</td>\n",
       "      <td>?</td>\n",
       "      <td>77053</td>\n",
       "      <td>HS-grad</td>\n",
       "      <td>9</td>\n",
       "      <td>Widowed</td>\n",
       "      <td>?</td>\n",
       "      <td>Not-in-family</td>\n",
       "      <td>White</td>\n",
       "      <td>Female</td>\n",
       "      <td>0</td>\n",
       "      <td>4356</td>\n",
       "      <td>40</td>\n",
       "      <td>United-States</td>\n",
       "      <td>&lt;=50K</td>\n",
       "    </tr>\n",
       "    <tr>\n",
       "      <th>1</th>\n",
       "      <td>82</td>\n",
       "      <td>Private</td>\n",
       "      <td>132870</td>\n",
       "      <td>HS-grad</td>\n",
       "      <td>9</td>\n",
       "      <td>Widowed</td>\n",
       "      <td>Exec-managerial</td>\n",
       "      <td>Not-in-family</td>\n",
       "      <td>White</td>\n",
       "      <td>Female</td>\n",
       "      <td>0</td>\n",
       "      <td>4356</td>\n",
       "      <td>18</td>\n",
       "      <td>United-States</td>\n",
       "      <td>&lt;=50K</td>\n",
       "    </tr>\n",
       "    <tr>\n",
       "      <th>2</th>\n",
       "      <td>66</td>\n",
       "      <td>?</td>\n",
       "      <td>186061</td>\n",
       "      <td>Some-college</td>\n",
       "      <td>10</td>\n",
       "      <td>Widowed</td>\n",
       "      <td>?</td>\n",
       "      <td>Unmarried</td>\n",
       "      <td>Black</td>\n",
       "      <td>Female</td>\n",
       "      <td>0</td>\n",
       "      <td>4356</td>\n",
       "      <td>40</td>\n",
       "      <td>United-States</td>\n",
       "      <td>&lt;=50K</td>\n",
       "    </tr>\n",
       "    <tr>\n",
       "      <th>3</th>\n",
       "      <td>54</td>\n",
       "      <td>Private</td>\n",
       "      <td>140359</td>\n",
       "      <td>7th-8th</td>\n",
       "      <td>4</td>\n",
       "      <td>Divorced</td>\n",
       "      <td>Machine-op-inspct</td>\n",
       "      <td>Unmarried</td>\n",
       "      <td>White</td>\n",
       "      <td>Female</td>\n",
       "      <td>0</td>\n",
       "      <td>3900</td>\n",
       "      <td>40</td>\n",
       "      <td>United-States</td>\n",
       "      <td>&lt;=50K</td>\n",
       "    </tr>\n",
       "    <tr>\n",
       "      <th>4</th>\n",
       "      <td>41</td>\n",
       "      <td>Private</td>\n",
       "      <td>264663</td>\n",
       "      <td>Some-college</td>\n",
       "      <td>10</td>\n",
       "      <td>Separated</td>\n",
       "      <td>Prof-specialty</td>\n",
       "      <td>Own-child</td>\n",
       "      <td>White</td>\n",
       "      <td>Female</td>\n",
       "      <td>0</td>\n",
       "      <td>3900</td>\n",
       "      <td>40</td>\n",
       "      <td>United-States</td>\n",
       "      <td>&lt;=50K</td>\n",
       "    </tr>\n",
       "  </tbody>\n",
       "</table>\n",
       "</div>"
      ],
      "text/plain": [
       "   age workclass  fnlwgt     education  education.num marital.status  \\\n",
       "0   90         ?   77053       HS-grad              9        Widowed   \n",
       "1   82   Private  132870       HS-grad              9        Widowed   \n",
       "2   66         ?  186061  Some-college             10        Widowed   \n",
       "3   54   Private  140359       7th-8th              4       Divorced   \n",
       "4   41   Private  264663  Some-college             10      Separated   \n",
       "\n",
       "          occupation   relationship   race     sex  capital.gain  \\\n",
       "0                  ?  Not-in-family  White  Female             0   \n",
       "1    Exec-managerial  Not-in-family  White  Female             0   \n",
       "2                  ?      Unmarried  Black  Female             0   \n",
       "3  Machine-op-inspct      Unmarried  White  Female             0   \n",
       "4     Prof-specialty      Own-child  White  Female             0   \n",
       "\n",
       "   capital.loss  hours.per.week native.country income  \n",
       "0          4356              40  United-States  <=50K  \n",
       "1          4356              18  United-States  <=50K  \n",
       "2          4356              40  United-States  <=50K  \n",
       "3          3900              40  United-States  <=50K  \n",
       "4          3900              40  United-States  <=50K  "
      ]
     },
     "execution_count": 5,
     "metadata": {},
     "output_type": "execute_result"
    }
   ],
   "source": [
    "data_kaggle = pd.read_csv(\"../input/adult-census-income/adult.csv\")\n",
    "data_kaggle.head()"
   ]
  },
  {
   "cell_type": "code",
   "execution_count": 6,
   "metadata": {},
   "outputs": [
    {
     "data": {
      "text/plain": [
       "(32561, 15)"
      ]
     },
     "execution_count": 6,
     "metadata": {},
     "output_type": "execute_result"
    }
   ],
   "source": [
    "#Total rows, column\n",
    "data_kaggle.shape"
   ]
  },
  {
   "cell_type": "markdown",
   "execution_count": null,
   "metadata": {},
   "source": [
    "#### Total rows are 32561, while columns or variables or fields are 14, plus categorical 1 target class field "
   ]
  },
  {
   "cell_type": "markdown",
   "execution_count": null,
   "metadata": {},
   "source": [
    "# Exploratory Data Analysis and Feature Engineering"
   ]
  },
  {
   "cell_type": "markdown",
   "execution_count": null,
   "metadata": {},
   "source": [
    "#### Displaying datatypes and number of non-mising rows in every variable. Results show that there are no missing values in the dataset. "
   ]
  },
  {
   "cell_type": "code",
   "execution_count": 7,
   "metadata": {},
   "outputs": [
    {
     "name": "stdout",
     "output_type": "stream",
     "text": [
      "<class 'pandas.core.frame.DataFrame'>\n",
      "RangeIndex: 32561 entries, 0 to 32560\n",
      "Data columns (total 15 columns):\n",
      " #   Column          Non-Null Count  Dtype \n",
      "---  ------          --------------  ----- \n",
      " 0   age             32561 non-null  int64 \n",
      " 1   workclass       32561 non-null  object\n",
      " 2   fnlwgt          32561 non-null  int64 \n",
      " 3   education       32561 non-null  object\n",
      " 4   education.num   32561 non-null  int64 \n",
      " 5   marital.status  32561 non-null  object\n",
      " 6   occupation      32561 non-null  object\n",
      " 7   relationship    32561 non-null  object\n",
      " 8   race            32561 non-null  object\n",
      " 9   sex             32561 non-null  object\n",
      " 10  capital.gain    32561 non-null  int64 \n",
      " 11  capital.loss    32561 non-null  int64 \n",
      " 12  hours.per.week  32561 non-null  int64 \n",
      " 13  native.country  32561 non-null  object\n",
      " 14  income          32561 non-null  object\n",
      "dtypes: int64(6), object(9)\n",
      "memory usage: 3.7+ MB\n"
     ]
    }
   ],
   "source": [
    "#Displaying datatypes and number of non-missing value for each column \n",
    "data_kaggle.info()"
   ]
  },
  {
   "cell_type": "code",
   "execution_count": 8,
   "metadata": {},
   "outputs": [
    {
     "name": "stdout",
     "output_type": "stream",
     "text": [
      "shape with duplicate rows:  (32561, 15)\n",
      "shape without duplicate rows:  (32537, 15)\n"
     ]
    }
   ],
   "source": [
    "# Dropping the duplicate Rows\n",
    "\n",
    "print(\"shape with duplicate rows: \",data_kaggle.shape)\n",
    "data_kaggle = data_kaggle.drop_duplicates(keep = 'first')\n",
    "print(\"shape without duplicate rows: \",data_kaggle.shape)"
   ]
  },
  {
   "cell_type": "markdown",
   "execution_count": null,
   "metadata": {},
   "source": [
    "#### This is a summary statisics for numerical columns. Now lets identify various levels in the remaining categorical columns."
   ]
  },
  {
   "cell_type": "code",
   "execution_count": 9,
   "metadata": {},
   "outputs": [
    {
     "data": {
      "text/html": [
       "<div>\n",
       "<style scoped>\n",
       "    .dataframe tbody tr th:only-of-type {\n",
       "        vertical-align: middle;\n",
       "    }\n",
       "\n",
       "    .dataframe tbody tr th {\n",
       "        vertical-align: top;\n",
       "    }\n",
       "\n",
       "    .dataframe thead th {\n",
       "        text-align: right;\n",
       "    }\n",
       "</style>\n",
       "<table border=\"1\" class=\"dataframe\">\n",
       "  <thead>\n",
       "    <tr style=\"text-align: right;\">\n",
       "      <th></th>\n",
       "      <th>age</th>\n",
       "      <th>fnlwgt</th>\n",
       "      <th>education.num</th>\n",
       "      <th>capital.gain</th>\n",
       "      <th>capital.loss</th>\n",
       "      <th>hours.per.week</th>\n",
       "    </tr>\n",
       "  </thead>\n",
       "  <tbody>\n",
       "    <tr>\n",
       "      <th>count</th>\n",
       "      <td>32537.000000</td>\n",
       "      <td>3.253700e+04</td>\n",
       "      <td>32537.000000</td>\n",
       "      <td>32537.000000</td>\n",
       "      <td>32537.000000</td>\n",
       "      <td>32537.000000</td>\n",
       "    </tr>\n",
       "    <tr>\n",
       "      <th>mean</th>\n",
       "      <td>38.585549</td>\n",
       "      <td>1.897808e+05</td>\n",
       "      <td>10.081815</td>\n",
       "      <td>1078.443741</td>\n",
       "      <td>87.368227</td>\n",
       "      <td>40.440329</td>\n",
       "    </tr>\n",
       "    <tr>\n",
       "      <th>std</th>\n",
       "      <td>13.637984</td>\n",
       "      <td>1.055565e+05</td>\n",
       "      <td>2.571633</td>\n",
       "      <td>7387.957424</td>\n",
       "      <td>403.101833</td>\n",
       "      <td>12.346889</td>\n",
       "    </tr>\n",
       "    <tr>\n",
       "      <th>min</th>\n",
       "      <td>17.000000</td>\n",
       "      <td>1.228500e+04</td>\n",
       "      <td>1.000000</td>\n",
       "      <td>0.000000</td>\n",
       "      <td>0.000000</td>\n",
       "      <td>1.000000</td>\n",
       "    </tr>\n",
       "    <tr>\n",
       "      <th>25%</th>\n",
       "      <td>28.000000</td>\n",
       "      <td>1.178270e+05</td>\n",
       "      <td>9.000000</td>\n",
       "      <td>0.000000</td>\n",
       "      <td>0.000000</td>\n",
       "      <td>40.000000</td>\n",
       "    </tr>\n",
       "    <tr>\n",
       "      <th>50%</th>\n",
       "      <td>37.000000</td>\n",
       "      <td>1.783560e+05</td>\n",
       "      <td>10.000000</td>\n",
       "      <td>0.000000</td>\n",
       "      <td>0.000000</td>\n",
       "      <td>40.000000</td>\n",
       "    </tr>\n",
       "    <tr>\n",
       "      <th>75%</th>\n",
       "      <td>48.000000</td>\n",
       "      <td>2.369930e+05</td>\n",
       "      <td>12.000000</td>\n",
       "      <td>0.000000</td>\n",
       "      <td>0.000000</td>\n",
       "      <td>45.000000</td>\n",
       "    </tr>\n",
       "    <tr>\n",
       "      <th>max</th>\n",
       "      <td>90.000000</td>\n",
       "      <td>1.484705e+06</td>\n",
       "      <td>16.000000</td>\n",
       "      <td>99999.000000</td>\n",
       "      <td>4356.000000</td>\n",
       "      <td>99.000000</td>\n",
       "    </tr>\n",
       "  </tbody>\n",
       "</table>\n",
       "</div>"
      ],
      "text/plain": [
       "                age        fnlwgt  education.num  capital.gain  capital.loss  \\\n",
       "count  32537.000000  3.253700e+04   32537.000000  32537.000000  32537.000000   \n",
       "mean      38.585549  1.897808e+05      10.081815   1078.443741     87.368227   \n",
       "std       13.637984  1.055565e+05       2.571633   7387.957424    403.101833   \n",
       "min       17.000000  1.228500e+04       1.000000      0.000000      0.000000   \n",
       "25%       28.000000  1.178270e+05       9.000000      0.000000      0.000000   \n",
       "50%       37.000000  1.783560e+05      10.000000      0.000000      0.000000   \n",
       "75%       48.000000  2.369930e+05      12.000000      0.000000      0.000000   \n",
       "max       90.000000  1.484705e+06      16.000000  99999.000000   4356.000000   \n",
       "\n",
       "       hours.per.week  \n",
       "count    32537.000000  \n",
       "mean        40.440329  \n",
       "std         12.346889  \n",
       "min          1.000000  \n",
       "25%         40.000000  \n",
       "50%         40.000000  \n",
       "75%         45.000000  \n",
       "max         99.000000  "
      ]
     },
     "execution_count": 9,
     "metadata": {},
     "output_type": "execute_result"
    }
   ],
   "source": [
    "data_kaggle.describe()"
   ]
  },
  {
   "cell_type": "markdown",
   "execution_count": null,
   "metadata": {},
   "source": [
    "#### This block shows that Native.country, workclass, and occupation have literal value '?' inside them"
   ]
  },
  {
   "cell_type": "code",
   "execution_count": 10,
   "metadata": {},
   "outputs": [
    {
     "name": "stdout",
     "output_type": "stream",
     "text": [
      "Index(['age', 'workclass', 'fnlwgt', 'education', 'education.num',\n",
      "       'marital.status', 'occupation', 'relationship', 'race', 'sex',\n",
      "       'capital.gain', 'capital.loss', 'hours.per.week', 'native.country',\n",
      "       'income'],\n",
      "      dtype='object')\n",
      "workclass : ['?' 'Private' 'State-gov' 'Federal-gov' 'Self-emp-not-inc' 'Self-emp-inc'\n",
      " 'Local-gov' 'Without-pay' 'Never-worked']\n",
      "education : ['HS-grad' 'Some-college' '7th-8th' '10th' 'Doctorate' 'Prof-school'\n",
      " 'Bachelors' 'Masters' '11th' 'Assoc-acdm' 'Assoc-voc' '1st-4th' '5th-6th'\n",
      " '12th' '9th' 'Preschool']\n",
      "marital status : ['Widowed' 'Divorced' 'Separated' 'Never-married' 'Married-civ-spouse'\n",
      " 'Married-spouse-absent' 'Married-AF-spouse']\n",
      "occupation : ['?' 'Exec-managerial' 'Machine-op-inspct' 'Prof-specialty'\n",
      " 'Other-service' 'Adm-clerical' 'Craft-repair' 'Transport-moving'\n",
      " 'Handlers-cleaners' 'Sales' 'Farming-fishing' 'Tech-support'\n",
      " 'Protective-serv' 'Armed-Forces' 'Priv-house-serv']\n",
      "relationship : ['Not-in-family' 'Unmarried' 'Own-child' 'Other-relative' 'Husband' 'Wife']\n",
      "race : ['White' 'Black' 'Asian-Pac-Islander' 'Other' 'Amer-Indian-Eskimo']\n",
      "sex : ['Female' 'Male']\n",
      "native country : ['United-States' '?' 'Mexico' 'Greece' 'Vietnam' 'China' 'Taiwan' 'India'\n",
      " 'Philippines' 'Trinadad&Tobago' 'Canada' 'South' 'Holand-Netherlands'\n",
      " 'Puerto-Rico' 'Poland' 'Iran' 'England' 'Germany' 'Italy' 'Japan' 'Hong'\n",
      " 'Honduras' 'Cuba' 'Ireland' 'Cambodia' 'Peru' 'Nicaragua'\n",
      " 'Dominican-Republic' 'Haiti' 'El-Salvador' 'Hungary' 'Columbia'\n",
      " 'Guatemala' 'Jamaica' 'Ecuador' 'France' 'Yugoslavia' 'Scotland'\n",
      " 'Portugal' 'Laos' 'Thailand' 'Outlying-US(Guam-USVI-etc)']\n"
     ]
    }
   ],
   "source": [
    "#Displaying names of all columns\n",
    "print(data_kaggle.columns)\n",
    "#Displaying levels in all categorical columns\n",
    "print(\"workclass :\",data_kaggle.workclass.unique())\n",
    "print(\"education :\",data_kaggle.education.unique())\n",
    "print(\"marital status :\",data_kaggle['marital.status'].unique())\n",
    "print(\"occupation :\",data_kaggle.occupation.unique())\n",
    "print(\"relationship :\",data_kaggle.relationship.unique())\n",
    "print(\"race :\",data_kaggle.race.unique())\n",
    "print(\"sex :\",data_kaggle.sex.unique())\n",
    "print(\"native country :\",data_kaggle['native.country'].unique())\n"
   ]
  },
  {
   "cell_type": "markdown",
   "execution_count": null,
   "metadata": {},
   "source": [
    "#### Exploring target variable "
   ]
  },
  {
   "cell_type": "code",
   "execution_count": 11,
   "metadata": {},
   "outputs": [
    {
     "name": "stdout",
     "output_type": "stream",
     "text": [
      "['<=50K' '>50K']\n",
      "<=50K    24698\n",
      ">50K      7839\n",
      "Name: income, dtype: int64\n"
     ]
    }
   ],
   "source": [
    "#Displaying target field and distribution for two classes\n",
    "print(data_kaggle.income.unique())\n",
    "print(data_kaggle.income.value_counts())"
   ]
  },
  {
   "cell_type": "code",
   "execution_count": 12,
   "metadata": {},
   "outputs": [
    {
     "data": {
      "text/plain": [
       "<matplotlib.axes._subplots.AxesSubplot at 0x7f00dab27cd0>"
      ]
     },
     "execution_count": 12,
     "metadata": {},
     "output_type": "execute_result"
    },
    {
     "data": {
      "image/png": "[encoded data removed]",
      "text/plain": [
       "<Figure size 432x288 with 1 Axes>"
      ]
     },
     "metadata": {},
     "output_type": "display_data"
    }
   ],
   "source": [
    "# Count of >50K & <=50K\n",
    "sns.countplot(data_kaggle['income'],label=\"Count\")\n",
    "#sns.plt.show()"
   ]
  },
  {
   "cell_type": "code",
   "execution_count": 13,
   "metadata": {},
   "outputs": [
    {
     "data": {
      "image/png": "[encoded data removed]",
      "text/plain": [
       "<Figure size 864x864 with 6 Axes>"
      ]
     },
     "metadata": {},
     "output_type": "display_data"
    }
   ],
   "source": [
    "# Histogram Distribution of all numeric fields of the Dataset\n",
    "distribution = data_kaggle.hist(edgecolor = 'black', linewidth = 1.2, color = 'b')\n",
    "fig = plt.gcf()\n",
    "fig.set_size_inches(12,12)\n",
    "plt.show()"
   ]
  },
  {
   "cell_type": "markdown",
   "execution_count": null,
   "metadata": {},
   "source": [
    "#### Few insights from above graphs -\n",
    "* Capital gain and Capital Loss have maximum entries as 0. I will be combining the two fields later on as part of my feature engineering work.\n",
    "* Hours per week has maximum entries (almost half) as 40 hours. This will help in analysisng later on whwther this field can be converted into a categorical field and how it can be done.\n",
    "* Education number has most entries for 9, 10 and 13 levels. This column can be explored for conversion to lesser categories during the analysis.\n",
    "* Also note that, fnlwgt is weight of an observation.\n",
    "\n",
    "Please note that this above piece of EDA code of plotting histograms, is from kernel - https://www.kaggle.com/sumitm004/eda-and-income-predictions-86-75-accuracy. The analysis is all mine and I have included this kernel in my research too, pleease refer my report for details. "
   ]
  },
  {
   "cell_type": "code",
   "execution_count": 14,
   "metadata": {},
   "outputs": [
    {
     "data": {
      "text/plain": [
       "<matplotlib.axes._subplots.AxesSubplot at 0x7f00da2fd3d0>"
      ]
     },
     "execution_count": 14,
     "metadata": {},
     "output_type": "execute_result"
    },
    {
     "data": {
      "image/png": "[encoded data removed]",
      "text/plain": [
       "<Figure size 432x288 with 1 Axes>"
      ]
     },
     "metadata": {},
     "output_type": "display_data"
    }
   ],
   "source": [
    "#Plotting levels in all categorical columns\n",
    "data_kaggle.sex.value_counts().head(10).plot.bar()"
   ]
  },
  {
   "cell_type": "code",
   "execution_count": 15,
   "metadata": {},
   "outputs": [
    {
     "data": {
      "text/plain": [
       "<matplotlib.axes._subplots.AxesSubplot at 0x7f00da66ded0>"
      ]
     },
     "execution_count": 15,
     "metadata": {},
     "output_type": "execute_result"
    },
    {
     "data": {
      "image/png": "[encoded data removed]",
      "text/plain": [
       "<Figure size 432x288 with 1 Axes>"
      ]
     },
     "metadata": {},
     "output_type": "display_data"
    }
   ],
   "source": [
    "data_kaggle.workclass.value_counts().plot.bar()"
   ]
  },
  {
   "cell_type": "code",
   "execution_count": 16,
   "metadata": {},
   "outputs": [
    {
     "data": {
      "text/plain": [
       "<matplotlib.axes._subplots.AxesSubplot at 0x7f00fa916d50>"
      ]
     },
     "execution_count": 16,
     "metadata": {},
     "output_type": "execute_result"
    },
    {
     "data": {
      "image/png": "[encoded data removed]",
      "text/plain": [
       "<Figure size 432x288 with 1 Axes>"
      ]
     },
     "metadata": {},
     "output_type": "display_data"
    }
   ],
   "source": [
    "data_kaggle.education.value_counts().plot.bar()"
   ]
  },
  {
   "cell_type": "code",
   "execution_count": 17,
   "metadata": {},
   "outputs": [
    {
     "data": {
      "text/plain": [
       "<matplotlib.axes._subplots.AxesSubplot at 0x7f00da31f1d0>"
      ]
     },
     "execution_count": 17,
     "metadata": {},
     "output_type": "execute_result"
    },
    {
     "data": {
      "image/png": "[encoded data removed]",
      "text/plain": [
       "<Figure size 432x288 with 1 Axes>"
      ]
     },
     "metadata": {},
     "output_type": "display_data"
    }
   ],
   "source": [
    "data_kaggle['education.num'].value_counts().plot.bar()"
   ]
  },
  {
   "cell_type": "markdown",
   "execution_count": null,
   "metadata": {},
   "source": [
    "#### Some insights:\n",
    "* Educatin and education.num stands for same dimension.\n",
    "* education.num is not the years spent in education but is an ordinal ranking to corresponding education level"
   ]
  },
  {
   "cell_type": "code",
   "execution_count": 18,
   "metadata": {},
   "outputs": [
    {
     "data": {
      "text/plain": [
       "<matplotlib.axes._subplots.AxesSubplot at 0x7f00da500790>"
      ]
     },
     "execution_count": 18,
     "metadata": {},
     "output_type": "execute_result"
    },
    {
     "data": {
      "image/png": "[encoded data removed]",
      "text/plain": [
       "<Figure size 432x288 with 1 Axes>"
      ]
     },
     "metadata": {},
     "output_type": "display_data"
    }
   ],
   "source": [
    "data_kaggle['marital.status'].value_counts().plot.bar()"
   ]
  },
  {
   "cell_type": "code",
   "execution_count": 19,
   "metadata": {},
   "outputs": [
    {
     "data": {
      "text/plain": [
       "<matplotlib.axes._subplots.AxesSubplot at 0x7f00da487790>"
      ]
     },
     "execution_count": 19,
     "metadata": {},
     "output_type": "execute_result"
    },
    {
     "data": {
      "image/png": "[encoded data removed]",
      "text/plain": [
       "<Figure size 432x288 with 1 Axes>"
      ]
     },
     "metadata": {},
     "output_type": "display_data"
    }
   ],
   "source": [
    "data_kaggle.occupation.value_counts().plot.bar()"
   ]
  },
  {
   "cell_type": "code",
   "execution_count": 20,
   "metadata": {},
   "outputs": [
    {
     "data": {
      "text/plain": [
       "<matplotlib.axes._subplots.AxesSubplot at 0x7f00da380bd0>"
      ]
     },
     "execution_count": 20,
     "metadata": {},
     "output_type": "execute_result"
    },
    {
     "data": {
      "image/png": "[encoded data removed]",
      "text/plain": [
       "<Figure size 432x288 with 1 Axes>"
      ]
     },
     "metadata": {},
     "output_type": "display_data"
    }
   ],
   "source": [
    "data_kaggle.relationship.value_counts().plot.bar()"
   ]
  },
  {
   "cell_type": "code",
   "execution_count": 21,
   "metadata": {},
   "outputs": [
    {
     "data": {
      "text/plain": [
       "<matplotlib.axes._subplots.AxesSubplot at 0x7f00da20c9d0>"
      ]
     },
     "execution_count": 21,
     "metadata": {},
     "output_type": "execute_result"
    },
    {
     "data": {
      "image/png": "[encoded data removed]",
      "text/plain": [
       "<Figure size 432x288 with 1 Axes>"
      ]
     },
     "metadata": {},
     "output_type": "display_data"
    }
   ],
   "source": [
    "data_kaggle.race.value_counts().plot.bar()"
   ]
  },
  {
   "cell_type": "code",
   "execution_count": 22,
   "metadata": {},
   "outputs": [
    {
     "data": {
      "text/plain": [
       "<matplotlib.axes._subplots.AxesSubplot at 0x7f00da1f5750>"
      ]
     },
     "execution_count": 22,
     "metadata": {},
     "output_type": "execute_result"
    },
    {
     "data": {
      "image/png": "[encoded data removed]",
      "text/plain": [
       "<Figure size 432x288 with 1 Axes>"
      ]
     },
     "metadata": {},
     "output_type": "display_data"
    }
   ],
   "source": [
    "data_kaggle.sex.value_counts().plot.bar()"
   ]
  },
  {
   "cell_type": "code",
   "execution_count": 23,
   "metadata": {},
   "outputs": [
    {
     "data": {
      "text/plain": [
       "<matplotlib.axes._subplots.AxesSubplot at 0x7f00da154410>"
      ]
     },
     "execution_count": 23,
     "metadata": {},
     "output_type": "execute_result"
    },
    {
     "data": {
      "image/png": "[encoded data removed]",
      "text/plain": [
       "<Figure size 432x288 with 1 Axes>"
      ]
     },
     "metadata": {},
     "output_type": "display_data"
    }
   ],
   "source": [
    "data_kaggle['native.country'].value_counts().plot.bar()"
   ]
  },
  {
   "cell_type": "code",
   "execution_count": 24,
   "metadata": {},
   "outputs": [
    {
     "data": {
      "image/png": "[encoded data removed]",
      "text/plain": [
       "<Figure size 1080x432 with 1 Axes>"
      ]
     },
     "metadata": {},
     "output_type": "display_data"
    }
   ],
   "source": [
    "#Plotting Sex along with the target field income. This has shown that most of the females are earning lesser than 50000 dollars\n",
    "#Thus Sex can be a good predictor of target class.\n",
    "pd.crosstab(data_kaggle['sex'],data_kaggle['income']).plot(kind=\"bar\",figsize=(15,6) )\n",
    "plt.title('Income  for Sex')\n",
    "plt.xlabel('Sex (0 = Female, 1 = Male)')\n",
    "plt.xticks(rotation=0)\n",
    "plt.ylabel('Frequency')\n",
    "plt.show()\n"
   ]
  },
  {
   "cell_type": "markdown",
   "execution_count": null,
   "metadata": {},
   "source": [
    "This EDA code for exploring sex and income together, is taken from a kernel which can be found here - https://www.kaggle.com/lodetomasi1995/income-classification-eda-azure-dataset. \n"
   ]
  },
  {
   "cell_type": "markdown",
   "execution_count": null,
   "metadata": {},
   "source": [
    "#### Few insights from plotting categorical variables\n",
    "* Very high majority has their 'Native Country' as USA. I can recode this variable as 0 and 1, keeping 1 for USa and 0 for rest of the countries or vice-versa\n",
    "* Similarly, Race can be recoded with 'white' as 1 and others as 0.\n",
    "* In workclass variable, '?' is 4th most occurring value, and in occupation its 8th most occuring. \n"
   ]
  },
  {
   "cell_type": "code",
   "execution_count": 25,
   "metadata": {},
   "outputs": [
    {
     "name": "stdout",
     "output_type": "stream",
     "text": [
      "1843\n",
      "1836\n"
     ]
    }
   ],
   "source": [
    "#Getting count of '?' in occupation\n",
    "count_occu = data_kaggle[data_kaggle.occupation == '?'].occupation.count()\n",
    "print(count_occu)\n",
    "#Getting count of '?' in workclass\n",
    "count_work = data_kaggle[data_kaggle.workclass == '?'].workclass.count()\n",
    "print(count_work)"
   ]
  },
  {
   "cell_type": "code",
   "execution_count": 26,
   "metadata": {},
   "outputs": [
    {
     "data": {
      "text/plain": [
       "?               1836\n",
       "Never-worked       7\n",
       "Name: workclass, dtype: int64"
      ]
     },
     "execution_count": 26,
     "metadata": {},
     "output_type": "execute_result"
    }
   ],
   "source": [
    "#Getting count of '?' in occupation\n",
    "data_kaggle[data_kaggle.occupation == '?'].workclass.value_counts()\n"
   ]
  },
  {
   "cell_type": "code",
   "execution_count": 27,
   "metadata": {},
   "outputs": [
    {
     "data": {
      "text/plain": [
       "?    1836\n",
       "Name: occupation, dtype: int64"
      ]
     },
     "execution_count": 27,
     "metadata": {},
     "output_type": "execute_result"
    }
   ],
   "source": [
    "#Getting count of '?' in occupation\n",
    "data_kaggle[data_kaggle.workclass == '?'].occupation.value_counts()\n"
   ]
  },
  {
   "cell_type": "markdown",
   "execution_count": null,
   "metadata": {},
   "source": [
    "#### Some insights :\n",
    "* When value for occupation is '?' , workclass is either '?' or 'Never worked'. And when value for workclass is '?' , occuptaion is  '?' too. \n",
    "* 1800 rows is a huge numuber, hence discarding the rows will not be a right decision. Instead, i will recode '?' with Not working' or 'Unemployed' in both the variables. It can be any other literal value too, but since both variables have '?' for same rows and general intuition says that status can be as unemploed too so going forward with this substitution.\n"
   ]
  },
  {
   "cell_type": "code",
   "execution_count": 28,
   "metadata": {},
   "outputs": [],
   "source": [
    "# This will replace \"?\" with \"unemployed\" \n",
    "data_kaggle.replace(to_replace =\"?\", \n",
    "                 value =\"unemployed\", inplace=True)"
   ]
  },
  {
   "cell_type": "markdown",
   "execution_count": null,
   "metadata": {},
   "source": [
    "Native country had '?' values too and now it is replaced with 'unempployed', which doesnt make sense. So changing the values, assigining a new category as 'unknown' for all '?' values. I am not dropping these values unlike how the kernels i have reviewed have done, as 583 rows is a significant number of rows.\n"
   ]
  },
  {
   "cell_type": "code",
   "execution_count": 29,
   "metadata": {},
   "outputs": [
    {
     "data": {
      "text/plain": [
       "(582, 15)"
      ]
     },
     "execution_count": 29,
     "metadata": {},
     "output_type": "execute_result"
    }
   ],
   "source": [
    "data_kaggle[data_kaggle['native.country'] == 'unemployed'].shape"
   ]
  },
  {
   "cell_type": "code",
   "execution_count": 30,
   "metadata": {},
   "outputs": [],
   "source": [
    "# This will replace \"?\" with \"unemployed\" \n",
    "data_kaggle['native.country'].replace(to_replace =\"unemployed\", \n",
    "                 value =\"unknown\", inplace=True)"
   ]
  },
  {
   "cell_type": "markdown",
   "execution_count": null,
   "metadata": {},
   "source": [
    "Now coming over to Capital gain and Capital loss variables -\n",
    "* Capital gain has more than 29k rows as 0\n",
    "* capital loss has 31k rows as 0\n",
    "* These two variables are in fact linked, as general intuition also indicates.\n",
    "* When Capital gain is 0 capital loss is either 0 or has a value, and when capital gain has a value, capital loss is always 0\n",
    "* When capital loss is 0, capital gain is either 0 or has a value, and when capital loss has a value, capital gain always has a value\n",
    "* This indicates and also as general intuition suggests - There can either be Nocapital gain and no capital loss (both are 0) , or there can be only a capital gain (when loss is 0 and gain has some value), or there can be only a capital loss at a time (when loss has a value, while gain is 0)\n",
    "\n",
    "* Thus, reengineering both columns as a single column or merging them together here. "
   ]
  },
  {
   "cell_type": "code",
   "execution_count": 31,
   "metadata": {},
   "outputs": [
    {
     "name": "stdout",
     "output_type": "stream",
     "text": [
      "(29825, 15)\n",
      "(31018, 15)\n"
     ]
    }
   ],
   "source": [
    "print(data_kaggle[data_kaggle['capital.gain']==0].shape)\n",
    "print(data_kaggle[data_kaggle['capital.loss']==0].shape)"
   ]
  },
  {
   "cell_type": "code",
   "execution_count": 32,
   "metadata": {
    "scrolled": true
   },
   "outputs": [
    {
     "data": {
      "text/html": [
       "<div>\n",
       "<style scoped>\n",
       "    .dataframe tbody tr th:only-of-type {\n",
       "        vertical-align: middle;\n",
       "    }\n",
       "\n",
       "    .dataframe tbody tr th {\n",
       "        vertical-align: top;\n",
       "    }\n",
       "\n",
       "    .dataframe thead th {\n",
       "        text-align: right;\n",
       "    }\n",
       "</style>\n",
       "<table border=\"1\" class=\"dataframe\">\n",
       "  <thead>\n",
       "    <tr style=\"text-align: right;\">\n",
       "      <th></th>\n",
       "      <th>capital.gain</th>\n",
       "      <th>capital.loss</th>\n",
       "    </tr>\n",
       "  </thead>\n",
       "  <tbody>\n",
       "    <tr>\n",
       "      <th>0</th>\n",
       "      <td>0</td>\n",
       "      <td>4356</td>\n",
       "    </tr>\n",
       "    <tr>\n",
       "      <th>1</th>\n",
       "      <td>0</td>\n",
       "      <td>4356</td>\n",
       "    </tr>\n",
       "    <tr>\n",
       "      <th>2</th>\n",
       "      <td>0</td>\n",
       "      <td>4356</td>\n",
       "    </tr>\n",
       "    <tr>\n",
       "      <th>3</th>\n",
       "      <td>0</td>\n",
       "      <td>3900</td>\n",
       "    </tr>\n",
       "    <tr>\n",
       "      <th>4</th>\n",
       "      <td>0</td>\n",
       "      <td>3900</td>\n",
       "    </tr>\n",
       "    <tr>\n",
       "      <th>...</th>\n",
       "      <td>...</td>\n",
       "      <td>...</td>\n",
       "    </tr>\n",
       "    <tr>\n",
       "      <th>32556</th>\n",
       "      <td>0</td>\n",
       "      <td>0</td>\n",
       "    </tr>\n",
       "    <tr>\n",
       "      <th>32557</th>\n",
       "      <td>0</td>\n",
       "      <td>0</td>\n",
       "    </tr>\n",
       "    <tr>\n",
       "      <th>32558</th>\n",
       "      <td>0</td>\n",
       "      <td>0</td>\n",
       "    </tr>\n",
       "    <tr>\n",
       "      <th>32559</th>\n",
       "      <td>0</td>\n",
       "      <td>0</td>\n",
       "    </tr>\n",
       "    <tr>\n",
       "      <th>32560</th>\n",
       "      <td>0</td>\n",
       "      <td>0</td>\n",
       "    </tr>\n",
       "  </tbody>\n",
       "</table>\n",
       "<p>29825 rows × 2 columns</p>\n",
       "</div>"
      ],
      "text/plain": [
       "       capital.gain  capital.loss\n",
       "0                 0          4356\n",
       "1                 0          4356\n",
       "2                 0          4356\n",
       "3                 0          3900\n",
       "4                 0          3900\n",
       "...             ...           ...\n",
       "32556             0             0\n",
       "32557             0             0\n",
       "32558             0             0\n",
       "32559             0             0\n",
       "32560             0             0\n",
       "\n",
       "[29825 rows x 2 columns]"
      ]
     },
     "execution_count": 32,
     "metadata": {},
     "output_type": "execute_result"
    }
   ],
   "source": [
    "data_kaggle[data_kaggle['capital.gain']==0].filter(['capital.gain','capital.loss'])"
   ]
  },
  {
   "cell_type": "code",
   "execution_count": 33,
   "metadata": {},
   "outputs": [
    {
     "data": {
      "text/plain": [
       "0       28306\n",
       "1902      202\n",
       "1977      168\n",
       "1887      159\n",
       "1848       51\n",
       "        ...  \n",
       "1411        1\n",
       "1539        1\n",
       "2472        1\n",
       "1944        1\n",
       "2201        1\n",
       "Name: capital.loss, Length: 92, dtype: int64"
      ]
     },
     "execution_count": 33,
     "metadata": {},
     "output_type": "execute_result"
    }
   ],
   "source": [
    "data_kaggle[data_kaggle['capital.gain']==0]['capital.loss'].value_counts()"
   ]
  },
  {
   "cell_type": "code",
   "execution_count": 34,
   "metadata": {},
   "outputs": [
    {
     "data": {
      "text/plain": [
       "0        28306\n",
       "15024      347\n",
       "7688       284\n",
       "7298       246\n",
       "99999      159\n",
       "         ...  \n",
       "4931         1\n",
       "1455         1\n",
       "6097         1\n",
       "22040        1\n",
       "1111         1\n",
       "Name: capital.gain, Length: 119, dtype: int64"
      ]
     },
     "execution_count": 34,
     "metadata": {},
     "output_type": "execute_result"
    }
   ],
   "source": [
    "data_kaggle[data_kaggle['capital.loss']==0]['capital.gain'].value_counts()"
   ]
  },
  {
   "cell_type": "code",
   "execution_count": 35,
   "metadata": {},
   "outputs": [
    {
     "data": {
      "text/plain": [
       "(28306, 15)"
      ]
     },
     "execution_count": 35,
     "metadata": {},
     "output_type": "execute_result"
    }
   ],
   "source": [
    "#Majority values are 0 for both gain and loss\n",
    "data_kaggle[(data_kaggle['capital.gain']==0) & (data_kaggle['capital.loss'] == 0)].shape"
   ]
  },
  {
   "cell_type": "code",
   "execution_count": 36,
   "metadata": {},
   "outputs": [],
   "source": [
    "#Merging two columns - such that a negative value means capital loss and positive value means capital gain\n",
    "data_kaggle['capital.flow'] =  data_kaggle['capital.gain'] - data_kaggle['capital.loss']"
   ]
  },
  {
   "cell_type": "code",
   "execution_count": 37,
   "metadata": {},
   "outputs": [
    {
     "data": {
      "text/plain": [
       " 0        28306\n",
       " 15024      347\n",
       " 7688       284\n",
       " 7298       246\n",
       "-1902       202\n",
       "          ...  \n",
       " 22040        1\n",
       " 2538         1\n",
       "-2467         1\n",
       "-2163         1\n",
       "-2080         1\n",
       "Name: capital.flow, Length: 210, dtype: int64"
      ]
     },
     "execution_count": 37,
     "metadata": {},
     "output_type": "execute_result"
    }
   ],
   "source": [
    "data_kaggle['capital.flow'].value_counts()"
   ]
  },
  {
   "cell_type": "code",
   "execution_count": 38,
   "metadata": {
    "scrolled": true
   },
   "outputs": [
    {
     "data": {
      "image/png": "[encoded data removed]",
      "text/plain": [
       "<Figure size 864x864 with 1 Axes>"
      ]
     },
     "metadata": {},
     "output_type": "display_data"
    }
   ],
   "source": [
    "# Histogram Distribution of newly created capital.flow of the Dataset\n",
    "distribution = data_kaggle['capital.flow'].hist(edgecolor = 'black', linewidth = 1.2, color = 'b')\n",
    "fig = plt.gcf()\n",
    "fig.set_size_inches(12,12)\n",
    "plt.show()"
   ]
  },
  {
   "cell_type": "markdown",
   "execution_count": null,
   "metadata": {},
   "source": [
    "#### Checking for Correlation and multicollinearity - \n",
    "* When variables are highly correlated, performance of classifiers can decrease. This problem is known as multicollinearity and solution is removing one of the correlated variables between the two.\n",
    "* Using Pearson's correlation we can test for correlation between numeric fields"
   ]
  },
  {
   "cell_type": "code",
   "execution_count": 39,
   "metadata": {},
   "outputs": [
    {
     "data": {
      "image/png": "[encoded data removed]",
      "text/plain": [
       "<Figure size 720x504 with 2 Axes>"
      ]
     },
     "metadata": {},
     "output_type": "display_data"
    }
   ],
   "source": [
    " #This heatmap shows the Correlation between the different variables\n",
    "plt.rcParams['figure.figsize'] = [10,7]\n",
    "sns.heatmap(data_kaggle.filter(['age','fnlwgt','capital.flow','hours.per.week']).corr(), annot = True);"
   ]
  },
  {
   "cell_type": "markdown",
   "execution_count": null,
   "metadata": {},
   "source": [
    "#### Observation:\n",
    "* The numberic variables are not highly or even moderateely correlated \n",
    "* It is safe to include the variables in building a model without worrying about multicollinearity\n"
   ]
  },
  {
   "cell_type": "markdown",
   "execution_count": null,
   "metadata": {},
   "source": [
    "### Selecting Features:\n",
    "1. Using SelectKBest method from scikit\n",
    "    + ANOVA for numerical input variables\n",
    "    + Chi-square for categorical inputs\n",
    "2. Using Recursive Feature Elimiation or RFE "
   ]
  },
  {
   "cell_type": "code",
   "execution_count": 40,
   "metadata": {},
   "outputs": [
    {
     "data": {
      "text/plain": [
       "array([[90, 'unemployed', 77053, ..., 'United-States', '<=50K', -4356],\n",
       "       [82, 'Private', 132870, ..., 'United-States', '<=50K', -4356],\n",
       "       [66, 'unemployed', 186061, ..., 'United-States', '<=50K', -4356],\n",
       "       ...,\n",
       "       [40, 'Private', 154374, ..., 'United-States', '>50K', 0],\n",
       "       [58, 'Private', 151910, ..., 'United-States', '<=50K', 0],\n",
       "       [22, 'Private', 201490, ..., 'United-States', '<=50K', 0]],\n",
       "      dtype=object)"
      ]
     },
     "execution_count": 40,
     "metadata": {},
     "output_type": "execute_result"
    }
   ],
   "source": [
    "data_kaggle.columns\n",
    "data_kaggle.values"
   ]
  },
  {
   "cell_type": "code",
   "execution_count": 41,
   "metadata": {},
   "outputs": [
    {
     "name": "stdout",
     "output_type": "stream",
     "text": [
      "[1885.31644122    2.93800147 1568.16796509 1811.53386553]\n"
     ]
    }
   ],
   "source": [
    "# Feature Selection with Univariate Statistical Tests - for Numeric inputs\n",
    "from pandas import read_csv\n",
    "from numpy import set_printoptions\n",
    "from sklearn.feature_selection import SelectKBest\n",
    "from sklearn.feature_selection import f_classif\n",
    "# load data\n",
    "names = ['age','fnlwgt','capital.flow','hours.per.week']\n",
    "X= data_kaggle[names]\n",
    "Y= data_kaggle['income']\n",
    "# Performing feature extraction using ANOVA method\n",
    "test = SelectKBest(score_func=f_classif, k=2)\n",
    "fit = test.fit(X, Y)\n",
    "# summarize scores\n",
    "feature_list_num = fit.scores_\n",
    "print(fit.scores_)"
   ]
  },
  {
   "cell_type": "markdown",
   "execution_count": null,
   "metadata": {},
   "source": [
    "#### Observations :\n",
    "* This shows that most relevant features are those with highest scores.\n",
    "* fnlwgt is has very low relevance score, and it is understood too. The data description on Kaggle also suggests that this field is just the weight of an observation calculated on the bigger dataset collected from all USA states. I will thus be discarding the field in all my model building atttempts. I have seen this happening in some of the kernels I researched too, however the author did not statistically determined the significance or the reason of discarding the field fnlwgt.  \n",
    "* I will be using age, capital.flow and hours.per.week in my models.\n",
    "* K value is meant for telling the algortithm how many variables i want to select finally while tranforming the data. In our case since I am only using it to understand the relative importance of features and not transforming the data, it doesn't matter what value i piut in for k (k=2,k=3,k=1 will all give same outputs here)\n",
    "* Also, I will be doing this analysis as a sub-loop while performing k-fold cross validation. The reason for doing this is that , firstly, it is a stochastic approach and hence for more robust conclusion we need multiple runs to understand the actual behaviour. Secondly, while i will be doing k-fold validation, the folds or train datasets will be different every time and hence the features might behave differently for different vallues. "
   ]
  },
  {
   "cell_type": "code",
   "execution_count": 42,
   "metadata": {},
   "outputs": [
    {
     "data": {
      "text/html": [
       "<div>\n",
       "<style scoped>\n",
       "    .dataframe tbody tr th:only-of-type {\n",
       "        vertical-align: middle;\n",
       "    }\n",
       "\n",
       "    .dataframe tbody tr th {\n",
       "        vertical-align: top;\n",
       "    }\n",
       "\n",
       "    .dataframe thead th {\n",
       "        text-align: right;\n",
       "    }\n",
       "</style>\n",
       "<table border=\"1\" class=\"dataframe\">\n",
       "  <thead>\n",
       "    <tr style=\"text-align: right;\">\n",
       "      <th></th>\n",
       "      <th>age</th>\n",
       "      <th>workclass</th>\n",
       "      <th>fnlwgt</th>\n",
       "      <th>education</th>\n",
       "      <th>education.num</th>\n",
       "      <th>marital.status</th>\n",
       "      <th>occupation</th>\n",
       "      <th>relationship</th>\n",
       "      <th>race</th>\n",
       "      <th>sex</th>\n",
       "      <th>capital.gain</th>\n",
       "      <th>capital.loss</th>\n",
       "      <th>hours.per.week</th>\n",
       "      <th>native.country</th>\n",
       "      <th>income</th>\n",
       "      <th>capital.flow</th>\n",
       "    </tr>\n",
       "  </thead>\n",
       "  <tbody>\n",
       "    <tr>\n",
       "      <th>0</th>\n",
       "      <td>90</td>\n",
       "      <td>8</td>\n",
       "      <td>77053</td>\n",
       "      <td>HS-grad</td>\n",
       "      <td>9</td>\n",
       "      <td>6</td>\n",
       "      <td>14</td>\n",
       "      <td>1</td>\n",
       "      <td>4</td>\n",
       "      <td>0</td>\n",
       "      <td>0</td>\n",
       "      <td>4356</td>\n",
       "      <td>40</td>\n",
       "      <td>38</td>\n",
       "      <td>&lt;=50K</td>\n",
       "      <td>-4356</td>\n",
       "    </tr>\n",
       "    <tr>\n",
       "      <th>1</th>\n",
       "      <td>82</td>\n",
       "      <td>3</td>\n",
       "      <td>132870</td>\n",
       "      <td>HS-grad</td>\n",
       "      <td>9</td>\n",
       "      <td>6</td>\n",
       "      <td>3</td>\n",
       "      <td>1</td>\n",
       "      <td>4</td>\n",
       "      <td>0</td>\n",
       "      <td>0</td>\n",
       "      <td>4356</td>\n",
       "      <td>18</td>\n",
       "      <td>38</td>\n",
       "      <td>&lt;=50K</td>\n",
       "      <td>-4356</td>\n",
       "    </tr>\n",
       "    <tr>\n",
       "      <th>2</th>\n",
       "      <td>66</td>\n",
       "      <td>8</td>\n",
       "      <td>186061</td>\n",
       "      <td>Some-college</td>\n",
       "      <td>10</td>\n",
       "      <td>6</td>\n",
       "      <td>14</td>\n",
       "      <td>4</td>\n",
       "      <td>2</td>\n",
       "      <td>0</td>\n",
       "      <td>0</td>\n",
       "      <td>4356</td>\n",
       "      <td>40</td>\n",
       "      <td>38</td>\n",
       "      <td>&lt;=50K</td>\n",
       "      <td>-4356</td>\n",
       "    </tr>\n",
       "    <tr>\n",
       "      <th>3</th>\n",
       "      <td>54</td>\n",
       "      <td>3</td>\n",
       "      <td>140359</td>\n",
       "      <td>7th-8th</td>\n",
       "      <td>4</td>\n",
       "      <td>0</td>\n",
       "      <td>6</td>\n",
       "      <td>4</td>\n",
       "      <td>4</td>\n",
       "      <td>0</td>\n",
       "      <td>0</td>\n",
       "      <td>3900</td>\n",
       "      <td>40</td>\n",
       "      <td>38</td>\n",
       "      <td>&lt;=50K</td>\n",
       "      <td>-3900</td>\n",
       "    </tr>\n",
       "    <tr>\n",
       "      <th>4</th>\n",
       "      <td>41</td>\n",
       "      <td>3</td>\n",
       "      <td>264663</td>\n",
       "      <td>Some-college</td>\n",
       "      <td>10</td>\n",
       "      <td>5</td>\n",
       "      <td>9</td>\n",
       "      <td>3</td>\n",
       "      <td>4</td>\n",
       "      <td>0</td>\n",
       "      <td>0</td>\n",
       "      <td>3900</td>\n",
       "      <td>40</td>\n",
       "      <td>38</td>\n",
       "      <td>&lt;=50K</td>\n",
       "      <td>-3900</td>\n",
       "    </tr>\n",
       "  </tbody>\n",
       "</table>\n",
       "</div>"
      ],
      "text/plain": [
       "   age  workclass  fnlwgt     education  education.num  marital.status  \\\n",
       "0   90          8   77053       HS-grad              9               6   \n",
       "1   82          3  132870       HS-grad              9               6   \n",
       "2   66          8  186061  Some-college             10               6   \n",
       "3   54          3  140359       7th-8th              4               0   \n",
       "4   41          3  264663  Some-college             10               5   \n",
       "\n",
       "   occupation  relationship  race  sex  capital.gain  capital.loss  \\\n",
       "0          14             1     4    0             0          4356   \n",
       "1           3             1     4    0             0          4356   \n",
       "2          14             4     2    0             0          4356   \n",
       "3           6             4     4    0             0          3900   \n",
       "4           9             3     4    0             0          3900   \n",
       "\n",
       "   hours.per.week  native.country income  capital.flow  \n",
       "0              40              38  <=50K         -4356  \n",
       "1              18              38  <=50K         -4356  \n",
       "2              40              38  <=50K         -4356  \n",
       "3              40              38  <=50K         -3900  \n",
       "4              40              38  <=50K         -3900  "
      ]
     },
     "execution_count": 42,
     "metadata": {},
     "output_type": "execute_result"
    }
   ],
   "source": [
    "#Label Encoder - Encoding or feature engineering for categorical (non-ordinal) variables\n",
    "from sklearn.preprocessing import LabelEncoder\n",
    "#Creating a copy of my dataframe\n",
    "data_kaggle_cat = data_kaggle\n",
    "categorical_features = ['workclass','marital.status','occupation','relationship','race','sex','native.country']\n",
    "\n",
    "label_encoder_feat = {}\n",
    "for i, feature in enumerate(categorical_features):\n",
    "    label_encoder_feat[feature] = LabelEncoder()\n",
    "    data_kaggle_cat[feature] = label_encoder_feat[feature].fit_transform(data_kaggle_cat[feature])\n",
    "\n",
    "data_kaggle_cat.head()"
   ]
  },
  {
   "cell_type": "markdown",
   "execution_count": null,
   "metadata": {},
   "source": [
    "Above codelines of using a Label Encoder is inspired from a kernel I reviewed. It can be found here - https://www.kaggle.com/sumitm004/eda-and-income-predictions-86-75-accuracy"
   ]
  },
  {
   "cell_type": "code",
   "execution_count": 43,
   "metadata": {},
   "outputs": [
    {
     "name": "stdout",
     "output_type": "stream",
     "text": [
      "[  73.48092241 2399.03589042 1121.72183108   10.81844393 3658.21506028\n",
      "   33.01217587  501.96853469   17.38376727]\n"
     ]
    }
   ],
   "source": [
    "# Feature Selection with Univariate Statistical Tests - for Categorical inputs\n",
    "from pandas import read_csv\n",
    "from numpy import set_printoptions\n",
    "from sklearn.feature_selection import SelectKBest\n",
    "from sklearn.feature_selection import f_classif\n",
    "from sklearn.feature_selection import chi2\n",
    "\n",
    "# load data\n",
    "names = ['workclass','education.num','marital.status','occupation','relationship','race','sex','native.country']\n",
    "#names = ['education.num','marital.status','relationship','race','sex','native.country']\n",
    "\n",
    "X= data_kaggle_cat[names]\n",
    "Y= data_kaggle_cat['income']\n",
    "# Performing feature extraction using Chi-square method\n",
    "test = SelectKBest(score_func=chi2, k=2)\n",
    "fit = test.fit(X, Y)\n",
    "# summarize scores\n",
    "feature_list_cat = fit.scores_\n",
    "print(fit.scores_)"
   ]
  },
  {
   "cell_type": "markdown",
   "execution_count": null,
   "metadata": {},
   "source": [
    "#### Observations:\n",
    "* Highest scores are for - relationship, eduction.num, marital.status, and sex.\n",
    "* For workclas, occupation, native.country, and race the chi-square scores are very low and hence these variables can be discarded while building up the model."
   ]
  },
  {
   "cell_type": "markdown",
   "execution_count": null,
   "metadata": {},
   "source": [
    "### Few more observations about Encoding techniques used in this report -\n",
    "* When we do Label encoding, we inadvertently introduce ordinality in the categorical variables\n",
    "* This is fine as long as we are trying to finalise best variable using univariate approaches like chi-square, as performed above\n",
    "* One solution is using one hot encoding, which creates (n-1) fields with binary 0/1 values, where n is the number of levels available in the categorical field \n",
    "* When i have to actually use these categorical variables inside my model, i will be using both - label encoding and one hot encoding approach to decide the best performing model among them. "
   ]
  },
  {
   "cell_type": "code",
   "execution_count": 44,
   "metadata": {},
   "outputs": [
    {
     "data": {
      "text/plain": [
       "Index(['age', 'workclass', 'fnlwgt', 'education', 'education.num',\n",
       "       'marital.status', 'occupation', 'relationship', 'race', 'sex',\n",
       "       'capital.gain', 'capital.loss', 'hours.per.week', 'native.country',\n",
       "       'income', 'capital.flow'],\n",
       "      dtype='object')"
      ]
     },
     "execution_count": 44,
     "metadata": {},
     "output_type": "execute_result"
    }
   ],
   "source": [
    "data_kaggle.columns"
   ]
  },
  {
   "cell_type": "code",
   "execution_count": 45,
   "metadata": {},
   "outputs": [
    {
     "data": {
      "text/html": [
       "<div>\n",
       "<style scoped>\n",
       "    .dataframe tbody tr th:only-of-type {\n",
       "        vertical-align: middle;\n",
       "    }\n",
       "\n",
       "    .dataframe tbody tr th {\n",
       "        vertical-align: top;\n",
       "    }\n",
       "\n",
       "    .dataframe thead th {\n",
       "        text-align: right;\n",
       "    }\n",
       "</style>\n",
       "<table border=\"1\" class=\"dataframe\">\n",
       "  <thead>\n",
       "    <tr style=\"text-align: right;\">\n",
       "      <th></th>\n",
       "      <th>age</th>\n",
       "      <th>workclass</th>\n",
       "      <th>fnlwgt</th>\n",
       "      <th>education</th>\n",
       "      <th>education.num</th>\n",
       "      <th>marital.status</th>\n",
       "      <th>occupation</th>\n",
       "      <th>relationship</th>\n",
       "      <th>race</th>\n",
       "      <th>sex</th>\n",
       "      <th>capital.gain</th>\n",
       "      <th>capital.loss</th>\n",
       "      <th>hours.per.week</th>\n",
       "      <th>native.country</th>\n",
       "      <th>income</th>\n",
       "      <th>capital.flow</th>\n",
       "    </tr>\n",
       "  </thead>\n",
       "  <tbody>\n",
       "    <tr>\n",
       "      <th>0</th>\n",
       "      <td>90</td>\n",
       "      <td>8</td>\n",
       "      <td>77053</td>\n",
       "      <td>HS-grad</td>\n",
       "      <td>9</td>\n",
       "      <td>6</td>\n",
       "      <td>14</td>\n",
       "      <td>1</td>\n",
       "      <td>4</td>\n",
       "      <td>0</td>\n",
       "      <td>0</td>\n",
       "      <td>4356</td>\n",
       "      <td>40</td>\n",
       "      <td>38</td>\n",
       "      <td>&lt;=50K</td>\n",
       "      <td>-4356</td>\n",
       "    </tr>\n",
       "    <tr>\n",
       "      <th>1</th>\n",
       "      <td>82</td>\n",
       "      <td>3</td>\n",
       "      <td>132870</td>\n",
       "      <td>HS-grad</td>\n",
       "      <td>9</td>\n",
       "      <td>6</td>\n",
       "      <td>3</td>\n",
       "      <td>1</td>\n",
       "      <td>4</td>\n",
       "      <td>0</td>\n",
       "      <td>0</td>\n",
       "      <td>4356</td>\n",
       "      <td>18</td>\n",
       "      <td>38</td>\n",
       "      <td>&lt;=50K</td>\n",
       "      <td>-4356</td>\n",
       "    </tr>\n",
       "    <tr>\n",
       "      <th>2</th>\n",
       "      <td>66</td>\n",
       "      <td>8</td>\n",
       "      <td>186061</td>\n",
       "      <td>Some-college</td>\n",
       "      <td>10</td>\n",
       "      <td>6</td>\n",
       "      <td>14</td>\n",
       "      <td>4</td>\n",
       "      <td>2</td>\n",
       "      <td>0</td>\n",
       "      <td>0</td>\n",
       "      <td>4356</td>\n",
       "      <td>40</td>\n",
       "      <td>38</td>\n",
       "      <td>&lt;=50K</td>\n",
       "      <td>-4356</td>\n",
       "    </tr>\n",
       "    <tr>\n",
       "      <th>3</th>\n",
       "      <td>54</td>\n",
       "      <td>3</td>\n",
       "      <td>140359</td>\n",
       "      <td>7th-8th</td>\n",
       "      <td>4</td>\n",
       "      <td>0</td>\n",
       "      <td>6</td>\n",
       "      <td>4</td>\n",
       "      <td>4</td>\n",
       "      <td>0</td>\n",
       "      <td>0</td>\n",
       "      <td>3900</td>\n",
       "      <td>40</td>\n",
       "      <td>38</td>\n",
       "      <td>&lt;=50K</td>\n",
       "      <td>-3900</td>\n",
       "    </tr>\n",
       "    <tr>\n",
       "      <th>4</th>\n",
       "      <td>41</td>\n",
       "      <td>3</td>\n",
       "      <td>264663</td>\n",
       "      <td>Some-college</td>\n",
       "      <td>10</td>\n",
       "      <td>5</td>\n",
       "      <td>9</td>\n",
       "      <td>3</td>\n",
       "      <td>4</td>\n",
       "      <td>0</td>\n",
       "      <td>0</td>\n",
       "      <td>3900</td>\n",
       "      <td>40</td>\n",
       "      <td>38</td>\n",
       "      <td>&lt;=50K</td>\n",
       "      <td>-3900</td>\n",
       "    </tr>\n",
       "  </tbody>\n",
       "</table>\n",
       "</div>"
      ],
      "text/plain": [
       "   age  workclass  fnlwgt     education  education.num  marital.status  \\\n",
       "0   90          8   77053       HS-grad              9               6   \n",
       "1   82          3  132870       HS-grad              9               6   \n",
       "2   66          8  186061  Some-college             10               6   \n",
       "3   54          3  140359       7th-8th              4               0   \n",
       "4   41          3  264663  Some-college             10               5   \n",
       "\n",
       "   occupation  relationship  race  sex  capital.gain  capital.loss  \\\n",
       "0          14             1     4    0             0          4356   \n",
       "1           3             1     4    0             0          4356   \n",
       "2          14             4     2    0             0          4356   \n",
       "3           6             4     4    0             0          3900   \n",
       "4           9             3     4    0             0          3900   \n",
       "\n",
       "   hours.per.week  native.country income  capital.flow  \n",
       "0              40              38  <=50K         -4356  \n",
       "1              18              38  <=50K         -4356  \n",
       "2              40              38  <=50K         -4356  \n",
       "3              40              38  <=50K         -3900  \n",
       "4              40              38  <=50K         -3900  "
      ]
     },
     "execution_count": 45,
     "metadata": {},
     "output_type": "execute_result"
    }
   ],
   "source": [
    "data_kaggle.head(5)"
   ]
  },
  {
   "cell_type": "code",
   "execution_count": 46,
   "metadata": {},
   "outputs": [
    {
     "data": {
      "text/html": [
       "<div>\n",
       "<style scoped>\n",
       "    .dataframe tbody tr th:only-of-type {\n",
       "        vertical-align: middle;\n",
       "    }\n",
       "\n",
       "    .dataframe tbody tr th {\n",
       "        vertical-align: top;\n",
       "    }\n",
       "\n",
       "    .dataframe thead th {\n",
       "        text-align: right;\n",
       "    }\n",
       "</style>\n",
       "<table border=\"1\" class=\"dataframe\">\n",
       "  <thead>\n",
       "    <tr style=\"text-align: right;\">\n",
       "      <th></th>\n",
       "      <th>age</th>\n",
       "      <th>workclass</th>\n",
       "      <th>fnlwgt</th>\n",
       "      <th>education</th>\n",
       "      <th>education.num</th>\n",
       "      <th>marital.status</th>\n",
       "      <th>occupation</th>\n",
       "      <th>relationship</th>\n",
       "      <th>race</th>\n",
       "      <th>sex</th>\n",
       "      <th>capital.gain</th>\n",
       "      <th>capital.loss</th>\n",
       "      <th>hours.per.week</th>\n",
       "      <th>native.country</th>\n",
       "      <th>income</th>\n",
       "      <th>capital.flow</th>\n",
       "    </tr>\n",
       "  </thead>\n",
       "  <tbody>\n",
       "    <tr>\n",
       "      <th>0</th>\n",
       "      <td>90</td>\n",
       "      <td>8</td>\n",
       "      <td>77053</td>\n",
       "      <td>HS-grad</td>\n",
       "      <td>9</td>\n",
       "      <td>6</td>\n",
       "      <td>14</td>\n",
       "      <td>1</td>\n",
       "      <td>4</td>\n",
       "      <td>0</td>\n",
       "      <td>0</td>\n",
       "      <td>4356</td>\n",
       "      <td>40</td>\n",
       "      <td>38</td>\n",
       "      <td>1</td>\n",
       "      <td>-4356</td>\n",
       "    </tr>\n",
       "    <tr>\n",
       "      <th>1</th>\n",
       "      <td>82</td>\n",
       "      <td>3</td>\n",
       "      <td>132870</td>\n",
       "      <td>HS-grad</td>\n",
       "      <td>9</td>\n",
       "      <td>6</td>\n",
       "      <td>3</td>\n",
       "      <td>1</td>\n",
       "      <td>4</td>\n",
       "      <td>0</td>\n",
       "      <td>0</td>\n",
       "      <td>4356</td>\n",
       "      <td>18</td>\n",
       "      <td>38</td>\n",
       "      <td>1</td>\n",
       "      <td>-4356</td>\n",
       "    </tr>\n",
       "    <tr>\n",
       "      <th>2</th>\n",
       "      <td>66</td>\n",
       "      <td>8</td>\n",
       "      <td>186061</td>\n",
       "      <td>Some-college</td>\n",
       "      <td>10</td>\n",
       "      <td>6</td>\n",
       "      <td>14</td>\n",
       "      <td>4</td>\n",
       "      <td>2</td>\n",
       "      <td>0</td>\n",
       "      <td>0</td>\n",
       "      <td>4356</td>\n",
       "      <td>40</td>\n",
       "      <td>38</td>\n",
       "      <td>1</td>\n",
       "      <td>-4356</td>\n",
       "    </tr>\n",
       "    <tr>\n",
       "      <th>3</th>\n",
       "      <td>54</td>\n",
       "      <td>3</td>\n",
       "      <td>140359</td>\n",
       "      <td>7th-8th</td>\n",
       "      <td>4</td>\n",
       "      <td>0</td>\n",
       "      <td>6</td>\n",
       "      <td>4</td>\n",
       "      <td>4</td>\n",
       "      <td>0</td>\n",
       "      <td>0</td>\n",
       "      <td>3900</td>\n",
       "      <td>40</td>\n",
       "      <td>38</td>\n",
       "      <td>1</td>\n",
       "      <td>-3900</td>\n",
       "    </tr>\n",
       "    <tr>\n",
       "      <th>4</th>\n",
       "      <td>41</td>\n",
       "      <td>3</td>\n",
       "      <td>264663</td>\n",
       "      <td>Some-college</td>\n",
       "      <td>10</td>\n",
       "      <td>5</td>\n",
       "      <td>9</td>\n",
       "      <td>3</td>\n",
       "      <td>4</td>\n",
       "      <td>0</td>\n",
       "      <td>0</td>\n",
       "      <td>3900</td>\n",
       "      <td>40</td>\n",
       "      <td>38</td>\n",
       "      <td>1</td>\n",
       "      <td>-3900</td>\n",
       "    </tr>\n",
       "  </tbody>\n",
       "</table>\n",
       "</div>"
      ],
      "text/plain": [
       "   age  workclass  fnlwgt     education  education.num  marital.status  \\\n",
       "0   90          8   77053       HS-grad              9               6   \n",
       "1   82          3  132870       HS-grad              9               6   \n",
       "2   66          8  186061  Some-college             10               6   \n",
       "3   54          3  140359       7th-8th              4               0   \n",
       "4   41          3  264663  Some-college             10               5   \n",
       "\n",
       "   occupation  relationship  race  sex  capital.gain  capital.loss  \\\n",
       "0          14             1     4    0             0          4356   \n",
       "1           3             1     4    0             0          4356   \n",
       "2          14             4     2    0             0          4356   \n",
       "3           6             4     4    0             0          3900   \n",
       "4           9             3     4    0             0          3900   \n",
       "\n",
       "   hours.per.week  native.country income  capital.flow  \n",
       "0              40              38      1         -4356  \n",
       "1              18              38      1         -4356  \n",
       "2              40              38      1         -4356  \n",
       "3              40              38      1         -3900  \n",
       "4              40              38      1         -3900  "
      ]
     },
     "execution_count": 46,
     "metadata": {},
     "output_type": "execute_result"
    }
   ],
   "source": [
    "#Encoding Target variable as 0 or 1 \n",
    "#Changing Positive to 1 and Negative to 0 for ease of processing\n",
    "data_kaggle.loc[data_kaggle[\"income\"] == \"<=50K\", \"income\"] = 1\n",
    "data_kaggle.loc[data_kaggle[\"income\"] == \">50K\", \"income\"] = 0\n",
    "data_kaggle.head(5)\n"
   ]
  },
  {
   "cell_type": "code",
   "execution_count": 47,
   "metadata": {},
   "outputs": [
    {
     "data": {
      "text/plain": [
       "1    24698\n",
       "0     7839\n",
       "Name: income, dtype: int64"
      ]
     },
     "execution_count": 47,
     "metadata": {},
     "output_type": "execute_result"
    }
   ],
   "source": [
    "data_kaggle.income.value_counts()\n",
    "# 1 signifies income is less than equal to 50,000 $\n",
    "# 0 signifies income is more than 50,000 $"
   ]
  },
  {
   "cell_type": "code",
   "execution_count": 48,
   "metadata": {},
   "outputs": [
    {
     "data": {
      "text/html": [
       "<div>\n",
       "<style scoped>\n",
       "    .dataframe tbody tr th:only-of-type {\n",
       "        vertical-align: middle;\n",
       "    }\n",
       "\n",
       "    .dataframe tbody tr th {\n",
       "        vertical-align: top;\n",
       "    }\n",
       "\n",
       "    .dataframe thead th {\n",
       "        text-align: right;\n",
       "    }\n",
       "</style>\n",
       "<table border=\"1\" class=\"dataframe\">\n",
       "  <thead>\n",
       "    <tr style=\"text-align: right;\">\n",
       "      <th></th>\n",
       "      <th>age</th>\n",
       "      <th>capital.flow</th>\n",
       "      <th>hours.per.week</th>\n",
       "      <th>relationship</th>\n",
       "      <th>education.num</th>\n",
       "      <th>marital.status</th>\n",
       "      <th>sex</th>\n",
       "      <th>income</th>\n",
       "    </tr>\n",
       "  </thead>\n",
       "  <tbody>\n",
       "    <tr>\n",
       "      <th>0</th>\n",
       "      <td>90</td>\n",
       "      <td>-4356</td>\n",
       "      <td>40</td>\n",
       "      <td>1</td>\n",
       "      <td>9</td>\n",
       "      <td>6</td>\n",
       "      <td>0</td>\n",
       "      <td>1</td>\n",
       "    </tr>\n",
       "    <tr>\n",
       "      <th>1</th>\n",
       "      <td>82</td>\n",
       "      <td>-4356</td>\n",
       "      <td>18</td>\n",
       "      <td>1</td>\n",
       "      <td>9</td>\n",
       "      <td>6</td>\n",
       "      <td>0</td>\n",
       "      <td>1</td>\n",
       "    </tr>\n",
       "    <tr>\n",
       "      <th>2</th>\n",
       "      <td>66</td>\n",
       "      <td>-4356</td>\n",
       "      <td>40</td>\n",
       "      <td>4</td>\n",
       "      <td>10</td>\n",
       "      <td>6</td>\n",
       "      <td>0</td>\n",
       "      <td>1</td>\n",
       "    </tr>\n",
       "    <tr>\n",
       "      <th>3</th>\n",
       "      <td>54</td>\n",
       "      <td>-3900</td>\n",
       "      <td>40</td>\n",
       "      <td>4</td>\n",
       "      <td>4</td>\n",
       "      <td>0</td>\n",
       "      <td>0</td>\n",
       "      <td>1</td>\n",
       "    </tr>\n",
       "    <tr>\n",
       "      <th>4</th>\n",
       "      <td>41</td>\n",
       "      <td>-3900</td>\n",
       "      <td>40</td>\n",
       "      <td>3</td>\n",
       "      <td>10</td>\n",
       "      <td>5</td>\n",
       "      <td>0</td>\n",
       "      <td>1</td>\n",
       "    </tr>\n",
       "  </tbody>\n",
       "</table>\n",
       "</div>"
      ],
      "text/plain": [
       "   age  capital.flow  hours.per.week  relationship  education.num  \\\n",
       "0   90         -4356              40             1              9   \n",
       "1   82         -4356              18             1              9   \n",
       "2   66         -4356              40             4             10   \n",
       "3   54         -3900              40             4              4   \n",
       "4   41         -3900              40             3             10   \n",
       "\n",
       "   marital.status  sex income  \n",
       "0               6    0      1  \n",
       "1               6    0      1  \n",
       "2               6    0      1  \n",
       "3               0    0      1  \n",
       "4               5    0      1  "
      ]
     },
     "execution_count": 48,
     "metadata": {},
     "output_type": "execute_result"
    }
   ],
   "source": [
    "#Creating the final dataset after all feature engineering\n",
    "feature_list = ['age','capital.flow','hours.per.week', 'relationship', 'education.num', 'marital.status','sex','income']\n",
    "data_kaggle_feature1 = data_kaggle[feature_list]\n",
    "data_kaggle_feature1.head(5)"
   ]
  },
  {
   "cell_type": "markdown",
   "execution_count": null,
   "metadata": {},
   "source": [
    "# Model Building\n",
    "### K-fold cross vaildation\n",
    "It gives us a less biased results than a simple train-test splitting."
   ]
  },
  {
   "cell_type": "code",
   "execution_count": 49,
   "metadata": {},
   "outputs": [],
   "source": [
    "data_kaggle_feature1.income =data_kaggle_feature1.income.astype('int')"
   ]
  },
  {
   "cell_type": "code",
   "execution_count": 50,
   "metadata": {},
   "outputs": [
    {
     "data": {
      "text/html": [
       "<div>\n",
       "<style scoped>\n",
       "    .dataframe tbody tr th:only-of-type {\n",
       "        vertical-align: middle;\n",
       "    }\n",
       "\n",
       "    .dataframe tbody tr th {\n",
       "        vertical-align: top;\n",
       "    }\n",
       "\n",
       "    .dataframe thead th {\n",
       "        text-align: right;\n",
       "    }\n",
       "</style>\n",
       "<table border=\"1\" class=\"dataframe\">\n",
       "  <thead>\n",
       "    <tr style=\"text-align: right;\">\n",
       "      <th></th>\n",
       "      <th>age</th>\n",
       "      <th>capital.flow</th>\n",
       "      <th>hours.per.week</th>\n",
       "      <th>relationship</th>\n",
       "      <th>education.num</th>\n",
       "      <th>marital.status</th>\n",
       "      <th>sex</th>\n",
       "      <th>income</th>\n",
       "    </tr>\n",
       "  </thead>\n",
       "  <tbody>\n",
       "    <tr>\n",
       "      <th>0</th>\n",
       "      <td>90</td>\n",
       "      <td>-4356</td>\n",
       "      <td>40</td>\n",
       "      <td>1</td>\n",
       "      <td>9</td>\n",
       "      <td>6</td>\n",
       "      <td>0</td>\n",
       "      <td>1</td>\n",
       "    </tr>\n",
       "    <tr>\n",
       "      <th>1</th>\n",
       "      <td>82</td>\n",
       "      <td>-4356</td>\n",
       "      <td>18</td>\n",
       "      <td>1</td>\n",
       "      <td>9</td>\n",
       "      <td>6</td>\n",
       "      <td>0</td>\n",
       "      <td>1</td>\n",
       "    </tr>\n",
       "    <tr>\n",
       "      <th>2</th>\n",
       "      <td>66</td>\n",
       "      <td>-4356</td>\n",
       "      <td>40</td>\n",
       "      <td>4</td>\n",
       "      <td>10</td>\n",
       "      <td>6</td>\n",
       "      <td>0</td>\n",
       "      <td>1</td>\n",
       "    </tr>\n",
       "    <tr>\n",
       "      <th>3</th>\n",
       "      <td>54</td>\n",
       "      <td>-3900</td>\n",
       "      <td>40</td>\n",
       "      <td>4</td>\n",
       "      <td>4</td>\n",
       "      <td>0</td>\n",
       "      <td>0</td>\n",
       "      <td>1</td>\n",
       "    </tr>\n",
       "    <tr>\n",
       "      <th>4</th>\n",
       "      <td>41</td>\n",
       "      <td>-3900</td>\n",
       "      <td>40</td>\n",
       "      <td>3</td>\n",
       "      <td>10</td>\n",
       "      <td>5</td>\n",
       "      <td>0</td>\n",
       "      <td>1</td>\n",
       "    </tr>\n",
       "  </tbody>\n",
       "</table>\n",
       "</div>"
      ],
      "text/plain": [
       "   age  capital.flow  hours.per.week  relationship  education.num  \\\n",
       "0   90         -4356              40             1              9   \n",
       "1   82         -4356              18             1              9   \n",
       "2   66         -4356              40             4             10   \n",
       "3   54         -3900              40             4              4   \n",
       "4   41         -3900              40             3             10   \n",
       "\n",
       "   marital.status  sex  income  \n",
       "0               6    0       1  \n",
       "1               6    0       1  \n",
       "2               6    0       1  \n",
       "3               0    0       1  \n",
       "4               5    0       1  "
      ]
     },
     "execution_count": 50,
     "metadata": {},
     "output_type": "execute_result"
    }
   ],
   "source": [
    "#Label Encoder - Encoding or feature engineering for categorical (non-ordinal) variables\n",
    "from sklearn.preprocessing import LabelEncoder\n",
    "#Creating a copy of my dataframe\n",
    "#data_kaggle_cat = data_kaggle\n",
    "categorical_features = ['marital.status','relationship','sex']\n",
    "\n",
    "label_encoder_feat = {}\n",
    "for i, feature in enumerate(categorical_features):\n",
    "    label_encoder_feat[feature] = LabelEncoder()\n",
    "    data_kaggle_feature1[feature] = label_encoder_feat[feature].fit_transform(data_kaggle_feature1[feature])\n",
    "\n",
    "data_kaggle_feature1.head()"
   ]
  },
  {
   "cell_type": "code",
   "execution_count": 51,
   "metadata": {},
   "outputs": [
    {
     "name": "stdout",
     "output_type": "stream",
     "text": [
      "Shape of train split : (29283, 7) (29283,)\n",
      "Shape of test split : (3254, 7) (3254,)\n"
     ]
    }
   ],
   "source": [
    "#Creating Training(25,000)+Validation(15,000) and Test(10,000) sttartefied dataset - a split of 50-30-20% respectively\n",
    "#First splitting dataset of 50,000 instances into training (80%) and test (20%)\n",
    "from sklearn.model_selection import train_test_split\n",
    "X_training, X_test, Y_training, Y_test = train_test_split(data_kaggle_feature1.iloc[:,0:-1], data_kaggle_feature1.income,\n",
    "                                                    stratify=data_kaggle_feature1.income, \n",
    "                                                    test_size=0.10)\n",
    "\n",
    "\n",
    "\n",
    "print(\"Shape of train split :\",X_training.shape,Y_training.shape)\n",
    "print(\"Shape of test split :\",X_test.shape,Y_test.shape)"
   ]
  },
  {
   "cell_type": "markdown",
   "execution_count": null,
   "metadata": {},
   "source": [
    "### **Using Logistic Regression**"
   ]
  },
  {
   "cell_type": "code",
   "execution_count": 52,
   "metadata": {
    "scrolled": true
   },
   "outputs": [
    {
     "name": "stdout",
     "output_type": "stream",
     "text": [
      "Index or number of variables used to build a model: 4 Max accuracy value : 0.803004438374872\n",
      "Index or number of variables used to build a model: 3 Max accuracy value : 0.8118811881188119\n",
      "Index or number of variables used to build a model: 3 Max accuracy value : 0.8098327074086719\n",
      "Index or number of variables used to build a model: 6 Max accuracy value : 0.8060109289617486\n",
      "Index or number of variables used to build a model: 7 Max accuracy value : 0.8131830601092896\n",
      "Index or number of variables used to build a model: 4 Max accuracy value : 0.8025956284153005\n",
      "Index or number of variables used to build a model: 4 Max accuracy value : 0.8101092896174863\n",
      "Index or number of variables used to build a model: 3 Max accuracy value : 0.8094262295081968\n",
      "Index or number of variables used to build a model: 4 Max accuracy value : 0.8210382513661202\n",
      "Index or number of variables used to build a model: 5 Max accuracy value : 0.8084016393442623\n",
      "List of 10 accuracies : [0.803004438374872, 0.8118811881188119, 0.8098327074086719, 0.8060109289617486, 0.8131830601092896, 0.8025956284153005, 0.8101092896174863, 0.8094262295081968, 0.8210382513661202, 0.8084016393442623]\n",
      "List of indices or number of variables used : [4, 3, 3, 6, 7, 4, 4, 3, 4, 5]\n",
      "The Final number of variables that i am using to build and report best model : 4\n",
      "The indices of most occuring k value : [0, 5, 6, 8]\n",
      "The accuracy values present at these indices : [0.803004438374872, 0.8025956284153005, 0.8101092896174863, 0.8210382513661202]\n",
      "The Final mean cross validation accuracy for reporting purpose is : 0.8091869019434447\n"
     ]
    }
   ],
   "source": [
    "# scikit-learn k-fold cross-validation\n",
    "from sklearn.linear_model import LogisticRegression\n",
    "from sklearn.feature_selection import RFE\n",
    "from itertools import compress\n",
    "from numpy import array\n",
    "from sklearn.model_selection import KFold, StratifiedKFold\n",
    "from statistics import mode\n",
    "from operator import itemgetter \n",
    "from sklearn.ensemble import GradientBoostingClassifier\n",
    "\n",
    "\n",
    "\n",
    "# Prepare for 10-fold cross validation\n",
    "skf = StratifiedKFold(n_splits=10)\n",
    "skf.get_n_splits(X_training, Y_training)\n",
    "accu_kfold_list = []\n",
    "counter_kfold =0\n",
    "# enumerate splits\n",
    "for train, val in skf.split(X_training, Y_training):\n",
    "    counter_kfold+=1\n",
    "    #print(\"KFold validation iteration :\",counter_kfold)\n",
    "    X_train, X_val = X_training.iloc[train], X_training.iloc[val]\n",
    "    Y_train, Y_val = Y_training.iloc[train], Y_training.iloc[val]\n",
    "\n",
    "\n",
    "    # create a base classifier used to evaluate a subset of attributes\n",
    "    accu_list = []\n",
    "    for num_of_vars in range(1,len(data_kaggle_feature1.columns)):\n",
    "        \n",
    "        #Logistic Regression\n",
    "        logreg = LogisticRegression()\n",
    "        # create the RFE model and select 3 attributes\n",
    "        rfe = RFE(logreg, num_of_vars)\n",
    "        rfe = rfe.fit(X_train, Y_train)\n",
    "\n",
    "        # summarize the selection of the attributes\n",
    "        #print(\"Number of variables used :\",num_of_vars)\n",
    "        col_list = data_kaggle_feature1.columns.to_list()[:-1]\n",
    "        #print(col_list)\n",
    "        col_bool = rfe.support_\n",
    "        #print(col_bool)\n",
    "        col_list = list(compress(col_list, col_bool))  \n",
    "        #print(\"Variables used in building this classifier :\",col_list)\n",
    "\n",
    "        # fit\n",
    "        logreg.fit(X_train.filter(col_list), Y_train)\n",
    "\n",
    "        # predict\n",
    "        Y_pred = logreg.predict(X_val.filter(col_list))\n",
    "\n",
    "        accuracy = accuracy_score(Y_val, Y_pred)\n",
    "        #print('LogReg %s' % accuracy)\n",
    "\n",
    "        #Adding the accuracy to list\n",
    "        accu_list.append(accuracy)\n",
    "\n",
    "    #print(accu_list)\n",
    "    accu_kfold_list.append(accu_list)\n",
    "\n",
    "\n",
    "#List of all accuracies\n",
    "#print(accu_kfold_list)\n",
    "\n",
    "#Creating empty lists to calculate which variable configuration produced maximum acccuracy\n",
    "lst_rfe = []\n",
    "lst_acu = []\n",
    "for lst in accu_kfold_list:\n",
    "    print(\"Index or number of variables used to build a model:\",lst.index(max(lst))+1, \"Max accuracy value :\",max(lst) )\n",
    "    lst_rfe.append(lst.index(max(lst))+1)\n",
    "    lst_acu.append(max(lst))\n",
    "    \n",
    "print(\"List of 10 accuracies :\",lst_acu)\n",
    "print(\"List of indices or number of variables used :\" ,lst_rfe)  \n",
    "mode_val = max(set(lst_rfe), key=lst_rfe.count)\n",
    "print(\"The Final number of variables that i am using to build and report best model :\",mode_val)\n",
    "indices = [i for i, x in enumerate(lst_rfe) if x == mode_val]\n",
    "print(\"The indices of most occuring k value :\",indices)\n",
    "\n",
    "# using operator.itemgetter() to get elements from list  \n",
    "res_list = list(itemgetter(*indices)(lst_acu))\n",
    "print(\"The accuracy values present at these indices :\",res_list)\n",
    "print(\"The Final mean cross validation accuracy for reporting purpose is :\",mean(res_list))\n",
    "#print(\"The number of variables used in the best model :\",mode(lst_avg))"
   ]
  },
  {
   "cell_type": "markdown",
   "execution_count": null,
   "metadata": {},
   "source": [
    "### Observations from and explanation for the above step:\n",
    "* I am running an **inner loop** for running the RFE for 1 to maximum number of columns\n",
    "* This will help me in identifying the columns which together produce the best estimate (or accuracies)\n",
    "* The **outer loop** is to provide 10-fold cross validation.\n",
    "* Idea is that for every fold the RFE should run, because every fold gives a different set of observations and hence RFE results could certainly differ. This is evident from the above analysis, as in some fold 3 columns gave best results while in some folds 7 columns gave best reults. \n",
    "* This approach will minimize the bias.\n",
    "* Also, since i am using K-fold cross validation, I am going to get a distribution of accuracy values at the end and thus i can easily compare the performances of two models to determine which one is better. "
   ]
  },
  {
   "cell_type": "markdown",
   "execution_count": null,
   "metadata": {},
   "source": [
    "### Using Gradient Boosting Algorithm or GBC "
   ]
  },
  {
   "cell_type": "code",
   "execution_count": 53,
   "metadata": {
    "scrolled": true
   },
   "outputs": [
    {
     "name": "stdout",
     "output_type": "stream",
     "text": [
      "Index or number of variables used to build a model: 5 Max accuracy value : 0.8620689655172413\n",
      "Index or number of variables used to build a model: 3 Max accuracy value : 0.8665073403892113\n",
      "Index or number of variables used to build a model: 3 Max accuracy value : 0.8569477637418914\n",
      "Index or number of variables used to build a model: 5 Max accuracy value : 0.8685109289617486\n",
      "Index or number of variables used to build a model: 3 Max accuracy value : 0.8609972677595629\n",
      "Index or number of variables used to build a model: 7 Max accuracy value : 0.8565573770491803\n",
      "Index or number of variables used to build a model: 6 Max accuracy value : 0.8558743169398907\n",
      "Index or number of variables used to build a model: 6 Max accuracy value : 0.8674863387978142\n",
      "Index or number of variables used to build a model: 5 Max accuracy value : 0.8685109289617486\n",
      "Index or number of variables used to build a model: 4 Max accuracy value : 0.8620218579234973\n",
      "List of 10 accuracies : [0.8620689655172413, 0.8665073403892113, 0.8569477637418914, 0.8685109289617486, 0.8609972677595629, 0.8565573770491803, 0.8558743169398907, 0.8674863387978142, 0.8685109289617486, 0.8620218579234973]\n",
      "List of indices or number of variables used : [5, 3, 3, 5, 3, 7, 6, 6, 5, 4]\n",
      "The Final number of variables that i am using to build and report best model : 3\n",
      "The indices of most occuring k value : [1, 2, 4]\n",
      "The accuracy values present at these indices : [0.8665073403892113, 0.8569477637418914, 0.8609972677595629]\n",
      "The Final mean cross validation accuracy for reporting purpose is : 0.8614841239635552\n"
     ]
    }
   ],
   "source": [
    "# scikit-learn k-fold cross-validation\n",
    "from sklearn.linear_model import LogisticRegression\n",
    "from sklearn.feature_selection import RFE\n",
    "from itertools import compress\n",
    "from numpy import array\n",
    "from sklearn.model_selection import KFold, StratifiedKFold\n",
    "from statistics import mode\n",
    "from operator import itemgetter \n",
    "from sklearn.ensemble import GradientBoostingClassifier\n",
    "\n",
    "\n",
    "# Prepare for 10-fold cross validation\n",
    "skf = StratifiedKFold(n_splits=10)\n",
    "skf.get_n_splits(X_training, Y_training)\n",
    "accu_kfold_list = []\n",
    "counter_kfold =0\n",
    "# enumerate splits\n",
    "for train, val in skf.split(X_training, Y_training):\n",
    "    counter_kfold+=1\n",
    "    #print(\"KFold validation iteration :\",counter_kfold)\n",
    "    X_train, X_val = X_training.iloc[train], X_training.iloc[val]\n",
    "    Y_train, Y_val = Y_training.iloc[train], Y_training.iloc[val]\n",
    "\n",
    "\n",
    "    # create a base classifier used to evaluate a subset of attributes\n",
    "    accu_list = []\n",
    "    for num_of_vars in range(1,len(data_kaggle_feature1.columns)):\n",
    "        \n",
    "        # Gradient Boosting Algorithm - fit\n",
    "        gbc = GradientBoostingClassifier()\n",
    "\n",
    "        # create the RFE model and select 3 attributes\n",
    "        rfe = RFE(gbc, num_of_vars)\n",
    "        rfe = rfe.fit(X_train, Y_train)\n",
    "\n",
    "        \n",
    "        # summarize the selection of the attributes\n",
    "        #print(\"Number of variables used :\",num_of_vars)\n",
    "        col_list = data_kaggle_feature1.columns.to_list()[:-1]\n",
    "        #print(col_list)\n",
    "        col_bool = rfe.support_\n",
    "        #print(col_bool)\n",
    "        col_list = list(compress(col_list, col_bool))  \n",
    "        #print(\"Variables used in building this classifier :\",col_list)\n",
    "\n",
    "        # fit\n",
    "        #logreg.fit(X_train.filter(col_list), Y_train)\n",
    "        gbc.fit(X_train.filter(col_list), Y_train)\n",
    "        accuracy = gbc.score(X_val.filter(col_list), Y_val)\n",
    "        #print('GBC %s' % accuracy)\n",
    "\n",
    "        #Adding the accuracy to list\n",
    "        accu_list.append(accuracy)\n",
    "\n",
    "    #print(accu_list)\n",
    "    accu_kfold_list.append(accu_list)\n",
    "\n",
    "\n",
    "#List of all accuracies\n",
    "#print(accu_kfold_list)\n",
    "\n",
    "#Creating empty lists to calculate which variable configuration produced maximum acccuracy\n",
    "lst_rfe = []\n",
    "lst_acu = []\n",
    "for lst in accu_kfold_list:\n",
    "    print(\"Index or number of variables used to build a model:\",lst.index(max(lst))+1, \"Max accuracy value :\",max(lst) )\n",
    "    lst_rfe.append(lst.index(max(lst))+1)\n",
    "    lst_acu.append(max(lst))\n",
    "    \n",
    "print(\"List of 10 accuracies :\",lst_acu)\n",
    "print(\"List of indices or number of variables used :\" ,lst_rfe)\n",
    "mode_val = max(set(lst_rfe), key=lst_rfe.count)\n",
    "print(\"The Final number of variables that i am using to build and report best model :\",mode_val)\n",
    "indices = [i for i, x in enumerate(lst_rfe) if x == mode_val]\n",
    "print(\"The indices of most occuring k value :\",indices)\n",
    "\n",
    "# using operator.itemgetter() to get elements from list  \n",
    "res_list = list(itemgetter(*indices)(lst_acu))\n",
    "print(\"The accuracy values present at these indices :\",res_list)\n",
    "print(\"The Final mean cross validation accuracy for reporting purpose is :\",mean(res_list))\n",
    "#print(\"The number of variables used in the best model :\",mode(lst_avg))"
   ]
  },
  {
   "cell_type": "markdown",
   "execution_count": null,
   "metadata": {},
   "source": [
    "#### Observations:\n",
    "* Best accuracy is given by models build with both 5 oand 6 variables. My algorithm picked the smaller mode of two numbers.\n",
    "* Mean Validation Accuracy is 86.02 %\n",
    "* This is significantly higher than our Baseline as well as logistic regression performance"
   ]
  },
  {
   "cell_type": "markdown",
   "execution_count": null,
   "metadata": {},
   "source": [
    "### Random Forest Algorithm "
   ]
  },
  {
   "cell_type": "code",
   "execution_count": 54,
   "metadata": {},
   "outputs": [
    {
     "name": "stdout",
     "output_type": "stream",
     "text": [
      "Index or number of variables used to build a model: 3 Max accuracy value : 0.8576305906452715\n",
      "Index or number of variables used to build a model: 3 Max accuracy value : 0.8658245134858313\n",
      "Index or number of variables used to build a model: 3 Max accuracy value : 0.8572891771935814\n",
      "Index or number of variables used to build a model: 3 Max accuracy value : 0.8582650273224044\n",
      "Index or number of variables used to build a model: 3 Max accuracy value : 0.85724043715847\n",
      "Index or number of variables used to build a model: 3 Max accuracy value : 0.8459699453551912\n",
      "Index or number of variables used to build a model: 3 Max accuracy value : 0.8558743169398907\n",
      "Index or number of variables used to build a model: 3 Max accuracy value : 0.8664617486338798\n",
      "Index or number of variables used to build a model: 3 Max accuracy value : 0.8654371584699454\n",
      "Index or number of variables used to build a model: 3 Max accuracy value : 0.8596311475409836\n",
      "List of 10 accuracies : [0.8576305906452715, 0.8658245134858313, 0.8572891771935814, 0.8582650273224044, 0.85724043715847, 0.8459699453551912, 0.8558743169398907, 0.8664617486338798, 0.8654371584699454, 0.8596311475409836]\n",
      "List of indices or number of variables used : [3, 3, 3, 3, 3, 3, 3, 3, 3, 3]\n",
      "The Final number of variables that i am using to build and report best model : 3\n",
      "The indices of most occuring k value : [0, 1, 2, 3, 4, 5, 6, 7, 8, 9]\n",
      "The accuracy values present at these indices : [0.8576305906452715, 0.8658245134858313, 0.8572891771935814, 0.8582650273224044, 0.85724043715847, 0.8459699453551912, 0.8558743169398907, 0.8664617486338798, 0.8654371584699454, 0.8596311475409836]\n",
      "The Final mean cross validation accuracy for reporting purpose is : 0.858962406274545\n"
     ]
    }
   ],
   "source": [
    "# scikit-learn k-fold cross-validation\n",
    "from sklearn.linear_model import LogisticRegression\n",
    "from sklearn.feature_selection import RFE\n",
    "from itertools import compress\n",
    "from numpy import array\n",
    "from sklearn.model_selection import KFold, StratifiedKFold\n",
    "from statistics import mode\n",
    "from operator import itemgetter \n",
    "from sklearn.ensemble import GradientBoostingClassifier\n",
    "from sklearn.ensemble import RandomForestClassifier\n",
    "\n",
    "\n",
    "# Prepare for 10-fold cross validation\n",
    "skf = StratifiedKFold(n_splits=10)\n",
    "skf.get_n_splits(X_training, Y_training)\n",
    "accu_kfold_list = []\n",
    "counter_kfold =0\n",
    "# enumerate splits\n",
    "for train, val in skf.split(X_training, Y_training):\n",
    "    counter_kfold+=1\n",
    "    #print(\"KFold validation iteration :\",counter_kfold)\n",
    "    X_train, X_val = X_training.iloc[train], X_training.iloc[val]\n",
    "    Y_train, Y_val = Y_training.iloc[train], Y_training.iloc[val]\n",
    "\n",
    "\n",
    "    # create a base classifier used to evaluate a subset of attributes\n",
    "    accu_list = []\n",
    "    for num_of_vars in range(1,len(data_kaggle_feature1.columns)):\n",
    "        \n",
    "        # Random Forest Algorithm \n",
    "        R_forest = RandomForestClassifier(n_estimators = 200)\n",
    "\n",
    "        # create the RFE model \n",
    "        rfe = RFE(R_forest, num_of_vars)\n",
    "        rfe = rfe.fit(X_train, Y_train)\n",
    "\n",
    "        \n",
    "        # summarize the selection of the attributes\n",
    "        #print(\"Number of variables used :\",num_of_vars)\n",
    "        col_list = data_kaggle_feature1.columns.to_list()[:-1]\n",
    "        #print(col_list)\n",
    "        col_bool = rfe.support_\n",
    "        #print(col_bool)\n",
    "        col_list = list(compress(col_list, col_bool))  \n",
    "        #print(\"Variables used in building this classifier :\",col_list)\n",
    "\n",
    "        # Training the model - Fitting\n",
    "        model_random = R_forest.fit(X_train.filter(col_list), Y_train)\n",
    "        \n",
    "        # Predictions\n",
    "        pred_random = model_random.predict(X_val.filter(col_list))\n",
    "        accuracy = accuracy_score(Y_val, pred_random)\n",
    "        #print (\"The accuracy of Random Forest model is : \",accuracy)\n",
    "\n",
    "        #Adding the accuracy to list\n",
    "        accu_list.append(accuracy)\n",
    "\n",
    "    #print(accu_list)\n",
    "    accu_kfold_list.append(accu_list)\n",
    "\n",
    "\n",
    "#List of all accuracies\n",
    "#print(accu_kfold_list)\n",
    "\n",
    "#Creating empty lists to calculate which variable configuration produced maximum acccuracy\n",
    "lst_rfe = []\n",
    "lst_acu = []\n",
    "for lst in accu_kfold_list:\n",
    "    print(\"Index or number of variables used to build a model:\",lst.index(max(lst))+1, \"Max accuracy value :\",max(lst) )\n",
    "    lst_rfe.append(lst.index(max(lst))+1)\n",
    "    lst_acu.append(max(lst))\n",
    "    \n",
    "print(\"List of 10 accuracies :\",lst_acu)\n",
    "print(\"List of indices or number of variables used :\" ,lst_rfe)\n",
    "mode_val = max(set(lst_rfe), key=lst_rfe.count)\n",
    "print(\"The Final number of variables that i am using to build and report best model :\",mode_val)\n",
    "indices = [i for i, x in enumerate(lst_rfe) if x == mode_val]\n",
    "print(\"The indices of most occuring k value :\",indices)\n",
    "\n",
    "# using operator.itemgetter() to get elements from list  \n",
    "res_list = list(itemgetter(*indices)(lst_acu))\n",
    "print(\"The accuracy values present at these indices :\",res_list)\n",
    "print(\"The Final mean cross validation accuracy for reporting purpose is :\",mean(res_list))\n",
    "#print(\"The number of variables used in the best model :\",mode(lst_avg))"
   ]
  },
  {
   "cell_type": "markdown",
   "execution_count": null,
   "metadata": {},
   "source": [
    "#### Observations:\n",
    "* For Random Forest, RFE has shown that using three variables you can get the best classifier accuracies. \n",
    "* Doing 10-fold validation has produced a Mean Validation accuracy of 85.82.\n",
    "* This accuracy is much higher than our baseline accuracy, but still fell short of Gradient Boosting Classifier"
   ]
  },
  {
   "cell_type": "markdown",
   "execution_count": null,
   "metadata": {},
   "source": [
    "### XGBoost Algorithm"
   ]
  },
  {
   "cell_type": "code",
   "execution_count": 55,
   "metadata": {},
   "outputs": [
    {
     "name": "stdout",
     "output_type": "stream",
     "text": [
      "Name: xgboost\r\n",
      "Version: 1.1.1\r\n",
      "Summary: XGBoost Python Package\r\n",
      "Home-page: https://github.com/dmlc/xgboost\r\n",
      "Author: None\r\n",
      "Author-email: None\r\n",
      "License: Apache-2.0\r\n",
      "Location: /opt/conda/lib/python3.7/site-packages\r\n",
      "Requires: scipy, numpy\r\n",
      "Required-by: dask-xgboost\r\n"
     ]
    }
   ],
   "source": [
    "#Uninstalling XGBoost and downloading an earlier version as RFE is not compatible with the latest XGBoost.\n",
    "!pip show xgboost"
   ]
  },
  {
   "cell_type": "code",
   "execution_count": 56,
   "metadata": {},
   "outputs": [
    {
     "name": "stdout",
     "output_type": "stream",
     "text": [
      "Found existing installation: xgboost 1.1.1\r\n",
      "Uninstalling xgboost-1.1.1:\r\n",
      "  Successfully uninstalled xgboost-1.1.1\r\n"
     ]
    }
   ],
   "source": [
    "!pip uninstall xgboost --y"
   ]
  },
  {
   "cell_type": "code",
   "execution_count": 57,
   "metadata": {},
   "outputs": [
    {
     "name": "stdout",
     "output_type": "stream",
     "text": [
      "Collecting xgboost==0.90\r\n",
      "  Downloading xgboost-0.90-py2.py3-none-manylinux1_x86_64.whl (142.8 MB)\r\n",
      "\u001b[K     |████████████████████████████████| 142.8 MB 35 kB/s \r\n",
      "\u001b[?25hRequirement already satisfied, skipping upgrade: numpy in /opt/conda/lib/python3.7/site-packages (from xgboost==0.90) (1.18.1)\r\n",
      "Requirement already satisfied, skipping upgrade: scipy in /opt/conda/lib/python3.7/site-packages (from xgboost==0.90) (1.4.1)\r\n",
      "Installing collected packages: xgboost\r\n",
      "Successfully installed xgboost-0.90\r\n"
     ]
    }
   ],
   "source": [
    "!pip install --upgrade xgboost==0.90"
   ]
  },
  {
   "cell_type": "code",
   "execution_count": 58,
   "metadata": {},
   "outputs": [
    {
     "name": "stdout",
     "output_type": "stream",
     "text": [
      "Name: xgboost\r\n",
      "Version: 0.90\r\n",
      "Summary: XGBoost Python Package\r\n",
      "Home-page: https://github.com/dmlc/xgboost\r\n",
      "Author: None\r\n",
      "Author-email: None\r\n",
      "License: Apache-2.0\r\n",
      "Location: /opt/conda/lib/python3.7/site-packages\r\n",
      "Requires: numpy, scipy\r\n",
      "Required-by: dask-xgboost\r\n"
     ]
    }
   ],
   "source": [
    "!pip show xgboost"
   ]
  },
  {
   "cell_type": "code",
   "execution_count": 59,
   "metadata": {
    "_kg_hide-output": true
   },
   "outputs": [
    {
     "name": "stdout",
     "output_type": "stream",
     "text": [
      "Index or number of variables used to build a model: 5 Max accuracy value : 0.8644588596790713\n",
      "Index or number of variables used to build a model: 4 Max accuracy value : 0.8668487538409013\n",
      "Index or number of variables used to build a model: 4 Max accuracy value : 0.8579720040969614\n",
      "Index or number of variables used to build a model: 6 Max accuracy value : 0.8688524590163934\n",
      "Index or number of variables used to build a model: 6 Max accuracy value : 0.862363387978142\n",
      "Index or number of variables used to build a model: 7 Max accuracy value : 0.8538251366120219\n",
      "Index or number of variables used to build a model: 4 Max accuracy value : 0.8575819672131147\n",
      "Index or number of variables used to build a model: 5 Max accuracy value : 0.8746584699453552\n",
      "Index or number of variables used to build a model: 7 Max accuracy value : 0.8726092896174863\n",
      "Index or number of variables used to build a model: 4 Max accuracy value : 0.8609972677595629\n",
      "List of 10 accuracies : [0.8644588596790713, 0.8668487538409013, 0.8579720040969614, 0.8688524590163934, 0.862363387978142, 0.8538251366120219, 0.8575819672131147, 0.8746584699453552, 0.8726092896174863, 0.8609972677595629]\n",
      "List of indices or number of variables used : [5, 4, 4, 6, 6, 7, 4, 5, 7, 4]\n",
      "The Final number of variables that i am using to build and report best model : 4\n",
      "The indices of most occuring k value : [1, 2, 6, 9]\n",
      "The accuracy values present at these indices : [0.8668487538409013, 0.8579720040969614, 0.8575819672131147, 0.8609972677595629]\n",
      "The Final mean cross validation accuracy for reporting purpose is : 0.8608499982276351\n"
     ]
    }
   ],
   "source": [
    "# scikit-learn k-fold cross-validation\n",
    "\n",
    "from sklearn.linear_model import LogisticRegression\n",
    "from sklearn.feature_selection import RFE\n",
    "from itertools import compress\n",
    "from numpy import array\n",
    "from sklearn.model_selection import KFold, StratifiedKFold\n",
    "from statistics import mode\n",
    "from operator import itemgetter \n",
    "from sklearn.ensemble import GradientBoostingClassifier\n",
    "from sklearn.ensemble import RandomForestClassifier\n",
    "from xgboost import XGBClassifier\n",
    "\n",
    "import warnings\n",
    "warnings.filterwarnings('ignore')\n",
    "warnings.simplefilter('ignore')\n",
    "\n",
    "# Prepare for 10-fold cross validation\n",
    "skf = StratifiedKFold(n_splits=10)\n",
    "skf.get_n_splits(X_training, Y_training)\n",
    "accu_kfold_list = []\n",
    "counter_kfold =0\n",
    "# enumerate splits\n",
    "for train, val in skf.split(X_training, Y_training):\n",
    "    counter_kfold+=1\n",
    "    #print(\"KFold validation iteration :\",counter_kfold)\n",
    "    X_train, X_val = X_training.iloc[train], X_training.iloc[val]\n",
    "    Y_train, Y_val = Y_training.iloc[train], Y_training.iloc[val]\n",
    "\n",
    "\n",
    "    # create a base classifier used to evaluate a subset of attributes\n",
    "    accu_list = []\n",
    "    for num_of_vars in range(1,len(data_kaggle_feature1.columns)):\n",
    "        \n",
    "        # XG Boost Algorithm \n",
    "        XGB = XGBClassifier(learning_rate = 0.35, n_estimator = 200, silent = True, verbosity = 0)\n",
    "\n",
    "        # create the RFE model \n",
    "        rfe = RFE(XGB, num_of_vars)\n",
    "        rfe = rfe.fit(X_train, Y_train)\n",
    "\n",
    "        \n",
    "        # summarize the selection of the attributes\n",
    "        #print(\"Number of variables used :\",num_of_vars)\n",
    "        col_list = data_kaggle_feature1.columns.to_list()[:-1]\n",
    "        #print(col_list)\n",
    "        col_bool = rfe.support_\n",
    "        #print(col_bool)\n",
    "        col_list = list(compress(col_list, col_bool))  \n",
    "        #print(\"Variables used in building this classifier :\",col_list)\n",
    "\n",
    "        # Training the model - Fitting\n",
    "        model_xgb = XGB.fit(X_train.filter(col_list), Y_train)\n",
    "        #model_random = R_forest.fit(X_train.filter(col_list), Y_train)\n",
    "        \n",
    "        # Predictions\n",
    "        #pred_random = model_random.predict(X_val.filter(col_list))\n",
    "        pred_xgb = model_xgb.predict(X_val.filter(col_list))\n",
    "\n",
    "        #accuracy = accuracy_score(Y_val, pred_random)\n",
    "        accuracy = accuracy_score(Y_val, pred_xgb)\n",
    "        #print (\"The accuracy of XGBoost model is : \",accuracy)\n",
    "\n",
    "        #Adding the accuracy to list\n",
    "        accu_list.append(accuracy)\n",
    "\n",
    "    #print(accu_list)\n",
    "    accu_kfold_list.append(accu_list)\n",
    "\n",
    "\n",
    "#List of all accuracies\n",
    "#print(accu_kfold_list)\n",
    "\n",
    "#Creating empty lists to calculate which variable configuration produced maximum acccuracy\n",
    "lst_rfe = []\n",
    "lst_acu = []\n",
    "for lst in accu_kfold_list:\n",
    "    print(\"Index or number of variables used to build a model:\",lst.index(max(lst))+1, \"Max accuracy value :\",max(lst) )\n",
    "    lst_rfe.append(lst.index(max(lst))+1)\n",
    "    lst_acu.append(max(lst))\n",
    "    \n",
    "print(\"List of 10 accuracies :\",lst_acu)\n",
    "print(\"List of indices or number of variables used :\" ,lst_rfe)\n",
    "mode_val = max(set(lst_rfe), key=lst_rfe.count)\n",
    "print(\"The Final number of variables that i am using to build and report best model :\",mode_val)\n",
    "indices = [i for i, x in enumerate(lst_rfe) if x == mode_val]\n",
    "print(\"The indices of most occuring k value :\",indices)\n",
    "\n",
    "# using operator.itemgetter() to get elements from list  \n",
    "res_list = list(itemgetter(*indices)(lst_acu))\n",
    "print(\"The accuracy values present at these indices :\",res_list)\n",
    "print(\"The Final mean cross validation accuracy for reporting purpose is :\",mean(res_list))\n",
    "#print(\"The number of variables used in the best model :\",mode(lst_avg))"
   ]
  },
  {
   "cell_type": "markdown",
   "execution_count": null,
   "metadata": {},
   "source": [
    "#### Observations:\n",
    "* All 7 variables have been used to build up the best performing XGBoost model. RFE has suggested to use all 7 variables to get the best classifier.\n",
    "* Please note that, my first fold validation gave 87.47 % accuracy, where as the best accuracy in this dataset on Kernel is 86.75%. I have done a review of this kernel in my report. Also note that, the author is reporting only a single accuracy, and that is prone to high bias and is also highly-optimistic.\n",
    "* From a 10-fold cross validation, my Mean Validation accuracy is coming as 86.29% ."
   ]
  },
  {
   "cell_type": "code",
   "execution_count": 60,
   "metadata": {
    "scrolled": true
   },
   "outputs": [
    {
     "data": {
      "text/html": [
       "<div>\n",
       "<style scoped>\n",
       "    .dataframe tbody tr th:only-of-type {\n",
       "        vertical-align: middle;\n",
       "    }\n",
       "\n",
       "    .dataframe tbody tr th {\n",
       "        vertical-align: top;\n",
       "    }\n",
       "\n",
       "    .dataframe thead th {\n",
       "        text-align: right;\n",
       "    }\n",
       "</style>\n",
       "<table border=\"1\" class=\"dataframe\">\n",
       "  <thead>\n",
       "    <tr style=\"text-align: right;\">\n",
       "      <th></th>\n",
       "      <th>age</th>\n",
       "      <th>workclass</th>\n",
       "      <th>fnlwgt</th>\n",
       "      <th>education</th>\n",
       "      <th>education.num</th>\n",
       "      <th>marital.status</th>\n",
       "      <th>occupation</th>\n",
       "      <th>relationship</th>\n",
       "      <th>race</th>\n",
       "      <th>sex</th>\n",
       "      <th>capital.gain</th>\n",
       "      <th>capital.loss</th>\n",
       "      <th>hours.per.week</th>\n",
       "      <th>native.country</th>\n",
       "      <th>income</th>\n",
       "      <th>capital.flow</th>\n",
       "    </tr>\n",
       "  </thead>\n",
       "  <tbody>\n",
       "    <tr>\n",
       "      <th>8</th>\n",
       "      <td>68</td>\n",
       "      <td>0</td>\n",
       "      <td>422013</td>\n",
       "      <td>HS-grad</td>\n",
       "      <td>9</td>\n",
       "      <td>0</td>\n",
       "      <td>9</td>\n",
       "      <td>1</td>\n",
       "      <td>4</td>\n",
       "      <td>0</td>\n",
       "      <td>0</td>\n",
       "      <td>3683</td>\n",
       "      <td>40</td>\n",
       "      <td>38</td>\n",
       "      <td>1</td>\n",
       "      <td>-3683</td>\n",
       "    </tr>\n",
       "    <tr>\n",
       "      <th>35</th>\n",
       "      <td>63</td>\n",
       "      <td>0</td>\n",
       "      <td>39181</td>\n",
       "      <td>Doctorate</td>\n",
       "      <td>16</td>\n",
       "      <td>0</td>\n",
       "      <td>3</td>\n",
       "      <td>1</td>\n",
       "      <td>4</td>\n",
       "      <td>0</td>\n",
       "      <td>0</td>\n",
       "      <td>2559</td>\n",
       "      <td>60</td>\n",
       "      <td>38</td>\n",
       "      <td>0</td>\n",
       "      <td>-2559</td>\n",
       "    </tr>\n",
       "    <tr>\n",
       "      <th>87</th>\n",
       "      <td>43</td>\n",
       "      <td>0</td>\n",
       "      <td>156996</td>\n",
       "      <td>Prof-school</td>\n",
       "      <td>15</td>\n",
       "      <td>2</td>\n",
       "      <td>9</td>\n",
       "      <td>0</td>\n",
       "      <td>1</td>\n",
       "      <td>1</td>\n",
       "      <td>0</td>\n",
       "      <td>2415</td>\n",
       "      <td>55</td>\n",
       "      <td>41</td>\n",
       "      <td>0</td>\n",
       "      <td>-2415</td>\n",
       "    </tr>\n",
       "    <tr>\n",
       "      <th>163</th>\n",
       "      <td>57</td>\n",
       "      <td>0</td>\n",
       "      <td>370890</td>\n",
       "      <td>HS-grad</td>\n",
       "      <td>9</td>\n",
       "      <td>4</td>\n",
       "      <td>0</td>\n",
       "      <td>1</td>\n",
       "      <td>4</td>\n",
       "      <td>1</td>\n",
       "      <td>0</td>\n",
       "      <td>2258</td>\n",
       "      <td>40</td>\n",
       "      <td>38</td>\n",
       "      <td>1</td>\n",
       "      <td>-2258</td>\n",
       "    </tr>\n",
       "    <tr>\n",
       "      <th>171</th>\n",
       "      <td>57</td>\n",
       "      <td>0</td>\n",
       "      <td>199114</td>\n",
       "      <td>Bachelors</td>\n",
       "      <td>13</td>\n",
       "      <td>4</td>\n",
       "      <td>0</td>\n",
       "      <td>1</td>\n",
       "      <td>4</td>\n",
       "      <td>1</td>\n",
       "      <td>0</td>\n",
       "      <td>2258</td>\n",
       "      <td>40</td>\n",
       "      <td>38</td>\n",
       "      <td>1</td>\n",
       "      <td>-2258</td>\n",
       "    </tr>\n",
       "    <tr>\n",
       "      <th>...</th>\n",
       "      <td>...</td>\n",
       "      <td>...</td>\n",
       "      <td>...</td>\n",
       "      <td>...</td>\n",
       "      <td>...</td>\n",
       "      <td>...</td>\n",
       "      <td>...</td>\n",
       "      <td>...</td>\n",
       "      <td>...</td>\n",
       "      <td>...</td>\n",
       "      <td>...</td>\n",
       "      <td>...</td>\n",
       "      <td>...</td>\n",
       "      <td>...</td>\n",
       "      <td>...</td>\n",
       "      <td>...</td>\n",
       "    </tr>\n",
       "    <tr>\n",
       "      <th>32292</th>\n",
       "      <td>39</td>\n",
       "      <td>0</td>\n",
       "      <td>232036</td>\n",
       "      <td>Some-college</td>\n",
       "      <td>10</td>\n",
       "      <td>2</td>\n",
       "      <td>0</td>\n",
       "      <td>0</td>\n",
       "      <td>4</td>\n",
       "      <td>1</td>\n",
       "      <td>0</td>\n",
       "      <td>0</td>\n",
       "      <td>40</td>\n",
       "      <td>38</td>\n",
       "      <td>0</td>\n",
       "      <td>0</td>\n",
       "    </tr>\n",
       "    <tr>\n",
       "      <th>32340</th>\n",
       "      <td>23</td>\n",
       "      <td>0</td>\n",
       "      <td>173851</td>\n",
       "      <td>HS-grad</td>\n",
       "      <td>9</td>\n",
       "      <td>4</td>\n",
       "      <td>1</td>\n",
       "      <td>1</td>\n",
       "      <td>4</td>\n",
       "      <td>1</td>\n",
       "      <td>0</td>\n",
       "      <td>0</td>\n",
       "      <td>8</td>\n",
       "      <td>38</td>\n",
       "      <td>1</td>\n",
       "      <td>0</td>\n",
       "    </tr>\n",
       "    <tr>\n",
       "      <th>32402</th>\n",
       "      <td>28</td>\n",
       "      <td>0</td>\n",
       "      <td>381789</td>\n",
       "      <td>Bachelors</td>\n",
       "      <td>13</td>\n",
       "      <td>4</td>\n",
       "      <td>9</td>\n",
       "      <td>1</td>\n",
       "      <td>4</td>\n",
       "      <td>1</td>\n",
       "      <td>0</td>\n",
       "      <td>0</td>\n",
       "      <td>50</td>\n",
       "      <td>38</td>\n",
       "      <td>1</td>\n",
       "      <td>0</td>\n",
       "    </tr>\n",
       "    <tr>\n",
       "      <th>32405</th>\n",
       "      <td>59</td>\n",
       "      <td>0</td>\n",
       "      <td>23789</td>\n",
       "      <td>HS-grad</td>\n",
       "      <td>9</td>\n",
       "      <td>2</td>\n",
       "      <td>11</td>\n",
       "      <td>5</td>\n",
       "      <td>4</td>\n",
       "      <td>0</td>\n",
       "      <td>0</td>\n",
       "      <td>0</td>\n",
       "      <td>40</td>\n",
       "      <td>38</td>\n",
       "      <td>0</td>\n",
       "      <td>0</td>\n",
       "    </tr>\n",
       "    <tr>\n",
       "      <th>32442</th>\n",
       "      <td>39</td>\n",
       "      <td>0</td>\n",
       "      <td>110622</td>\n",
       "      <td>Bachelors</td>\n",
       "      <td>13</td>\n",
       "      <td>2</td>\n",
       "      <td>0</td>\n",
       "      <td>5</td>\n",
       "      <td>1</td>\n",
       "      <td>0</td>\n",
       "      <td>0</td>\n",
       "      <td>0</td>\n",
       "      <td>40</td>\n",
       "      <td>29</td>\n",
       "      <td>1</td>\n",
       "      <td>0</td>\n",
       "    </tr>\n",
       "  </tbody>\n",
       "</table>\n",
       "<p>960 rows × 16 columns</p>\n",
       "</div>"
      ],
      "text/plain": [
       "       age  workclass  fnlwgt     education  education.num  marital.status  \\\n",
       "8       68          0  422013       HS-grad              9               0   \n",
       "35      63          0   39181     Doctorate             16               0   \n",
       "87      43          0  156996   Prof-school             15               2   \n",
       "163     57          0  370890       HS-grad              9               4   \n",
       "171     57          0  199114     Bachelors             13               4   \n",
       "...    ...        ...     ...           ...            ...             ...   \n",
       "32292   39          0  232036  Some-college             10               2   \n",
       "32340   23          0  173851       HS-grad              9               4   \n",
       "32402   28          0  381789     Bachelors             13               4   \n",
       "32405   59          0   23789       HS-grad              9               2   \n",
       "32442   39          0  110622     Bachelors             13               2   \n",
       "\n",
       "       occupation  relationship  race  sex  capital.gain  capital.loss  \\\n",
       "8               9             1     4    0             0          3683   \n",
       "35              3             1     4    0             0          2559   \n",
       "87              9             0     1    1             0          2415   \n",
       "163             0             1     4    1             0          2258   \n",
       "171             0             1     4    1             0          2258   \n",
       "...           ...           ...   ...  ...           ...           ...   \n",
       "32292           0             0     4    1             0             0   \n",
       "32340           1             1     4    1             0             0   \n",
       "32402           9             1     4    1             0             0   \n",
       "32405          11             5     4    0             0             0   \n",
       "32442           0             5     1    0             0             0   \n",
       "\n",
       "       hours.per.week  native.country income  capital.flow  \n",
       "8                  40              38      1         -3683  \n",
       "35                 60              38      0         -2559  \n",
       "87                 55              41      0         -2415  \n",
       "163                40              38      1         -2258  \n",
       "171                40              38      1         -2258  \n",
       "...               ...             ...    ...           ...  \n",
       "32292              40              38      0             0  \n",
       "32340               8              38      1             0  \n",
       "32402              50              38      1             0  \n",
       "32405              40              38      0             0  \n",
       "32442              40              29      1             0  \n",
       "\n",
       "[960 rows x 16 columns]"
      ]
     },
     "execution_count": 60,
     "metadata": {},
     "output_type": "execute_result"
    }
   ],
   "source": [
    "data_kaggle[data_kaggle.workclass == 0]"
   ]
  },
  {
   "cell_type": "code",
   "execution_count": 61,
   "metadata": {
    "scrolled": true
   },
   "outputs": [
    {
     "name": "stdout",
     "output_type": "stream",
     "text": [
      "['workclass_0', 'workclass_1', 'workclass_2', 'workclass_3', 'workclass_4', 'workclass_5', 'workclass_6', 'workclass_7', 'workclass_8', 'marital.status_0', 'marital.status_1', 'marital.status_2', 'marital.status_3', 'marital.status_4', 'marital.status_5', 'marital.status_6', 'occupation_0', 'occupation_1', 'occupation_2', 'occupation_3', 'occupation_4', 'occupation_5', 'occupation_6', 'occupation_7', 'occupation_8', 'occupation_9', 'occupation_10', 'occupation_11', 'occupation_12', 'occupation_13', 'occupation_14', 'relationship_0', 'relationship_1', 'relationship_2', 'relationship_3', 'relationship_4', 'relationship_5', 'race_0', 'race_1', 'race_2', 'race_3', 'race_4', 'sex_0', 'sex_1', 'native.country_0', 'native.country_1', 'native.country_2', 'native.country_3', 'native.country_4', 'native.country_5', 'native.country_6', 'native.country_7', 'native.country_8', 'native.country_9', 'native.country_10', 'native.country_11', 'native.country_12', 'native.country_13', 'native.country_14', 'native.country_15', 'native.country_16', 'native.country_17', 'native.country_18', 'native.country_19', 'native.country_20', 'native.country_21', 'native.country_22', 'native.country_23', 'native.country_24', 'native.country_25', 'native.country_26', 'native.country_27', 'native.country_28', 'native.country_29', 'native.country_30', 'native.country_31', 'native.country_32', 'native.country_33', 'native.country_34', 'native.country_35', 'native.country_36', 'native.country_37', 'native.country_38', 'native.country_39', 'native.country_40', 'native.country_41']\n"
     ]
    },
    {
     "data": {
      "text/html": [
       "<div>\n",
       "<style scoped>\n",
       "    .dataframe tbody tr th:only-of-type {\n",
       "        vertical-align: middle;\n",
       "    }\n",
       "\n",
       "    .dataframe tbody tr th {\n",
       "        vertical-align: top;\n",
       "    }\n",
       "\n",
       "    .dataframe thead th {\n",
       "        text-align: right;\n",
       "    }\n",
       "</style>\n",
       "<table border=\"1\" class=\"dataframe\">\n",
       "  <thead>\n",
       "    <tr style=\"text-align: right;\">\n",
       "      <th></th>\n",
       "      <th>age</th>\n",
       "      <th>fnlwgt</th>\n",
       "      <th>education</th>\n",
       "      <th>education.num</th>\n",
       "      <th>capital.gain</th>\n",
       "      <th>capital.loss</th>\n",
       "      <th>hours.per.week</th>\n",
       "      <th>income</th>\n",
       "      <th>capital.flow</th>\n",
       "      <th>workclass_0</th>\n",
       "      <th>...</th>\n",
       "      <th>native.country_32</th>\n",
       "      <th>native.country_33</th>\n",
       "      <th>native.country_34</th>\n",
       "      <th>native.country_35</th>\n",
       "      <th>native.country_36</th>\n",
       "      <th>native.country_37</th>\n",
       "      <th>native.country_38</th>\n",
       "      <th>native.country_39</th>\n",
       "      <th>native.country_40</th>\n",
       "      <th>native.country_41</th>\n",
       "    </tr>\n",
       "  </thead>\n",
       "  <tbody>\n",
       "    <tr>\n",
       "      <th>0</th>\n",
       "      <td>90</td>\n",
       "      <td>77053</td>\n",
       "      <td>HS-grad</td>\n",
       "      <td>9</td>\n",
       "      <td>0</td>\n",
       "      <td>4356</td>\n",
       "      <td>40</td>\n",
       "      <td>1</td>\n",
       "      <td>-4356</td>\n",
       "      <td>0</td>\n",
       "      <td>...</td>\n",
       "      <td>0</td>\n",
       "      <td>0</td>\n",
       "      <td>0</td>\n",
       "      <td>0</td>\n",
       "      <td>0</td>\n",
       "      <td>0</td>\n",
       "      <td>1</td>\n",
       "      <td>0</td>\n",
       "      <td>0</td>\n",
       "      <td>0</td>\n",
       "    </tr>\n",
       "    <tr>\n",
       "      <th>1</th>\n",
       "      <td>82</td>\n",
       "      <td>132870</td>\n",
       "      <td>HS-grad</td>\n",
       "      <td>9</td>\n",
       "      <td>0</td>\n",
       "      <td>4356</td>\n",
       "      <td>18</td>\n",
       "      <td>1</td>\n",
       "      <td>-4356</td>\n",
       "      <td>0</td>\n",
       "      <td>...</td>\n",
       "      <td>0</td>\n",
       "      <td>0</td>\n",
       "      <td>0</td>\n",
       "      <td>0</td>\n",
       "      <td>0</td>\n",
       "      <td>0</td>\n",
       "      <td>1</td>\n",
       "      <td>0</td>\n",
       "      <td>0</td>\n",
       "      <td>0</td>\n",
       "    </tr>\n",
       "    <tr>\n",
       "      <th>2</th>\n",
       "      <td>66</td>\n",
       "      <td>186061</td>\n",
       "      <td>Some-college</td>\n",
       "      <td>10</td>\n",
       "      <td>0</td>\n",
       "      <td>4356</td>\n",
       "      <td>40</td>\n",
       "      <td>1</td>\n",
       "      <td>-4356</td>\n",
       "      <td>0</td>\n",
       "      <td>...</td>\n",
       "      <td>0</td>\n",
       "      <td>0</td>\n",
       "      <td>0</td>\n",
       "      <td>0</td>\n",
       "      <td>0</td>\n",
       "      <td>0</td>\n",
       "      <td>1</td>\n",
       "      <td>0</td>\n",
       "      <td>0</td>\n",
       "      <td>0</td>\n",
       "    </tr>\n",
       "    <tr>\n",
       "      <th>3</th>\n",
       "      <td>54</td>\n",
       "      <td>140359</td>\n",
       "      <td>7th-8th</td>\n",
       "      <td>4</td>\n",
       "      <td>0</td>\n",
       "      <td>3900</td>\n",
       "      <td>40</td>\n",
       "      <td>1</td>\n",
       "      <td>-3900</td>\n",
       "      <td>0</td>\n",
       "      <td>...</td>\n",
       "      <td>0</td>\n",
       "      <td>0</td>\n",
       "      <td>0</td>\n",
       "      <td>0</td>\n",
       "      <td>0</td>\n",
       "      <td>0</td>\n",
       "      <td>1</td>\n",
       "      <td>0</td>\n",
       "      <td>0</td>\n",
       "      <td>0</td>\n",
       "    </tr>\n",
       "    <tr>\n",
       "      <th>4</th>\n",
       "      <td>41</td>\n",
       "      <td>264663</td>\n",
       "      <td>Some-college</td>\n",
       "      <td>10</td>\n",
       "      <td>0</td>\n",
       "      <td>3900</td>\n",
       "      <td>40</td>\n",
       "      <td>1</td>\n",
       "      <td>-3900</td>\n",
       "      <td>0</td>\n",
       "      <td>...</td>\n",
       "      <td>0</td>\n",
       "      <td>0</td>\n",
       "      <td>0</td>\n",
       "      <td>0</td>\n",
       "      <td>0</td>\n",
       "      <td>0</td>\n",
       "      <td>1</td>\n",
       "      <td>0</td>\n",
       "      <td>0</td>\n",
       "      <td>0</td>\n",
       "    </tr>\n",
       "  </tbody>\n",
       "</table>\n",
       "<p>5 rows × 95 columns</p>\n",
       "</div>"
      ],
      "text/plain": [
       "   age  fnlwgt     education  education.num  capital.gain  capital.loss  \\\n",
       "0   90   77053       HS-grad              9             0          4356   \n",
       "1   82  132870       HS-grad              9             0          4356   \n",
       "2   66  186061  Some-college             10             0          4356   \n",
       "3   54  140359       7th-8th              4             0          3900   \n",
       "4   41  264663  Some-college             10             0          3900   \n",
       "\n",
       "   hours.per.week income  capital.flow  workclass_0  ...  native.country_32  \\\n",
       "0              40      1         -4356            0  ...                  0   \n",
       "1              18      1         -4356            0  ...                  0   \n",
       "2              40      1         -4356            0  ...                  0   \n",
       "3              40      1         -3900            0  ...                  0   \n",
       "4              40      1         -3900            0  ...                  0   \n",
       "\n",
       "   native.country_33  native.country_34  native.country_35  native.country_36  \\\n",
       "0                  0                  0                  0                  0   \n",
       "1                  0                  0                  0                  0   \n",
       "2                  0                  0                  0                  0   \n",
       "3                  0                  0                  0                  0   \n",
       "4                  0                  0                  0                  0   \n",
       "\n",
       "   native.country_37  native.country_38  native.country_39  native.country_40  \\\n",
       "0                  0                  1                  0                  0   \n",
       "1                  0                  1                  0                  0   \n",
       "2                  0                  1                  0                  0   \n",
       "3                  0                  1                  0                  0   \n",
       "4                  0                  1                  0                  0   \n",
       "\n",
       "   native.country_41  \n",
       "0                  0  \n",
       "1                  0  \n",
       "2                  0  \n",
       "3                  0  \n",
       "4                  0  \n",
       "\n",
       "[5 rows x 95 columns]"
      ]
     },
     "execution_count": 61,
     "metadata": {},
     "output_type": "execute_result"
    }
   ],
   "source": [
    "#One hot Encoder - Encoding or feature engineering for categorical (non-ordinal) variables\n",
    "#from sklearn.preprocessing import LabelEncoder\n",
    "#Creating a copy of my dataframe\n",
    "data_kaggle_ohe = data_kaggle.copy()\n",
    "categorical_features_ohe = ['workclass','marital.status','occupation','relationship','race','sex','native.country']\n",
    "\n",
    "label_encoder_feat = {}\n",
    "new_df = pd.DataFrame() #creates a new dataframe that's empty\n",
    "df_temp = pd.get_dummies(data_kaggle_ohe['workclass'], prefix='workclass')\n",
    "for i, feature in enumerate(categorical_features_ohe[1:]):\n",
    "    df_temp1 = pd.get_dummies(data_kaggle_ohe[feature], prefix=feature)\n",
    "    df_temp = pd.concat([df_temp, df_temp1], axis=1)\n",
    "    #label_encoder_feat[feature] = OneHotEncoder()\n",
    "    #data_kaggle_ohe[feature] = label_encoder_feat[feature].fit_transform(data_kaggle_ohe[feature])\n",
    "\n",
    "#data_kaggle_ohe.head()\n",
    "ohe_columns_list = df_temp.columns.to_list()\n",
    "print(ohe_columns_list)\n",
    "#Changuing datatypes of all columns thus generated - from uint8 to int\n",
    "df_temp = df_temp.astype(int)\n",
    "\n",
    "data_kaggle_ohe = data_kaggle_ohe.drop(categorical_features_ohe, axis=1)\n",
    "data_kaggle_ohe = pd.concat([data_kaggle_ohe,df_temp], axis=1)\n",
    "data_kaggle_ohe.head(5)"
   ]
  },
  {
   "cell_type": "code",
   "execution_count": 62,
   "metadata": {
    "scrolled": true
   },
   "outputs": [
    {
     "name": "stdout",
     "output_type": "stream",
     "text": [
      "scores : [111.179440 33.207676 2.221759 60.656954 610.984197 27.027904 6.834437\n",
      " 4.443518 188.140274 453.585538 4.726318 3472.595296 58.210112 2215.543502\n",
      " 174.670834 131.000527 233.128108 0.829320 4.392884 1314.757646 84.752481\n",
      " 237.461819 148.238288 714.763068 44.059345 981.282594 25.153400 16.085569\n",
      " 20.996477 14.358842 189.949366 3110.590942 859.646500 221.507214\n",
      " 1435.600189 594.471032 470.282926 26.643671 3.538957 233.555472 32.754920\n",
      " 34.450379 1015.644382 501.968535 1.688787 4.382705 0.271733 13.827392\n",
      " 0.256756 17.260472 1.472483 14.109099 4.202335 4.738673 4.823457 0.193547\n",
      " 12.567820 5.414571 0.317394 1.911955 0.381645 0.007333 13.836700 7.422888\n",
      " 0.139404 4.115571 6.111722 7.243476 1.658640 125.185623 6.165124 4.443518\n",
      " 5.275196 4.882651 0.549511 3.568992 11.472483 0.005403 0.732681 6.378011\n",
      " 0.542755 1.912080 3.959464 10.131782 1.572691 0.314015]\n",
      "col names : ['workclass_0', 'workclass_1', 'workclass_2', 'workclass_3', 'workclass_4', 'workclass_5', 'workclass_6', 'workclass_7', 'workclass_8', 'marital.status_0', 'marital.status_1', 'marital.status_2', 'marital.status_3', 'marital.status_4', 'marital.status_5', 'marital.status_6', 'occupation_0', 'occupation_1', 'occupation_2', 'occupation_3', 'occupation_4', 'occupation_5', 'occupation_6', 'occupation_7', 'occupation_8', 'occupation_9', 'occupation_10', 'occupation_11', 'occupation_12', 'occupation_13', 'occupation_14', 'relationship_0', 'relationship_1', 'relationship_2', 'relationship_3', 'relationship_4', 'relationship_5', 'race_0', 'race_1', 'race_2', 'race_3', 'race_4', 'sex_0', 'sex_1', 'native.country_0', 'native.country_1', 'native.country_2', 'native.country_3', 'native.country_4', 'native.country_5', 'native.country_6', 'native.country_7', 'native.country_8', 'native.country_9', 'native.country_10', 'native.country_11', 'native.country_12', 'native.country_13', 'native.country_14', 'native.country_15', 'native.country_16', 'native.country_17', 'native.country_18', 'native.country_19', 'native.country_20', 'native.country_21', 'native.country_22', 'native.country_23', 'native.country_24', 'native.country_25', 'native.country_26', 'native.country_27', 'native.country_28', 'native.country_29', 'native.country_30', 'native.country_31', 'native.country_32', 'native.country_33', 'native.country_34', 'native.country_35', 'native.country_36', 'native.country_37', 'native.country_38', 'native.country_39', 'native.country_40', 'native.country_41']\n"
     ]
    }
   ],
   "source": [
    "# Feature Selection with Univariate Statistical Tests - for Categorical inputs\n",
    "#List of columns that i need to hot encode\n",
    "names = ohe_columns_list\n",
    "\n",
    "X= data_kaggle_ohe[names]\n",
    "Y= data_kaggle_ohe['income'].astype('int')\n",
    "# Performing feature extraction using Chi-square method\n",
    "test = SelectKBest(score_func=chi2, k=3)\n",
    "fit = test.fit(X, Y)\n",
    "# summarize scores\n",
    "feature_list_cat = fit.scores_\n",
    "np.set_printoptions(formatter={'float_kind':'{:f}'.format})\n",
    "\n",
    "print(\"scores :\",fit.scores_)\n",
    "print(\"col names :\",names)"
   ]
  },
  {
   "cell_type": "code",
   "execution_count": 63,
   "metadata": {
    "scrolled": true
   },
   "outputs": [
    {
     "name": "stdout",
     "output_type": "stream",
     "text": [
      "old shape : (86, 2)\n",
      "New shape : (14, 2)\n"
     ]
    },
    {
     "data": {
      "image/png": "[encoded data removed]",
      "text/plain": [
       "<Figure size 720x504 with 1 Axes>"
      ]
     },
     "metadata": {},
     "output_type": "display_data"
    }
   ],
   "source": [
    "#Creating a dictionary and dataframe woith scores and col names\n",
    "dict_temp = {'scores': fit.scores_, 'cols': names}\n",
    "df_scores = pd.DataFrame(dict_temp)\n",
    "print (\"old shape :\",df_scores.shape)\n",
    "#Limiting the number of columns for next step by only picking scores higher than 100\n",
    "df_scores = df_scores[df_scores.scores >= 450]\n",
    "print (\"New shape :\",df_scores.shape)\n",
    "# a bar plot \n",
    "df_scores.plot(kind='bar',x='cols',y='scores',color='red')\n",
    "plt.xticks(rotation=70)\n",
    "plt.show()\n"
   ]
  },
  {
   "cell_type": "code",
   "execution_count": 64,
   "metadata": {
    "scrolled": true
   },
   "outputs": [
    {
     "data": {
      "text/plain": [
       "['age',\n",
       " 'fnlwgt',\n",
       " 'education',\n",
       " 'education.num',\n",
       " 'capital.gain',\n",
       " 'capital.loss',\n",
       " 'hours.per.week',\n",
       " 'income',\n",
       " 'capital.flow',\n",
       " 'workclass_0',\n",
       " 'workclass_1',\n",
       " 'workclass_2',\n",
       " 'workclass_3',\n",
       " 'workclass_4',\n",
       " 'workclass_5',\n",
       " 'workclass_6',\n",
       " 'workclass_7',\n",
       " 'workclass_8',\n",
       " 'marital.status_0',\n",
       " 'marital.status_1',\n",
       " 'marital.status_2',\n",
       " 'marital.status_3',\n",
       " 'marital.status_4',\n",
       " 'marital.status_5',\n",
       " 'marital.status_6',\n",
       " 'occupation_0',\n",
       " 'occupation_1',\n",
       " 'occupation_2',\n",
       " 'occupation_3',\n",
       " 'occupation_4',\n",
       " 'occupation_5',\n",
       " 'occupation_6',\n",
       " 'occupation_7',\n",
       " 'occupation_8',\n",
       " 'occupation_9',\n",
       " 'occupation_10',\n",
       " 'occupation_11',\n",
       " 'occupation_12',\n",
       " 'occupation_13',\n",
       " 'occupation_14',\n",
       " 'relationship_0',\n",
       " 'relationship_1',\n",
       " 'relationship_2',\n",
       " 'relationship_3',\n",
       " 'relationship_4',\n",
       " 'relationship_5',\n",
       " 'race_0',\n",
       " 'race_1',\n",
       " 'race_2',\n",
       " 'race_3',\n",
       " 'race_4',\n",
       " 'sex_0',\n",
       " 'sex_1',\n",
       " 'native.country_0',\n",
       " 'native.country_1',\n",
       " 'native.country_2',\n",
       " 'native.country_3',\n",
       " 'native.country_4',\n",
       " 'native.country_5',\n",
       " 'native.country_6',\n",
       " 'native.country_7',\n",
       " 'native.country_8',\n",
       " 'native.country_9',\n",
       " 'native.country_10',\n",
       " 'native.country_11',\n",
       " 'native.country_12',\n",
       " 'native.country_13',\n",
       " 'native.country_14',\n",
       " 'native.country_15',\n",
       " 'native.country_16',\n",
       " 'native.country_17',\n",
       " 'native.country_18',\n",
       " 'native.country_19',\n",
       " 'native.country_20',\n",
       " 'native.country_21',\n",
       " 'native.country_22',\n",
       " 'native.country_23',\n",
       " 'native.country_24',\n",
       " 'native.country_25',\n",
       " 'native.country_26',\n",
       " 'native.country_27',\n",
       " 'native.country_28',\n",
       " 'native.country_29',\n",
       " 'native.country_30',\n",
       " 'native.country_31',\n",
       " 'native.country_32',\n",
       " 'native.country_33',\n",
       " 'native.country_34',\n",
       " 'native.country_35',\n",
       " 'native.country_36',\n",
       " 'native.country_37',\n",
       " 'native.country_38',\n",
       " 'native.country_39',\n",
       " 'native.country_40',\n",
       " 'native.country_41']"
      ]
     },
     "execution_count": 64,
     "metadata": {},
     "output_type": "execute_result"
    }
   ],
   "source": [
    "data_kaggle_ohe.columns.to_list()"
   ]
  },
  {
   "cell_type": "code",
   "execution_count": 65,
   "metadata": {
    "scrolled": true
   },
   "outputs": [
    {
     "name": "stdout",
     "output_type": "stream",
     "text": [
      "Final list of variables for building my model : ['income', 'education.num', 'age', 'hours.per.week', 'capital.flow', 'workclass_4', 'marital.status_0', 'marital.status_2', 'marital.status_4', 'occupation_3', 'occupation_7', 'occupation_9', 'relationship_0', 'relationship_1', 'relationship_3', 'relationship_4', 'relationship_5', 'sex_0', 'sex_1']\n",
      "Shape of final dataset : (32537, 19)\n"
     ]
    },
    {
     "data": {
      "text/html": [
       "<div>\n",
       "<style scoped>\n",
       "    .dataframe tbody tr th:only-of-type {\n",
       "        vertical-align: middle;\n",
       "    }\n",
       "\n",
       "    .dataframe tbody tr th {\n",
       "        vertical-align: top;\n",
       "    }\n",
       "\n",
       "    .dataframe thead th {\n",
       "        text-align: right;\n",
       "    }\n",
       "</style>\n",
       "<table border=\"1\" class=\"dataframe\">\n",
       "  <thead>\n",
       "    <tr style=\"text-align: right;\">\n",
       "      <th></th>\n",
       "      <th>income</th>\n",
       "      <th>education.num</th>\n",
       "      <th>age</th>\n",
       "      <th>hours.per.week</th>\n",
       "      <th>capital.flow</th>\n",
       "      <th>workclass_4</th>\n",
       "      <th>marital.status_0</th>\n",
       "      <th>marital.status_2</th>\n",
       "      <th>marital.status_4</th>\n",
       "      <th>occupation_3</th>\n",
       "      <th>occupation_7</th>\n",
       "      <th>occupation_9</th>\n",
       "      <th>relationship_0</th>\n",
       "      <th>relationship_1</th>\n",
       "      <th>relationship_3</th>\n",
       "      <th>relationship_4</th>\n",
       "      <th>relationship_5</th>\n",
       "      <th>sex_0</th>\n",
       "      <th>sex_1</th>\n",
       "    </tr>\n",
       "  </thead>\n",
       "  <tbody>\n",
       "    <tr>\n",
       "      <th>0</th>\n",
       "      <td>1</td>\n",
       "      <td>9</td>\n",
       "      <td>90</td>\n",
       "      <td>40</td>\n",
       "      <td>-4356</td>\n",
       "      <td>0</td>\n",
       "      <td>0</td>\n",
       "      <td>0</td>\n",
       "      <td>0</td>\n",
       "      <td>0</td>\n",
       "      <td>0</td>\n",
       "      <td>0</td>\n",
       "      <td>0</td>\n",
       "      <td>1</td>\n",
       "      <td>0</td>\n",
       "      <td>0</td>\n",
       "      <td>0</td>\n",
       "      <td>1</td>\n",
       "      <td>0</td>\n",
       "    </tr>\n",
       "    <tr>\n",
       "      <th>1</th>\n",
       "      <td>1</td>\n",
       "      <td>9</td>\n",
       "      <td>82</td>\n",
       "      <td>18</td>\n",
       "      <td>-4356</td>\n",
       "      <td>0</td>\n",
       "      <td>0</td>\n",
       "      <td>0</td>\n",
       "      <td>0</td>\n",
       "      <td>1</td>\n",
       "      <td>0</td>\n",
       "      <td>0</td>\n",
       "      <td>0</td>\n",
       "      <td>1</td>\n",
       "      <td>0</td>\n",
       "      <td>0</td>\n",
       "      <td>0</td>\n",
       "      <td>1</td>\n",
       "      <td>0</td>\n",
       "    </tr>\n",
       "    <tr>\n",
       "      <th>2</th>\n",
       "      <td>1</td>\n",
       "      <td>10</td>\n",
       "      <td>66</td>\n",
       "      <td>40</td>\n",
       "      <td>-4356</td>\n",
       "      <td>0</td>\n",
       "      <td>0</td>\n",
       "      <td>0</td>\n",
       "      <td>0</td>\n",
       "      <td>0</td>\n",
       "      <td>0</td>\n",
       "      <td>0</td>\n",
       "      <td>0</td>\n",
       "      <td>0</td>\n",
       "      <td>0</td>\n",
       "      <td>1</td>\n",
       "      <td>0</td>\n",
       "      <td>1</td>\n",
       "      <td>0</td>\n",
       "    </tr>\n",
       "    <tr>\n",
       "      <th>3</th>\n",
       "      <td>1</td>\n",
       "      <td>4</td>\n",
       "      <td>54</td>\n",
       "      <td>40</td>\n",
       "      <td>-3900</td>\n",
       "      <td>0</td>\n",
       "      <td>1</td>\n",
       "      <td>0</td>\n",
       "      <td>0</td>\n",
       "      <td>0</td>\n",
       "      <td>0</td>\n",
       "      <td>0</td>\n",
       "      <td>0</td>\n",
       "      <td>0</td>\n",
       "      <td>0</td>\n",
       "      <td>1</td>\n",
       "      <td>0</td>\n",
       "      <td>1</td>\n",
       "      <td>0</td>\n",
       "    </tr>\n",
       "    <tr>\n",
       "      <th>4</th>\n",
       "      <td>1</td>\n",
       "      <td>10</td>\n",
       "      <td>41</td>\n",
       "      <td>40</td>\n",
       "      <td>-3900</td>\n",
       "      <td>0</td>\n",
       "      <td>0</td>\n",
       "      <td>0</td>\n",
       "      <td>0</td>\n",
       "      <td>0</td>\n",
       "      <td>0</td>\n",
       "      <td>1</td>\n",
       "      <td>0</td>\n",
       "      <td>0</td>\n",
       "      <td>1</td>\n",
       "      <td>0</td>\n",
       "      <td>0</td>\n",
       "      <td>1</td>\n",
       "      <td>0</td>\n",
       "    </tr>\n",
       "    <tr>\n",
       "      <th>5</th>\n",
       "      <td>1</td>\n",
       "      <td>9</td>\n",
       "      <td>34</td>\n",
       "      <td>45</td>\n",
       "      <td>-3770</td>\n",
       "      <td>0</td>\n",
       "      <td>1</td>\n",
       "      <td>0</td>\n",
       "      <td>0</td>\n",
       "      <td>0</td>\n",
       "      <td>1</td>\n",
       "      <td>0</td>\n",
       "      <td>0</td>\n",
       "      <td>0</td>\n",
       "      <td>0</td>\n",
       "      <td>1</td>\n",
       "      <td>0</td>\n",
       "      <td>1</td>\n",
       "      <td>0</td>\n",
       "    </tr>\n",
       "    <tr>\n",
       "      <th>6</th>\n",
       "      <td>1</td>\n",
       "      <td>6</td>\n",
       "      <td>38</td>\n",
       "      <td>40</td>\n",
       "      <td>-3770</td>\n",
       "      <td>0</td>\n",
       "      <td>0</td>\n",
       "      <td>0</td>\n",
       "      <td>0</td>\n",
       "      <td>0</td>\n",
       "      <td>0</td>\n",
       "      <td>0</td>\n",
       "      <td>0</td>\n",
       "      <td>0</td>\n",
       "      <td>0</td>\n",
       "      <td>1</td>\n",
       "      <td>0</td>\n",
       "      <td>0</td>\n",
       "      <td>1</td>\n",
       "    </tr>\n",
       "    <tr>\n",
       "      <th>7</th>\n",
       "      <td>0</td>\n",
       "      <td>16</td>\n",
       "      <td>74</td>\n",
       "      <td>20</td>\n",
       "      <td>-3683</td>\n",
       "      <td>0</td>\n",
       "      <td>0</td>\n",
       "      <td>0</td>\n",
       "      <td>1</td>\n",
       "      <td>0</td>\n",
       "      <td>0</td>\n",
       "      <td>1</td>\n",
       "      <td>0</td>\n",
       "      <td>0</td>\n",
       "      <td>0</td>\n",
       "      <td>0</td>\n",
       "      <td>0</td>\n",
       "      <td>1</td>\n",
       "      <td>0</td>\n",
       "    </tr>\n",
       "    <tr>\n",
       "      <th>8</th>\n",
       "      <td>1</td>\n",
       "      <td>9</td>\n",
       "      <td>68</td>\n",
       "      <td>40</td>\n",
       "      <td>-3683</td>\n",
       "      <td>0</td>\n",
       "      <td>1</td>\n",
       "      <td>0</td>\n",
       "      <td>0</td>\n",
       "      <td>0</td>\n",
       "      <td>0</td>\n",
       "      <td>1</td>\n",
       "      <td>0</td>\n",
       "      <td>1</td>\n",
       "      <td>0</td>\n",
       "      <td>0</td>\n",
       "      <td>0</td>\n",
       "      <td>1</td>\n",
       "      <td>0</td>\n",
       "    </tr>\n",
       "    <tr>\n",
       "      <th>9</th>\n",
       "      <td>0</td>\n",
       "      <td>10</td>\n",
       "      <td>41</td>\n",
       "      <td>60</td>\n",
       "      <td>-3004</td>\n",
       "      <td>0</td>\n",
       "      <td>0</td>\n",
       "      <td>0</td>\n",
       "      <td>1</td>\n",
       "      <td>0</td>\n",
       "      <td>0</td>\n",
       "      <td>0</td>\n",
       "      <td>0</td>\n",
       "      <td>0</td>\n",
       "      <td>0</td>\n",
       "      <td>1</td>\n",
       "      <td>0</td>\n",
       "      <td>0</td>\n",
       "      <td>1</td>\n",
       "    </tr>\n",
       "  </tbody>\n",
       "</table>\n",
       "</div>"
      ],
      "text/plain": [
       "  income  education.num  age  hours.per.week  capital.flow  workclass_4  \\\n",
       "0      1              9   90              40         -4356            0   \n",
       "1      1              9   82              18         -4356            0   \n",
       "2      1             10   66              40         -4356            0   \n",
       "3      1              4   54              40         -3900            0   \n",
       "4      1             10   41              40         -3900            0   \n",
       "5      1              9   34              45         -3770            0   \n",
       "6      1              6   38              40         -3770            0   \n",
       "7      0             16   74              20         -3683            0   \n",
       "8      1              9   68              40         -3683            0   \n",
       "9      0             10   41              60         -3004            0   \n",
       "\n",
       "   marital.status_0  marital.status_2  marital.status_4  occupation_3  \\\n",
       "0                 0                 0                 0             0   \n",
       "1                 0                 0                 0             1   \n",
       "2                 0                 0                 0             0   \n",
       "3                 1                 0                 0             0   \n",
       "4                 0                 0                 0             0   \n",
       "5                 1                 0                 0             0   \n",
       "6                 0                 0                 0             0   \n",
       "7                 0                 0                 1             0   \n",
       "8                 1                 0                 0             0   \n",
       "9                 0                 0                 1             0   \n",
       "\n",
       "   occupation_7  occupation_9  relationship_0  relationship_1  relationship_3  \\\n",
       "0             0             0               0               1               0   \n",
       "1             0             0               0               1               0   \n",
       "2             0             0               0               0               0   \n",
       "3             0             0               0               0               0   \n",
       "4             0             1               0               0               1   \n",
       "5             1             0               0               0               0   \n",
       "6             0             0               0               0               0   \n",
       "7             0             1               0               0               0   \n",
       "8             0             1               0               1               0   \n",
       "9             0             0               0               0               0   \n",
       "\n",
       "   relationship_4  relationship_5  sex_0  sex_1  \n",
       "0               0               0      1      0  \n",
       "1               0               0      1      0  \n",
       "2               1               0      1      0  \n",
       "3               1               0      1      0  \n",
       "4               0               0      1      0  \n",
       "5               1               0      1      0  \n",
       "6               1               0      0      1  \n",
       "7               0               0      1      0  \n",
       "8               0               0      1      0  \n",
       "9               1               0      0      1  "
      ]
     },
     "execution_count": 65,
     "metadata": {},
     "output_type": "execute_result"
    }
   ],
   "source": [
    "#Getting the name of  variables in a list\n",
    "#These variables were identified using ANOVA analysis of numeric variables above\n",
    "list1 = ['age', 'capital.flow','hours.per.week'] \n",
    "#This is the list of newly created variables using SelectKBest and One Hot ENcoding\n",
    "list2 = df_scores.cols.to_list() \n",
    "#List of variables present in our dataset\n",
    "list3 = data_kaggle_ohe.columns.to_list()\n",
    "\n",
    "#Getting all this together\n",
    "list4 = ['income','education.num']\n",
    "for items in list3:\n",
    "    if items in list1:\n",
    "        list4.append(items)\n",
    "    if items in list2:\n",
    "        list4.append(items)\n",
    "#Final list of variables for running RFE and Logistic regression\n",
    "print(\"Final list of variables for building my model :\",list4)\n",
    "#Filtering dataset accordingly\n",
    "print(\"Shape of final dataset :\",data_kaggle_ohe[list4].shape)\n",
    "data_kaggle_ohe[list4].head(10)\n"
   ]
  },
  {
   "cell_type": "code",
   "execution_count": 66,
   "metadata": {
    "scrolled": true
   },
   "outputs": [
    {
     "name": "stdout",
     "output_type": "stream",
     "text": [
      "['income', 'education.num', 'age', 'hours.per.week', 'capital.flow', 'workclass_4', 'marital.status_0', 'marital.status_2', 'marital.status_4', 'occupation_3', 'occupation_7', 'occupation_9', 'relationship_0', 'relationship_1', 'relationship_3', 'relationship_4', 'relationship_5', 'sex_0', 'sex_1']\n"
     ]
    },
    {
     "data": {
      "text/html": [
       "<div>\n",
       "<style scoped>\n",
       "    .dataframe tbody tr th:only-of-type {\n",
       "        vertical-align: middle;\n",
       "    }\n",
       "\n",
       "    .dataframe tbody tr th {\n",
       "        vertical-align: top;\n",
       "    }\n",
       "\n",
       "    .dataframe thead th {\n",
       "        text-align: right;\n",
       "    }\n",
       "</style>\n",
       "<table border=\"1\" class=\"dataframe\">\n",
       "  <thead>\n",
       "    <tr style=\"text-align: right;\">\n",
       "      <th></th>\n",
       "      <th>education.num</th>\n",
       "      <th>age</th>\n",
       "      <th>hours.per.week</th>\n",
       "      <th>capital.flow</th>\n",
       "      <th>workclass_4</th>\n",
       "      <th>marital.status_0</th>\n",
       "      <th>marital.status_2</th>\n",
       "      <th>marital.status_4</th>\n",
       "      <th>occupation_3</th>\n",
       "      <th>occupation_7</th>\n",
       "      <th>occupation_9</th>\n",
       "      <th>relationship_0</th>\n",
       "      <th>relationship_1</th>\n",
       "      <th>relationship_3</th>\n",
       "      <th>relationship_4</th>\n",
       "      <th>relationship_5</th>\n",
       "      <th>sex_0</th>\n",
       "      <th>sex_1</th>\n",
       "    </tr>\n",
       "  </thead>\n",
       "  <tbody>\n",
       "    <tr>\n",
       "      <th>0</th>\n",
       "      <td>9</td>\n",
       "      <td>90</td>\n",
       "      <td>40</td>\n",
       "      <td>-4356</td>\n",
       "      <td>0</td>\n",
       "      <td>0</td>\n",
       "      <td>0</td>\n",
       "      <td>0</td>\n",
       "      <td>0</td>\n",
       "      <td>0</td>\n",
       "      <td>0</td>\n",
       "      <td>0</td>\n",
       "      <td>1</td>\n",
       "      <td>0</td>\n",
       "      <td>0</td>\n",
       "      <td>0</td>\n",
       "      <td>1</td>\n",
       "      <td>0</td>\n",
       "    </tr>\n",
       "    <tr>\n",
       "      <th>1</th>\n",
       "      <td>9</td>\n",
       "      <td>82</td>\n",
       "      <td>18</td>\n",
       "      <td>-4356</td>\n",
       "      <td>0</td>\n",
       "      <td>0</td>\n",
       "      <td>0</td>\n",
       "      <td>0</td>\n",
       "      <td>1</td>\n",
       "      <td>0</td>\n",
       "      <td>0</td>\n",
       "      <td>0</td>\n",
       "      <td>1</td>\n",
       "      <td>0</td>\n",
       "      <td>0</td>\n",
       "      <td>0</td>\n",
       "      <td>1</td>\n",
       "      <td>0</td>\n",
       "    </tr>\n",
       "    <tr>\n",
       "      <th>2</th>\n",
       "      <td>10</td>\n",
       "      <td>66</td>\n",
       "      <td>40</td>\n",
       "      <td>-4356</td>\n",
       "      <td>0</td>\n",
       "      <td>0</td>\n",
       "      <td>0</td>\n",
       "      <td>0</td>\n",
       "      <td>0</td>\n",
       "      <td>0</td>\n",
       "      <td>0</td>\n",
       "      <td>0</td>\n",
       "      <td>0</td>\n",
       "      <td>0</td>\n",
       "      <td>1</td>\n",
       "      <td>0</td>\n",
       "      <td>1</td>\n",
       "      <td>0</td>\n",
       "    </tr>\n",
       "    <tr>\n",
       "      <th>3</th>\n",
       "      <td>4</td>\n",
       "      <td>54</td>\n",
       "      <td>40</td>\n",
       "      <td>-3900</td>\n",
       "      <td>0</td>\n",
       "      <td>1</td>\n",
       "      <td>0</td>\n",
       "      <td>0</td>\n",
       "      <td>0</td>\n",
       "      <td>0</td>\n",
       "      <td>0</td>\n",
       "      <td>0</td>\n",
       "      <td>0</td>\n",
       "      <td>0</td>\n",
       "      <td>1</td>\n",
       "      <td>0</td>\n",
       "      <td>1</td>\n",
       "      <td>0</td>\n",
       "    </tr>\n",
       "    <tr>\n",
       "      <th>4</th>\n",
       "      <td>10</td>\n",
       "      <td>41</td>\n",
       "      <td>40</td>\n",
       "      <td>-3900</td>\n",
       "      <td>0</td>\n",
       "      <td>0</td>\n",
       "      <td>0</td>\n",
       "      <td>0</td>\n",
       "      <td>0</td>\n",
       "      <td>0</td>\n",
       "      <td>1</td>\n",
       "      <td>0</td>\n",
       "      <td>0</td>\n",
       "      <td>1</td>\n",
       "      <td>0</td>\n",
       "      <td>0</td>\n",
       "      <td>1</td>\n",
       "      <td>0</td>\n",
       "    </tr>\n",
       "    <tr>\n",
       "      <th>...</th>\n",
       "      <td>...</td>\n",
       "      <td>...</td>\n",
       "      <td>...</td>\n",
       "      <td>...</td>\n",
       "      <td>...</td>\n",
       "      <td>...</td>\n",
       "      <td>...</td>\n",
       "      <td>...</td>\n",
       "      <td>...</td>\n",
       "      <td>...</td>\n",
       "      <td>...</td>\n",
       "      <td>...</td>\n",
       "      <td>...</td>\n",
       "      <td>...</td>\n",
       "      <td>...</td>\n",
       "      <td>...</td>\n",
       "      <td>...</td>\n",
       "      <td>...</td>\n",
       "    </tr>\n",
       "    <tr>\n",
       "      <th>32556</th>\n",
       "      <td>10</td>\n",
       "      <td>22</td>\n",
       "      <td>40</td>\n",
       "      <td>0</td>\n",
       "      <td>0</td>\n",
       "      <td>0</td>\n",
       "      <td>0</td>\n",
       "      <td>1</td>\n",
       "      <td>0</td>\n",
       "      <td>0</td>\n",
       "      <td>0</td>\n",
       "      <td>0</td>\n",
       "      <td>1</td>\n",
       "      <td>0</td>\n",
       "      <td>0</td>\n",
       "      <td>0</td>\n",
       "      <td>0</td>\n",
       "      <td>1</td>\n",
       "    </tr>\n",
       "    <tr>\n",
       "      <th>32557</th>\n",
       "      <td>12</td>\n",
       "      <td>27</td>\n",
       "      <td>38</td>\n",
       "      <td>0</td>\n",
       "      <td>0</td>\n",
       "      <td>0</td>\n",
       "      <td>1</td>\n",
       "      <td>0</td>\n",
       "      <td>0</td>\n",
       "      <td>0</td>\n",
       "      <td>0</td>\n",
       "      <td>0</td>\n",
       "      <td>0</td>\n",
       "      <td>0</td>\n",
       "      <td>0</td>\n",
       "      <td>1</td>\n",
       "      <td>1</td>\n",
       "      <td>0</td>\n",
       "    </tr>\n",
       "    <tr>\n",
       "      <th>32558</th>\n",
       "      <td>9</td>\n",
       "      <td>40</td>\n",
       "      <td>40</td>\n",
       "      <td>0</td>\n",
       "      <td>0</td>\n",
       "      <td>0</td>\n",
       "      <td>1</td>\n",
       "      <td>0</td>\n",
       "      <td>0</td>\n",
       "      <td>0</td>\n",
       "      <td>0</td>\n",
       "      <td>1</td>\n",
       "      <td>0</td>\n",
       "      <td>0</td>\n",
       "      <td>0</td>\n",
       "      <td>0</td>\n",
       "      <td>0</td>\n",
       "      <td>1</td>\n",
       "    </tr>\n",
       "    <tr>\n",
       "      <th>32559</th>\n",
       "      <td>9</td>\n",
       "      <td>58</td>\n",
       "      <td>40</td>\n",
       "      <td>0</td>\n",
       "      <td>0</td>\n",
       "      <td>0</td>\n",
       "      <td>0</td>\n",
       "      <td>0</td>\n",
       "      <td>0</td>\n",
       "      <td>0</td>\n",
       "      <td>0</td>\n",
       "      <td>0</td>\n",
       "      <td>0</td>\n",
       "      <td>0</td>\n",
       "      <td>1</td>\n",
       "      <td>0</td>\n",
       "      <td>1</td>\n",
       "      <td>0</td>\n",
       "    </tr>\n",
       "    <tr>\n",
       "      <th>32560</th>\n",
       "      <td>9</td>\n",
       "      <td>22</td>\n",
       "      <td>20</td>\n",
       "      <td>0</td>\n",
       "      <td>0</td>\n",
       "      <td>0</td>\n",
       "      <td>0</td>\n",
       "      <td>1</td>\n",
       "      <td>0</td>\n",
       "      <td>0</td>\n",
       "      <td>0</td>\n",
       "      <td>0</td>\n",
       "      <td>0</td>\n",
       "      <td>1</td>\n",
       "      <td>0</td>\n",
       "      <td>0</td>\n",
       "      <td>0</td>\n",
       "      <td>1</td>\n",
       "    </tr>\n",
       "  </tbody>\n",
       "</table>\n",
       "<p>32537 rows × 18 columns</p>\n",
       "</div>"
      ],
      "text/plain": [
       "       education.num  age  hours.per.week  capital.flow  workclass_4  \\\n",
       "0                  9   90              40         -4356            0   \n",
       "1                  9   82              18         -4356            0   \n",
       "2                 10   66              40         -4356            0   \n",
       "3                  4   54              40         -3900            0   \n",
       "4                 10   41              40         -3900            0   \n",
       "...              ...  ...             ...           ...          ...   \n",
       "32556             10   22              40             0            0   \n",
       "32557             12   27              38             0            0   \n",
       "32558              9   40              40             0            0   \n",
       "32559              9   58              40             0            0   \n",
       "32560              9   22              20             0            0   \n",
       "\n",
       "       marital.status_0  marital.status_2  marital.status_4  occupation_3  \\\n",
       "0                     0                 0                 0             0   \n",
       "1                     0                 0                 0             1   \n",
       "2                     0                 0                 0             0   \n",
       "3                     1                 0                 0             0   \n",
       "4                     0                 0                 0             0   \n",
       "...                 ...               ...               ...           ...   \n",
       "32556                 0                 0                 1             0   \n",
       "32557                 0                 1                 0             0   \n",
       "32558                 0                 1                 0             0   \n",
       "32559                 0                 0                 0             0   \n",
       "32560                 0                 0                 1             0   \n",
       "\n",
       "       occupation_7  occupation_9  relationship_0  relationship_1  \\\n",
       "0                 0             0               0               1   \n",
       "1                 0             0               0               1   \n",
       "2                 0             0               0               0   \n",
       "3                 0             0               0               0   \n",
       "4                 0             1               0               0   \n",
       "...             ...           ...             ...             ...   \n",
       "32556             0             0               0               1   \n",
       "32557             0             0               0               0   \n",
       "32558             0             0               1               0   \n",
       "32559             0             0               0               0   \n",
       "32560             0             0               0               0   \n",
       "\n",
       "       relationship_3  relationship_4  relationship_5  sex_0  sex_1  \n",
       "0                   0               0               0      1      0  \n",
       "1                   0               0               0      1      0  \n",
       "2                   0               1               0      1      0  \n",
       "3                   0               1               0      1      0  \n",
       "4                   1               0               0      1      0  \n",
       "...               ...             ...             ...    ...    ...  \n",
       "32556               0               0               0      0      1  \n",
       "32557               0               0               1      1      0  \n",
       "32558               0               0               0      0      1  \n",
       "32559               0               1               0      1      0  \n",
       "32560               1               0               0      0      1  \n",
       "\n",
       "[32537 rows x 18 columns]"
      ]
     },
     "execution_count": 66,
     "metadata": {},
     "output_type": "execute_result"
    }
   ],
   "source": [
    "print(list4)\n",
    "data_kaggle_ohe[list4[1:]] #.iloc[:,:]"
   ]
  },
  {
   "cell_type": "code",
   "execution_count": 67,
   "metadata": {},
   "outputs": [
    {
     "name": "stdout",
     "output_type": "stream",
     "text": [
      "Shape of train split : (29283, 18) (29283,)\n",
      "Shape of test split : (3254, 18) (3254,)\n"
     ]
    }
   ],
   "source": [
    "#Creating Training(25,000)+Validation(15,000) and Test(10,000) sttartefied dataset - a split of 50-30-20% respectively\n",
    "#First splitting dataset of 50,000 instances into training (80%) and test (20%)\n",
    "from sklearn.model_selection import train_test_split\n",
    "X_training, X_test, Y_training, Y_test = train_test_split(data_kaggle_ohe[list4[1:]], data_kaggle_ohe.income,\n",
    "                                                    stratify=data_kaggle_ohe.income, \n",
    "                                                    test_size=0.10)\n",
    "\n",
    "\n",
    "Y_training, Y_test =  Y_training.astype(int), Y_test.astype(int)\n",
    "print(\"Shape of train split :\",X_training.shape,Y_training.shape)\n",
    "print(\"Shape of test split :\",X_test.shape,Y_test.shape)"
   ]
  },
  {
   "cell_type": "markdown",
   "execution_count": null,
   "metadata": {},
   "source": [
    "### **Using Logistic Regression**"
   ]
  },
  {
   "cell_type": "code",
   "execution_count": 68,
   "metadata": {},
   "outputs": [
    {
     "data": {
      "text/plain": [
       "['education.num',\n",
       " 'age',\n",
       " 'hours.per.week',\n",
       " 'capital.flow',\n",
       " 'workclass_4',\n",
       " 'marital.status_0',\n",
       " 'marital.status_2',\n",
       " 'marital.status_4',\n",
       " 'occupation_3',\n",
       " 'occupation_7',\n",
       " 'occupation_9',\n",
       " 'relationship_0',\n",
       " 'relationship_1',\n",
       " 'relationship_3',\n",
       " 'relationship_4',\n",
       " 'relationship_5',\n",
       " 'sex_0',\n",
       " 'sex_1']"
      ]
     },
     "execution_count": 68,
     "metadata": {},
     "output_type": "execute_result"
    }
   ],
   "source": [
    "X_training.columns.to_list() #18 variables"
   ]
  },
  {
   "cell_type": "code",
   "execution_count": 69,
   "metadata": {},
   "outputs": [
    {
     "name": "stdout",
     "output_type": "stream",
     "text": [
      "Index or number of variables used to build a model: 16 Max accuracy value : 0.8238306589279618\n",
      "Index or number of variables used to build a model: 17 Max accuracy value : 0.8378286104472517\n",
      "Index or number of variables used to build a model: 14 Max accuracy value : 0.8204165244110618\n",
      "Index or number of variables used to build a model: 17 Max accuracy value : 0.835724043715847\n",
      "Index or number of variables used to build a model: 17 Max accuracy value : 0.8206967213114754\n",
      "Index or number of variables used to build a model: 16 Max accuracy value : 0.8189890710382514\n",
      "Index or number of variables used to build a model: 17 Max accuracy value : 0.8316256830601093\n",
      "Index or number of variables used to build a model: 15 Max accuracy value : 0.8295765027322405\n",
      "Index or number of variables used to build a model: 16 Max accuracy value : 0.8336748633879781\n",
      "Index or number of variables used to build a model: 17 Max accuracy value : 0.8299180327868853\n",
      "List of 10 accuracies : [0.8238306589279618, 0.8378286104472517, 0.8204165244110618, 0.835724043715847, 0.8206967213114754, 0.8189890710382514, 0.8316256830601093, 0.8295765027322405, 0.8336748633879781, 0.8299180327868853]\n",
      "List of indices or number of variables used : [16, 17, 14, 17, 17, 16, 17, 15, 16, 17]\n",
      "The Final number of variables that i am using to build and report best model : 17\n",
      "The indices of most occuring k value : [1, 3, 4, 6, 9]\n",
      "The accuracy values present at these indices : [0.8378286104472517, 0.835724043715847, 0.8206967213114754, 0.8316256830601093, 0.8299180327868853]\n",
      "The Final mean cross validation accuracy for reporting purpose is : 0.8311586182643136\n"
     ]
    }
   ],
   "source": [
    "# scikit-learn k-fold cross-validation\n",
    "from sklearn.linear_model import LogisticRegression\n",
    "from sklearn.feature_selection import RFE\n",
    "from itertools import compress\n",
    "from numpy import array\n",
    "from sklearn.model_selection import KFold, StratifiedKFold\n",
    "from statistics import mode\n",
    "from operator import itemgetter \n",
    "from sklearn.ensemble import GradientBoostingClassifier\n",
    "\n",
    "# Prepare for 10-fold cross validation\n",
    "skf = StratifiedKFold(n_splits=10)\n",
    "skf.get_n_splits(X_training, Y_training)\n",
    "accu_kfold_list = []\n",
    "counter_kfold =0\n",
    "# enumerate splits\n",
    "for train, val in skf.split(X_training, Y_training):\n",
    "    counter_kfold+=1\n",
    "    #print(\"KFold validation iteration :\",counter_kfold)\n",
    "    X_train, X_val = X_training.iloc[train], X_training.iloc[val]\n",
    "    Y_train, Y_val = Y_training.iloc[train], Y_training.iloc[val]\n",
    "\n",
    "\n",
    "    # create a base classifier used to evaluate a subset of attributes\n",
    "    accu_list = []\n",
    "    for num_of_vars in range(1,len(X_training.columns)):\n",
    "        \n",
    "        #Logistic Regression\n",
    "        logreg = LogisticRegression()\n",
    "        # create the RFE model and select 3 attributes\n",
    "        rfe = RFE(logreg, num_of_vars)\n",
    "        rfe = rfe.fit(X_train, Y_train)\n",
    "\n",
    "        # summarize the selection of the attributes\n",
    "        #print(\"Number of variables used :\",num_of_vars)\n",
    "        col_list = X_training.columns.to_list()[:-1]\n",
    "        #print(col_list)\n",
    "        col_bool = rfe.support_\n",
    "        #print(col_bool)\n",
    "        col_list = list(compress(col_list, col_bool))  \n",
    "        #print(\"Variables used in building this classifier :\",col_list)\n",
    "\n",
    "        # fit\n",
    "        logreg.fit(X_train.filter(col_list), Y_train)\n",
    "\n",
    "        # predict\n",
    "        Y_pred = logreg.predict(X_val.filter(col_list))\n",
    "\n",
    "        accuracy = accuracy_score(Y_val, Y_pred)\n",
    "        #print('LogReg %s' % accuracy)\n",
    "\n",
    "        #Adding the accuracy to list\n",
    "        accu_list.append(accuracy)\n",
    " \n",
    "    #print(accu_list)\n",
    "    accu_kfold_list.append(accu_list)\n",
    "\n",
    "\n",
    "#List of all accuracies\n",
    "#print(accu_kfold_list)\n",
    "\n",
    "#Creating empty lists to calculate which variable configuration produced maximum acccuracy\n",
    "lst_rfe = []\n",
    "lst_acu = []\n",
    "for lst in accu_kfold_list:\n",
    "    print(\"Index or number of variables used to build a model:\",lst.index(max(lst))+1, \"Max accuracy value :\",max(lst) )\n",
    "    lst_rfe.append(lst.index(max(lst))+1)\n",
    "    lst_acu.append(max(lst))\n",
    "    \n",
    "print(\"List of 10 accuracies :\",lst_acu)\n",
    "print(\"List of indices or number of variables used :\" ,lst_rfe)  \n",
    "mode_val = max(set(lst_rfe), key=lst_rfe.count)\n",
    "print(\"The Final number of variables that i am using to build and report best model :\",mode_val)\n",
    "indices = [i for i, x in enumerate(lst_rfe) if x == mode_val]\n",
    "print(\"The indices of most occuring k value :\",indices)\n",
    "\n",
    "# using operator.itemgetter() to get elements from list  \n",
    "res_list = list(itemgetter(*indices)(lst_acu))\n",
    "print(\"The accuracy values present at these indices :\",res_list)\n",
    "print(\"The Final mean cross validation accuracy for reporting purpose is :\",mean(res_list))\n",
    "#print(\"The number of variables used in the best model :\",mode(lst_avg))"
   ]
  },
  {
   "cell_type": "markdown",
   "execution_count": null,
   "metadata": {},
   "source": [
    "### Observations:\n",
    "* First, I have **one hot encoded** the categorical variables here\n",
    "* Using **SelectKBest** method from Scikit I have chosen the top scoring variables, i.e. 14 of them\n",
    "* These variables along education.num, income and numeric columns (finalysed by ANOVA in earlier steps) are used to create the final dataset for our modeling purposes\n",
    "* Now using **RFE**, i have identified the best model or the model with best estimate or highest accuracy\n",
    "* Analysis of RFE output suggests that most stable and accuratly predicting model is build using 17 variables.\n",
    "* The most interesting bit here is thi - the accuracy is higher than the former Logistic Classifier prediction. In the former classifier I used Label encoded or ordinally encoded variables for predictin purposes.\n",
    "* My original hypotheses was that doing **Label encoding on categorical variables introduces ordinality** in the data, which is not the true picture and thus produces less accurate classifiers. The null hypothesis is rejected here it seems and as an outcome I can say that One hot encoding is the right thing to do when it comes to encoding categorical variables especially using Logistic regresion."
   ]
  },
  {
   "cell_type": "markdown",
   "execution_count": null,
   "metadata": {},
   "source": [
    "### XGBoost Classifier"
   ]
  },
  {
   "cell_type": "code",
   "execution_count": 70,
   "metadata": {
    "_kg_hide-output": true
   },
   "outputs": [
    {
     "name": "stdout",
     "output_type": "stream",
     "text": [
      "Index or number of variables used to build a model: 13 Max accuracy value : 0.8675315807442813\n",
      "Index or number of variables used to build a model: 8 Max accuracy value : 0.8712871287128713\n",
      "Index or number of variables used to build a model: 12 Max accuracy value : 0.8634346193240013\n",
      "Index or number of variables used to build a model: 12 Max accuracy value : 0.875\n",
      "Index or number of variables used to build a model: 8 Max accuracy value : 0.8620218579234973\n",
      "Index or number of variables used to build a model: 16 Max accuracy value : 0.855191256830601\n",
      "Index or number of variables used to build a model: 14 Max accuracy value : 0.8664617486338798\n",
      "Index or number of variables used to build a model: 17 Max accuracy value : 0.8688524590163934\n",
      "Index or number of variables used to build a model: 11 Max accuracy value : 0.8736338797814208\n",
      "Index or number of variables used to build a model: 14 Max accuracy value : 0.8688524590163934\n",
      "List of 10 accuracies : [0.8675315807442813, 0.8712871287128713, 0.8634346193240013, 0.875, 0.8620218579234973, 0.855191256830601, 0.8664617486338798, 0.8688524590163934, 0.8736338797814208, 0.8688524590163934]\n",
      "List of indices or number of variables used : [13, 8, 12, 12, 8, 16, 14, 17, 11, 14]\n",
      "The Final number of variables that i am using to build and report best model : 8\n",
      "The indices of most occuring k value : [1, 4]\n",
      "The accuracy values present at these indices : [0.8712871287128713, 0.8620218579234973]\n",
      "The Final mean cross validation accuracy for reporting purpose is : 0.8666544933181843\n"
     ]
    }
   ],
   "source": [
    "# scikit-learn k-fold cross-validation\n",
    "from sklearn.linear_model import LogisticRegression\n",
    "from sklearn.feature_selection import RFE\n",
    "from itertools import compress\n",
    "from numpy import array\n",
    "from sklearn.model_selection import KFold, StratifiedKFold\n",
    "from statistics import mode\n",
    "from operator import itemgetter \n",
    "from sklearn.ensemble import GradientBoostingClassifier\n",
    "from sklearn.ensemble import RandomForestClassifier\n",
    "from xgboost import XGBClassifier\n",
    "\n",
    "import warnings\n",
    "warnings.filterwarnings('ignore')\n",
    "warnings.simplefilter('ignore')\n",
    "\n",
    "# Prepare for 10-fold cross validation\n",
    "skf = StratifiedKFold(n_splits=10)\n",
    "skf.get_n_splits(X_training, Y_training)\n",
    "accu_kfold_list = []\n",
    "counter_kfold =0\n",
    "# enumerate splits\n",
    "for train, val in skf.split(X_training, Y_training):\n",
    "    counter_kfold+=1\n",
    "    #print(\"KFold validation iteration :\",counter_kfold)\n",
    "    X_train, X_val = X_training.iloc[train], X_training.iloc[val]\n",
    "    Y_train, Y_val = Y_training.iloc[train], Y_training.iloc[val]\n",
    "\n",
    "\n",
    "    # create a base classifier used to evaluate a subset of attributes\n",
    "    accu_list = []\n",
    "    for num_of_vars in range(1,len(X_training.columns)):\n",
    "        \n",
    "        # XG Boost Algorithm \n",
    "        XGB = XGBClassifier(learning_rate = 0.35, n_estimator = 200, silent = True, verbosity = 0)\n",
    "\n",
    "        # create the RFE model \n",
    "        rfe = RFE(XGB, num_of_vars)\n",
    "        rfe = rfe.fit(X_train, Y_train)\n",
    "\n",
    "        \n",
    "        # summarize the selection of the attributes\n",
    "        #print(\"Number of variables used :\",num_of_vars)\n",
    "        col_list = X_training.columns.to_list()[:-1]\n",
    "        #print(col_list)\n",
    "        col_bool = rfe.support_\n",
    "        #print(col_bool)\n",
    "        col_list = list(compress(col_list, col_bool))  \n",
    "        #print(\"Variables used in building this classifier :\",col_list)\n",
    "\n",
    "        # Training the model - Fitting\n",
    "        model_xgb = XGB.fit(X_train.filter(col_list), Y_train)\n",
    "        #model_random = R_forest.fit(X_train.filter(col_list), Y_train)\n",
    "        \n",
    "        # Predictions\n",
    "        #pred_random = model_random.predict(X_val.filter(col_list))\n",
    "        pred_xgb = model_xgb.predict(X_val.filter(col_list))\n",
    "\n",
    "        #accuracy = accuracy_score(Y_val, pred_random)\n",
    "        accuracy = accuracy_score(Y_val, pred_xgb)\n",
    "        #print (\"The accuracy of XGBoost model is : \",accuracy)\n",
    "\n",
    "        #Adding the accuracy to list\n",
    "        accu_list.append(accuracy)\n",
    "\n",
    "    #print(accu_list)\n",
    "    accu_kfold_list.append(accu_list)\n",
    "\n",
    "\n",
    "#List of all accuracies\n",
    "#print(accu_kfold_list)\n",
    "\n",
    "#Creating empty lists to calculate which variable configuration produced maximum acccuracy\n",
    "lst_rfe = []\n",
    "lst_acu = []\n",
    "for lst in accu_kfold_list:\n",
    "    print(\"Index or number of variables used to build a model:\",lst.index(max(lst))+1, \"Max accuracy value :\",max(lst) )\n",
    "    lst_rfe.append(lst.index(max(lst))+1)\n",
    "    lst_acu.append(max(lst))\n",
    "    \n",
    "print(\"List of 10 accuracies :\",lst_acu)\n",
    "print(\"List of indices or number of variables used :\" ,lst_rfe)\n",
    "mode_val = max(set(lst_rfe), key=lst_rfe.count)\n",
    "print(\"The Final number of variables that i am using to build and report best model :\",mode_val)\n",
    "indices = [i for i, x in enumerate(lst_rfe) if x == mode_val]\n",
    "print(\"The indices of most occuring k value :\",indices)\n",
    "\n",
    "# using operator.itemgetter() to get elements from list  \n",
    "res_list = list(itemgetter(*indices)(lst_acu))\n",
    "print(\"The accuracy values present at these indices :\",res_list)\n",
    "print(\"The Final mean cross validation accuracy for reporting purpose is :\",mean(res_list))\n",
    "#print(\"The number of variables used in the best model :\",mode(lst_avg))"
   ]
  },
  {
   "cell_type": "markdown",
   "execution_count": null,
   "metadata": {},
   "source": [
    "### Observations:\n",
    "* The Final number of variables that i am using to build and report best model : 11\n",
    "* The Final mean cross validation accuracy for reporting purpose is : 86.99% or 87%\n",
    "* This is the best performing model till now. \n",
    "* It is even better than the best Kaggle kernel accuracy or 86.75%. Plus, it is more robust reporting, ueto the usage of RFE and cross validation."
   ]
  }
 ],
 "metadata": {
  "kernelspec": {
   "display_name": "Python 3",
   "language": "python",
   "name": "python3"
  },
  "language_info": {
   "codemirror_mode": {
    "name": "ipython",
    "version": 3
   },
   "file_extension": ".py",
   "mimetype": "text/x-python",
   "name": "python",
   "nbconvert_exporter": "python",
   "pygments_lexer": "ipython3",
   "version": "3.7.6"
  }
 },
 "nbformat": 4,
 "nbformat_minor": 4
}
