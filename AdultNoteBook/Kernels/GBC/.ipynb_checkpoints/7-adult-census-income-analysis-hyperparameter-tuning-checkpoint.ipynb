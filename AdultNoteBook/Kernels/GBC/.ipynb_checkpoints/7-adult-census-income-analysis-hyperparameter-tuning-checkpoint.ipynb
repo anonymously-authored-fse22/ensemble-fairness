{
 "cells": [
  {
   "cell_type": "code",
   "execution_count": null,
   "metadata": {
    "_cell_guid": "b1076dfc-b9ad-4769-8c92-a6c4dae69d19",
    "_uuid": "8f2839f25d086af736a60e9eeb907d3b93b6e0e5",
    "execution": {
     "iopub.execute_input": "2021-06-26T08:56:52.658082Z",
     "iopub.status.busy": "2021-06-26T08:56:52.657505Z",
     "iopub.status.idle": "2021-06-26T08:56:52.678086Z",
     "shell.execute_reply": "2021-06-26T08:56:52.676517Z",
     "shell.execute_reply.started": "2021-06-26T08:56:52.657975Z"
    }
   },
   "outputs": [],
   "source": [
    "# This Python 3 environment comes with many helpful analytics libraries installed\n",
    "# It is defined by the kaggle/python Docker image: https://github.com/kaggle/docker-python\n",
    "# For example, here's several helpful packages to load\n",
    "\n",
    "import numpy as np # linear algebra\n",
    "import pandas as pd # data processing, CSV file I/O (e.g. pd.read_csv)\n",
    "\n",
    "# Input data files are available in the read-only \"../input/\" directory\n",
    "# For example, running this (by clicking run or pressing Shift+Enter) will list all files under the input directory\n",
    "\n",
    "import os\n",
    "for dirname, _, filenames in os.walk('/kaggle/input'):\n",
    "    for filename in filenames:\n",
    "        print(os.path.join(dirname, filename))\n",
    "\n",
    "# You can write up to 20GB to the current directory (/kaggle/working/) that gets preserved as output when you create a version using \"Save & Run All\" \n",
    "# You can also write temporary files to /kaggle/temp/, but they won't be saved outside of the current session"
   ]
  },
  {
   "cell_type": "code",
   "execution_count": null,
   "metadata": {
    "execution": {
     "iopub.execute_input": "2021-06-26T08:56:52.683064Z",
     "iopub.status.busy": "2021-06-26T08:56:52.682367Z",
     "iopub.status.idle": "2021-06-26T08:56:55.984317Z",
     "shell.execute_reply": "2021-06-26T08:56:55.983088Z",
     "shell.execute_reply.started": "2021-06-26T08:56:52.683022Z"
    }
   },
   "outputs": [],
   "source": [
    "import seaborn as sns\n",
    "import matplotlib.pyplot as plt\n",
    "import plotly.express as px\n",
    "import plotly.graph_objects as go\n",
    "from plotly import tools\n",
    "from plotly.subplots import make_subplots\n",
    "from warnings import filterwarnings\n",
    "filterwarnings('ignore')\n",
    "\n",
    "from sklearn.preprocessing import StandardScaler,MinMaxScaler, OneHotEncoder\n",
    "from sklearn.compose import ColumnTransformer\n",
    "from sklearn.model_selection import train_test_split\n",
    "import category_encoders as ce\n",
    "from sklearn.preprocessing import LabelBinarizer\n",
    "\n",
    "# Modelling Libraries\n",
    "from sklearn.linear_model import LogisticRegression,LinearRegression\n",
    "from sklearn.svm import SVC\n",
    "from xgboost.sklearn import XGBClassifier\n",
    "from sklearn.neighbors import KNeighborsClassifier\n",
    "from sklearn.tree import DecisionTreeClassifier\n",
    "from sklearn.ensemble import RandomForestClassifier,AdaBoostClassifier,GradientBoostingClassifier\n",
    "from sklearn.naive_bayes import GaussianNB\n",
    "\n",
    "# Evaluation & CV Libraries\n",
    "from sklearn.metrics import precision_score,accuracy_score\n",
    "from sklearn.metrics import classification_report, f1_score, plot_roc_curve\n",
    "from sklearn.model_selection import RandomizedSearchCV,GridSearchCV,RepeatedStratifiedKFold"
   ]
  },
  {
   "cell_type": "code",
   "execution_count": null,
   "metadata": {
    "execution": {
     "iopub.execute_input": "2021-06-26T08:56:55.986697Z",
     "iopub.status.busy": "2021-06-26T08:56:55.986335Z",
     "iopub.status.idle": "2021-06-26T08:56:56.184436Z",
     "shell.execute_reply": "2021-06-26T08:56:56.183151Z",
     "shell.execute_reply.started": "2021-06-26T08:56:55.986663Z"
    }
   },
   "outputs": [],
   "source": [
    "df= pd.read_csv('/kaggle/input/adult-census-income/adult.csv')\n",
    "df.head()"
   ]
  },
  {
   "cell_type": "code",
   "execution_count": null,
   "metadata": {
    "execution": {
     "iopub.execute_input": "2021-06-26T08:56:56.186825Z",
     "iopub.status.busy": "2021-06-26T08:56:56.186433Z",
     "iopub.status.idle": "2021-06-26T08:56:56.192703Z",
     "shell.execute_reply": "2021-06-26T08:56:56.191728Z",
     "shell.execute_reply.started": "2021-06-26T08:56:56.186787Z"
    }
   },
   "outputs": [],
   "source": [
    "df.shape"
   ]
  },
  {
   "cell_type": "markdown",
   "metadata": {},
   "source": [
    "Dataframe has 32561 rows and 15 columns"
   ]
  },
  {
   "cell_type": "code",
   "execution_count": null,
   "metadata": {
    "execution": {
     "iopub.execute_input": "2021-06-26T08:56:56.194592Z",
     "iopub.status.busy": "2021-06-26T08:56:56.194083Z",
     "iopub.status.idle": "2021-06-26T08:56:56.257227Z",
     "shell.execute_reply": "2021-06-26T08:56:56.256072Z",
     "shell.execute_reply.started": "2021-06-26T08:56:56.194553Z"
    }
   },
   "outputs": [],
   "source": [
    "df.info()"
   ]
  },
  {
   "cell_type": "code",
   "execution_count": null,
   "metadata": {
    "execution": {
     "iopub.execute_input": "2021-06-26T08:56:56.262374Z",
     "iopub.status.busy": "2021-06-26T08:56:56.261602Z",
     "iopub.status.idle": "2021-06-26T08:56:56.451152Z",
     "shell.execute_reply": "2021-06-26T08:56:56.449505Z",
     "shell.execute_reply.started": "2021-06-26T08:56:56.262313Z"
    }
   },
   "outputs": [],
   "source": [
    "df.describe(include='all').head()"
   ]
  },
  {
   "cell_type": "code",
   "execution_count": null,
   "metadata": {
    "execution": {
     "iopub.execute_input": "2021-06-26T08:56:56.456904Z",
     "iopub.status.busy": "2021-06-26T08:56:56.455864Z",
     "iopub.status.idle": "2021-06-26T08:56:56.503581Z",
     "shell.execute_reply": "2021-06-26T08:56:56.502151Z",
     "shell.execute_reply.started": "2021-06-26T08:56:56.456817Z"
    }
   },
   "outputs": [],
   "source": [
    "df.isna().sum()"
   ]
  },
  {
   "cell_type": "markdown",
   "metadata": {},
   "source": [
    "There are no null values"
   ]
  },
  {
   "cell_type": "markdown",
   "metadata": {},
   "source": [
    "Droping fnlwgt columns as it's not important for exploratory data analysis."
   ]
  },
  {
   "cell_type": "code",
   "execution_count": null,
   "metadata": {
    "execution": {
     "iopub.execute_input": "2021-06-26T08:56:56.506894Z",
     "iopub.status.busy": "2021-06-26T08:56:56.506081Z",
     "iopub.status.idle": "2021-06-26T08:56:56.579322Z",
     "shell.execute_reply": "2021-06-26T08:56:56.578025Z",
     "shell.execute_reply.started": "2021-06-26T08:56:56.506831Z"
    }
   },
   "outputs": [],
   "source": [
    "df.drop('fnlwgt', axis=1, inplace=True)\n",
    "df.replace({'?':'Unknown'}, inplace=True)"
   ]
  },
  {
   "cell_type": "markdown",
   "metadata": {},
   "source": [
    "# Splitting The Data."
   ]
  },
  {
   "cell_type": "markdown",
   "metadata": {},
   "source": [
    "Split the data into two parts that are related to each other for EDA."
   ]
  },
  {
   "cell_type": "code",
   "execution_count": null,
   "metadata": {
    "execution": {
     "iopub.execute_input": "2021-06-26T08:56:56.582027Z",
     "iopub.status.busy": "2021-06-26T08:56:56.581433Z",
     "iopub.status.idle": "2021-06-26T08:56:56.589968Z",
     "shell.execute_reply": "2021-06-26T08:56:56.588509Z",
     "shell.execute_reply.started": "2021-06-26T08:56:56.581953Z"
    }
   },
   "outputs": [],
   "source": [
    "work_col = ['workclass','education','education.num','occupation','capital.gain','capital.loss','hours.per.week','income']\n",
    "\n",
    "dempgraphic_col = ['age','marital.status','relationship','race','sex','native.country']"
   ]
  },
  {
   "cell_type": "code",
   "execution_count": null,
   "metadata": {
    "execution": {
     "iopub.execute_input": "2021-06-26T08:56:56.59228Z",
     "iopub.status.busy": "2021-06-26T08:56:56.591793Z",
     "iopub.status.idle": "2021-06-26T08:56:56.614284Z",
     "shell.execute_reply": "2021-06-26T08:56:56.61286Z",
     "shell.execute_reply.started": "2021-06-26T08:56:56.592239Z"
    }
   },
   "outputs": [],
   "source": [
    "work_col =df[work_col]\n",
    "dempgraphic_col = df[dempgraphic_col]"
   ]
  },
  {
   "cell_type": "markdown",
   "metadata": {},
   "source": [
    "# ****Work Related Column Analysis****"
   ]
  },
  {
   "cell_type": "markdown",
   "metadata": {},
   "source": [
    "First Lets do univariate analysis of Work related features."
   ]
  },
  {
   "cell_type": "code",
   "execution_count": null,
   "metadata": {
    "execution": {
     "iopub.execute_input": "2021-06-26T08:56:56.616826Z",
     "iopub.status.busy": "2021-06-26T08:56:56.616392Z",
     "iopub.status.idle": "2021-06-26T08:56:58.154677Z",
     "shell.execute_reply": "2021-06-26T08:56:58.153568Z",
     "shell.execute_reply.started": "2021-06-26T08:56:56.616787Z"
    }
   },
   "outputs": [],
   "source": [
    "pay = work_col['income'].value_counts()\n",
    "fig = px.bar(x=pay.index, y=pay, title='Total Income Distribution', text=(work_col['income'].value_counts()/len(work_col['income'])*100))\n",
    "fig['layout'].update(height=500, width=500)\n",
    "fig.update_traces(textposition='outside',texttemplate='%{text:.4s}', marker_color=['pink','plum'])\n",
    "fig.show()\n"
   ]
  },
  {
   "cell_type": "markdown",
   "metadata": {},
   "source": [
    "Income <=50k is almost 76%, Income >50k is 24%. There seems to be slight imbalance in data."
   ]
  },
  {
   "cell_type": "code",
   "execution_count": null,
   "metadata": {
    "execution": {
     "iopub.execute_input": "2021-06-26T08:56:58.156422Z",
     "iopub.status.busy": "2021-06-26T08:56:58.15611Z",
     "iopub.status.idle": "2021-06-26T08:56:58.341137Z",
     "shell.execute_reply": "2021-06-26T08:56:58.339936Z",
     "shell.execute_reply.started": "2021-06-26T08:56:58.156391Z"
    }
   },
   "outputs": [],
   "source": [
    "trace1 = go.Bar(x=work_col['workclass'].value_counts().index, y=work_col['workclass'].value_counts(), \n",
    "                text=(work_col['workclass'].value_counts()/len(work_col['workclass'])*100), \n",
    "                marker=dict(color=work_col['workclass'].value_counts(), colorscale='earth'))\n",
    "\n",
    "trace2 = go.Bar(x=work_col['education'].value_counts().index, y=work_col['education'].value_counts(), \n",
    "                text=(work_col['education'].value_counts()/len(work_col['education'])*100),\n",
    "               marker=dict(color=work_col['education'].value_counts(), colorscale='earth'))\n",
    "\n",
    "trace3 = go.Bar(x=work_col['occupation'].value_counts().index, y=work_col['occupation'].value_counts(), \n",
    "                text=(work_col['occupation'].value_counts()/len(work_col['occupation'])*100),\n",
    "               marker=dict(color=work_col['occupation'].value_counts(), colorscale='earth'))\n",
    "\n",
    "\n",
    "fig = make_subplots(rows=2, cols=2, specs=[[{'type':'bar'},{'type':'bar'}],\n",
    "                                          [{'type':'bar'},None]],\n",
    "                   subplot_titles=('Work Class Distribution','Education Distribution','Occupation Distribution',\n",
    "                                  'Hours Per Week Distribution'))\n",
    "fig.append_trace(trace1,1,1)\n",
    "fig.append_trace(trace2,1,2)\n",
    "fig.append_trace(trace3,2,1)\n",
    "\n",
    "fig['layout'].update(height=1100, width=1200,title='Work Related Feature Analysis')\n",
    "\n",
    "fig.update_traces(textposition='outside',texttemplate='%{text:.4s}%')\n",
    "fig.show()"
   ]
  },
  {
   "cell_type": "markdown",
   "metadata": {},
   "source": [
    "According to data around 69.7% people are working privately.\n",
    "\n",
    "Around 32.2% where high school graduates, while 22.39% are collage graduates.\n",
    "\n",
    "Prof-specialty, Craft-repair, and Exec-management occuaption are higher in count than other occupations."
   ]
  },
  {
   "cell_type": "code",
   "execution_count": null,
   "metadata": {
    "execution": {
     "iopub.execute_input": "2021-06-26T08:56:58.343579Z",
     "iopub.status.busy": "2021-06-26T08:56:58.343104Z",
     "iopub.status.idle": "2021-06-26T08:56:59.931527Z",
     "shell.execute_reply": "2021-06-26T08:56:59.930179Z",
     "shell.execute_reply.started": "2021-06-26T08:56:58.34353Z"
    }
   },
   "outputs": [],
   "source": [
    "plt.figure(figsize=(25,8))\n",
    "sns.countplot(x=work_col['hours.per.week'])\n",
    "plt.title('Hours Per Week', fontsize=30)\n",
    "plt.xlabel('Hours', fontsize=15)\n",
    "plt.ylabel('Count', fontsize=15)\n",
    "plt.show()"
   ]
  },
  {
   "cell_type": "markdown",
   "metadata": {},
   "source": [
    "Most people do 40 Hours per week."
   ]
  },
  {
   "cell_type": "code",
   "execution_count": null,
   "metadata": {
    "execution": {
     "iopub.execute_input": "2021-06-26T08:56:59.933526Z",
     "iopub.status.busy": "2021-06-26T08:56:59.933163Z",
     "iopub.status.idle": "2021-06-26T08:57:00.073598Z",
     "shell.execute_reply": "2021-06-26T08:57:00.072235Z",
     "shell.execute_reply.started": "2021-06-26T08:56:59.933493Z"
    }
   },
   "outputs": [],
   "source": [
    "ax=work_col.groupby('income')[['capital.gain','capital.loss']].agg(['min','max','mean'])\n",
    "ax.style.background_gradient(cmap=\"CMRmap_r\")"
   ]
  },
  {
   "cell_type": "markdown",
   "metadata": {},
   "source": [
    "Bivariate Analysis of Work related Features"
   ]
  },
  {
   "cell_type": "code",
   "execution_count": null,
   "metadata": {
    "execution": {
     "iopub.execute_input": "2021-06-26T08:57:00.076292Z",
     "iopub.status.busy": "2021-06-26T08:57:00.075789Z",
     "iopub.status.idle": "2021-06-26T08:57:01.538297Z",
     "shell.execute_reply": "2021-06-26T08:57:01.536963Z",
     "shell.execute_reply.started": "2021-06-26T08:57:00.076239Z"
    }
   },
   "outputs": [],
   "source": [
    "fig = px.histogram(x=work_col['workclass'], color=work_col['income'],color_discrete_sequence=['grey','yellow'], height=400, width=700, title='Work Class VS Income',\n",
    "                  labels={'Work':'Work'})\n",
    "fig.show()\n",
    "\n",
    "fig = px.histogram(x=work_col['occupation'], color=work_col['income'],color_discrete_sequence=['grey','plum'], height=400, width=700, title='Occupation VS Income')\n",
    "fig.show()\n",
    "\n",
    "fig = px.histogram(x=work_col['education'], color=work_col['income'], color_discrete_sequence=['grey','orange'], height=400, width=700, title='Education VS Income')\n",
    "fig.show()\n"
   ]
  },
  {
   "cell_type": "markdown",
   "metadata": {},
   "source": [
    "People doing private jobs have higher rate of earning >=50k aswell as <50k.\n",
    "\n",
    "Rate of earning >=50k is higher in Exec-managerial, Prof-specialty occupation.\n",
    "\n",
    "Bachelors degree holder have higher chance of earning >=50k. Masters, Doctorate degrees have lower total count but there rate of earning >=50k\n",
    "is alot higher."
   ]
  },
  {
   "cell_type": "code",
   "execution_count": null,
   "metadata": {
    "execution": {
     "iopub.execute_input": "2021-06-26T08:57:01.54032Z",
     "iopub.status.busy": "2021-06-26T08:57:01.539957Z",
     "iopub.status.idle": "2021-06-26T08:57:01.821295Z",
     "shell.execute_reply": "2021-06-26T08:57:01.819914Z",
     "shell.execute_reply.started": "2021-06-26T08:57:01.540284Z"
    }
   },
   "outputs": [],
   "source": [
    "fig = px.histogram(x=work_col['hours.per.week'], \n",
    "                   color=work_col['income'], \n",
    "                   height=600, \n",
    "                   width=1000,log_y=True,\n",
    "                  template='ggplot2')\n",
    "\n",
    "fig.update_layout(paper_bgcolor='rgb(248, 248, 255)',\n",
    "     plot_bgcolor='rgb(248, 248, 255)',\n",
    "     showlegend=False,)\n",
    "fig.show()"
   ]
  },
  {
   "cell_type": "markdown",
   "metadata": {},
   "source": [
    "I have used Log scale for better visualization.\n",
    "\n"
   ]
  },
  {
   "cell_type": "markdown",
   "metadata": {},
   "source": [
    "# Demographic Column Analysis"
   ]
  },
  {
   "cell_type": "code",
   "execution_count": null,
   "metadata": {
    "execution": {
     "iopub.execute_input": "2021-06-26T08:57:01.823255Z",
     "iopub.status.busy": "2021-06-26T08:57:01.822828Z",
     "iopub.status.idle": "2021-06-26T08:57:01.93543Z",
     "shell.execute_reply": "2021-06-26T08:57:01.93417Z",
     "shell.execute_reply.started": "2021-06-26T08:57:01.823218Z"
    }
   },
   "outputs": [],
   "source": [
    "fig = go.Figure()\n",
    "\n",
    "fig.add_trace(go.Histogram(x=dempgraphic_col['age'],\n",
    "                          xbins=dict(\n",
    "                          start=17,\n",
    "                          end=90,\n",
    "                          size=1),\n",
    "                          opacity=1))\n",
    "\n",
    "fig.update_layout(title_text='Age Distribution',\n",
    "                 xaxis_title='Age',\n",
    "                 yaxis_title='Count',\n",
    "                 bargap=0.05,\n",
    "                 xaxis={'showgrid':False},\n",
    "                 yaxis={'showgrid':False},\n",
    "                 template='seaborn',\n",
    "                 height=600,\n",
    "                 width=1000)\n",
    "\n",
    "fig.update_layout(paper_bgcolor='rgb(248, 248, 255)',\n",
    "     plot_bgcolor='rgb(248, 248, 255)',\n",
    "     showlegend=False,)\n",
    "fig.show()"
   ]
  },
  {
   "cell_type": "code",
   "execution_count": null,
   "metadata": {
    "execution": {
     "iopub.execute_input": "2021-06-26T08:57:01.937627Z",
     "iopub.status.busy": "2021-06-26T08:57:01.937228Z",
     "iopub.status.idle": "2021-06-26T08:57:02.095351Z",
     "shell.execute_reply": "2021-06-26T08:57:02.094469Z",
     "shell.execute_reply.started": "2021-06-26T08:57:01.937573Z"
    }
   },
   "outputs": [],
   "source": [
    "colors=['mediumturquoise','lightgreen','seagreen',\"rgb(114, 78, 145)\",'palegreen','olive','gold','darkorange']\n",
    "\n",
    "traces1 = go.Pie(values=dempgraphic_col['marital.status'].value_counts(), labels=dempgraphic_col['marital.status'].value_counts().index, marker_colors=['mediumturquoise','lightgreen','seagreen',\"rgb(114, 78, 145)\",'palegreen','olive'])\n",
    "\n",
    "traces2 = go.Pie(values=dempgraphic_col['relationship'].value_counts(), labels=dempgraphic_col['relationship'].value_counts().index, marker_colors=['lightcyan','cyan','royalblue','darkblue','steelblue','lightblue'])\n",
    "\n",
    "traces3 = go.Pie(values=dempgraphic_col['race'].value_counts(), labels=dempgraphic_col['race'].value_counts().index,marker_colors=['pink','plum','coral','salmon'])\n",
    "\n",
    "traces4 = go.Pie(values=dempgraphic_col['sex'].value_counts(), labels=dempgraphic_col['sex'].value_counts().index, marker_colors=['gold','darkorange'])\n",
    "\n",
    "fig = make_subplots(rows=2, cols =2, specs=[[{'type':'domain'}, {'type':'domain'}],\n",
    "                                           [{'type':'domain'},{'type':'domain'}]],\n",
    "                   subplot_titles=('Marital Status Distribution', 'Relationship Distribution','Race Distribution','Gender Distribution'))\n",
    "\n",
    "fig.append_trace(traces1,1,1)\n",
    "fig.append_trace(traces2,1,2)\n",
    "fig.append_trace(traces3,2,1)\n",
    "fig.append_trace(traces4,2,2)\n",
    "\n",
    "fig['layout'].update(height=1000, \n",
    "                     title='Demographic Columns Analysis', titlefont_size=20,\n",
    "                     paper_bgcolor='rgb(248, 248, 255)',\n",
    "                     plot_bgcolor='rgb(248, 248, 255)',\n",
    "                     showlegend=False,)\n",
    "\n",
    "fig.update_traces(hole=.4, pull=[0,0,0.2,0,0], hoverinfo='label+percent', marker_line=dict(color='black', width=2),)\n",
    "\n",
    "fig.show()"
   ]
  },
  {
   "cell_type": "raw",
   "metadata": {},
   "source": [
    "46% of  people are married, whereas 32.8% never married.\n",
    "\n",
    "Count of husband working is alot higher than wife.\n",
    "\n",
    "Count of White race is higher than other races.\n",
    "\n",
    "Male count is double than that of female."
   ]
  },
  {
   "cell_type": "code",
   "execution_count": null,
   "metadata": {
    "execution": {
     "iopub.execute_input": "2021-06-26T08:57:02.097037Z",
     "iopub.status.busy": "2021-06-26T08:57:02.096574Z",
     "iopub.status.idle": "2021-06-26T08:57:02.196448Z",
     "shell.execute_reply": "2021-06-26T08:57:02.19516Z",
     "shell.execute_reply.started": "2021-06-26T08:57:02.09699Z"
    }
   },
   "outputs": [],
   "source": [
    "fig = px.bar(x=dempgraphic_col['native.country'].value_counts().index, y=dempgraphic_col['native.country'].value_counts(),log_y=True,\n",
    "             text=(dempgraphic_col['native.country'].value_counts()/len(dempgraphic_col['native.country'])*100))\n",
    "\n",
    "fig.update_traces(textposition='outside', texttemplate='%{text:.3s}%')\n",
    "fig['layout'].update(height=500, width=1500,title='Country Count')\n",
    "fig.show()"
   ]
  },
  {
   "cell_type": "markdown",
   "metadata": {},
   "source": [
    "US comprise 89.6% of total data, while only 10% is shared by other countries combined."
   ]
  },
  {
   "cell_type": "markdown",
   "metadata": {},
   "source": [
    "\n"
   ]
  },
  {
   "cell_type": "code",
   "execution_count": null,
   "metadata": {
    "execution": {
     "iopub.execute_input": "2021-06-26T08:57:02.19809Z",
     "iopub.status.busy": "2021-06-26T08:57:02.197777Z",
     "iopub.status.idle": "2021-06-26T08:57:03.896981Z",
     "shell.execute_reply": "2021-06-26T08:57:03.895892Z",
     "shell.execute_reply.started": "2021-06-26T08:57:02.19806Z"
    }
   },
   "outputs": [],
   "source": [
    "fig = px.histogram(x=dempgraphic_col['marital.status'], color=df['income'],color_discrete_sequence=['navy','lightblue'], height=400, width=700, title='Marital Status VS Income',\n",
    "                  labels={'Work':'Work'})\n",
    "fig.show()\n",
    "\n",
    "fig = px.histogram(x=dempgraphic_col['relationship'], color=df['income'],color_discrete_sequence=['darkorange','gold'], height=400, width=700, title='Relationship VS Income')\n",
    "fig.show()\n",
    "\n",
    "fig = px.histogram(x=dempgraphic_col['sex'], color=df['income'], color_discrete_sequence=['maroon','palevioletred'], height=400, width=600, title='Gender VS Income')\n",
    "fig.show()\n",
    "\n",
    "fig = px.histogram(x=dempgraphic_col['race'], color=df['income'], color_discrete_sequence=['pink','peachpuff'], height=400, width=700, title='Race VS Income')\n",
    "fig.show()"
   ]
  },
  {
   "cell_type": "markdown",
   "metadata": {},
   "source": [
    "Rate of unmarried people earning >=50k is high, while count of married people earning >50k is high.\n",
    "\n"
   ]
  },
  {
   "cell_type": "code",
   "execution_count": null,
   "metadata": {
    "execution": {
     "iopub.execute_input": "2021-06-26T08:57:03.899272Z",
     "iopub.status.busy": "2021-06-26T08:57:03.898875Z",
     "iopub.status.idle": "2021-06-26T08:57:04.246917Z",
     "shell.execute_reply": "2021-06-26T08:57:04.245552Z",
     "shell.execute_reply.started": "2021-06-26T08:57:03.899232Z"
    }
   },
   "outputs": [],
   "source": [
    "fig = px.histogram(x=dempgraphic_col['native.country'], \n",
    "                   color=df['income'],log_y=True,\n",
    "                  width=900)\n",
    "fig.update_layout(paper_bgcolor='rgb(248, 248, 255)',\n",
    "     plot_bgcolor='rgb(248, 248, 255)',\n",
    "     showlegend=False,)\n",
    "fig.show()"
   ]
  },
  {
   "cell_type": "code",
   "execution_count": null,
   "metadata": {
    "execution": {
     "iopub.execute_input": "2021-06-26T08:57:04.248762Z",
     "iopub.status.busy": "2021-06-26T08:57:04.248395Z",
     "iopub.status.idle": "2021-06-26T08:57:04.440997Z",
     "shell.execute_reply": "2021-06-26T08:57:04.439719Z",
     "shell.execute_reply.started": "2021-06-26T08:57:04.248712Z"
    }
   },
   "outputs": [],
   "source": [
    "fig = px.histogram(x=dempgraphic_col['age'], \n",
    "                   color=df['income'],\n",
    "                  height=500,\n",
    "                  width=800,\n",
    "                  template='ggplot2',\n",
    "                  nbins=100)\n",
    "\n",
    "fig.update_layout(paper_bgcolor='rgb(248, 248, 255)',\n",
    "     plot_bgcolor='rgb(248, 248, 255)',\n",
    "     showlegend=False,)\n",
    "fig.show()"
   ]
  },
  {
   "cell_type": "markdown",
   "metadata": {},
   "source": [
    "Label encoding all the Categorical features.\n",
    "\n",
    "people earning  >=50k range between all ages."
   ]
  },
  {
   "cell_type": "code",
   "execution_count": null,
   "metadata": {
    "execution": {
     "iopub.execute_input": "2021-06-26T08:57:04.443015Z",
     "iopub.status.busy": "2021-06-26T08:57:04.442632Z",
     "iopub.status.idle": "2021-06-26T08:57:04.449238Z",
     "shell.execute_reply": "2021-06-26T08:57:04.447772Z",
     "shell.execute_reply.started": "2021-06-26T08:57:04.44298Z"
    }
   },
   "outputs": [],
   "source": [
    "transformer = ColumnTransformer([\n",
    "    ('one hot', OneHotEncoder(drop = 'first'), ['relationship', 'race', 'sex']),\n",
    "    ('binary', ce.BinaryEncoder(), ['workclass', 'marital.status', 'occupation', 'native.country'])],\n",
    "    remainder = 'passthrough')"
   ]
  },
  {
   "cell_type": "code",
   "execution_count": null,
   "metadata": {
    "execution": {
     "iopub.execute_input": "2021-06-26T08:57:04.451213Z",
     "iopub.status.busy": "2021-06-26T08:57:04.450845Z",
     "iopub.status.idle": "2021-06-26T08:57:04.480694Z",
     "shell.execute_reply": "2021-06-26T08:57:04.479436Z",
     "shell.execute_reply.started": "2021-06-26T08:57:04.451179Z"
    }
   },
   "outputs": [],
   "source": [
    "x = df.drop(['income','education'],axis=1)\n",
    "y = np.where(df['income'] == '>50K', 1, 0)\n",
    "\n",
    "print(x.shape)\n",
    "print(y.shape)"
   ]
  },
  {
   "cell_type": "code",
   "execution_count": null,
   "metadata": {
    "execution": {
     "iopub.execute_input": "2021-06-26T08:57:04.482805Z",
     "iopub.status.busy": "2021-06-26T08:57:04.482493Z",
     "iopub.status.idle": "2021-06-26T08:57:04.757197Z",
     "shell.execute_reply": "2021-06-26T08:57:04.755873Z",
     "shell.execute_reply.started": "2021-06-26T08:57:04.482773Z"
    }
   },
   "outputs": [],
   "source": [
    "x = transformer.fit_transform(x)"
   ]
  },
  {
   "cell_type": "code",
   "execution_count": null,
   "metadata": {
    "execution": {
     "iopub.execute_input": "2021-06-26T11:50:30.407208Z",
     "iopub.status.busy": "2021-06-26T11:50:30.406464Z",
     "iopub.status.idle": "2021-06-26T11:50:30.427636Z",
     "shell.execute_reply": "2021-06-26T11:50:30.426171Z",
     "shell.execute_reply.started": "2021-06-26T11:50:30.407148Z"
    }
   },
   "outputs": [],
   "source": [
    "x_train, x_test, y_train, y_test = train_test_split(x,y,test_size=0.3, random_state=100)"
   ]
  },
  {
   "cell_type": "code",
   "execution_count": null,
   "metadata": {
    "execution": {
     "iopub.execute_input": "2021-06-26T11:50:52.046709Z",
     "iopub.status.busy": "2021-06-26T11:50:52.046282Z",
     "iopub.status.idle": "2021-06-26T11:51:50.13666Z",
     "shell.execute_reply": "2021-06-26T11:51:50.135664Z",
     "shell.execute_reply.started": "2021-06-26T11:50:52.046674Z"
    }
   },
   "outputs": [],
   "source": [
    "models = [('LR',LogisticRegression(max_iter=10000)), ('SVC', SVC()),\n",
    "         ('DT', DecisionTreeClassifier()), ('RF',RandomForestClassifier()),\n",
    "         ('KNN',KNeighborsClassifier(n_neighbors=10)), ('GNB',GaussianNB()),\n",
    "         ('GBC',GradientBoostingClassifier()), ('ADA', AdaBoostClassifier()),\n",
    "         ('XGB', XGBClassifier())]\n",
    "results = []\n",
    "names = []\n",
    "final_Score =[]\n",
    "\n",
    "for name,model in models:\n",
    "    model.fit(x_train,y_train)\n",
    "    model_results = model.predict(x_test)\n",
    "    score = accuracy_score(y_test, model_results)\n",
    "    results.append(score)\n",
    "    names.append(name)\n",
    "    final_Score.append((name,score))\n",
    "    \n",
    "final_Score.sort(key=lambda k:k[1],reverse=True)"
   ]
  },
  {
   "cell_type": "code",
   "execution_count": null,
   "metadata": {
    "execution": {
     "iopub.execute_input": "2021-06-26T11:52:11.226481Z",
     "iopub.status.busy": "2021-06-26T11:52:11.226093Z",
     "iopub.status.idle": "2021-06-26T11:52:11.234836Z",
     "shell.execute_reply": "2021-06-26T11:52:11.233313Z",
     "shell.execute_reply.started": "2021-06-26T11:52:11.226448Z"
    }
   },
   "outputs": [],
   "source": [
    "final_Score"
   ]
  },
  {
   "cell_type": "code",
   "execution_count": null,
   "metadata": {
    "execution": {
     "iopub.execute_input": "2021-06-26T11:52:11.376399Z",
     "iopub.status.busy": "2021-06-26T11:52:11.375976Z",
     "iopub.status.idle": "2021-06-26T11:52:11.386043Z",
     "shell.execute_reply": "2021-06-26T11:52:11.384398Z",
     "shell.execute_reply.started": "2021-06-26T11:52:11.37636Z"
    }
   },
   "outputs": [],
   "source": [
    "random_gbc ={'learning_rate':[0.0001,0.001,0.01,0.1],\n",
    "            'n_estimators':[100,200,500,1000],\n",
    "            'max_features':['sqrt','log2'],\n",
    "            'max_depth':list(range(11))\n",
    "                            }\n",
    "\n",
    "random_xgb = {\"learning_rate\"    : [0.05, 0.10, 0.15, 0.20, 0.25 ] ,\n",
    "            \"max_depth\"        : [ 3, 4, 5, 6, 8, 10],\n",
    "            \"min_child_weight\" : [ 1, 3, 5, 7 ],\n",
    "            \"gamma\"            : [ 0.0, 0.1, 0.2 , 0.3, 0.4 ],\n",
    "            \"colsample_bytree\" : [ 0.3, 0.4, 0.5 , 0.7 ],\n",
    "            'eval_metric':['mlogloss']}\n",
    "\n",
    "random_rf = {'n_estimators':[100,200,500,800,1000],\n",
    "            'max_features':['auto','sqrt','log2'],\n",
    "            'max_depth':list(range(1,11)),\n",
    "            'criterion':['gini','entropy']}"
   ]
  },
  {
   "cell_type": "markdown",
   "metadata": {},
   "source": [
    "# GBC Classifier Hyperparameter tuning"
   ]
  },
  {
   "cell_type": "code",
   "execution_count": null,
   "metadata": {
    "execution": {
     "iopub.execute_input": "2021-06-26T11:52:11.496064Z",
     "iopub.status.busy": "2021-06-26T11:52:11.495491Z",
     "iopub.status.idle": "2021-06-26T11:57:21.189539Z",
     "shell.execute_reply": "2021-06-26T11:57:21.18809Z",
     "shell.execute_reply.started": "2021-06-26T11:52:11.496018Z"
    }
   },
   "outputs": [],
   "source": [
    "score = []\n",
    "gbc_rs = RandomizedSearchCV(estimator= GradientBoostingClassifier(), param_distributions=random_gbc, cv=RepeatedStratifiedKFold(n_splits=5, n_repeats=2),\n",
    "                           n_iter=10,n_jobs=-1, verbose=2)\n",
    "\n",
    "gbc_rs.fit(x_train, y_train)\n",
    "gbc_pred = gbc_rs.best_estimator_.predict(x_test)\n",
    "gbc_best_score = accuracy_score(y_test, gbc_pred)\n",
    "score.append(['GBC', dict(gbc_rs.best_params_), gbc_best_score])\n"
   ]
  },
  {
   "cell_type": "markdown",
   "metadata": {},
   "source": [
    "# XGB Classifier Hyperparameter tuning"
   ]
  },
  {
   "cell_type": "code",
   "execution_count": null,
   "metadata": {
    "execution": {
     "iopub.execute_input": "2021-06-26T11:57:21.193082Z",
     "iopub.status.busy": "2021-06-26T11:57:21.192664Z",
     "iopub.status.idle": "2021-06-26T12:36:36.940918Z",
     "shell.execute_reply": "2021-06-26T12:36:36.939761Z",
     "shell.execute_reply.started": "2021-06-26T11:57:21.193041Z"
    }
   },
   "outputs": [],
   "source": [
    "xgb_rs = RandomizedSearchCV(estimator=XGBClassifier(), param_distributions=random_xgb, cv=RepeatedStratifiedKFold(n_splits=5, n_repeats=2),\n",
    "                           n_iter=10, n_jobs=-1, verbose=2)\n",
    "\n",
    "xgb_rs.fit(x_train,y_train)\n",
    "xgb_pred = xgb_rs.best_estimator_.predict(x_test)\n",
    "xgb_best_score = accuracy_score(y_test, xgb_pred)\n",
    "\n",
    "score.append(['XGB', dict(xgb_rs.best_params_), xgb_best_score])"
   ]
  },
  {
   "cell_type": "markdown",
   "metadata": {},
   "source": [
    "# RandomForest Classifier Hyperparameter tuning"
   ]
  },
  {
   "cell_type": "code",
   "execution_count": null,
   "metadata": {
    "execution": {
     "iopub.execute_input": "2021-06-26T12:36:36.943374Z",
     "iopub.status.busy": "2021-06-26T12:36:36.942731Z",
     "iopub.status.idle": "2021-06-26T12:38:58.355353Z",
     "shell.execute_reply": "2021-06-26T12:38:58.354037Z",
     "shell.execute_reply.started": "2021-06-26T12:36:36.943325Z"
    }
   },
   "outputs": [],
   "source": [
    "rf_rs = RandomizedSearchCV(estimator = RandomForestClassifier(),param_distributions= random_rf, cv= RepeatedStratifiedKFold(n_repeats=5, n_splits=2),\n",
    "                          n_iter=10, n_jobs=-1, verbose=2)\n",
    "\n",
    "rf_rs.fit(x_train, y_train)\n",
    "rf_pred = rf_rs.best_estimator_.predict(x_test)\n",
    "rf_best_score = accuracy_score(y_test, rf_pred)\n",
    "score.append(['RandomForest', dict(rf_rs.best_params_), rf_best_score])"
   ]
  },
  {
   "cell_type": "code",
   "execution_count": null,
   "metadata": {
    "execution": {
     "iopub.execute_input": "2021-06-26T12:38:58.357659Z",
     "iopub.status.busy": "2021-06-26T12:38:58.35726Z",
     "iopub.status.idle": "2021-06-26T12:38:58.377551Z",
     "shell.execute_reply": "2021-06-26T12:38:58.376112Z",
     "shell.execute_reply.started": "2021-06-26T12:38:58.357619Z"
    }
   },
   "outputs": [],
   "source": [
    "score = pd.DataFrame(score,columns=['Model','Parameters','Score'])\n",
    "score"
   ]
  },
  {
   "cell_type": "code",
   "execution_count": null,
   "metadata": {},
   "outputs": [],
   "source": []
  }
 ],
 "metadata": {
  "kernelspec": {
   "display_name": "Python 3",
   "language": "python",
   "name": "python3"
  },
  "language_info": {
   "codemirror_mode": {
    "name": "ipython",
    "version": 3
   },
   "file_extension": ".py",
   "mimetype": "text/x-python",
   "name": "python",
   "nbconvert_exporter": "python",
   "pygments_lexer": "ipython3",
   "version": "3.8.5"
  }
 },
 "nbformat": 4,
 "nbformat_minor": 4
}
