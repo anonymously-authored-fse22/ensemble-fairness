{
 "cells": [
  {
   "cell_type": "markdown",
   "metadata": {
    "_cell_guid": "b12491cf-cfa0-4df4-bd53-6683ec4d686c",
    "_uuid": "3d0d3f64bab223aa8869e80742d008343b9006ae"
   },
   "source": [
    "Predict whether an adult's income exceeds or is below $50K/yr based on census data. Data Analysis, Data visualization, Feature Selection and Reduction, about 10 Machine Learning models/estimators. Multilayer Perceptron(Deep Learning/Artificial Neural Network). Dataset splitted into training and testing data."
   ]
  },
  {
   "cell_type": "code",
   "execution_count": 1,
   "metadata": {
    "_cell_guid": "98d1a824-d4aa-4a62-8fa9-942dccc0f8d9",
    "_uuid": "cf2b91e9d9dfe5154175b2e4b26882a54c1da76f"
   },
   "outputs": [
    {
     "name": "stderr",
     "output_type": "stream",
     "text": [
      "Using TensorFlow backend.\n"
     ]
    }
   ],
   "source": [
    "import numpy\n",
    "import pandas\n",
    "from sklearn.feature_selection import SelectKBest\n",
    "from sklearn.feature_selection import chi2\n",
    "from sklearn.feature_selection import RFE\n",
    "from sklearn.linear_model import LogisticRegression\n",
    "from sklearn.decomposition import PCA\n",
    "from sklearn.ensemble import ExtraTreesClassifier\n",
    "\n",
    "\n",
    "import matplotlib.pyplot as plt\n",
    "from pandas.tools.plotting import scatter_matrix\n",
    "\n",
    "from sklearn.model_selection import train_test_split\n",
    "from sklearn.linear_model import LogisticRegression\n",
    "from sklearn.tree import DecisionTreeClassifier\n",
    "from sklearn.neighbors import KNeighborsClassifier\n",
    "from sklearn.discriminant_analysis import LinearDiscriminantAnalysis\n",
    "from sklearn.naive_bayes import GaussianNB\n",
    "from sklearn.svm import SVC\n",
    "from sklearn.svm import LinearSVC\n",
    "from sklearn.linear_model import SGDClassifier\n",
    "from sklearn.metrics import accuracy_score\n",
    "from sklearn.metrics import mean_squared_error\n",
    "\n",
    "\n",
    "\n",
    "from keras.models import Sequential\n",
    "from keras.layers import Dense\n",
    "from keras.layers import Dropout\n",
    "from keras.constraints import maxnorm\n",
    "\n",
    "# fix random seed for reproducibility\n",
    "seed = 7\n",
    "numpy.random.seed(seed)\n"
   ]
  },
  {
   "cell_type": "code",
   "execution_count": 2,
   "metadata": {
    "_cell_guid": "fcecd2f4-c044-4f40-92b7-6b8df8cb6615",
    "_uuid": "a4b5029576d1ea654b51bd077db67f7f58125a2f",
    "collapsed": true
   },
   "outputs": [],
   "source": [
    "# load dataset\n",
    "dataframe = pandas.read_csv(\"../input/adult.csv\")\n",
    "\n",
    "dataframe = dataframe.replace({'?': numpy.nan}).dropna()\n"
   ]
  },
  {
   "cell_type": "code",
   "execution_count": 3,
   "metadata": {
    "_cell_guid": "65871ef4-b118-49f3-923e-2f51c84f8b44",
    "_uuid": "9be02e875994e00917a44f7ee480fd97d59f7ba8",
    "collapsed": true
   },
   "outputs": [],
   "source": [
    "\n",
    "# Assign names to Columns\n",
    "dataframe.columns = ['age', 'workclass', 'fnlwgt', 'education', 'education_num', 'marital_status', 'occupation', 'relationship', 'race', 'sex', 'capital_gain', 'capital_loss', 'hours_per_week', 'native_country', 'income']\n",
    "\n",
    "# Encode Data\n",
    "dataframe.workclass.replace(('Private', 'Self-emp-not-inc', 'Self-emp-inc', 'Federal-gov', 'Local-gov', 'State-gov', 'Without-pay', 'Never-worked'),(1,2,3,4,5,6,7,8), inplace=True)\n",
    "dataframe.education.replace(('Bachelors', 'Some-college', '11th', 'HS-grad', 'Prof-school', 'Assoc-acdm', 'Assoc-voc', '9th', '7th-8th', '12th', 'Masters', '1st-4th', '10th', 'Doctorate', '5th-6th', 'Preschool'),(1,2,3,4,5,6,7,8,9,10,11,12,13,14,15,16), inplace=True)\n",
    "dataframe.marital_status.replace(('Married-civ-spouse', 'Divorced', 'Never-married', 'Separated', 'Widowed', 'Married-spouse-absent', 'Married-AF-spouse'),(1,2,3,4,5,6,7), inplace=True)\n",
    "dataframe.occupation.replace(('Tech-support', 'Craft-repair', 'Other-service', 'Sales', 'Exec-managerial', 'Prof-specialty', 'Handlers-cleaners', 'Machine-op-inspct', 'Adm-clerical', 'Farming-fishing', 'Transport-moving', 'Priv-house-serv', 'Protective-serv', 'Armed-Forces'),(1,2,3,4,5,6,7,8,9,10,11,12,13,14), inplace=True)\n",
    "dataframe.relationship.replace(('Wife', 'Own-child', 'Husband', 'Not-in-family', 'Other-relative', 'Unmarried'),(1,2,3,4,5,6), inplace=True)\n",
    "dataframe.race.replace(('White', 'Asian-Pac-Islander', 'Amer-Indian-Eskimo', 'Other', 'Black'),(1,2,3,4,5), inplace=True)\n",
    "dataframe.sex.replace(('Female', 'Male'),(1,2), inplace=True)\n",
    "dataframe.native_country.replace(('United-States', 'Cambodia', 'England', 'Puerto-Rico', 'Canada', 'Germany', 'Outlying-US(Guam-USVI-etc)', 'India', 'Japan', 'Greece', 'South', 'China', 'Cuba', 'Iran', 'Honduras', 'Philippines', 'Italy', 'Poland', 'Jamaica', 'Vietnam', 'Mexico', 'Portugal', 'Ireland', 'France', 'Dominican-Republic', 'Laos', 'Ecuador', 'Taiwan', 'Haiti', 'Columbia', 'Hungary', 'Guatemala', 'Nicaragua', 'Scotland', 'Thailand', 'Yugoslavia', 'El-Salvador', 'Trinadad&Tobago', 'Peru', 'Hong', 'Holand-Netherlands'),(1,2,3,4,5,6,7,8,9,10,11,12,13,14,15,16,17,18,19,20,21,22,23,24,25,26,27,28,29,30,31,32,33,34,35,36,37,38,39,40,41), inplace=True)\n",
    "dataframe.income.replace(('<=50K', '>50K'),(0,1), inplace=True)"
   ]
  },
  {
   "cell_type": "code",
   "execution_count": 4,
   "metadata": {
    "_cell_guid": "4800f357-87c1-4f6a-9a47-2e049e9ca9d6",
    "_uuid": "ec2e60262d9eae5f3203bd40a0c176ce76d12fdf"
   },
   "outputs": [
    {
     "name": "stdout",
     "output_type": "stream",
     "text": [
      "Head:    age  workclass  fnlwgt  education  education_num  marital_status  \\\n",
      "1   82          1  132870          4              9               5   \n",
      "3   54          1  140359          9              4               2   \n",
      "4   41          1  264663          2             10               4   \n",
      "5   34          1  216864          4              9               2   \n",
      "6   38          1  150601         13              6               4   \n",
      "\n",
      "   occupation  relationship  race  sex  capital_gain  capital_loss  \\\n",
      "1           5             4     1    1             0          4356   \n",
      "3           8             6     1    1             0          3900   \n",
      "4           6             2     1    1             0          3900   \n",
      "5           3             6     1    1             0          3770   \n",
      "6           9             6     1    2             0          3770   \n",
      "\n",
      "   hours_per_week  native_country  income  \n",
      "1              18               1       0  \n",
      "3              40               1       0  \n",
      "4              40               1       0  \n",
      "5              45               1       0  \n",
      "6              40               1       0  \n"
     ]
    }
   ],
   "source": [
    "print(\"Head:\", dataframe.head())"
   ]
  },
  {
   "cell_type": "code",
   "execution_count": 5,
   "metadata": {
    "_cell_guid": "89fa5e20-2e2b-4a25-b708-9969861aa33b",
    "_uuid": "61ed92b5fced369e6b61fdef038c6a180e54326e"
   },
   "outputs": [
    {
     "name": "stdout",
     "output_type": "stream",
     "text": [
      "Statistical Description:                 age     workclass        fnlwgt     education  education_num  \\\n",
      "count  30162.000000  30162.000000  3.016200e+04  30162.000000   30162.000000   \n",
      "mean      38.437902      1.736788  1.897938e+05      4.372820      10.121312   \n",
      "std       13.134665      1.461908  1.056530e+05      3.429379       2.549995   \n",
      "min       17.000000      1.000000  1.376900e+04      1.000000       1.000000   \n",
      "25%       28.000000      1.000000  1.176272e+05      2.000000       9.000000   \n",
      "50%       37.000000      1.000000  1.784250e+05      4.000000      10.000000   \n",
      "75%       47.000000      2.000000  2.376285e+05      5.000000      13.000000   \n",
      "max       90.000000      7.000000  1.484705e+06     16.000000      16.000000   \n",
      "\n",
      "       marital_status    occupation  relationship          race           sex  \\\n",
      "count    30162.000000  30162.000000  30162.000000  30162.000000  30162.000000   \n",
      "mean         2.053213      5.742159      3.393276      1.445196      1.675685   \n",
      "std          1.170881      2.978754      1.229789      1.196958      0.468126   \n",
      "min          1.000000      1.000000      1.000000      1.000000      1.000000   \n",
      "25%          1.000000      3.000000      3.000000      1.000000      1.000000   \n",
      "50%          2.000000      5.000000      3.000000      1.000000      2.000000   \n",
      "75%          3.000000      8.000000      4.000000      1.000000      2.000000   \n",
      "max          7.000000     14.000000      6.000000      5.000000      2.000000   \n",
      "\n",
      "       capital_gain  capital_loss  hours_per_week  native_country  \\\n",
      "count  30162.000000  30162.000000    30162.000000    30162.000000   \n",
      "mean    1092.007858     88.372489       40.931238        2.515583   \n",
      "std     7406.346497    404.298370       11.979984        5.641075   \n",
      "min        0.000000      0.000000        1.000000        1.000000   \n",
      "25%        0.000000      0.000000       40.000000        1.000000   \n",
      "50%        0.000000      0.000000       40.000000        1.000000   \n",
      "75%        0.000000      0.000000       45.000000        1.000000   \n",
      "max    99999.000000   4356.000000       99.000000       41.000000   \n",
      "\n",
      "             income  \n",
      "count  30162.000000  \n",
      "mean       0.248922  \n",
      "std        0.432396  \n",
      "min        0.000000  \n",
      "25%        0.000000  \n",
      "50%        0.000000  \n",
      "75%        0.000000  \n",
      "max        1.000000  \n"
     ]
    }
   ],
   "source": [
    "print(\"Statistical Description:\", dataframe.describe())"
   ]
  },
  {
   "cell_type": "code",
   "execution_count": 6,
   "metadata": {
    "_cell_guid": "098fe3fb-3595-44d9-9f70-6a49b4a05ad7",
    "_uuid": "abe289fa6ccca423fd8498b8e1cb720e3f463783"
   },
   "outputs": [
    {
     "name": "stdout",
     "output_type": "stream",
     "text": [
      "Shape: (30162, 15)\n"
     ]
    }
   ],
   "source": [
    "print(\"Shape:\", dataframe.shape)"
   ]
  },
  {
   "cell_type": "code",
   "execution_count": 7,
   "metadata": {
    "_cell_guid": "77c63927-7816-4a6c-86ef-1c3400bb9f16",
    "_uuid": "984ccc3d4a132db07c6ea3c3685e0084f9c0ce68"
   },
   "outputs": [
    {
     "name": "stdout",
     "output_type": "stream",
     "text": [
      "Data Types: age               int64\n",
      "workclass         int64\n",
      "fnlwgt            int64\n",
      "education         int64\n",
      "education_num     int64\n",
      "marital_status    int64\n",
      "occupation        int64\n",
      "relationship      int64\n",
      "race              int64\n",
      "sex               int64\n",
      "capital_gain      int64\n",
      "capital_loss      int64\n",
      "hours_per_week    int64\n",
      "native_country    int64\n",
      "income            int64\n",
      "dtype: object\n"
     ]
    }
   ],
   "source": [
    "print(\"Data Types:\", dataframe.dtypes)"
   ]
  },
  {
   "cell_type": "code",
   "execution_count": 8,
   "metadata": {
    "_cell_guid": "f235cfe0-e877-4bd0-9f6c-1d49f19bcc68",
    "_uuid": "18746d8ae1a1401797ab6befb2f973c3452f4ef2"
   },
   "outputs": [
    {
     "name": "stdout",
     "output_type": "stream",
     "text": [
      "Correlation:                      age  workclass    fnlwgt  education  education_num  \\\n",
      "age             1.000000   0.135486 -0.076511   0.115389       0.043526   \n",
      "workclass       0.135486   1.000000 -0.026818   0.033766       0.179178   \n",
      "fnlwgt         -0.076511  -0.026818  1.000000   0.021349      -0.044992   \n",
      "education       0.115389   0.033766  0.021349   1.000000      -0.232986   \n",
      "education_num   0.043526   0.179178 -0.044992  -0.232986       1.000000   \n",
      "marital_status -0.229179  -0.054710  0.028843  -0.014321      -0.103014   \n",
      "occupation      0.022717   0.128779  0.003759   0.012513      -0.039235   \n",
      "relationship    0.122997   0.013467  0.015271   0.028990      -0.033293   \n",
      "race           -0.023827   0.034985  0.099251   0.007865      -0.079069   \n",
      "sex             0.081993  -0.005317  0.025362   0.032919       0.006157   \n",
      "capital_gain    0.080154   0.013702  0.000422   0.022472       0.124416   \n",
      "capital_loss    0.060165   0.022541 -0.009750   0.020413       0.079646   \n",
      "hours_per_week  0.101599   0.027519 -0.022886   0.010587       0.152522   \n",
      "native_country -0.035854  -0.055750  0.101715   0.160304      -0.164779   \n",
      "income          0.241998   0.085662 -0.008957   0.009567       0.335286   \n",
      "\n",
      "                marital_status  occupation  relationship      race       sex  \\\n",
      "age                  -0.229179    0.022717      0.122997 -0.023827  0.081993   \n",
      "workclass            -0.054710    0.128779      0.013467  0.034985 -0.005317   \n",
      "fnlwgt                0.028843    0.003759      0.015271  0.099251  0.025362   \n",
      "education            -0.014321    0.012513      0.028990  0.007865  0.032919   \n",
      "education_num        -0.103014   -0.039235     -0.033293 -0.079069  0.006157   \n",
      "marital_status        1.000000    0.017642      0.367944  0.132562 -0.383107   \n",
      "occupation            0.017642    1.000000      0.011345  0.042565 -0.044658   \n",
      "relationship          0.367944    0.011345      1.000000  0.121136 -0.179051   \n",
      "race                  0.132562    0.042565      0.121136  1.000000 -0.118940   \n",
      "sex                  -0.383107   -0.044658     -0.179051 -0.118940  1.000000   \n",
      "capital_gain         -0.073526   -0.012190     -0.026872 -0.020829  0.048814   \n",
      "capital_loss         -0.069384   -0.014490     -0.031758 -0.028397  0.047011   \n",
      "hours_per_week       -0.226755    0.039834      0.052894 -0.061667  0.231268   \n",
      "native_country        0.052469    0.000850      0.043989  0.054023  0.000595   \n",
      "income               -0.378684   -0.045129     -0.179116 -0.096061  0.216699   \n",
      "\n",
      "                capital_gain  capital_loss  hours_per_week  native_country  \\\n",
      "age                 0.080154      0.060165        0.101599       -0.035854   \n",
      "workclass           0.013702      0.022541        0.027519       -0.055750   \n",
      "fnlwgt              0.000422     -0.009750       -0.022886        0.101715   \n",
      "education           0.022472      0.020413        0.010587        0.160304   \n",
      "education_num       0.124416      0.079646        0.152522       -0.164779   \n",
      "marital_status     -0.073526     -0.069384       -0.226755        0.052469   \n",
      "occupation         -0.012190     -0.014490        0.039834        0.000850   \n",
      "relationship       -0.026872     -0.031758        0.052894        0.043989   \n",
      "race               -0.020829     -0.028397       -0.061667        0.054023   \n",
      "sex                 0.048814      0.047011        0.231268        0.000595   \n",
      "capital_gain        1.000000     -0.032229        0.080432       -0.017108   \n",
      "capital_loss       -0.032229      1.000000        0.052417       -0.020918   \n",
      "hours_per_week      0.080432      0.052417        1.000000       -0.018839   \n",
      "native_country     -0.017108     -0.020918       -0.018839        1.000000   \n",
      "income              0.221196      0.150053        0.229480       -0.059455   \n",
      "\n",
      "                  income  \n",
      "age             0.241998  \n",
      "workclass       0.085662  \n",
      "fnlwgt         -0.008957  \n",
      "education       0.009567  \n",
      "education_num   0.335286  \n",
      "marital_status -0.378684  \n",
      "occupation     -0.045129  \n",
      "relationship   -0.179116  \n",
      "race           -0.096061  \n",
      "sex             0.216699  \n",
      "capital_gain    0.221196  \n",
      "capital_loss    0.150053  \n",
      "hours_per_week  0.229480  \n",
      "native_country -0.059455  \n",
      "income          1.000000  \n"
     ]
    }
   ],
   "source": [
    "print(\"Correlation:\", dataframe.corr(method='pearson'))"
   ]
  },
  {
   "cell_type": "markdown",
   "metadata": {
    "_cell_guid": "968c5f44-947e-41b0-b8b0-9213e2cf378a",
    "_uuid": "3c68ee6dd716450076ec95bab8a3aa3c9f53c321"
   },
   "source": [
    "'marital_status' has the highest correlation with the level of income(which is a negative correlation), followed by 'education_num' which is a positive correlation, 'fnlwgt' has the least correlation "
   ]
  },
  {
   "cell_type": "code",
   "execution_count": 9,
   "metadata": {
    "_cell_guid": "d983d519-ba16-4caf-bda2-f23590b91a3b",
    "_uuid": "d3d8dcea4c35ced98f1862b1aa187a6a31a98781",
    "collapsed": true
   },
   "outputs": [],
   "source": [
    "dataset = dataframe.values\n",
    "\n",
    "\n",
    "X = dataset[:,0:14]\n",
    "Y = dataset[:,14] "
   ]
  },
  {
   "cell_type": "code",
   "execution_count": 10,
   "metadata": {
    "_cell_guid": "b824f138-ab34-4090-9324-b2e70df1b093",
    "_uuid": "b17caaf79d7b97baf0a0bd8a1d382f405a410a1e"
   },
   "outputs": [
    {
     "name": "stdout",
     "output_type": "stream",
     "text": [
      "[  7.928e+03   2.723e+02   1.423e+05   7.424e+00   2.178e+03   2.888e+03\n",
      "   9.492e+01   4.313e+02   2.759e+02   1.852e+02   7.413e+07   1.256e+06\n",
      "   5.569e+03   1.349e+03]\n",
      "[[132870      0   4356]\n",
      " [140359      0   3900]\n",
      " [264663      0   3900]\n",
      " [216864      0   3770]\n",
      " [150601      0   3770]\n",
      " [ 88638      0   3683]\n",
      " [422013      0   3683]\n",
      " [172274      0   3004]\n",
      " [164526      0   2824]\n",
      " [129177      0   2824]]\n"
     ]
    }
   ],
   "source": [
    "# feature extraction\n",
    "test = SelectKBest(score_func=chi2, k=3)\n",
    "fit = test.fit(X, Y)\n",
    "\n",
    "# scores\n",
    "numpy.set_printoptions(precision=3)\n",
    "print(fit.scores_)\n",
    "features = fit.transform(X)\n",
    "\n",
    "# summarise selected features\n",
    "print(features[0:10,:])"
   ]
  },
  {
   "cell_type": "markdown",
   "metadata": {
    "_cell_guid": "2378b1f5-15dc-41c4-aee9-5a224a655ddd",
    "_uuid": "fae50098caf3188ebfdec383dd1e8368ab6c26f1"
   },
   "source": [
    " 'relationship', 'capital_loss' and 'capital_gain' were top 3 selected features for predicting 'Income'\n",
    " using chi-squared (chi2) statistical test, Univariate Selections"
   ]
  },
  {
   "cell_type": "code",
   "execution_count": 11,
   "metadata": {
    "_cell_guid": "cdb8c266-3830-489e-a319-0a71a42e2340",
    "_uuid": "66e66e8eeb6a7f04f749aa2d7a27081781114114"
   },
   "outputs": [
    {
     "name": "stdout",
     "output_type": "stream",
     "text": [
      "Number of Features:  3\n",
      "Selected Features:  [False False False False  True  True False False False  True False False\n",
      " False False]\n",
      "Feature Ranking:  [ 4  9 12  8  1  1  5  2  3  1 11 10  6  7]\n"
     ]
    }
   ],
   "source": [
    "#Feature Selection\n",
    "model = LogisticRegression()\n",
    "rfe = RFE(model, 3)\n",
    "fit = rfe.fit(X, Y)\n",
    "\n",
    "print(\"Number of Features: \", fit.n_features_)\n",
    "print(\"Selected Features: \", fit.support_)\n",
    "print(\"Feature Ranking: \", fit.ranking_)"
   ]
  },
  {
   "cell_type": "markdown",
   "metadata": {
    "_cell_guid": "6aab0237-9f15-4f14-8b62-c9d26fd323bf",
    "_uuid": "5e40eb8cb4942a4d8b22622f91c14e8023cd1574"
   },
   "source": [
    "'education_num', 'marital_status' and 'sex' were top 3 selected features/feature combination for predicting 'Income'\n",
    " using Recursive Feature Elimination, the 1st and 2n are atually the two attributes with the highest correlation with the \n",
    " 'Income' class"
   ]
  },
  {
   "cell_type": "markdown",
   "metadata": {
    "_cell_guid": "0c70b30b-bda5-4997-aedc-3fbfc1f7c925",
    "_uuid": "88668e84b2da99806c93d38f06ff3b24e29e214e"
   },
   "source": [
    " Dimensionality Reduction: Principal Component Analysis: "
   ]
  },
  {
   "cell_type": "code",
   "execution_count": 12,
   "metadata": {
    "_cell_guid": "0e129fde-2952-498f-ab29-dfdcbec3bdd2",
    "_uuid": "efb5a57750ac48966f58ffd6fdcdfe6e48f9b5c5"
   },
   "outputs": [
    {
     "name": "stdout",
     "output_type": "stream",
     "text": [
      "Explained Varience:  [  9.951e-01   4.890e-03   1.456e-05]\n"
     ]
    }
   ],
   "source": [
    "pca = PCA(n_components=3)\n",
    "fit = pca.fit(X)\n",
    "\n",
    "print(\"Explained Varience: \", fit.explained_variance_ratio_)"
   ]
  },
  {
   "cell_type": "code",
   "execution_count": 13,
   "metadata": {
    "_cell_guid": "75dcbe43-339b-4057-bb85-246e48f6f1a4",
    "_uuid": "93301f27f71cebb2a8f20f7708eda6eeb051f229"
   },
   "outputs": [
    {
     "name": "stdout",
     "output_type": "stream",
     "text": [
      "Feature Importance:  [ 0.153  0.04   0.166  0.026  0.093  0.123  0.084  0.047  0.014  0.028\n",
      "  0.09   0.027  0.094  0.016]\n"
     ]
    }
   ],
   "source": [
    "model = ExtraTreesClassifier()\n",
    "model.fit(X, Y)\n",
    "print(\"Feature Importance: \", model.feature_importances_)\n"
   ]
  },
  {
   "cell_type": "code",
   "execution_count": 14,
   "metadata": {
    "_cell_guid": "014fa872-0d5a-433f-b56b-cde75e3d2bcd",
    "_uuid": "dc0d519dc730703d06c4b8a37c1af1fd8106fc72",
    "collapsed": true
   },
   "outputs": [],
   "source": []
  },
  {
   "cell_type": "markdown",
   "metadata": {
    "_cell_guid": "3772e92f-f2ff-448a-84ac-dfb0c43b8d04",
    "_uuid": "07a0bc2c0491a810723802ae8b2918754327bdb6"
   },
   "source": [
    "'age', 'fnlwgt' and 'marital_status' are the top 3 features using Feature Importance from Extra Trees(Bagged decision trees)"
   ]
  },
  {
   "cell_type": "markdown",
   "metadata": {
    "_cell_guid": "2b9038d9-0e2e-49a3-9f9e-83bc195e5dbf",
    "_uuid": "8b4e5c377bafdb3a3ce68d1d0ef7d3a418bd0e78"
   },
   "source": [
    "**VISUALIZATION**"
   ]
  },
  {
   "cell_type": "code",
   "execution_count": 14,
   "metadata": {
    "_cell_guid": "1be197bc-ce47-40ae-b248-f63973e0e78a",
    "_uuid": "f85b1d5881d780888a14d60672f15beb3bb21b0b"
   },
   "outputs": [
    {
     "data": {
      "text/plain": [
       "(array([ 22654.,      0.,      0.,      0.,      0.,      0.,      0.,\n",
       "             0.,      0.,   7508.]),\n",
       " array([ 0. ,  0.1,  0.2,  0.3,  0.4,  0.5,  0.6,  0.7,  0.8,  0.9,  1. ]),\n",
       " <a list of 10 Patch objects>)"
      ]
     },
     "execution_count": 14,
     "metadata": {},
     "output_type": "execute_result"
    },
    {
     "data": {
      "image/png": "[encoded data removed]",
      "text/plain": [
       "<matplotlib.figure.Figure at 0x7fb54d913080>"
      ]
     },
     "metadata": {},
     "output_type": "display_data"
    }
   ],
   "source": [
    "plt.hist((dataframe.income))"
   ]
  },
  {
   "cell_type": "markdown",
   "metadata": {
    "_cell_guid": "f3510c59-3458-4037-a459-e92129d113c2",
    "_uuid": "fa2bf1c17475f8c253dbaab1ce9992d7e49c871d"
   },
   "source": [
    "Most of the dataset's samples fall within the '<=50K' 'income' output class"
   ]
  },
  {
   "cell_type": "code",
   "execution_count": 15,
   "metadata": {
    "_cell_guid": "c2e700c1-1f11-482a-9f1e-526abf355fb6",
    "_uuid": "aefb70860782f344afb4d6c9663787c0692adb1a"
   },
   "outputs": [
    {
     "data": {
      "text/plain": [
       "array([[<matplotlib.axes._subplots.AxesSubplot object at 0x7fb54d8d6940>,\n",
       "        <matplotlib.axes._subplots.AxesSubplot object at 0x7fb5480ad898>,\n",
       "        <matplotlib.axes._subplots.AxesSubplot object at 0x7fb54d98af28>,\n",
       "        <matplotlib.axes._subplots.AxesSubplot object at 0x7fb528324160>],\n",
       "       [<matplotlib.axes._subplots.AxesSubplot object at 0x7fb5282862e8>,\n",
       "        <matplotlib.axes._subplots.AxesSubplot object at 0x7fb528286320>,\n",
       "        <matplotlib.axes._subplots.AxesSubplot object at 0x7fb5281df8d0>,\n",
       "        <matplotlib.axes._subplots.AxesSubplot object at 0x7fb52819ccf8>],\n",
       "       [<matplotlib.axes._subplots.AxesSubplot object at 0x7fb52812e240>,\n",
       "        <matplotlib.axes._subplots.AxesSubplot object at 0x7fb5280bb5c0>,\n",
       "        <matplotlib.axes._subplots.AxesSubplot object at 0x7fb520505080>,\n",
       "        <matplotlib.axes._subplots.AxesSubplot object at 0x7fb5204e1748>],\n",
       "       [<matplotlib.axes._subplots.AxesSubplot object at 0x7fb520449e80>,\n",
       "        <matplotlib.axes._subplots.AxesSubplot object at 0x7fb520433160>,\n",
       "        <matplotlib.axes._subplots.AxesSubplot object at 0x7fb5203a8dd8>,\n",
       "        <matplotlib.axes._subplots.AxesSubplot object at 0x7fb52030e748>]], dtype=object)"
      ]
     },
     "execution_count": 15,
     "metadata": {},
     "output_type": "execute_result"
    },
    {
     "data": {
      "image/png": "[encoded data removed]",
      "text/plain": [
       "<matplotlib.figure.Figure at 0x7fb54da359b0>"
      ]
     },
     "metadata": {},
     "output_type": "display_data"
    }
   ],
   "source": [
    "dataframe.hist()"
   ]
  },
  {
   "cell_type": "code",
   "execution_count": 16,
   "metadata": {
    "_cell_guid": "4ddf5bdb-74e3-4a0b-b6b3-752f803c4a5b",
    "_uuid": "a324658f3513a325fb0d3aac472e8ff7708fa4eb"
   },
   "outputs": [
    {
     "data": {
      "text/plain": [
       "array([[<matplotlib.axes._subplots.AxesSubplot object at 0x7fb506792630>,\n",
       "        <matplotlib.axes._subplots.AxesSubplot object at 0x7fb506722390>,\n",
       "        <matplotlib.axes._subplots.AxesSubplot object at 0x7fb506746c88>,\n",
       "        <matplotlib.axes._subplots.AxesSubplot object at 0x7fb5066c9f98>],\n",
       "       [<matplotlib.axes._subplots.AxesSubplot object at 0x7fb506661588>,\n",
       "        <matplotlib.axes._subplots.AxesSubplot object at 0x7fb5066daf98>,\n",
       "        <matplotlib.axes._subplots.AxesSubplot object at 0x7fb50657b780>,\n",
       "        <matplotlib.axes._subplots.AxesSubplot object at 0x7fb5064e5dd8>],\n",
       "       [<matplotlib.axes._subplots.AxesSubplot object at 0x7fb5064ce198>,\n",
       "        <matplotlib.axes._subplots.AxesSubplot object at 0x7fb506442e10>,\n",
       "        <matplotlib.axes._subplots.AxesSubplot object at 0x7fb5063a9780>,\n",
       "        <matplotlib.axes._subplots.AxesSubplot object at 0x7fb506365b70>],\n",
       "       [<matplotlib.axes._subplots.AxesSubplot object at 0x7fb50633d6d8>,\n",
       "        <matplotlib.axes._subplots.AxesSubplot object at 0x7fb5062f56d8>,\n",
       "        <matplotlib.axes._subplots.AxesSubplot object at 0x7fb50628e0f0>,\n",
       "        <matplotlib.axes._subplots.AxesSubplot object at 0x7fb506299d68>]], dtype=object)"
      ]
     },
     "execution_count": 16,
     "metadata": {},
     "output_type": "execute_result"
    },
    {
     "data": {
      "image/png": "[encoded data removed]",
      "text/plain": [
       "<matplotlib.figure.Figure at 0x7fb50678bc88>"
      ]
     },
     "metadata": {},
     "output_type": "display_data"
    }
   ],
   "source": [
    "dataframe.plot(kind='density', subplots=True, layout=(4,4), sharex=False, sharey=False)"
   ]
  },
  {
   "cell_type": "markdown",
   "metadata": {
    "_cell_guid": "d808a383-e109-42e5-84bf-b55a8f857724",
    "_uuid": "a200bbc8531b36599af421ee8def3740c15e173f"
   },
   "source": [
    "There are a mixture of positive skews and negative skews the other attributes"
   ]
  },
  {
   "cell_type": "code",
   "execution_count": 17,
   "metadata": {
    "_cell_guid": "6f539794-3108-44da-adf5-3f5a461d3ee6",
    "_uuid": "c0352917df1d9dd79a5739792c5ad15a49ac60ef"
   },
   "outputs": [
    {
     "name": "stderr",
     "output_type": "stream",
     "text": [
      "/opt/conda/lib/python3.6/site-packages/ipykernel_launcher.py:1: FutureWarning: 'pandas.tools.plotting.scatter_matrix' is deprecated, import 'pandas.plotting.scatter_matrix' instead.\n",
      "  \"\"\"Entry point for launching an IPython kernel.\n"
     ]
    },
    {
     "data": {
      "text/plain": [
       "array([[<matplotlib.axes._subplots.AxesSubplot object at 0x7fb5064ba978>,\n",
       "        <matplotlib.axes._subplots.AxesSubplot object at 0x7fb505fb92b0>,\n",
       "        <matplotlib.axes._subplots.AxesSubplot object at 0x7fb505fb1550>,\n",
       "        <matplotlib.axes._subplots.AxesSubplot object at 0x7fb505f3fa90>,\n",
       "        <matplotlib.axes._subplots.AxesSubplot object at 0x7fb505eabd30>,\n",
       "        <matplotlib.axes._subplots.AxesSubplot object at 0x7fb505eabd68>,\n",
       "        <matplotlib.axes._subplots.AxesSubplot object at 0x7fb504560710>,\n",
       "        <matplotlib.axes._subplots.AxesSubplot object at 0x7fb5044dd3c8>,\n",
       "        <matplotlib.axes._subplots.AxesSubplot object at 0x7fb5044bbcf8>,\n",
       "        <matplotlib.axes._subplots.AxesSubplot object at 0x7fb504480128>,\n",
       "        <matplotlib.axes._subplots.AxesSubplot object at 0x7fb50440b668>,\n",
       "        <matplotlib.axes._subplots.AxesSubplot object at 0x7fb50439bb70>,\n",
       "        <matplotlib.axes._subplots.AxesSubplot object at 0x7fb5043584a8>,\n",
       "        <matplotlib.axes._subplots.AxesSubplot object at 0x7fb505dbf668>,\n",
       "        <matplotlib.axes._subplots.AxesSubplot object at 0x7fb50426b5c0>],\n",
       "       [<matplotlib.axes._subplots.AxesSubplot object at 0x7fb504243d30>,\n",
       "        <matplotlib.axes._subplots.AxesSubplot object at 0x7fb5041b53c8>,\n",
       "        <matplotlib.axes._subplots.AxesSubplot object at 0x7fb504197748>,\n",
       "        <matplotlib.axes._subplots.AxesSubplot object at 0x7fb504113400>,\n",
       "        <matplotlib.axes._subplots.AxesSubplot object at 0x7fb504072d30>,\n",
       "        <matplotlib.axes._subplots.AxesSubplot object at 0x7fb504035160>,\n",
       "        <matplotlib.axes._subplots.AxesSubplot object at 0x7fb4fbfa46a0>,\n",
       "        <matplotlib.axes._subplots.AxesSubplot object at 0x7fb4fbfb7ba8>,\n",
       "        <matplotlib.axes._subplots.AxesSubplot object at 0x7fb4fbef24e0>,\n",
       "        <matplotlib.axes._subplots.AxesSubplot object at 0x7fb4fbe44ba8>,\n",
       "        <matplotlib.axes._subplots.AxesSubplot object at 0x7fb4fbdc2320>,\n",
       "        <matplotlib.axes._subplots.AxesSubplot object at 0x7fb4fbda35c0>,\n",
       "        <matplotlib.axes._subplots.AxesSubplot object at 0x7fb4fbd1e278>,\n",
       "        <matplotlib.axes._subplots.AxesSubplot object at 0x7fb4fbcfbba8>,\n",
       "        <matplotlib.axes._subplots.AxesSubplot object at 0x7fb4fbcb9f98>],\n",
       "       [<matplotlib.axes._subplots.AxesSubplot object at 0x7fb4fbbcb518>,\n",
       "        <matplotlib.axes._subplots.AxesSubplot object at 0x7fb4fbbdb550>,\n",
       "        <matplotlib.axes._subplots.AxesSubplot object at 0x7fb4fbb19358>,\n",
       "        <matplotlib.axes._subplots.AxesSubplot object at 0x7fb4fbaf3a20>,\n",
       "        <matplotlib.axes._subplots.AxesSubplot object at 0x7fb4fba680b8>,\n",
       "        <matplotlib.axes._subplots.AxesSubplot object at 0x7fb4fb9c6438>,\n",
       "        <matplotlib.axes._subplots.AxesSubplot object at 0x7fb4fb943208>,\n",
       "        <matplotlib.axes._subplots.AxesSubplot object at 0x7fb4fb921a20>,\n",
       "        <matplotlib.axes._subplots.AxesSubplot object at 0x7fb4fb8dee10>,\n",
       "        <matplotlib.axes._subplots.AxesSubplot object at 0x7fb4fb86e390>,\n",
       "        <matplotlib.axes._subplots.AxesSubplot object at 0x7fb4fb800320>,\n",
       "        <matplotlib.axes._subplots.AxesSubplot object at 0x7fb4fb7bf0f0>,\n",
       "        <matplotlib.axes._subplots.AxesSubplot object at 0x7fb4fbd3c4e0>,\n",
       "        <matplotlib.axes._subplots.AxesSubplot object at 0x7fb4fb6e6be0>,\n",
       "        <matplotlib.axes._subplots.AxesSubplot object at 0x7fb4fb648390>],\n",
       "       [<matplotlib.axes._subplots.AxesSubplot object at 0x7fb4fb6338d0>,\n",
       "        <matplotlib.axes._subplots.AxesSubplot object at 0x7fb4fb592d68>,\n",
       "        <matplotlib.axes._subplots.AxesSubplot object at 0x7fb4fb50fb38>,\n",
       "        <matplotlib.axes._subplots.AxesSubplot object at 0x7fb4fb4f7390>,\n",
       "        <matplotlib.axes._subplots.AxesSubplot object at 0x7fb4fb4b4780>,\n",
       "        <matplotlib.axes._subplots.AxesSubplot object at 0x7fb4fb43cba8>,\n",
       "        <matplotlib.axes._subplots.AxesSubplot object at 0x7fb4fb3d0f98>,\n",
       "        <matplotlib.axes._subplots.AxesSubplot object at 0x7fb4fb30b908>,\n",
       "        <matplotlib.axes._subplots.AxesSubplot object at 0x7fb4fb2ee208>,\n",
       "        <matplotlib.axes._subplots.AxesSubplot object at 0x7fb4fb258898>,\n",
       "        <matplotlib.axes._subplots.AxesSubplot object at 0x7fb4fb239be0>,\n",
       "        <matplotlib.axes._subplots.AxesSubplot object at 0x7fb4fb1b5898>,\n",
       "        <matplotlib.axes._subplots.AxesSubplot object at 0x7fb4fb11d128>,\n",
       "        <matplotlib.axes._subplots.AxesSubplot object at 0x7fb4fb0d7400>,\n",
       "        <matplotlib.axes._subplots.AxesSubplot object at 0x7fb4fb0639b0>],\n",
       "       [<matplotlib.axes._subplots.AxesSubplot object at 0x7fb4fb0ca8d0>,\n",
       "        <matplotlib.axes._subplots.AxesSubplot object at 0x7fb4fafb07f0>,\n",
       "        <matplotlib.axes._subplots.AxesSubplot object at 0x7fb4faf0af60>,\n",
       "        <matplotlib.axes._subplots.AxesSubplot object at 0x7fb4faefd630>,\n",
       "        <matplotlib.axes._subplots.AxesSubplot object at 0x7fb4fae5d978>,\n",
       "        <matplotlib.axes._subplots.AxesSubplot object at 0x7fb4fadda550>,\n",
       "        <matplotlib.axes._subplots.AxesSubplot object at 0x7fb4fadb6e80>,\n",
       "        <matplotlib.axes._subplots.AxesSubplot object at 0x7fb4fad7b198>,\n",
       "        <matplotlib.axes._subplots.AxesSubplot object at 0x7fb4fac88748>,\n",
       "        <matplotlib.axes._subplots.AxesSubplot object at 0x7fb4facc05c0>,\n",
       "        <matplotlib.axes._subplots.AxesSubplot object at 0x7fb4fabd4588>,\n",
       "        <matplotlib.axes._subplots.AxesSubplot object at 0x7fb4fabafcf8>,\n",
       "        <matplotlib.axes._subplots.AxesSubplot object at 0x7fb4fab243c8>,\n",
       "        <matplotlib.axes._subplots.AxesSubplot object at 0x7fb4faa84710>,\n",
       "        <matplotlib.axes._subplots.AxesSubplot object at 0x7fb4faa7e1d0>],\n",
       "       [<matplotlib.axes._subplots.AxesSubplot object at 0x7fb4fa9deb38>,\n",
       "        <matplotlib.axes._subplots.AxesSubplot object at 0x7fb4fa99ce10>,\n",
       "        <matplotlib.axes._subplots.AxesSubplot object at 0x7fb4fa92d400>,\n",
       "        <matplotlib.axes._subplots.AxesSubplot object at 0x7fb4fa9decf8>,\n",
       "        <matplotlib.axes._subplots.AxesSubplot object at 0x7fb4fa85b320>,\n",
       "        <matplotlib.axes._subplots.AxesSubplot object at 0x7fb4fae90940>,\n",
       "        <matplotlib.axes._subplots.AxesSubplot object at 0x7fb4fa799a20>,\n",
       "        <matplotlib.axes._subplots.AxesSubplot object at 0x7fb4fa779d68>,\n",
       "        <matplotlib.axes._subplots.AxesSubplot object at 0x7fb4fa6f7668>,\n",
       "        <matplotlib.axes._subplots.AxesSubplot object at 0x7fb4fa65f1d0>,\n",
       "        <matplotlib.axes._subplots.AxesSubplot object at 0x7fb4fa6194a8>,\n",
       "        <matplotlib.axes._subplots.AxesSubplot object at 0x7fb4fa5a5a58>,\n",
       "        <matplotlib.axes._subplots.AxesSubplot object at 0x7fb4fa60ce80>,\n",
       "        <matplotlib.axes._subplots.AxesSubplot object at 0x7fb4fa4f1780>,\n",
       "        <matplotlib.axes._subplots.AxesSubplot object at 0x7fb4fa456048>],\n",
       "       [<matplotlib.axes._subplots.AxesSubplot object at 0x7fb4fa3c05c0>,\n",
       "        <matplotlib.axes._subplots.AxesSubplot object at 0x7fb4fa3a0a20>,\n",
       "        <matplotlib.axes._subplots.AxesSubplot object at 0x7fb4fa31c400>,\n",
       "        <matplotlib.axes._subplots.AxesSubplot object at 0x7fb4fa2fbe48>,\n",
       "        <matplotlib.axes._subplots.AxesSubplot object at 0x7fb4fa2bd198>,\n",
       "        <matplotlib.axes._subplots.AxesSubplot object at 0x7fb4fa1cb5f8>,\n",
       "        <matplotlib.axes._subplots.AxesSubplot object at 0x7fb4fa1dd4e0>,\n",
       "        <matplotlib.axes._subplots.AxesSubplot object at 0x7fb4fa117438>,\n",
       "        <matplotlib.axes._subplots.AxesSubplot object at 0x7fb4fa0f2cc0>,\n",
       "        <matplotlib.axes._subplots.AxesSubplot object at 0x7fb4fa064278>,\n",
       "        <matplotlib.axes._subplots.AxesSubplot object at 0x7fb4f9fc56d8>,\n",
       "        <matplotlib.axes._subplots.AxesSubplot object at 0x7fb4f9f430b8>,\n",
       "        <matplotlib.axes._subplots.AxesSubplot object at 0x7fb4f9f1fb00>,\n",
       "        <matplotlib.axes._subplots.AxesSubplot object at 0x7fb4f9ee33c8>,\n",
       "        <matplotlib.axes._subplots.AxesSubplot object at 0x7fb4f9e6c3c8>],\n",
       "       [<matplotlib.axes._subplots.AxesSubplot object at 0x7fb4f9e01898>,\n",
       "        <matplotlib.axes._subplots.AxesSubplot object at 0x7fb4f9dbb208>,\n",
       "        <matplotlib.axes._subplots.AxesSubplot object at 0x7fb4f9d16978>,\n",
       "        <matplotlib.axes._subplots.AxesSubplot object at 0x7fb4f9c8b048>,\n",
       "        <matplotlib.axes._subplots.AxesSubplot object at 0x7fb4f9c6b390>,\n",
       "        <matplotlib.axes._subplots.AxesSubplot object at 0x7fb4f9bdee10>,\n",
       "        <matplotlib.axes._subplots.AxesSubplot object at 0x7fb4f9b447b8>,\n",
       "        <matplotlib.axes._subplots.AxesSubplot object at 0x7fb4f9b08320>,\n",
       "        <matplotlib.axes._subplots.AxesSubplot object at 0x7fb4f9a92080>,\n",
       "        <matplotlib.axes._subplots.AxesSubplot object at 0x7fb4f9aa7be0>,\n",
       "        <matplotlib.axes._subplots.AxesSubplot object at 0x7fb4f99dad68>,\n",
       "        <matplotlib.axes._subplots.AxesSubplot object at 0x7fb4f99bc630>,\n",
       "        <matplotlib.axes._subplots.AxesSubplot object at 0x7fb4f9926ba8>,\n",
       "        <matplotlib.axes._subplots.AxesSubplot object at 0x7fb4f988f048>,\n",
       "        <matplotlib.axes._subplots.AxesSubplot object at 0x7fb4f98019e8>],\n",
       "       [<matplotlib.axes._subplots.AxesSubplot object at 0x7fb4f97ea470>,\n",
       "        <matplotlib.axes._subplots.AxesSubplot object at 0x7fb4f97ad278>,\n",
       "        <matplotlib.axes._subplots.AxesSubplot object at 0x7fb4f9733cf8>,\n",
       "        <matplotlib.axes._subplots.AxesSubplot object at 0x7fb4f97ea630>,\n",
       "        <matplotlib.axes._subplots.AxesSubplot object at 0x7fb4f965a9e8>,\n",
       "        <matplotlib.axes._subplots.AxesSubplot object at 0x7fb4f9f54240>,\n",
       "        <matplotlib.axes._subplots.AxesSubplot object at 0x7fb4f959e240>,\n",
       "        <matplotlib.axes._subplots.AxesSubplot object at 0x7fb4f957c588>,\n",
       "        <matplotlib.axes._subplots.AxesSubplot object at 0x7fb4f94fd048>,\n",
       "        <matplotlib.axes._subplots.AxesSubplot object at 0x7fb4f94599b0>,\n",
       "        <matplotlib.axes._subplots.AxesSubplot object at 0x7fb4f941c6a0>,\n",
       "        <matplotlib.axes._subplots.AxesSubplot object at 0x7fb4f93aa160>,\n",
       "        <matplotlib.axes._subplots.AxesSubplot object at 0x7fb4f93bdfd0>,\n",
       "        <matplotlib.axes._subplots.AxesSubplot object at 0x7fb4f92ebf60>,\n",
       "        <matplotlib.axes._subplots.AxesSubplot object at 0x7fb4f9251828>],\n",
       "       [<matplotlib.axes._subplots.AxesSubplot object at 0x7fb4f923ada0>,\n",
       "        <matplotlib.axes._subplots.AxesSubplot object at 0x7fb4f91a3240>,\n",
       "        <matplotlib.axes._subplots.AxesSubplot object at 0x7fb4f9118be0>,\n",
       "        <matplotlib.axes._subplots.AxesSubplot object at 0x7fb4f9080668>,\n",
       "        <matplotlib.axes._subplots.AxesSubplot object at 0x7fb4f9043358>,\n",
       "        <matplotlib.axes._subplots.AxesSubplot object at 0x7fb4f8fc5dd8>,\n",
       "        <matplotlib.axes._subplots.AxesSubplot object at 0x7fb4f8fe10f0>,\n",
       "        <matplotlib.axes._subplots.AxesSubplot object at 0x7fb4f8f13c18>,\n",
       "        <matplotlib.axes._subplots.AxesSubplot object at 0x7fb4f8ef64e0>,\n",
       "        <matplotlib.axes._subplots.AxesSubplot object at 0x7fb4f8e61a58>,\n",
       "        <matplotlib.axes._subplots.AxesSubplot object at 0x7fb4f8dc2eb8>,\n",
       "        <matplotlib.axes._subplots.AxesSubplot object at 0x7fb4f8dbc898>,\n",
       "        <matplotlib.axes._subplots.AxesSubplot object at 0x7fb4f8d24320>,\n",
       "        <matplotlib.axes._subplots.AxesSubplot object at 0x7fb4f8ce7080>,\n",
       "        <matplotlib.axes._subplots.AxesSubplot object at 0x7fb4f8c6ca90>],\n",
       "       [<matplotlib.axes._subplots.AxesSubplot object at 0x7fb4f8c7f5f8>,\n",
       "        <matplotlib.axes._subplots.AxesSubplot object at 0x7fb4f8bb98d0>,\n",
       "        <matplotlib.axes._subplots.AxesSubplot object at 0x7fb4f8b1c198>,\n",
       "        <matplotlib.axes._subplots.AxesSubplot object at 0x7fb4f8a85710>,\n",
       "        <matplotlib.axes._subplots.AxesSubplot object at 0x7fb4f8a67b70>,\n",
       "        <matplotlib.axes._subplots.AxesSubplot object at 0x7fb4f89e0550>,\n",
       "        <matplotlib.axes._subplots.AxesSubplot object at 0x7fb4f8942f98>,\n",
       "        <matplotlib.axes._subplots.AxesSubplot object at 0x7fb4f8907c88>,\n",
       "        <matplotlib.axes._subplots.AxesSubplot object at 0x7fb4f8890748>,\n",
       "        <matplotlib.axes._subplots.AxesSubplot object at 0x7fb4f88a4240>,\n",
       "        <matplotlib.axes._subplots.AxesSubplot object at 0x7fb4f87de588>,\n",
       "        <matplotlib.axes._subplots.AxesSubplot object at 0x7fb4f87bae10>,\n",
       "        <matplotlib.axes._subplots.AxesSubplot object at 0x7fb4f872c3c8>,\n",
       "        <matplotlib.axes._subplots.AxesSubplot object at 0x7fb4f868c828>,\n",
       "        <matplotlib.axes._subplots.AxesSubplot object at 0x7fb4f8607208>],\n",
       "       [<matplotlib.axes._subplots.AxesSubplot object at 0x7fb4f85e8c50>,\n",
       "        <matplotlib.axes._subplots.AxesSubplot object at 0x7fb4f85ac940>,\n",
       "        <matplotlib.axes._subplots.AxesSubplot object at 0x7fb4f8534400>,\n",
       "        <matplotlib.axes._subplots.AxesSubplot object at 0x7fb4f84cae10>,\n",
       "        <matplotlib.axes._subplots.AxesSubplot object at 0x7fb4f8404240>,\n",
       "        <matplotlib.axes._subplots.AxesSubplot object at 0x7fb4f83deac8>,\n",
       "        <matplotlib.axes._subplots.AxesSubplot object at 0x7fb4f8352080>,\n",
       "        <matplotlib.axes._subplots.AxesSubplot object at 0x7fb4f83324e0>,\n",
       "        <matplotlib.axes._subplots.AxesSubplot object at 0x7fb4f82a5e80>,\n",
       "        <matplotlib.axes._subplots.AxesSubplot object at 0x7fb4f820f908>,\n",
       "        <matplotlib.axes._subplots.AxesSubplot object at 0x7fb4f81d35f8>,\n",
       "        <matplotlib.axes._subplots.AxesSubplot object at 0x7fb4f815b0b8>,\n",
       "        <matplotlib.axes._subplots.AxesSubplot object at 0x7fb4f8170b00>,\n",
       "        <matplotlib.axes._subplots.AxesSubplot object at 0x7fb4f80a1eb8>,\n",
       "        <matplotlib.axes._subplots.AxesSubplot object at 0x7fb4f862b208>],\n",
       "       [<matplotlib.axes._subplots.AxesSubplot object at 0x7fb4f3fc4470>,\n",
       "        <matplotlib.axes._subplots.AxesSubplot object at 0x7fb4f3f9b588>,\n",
       "        <matplotlib.axes._subplots.AxesSubplot object at 0x7fb4f3f09a20>,\n",
       "        <matplotlib.axes._subplots.AxesSubplot object at 0x7fb4f3eef278>,\n",
       "        <matplotlib.axes._subplots.AxesSubplot object at 0x7fb4f3e5c8d0>,\n",
       "        <matplotlib.axes._subplots.AxesSubplot object at 0x7fb4f3dcb860>,\n",
       "        <matplotlib.axes._subplots.AxesSubplot object at 0x7fb4f3d90278>,\n",
       "        <matplotlib.axes._subplots.AxesSubplot object at 0x7fb4f3d18128>,\n",
       "        <matplotlib.axes._subplots.AxesSubplot object at 0x7fb4f3d2d630>,\n",
       "        <matplotlib.axes._subplots.AxesSubplot object at 0x7fb4f3c60f28>,\n",
       "        <matplotlib.axes._subplots.AxesSubplot object at 0x7fb4f3bc16d8>,\n",
       "        <matplotlib.axes._subplots.AxesSubplot object at 0x7fb4f3bacd68>,\n",
       "        <matplotlib.axes._subplots.AxesSubplot object at 0x7fb4f3b150f0>,\n",
       "        <matplotlib.axes._subplots.AxesSubplot object at 0x7fb4f3a89b70>,\n",
       "        <matplotlib.axes._subplots.AxesSubplot object at 0x7fb4f3a70518>],\n",
       "       [<matplotlib.axes._subplots.AxesSubplot object at 0x7fb4f3a34208>,\n",
       "        <matplotlib.axes._subplots.AxesSubplot object at 0x7fb4f39b7c88>,\n",
       "        <matplotlib.axes._subplots.AxesSubplot object at 0x7fb4f394d550>,\n",
       "        <matplotlib.axes._subplots.AxesSubplot object at 0x7fb4f3885ac8>,\n",
       "        <matplotlib.axes._subplots.AxesSubplot object at 0x7fb4f3868390>,\n",
       "        <matplotlib.axes._subplots.AxesSubplot object at 0x7fb4f37d1908>,\n",
       "        <matplotlib.axes._subplots.AxesSubplot object at 0x7fb4f37b5d68>,\n",
       "        <matplotlib.axes._subplots.AxesSubplot object at 0x7fb4f372f748>,\n",
       "        <matplotlib.axes._subplots.AxesSubplot object at 0x7fb4f36981d0>,\n",
       "        <matplotlib.axes._subplots.AxesSubplot object at 0x7fb4f3655e80>,\n",
       "        <matplotlib.axes._subplots.AxesSubplot object at 0x7fb4f35de940>,\n",
       "        <matplotlib.axes._subplots.AxesSubplot object at 0x7fb4f35f3b38>,\n",
       "        <matplotlib.axes._subplots.AxesSubplot object at 0x7fb4f352a780>,\n",
       "        <matplotlib.axes._subplots.AxesSubplot object at 0x7fb4f348d048>,\n",
       "        <matplotlib.axes._subplots.AxesSubplot object at 0x7fb4f34785c0>],\n",
       "       [<matplotlib.axes._subplots.AxesSubplot object at 0x7fb4f33daa20>,\n",
       "        <matplotlib.axes._subplots.AxesSubplot object at 0x7fb4f3355400>,\n",
       "        <matplotlib.axes._subplots.AxesSubplot object at 0x7fb4f3334e48>,\n",
       "        <matplotlib.axes._subplots.AxesSubplot object at 0x7fb4f32f7b38>,\n",
       "        <matplotlib.axes._subplots.AxesSubplot object at 0x7fb4f32025f8>,\n",
       "        <matplotlib.axes._subplots.AxesSubplot object at 0x7fb4f3217390>,\n",
       "        <matplotlib.axes._subplots.AxesSubplot object at 0x7fb4f3150438>,\n",
       "        <matplotlib.axes._subplots.AxesSubplot object at 0x7fb4f312acc0>,\n",
       "        <matplotlib.axes._subplots.AxesSubplot object at 0x7fb4f309e278>,\n",
       "        <matplotlib.axes._subplots.AxesSubplot object at 0x7fb4f307f6d8>,\n",
       "        <matplotlib.axes._subplots.AxesSubplot object at 0x7fb4f2ff90b8>,\n",
       "        <matplotlib.axes._subplots.AxesSubplot object at 0x7fb4f2f59b00>,\n",
       "        <matplotlib.axes._subplots.AxesSubplot object at 0x7fb4f2f1d7f0>,\n",
       "        <matplotlib.axes._subplots.AxesSubplot object at 0x7fb4f2ea72b0>,\n",
       "        <matplotlib.axes._subplots.AxesSubplot object at 0x7fb4f2eb9080>]], dtype=object)"
      ]
     },
     "execution_count": 17,
     "metadata": {},
     "output_type": "execute_result"
    },
    {
     "data": {
      "image/png": "[encoded data removed]",
      "text/plain": [
       "<matplotlib.figure.Figure at 0x7fb505f5eba8>"
      ]
     },
     "metadata": {},
     "output_type": "display_data"
    }
   ],
   "source": [
    "scatter_matrix(dataframe)"
   ]
  },
  {
   "cell_type": "code",
   "execution_count": 18,
   "metadata": {
    "_cell_guid": "dca8e347-c04c-4440-ac75-35d6b8dc8def",
    "_uuid": "033bd0e40ed68085ab92426657340d8f666eaeab"
   },
   "outputs": [
    {
     "data": {
      "text/plain": [
       "[<matplotlib.text.Text at 0x7fb4f2058be0>,\n",
       " <matplotlib.text.Text at 0x7fb4f2061550>,\n",
       " <matplotlib.text.Text at 0x7fb4f1f77c18>,\n",
       " <matplotlib.text.Text at 0x7fb4f218a780>,\n",
       " <matplotlib.text.Text at 0x7fb4f215f240>,\n",
       " <matplotlib.text.Text at 0x7fb4f215f4e0>,\n",
       " <matplotlib.text.Text at 0x7fb4f1f26b70>,\n",
       " <matplotlib.text.Text at 0x7fb4f2166dd8>,\n",
       " <matplotlib.text.Text at 0x7fb4f1f37588>,\n",
       " <matplotlib.text.Text at 0x7fb4f216cba8>,\n",
       " <matplotlib.text.Text at 0x7fb4f1ec0c18>,\n",
       " <matplotlib.text.Text at 0x7fb4f2173e80>,\n",
       " <matplotlib.text.Text at 0x7fb4f217f0b8>,\n",
       " <matplotlib.text.Text at 0x7fb4f2819f60>,\n",
       " <matplotlib.text.Text at 0x7fb4f217ae10>]"
      ]
     },
     "execution_count": 18,
     "metadata": {},
     "output_type": "execute_result"
    },
    {
     "data": {
      "image/png": "[encoded data removed]",
      "text/plain": [
       "<matplotlib.figure.Figure at 0x7fb4f208c780>"
      ]
     },
     "metadata": {},
     "output_type": "display_data"
    }
   ],
   "source": [
    "fig = plt.figure()\n",
    "ax = fig.add_subplot(111)\n",
    "cax = ax.matshow(dataframe.corr(), vmin=-1, vmax=1)\n",
    "fig.colorbar(cax)\n",
    "ticks = numpy.arange(0,15,1)\n",
    "ax.set_xticks(ticks)\n",
    "ax.set_yticks(ticks)\n",
    "ax.set_xticklabels(dataframe.columns)\n",
    "ax.set_yticklabels(dataframe.columns)"
   ]
  },
  {
   "cell_type": "markdown",
   "metadata": {
    "_cell_guid": "87fe5b77-5127-4306-914f-88d28e4e5d78",
    "_uuid": "8565a98c251af3e0c037a74933139d618691d47e"
   },
   "source": [
    "'marital_status' has the highest positive corelation as expected"
   ]
  },
  {
   "cell_type": "markdown",
   "metadata": {
    "_cell_guid": "f1ce4fbd-c879-43b2-ac42-95ebea43aeb3",
    "_uuid": "b7b70270645f229756a5329f5386aa1b26d444ab"
   },
   "source": [
    "\n",
    "\n",
    "\n",
    "\n",
    "\n",
    "\n",
    "**MACHINE LEARNING ESTIMATORS/MODELS**"
   ]
  },
  {
   "cell_type": "code",
   "execution_count": 19,
   "metadata": {
    "_cell_guid": "f2cc9fda-5db7-418d-b7ba-80a4d065b603",
    "_uuid": "479913229cfa2cfac34d3dbe6f5982edc34e2f75"
   },
   "outputs": [
    {
     "name": "stdout",
     "output_type": "stream",
     "text": [
      "X_Train:  (21113, 14)\n",
      "X_Test:  (9049, 14)\n",
      "Y_Train:  (21113,)\n",
      "Y_Test:  (9049,)\n"
     ]
    }
   ],
   "source": [
    "# Split Data to Train and Test\n",
    "X_Train, X_Test, Y_Train, Y_Test = train_test_split(X, Y, test_size=0.3)\n",
    "print(\"X_Train: \", X_Train.shape)\n",
    "print(\"X_Test: \", X_Test.shape)\n",
    "print(\"Y_Train: \", Y_Train.shape)\n",
    "print(\"Y_Test: \", Y_Test.shape)"
   ]
  },
  {
   "cell_type": "code",
   "execution_count": 20,
   "metadata": {
    "_cell_guid": "35fd3c27-a714-400b-b49f-a3ada8b4681a",
    "_uuid": "a8e51608194ccc1a8a24c90a07720975ba411624"
   },
   "outputs": [
    {
     "name": "stdout",
     "output_type": "stream",
     "text": [
      "LR: 0.793900 (0.206100)\n",
      "LDA: 0.825616 (0.174384)\n",
      "KNN: 0.771687 (0.228313)\n",
      "CART: 0.808929 (0.191071)\n",
      "NB: 0.793237 (0.206763)\n",
      "SVM: 0.755222 (0.244778)\n",
      "L_SVM: 0.244778 (0.755222)\n",
      "SGDC: 0.791027 (0.208973)\n"
     ]
    },
    {
     "name": "stderr",
     "output_type": "stream",
     "text": [
      "/opt/conda/lib/python3.6/site-packages/sklearn/linear_model/stochastic_gradient.py:128: FutureWarning: max_iter and tol parameters have been added in <class 'sklearn.linear_model.stochastic_gradient.SGDClassifier'> in 0.19. If both are left unset, they default to max_iter=5 and tol=None. If tol is not None, max_iter defaults to max_iter=1000. From 0.21, default max_iter will be 1000, and default tol will be 1e-3.\n",
      "  \"and default tol will be 1e-3.\" % type(self), FutureWarning)\n"
     ]
    }
   ],
   "source": [
    "\n",
    "\n",
    "num_instances = len(X)\n",
    "\n",
    "models = []\n",
    "models.append(('LR', LogisticRegression()))\n",
    "models.append(('LDA', LinearDiscriminantAnalysis()))\n",
    "models.append(('KNN', KNeighborsClassifier()))\n",
    "models.append(('CART', DecisionTreeClassifier()))\n",
    "models.append(('NB', GaussianNB()))\n",
    "models.append(('SVM', SVC()))\n",
    "models.append(('L_SVM', LinearSVC()))\n",
    "models.append(('SGDC', SGDClassifier()))\n",
    "\n",
    "# Evaluations\n",
    "results = []\n",
    "names = []\n",
    "\n",
    "for name, model in models:\n",
    "    # Fit the model\n",
    "    model.fit(X_Train, Y_Train)\n",
    "    \n",
    "    predictions = model.predict(X_Test)\n",
    "    \n",
    "    # Evaluate the model\n",
    "    score = accuracy_score(Y_Test, predictions)\n",
    "    mse = mean_squared_error(predictions, Y_Test)\n",
    "    # print(\"%s: %.2f%%\" % (model.metrics_names[1], scores[1]*100))\n",
    "    results.append(mse)\n",
    "    names.append(name)\n",
    "    \n",
    "    msg = \"%s: %f (%f)\" % (name, score, mse)\n",
    "    print(msg)\n",
    "    "
   ]
  },
  {
   "cell_type": "markdown",
   "metadata": {
    "_cell_guid": "8dabb27e-1f90-454d-a0f9-bc4deb884a0c",
    "_uuid": "3158587bf6939bc9882f5c8a5e8c1c067bccf0cc"
   },
   "source": [
    "'Linear Discriminant Analysis' is the best estimators/models for this dataset, followed by 'LogisticRegression' and 'K Nearest Neighbour', they can be further explored and their hyperparameters tuned"
   ]
  },
  {
   "cell_type": "markdown",
   "metadata": {
    "_cell_guid": "c9ae367d-50e4-4005-8b79-83480b938ec2",
    "_uuid": "6a66ba38426c61fcaa5931b3df03363c5c493696"
   },
   "source": [
    "**DEEP LEARNING: MULTILAYER PERCEPTRON(ARTIFICIAL NEURAL NETWORK)**"
   ]
  },
  {
   "cell_type": "code",
   "execution_count": 21,
   "metadata": {
    "_cell_guid": "7ac5180d-d731-45e7-82c5-ed62f2e8a20f",
    "_uuid": "1204df79f94dad7f2ffe22759f50b1ab0297029e"
   },
   "outputs": [
    {
     "name": "stdout",
     "output_type": "stream",
     "text": [
      "Epoch 1/300\n",
      "21113/21113 [==============================] - 4s - loss: 0.5646 - acc: 0.7679     \n",
      "Epoch 2/300\n",
      "21113/21113 [==============================] - 3s - loss: 0.5216 - acc: 0.7817     \n",
      "Epoch 3/300\n",
      "21113/21113 [==============================] - 3s - loss: 0.5138 - acc: 0.7846     \n",
      "Epoch 4/300\n",
      "21113/21113 [==============================] - 3s - loss: 0.5119 - acc: 0.7848     \n",
      "Epoch 5/300\n",
      "21113/21113 [==============================] - 3s - loss: 0.5085 - acc: 0.7868     \n",
      "Epoch 6/300\n",
      "21113/21113 [==============================] - 3s - loss: 0.5097 - acc: 0.7853     \n",
      "Epoch 7/300\n",
      "21113/21113 [==============================] - 3s - loss: 0.5088 - acc: 0.7868     \n",
      "Epoch 8/300\n",
      "21113/21113 [==============================] - 3s - loss: 0.5071 - acc: 0.7870     \n",
      "Epoch 9/300\n",
      "21113/21113 [==============================] - 3s - loss: 0.5101 - acc: 0.7873     \n",
      "Epoch 10/300\n",
      "21113/21113 [==============================] - 3s - loss: 0.5094 - acc: 0.7873     \n",
      "Epoch 11/300\n",
      "21113/21113 [==============================] - 3s - loss: 0.5078 - acc: 0.7870     \n",
      "Epoch 12/300\n",
      "21113/21113 [==============================] - 3s - loss: 0.5071 - acc: 0.7888     \n",
      "Epoch 13/300\n",
      "21113/21113 [==============================] - 3s - loss: 0.5090 - acc: 0.7881     \n",
      "Epoch 14/300\n",
      "21113/21113 [==============================] - 3s - loss: 0.5071 - acc: 0.7884     \n",
      "Epoch 15/300\n",
      "21113/21113 [==============================] - 3s - loss: 0.5073 - acc: 0.7876     \n",
      "Epoch 16/300\n",
      "21113/21113 [==============================] - 3s - loss: 0.5066 - acc: 0.7887     \n",
      "Epoch 17/300\n",
      "21113/21113 [==============================] - 3s - loss: 0.5045 - acc: 0.7893     \n",
      "Epoch 18/300\n",
      "21113/21113 [==============================] - 3s - loss: 0.5072 - acc: 0.7887     \n",
      "Epoch 19/300\n",
      "21113/21113 [==============================] - 3s - loss: 0.5059 - acc: 0.7910     \n",
      "Epoch 20/300\n",
      "21113/21113 [==============================] - 3s - loss: 0.5078 - acc: 0.7880     \n",
      "Epoch 21/300\n",
      "21113/21113 [==============================] - 3s - loss: 0.5065 - acc: 0.7906     \n",
      "Epoch 22/300\n",
      "21113/21113 [==============================] - 3s - loss: 0.5073 - acc: 0.7890     \n",
      "Epoch 23/300\n",
      "21113/21113 [==============================] - 3s - loss: 0.5063 - acc: 0.7908     \n",
      "Epoch 24/300\n",
      "21113/21113 [==============================] - 3s - loss: 0.5064 - acc: 0.7892     \n",
      "Epoch 25/300\n",
      "21113/21113 [==============================] - 3s - loss: 0.5086 - acc: 0.7877     \n",
      "Epoch 26/300\n",
      "21113/21113 [==============================] - 3s - loss: 0.5070 - acc: 0.7896     \n",
      "Epoch 27/300\n",
      "21113/21113 [==============================] - 3s - loss: 0.5095 - acc: 0.7878     \n",
      "Epoch 28/300\n",
      "21113/21113 [==============================] - 3s - loss: 0.5061 - acc: 0.7887     \n",
      "Epoch 29/300\n",
      "21113/21113 [==============================] - 3s - loss: 0.5068 - acc: 0.7889     \n",
      "Epoch 30/300\n",
      "21113/21113 [==============================] - 3s - loss: 0.5056 - acc: 0.7897     \n",
      "Epoch 31/300\n",
      "21113/21113 [==============================] - 3s - loss: 0.5048 - acc: 0.7897     \n",
      "Epoch 32/300\n",
      "21113/21113 [==============================] - 3s - loss: 0.5050 - acc: 0.7882     \n",
      "Epoch 33/300\n",
      "21113/21113 [==============================] - 3s - loss: 0.5052 - acc: 0.7897     \n",
      "Epoch 34/300\n",
      "21113/21113 [==============================] - 3s - loss: 0.5079 - acc: 0.7872     \n",
      "Epoch 35/300\n",
      "21113/21113 [==============================] - 3s - loss: 0.5071 - acc: 0.7894     \n",
      "Epoch 36/300\n",
      "21113/21113 [==============================] - 3s - loss: 0.5036 - acc: 0.7896     \n",
      "Epoch 37/300\n",
      "21113/21113 [==============================] - 3s - loss: 0.5057 - acc: 0.7883     \n",
      "Epoch 38/300\n",
      "21113/21113 [==============================] - 3s - loss: 0.5050 - acc: 0.7880     \n",
      "Epoch 39/300\n",
      "21113/21113 [==============================] - 3s - loss: 0.5045 - acc: 0.7907     \n",
      "Epoch 40/300\n",
      "21113/21113 [==============================] - 3s - loss: 0.5057 - acc: 0.7894     \n",
      "Epoch 41/300\n",
      "21113/21113 [==============================] - 3s - loss: 0.5099 - acc: 0.7861     \n",
      "Epoch 42/300\n",
      "21113/21113 [==============================] - 3s - loss: 0.5048 - acc: 0.7898     \n",
      "Epoch 43/300\n",
      "21113/21113 [==============================] - 3s - loss: 0.5064 - acc: 0.7888     \n",
      "Epoch 44/300\n",
      "21113/21113 [==============================] - 3s - loss: 0.5056 - acc: 0.7889     \n",
      "Epoch 45/300\n",
      "21113/21113 [==============================] - 3s - loss: 0.5050 - acc: 0.7909     \n",
      "Epoch 46/300\n",
      "21113/21113 [==============================] - 3s - loss: 0.5046 - acc: 0.7907     \n",
      "Epoch 47/300\n",
      "21113/21113 [==============================] - 3s - loss: 0.5043 - acc: 0.7909     \n",
      "Epoch 48/300\n",
      "21113/21113 [==============================] - 3s - loss: 0.5053 - acc: 0.7907     \n",
      "Epoch 49/300\n",
      "21113/21113 [==============================] - 3s - loss: 0.5045 - acc: 0.7899     \n",
      "Epoch 50/300\n",
      "21113/21113 [==============================] - 3s - loss: 0.5043 - acc: 0.7898     \n",
      "Epoch 51/300\n",
      "21113/21113 [==============================] - 3s - loss: 0.5043 - acc: 0.7906     \n",
      "Epoch 52/300\n",
      "21113/21113 [==============================] - 3s - loss: 0.5044 - acc: 0.7908     \n",
      "Epoch 53/300\n",
      "21113/21113 [==============================] - 3s - loss: 0.5065 - acc: 0.7891     \n",
      "Epoch 54/300\n",
      "21113/21113 [==============================] - 3s - loss: 0.5045 - acc: 0.7899     \n",
      "Epoch 55/300\n",
      "21113/21113 [==============================] - 3s - loss: 0.5043 - acc: 0.7922     \n",
      "Epoch 56/300\n",
      "21113/21113 [==============================] - 3s - loss: 0.5041 - acc: 0.7909     \n",
      "Epoch 57/300\n",
      "21113/21113 [==============================] - 3s - loss: 0.5054 - acc: 0.7884     \n",
      "Epoch 58/300\n",
      "21113/21113 [==============================] - 3s - loss: 0.5040 - acc: 0.7906     \n",
      "Epoch 59/300\n",
      "21113/21113 [==============================] - 3s - loss: 0.5036 - acc: 0.7902     \n",
      "Epoch 60/300\n",
      "21113/21113 [==============================] - 3s - loss: 0.5049 - acc: 0.7914     \n",
      "Epoch 61/300\n",
      "21113/21113 [==============================] - 3s - loss: 0.5049 - acc: 0.7903     \n",
      "Epoch 62/300\n",
      "21113/21113 [==============================] - 3s - loss: 0.5046 - acc: 0.7898     \n",
      "Epoch 63/300\n",
      "21113/21113 [==============================] - 3s - loss: 0.5037 - acc: 0.7908     \n",
      "Epoch 64/300\n",
      "21113/21113 [==============================] - 3s - loss: 0.5044 - acc: 0.7907     \n",
      "Epoch 65/300\n",
      "21113/21113 [==============================] - 3s - loss: 0.5051 - acc: 0.7900     \n",
      "Epoch 66/300\n",
      "21113/21113 [==============================] - 3s - loss: 0.5038 - acc: 0.7897     \n",
      "Epoch 67/300\n",
      "21113/21113 [==============================] - 3s - loss: 0.5043 - acc: 0.7899     \n",
      "Epoch 68/300\n",
      "21113/21113 [==============================] - 3s - loss: 0.5047 - acc: 0.7899     \n",
      "Epoch 69/300\n",
      "21113/21113 [==============================] - 3s - loss: 0.5037 - acc: 0.7905     \n",
      "Epoch 70/300\n",
      "21113/21113 [==============================] - 3s - loss: 0.5073 - acc: 0.7898     \n",
      "Epoch 71/300\n",
      "21113/21113 [==============================] - 3s - loss: 0.5060 - acc: 0.7889     \n",
      "Epoch 72/300\n",
      "21113/21113 [==============================] - 3s - loss: 0.5056 - acc: 0.7905     \n",
      "Epoch 73/300\n",
      "21113/21113 [==============================] - 3s - loss: 0.5037 - acc: 0.7904     \n",
      "Epoch 74/300\n",
      "21113/21113 [==============================] - 3s - loss: 0.5203 - acc: 0.7817     \n",
      "Epoch 75/300\n",
      "21113/21113 [==============================] - 3s - loss: 0.5063 - acc: 0.7878     \n",
      "Epoch 76/300\n",
      "21113/21113 [==============================] - 3s - loss: 0.5040 - acc: 0.7907     \n",
      "Epoch 77/300\n",
      "21113/21113 [==============================] - 3s - loss: 0.5036 - acc: 0.7894     \n",
      "Epoch 78/300\n",
      "21113/21113 [==============================] - 4s - loss: 0.5052 - acc: 0.7901     \n",
      "Epoch 79/300\n",
      "21113/21113 [==============================] - 4s - loss: 0.5031 - acc: 0.7923     \n",
      "Epoch 80/300\n",
      "21113/21113 [==============================] - 4s - loss: 0.5044 - acc: 0.7897     \n",
      "Epoch 81/300\n",
      "21113/21113 [==============================] - 4s - loss: 0.5026 - acc: 0.7921     \n",
      "Epoch 82/300\n",
      "21113/21113 [==============================] - 3s - loss: 0.5032 - acc: 0.7903     \n",
      "Epoch 83/300\n",
      "21113/21113 [==============================] - 3s - loss: 0.5042 - acc: 0.7909     \n",
      "Epoch 84/300\n",
      "21113/21113 [==============================] - 3s - loss: 0.5044 - acc: 0.7901     \n",
      "Epoch 85/300\n",
      "21113/21113 [==============================] - 3s - loss: 0.5061 - acc: 0.7898     \n",
      "Epoch 86/300\n",
      "21113/21113 [==============================] - 3s - loss: 0.5055 - acc: 0.7898     \n",
      "Epoch 87/300\n",
      "21113/21113 [==============================] - 3s - loss: 0.5015 - acc: 0.7924     \n",
      "Epoch 88/300\n",
      "21113/21113 [==============================] - 3s - loss: 0.5053 - acc: 0.7901     \n",
      "Epoch 89/300\n",
      "21113/21113 [==============================] - 3s - loss: 0.5026 - acc: 0.7913     \n",
      "Epoch 90/300\n",
      "21113/21113 [==============================] - 3s - loss: 0.5047 - acc: 0.7900     \n",
      "Epoch 91/300\n",
      "21113/21113 [==============================] - 3s - loss: 0.5047 - acc: 0.7904     \n",
      "Epoch 92/300\n",
      "21113/21113 [==============================] - 3s - loss: 0.5049 - acc: 0.7899     \n",
      "Epoch 93/300\n",
      "21113/21113 [==============================] - 3s - loss: 0.5033 - acc: 0.7915     \n",
      "Epoch 94/300\n",
      "21113/21113 [==============================] - 3s - loss: 0.5020 - acc: 0.7932     \n",
      "Epoch 95/300\n",
      "21113/21113 [==============================] - 3s - loss: 0.5031 - acc: 0.7915     \n",
      "Epoch 96/300\n",
      "21113/21113 [==============================] - 3s - loss: 0.5086 - acc: 0.7860     \n",
      "Epoch 97/300\n",
      "21113/21113 [==============================] - 3s - loss: 0.5043 - acc: 0.7901     \n",
      "Epoch 98/300\n",
      "21113/21113 [==============================] - 3s - loss: 0.5041 - acc: 0.7898     \n",
      "Epoch 99/300\n",
      "21113/21113 [==============================] - 3s - loss: 0.5092 - acc: 0.7867     \n",
      "Epoch 100/300\n",
      "21113/21113 [==============================] - 3s - loss: 0.5045 - acc: 0.7907     \n",
      "Epoch 101/300\n",
      "21113/21113 [==============================] - 3s - loss: 0.5033 - acc: 0.7913     \n",
      "Epoch 102/300\n",
      "21113/21113 [==============================] - 3s - loss: 0.5065 - acc: 0.7888     \n",
      "Epoch 103/300\n",
      "21113/21113 [==============================] - 3s - loss: 0.5051 - acc: 0.7904     \n",
      "Epoch 104/300\n",
      "21113/21113 [==============================] - 3s - loss: 0.5043 - acc: 0.7899     \n",
      "Epoch 105/300\n",
      "21113/21113 [==============================] - 3s - loss: 0.5041 - acc: 0.7890     \n",
      "Epoch 106/300\n",
      "21113/21113 [==============================] - 3s - loss: 0.5086 - acc: 0.7873     \n",
      "Epoch 107/300\n",
      "21113/21113 [==============================] - 3s - loss: 0.5131 - acc: 0.7852     \n",
      "Epoch 108/300\n",
      "21113/21113 [==============================] - 3s - loss: 0.5080 - acc: 0.7884     \n",
      "Epoch 109/300\n",
      "21113/21113 [==============================] - 3s - loss: 0.5040 - acc: 0.7921     \n",
      "Epoch 110/300\n",
      "21113/21113 [==============================] - 3s - loss: 0.5025 - acc: 0.7907     \n",
      "Epoch 111/300\n",
      "21113/21113 [==============================] - 3s - loss: 0.5048 - acc: 0.7895     \n",
      "Epoch 112/300\n",
      "21113/21113 [==============================] - 3s - loss: 0.5031 - acc: 0.7912     \n",
      "Epoch 113/300\n",
      "21113/21113 [==============================] - 3s - loss: 0.5037 - acc: 0.7905     \n",
      "Epoch 114/300\n",
      "21113/21113 [==============================] - 3s - loss: 0.5041 - acc: 0.7890     \n",
      "Epoch 115/300\n",
      "21113/21113 [==============================] - 3s - loss: 0.5001 - acc: 0.7936     \n",
      "Epoch 116/300\n",
      "21113/21113 [==============================] - 3s - loss: 0.5036 - acc: 0.7903     \n",
      "Epoch 117/300\n",
      "21113/21113 [==============================] - 3s - loss: 0.5048 - acc: 0.7907     \n",
      "Epoch 118/300\n",
      "21113/21113 [==============================] - 3s - loss: 0.5024 - acc: 0.7905     \n",
      "Epoch 119/300\n",
      "21113/21113 [==============================] - 3s - loss: 0.5074 - acc: 0.7881     \n",
      "Epoch 120/300\n",
      "21113/21113 [==============================] - 3s - loss: 0.5030 - acc: 0.7905     \n",
      "Epoch 121/300\n",
      "21113/21113 [==============================] - 3s - loss: 0.5032 - acc: 0.7917     \n",
      "Epoch 122/300\n",
      "21113/21113 [==============================] - 3s - loss: 0.5037 - acc: 0.7906     \n",
      "Epoch 123/300\n",
      "21113/21113 [==============================] - 3s - loss: 0.5042 - acc: 0.7894     \n",
      "Epoch 124/300\n",
      "21113/21113 [==============================] - 3s - loss: 0.5026 - acc: 0.7925     \n",
      "Epoch 125/300\n",
      "21113/21113 [==============================] - 3s - loss: 0.5012 - acc: 0.7919     \n",
      "Epoch 126/300\n",
      "21113/21113 [==============================] - 3s - loss: 0.5046 - acc: 0.7892     \n",
      "Epoch 127/300\n",
      "21113/21113 [==============================] - 3s - loss: 0.5115 - acc: 0.7862     \n",
      "Epoch 128/300\n",
      "21113/21113 [==============================] - 3s - loss: 0.5073 - acc: 0.7890     \n",
      "Epoch 129/300\n",
      "21113/21113 [==============================] - 3s - loss: 0.5058 - acc: 0.7891     \n",
      "Epoch 130/300\n",
      "21113/21113 [==============================] - 3s - loss: 0.5035 - acc: 0.7913     \n",
      "Epoch 131/300\n",
      "21113/21113 [==============================] - 3s - loss: 0.5040 - acc: 0.7913     \n",
      "Epoch 132/300\n",
      "21113/21113 [==============================] - 3s - loss: 0.5033 - acc: 0.7917     \n",
      "Epoch 133/300\n",
      "21113/21113 [==============================] - 3s - loss: 0.5011 - acc: 0.7916     \n",
      "Epoch 134/300\n",
      "21113/21113 [==============================] - 3s - loss: 0.5015 - acc: 0.7915     \n",
      "Epoch 135/300\n",
      "21113/21113 [==============================] - 3s - loss: 0.5030 - acc: 0.7909     \n",
      "Epoch 136/300\n",
      "21113/21113 [==============================] - 3s - loss: 0.5014 - acc: 0.7915     \n",
      "Epoch 137/300\n",
      "21113/21113 [==============================] - 3s - loss: 0.5030 - acc: 0.7916     \n",
      "Epoch 138/300\n",
      "21113/21113 [==============================] - 3s - loss: 0.5002 - acc: 0.7929     \n",
      "Epoch 139/300\n",
      "21113/21113 [==============================] - 3s - loss: 0.5044 - acc: 0.7898     \n",
      "Epoch 140/300\n",
      "21113/21113 [==============================] - 3s - loss: 0.5031 - acc: 0.7915     \n",
      "Epoch 141/300\n",
      "21113/21113 [==============================] - 3s - loss: 0.5019 - acc: 0.7930     \n",
      "Epoch 142/300\n",
      "21113/21113 [==============================] - 3s - loss: 0.5039 - acc: 0.7905     \n",
      "Epoch 143/300\n",
      "21113/21113 [==============================] - 3s - loss: 0.5018 - acc: 0.7925     \n",
      "Epoch 144/300\n",
      "21113/21113 [==============================] - 3s - loss: 0.5004 - acc: 0.7942     \n",
      "Epoch 145/300\n",
      "21113/21113 [==============================] - 3s - loss: 0.5031 - acc: 0.7916     \n",
      "Epoch 146/300\n",
      "21113/21113 [==============================] - 3s - loss: 0.5046 - acc: 0.7903     \n",
      "Epoch 147/300\n",
      "21113/21113 [==============================] - 3s - loss: 0.5025 - acc: 0.7920     \n",
      "Epoch 148/300\n",
      "21113/21113 [==============================] - 3s - loss: 0.5025 - acc: 0.7916     \n",
      "Epoch 149/300\n",
      "21113/21113 [==============================] - 3s - loss: 0.5021 - acc: 0.7908     \n",
      "Epoch 150/300\n",
      "21113/21113 [==============================] - 3s - loss: 0.5023 - acc: 0.7934     \n",
      "Epoch 151/300\n",
      "21113/21113 [==============================] - 3s - loss: 0.5013 - acc: 0.7936     \n",
      "Epoch 152/300\n",
      "21113/21113 [==============================] - 3s - loss: 0.5019 - acc: 0.7931     \n",
      "Epoch 153/300\n",
      "21113/21113 [==============================] - 3s - loss: 0.5007 - acc: 0.7929     \n",
      "Epoch 154/300\n",
      "21113/21113 [==============================] - 3s - loss: 0.5038 - acc: 0.7913     \n",
      "Epoch 155/300\n",
      "13460/21113 [==================>...........] - ETA: 1s - loss: 0.4989 - acc: 0.7952"
     ]
    }
   ],
   "source": [
    "# create model\n",
    "model = Sequential()\n",
    "model.add(Dense(28, input_dim=14, activation='relu', kernel_initializer=\"uniform\"))\n",
    "model.add(Dropout(0.2))\n",
    "model.add(Dense(20, activation='relu', kernel_constraint=maxnorm(3), kernel_initializer=\"uniform\"))\n",
    "model.add(Dropout(0.2))\n",
    "model.add(Dense(10, activation='relu', kernel_initializer=\"uniform\"))\n",
    "model.add(Dense(1, activation='sigmoid', kernel_initializer=\"uniform\"))\n",
    "\n",
    "# Compile model\n",
    "model.compile(loss='binary_crossentropy', optimizer='adam', metrics=['accuracy'])\n",
    "\n",
    "# Fit the model\n",
    "model.fit(X_Train, Y_Train, epochs=300, batch_size=10)\n",
    "\n",
    "# Evaluate the model\n",
    "scores = model.evaluate(X_Test, Y_Test)\n",
    "print(\"%s: %.2f%%\" % (model.metrics_names[1], scores[1]*100))"
   ]
  }
 ],
 "metadata": {
  "kernelspec": {
   "display_name": "Python 3",
   "language": "python",
   "name": "python3"
  },
  "language_info": {
   "codemirror_mode": {
    "name": "ipython",
    "version": 3
   },
   "file_extension": ".py",
   "mimetype": "text/x-python",
   "name": "python",
   "nbconvert_exporter": "python",
   "pygments_lexer": "ipython3",
   "version": "3.6.1"
  }
 },
 "nbformat": 4,
 "nbformat_minor": 1
}
