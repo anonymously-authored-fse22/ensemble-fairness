{
 "cells": [
  {
   "cell_type": "markdown",
   "metadata": {},
   "source": [
    "# Adult Income Prediction notebook\n",
    "This data was extracted from the 1994 Census bureau database by Ronny Kohavi and Barry Becker (Data Mining and Visualization, Silicon Graphics). A set of reasonably clean records was extracted using the following conditions: ((AAGE>16) && (AGI>100) && (AFNLWGT>1) && (HRSWK>0)). *The prediction task is to determine whether a person makes over  USD 50K a year.*  \n",
    "This is a binary classification problem where we have to predict whether a person earns over $50k per year or not. The scoring function to optimize is accuracy. The notebook follows the following steps to analyse the data and build predictive models.\n",
    "- Data cleaning and preprocessing\n",
    "- Exploratory data analysis\n",
    "- Modelling: I have tried out different classification algorithms.\n",
    "  - Random forest\n",
    "  - XGBoost\n",
    "  - Naive Bayes\n",
    "  - Logistic regression\n",
    "  - CatBoost  \n",
    "These models were then optimized by tuning the hyper-parameters through Grid Search, keeping a close check on the cross-validation scores to prevent overfitting. Thereafter I also tried out stacking different models together to improve the accuracy but it didn't improve the accuracy sigificantly.\n",
    "- Finally I explored oversampling techniques including SMOTE (in progress).\n",
    "\n",
    "Please feel free to suggest/comment.\n",
    "\n"
   ]
  },
  {
   "cell_type": "code",
   "execution_count": 1,
   "metadata": {},
   "outputs": [],
   "source": [
    "import pandas as pd\n",
    "import numpy as np\n",
    "import matplotlib.pyplot as plt\n",
    "import seaborn as sns"
   ]
  },
  {
   "cell_type": "code",
   "execution_count": 2,
   "metadata": {},
   "outputs": [],
   "source": [
    "import os\n",
    "import seaborn as sns\n",
    "os.environ['KMP_DUPLICATE_LIB_OK']='True'"
   ]
  },
  {
   "cell_type": "code",
   "execution_count": 3,
   "metadata": {},
   "outputs": [],
   "source": [
    "sns.set() ##set defaults"
   ]
  },
  {
   "cell_type": "code",
   "execution_count": 4,
   "metadata": {},
   "outputs": [],
   "source": [
    "%matplotlib inline"
   ]
  },
  {
   "cell_type": "code",
   "execution_count": 5,
   "metadata": {},
   "outputs": [],
   "source": [
    "data = pd.read_csv(\"../input/adult.csv\")"
   ]
  },
  {
   "cell_type": "code",
   "execution_count": 6,
   "metadata": {},
   "outputs": [
    {
     "data": {
      "text/plain": [
       "(32561, 15)"
      ]
     },
     "execution_count": 6,
     "metadata": {},
     "output_type": "execute_result"
    }
   ],
   "source": [
    "data.shape"
   ]
  },
  {
   "cell_type": "code",
   "execution_count": 7,
   "metadata": {},
   "outputs": [
    {
     "data": {
      "text/html": [
       "<div>\n",
       "<style scoped>\n",
       "    .dataframe tbody tr th:only-of-type {\n",
       "        vertical-align: middle;\n",
       "    }\n",
       "\n",
       "    .dataframe tbody tr th {\n",
       "        vertical-align: top;\n",
       "    }\n",
       "\n",
       "    .dataframe thead th {\n",
       "        text-align: right;\n",
       "    }\n",
       "</style>\n",
       "<table border=\"1\" class=\"dataframe\">\n",
       "  <thead>\n",
       "    <tr style=\"text-align: right;\">\n",
       "      <th></th>\n",
       "      <th>age</th>\n",
       "      <th>workclass</th>\n",
       "      <th>fnlwgt</th>\n",
       "      <th>education</th>\n",
       "      <th>education.num</th>\n",
       "      <th>marital.status</th>\n",
       "      <th>occupation</th>\n",
       "      <th>relationship</th>\n",
       "      <th>race</th>\n",
       "      <th>sex</th>\n",
       "      <th>capital.gain</th>\n",
       "      <th>capital.loss</th>\n",
       "      <th>hours.per.week</th>\n",
       "      <th>native.country</th>\n",
       "      <th>income</th>\n",
       "    </tr>\n",
       "  </thead>\n",
       "  <tbody>\n",
       "    <tr>\n",
       "      <th>0</th>\n",
       "      <td>90</td>\n",
       "      <td>?</td>\n",
       "      <td>77053</td>\n",
       "      <td>HS-grad</td>\n",
       "      <td>9</td>\n",
       "      <td>Widowed</td>\n",
       "      <td>?</td>\n",
       "      <td>Not-in-family</td>\n",
       "      <td>White</td>\n",
       "      <td>Female</td>\n",
       "      <td>0</td>\n",
       "      <td>4356</td>\n",
       "      <td>40</td>\n",
       "      <td>United-States</td>\n",
       "      <td>&lt;=50K</td>\n",
       "    </tr>\n",
       "    <tr>\n",
       "      <th>1</th>\n",
       "      <td>82</td>\n",
       "      <td>Private</td>\n",
       "      <td>132870</td>\n",
       "      <td>HS-grad</td>\n",
       "      <td>9</td>\n",
       "      <td>Widowed</td>\n",
       "      <td>Exec-managerial</td>\n",
       "      <td>Not-in-family</td>\n",
       "      <td>White</td>\n",
       "      <td>Female</td>\n",
       "      <td>0</td>\n",
       "      <td>4356</td>\n",
       "      <td>18</td>\n",
       "      <td>United-States</td>\n",
       "      <td>&lt;=50K</td>\n",
       "    </tr>\n",
       "    <tr>\n",
       "      <th>2</th>\n",
       "      <td>66</td>\n",
       "      <td>?</td>\n",
       "      <td>186061</td>\n",
       "      <td>Some-college</td>\n",
       "      <td>10</td>\n",
       "      <td>Widowed</td>\n",
       "      <td>?</td>\n",
       "      <td>Unmarried</td>\n",
       "      <td>Black</td>\n",
       "      <td>Female</td>\n",
       "      <td>0</td>\n",
       "      <td>4356</td>\n",
       "      <td>40</td>\n",
       "      <td>United-States</td>\n",
       "      <td>&lt;=50K</td>\n",
       "    </tr>\n",
       "    <tr>\n",
       "      <th>3</th>\n",
       "      <td>54</td>\n",
       "      <td>Private</td>\n",
       "      <td>140359</td>\n",
       "      <td>7th-8th</td>\n",
       "      <td>4</td>\n",
       "      <td>Divorced</td>\n",
       "      <td>Machine-op-inspct</td>\n",
       "      <td>Unmarried</td>\n",
       "      <td>White</td>\n",
       "      <td>Female</td>\n",
       "      <td>0</td>\n",
       "      <td>3900</td>\n",
       "      <td>40</td>\n",
       "      <td>United-States</td>\n",
       "      <td>&lt;=50K</td>\n",
       "    </tr>\n",
       "    <tr>\n",
       "      <th>4</th>\n",
       "      <td>41</td>\n",
       "      <td>Private</td>\n",
       "      <td>264663</td>\n",
       "      <td>Some-college</td>\n",
       "      <td>10</td>\n",
       "      <td>Separated</td>\n",
       "      <td>Prof-specialty</td>\n",
       "      <td>Own-child</td>\n",
       "      <td>White</td>\n",
       "      <td>Female</td>\n",
       "      <td>0</td>\n",
       "      <td>3900</td>\n",
       "      <td>40</td>\n",
       "      <td>United-States</td>\n",
       "      <td>&lt;=50K</td>\n",
       "    </tr>\n",
       "  </tbody>\n",
       "</table>\n",
       "</div>"
      ],
      "text/plain": [
       "   age workclass  fnlwgt  ...   hours.per.week  native.country income\n",
       "0   90         ?   77053  ...               40   United-States  <=50K\n",
       "1   82   Private  132870  ...               18   United-States  <=50K\n",
       "2   66         ?  186061  ...               40   United-States  <=50K\n",
       "3   54   Private  140359  ...               40   United-States  <=50K\n",
       "4   41   Private  264663  ...               40   United-States  <=50K\n",
       "\n",
       "[5 rows x 15 columns]"
      ]
     },
     "execution_count": 7,
     "metadata": {},
     "output_type": "execute_result"
    }
   ],
   "source": [
    "data.head()"
   ]
  },
  {
   "cell_type": "code",
   "execution_count": 8,
   "metadata": {},
   "outputs": [
    {
     "name": "stdout",
     "output_type": "stream",
     "text": [
      "<class 'pandas.core.frame.DataFrame'>\n",
      "RangeIndex: 32561 entries, 0 to 32560\n",
      "Data columns (total 15 columns):\n",
      "age               32561 non-null int64\n",
      "workclass         32561 non-null object\n",
      "fnlwgt            32561 non-null int64\n",
      "education         32561 non-null object\n",
      "education.num     32561 non-null int64\n",
      "marital.status    32561 non-null object\n",
      "occupation        32561 non-null object\n",
      "relationship      32561 non-null object\n",
      "race              32561 non-null object\n",
      "sex               32561 non-null object\n",
      "capital.gain      32561 non-null int64\n",
      "capital.loss      32561 non-null int64\n",
      "hours.per.week    32561 non-null int64\n",
      "native.country    32561 non-null object\n",
      "income            32561 non-null object\n",
      "dtypes: int64(6), object(9)\n",
      "memory usage: 3.7+ MB\n"
     ]
    }
   ],
   "source": [
    "data.info()"
   ]
  },
  {
   "cell_type": "code",
   "execution_count": 9,
   "metadata": {},
   "outputs": [
    {
     "data": {
      "text/plain": [
       "Private             22696\n",
       "Self-emp-not-inc     2541\n",
       "Local-gov            2093\n",
       "?                    1836\n",
       "State-gov            1298\n",
       "Self-emp-inc         1116\n",
       "Federal-gov           960\n",
       "Without-pay            14\n",
       "Never-worked            7\n",
       "Name: workclass, dtype: int64"
      ]
     },
     "execution_count": 9,
     "metadata": {},
     "output_type": "execute_result"
    }
   ],
   "source": [
    "data['workclass'].value_counts()"
   ]
  },
  {
   "cell_type": "code",
   "execution_count": 10,
   "metadata": {},
   "outputs": [
    {
     "data": {
      "text/plain": [
       "<=50K    24720\n",
       ">50K      7841\n",
       "Name: income, dtype: int64"
      ]
     },
     "execution_count": 10,
     "metadata": {},
     "output_type": "execute_result"
    }
   ],
   "source": [
    "data['income'].value_counts()    "
   ]
  },
  {
   "cell_type": "markdown",
   "metadata": {},
   "source": [
    "#### Encode the target variable to binary"
   ]
  },
  {
   "cell_type": "code",
   "execution_count": 11,
   "metadata": {},
   "outputs": [],
   "source": [
    "data['income'] = data['income'].apply(lambda inc: 0 if inc == \"<=50K\" else 1) # Binary encoding of the target variable"
   ]
  },
  {
   "cell_type": "markdown",
   "metadata": {},
   "source": [
    "## Exploratory analysis"
   ]
  },
  {
   "cell_type": "code",
   "execution_count": 12,
   "metadata": {},
   "outputs": [
    {
     "data": {
      "text/plain": [
       "<matplotlib.axes._subplots.AxesSubplot at 0x7efbef31e6d8>"
      ]
     },
     "execution_count": 12,
     "metadata": {},
     "output_type": "execute_result"
    },
    {
     "data": {
      "image/png": "[encoded data removed]",
      "text/plain": [
       "<Figure size 720x360 with 1 Axes>"
      ]
     },
     "metadata": {},
     "output_type": "display_data"
    }
   ],
   "source": [
    "plt.figure(figsize=(10,5))\n",
    "sns.countplot(data['income'])"
   ]
  },
  {
   "cell_type": "markdown",
   "metadata": {},
   "source": [
    "As one can see, there is considerable class imbalance in the target variable, i.e. income. This is also intuitively obvious as one expects fewer 'rich' people (earning>50k/annum) than 'not-so-rich' people (earning <50k/annum). Therefore we might need to consider over-sampling techniques in our ML model to improve our accuracy."
   ]
  },
  {
   "cell_type": "code",
   "execution_count": 13,
   "metadata": {
    "scrolled": false
   },
   "outputs": [
    {
     "data": {
      "text/plain": [
       "<matplotlib.axes._subplots.AxesSubplot at 0x7efbef0d3e48>"
      ]
     },
     "execution_count": 13,
     "metadata": {},
     "output_type": "execute_result"
    },
    {
     "data": {
      "image/png": "[encoded data removed]",
      "text/plain": [
       "<Figure size 1008x432 with 1 Axes>"
      ]
     },
     "metadata": {},
     "output_type": "display_data"
    }
   ],
   "source": [
    "plt.figure(figsize=(14,6))\n",
    "sns.countplot(data['marital.status'])"
   ]
  },
  {
   "cell_type": "markdown",
   "metadata": {},
   "source": [
    "Those with `Never-married` and `Married-civ-spouse` labels dominate the dataset."
   ]
  },
  {
   "cell_type": "code",
   "execution_count": 14,
   "metadata": {},
   "outputs": [
    {
     "name": "stderr",
     "output_type": "stream",
     "text": [
      "/opt/conda/lib/python3.6/site-packages/scipy/stats/stats.py:1713: FutureWarning: Using a non-tuple sequence for multidimensional indexing is deprecated; use `arr[tuple(seq)]` instead of `arr[seq]`. In the future this will be interpreted as an array index, `arr[np.array(seq)]`, which will result either in an error or a different result.\n",
      "  return np.add.reduce(sorted[indexer] * weights, axis=axis) / sumval\n"
     ]
    },
    {
     "data": {
      "text/plain": [
       "Married-civ-spouse       14976\n",
       "Never-married            10683\n",
       "Divorced                  4443\n",
       "Separated                 1025\n",
       "Widowed                    993\n",
       "Married-spouse-absent      418\n",
       "Married-AF-spouse           23\n",
       "Name: marital.status, dtype: int64"
      ]
     },
     "execution_count": 14,
     "metadata": {},
     "output_type": "execute_result"
    },
    {
     "data": {
      "image/png": "[encoded data removed]",
      "text/plain": [
       "<Figure size 1080x432 with 1 Axes>"
      ]
     },
     "metadata": {},
     "output_type": "display_data"
    }
   ],
   "source": [
    "plt.figure(figsize=(15,6))\n",
    "ax=sns.barplot(x='marital.status',y='income',data=data,hue='sex')\n",
    "ax.set(ylabel='Fraction of people with income > $50k')\n",
    "data['marital.status'].value_counts()"
   ]
  },
  {
   "cell_type": "markdown",
   "metadata": {},
   "source": [
    "The above plot shows the the fraction of people earning more than $50k per annum, grouped by their marital status and gender. The data shows that married people have a higher %age of high-earners, compared to those who either never married or are widowed/divorced/separated. The black lines indicate 2 standard deviations (or 95\\% confidence interval) in the data set. The married spouses of armed forces personnel have a much higher variation in their income compared to civil spouses because of low-number statistics."
   ]
  },
  {
   "cell_type": "code",
   "execution_count": 15,
   "metadata": {},
   "outputs": [
    {
     "data": {
      "text/plain": [
       "<matplotlib.axes._subplots.AxesSubplot at 0x7efbeb6e6ba8>"
      ]
     },
     "execution_count": 15,
     "metadata": {},
     "output_type": "execute_result"
    },
    {
     "data": {
      "image/png": "[encoded data removed]",
      "text/plain": [
       "<Figure size 864x432 with 1 Axes>"
      ]
     },
     "metadata": {},
     "output_type": "display_data"
    }
   ],
   "source": [
    "plt.figure(figsize=(12,6))\n",
    "sns.countplot(data['workclass'])"
   ]
  },
  {
   "cell_type": "code",
   "execution_count": 16,
   "metadata": {},
   "outputs": [
    {
     "name": "stderr",
     "output_type": "stream",
     "text": [
      "/opt/conda/lib/python3.6/site-packages/scipy/stats/stats.py:1713: FutureWarning: Using a non-tuple sequence for multidimensional indexing is deprecated; use `arr[tuple(seq)]` instead of `arr[seq]`. In the future this will be interpreted as an array index, `arr[np.array(seq)]`, which will result either in an error or a different result.\n",
      "  return np.add.reduce(sorted[indexer] * weights, axis=axis) / sumval\n"
     ]
    },
    {
     "data": {
      "text/plain": [
       "[Text(0, 0.5, 'Fraction of people with income > $50k')]"
      ]
     },
     "execution_count": 16,
     "metadata": {},
     "output_type": "execute_result"
    },
    {
     "data": {
      "image/png": "[encoded data removed]",
      "text/plain": [
       "<Figure size 864x432 with 1 Axes>"
      ]
     },
     "metadata": {},
     "output_type": "display_data"
    }
   ],
   "source": [
    "plt.figure(figsize=(12,6))\n",
    "ax=sns.barplot('workclass', y='income', data=data, hue='sex')\n",
    "ax.set(ylabel='Fraction of people with income > $50k')"
   ]
  },
  {
   "cell_type": "code",
   "execution_count": 17,
   "metadata": {},
   "outputs": [
    {
     "data": {
      "text/plain": [
       "Text(0.5, 1.0, 'Heatmap showing correlations between numerical data')"
      ]
     },
     "execution_count": 17,
     "metadata": {},
     "output_type": "execute_result"
    },
    {
     "data": {
      "image/png": "[encoded data removed]",
      "text/plain": [
       "<Figure size 720x576 with 2 Axes>"
      ]
     },
     "metadata": {},
     "output_type": "display_data"
    }
   ],
   "source": [
    "plt.figure(figsize=(10,8))  \n",
    "sns.heatmap(data.corr(),cmap='Accent',annot=True)\n",
    "#data.corr()\n",
    "plt.title('Heatmap showing correlations between numerical data')"
   ]
  },
  {
   "cell_type": "code",
   "execution_count": 18,
   "metadata": {},
   "outputs": [
    {
     "data": {
      "text/plain": [
       "<matplotlib.axes._subplots.AxesSubplot at 0x7efbe2f05cc0>"
      ]
     },
     "execution_count": 18,
     "metadata": {},
     "output_type": "execute_result"
    },
    {
     "data": {
      "image/png": "[encoded data removed]",
      "text/plain": [
       "<Figure size 864x432 with 1 Axes>"
      ]
     },
     "metadata": {},
     "output_type": "display_data"
    }
   ],
   "source": [
    "plt.figure(figsize=(12,6))\n",
    "sns.boxplot(x=\"income\", y=\"age\", data=data, hue='sex')\n",
    "#data[data['income']==0]['age'].mean()"
   ]
  },
  {
   "cell_type": "markdown",
   "metadata": {},
   "source": [
    "The mean age of people earning more than 50k per annum is around 44 whereas the mean age of of those earning less than 50k per annum is 36."
   ]
  },
  {
   "cell_type": "code",
   "execution_count": 19,
   "metadata": {
    "scrolled": true
   },
   "outputs": [
    {
     "data": {
      "text/plain": [
       "<matplotlib.axes._subplots.AxesSubplot at 0x7efbeb7cba90>"
      ]
     },
     "execution_count": 19,
     "metadata": {},
     "output_type": "execute_result"
    },
    {
     "data": {
      "image/png": "[encoded data removed]",
      "text/plain": [
       "<Figure size 576x432 with 1 Axes>"
      ]
     },
     "metadata": {},
     "output_type": "display_data"
    }
   ],
   "source": [
    "norm_fnl = (data[\"fnlwgt\"] - data['fnlwgt'].mean())/data['fnlwgt'].std()\n",
    "plt.figure(figsize=(8,6))\n",
    "sns.boxplot(x=\"income\", y=norm_fnl, data=data)"
   ]
  },
  {
   "cell_type": "markdown",
   "metadata": {},
   "source": [
    "As evident from the plot above, there are many outliers in the `fnlwgt` column and this feature is uncorrelated with `income`, our target variable. The correlation coefficient (which one can read from the heatmap) is -0.0095. The number of outliers, i.e. the number of records which are more than 2 s.d's away from the mean, is 1249."
   ]
  },
  {
   "cell_type": "code",
   "execution_count": 20,
   "metadata": {},
   "outputs": [
    {
     "data": {
      "text/plain": [
       "(1249, 15)"
      ]
     },
     "execution_count": 20,
     "metadata": {},
     "output_type": "execute_result"
    }
   ],
   "source": [
    "data[norm_fnl>2].shape"
   ]
  },
  {
   "cell_type": "code",
   "execution_count": 21,
   "metadata": {},
   "outputs": [
    {
     "name": "stderr",
     "output_type": "stream",
     "text": [
      "/opt/conda/lib/python3.6/site-packages/scipy/stats/stats.py:1713: FutureWarning: Using a non-tuple sequence for multidimensional indexing is deprecated; use `arr[tuple(seq)]` instead of `arr[seq]`. In the future this will be interpreted as an array index, `arr[np.array(seq)]`, which will result either in an error or a different result.\n",
      "  return np.add.reduce(sorted[indexer] * weights, axis=axis) / sumval\n"
     ]
    },
    {
     "data": {
      "text/plain": [
       "[Text(0, 0.5, 'Fraction of people with income > $50k')]"
      ]
     },
     "execution_count": 21,
     "metadata": {},
     "output_type": "execute_result"
    },
    {
     "data": {
      "image/png": "[encoded data removed]",
      "text/plain": [
       "<Figure size 720x360 with 1 Axes>"
      ]
     },
     "metadata": {},
     "output_type": "display_data"
    }
   ],
   "source": [
    "plt.figure(figsize=(10,5))\n",
    "ax = sns.barplot(x='sex',y='income',data=data)\n",
    "ax.set(ylabel='Fraction of people with income > $50k')"
   ]
  },
  {
   "cell_type": "markdown",
   "metadata": {},
   "source": [
    "The fraction of rich among men is significantly higher than that among women."
   ]
  },
  {
   "cell_type": "code",
   "execution_count": 22,
   "metadata": {},
   "outputs": [
    {
     "data": {
      "text/plain": [
       "<matplotlib.axes._subplots.AxesSubplot at 0x7efbe1f91160>"
      ]
     },
     "execution_count": 22,
     "metadata": {},
     "output_type": "execute_result"
    },
    {
     "data": {
      "image/png": "[encoded data removed]",
      "text/plain": [
       "<Figure size 864x432 with 1 Axes>"
      ]
     },
     "metadata": {},
     "output_type": "display_data"
    }
   ],
   "source": [
    "plt.figure(figsize=(12,6))\n",
    "sns.boxplot(x='income',y ='hours.per.week', hue='sex',data=data)"
   ]
  },
  {
   "cell_type": "markdown",
   "metadata": {},
   "source": [
    "On the basis of the above plot, we can only conclude that males put in slightly more hours per week than women on an average."
   ]
  },
  {
   "cell_type": "code",
   "execution_count": 23,
   "metadata": {},
   "outputs": [
    {
     "name": "stderr",
     "output_type": "stream",
     "text": [
      "/opt/conda/lib/python3.6/site-packages/scipy/stats/stats.py:1713: FutureWarning: Using a non-tuple sequence for multidimensional indexing is deprecated; use `arr[tuple(seq)]` instead of `arr[seq]`. In the future this will be interpreted as an array index, `arr[np.array(seq)]`, which will result either in an error or a different result.\n",
      "  return np.add.reduce(sorted[indexer] * weights, axis=axis) / sumval\n"
     ]
    },
    {
     "data": {
      "text/plain": [
       "[Text(0, 0.5, 'mean hours per week')]"
      ]
     },
     "execution_count": 23,
     "metadata": {},
     "output_type": "execute_result"
    },
    {
     "data": {
      "image/png": "[encoded data removed]",
      "text/plain": [
       "<Figure size 1080x432 with 1 Axes>"
      ]
     },
     "metadata": {},
     "output_type": "display_data"
    }
   ],
   "source": [
    "plt.figure(figsize=(15,6))\n",
    "ax = sns.barplot(x='marital.status',y='hours.per.week',data=data,hue='sex')\n",
    "ax.set(ylabel='mean hours per week')"
   ]
  },
  {
   "cell_type": "code",
   "execution_count": 24,
   "metadata": {},
   "outputs": [
    {
     "name": "stderr",
     "output_type": "stream",
     "text": [
      "/opt/conda/lib/python3.6/site-packages/scipy/stats/stats.py:1713: FutureWarning: Using a non-tuple sequence for multidimensional indexing is deprecated; use `arr[tuple(seq)]` instead of `arr[seq]`. In the future this will be interpreted as an array index, `arr[np.array(seq)]`, which will result either in an error or a different result.\n",
      "  return np.add.reduce(sorted[indexer] * weights, axis=axis) / sumval\n"
     ]
    },
    {
     "data": {
      "text/plain": [
       "[Text(0, 0.5, 'Mean education')]"
      ]
     },
     "execution_count": 24,
     "metadata": {},
     "output_type": "execute_result"
    },
    {
     "data": {
      "image/png": "[encoded data removed]",
      "text/plain": [
       "<Figure size 720x432 with 1 Axes>"
      ]
     },
     "metadata": {},
     "output_type": "display_data"
    }
   ],
   "source": [
    "plt.figure(figsize=(10,6))\n",
    "ax = sns.barplot(x='income', y='education.num',hue='sex', data=data)\n",
    "ax.set(ylabel='Mean education')"
   ]
  },
  {
   "cell_type": "markdown",
   "metadata": {},
   "source": [
    "The `education.num` is label encoded such that a higher number corresponds to a higher level of education. As on would naïvely expect, people who earn more (>50k per annum) are also highly educated. The mean education level for `income=1` class is between 11 (Assoc-voc) and 12 (Assoc-acdm) whereas that for the `income=0` class is between 9 (HS-grad) and 10 (Some-college)."
   ]
  },
  {
   "cell_type": "code",
   "execution_count": 25,
   "metadata": {},
   "outputs": [
    {
     "name": "stdout",
     "output_type": "stream",
     "text": [
      "White                 27816\n",
      "Black                  3124\n",
      "Asian-Pac-Islander     1039\n",
      "Amer-Indian-Eskimo      311\n",
      "Other                   271\n",
      "Name: race, dtype: int64\n"
     ]
    },
    {
     "name": "stderr",
     "output_type": "stream",
     "text": [
      "/opt/conda/lib/python3.6/site-packages/scipy/stats/stats.py:1713: FutureWarning: Using a non-tuple sequence for multidimensional indexing is deprecated; use `arr[tuple(seq)]` instead of `arr[seq]`. In the future this will be interpreted as an array index, `arr[np.array(seq)]`, which will result either in an error or a different result.\n",
      "  return np.add.reduce(sorted[indexer] * weights, axis=axis) / sumval\n"
     ]
    },
    {
     "data": {
      "text/plain": [
       "[Text(0, 0.5, 'Fraction of people with income > $50k')]"
      ]
     },
     "execution_count": 25,
     "metadata": {},
     "output_type": "execute_result"
    },
    {
     "data": {
      "image/png": "[encoded data removed]",
      "text/plain": [
       "<Figure size 864x432 with 1 Axes>"
      ]
     },
     "metadata": {},
     "output_type": "display_data"
    }
   ],
   "source": [
    "print(data['race'].value_counts())\n",
    "plt.figure(figsize=(12,6))\n",
    "ax=sns.barplot(x='race',y='income',data=data)\n",
    "ax.set(ylabel='Fraction of people with income > $50k')"
   ]
  },
  {
   "cell_type": "code",
   "execution_count": 26,
   "metadata": {},
   "outputs": [
    {
     "name": "stderr",
     "output_type": "stream",
     "text": [
      "/opt/conda/lib/python3.6/site-packages/scipy/stats/stats.py:1713: FutureWarning: Using a non-tuple sequence for multidimensional indexing is deprecated; use `arr[tuple(seq)]` instead of `arr[seq]`. In the future this will be interpreted as an array index, `arr[np.array(seq)]`, which will result either in an error or a different result.\n",
      "  return np.add.reduce(sorted[indexer] * weights, axis=axis) / sumval\n"
     ]
    },
    {
     "data": {
      "text/plain": [
       "<seaborn.axisgrid.JointGrid at 0x7efbe1e13278>"
      ]
     },
     "execution_count": 26,
     "metadata": {},
     "output_type": "execute_result"
    },
    {
     "data": {
      "text/plain": [
       "<Figure size 864x432 with 0 Axes>"
      ]
     },
     "metadata": {},
     "output_type": "display_data"
    },
    {
     "data": {
      "image/png": "[encoded data removed]",
      "text/plain": [
       "<Figure size 432x432 with 3 Axes>"
      ]
     },
     "metadata": {},
     "output_type": "display_data"
    }
   ],
   "source": [
    "plt.figure(figsize=(12,6))\n",
    "sns.jointplot(x=data['capital.gain'], y=data['capital.loss'])\n",
    "#print(data[((data['capital.gain']!=0) & (data['capital.loss']!=0))].shape)"
   ]
  },
  {
   "cell_type": "code",
   "execution_count": 27,
   "metadata": {},
   "outputs": [
    {
     "name": "stderr",
     "output_type": "stream",
     "text": [
      "/opt/conda/lib/python3.6/site-packages/scipy/stats/stats.py:1713: FutureWarning: Using a non-tuple sequence for multidimensional indexing is deprecated; use `arr[tuple(seq)]` instead of `arr[seq]`. In the future this will be interpreted as an array index, `arr[np.array(seq)]`, which will result either in an error or a different result.\n",
      "  return np.add.reduce(sorted[indexer] * weights, axis=axis) / sumval\n"
     ]
    },
    {
     "data": {
      "text/plain": [
       "<matplotlib.axes._subplots.AxesSubplot at 0x7efbe1c8a5c0>"
      ]
     },
     "execution_count": 27,
     "metadata": {},
     "output_type": "execute_result"
    },
    {
     "data": {
      "image/png": "[encoded data removed]",
      "text/plain": [
       "<Figure size 864x576 with 1 Axes>"
      ]
     },
     "metadata": {},
     "output_type": "display_data"
    }
   ],
   "source": [
    "plt.figure(figsize=(12,8))\n",
    "sns.distplot(data[(data['capital.gain']!=0)]['capital.gain'],kde=False, rug=True)"
   ]
  },
  {
   "cell_type": "code",
   "execution_count": 28,
   "metadata": {},
   "outputs": [
    {
     "name": "stderr",
     "output_type": "stream",
     "text": [
      "/opt/conda/lib/python3.6/site-packages/scipy/stats/stats.py:1713: FutureWarning: Using a non-tuple sequence for multidimensional indexing is deprecated; use `arr[tuple(seq)]` instead of `arr[seq]`. In the future this will be interpreted as an array index, `arr[np.array(seq)]`, which will result either in an error or a different result.\n",
      "  return np.add.reduce(sorted[indexer] * weights, axis=axis) / sumval\n"
     ]
    },
    {
     "data": {
      "text/plain": [
       "<matplotlib.axes._subplots.AxesSubplot at 0x7efbe1c83828>"
      ]
     },
     "execution_count": 28,
     "metadata": {},
     "output_type": "execute_result"
    },
    {
     "data": {
      "image/png": "[encoded data removed]",
      "text/plain": [
       "<Figure size 864x576 with 1 Axes>"
      ]
     },
     "metadata": {},
     "output_type": "display_data"
    }
   ],
   "source": [
    "plt.figure(figsize=(12,8))\n",
    "sns.distplot(data[(data['capital.loss']!=0)]['capital.loss'], kde=False,rug=True)"
   ]
  },
  {
   "cell_type": "code",
   "execution_count": 29,
   "metadata": {},
   "outputs": [
    {
     "name": "stderr",
     "output_type": "stream",
     "text": [
      "/opt/conda/lib/python3.6/site-packages/scipy/stats/stats.py:1713: FutureWarning: Using a non-tuple sequence for multidimensional indexing is deprecated; use `arr[tuple(seq)]` instead of `arr[seq]`. In the future this will be interpreted as an array index, `arr[np.array(seq)]`, which will result either in an error or a different result.\n",
      "  return np.add.reduce(sorted[indexer] * weights, axis=axis) / sumval\n"
     ]
    },
    {
     "data": {
      "text/plain": [
       "[Text(0, 0.5, 'Fraction of people with income > $50k')]"
      ]
     },
     "execution_count": 29,
     "metadata": {},
     "output_type": "execute_result"
    },
    {
     "data": {
      "image/png": "[encoded data removed]",
      "text/plain": [
       "<Figure size 1440x432 with 1 Axes>"
      ]
     },
     "metadata": {},
     "output_type": "display_data"
    }
   ],
   "source": [
    "plt.figure(figsize=(20,6))\n",
    "ax=sns.barplot(x='occupation', y='income', data=data)\n",
    "ax.set(ylabel='Fraction of people with income > $50k')"
   ]
  },
  {
   "cell_type": "code",
   "execution_count": 30,
   "metadata": {},
   "outputs": [
    {
     "name": "stdout",
     "output_type": "stream",
     "text": [
      "United-States                 29170\n",
      "Mexico                          643\n",
      "?                               583\n",
      "Philippines                     198\n",
      "Germany                         137\n",
      "Canada                          121\n",
      "Puerto-Rico                     114\n",
      "El-Salvador                     106\n",
      "India                           100\n",
      "Cuba                             95\n",
      "England                          90\n",
      "Jamaica                          81\n",
      "South                            80\n",
      "China                            75\n",
      "Italy                            73\n",
      "Dominican-Republic               70\n",
      "Vietnam                          67\n",
      "Guatemala                        64\n",
      "Japan                            62\n",
      "Poland                           60\n",
      "Columbia                         59\n",
      "Taiwan                           51\n",
      "Haiti                            44\n",
      "Iran                             43\n",
      "Portugal                         37\n",
      "Nicaragua                        34\n",
      "Peru                             31\n",
      "Greece                           29\n",
      "France                           29\n",
      "Ecuador                          28\n",
      "Ireland                          24\n",
      "Hong                             20\n",
      "Trinadad&Tobago                  19\n",
      "Cambodia                         19\n",
      "Laos                             18\n",
      "Thailand                         18\n",
      "Yugoslavia                       16\n",
      "Outlying-US(Guam-USVI-etc)       14\n",
      "Hungary                          13\n",
      "Honduras                         13\n",
      "Scotland                         12\n",
      "Holand-Netherlands                1\n",
      "Name: native.country, dtype: int64\n",
      "3391 people are not from the United States\n"
     ]
    }
   ],
   "source": [
    "print(data['native.country'].value_counts())\n",
    "not_from_US = np.sum(data['native.country']!='United-States')\n",
    "print(not_from_US, 'people are not from the United States')"
   ]
  },
  {
   "cell_type": "markdown",
   "metadata": {},
   "source": [
    "#### Convert the `native.country` feature to binary since there is a huge imbalance in this feature"
   ]
  },
  {
   "cell_type": "code",
   "execution_count": 31,
   "metadata": {},
   "outputs": [],
   "source": [
    "data['native.country'] = (data['native.country']=='United-States')*1\n",
    "#data['US_or_not']=np.where(data['native.country']=='United-States',1,0)"
   ]
  },
  {
   "cell_type": "code",
   "execution_count": 32,
   "metadata": {},
   "outputs": [
    {
     "data": {
      "text/html": [
       "<div>\n",
       "<style scoped>\n",
       "    .dataframe tbody tr th:only-of-type {\n",
       "        vertical-align: middle;\n",
       "    }\n",
       "\n",
       "    .dataframe tbody tr th {\n",
       "        vertical-align: top;\n",
       "    }\n",
       "\n",
       "    .dataframe thead th {\n",
       "        text-align: right;\n",
       "    }\n",
       "</style>\n",
       "<table border=\"1\" class=\"dataframe\">\n",
       "  <thead>\n",
       "    <tr style=\"text-align: right;\">\n",
       "      <th></th>\n",
       "      <th>workclass</th>\n",
       "      <th>education</th>\n",
       "      <th>marital.status</th>\n",
       "      <th>occupation</th>\n",
       "      <th>relationship</th>\n",
       "      <th>race</th>\n",
       "      <th>sex</th>\n",
       "    </tr>\n",
       "  </thead>\n",
       "  <tbody>\n",
       "    <tr>\n",
       "      <th>0</th>\n",
       "      <td>?</td>\n",
       "      <td>HS-grad</td>\n",
       "      <td>Widowed</td>\n",
       "      <td>?</td>\n",
       "      <td>Not-in-family</td>\n",
       "      <td>White</td>\n",
       "      <td>Female</td>\n",
       "    </tr>\n",
       "    <tr>\n",
       "      <th>1</th>\n",
       "      <td>Private</td>\n",
       "      <td>HS-grad</td>\n",
       "      <td>Widowed</td>\n",
       "      <td>Exec-managerial</td>\n",
       "      <td>Not-in-family</td>\n",
       "      <td>White</td>\n",
       "      <td>Female</td>\n",
       "    </tr>\n",
       "    <tr>\n",
       "      <th>2</th>\n",
       "      <td>?</td>\n",
       "      <td>Some-college</td>\n",
       "      <td>Widowed</td>\n",
       "      <td>?</td>\n",
       "      <td>Unmarried</td>\n",
       "      <td>Black</td>\n",
       "      <td>Female</td>\n",
       "    </tr>\n",
       "    <tr>\n",
       "      <th>3</th>\n",
       "      <td>Private</td>\n",
       "      <td>7th-8th</td>\n",
       "      <td>Divorced</td>\n",
       "      <td>Machine-op-inspct</td>\n",
       "      <td>Unmarried</td>\n",
       "      <td>White</td>\n",
       "      <td>Female</td>\n",
       "    </tr>\n",
       "    <tr>\n",
       "      <th>4</th>\n",
       "      <td>Private</td>\n",
       "      <td>Some-college</td>\n",
       "      <td>Separated</td>\n",
       "      <td>Prof-specialty</td>\n",
       "      <td>Own-child</td>\n",
       "      <td>White</td>\n",
       "      <td>Female</td>\n",
       "    </tr>\n",
       "  </tbody>\n",
       "</table>\n",
       "</div>"
      ],
      "text/plain": [
       "  workclass     education marital.status   ...     relationship   race     sex\n",
       "0         ?       HS-grad        Widowed   ...    Not-in-family  White  Female\n",
       "1   Private       HS-grad        Widowed   ...    Not-in-family  White  Female\n",
       "2         ?  Some-college        Widowed   ...        Unmarried  Black  Female\n",
       "3   Private       7th-8th       Divorced   ...        Unmarried  White  Female\n",
       "4   Private  Some-college      Separated   ...        Own-child  White  Female\n",
       "\n",
       "[5 rows x 7 columns]"
      ]
     },
     "execution_count": 32,
     "metadata": {},
     "output_type": "execute_result"
    }
   ],
   "source": [
    "data.select_dtypes(exclude=[np.number]).head()"
   ]
  },
  {
   "cell_type": "code",
   "execution_count": 33,
   "metadata": {},
   "outputs": [],
   "source": [
    "#Replace all '?'s with NaNs.\n",
    "data = data.applymap(lambda x: np.nan if x=='?' else x)"
   ]
  },
  {
   "cell_type": "code",
   "execution_count": 34,
   "metadata": {},
   "outputs": [
    {
     "data": {
      "text/plain": [
       "age                  0\n",
       "workclass         1836\n",
       "fnlwgt               0\n",
       "education            0\n",
       "education.num        0\n",
       "marital.status       0\n",
       "occupation        1843\n",
       "relationship         0\n",
       "race                 0\n",
       "sex                  0\n",
       "capital.gain         0\n",
       "capital.loss         0\n",
       "hours.per.week       0\n",
       "native.country       0\n",
       "income               0\n",
       "dtype: int64"
      ]
     },
     "execution_count": 34,
     "metadata": {},
     "output_type": "execute_result"
    }
   ],
   "source": [
    "data.isnull().sum(axis=0) # How many issing values are there in the dataset?"
   ]
  },
  {
   "cell_type": "code",
   "execution_count": 35,
   "metadata": {},
   "outputs": [
    {
     "data": {
      "text/plain": [
       "1843"
      ]
     },
     "execution_count": 35,
     "metadata": {},
     "output_type": "execute_result"
    }
   ],
   "source": [
    "data.shape[0] - data.dropna(axis=0).shape[0]   # how many rows will be removed if I remove all the NaN's?"
   ]
  },
  {
   "cell_type": "code",
   "execution_count": 36,
   "metadata": {},
   "outputs": [],
   "source": [
    "data = data.dropna(axis=0) ## Drop all the NaNs"
   ]
  },
  {
   "cell_type": "code",
   "execution_count": 37,
   "metadata": {},
   "outputs": [],
   "source": [
    "#data.education.value_counts()  # I will label-encode the education column since it is an ordinal categorical variable"
   ]
  },
  {
   "cell_type": "code",
   "execution_count": 38,
   "metadata": {},
   "outputs": [],
   "source": [
    "## This computes the fraction of people by country who earn >50k per annum\n",
    "#mean_income_bycountry_df = data[['native.country','income']].groupby(['native.country']).mean().reset_index()"
   ]
  },
  {
   "cell_type": "code",
   "execution_count": 39,
   "metadata": {},
   "outputs": [],
   "source": [
    "#edu_encode_dict = {'Preschool':0,'1st-4th':1, '5th-6th':2, '7th-8th':3, '9th':4, '10th':5,\n",
    "#                  '11th':6, '12th':7, 'HS-grad':8, 'Some-college':9, 'Bachelors':10, 'Masters':11, 'Assoc-voc':12, \n",
    "#                   'Assoc-acdm':13, 'Doctorate':14, 'Prof-school':15}\n",
    "\n",
    "#data['education'] = data['education'].apply(lambda ed_level: edu_encode_dict[ed_level])"
   ]
  },
  {
   "cell_type": "markdown",
   "metadata": {},
   "source": [
    "### One-hot encoding of the categorical columns"
   ]
  },
  {
   "cell_type": "code",
   "execution_count": 40,
   "metadata": {},
   "outputs": [],
   "source": [
    "data = pd.get_dummies(data,columns=['workclass','sex', 'marital.status',\n",
    "                                    'race','relationship','occupation'],\n",
    "               prefix=['workclass', 'is', 'is', 'race_is', 'relation', 'is'], drop_first=True)\n",
    "### native country is ignored because that feature will be dropped later"
   ]
  },
  {
   "cell_type": "code",
   "execution_count": 41,
   "metadata": {},
   "outputs": [
    {
     "data": {
      "text/plain": [
       "<matplotlib.axes._subplots.AxesSubplot at 0x7efbe14fc588>"
      ]
     },
     "execution_count": 41,
     "metadata": {},
     "output_type": "execute_result"
    },
    {
     "data": {
      "image/png": "[encoded data removed]",
      "text/plain": [
       "<Figure size 1440x864 with 2 Axes>"
      ]
     },
     "metadata": {},
     "output_type": "display_data"
    }
   ],
   "source": [
    "plt.figure(figsize=(20,12))\n",
    "sns.heatmap(data.corr())"
   ]
  },
  {
   "cell_type": "code",
   "execution_count": 42,
   "metadata": {},
   "outputs": [
    {
     "data": {
      "text/plain": [
       "(30718, 1)"
      ]
     },
     "execution_count": 42,
     "metadata": {},
     "output_type": "execute_result"
    }
   ],
   "source": [
    "data.select_dtypes(exclude=[np.number]).shape"
   ]
  },
  {
   "cell_type": "code",
   "execution_count": 43,
   "metadata": {},
   "outputs": [
    {
     "data": {
      "text/html": [
       "<div>\n",
       "<style scoped>\n",
       "    .dataframe tbody tr th:only-of-type {\n",
       "        vertical-align: middle;\n",
       "    }\n",
       "\n",
       "    .dataframe tbody tr th {\n",
       "        vertical-align: top;\n",
       "    }\n",
       "\n",
       "    .dataframe thead th {\n",
       "        text-align: right;\n",
       "    }\n",
       "</style>\n",
       "<table border=\"1\" class=\"dataframe\">\n",
       "  <thead>\n",
       "    <tr style=\"text-align: right;\">\n",
       "      <th></th>\n",
       "      <th>age</th>\n",
       "      <th>fnlwgt</th>\n",
       "      <th>education.num</th>\n",
       "      <th>capital.gain</th>\n",
       "      <th>capital.loss</th>\n",
       "      <th>hours.per.week</th>\n",
       "      <th>native.country</th>\n",
       "      <th>workclass_Local-gov</th>\n",
       "      <th>workclass_Private</th>\n",
       "      <th>workclass_Self-emp-inc</th>\n",
       "      <th>workclass_Self-emp-not-inc</th>\n",
       "      <th>workclass_State-gov</th>\n",
       "      <th>workclass_Without-pay</th>\n",
       "      <th>is_Male</th>\n",
       "      <th>is_Married-AF-spouse</th>\n",
       "      <th>is_Married-civ-spouse</th>\n",
       "      <th>is_Married-spouse-absent</th>\n",
       "      <th>is_Never-married</th>\n",
       "      <th>is_Separated</th>\n",
       "      <th>is_Widowed</th>\n",
       "      <th>race_is_Asian-Pac-Islander</th>\n",
       "      <th>race_is_Black</th>\n",
       "      <th>race_is_Other</th>\n",
       "      <th>race_is_White</th>\n",
       "      <th>relation_Not-in-family</th>\n",
       "      <th>relation_Other-relative</th>\n",
       "      <th>relation_Own-child</th>\n",
       "      <th>relation_Unmarried</th>\n",
       "      <th>relation_Wife</th>\n",
       "      <th>is_Armed-Forces</th>\n",
       "      <th>is_Craft-repair</th>\n",
       "      <th>is_Exec-managerial</th>\n",
       "      <th>is_Farming-fishing</th>\n",
       "      <th>is_Handlers-cleaners</th>\n",
       "      <th>is_Machine-op-inspct</th>\n",
       "      <th>is_Other-service</th>\n",
       "      <th>is_Priv-house-serv</th>\n",
       "      <th>is_Prof-specialty</th>\n",
       "      <th>is_Protective-serv</th>\n",
       "      <th>is_Sales</th>\n",
       "      <th>is_Tech-support</th>\n",
       "      <th>is_Transport-moving</th>\n",
       "    </tr>\n",
       "    <tr>\n",
       "      <th>income</th>\n",
       "      <th></th>\n",
       "      <th></th>\n",
       "      <th></th>\n",
       "      <th></th>\n",
       "      <th></th>\n",
       "      <th></th>\n",
       "      <th></th>\n",
       "      <th></th>\n",
       "      <th></th>\n",
       "      <th></th>\n",
       "      <th></th>\n",
       "      <th></th>\n",
       "      <th></th>\n",
       "      <th></th>\n",
       "      <th></th>\n",
       "      <th></th>\n",
       "      <th></th>\n",
       "      <th></th>\n",
       "      <th></th>\n",
       "      <th></th>\n",
       "      <th></th>\n",
       "      <th></th>\n",
       "      <th></th>\n",
       "      <th></th>\n",
       "      <th></th>\n",
       "      <th></th>\n",
       "      <th></th>\n",
       "      <th></th>\n",
       "      <th></th>\n",
       "      <th></th>\n",
       "      <th></th>\n",
       "      <th></th>\n",
       "      <th></th>\n",
       "      <th></th>\n",
       "      <th></th>\n",
       "      <th></th>\n",
       "      <th></th>\n",
       "      <th></th>\n",
       "      <th></th>\n",
       "      <th></th>\n",
       "      <th></th>\n",
       "      <th></th>\n",
       "    </tr>\n",
       "  </thead>\n",
       "  <tbody>\n",
       "    <tr>\n",
       "      <th>0</th>\n",
       "      <td>36.612190</td>\n",
       "      <td>190419.176782</td>\n",
       "      <td>9.636509</td>\n",
       "      <td>148.055618</td>\n",
       "      <td>53.528524</td>\n",
       "      <td>39.371900</td>\n",
       "      <td>0.889067</td>\n",
       "      <td>0.063985</td>\n",
       "      <td>0.768727</td>\n",
       "      <td>0.021415</td>\n",
       "      <td>0.078767</td>\n",
       "      <td>0.040966</td>\n",
       "      <td>0.000607</td>\n",
       "      <td>0.618389</td>\n",
       "      <td>0.000477</td>\n",
       "      <td>0.338911</td>\n",
       "      <td>0.015433</td>\n",
       "      <td>0.408791</td>\n",
       "      <td>0.038712</td>\n",
       "      <td>0.032903</td>\n",
       "      <td>0.030475</td>\n",
       "      <td>0.109719</td>\n",
       "      <td>0.009754</td>\n",
       "      <td>0.839128</td>\n",
       "      <td>0.304621</td>\n",
       "      <td>0.038235</td>\n",
       "      <td>0.193298</td>\n",
       "      <td>0.132435</td>\n",
       "      <td>0.031646</td>\n",
       "      <td>0.000347</td>\n",
       "      <td>0.137420</td>\n",
       "      <td>0.090949</td>\n",
       "      <td>0.038105</td>\n",
       "      <td>0.055662</td>\n",
       "      <td>0.075949</td>\n",
       "      <td>0.136900</td>\n",
       "      <td>0.006416</td>\n",
       "      <td>0.098882</td>\n",
       "      <td>0.018987</td>\n",
       "      <td>0.115615</td>\n",
       "      <td>0.027961</td>\n",
       "      <td>0.055358</td>\n",
       "    </tr>\n",
       "    <tr>\n",
       "      <th>1</th>\n",
       "      <td>43.966013</td>\n",
       "      <td>188115.803660</td>\n",
       "      <td>11.619346</td>\n",
       "      <td>3994.758170</td>\n",
       "      <td>195.601046</td>\n",
       "      <td>45.705882</td>\n",
       "      <td>0.914379</td>\n",
       "      <td>0.080654</td>\n",
       "      <td>0.648758</td>\n",
       "      <td>0.081307</td>\n",
       "      <td>0.094641</td>\n",
       "      <td>0.046144</td>\n",
       "      <td>0.000000</td>\n",
       "      <td>0.852680</td>\n",
       "      <td>0.001307</td>\n",
       "      <td>0.852418</td>\n",
       "      <td>0.004314</td>\n",
       "      <td>0.063007</td>\n",
       "      <td>0.008627</td>\n",
       "      <td>0.010588</td>\n",
       "      <td>0.035425</td>\n",
       "      <td>0.049412</td>\n",
       "      <td>0.003007</td>\n",
       "      <td>0.907712</td>\n",
       "      <td>0.109542</td>\n",
       "      <td>0.004706</td>\n",
       "      <td>0.008627</td>\n",
       "      <td>0.028235</td>\n",
       "      <td>0.092157</td>\n",
       "      <td>0.000131</td>\n",
       "      <td>0.121438</td>\n",
       "      <td>0.257255</td>\n",
       "      <td>0.015033</td>\n",
       "      <td>0.011242</td>\n",
       "      <td>0.032680</td>\n",
       "      <td>0.017908</td>\n",
       "      <td>0.000131</td>\n",
       "      <td>0.243007</td>\n",
       "      <td>0.027582</td>\n",
       "      <td>0.128497</td>\n",
       "      <td>0.036993</td>\n",
       "      <td>0.041830</td>\n",
       "    </tr>\n",
       "  </tbody>\n",
       "</table>\n",
       "</div>"
      ],
      "text/plain": [
       "              age         ...           is_Transport-moving\n",
       "income                    ...                              \n",
       "0       36.612190         ...                      0.055358\n",
       "1       43.966013         ...                      0.041830\n",
       "\n",
       "[2 rows x 42 columns]"
      ]
     },
     "execution_count": 43,
     "metadata": {},
     "output_type": "execute_result"
    }
   ],
   "source": [
    "data.groupby('income').mean()"
   ]
  },
  {
   "cell_type": "code",
   "execution_count": 44,
   "metadata": {},
   "outputs": [
    {
     "data": {
      "text/plain": [
       "(30718, 44)"
      ]
     },
     "execution_count": 44,
     "metadata": {},
     "output_type": "execute_result"
    }
   ],
   "source": [
    "data.shape"
   ]
  },
  {
   "cell_type": "code",
   "execution_count": 45,
   "metadata": {},
   "outputs": [],
   "source": [
    "y = data.income\n",
    "X = data.drop(['income', 'education', 'native.country', 'fnlwgt'],axis=1)"
   ]
  },
  {
   "cell_type": "markdown",
   "metadata": {},
   "source": [
    "- `income` is dropped from X because it is the target variable.\n",
    "- `Education` is dropped because it is already label-encoded in `education.num`. One can notice the high correlation between `education` and `education.num` in the heatmap.\n",
    "- `native country` is dropped because it showed very little feature importance in random forest classifer.\n",
    "- `fnlwgt` is dropped because it has no correlation with `income`."
   ]
  },
  {
   "cell_type": "markdown",
   "metadata": {},
   "source": [
    "## Modelling\n",
    "This section explores different classification algorithms to maximise the accuracy for predicting income of a person (> 50k/yr or < 50k/yr)."
   ]
  },
  {
   "cell_type": "code",
   "execution_count": 46,
   "metadata": {},
   "outputs": [],
   "source": [
    "from sklearn.model_selection import train_test_split"
   ]
  },
  {
   "cell_type": "code",
   "execution_count": 47,
   "metadata": {},
   "outputs": [],
   "source": [
    "# Split the dataset into training and testing set\n",
    "X_train, X_test, y_train, y_test = train_test_split(X, y, test_size=0.3, random_state=42)"
   ]
  },
  {
   "cell_type": "code",
   "execution_count": 48,
   "metadata": {},
   "outputs": [],
   "source": [
    "from sklearn.ensemble import RandomForestClassifier\n",
    "from sklearn.ensemble import ExtraTreesClassifier\n",
    "from xgboost import XGBClassifier as xgb\n",
    "from sklearn import metrics"
   ]
  },
  {
   "cell_type": "markdown",
   "metadata": {},
   "source": [
    "### Baseline model\n",
    "In the baseline model, we predict the minority class for all our train and test (or validation) examples. The resulting accuracy will serve as a benchmark for the ML models. In other words, the sophisticated ML models should have an accuracy which should at least better the baseline one."
   ]
  },
  {
   "cell_type": "code",
   "execution_count": 49,
   "metadata": {},
   "outputs": [
    {
     "name": "stdout",
     "output_type": "stream",
     "text": [
      "Accuracy on train data: 0.750442%\n",
      "Accuracy on test data: 0.752170%\n"
     ]
    }
   ],
   "source": [
    "baseline_train = np.zeros(y_train.shape[0])\n",
    "baseline_test = np.zeros(y_test.shape[0])\n",
    "print('Accuracy on train data: %f%%' % (metrics.accuracy_score(y_train, baseline_train)))\n",
    "print('Accuracy on test data: %f%%' %  (metrics.accuracy_score(y_test, baseline_test)))"
   ]
  },
  {
   "cell_type": "markdown",
   "metadata": {},
   "source": [
    "### Random Forest classifier"
   ]
  },
  {
   "cell_type": "code",
   "execution_count": 50,
   "metadata": {},
   "outputs": [
    {
     "name": "stdout",
     "output_type": "stream",
     "text": [
      "RandomForestClassifier(bootstrap=True, class_weight=None, criterion='gini',\n",
      "            max_depth=10, max_features='auto', max_leaf_nodes=None,\n",
      "            min_impurity_decrease=0.0, min_impurity_split=None,\n",
      "            min_samples_leaf=1, min_samples_split=5,\n",
      "            min_weight_fraction_leaf=0.0, n_estimators=300, n_jobs=None,\n",
      "            oob_score=True, random_state=10, verbose=0, warm_start=False)\n"
     ]
    }
   ],
   "source": [
    "rfmodel = RandomForestClassifier(n_estimators=300,oob_score=True,min_samples_split=5,max_depth=10,random_state=10)\n",
    "rfmodel.fit(X_train,y_train)\n",
    "print(rfmodel)"
   ]
  },
  {
   "cell_type": "code",
   "execution_count": 51,
   "metadata": {},
   "outputs": [],
   "source": [
    "def show_classifier_metrics(clf, y_train=y_train,y_test=y_test, print_classification_report=True, print_confusion_matrix=True):\n",
    "    print(clf)\n",
    "    if print_confusion_matrix:\n",
    "        print('confusion matrix of training data')\n",
    "        print(metrics.confusion_matrix(y_train, clf.predict(X_train)))\n",
    "        print('confusion matrix of test data')\n",
    "        print(metrics.confusion_matrix(y_test, clf.predict(X_test)))\n",
    "    if print_classification_report:\n",
    "        print('classification report of test data')\n",
    "        print(metrics.classification_report(y_test, clf.predict(X_test)))\n",
    "    print('Accuracy on test data: %f%%' % (metrics.accuracy_score(y_test, clf.predict(X_test))*100))\n",
    "    print('Accuracy on training data: %f%%' % (metrics.accuracy_score(y_train, clf.predict(X_train))*100))\n",
    "    print('Area under the ROC curve : %f' % (metrics.roc_auc_score(y_test, clf.predict(X_test))))"
   ]
  },
  {
   "cell_type": "code",
   "execution_count": 52,
   "metadata": {},
   "outputs": [
    {
     "name": "stdout",
     "output_type": "stream",
     "text": [
      "RandomForestClassifier(bootstrap=True, class_weight=None, criterion='gini',\n",
      "            max_depth=10, max_features='auto', max_leaf_nodes=None,\n",
      "            min_impurity_decrease=0.0, min_impurity_split=None,\n",
      "            min_samples_leaf=1, min_samples_split=5,\n",
      "            min_weight_fraction_leaf=0.0, n_estimators=300, n_jobs=None,\n",
      "            oob_score=True, random_state=10, verbose=0, warm_start=False)\n",
      "confusion matrix of training data\n",
      "[[15456   680]\n",
      " [ 2246  3120]]\n",
      "confusion matrix of test data\n",
      "[[6641  291]\n",
      " [1046 1238]]\n",
      "classification report of test data\n",
      "              precision    recall  f1-score   support\n",
      "\n",
      "           0       0.86      0.96      0.91      6932\n",
      "           1       0.81      0.54      0.65      2284\n",
      "\n",
      "   micro avg       0.85      0.85      0.85      9216\n",
      "   macro avg       0.84      0.75      0.78      9216\n",
      "weighted avg       0.85      0.85      0.84      9216\n",
      "\n",
      "Accuracy on test data: 85.492622%\n",
      "Accuracy on training data: 86.391964%\n",
      "Area under the ROC curve : 0.750026\n",
      "oob score = 0.856711\n"
     ]
    }
   ],
   "source": [
    "show_classifier_metrics(rfmodel,y_train)\n",
    "print('oob score = %f'% rfmodel.oob_score_)"
   ]
  },
  {
   "cell_type": "code",
   "execution_count": 53,
   "metadata": {},
   "outputs": [
    {
     "data": {
      "image/png": "[encoded data removed]",
      "text/plain": [
       "<Figure size 1440x720 with 1 Axes>"
      ]
     },
     "metadata": {},
     "output_type": "display_data"
    }
   ],
   "source": [
    "importance_list = rfmodel.feature_importances_\n",
    "name_list = X_train.columns\n",
    "importance_list, name_list = zip(*sorted(zip(importance_list, name_list)))\n",
    "plt.figure(figsize=(20,10))\n",
    "plt.barh(range(len(name_list)),importance_list,align='center')\n",
    "plt.yticks(range(len(name_list)),name_list)\n",
    "plt.xlabel('Relative Importance in the Random Forest')\n",
    "plt.ylabel('Features')\n",
    "plt.title('Relative importance of Each Feature')\n",
    "plt.show()"
   ]
  },
  {
   "cell_type": "markdown",
   "metadata": {},
   "source": [
    "### Random forest: Grid Search and cross-validation"
   ]
  },
  {
   "cell_type": "code",
   "execution_count": 54,
   "metadata": {},
   "outputs": [],
   "source": [
    "from sklearn.model_selection import cross_val_score, GridSearchCV"
   ]
  },
  {
   "cell_type": "code",
   "execution_count": 55,
   "metadata": {},
   "outputs": [],
   "source": [
    "def grid_search(clf, parameters, X, y, n_jobs= -1, n_folds=4, score_func=None):\n",
    "    if score_func:\n",
    "        gs = GridSearchCV(clf, param_grid=parameters, cv=n_folds, n_jobs=n_jobs, scoring=score_func,verbose =2)\n",
    "    else:\n",
    "        print('Doing grid search')\n",
    "        gs = GridSearchCV(clf, param_grid=parameters, n_jobs=n_jobs, cv=n_folds, verbose =1)\n",
    "    gs.fit(X, y)\n",
    "    print(\"mean test score (weighted by split size) of CV rounds: \",gs.cv_results_['mean_test_score'] )\n",
    "    print (\"Best parameter set\", gs.best_params_, \"Corresponding mean CV score\",gs.best_score_)\n",
    "    best = gs.best_estimator_\n",
    "    return best"
   ]
  },
  {
   "cell_type": "code",
   "execution_count": 56,
   "metadata": {},
   "outputs": [
    {
     "name": "stdout",
     "output_type": "stream",
     "text": [
      "Doing grid search\n",
      "Fitting 4 folds for each of 12 candidates, totalling 48 fits\n"
     ]
    },
    {
     "name": "stderr",
     "output_type": "stream",
     "text": [
      "[Parallel(n_jobs=-1)]: Using backend LokyBackend with 4 concurrent workers.\n",
      "[Parallel(n_jobs=-1)]: Done  48 out of  48 | elapsed:  1.2min finished\n"
     ]
    },
    {
     "name": "stdout",
     "output_type": "stream",
     "text": [
      "mean test score (weighted by split size) of CV rounds:  [0.85610641 0.85582736 0.85601339 0.85805972 0.85768766 0.85754814\n",
      " 0.85810622 0.85838527 0.85833876 0.85912938 0.85912938 0.85982699]\n",
      "Best parameter set {'max_depth': 20, 'n_estimators': 300} Corresponding mean CV score 0.8598269928378756\n"
     ]
    }
   ],
   "source": [
    "rfmodel2 = RandomForestClassifier(min_samples_split=5,oob_score=True, n_jobs=-1,random_state=10)\n",
    "parameters = {'n_estimators': [100,200,300], 'max_depth': [10,13,15,20]}\n",
    "rfmodelCV = grid_search(rfmodel2, parameters,X_train,y_train)"
   ]
  },
  {
   "cell_type": "code",
   "execution_count": 57,
   "metadata": {},
   "outputs": [
    {
     "name": "stdout",
     "output_type": "stream",
     "text": [
      "RandomForestClassifier(bootstrap=True, class_weight=None, criterion='gini',\n",
      "            max_depth=20, max_features='auto', max_leaf_nodes=None,\n",
      "            min_impurity_decrease=0.0, min_impurity_split=None,\n",
      "            min_samples_leaf=1, min_samples_split=5,\n",
      "            min_weight_fraction_leaf=0.0, n_estimators=300, n_jobs=-1,\n",
      "            oob_score=True, random_state=10, verbose=0, warm_start=False)\n",
      "confusion matrix of training data\n",
      "[[15613   523]\n",
      " [ 1483  3883]]\n",
      "confusion matrix of test data\n",
      "[[6557  375]\n",
      " [ 921 1363]]\n",
      "classification report of test data\n",
      "              precision    recall  f1-score   support\n",
      "\n",
      "           0       0.88      0.95      0.91      6932\n",
      "           1       0.78      0.60      0.68      2284\n",
      "\n",
      "   micro avg       0.86      0.86      0.86      9216\n",
      "   macro avg       0.83      0.77      0.79      9216\n",
      "weighted avg       0.85      0.86      0.85      9216\n",
      "\n",
      "Accuracy on test data: 85.937500%\n",
      "Accuracy on training data: 90.670635%\n",
      "Area under the ROC curve : 0.771332\n",
      "oob score = 0.860385\n"
     ]
    }
   ],
   "source": [
    "rfmodelCV.fit(X_train,y_train)\n",
    "show_classifier_metrics(rfmodelCV,y_train)\n",
    "print('oob score = %f'% rfmodelCV.oob_score_)"
   ]
  },
  {
   "cell_type": "markdown",
   "metadata": {},
   "source": [
    "## XGBoost "
   ]
  },
  {
   "cell_type": "code",
   "execution_count": 58,
   "metadata": {},
   "outputs": [],
   "source": [
    "from xgboost.sklearn import XGBClassifier"
   ]
  },
  {
   "cell_type": "code",
   "execution_count": 59,
   "metadata": {},
   "outputs": [
    {
     "name": "stdout",
     "output_type": "stream",
     "text": [
      "[0]\tvalidation_0-error:0.149707\tvalidation_1-error:0.152561\n",
      "Multiple eval metrics have been passed: 'validation_1-error' will be used for early stopping.\n",
      "\n",
      "Will train until validation_1-error hasn't improved in 40 rounds.\n",
      "[1]\tvalidation_0-error:0.147614\tvalidation_1-error:0.149089\n",
      "[2]\tvalidation_0-error:0.148033\tvalidation_1-error:0.148655\n",
      "[3]\tvalidation_0-error:0.147614\tvalidation_1-error:0.149197\n",
      "[4]\tvalidation_0-error:0.150219\tvalidation_1-error:0.151584\n",
      "[5]\tvalidation_0-error:0.148916\tvalidation_1-error:0.151476\n",
      "[6]\tvalidation_0-error:0.149009\tvalidation_1-error:0.15115\n",
      "[7]\tvalidation_0-error:0.149474\tvalidation_1-error:0.151042\n",
      "[8]\tvalidation_0-error:0.147986\tvalidation_1-error:0.149957\n",
      "[9]\tvalidation_0-error:0.148079\tvalidation_1-error:0.150065\n",
      "[10]\tvalidation_0-error:0.147382\tvalidation_1-error:0.149631\n",
      "[11]\tvalidation_0-error:0.147196\tvalidation_1-error:0.149957\n",
      "[12]\tvalidation_0-error:0.147149\tvalidation_1-error:0.149523\n",
      "[13]\tvalidation_0-error:0.146172\tvalidation_1-error:0.148763\n",
      "[14]\tvalidation_0-error:0.146172\tvalidation_1-error:0.148546\n",
      "[15]\tvalidation_0-error:0.145335\tvalidation_1-error:0.148438\n",
      "[16]\tvalidation_0-error:0.143196\tvalidation_1-error:0.146918\n",
      "[17]\tvalidation_0-error:0.14287\tvalidation_1-error:0.146593\n",
      "[18]\tvalidation_0-error:0.142917\tvalidation_1-error:0.147135\n",
      "[19]\tvalidation_0-error:0.142917\tvalidation_1-error:0.147244\n",
      "[20]\tvalidation_0-error:0.143056\tvalidation_1-error:0.147027\n",
      "[21]\tvalidation_0-error:0.142824\tvalidation_1-error:0.14681\n",
      "[22]\tvalidation_0-error:0.14208\tvalidation_1-error:0.147135\n",
      "[23]\tvalidation_0-error:0.141847\tvalidation_1-error:0.146701\n",
      "[24]\tvalidation_0-error:0.141661\tvalidation_1-error:0.146376\n",
      "[25]\tvalidation_0-error:0.141057\tvalidation_1-error:0.145616\n",
      "[26]\tvalidation_0-error:0.140917\tvalidation_1-error:0.145399\n",
      "[27]\tvalidation_0-error:0.140964\tvalidation_1-error:0.144965\n",
      "[28]\tvalidation_0-error:0.140964\tvalidation_1-error:0.144857\n",
      "[29]\tvalidation_0-error:0.140871\tvalidation_1-error:0.144965\n",
      "[30]\tvalidation_0-error:0.140638\tvalidation_1-error:0.144857\n",
      "[31]\tvalidation_0-error:0.140033\tvalidation_1-error:0.144965\n",
      "[32]\tvalidation_0-error:0.14008\tvalidation_1-error:0.144748\n",
      "[33]\tvalidation_0-error:0.139429\tvalidation_1-error:0.144748\n",
      "[34]\tvalidation_0-error:0.139336\tvalidation_1-error:0.144748\n",
      "[35]\tvalidation_0-error:0.139336\tvalidation_1-error:0.144531\n",
      "[36]\tvalidation_0-error:0.138313\tvalidation_1-error:0.143989\n",
      "[37]\tvalidation_0-error:0.138313\tvalidation_1-error:0.143772\n",
      "[38]\tvalidation_0-error:0.137894\tvalidation_1-error:0.143446\n",
      "[39]\tvalidation_0-error:0.137569\tvalidation_1-error:0.143555\n",
      "[40]\tvalidation_0-error:0.13729\tvalidation_1-error:0.143663\n",
      "[41]\tvalidation_0-error:0.136871\tvalidation_1-error:0.143663\n",
      "[42]\tvalidation_0-error:0.136685\tvalidation_1-error:0.143229\n",
      "[43]\tvalidation_0-error:0.136173\tvalidation_1-error:0.143446\n",
      "[44]\tvalidation_0-error:0.135941\tvalidation_1-error:0.143012\n",
      "[45]\tvalidation_0-error:0.135615\tvalidation_1-error:0.143229\n",
      "[46]\tvalidation_0-error:0.135197\tvalidation_1-error:0.142361\n",
      "[47]\tvalidation_0-error:0.134871\tvalidation_1-error:0.142036\n",
      "[48]\tvalidation_0-error:0.134127\tvalidation_1-error:0.141602\n",
      "[49]\tvalidation_0-error:0.133895\tvalidation_1-error:0.141493\n",
      "[50]\tvalidation_0-error:0.133522\tvalidation_1-error:0.141168\n",
      "[51]\tvalidation_0-error:0.133615\tvalidation_1-error:0.141385\n",
      "[52]\tvalidation_0-error:0.133243\tvalidation_1-error:0.139974\n",
      "[53]\tvalidation_0-error:0.132639\tvalidation_1-error:0.13878\n",
      "[54]\tvalidation_0-error:0.132499\tvalidation_1-error:0.138672\n",
      "[55]\tvalidation_0-error:0.132313\tvalidation_1-error:0.138997\n",
      "[56]\tvalidation_0-error:0.131755\tvalidation_1-error:0.13878\n",
      "[57]\tvalidation_0-error:0.131662\tvalidation_1-error:0.138563\n",
      "[58]\tvalidation_0-error:0.131709\tvalidation_1-error:0.138672\n",
      "[59]\tvalidation_0-error:0.131616\tvalidation_1-error:0.13878\n",
      "[60]\tvalidation_0-error:0.131383\tvalidation_1-error:0.137695\n",
      "[61]\tvalidation_0-error:0.130965\tvalidation_1-error:0.137261\n",
      "[62]\tvalidation_0-error:0.130639\tvalidation_1-error:0.136502\n",
      "[63]\tvalidation_0-error:0.130081\tvalidation_1-error:0.136285\n",
      "[64]\tvalidation_0-error:0.129848\tvalidation_1-error:0.136502\n",
      "[65]\tvalidation_0-error:0.129755\tvalidation_1-error:0.135308\n",
      "[66]\tvalidation_0-error:0.129569\tvalidation_1-error:0.135091\n",
      "[67]\tvalidation_0-error:0.129337\tvalidation_1-error:0.134657\n",
      "[68]\tvalidation_0-error:0.129616\tvalidation_1-error:0.1352\n",
      "[69]\tvalidation_0-error:0.129197\tvalidation_1-error:0.135742\n",
      "[70]\tvalidation_0-error:0.129151\tvalidation_1-error:0.135525\n",
      "[71]\tvalidation_0-error:0.12929\tvalidation_1-error:0.134874\n",
      "[72]\tvalidation_0-error:0.129011\tvalidation_1-error:0.135525\n",
      "[73]\tvalidation_0-error:0.12836\tvalidation_1-error:0.1352\n",
      "[74]\tvalidation_0-error:0.128314\tvalidation_1-error:0.135308\n",
      "[75]\tvalidation_0-error:0.128128\tvalidation_1-error:0.135525\n",
      "[76]\tvalidation_0-error:0.128267\tvalidation_1-error:0.135417\n",
      "[77]\tvalidation_0-error:0.127802\tvalidation_1-error:0.135308\n",
      "[78]\tvalidation_0-error:0.127802\tvalidation_1-error:0.134874\n",
      "[79]\tvalidation_0-error:0.127523\tvalidation_1-error:0.134983\n",
      "[80]\tvalidation_0-error:0.127477\tvalidation_1-error:0.135091\n",
      "[81]\tvalidation_0-error:0.127197\tvalidation_1-error:0.134874\n",
      "[82]\tvalidation_0-error:0.126825\tvalidation_1-error:0.134549\n",
      "[83]\tvalidation_0-error:0.126918\tvalidation_1-error:0.135091\n",
      "[84]\tvalidation_0-error:0.126965\tvalidation_1-error:0.134766\n",
      "[85]\tvalidation_0-error:0.127011\tvalidation_1-error:0.134223\n",
      "[86]\tvalidation_0-error:0.127197\tvalidation_1-error:0.134115\n",
      "[87]\tvalidation_0-error:0.127151\tvalidation_1-error:0.134006\n",
      "[88]\tvalidation_0-error:0.127011\tvalidation_1-error:0.133681\n",
      "[89]\tvalidation_0-error:0.127011\tvalidation_1-error:0.133681\n",
      "[90]\tvalidation_0-error:0.126825\tvalidation_1-error:0.134223\n",
      "[91]\tvalidation_0-error:0.126407\tvalidation_1-error:0.134006\n",
      "[92]\tvalidation_0-error:0.126081\tvalidation_1-error:0.133898\n",
      "[93]\tvalidation_0-error:0.125988\tvalidation_1-error:0.133464\n",
      "[94]\tvalidation_0-error:0.125942\tvalidation_1-error:0.133681\n",
      "[95]\tvalidation_0-error:0.125849\tvalidation_1-error:0.133681\n",
      "[96]\tvalidation_0-error:0.125709\tvalidation_1-error:0.134115\n",
      "[97]\tvalidation_0-error:0.12543\tvalidation_1-error:0.133572\n",
      "[98]\tvalidation_0-error:0.125384\tvalidation_1-error:0.133464\n",
      "[99]\tvalidation_0-error:0.125244\tvalidation_1-error:0.133572\n",
      "[100]\tvalidation_0-error:0.1245\tvalidation_1-error:0.133789\n",
      "[101]\tvalidation_0-error:0.124361\tvalidation_1-error:0.133681\n",
      "[102]\tvalidation_0-error:0.124454\tvalidation_1-error:0.133355\n",
      "[103]\tvalidation_0-error:0.123709\tvalidation_1-error:0.132487\n",
      "[104]\tvalidation_0-error:0.123709\tvalidation_1-error:0.132595\n",
      "[105]\tvalidation_0-error:0.123523\tvalidation_1-error:0.132378\n",
      "[106]\tvalidation_0-error:0.123616\tvalidation_1-error:0.132595\n",
      "[107]\tvalidation_0-error:0.12357\tvalidation_1-error:0.132487\n",
      "[108]\tvalidation_0-error:0.123663\tvalidation_1-error:0.132053\n",
      "[109]\tvalidation_0-error:0.12357\tvalidation_1-error:0.132161\n",
      "[110]\tvalidation_0-error:0.123523\tvalidation_1-error:0.132053\n",
      "[111]\tvalidation_0-error:0.123523\tvalidation_1-error:0.131836\n",
      "[112]\tvalidation_0-error:0.123384\tvalidation_1-error:0.131836\n",
      "[113]\tvalidation_0-error:0.123337\tvalidation_1-error:0.131727\n",
      "[114]\tvalidation_0-error:0.123291\tvalidation_1-error:0.13151\n",
      "[115]\tvalidation_0-error:0.123291\tvalidation_1-error:0.13151\n",
      "[116]\tvalidation_0-error:0.123244\tvalidation_1-error:0.131293\n",
      "[117]\tvalidation_0-error:0.123105\tvalidation_1-error:0.131293\n",
      "[118]\tvalidation_0-error:0.123058\tvalidation_1-error:0.131185\n",
      "[119]\tvalidation_0-error:0.123151\tvalidation_1-error:0.131836\n",
      "[120]\tvalidation_0-error:0.122826\tvalidation_1-error:0.131293\n",
      "[121]\tvalidation_0-error:0.122826\tvalidation_1-error:0.131293\n",
      "[122]\tvalidation_0-error:0.122593\tvalidation_1-error:0.131076\n",
      "[123]\tvalidation_0-error:0.122361\tvalidation_1-error:0.130968\n",
      "[124]\tvalidation_0-error:0.122268\tvalidation_1-error:0.131185\n",
      "[125]\tvalidation_0-error:0.122035\tvalidation_1-error:0.131402\n",
      "[126]\tvalidation_0-error:0.122128\tvalidation_1-error:0.13151\n",
      "[127]\tvalidation_0-error:0.122082\tvalidation_1-error:0.131402\n",
      "[128]\tvalidation_0-error:0.121896\tvalidation_1-error:0.131293\n",
      "[129]\tvalidation_0-error:0.121756\tvalidation_1-error:0.130968\n",
      "[130]\tvalidation_0-error:0.121989\tvalidation_1-error:0.130751\n",
      "[131]\tvalidation_0-error:0.121663\tvalidation_1-error:0.130534\n",
      "[132]\tvalidation_0-error:0.121384\tvalidation_1-error:0.130751\n",
      "[133]\tvalidation_0-error:0.121477\tvalidation_1-error:0.130751\n",
      "[134]\tvalidation_0-error:0.121431\tvalidation_1-error:0.130642\n",
      "[135]\tvalidation_0-error:0.121338\tvalidation_1-error:0.130208\n",
      "[136]\tvalidation_0-error:0.121012\tvalidation_1-error:0.1301\n",
      "[137]\tvalidation_0-error:0.121198\tvalidation_1-error:0.130751\n",
      "[138]\tvalidation_0-error:0.121105\tvalidation_1-error:0.130534\n",
      "[139]\tvalidation_0-error:0.121152\tvalidation_1-error:0.130968\n",
      "[140]\tvalidation_0-error:0.121012\tvalidation_1-error:0.130534\n",
      "[141]\tvalidation_0-error:0.121012\tvalidation_1-error:0.130534\n",
      "[142]\tvalidation_0-error:0.120919\tvalidation_1-error:0.130859\n",
      "[143]\tvalidation_0-error:0.120779\tvalidation_1-error:0.130859\n",
      "[144]\tvalidation_0-error:0.120686\tvalidation_1-error:0.131076\n",
      "[145]\tvalidation_0-error:0.120733\tvalidation_1-error:0.130968\n",
      "[146]\tvalidation_0-error:0.120826\tvalidation_1-error:0.130642\n",
      "[147]\tvalidation_0-error:0.121059\tvalidation_1-error:0.130859\n",
      "[148]\tvalidation_0-error:0.12064\tvalidation_1-error:0.130968\n",
      "[149]\tvalidation_0-error:0.120826\tvalidation_1-error:0.130751\n",
      "[150]\tvalidation_0-error:0.12064\tvalidation_1-error:0.130859\n",
      "[151]\tvalidation_0-error:0.12064\tvalidation_1-error:0.131076\n",
      "[152]\tvalidation_0-error:0.120593\tvalidation_1-error:0.130968\n",
      "[153]\tvalidation_0-error:0.120593\tvalidation_1-error:0.130968\n",
      "[154]\tvalidation_0-error:0.12064\tvalidation_1-error:0.131076\n",
      "[155]\tvalidation_0-error:0.120593\tvalidation_1-error:0.130968\n",
      "[156]\tvalidation_0-error:0.12064\tvalidation_1-error:0.130859\n",
      "[157]\tvalidation_0-error:0.12064\tvalidation_1-error:0.131076\n",
      "[158]\tvalidation_0-error:0.1205\tvalidation_1-error:0.131619\n",
      "[159]\tvalidation_0-error:0.120593\tvalidation_1-error:0.131293\n",
      "[160]\tvalidation_0-error:0.120221\tvalidation_1-error:0.131293\n",
      "[161]\tvalidation_0-error:0.120035\tvalidation_1-error:0.13151\n",
      "[162]\tvalidation_0-error:0.120128\tvalidation_1-error:0.131402\n",
      "[163]\tvalidation_0-error:0.119989\tvalidation_1-error:0.131293\n",
      "[164]\tvalidation_0-error:0.11971\tvalidation_1-error:0.131185\n",
      "[165]\tvalidation_0-error:0.11971\tvalidation_1-error:0.131185\n",
      "[166]\tvalidation_0-error:0.119431\tvalidation_1-error:0.130859\n",
      "[167]\tvalidation_0-error:0.119663\tvalidation_1-error:0.131076\n",
      "[168]\tvalidation_0-error:0.119617\tvalidation_1-error:0.131619\n",
      "[169]\tvalidation_0-error:0.119756\tvalidation_1-error:0.131727\n",
      "[170]\tvalidation_0-error:0.11957\tvalidation_1-error:0.131402\n",
      "[171]\tvalidation_0-error:0.119477\tvalidation_1-error:0.131185\n",
      "[172]\tvalidation_0-error:0.119524\tvalidation_1-error:0.131293\n",
      "[173]\tvalidation_0-error:0.119524\tvalidation_1-error:0.130642\n",
      "[174]\tvalidation_0-error:0.119384\tvalidation_1-error:0.130642\n",
      "[175]\tvalidation_0-error:0.119105\tvalidation_1-error:0.130751\n",
      "[176]\tvalidation_0-error:0.118873\tvalidation_1-error:0.129991\n",
      "[177]\tvalidation_0-error:0.11878\tvalidation_1-error:0.1301\n",
      "[178]\tvalidation_0-error:0.11878\tvalidation_1-error:0.1301\n",
      "[179]\tvalidation_0-error:0.118687\tvalidation_1-error:0.130208\n",
      "[180]\tvalidation_0-error:0.11864\tvalidation_1-error:0.130208\n",
      "[181]\tvalidation_0-error:0.11864\tvalidation_1-error:0.130208\n",
      "[182]\tvalidation_0-error:0.118687\tvalidation_1-error:0.130317\n",
      "[183]\tvalidation_0-error:0.118501\tvalidation_1-error:0.130534\n",
      "[184]\tvalidation_0-error:0.118408\tvalidation_1-error:0.130534\n",
      "[185]\tvalidation_0-error:0.118361\tvalidation_1-error:0.130642\n",
      "[186]\tvalidation_0-error:0.118315\tvalidation_1-error:0.130642\n",
      "[187]\tvalidation_0-error:0.118129\tvalidation_1-error:0.130534\n",
      "[188]\tvalidation_0-error:0.118315\tvalidation_1-error:0.130425\n",
      "[189]\tvalidation_0-error:0.118129\tvalidation_1-error:0.130208\n",
      "[190]\tvalidation_0-error:0.118036\tvalidation_1-error:0.1301\n",
      "[191]\tvalidation_0-error:0.117989\tvalidation_1-error:0.129991\n",
      "[192]\tvalidation_0-error:0.117896\tvalidation_1-error:0.130425\n",
      "[193]\tvalidation_0-error:0.118129\tvalidation_1-error:0.130317\n",
      "[194]\tvalidation_0-error:0.118036\tvalidation_1-error:0.130317\n",
      "[195]\tvalidation_0-error:0.117943\tvalidation_1-error:0.1301\n",
      "[196]\tvalidation_0-error:0.117896\tvalidation_1-error:0.129883\n",
      "[197]\tvalidation_0-error:0.117896\tvalidation_1-error:0.129774\n",
      "[198]\tvalidation_0-error:0.117756\tvalidation_1-error:0.129883\n",
      "[199]\tvalidation_0-error:0.117756\tvalidation_1-error:0.129883\n",
      "[200]\tvalidation_0-error:0.117663\tvalidation_1-error:0.1301\n",
      "[201]\tvalidation_0-error:0.117524\tvalidation_1-error:0.129557\n",
      "[202]\tvalidation_0-error:0.117431\tvalidation_1-error:0.129666\n",
      "[203]\tvalidation_0-error:0.117431\tvalidation_1-error:0.12934\n",
      "[204]\tvalidation_0-error:0.117105\tvalidation_1-error:0.129774\n",
      "[205]\tvalidation_0-error:0.117105\tvalidation_1-error:0.129883\n",
      "[206]\tvalidation_0-error:0.117105\tvalidation_1-error:0.129557\n",
      "[207]\tvalidation_0-error:0.116966\tvalidation_1-error:0.129557\n",
      "[208]\tvalidation_0-error:0.116919\tvalidation_1-error:0.129449\n",
      "[209]\tvalidation_0-error:0.11678\tvalidation_1-error:0.129666\n",
      "[210]\tvalidation_0-error:0.11678\tvalidation_1-error:0.129449\n",
      "[211]\tvalidation_0-error:0.116408\tvalidation_1-error:0.129666\n",
      "[212]\tvalidation_0-error:0.116454\tvalidation_1-error:0.129666\n",
      "[213]\tvalidation_0-error:0.116222\tvalidation_1-error:0.129557\n",
      "[214]\tvalidation_0-error:0.116315\tvalidation_1-error:0.12934\n",
      "[215]\tvalidation_0-error:0.116361\tvalidation_1-error:0.129557\n",
      "[216]\tvalidation_0-error:0.116454\tvalidation_1-error:0.12934\n",
      "[217]\tvalidation_0-error:0.116454\tvalidation_1-error:0.129449\n",
      "[218]\tvalidation_0-error:0.116408\tvalidation_1-error:0.129449\n",
      "[219]\tvalidation_0-error:0.116129\tvalidation_1-error:0.129449\n",
      "[220]\tvalidation_0-error:0.116036\tvalidation_1-error:0.129557\n",
      "[221]\tvalidation_0-error:0.116036\tvalidation_1-error:0.129449\n",
      "[222]\tvalidation_0-error:0.115989\tvalidation_1-error:0.129015\n",
      "[223]\tvalidation_0-error:0.116036\tvalidation_1-error:0.129232\n",
      "[224]\tvalidation_0-error:0.115989\tvalidation_1-error:0.128906\n",
      "[225]\tvalidation_0-error:0.115617\tvalidation_1-error:0.129991\n",
      "[226]\tvalidation_0-error:0.115478\tvalidation_1-error:0.129991\n",
      "[227]\tvalidation_0-error:0.115524\tvalidation_1-error:0.129449\n",
      "[228]\tvalidation_0-error:0.115338\tvalidation_1-error:0.129232\n",
      "[229]\tvalidation_0-error:0.115245\tvalidation_1-error:0.129774\n",
      "[230]\tvalidation_0-error:0.115431\tvalidation_1-error:0.129666\n",
      "[231]\tvalidation_0-error:0.115385\tvalidation_1-error:0.129774\n",
      "[232]\tvalidation_0-error:0.115338\tvalidation_1-error:0.129883\n",
      "[233]\tvalidation_0-error:0.115199\tvalidation_1-error:0.130208\n",
      "[234]\tvalidation_0-error:0.115385\tvalidation_1-error:0.130425\n",
      "[235]\tvalidation_0-error:0.115431\tvalidation_1-error:0.129666\n",
      "[236]\tvalidation_0-error:0.115152\tvalidation_1-error:0.129774\n",
      "[237]\tvalidation_0-error:0.115106\tvalidation_1-error:0.129557\n",
      "[238]\tvalidation_0-error:0.115152\tvalidation_1-error:0.129991\n",
      "[239]\tvalidation_0-error:0.115292\tvalidation_1-error:0.130208\n",
      "[240]\tvalidation_0-error:0.115338\tvalidation_1-error:0.129991\n",
      "[241]\tvalidation_0-error:0.115106\tvalidation_1-error:0.1301\n",
      "[242]\tvalidation_0-error:0.115152\tvalidation_1-error:0.129774\n",
      "[243]\tvalidation_0-error:0.114966\tvalidation_1-error:0.129232\n",
      "[244]\tvalidation_0-error:0.114873\tvalidation_1-error:0.12934\n",
      "[245]\tvalidation_0-error:0.114873\tvalidation_1-error:0.129449\n",
      "[246]\tvalidation_0-error:0.114966\tvalidation_1-error:0.129557\n",
      "[247]\tvalidation_0-error:0.115013\tvalidation_1-error:0.12934\n",
      "[248]\tvalidation_0-error:0.11492\tvalidation_1-error:0.12934\n",
      "[249]\tvalidation_0-error:0.114873\tvalidation_1-error:0.129123\n",
      "[250]\tvalidation_0-error:0.11478\tvalidation_1-error:0.129015\n",
      "[251]\tvalidation_0-error:0.114501\tvalidation_1-error:0.128906\n",
      "[252]\tvalidation_0-error:0.114501\tvalidation_1-error:0.129123\n",
      "[253]\tvalidation_0-error:0.114501\tvalidation_1-error:0.129015\n",
      "[254]\tvalidation_0-error:0.114454\tvalidation_1-error:0.129232\n",
      "[255]\tvalidation_0-error:0.114501\tvalidation_1-error:0.129232\n",
      "[256]\tvalidation_0-error:0.114501\tvalidation_1-error:0.129123\n",
      "[257]\tvalidation_0-error:0.114036\tvalidation_1-error:0.129015\n",
      "[258]\tvalidation_0-error:0.11371\tvalidation_1-error:0.128689\n",
      "[259]\tvalidation_0-error:0.113757\tvalidation_1-error:0.128364\n",
      "[260]\tvalidation_0-error:0.113617\tvalidation_1-error:0.128581\n",
      "[261]\tvalidation_0-error:0.11371\tvalidation_1-error:0.128472\n",
      "[262]\tvalidation_0-error:0.113571\tvalidation_1-error:0.128581\n",
      "[263]\tvalidation_0-error:0.113571\tvalidation_1-error:0.128364\n",
      "[264]\tvalidation_0-error:0.113385\tvalidation_1-error:0.128581\n",
      "[265]\tvalidation_0-error:0.113245\tvalidation_1-error:0.128581\n",
      "[266]\tvalidation_0-error:0.113292\tvalidation_1-error:0.128472\n",
      "[267]\tvalidation_0-error:0.113199\tvalidation_1-error:0.129015\n",
      "[268]\tvalidation_0-error:0.113106\tvalidation_1-error:0.128689\n",
      "[269]\tvalidation_0-error:0.113059\tvalidation_1-error:0.128798\n",
      "[270]\tvalidation_0-error:0.113106\tvalidation_1-error:0.128906\n",
      "[271]\tvalidation_0-error:0.11292\tvalidation_1-error:0.128906\n",
      "[272]\tvalidation_0-error:0.112966\tvalidation_1-error:0.128798\n",
      "[273]\tvalidation_0-error:0.112966\tvalidation_1-error:0.128689\n",
      "[274]\tvalidation_0-error:0.112873\tvalidation_1-error:0.128581\n",
      "[275]\tvalidation_0-error:0.11292\tvalidation_1-error:0.128472\n",
      "[276]\tvalidation_0-error:0.112873\tvalidation_1-error:0.128581\n",
      "[277]\tvalidation_0-error:0.11292\tvalidation_1-error:0.128472\n",
      "[278]\tvalidation_0-error:0.112873\tvalidation_1-error:0.128581\n",
      "[279]\tvalidation_0-error:0.112966\tvalidation_1-error:0.128472\n",
      "[280]\tvalidation_0-error:0.112641\tvalidation_1-error:0.128472\n",
      "[281]\tvalidation_0-error:0.112501\tvalidation_1-error:0.128472\n",
      "[282]\tvalidation_0-error:0.112501\tvalidation_1-error:0.128581\n",
      "[283]\tvalidation_0-error:0.112408\tvalidation_1-error:0.128364\n",
      "[284]\tvalidation_0-error:0.112501\tvalidation_1-error:0.128147\n",
      "[285]\tvalidation_0-error:0.112455\tvalidation_1-error:0.12793\n",
      "[286]\tvalidation_0-error:0.112455\tvalidation_1-error:0.12793\n",
      "[287]\tvalidation_0-error:0.112315\tvalidation_1-error:0.128038\n",
      "[288]\tvalidation_0-error:0.112222\tvalidation_1-error:0.128689\n",
      "[289]\tvalidation_0-error:0.112269\tvalidation_1-error:0.128689\n",
      "[290]\tvalidation_0-error:0.112083\tvalidation_1-error:0.128364\n",
      "[291]\tvalidation_0-error:0.112222\tvalidation_1-error:0.128581\n",
      "[292]\tvalidation_0-error:0.111804\tvalidation_1-error:0.128581\n",
      "[293]\tvalidation_0-error:0.111664\tvalidation_1-error:0.128689\n",
      "[294]\tvalidation_0-error:0.111664\tvalidation_1-error:0.128689\n",
      "[295]\tvalidation_0-error:0.111757\tvalidation_1-error:0.128472\n",
      "[296]\tvalidation_0-error:0.111804\tvalidation_1-error:0.128798\n",
      "[297]\tvalidation_0-error:0.111618\tvalidation_1-error:0.128798\n",
      "[298]\tvalidation_0-error:0.111525\tvalidation_1-error:0.128906\n",
      "[299]\tvalidation_0-error:0.111478\tvalidation_1-error:0.129015\n",
      "[300]\tvalidation_0-error:0.111431\tvalidation_1-error:0.129232\n",
      "[301]\tvalidation_0-error:0.111385\tvalidation_1-error:0.12934\n",
      "[302]\tvalidation_0-error:0.111338\tvalidation_1-error:0.129232\n",
      "[303]\tvalidation_0-error:0.111525\tvalidation_1-error:0.129123\n",
      "[304]\tvalidation_0-error:0.111338\tvalidation_1-error:0.128906\n",
      "[305]\tvalidation_0-error:0.111199\tvalidation_1-error:0.129015\n",
      "[306]\tvalidation_0-error:0.111059\tvalidation_1-error:0.129557\n",
      "[307]\tvalidation_0-error:0.11092\tvalidation_1-error:0.129449\n",
      "[308]\tvalidation_0-error:0.110827\tvalidation_1-error:0.129449\n",
      "[309]\tvalidation_0-error:0.110315\tvalidation_1-error:0.129015\n",
      "[310]\tvalidation_0-error:0.110176\tvalidation_1-error:0.128581\n",
      "[311]\tvalidation_0-error:0.110176\tvalidation_1-error:0.128689\n",
      "[312]\tvalidation_0-error:0.110036\tvalidation_1-error:0.129015\n",
      "[313]\tvalidation_0-error:0.110083\tvalidation_1-error:0.129123\n",
      "[314]\tvalidation_0-error:0.110129\tvalidation_1-error:0.129123\n",
      "[315]\tvalidation_0-error:0.109897\tvalidation_1-error:0.129449\n",
      "[316]\tvalidation_0-error:0.110222\tvalidation_1-error:0.129449\n",
      "[317]\tvalidation_0-error:0.110222\tvalidation_1-error:0.129449\n",
      "[318]\tvalidation_0-error:0.110176\tvalidation_1-error:0.129449\n",
      "[319]\tvalidation_0-error:0.110129\tvalidation_1-error:0.129449\n",
      "[320]\tvalidation_0-error:0.110176\tvalidation_1-error:0.129666\n",
      "[321]\tvalidation_0-error:0.10999\tvalidation_1-error:0.129557\n",
      "[322]\tvalidation_0-error:0.10985\tvalidation_1-error:0.12934\n",
      "[323]\tvalidation_0-error:0.109804\tvalidation_1-error:0.129557\n",
      "[324]\tvalidation_0-error:0.110036\tvalidation_1-error:0.129449\n",
      "[325]\tvalidation_0-error:0.110129\tvalidation_1-error:0.129449\n",
      "Stopping. Best iteration:\n",
      "[285]\tvalidation_0-error:0.112455\tvalidation_1-error:0.12793\n",
      "\n"
     ]
    },
    {
     "data": {
      "text/plain": [
       "XGBClassifier(base_score=0.5, booster='gbtree', colsample_bylevel=0.9,\n",
       "       colsample_bytree=0.9, gamma=0, learning_rate=0.1, max_delta_step=0,\n",
       "       max_depth=5, min_child_weight=1, missing=None, n_estimators=400,\n",
       "       n_jobs=1, nthread=None, objective='binary:logistic', random_state=0,\n",
       "       reg_alpha=0, reg_lambda=1.5, scale_pos_weight=1, seed=10,\n",
       "       silent=True, subsample=0.9, verbosity=1)"
      ]
     },
     "execution_count": 59,
     "metadata": {},
     "output_type": "execute_result"
    }
   ],
   "source": [
    "param = {}\n",
    "param['learning_rate'] = 0.1\n",
    "param['verbosity'] = 1\n",
    "param['colsample_bylevel'] = 0.9\n",
    "param['colsample_bytree'] = 0.9\n",
    "param['subsample'] = 0.9\n",
    "param['reg_lambda']= 1.5\n",
    "param['max_depth'] = 5\n",
    "param['n_estimators'] = 400\n",
    "param['seed']=10\n",
    "xgb= XGBClassifier(**param)\n",
    "xgb.fit(X_train, y_train, eval_metric=['error'], eval_set=[(X_train, y_train),(X_test, y_test)],early_stopping_rounds=40)"
   ]
  },
  {
   "cell_type": "code",
   "execution_count": 60,
   "metadata": {},
   "outputs": [
    {
     "name": "stdout",
     "output_type": "stream",
     "text": [
      "XGBClassifier(base_score=0.5, booster='gbtree', colsample_bylevel=0.9,\n",
      "       colsample_bytree=0.9, gamma=0, learning_rate=0.1, max_delta_step=0,\n",
      "       max_depth=5, min_child_weight=1, missing=None, n_estimators=400,\n",
      "       n_jobs=1, nthread=None, objective='binary:logistic', random_state=0,\n",
      "       reg_alpha=0, reg_lambda=1.5, scale_pos_weight=1, seed=10,\n",
      "       silent=True, subsample=0.9, verbosity=1)\n",
      "confusion matrix of training data\n",
      "[[15308   828]\n",
      " [ 1590  3776]]\n",
      "confusion matrix of test data\n",
      "[[6534  398]\n",
      " [ 781 1503]]\n",
      "classification report of test data\n",
      "              precision    recall  f1-score   support\n",
      "\n",
      "           0       0.89      0.94      0.92      6932\n",
      "           1       0.79      0.66      0.72      2284\n",
      "\n",
      "   micro avg       0.87      0.87      0.87      9216\n",
      "   macro avg       0.84      0.80      0.82      9216\n",
      "weighted avg       0.87      0.87      0.87      9216\n",
      "\n",
      "Accuracy on test data: 87.207031%\n",
      "Accuracy on training data: 88.754534%\n",
      "Area under the ROC curve : 0.800321\n"
     ]
    }
   ],
   "source": [
    "show_classifier_metrics(xgb,y_train)"
   ]
  },
  {
   "cell_type": "code",
   "execution_count": 61,
   "metadata": {},
   "outputs": [
    {
     "data": {
      "image/png": "[encoded data removed]",
      "text/plain": [
       "<Figure size 1440x720 with 1 Axes>"
      ]
     },
     "metadata": {},
     "output_type": "display_data"
    }
   ],
   "source": [
    "importance_list = xgb.feature_importances_\n",
    "name_list = X_train.columns\n",
    "importance_list, name_list = zip(*sorted(zip(importance_list, name_list)))\n",
    "plt.figure(figsize=(20,10))\n",
    "plt.barh(range(len(name_list)),importance_list,align='center')\n",
    "plt.yticks(range(len(name_list)),name_list)\n",
    "plt.xlabel('Relative Importance in XGBoost')\n",
    "plt.ylabel('Features')\n",
    "plt.title('Relative importance of Each Feature')\n",
    "plt.show()"
   ]
  },
  {
   "cell_type": "markdown",
   "metadata": {},
   "source": [
    "### Grid search with cross validation: XGBoost model"
   ]
  },
  {
   "cell_type": "code",
   "execution_count": 62,
   "metadata": {},
   "outputs": [
    {
     "name": "stdout",
     "output_type": "stream",
     "text": [
      "Doing grid search\n",
      "Fitting 4 folds for each of 9 candidates, totalling 36 fits\n"
     ]
    },
    {
     "name": "stderr",
     "output_type": "stream",
     "text": [
      "[Parallel(n_jobs=-1)]: Using backend LokyBackend with 4 concurrent workers.\n",
      "/opt/conda/lib/python3.6/site-packages/sklearn/externals/joblib/externals/loky/process_executor.py:706: UserWarning: A worker stopped while some jobs were given to the executor. This can be caused by a too short worker timeout or by a memory leak.\n",
      "  \"timeout or by a memory leak.\", UserWarning\n",
      "[Parallel(n_jobs=-1)]: Done  36 out of  36 | elapsed:  2.0min finished\n"
     ]
    },
    {
     "name": "stdout",
     "output_type": "stream",
     "text": [
      "mean test score (weighted by split size) of CV rounds:  [0.86782625 0.8681518  0.86764022 0.86838434 0.86875639 0.86708213\n",
      " 0.86564041 0.86605897 0.86629151]\n",
      "Best parameter set {'colsample_bylevel': 0.9, 'colsample_bytree': 0.9, 'learning_rate': 0.1, 'max_depth': 5, 'n_estimators': 300, 'reg_lambda': 2, 'seed': 10, 'subsample': 0.9} Corresponding mean CV score 0.8687563947539764\n"
     ]
    }
   ],
   "source": [
    "xgbmodel2 = XGBClassifier(seed=42)\n",
    "param = {\n",
    "'learning_rate': [0.1],#[0.1,0.2],\n",
    "#'verbosity': [1],\n",
    "'colsample_bylevel': [0.9],\n",
    "'colsample_bytree': [0.9],\n",
    "'subsample' : [0.9],\n",
    "'n_estimators': [300],\n",
    "'reg_lambda': [1.5,2,2.5],\n",
    "'max_depth': [3,5,7],\n",
    " 'seed': [10]   \n",
    "}\n",
    "xgbCV = grid_search(xgbmodel2, param,X_train,y_train)"
   ]
  },
  {
   "cell_type": "code",
   "execution_count": 63,
   "metadata": {},
   "outputs": [
    {
     "name": "stdout",
     "output_type": "stream",
     "text": [
      "[0]\tvalidation_0-error:0.149707\tvalidation_1-error:0.152561\n",
      "Multiple eval metrics have been passed: 'validation_1-error' will be used for early stopping.\n",
      "\n",
      "Will train until validation_1-error hasn't improved in 40 rounds.\n",
      "[1]\tvalidation_0-error:0.147614\tvalidation_1-error:0.149089\n",
      "[2]\tvalidation_0-error:0.147707\tvalidation_1-error:0.148546\n",
      "[3]\tvalidation_0-error:0.147614\tvalidation_1-error:0.149197\n",
      "[4]\tvalidation_0-error:0.150033\tvalidation_1-error:0.151693\n",
      "[5]\tvalidation_0-error:0.149149\tvalidation_1-error:0.151584\n",
      "[6]\tvalidation_0-error:0.149056\tvalidation_1-error:0.15115\n",
      "[7]\tvalidation_0-error:0.149428\tvalidation_1-error:0.151367\n",
      "[8]\tvalidation_0-error:0.148172\tvalidation_1-error:0.150065\n",
      "[9]\tvalidation_0-error:0.148358\tvalidation_1-error:0.150065\n",
      "[10]\tvalidation_0-error:0.147521\tvalidation_1-error:0.149523\n",
      "[11]\tvalidation_0-error:0.147335\tvalidation_1-error:0.149523\n",
      "[12]\tvalidation_0-error:0.147242\tvalidation_1-error:0.149631\n",
      "[13]\tvalidation_0-error:0.146451\tvalidation_1-error:0.148872\n",
      "[14]\tvalidation_0-error:0.14594\tvalidation_1-error:0.148112\n",
      "[15]\tvalidation_0-error:0.145242\tvalidation_1-error:0.147895\n",
      "[16]\tvalidation_0-error:0.143149\tvalidation_1-error:0.147569\n",
      "[17]\tvalidation_0-error:0.143103\tvalidation_1-error:0.147244\n",
      "[18]\tvalidation_0-error:0.143382\tvalidation_1-error:0.146593\n",
      "[19]\tvalidation_0-error:0.143475\tvalidation_1-error:0.146918\n",
      "[20]\tvalidation_0-error:0.143522\tvalidation_1-error:0.147027\n",
      "[21]\tvalidation_0-error:0.143336\tvalidation_1-error:0.14605\n",
      "[22]\tvalidation_0-error:0.142545\tvalidation_1-error:0.145725\n",
      "[23]\tvalidation_0-error:0.141661\tvalidation_1-error:0.145942\n",
      "[24]\tvalidation_0-error:0.14208\tvalidation_1-error:0.145508\n",
      "[25]\tvalidation_0-error:0.141847\tvalidation_1-error:0.144857\n",
      "[26]\tvalidation_0-error:0.141522\tvalidation_1-error:0.144097\n",
      "[27]\tvalidation_0-error:0.140964\tvalidation_1-error:0.143555\n",
      "[28]\tvalidation_0-error:0.140638\tvalidation_1-error:0.144748\n",
      "[29]\tvalidation_0-error:0.14022\tvalidation_1-error:0.144423\n",
      "[30]\tvalidation_0-error:0.139801\tvalidation_1-error:0.144531\n",
      "[31]\tvalidation_0-error:0.139336\tvalidation_1-error:0.144423\n",
      "[32]\tvalidation_0-error:0.138824\tvalidation_1-error:0.144314\n",
      "[33]\tvalidation_0-error:0.138638\tvalidation_1-error:0.144314\n",
      "[34]\tvalidation_0-error:0.138824\tvalidation_1-error:0.14464\n",
      "[35]\tvalidation_0-error:0.138731\tvalidation_1-error:0.14464\n",
      "[36]\tvalidation_0-error:0.138034\tvalidation_1-error:0.144097\n",
      "[37]\tvalidation_0-error:0.13822\tvalidation_1-error:0.144097\n",
      "[38]\tvalidation_0-error:0.13808\tvalidation_1-error:0.143121\n",
      "[39]\tvalidation_0-error:0.137894\tvalidation_1-error:0.143229\n",
      "[40]\tvalidation_0-error:0.137476\tvalidation_1-error:0.142687\n",
      "[41]\tvalidation_0-error:0.137104\tvalidation_1-error:0.143229\n",
      "[42]\tvalidation_0-error:0.136871\tvalidation_1-error:0.143663\n",
      "[43]\tvalidation_0-error:0.136173\tvalidation_1-error:0.144423\n",
      "[44]\tvalidation_0-error:0.135848\tvalidation_1-error:0.144314\n",
      "[45]\tvalidation_0-error:0.135569\tvalidation_1-error:0.144206\n",
      "[46]\tvalidation_0-error:0.134918\tvalidation_1-error:0.143338\n",
      "[47]\tvalidation_0-error:0.134964\tvalidation_1-error:0.143121\n",
      "[48]\tvalidation_0-error:0.13436\tvalidation_1-error:0.141819\n",
      "[49]\tvalidation_0-error:0.133941\tvalidation_1-error:0.141493\n",
      "[50]\tvalidation_0-error:0.133755\tvalidation_1-error:0.141493\n",
      "[51]\tvalidation_0-error:0.133429\tvalidation_1-error:0.141059\n",
      "[52]\tvalidation_0-error:0.133429\tvalidation_1-error:0.140842\n",
      "[53]\tvalidation_0-error:0.132732\tvalidation_1-error:0.140842\n",
      "[54]\tvalidation_0-error:0.132825\tvalidation_1-error:0.140082\n",
      "[55]\tvalidation_0-error:0.132267\tvalidation_1-error:0.140082\n",
      "[56]\tvalidation_0-error:0.131941\tvalidation_1-error:0.139648\n",
      "[57]\tvalidation_0-error:0.131523\tvalidation_1-error:0.139648\n",
      "[58]\tvalidation_0-error:0.131244\tvalidation_1-error:0.139648\n",
      "[59]\tvalidation_0-error:0.130872\tvalidation_1-error:0.138997\n",
      "[60]\tvalidation_0-error:0.130965\tvalidation_1-error:0.138672\n",
      "[61]\tvalidation_0-error:0.130499\tvalidation_1-error:0.138238\n",
      "[62]\tvalidation_0-error:0.130406\tvalidation_1-error:0.138129\n",
      "[63]\tvalidation_0-error:0.130872\tvalidation_1-error:0.138563\n",
      "[64]\tvalidation_0-error:0.130779\tvalidation_1-error:0.138238\n",
      "[65]\tvalidation_0-error:0.13036\tvalidation_1-error:0.137261\n",
      "[66]\tvalidation_0-error:0.130267\tvalidation_1-error:0.137153\n",
      "[67]\tvalidation_0-error:0.129848\tvalidation_1-error:0.136936\n",
      "[68]\tvalidation_0-error:0.129941\tvalidation_1-error:0.13661\n",
      "[69]\tvalidation_0-error:0.12943\tvalidation_1-error:0.136719\n",
      "[70]\tvalidation_0-error:0.129523\tvalidation_1-error:0.137044\n",
      "[71]\tvalidation_0-error:0.129662\tvalidation_1-error:0.136936\n",
      "[72]\tvalidation_0-error:0.129523\tvalidation_1-error:0.137044\n",
      "[73]\tvalidation_0-error:0.128732\tvalidation_1-error:0.136502\n",
      "[74]\tvalidation_0-error:0.128314\tvalidation_1-error:0.135959\n",
      "[75]\tvalidation_0-error:0.128267\tvalidation_1-error:0.135851\n",
      "[76]\tvalidation_0-error:0.128081\tvalidation_1-error:0.135959\n",
      "[77]\tvalidation_0-error:0.127988\tvalidation_1-error:0.135959\n",
      "[78]\tvalidation_0-error:0.127756\tvalidation_1-error:0.135851\n",
      "[79]\tvalidation_0-error:0.12757\tvalidation_1-error:0.1352\n",
      "[80]\tvalidation_0-error:0.12743\tvalidation_1-error:0.134657\n",
      "[81]\tvalidation_0-error:0.127151\tvalidation_1-error:0.134657\n",
      "[82]\tvalidation_0-error:0.127104\tvalidation_1-error:0.134549\n",
      "[83]\tvalidation_0-error:0.127058\tvalidation_1-error:0.134332\n",
      "[84]\tvalidation_0-error:0.126686\tvalidation_1-error:0.134223\n",
      "[85]\tvalidation_0-error:0.12636\tvalidation_1-error:0.134006\n",
      "[86]\tvalidation_0-error:0.126314\tvalidation_1-error:0.134006\n",
      "[87]\tvalidation_0-error:0.126081\tvalidation_1-error:0.133789\n",
      "[88]\tvalidation_0-error:0.125849\tvalidation_1-error:0.133898\n",
      "[89]\tvalidation_0-error:0.125709\tvalidation_1-error:0.133681\n",
      "[90]\tvalidation_0-error:0.125802\tvalidation_1-error:0.133789\n",
      "[91]\tvalidation_0-error:0.125663\tvalidation_1-error:0.133681\n",
      "[92]\tvalidation_0-error:0.125709\tvalidation_1-error:0.133681\n",
      "[93]\tvalidation_0-error:0.12543\tvalidation_1-error:0.133464\n",
      "[94]\tvalidation_0-error:0.12557\tvalidation_1-error:0.13303\n",
      "[95]\tvalidation_0-error:0.12543\tvalidation_1-error:0.13303\n",
      "[96]\tvalidation_0-error:0.125337\tvalidation_1-error:0.132812\n",
      "[97]\tvalidation_0-error:0.125244\tvalidation_1-error:0.133138\n",
      "[98]\tvalidation_0-error:0.125244\tvalidation_1-error:0.132921\n",
      "[99]\tvalidation_0-error:0.125012\tvalidation_1-error:0.132921\n",
      "[100]\tvalidation_0-error:0.124872\tvalidation_1-error:0.133247\n",
      "[101]\tvalidation_0-error:0.124686\tvalidation_1-error:0.133464\n",
      "[102]\tvalidation_0-error:0.124454\tvalidation_1-error:0.133464\n",
      "[103]\tvalidation_0-error:0.124547\tvalidation_1-error:0.132704\n",
      "[104]\tvalidation_0-error:0.1245\tvalidation_1-error:0.132595\n",
      "[105]\tvalidation_0-error:0.1245\tvalidation_1-error:0.132704\n",
      "[106]\tvalidation_0-error:0.1245\tvalidation_1-error:0.132704\n",
      "[107]\tvalidation_0-error:0.124314\tvalidation_1-error:0.132704\n",
      "[108]\tvalidation_0-error:0.124454\tvalidation_1-error:0.132053\n",
      "[109]\tvalidation_0-error:0.124361\tvalidation_1-error:0.132161\n",
      "[110]\tvalidation_0-error:0.124268\tvalidation_1-error:0.132161\n",
      "[111]\tvalidation_0-error:0.124174\tvalidation_1-error:0.132378\n",
      "[112]\tvalidation_0-error:0.123663\tvalidation_1-error:0.132487\n",
      "[113]\tvalidation_0-error:0.12357\tvalidation_1-error:0.13227\n",
      "[114]\tvalidation_0-error:0.12357\tvalidation_1-error:0.132487\n",
      "[115]\tvalidation_0-error:0.123663\tvalidation_1-error:0.13227\n",
      "[116]\tvalidation_0-error:0.123151\tvalidation_1-error:0.132595\n",
      "[117]\tvalidation_0-error:0.123151\tvalidation_1-error:0.13303\n",
      "[118]\tvalidation_0-error:0.123151\tvalidation_1-error:0.13303\n",
      "[119]\tvalidation_0-error:0.123337\tvalidation_1-error:0.132704\n",
      "[120]\tvalidation_0-error:0.123291\tvalidation_1-error:0.132053\n",
      "[121]\tvalidation_0-error:0.123337\tvalidation_1-error:0.131944\n",
      "[122]\tvalidation_0-error:0.123384\tvalidation_1-error:0.131727\n",
      "[123]\tvalidation_0-error:0.12343\tvalidation_1-error:0.131619\n",
      "[124]\tvalidation_0-error:0.123477\tvalidation_1-error:0.131727\n",
      "[125]\tvalidation_0-error:0.12343\tvalidation_1-error:0.131836\n",
      "[126]\tvalidation_0-error:0.123291\tvalidation_1-error:0.132053\n",
      "[127]\tvalidation_0-error:0.123105\tvalidation_1-error:0.13227\n",
      "[128]\tvalidation_0-error:0.123105\tvalidation_1-error:0.132053\n",
      "[129]\tvalidation_0-error:0.123012\tvalidation_1-error:0.13227\n",
      "[130]\tvalidation_0-error:0.122733\tvalidation_1-error:0.132161\n",
      "[131]\tvalidation_0-error:0.122779\tvalidation_1-error:0.13227\n",
      "[132]\tvalidation_0-error:0.122733\tvalidation_1-error:0.131836\n",
      "[133]\tvalidation_0-error:0.122826\tvalidation_1-error:0.131727\n",
      "[134]\tvalidation_0-error:0.122733\tvalidation_1-error:0.131727\n",
      "[135]\tvalidation_0-error:0.122686\tvalidation_1-error:0.131727\n",
      "[136]\tvalidation_0-error:0.1225\tvalidation_1-error:0.131619\n",
      "[137]\tvalidation_0-error:0.122268\tvalidation_1-error:0.13151\n",
      "[138]\tvalidation_0-error:0.121989\tvalidation_1-error:0.131185\n",
      "[139]\tvalidation_0-error:0.122082\tvalidation_1-error:0.131293\n",
      "[140]\tvalidation_0-error:0.121989\tvalidation_1-error:0.131076\n",
      "[141]\tvalidation_0-error:0.121896\tvalidation_1-error:0.130642\n",
      "[142]\tvalidation_0-error:0.121756\tvalidation_1-error:0.130751\n",
      "[143]\tvalidation_0-error:0.121617\tvalidation_1-error:0.130859\n",
      "[144]\tvalidation_0-error:0.121756\tvalidation_1-error:0.130751\n",
      "[145]\tvalidation_0-error:0.121663\tvalidation_1-error:0.130751\n",
      "[146]\tvalidation_0-error:0.121617\tvalidation_1-error:0.131076\n",
      "[147]\tvalidation_0-error:0.121803\tvalidation_1-error:0.131185\n",
      "[148]\tvalidation_0-error:0.121431\tvalidation_1-error:0.130751\n",
      "[149]\tvalidation_0-error:0.121663\tvalidation_1-error:0.131293\n",
      "[150]\tvalidation_0-error:0.121477\tvalidation_1-error:0.130968\n",
      "[151]\tvalidation_0-error:0.121524\tvalidation_1-error:0.131293\n",
      "[152]\tvalidation_0-error:0.121291\tvalidation_1-error:0.130751\n",
      "[153]\tvalidation_0-error:0.121245\tvalidation_1-error:0.130968\n",
      "[154]\tvalidation_0-error:0.121477\tvalidation_1-error:0.131076\n",
      "[155]\tvalidation_0-error:0.121524\tvalidation_1-error:0.130968\n",
      "[156]\tvalidation_0-error:0.121431\tvalidation_1-error:0.131185\n",
      "[157]\tvalidation_0-error:0.120872\tvalidation_1-error:0.130751\n",
      "[158]\tvalidation_0-error:0.120686\tvalidation_1-error:0.130534\n",
      "[159]\tvalidation_0-error:0.120686\tvalidation_1-error:0.130642\n",
      "[160]\tvalidation_0-error:0.120454\tvalidation_1-error:0.130642\n",
      "[161]\tvalidation_0-error:0.120454\tvalidation_1-error:0.130642\n",
      "[162]\tvalidation_0-error:0.120407\tvalidation_1-error:0.130425\n",
      "[163]\tvalidation_0-error:0.120454\tvalidation_1-error:0.130534\n",
      "[164]\tvalidation_0-error:0.120407\tvalidation_1-error:0.130425\n",
      "[165]\tvalidation_0-error:0.120407\tvalidation_1-error:0.130534\n",
      "[166]\tvalidation_0-error:0.120314\tvalidation_1-error:0.130425\n",
      "[167]\tvalidation_0-error:0.120407\tvalidation_1-error:0.130208\n",
      "[168]\tvalidation_0-error:0.120314\tvalidation_1-error:0.130425\n",
      "[169]\tvalidation_0-error:0.120314\tvalidation_1-error:0.1301\n",
      "[170]\tvalidation_0-error:0.120314\tvalidation_1-error:0.129883\n",
      "[171]\tvalidation_0-error:0.120221\tvalidation_1-error:0.1301\n",
      "[172]\tvalidation_0-error:0.120175\tvalidation_1-error:0.129991\n",
      "[173]\tvalidation_0-error:0.120082\tvalidation_1-error:0.129883\n",
      "[174]\tvalidation_0-error:0.120082\tvalidation_1-error:0.129774\n",
      "[175]\tvalidation_0-error:0.120035\tvalidation_1-error:0.130208\n",
      "[176]\tvalidation_0-error:0.119989\tvalidation_1-error:0.1301\n",
      "[177]\tvalidation_0-error:0.119896\tvalidation_1-error:0.12934\n",
      "[178]\tvalidation_0-error:0.119989\tvalidation_1-error:0.129449\n",
      "[179]\tvalidation_0-error:0.11971\tvalidation_1-error:0.129774\n",
      "[180]\tvalidation_0-error:0.119756\tvalidation_1-error:0.129666\n",
      "[181]\tvalidation_0-error:0.119524\tvalidation_1-error:0.1301\n",
      "[182]\tvalidation_0-error:0.119803\tvalidation_1-error:0.1301\n",
      "[183]\tvalidation_0-error:0.11971\tvalidation_1-error:0.129991\n",
      "[184]\tvalidation_0-error:0.11957\tvalidation_1-error:0.130751\n",
      "[185]\tvalidation_0-error:0.11971\tvalidation_1-error:0.130968\n",
      "[186]\tvalidation_0-error:0.11971\tvalidation_1-error:0.130859\n",
      "[187]\tvalidation_0-error:0.119431\tvalidation_1-error:0.130425\n",
      "[188]\tvalidation_0-error:0.119431\tvalidation_1-error:0.130534\n",
      "[189]\tvalidation_0-error:0.119384\tvalidation_1-error:0.130317\n",
      "[190]\tvalidation_0-error:0.119431\tvalidation_1-error:0.130317\n",
      "[191]\tvalidation_0-error:0.119152\tvalidation_1-error:0.1301\n",
      "[192]\tvalidation_0-error:0.119198\tvalidation_1-error:0.129991\n",
      "[193]\tvalidation_0-error:0.119012\tvalidation_1-error:0.1301\n",
      "[194]\tvalidation_0-error:0.118919\tvalidation_1-error:0.129774\n",
      "[195]\tvalidation_0-error:0.118919\tvalidation_1-error:0.129883\n",
      "[196]\tvalidation_0-error:0.118873\tvalidation_1-error:0.129991\n",
      "[197]\tvalidation_0-error:0.118501\tvalidation_1-error:0.129666\n",
      "[198]\tvalidation_0-error:0.118454\tvalidation_1-error:0.129666\n",
      "[199]\tvalidation_0-error:0.118408\tvalidation_1-error:0.129666\n",
      "[200]\tvalidation_0-error:0.118175\tvalidation_1-error:0.129774\n",
      "[201]\tvalidation_0-error:0.118129\tvalidation_1-error:0.129557\n",
      "[202]\tvalidation_0-error:0.118129\tvalidation_1-error:0.129666\n",
      "[203]\tvalidation_0-error:0.118036\tvalidation_1-error:0.129449\n",
      "[204]\tvalidation_0-error:0.117943\tvalidation_1-error:0.129449\n",
      "[205]\tvalidation_0-error:0.117803\tvalidation_1-error:0.12934\n",
      "[206]\tvalidation_0-error:0.117803\tvalidation_1-error:0.129557\n",
      "[207]\tvalidation_0-error:0.11771\tvalidation_1-error:0.12934\n",
      "[208]\tvalidation_0-error:0.117849\tvalidation_1-error:0.12934\n",
      "[209]\tvalidation_0-error:0.117756\tvalidation_1-error:0.129232\n",
      "[210]\tvalidation_0-error:0.117756\tvalidation_1-error:0.129123\n",
      "[211]\tvalidation_0-error:0.117756\tvalidation_1-error:0.128906\n",
      "[212]\tvalidation_0-error:0.117617\tvalidation_1-error:0.129015\n",
      "[213]\tvalidation_0-error:0.117617\tvalidation_1-error:0.128906\n",
      "[214]\tvalidation_0-error:0.117617\tvalidation_1-error:0.128906\n",
      "[215]\tvalidation_0-error:0.117524\tvalidation_1-error:0.128906\n",
      "[216]\tvalidation_0-error:0.117477\tvalidation_1-error:0.128906\n",
      "[217]\tvalidation_0-error:0.117477\tvalidation_1-error:0.129015\n",
      "[218]\tvalidation_0-error:0.117477\tvalidation_1-error:0.129015\n",
      "[219]\tvalidation_0-error:0.117291\tvalidation_1-error:0.128906\n",
      "[220]\tvalidation_0-error:0.117198\tvalidation_1-error:0.128906\n",
      "[221]\tvalidation_0-error:0.117291\tvalidation_1-error:0.128906\n",
      "[222]\tvalidation_0-error:0.117384\tvalidation_1-error:0.128906\n",
      "[223]\tvalidation_0-error:0.117198\tvalidation_1-error:0.128472\n",
      "[224]\tvalidation_0-error:0.117152\tvalidation_1-error:0.128581\n",
      "[225]\tvalidation_0-error:0.116873\tvalidation_1-error:0.128906\n",
      "[226]\tvalidation_0-error:0.116826\tvalidation_1-error:0.128689\n",
      "[227]\tvalidation_0-error:0.11678\tvalidation_1-error:0.129123\n",
      "[228]\tvalidation_0-error:0.117012\tvalidation_1-error:0.128906\n",
      "[229]\tvalidation_0-error:0.116919\tvalidation_1-error:0.129123\n",
      "[230]\tvalidation_0-error:0.117105\tvalidation_1-error:0.129015\n",
      "[231]\tvalidation_0-error:0.117152\tvalidation_1-error:0.128906\n",
      "[232]\tvalidation_0-error:0.117198\tvalidation_1-error:0.129015\n",
      "[233]\tvalidation_0-error:0.11678\tvalidation_1-error:0.128798\n",
      "[234]\tvalidation_0-error:0.116687\tvalidation_1-error:0.128798\n",
      "[235]\tvalidation_0-error:0.11664\tvalidation_1-error:0.128689\n",
      "[236]\tvalidation_0-error:0.116733\tvalidation_1-error:0.12934\n",
      "[237]\tvalidation_0-error:0.11664\tvalidation_1-error:0.129449\n",
      "[238]\tvalidation_0-error:0.116594\tvalidation_1-error:0.128798\n",
      "[239]\tvalidation_0-error:0.116315\tvalidation_1-error:0.129232\n",
      "[240]\tvalidation_0-error:0.116268\tvalidation_1-error:0.129123\n",
      "[241]\tvalidation_0-error:0.116315\tvalidation_1-error:0.129232\n",
      "[242]\tvalidation_0-error:0.116175\tvalidation_1-error:0.128906\n",
      "[243]\tvalidation_0-error:0.116129\tvalidation_1-error:0.128689\n",
      "[244]\tvalidation_0-error:0.116175\tvalidation_1-error:0.128689\n",
      "[245]\tvalidation_0-error:0.115989\tvalidation_1-error:0.128689\n",
      "[246]\tvalidation_0-error:0.115989\tvalidation_1-error:0.128689\n",
      "[247]\tvalidation_0-error:0.115989\tvalidation_1-error:0.128906\n",
      "[248]\tvalidation_0-error:0.116129\tvalidation_1-error:0.128798\n",
      "[249]\tvalidation_0-error:0.116082\tvalidation_1-error:0.128798\n",
      "[250]\tvalidation_0-error:0.116268\tvalidation_1-error:0.128472\n",
      "[251]\tvalidation_0-error:0.116268\tvalidation_1-error:0.128689\n",
      "[252]\tvalidation_0-error:0.115989\tvalidation_1-error:0.128689\n",
      "[253]\tvalidation_0-error:0.115943\tvalidation_1-error:0.128581\n",
      "[254]\tvalidation_0-error:0.11571\tvalidation_1-error:0.128689\n",
      "[255]\tvalidation_0-error:0.115664\tvalidation_1-error:0.128581\n",
      "[256]\tvalidation_0-error:0.115664\tvalidation_1-error:0.128581\n",
      "[257]\tvalidation_0-error:0.115385\tvalidation_1-error:0.128255\n",
      "[258]\tvalidation_0-error:0.115245\tvalidation_1-error:0.128038\n",
      "[259]\tvalidation_0-error:0.115245\tvalidation_1-error:0.128255\n",
      "[260]\tvalidation_0-error:0.115152\tvalidation_1-error:0.128364\n",
      "[261]\tvalidation_0-error:0.115199\tvalidation_1-error:0.128255\n",
      "[262]\tvalidation_0-error:0.115199\tvalidation_1-error:0.128147\n",
      "[263]\tvalidation_0-error:0.115152\tvalidation_1-error:0.128255\n",
      "[264]\tvalidation_0-error:0.11492\tvalidation_1-error:0.128255\n",
      "[265]\tvalidation_0-error:0.114687\tvalidation_1-error:0.127821\n",
      "[266]\tvalidation_0-error:0.11464\tvalidation_1-error:0.127821\n",
      "[267]\tvalidation_0-error:0.114594\tvalidation_1-error:0.128147\n",
      "[268]\tvalidation_0-error:0.11464\tvalidation_1-error:0.12793\n",
      "[269]\tvalidation_0-error:0.11464\tvalidation_1-error:0.12793\n",
      "[270]\tvalidation_0-error:0.114501\tvalidation_1-error:0.128472\n",
      "[271]\tvalidation_0-error:0.114361\tvalidation_1-error:0.128472\n",
      "[272]\tvalidation_0-error:0.114268\tvalidation_1-error:0.128472\n",
      "[273]\tvalidation_0-error:0.114222\tvalidation_1-error:0.128364\n",
      "[274]\tvalidation_0-error:0.114222\tvalidation_1-error:0.128689\n",
      "[275]\tvalidation_0-error:0.114315\tvalidation_1-error:0.128798\n",
      "[276]\tvalidation_0-error:0.114268\tvalidation_1-error:0.128798\n",
      "[277]\tvalidation_0-error:0.114222\tvalidation_1-error:0.128798\n",
      "[278]\tvalidation_0-error:0.114082\tvalidation_1-error:0.128689\n",
      "[279]\tvalidation_0-error:0.113989\tvalidation_1-error:0.128689\n",
      "[280]\tvalidation_0-error:0.11385\tvalidation_1-error:0.128581\n",
      "[281]\tvalidation_0-error:0.113803\tvalidation_1-error:0.128147\n",
      "[282]\tvalidation_0-error:0.11385\tvalidation_1-error:0.128581\n",
      "[283]\tvalidation_0-error:0.114036\tvalidation_1-error:0.128364\n",
      "[284]\tvalidation_0-error:0.113989\tvalidation_1-error:0.128364\n",
      "[285]\tvalidation_0-error:0.113571\tvalidation_1-error:0.128255\n",
      "[286]\tvalidation_0-error:0.113664\tvalidation_1-error:0.128255\n",
      "[287]\tvalidation_0-error:0.113896\tvalidation_1-error:0.128364\n",
      "[288]\tvalidation_0-error:0.113803\tvalidation_1-error:0.128472\n",
      "[289]\tvalidation_0-error:0.113571\tvalidation_1-error:0.128364\n",
      "[290]\tvalidation_0-error:0.113478\tvalidation_1-error:0.128364\n",
      "[291]\tvalidation_0-error:0.113292\tvalidation_1-error:0.128364\n",
      "[292]\tvalidation_0-error:0.113338\tvalidation_1-error:0.128255\n",
      "[293]\tvalidation_0-error:0.113059\tvalidation_1-error:0.128472\n",
      "[294]\tvalidation_0-error:0.113059\tvalidation_1-error:0.128581\n",
      "[295]\tvalidation_0-error:0.11292\tvalidation_1-error:0.128689\n",
      "[296]\tvalidation_0-error:0.112827\tvalidation_1-error:0.128689\n",
      "[297]\tvalidation_0-error:0.112734\tvalidation_1-error:0.128689\n",
      "[298]\tvalidation_0-error:0.112687\tvalidation_1-error:0.128906\n",
      "[299]\tvalidation_0-error:0.112594\tvalidation_1-error:0.128798\n"
     ]
    },
    {
     "data": {
      "text/plain": [
       "XGBClassifier(base_score=0.5, booster='gbtree', colsample_bylevel=0.9,\n",
       "       colsample_bytree=0.9, gamma=0, learning_rate=0.1, max_delta_step=0,\n",
       "       max_depth=5, min_child_weight=1, missing=None, n_estimators=300,\n",
       "       n_jobs=1, nthread=None, objective='binary:logistic', random_state=0,\n",
       "       reg_alpha=0, reg_lambda=2, scale_pos_weight=1, seed=10, silent=True,\n",
       "       subsample=0.9)"
      ]
     },
     "execution_count": 63,
     "metadata": {},
     "output_type": "execute_result"
    }
   ],
   "source": [
    "xgbCV.fit(X_train, y_train, eval_metric=['error'], eval_set=[(X_train, y_train),(X_test, y_test)],early_stopping_rounds=40)"
   ]
  },
  {
   "cell_type": "code",
   "execution_count": 64,
   "metadata": {},
   "outputs": [
    {
     "name": "stdout",
     "output_type": "stream",
     "text": [
      "XGBClassifier(base_score=0.5, booster='gbtree', colsample_bylevel=0.9,\n",
      "       colsample_bytree=0.9, gamma=0, learning_rate=0.1, max_delta_step=0,\n",
      "       max_depth=5, min_child_weight=1, missing=None, n_estimators=300,\n",
      "       n_jobs=1, nthread=None, objective='binary:logistic', random_state=0,\n",
      "       reg_alpha=0, reg_lambda=2, scale_pos_weight=1, seed=10, silent=True,\n",
      "       subsample=0.9)\n",
      "confusion matrix of training data\n",
      "[[15293   843]\n",
      " [ 1623  3743]]\n",
      "confusion matrix of test data\n",
      "[[6535  397]\n",
      " [ 781 1503]]\n",
      "classification report of test data\n",
      "              precision    recall  f1-score   support\n",
      "\n",
      "           0       0.89      0.94      0.92      6932\n",
      "           1       0.79      0.66      0.72      2284\n",
      "\n",
      "   micro avg       0.87      0.87      0.87      9216\n",
      "   macro avg       0.84      0.80      0.82      9216\n",
      "weighted avg       0.87      0.87      0.87      9216\n",
      "\n",
      "Accuracy on test data: 87.217882%\n",
      "Accuracy on training data: 88.531299%\n",
      "Area under the ROC curve : 0.800393\n"
     ]
    }
   ],
   "source": [
    "show_classifier_metrics(xgbCV,y_train)"
   ]
  },
  {
   "cell_type": "code",
   "execution_count": 65,
   "metadata": {},
   "outputs": [],
   "source": [
    "#X_test.iloc[np.where(y_test != xgbCV.predict(X_test))]"
   ]
  },
  {
   "cell_type": "markdown",
   "metadata": {},
   "source": [
    "## Logistic regression"
   ]
  },
  {
   "cell_type": "code",
   "execution_count": 66,
   "metadata": {},
   "outputs": [],
   "source": [
    "from sklearn.linear_model import LogisticRegression"
   ]
  },
  {
   "cell_type": "code",
   "execution_count": 67,
   "metadata": {},
   "outputs": [
    {
     "name": "stdout",
     "output_type": "stream",
     "text": [
      "Doing grid search\n",
      "Fitting 3 folds for each of 12 candidates, totalling 36 fits\n"
     ]
    },
    {
     "name": "stderr",
     "output_type": "stream",
     "text": [
      "[Parallel(n_jobs=-1)]: Using backend LokyBackend with 4 concurrent workers.\n",
      "/opt/conda/lib/python3.6/site-packages/sklearn/externals/joblib/externals/loky/process_executor.py:706: UserWarning: A worker stopped while some jobs were given to the executor. This can be caused by a too short worker timeout or by a memory leak.\n",
      "  \"timeout or by a memory leak.\", UserWarning\n",
      "[Parallel(n_jobs=-1)]: Done  36 out of  36 | elapsed:    6.0s finished\n",
      "/opt/conda/lib/python3.6/site-packages/sklearn/linear_model/logistic.py:433: FutureWarning: Default solver will be changed to 'lbfgs' in 0.22. Specify a solver to silence this warning.\n",
      "  FutureWarning)\n"
     ]
    },
    {
     "name": "stdout",
     "output_type": "stream",
     "text": [
      "[LibLinear]mean test score (weighted by split size) of CV rounds:  [0.84787462 0.84787462 0.84787462 0.84787462 0.84708399 0.84708399\n",
      " 0.84708399 0.84708399 0.84792112 0.84792112 0.84792112 0.84792112]\n",
      "Best parameter set {'C': 10, 'max_iter': 100, 'verbose': 1} Corresponding mean CV score 0.8479211236164078\n"
     ]
    }
   ],
   "source": [
    "param = {\n",
    "'C': [3,5,10], \n",
    "'verbose': [1],\n",
    "    'max_iter': [100,200,500,700]\n",
    "}   \n",
    "logreg = LogisticRegression(random_state=10)\n",
    "logreg_grid = grid_search(logreg, param, X_train,y_train, n_folds=3)"
   ]
  },
  {
   "cell_type": "code",
   "execution_count": 68,
   "metadata": {},
   "outputs": [
    {
     "name": "stdout",
     "output_type": "stream",
     "text": [
      "[LibLinear]"
     ]
    },
    {
     "name": "stderr",
     "output_type": "stream",
     "text": [
      "/opt/conda/lib/python3.6/site-packages/sklearn/linear_model/logistic.py:433: FutureWarning: Default solver will be changed to 'lbfgs' in 0.22. Specify a solver to silence this warning.\n",
      "  FutureWarning)\n"
     ]
    },
    {
     "data": {
      "text/plain": [
       "LogisticRegression(C=10, class_weight=None, dual=False, fit_intercept=True,\n",
       "          intercept_scaling=1, max_iter=100, multi_class='warn',\n",
       "          n_jobs=None, penalty='l2', random_state=10, solver='warn',\n",
       "          tol=0.0001, verbose=1, warm_start=False)"
      ]
     },
     "execution_count": 68,
     "metadata": {},
     "output_type": "execute_result"
    }
   ],
   "source": [
    "logreg_grid.fit(X_train, y_train)"
   ]
  },
  {
   "cell_type": "code",
   "execution_count": 69,
   "metadata": {},
   "outputs": [
    {
     "name": "stdout",
     "output_type": "stream",
     "text": [
      "LogisticRegression(C=10, class_weight=None, dual=False, fit_intercept=True,\n",
      "          intercept_scaling=1, max_iter=100, multi_class='warn',\n",
      "          n_jobs=None, penalty='l2', random_state=10, solver='warn',\n",
      "          tol=0.0001, verbose=1, warm_start=False)\n",
      "confusion matrix of training data\n",
      "[[14967  1169]\n",
      " [ 2093  3273]]\n",
      "confusion matrix of test data\n",
      "[[6431  501]\n",
      " [ 923 1361]]\n",
      "classification report of test data\n",
      "              precision    recall  f1-score   support\n",
      "\n",
      "           0       0.87      0.93      0.90      6932\n",
      "           1       0.73      0.60      0.66      2284\n",
      "\n",
      "   micro avg       0.85      0.85      0.85      9216\n",
      "   macro avg       0.80      0.76      0.78      9216\n",
      "weighted avg       0.84      0.85      0.84      9216\n",
      "\n",
      "Accuracy on test data: 84.548611%\n",
      "Accuracy on training data: 84.829318%\n",
      "Area under the ROC curve : 0.761805\n"
     ]
    }
   ],
   "source": [
    "show_classifier_metrics(logreg_grid)"
   ]
  },
  {
   "cell_type": "markdown",
   "metadata": {},
   "source": [
    "## Naive Bayes"
   ]
  },
  {
   "cell_type": "code",
   "execution_count": 70,
   "metadata": {},
   "outputs": [],
   "source": [
    "from sklearn.naive_bayes import GaussianNB"
   ]
  },
  {
   "cell_type": "code",
   "execution_count": 71,
   "metadata": {},
   "outputs": [],
   "source": [
    "NBmodel = GaussianNB()"
   ]
  },
  {
   "cell_type": "code",
   "execution_count": 72,
   "metadata": {},
   "outputs": [
    {
     "data": {
      "text/plain": [
       "GaussianNB(priors=None, var_smoothing=1e-09)"
      ]
     },
     "execution_count": 72,
     "metadata": {},
     "output_type": "execute_result"
    }
   ],
   "source": [
    "NBmodel.fit(X_train, y_train)"
   ]
  },
  {
   "cell_type": "code",
   "execution_count": 73,
   "metadata": {},
   "outputs": [
    {
     "data": {
      "text/plain": [
       "array([0, 0, 0, ..., 0, 0, 0])"
      ]
     },
     "execution_count": 73,
     "metadata": {},
     "output_type": "execute_result"
    }
   ],
   "source": [
    "NBmodel.predict(X_test)"
   ]
  },
  {
   "cell_type": "code",
   "execution_count": 74,
   "metadata": {},
   "outputs": [
    {
     "name": "stdout",
     "output_type": "stream",
     "text": [
      "GaussianNB(priors=None, var_smoothing=1e-09)\n",
      "confusion matrix of training data\n",
      "[[13743  2393]\n",
      " [ 1409  3957]]\n",
      "confusion matrix of test data\n",
      "[[5935  997]\n",
      " [ 642 1642]]\n",
      "classification report of test data\n",
      "              precision    recall  f1-score   support\n",
      "\n",
      "           0       0.90      0.86      0.88      6932\n",
      "           1       0.62      0.72      0.67      2284\n",
      "\n",
      "   micro avg       0.82      0.82      0.82      9216\n",
      "   macro avg       0.76      0.79      0.77      9216\n",
      "weighted avg       0.83      0.82      0.83      9216\n",
      "\n",
      "Accuracy on test data: 82.215712%\n",
      "Accuracy on training data: 82.317924%\n",
      "Area under the ROC curve : 0.787544\n"
     ]
    }
   ],
   "source": [
    "show_classifier_metrics(NBmodel,y_train)"
   ]
  },
  {
   "cell_type": "markdown",
   "metadata": {},
   "source": [
    "### Stacked model"
   ]
  },
  {
   "cell_type": "code",
   "execution_count": 75,
   "metadata": {},
   "outputs": [],
   "source": [
    "def create_stacked_dataset(clfs,modelnames, X_train=X_train,X_test=X_test):\n",
    "    X_train_stack, X_test_stack = X_train, X_test\n",
    "    for clf,modelname in zip(clfs,modelnames):\n",
    "        temptrain = pd.DataFrame(clf.predict(X_train),index = X_train.index,columns=[modelname+'_prediction'])\n",
    "        temptest  = pd.DataFrame(clf.predict(X_test),index = X_test.index,columns=[modelname+'_prediction'])\n",
    "        X_train_stack = pd.concat([X_train_stack, temptrain], axis=1)\n",
    "        X_test_stack = pd.concat([X_test_stack, temptest], axis=1)\n",
    "    return (X_train_stack,X_test_stack)"
   ]
  },
  {
   "cell_type": "code",
   "execution_count": 76,
   "metadata": {},
   "outputs": [],
   "source": [
    "X_train_stack,X_test_stack = create_stacked_dataset([rfmodelCV,logreg_grid,xgbCV],modelnames=['rfmodel','logreg', 'xgb'])"
   ]
  },
  {
   "cell_type": "code",
   "execution_count": 77,
   "metadata": {},
   "outputs": [
    {
     "data": {
      "text/html": [
       "<div>\n",
       "<style scoped>\n",
       "    .dataframe tbody tr th:only-of-type {\n",
       "        vertical-align: middle;\n",
       "    }\n",
       "\n",
       "    .dataframe tbody tr th {\n",
       "        vertical-align: top;\n",
       "    }\n",
       "\n",
       "    .dataframe thead th {\n",
       "        text-align: right;\n",
       "    }\n",
       "</style>\n",
       "<table border=\"1\" class=\"dataframe\">\n",
       "  <thead>\n",
       "    <tr style=\"text-align: right;\">\n",
       "      <th></th>\n",
       "      <th>age</th>\n",
       "      <th>education.num</th>\n",
       "      <th>capital.gain</th>\n",
       "      <th>capital.loss</th>\n",
       "      <th>hours.per.week</th>\n",
       "      <th>workclass_Local-gov</th>\n",
       "      <th>workclass_Private</th>\n",
       "      <th>workclass_Self-emp-inc</th>\n",
       "      <th>workclass_Self-emp-not-inc</th>\n",
       "      <th>workclass_State-gov</th>\n",
       "      <th>workclass_Without-pay</th>\n",
       "      <th>is_Male</th>\n",
       "      <th>is_Married-AF-spouse</th>\n",
       "      <th>is_Married-civ-spouse</th>\n",
       "      <th>is_Married-spouse-absent</th>\n",
       "      <th>is_Never-married</th>\n",
       "      <th>is_Separated</th>\n",
       "      <th>is_Widowed</th>\n",
       "      <th>race_is_Asian-Pac-Islander</th>\n",
       "      <th>race_is_Black</th>\n",
       "      <th>race_is_Other</th>\n",
       "      <th>race_is_White</th>\n",
       "      <th>relation_Not-in-family</th>\n",
       "      <th>relation_Other-relative</th>\n",
       "      <th>relation_Own-child</th>\n",
       "      <th>relation_Unmarried</th>\n",
       "      <th>relation_Wife</th>\n",
       "      <th>is_Armed-Forces</th>\n",
       "      <th>is_Craft-repair</th>\n",
       "      <th>is_Exec-managerial</th>\n",
       "      <th>is_Farming-fishing</th>\n",
       "      <th>is_Handlers-cleaners</th>\n",
       "      <th>is_Machine-op-inspct</th>\n",
       "      <th>is_Other-service</th>\n",
       "      <th>is_Priv-house-serv</th>\n",
       "      <th>is_Prof-specialty</th>\n",
       "      <th>is_Protective-serv</th>\n",
       "      <th>is_Sales</th>\n",
       "      <th>is_Tech-support</th>\n",
       "      <th>is_Transport-moving</th>\n",
       "      <th>rfmodel_prediction</th>\n",
       "      <th>logreg_prediction</th>\n",
       "      <th>xgb_prediction</th>\n",
       "    </tr>\n",
       "  </thead>\n",
       "  <tbody>\n",
       "    <tr>\n",
       "      <th>31369</th>\n",
       "      <td>36</td>\n",
       "      <td>10</td>\n",
       "      <td>0</td>\n",
       "      <td>0</td>\n",
       "      <td>60</td>\n",
       "      <td>0</td>\n",
       "      <td>1</td>\n",
       "      <td>0</td>\n",
       "      <td>0</td>\n",
       "      <td>0</td>\n",
       "      <td>0</td>\n",
       "      <td>1</td>\n",
       "      <td>0</td>\n",
       "      <td>1</td>\n",
       "      <td>0</td>\n",
       "      <td>0</td>\n",
       "      <td>0</td>\n",
       "      <td>0</td>\n",
       "      <td>0</td>\n",
       "      <td>0</td>\n",
       "      <td>0</td>\n",
       "      <td>1</td>\n",
       "      <td>0</td>\n",
       "      <td>0</td>\n",
       "      <td>0</td>\n",
       "      <td>0</td>\n",
       "      <td>0</td>\n",
       "      <td>0</td>\n",
       "      <td>1</td>\n",
       "      <td>0</td>\n",
       "      <td>0</td>\n",
       "      <td>0</td>\n",
       "      <td>0</td>\n",
       "      <td>0</td>\n",
       "      <td>0</td>\n",
       "      <td>0</td>\n",
       "      <td>0</td>\n",
       "      <td>0</td>\n",
       "      <td>0</td>\n",
       "      <td>0</td>\n",
       "      <td>0</td>\n",
       "      <td>0</td>\n",
       "      <td>0</td>\n",
       "    </tr>\n",
       "    <tr>\n",
       "      <th>31013</th>\n",
       "      <td>20</td>\n",
       "      <td>6</td>\n",
       "      <td>0</td>\n",
       "      <td>0</td>\n",
       "      <td>40</td>\n",
       "      <td>0</td>\n",
       "      <td>1</td>\n",
       "      <td>0</td>\n",
       "      <td>0</td>\n",
       "      <td>0</td>\n",
       "      <td>0</td>\n",
       "      <td>1</td>\n",
       "      <td>0</td>\n",
       "      <td>0</td>\n",
       "      <td>0</td>\n",
       "      <td>1</td>\n",
       "      <td>0</td>\n",
       "      <td>0</td>\n",
       "      <td>0</td>\n",
       "      <td>0</td>\n",
       "      <td>0</td>\n",
       "      <td>1</td>\n",
       "      <td>0</td>\n",
       "      <td>0</td>\n",
       "      <td>1</td>\n",
       "      <td>0</td>\n",
       "      <td>0</td>\n",
       "      <td>0</td>\n",
       "      <td>0</td>\n",
       "      <td>0</td>\n",
       "      <td>0</td>\n",
       "      <td>1</td>\n",
       "      <td>0</td>\n",
       "      <td>0</td>\n",
       "      <td>0</td>\n",
       "      <td>0</td>\n",
       "      <td>0</td>\n",
       "      <td>0</td>\n",
       "      <td>0</td>\n",
       "      <td>0</td>\n",
       "      <td>0</td>\n",
       "      <td>0</td>\n",
       "      <td>0</td>\n",
       "    </tr>\n",
       "  </tbody>\n",
       "</table>\n",
       "</div>"
      ],
      "text/plain": [
       "       age  education.num       ...        logreg_prediction  xgb_prediction\n",
       "31369   36             10       ...                        0               0\n",
       "31013   20              6       ...                        0               0\n",
       "\n",
       "[2 rows x 43 columns]"
      ]
     },
     "execution_count": 77,
     "metadata": {},
     "output_type": "execute_result"
    }
   ],
   "source": [
    "X_train_stack.head(2)"
   ]
  },
  {
   "cell_type": "code",
   "execution_count": 78,
   "metadata": {},
   "outputs": [
    {
     "name": "stdout",
     "output_type": "stream",
     "text": [
      "[0]\tvalidation_0-error:0.092689\tvalidation_1-error:0.137912\n",
      "Multiple eval metrics have been passed: 'validation_1-error' will be used for early stopping.\n",
      "\n",
      "Will train until validation_1-error hasn't improved in 30 rounds.\n",
      "[1]\tvalidation_0-error:0.092922\tvalidation_1-error:0.140299\n",
      "[2]\tvalidation_0-error:0.092922\tvalidation_1-error:0.139106\n",
      "[3]\tvalidation_0-error:0.092875\tvalidation_1-error:0.140299\n",
      "[4]\tvalidation_0-error:0.092922\tvalidation_1-error:0.140082\n",
      "[5]\tvalidation_0-error:0.092968\tvalidation_1-error:0.140299\n",
      "[6]\tvalidation_0-error:0.093061\tvalidation_1-error:0.140191\n",
      "[7]\tvalidation_0-error:0.093201\tvalidation_1-error:0.139648\n",
      "[8]\tvalidation_0-error:0.093201\tvalidation_1-error:0.139431\n",
      "[9]\tvalidation_0-error:0.092968\tvalidation_1-error:0.139214\n",
      "[10]\tvalidation_0-error:0.092829\tvalidation_1-error:0.13878\n",
      "[11]\tvalidation_0-error:0.092875\tvalidation_1-error:0.138997\n",
      "[12]\tvalidation_0-error:0.092875\tvalidation_1-error:0.13954\n",
      "[13]\tvalidation_0-error:0.093061\tvalidation_1-error:0.13954\n",
      "[14]\tvalidation_0-error:0.092968\tvalidation_1-error:0.139431\n",
      "[15]\tvalidation_0-error:0.093108\tvalidation_1-error:0.139648\n",
      "[16]\tvalidation_0-error:0.093015\tvalidation_1-error:0.139431\n",
      "[17]\tvalidation_0-error:0.093015\tvalidation_1-error:0.13954\n",
      "[18]\tvalidation_0-error:0.093108\tvalidation_1-error:0.13954\n",
      "[19]\tvalidation_0-error:0.093015\tvalidation_1-error:0.13954\n",
      "[20]\tvalidation_0-error:0.093015\tvalidation_1-error:0.139431\n",
      "[21]\tvalidation_0-error:0.093015\tvalidation_1-error:0.139431\n",
      "[22]\tvalidation_0-error:0.092922\tvalidation_1-error:0.139431\n",
      "[23]\tvalidation_0-error:0.092922\tvalidation_1-error:0.139431\n",
      "[24]\tvalidation_0-error:0.092968\tvalidation_1-error:0.139431\n",
      "[25]\tvalidation_0-error:0.092968\tvalidation_1-error:0.139431\n",
      "[26]\tvalidation_0-error:0.092968\tvalidation_1-error:0.13954\n",
      "[27]\tvalidation_0-error:0.093015\tvalidation_1-error:0.13954\n",
      "[28]\tvalidation_0-error:0.093015\tvalidation_1-error:0.13954\n",
      "[29]\tvalidation_0-error:0.093015\tvalidation_1-error:0.13954\n",
      "[30]\tvalidation_0-error:0.092968\tvalidation_1-error:0.13954\n",
      "Stopping. Best iteration:\n",
      "[0]\tvalidation_0-error:0.092689\tvalidation_1-error:0.137912\n",
      "\n"
     ]
    },
    {
     "data": {
      "text/plain": [
       "XGBClassifier(base_score=0.5, booster='gbtree', colsample_bylevel=0.9,\n",
       "       colsample_bytree=0.9, gamma=0, learning_rate=0.1, max_delta_step=0,\n",
       "       max_depth=5, min_child_weight=1, missing=None, n_estimators=400,\n",
       "       n_jobs=1, nthread=None, objective='binary:logistic', random_state=0,\n",
       "       reg_alpha=0, reg_lambda=1.5, scale_pos_weight=1, seed=10,\n",
       "       silent=True, subsample=0.9, verbosity=1)"
      ]
     },
     "execution_count": 78,
     "metadata": {},
     "output_type": "execute_result"
    }
   ],
   "source": [
    "param = {}\n",
    "param['learning_rate'] = 0.1\n",
    "param['verbosity'] = 1\n",
    "param['colsample_bylevel'] = 0.9\n",
    "param['colsample_bytree'] = 0.9\n",
    "param['subsample'] = 0.9\n",
    "param['reg_lambda']= 1.5\n",
    "param['max_depth'] = 5#10\n",
    "param['n_estimators'] = 400\n",
    "param['seed']=10\n",
    "xgbstack= XGBClassifier(**param)\n",
    "xgbstack.fit(X_train_stack, y_train, eval_metric=['error'], eval_set=[(X_train_stack, y_train),(X_test_stack, y_test)],early_stopping_rounds=30)\n"
   ]
  },
  {
   "cell_type": "code",
   "execution_count": 79,
   "metadata": {},
   "outputs": [
    {
     "name": "stdout",
     "output_type": "stream",
     "text": [
      "              precision    recall  f1-score   support\n",
      "\n",
      "           0       0.88      0.95      0.91      6932\n",
      "           1       0.79      0.60      0.68      2284\n",
      "\n",
      "   micro avg       0.86      0.86      0.86      9216\n",
      "   macro avg       0.83      0.78      0.80      9216\n",
      "weighted avg       0.86      0.86      0.86      9216\n",
      "\n",
      "Accuracy on test data: 86.208767%\n",
      "Accuracy on training data: 90.731095%\n"
     ]
    }
   ],
   "source": [
    "print(metrics.classification_report(y_test, xgbstack.predict(X_test_stack)))\n",
    "print('Accuracy on test data: %f%%' % (metrics.accuracy_score(y_test, xgbstack.predict(X_test_stack))*100))\n",
    "print('Accuracy on training data: %f%%' % (metrics.accuracy_score(y_train, xgbstack.predict(X_train_stack))*100))"
   ]
  },
  {
   "cell_type": "markdown",
   "metadata": {},
   "source": [
    "### Stacked model Grid Search"
   ]
  },
  {
   "cell_type": "code",
   "execution_count": 80,
   "metadata": {},
   "outputs": [
    {
     "name": "stdout",
     "output_type": "stream",
     "text": [
      "Doing grid search\n",
      "Fitting 4 folds for each of 4 candidates, totalling 16 fits\n"
     ]
    },
    {
     "name": "stderr",
     "output_type": "stream",
     "text": [
      "[Parallel(n_jobs=-1)]: Using backend LokyBackend with 4 concurrent workers.\n",
      "[Parallel(n_jobs=-1)]: Done  16 out of  16 | elapsed:  1.2min finished\n"
     ]
    },
    {
     "name": "stdout",
     "output_type": "stream",
     "text": [
      "mean test score (weighted by split size) of CV rounds:  [0.90796205 0.90810157 0.90200912 0.89512603]\n",
      "Best parameter set {'colsample_bylevel': 0.9, 'colsample_bytree': 0.9, 'learning_rate': 0.1, 'max_depth': 5, 'n_estimators': 300, 'reg_lambda': 1.5, 'seed': 10, 'subsample': 0.9} Corresponding mean CV score 0.9081015719467956\n"
     ]
    }
   ],
   "source": [
    "xgbstackCV = XGBClassifier(seed=10)\n",
    "param_grid = {}\n",
    "param_grid['learning_rate'] = [0.1]\n",
    "param_grid['colsample_bylevel'] = [0.9]\n",
    "param_grid['colsample_bytree'] = [0.9]\n",
    "param_grid['subsample'] = [0.9]\n",
    "param_grid['n_estimators'] = [300]\n",
    "param_grid['reg_lambda']= [1.5]\n",
    "param_grid['seed'] =[10]\n",
    "param_grid['max_depth'] = [3,5,8,10]\n",
    "xgbstackCV_grid = grid_search(xgbstackCV, param_grid,X_train_stack,y_train)"
   ]
  },
  {
   "cell_type": "code",
   "execution_count": 81,
   "metadata": {},
   "outputs": [
    {
     "name": "stdout",
     "output_type": "stream",
     "text": [
      "[0]\tvalidation_0-error:0.092689\tvalidation_1-error:0.137912\n",
      "Multiple eval metrics have been passed: 'validation_1-error' will be used for early stopping.\n",
      "\n",
      "Will train until validation_1-error hasn't improved in 30 rounds.\n",
      "[1]\tvalidation_0-error:0.092922\tvalidation_1-error:0.140299\n",
      "[2]\tvalidation_0-error:0.092922\tvalidation_1-error:0.139106\n",
      "[3]\tvalidation_0-error:0.092875\tvalidation_1-error:0.140299\n",
      "[4]\tvalidation_0-error:0.092922\tvalidation_1-error:0.140082\n",
      "[5]\tvalidation_0-error:0.092968\tvalidation_1-error:0.140299\n",
      "[6]\tvalidation_0-error:0.093061\tvalidation_1-error:0.140191\n",
      "[7]\tvalidation_0-error:0.093201\tvalidation_1-error:0.139648\n",
      "[8]\tvalidation_0-error:0.093201\tvalidation_1-error:0.139431\n",
      "[9]\tvalidation_0-error:0.092968\tvalidation_1-error:0.139214\n",
      "[10]\tvalidation_0-error:0.092829\tvalidation_1-error:0.13878\n",
      "[11]\tvalidation_0-error:0.092875\tvalidation_1-error:0.138997\n",
      "[12]\tvalidation_0-error:0.092875\tvalidation_1-error:0.13954\n",
      "[13]\tvalidation_0-error:0.093061\tvalidation_1-error:0.13954\n",
      "[14]\tvalidation_0-error:0.092968\tvalidation_1-error:0.139431\n",
      "[15]\tvalidation_0-error:0.093108\tvalidation_1-error:0.139648\n",
      "[16]\tvalidation_0-error:0.093015\tvalidation_1-error:0.139431\n",
      "[17]\tvalidation_0-error:0.093015\tvalidation_1-error:0.13954\n",
      "[18]\tvalidation_0-error:0.093108\tvalidation_1-error:0.13954\n",
      "[19]\tvalidation_0-error:0.093015\tvalidation_1-error:0.13954\n",
      "[20]\tvalidation_0-error:0.093015\tvalidation_1-error:0.139431\n",
      "[21]\tvalidation_0-error:0.093015\tvalidation_1-error:0.139431\n",
      "[22]\tvalidation_0-error:0.092922\tvalidation_1-error:0.139431\n",
      "[23]\tvalidation_0-error:0.092922\tvalidation_1-error:0.139431\n",
      "[24]\tvalidation_0-error:0.092968\tvalidation_1-error:0.139431\n",
      "[25]\tvalidation_0-error:0.092968\tvalidation_1-error:0.139431\n",
      "[26]\tvalidation_0-error:0.092968\tvalidation_1-error:0.13954\n",
      "[27]\tvalidation_0-error:0.093015\tvalidation_1-error:0.13954\n",
      "[28]\tvalidation_0-error:0.093015\tvalidation_1-error:0.13954\n",
      "[29]\tvalidation_0-error:0.093015\tvalidation_1-error:0.13954\n",
      "[30]\tvalidation_0-error:0.092968\tvalidation_1-error:0.13954\n",
      "Stopping. Best iteration:\n",
      "[0]\tvalidation_0-error:0.092689\tvalidation_1-error:0.137912\n",
      "\n"
     ]
    },
    {
     "data": {
      "text/plain": [
       "XGBClassifier(base_score=0.5, booster='gbtree', colsample_bylevel=0.9,\n",
       "       colsample_bytree=0.9, gamma=0, learning_rate=0.1, max_delta_step=0,\n",
       "       max_depth=5, min_child_weight=1, missing=None, n_estimators=300,\n",
       "       n_jobs=1, nthread=None, objective='binary:logistic', random_state=0,\n",
       "       reg_alpha=0, reg_lambda=1.5, scale_pos_weight=1, seed=10,\n",
       "       silent=True, subsample=0.9)"
      ]
     },
     "execution_count": 81,
     "metadata": {},
     "output_type": "execute_result"
    }
   ],
   "source": [
    "xgbstackCV_grid.fit(X_train_stack, y_train, eval_metric=['error'], eval_set=[(X_train_stack, y_train),(X_test_stack, y_test)],early_stopping_rounds=30)"
   ]
  },
  {
   "cell_type": "code",
   "execution_count": 82,
   "metadata": {},
   "outputs": [
    {
     "name": "stdout",
     "output_type": "stream",
     "text": [
      "              precision    recall  f1-score   support\n",
      "\n",
      "           0       0.88      0.95      0.91      6932\n",
      "           1       0.79      0.60      0.68      2284\n",
      "\n",
      "   micro avg       0.86      0.86      0.86      9216\n",
      "   macro avg       0.83      0.78      0.80      9216\n",
      "weighted avg       0.86      0.86      0.86      9216\n",
      "\n",
      "Accuracy on test data: 86.208767%\n",
      "Accuracy on training data: 90.731095%\n"
     ]
    }
   ],
   "source": [
    "print(metrics.classification_report(y_test, xgbstack.predict(X_test_stack)))\n",
    "print('Accuracy on test data: %f%%' % (metrics.accuracy_score(y_test, xgbstack.predict(X_test_stack))*100))\n",
    "print('Accuracy on training data: %f%%' % (metrics.accuracy_score(y_train, xgbstack.predict(X_train_stack))*100))"
   ]
  },
  {
   "cell_type": "code",
   "execution_count": 83,
   "metadata": {},
   "outputs": [],
   "source": [
    "from catboost import CatBoostClassifier"
   ]
  },
  {
   "cell_type": "code",
   "execution_count": 84,
   "metadata": {},
   "outputs": [],
   "source": [
    "catb = CatBoostClassifier(learning_rate=0.3,iterations=400,verbose=0,random_seed=10,eval_metric='Accuracy',rsm=0.9)"
   ]
  },
  {
   "cell_type": "code",
   "execution_count": 85,
   "metadata": {},
   "outputs": [
    {
     "data": {
      "text/plain": [
       "<catboost.core.CatBoostClassifier at 0x7efbccc0add8>"
      ]
     },
     "execution_count": 85,
     "metadata": {},
     "output_type": "execute_result"
    }
   ],
   "source": [
    "catb.fit(X_train,y_train,eval_set=[(X_train,y_train), (X_test,y_test)],early_stopping_rounds=40)"
   ]
  },
  {
   "cell_type": "code",
   "execution_count": 86,
   "metadata": {},
   "outputs": [
    {
     "name": "stdout",
     "output_type": "stream",
     "text": [
      "<catboost.core.CatBoostClassifier object at 0x7efbccc0add8>\n",
      "confusion matrix of training data\n",
      "[[15247   889]\n",
      " [ 1797  3569]]\n",
      "confusion matrix of test data\n",
      "[[6562  370]\n",
      " [ 838 1446]]\n",
      "classification report of test data\n",
      "              precision    recall  f1-score   support\n",
      "\n",
      "           0       0.89      0.95      0.92      6932\n",
      "           1       0.80      0.63      0.71      2284\n",
      "\n",
      "   micro avg       0.87      0.87      0.87      9216\n",
      "   macro avg       0.84      0.79      0.81      9216\n",
      "weighted avg       0.86      0.87      0.86      9216\n",
      "\n",
      "Accuracy on test data: 86.892361%\n",
      "Accuracy on training data: 87.508139%\n",
      "Area under the ROC curve : 0.789862\n"
     ]
    }
   ],
   "source": [
    "show_classifier_metrics(catb)"
   ]
  },
  {
   "cell_type": "code",
   "execution_count": 87,
   "metadata": {},
   "outputs": [
    {
     "name": "stdout",
     "output_type": "stream",
     "text": [
      "Doing grid search\n",
      "Fitting 4 folds for each of 4 candidates, totalling 16 fits\n"
     ]
    },
    {
     "name": "stderr",
     "output_type": "stream",
     "text": [
      "[Parallel(n_jobs=-1)]: Using backend LokyBackend with 4 concurrent workers.\n",
      "/opt/conda/lib/python3.6/site-packages/sklearn/externals/joblib/externals/loky/process_executor.py:706: UserWarning: A worker stopped while some jobs were given to the executor. This can be caused by a too short worker timeout or by a memory leak.\n",
      "  \"timeout or by a memory leak.\", UserWarning\n",
      "/opt/conda/lib/python3.6/site-packages/sklearn/externals/joblib/externals/loky/process_executor.py:706: UserWarning: A worker stopped while some jobs were given to the executor. This can be caused by a too short worker timeout or by a memory leak.\n",
      "  \"timeout or by a memory leak.\", UserWarning\n",
      "/opt/conda/lib/python3.6/site-packages/sklearn/externals/joblib/externals/loky/process_executor.py:706: UserWarning: A worker stopped while some jobs were given to the executor. This can be caused by a too short worker timeout or by a memory leak.\n",
      "  \"timeout or by a memory leak.\", UserWarning\n",
      "/opt/conda/lib/python3.6/site-packages/sklearn/externals/joblib/externals/loky/process_executor.py:706: UserWarning: A worker stopped while some jobs were given to the executor. This can be caused by a too short worker timeout or by a memory leak.\n",
      "  \"timeout or by a memory leak.\", UserWarning\n",
      "/opt/conda/lib/python3.6/site-packages/sklearn/externals/joblib/externals/loky/process_executor.py:706: UserWarning: A worker stopped while some jobs were given to the executor. This can be caused by a too short worker timeout or by a memory leak.\n",
      "  \"timeout or by a memory leak.\", UserWarning\n",
      "/opt/conda/lib/python3.6/site-packages/sklearn/externals/joblib/externals/loky/process_executor.py:706: UserWarning: A worker stopped while some jobs were given to the executor. This can be caused by a too short worker timeout or by a memory leak.\n",
      "  \"timeout or by a memory leak.\", UserWarning\n",
      "/opt/conda/lib/python3.6/site-packages/sklearn/externals/joblib/externals/loky/process_executor.py:706: UserWarning: A worker stopped while some jobs were given to the executor. This can be caused by a too short worker timeout or by a memory leak.\n",
      "  \"timeout or by a memory leak.\", UserWarning\n",
      "[Parallel(n_jobs=-1)]: Done  16 out of  16 | elapsed:  7.2min finished\n"
     ]
    },
    {
     "name": "stdout",
     "output_type": "stream",
     "text": [
      "mean test score (weighted by split size) of CV rounds:  [0.8681518  0.86926798 0.86843084 0.86866338]\n",
      "Best parameter set {'depth': 8, 'iterations': 300, 'learning_rate': 0.1, 'reg_lambda': 3, 'rsm': 0.9} Corresponding mean CV score 0.8692679750720863\n"
     ]
    }
   ],
   "source": [
    "### Catboost grid search\n",
    "\n",
    "catbCV = CatBoostClassifier(verbose=0,random_seed=10,eval_metric='Accuracy')\n",
    "param_grid = {}\n",
    "param_grid['learning_rate'] = [0.1]#, 0.3]\n",
    "param_grid['rsm'] = [0.9]\n",
    "#param_grid['subsample'] = [0.9]\n",
    "param_grid['iterations'] = [200,300]\n",
    "param_grid['reg_lambda']= [3] #2\n",
    "param_grid['depth'] = [8,10]#5\n",
    "catbCV_grid = grid_search(catbCV, param_grid,X_train,y_train)"
   ]
  },
  {
   "cell_type": "code",
   "execution_count": 88,
   "metadata": {},
   "outputs": [
    {
     "data": {
      "text/plain": [
       "<catboost.core.CatBoostClassifier at 0x7efbccb1ae10>"
      ]
     },
     "execution_count": 88,
     "metadata": {},
     "output_type": "execute_result"
    }
   ],
   "source": [
    "catbCV_grid.fit(X_train,y_train,eval_set=[(X_train,y_train), (X_test,y_test)],early_stopping_rounds=30)"
   ]
  },
  {
   "cell_type": "code",
   "execution_count": 89,
   "metadata": {},
   "outputs": [
    {
     "name": "stdout",
     "output_type": "stream",
     "text": [
      "<catboost.core.CatBoostClassifier object at 0x7efbccb1ae10>\n",
      "confusion matrix of training data\n",
      "[[15281   855]\n",
      " [ 1827  3539]]\n",
      "confusion matrix of test data\n",
      "[[6569  363]\n",
      " [ 850 1434]]\n",
      "classification report of test data\n",
      "              precision    recall  f1-score   support\n",
      "\n",
      "           0       0.89      0.95      0.92      6932\n",
      "           1       0.80      0.63      0.70      2284\n",
      "\n",
      "   micro avg       0.87      0.87      0.87      9216\n",
      "   macro avg       0.84      0.79      0.81      9216\n",
      "weighted avg       0.86      0.87      0.86      9216\n",
      "\n",
      "Accuracy on test data: 86.838108%\n",
      "Accuracy on training data: 87.526742%\n",
      "Area under the ROC curve : 0.787740\n"
     ]
    }
   ],
   "source": [
    "show_classifier_metrics(catbCV_grid)"
   ]
  },
  {
   "cell_type": "code",
   "execution_count": 90,
   "metadata": {},
   "outputs": [
    {
     "name": "stderr",
     "output_type": "stream",
     "text": [
      "Using TensorFlow backend.\n"
     ]
    }
   ],
   "source": [
    "from imblearn.over_sampling import RandomOverSampler"
   ]
  },
  {
   "cell_type": "code",
   "execution_count": 91,
   "metadata": {},
   "outputs": [
    {
     "data": {
      "text/plain": [
       "0.24955818063435958"
      ]
     },
     "execution_count": 91,
     "metadata": {},
     "output_type": "execute_result"
    }
   ],
   "source": [
    "np.sum(y_train)/y_train.shape[0]"
   ]
  },
  {
   "cell_type": "code",
   "execution_count": 92,
   "metadata": {},
   "outputs": [],
   "source": [
    "ros = RandomOverSampler(random_state=1,sampling_strategy=0.8)"
   ]
  },
  {
   "cell_type": "code",
   "execution_count": 93,
   "metadata": {},
   "outputs": [],
   "source": [
    "X_resampled, y_resampled = ros.fit_resample(X_train, y_train)"
   ]
  },
  {
   "cell_type": "code",
   "execution_count": 94,
   "metadata": {},
   "outputs": [],
   "source": [
    "catb_ros = CatBoostClassifier(learning_rate=0.1,iterations=400,reg_lambda=2,verbose=0,random_seed=10,eval_metric='Accuracy')"
   ]
  },
  {
   "cell_type": "code",
   "execution_count": 95,
   "metadata": {},
   "outputs": [
    {
     "data": {
      "text/plain": [
       "<catboost.core.CatBoostClassifier at 0x7efb792841d0>"
      ]
     },
     "execution_count": 95,
     "metadata": {},
     "output_type": "execute_result"
    }
   ],
   "source": [
    "catb_ros.fit(X_resampled,y_resampled,eval_set=[(X_resampled,y_resampled), (X_test,y_test)],early_stopping_rounds=40)"
   ]
  },
  {
   "cell_type": "code",
   "execution_count": 96,
   "metadata": {},
   "outputs": [
    {
     "name": "stdout",
     "output_type": "stream",
     "text": [
      "Accuracy on test data: 84.787326%\n",
      "Accuracy on training data: 85.246523%\n",
      "Area under the ROC curve : 0.840748\n"
     ]
    }
   ],
   "source": [
    "print('Accuracy on test data: %f%%' % (metrics.accuracy_score(y_test, catb_ros.predict(X_test))*100))\n",
    "print('Accuracy on training data: %f%%' % (metrics.accuracy_score(y_resampled, catb_ros.predict(X_resampled))*100))\n",
    "print('Area under the ROC curve : %f' % (metrics.roc_auc_score(y_test, catb_ros.predict(X_test))))"
   ]
  },
  {
   "cell_type": "markdown",
   "metadata": {},
   "source": [
    "### SMOTE"
   ]
  },
  {
   "cell_type": "code",
   "execution_count": 97,
   "metadata": {},
   "outputs": [],
   "source": [
    "from imblearn.over_sampling import SMOTE"
   ]
  },
  {
   "cell_type": "code",
   "execution_count": 98,
   "metadata": {},
   "outputs": [],
   "source": [
    "smt = SMOTE(random_state=10,sampling_strategy=0.7)\n",
    "X_train_smt, y_train_smt = smt.fit_sample(X_train, y_train)"
   ]
  },
  {
   "cell_type": "code",
   "execution_count": 99,
   "metadata": {},
   "outputs": [
    {
     "data": {
      "text/plain": [
       "0    16136\n",
       "1     5366\n",
       "Name: income, dtype: int64"
      ]
     },
     "execution_count": 99,
     "metadata": {},
     "output_type": "execute_result"
    }
   ],
   "source": [
    "y_train.value_counts()"
   ]
  },
  {
   "cell_type": "code",
   "execution_count": 100,
   "metadata": {},
   "outputs": [
    {
     "data": {
      "text/plain": [
       "array([16136, 11295])"
      ]
     },
     "execution_count": 100,
     "metadata": {},
     "output_type": "execute_result"
    }
   ],
   "source": [
    "np.bincount(y_train_smt)"
   ]
  },
  {
   "cell_type": "code",
   "execution_count": 101,
   "metadata": {},
   "outputs": [],
   "source": [
    "catb_smote = CatBoostClassifier(learning_rate=0.1,iterations=400,reg_lambda=2,verbose=0,random_seed=10,eval_metric='Accuracy')"
   ]
  },
  {
   "cell_type": "code",
   "execution_count": 102,
   "metadata": {},
   "outputs": [
    {
     "data": {
      "text/plain": [
       "<catboost.core.CatBoostClassifier at 0x7efb79284710>"
      ]
     },
     "execution_count": 102,
     "metadata": {},
     "output_type": "execute_result"
    }
   ],
   "source": [
    "catb_smote.fit(X_train_smt,y_train_smt,eval_set=[(X_train_smt,y_train_smt), (X_test,y_test)],early_stopping_rounds=40)"
   ]
  },
  {
   "cell_type": "code",
   "execution_count": 103,
   "metadata": {},
   "outputs": [
    {
     "name": "stdout",
     "output_type": "stream",
     "text": [
      "              precision    recall  f1-score   support\n",
      "\n",
      "           0       0.91      0.90      0.90      6932\n",
      "           1       0.70      0.74      0.72      2284\n",
      "\n",
      "   micro avg       0.86      0.86      0.86      9216\n",
      "   macro avg       0.81      0.82      0.81      9216\n",
      "weighted avg       0.86      0.86      0.86      9216\n",
      "\n",
      "Accuracy on test data: 85.774740%\n",
      "Accuracy on training data: 88.173964%\n",
      "Area under the ROC curve : 0.840748\n"
     ]
    }
   ],
   "source": [
    "print(metrics.classification_report(y_test, catb_smote.predict(X_test)))\n",
    "print('Accuracy on test data: %f%%' % (metrics.accuracy_score(y_test, catb_smote.predict(X_test))*100))\n",
    "print('Accuracy on training data: %f%%' % (metrics.accuracy_score(y_train_smt, catb_smote.predict(X_train_smt))*100))\n",
    "print('Area under the ROC curve : %f' % (metrics.roc_auc_score(y_test, catb_ros.predict(X_test))))"
   ]
  },
  {
   "cell_type": "markdown",
   "metadata": {},
   "source": [
    "#### SMOTE with XGBoost"
   ]
  },
  {
   "cell_type": "code",
   "execution_count": 104,
   "metadata": {},
   "outputs": [
    {
     "name": "stdout",
     "output_type": "stream",
     "text": [
      "[0]\tvalidation_0-error:0.202727\tvalidation_1-error:0.219076\n",
      "Multiple eval metrics have been passed: 'validation_1-error' will be used for early stopping.\n",
      "\n",
      "Will train until validation_1-error hasn't improved in 30 rounds.\n",
      "[1]\tvalidation_0-error:0.184973\tvalidation_1-error:0.207574\n",
      "[2]\tvalidation_0-error:0.184025\tvalidation_1-error:0.184896\n",
      "[3]\tvalidation_0-error:0.181218\tvalidation_1-error:0.183702\n",
      "[4]\tvalidation_0-error:0.182203\tvalidation_1-error:0.190104\n",
      "[5]\tvalidation_0-error:0.182458\tvalidation_1-error:0.192491\n",
      "[6]\tvalidation_0-error:0.176844\tvalidation_1-error:0.186415\n",
      "[7]\tvalidation_0-error:0.177391\tvalidation_1-error:0.186306\n",
      "[8]\tvalidation_0-error:0.17462\tvalidation_1-error:0.187391\n",
      "[9]\tvalidation_0-error:0.172506\tvalidation_1-error:0.184136\n",
      "[10]\tvalidation_0-error:0.171084\tvalidation_1-error:0.178602\n",
      "[11]\tvalidation_0-error:0.170938\tvalidation_1-error:0.182509\n",
      "[12]\tvalidation_0-error:0.169443\tvalidation_1-error:0.181532\n",
      "[13]\tvalidation_0-error:0.166928\tvalidation_1-error:0.177517\n",
      "[14]\tvalidation_0-error:0.166126\tvalidation_1-error:0.177083\n",
      "[15]\tvalidation_0-error:0.166017\tvalidation_1-error:0.171224\n",
      "[16]\tvalidation_0-error:0.165543\tvalidation_1-error:0.177192\n",
      "[17]\tvalidation_0-error:0.164048\tvalidation_1-error:0.176324\n",
      "[18]\tvalidation_0-error:0.162918\tvalidation_1-error:0.172526\n",
      "[19]\tvalidation_0-error:0.162152\tvalidation_1-error:0.173611\n",
      "[20]\tvalidation_0-error:0.162881\tvalidation_1-error:0.172635\n",
      "[21]\tvalidation_0-error:0.16022\tvalidation_1-error:0.171875\n",
      "[22]\tvalidation_0-error:0.158434\tvalidation_1-error:0.171766\n",
      "[23]\tvalidation_0-error:0.156903\tvalidation_1-error:0.170681\n",
      "[24]\tvalidation_0-error:0.155882\tvalidation_1-error:0.169596\n",
      "[25]\tvalidation_0-error:0.155481\tvalidation_1-error:0.170139\n",
      "[26]\tvalidation_0-error:0.154861\tvalidation_1-error:0.168945\n",
      "[27]\tvalidation_0-error:0.153075\tvalidation_1-error:0.168077\n",
      "[28]\tvalidation_0-error:0.152127\tvalidation_1-error:0.166884\n",
      "[29]\tvalidation_0-error:0.151799\tvalidation_1-error:0.166016\n",
      "[30]\tvalidation_0-error:0.147461\tvalidation_1-error:0.167969\n",
      "[31]\tvalidation_0-error:0.145383\tvalidation_1-error:0.166233\n",
      "[32]\tvalidation_0-error:0.145711\tvalidation_1-error:0.165256\n",
      "[33]\tvalidation_0-error:0.145419\tvalidation_1-error:0.165473\n",
      "[34]\tvalidation_0-error:0.144946\tvalidation_1-error:0.165473\n",
      "[35]\tvalidation_0-error:0.143341\tvalidation_1-error:0.165365\n",
      "[36]\tvalidation_0-error:0.143232\tvalidation_1-error:0.164931\n",
      "[37]\tvalidation_0-error:0.142612\tvalidation_1-error:0.164171\n",
      "[38]\tvalidation_0-error:0.142612\tvalidation_1-error:0.164171\n",
      "[39]\tvalidation_0-error:0.141847\tvalidation_1-error:0.163411\n",
      "[40]\tvalidation_0-error:0.140899\tvalidation_1-error:0.163303\n",
      "[41]\tvalidation_0-error:0.141118\tvalidation_1-error:0.162543\n",
      "[42]\tvalidation_0-error:0.140462\tvalidation_1-error:0.161784\n",
      "[43]\tvalidation_0-error:0.140133\tvalidation_1-error:0.16135\n",
      "[44]\tvalidation_0-error:0.139805\tvalidation_1-error:0.161133\n",
      "[45]\tvalidation_0-error:0.138821\tvalidation_1-error:0.159939\n",
      "[46]\tvalidation_0-error:0.137946\tvalidation_1-error:0.159288\n",
      "[47]\tvalidation_0-error:0.137983\tvalidation_1-error:0.159397\n",
      "[48]\tvalidation_0-error:0.13791\tvalidation_1-error:0.158963\n",
      "[49]\tvalidation_0-error:0.137618\tvalidation_1-error:0.15918\n",
      "[50]\tvalidation_0-error:0.13729\tvalidation_1-error:0.15918\n",
      "[51]\tvalidation_0-error:0.136634\tvalidation_1-error:0.15918\n",
      "[52]\tvalidation_0-error:0.136269\tvalidation_1-error:0.159614\n",
      "[53]\tvalidation_0-error:0.135394\tvalidation_1-error:0.15842\n",
      "[54]\tvalidation_0-error:0.135321\tvalidation_1-error:0.158637\n",
      "[55]\tvalidation_0-error:0.135358\tvalidation_1-error:0.158312\n",
      "[56]\tvalidation_0-error:0.135467\tvalidation_1-error:0.157769\n",
      "[57]\tvalidation_0-error:0.135066\tvalidation_1-error:0.157552\n",
      "[58]\tvalidation_0-error:0.134775\tvalidation_1-error:0.156033\n",
      "[59]\tvalidation_0-error:0.134374\tvalidation_1-error:0.155707\n",
      "[60]\tvalidation_0-error:0.134337\tvalidation_1-error:0.156033\n",
      "[61]\tvalidation_0-error:0.134191\tvalidation_1-error:0.156684\n",
      "[62]\tvalidation_0-error:0.133061\tvalidation_1-error:0.156033\n",
      "[63]\tvalidation_0-error:0.132915\tvalidation_1-error:0.156359\n",
      "[64]\tvalidation_0-error:0.132769\tvalidation_1-error:0.15549\n",
      "[65]\tvalidation_0-error:0.132551\tvalidation_1-error:0.155165\n",
      "[66]\tvalidation_0-error:0.131785\tvalidation_1-error:0.155273\n",
      "[67]\tvalidation_0-error:0.131639\tvalidation_1-error:0.154948\n",
      "[68]\tvalidation_0-error:0.131202\tvalidation_1-error:0.155165\n",
      "[69]\tvalidation_0-error:0.130546\tvalidation_1-error:0.154839\n",
      "[70]\tvalidation_0-error:0.129853\tvalidation_1-error:0.155273\n",
      "[71]\tvalidation_0-error:0.130035\tvalidation_1-error:0.153429\n",
      "[72]\tvalidation_0-error:0.128869\tvalidation_1-error:0.153537\n",
      "[73]\tvalidation_0-error:0.128067\tvalidation_1-error:0.152344\n",
      "[74]\tvalidation_0-error:0.127739\tvalidation_1-error:0.152127\n",
      "[75]\tvalidation_0-error:0.127666\tvalidation_1-error:0.152018\n",
      "[76]\tvalidation_0-error:0.127739\tvalidation_1-error:0.152886\n",
      "[77]\tvalidation_0-error:0.127447\tvalidation_1-error:0.152669\n",
      "[78]\tvalidation_0-error:0.127374\tvalidation_1-error:0.152018\n",
      "[79]\tvalidation_0-error:0.127447\tvalidation_1-error:0.15115\n",
      "[80]\tvalidation_0-error:0.1269\tvalidation_1-error:0.151259\n",
      "[81]\tvalidation_0-error:0.126864\tvalidation_1-error:0.151042\n",
      "[82]\tvalidation_0-error:0.126499\tvalidation_1-error:0.150608\n",
      "[83]\tvalidation_0-error:0.126426\tvalidation_1-error:0.150608\n",
      "[84]\tvalidation_0-error:0.126463\tvalidation_1-error:0.150608\n",
      "[85]\tvalidation_0-error:0.125989\tvalidation_1-error:0.150499\n",
      "[86]\tvalidation_0-error:0.125551\tvalidation_1-error:0.150716\n",
      "[87]\tvalidation_0-error:0.12577\tvalidation_1-error:0.149957\n",
      "[88]\tvalidation_0-error:0.12526\tvalidation_1-error:0.14898\n",
      "[89]\tvalidation_0-error:0.124822\tvalidation_1-error:0.14898\n",
      "[90]\tvalidation_0-error:0.124348\tvalidation_1-error:0.149089\n",
      "[91]\tvalidation_0-error:0.124057\tvalidation_1-error:0.149414\n",
      "[92]\tvalidation_0-error:0.123947\tvalidation_1-error:0.149848\n",
      "[93]\tvalidation_0-error:0.123947\tvalidation_1-error:0.149848\n",
      "[94]\tvalidation_0-error:0.123473\tvalidation_1-error:0.149848\n",
      "[95]\tvalidation_0-error:0.123291\tvalidation_1-error:0.148872\n",
      "[96]\tvalidation_0-error:0.123255\tvalidation_1-error:0.149523\n",
      "[97]\tvalidation_0-error:0.123072\tvalidation_1-error:0.149848\n",
      "[98]\tvalidation_0-error:0.122963\tvalidation_1-error:0.149523\n",
      "[99]\tvalidation_0-error:0.122927\tvalidation_1-error:0.149523\n",
      "[100]\tvalidation_0-error:0.122708\tvalidation_1-error:0.149414\n",
      "[101]\tvalidation_0-error:0.12227\tvalidation_1-error:0.148872\n",
      "[102]\tvalidation_0-error:0.122088\tvalidation_1-error:0.149089\n",
      "[103]\tvalidation_0-error:0.121942\tvalidation_1-error:0.14898\n",
      "[104]\tvalidation_0-error:0.12176\tvalidation_1-error:0.149197\n",
      "[105]\tvalidation_0-error:0.120849\tvalidation_1-error:0.148763\n",
      "[106]\tvalidation_0-error:0.120703\tvalidation_1-error:0.147786\n",
      "[107]\tvalidation_0-error:0.120557\tvalidation_1-error:0.147569\n",
      "[108]\tvalidation_0-error:0.120484\tvalidation_1-error:0.147461\n",
      "[109]\tvalidation_0-error:0.120521\tvalidation_1-error:0.147244\n",
      "[110]\tvalidation_0-error:0.120411\tvalidation_1-error:0.147135\n",
      "[111]\tvalidation_0-error:0.120047\tvalidation_1-error:0.146918\n",
      "[112]\tvalidation_0-error:0.120083\tvalidation_1-error:0.147027\n",
      "[113]\tvalidation_0-error:0.12001\tvalidation_1-error:0.147027\n",
      "[114]\tvalidation_0-error:0.119536\tvalidation_1-error:0.147027\n",
      "[115]\tvalidation_0-error:0.119719\tvalidation_1-error:0.146918\n",
      "[116]\tvalidation_0-error:0.119318\tvalidation_1-error:0.147135\n",
      "[117]\tvalidation_0-error:0.119609\tvalidation_1-error:0.146593\n",
      "[118]\tvalidation_0-error:0.119062\tvalidation_1-error:0.145833\n",
      "[119]\tvalidation_0-error:0.118552\tvalidation_1-error:0.14605\n",
      "[120]\tvalidation_0-error:0.118333\tvalidation_1-error:0.146593\n",
      "[121]\tvalidation_0-error:0.118443\tvalidation_1-error:0.145833\n",
      "[122]\tvalidation_0-error:0.117714\tvalidation_1-error:0.146376\n",
      "[123]\tvalidation_0-error:0.117531\tvalidation_1-error:0.14605\n",
      "[124]\tvalidation_0-error:0.117349\tvalidation_1-error:0.145942\n",
      "[125]\tvalidation_0-error:0.117276\tvalidation_1-error:0.145725\n",
      "[126]\tvalidation_0-error:0.116839\tvalidation_1-error:0.145508\n",
      "[127]\tvalidation_0-error:0.116328\tvalidation_1-error:0.145725\n",
      "[128]\tvalidation_0-error:0.116511\tvalidation_1-error:0.145725\n",
      "[129]\tvalidation_0-error:0.116037\tvalidation_1-error:0.146267\n",
      "[130]\tvalidation_0-error:0.116474\tvalidation_1-error:0.145616\n",
      "[131]\tvalidation_0-error:0.116219\tvalidation_1-error:0.145725\n",
      "[132]\tvalidation_0-error:0.11611\tvalidation_1-error:0.145616\n",
      "[133]\tvalidation_0-error:0.116\tvalidation_1-error:0.145725\n",
      "[134]\tvalidation_0-error:0.115927\tvalidation_1-error:0.144748\n",
      "[135]\tvalidation_0-error:0.115964\tvalidation_1-error:0.145291\n",
      "[136]\tvalidation_0-error:0.116037\tvalidation_1-error:0.145074\n",
      "[137]\tvalidation_0-error:0.11549\tvalidation_1-error:0.145291\n",
      "[138]\tvalidation_0-error:0.115344\tvalidation_1-error:0.145182\n",
      "[139]\tvalidation_0-error:0.115198\tvalidation_1-error:0.144965\n",
      "[140]\tvalidation_0-error:0.115089\tvalidation_1-error:0.145291\n",
      "[141]\tvalidation_0-error:0.114724\tvalidation_1-error:0.145399\n",
      "[142]\tvalidation_0-error:0.114761\tvalidation_1-error:0.145399\n",
      "[143]\tvalidation_0-error:0.114542\tvalidation_1-error:0.144965\n",
      "[144]\tvalidation_0-error:0.114761\tvalidation_1-error:0.145182\n",
      "[145]\tvalidation_0-error:0.114469\tvalidation_1-error:0.145508\n",
      "[146]\tvalidation_0-error:0.114433\tvalidation_1-error:0.144748\n",
      "[147]\tvalidation_0-error:0.114287\tvalidation_1-error:0.145074\n",
      "[148]\tvalidation_0-error:0.114214\tvalidation_1-error:0.145074\n",
      "[149]\tvalidation_0-error:0.11425\tvalidation_1-error:0.14464\n",
      "[150]\tvalidation_0-error:0.113886\tvalidation_1-error:0.144206\n",
      "[151]\tvalidation_0-error:0.113813\tvalidation_1-error:0.14388\n",
      "[152]\tvalidation_0-error:0.113813\tvalidation_1-error:0.144097\n",
      "[153]\tvalidation_0-error:0.113886\tvalidation_1-error:0.144314\n",
      "[154]\tvalidation_0-error:0.113631\tvalidation_1-error:0.144097\n",
      "[155]\tvalidation_0-error:0.113667\tvalidation_1-error:0.144206\n",
      "[156]\tvalidation_0-error:0.113631\tvalidation_1-error:0.144314\n",
      "[157]\tvalidation_0-error:0.113521\tvalidation_1-error:0.144206\n",
      "[158]\tvalidation_0-error:0.113594\tvalidation_1-error:0.143989\n",
      "[159]\tvalidation_0-error:0.113485\tvalidation_1-error:0.143772\n",
      "[160]\tvalidation_0-error:0.113558\tvalidation_1-error:0.144314\n",
      "[161]\tvalidation_0-error:0.113375\tvalidation_1-error:0.143772\n",
      "[162]\tvalidation_0-error:0.113084\tvalidation_1-error:0.143989\n",
      "[163]\tvalidation_0-error:0.112865\tvalidation_1-error:0.143989\n",
      "[164]\tvalidation_0-error:0.112901\tvalidation_1-error:0.14388\n",
      "[165]\tvalidation_0-error:0.11312\tvalidation_1-error:0.143555\n",
      "[166]\tvalidation_0-error:0.112901\tvalidation_1-error:0.143663\n",
      "[167]\tvalidation_0-error:0.112792\tvalidation_1-error:0.143555\n",
      "[168]\tvalidation_0-error:0.112865\tvalidation_1-error:0.143772\n",
      "[169]\tvalidation_0-error:0.112792\tvalidation_1-error:0.14388\n",
      "[170]\tvalidation_0-error:0.112719\tvalidation_1-error:0.144314\n",
      "[171]\tvalidation_0-error:0.112646\tvalidation_1-error:0.143989\n",
      "[172]\tvalidation_0-error:0.112573\tvalidation_1-error:0.143555\n",
      "[173]\tvalidation_0-error:0.112428\tvalidation_1-error:0.143772\n",
      "[174]\tvalidation_0-error:0.112209\tvalidation_1-error:0.143772\n",
      "[175]\tvalidation_0-error:0.111917\tvalidation_1-error:0.144097\n",
      "[176]\tvalidation_0-error:0.111844\tvalidation_1-error:0.144206\n",
      "[177]\tvalidation_0-error:0.111881\tvalidation_1-error:0.143555\n",
      "[178]\tvalidation_0-error:0.111735\tvalidation_1-error:0.143338\n",
      "[179]\tvalidation_0-error:0.111808\tvalidation_1-error:0.143446\n",
      "[180]\tvalidation_0-error:0.111662\tvalidation_1-error:0.143338\n",
      "[181]\tvalidation_0-error:0.111443\tvalidation_1-error:0.143446\n",
      "[182]\tvalidation_0-error:0.11137\tvalidation_1-error:0.143446\n",
      "[183]\tvalidation_0-error:0.111261\tvalidation_1-error:0.143338\n",
      "[184]\tvalidation_0-error:0.111152\tvalidation_1-error:0.143338\n",
      "[185]\tvalidation_0-error:0.111079\tvalidation_1-error:0.143663\n",
      "[186]\tvalidation_0-error:0.110896\tvalidation_1-error:0.143446\n",
      "[187]\tvalidation_0-error:0.110751\tvalidation_1-error:0.143555\n",
      "[188]\tvalidation_0-error:0.110568\tvalidation_1-error:0.143121\n",
      "[189]\tvalidation_0-error:0.110568\tvalidation_1-error:0.143229\n",
      "[190]\tvalidation_0-error:0.110641\tvalidation_1-error:0.143663\n",
      "[191]\tvalidation_0-error:0.110495\tvalidation_1-error:0.144423\n",
      "[192]\tvalidation_0-error:0.110568\tvalidation_1-error:0.144097\n",
      "[193]\tvalidation_0-error:0.110313\tvalidation_1-error:0.143772\n",
      "[194]\tvalidation_0-error:0.110131\tvalidation_1-error:0.144097\n",
      "[195]\tvalidation_0-error:0.110167\tvalidation_1-error:0.143663\n",
      "[196]\tvalidation_0-error:0.110094\tvalidation_1-error:0.144097\n",
      "[197]\tvalidation_0-error:0.109912\tvalidation_1-error:0.143446\n",
      "[198]\tvalidation_0-error:0.109949\tvalidation_1-error:0.143338\n",
      "[199]\tvalidation_0-error:0.109803\tvalidation_1-error:0.143555\n",
      "[200]\tvalidation_0-error:0.109912\tvalidation_1-error:0.143555\n",
      "[201]\tvalidation_0-error:0.109548\tvalidation_1-error:0.143555\n",
      "[202]\tvalidation_0-error:0.109475\tvalidation_1-error:0.143555\n",
      "[203]\tvalidation_0-error:0.109475\tvalidation_1-error:0.143446\n",
      "[204]\tvalidation_0-error:0.109584\tvalidation_1-error:0.143121\n",
      "[205]\tvalidation_0-error:0.109365\tvalidation_1-error:0.142687\n",
      "[206]\tvalidation_0-error:0.109438\tvalidation_1-error:0.142687\n",
      "[207]\tvalidation_0-error:0.109548\tvalidation_1-error:0.142795\n",
      "[208]\tvalidation_0-error:0.109438\tvalidation_1-error:0.142578\n",
      "[209]\tvalidation_0-error:0.109548\tvalidation_1-error:0.142253\n",
      "[210]\tvalidation_0-error:0.109621\tvalidation_1-error:0.14247\n",
      "[211]\tvalidation_0-error:0.109584\tvalidation_1-error:0.142144\n",
      "[212]\tvalidation_0-error:0.109839\tvalidation_1-error:0.142036\n",
      "[213]\tvalidation_0-error:0.109657\tvalidation_1-error:0.142144\n",
      "[214]\tvalidation_0-error:0.10973\tvalidation_1-error:0.141927\n",
      "[215]\tvalidation_0-error:0.109584\tvalidation_1-error:0.142036\n",
      "[216]\tvalidation_0-error:0.109438\tvalidation_1-error:0.142144\n",
      "[217]\tvalidation_0-error:0.109256\tvalidation_1-error:0.142144\n",
      "[218]\tvalidation_0-error:0.10911\tvalidation_1-error:0.142253\n",
      "[219]\tvalidation_0-error:0.108855\tvalidation_1-error:0.142253\n",
      "[220]\tvalidation_0-error:0.108928\tvalidation_1-error:0.142361\n",
      "[221]\tvalidation_0-error:0.108818\tvalidation_1-error:0.142578\n",
      "[222]\tvalidation_0-error:0.108855\tvalidation_1-error:0.142687\n",
      "[223]\tvalidation_0-error:0.108855\tvalidation_1-error:0.142361\n",
      "[224]\tvalidation_0-error:0.108891\tvalidation_1-error:0.142253\n",
      "[225]\tvalidation_0-error:0.108891\tvalidation_1-error:0.142253\n",
      "[226]\tvalidation_0-error:0.108417\tvalidation_1-error:0.142253\n",
      "[227]\tvalidation_0-error:0.108636\tvalidation_1-error:0.142036\n",
      "[228]\tvalidation_0-error:0.108636\tvalidation_1-error:0.141927\n",
      "[229]\tvalidation_0-error:0.108563\tvalidation_1-error:0.142253\n",
      "[230]\tvalidation_0-error:0.108636\tvalidation_1-error:0.141819\n",
      "[231]\tvalidation_0-error:0.108746\tvalidation_1-error:0.141927\n",
      "[232]\tvalidation_0-error:0.108636\tvalidation_1-error:0.14171\n",
      "[233]\tvalidation_0-error:0.108746\tvalidation_1-error:0.14171\n",
      "[234]\tvalidation_0-error:0.108855\tvalidation_1-error:0.14171\n",
      "[235]\tvalidation_0-error:0.108782\tvalidation_1-error:0.142036\n",
      "[236]\tvalidation_0-error:0.1086\tvalidation_1-error:0.142253\n",
      "[237]\tvalidation_0-error:0.108454\tvalidation_1-error:0.142253\n",
      "[238]\tvalidation_0-error:0.108272\tvalidation_1-error:0.142253\n",
      "[239]\tvalidation_0-error:0.108308\tvalidation_1-error:0.142253\n",
      "[240]\tvalidation_0-error:0.108345\tvalidation_1-error:0.142361\n",
      "[241]\tvalidation_0-error:0.108308\tvalidation_1-error:0.142253\n",
      "[242]\tvalidation_0-error:0.108199\tvalidation_1-error:0.142687\n",
      "[243]\tvalidation_0-error:0.108016\tvalidation_1-error:0.142795\n",
      "[244]\tvalidation_0-error:0.10798\tvalidation_1-error:0.142687\n",
      "[245]\tvalidation_0-error:0.107834\tvalidation_1-error:0.142253\n",
      "[246]\tvalidation_0-error:0.107798\tvalidation_1-error:0.142361\n",
      "[247]\tvalidation_0-error:0.107834\tvalidation_1-error:0.142036\n",
      "[248]\tvalidation_0-error:0.107834\tvalidation_1-error:0.142144\n",
      "[249]\tvalidation_0-error:0.107798\tvalidation_1-error:0.142144\n",
      "[250]\tvalidation_0-error:0.107834\tvalidation_1-error:0.142144\n",
      "[251]\tvalidation_0-error:0.107688\tvalidation_1-error:0.141927\n",
      "[252]\tvalidation_0-error:0.107615\tvalidation_1-error:0.142036\n",
      "[253]\tvalidation_0-error:0.107579\tvalidation_1-error:0.141819\n",
      "[254]\tvalidation_0-error:0.107506\tvalidation_1-error:0.141819\n",
      "[255]\tvalidation_0-error:0.107543\tvalidation_1-error:0.141819\n",
      "[256]\tvalidation_0-error:0.107178\tvalidation_1-error:0.141602\n",
      "[257]\tvalidation_0-error:0.107105\tvalidation_1-error:0.14171\n",
      "[258]\tvalidation_0-error:0.107178\tvalidation_1-error:0.141602\n",
      "[259]\tvalidation_0-error:0.107142\tvalidation_1-error:0.141385\n",
      "[260]\tvalidation_0-error:0.107142\tvalidation_1-error:0.141385\n",
      "[261]\tvalidation_0-error:0.107324\tvalidation_1-error:0.141602\n",
      "[262]\tvalidation_0-error:0.107178\tvalidation_1-error:0.14171\n",
      "[263]\tvalidation_0-error:0.107214\tvalidation_1-error:0.141602\n",
      "[264]\tvalidation_0-error:0.107287\tvalidation_1-error:0.141819\n",
      "[265]\tvalidation_0-error:0.107287\tvalidation_1-error:0.141819\n",
      "[266]\tvalidation_0-error:0.107178\tvalidation_1-error:0.141819\n",
      "[267]\tvalidation_0-error:0.107032\tvalidation_1-error:0.141385\n",
      "[268]\tvalidation_0-error:0.10685\tvalidation_1-error:0.141602\n",
      "[269]\tvalidation_0-error:0.106886\tvalidation_1-error:0.141602\n",
      "[270]\tvalidation_0-error:0.106704\tvalidation_1-error:0.141819\n",
      "[271]\tvalidation_0-error:0.106449\tvalidation_1-error:0.142036\n",
      "[272]\tvalidation_0-error:0.106267\tvalidation_1-error:0.141819\n",
      "[273]\tvalidation_0-error:0.106303\tvalidation_1-error:0.14171\n",
      "[274]\tvalidation_0-error:0.106303\tvalidation_1-error:0.141927\n",
      "[275]\tvalidation_0-error:0.106595\tvalidation_1-error:0.141602\n",
      "[276]\tvalidation_0-error:0.106595\tvalidation_1-error:0.141819\n",
      "[277]\tvalidation_0-error:0.106485\tvalidation_1-error:0.14171\n",
      "[278]\tvalidation_0-error:0.106558\tvalidation_1-error:0.141276\n",
      "[279]\tvalidation_0-error:0.106522\tvalidation_1-error:0.141059\n",
      "[280]\tvalidation_0-error:0.106522\tvalidation_1-error:0.141059\n",
      "[281]\tvalidation_0-error:0.106485\tvalidation_1-error:0.141059\n",
      "[282]\tvalidation_0-error:0.106485\tvalidation_1-error:0.141059\n",
      "[283]\tvalidation_0-error:0.106412\tvalidation_1-error:0.141168\n",
      "[284]\tvalidation_0-error:0.106412\tvalidation_1-error:0.141168\n",
      "[285]\tvalidation_0-error:0.106485\tvalidation_1-error:0.141276\n",
      "[286]\tvalidation_0-error:0.106121\tvalidation_1-error:0.141059\n",
      "[287]\tvalidation_0-error:0.106157\tvalidation_1-error:0.141168\n",
      "[288]\tvalidation_0-error:0.106011\tvalidation_1-error:0.141168\n",
      "[289]\tvalidation_0-error:0.105939\tvalidation_1-error:0.140951\n",
      "[290]\tvalidation_0-error:0.105866\tvalidation_1-error:0.140951\n",
      "[291]\tvalidation_0-error:0.105756\tvalidation_1-error:0.140625\n",
      "[292]\tvalidation_0-error:0.10572\tvalidation_1-error:0.141168\n",
      "[293]\tvalidation_0-error:0.10572\tvalidation_1-error:0.141385\n",
      "[294]\tvalidation_0-error:0.105683\tvalidation_1-error:0.141385\n",
      "[295]\tvalidation_0-error:0.10561\tvalidation_1-error:0.141276\n",
      "[296]\tvalidation_0-error:0.105683\tvalidation_1-error:0.141059\n",
      "[297]\tvalidation_0-error:0.105647\tvalidation_1-error:0.141059\n",
      "[298]\tvalidation_0-error:0.105829\tvalidation_1-error:0.141276\n",
      "[299]\tvalidation_0-error:0.105866\tvalidation_1-error:0.141493\n",
      "[300]\tvalidation_0-error:0.10572\tvalidation_1-error:0.141602\n",
      "[301]\tvalidation_0-error:0.105574\tvalidation_1-error:0.141602\n",
      "[302]\tvalidation_0-error:0.105501\tvalidation_1-error:0.141493\n",
      "[303]\tvalidation_0-error:0.105282\tvalidation_1-error:0.141385\n",
      "[304]\tvalidation_0-error:0.105173\tvalidation_1-error:0.141385\n",
      "[305]\tvalidation_0-error:0.105282\tvalidation_1-error:0.141819\n",
      "[306]\tvalidation_0-error:0.105319\tvalidation_1-error:0.141493\n",
      "[307]\tvalidation_0-error:0.105355\tvalidation_1-error:0.14171\n",
      "[308]\tvalidation_0-error:0.105246\tvalidation_1-error:0.141602\n",
      "[309]\tvalidation_0-error:0.105246\tvalidation_1-error:0.14171\n",
      "[310]\tvalidation_0-error:0.105465\tvalidation_1-error:0.141276\n",
      "[311]\tvalidation_0-error:0.105428\tvalidation_1-error:0.141493\n",
      "[312]\tvalidation_0-error:0.105246\tvalidation_1-error:0.14171\n",
      "[313]\tvalidation_0-error:0.105137\tvalidation_1-error:0.141819\n",
      "[314]\tvalidation_0-error:0.105173\tvalidation_1-error:0.141927\n",
      "[315]\tvalidation_0-error:0.105027\tvalidation_1-error:0.141927\n",
      "[316]\tvalidation_0-error:0.104845\tvalidation_1-error:0.142036\n",
      "[317]\tvalidation_0-error:0.104845\tvalidation_1-error:0.141927\n",
      "[318]\tvalidation_0-error:0.104845\tvalidation_1-error:0.141602\n",
      "[319]\tvalidation_0-error:0.104881\tvalidation_1-error:0.141602\n",
      "[320]\tvalidation_0-error:0.104918\tvalidation_1-error:0.141493\n",
      "[321]\tvalidation_0-error:0.104808\tvalidation_1-error:0.141168\n",
      "Stopping. Best iteration:\n",
      "[291]\tvalidation_0-error:0.105756\tvalidation_1-error:0.140625\n",
      "\n"
     ]
    },
    {
     "data": {
      "text/plain": [
       "XGBClassifier(base_score=0.5, booster='gbtree', colsample_bylevel=0.9,\n",
       "       colsample_bytree=0.9, gamma=0, learning_rate=0.1, max_delta_step=0,\n",
       "       max_depth=5, min_child_weight=1, missing=None, n_estimators=400,\n",
       "       n_jobs=1, nthread=None, objective='binary:logistic', random_state=0,\n",
       "       reg_alpha=0, reg_lambda=1.5, scale_pos_weight=1, seed=10,\n",
       "       silent=True, subsample=0.9, verbosity=1)"
      ]
     },
     "execution_count": 104,
     "metadata": {},
     "output_type": "execute_result"
    }
   ],
   "source": [
    "param = {}\n",
    "param['learning_rate'] = 0.1\n",
    "param['verbosity'] = 1\n",
    "param['colsample_bylevel'] = 0.9\n",
    "param['colsample_bytree'] = 0.9\n",
    "param['subsample'] = 0.9\n",
    "param['reg_lambda']= 1.5\n",
    "param['max_depth'] = 5\n",
    "param['n_estimators'] = 400\n",
    "param['seed']=10\n",
    "xgb_smote= XGBClassifier(**param)\n",
    "xgb_smote.fit(X_train_smt, y_train_smt, eval_metric=['error'], eval_set=[(X_train_smt, y_train_smt),(X_test.values, y_test.values)],early_stopping_rounds=30)"
   ]
  },
  {
   "cell_type": "code",
   "execution_count": 105,
   "metadata": {},
   "outputs": [
    {
     "name": "stdout",
     "output_type": "stream",
     "text": [
      "              precision    recall  f1-score   support\n",
      "\n",
      "           0       0.91      0.90      0.91      6932\n",
      "           1       0.71      0.74      0.72      2284\n",
      "\n",
      "   micro avg       0.86      0.86      0.86      9216\n",
      "   macro avg       0.81      0.82      0.81      9216\n",
      "weighted avg       0.86      0.86      0.86      9216\n",
      "\n",
      "Accuracy on test data: 85.937500%\n",
      "Accuracy on training data: 89.424374%\n",
      "Area under the ROC curve : 0.819917\n"
     ]
    }
   ],
   "source": [
    "print(metrics.classification_report(y_test, xgb_smote.predict(X_test.values)))\n",
    "print('Accuracy on test data: %f%%' % (metrics.accuracy_score(y_test, xgb_smote.predict(X_test.values))*100))\n",
    "print('Accuracy on training data: %f%%' % (metrics.accuracy_score(y_train_smt, xgb_smote.predict(X_train_smt))*100))\n",
    "print('Area under the ROC curve : %f' % (metrics.roc_auc_score(y_test, xgb_smote.predict(X_test.values))))"
   ]
  },
  {
   "cell_type": "code",
   "execution_count": 106,
   "metadata": {},
   "outputs": [],
   "source": []
  }
 ],
 "metadata": {
  "kernelspec": {
   "display_name": "Python 3",
   "language": "python",
   "name": "python3"
  },
  "language_info": {
   "codemirror_mode": {
    "name": "ipython",
    "version": 3
   },
   "file_extension": ".py",
   "mimetype": "text/x-python",
   "name": "python",
   "nbconvert_exporter": "python",
   "pygments_lexer": "ipython3",
   "version": "3.6.8"
  }
 },
 "nbformat": 4,
 "nbformat_minor": 1
}
