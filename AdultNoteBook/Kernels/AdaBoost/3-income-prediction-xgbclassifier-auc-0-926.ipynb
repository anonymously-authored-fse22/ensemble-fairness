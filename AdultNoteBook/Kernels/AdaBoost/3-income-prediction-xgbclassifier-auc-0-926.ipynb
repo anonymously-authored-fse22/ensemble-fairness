{
 "cells": [
  {
   "cell_type": "markdown",
   "metadata": {
    "papermill": {
     "duration": 0.050457,
     "end_time": "2021-03-09T19:39:58.015137",
     "exception": false,
     "start_time": "2021-03-09T19:39:57.964680",
     "status": "completed"
    },
    "tags": []
   },
   "source": [
    "**Please give it a vote if you like it**"
   ]
  },
  {
   "cell_type": "markdown",
   "metadata": {
    "papermill": {
     "duration": 0.049048,
     "end_time": "2021-03-09T19:39:58.113695",
     "exception": false,
     "start_time": "2021-03-09T19:39:58.064647",
     "status": "completed"
    },
    "tags": []
   },
   "source": [
    "<a></a>\n",
    "\n",
    "## Table of Contents\n",
    "\n",
    "\n",
    "[1. Abstract](#1)\n",
    "\n",
    "[2. Division of the data between train and test](#2)\n",
    "\n",
    "[3. Data Exploration with target varaible](#3)\n",
    "\n",
    "[4. Data pre-processing](#4)\n",
    "\n",
    "[5. Baseline model:](#5)\n",
    "\n",
    "   -Model with missing values\n",
    "   \n",
    "   -Model imputing missing values\n",
    "   \n",
    "   -Models with SMOTE and UNDER techniques for imbalanced datasets\n",
    "\n",
    "[6. Tuning and testing](#6)\n",
    "\n",
    "[7. Shapply values - Feature importance](#7)\n",
    "\n",
    "[8. Prediction and Evaluation](#8)\n",
    "\n",
    "[9. Conclusion](#9)\n",
    "\n",
    "\n",
    "    "
   ]
  },
  {
   "cell_type": "markdown",
   "metadata": {
    "papermill": {
     "duration": 0.048978,
     "end_time": "2021-03-09T19:39:58.211558",
     "exception": false,
     "start_time": "2021-03-09T19:39:58.162580",
     "status": "completed"
    },
    "tags": []
   },
   "source": [
    "\n",
    "# 1.  Abstract \n",
    "\n",
    "\n",
    "\n",
    "\n",
    "This data set was provided by Ronny Kohavi and Barry Becker from the 1994 US Cenus and retrieved from: \"http://archive.ics.uci.edu/ml/datasets/Adul\".\n",
    "\n",
    "The task of this project is to classify whether a person makes more or less than 50K per year.\n",
    "\n",
    "The dataset is composed of 14 variables (6 continuous and 8 nominal).\n",
    "    \n",
    "\n",
    "Data with missing values: \n",
    "    - 0 : 76%\n",
    "    - 1: 24%\n",
    "    \n",
    "Data dropping missing values: \n",
    "    - 0: 0.7510% \n",
    "    - 1: 0.2589%\n",
    "\n",
    "\n",
    "****Imbalance data set probelm**\n",
    "**"
   ]
  },
  {
   "cell_type": "code",
   "execution_count": 1,
   "metadata": {
    "execution": {
     "iopub.execute_input": "2021-03-09T19:39:58.321197Z",
     "iopub.status.busy": "2021-03-09T19:39:58.320374Z",
     "iopub.status.idle": "2021-03-09T19:40:02.526180Z",
     "shell.execute_reply": "2021-03-09T19:40:02.527007Z"
    },
    "papermill": {
     "duration": 4.266665,
     "end_time": "2021-03-09T19:40:02.527241",
     "exception": false,
     "start_time": "2021-03-09T19:39:58.260576",
     "status": "completed"
    },
    "tags": []
   },
   "outputs": [],
   "source": [
    "## Libraries\n",
    "import pandas as pd\n",
    "import numpy as np\n",
    "from sklearn.model_selection import train_test_split\n",
    "import seaborn as sns\n",
    "import matplotlib.pyplot as plt \n",
    "from sklearn.preprocessing import LabelEncoder\n",
    "import warnings\n",
    "warnings.filterwarnings(\"ignore\")\n",
    "from category_encoders.one_hot import OneHotEncoder\n",
    "import imblearn \n",
    "from imblearn.under_sampling import RandomUnderSampler\n",
    "from imblearn.over_sampling import RandomOverSampler, SMOTE\n",
    "from imblearn.pipeline import Pipeline\n",
    "from sklearn.model_selection import GridSearchCV, cross_val_score, StratifiedKFold\n",
    "from sklearn.metrics import classification_report,confusion_matrix,roc_auc_score\n",
    "from sklearn.linear_model import LogisticRegression\n",
    "from sklearn.discriminant_analysis import LinearDiscriminantAnalysis\n",
    "from sklearn.svm import SVC\n",
    "from sklearn.linear_model import RidgeClassifier, LinearRegression\n",
    "from sklearn.impute import SimpleImputer\n",
    "from sklearn.preprocessing import StandardScaler\n",
    "from numpy import mean\n",
    "from numpy import std\n",
    "from sklearn.ensemble import RandomForestClassifier,AdaBoostClassifier,GradientBoostingClassifier\n",
    "from xgboost.sklearn import XGBClassifier\n",
    "import shap\n"
   ]
  },
  {
   "cell_type": "markdown",
   "metadata": {
    "papermill": {
     "duration": 0.049496,
     "end_time": "2021-03-09T19:40:02.626651",
     "exception": false,
     "start_time": "2021-03-09T19:40:02.577155",
     "status": "completed"
    },
    "tags": []
   },
   "source": [
    "\n",
    "# 2. Division of the data between train and test."
   ]
  },
  {
   "cell_type": "code",
   "execution_count": 2,
   "metadata": {
    "execution": {
     "iopub.execute_input": "2021-03-09T19:40:02.740830Z",
     "iopub.status.busy": "2021-03-09T19:40:02.740054Z",
     "iopub.status.idle": "2021-03-09T19:40:02.905359Z",
     "shell.execute_reply": "2021-03-09T19:40:02.904724Z"
    },
    "papermill": {
     "duration": 0.22887,
     "end_time": "2021-03-09T19:40:02.905542",
     "exception": false,
     "start_time": "2021-03-09T19:40:02.676672",
     "status": "completed"
    },
    "tags": []
   },
   "outputs": [
    {
     "name": "stdout",
     "output_type": "stream",
     "text": [
      "Full data shape is (32561, 15)\n"
     ]
    },
    {
     "data": {
      "text/html": [
       "<div>\n",
       "<style scoped>\n",
       "    .dataframe tbody tr th:only-of-type {\n",
       "        vertical-align: middle;\n",
       "    }\n",
       "\n",
       "    .dataframe tbody tr th {\n",
       "        vertical-align: top;\n",
       "    }\n",
       "\n",
       "    .dataframe thead th {\n",
       "        text-align: right;\n",
       "    }\n",
       "</style>\n",
       "<table border=\"1\" class=\"dataframe\">\n",
       "  <thead>\n",
       "    <tr style=\"text-align: right;\">\n",
       "      <th></th>\n",
       "      <th>age</th>\n",
       "      <th>workclass</th>\n",
       "      <th>fnlwgt</th>\n",
       "      <th>education</th>\n",
       "      <th>education.num</th>\n",
       "      <th>marital.status</th>\n",
       "      <th>occupation</th>\n",
       "      <th>relationship</th>\n",
       "      <th>race</th>\n",
       "      <th>sex</th>\n",
       "      <th>capital.gain</th>\n",
       "      <th>capital.loss</th>\n",
       "      <th>hours.per.week</th>\n",
       "      <th>native.country</th>\n",
       "      <th>income</th>\n",
       "    </tr>\n",
       "  </thead>\n",
       "  <tbody>\n",
       "    <tr>\n",
       "      <th>0</th>\n",
       "      <td>90</td>\n",
       "      <td>?</td>\n",
       "      <td>77053</td>\n",
       "      <td>HS-grad</td>\n",
       "      <td>9</td>\n",
       "      <td>Widowed</td>\n",
       "      <td>?</td>\n",
       "      <td>Not-in-family</td>\n",
       "      <td>White</td>\n",
       "      <td>Female</td>\n",
       "      <td>0</td>\n",
       "      <td>4356</td>\n",
       "      <td>40</td>\n",
       "      <td>United-States</td>\n",
       "      <td>&lt;=50K</td>\n",
       "    </tr>\n",
       "    <tr>\n",
       "      <th>1</th>\n",
       "      <td>82</td>\n",
       "      <td>Private</td>\n",
       "      <td>132870</td>\n",
       "      <td>HS-grad</td>\n",
       "      <td>9</td>\n",
       "      <td>Widowed</td>\n",
       "      <td>Exec-managerial</td>\n",
       "      <td>Not-in-family</td>\n",
       "      <td>White</td>\n",
       "      <td>Female</td>\n",
       "      <td>0</td>\n",
       "      <td>4356</td>\n",
       "      <td>18</td>\n",
       "      <td>United-States</td>\n",
       "      <td>&lt;=50K</td>\n",
       "    </tr>\n",
       "    <tr>\n",
       "      <th>2</th>\n",
       "      <td>66</td>\n",
       "      <td>?</td>\n",
       "      <td>186061</td>\n",
       "      <td>Some-college</td>\n",
       "      <td>10</td>\n",
       "      <td>Widowed</td>\n",
       "      <td>?</td>\n",
       "      <td>Unmarried</td>\n",
       "      <td>Black</td>\n",
       "      <td>Female</td>\n",
       "      <td>0</td>\n",
       "      <td>4356</td>\n",
       "      <td>40</td>\n",
       "      <td>United-States</td>\n",
       "      <td>&lt;=50K</td>\n",
       "    </tr>\n",
       "    <tr>\n",
       "      <th>3</th>\n",
       "      <td>54</td>\n",
       "      <td>Private</td>\n",
       "      <td>140359</td>\n",
       "      <td>7th-8th</td>\n",
       "      <td>4</td>\n",
       "      <td>Divorced</td>\n",
       "      <td>Machine-op-inspct</td>\n",
       "      <td>Unmarried</td>\n",
       "      <td>White</td>\n",
       "      <td>Female</td>\n",
       "      <td>0</td>\n",
       "      <td>3900</td>\n",
       "      <td>40</td>\n",
       "      <td>United-States</td>\n",
       "      <td>&lt;=50K</td>\n",
       "    </tr>\n",
       "    <tr>\n",
       "      <th>4</th>\n",
       "      <td>41</td>\n",
       "      <td>Private</td>\n",
       "      <td>264663</td>\n",
       "      <td>Some-college</td>\n",
       "      <td>10</td>\n",
       "      <td>Separated</td>\n",
       "      <td>Prof-specialty</td>\n",
       "      <td>Own-child</td>\n",
       "      <td>White</td>\n",
       "      <td>Female</td>\n",
       "      <td>0</td>\n",
       "      <td>3900</td>\n",
       "      <td>40</td>\n",
       "      <td>United-States</td>\n",
       "      <td>&lt;=50K</td>\n",
       "    </tr>\n",
       "  </tbody>\n",
       "</table>\n",
       "</div>"
      ],
      "text/plain": [
       "   age workclass  fnlwgt     education  education.num marital.status  \\\n",
       "0   90         ?   77053       HS-grad              9        Widowed   \n",
       "1   82   Private  132870       HS-grad              9        Widowed   \n",
       "2   66         ?  186061  Some-college             10        Widowed   \n",
       "3   54   Private  140359       7th-8th              4       Divorced   \n",
       "4   41   Private  264663  Some-college             10      Separated   \n",
       "\n",
       "          occupation   relationship   race     sex  capital.gain  \\\n",
       "0                  ?  Not-in-family  White  Female             0   \n",
       "1    Exec-managerial  Not-in-family  White  Female             0   \n",
       "2                  ?      Unmarried  Black  Female             0   \n",
       "3  Machine-op-inspct      Unmarried  White  Female             0   \n",
       "4     Prof-specialty      Own-child  White  Female             0   \n",
       "\n",
       "   capital.loss  hours.per.week native.country income  \n",
       "0          4356              40  United-States  <=50K  \n",
       "1          4356              18  United-States  <=50K  \n",
       "2          4356              40  United-States  <=50K  \n",
       "3          3900              40  United-States  <=50K  \n",
       "4          3900              40  United-States  <=50K  "
      ]
     },
     "execution_count": 2,
     "metadata": {},
     "output_type": "execute_result"
    }
   ],
   "source": [
    "income_df = pd.read_csv(\"../input/adult-census-income/adult.csv\")\n",
    "print('Full data shape is {}'.format(income_df.shape))\n",
    "income_df.head()"
   ]
  },
  {
   "cell_type": "code",
   "execution_count": 3,
   "metadata": {
    "execution": {
     "iopub.execute_input": "2021-03-09T19:40:03.017593Z",
     "iopub.status.busy": "2021-03-09T19:40:03.016507Z",
     "iopub.status.idle": "2021-03-09T19:40:03.077495Z",
     "shell.execute_reply": "2021-03-09T19:40:03.078231Z"
    },
    "papermill": {
     "duration": 0.121723,
     "end_time": "2021-03-09T19:40:03.078402",
     "exception": false,
     "start_time": "2021-03-09T19:40:02.956679",
     "status": "completed"
    },
    "tags": []
   },
   "outputs": [],
   "source": [
    "# Before dividing the data set between train and test. We will do some quick cleaning\n",
    "\n",
    "# # Deleting duplicates \n",
    "income_df.duplicated().sum()\n",
    "\n",
    "#Replacing '?' for nans\n",
    "income_df = income_df.replace('?', np.NaN)\n",
    "\n",
    "\n",
    "# Mapping already our target variable in  1 and 0.\n",
    "income_df.income = income_df.income.map({'<=50K':0, '>50K':1}) ## mapping already our target variable in  1 and 0.\n"
   ]
  },
  {
   "cell_type": "code",
   "execution_count": 4,
   "metadata": {
    "execution": {
     "iopub.execute_input": "2021-03-09T19:40:03.185097Z",
     "iopub.status.busy": "2021-03-09T19:40:03.184439Z",
     "iopub.status.idle": "2021-03-09T19:40:03.204096Z",
     "shell.execute_reply": "2021-03-09T19:40:03.203418Z"
    },
    "papermill": {
     "duration": 0.074435,
     "end_time": "2021-03-09T19:40:03.204221",
     "exception": false,
     "start_time": "2021-03-09T19:40:03.129786",
     "status": "completed"
    },
    "tags": []
   },
   "outputs": [
    {
     "data": {
      "text/html": [
       "<div>\n",
       "<style scoped>\n",
       "    .dataframe tbody tr th:only-of-type {\n",
       "        vertical-align: middle;\n",
       "    }\n",
       "\n",
       "    .dataframe tbody tr th {\n",
       "        vertical-align: top;\n",
       "    }\n",
       "\n",
       "    .dataframe thead th {\n",
       "        text-align: right;\n",
       "    }\n",
       "</style>\n",
       "<table border=\"1\" class=\"dataframe\">\n",
       "  <thead>\n",
       "    <tr style=\"text-align: right;\">\n",
       "      <th></th>\n",
       "      <th>age</th>\n",
       "      <th>workclass</th>\n",
       "      <th>fnlwgt</th>\n",
       "      <th>education</th>\n",
       "      <th>education.num</th>\n",
       "      <th>marital.status</th>\n",
       "      <th>occupation</th>\n",
       "      <th>relationship</th>\n",
       "      <th>race</th>\n",
       "      <th>sex</th>\n",
       "      <th>capital.gain</th>\n",
       "      <th>capital.loss</th>\n",
       "      <th>hours.per.week</th>\n",
       "      <th>native.country</th>\n",
       "      <th>income</th>\n",
       "    </tr>\n",
       "  </thead>\n",
       "  <tbody>\n",
       "    <tr>\n",
       "      <th>0</th>\n",
       "      <td>90</td>\n",
       "      <td>NaN</td>\n",
       "      <td>77053</td>\n",
       "      <td>HS-grad</td>\n",
       "      <td>9</td>\n",
       "      <td>Widowed</td>\n",
       "      <td>NaN</td>\n",
       "      <td>Not-in-family</td>\n",
       "      <td>White</td>\n",
       "      <td>Female</td>\n",
       "      <td>0</td>\n",
       "      <td>4356</td>\n",
       "      <td>40</td>\n",
       "      <td>United-States</td>\n",
       "      <td>0</td>\n",
       "    </tr>\n",
       "    <tr>\n",
       "      <th>1</th>\n",
       "      <td>82</td>\n",
       "      <td>Private</td>\n",
       "      <td>132870</td>\n",
       "      <td>HS-grad</td>\n",
       "      <td>9</td>\n",
       "      <td>Widowed</td>\n",
       "      <td>Exec-managerial</td>\n",
       "      <td>Not-in-family</td>\n",
       "      <td>White</td>\n",
       "      <td>Female</td>\n",
       "      <td>0</td>\n",
       "      <td>4356</td>\n",
       "      <td>18</td>\n",
       "      <td>United-States</td>\n",
       "      <td>0</td>\n",
       "    </tr>\n",
       "    <tr>\n",
       "      <th>2</th>\n",
       "      <td>66</td>\n",
       "      <td>NaN</td>\n",
       "      <td>186061</td>\n",
       "      <td>Some-college</td>\n",
       "      <td>10</td>\n",
       "      <td>Widowed</td>\n",
       "      <td>NaN</td>\n",
       "      <td>Unmarried</td>\n",
       "      <td>Black</td>\n",
       "      <td>Female</td>\n",
       "      <td>0</td>\n",
       "      <td>4356</td>\n",
       "      <td>40</td>\n",
       "      <td>United-States</td>\n",
       "      <td>0</td>\n",
       "    </tr>\n",
       "    <tr>\n",
       "      <th>3</th>\n",
       "      <td>54</td>\n",
       "      <td>Private</td>\n",
       "      <td>140359</td>\n",
       "      <td>7th-8th</td>\n",
       "      <td>4</td>\n",
       "      <td>Divorced</td>\n",
       "      <td>Machine-op-inspct</td>\n",
       "      <td>Unmarried</td>\n",
       "      <td>White</td>\n",
       "      <td>Female</td>\n",
       "      <td>0</td>\n",
       "      <td>3900</td>\n",
       "      <td>40</td>\n",
       "      <td>United-States</td>\n",
       "      <td>0</td>\n",
       "    </tr>\n",
       "    <tr>\n",
       "      <th>4</th>\n",
       "      <td>41</td>\n",
       "      <td>Private</td>\n",
       "      <td>264663</td>\n",
       "      <td>Some-college</td>\n",
       "      <td>10</td>\n",
       "      <td>Separated</td>\n",
       "      <td>Prof-specialty</td>\n",
       "      <td>Own-child</td>\n",
       "      <td>White</td>\n",
       "      <td>Female</td>\n",
       "      <td>0</td>\n",
       "      <td>3900</td>\n",
       "      <td>40</td>\n",
       "      <td>United-States</td>\n",
       "      <td>0</td>\n",
       "    </tr>\n",
       "  </tbody>\n",
       "</table>\n",
       "</div>"
      ],
      "text/plain": [
       "   age workclass  fnlwgt     education  education.num marital.status  \\\n",
       "0   90       NaN   77053       HS-grad              9        Widowed   \n",
       "1   82   Private  132870       HS-grad              9        Widowed   \n",
       "2   66       NaN  186061  Some-college             10        Widowed   \n",
       "3   54   Private  140359       7th-8th              4       Divorced   \n",
       "4   41   Private  264663  Some-college             10      Separated   \n",
       "\n",
       "          occupation   relationship   race     sex  capital.gain  \\\n",
       "0                NaN  Not-in-family  White  Female             0   \n",
       "1    Exec-managerial  Not-in-family  White  Female             0   \n",
       "2                NaN      Unmarried  Black  Female             0   \n",
       "3  Machine-op-inspct      Unmarried  White  Female             0   \n",
       "4     Prof-specialty      Own-child  White  Female             0   \n",
       "\n",
       "   capital.loss  hours.per.week native.country  income  \n",
       "0          4356              40  United-States       0  \n",
       "1          4356              18  United-States       0  \n",
       "2          4356              40  United-States       0  \n",
       "3          3900              40  United-States       0  \n",
       "4          3900              40  United-States       0  "
      ]
     },
     "execution_count": 4,
     "metadata": {},
     "output_type": "execute_result"
    }
   ],
   "source": [
    "income_df.head()"
   ]
  },
  {
   "cell_type": "code",
   "execution_count": 5,
   "metadata": {
    "execution": {
     "iopub.execute_input": "2021-03-09T19:40:03.314313Z",
     "iopub.status.busy": "2021-03-09T19:40:03.313669Z",
     "iopub.status.idle": "2021-03-09T19:40:03.357113Z",
     "shell.execute_reply": "2021-03-09T19:40:03.356182Z"
    },
    "papermill": {
     "duration": 0.101489,
     "end_time": "2021-03-09T19:40:03.357278",
     "exception": false,
     "start_time": "2021-03-09T19:40:03.255789",
     "status": "completed"
    },
    "tags": []
   },
   "outputs": [
    {
     "name": "stdout",
     "output_type": "stream",
     "text": [
      "Train data shape is (26048, 15)\n",
      "Test data shape is (6513, 15)\n"
     ]
    }
   ],
   "source": [
    "train_data, test_data = train_test_split(income_df,\n",
    "                                         test_size=0.2,\n",
    "                                         stratify=income_df['income'],\n",
    "                                         random_state=5)\n",
    "print('Train data shape is {}'.format(train_data.shape))\n",
    "print('Test data shape is {}'.format(test_data.shape))\n"
   ]
  },
  {
   "cell_type": "markdown",
   "metadata": {
    "papermill": {
     "duration": 0.053184,
     "end_time": "2021-03-09T19:40:03.464088",
     "exception": false,
     "start_time": "2021-03-09T19:40:03.410904",
     "status": "completed"
    },
    "tags": []
   },
   "source": [
    " \n",
    "# 3. Data Exploration with target varaible"
   ]
  },
  {
   "cell_type": "markdown",
   "metadata": {
    "papermill": {
     "duration": 0.052642,
     "end_time": "2021-03-09T19:40:03.569527",
     "exception": false,
     "start_time": "2021-03-09T19:40:03.516885",
     "status": "completed"
    },
    "tags": []
   },
   "source": [
    "#### Correlation Matrix"
   ]
  },
  {
   "cell_type": "code",
   "execution_count": 6,
   "metadata": {
    "_kg_hide-input": false,
    "execution": {
     "iopub.execute_input": "2021-03-09T19:40:03.706122Z",
     "iopub.status.busy": "2021-03-09T19:40:03.705422Z",
     "iopub.status.idle": "2021-03-09T19:40:04.587721Z",
     "shell.execute_reply": "2021-03-09T19:40:04.588400Z"
    },
    "papermill": {
     "duration": 0.966895,
     "end_time": "2021-03-09T19:40:04.588562",
     "exception": false,
     "start_time": "2021-03-09T19:40:03.621667",
     "status": "completed"
    },
    "tags": []
   },
   "outputs": [
    {
     "data": {
      "text/plain": [
       "<matplotlib.axes._subplots.AxesSubplot at 0x7eff05d621d0>"
      ]
     },
     "execution_count": 6,
     "metadata": {},
     "output_type": "execute_result"
    },
    {
     "data": {
      "image/png": "[encoded data removed]",
      "text/plain": [
       "<Figure size 1080x504 with 2 Axes>"
      ]
     },
     "metadata": {
      "needs_background": "light"
     },
     "output_type": "display_data"
    }
   ],
   "source": [
    "#In order for LabelEncoder to work we need to drop all nans\n",
    "corr_data = train_data.dropna()\n",
    "categorical_data =corr_data.select_dtypes(include=['object'])\n",
    "numerical_data = corr_data.select_dtypes(exclude=['object'])\n",
    "encoder = LabelEncoder()\n",
    "categorical_data = categorical_data.apply(encoder.fit_transform)\n",
    "### concatenating numerical and categorical data which was enconded\n",
    "corr_data = pd.concat([numerical_data, categorical_data], axis=1)\n",
    "\n",
    "fig = plt.figure(figsize=(15,7))\n",
    "ax1 = fig.add_subplot(111)\n",
    "\n",
    "#Correlation Matrix with  full data\n",
    "correlations = corr_data.corr()\n",
    "matrix = np.triu(correlations.corr())\n",
    "sns.heatmap(correlations, annot= True,  mask=matrix, cmap='coolwarm', ax=ax1)"
   ]
  },
  {
   "cell_type": "markdown",
   "metadata": {
    "papermill": {
     "duration": 0.054747,
     "end_time": "2021-03-09T19:40:04.698187",
     "exception": false,
     "start_time": "2021-03-09T19:40:04.643440",
     "status": "completed"
    },
    "tags": []
   },
   "source": [
    "#### Correlation with the target variable"
   ]
  },
  {
   "cell_type": "code",
   "execution_count": 7,
   "metadata": {
    "_kg_hide-input": true,
    "execution": {
     "iopub.execute_input": "2021-03-09T19:40:04.824675Z",
     "iopub.status.busy": "2021-03-09T19:40:04.823480Z",
     "iopub.status.idle": "2021-03-09T19:40:05.096455Z",
     "shell.execute_reply": "2021-03-09T19:40:05.097008Z"
    },
    "papermill": {
     "duration": 0.342136,
     "end_time": "2021-03-09T19:40:05.097176",
     "exception": false,
     "start_time": "2021-03-09T19:40:04.755040",
     "status": "completed"
    },
    "tags": []
   },
   "outputs": [
    {
     "data": {
      "image/png": "[encoded data removed]",
      "text/plain": [
       "<Figure size 504x504 with 2 Axes>"
      ]
     },
     "metadata": {
      "needs_background": "light"
     },
     "output_type": "display_data"
    }
   ],
   "source": [
    "fig = plt.figure(figsize=((7,7)))\n",
    "ax2 = fig.add_subplot(111)\n",
    "#Correlation Matix with Target Variable\n",
    "sns.heatmap(corr_data.corr()[['income']].sort_values('income').tail(10),vmin=0, cmap='Blues', annot=True, ax=ax2)\n",
    "ax2.invert_yaxis()"
   ]
  },
  {
   "cell_type": "markdown",
   "metadata": {
    "papermill": {
     "duration": 0.055783,
     "end_time": "2021-03-09T19:40:05.208715",
     "exception": false,
     "start_time": "2021-03-09T19:40:05.152932",
     "status": "completed"
    },
    "tags": []
   },
   "source": [
    "We can observe that we do not have highly correlated variables. Only 0.58 sex and relationship, followed by education and education_num 0.35. \n",
    "\n",
    "Additionally, we can observe the above correlation matrix graph where we can see the correlation with our target variable.\n",
    "- Education_num is positively correlated with income (0.34). This is reasonable since the more education you have, you more likely you are to have a higher salary. \n",
    "- Age is another variable  that is positively correlated with income (0.23). However, this variable is parabolic and can bee seen in the below visualiztion that there is a point in the age where income will start decreasing. \n",
    "- Hours per week is another variable postively correlated with income (0.23). The more hours you work, the higher your salary will tend to be. "
   ]
  },
  {
   "cell_type": "markdown",
   "metadata": {
    "papermill": {
     "duration": 0.055371,
     "end_time": "2021-03-09T19:40:05.319829",
     "exception": false,
     "start_time": "2021-03-09T19:40:05.264458",
     "status": "completed"
    },
    "tags": []
   },
   "source": [
    "### Descriptive statistics"
   ]
  },
  {
   "cell_type": "markdown",
   "metadata": {
    "papermill": {
     "duration": 0.055313,
     "end_time": "2021-03-09T19:40:05.430689",
     "exception": false,
     "start_time": "2021-03-09T19:40:05.375376",
     "status": "completed"
    },
    "tags": []
   },
   "source": [
    "##### For categorical variables"
   ]
  },
  {
   "cell_type": "code",
   "execution_count": 8,
   "metadata": {
    "_kg_hide-input": true,
    "execution": {
     "iopub.execute_input": "2021-03-09T19:40:05.576572Z",
     "iopub.status.busy": "2021-03-09T19:40:05.572466Z",
     "iopub.status.idle": "2021-03-09T19:40:05.661748Z",
     "shell.execute_reply": "2021-03-09T19:40:05.661191Z"
    },
    "papermill": {
     "duration": 0.174165,
     "end_time": "2021-03-09T19:40:05.661870",
     "exception": false,
     "start_time": "2021-03-09T19:40:05.487705",
     "status": "completed"
    },
    "tags": []
   },
   "outputs": [
    {
     "data": {
      "text/html": [
       "<div>\n",
       "<style scoped>\n",
       "    .dataframe tbody tr th:only-of-type {\n",
       "        vertical-align: middle;\n",
       "    }\n",
       "\n",
       "    .dataframe tbody tr th {\n",
       "        vertical-align: top;\n",
       "    }\n",
       "\n",
       "    .dataframe thead th {\n",
       "        text-align: right;\n",
       "    }\n",
       "</style>\n",
       "<table border=\"1\" class=\"dataframe\">\n",
       "  <thead>\n",
       "    <tr style=\"text-align: right;\">\n",
       "      <th></th>\n",
       "      <th>workclass</th>\n",
       "      <th>education</th>\n",
       "      <th>marital.status</th>\n",
       "      <th>occupation</th>\n",
       "      <th>relationship</th>\n",
       "      <th>race</th>\n",
       "      <th>sex</th>\n",
       "      <th>native.country</th>\n",
       "    </tr>\n",
       "  </thead>\n",
       "  <tbody>\n",
       "    <tr>\n",
       "      <th>count</th>\n",
       "      <td>24571</td>\n",
       "      <td>26048</td>\n",
       "      <td>26048</td>\n",
       "      <td>24567</td>\n",
       "      <td>26048</td>\n",
       "      <td>26048</td>\n",
       "      <td>26048</td>\n",
       "      <td>25580</td>\n",
       "    </tr>\n",
       "    <tr>\n",
       "      <th>unique</th>\n",
       "      <td>8</td>\n",
       "      <td>16</td>\n",
       "      <td>7</td>\n",
       "      <td>14</td>\n",
       "      <td>6</td>\n",
       "      <td>5</td>\n",
       "      <td>2</td>\n",
       "      <td>41</td>\n",
       "    </tr>\n",
       "    <tr>\n",
       "      <th>top</th>\n",
       "      <td>Private</td>\n",
       "      <td>HS-grad</td>\n",
       "      <td>Married-civ-spouse</td>\n",
       "      <td>Prof-specialty</td>\n",
       "      <td>Husband</td>\n",
       "      <td>White</td>\n",
       "      <td>Male</td>\n",
       "      <td>United-States</td>\n",
       "    </tr>\n",
       "    <tr>\n",
       "      <th>freq</th>\n",
       "      <td>18137</td>\n",
       "      <td>8397</td>\n",
       "      <td>12046</td>\n",
       "      <td>3325</td>\n",
       "      <td>10633</td>\n",
       "      <td>22221</td>\n",
       "      <td>17442</td>\n",
       "      <td>23324</td>\n",
       "    </tr>\n",
       "  </tbody>\n",
       "</table>\n",
       "</div>"
      ],
      "text/plain": [
       "       workclass education      marital.status      occupation relationship  \\\n",
       "count      24571     26048               26048           24567        26048   \n",
       "unique         8        16                   7              14            6   \n",
       "top      Private   HS-grad  Married-civ-spouse  Prof-specialty      Husband   \n",
       "freq       18137      8397               12046            3325        10633   \n",
       "\n",
       "         race    sex native.country  \n",
       "count   26048  26048          25580  \n",
       "unique      5      2             41  \n",
       "top     White   Male  United-States  \n",
       "freq    22221  17442          23324  "
      ]
     },
     "execution_count": 8,
     "metadata": {},
     "output_type": "execute_result"
    }
   ],
   "source": [
    "cat_cols = ['workclass', 'education', 'marital.status', 'occupation',\n",
    "       'relationship', 'race', 'sex', 'native.country']\n",
    "train_data[cat_cols].describe()"
   ]
  },
  {
   "cell_type": "markdown",
   "metadata": {
    "papermill": {
     "duration": 0.057899,
     "end_time": "2021-03-09T19:40:05.776408",
     "exception": false,
     "start_time": "2021-03-09T19:40:05.718509",
     "status": "completed"
    },
    "tags": []
   },
   "source": [
    "#### For numerical variables"
   ]
  },
  {
   "cell_type": "code",
   "execution_count": 9,
   "metadata": {
    "_kg_hide-input": true,
    "execution": {
     "iopub.execute_input": "2021-03-09T19:40:05.898176Z",
     "iopub.status.busy": "2021-03-09T19:40:05.897495Z",
     "iopub.status.idle": "2021-03-09T19:40:05.909279Z",
     "shell.execute_reply": "2021-03-09T19:40:05.908633Z"
    },
    "papermill": {
     "duration": 0.076891,
     "end_time": "2021-03-09T19:40:05.909522",
     "exception": false,
     "start_time": "2021-03-09T19:40:05.832631",
     "status": "completed"
    },
    "tags": []
   },
   "outputs": [
    {
     "data": {
      "text/html": [
       "<div>\n",
       "<style scoped>\n",
       "    .dataframe tbody tr th:only-of-type {\n",
       "        vertical-align: middle;\n",
       "    }\n",
       "\n",
       "    .dataframe tbody tr th {\n",
       "        vertical-align: top;\n",
       "    }\n",
       "\n",
       "    .dataframe thead th {\n",
       "        text-align: right;\n",
       "    }\n",
       "</style>\n",
       "<table border=\"1\" class=\"dataframe\">\n",
       "  <thead>\n",
       "    <tr style=\"text-align: right;\">\n",
       "      <th></th>\n",
       "      <th>Standard_deviation</th>\n",
       "      <th>Mean</th>\n",
       "    </tr>\n",
       "  </thead>\n",
       "  <tbody>\n",
       "    <tr>\n",
       "      <th>age</th>\n",
       "      <td>13.687973</td>\n",
       "      <td>38.617322</td>\n",
       "    </tr>\n",
       "    <tr>\n",
       "      <th>education.num</th>\n",
       "      <td>2.568641</td>\n",
       "      <td>10.077664</td>\n",
       "    </tr>\n",
       "    <tr>\n",
       "      <th>capital.gain</th>\n",
       "      <td>7430.285729</td>\n",
       "      <td>1085.146153</td>\n",
       "    </tr>\n",
       "    <tr>\n",
       "      <th>capital.loss</th>\n",
       "      <td>404.700384</td>\n",
       "      <td>88.124654</td>\n",
       "    </tr>\n",
       "  </tbody>\n",
       "</table>\n",
       "</div>"
      ],
      "text/plain": [
       "               Standard_deviation         Mean\n",
       "age                     13.687973    38.617322\n",
       "education.num            2.568641    10.077664\n",
       "capital.gain          7430.285729  1085.146153\n",
       "capital.loss           404.700384    88.124654"
      ]
     },
     "execution_count": 9,
     "metadata": {},
     "output_type": "execute_result"
    }
   ],
   "source": [
    "num_cols =['age', 'education.num', 'capital.gain', 'capital.loss']\n",
    "Mean =train_data[num_cols].mean()\n",
    "Standard_deviation = train_data[num_cols].std()\n",
    "result = pd.DataFrame({'Standard_deviation': Standard_deviation, 'Mean': Mean})\n",
    "result"
   ]
  },
  {
   "cell_type": "markdown",
   "metadata": {
    "papermill": {
     "duration": 0.056474,
     "end_time": "2021-03-09T19:40:06.023525",
     "exception": false,
     "start_time": "2021-03-09T19:40:05.967051",
     "status": "completed"
    },
    "tags": []
   },
   "source": [
    "We can observe that the average age is around 38.6 and education_num is 10.07 (which equals to some college).\n",
    "\n",
    "We can see that capital_gain and capital_loss standard_deviation is higher than mean. This shows that people vary greatly in terms of capital gain and loss. \n"
   ]
  },
  {
   "cell_type": "markdown",
   "metadata": {
    "papermill": {
     "duration": 0.055999,
     "end_time": "2021-03-09T19:40:06.137481",
     "exception": false,
     "start_time": "2021-03-09T19:40:06.081482",
     "status": "completed"
    },
    "tags": []
   },
   "source": [
    "\n",
    "## 3.1 Data visualization with target variable"
   ]
  },
  {
   "cell_type": "code",
   "execution_count": 10,
   "metadata": {
    "execution": {
     "iopub.execute_input": "2021-03-09T19:40:06.257622Z",
     "iopub.status.busy": "2021-03-09T19:40:06.256883Z",
     "iopub.status.idle": "2021-03-09T19:40:06.262653Z",
     "shell.execute_reply": "2021-03-09T19:40:06.263152Z"
    },
    "papermill": {
     "duration": 0.069075,
     "end_time": "2021-03-09T19:40:06.263299",
     "exception": false,
     "start_time": "2021-03-09T19:40:06.194224",
     "status": "completed"
    },
    "tags": []
   },
   "outputs": [
    {
     "data": {
      "text/plain": [
       "0    0.759175\n",
       "1    0.240825\n",
       "Name: income, dtype: float64"
      ]
     },
     "execution_count": 10,
     "metadata": {},
     "output_type": "execute_result"
    }
   ],
   "source": [
    "train_data.income.value_counts()/len(train_data)"
   ]
  },
  {
   "cell_type": "markdown",
   "metadata": {
    "papermill": {
     "duration": 0.063301,
     "end_time": "2021-03-09T19:40:06.390540",
     "exception": false,
     "start_time": "2021-03-09T19:40:06.327239",
     "status": "completed"
    },
    "tags": []
   },
   "source": [
    "We can observe that our target variable is imbalanced ( <= 50K:76%, > 50k: 24%). Therefore, we will address this problem later with some techniques for imbalanced classification."
   ]
  },
  {
   "cell_type": "markdown",
   "metadata": {
    "papermill": {
     "duration": 0.056825,
     "end_time": "2021-03-09T19:40:06.504453",
     "exception": false,
     "start_time": "2021-03-09T19:40:06.447628",
     "status": "completed"
    },
    "tags": []
   },
   "source": [
    "### Age vs income"
   ]
  },
  {
   "cell_type": "code",
   "execution_count": 11,
   "metadata": {
    "_kg_hide-input": false,
    "execution": {
     "iopub.execute_input": "2021-03-09T19:40:06.622777Z",
     "iopub.status.busy": "2021-03-09T19:40:06.622046Z",
     "iopub.status.idle": "2021-03-09T19:40:06.868419Z",
     "shell.execute_reply": "2021-03-09T19:40:06.867674Z"
    },
    "papermill": {
     "duration": 0.306897,
     "end_time": "2021-03-09T19:40:06.868550",
     "exception": false,
     "start_time": "2021-03-09T19:40:06.561653",
     "status": "completed"
    },
    "tags": []
   },
   "outputs": [
    {
     "data": {
      "text/plain": [
       "<matplotlib.legend.Legend at 0x7eff0464ced0>"
      ]
     },
     "execution_count": 11,
     "metadata": {},
     "output_type": "execute_result"
    },
    {
     "data": {
      "image/png": "[encoded data removed]",
      "text/plain": [
       "<Figure size 1440x288 with 1 Axes>"
      ]
     },
     "metadata": {
      "needs_background": "light"
     },
     "output_type": "display_data"
    }
   ],
   "source": [
    "fig = plt.figure(figsize=(20,4))\n",
    "ax1 = fig.add_subplot(111)\n",
    "\n",
    "data_over50k=train_data[train_data['income']==1]\n",
    "data_less50k= train_data[train_data['income']==0]\n",
    "sns.kdeplot(data_less50k['age'], label = '<=50K', shade=True, color='#ADC6DF', ax=ax1)\n",
    "sns.kdeplot(data_over50k['age'], label = '>50K', shade=True, color='#9B73B5', ax=ax1)\n",
    "\n",
    "#Removing lines from the graph\n",
    "ax1.spines['right'].set_visible(False)\n",
    "ax1.spines['top'].set_visible(False)\n",
    "ax1.spines['left'].set_visible(False)\n",
    "ax1.spines['bottom'].set_visible(False)\n",
    "\n",
    "#Title\n",
    "ax1.set_title(\"Income by Age\", loc='center',fontweight='bold',fontsize=14 )\n",
    "ax1.set_xlabel(' ')\n",
    "ax1.set_ylabel(' ')\n",
    "#X-Axis\n",
    "plt.xticks(np.arange(10,100,10))\n",
    "\n",
    "#Legend\n",
    "line_labels = [\"<=50K\", \">50K\"]\n",
    "ax1.legend(\n",
    "    loc=\"upper right\",\n",
    "    labels=line_labels)   "
   ]
  },
  {
   "cell_type": "code",
   "execution_count": 12,
   "metadata": {
    "_kg_hide-input": false,
    "execution": {
     "iopub.execute_input": "2021-03-09T19:40:07.006868Z",
     "iopub.status.busy": "2021-03-09T19:40:07.004060Z",
     "iopub.status.idle": "2021-03-09T19:40:08.088461Z",
     "shell.execute_reply": "2021-03-09T19:40:08.087882Z"
    },
    "papermill": {
     "duration": 1.160091,
     "end_time": "2021-03-09T19:40:08.088585",
     "exception": false,
     "start_time": "2021-03-09T19:40:06.928494",
     "status": "completed"
    },
    "tags": []
   },
   "outputs": [
    {
     "data": {
      "text/plain": [
       "<matplotlib.legend.Legend at 0x7eff045cab10>"
      ]
     },
     "execution_count": 12,
     "metadata": {},
     "output_type": "execute_result"
    },
    {
     "data": {
      "image/png": "[encoded data removed]",
      "text/plain": [
       "<Figure size 1440x288 with 1 Axes>"
      ]
     },
     "metadata": {
      "needs_background": "light"
     },
     "output_type": "display_data"
    }
   ],
   "source": [
    "fig = plt.figure(figsize=(20,4))\n",
    "ax1 = fig.add_subplot(111)\n",
    "sns.countplot(x='age', hue='income', data= train_data, palette=['#ADC6DF','#9B73B5'])\n",
    "#Removing lines from the graph\n",
    "ax1.spines['right'].set_visible(False)\n",
    "ax1.spines['top'].set_visible(False)\n",
    "ax1.spines['left'].set_visible(False)\n",
    "ax1.spines['bottom'].set_visible(False)\n",
    "\n",
    "#Title\n",
    "ax1.set_title(\"Income by Age\", loc='center',fontweight='bold',fontsize=14)\n",
    "ax1.set_xlabel(\" \")\n",
    "ax1.set_ylabel(' ')\n",
    "\n",
    "#Legend\n",
    "line_labels = [\"<=50K\", \">50K\"]\n",
    "ax1.legend(\n",
    "    loc=\"upper right\",\n",
    "    labels=line_labels)   "
   ]
  },
  {
   "cell_type": "markdown",
   "metadata": {
    "papermill": {
     "duration": 0.06011,
     "end_time": "2021-03-09T19:40:08.209788",
     "exception": false,
     "start_time": "2021-03-09T19:40:08.149678",
     "status": "completed"
    },
    "tags": []
   },
   "source": [
    "We can see that younger people are more likely to earn less than 50K per year. Which is obvious since those people do not have any work experience. The rates of people earning more than 50K start to increase as people age into their 30s. \n",
    "\n",
    "This is also seen in the purple line(>50K). The line starts to increase from 20  to 45 years old and then slowly decreasing."
   ]
  },
  {
   "cell_type": "markdown",
   "metadata": {
    "papermill": {
     "duration": 0.060798,
     "end_time": "2021-03-09T19:40:08.330735",
     "exception": false,
     "start_time": "2021-03-09T19:40:08.269937",
     "status": "completed"
    },
    "tags": []
   },
   "source": [
    "### Workclass and occupation vs Income"
   ]
  },
  {
   "cell_type": "code",
   "execution_count": 13,
   "metadata": {
    "_kg_hide-input": true,
    "execution": {
     "iopub.execute_input": "2021-03-09T19:40:08.476193Z",
     "iopub.status.busy": "2021-03-09T19:40:08.465737Z",
     "iopub.status.idle": "2021-03-09T19:40:09.769332Z",
     "shell.execute_reply": "2021-03-09T19:40:09.768791Z"
    },
    "papermill": {
     "duration": 1.378278,
     "end_time": "2021-03-09T19:40:09.769451",
     "exception": false,
     "start_time": "2021-03-09T19:40:08.391173",
     "status": "completed"
    },
    "tags": []
   },
   "outputs": [
    {
     "data": {
      "text/plain": [
       "<matplotlib.legend.Legend at 0x7eff04226050>"
      ]
     },
     "execution_count": 13,
     "metadata": {},
     "output_type": "execute_result"
    },
    {
     "data": {
      "image/png": "[encoded data removed]",
      "text/plain": [
       "<Figure size 1080x1080 with 4 Axes>"
      ]
     },
     "metadata": {
      "needs_background": "light"
     },
     "output_type": "display_data"
    }
   ],
   "source": [
    "fig = plt.figure(figsize=(15,15))\n",
    "ax1= fig.add_subplot(411)\n",
    "ax2= fig.add_subplot(412)\n",
    "ax3= fig.add_subplot(413)\n",
    "ax4= fig.add_subplot(414)\n",
    "\n",
    "data_workclass = round(pd.crosstab(train_data.workclass, train_data.income).div(pd.crosstab(train_data.workclass, train_data.income).apply(sum,1),0),2)\n",
    "data_occupation = round(pd.crosstab(train_data.occupation, train_data.income).div(pd.crosstab(train_data.occupation, train_data.income).apply(sum,1),0),2)\n",
    "\n",
    "## Setting space between both subplots\n",
    "plt.subplots_adjust(left=None,\n",
    "                    bottom=None, \n",
    "                    right=None, \n",
    "                    top=1, \n",
    "                    wspace=None, \n",
    "                    hspace=0.5)\n",
    "\n",
    "## Grapphing\n",
    "sns.countplot(x='workclass', hue='income', data= train_data, ax=ax1, palette=['#ADC6DF','#9B73B5'])\n",
    "data_workclass.plot.bar(color=['#ADC6DF','#9B73B5'], ax=ax2, edgecolor='w',linewidth=1.3)\n",
    "\n",
    "sns.countplot(x='occupation', hue='income', data= train_data, ax=ax3, palette=['#ADC6DF','#9B73B5'])\n",
    "data_occupation.plot.bar(color=['#ADC6DF','#9B73B5'], ax=ax4, edgecolor='w',linewidth=1.3 )\n",
    "\n",
    "## Removing lines from the graph\n",
    "ax1.spines['right'].set_visible(False)\n",
    "ax1.spines['top'].set_visible(False)\n",
    "ax1.spines['left'].set_visible(False)\n",
    "ax1.spines['bottom'].set_visible(False)\n",
    "ax2.spines['right'].set_visible(False)\n",
    "ax2.spines['top'].set_visible(False)\n",
    "ax2.spines['left'].set_visible(False)\n",
    "ax2.spines['bottom'].set_visible(False)\n",
    "ax3.spines['right'].set_visible(False)\n",
    "ax3.spines['top'].set_visible(False)\n",
    "ax3.spines['left'].set_visible(False)\n",
    "ax3.spines['bottom'].set_visible(False)\n",
    "ax4.spines['right'].set_visible(False)\n",
    "ax4.spines['top'].set_visible(False)\n",
    "ax4.spines['left'].set_visible(False)\n",
    "ax4.spines['bottom'].set_visible(False)\n",
    "\n",
    "\n",
    "## Removing subplots legends\n",
    "ax1.get_legend().remove()\n",
    "ax2.get_legend().remove()\n",
    "ax1.set_xticklabels(ax1.get_xticklabels(), rotation=30, ha='right')\n",
    "ax2.set_xticklabels(ax2.get_xticklabels(), rotation=30, ha='right')\n",
    "ax3.set_xticklabels(ax3.get_xticklabels(), rotation=30, ha='right')\n",
    "ax4.set_xticklabels(ax4.get_xticklabels(), rotation=30, ha='right')\n",
    "ax3.get_legend().remove()\n",
    "ax4.get_legend().remove()\n",
    "\n",
    "\n",
    "\n",
    "## Title\n",
    "ax1.set_title(\"Workclass\", loc='center',fontweight='bold',fontsize=14)\n",
    "ax3.set_title(\"Occupation\", loc='center',fontweight='bold',fontsize=14)\n",
    "ax2.set_title(\"Ratio of Workclass\", loc='center',fontweight='bold',fontsize=14)\n",
    "ax4.set_title(\"Ratio of Occupation\", loc='center',fontweight='bold',fontsize=14)\n",
    "ax1.set_xlabel(\" \")\n",
    "ax1.set_ylabel(' ')\n",
    "ax2.set_xlabel(\" \")\n",
    "ax2.set_ylabel(' ')\n",
    "ax3.set_xlabel(\" \")\n",
    "ax3.set_ylabel(' ')\n",
    "ax4.set_xlabel(\" \")\n",
    "ax4.set_ylabel(' ')\n",
    "\n",
    "\n",
    "## Legend\n",
    "line_labels = [\"<=50K\", \">50K\"]\n",
    "fig.legend(\n",
    "    loc=\"upper right\",\n",
    "    labels=line_labels) \n"
   ]
  },
  {
   "cell_type": "markdown",
   "metadata": {
    "papermill": {
     "duration": 0.063156,
     "end_time": "2021-03-09T19:40:09.896704",
     "exception": false,
     "start_time": "2021-03-09T19:40:09.833548",
     "status": "completed"
    },
    "tags": []
   },
   "source": [
    "Here we can see interesting things about our data:\n",
    "\n",
    "\n",
    "**Workclass**: \n",
    "    From our data Private is the largest category by number.  If we look at the ratio, self-empl-inc has almost the same amount of people who earn more than 50K and less than 50K, and is the only category where more people earn above 50K. \n",
    "    \n",
    "**Occupation**:\n",
    "\n",
    "   We can see that Adm-Clerical and Machine-op-Inspect are the most frequent jobs. In terms of income, we can say that Exec-Managerical has the highest rate of >50K, followed by Armed Forces.  The job with the lowest >50K is Priv-house-serv. \n",
    "    "
   ]
  },
  {
   "cell_type": "markdown",
   "metadata": {
    "papermill": {
     "duration": 0.063271,
     "end_time": "2021-03-09T19:40:10.023949",
     "exception": false,
     "start_time": "2021-03-09T19:40:09.960678",
     "status": "completed"
    },
    "tags": []
   },
   "source": [
    "### Education vs Income"
   ]
  },
  {
   "cell_type": "code",
   "execution_count": 14,
   "metadata": {
    "_kg_hide-input": true,
    "execution": {
     "iopub.execute_input": "2021-03-09T19:40:10.160520Z",
     "iopub.status.busy": "2021-03-09T19:40:10.159813Z",
     "iopub.status.idle": "2021-03-09T19:40:10.856832Z",
     "shell.execute_reply": "2021-03-09T19:40:10.857334Z"
    },
    "papermill": {
     "duration": 0.769678,
     "end_time": "2021-03-09T19:40:10.857500",
     "exception": false,
     "start_time": "2021-03-09T19:40:10.087822",
     "status": "completed"
    },
    "tags": []
   },
   "outputs": [
    {
     "data": {
      "text/plain": [
       "<matplotlib.legend.Legend at 0x7eff040256d0>"
      ]
     },
     "execution_count": 14,
     "metadata": {},
     "output_type": "execute_result"
    },
    {
     "data": {
      "image/png": "[encoded data removed]",
      "text/plain": [
       "<Figure size 1080x540 with 2 Axes>"
      ]
     },
     "metadata": {
      "needs_background": "light"
     },
     "output_type": "display_data"
    }
   ],
   "source": [
    "fig = plt.figure(figsize=(15,7.5))\n",
    "ax1= fig.add_subplot(211)\n",
    "ax2= fig.add_subplot(212)\n",
    "data_education = round(pd.crosstab(train_data.education, train_data.income).div(pd.crosstab(train_data.education, train_data.income).apply(sum,1),0),2)\n",
    "## Setting space between both subplots\n",
    "plt.subplots_adjust(left=None,\n",
    "                    bottom=None, \n",
    "                    right=None, \n",
    "                    top=1, \n",
    "                    wspace=None, \n",
    "                    hspace=0.5)\n",
    "\n",
    "## Grapphing\n",
    "sns.countplot(x='education', hue='income', data= train_data, ax=ax1, palette=['#ADC6DF','#9B73B5'],order=train_data.education.value_counts().index)\n",
    "data_education.sort_values(by=[0], ascending=False).plot.bar(color=['#ADC6DF','#9B73B5'], ax=ax2, edgecolor='w',linewidth=1.3)\n",
    "\n",
    "## Removing lines from the graph\n",
    "ax1.spines['right'].set_visible(False)\n",
    "ax1.spines['top'].set_visible(False)\n",
    "ax1.spines['left'].set_visible(False)\n",
    "ax1.spines['bottom'].set_visible(False)\n",
    "ax2.spines['right'].set_visible(False)\n",
    "ax2.spines['top'].set_visible(False)\n",
    "ax2.spines['left'].set_visible(False)\n",
    "ax2.spines['bottom'].set_visible(False)\n",
    "\n",
    "## Removing subplots legends\n",
    "ax1.get_legend().remove()\n",
    "ax2.get_legend().remove()\n",
    "ax1.set_xticklabels(ax1.get_xticklabels(), rotation=30, ha='right')\n",
    "ax2.set_xticklabels(ax2.get_xticklabels(), rotation=30, ha='right')\n",
    "\n",
    "## Title\n",
    "ax1.set_title(\"Education\", loc='center',fontweight='bold',fontsize=14)\n",
    "ax2.set_title(\"Ratio of Education\", loc='center',fontweight='bold',fontsize=14)\n",
    "ax1.set_xlabel(\" \")\n",
    "ax1.set_ylabel(' ')\n",
    "ax2.set_xlabel(\" \")\n",
    "ax2.set_ylabel(' ')\n",
    "\n",
    "## Legend\n",
    "line_labels = [\"<=50K\", \">50K\"]\n",
    "fig.legend(\n",
    "    loc=\"upper right\",\n",
    "    labels=line_labels) \n"
   ]
  },
  {
   "cell_type": "markdown",
   "metadata": {
    "papermill": {
     "duration": 0.06596,
     "end_time": "2021-03-09T19:40:10.990489",
     "exception": false,
     "start_time": "2021-03-09T19:40:10.924529",
     "status": "completed"
    },
    "tags": []
   },
   "source": [
    "Here we can see that HS-grad is the most frequent education followed by Some college. \n",
    "Additionally, we can see in the second graph, ratio of education, how the number of <=50 tends to decrease as people tend to have higher education. \n",
    "\n",
    "For example:  Doctorate. It seems that just 0.20 people who have doctorate tend to have <=50, the 0.80 tend to have more that 50K per year, which makes sense.  We observe similar ratios with prof-school and Masters.\n",
    "\n",
    "Therefore, as we have seen before, Education_num has a huge impact in the income variable. This variable has the stronges correlation with our target variable: 0.34.\n"
   ]
  },
  {
   "cell_type": "markdown",
   "metadata": {
    "papermill": {
     "duration": 0.066449,
     "end_time": "2021-03-09T19:40:11.122587",
     "exception": false,
     "start_time": "2021-03-09T19:40:11.056138",
     "status": "completed"
    },
    "tags": []
   },
   "source": [
    "### Race vs Income"
   ]
  },
  {
   "cell_type": "code",
   "execution_count": 15,
   "metadata": {
    "_kg_hide-input": true,
    "execution": {
     "iopub.execute_input": "2021-03-09T19:40:11.258897Z",
     "iopub.status.busy": "2021-03-09T19:40:11.258169Z",
     "iopub.status.idle": "2021-03-09T19:40:11.675642Z",
     "shell.execute_reply": "2021-03-09T19:40:11.676305Z"
    },
    "papermill": {
     "duration": 0.487707,
     "end_time": "2021-03-09T19:40:11.676486",
     "exception": false,
     "start_time": "2021-03-09T19:40:11.188779",
     "status": "completed"
    },
    "tags": []
   },
   "outputs": [
    {
     "data": {
      "text/plain": [
       "<matplotlib.legend.Legend at 0x7efeff64aa90>"
      ]
     },
     "execution_count": 15,
     "metadata": {},
     "output_type": "execute_result"
    },
    {
     "data": {
      "image/png": "[encoded data removed]",
      "text/plain": [
       "<Figure size 1440x720 with 2 Axes>"
      ]
     },
     "metadata": {
      "needs_background": "light"
     },
     "output_type": "display_data"
    }
   ],
   "source": [
    "fig = plt.figure(figsize=(20,10))\n",
    "ax1= fig.add_subplot(221)\n",
    "ax2= fig.add_subplot(222)\n",
    "\n",
    "data_race = round(pd.crosstab(train_data.race, train_data.income).div(pd.crosstab(train_data.race, train_data.income).apply(sum,1),0),2)\n",
    "\n",
    "## Grapphing\n",
    "sns.countplot(x='race', hue='income', data= train_data, ax=ax1, palette=['#ADC6DF','#9B73B5'])\n",
    "data_race.sort_values(by=[0], ascending=False).plot.bar(color=['#ADC6DF','#9B73B5'], ax=ax2, edgecolor='w',linewidth=1.3 )\n",
    "\n",
    "#Removing lines from the graph\n",
    "ax1.spines['right'].set_visible(False)\n",
    "ax1.spines['top'].set_visible(False)\n",
    "ax1.spines['left'].set_visible(False)\n",
    "ax1.spines['bottom'].set_visible(False)\n",
    "ax2.spines['right'].set_visible(False)\n",
    "ax2.spines['top'].set_visible(False)\n",
    "ax2.spines['left'].set_visible(False)\n",
    "ax2.spines['bottom'].set_visible(False)\n",
    "\n",
    "ax1.set_xticklabels(ax1.get_xticklabels(), rotation=40, ha='right')\n",
    "ax2.set_xticklabels(ax2.get_xticklabels(), rotation=40, ha='right')\n",
    "\n",
    "## Title\n",
    "ax1.set_title(\"Race\", loc='center',fontweight='bold',fontsize=14)\n",
    "ax2.set_title(\"Ratio of Race\", loc='center',fontweight='bold',fontsize=14)\n",
    "ax1.set_xlabel(\" \")\n",
    "ax1.set_ylabel(' ')\n",
    "ax2.set_xlabel(\" \")\n",
    "ax2.set_ylabel(' ')\n",
    "\n",
    "#Removing subplots legends\n",
    "ax1.get_legend().remove()\n",
    "ax2.get_legend().remove()\n",
    "\n",
    "#Legend\n",
    "line_labels = [\"<=50K\", \">50K\"]\n",
    "fig.legend(\n",
    "    loc=\"upper right\",\n",
    "    labels=line_labels)"
   ]
  },
  {
   "cell_type": "markdown",
   "metadata": {
    "papermill": {
     "duration": 0.068481,
     "end_time": "2021-03-09T19:40:11.812407",
     "exception": false,
     "start_time": "2021-03-09T19:40:11.743926",
     "status": "completed"
    },
    "tags": []
   },
   "source": [
    "We can see that our sample is monstly White followed by Black race. One interesting thing we can see is that Asian-Pac-Islander have the highest ratio of >50K, followed by White, although they are very similar in terms of the ratio betwee our two classes. "
   ]
  },
  {
   "cell_type": "markdown",
   "metadata": {
    "papermill": {
     "duration": 0.067997,
     "end_time": "2021-03-09T19:40:11.947934",
     "exception": false,
     "start_time": "2021-03-09T19:40:11.879937",
     "status": "completed"
    },
    "tags": []
   },
   "source": [
    "### Gender vs Income"
   ]
  },
  {
   "cell_type": "code",
   "execution_count": 16,
   "metadata": {
    "_kg_hide-input": true,
    "execution": {
     "iopub.execute_input": "2021-03-09T19:40:12.086654Z",
     "iopub.status.busy": "2021-03-09T19:40:12.085971Z",
     "iopub.status.idle": "2021-03-09T19:40:12.433466Z",
     "shell.execute_reply": "2021-03-09T19:40:12.434106Z"
    },
    "papermill": {
     "duration": 0.418465,
     "end_time": "2021-03-09T19:40:12.434289",
     "exception": false,
     "start_time": "2021-03-09T19:40:12.015824",
     "status": "completed"
    },
    "tags": []
   },
   "outputs": [
    {
     "data": {
      "text/plain": [
       "<matplotlib.legend.Legend at 0x7efeff57c590>"
      ]
     },
     "execution_count": 16,
     "metadata": {},
     "output_type": "execute_result"
    },
    {
     "data": {
      "image/png": "[encoded data removed]",
      "text/plain": [
       "<Figure size 1440x648 with 2 Axes>"
      ]
     },
     "metadata": {
      "needs_background": "light"
     },
     "output_type": "display_data"
    }
   ],
   "source": [
    "fig = plt.figure(figsize=(20,9))\n",
    "ax1= fig.add_subplot(221)\n",
    "ax2= fig.add_subplot(222)\n",
    "\n",
    "data_gender = round(pd.crosstab(train_data.sex, train_data.income).div(pd.crosstab(train_data.sex, train_data.income).apply(sum,1),0),2)\n",
    "\n",
    "## Graphing\n",
    "sns.countplot(x='sex', hue='income', data= train_data, ax=ax1, palette=['#ADC6DF','#9B73B5'])\n",
    "data_gender.sort_values(by=[0], ascending=False).plot.bar(color=['#ADC6DF','#9B73B5'], ax=ax2, edgecolor='w',linewidth=1.3 )\n",
    "\n",
    "#Removing lines from the graph\n",
    "ax1.spines['right'].set_visible(False)\n",
    "ax1.spines['top'].set_visible(False)\n",
    "ax1.spines['left'].set_visible(False)\n",
    "ax1.spines['bottom'].set_visible(False)\n",
    "ax2.spines['right'].set_visible(False)\n",
    "ax2.spines['top'].set_visible(False)\n",
    "ax2.spines['left'].set_visible(False)\n",
    "ax2.spines['bottom'].set_visible(False)\n",
    "\n",
    "ax1.set_xticklabels(ax1.get_xticklabels(), rotation=40, ha='right')\n",
    "ax2.set_xticklabels(ax2.get_xticklabels(), rotation=40, ha='right')\n",
    "\n",
    "#Removing subplots legends\n",
    "ax1.get_legend().remove()\n",
    "ax2.get_legend().remove()\n",
    "\n",
    "\n",
    "## Title\n",
    "ax1.set_title(\"Gender\", loc='center',fontweight='bold',fontsize=14)\n",
    "ax2.set_title(\"Ratio of Gender\", loc='center',fontweight='bold',fontsize=14)\n",
    "ax1.set_xlabel(\" \")\n",
    "ax1.set_ylabel(' ')\n",
    "ax2.set_xlabel(\" \")\n",
    "ax2.set_ylabel(' ')\n",
    "\n",
    "#Legend\n",
    "line_labels = [\"<=50K\", \">50K\"]\n",
    "fig.legend(\n",
    "    loc=\"upper right\",\n",
    "    labels=line_labels)\n"
   ]
  },
  {
   "cell_type": "markdown",
   "metadata": {
    "papermill": {
     "duration": 0.068655,
     "end_time": "2021-03-09T19:40:12.572249",
     "exception": false,
     "start_time": "2021-03-09T19:40:12.503594",
     "status": "completed"
    },
    "tags": []
   },
   "source": [
    "We can observe that male gender is the most frequent and also we observe that there are some disproportions distribuitions regarding income.\n",
    "Close to 10% of females earn more that 50.000 dollars compared to Male gender, where almost 40 percent earn more than 50.000 dollars.\n"
   ]
  },
  {
   "cell_type": "markdown",
   "metadata": {
    "papermill": {
     "duration": 0.068742,
     "end_time": "2021-03-09T19:40:12.710177",
     "exception": false,
     "start_time": "2021-03-09T19:40:12.641435",
     "status": "completed"
    },
    "tags": []
   },
   "source": [
    "# 4. Data pre-processing"
   ]
  },
  {
   "cell_type": "markdown",
   "metadata": {
    "papermill": {
     "duration": 0.068268,
     "end_time": "2021-03-09T19:40:12.848525",
     "exception": false,
     "start_time": "2021-03-09T19:40:12.780257",
     "status": "completed"
    },
    "tags": []
   },
   "source": [
    "#### Dropping duplicates"
   ]
  },
  {
   "cell_type": "code",
   "execution_count": 17,
   "metadata": {
    "execution": {
     "iopub.execute_input": "2021-03-09T19:40:12.989126Z",
     "iopub.status.busy": "2021-03-09T19:40:12.988502Z",
     "iopub.status.idle": "2021-03-09T19:40:13.057709Z",
     "shell.execute_reply": "2021-03-09T19:40:13.058180Z"
    },
    "papermill": {
     "duration": 0.14131,
     "end_time": "2021-03-09T19:40:13.058343",
     "exception": false,
     "start_time": "2021-03-09T19:40:12.917033",
     "status": "completed"
    },
    "tags": []
   },
   "outputs": [
    {
     "data": {
      "text/plain": [
       "0"
      ]
     },
     "execution_count": 17,
     "metadata": {},
     "output_type": "execute_result"
    }
   ],
   "source": [
    "train_data.drop_duplicates(inplace=True)\n",
    "train_data.duplicated().sum()"
   ]
  },
  {
   "cell_type": "code",
   "execution_count": 18,
   "metadata": {
    "execution": {
     "iopub.execute_input": "2021-03-09T19:40:13.215769Z",
     "iopub.status.busy": "2021-03-09T19:40:13.214884Z",
     "iopub.status.idle": "2021-03-09T19:40:13.263541Z",
     "shell.execute_reply": "2021-03-09T19:40:13.264537Z"
    },
    "papermill": {
     "duration": 0.136569,
     "end_time": "2021-03-09T19:40:13.264717",
     "exception": false,
     "start_time": "2021-03-09T19:40:13.128148",
     "status": "completed"
    },
    "tags": []
   },
   "outputs": [
    {
     "data": {
      "text/plain": [
       "0"
      ]
     },
     "execution_count": 18,
     "metadata": {},
     "output_type": "execute_result"
    }
   ],
   "source": [
    "train_data.duplicated().sum()"
   ]
  },
  {
   "cell_type": "markdown",
   "metadata": {
    "papermill": {
     "duration": 0.111499,
     "end_time": "2021-03-09T19:40:13.468691",
     "exception": false,
     "start_time": "2021-03-09T19:40:13.357192",
     "status": "completed"
    },
    "tags": []
   },
   "source": [
    "####  ? Dropping missing values"
   ]
  },
  {
   "cell_type": "code",
   "execution_count": 19,
   "metadata": {
    "execution": {
     "iopub.execute_input": "2021-03-09T19:40:13.637379Z",
     "iopub.status.busy": "2021-03-09T19:40:13.636667Z",
     "iopub.status.idle": "2021-03-09T19:40:13.671732Z",
     "shell.execute_reply": "2021-03-09T19:40:13.671048Z"
    },
    "papermill": {
     "duration": 0.113396,
     "end_time": "2021-03-09T19:40:13.671843",
     "exception": false,
     "start_time": "2021-03-09T19:40:13.558447",
     "status": "completed"
    },
    "tags": []
   },
   "outputs": [
    {
     "data": {
      "text/plain": [
       "0.1315536777415018"
      ]
     },
     "execution_count": 19,
     "metadata": {},
     "output_type": "execute_result"
    }
   ],
   "source": [
    "train_data.isnull().mean().sum()"
   ]
  },
  {
   "cell_type": "markdown",
   "metadata": {
    "papermill": {
     "duration": 0.070933,
     "end_time": "2021-03-09T19:40:13.812650",
     "exception": false,
     "start_time": "2021-03-09T19:40:13.741717",
     "status": "completed"
    },
    "tags": []
   },
   "source": [
    "We are missing 13% of our data. We will create a baseline and compare if dropping these instances will drastically change our model performance."
   ]
  },
  {
   "cell_type": "markdown",
   "metadata": {
    "papermill": {
     "duration": 0.069867,
     "end_time": "2021-03-09T19:40:13.952853",
     "exception": false,
     "start_time": "2021-03-09T19:40:13.882986",
     "status": "completed"
    },
    "tags": []
   },
   "source": [
    "#### Dropping unncessary columns "
   ]
  },
  {
   "cell_type": "markdown",
   "metadata": {
    "papermill": {
     "duration": 0.075864,
     "end_time": "2021-03-09T19:40:14.099999",
     "exception": false,
     "start_time": "2021-03-09T19:40:14.024135",
     "status": "completed"
    },
    "tags": []
   },
   "source": [
    "We will drop the following columns\n",
    "\n",
    "- Final weight: this column represents the number of people the census believes the entry represents. Therefore, we will drop this column since it does not give any meaningful information to our model.\n",
    "- Education: We already have an Education_num column which presents this information as an ordinal variable. We will drop it to avoid redundant information."
   ]
  },
  {
   "cell_type": "code",
   "execution_count": 20,
   "metadata": {
    "execution": {
     "iopub.execute_input": "2021-03-09T19:40:14.251357Z",
     "iopub.status.busy": "2021-03-09T19:40:14.250672Z",
     "iopub.status.idle": "2021-03-09T19:40:14.256268Z",
     "shell.execute_reply": "2021-03-09T19:40:14.254903Z"
    },
    "papermill": {
     "duration": 0.085859,
     "end_time": "2021-03-09T19:40:14.256421",
     "exception": false,
     "start_time": "2021-03-09T19:40:14.170562",
     "status": "completed"
    },
    "tags": []
   },
   "outputs": [],
   "source": [
    "cols_to_drop = ['fnlwgt', 'education']\n",
    "train_data.drop(cols_to_drop, inplace=True, axis=1)"
   ]
  },
  {
   "cell_type": "markdown",
   "metadata": {
    "papermill": {
     "duration": 0.07007,
     "end_time": "2021-03-09T19:40:14.396916",
     "exception": false,
     "start_time": "2021-03-09T19:40:14.326846",
     "status": "completed"
    },
    "tags": []
   },
   "source": [
    "## 5. Baseline model"
   ]
  },
  {
   "cell_type": "markdown",
   "metadata": {
    "papermill": {
     "duration": 0.069482,
     "end_time": "2021-03-09T19:40:14.536248",
     "exception": false,
     "start_time": "2021-03-09T19:40:14.466766",
     "status": "completed"
    },
    "tags": []
   },
   "source": [
    "## 5.1 Baseline model dropping missing values"
   ]
  },
  {
   "cell_type": "code",
   "execution_count": 21,
   "metadata": {
    "execution": {
     "iopub.execute_input": "2021-03-09T19:40:14.679198Z",
     "iopub.status.busy": "2021-03-09T19:40:14.678444Z",
     "iopub.status.idle": "2021-03-09T19:40:25.510629Z",
     "shell.execute_reply": "2021-03-09T19:40:25.511168Z"
    },
    "papermill": {
     "duration": 10.905264,
     "end_time": "2021-03-09T19:40:25.511308",
     "exception": false,
     "start_time": "2021-03-09T19:40:14.606044",
     "status": "completed"
    },
    "tags": []
   },
   "outputs": [
    {
     "name": "stdout",
     "output_type": "stream",
     "text": [
      "Random Forest AUC imputing missing values: 0.896\n"
     ]
    }
   ],
   "source": [
    "X = train_data.drop('income', axis=1)\n",
    "y = train_data['income']\n",
    "\n",
    "#Transforming categorical columns\n",
    "categorical_columns= X.select_dtypes(object).columns\n",
    "# Using pipeline\n",
    "steps = [('encoding', OneHotEncoder(cols=categorical_columns)),('imputer',SimpleImputer(missing_values=np.NaN, strategy='most_frequent')),('model',RandomForestClassifier())]\n",
    "pipeline = Pipeline(steps=steps)\n",
    "stratified_kfold = StratifiedKFold(n_splits = 5, random_state=5, shuffle=True)\n",
    "\n",
    "scores = cross_val_score(pipeline, X, y, scoring='roc_auc', cv=stratified_kfold, n_jobs=3)\n",
    "\n",
    "print(f'Random Forest AUC imputing missing values: {round(mean(scores),3)}')"
   ]
  },
  {
   "cell_type": "code",
   "execution_count": 22,
   "metadata": {
    "_kg_hide-input": true,
    "execution": {
     "iopub.execute_input": "2021-03-09T19:40:25.658059Z",
     "iopub.status.busy": "2021-03-09T19:40:25.657066Z",
     "iopub.status.idle": "2021-03-09T19:40:44.211578Z",
     "shell.execute_reply": "2021-03-09T19:40:44.210731Z"
    },
    "papermill": {
     "duration": 18.628959,
     "end_time": "2021-03-09T19:40:44.211703",
     "exception": false,
     "start_time": "2021-03-09T19:40:25.582744",
     "status": "completed"
    },
    "tags": []
   },
   "outputs": [
    {
     "name": "stdout",
     "output_type": "stream",
     "text": [
      "XGBClassifier AUC dropping missing values: 0.926\n"
     ]
    }
   ],
   "source": [
    "train_data_without_na = train_data.dropna()\n",
    "\n",
    "X = train_data_without_na.drop('income', axis=1)\n",
    "y = train_data_without_na['income']\n",
    "#Transformin categorical columns\n",
    "categorical_columns= X.select_dtypes(object).columns\n",
    "# Using pipeline\n",
    "steps = [('encoding', OneHotEncoder(cols=categorical_columns)),('model',XGBClassifier())]\n",
    "pipeline = Pipeline(steps=steps)\n",
    "\n",
    "stratified_kfold = StratifiedKFold(n_splits = 5, random_state=5, shuffle=True)\n",
    "\n",
    "scores = cross_val_score(pipeline, X, y, scoring='roc_auc', cv=stratified_kfold, n_jobs=3)\n",
    "print(f'XGBClassifier AUC dropping missing values: {round(mean(scores),3)}')\n"
   ]
  },
  {
   "cell_type": "code",
   "execution_count": 23,
   "metadata": {
    "execution": {
     "iopub.execute_input": "2021-03-09T19:40:44.382284Z",
     "iopub.status.busy": "2021-03-09T19:40:44.381565Z",
     "iopub.status.idle": "2021-03-09T19:40:55.063164Z",
     "shell.execute_reply": "2021-03-09T19:40:55.063789Z"
    },
    "papermill": {
     "duration": 10.781086,
     "end_time": "2021-03-09T19:40:55.063944",
     "exception": false,
     "start_time": "2021-03-09T19:40:44.282858",
     "status": "completed"
    },
    "tags": []
   },
   "outputs": [
    {
     "name": "stdout",
     "output_type": "stream",
     "text": [
      "Gradient Boosting AUC dropping missing values: 0.92\n"
     ]
    }
   ],
   "source": [
    "train_data_without_na = train_data.dropna()\n",
    "\n",
    "X = train_data_without_na.drop('income', axis=1)\n",
    "y = train_data_without_na['income']\n",
    "#Transformin categorical columns\n",
    "categorical_columns= X.select_dtypes(object).columns\n",
    "# Using pipeline\n",
    "steps = [('encoding', OneHotEncoder(cols=categorical_columns)),('model',GradientBoostingClassifier())]\n",
    "pipeline = Pipeline(steps=steps)\n",
    "\n",
    "stratified_kfold = StratifiedKFold(n_splits = 5, random_state=5, shuffle=True)\n",
    "\n",
    "scores = cross_val_score(pipeline, X, y, scoring='roc_auc', cv=stratified_kfold, n_jobs=-1)\n",
    "print(f'Gradient Boosting AUC dropping missing values: {round(mean(scores),3)}')\n"
   ]
  },
  {
   "cell_type": "code",
   "execution_count": 24,
   "metadata": {
    "execution": {
     "iopub.execute_input": "2021-03-09T19:40:55.237816Z",
     "iopub.status.busy": "2021-03-09T19:40:55.236736Z",
     "iopub.status.idle": "2021-03-09T19:40:57.844351Z",
     "shell.execute_reply": "2021-03-09T19:40:57.844930Z"
    },
    "papermill": {
     "duration": 2.708936,
     "end_time": "2021-03-09T19:40:57.845075",
     "exception": false,
     "start_time": "2021-03-09T19:40:55.136139",
     "status": "completed"
    },
    "tags": []
   },
   "outputs": [
    {
     "name": "stdout",
     "output_type": "stream",
     "text": [
      "Logistic regression AUC dropping missing values: 0.864\n"
     ]
    }
   ],
   "source": [
    "train_data_without_na = train_data.dropna()\n",
    "\n",
    "X = train_data_without_na.drop('income', axis=1)\n",
    "y = train_data_without_na['income']\n",
    "#Transformin categorical columns\n",
    "categorical_columns= X.select_dtypes(object).columns\n",
    "# Using pipeline\n",
    "steps = [('encoding', OneHotEncoder(cols=categorical_columns)),('model',LogisticRegression())]\n",
    "pipeline = Pipeline(steps=steps)\n",
    "\n",
    "stratified_kfold = StratifiedKFold(n_splits = 5, random_state=5, shuffle=True)\n",
    "\n",
    "scores = cross_val_score(pipeline, X, y, scoring='roc_auc', cv=stratified_kfold, n_jobs=3)\n",
    "print(f'Logistic regression AUC dropping missing values: {round(mean(scores),3)}')\n"
   ]
  },
  {
   "cell_type": "markdown",
   "metadata": {
    "papermill": {
     "duration": 0.072962,
     "end_time": "2021-03-09T19:40:57.990118",
     "exception": false,
     "start_time": "2021-03-09T19:40:57.917156",
     "status": "completed"
    },
    "tags": []
   },
   "source": [
    "## 5.2 Baseline imputing mising values"
   ]
  },
  {
   "cell_type": "markdown",
   "metadata": {
    "papermill": {
     "duration": 0.072033,
     "end_time": "2021-03-09T19:40:58.135791",
     "exception": false,
     "start_time": "2021-03-09T19:40:58.063758",
     "status": "completed"
    },
    "tags": []
   },
   "source": [
    "Since our missing values are categorical variables:\n",
    "- workclass  \n",
    "- occupation    \n",
    "- native_country      \n",
    "\n",
    "We will use simple imputer with strategy ='most_frequent' (mode)."
   ]
  },
  {
   "cell_type": "code",
   "execution_count": 25,
   "metadata": {
    "execution": {
     "iopub.execute_input": "2021-03-09T19:40:58.288330Z",
     "iopub.status.busy": "2021-03-09T19:40:58.287540Z",
     "iopub.status.idle": "2021-03-09T19:41:07.108668Z",
     "shell.execute_reply": "2021-03-09T19:41:07.107959Z"
    },
    "papermill": {
     "duration": 8.90129,
     "end_time": "2021-03-09T19:41:07.108793",
     "exception": false,
     "start_time": "2021-03-09T19:40:58.207503",
     "status": "completed"
    },
    "tags": []
   },
   "outputs": [
    {
     "name": "stdout",
     "output_type": "stream",
     "text": [
      "Random Forest AUC imputing missing values: 0.895\n"
     ]
    }
   ],
   "source": [
    "X = train_data.drop('income', axis=1)\n",
    "y = train_data['income']\n",
    "\n",
    "#Transforming categorical columns\n",
    "categorical_columns= X.select_dtypes(object).columns\n",
    "# Using pipeline\n",
    "steps = [('encoding', OneHotEncoder(cols=categorical_columns)),('imputer',SimpleImputer(missing_values=np.NaN, strategy='most_frequent')),('model',RandomForestClassifier())]\n",
    "pipeline = Pipeline(steps=steps)\n",
    "stratified_kfold = StratifiedKFold(n_splits = 5, random_state=5, shuffle=True)\n",
    "\n",
    "scores = cross_val_score(pipeline, X, y, scoring='roc_auc', cv=stratified_kfold, n_jobs=3)\n",
    "\n",
    "print(f'Random Forest AUC imputing missing values: {round(mean(scores),3)}')"
   ]
  },
  {
   "cell_type": "code",
   "execution_count": 26,
   "metadata": {
    "execution": {
     "iopub.execute_input": "2021-03-09T19:41:07.266605Z",
     "iopub.status.busy": "2021-03-09T19:41:07.263637Z",
     "iopub.status.idle": "2021-03-09T19:41:27.292696Z",
     "shell.execute_reply": "2021-03-09T19:41:27.293177Z"
    },
    "papermill": {
     "duration": 20.112038,
     "end_time": "2021-03-09T19:41:27.293344",
     "exception": false,
     "start_time": "2021-03-09T19:41:07.181306",
     "status": "completed"
    },
    "tags": []
   },
   "outputs": [
    {
     "name": "stdout",
     "output_type": "stream",
     "text": [
      "XGBClassifier AUC imputing missing values: 0.928\n"
     ]
    }
   ],
   "source": [
    "X = train_data.drop('income', axis=1)\n",
    "y = train_data['income']\n",
    "\n",
    "#Transforming categorical columns\n",
    "categorical_columns= X.select_dtypes(object).columns\n",
    "# Using pipeline\n",
    "steps = [('encoding', OneHotEncoder(cols=categorical_columns)),('imputer',SimpleImputer(missing_values=np.NaN, strategy='most_frequent')),('model',XGBClassifier())]\n",
    "pipeline = Pipeline(steps=steps)\n",
    "stratified_kfold = StratifiedKFold(n_splits = 5, random_state=5, shuffle=True)\n",
    "\n",
    "scores = cross_val_score(pipeline, X, y, scoring='roc_auc', cv=stratified_kfold, n_jobs=3)\n",
    "\n",
    "print(f'XGBClassifier AUC imputing missing values: {round(mean(scores),3)}')"
   ]
  },
  {
   "cell_type": "code",
   "execution_count": 27,
   "metadata": {
    "execution": {
     "iopub.execute_input": "2021-03-09T19:41:27.449775Z",
     "iopub.status.busy": "2021-03-09T19:41:27.449060Z",
     "iopub.status.idle": "2021-03-09T19:41:39.040107Z",
     "shell.execute_reply": "2021-03-09T19:41:39.039267Z"
    },
    "papermill": {
     "duration": 11.673784,
     "end_time": "2021-03-09T19:41:39.040244",
     "exception": false,
     "start_time": "2021-03-09T19:41:27.366460",
     "status": "completed"
    },
    "tags": []
   },
   "outputs": [
    {
     "name": "stdout",
     "output_type": "stream",
     "text": [
      "Gradient Boosting  AUC imputing missing values: 0.922\n"
     ]
    }
   ],
   "source": [
    "X = train_data.drop('income', axis=1)\n",
    "y = train_data['income']\n",
    "\n",
    "#Transforming categorical columns\n",
    "categorical_columns= X.select_dtypes(object).columns\n",
    "# Using pipeline\n",
    "steps = [('encoding', OneHotEncoder(cols=categorical_columns)),('imputer',SimpleImputer(missing_values=np.NaN, strategy='most_frequent')),('model',GradientBoostingClassifier())]\n",
    "pipeline = Pipeline(steps=steps)\n",
    "stratified_kfold = StratifiedKFold(n_splits = 5, random_state=5, shuffle=True)\n",
    "\n",
    "scores = cross_val_score(pipeline, X, y, scoring='roc_auc', cv=stratified_kfold, n_jobs=3)\n",
    "\n",
    "print(f'Gradient Boosting  AUC imputing missing values: {round(mean(scores),3)}')"
   ]
  },
  {
   "cell_type": "code",
   "execution_count": 28,
   "metadata": {
    "execution": {
     "iopub.execute_input": "2021-03-09T19:41:39.197891Z",
     "iopub.status.busy": "2021-03-09T19:41:39.196817Z",
     "iopub.status.idle": "2021-03-09T19:41:41.703750Z",
     "shell.execute_reply": "2021-03-09T19:41:41.702778Z"
    },
    "papermill": {
     "duration": 2.59022,
     "end_time": "2021-03-09T19:41:41.703912",
     "exception": false,
     "start_time": "2021-03-09T19:41:39.113692",
     "status": "completed"
    },
    "tags": []
   },
   "outputs": [
    {
     "name": "stdout",
     "output_type": "stream",
     "text": [
      "Logistic Regression AUC imputing missing values: 0.876\n"
     ]
    }
   ],
   "source": [
    "X = train_data.drop('income', axis=1)\n",
    "y = train_data['income']\n",
    "\n",
    "#Transforming categorical columns\n",
    "categorical_columns= X.select_dtypes(object).columns\n",
    "# Using pipeline\n",
    "steps = [('encoding', OneHotEncoder(cols=categorical_columns)),('imputer',SimpleImputer(missing_values=np.NaN, strategy='most_frequent')),('model',LogisticRegression())]\n",
    "pipeline = Pipeline(steps=steps)\n",
    "stratified_kfold = StratifiedKFold(n_splits = 5, random_state=5, shuffle=True)\n",
    "\n",
    "scores = cross_val_score(pipeline, X, y, scoring='roc_auc', cv=stratified_kfold, n_jobs=3)\n",
    "\n",
    "print(f'Logistic Regression AUC imputing missing values: {round(mean(scores),3)}')"
   ]
  },
  {
   "cell_type": "markdown",
   "metadata": {
    "papermill": {
     "duration": 0.074704,
     "end_time": "2021-03-09T19:41:41.853784",
     "exception": false,
     "start_time": "2021-03-09T19:41:41.779080",
     "status": "completed"
    },
    "tags": []
   },
   "source": [
    "## 5.2 Models handling imbalanced data"
   ]
  },
  {
   "cell_type": "markdown",
   "metadata": {
    "papermill": {
     "duration": 0.073761,
     "end_time": "2021-03-09T19:41:42.001726",
     "exception": false,
     "start_time": "2021-03-09T19:41:41.927965",
     "status": "completed"
    },
    "tags": []
   },
   "source": [
    "Another problem we have encounter was our data was imbalanced: \n",
    "       - 0    0.76%\n",
    "       - 1    0.24%\n",
    "Having an imbalanced data set can create model performance with classification problems. Our class is not very severe therefore we will still try to use: \n",
    "\n",
    "\n",
    "- SMOTE (oversampling): creating more samples for the minority class.\n",
    "- UNDER : decreasing the majority class.\n",
    "\n",
    "In both cases we can see that the models using SMOTE techinique the models performed worse than in UNDER technique. However, still, our data set was not that severly imbalanced and we can see that our model performed better without using any technique. \n"
   ]
  },
  {
   "cell_type": "markdown",
   "metadata": {
    "papermill": {
     "duration": 0.073403,
     "end_time": "2021-03-09T19:41:42.149080",
     "exception": false,
     "start_time": "2021-03-09T19:41:42.075677",
     "status": "completed"
    },
    "tags": []
   },
   "source": [
    "### 5.2.1 Using Ovesampling technique"
   ]
  },
  {
   "cell_type": "code",
   "execution_count": 29,
   "metadata": {
    "execution": {
     "iopub.execute_input": "2021-03-09T19:41:42.308546Z",
     "iopub.status.busy": "2021-03-09T19:41:42.307449Z",
     "iopub.status.idle": "2021-03-09T19:42:13.663907Z",
     "shell.execute_reply": "2021-03-09T19:42:13.664481Z"
    },
    "papermill": {
     "duration": 31.441633,
     "end_time": "2021-03-09T19:42:13.664627",
     "exception": false,
     "start_time": "2021-03-09T19:41:42.222994",
     "status": "completed"
    },
    "tags": []
   },
   "outputs": [
    {
     "name": "stdout",
     "output_type": "stream",
     "text": [
      "XGBClassifier AUC imputing missing values + SMOTE: 0.924\n"
     ]
    }
   ],
   "source": [
    "X = train_data.drop('income', axis=1)\n",
    "y = train_data['income']\n",
    "\n",
    "#Transforming categorical columns\n",
    "categorical_columns= X.select_dtypes(object).columns\n",
    "# Using pipeline\n",
    "steps = [('encoding', OneHotEncoder(cols=categorical_columns)),('imputer',SimpleImputer(missing_values=np.NaN, strategy='most_frequent')),('over', SMOTE()),('model',XGBClassifier())]\n",
    "pipeline = Pipeline(steps=steps)\n",
    "stratified_kfold = StratifiedKFold(n_splits = 5, random_state=5)\n",
    "\n",
    "scores = cross_val_score(pipeline, X, y, scoring='roc_auc', cv=stratified_kfold, n_jobs=3)\n",
    "\n",
    "print(f'XGBClassifier AUC imputing missing values + SMOTE: {round(mean(scores),3)}')"
   ]
  },
  {
   "cell_type": "code",
   "execution_count": 30,
   "metadata": {
    "execution": {
     "iopub.execute_input": "2021-03-09T19:42:13.824566Z",
     "iopub.status.busy": "2021-03-09T19:42:13.823570Z",
     "iopub.status.idle": "2021-03-09T19:42:43.501796Z",
     "shell.execute_reply": "2021-03-09T19:42:43.500857Z"
    },
    "papermill": {
     "duration": 29.76281,
     "end_time": "2021-03-09T19:42:43.501951",
     "exception": false,
     "start_time": "2021-03-09T19:42:13.739141",
     "status": "completed"
    },
    "tags": []
   },
   "outputs": [
    {
     "name": "stdout",
     "output_type": "stream",
     "text": [
      "Gradient Boosting AUC imputing missing values + SMOTE: 0.915\n"
     ]
    }
   ],
   "source": [
    "X = train_data.drop('income', axis=1)\n",
    "y = train_data['income']\n",
    "\n",
    "#Transforming categorical columns\n",
    "categorical_columns= X.select_dtypes(object).columns\n",
    "# Using pipeline\n",
    "steps = [('encoding', OneHotEncoder(cols=categorical_columns)),('imputer',SimpleImputer(missing_values=np.NaN, strategy='most_frequent')),('over', SMOTE()),('model',GradientBoostingClassifier())]\n",
    "pipeline = Pipeline(steps=steps)\n",
    "stratified_kfold = StratifiedKFold(n_splits = 5, random_state=5)\n",
    "\n",
    "scores = cross_val_score(pipeline, X, y, scoring='roc_auc', cv=stratified_kfold, n_jobs=3)\n",
    "\n",
    "print(f'Gradient Boosting AUC imputing missing values + SMOTE: {round(mean(scores),3)}')"
   ]
  },
  {
   "cell_type": "markdown",
   "metadata": {
    "papermill": {
     "duration": 0.07503,
     "end_time": "2021-03-09T19:42:43.652548",
     "exception": false,
     "start_time": "2021-03-09T19:42:43.577518",
     "status": "completed"
    },
    "tags": []
   },
   "source": [
    "### 5.2.2 Using undersample  technique"
   ]
  },
  {
   "cell_type": "code",
   "execution_count": 31,
   "metadata": {
    "execution": {
     "iopub.execute_input": "2021-03-09T19:42:43.815511Z",
     "iopub.status.busy": "2021-03-09T19:42:43.812592Z",
     "iopub.status.idle": "2021-03-09T19:42:53.343557Z",
     "shell.execute_reply": "2021-03-09T19:42:53.342917Z"
    },
    "papermill": {
     "duration": 9.615502,
     "end_time": "2021-03-09T19:42:53.343696",
     "exception": false,
     "start_time": "2021-03-09T19:42:43.728194",
     "status": "completed"
    },
    "tags": []
   },
   "outputs": [
    {
     "name": "stdout",
     "output_type": "stream",
     "text": [
      "XGBClassifier AUC imputing missing values + UNDER: 0.924\n"
     ]
    }
   ],
   "source": [
    "X = train_data.drop('income', axis=1)\n",
    "y = train_data['income']\n",
    "\n",
    "#Transforming categorical columns\n",
    "categorical_columns= X.select_dtypes(object).columns\n",
    "# Using pipeline\n",
    "steps = [('encoding', OneHotEncoder(cols=categorical_columns)),('imputer',SimpleImputer(missing_values=np.NaN, strategy='most_frequent')),('under', RandomUnderSampler(random_state=5)),('model',XGBClassifier())]\n",
    "pipeline = Pipeline(steps=steps)\n",
    "stratified_kfold = StratifiedKFold(n_splits = 5, random_state=5)\n",
    "\n",
    "scores = cross_val_score(pipeline, X, y, scoring='roc_auc', cv=stratified_kfold, n_jobs=3)\n",
    "\n",
    "print(f'XGBClassifier AUC imputing missing values + UNDER: {round(mean(scores),3)}')"
   ]
  },
  {
   "cell_type": "code",
   "execution_count": 32,
   "metadata": {
    "execution": {
     "iopub.execute_input": "2021-03-09T19:42:53.504943Z",
     "iopub.status.busy": "2021-03-09T19:42:53.503214Z",
     "iopub.status.idle": "2021-03-09T19:43:00.509837Z",
     "shell.execute_reply": "2021-03-09T19:43:00.510490Z"
    },
    "papermill": {
     "duration": 7.091202,
     "end_time": "2021-03-09T19:43:00.510640",
     "exception": false,
     "start_time": "2021-03-09T19:42:53.419438",
     "status": "completed"
    },
    "tags": []
   },
   "outputs": [
    {
     "name": "stdout",
     "output_type": "stream",
     "text": [
      "Gradient Boosting AUC imputing missing values + UNDER: 0.921\n"
     ]
    }
   ],
   "source": [
    "X = train_data.drop('income', axis=1)\n",
    "y = train_data['income']\n",
    "\n",
    "#Transforming categorical columns\n",
    "categorical_columns= X.select_dtypes(object).columns\n",
    "# Using pipeline\n",
    "steps = [('encoding', OneHotEncoder(cols=categorical_columns)),('imputer',SimpleImputer(missing_values=np.NaN, strategy='most_frequent')),('under', RandomUnderSampler(random_state=5)),('model',GradientBoostingClassifier())]\n",
    "pipeline = Pipeline(steps=steps)\n",
    "stratified_kfold = StratifiedKFold(n_splits = 5, random_state=5)\n",
    "\n",
    "scores = cross_val_score(pipeline, X, y, scoring='roc_auc', cv=stratified_kfold, n_jobs=3)\n",
    "\n",
    "print(f'Gradient Boosting AUC imputing missing values + UNDER: {round(mean(scores),3)}')"
   ]
  },
  {
   "cell_type": "markdown",
   "metadata": {
    "papermill": {
     "duration": 0.076905,
     "end_time": "2021-03-09T19:43:00.663705",
     "exception": false,
     "start_time": "2021-03-09T19:43:00.586800",
     "status": "completed"
    },
    "tags": []
   },
   "source": [
    "\n",
    "#### Summary:\n",
    "\n",
    "- Imputing missing values did helped us to increase  AUC in the models. However, the increase it is not huge.\n",
    "\n",
    "- Using SMOTE and UNDER techniques did note helped our model to get better results\n",
    "\n",
    "- Best model: XGBClassifier AUC imputing missing values: 0.928"
   ]
  },
  {
   "cell_type": "markdown",
   "metadata": {
    "papermill": {
     "duration": 0.077664,
     "end_time": "2021-03-09T19:43:00.819236",
     "exception": false,
     "start_time": "2021-03-09T19:43:00.741572",
     "status": "completed"
    },
    "tags": []
   },
   "source": [
    "# 6. Tuning and testing"
   ]
  },
  {
   "cell_type": "markdown",
   "metadata": {
    "papermill": {
     "duration": 0.077431,
     "end_time": "2021-03-09T19:43:00.975819",
     "exception": false,
     "start_time": "2021-03-09T19:43:00.898388",
     "status": "completed"
    },
    "tags": []
   },
   "source": [
    "While tuning our best parameters were as follows:\n",
    "\n",
    "**The best Parameter for XGBClassifier were: {'model__learning_rate': 0.1, 'model__max_depth': 3, 'model__n_estimators': 500}**\n",
    "\n"
   ]
  },
  {
   "cell_type": "code",
   "execution_count": 33,
   "metadata": {
    "execution": {
     "iopub.execute_input": "2021-03-09T19:43:01.142971Z",
     "iopub.status.busy": "2021-03-09T19:43:01.141362Z",
     "iopub.status.idle": "2021-03-09T19:43:01.152548Z",
     "shell.execute_reply": "2021-03-09T19:43:01.151863Z"
    },
    "papermill": {
     "duration": 0.099259,
     "end_time": "2021-03-09T19:43:01.152691",
     "exception": false,
     "start_time": "2021-03-09T19:43:01.053432",
     "status": "completed"
    },
    "tags": []
   },
   "outputs": [],
   "source": [
    "X = train_data.drop('income', axis=1)\n",
    "y = train_data['income']\n",
    "\n",
    "#Transforming categorical columns\n",
    "categorical_columns= X.select_dtypes(object).columns\n",
    "# Using pipeline\n",
    "steps = [('encoding', OneHotEncoder(cols=categorical_columns)),\n",
    "         ('imputer',SimpleImputer(missing_values=np.NaN, strategy='most_frequent')),\n",
    "         ('model',XGBClassifier())]\n",
    "pipeline = Pipeline(steps=steps)\n",
    "stratified_kfold = StratifiedKFold(n_splits = 5, random_state=5)\n",
    "\n",
    "param_grid = {\n",
    "    'model__n_estimators': [500],\n",
    "    'model__learning_rate': [0.1],\n",
    "    'model__max_depth': [3]\n",
    "\n",
    "}\n",
    "\n",
    "\n",
    "grid = GridSearchCV(estimator=pipeline, param_grid=param_grid, cv=stratified_kfold.split(X, y),\n",
    "                    scoring='roc_auc',  n_jobs=5, verbose=True)\n"
   ]
  },
  {
   "cell_type": "code",
   "execution_count": 34,
   "metadata": {
    "execution": {
     "iopub.execute_input": "2021-03-09T19:43:01.313514Z",
     "iopub.status.busy": "2021-03-09T19:43:01.310769Z",
     "iopub.status.idle": "2021-03-09T19:43:57.700933Z",
     "shell.execute_reply": "2021-03-09T19:43:57.701628Z"
    },
    "papermill": {
     "duration": 56.470136,
     "end_time": "2021-03-09T19:43:57.701812",
     "exception": false,
     "start_time": "2021-03-09T19:43:01.231676",
     "status": "completed"
    },
    "tags": []
   },
   "outputs": [
    {
     "name": "stdout",
     "output_type": "stream",
     "text": [
      "Fitting 5 folds for each of 1 candidates, totalling 5 fits\n"
     ]
    },
    {
     "name": "stderr",
     "output_type": "stream",
     "text": [
      "[Parallel(n_jobs=5)]: Using backend LokyBackend with 5 concurrent workers.\n",
      "[Parallel(n_jobs=5)]: Done   2 out of   5 | elapsed:   43.0s remaining:  1.1min\n",
      "[Parallel(n_jobs=5)]: Done   5 out of   5 | elapsed:   44.8s finished\n"
     ]
    },
    {
     "data": {
      "text/plain": [
       "GridSearchCV(cv=<generator object _BaseKFold.split at 0x7efeff59dcd0>,\n",
       "             estimator=Pipeline(steps=[('encoding',\n",
       "                                        OneHotEncoder(cols=Index(['workclass', 'marital.status', 'occupation', 'relationship', 'race',\n",
       "       'sex', 'native.country'],\n",
       "      dtype='object'))),\n",
       "                                       ('imputer',\n",
       "                                        SimpleImputer(strategy='most_frequent')),\n",
       "                                       ('model',\n",
       "                                        XGBClassifier(base_score=None,\n",
       "                                                      booster=None,\n",
       "                                                      colsample_...\n",
       "                                                      monotone_constraints=None,\n",
       "                                                      n_estimators=100,\n",
       "                                                      n_jobs=None,\n",
       "                                                      num_parallel_tree=None,\n",
       "                                                      random_state=None,\n",
       "                                                      reg_alpha=None,\n",
       "                                                      reg_lambda=None,\n",
       "                                                      scale_pos_weight=None,\n",
       "                                                      subsample=None,\n",
       "                                                      tree_method=None,\n",
       "                                                      validate_parameters=None,\n",
       "                                                      verbosity=None))]),\n",
       "             n_jobs=5,\n",
       "             param_grid={'model__learning_rate': [0.1], 'model__max_depth': [3],\n",
       "                         'model__n_estimators': [500]},\n",
       "             scoring='roc_auc', verbose=True)"
      ]
     },
     "execution_count": 34,
     "metadata": {},
     "output_type": "execute_result"
    }
   ],
   "source": [
    "grid.fit(X,y) "
   ]
  },
  {
   "cell_type": "code",
   "execution_count": 35,
   "metadata": {
    "execution": {
     "iopub.execute_input": "2021-03-09T19:43:57.886866Z",
     "iopub.status.busy": "2021-03-09T19:43:57.886145Z",
     "iopub.status.idle": "2021-03-09T19:43:57.889626Z",
     "shell.execute_reply": "2021-03-09T19:43:57.890402Z"
    },
    "papermill": {
     "duration": 0.088474,
     "end_time": "2021-03-09T19:43:57.890592",
     "exception": false,
     "start_time": "2021-03-09T19:43:57.802118",
     "status": "completed"
    },
    "tags": []
   },
   "outputs": [
    {
     "name": "stdout",
     "output_type": "stream",
     "text": [
      "XGBClassifier AUC: 0.9296\n",
      "The best Parameter for XGBClassifier is: {'model__learning_rate': 0.1, 'model__max_depth': 3, 'model__n_estimators': 500}\n"
     ]
    }
   ],
   "source": [
    "AUC = grid.best_score_\n",
    "best_param = grid.best_params_\n",
    "print(f'XGBClassifier AUC: {round(AUC,4)}')\n",
    "print(f'The best Parameter for XGBClassifier is: {best_param}')"
   ]
  },
  {
   "cell_type": "code",
   "execution_count": 36,
   "metadata": {
    "execution": {
     "iopub.execute_input": "2021-03-09T19:43:58.054670Z",
     "iopub.status.busy": "2021-03-09T19:43:58.054001Z",
     "iopub.status.idle": "2021-03-09T19:43:58.084947Z",
     "shell.execute_reply": "2021-03-09T19:43:58.085497Z"
    },
    "papermill": {
     "duration": 0.113479,
     "end_time": "2021-03-09T19:43:58.085645",
     "exception": false,
     "start_time": "2021-03-09T19:43:57.972166",
     "status": "completed"
    },
    "tags": []
   },
   "outputs": [
    {
     "data": {
      "text/plain": [
       "Pipeline(steps=[('encoding',\n",
       "                 OneHotEncoder(cols=Index(['workclass', 'marital.status', 'occupation', 'relationship', 'race',\n",
       "       'sex', 'native.country'],\n",
       "      dtype='object'))),\n",
       "                ('imputer', SimpleImputer(strategy='most_frequent')),\n",
       "                ('model',\n",
       "                 XGBClassifier(base_score=0.5, booster='gbtree',\n",
       "                               colsample_bylevel=1, colsample_bynode=1,\n",
       "                               colsample_bytree=1, gamma=0, gpu_id=-1,\n",
       "                               importance_type='gain',\n",
       "                               interaction_constraints='', learning_rate=0.1,\n",
       "                               max_delta_step=0, max_depth=3,\n",
       "                               min_child_weight=1, missing=nan,\n",
       "                               monotone_constraints='()', n_estimators=500,\n",
       "                               n_jobs=0, num_parallel_tree=1, random_state=0,\n",
       "                               reg_alpha=0, reg_lambda=1, scale_pos_weight=1,\n",
       "                               subsample=1, tree_method='exact',\n",
       "                               validate_parameters=1, verbosity=None))])"
      ]
     },
     "execution_count": 36,
     "metadata": {},
     "output_type": "execute_result"
    }
   ],
   "source": [
    "full_model = grid.best_estimator_\n",
    "full_model"
   ]
  },
  {
   "cell_type": "markdown",
   "metadata": {
    "papermill": {
     "duration": 0.079055,
     "end_time": "2021-03-09T19:43:58.243346",
     "exception": false,
     "start_time": "2021-03-09T19:43:58.164291",
     "status": "completed"
    },
    "tags": []
   },
   "source": [
    "## 7. Shapply values - Feature importance"
   ]
  },
  {
   "cell_type": "code",
   "execution_count": 37,
   "metadata": {
    "execution": {
     "iopub.execute_input": "2021-03-09T19:43:58.404100Z",
     "iopub.status.busy": "2021-03-09T19:43:58.403428Z",
     "iopub.status.idle": "2021-03-09T19:43:58.531905Z",
     "shell.execute_reply": "2021-03-09T19:43:58.532472Z"
    },
    "papermill": {
     "duration": 0.210722,
     "end_time": "2021-03-09T19:43:58.532630",
     "exception": false,
     "start_time": "2021-03-09T19:43:58.321908",
     "status": "completed"
    },
    "tags": []
   },
   "outputs": [
    {
     "data": {
      "text/html": [
       "<div>\n",
       "<style scoped>\n",
       "    .dataframe tbody tr th:only-of-type {\n",
       "        vertical-align: middle;\n",
       "    }\n",
       "\n",
       "    .dataframe tbody tr th {\n",
       "        vertical-align: top;\n",
       "    }\n",
       "\n",
       "    .dataframe thead th {\n",
       "        text-align: right;\n",
       "    }\n",
       "</style>\n",
       "<table border=\"1\" class=\"dataframe\">\n",
       "  <thead>\n",
       "    <tr style=\"text-align: right;\">\n",
       "      <th></th>\n",
       "      <th>age</th>\n",
       "      <th>workclass_1</th>\n",
       "      <th>workclass_2</th>\n",
       "      <th>workclass_3</th>\n",
       "      <th>workclass_4</th>\n",
       "      <th>workclass_5</th>\n",
       "      <th>workclass_6</th>\n",
       "      <th>workclass_7</th>\n",
       "      <th>workclass_8</th>\n",
       "      <th>workclass_9</th>\n",
       "      <th>...</th>\n",
       "      <th>native.country_33</th>\n",
       "      <th>native.country_34</th>\n",
       "      <th>native.country_35</th>\n",
       "      <th>native.country_36</th>\n",
       "      <th>native.country_37</th>\n",
       "      <th>native.country_38</th>\n",
       "      <th>native.country_39</th>\n",
       "      <th>native.country_40</th>\n",
       "      <th>native.country_41</th>\n",
       "      <th>native.country_42</th>\n",
       "    </tr>\n",
       "  </thead>\n",
       "  <tbody>\n",
       "    <tr>\n",
       "      <th>12022</th>\n",
       "      <td>59</td>\n",
       "      <td>1</td>\n",
       "      <td>0</td>\n",
       "      <td>0</td>\n",
       "      <td>0</td>\n",
       "      <td>0</td>\n",
       "      <td>0</td>\n",
       "      <td>0</td>\n",
       "      <td>0</td>\n",
       "      <td>0</td>\n",
       "      <td>...</td>\n",
       "      <td>0</td>\n",
       "      <td>0</td>\n",
       "      <td>0</td>\n",
       "      <td>0</td>\n",
       "      <td>0</td>\n",
       "      <td>0</td>\n",
       "      <td>0</td>\n",
       "      <td>0</td>\n",
       "      <td>0</td>\n",
       "      <td>0</td>\n",
       "    </tr>\n",
       "    <tr>\n",
       "      <th>6210</th>\n",
       "      <td>23</td>\n",
       "      <td>0</td>\n",
       "      <td>1</td>\n",
       "      <td>0</td>\n",
       "      <td>0</td>\n",
       "      <td>0</td>\n",
       "      <td>0</td>\n",
       "      <td>0</td>\n",
       "      <td>0</td>\n",
       "      <td>0</td>\n",
       "      <td>...</td>\n",
       "      <td>0</td>\n",
       "      <td>0</td>\n",
       "      <td>0</td>\n",
       "      <td>0</td>\n",
       "      <td>0</td>\n",
       "      <td>0</td>\n",
       "      <td>0</td>\n",
       "      <td>0</td>\n",
       "      <td>0</td>\n",
       "      <td>0</td>\n",
       "    </tr>\n",
       "    <tr>\n",
       "      <th>7294</th>\n",
       "      <td>36</td>\n",
       "      <td>0</td>\n",
       "      <td>1</td>\n",
       "      <td>0</td>\n",
       "      <td>0</td>\n",
       "      <td>0</td>\n",
       "      <td>0</td>\n",
       "      <td>0</td>\n",
       "      <td>0</td>\n",
       "      <td>0</td>\n",
       "      <td>...</td>\n",
       "      <td>0</td>\n",
       "      <td>0</td>\n",
       "      <td>0</td>\n",
       "      <td>0</td>\n",
       "      <td>0</td>\n",
       "      <td>0</td>\n",
       "      <td>0</td>\n",
       "      <td>0</td>\n",
       "      <td>0</td>\n",
       "      <td>0</td>\n",
       "    </tr>\n",
       "    <tr>\n",
       "      <th>12308</th>\n",
       "      <td>33</td>\n",
       "      <td>0</td>\n",
       "      <td>1</td>\n",
       "      <td>0</td>\n",
       "      <td>0</td>\n",
       "      <td>0</td>\n",
       "      <td>0</td>\n",
       "      <td>0</td>\n",
       "      <td>0</td>\n",
       "      <td>0</td>\n",
       "      <td>...</td>\n",
       "      <td>0</td>\n",
       "      <td>0</td>\n",
       "      <td>0</td>\n",
       "      <td>0</td>\n",
       "      <td>0</td>\n",
       "      <td>0</td>\n",
       "      <td>0</td>\n",
       "      <td>0</td>\n",
       "      <td>0</td>\n",
       "      <td>0</td>\n",
       "    </tr>\n",
       "    <tr>\n",
       "      <th>3424</th>\n",
       "      <td>38</td>\n",
       "      <td>0</td>\n",
       "      <td>1</td>\n",
       "      <td>0</td>\n",
       "      <td>0</td>\n",
       "      <td>0</td>\n",
       "      <td>0</td>\n",
       "      <td>0</td>\n",
       "      <td>0</td>\n",
       "      <td>0</td>\n",
       "      <td>...</td>\n",
       "      <td>0</td>\n",
       "      <td>0</td>\n",
       "      <td>0</td>\n",
       "      <td>0</td>\n",
       "      <td>0</td>\n",
       "      <td>0</td>\n",
       "      <td>0</td>\n",
       "      <td>0</td>\n",
       "      <td>0</td>\n",
       "      <td>0</td>\n",
       "    </tr>\n",
       "  </tbody>\n",
       "</table>\n",
       "<p>5 rows × 91 columns</p>\n",
       "</div>"
      ],
      "text/plain": [
       "       age  workclass_1  workclass_2  workclass_3  workclass_4  workclass_5  \\\n",
       "12022   59            1            0            0            0            0   \n",
       "6210    23            0            1            0            0            0   \n",
       "7294    36            0            1            0            0            0   \n",
       "12308   33            0            1            0            0            0   \n",
       "3424    38            0            1            0            0            0   \n",
       "\n",
       "       workclass_6  workclass_7  workclass_8  workclass_9  ...  \\\n",
       "12022            0            0            0            0  ...   \n",
       "6210             0            0            0            0  ...   \n",
       "7294             0            0            0            0  ...   \n",
       "12308            0            0            0            0  ...   \n",
       "3424             0            0            0            0  ...   \n",
       "\n",
       "       native.country_33  native.country_34  native.country_35  \\\n",
       "12022                  0                  0                  0   \n",
       "6210                   0                  0                  0   \n",
       "7294                   0                  0                  0   \n",
       "12308                  0                  0                  0   \n",
       "3424                   0                  0                  0   \n",
       "\n",
       "       native.country_36  native.country_37  native.country_38  \\\n",
       "12022                  0                  0                  0   \n",
       "6210                   0                  0                  0   \n",
       "7294                   0                  0                  0   \n",
       "12308                  0                  0                  0   \n",
       "3424                   0                  0                  0   \n",
       "\n",
       "       native.country_39  native.country_40  native.country_41  \\\n",
       "12022                  0                  0                  0   \n",
       "6210                   0                  0                  0   \n",
       "7294                   0                  0                  0   \n",
       "12308                  0                  0                  0   \n",
       "3424                   0                  0                  0   \n",
       "\n",
       "       native.country_42  \n",
       "12022                  0  \n",
       "6210                   0  \n",
       "7294                   0  \n",
       "12308                  0  \n",
       "3424                   0  \n",
       "\n",
       "[5 rows x 91 columns]"
      ]
     },
     "execution_count": 37,
     "metadata": {},
     "output_type": "execute_result"
    }
   ],
   "source": [
    "encoded_variables = full_model['encoding'].transform(X)\n",
    "encoded_variables.head()\n"
   ]
  },
  {
   "cell_type": "code",
   "execution_count": 38,
   "metadata": {
    "execution": {
     "iopub.execute_input": "2021-03-09T19:43:58.694830Z",
     "iopub.status.busy": "2021-03-09T19:43:58.694193Z",
     "iopub.status.idle": "2021-03-09T19:44:10.251913Z",
     "shell.execute_reply": "2021-03-09T19:44:10.252570Z"
    },
    "papermill": {
     "duration": 11.640613,
     "end_time": "2021-03-09T19:44:10.252726",
     "exception": false,
     "start_time": "2021-03-09T19:43:58.612113",
     "status": "completed"
    },
    "tags": []
   },
   "outputs": [
    {
     "data": {
      "image/png": "[encoded data removed]",
      "text/plain": [
       "<Figure size 576x684 with 2 Axes>"
      ]
     },
     "metadata": {
      "needs_background": "light"
     },
     "output_type": "display_data"
    }
   ],
   "source": [
    "explainer = shap.TreeExplainer(full_model['model'])\n",
    "\n",
    "shap_values = explainer.shap_values(encoded_variables)\n",
    "shap.summary_plot(shap_values, encoded_variables)"
   ]
  },
  {
   "cell_type": "code",
   "execution_count": 39,
   "metadata": {
    "execution": {
     "iopub.execute_input": "2021-03-09T19:44:10.428616Z",
     "iopub.status.busy": "2021-03-09T19:44:10.427927Z",
     "iopub.status.idle": "2021-03-09T19:44:10.685568Z",
     "shell.execute_reply": "2021-03-09T19:44:10.684948Z"
    },
    "papermill": {
     "duration": 0.344,
     "end_time": "2021-03-09T19:44:10.685681",
     "exception": false,
     "start_time": "2021-03-09T19:44:10.341681",
     "status": "completed"
    },
    "tags": []
   },
   "outputs": [
    {
     "data": {
      "image/png": "[encoded data removed]",
      "text/plain": [
       "<Figure size 576x684 with 1 Axes>"
      ]
     },
     "metadata": {
      "needs_background": "light"
     },
     "output_type": "display_data"
    }
   ],
   "source": [
    "shap.summary_plot(shap_values, encoded_variables, plot_type='bar')"
   ]
  },
  {
   "cell_type": "markdown",
   "metadata": {
    "papermill": {
     "duration": 0.083035,
     "end_time": "2021-03-09T19:44:10.852095",
     "exception": false,
     "start_time": "2021-03-09T19:44:10.769060",
     "status": "completed"
    },
    "tags": []
   },
   "source": [
    "We can see that:\n",
    "- Marital_status_1 (which is Married-civ-spouse) impacts the result of our model on average of 1.0. This means that married civilians have higher probability to have income higher that 50K. This agrees with our Data exploration section where we mentioned that Married-civ-spouse tend to be more likely to have >50K income.\n",
    "- The second one is age. As explained above, the older one is, the more experience one has and therefore likely to have a higher salary.\n",
    "- Capital gain is the third most important feature and we deduct that having better access to capital is a key factor in improving income.\n",
    "Lastly, education is the fourth most important feature. Again, this is logical, as the more education you have, you more likely you are to have a higher salary."
   ]
  },
  {
   "cell_type": "markdown",
   "metadata": {
    "papermill": {
     "duration": 0.083309,
     "end_time": "2021-03-09T19:44:11.020555",
     "exception": false,
     "start_time": "2021-03-09T19:44:10.937246",
     "status": "completed"
    },
    "tags": []
   },
   "source": [
    "# 8. Prediction and Evaluation"
   ]
  },
  {
   "cell_type": "code",
   "execution_count": 40,
   "metadata": {
    "execution": {
     "iopub.execute_input": "2021-03-09T19:44:11.193563Z",
     "iopub.status.busy": "2021-03-09T19:44:11.192560Z",
     "iopub.status.idle": "2021-03-09T19:44:11.196771Z",
     "shell.execute_reply": "2021-03-09T19:44:11.197237Z"
    },
    "papermill": {
     "duration": 0.092939,
     "end_time": "2021-03-09T19:44:11.197401",
     "exception": false,
     "start_time": "2021-03-09T19:44:11.104462",
     "status": "completed"
    },
    "tags": []
   },
   "outputs": [
    {
     "data": {
      "text/plain": [
       "(6513, 15)"
      ]
     },
     "execution_count": 40,
     "metadata": {},
     "output_type": "execute_result"
    }
   ],
   "source": [
    "test_data.shape"
   ]
  },
  {
   "cell_type": "code",
   "execution_count": 41,
   "metadata": {
    "execution": {
     "iopub.execute_input": "2021-03-09T19:44:11.372781Z",
     "iopub.status.busy": "2021-03-09T19:44:11.371693Z",
     "iopub.status.idle": "2021-03-09T19:44:11.387284Z",
     "shell.execute_reply": "2021-03-09T19:44:11.386710Z"
    },
    "papermill": {
     "duration": 0.1067,
     "end_time": "2021-03-09T19:44:11.387417",
     "exception": false,
     "start_time": "2021-03-09T19:44:11.280717",
     "status": "completed"
    },
    "tags": []
   },
   "outputs": [
    {
     "data": {
      "text/plain": [
       "0"
      ]
     },
     "execution_count": 41,
     "metadata": {},
     "output_type": "execute_result"
    }
   ],
   "source": [
    "test_data.duplicated().sum()"
   ]
  },
  {
   "cell_type": "markdown",
   "metadata": {
    "papermill": {
     "duration": 0.083738,
     "end_time": "2021-03-09T19:44:11.555457",
     "exception": false,
     "start_time": "2021-03-09T19:44:11.471719",
     "status": "completed"
    },
    "tags": []
   },
   "source": [
    "#### Dropping unnecesary columns"
   ]
  },
  {
   "cell_type": "code",
   "execution_count": 42,
   "metadata": {
    "execution": {
     "iopub.execute_input": "2021-03-09T19:44:11.732569Z",
     "iopub.status.busy": "2021-03-09T19:44:11.731868Z",
     "iopub.status.idle": "2021-03-09T19:44:11.735400Z",
     "shell.execute_reply": "2021-03-09T19:44:11.734855Z"
    },
    "papermill": {
     "duration": 0.095893,
     "end_time": "2021-03-09T19:44:11.735520",
     "exception": false,
     "start_time": "2021-03-09T19:44:11.639627",
     "status": "completed"
    },
    "tags": []
   },
   "outputs": [],
   "source": [
    "cols_to_drop = ['fnlwgt', 'education']\n",
    "test_data.drop(cols_to_drop, inplace=True, axis=1)"
   ]
  },
  {
   "cell_type": "code",
   "execution_count": 43,
   "metadata": {
    "execution": {
     "iopub.execute_input": "2021-03-09T19:44:11.925474Z",
     "iopub.status.busy": "2021-03-09T19:44:11.924784Z",
     "iopub.status.idle": "2021-03-09T19:44:11.929109Z",
     "shell.execute_reply": "2021-03-09T19:44:11.928619Z"
    },
    "papermill": {
     "duration": 0.107263,
     "end_time": "2021-03-09T19:44:11.929231",
     "exception": false,
     "start_time": "2021-03-09T19:44:11.821968",
     "status": "completed"
    },
    "tags": []
   },
   "outputs": [
    {
     "data": {
      "text/html": [
       "<div>\n",
       "<style scoped>\n",
       "    .dataframe tbody tr th:only-of-type {\n",
       "        vertical-align: middle;\n",
       "    }\n",
       "\n",
       "    .dataframe tbody tr th {\n",
       "        vertical-align: top;\n",
       "    }\n",
       "\n",
       "    .dataframe thead th {\n",
       "        text-align: right;\n",
       "    }\n",
       "</style>\n",
       "<table border=\"1\" class=\"dataframe\">\n",
       "  <thead>\n",
       "    <tr style=\"text-align: right;\">\n",
       "      <th></th>\n",
       "      <th>age</th>\n",
       "      <th>workclass</th>\n",
       "      <th>education.num</th>\n",
       "      <th>marital.status</th>\n",
       "      <th>occupation</th>\n",
       "      <th>relationship</th>\n",
       "      <th>race</th>\n",
       "      <th>sex</th>\n",
       "      <th>capital.gain</th>\n",
       "      <th>capital.loss</th>\n",
       "      <th>hours.per.week</th>\n",
       "      <th>native.country</th>\n",
       "      <th>income</th>\n",
       "    </tr>\n",
       "  </thead>\n",
       "  <tbody>\n",
       "    <tr>\n",
       "      <th>24900</th>\n",
       "      <td>33</td>\n",
       "      <td>Private</td>\n",
       "      <td>9</td>\n",
       "      <td>Married-civ-spouse</td>\n",
       "      <td>Machine-op-inspct</td>\n",
       "      <td>Husband</td>\n",
       "      <td>White</td>\n",
       "      <td>Male</td>\n",
       "      <td>0</td>\n",
       "      <td>0</td>\n",
       "      <td>40</td>\n",
       "      <td>United-States</td>\n",
       "      <td>1</td>\n",
       "    </tr>\n",
       "    <tr>\n",
       "      <th>6941</th>\n",
       "      <td>47</td>\n",
       "      <td>Local-gov</td>\n",
       "      <td>9</td>\n",
       "      <td>Married-civ-spouse</td>\n",
       "      <td>Craft-repair</td>\n",
       "      <td>Husband</td>\n",
       "      <td>White</td>\n",
       "      <td>Male</td>\n",
       "      <td>0</td>\n",
       "      <td>0</td>\n",
       "      <td>40</td>\n",
       "      <td>United-States</td>\n",
       "      <td>0</td>\n",
       "    </tr>\n",
       "    <tr>\n",
       "      <th>26646</th>\n",
       "      <td>25</td>\n",
       "      <td>Private</td>\n",
       "      <td>11</td>\n",
       "      <td>Never-married</td>\n",
       "      <td>Craft-repair</td>\n",
       "      <td>Unmarried</td>\n",
       "      <td>Amer-Indian-Eskimo</td>\n",
       "      <td>Male</td>\n",
       "      <td>0</td>\n",
       "      <td>0</td>\n",
       "      <td>40</td>\n",
       "      <td>United-States</td>\n",
       "      <td>0</td>\n",
       "    </tr>\n",
       "    <tr>\n",
       "      <th>5319</th>\n",
       "      <td>52</td>\n",
       "      <td>Federal-gov</td>\n",
       "      <td>9</td>\n",
       "      <td>Divorced</td>\n",
       "      <td>Adm-clerical</td>\n",
       "      <td>Not-in-family</td>\n",
       "      <td>White</td>\n",
       "      <td>Female</td>\n",
       "      <td>0</td>\n",
       "      <td>0</td>\n",
       "      <td>43</td>\n",
       "      <td>United-States</td>\n",
       "      <td>0</td>\n",
       "    </tr>\n",
       "    <tr>\n",
       "      <th>21618</th>\n",
       "      <td>26</td>\n",
       "      <td>Private</td>\n",
       "      <td>13</td>\n",
       "      <td>Never-married</td>\n",
       "      <td>Sales</td>\n",
       "      <td>Not-in-family</td>\n",
       "      <td>White</td>\n",
       "      <td>Female</td>\n",
       "      <td>0</td>\n",
       "      <td>0</td>\n",
       "      <td>48</td>\n",
       "      <td>United-States</td>\n",
       "      <td>0</td>\n",
       "    </tr>\n",
       "  </tbody>\n",
       "</table>\n",
       "</div>"
      ],
      "text/plain": [
       "       age    workclass  education.num      marital.status         occupation  \\\n",
       "24900   33      Private              9  Married-civ-spouse  Machine-op-inspct   \n",
       "6941    47    Local-gov              9  Married-civ-spouse       Craft-repair   \n",
       "26646   25      Private             11       Never-married       Craft-repair   \n",
       "5319    52  Federal-gov              9            Divorced       Adm-clerical   \n",
       "21618   26      Private             13       Never-married              Sales   \n",
       "\n",
       "        relationship                race     sex  capital.gain  capital.loss  \\\n",
       "24900        Husband               White    Male             0             0   \n",
       "6941         Husband               White    Male             0             0   \n",
       "26646      Unmarried  Amer-Indian-Eskimo    Male             0             0   \n",
       "5319   Not-in-family               White  Female             0             0   \n",
       "21618  Not-in-family               White  Female             0             0   \n",
       "\n",
       "       hours.per.week native.country  income  \n",
       "24900              40  United-States       1  \n",
       "6941               40  United-States       0  \n",
       "26646              40  United-States       0  \n",
       "5319               43  United-States       0  \n",
       "21618              48  United-States       0  "
      ]
     },
     "execution_count": 43,
     "metadata": {},
     "output_type": "execute_result"
    }
   ],
   "source": [
    "test_data.head()"
   ]
  },
  {
   "cell_type": "code",
   "execution_count": 44,
   "metadata": {
    "execution": {
     "iopub.execute_input": "2021-03-09T19:44:12.106857Z",
     "iopub.status.busy": "2021-03-09T19:44:12.105983Z",
     "iopub.status.idle": "2021-03-09T19:44:12.109984Z",
     "shell.execute_reply": "2021-03-09T19:44:12.109442Z"
    },
    "papermill": {
     "duration": 0.095805,
     "end_time": "2021-03-09T19:44:12.110102",
     "exception": false,
     "start_time": "2021-03-09T19:44:12.014297",
     "status": "completed"
    },
    "tags": []
   },
   "outputs": [],
   "source": [
    "X_test = test_data.drop('income', axis=1)\n",
    "y_test = test_data['income']"
   ]
  },
  {
   "cell_type": "code",
   "execution_count": 45,
   "metadata": {
    "execution": {
     "iopub.execute_input": "2021-03-09T19:44:12.282838Z",
     "iopub.status.busy": "2021-03-09T19:44:12.282189Z",
     "iopub.status.idle": "2021-03-09T19:44:12.391870Z",
     "shell.execute_reply": "2021-03-09T19:44:12.392904Z"
    },
    "papermill": {
     "duration": 0.19809,
     "end_time": "2021-03-09T19:44:12.393107",
     "exception": false,
     "start_time": "2021-03-09T19:44:12.195017",
     "status": "completed"
    },
    "tags": []
   },
   "outputs": [
    {
     "name": "stdout",
     "output_type": "stream",
     "text": [
      "              precision    recall  f1-score   support\n",
      "\n",
      "           0       0.89      0.94      0.92      4945\n",
      "           1       0.78      0.65      0.71      1568\n",
      "\n",
      "    accuracy                           0.87      6513\n",
      "   macro avg       0.84      0.80      0.81      6513\n",
      "weighted avg       0.87      0.87      0.87      6513\n",
      "\n"
     ]
    }
   ],
   "source": [
    "predictions = full_model.predict(X_test)\n",
    "print(classification_report(y_test,predictions))"
   ]
  },
  {
   "cell_type": "code",
   "execution_count": 46,
   "metadata": {
    "execution": {
     "iopub.execute_input": "2021-03-09T19:44:12.610496Z",
     "iopub.status.busy": "2021-03-09T19:44:12.609829Z",
     "iopub.status.idle": "2021-03-09T19:44:12.692094Z",
     "shell.execute_reply": "2021-03-09T19:44:12.693098Z"
    },
    "papermill": {
     "duration": 0.187941,
     "end_time": "2021-03-09T19:44:12.693277",
     "exception": false,
     "start_time": "2021-03-09T19:44:12.505336",
     "status": "completed"
    },
    "tags": []
   },
   "outputs": [
    {
     "name": "stdout",
     "output_type": "stream",
     "text": [
      "Test AUC score is : 0.9269584691814037\n"
     ]
    }
   ],
   "source": [
    "predicted_probabilities = full_model.predict_proba(X_test)\n",
    "\n",
    "print(f'Test AUC score is : {roc_auc_score(y_test,predicted_probabilities[:,1])}')"
   ]
  },
  {
   "cell_type": "markdown",
   "metadata": {
    "papermill": {
     "duration": 0.103253,
     "end_time": "2021-03-09T19:44:12.910681",
     "exception": false,
     "start_time": "2021-03-09T19:44:12.807428",
     "status": "completed"
    },
    "tags": []
   },
   "source": [
    "# 9. Conclusion"
   ]
  },
  {
   "cell_type": "markdown",
   "metadata": {
    "papermill": {
     "duration": 0.087697,
     "end_time": "2021-03-09T19:44:13.086079",
     "exception": false,
     "start_time": "2021-03-09T19:44:12.998382",
     "status": "completed"
    },
    "tags": []
   },
   "source": [
    "Our ROC_AUC is almost the same as in our train set: 0.928 versus 0.926.\n",
    "\n",
    "We can conclude that our model is not overfitted and we are very happy with the results."
   ]
  }
 ],
 "metadata": {
  "kernelspec": {
   "display_name": "Python 3",
   "language": "python",
   "name": "python3"
  },
  "language_info": {
   "codemirror_mode": {
    "name": "ipython",
    "version": 3
   },
   "file_extension": ".py",
   "mimetype": "text/x-python",
   "name": "python",
   "nbconvert_exporter": "python",
   "pygments_lexer": "ipython3",
   "version": "3.8.5"
  },
  "papermill": {
   "duration": 260.709866,
   "end_time": "2021-03-09T19:44:13.298522",
   "environment_variables": {},
   "exception": null,
   "input_path": "__notebook__.ipynb",
   "output_path": "__notebook__.ipynb",
   "parameters": {},
   "start_time": "2021-03-09T19:39:52.588656",
   "version": "2.1.0"
  }
 },
 "nbformat": 4,
 "nbformat_minor": 4
}
