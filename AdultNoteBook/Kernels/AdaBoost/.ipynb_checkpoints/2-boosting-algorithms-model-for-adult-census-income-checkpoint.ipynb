{
 "cells": [
  {
   "cell_type": "code",
   "execution_count": 1,
   "metadata": {
    "execution": {
     "iopub.execute_input": "2021-03-19T05:38:00.573511Z",
     "iopub.status.busy": "2021-03-19T05:38:00.572716Z",
     "iopub.status.idle": "2021-03-19T05:38:02.804511Z",
     "shell.execute_reply": "2021-03-19T05:38:02.803821Z"
    },
    "papermill": {
     "duration": 2.263268,
     "end_time": "2021-03-19T05:38:02.804744",
     "exception": false,
     "start_time": "2021-03-19T05:38:00.541476",
     "status": "completed"
    },
    "tags": []
   },
   "outputs": [],
   "source": [
    "import pandas as pd\n",
    "import numpy as np\n",
    "import seaborn as sns\n",
    "import matplotlib.pyplot as plt\n",
    "import warnings\n",
    "warnings.filterwarnings(\"ignore\")\n",
    "\n",
    "from sklearn.pipeline import Pipeline\n",
    "from sklearn.preprocessing import OneHotEncoder\n",
    "import category_encoders as ce\n",
    "from sklearn.impute import SimpleImputer\n",
    "from sklearn.compose import ColumnTransformer\n",
    "\n",
    "from sklearn.model_selection import train_test_split, RandomizedSearchCV, StratifiedKFold, cross_val_score\n",
    "\n",
    "from sklearn.tree import DecisionTreeClassifier\n",
    "from sklearn.ensemble import AdaBoostClassifier, GradientBoostingClassifier\n",
    "from xgboost.sklearn import XGBClassifier\n",
    "from sklearn.metrics import classification_report, f1_score, plot_roc_curve"
   ]
  },
  {
   "cell_type": "code",
   "execution_count": 2,
   "metadata": {},
   "outputs": [],
   "source": [
    "from aif360.datasets import StandardDataset\n",
    "from aif360.metrics import BinaryLabelDatasetMetric, ClassificationMetric\n",
    "import matplotlib.patches as patches\n",
    "from aif360.algorithms.preprocessing import Reweighing\n",
    "#from packages import *\n",
    "#from ml_fairness import *\n",
    "import matplotlib.pyplot as plt\n",
    "import seaborn as sns\n",
    "\n",
    "\n",
    "\n",
    "from IPython.display import Markdown, display"
   ]
  },
  {
   "cell_type": "code",
   "execution_count": 3,
   "metadata": {
    "execution": {
     "iopub.execute_input": "2021-03-19T05:38:02.853355Z",
     "iopub.status.busy": "2021-03-19T05:38:02.852585Z",
     "iopub.status.idle": "2021-03-19T05:38:03.027399Z",
     "shell.execute_reply": "2021-03-19T05:38:03.026828Z"
    },
    "papermill": {
     "duration": 0.200945,
     "end_time": "2021-03-19T05:38:03.027547",
     "exception": false,
     "start_time": "2021-03-19T05:38:02.826602",
     "status": "completed"
    },
    "tags": []
   },
   "outputs": [
    {
     "data": {
      "text/html": [
       "<div>\n",
       "<style scoped>\n",
       "    .dataframe tbody tr th:only-of-type {\n",
       "        vertical-align: middle;\n",
       "    }\n",
       "\n",
       "    .dataframe tbody tr th {\n",
       "        vertical-align: top;\n",
       "    }\n",
       "\n",
       "    .dataframe thead th {\n",
       "        text-align: right;\n",
       "    }\n",
       "</style>\n",
       "<table border=\"1\" class=\"dataframe\">\n",
       "  <thead>\n",
       "    <tr style=\"text-align: right;\">\n",
       "      <th></th>\n",
       "      <th>age</th>\n",
       "      <th>workclass</th>\n",
       "      <th>fnlwgt</th>\n",
       "      <th>education</th>\n",
       "      <th>education.num</th>\n",
       "      <th>marital.status</th>\n",
       "      <th>occupation</th>\n",
       "      <th>relationship</th>\n",
       "      <th>race</th>\n",
       "      <th>sex</th>\n",
       "      <th>capital.gain</th>\n",
       "      <th>capital.loss</th>\n",
       "      <th>hours.per.week</th>\n",
       "      <th>native.country</th>\n",
       "      <th>income</th>\n",
       "    </tr>\n",
       "  </thead>\n",
       "  <tbody>\n",
       "    <tr>\n",
       "      <th>24505</th>\n",
       "      <td>51</td>\n",
       "      <td>Private</td>\n",
       "      <td>173987</td>\n",
       "      <td>9th</td>\n",
       "      <td>5</td>\n",
       "      <td>Married-civ-spouse</td>\n",
       "      <td>Sales</td>\n",
       "      <td>Husband</td>\n",
       "      <td>White</td>\n",
       "      <td>Male</td>\n",
       "      <td>0</td>\n",
       "      <td>0</td>\n",
       "      <td>40</td>\n",
       "      <td>United-States</td>\n",
       "      <td>&lt;=50K</td>\n",
       "    </tr>\n",
       "  </tbody>\n",
       "</table>\n",
       "</div>"
      ],
      "text/plain": [
       "       age workclass  fnlwgt education  education.num      marital.status  \\\n",
       "24505   51   Private  173987       9th              5  Married-civ-spouse   \n",
       "\n",
       "      occupation relationship   race   sex  capital.gain  capital.loss  \\\n",
       "24505      Sales      Husband  White  Male             0             0   \n",
       "\n",
       "       hours.per.week native.country income  \n",
       "24505              40  United-States  <=50K  "
      ]
     },
     "execution_count": 3,
     "metadata": {},
     "output_type": "execute_result"
    }
   ],
   "source": [
    "adult = pd.read_csv('../../Data/adult.csv')\n",
    "adult.sample()"
   ]
  },
  {
   "cell_type": "code",
   "execution_count": 4,
   "metadata": {
    "execution": {
     "iopub.execute_input": "2021-03-19T05:38:03.108677Z",
     "iopub.status.busy": "2021-03-19T05:38:03.108008Z",
     "iopub.status.idle": "2021-03-19T05:38:03.125920Z",
     "shell.execute_reply": "2021-03-19T05:38:03.125335Z"
    },
    "papermill": {
     "duration": 0.076114,
     "end_time": "2021-03-19T05:38:03.126077",
     "exception": false,
     "start_time": "2021-03-19T05:38:03.049963",
     "status": "completed"
    },
    "tags": []
   },
   "outputs": [
    {
     "name": "stdout",
     "output_type": "stream",
     "text": [
      "<class 'pandas.core.frame.DataFrame'>\n",
      "RangeIndex: 32561 entries, 0 to 32560\n",
      "Data columns (total 15 columns):\n",
      " #   Column          Non-Null Count  Dtype \n",
      "---  ------          --------------  ----- \n",
      " 0   age             32561 non-null  int64 \n",
      " 1   workclass       32561 non-null  object\n",
      " 2   fnlwgt          32561 non-null  int64 \n",
      " 3   education       32561 non-null  object\n",
      " 4   education.num   32561 non-null  int64 \n",
      " 5   marital.status  32561 non-null  object\n",
      " 6   occupation      32561 non-null  object\n",
      " 7   relationship    32561 non-null  object\n",
      " 8   race            32561 non-null  object\n",
      " 9   sex             32561 non-null  object\n",
      " 10  capital.gain    32561 non-null  int64 \n",
      " 11  capital.loss    32561 non-null  int64 \n",
      " 12  hours.per.week  32561 non-null  int64 \n",
      " 13  native.country  32561 non-null  object\n",
      " 14  income          32561 non-null  object\n",
      "dtypes: int64(6), object(9)\n",
      "memory usage: 3.7+ MB\n"
     ]
    }
   ],
   "source": [
    "adult.info()"
   ]
  },
  {
   "cell_type": "markdown",
   "metadata": {
    "papermill": {
     "duration": 0.022213,
     "end_time": "2021-03-19T05:38:03.171196",
     "exception": false,
     "start_time": "2021-03-19T05:38:03.148983",
     "status": "completed"
    },
    "tags": []
   },
   "source": [
    "*In this info detail, indicate that there is no missing value at all. But if you see the whole data carefully, you will find **missing value with '?'**.*"
   ]
  },
  {
   "cell_type": "markdown",
   "metadata": {
    "papermill": {
     "duration": 0.023501,
     "end_time": "2021-03-19T05:38:03.217098",
     "exception": false,
     "start_time": "2021-03-19T05:38:03.193597",
     "status": "completed"
    },
    "tags": []
   },
   "source": [
    "# PreProcessing"
   ]
  },
  {
   "cell_type": "markdown",
   "metadata": {
    "papermill": {
     "duration": 0.022005,
     "end_time": "2021-03-19T05:38:03.261561",
     "exception": false,
     "start_time": "2021-03-19T05:38:03.239556",
     "status": "completed"
    },
    "tags": []
   },
   "source": [
    "*Preprocessing scheme:*\n",
    "* Encode all columns\n",
    "* Drop education because it's already encoded on education.num\n",
    "* Drop fnlwgt because it's unique"
   ]
  },
  {
   "cell_type": "markdown",
   "metadata": {
    "papermill": {
     "duration": 0.022184,
     "end_time": "2021-03-19T05:38:03.306152",
     "exception": false,
     "start_time": "2021-03-19T05:38:03.283968",
     "status": "completed"
    },
    "tags": []
   },
   "source": [
    "*Handling Missing Value In Pipeline*"
   ]
  },
  {
   "cell_type": "code",
   "execution_count": 5,
   "metadata": {
    "execution": {
     "iopub.execute_input": "2021-03-19T05:38:03.356440Z",
     "iopub.status.busy": "2021-03-19T05:38:03.355434Z",
     "iopub.status.idle": "2021-03-19T05:38:03.361557Z",
     "shell.execute_reply": "2021-03-19T05:38:03.362164Z"
    },
    "papermill": {
     "duration": 0.033769,
     "end_time": "2021-03-19T05:38:03.362348",
     "exception": false,
     "start_time": "2021-03-19T05:38:03.328579",
     "status": "completed"
    },
    "tags": []
   },
   "outputs": [],
   "source": [
    "binary_encoder_pipe = Pipeline([\n",
    "    ('imputer', SimpleImputer(strategy = 'constant', fill_value = 'NC', missing_values = '?')),\n",
    "    ('binary', ce.BinaryEncoder())\n",
    "])\n",
    "\n",
    "transformer = ColumnTransformer([\n",
    "    ('one hot', OneHotEncoder(drop = 'first'), ['relationship', 'race', 'sex']),\n",
    "    ('binary', binary_encoder_pipe, ['workclass', 'marital.status', 'occupation', 'native.country'])],\n",
    "    remainder = 'passthrough')"
   ]
  },
  {
   "cell_type": "markdown",
   "metadata": {
    "papermill": {
     "duration": 0.022265,
     "end_time": "2021-03-19T05:38:03.407584",
     "exception": false,
     "start_time": "2021-03-19T05:38:03.385319",
     "status": "completed"
    },
    "tags": []
   },
   "source": [
    "*Splitting Data*"
   ]
  },
  {
   "cell_type": "code",
   "execution_count": 6,
   "metadata": {
    "execution": {
     "iopub.execute_input": "2021-03-19T05:38:03.456571Z",
     "iopub.status.busy": "2021-03-19T05:38:03.455612Z",
     "iopub.status.idle": "2021-03-19T05:38:03.470867Z",
     "shell.execute_reply": "2021-03-19T05:38:03.471412Z"
    },
    "papermill": {
     "duration": 0.041355,
     "end_time": "2021-03-19T05:38:03.471590",
     "exception": false,
     "start_time": "2021-03-19T05:38:03.430235",
     "status": "completed"
    },
    "tags": []
   },
   "outputs": [
    {
     "data": {
      "text/plain": [
       "<=50K    24720\n",
       ">50K      7841\n",
       "Name: income, dtype: int64"
      ]
     },
     "execution_count": 6,
     "metadata": {},
     "output_type": "execute_result"
    }
   ],
   "source": [
    "adult['income'].value_counts()"
   ]
  },
  {
   "cell_type": "markdown",
   "metadata": {
    "papermill": {
     "duration": 0.023083,
     "end_time": "2021-03-19T05:38:03.517599",
     "exception": false,
     "start_time": "2021-03-19T05:38:03.494516",
     "status": "completed"
    },
    "tags": []
   },
   "source": [
    "Income is the target data and **indicated with imbalance data**. I define **income with 1 if income is >50K and 0 if income is <50K**."
   ]
  },
  {
   "cell_type": "code",
   "execution_count": 7,
   "metadata": {
    "execution": {
     "iopub.execute_input": "2021-03-19T05:38:03.568392Z",
     "iopub.status.busy": "2021-03-19T05:38:03.567403Z",
     "iopub.status.idle": "2021-03-19T05:38:03.580593Z",
     "shell.execute_reply": "2021-03-19T05:38:03.581142Z"
    },
    "papermill": {
     "duration": 0.04025,
     "end_time": "2021-03-19T05:38:03.581329",
     "exception": false,
     "start_time": "2021-03-19T05:38:03.541079",
     "status": "completed"
    },
    "tags": []
   },
   "outputs": [],
   "source": [
    "X = adult.drop(['fnlwgt', 'education', 'income'], axis = 1)\n",
    "y = np.where(adult['income'] == '>50K', 1, 0)"
   ]
  },
  {
   "cell_type": "code",
   "execution_count": 8,
   "metadata": {
    "execution": {
     "iopub.execute_input": "2021-03-19T05:38:03.632000Z",
     "iopub.status.busy": "2021-03-19T05:38:03.631007Z",
     "iopub.status.idle": "2021-03-19T05:38:03.637002Z",
     "shell.execute_reply": "2021-03-19T05:38:03.637530Z"
    },
    "papermill": {
     "duration": 0.033104,
     "end_time": "2021-03-19T05:38:03.637822",
     "exception": false,
     "start_time": "2021-03-19T05:38:03.604718",
     "status": "completed"
    },
    "tags": []
   },
   "outputs": [
    {
     "data": {
      "text/plain": [
       "(32561, 12)"
      ]
     },
     "execution_count": 8,
     "metadata": {},
     "output_type": "execute_result"
    }
   ],
   "source": [
    "X.shape"
   ]
  },
  {
   "cell_type": "code",
   "execution_count": 9,
   "metadata": {
    "execution": {
     "iopub.execute_input": "2021-03-19T05:38:03.689040Z",
     "iopub.status.busy": "2021-03-19T05:38:03.688033Z",
     "iopub.status.idle": "2021-03-19T05:38:03.726523Z",
     "shell.execute_reply": "2021-03-19T05:38:03.725847Z"
    },
    "papermill": {
     "duration": 0.065514,
     "end_time": "2021-03-19T05:38:03.726708",
     "exception": false,
     "start_time": "2021-03-19T05:38:03.661194",
     "status": "completed"
    },
    "tags": []
   },
   "outputs": [],
   "source": [
    "X_train, X_test, y_train, y_test = train_test_split(X, y, stratify = y,\n",
    "                                                    test_size = 0.3, random_state = 1212)"
   ]
  },
  {
   "cell_type": "markdown",
   "metadata": {
    "papermill": {
     "duration": 0.023919,
     "end_time": "2021-03-19T05:38:03.775037",
     "exception": false,
     "start_time": "2021-03-19T05:38:03.751118",
     "status": "completed"
    },
    "tags": []
   },
   "source": [
    "I use 0.3 as default score for test_size and X.shape for random_state so the data will be devided equally."
   ]
  },
  {
   "cell_type": "markdown",
   "metadata": {
    "papermill": {
     "duration": 0.023793,
     "end_time": "2021-03-19T05:38:03.822815",
     "exception": false,
     "start_time": "2021-03-19T05:38:03.799022",
     "status": "completed"
    },
    "tags": []
   },
   "source": [
    "# Define Model"
   ]
  },
  {
   "cell_type": "markdown",
   "metadata": {
    "papermill": {
     "duration": 0.023731,
     "end_time": "2021-03-19T05:38:03.871290",
     "exception": false,
     "start_time": "2021-03-19T05:38:03.847559",
     "status": "completed"
    },
    "tags": []
   },
   "source": [
    "I use 3 Boosting Algorithms Models:\n",
    "* Ada Boost Classifier\n",
    "* Gradient Boosting Classifier\n",
    "* XGB Classifier"
   ]
  },
  {
   "cell_type": "code",
   "execution_count": 10,
   "metadata": {
    "execution": {
     "iopub.execute_input": "2021-03-19T05:38:03.927028Z",
     "iopub.status.busy": "2021-03-19T05:38:03.926229Z",
     "iopub.status.idle": "2021-03-19T05:38:03.929154Z",
     "shell.execute_reply": "2021-03-19T05:38:03.929616Z"
    },
    "papermill": {
     "duration": 0.034442,
     "end_time": "2021-03-19T05:38:03.929828",
     "exception": false,
     "start_time": "2021-03-19T05:38:03.895386",
     "status": "completed"
    },
    "tags": []
   },
   "outputs": [],
   "source": [
    "adaboost = AdaBoostClassifier(DecisionTreeClassifier(), random_state = 1212)\n",
    "pipe_ada = Pipeline([\n",
    "    ('transformer', transformer),\n",
    "    ('adaboost', adaboost)])\n",
    "\n",
    "gradboost = GradientBoostingClassifier(random_state = 1212)\n",
    "pipe_grad = Pipeline([\n",
    "    ('transformer', transformer),\n",
    "    ('gradboost', gradboost)])\n",
    "\n",
    "XGBOOST = XGBClassifier(random_state = 1212)\n",
    "pipe_XGB = Pipeline([\n",
    "    ('transformer', transformer),\n",
    "    ('XGBOOST', XGBOOST)])"
   ]
  },
  {
   "cell_type": "markdown",
   "metadata": {
    "papermill": {
     "duration": 0.023691,
     "end_time": "2021-03-19T05:38:03.977709",
     "exception": false,
     "start_time": "2021-03-19T05:38:03.954018",
     "status": "completed"
    },
    "tags": []
   },
   "source": [
    "# Cross Validation"
   ]
  },
  {
   "cell_type": "markdown",
   "metadata": {
    "papermill": {
     "duration": 0.023661,
     "end_time": "2021-03-19T05:38:04.025361",
     "exception": false,
     "start_time": "2021-03-19T05:38:04.001700",
     "status": "completed"
    },
    "tags": []
   },
   "source": [
    "*Model Evaluation*"
   ]
  },
  {
   "cell_type": "code",
   "execution_count": 12,
   "metadata": {
    "execution": {
     "iopub.execute_input": "2021-03-19T05:38:04.081401Z",
     "iopub.status.busy": "2021-03-19T05:38:04.080271Z",
     "iopub.status.idle": "2021-03-19T05:38:44.672230Z",
     "shell.execute_reply": "2021-03-19T05:38:44.672845Z"
    },
    "papermill": {
     "duration": 40.623782,
     "end_time": "2021-03-19T05:38:44.673057",
     "exception": false,
     "start_time": "2021-03-19T05:38:04.049275",
     "status": "completed"
    },
    "tags": []
   },
   "outputs": [],
   "source": [
    "def model_evaluation(model, metric):\n",
    "    skfold = StratifiedKFold(n_splits = 5)\n",
    "    model_cv = cross_val_score(model, X_train, y_train, cv = skfold, scoring = metric)\n",
    "    return model_cv\n",
    "\n",
    "pipe_ada_cv = model_evaluation(pipe_ada, 'f1')\n",
    "pipe_grad_cv = model_evaluation(pipe_grad, 'f1')\n",
    "pipe_XGB_cv = model_evaluation(pipe_XGB, 'f1')"
   ]
  },
  {
   "cell_type": "markdown",
   "metadata": {
    "papermill": {
     "duration": 0.025351,
     "end_time": "2021-03-19T05:38:44.725538",
     "exception": false,
     "start_time": "2021-03-19T05:38:44.700187",
     "status": "completed"
    },
    "tags": []
   },
   "source": [
    "*Fitting Data*"
   ]
  },
  {
   "cell_type": "code",
   "execution_count": null,
   "metadata": {
    "execution": {
     "iopub.execute_input": "2021-03-19T05:38:44.789205Z",
     "iopub.status.busy": "2021-03-19T05:38:44.788134Z",
     "iopub.status.idle": "2021-03-19T05:38:53.398606Z",
     "shell.execute_reply": "2021-03-19T05:38:53.398036Z"
    },
    "papermill": {
     "duration": 8.647612,
     "end_time": "2021-03-19T05:38:53.398853",
     "exception": false,
     "start_time": "2021-03-19T05:38:44.751241",
     "status": "completed"
    },
    "tags": []
   },
   "outputs": [],
   "source": [
    "for model in [pipe_ada, pipe_grad, pipe_XGB]:\n",
    "    model.fit(X_train, y_train)"
   ]
  },
  {
   "cell_type": "markdown",
   "metadata": {
    "papermill": {
     "duration": 0.025784,
     "end_time": "2021-03-19T05:38:53.451009",
     "exception": false,
     "start_time": "2021-03-19T05:38:53.425225",
     "status": "completed"
    },
    "tags": []
   },
   "source": [
    "*Summary*"
   ]
  },
  {
   "cell_type": "code",
   "execution_count": null,
   "metadata": {
    "execution": {
     "iopub.execute_input": "2021-03-19T05:38:53.527446Z",
     "iopub.status.busy": "2021-03-19T05:38:53.526733Z",
     "iopub.status.idle": "2021-03-19T05:38:53.815303Z",
     "shell.execute_reply": "2021-03-19T05:38:53.815805Z"
    },
    "papermill": {
     "duration": 0.33887,
     "end_time": "2021-03-19T05:38:53.815995",
     "exception": false,
     "start_time": "2021-03-19T05:38:53.477125",
     "status": "completed"
    },
    "tags": []
   },
   "outputs": [],
   "source": [
    "score_mean = [pipe_ada_cv.mean(), pipe_grad_cv.mean(), pipe_XGB_cv.mean()]\n",
    "score_std = [pipe_ada_cv.std(), pipe_grad_cv.std(), pipe_XGB_cv.std()]\n",
    "score_f1 = [f1_score(y_test, pipe_ada.predict(X_test)),\n",
    "            f1_score(y_test, pipe_grad.predict(X_test)), \n",
    "            f1_score(y_test, pipe_XGB.predict(X_test))]\n",
    "method_name = ['Ada Boost Classifier', 'Gradient Boost Classifier ',\n",
    "              'XGB Classifier']\n",
    "summary = pd.DataFrame({'method': method_name, 'mean score': score_mean,\n",
    "                        'std score': score_std, 'f1 score': score_f1})\n",
    "summary"
   ]
  },
  {
   "cell_type": "markdown",
   "metadata": {
    "papermill": {
     "duration": 0.026318,
     "end_time": "2021-03-19T05:38:53.869169",
     "exception": false,
     "start_time": "2021-03-19T05:38:53.842851",
     "status": "completed"
    },
    "tags": []
   },
   "source": [
    "From these scores, **XGB Classifier is the best one** with the highest f1 score and mean score, also the lowest std score. Let's cross-check with the important features, see if the model is correct."
   ]
  },
  {
   "cell_type": "code",
   "execution_count": null,
   "metadata": {
    "execution": {
     "iopub.execute_input": "2021-03-19T05:38:53.944904Z",
     "iopub.status.busy": "2021-03-19T05:38:53.929491Z",
     "iopub.status.idle": "2021-03-19T05:38:54.176548Z",
     "shell.execute_reply": "2021-03-19T05:38:54.175387Z"
    },
    "papermill": {
     "duration": 0.28086,
     "end_time": "2021-03-19T05:38:54.176735",
     "exception": false,
     "start_time": "2021-03-19T05:38:53.895875",
     "status": "completed"
    },
    "tags": []
   },
   "outputs": [],
   "source": [
    "plot_roc_curve(pipe_XGB, X_test, y_test)"
   ]
  },
  {
   "cell_type": "markdown",
   "metadata": {
    "papermill": {
     "duration": 0.027942,
     "end_time": "2021-03-19T05:38:54.233278",
     "exception": false,
     "start_time": "2021-03-19T05:38:54.205336",
     "status": "completed"
    },
    "tags": []
   },
   "source": [
    "# Importance Features"
   ]
  },
  {
   "cell_type": "code",
   "execution_count": null,
   "metadata": {
    "execution": {
     "iopub.execute_input": "2021-03-19T05:38:54.295503Z",
     "iopub.status.busy": "2021-03-19T05:38:54.294857Z",
     "iopub.status.idle": "2021-03-19T05:38:54.297765Z",
     "shell.execute_reply": "2021-03-19T05:38:54.297092Z"
    },
    "papermill": {
     "duration": 0.036542,
     "end_time": "2021-03-19T05:38:54.297927",
     "exception": false,
     "start_time": "2021-03-19T05:38:54.261385",
     "status": "completed"
    },
    "tags": []
   },
   "outputs": [],
   "source": [
    "features = list(pipe_ada[0].transformers_[0][1].get_feature_names()) + pipe_ada[0].transformers_[1][1][1].get_feature_names() + ['age', 'education.num', 'capital.gain', 'capital.loss', 'hours.per.week']"
   ]
  },
  {
   "cell_type": "code",
   "execution_count": null,
   "metadata": {
    "execution": {
     "iopub.execute_input": "2021-03-19T05:38:54.358245Z",
     "iopub.status.busy": "2021-03-19T05:38:54.357625Z",
     "iopub.status.idle": "2021-03-19T05:38:54.792959Z",
     "shell.execute_reply": "2021-03-19T05:38:54.792423Z"
    },
    "papermill": {
     "duration": 0.466676,
     "end_time": "2021-03-19T05:38:54.793113",
     "exception": false,
     "start_time": "2021-03-19T05:38:54.326437",
     "status": "completed"
    },
    "tags": []
   },
   "outputs": [],
   "source": [
    "imptab_ada = pd.DataFrame(pipe_ada[1].feature_importances_, columns = ['imp'], index = features)\n",
    "imptab_ada.sort_values('imp').plot(kind = 'barh', figsize = (15,8))\n",
    "plt.title('Importance Table For Ada Boost Classifier Model')\n",
    "plt.show()"
   ]
  },
  {
   "cell_type": "code",
   "execution_count": null,
   "metadata": {
    "execution": {
     "iopub.execute_input": "2021-03-19T05:38:54.859604Z",
     "iopub.status.busy": "2021-03-19T05:38:54.858939Z",
     "iopub.status.idle": "2021-03-19T05:38:55.286891Z",
     "shell.execute_reply": "2021-03-19T05:38:55.286335Z"
    },
    "papermill": {
     "duration": 0.464119,
     "end_time": "2021-03-19T05:38:55.287039",
     "exception": false,
     "start_time": "2021-03-19T05:38:54.822920",
     "status": "completed"
    },
    "tags": []
   },
   "outputs": [],
   "source": [
    "imptab_grad = pd.DataFrame(pipe_grad[1].feature_importances_, columns = ['imp'], index = features)\n",
    "imptab_grad.sort_values('imp').plot(kind = 'barh', figsize = (15,8))\n",
    "plt.title('Importance Table For Gradient Boost Classifier Model')\n",
    "plt.show()"
   ]
  },
  {
   "cell_type": "code",
   "execution_count": null,
   "metadata": {
    "execution": {
     "iopub.execute_input": "2021-03-19T05:38:55.356257Z",
     "iopub.status.busy": "2021-03-19T05:38:55.355583Z",
     "iopub.status.idle": "2021-03-19T05:38:55.939126Z",
     "shell.execute_reply": "2021-03-19T05:38:55.938530Z"
    },
    "papermill": {
     "duration": 0.62115,
     "end_time": "2021-03-19T05:38:55.939279",
     "exception": false,
     "start_time": "2021-03-19T05:38:55.318129",
     "status": "completed"
    },
    "tags": []
   },
   "outputs": [],
   "source": [
    "imptab_XGB = pd.DataFrame(pipe_XGB[1].feature_importances_, columns = ['imp'], index = features)\n",
    "imptab_XGB.sort_values('imp').plot(kind = 'barh', figsize = (15,8))\n",
    "plt.title('Importance Table For XGB Classifier Model')\n",
    "plt.show()"
   ]
  },
  {
   "cell_type": "markdown",
   "metadata": {
    "papermill": {
     "duration": 0.031945,
     "end_time": "2021-03-19T05:38:56.003841",
     "exception": false,
     "start_time": "2021-03-19T05:38:55.971896",
     "status": "completed"
    },
    "tags": []
   },
   "source": [
    "From Importance Features Table, the **XGB Classifier can boost almost all the features**. It's has a consistency with the cross validation result. Now, see if the HyperParameter Tuning process can boost until getting the maximum score."
   ]
  },
  {
   "cell_type": "markdown",
   "metadata": {
    "papermill": {
     "duration": 0.03221,
     "end_time": "2021-03-19T05:38:56.068184",
     "exception": false,
     "start_time": "2021-03-19T05:38:56.035974",
     "status": "completed"
    },
    "tags": []
   },
   "source": [
    "# HyperParameter Tuning"
   ]
  },
  {
   "cell_type": "code",
   "execution_count": null,
   "metadata": {
    "execution": {
     "iopub.execute_input": "2021-03-19T05:38:56.141374Z",
     "iopub.status.busy": "2021-03-19T05:38:56.140625Z",
     "iopub.status.idle": "2021-03-19T06:01:37.865510Z",
     "shell.execute_reply": "2021-03-19T06:01:37.864282Z"
    },
    "papermill": {
     "duration": 1361.765454,
     "end_time": "2021-03-19T06:01:37.865698",
     "exception": false,
     "start_time": "2021-03-19T05:38:56.100244",
     "status": "completed"
    },
    "tags": []
   },
   "outputs": [],
   "source": [
    "XGBOOST = XGBClassifier(random_state = 1212)\n",
    "estimator = Pipeline([('transformer', transformer), ('XGBOOST', XGBOOST)])\n",
    "\n",
    "hyperparam_space = {\n",
    "    'XGBOOST__learning_rate': [0.1, 0.05, 0.01, 0.005],\n",
    "    'XGBOOST__n_estimators': [50, 100, 150, 200],\n",
    "    'XGBOOST__max_depth': [3, 5, 7, 9]\n",
    "}\n",
    "\n",
    "random = RandomizedSearchCV(\n",
    "                estimator,\n",
    "                param_distributions = hyperparam_space,\n",
    "                cv = StratifiedKFold(n_splits = 5),\n",
    "                scoring = 'f1',\n",
    "                n_iter = 10,\n",
    "                n_jobs = -1)\n",
    "\n",
    "random.fit(X_train, y_train)"
   ]
  },
  {
   "cell_type": "code",
   "execution_count": 19,
   "metadata": {
    "execution": {
     "iopub.execute_input": "2021-03-19T06:01:37.939505Z",
     "iopub.status.busy": "2021-03-19T06:01:37.938761Z",
     "iopub.status.idle": "2021-03-19T06:01:37.942876Z",
     "shell.execute_reply": "2021-03-19T06:01:37.942253Z"
    },
    "papermill": {
     "duration": 0.043411,
     "end_time": "2021-03-19T06:01:37.943017",
     "exception": false,
     "start_time": "2021-03-19T06:01:37.899606",
     "status": "completed"
    },
    "tags": []
   },
   "outputs": [
    {
     "name": "stdout",
     "output_type": "stream",
     "text": [
      "best score 0.7017567140030995\n",
      "best param {'XGBOOST__n_estimators': 200, 'XGBOOST__max_depth': 9, 'XGBOOST__learning_rate': 0.05}\n"
     ]
    }
   ],
   "source": [
    "print('best score', random.best_score_)\n",
    "print('best param', random.best_params_)"
   ]
  },
  {
   "cell_type": "markdown",
   "metadata": {
    "papermill": {
     "duration": 0.034769,
     "end_time": "2021-03-19T06:01:38.011326",
     "exception": false,
     "start_time": "2021-03-19T06:01:37.976557",
     "status": "completed"
    },
    "tags": []
   },
   "source": [
    "After HyperParameter Tuning, the best score is 0.6996, which getting lower. N estimator is 150, Max depth is 5, and Learning rate is 0.1. Let's compare the result."
   ]
  },
  {
   "cell_type": "markdown",
   "metadata": {
    "papermill": {
     "duration": 0.033061,
     "end_time": "2021-03-19T06:01:38.078046",
     "exception": false,
     "start_time": "2021-03-19T06:01:38.044985",
     "status": "completed"
    },
    "tags": []
   },
   "source": [
    "# Before VS After Tuning Comparison"
   ]
  },
  {
   "cell_type": "code",
   "execution_count": 20,
   "metadata": {
    "execution": {
     "iopub.execute_input": "2021-03-19T06:01:38.173068Z",
     "iopub.status.busy": "2021-03-19T06:01:38.164508Z",
     "iopub.status.idle": "2021-03-19T06:01:39.914461Z",
     "shell.execute_reply": "2021-03-19T06:01:39.915204Z"
    },
    "papermill": {
     "duration": 1.803827,
     "end_time": "2021-03-19T06:01:39.915379",
     "exception": false,
     "start_time": "2021-03-19T06:01:38.111552",
     "status": "completed"
    },
    "tags": []
   },
   "outputs": [
    {
     "name": "stdout",
     "output_type": "stream",
     "text": [
      "[06:01:38] WARNING: ../src/learner.cc:1061: Starting in XGBoost 1.3.0, the default evaluation metric used with the objective 'binary:logistic' was changed from 'error' to 'logloss'. Explicitly set eval_metric if you'd like to restore the old behavior.\n",
      "              precision    recall  f1-score   support\n",
      "\n",
      "           0       0.90      0.94      0.92      7417\n",
      "           1       0.77      0.66      0.71      2352\n",
      "\n",
      "    accuracy                           0.87      9769\n",
      "   macro avg       0.83      0.80      0.82      9769\n",
      "weighted avg       0.87      0.87      0.87      9769\n",
      "\n"
     ]
    }
   ],
   "source": [
    "estimator.fit(X_train, y_train)\n",
    "y_pred_estimator = estimator.predict(X_test)\n",
    "print(classification_report(y_test, y_pred_estimator))"
   ]
  },
  {
   "cell_type": "code",
   "execution_count": 21,
   "metadata": {
    "execution": {
     "iopub.execute_input": "2021-03-19T06:01:39.991027Z",
     "iopub.status.busy": "2021-03-19T06:01:39.990364Z",
     "iopub.status.idle": "2021-03-19T06:01:45.312598Z",
     "shell.execute_reply": "2021-03-19T06:01:45.311942Z"
    },
    "papermill": {
     "duration": 5.363188,
     "end_time": "2021-03-19T06:01:45.312764",
     "exception": false,
     "start_time": "2021-03-19T06:01:39.949576",
     "status": "completed"
    },
    "tags": []
   },
   "outputs": [
    {
     "name": "stdout",
     "output_type": "stream",
     "text": [
      "[06:01:40] WARNING: ../src/learner.cc:1061: Starting in XGBoost 1.3.0, the default evaluation metric used with the objective 'binary:logistic' was changed from 'error' to 'logloss'. Explicitly set eval_metric if you'd like to restore the old behavior.\n",
      "              precision    recall  f1-score   support\n",
      "\n",
      "           0       0.89      0.94      0.92      7417\n",
      "           1       0.78      0.64      0.70      2352\n",
      "\n",
      "    accuracy                           0.87      9769\n",
      "   macro avg       0.84      0.79      0.81      9769\n",
      "weighted avg       0.86      0.87      0.87      9769\n",
      "\n"
     ]
    }
   ],
   "source": [
    "random.best_estimator_.fit(X_train, y_train)\n",
    "y_pred_random = random.best_estimator_.predict(X_test)\n",
    "print(classification_report(y_test, y_pred_random))"
   ]
  },
  {
   "cell_type": "code",
   "execution_count": 22,
   "metadata": {
    "execution": {
     "iopub.execute_input": "2021-03-19T06:01:45.389702Z",
     "iopub.status.busy": "2021-03-19T06:01:45.388729Z",
     "iopub.status.idle": "2021-03-19T06:01:45.407492Z",
     "shell.execute_reply": "2021-03-19T06:01:45.406952Z"
    },
    "papermill": {
     "duration": 0.05942,
     "end_time": "2021-03-19T06:01:45.407632",
     "exception": false,
     "start_time": "2021-03-19T06:01:45.348212",
     "status": "completed"
    },
    "tags": []
   },
   "outputs": [
    {
     "data": {
      "text/html": [
       "<div>\n",
       "<style scoped>\n",
       "    .dataframe tbody tr th:only-of-type {\n",
       "        vertical-align: middle;\n",
       "    }\n",
       "\n",
       "    .dataframe tbody tr th {\n",
       "        vertical-align: top;\n",
       "    }\n",
       "\n",
       "    .dataframe thead th {\n",
       "        text-align: right;\n",
       "    }\n",
       "</style>\n",
       "<table border=\"1\" class=\"dataframe\">\n",
       "  <thead>\n",
       "    <tr style=\"text-align: right;\">\n",
       "      <th></th>\n",
       "      <th>method</th>\n",
       "      <th>f1 score</th>\n",
       "    </tr>\n",
       "  </thead>\n",
       "  <tbody>\n",
       "    <tr>\n",
       "      <th>0</th>\n",
       "      <td>XGB Classifier Before Tuning</td>\n",
       "      <td>0.713175</td>\n",
       "    </tr>\n",
       "    <tr>\n",
       "      <th>1</th>\n",
       "      <td>XGB Classifier After Tuning</td>\n",
       "      <td>0.703169</td>\n",
       "    </tr>\n",
       "  </tbody>\n",
       "</table>\n",
       "</div>"
      ],
      "text/plain": [
       "                         method  f1 score\n",
       "0  XGB Classifier Before Tuning  0.713175\n",
       "1   XGB Classifier After Tuning  0.703169"
      ]
     },
     "execution_count": 22,
     "metadata": {},
     "output_type": "execute_result"
    }
   ],
   "source": [
    "score_list = [f1_score(y_test, y_pred_estimator), f1_score(y_test, y_pred_random)]\n",
    "method_name = ['XGB Classifier Before Tuning', 'XGB Classifier After Tuning']\n",
    "best_summary = pd.DataFrame({\n",
    "    'method': method_name,\n",
    "    'f1 score': score_list\n",
    "})\n",
    "best_summary"
   ]
  },
  {
   "cell_type": "markdown",
   "metadata": {
    "papermill": {
     "duration": 0.035589,
     "end_time": "2021-03-19T06:01:45.478797",
     "exception": false,
     "start_time": "2021-03-19T06:01:45.443208",
     "status": "completed"
    },
    "tags": []
   },
   "source": [
    "After all, HyperParameter Tuning doesn't work good in this data. So if I have to choose, I pick the **XGB Classifier score Before Tuning, which is 0.71**. I know the number isn't good enough either because the data is imbalance and I don't process any resampling on it."
   ]
  },
  {
   "cell_type": "markdown",
   "metadata": {},
   "source": [
    "## Fairness"
   ]
  },
  {
   "cell_type": "code",
   "execution_count": 13,
   "metadata": {},
   "outputs": [],
   "source": [
    "# This DataFrame is created to stock differents models and fair metrics that we produce in this notebook\n",
    "algo_metrics = pd.DataFrame(columns=['model', 'fair_metrics', 'prediction', 'probs'])\n",
    "\n",
    "def add_to_df_algo_metrics(algo_metrics, model, fair_metrics, preds, probs, name):\n",
    "    return algo_metrics.append(pd.DataFrame(data=[[model, fair_metrics, preds, probs]], columns=['model', 'fair_metrics', 'prediction', 'probs'], index=[name]))"
   ]
  },
  {
   "cell_type": "code",
   "execution_count": 14,
   "metadata": {},
   "outputs": [],
   "source": [
    "def fair_metrics(dataset, pred, pred_is_dataset=False):\n",
    "    if pred_is_dataset:\n",
    "        dataset_pred = pred\n",
    "    else:\n",
    "        dataset_pred = dataset.copy()\n",
    "        dataset_pred.labels = pred\n",
    "    \n",
    "    cols = ['statistical_parity_difference', 'equal_opportunity_difference', 'average_abs_odds_difference',  'disparate_impact', 'theil_index']\n",
    "    obj_fairness = [[0,0,0,1,0]]\n",
    "    \n",
    "    fair_metrics = pd.DataFrame(data=obj_fairness, index=['objective'], columns=cols)\n",
    "    \n",
    "    for attr in dataset_pred.protected_attribute_names:\n",
    "        idx = dataset_pred.protected_attribute_names.index(attr)\n",
    "        privileged_groups =  [{attr:dataset_pred.privileged_protected_attributes[idx][0]}] \n",
    "        unprivileged_groups = [{attr:dataset_pred.unprivileged_protected_attributes[idx][0]}] \n",
    "        \n",
    "        classified_metric = ClassificationMetric(dataset, \n",
    "                                                     dataset_pred,\n",
    "                                                     unprivileged_groups=unprivileged_groups,\n",
    "                                                     privileged_groups=privileged_groups)\n",
    "\n",
    "        metric_pred = BinaryLabelDatasetMetric(dataset_pred,\n",
    "                                                     unprivileged_groups=unprivileged_groups,\n",
    "                                                     privileged_groups=privileged_groups)\n",
    "\n",
    "        acc = classified_metric.accuracy()\n",
    "\n",
    "        row = pd.DataFrame([[metric_pred.mean_difference(),\n",
    "                                classified_metric.equal_opportunity_difference(),\n",
    "                                classified_metric.average_abs_odds_difference(),\n",
    "                                metric_pred.disparate_impact(),\n",
    "                                classified_metric.theil_index()]],\n",
    "                           columns  = cols,\n",
    "                           index = [attr]\n",
    "                          )\n",
    "        fair_metrics = fair_metrics.append(row)    \n",
    "    \n",
    "    fair_metrics = fair_metrics.replace([-np.inf, np.inf], 2)\n",
    "        \n",
    "    return fair_metrics\n",
    "\n",
    "def plot_fair_metrics(fair_metrics):\n",
    "    fig, ax = plt.subplots(figsize=(20,4), ncols=5, nrows=1)\n",
    "\n",
    "    plt.subplots_adjust(\n",
    "        left    =  0.125, \n",
    "        bottom  =  0.1, \n",
    "        right   =  0.9, \n",
    "        top     =  0.9, \n",
    "        wspace  =  .5, \n",
    "        hspace  =  1.1\n",
    "    )\n",
    "\n",
    "    y_title_margin = 1.2\n",
    "\n",
    "    plt.suptitle(\"Fairness metrics\", y = 1.09, fontsize=20)\n",
    "    sns.set(style=\"dark\")\n",
    "\n",
    "    cols = fair_metrics.columns.values\n",
    "    obj = fair_metrics.loc['objective']\n",
    "    size_rect = [0.2,0.2,0.2,0.4,0.25]\n",
    "    rect = [-0.1,-0.1,-0.1,0.8,0]\n",
    "    bottom = [-1,-1,-1,0,0]\n",
    "    top = [1,1,1,2,1]\n",
    "    bound = [[-0.1,0.1],[-0.1,0.1],[-0.1,0.1],[0.8,1.2],[0,0.25]]\n",
    "\n",
    "    display(Markdown(\"### Check bias metrics :\"))\n",
    "    display(Markdown(\"A model can be considered bias if just one of these five metrics show that this model is biased.\"))\n",
    "    for attr in fair_metrics.index[1:len(fair_metrics)].values:\n",
    "        display(Markdown(\"#### For the %s attribute :\"%attr))\n",
    "        check = [bound[i][0] < fair_metrics.loc[attr][i] < bound[i][1] for i in range(0,5)]\n",
    "        display(Markdown(\"With default thresholds, bias against unprivileged group detected in **%d** out of 5 metrics\"%(5 - sum(check))))\n",
    "\n",
    "    for i in range(0,5):\n",
    "        plt.subplot(1, 5, i+1)\n",
    "        ax = sns.barplot(x=fair_metrics.index[1:len(fair_metrics)], y=fair_metrics.iloc[1:len(fair_metrics)][cols[i]])\n",
    "        \n",
    "        for j in range(0,len(fair_metrics)-1):\n",
    "            a, val = ax.patches[j], fair_metrics.iloc[j+1][cols[i]]\n",
    "            marg = -0.2 if val < 0 else 0.1\n",
    "            ax.text(a.get_x()+a.get_width()/5, a.get_y()+a.get_height()+marg, round(val, 3), fontsize=15,color='black')\n",
    "\n",
    "        plt.ylim(bottom[i], top[i])\n",
    "        plt.setp(ax.patches, linewidth=0)\n",
    "        ax.add_patch(patches.Rectangle((-5,rect[i]), 10, size_rect[i], alpha=0.3, facecolor=\"green\", linewidth=1, linestyle='solid'))\n",
    "        plt.axhline(obj[i], color='black', alpha=0.3)\n",
    "        plt.title(cols[i])\n",
    "        ax.set_ylabel('')    \n",
    "        ax.set_xlabel('')"
   ]
  },
  {
   "cell_type": "code",
   "execution_count": 15,
   "metadata": {},
   "outputs": [],
   "source": [
    "def get_fair_metrics_and_plot(data, model, plot=False, model_aif=False):\n",
    "    pred = model.predict(data).labels if model_aif else model.predict(data.features)\n",
    "    # fair_metrics function available in the metrics.py file\n",
    "    fair = fair_metrics(data, pred)\n",
    "\n",
    "    if plot:\n",
    "        # plot_fair_metrics function available in the visualisations.py file\n",
    "        # The visualisation of this function is inspired by the dashboard on the demo of IBM aif360 \n",
    "        plot_fair_metrics(fair)\n",
    "        display(fair)\n",
    "    \n",
    "    return fair"
   ]
  },
  {
   "cell_type": "code",
   "execution_count": 16,
   "metadata": {},
   "outputs": [
    {
     "data": {
      "text/html": [
       "<div>\n",
       "<style scoped>\n",
       "    .dataframe tbody tr th:only-of-type {\n",
       "        vertical-align: middle;\n",
       "    }\n",
       "\n",
       "    .dataframe tbody tr th {\n",
       "        vertical-align: top;\n",
       "    }\n",
       "\n",
       "    .dataframe thead th {\n",
       "        text-align: right;\n",
       "    }\n",
       "</style>\n",
       "<table border=\"1\" class=\"dataframe\">\n",
       "  <thead>\n",
       "    <tr style=\"text-align: right;\">\n",
       "      <th></th>\n",
       "      <th>age</th>\n",
       "      <th>workclass</th>\n",
       "      <th>education.num</th>\n",
       "      <th>marital.status</th>\n",
       "      <th>occupation</th>\n",
       "      <th>relationship</th>\n",
       "      <th>race</th>\n",
       "      <th>sex</th>\n",
       "      <th>capital.gain</th>\n",
       "      <th>capital.loss</th>\n",
       "      <th>hours.per.week</th>\n",
       "      <th>native.country</th>\n",
       "      <th>income</th>\n",
       "    </tr>\n",
       "  </thead>\n",
       "  <tbody>\n",
       "    <tr>\n",
       "      <th>0</th>\n",
       "      <td>90</td>\n",
       "      <td>NaN</td>\n",
       "      <td>9</td>\n",
       "      <td>Widowed</td>\n",
       "      <td>NaN</td>\n",
       "      <td>Not-in-family</td>\n",
       "      <td>White</td>\n",
       "      <td>0</td>\n",
       "      <td>0</td>\n",
       "      <td>4356</td>\n",
       "      <td>40</td>\n",
       "      <td>United-States</td>\n",
       "      <td>0</td>\n",
       "    </tr>\n",
       "    <tr>\n",
       "      <th>1</th>\n",
       "      <td>82</td>\n",
       "      <td>Private</td>\n",
       "      <td>9</td>\n",
       "      <td>Widowed</td>\n",
       "      <td>Exec-managerial</td>\n",
       "      <td>Not-in-family</td>\n",
       "      <td>White</td>\n",
       "      <td>0</td>\n",
       "      <td>0</td>\n",
       "      <td>4356</td>\n",
       "      <td>18</td>\n",
       "      <td>United-States</td>\n",
       "      <td>0</td>\n",
       "    </tr>\n",
       "    <tr>\n",
       "      <th>2</th>\n",
       "      <td>66</td>\n",
       "      <td>NaN</td>\n",
       "      <td>10</td>\n",
       "      <td>Widowed</td>\n",
       "      <td>NaN</td>\n",
       "      <td>Unmarried</td>\n",
       "      <td>Black</td>\n",
       "      <td>0</td>\n",
       "      <td>0</td>\n",
       "      <td>4356</td>\n",
       "      <td>40</td>\n",
       "      <td>United-States</td>\n",
       "      <td>0</td>\n",
       "    </tr>\n",
       "    <tr>\n",
       "      <th>3</th>\n",
       "      <td>54</td>\n",
       "      <td>Private</td>\n",
       "      <td>4</td>\n",
       "      <td>Divorced</td>\n",
       "      <td>Machine-op-inspct</td>\n",
       "      <td>Unmarried</td>\n",
       "      <td>White</td>\n",
       "      <td>0</td>\n",
       "      <td>0</td>\n",
       "      <td>3900</td>\n",
       "      <td>40</td>\n",
       "      <td>United-States</td>\n",
       "      <td>0</td>\n",
       "    </tr>\n",
       "    <tr>\n",
       "      <th>4</th>\n",
       "      <td>41</td>\n",
       "      <td>Private</td>\n",
       "      <td>10</td>\n",
       "      <td>Separated</td>\n",
       "      <td>Prof-specialty</td>\n",
       "      <td>Own-child</td>\n",
       "      <td>White</td>\n",
       "      <td>0</td>\n",
       "      <td>0</td>\n",
       "      <td>3900</td>\n",
       "      <td>40</td>\n",
       "      <td>United-States</td>\n",
       "      <td>0</td>\n",
       "    </tr>\n",
       "  </tbody>\n",
       "</table>\n",
       "</div>"
      ],
      "text/plain": [
       "   age workclass  education.num marital.status         occupation  \\\n",
       "0   90       NaN              9        Widowed                NaN   \n",
       "1   82   Private              9        Widowed    Exec-managerial   \n",
       "2   66       NaN             10        Widowed                NaN   \n",
       "3   54   Private              4       Divorced  Machine-op-inspct   \n",
       "4   41   Private             10      Separated     Prof-specialty   \n",
       "\n",
       "    relationship   race  sex  capital.gain  capital.loss  hours.per.week  \\\n",
       "0  Not-in-family  White    0             0          4356              40   \n",
       "1  Not-in-family  White    0             0          4356              18   \n",
       "2      Unmarried  Black    0             0          4356              40   \n",
       "3      Unmarried  White    0             0          3900              40   \n",
       "4      Own-child  White    0             0          3900              40   \n",
       "\n",
       "  native.country  income  \n",
       "0  United-States       0  \n",
       "1  United-States       0  \n",
       "2  United-States       0  \n",
       "3  United-States       0  \n",
       "4  United-States       0  "
      ]
     },
     "execution_count": 16,
     "metadata": {},
     "output_type": "execute_result"
    }
   ],
   "source": [
    "##train['Sex'] = train['Sex'].map( {'female': 1, 'male': 0} ).astype(int)\n",
    "adult_df = adult.drop(['fnlwgt', 'education'], axis = 1)\n",
    "adult_df[\"income\"]=adult_df[\"income\"].map({\"<=50K\":0,\">50K\":1})\n",
    "adult_df[\"sex\"] = adult_df[\"sex\"].map({\"Male\":1,\"Female\":0})\n",
    "adult_df[\"workclass\"] = adult_df[\"workclass\"].replace(\"?\",np.nan)\n",
    "adult_df[\"occupation\"] = adult_df[\"occupation\"].replace(\"?\",np.nan)\n",
    "adult_df[\"native.country\"] = adult_df[\"native.country\"].replace(\"?\",np.nan)\n",
    "adult_df.head()\n",
    "#features = [\"Pclass\", \"Sex\", \"SibSp\", \"Parch\", \"Survived\"]\n",
    "#X = pd.get_dummies(train_data[features])"
   ]
  },
  {
   "cell_type": "code",
   "execution_count": 17,
   "metadata": {},
   "outputs": [],
   "source": [
    "adult_df[\"workclass\"] = adult_df[\"workclass\"].fillna(adult_df[\"workclass\"].mode()[0])\n",
    "adult_df[\"occupation\"] = adult_df[\"occupation\"].fillna(adult_df[\"occupation\"].mode()[0])\n",
    "adult_df[\"native.country\"] = adult_df[\"native.country\"].fillna(adult_df[\"native.country\"].mode()[0])"
   ]
  },
  {
   "cell_type": "code",
   "execution_count": 18,
   "metadata": {},
   "outputs": [
    {
     "name": "stdout",
     "output_type": "stream",
     "text": [
      "workclass\n",
      "marital.status\n",
      "occupation\n",
      "relationship\n",
      "race\n",
      "native.country\n"
     ]
    }
   ],
   "source": [
    "from sklearn import preprocessing\n",
    "\n",
    "categorical = ['workclass', 'marital.status', 'occupation', 'relationship','race','native.country',]\n",
    "for feature in categorical:\n",
    "        print(feature)\n",
    "        le = preprocessing.LabelEncoder()\n",
    "        adult_df[feature] = le.fit_transform(adult_df[feature])\n",
    "        #X_test[feature] = le.transform(X_test[feature])"
   ]
  },
  {
   "cell_type": "code",
   "execution_count": 19,
   "metadata": {},
   "outputs": [
    {
     "data": {
      "text/html": [
       "<div>\n",
       "<style scoped>\n",
       "    .dataframe tbody tr th:only-of-type {\n",
       "        vertical-align: middle;\n",
       "    }\n",
       "\n",
       "    .dataframe tbody tr th {\n",
       "        vertical-align: top;\n",
       "    }\n",
       "\n",
       "    .dataframe thead th {\n",
       "        text-align: right;\n",
       "    }\n",
       "</style>\n",
       "<table border=\"1\" class=\"dataframe\">\n",
       "  <thead>\n",
       "    <tr style=\"text-align: right;\">\n",
       "      <th></th>\n",
       "      <th>age</th>\n",
       "      <th>workclass</th>\n",
       "      <th>education.num</th>\n",
       "      <th>marital.status</th>\n",
       "      <th>occupation</th>\n",
       "      <th>relationship</th>\n",
       "      <th>race</th>\n",
       "      <th>sex</th>\n",
       "      <th>capital.gain</th>\n",
       "      <th>capital.loss</th>\n",
       "      <th>hours.per.week</th>\n",
       "      <th>native.country</th>\n",
       "      <th>income</th>\n",
       "    </tr>\n",
       "  </thead>\n",
       "  <tbody>\n",
       "    <tr>\n",
       "      <th>0</th>\n",
       "      <td>90</td>\n",
       "      <td>3</td>\n",
       "      <td>9</td>\n",
       "      <td>6</td>\n",
       "      <td>9</td>\n",
       "      <td>1</td>\n",
       "      <td>4</td>\n",
       "      <td>0</td>\n",
       "      <td>0</td>\n",
       "      <td>4356</td>\n",
       "      <td>40</td>\n",
       "      <td>38</td>\n",
       "      <td>0</td>\n",
       "    </tr>\n",
       "    <tr>\n",
       "      <th>1</th>\n",
       "      <td>82</td>\n",
       "      <td>3</td>\n",
       "      <td>9</td>\n",
       "      <td>6</td>\n",
       "      <td>3</td>\n",
       "      <td>1</td>\n",
       "      <td>4</td>\n",
       "      <td>0</td>\n",
       "      <td>0</td>\n",
       "      <td>4356</td>\n",
       "      <td>18</td>\n",
       "      <td>38</td>\n",
       "      <td>0</td>\n",
       "    </tr>\n",
       "    <tr>\n",
       "      <th>2</th>\n",
       "      <td>66</td>\n",
       "      <td>3</td>\n",
       "      <td>10</td>\n",
       "      <td>6</td>\n",
       "      <td>9</td>\n",
       "      <td>4</td>\n",
       "      <td>2</td>\n",
       "      <td>0</td>\n",
       "      <td>0</td>\n",
       "      <td>4356</td>\n",
       "      <td>40</td>\n",
       "      <td>38</td>\n",
       "      <td>0</td>\n",
       "    </tr>\n",
       "    <tr>\n",
       "      <th>3</th>\n",
       "      <td>54</td>\n",
       "      <td>3</td>\n",
       "      <td>4</td>\n",
       "      <td>0</td>\n",
       "      <td>6</td>\n",
       "      <td>4</td>\n",
       "      <td>4</td>\n",
       "      <td>0</td>\n",
       "      <td>0</td>\n",
       "      <td>3900</td>\n",
       "      <td>40</td>\n",
       "      <td>38</td>\n",
       "      <td>0</td>\n",
       "    </tr>\n",
       "    <tr>\n",
       "      <th>4</th>\n",
       "      <td>41</td>\n",
       "      <td>3</td>\n",
       "      <td>10</td>\n",
       "      <td>5</td>\n",
       "      <td>9</td>\n",
       "      <td>3</td>\n",
       "      <td>4</td>\n",
       "      <td>0</td>\n",
       "      <td>0</td>\n",
       "      <td>3900</td>\n",
       "      <td>40</td>\n",
       "      <td>38</td>\n",
       "      <td>0</td>\n",
       "    </tr>\n",
       "  </tbody>\n",
       "</table>\n",
       "</div>"
      ],
      "text/plain": [
       "   age  workclass  education.num  marital.status  occupation  relationship  \\\n",
       "0   90          3              9               6           9             1   \n",
       "1   82          3              9               6           3             1   \n",
       "2   66          3             10               6           9             4   \n",
       "3   54          3              4               0           6             4   \n",
       "4   41          3             10               5           9             3   \n",
       "\n",
       "   race  sex  capital.gain  capital.loss  hours.per.week  native.country  \\\n",
       "0     4    0             0          4356              40              38   \n",
       "1     4    0             0          4356              18              38   \n",
       "2     2    0             0          4356              40              38   \n",
       "3     4    0             0          3900              40              38   \n",
       "4     4    0             0          3900              40              38   \n",
       "\n",
       "   income  \n",
       "0       0  \n",
       "1       0  \n",
       "2       0  \n",
       "3       0  \n",
       "4       0  "
      ]
     },
     "execution_count": 19,
     "metadata": {},
     "output_type": "execute_result"
    }
   ],
   "source": [
    "adult_df.head()"
   ]
  },
  {
   "cell_type": "code",
   "execution_count": 20,
   "metadata": {},
   "outputs": [],
   "source": [
    "privileged_groups = [{'sex': 1}]\n",
    "unprivileged_groups = [{'sex': 0}]\n",
    "dataset_orig = StandardDataset(adult_df,\n",
    "                                  label_name='income',\n",
    "                                  protected_attribute_names=['sex'],\n",
    "                                  favorable_classes=[1],\n",
    "                                  privileged_classes=[[1]])"
   ]
  },
  {
   "cell_type": "code",
   "execution_count": 21,
   "metadata": {},
   "outputs": [
    {
     "data": {
      "text/markdown": [
       "#### Original training dataset"
      ],
      "text/plain": [
       "<IPython.core.display.Markdown object>"
      ]
     },
     "metadata": {},
     "output_type": "display_data"
    },
    {
     "name": "stdout",
     "output_type": "stream",
     "text": [
      "Difference in mean outcomes between unprivileged and privileged groups = -0.196276\n"
     ]
    }
   ],
   "source": [
    "metric_orig_train = BinaryLabelDatasetMetric(dataset_orig, \n",
    "                                             unprivileged_groups=unprivileged_groups,\n",
    "                                             privileged_groups=privileged_groups)\n",
    "display(Markdown(\"#### Original training dataset\"))\n",
    "print(\"Difference in mean outcomes between unprivileged and privileged groups = %f\" % metric_orig_train.mean_difference())"
   ]
  },
  {
   "cell_type": "code",
   "execution_count": 22,
   "metadata": {},
   "outputs": [],
   "source": [
    "import ipynbname\n",
    "nb_fname = ipynbname.name()\n",
    "nb_path = ipynbname.path()\n",
    "\n",
    "from sklearn.ensemble import AdaBoostClassifier\n",
    "import pickle\n",
    "\n",
    "data_orig_train, data_orig_test = dataset_orig.split([0.7], shuffle=True)\n",
    "X_train = data_orig_train.features\n",
    "y_train = data_orig_train.labels.ravel()\n",
    "\n",
    "X_test = data_orig_test.features\n",
    "y_test = data_orig_test.labels.ravel()\n",
    "num_estimators = 100\n",
    "\n",
    "model = AdaBoostClassifier(DecisionTreeClassifier(), random_state = 1212, n_estimators= 1)\n",
    "\n",
    "mdl = model.fit(X_train, y_train)\n",
    "with open('../../Results/AdaBoost/' + nb_fname + '.pkl', 'wb') as f:\n",
    "        pickle.dump(mdl, f)\n",
    "\n",
    "with open('../../Results/AdaBoost/' + nb_fname + '_Train' + '.pkl', 'wb') as f:\n",
    "    pickle.dump(data_orig_train, f) \n",
    "    \n",
    "with open('../../Results/AdaBoost/' + nb_fname + '_Test' + '.pkl', 'wb') as f:\n",
    "    pickle.dump(data_orig_test, f) "
   ]
  },
  {
   "cell_type": "code",
   "execution_count": 23,
   "metadata": {},
   "outputs": [],
   "source": [
    "from csv import writer\n",
    "from sklearn.metrics import accuracy_score, f1_score\n",
    "\n",
    "final_metrics = []\n",
    "accuracy = []\n",
    "f1= []\n",
    "\n",
    "for i in range(1,num_estimators+1):\n",
    "    \n",
    "    model = AdaBoostClassifier(DecisionTreeClassifier(), random_state = 1212, n_estimators= i)\n",
    "    \n",
    "    mdl = model.fit(X_train, y_train)\n",
    "    yy = mdl.predict(X_test)\n",
    "    accuracy.append(accuracy_score(y_test, yy))\n",
    "    f1.append(f1_score(y_test, yy))\n",
    "    fair = get_fair_metrics_and_plot(data_orig_test, mdl)                           \n",
    "    fair_list = fair.iloc[1].tolist()\n",
    "    #fair_list.insert(0, i)\n",
    "    final_metrics.append(fair_list)\n"
   ]
  },
  {
   "cell_type": "code",
   "execution_count": 24,
   "metadata": {},
   "outputs": [
    {
     "name": "stdout",
     "output_type": "stream",
     "text": [
      "           0         1         2         3         4\n",
      "0  -0.183168 -0.076254  0.087144  0.380655  0.131560\n",
      "1  -0.173759 -0.102515  0.092808  0.343206  0.134372\n",
      "2  -0.187010 -0.061932  0.081091  0.377050  0.126129\n",
      "3  -0.188524 -0.076409  0.087742  0.346592  0.126292\n",
      "4  -0.186375 -0.066125  0.081767  0.352659  0.125458\n",
      "..       ...       ...       ...       ...       ...\n",
      "95 -0.205228 -0.191345  0.148209  0.268040  0.132411\n",
      "96 -0.205689 -0.189028  0.147491  0.268399  0.132296\n",
      "97 -0.205074 -0.188520  0.146859  0.268187  0.132236\n",
      "98 -0.205533 -0.194170  0.149477  0.264534  0.132262\n",
      "99 -0.204459 -0.191345  0.147658  0.268777  0.132264\n",
      "\n",
      "[100 rows x 5 columns]\n"
     ]
    },
    {
     "data": {
      "text/html": [
       "<div>\n",
       "<style scoped>\n",
       "    .dataframe tbody tr th:only-of-type {\n",
       "        vertical-align: middle;\n",
       "    }\n",
       "\n",
       "    .dataframe tbody tr th {\n",
       "        vertical-align: top;\n",
       "    }\n",
       "\n",
       "    .dataframe thead th {\n",
       "        text-align: right;\n",
       "    }\n",
       "</style>\n",
       "<table border=\"1\" class=\"dataframe\">\n",
       "  <thead>\n",
       "    <tr style=\"text-align: right;\">\n",
       "      <th></th>\n",
       "      <th>classifier</th>\n",
       "      <th>T0</th>\n",
       "      <th>T1</th>\n",
       "      <th>T2</th>\n",
       "      <th>T3</th>\n",
       "      <th>T4</th>\n",
       "      <th>T5</th>\n",
       "      <th>T6</th>\n",
       "      <th>T7</th>\n",
       "      <th>T8</th>\n",
       "      <th>...</th>\n",
       "      <th>T90</th>\n",
       "      <th>T91</th>\n",
       "      <th>T92</th>\n",
       "      <th>T93</th>\n",
       "      <th>T94</th>\n",
       "      <th>T95</th>\n",
       "      <th>T96</th>\n",
       "      <th>T97</th>\n",
       "      <th>T98</th>\n",
       "      <th>T99</th>\n",
       "    </tr>\n",
       "  </thead>\n",
       "  <tbody>\n",
       "    <tr>\n",
       "      <th>accuracy</th>\n",
       "      <td>0.825468</td>\n",
       "      <td>0.812263</td>\n",
       "      <td>0.825366</td>\n",
       "      <td>0.818098</td>\n",
       "      <td>0.825366</td>\n",
       "      <td>0.826492</td>\n",
       "      <td>0.826901</td>\n",
       "      <td>0.825878</td>\n",
       "      <td>0.829563</td>\n",
       "      <td>0.831201</td>\n",
       "      <td>...</td>\n",
       "      <td>0.825775</td>\n",
       "      <td>0.826287</td>\n",
       "      <td>0.826901</td>\n",
       "      <td>0.826083</td>\n",
       "      <td>0.824547</td>\n",
       "      <td>0.824956</td>\n",
       "      <td>0.824752</td>\n",
       "      <td>0.825264</td>\n",
       "      <td>0.825775</td>\n",
       "      <td>0.825468</td>\n",
       "    </tr>\n",
       "    <tr>\n",
       "      <th>f1</th>\n",
       "      <td>0.611529</td>\n",
       "      <td>0.602686</td>\n",
       "      <td>0.607094</td>\n",
       "      <td>0.617603</td>\n",
       "      <td>0.623233</td>\n",
       "      <td>0.625745</td>\n",
       "      <td>0.625636</td>\n",
       "      <td>0.623089</td>\n",
       "      <td>0.619255</td>\n",
       "      <td>0.622568</td>\n",
       "      <td>...</td>\n",
       "      <td>0.611416</td>\n",
       "      <td>0.612292</td>\n",
       "      <td>0.613132</td>\n",
       "      <td>0.611480</td>\n",
       "      <td>0.610455</td>\n",
       "      <td>0.610833</td>\n",
       "      <td>0.610909</td>\n",
       "      <td>0.611427</td>\n",
       "      <td>0.611770</td>\n",
       "      <td>0.611529</td>\n",
       "    </tr>\n",
       "    <tr>\n",
       "      <th>statistical_parity_difference</th>\n",
       "      <td>-0.204459</td>\n",
       "      <td>-0.183168</td>\n",
       "      <td>-0.173759</td>\n",
       "      <td>-0.187010</td>\n",
       "      <td>-0.188524</td>\n",
       "      <td>-0.186375</td>\n",
       "      <td>-0.186373</td>\n",
       "      <td>-0.184378</td>\n",
       "      <td>-0.173918</td>\n",
       "      <td>-0.174685</td>\n",
       "      <td>...</td>\n",
       "      <td>-0.201235</td>\n",
       "      <td>-0.201235</td>\n",
       "      <td>-0.199853</td>\n",
       "      <td>-0.200160</td>\n",
       "      <td>-0.202466</td>\n",
       "      <td>-0.205228</td>\n",
       "      <td>-0.205689</td>\n",
       "      <td>-0.205074</td>\n",
       "      <td>-0.205533</td>\n",
       "      <td>-0.204459</td>\n",
       "    </tr>\n",
       "    <tr>\n",
       "      <th>equal_opportunity_difference</th>\n",
       "      <td>-0.191345</td>\n",
       "      <td>-0.076254</td>\n",
       "      <td>-0.102515</td>\n",
       "      <td>-0.061932</td>\n",
       "      <td>-0.076409</td>\n",
       "      <td>-0.066125</td>\n",
       "      <td>-0.064094</td>\n",
       "      <td>-0.050543</td>\n",
       "      <td>-0.064137</td>\n",
       "      <td>-0.063850</td>\n",
       "      <td>...</td>\n",
       "      <td>-0.189822</td>\n",
       "      <td>-0.190330</td>\n",
       "      <td>-0.190330</td>\n",
       "      <td>-0.192139</td>\n",
       "      <td>-0.181855</td>\n",
       "      <td>-0.191345</td>\n",
       "      <td>-0.189028</td>\n",
       "      <td>-0.188520</td>\n",
       "      <td>-0.194170</td>\n",
       "      <td>-0.191345</td>\n",
       "    </tr>\n",
       "    <tr>\n",
       "      <th>average_abs_odds_difference</th>\n",
       "      <td>0.147658</td>\n",
       "      <td>0.087144</td>\n",
       "      <td>0.092808</td>\n",
       "      <td>0.081091</td>\n",
       "      <td>0.087742</td>\n",
       "      <td>0.081767</td>\n",
       "      <td>0.080999</td>\n",
       "      <td>0.074554</td>\n",
       "      <td>0.075044</td>\n",
       "      <td>0.074928</td>\n",
       "      <td>...</td>\n",
       "      <td>0.145107</td>\n",
       "      <td>0.145203</td>\n",
       "      <td>0.144259</td>\n",
       "      <td>0.145433</td>\n",
       "      <td>0.142604</td>\n",
       "      <td>0.148209</td>\n",
       "      <td>0.147491</td>\n",
       "      <td>0.146859</td>\n",
       "      <td>0.149477</td>\n",
       "      <td>0.147658</td>\n",
       "    </tr>\n",
       "    <tr>\n",
       "      <th>disparate_impact</th>\n",
       "      <td>-1.313875</td>\n",
       "      <td>-0.965861</td>\n",
       "      <td>-1.069424</td>\n",
       "      <td>-0.975379</td>\n",
       "      <td>-1.059607</td>\n",
       "      <td>-1.042253</td>\n",
       "      <td>-1.050134</td>\n",
       "      <td>-1.037243</td>\n",
       "      <td>-1.048319</td>\n",
       "      <td>-1.057598</td>\n",
       "      <td>...</td>\n",
       "      <td>-1.290512</td>\n",
       "      <td>-1.293428</td>\n",
       "      <td>-1.285519</td>\n",
       "      <td>-1.286630</td>\n",
       "      <td>-1.283391</td>\n",
       "      <td>-1.316618</td>\n",
       "      <td>-1.315281</td>\n",
       "      <td>-1.316070</td>\n",
       "      <td>-1.329787</td>\n",
       "      <td>-1.313875</td>\n",
       "    </tr>\n",
       "    <tr>\n",
       "      <th>theil_index</th>\n",
       "      <td>0.132264</td>\n",
       "      <td>0.131560</td>\n",
       "      <td>0.134372</td>\n",
       "      <td>0.126129</td>\n",
       "      <td>0.126292</td>\n",
       "      <td>0.125458</td>\n",
       "      <td>0.125693</td>\n",
       "      <td>0.126586</td>\n",
       "      <td>0.130037</td>\n",
       "      <td>0.129040</td>\n",
       "      <td>...</td>\n",
       "      <td>0.132435</td>\n",
       "      <td>0.132200</td>\n",
       "      <td>0.132021</td>\n",
       "      <td>0.132519</td>\n",
       "      <td>0.132442</td>\n",
       "      <td>0.132411</td>\n",
       "      <td>0.132296</td>\n",
       "      <td>0.132236</td>\n",
       "      <td>0.132262</td>\n",
       "      <td>0.132264</td>\n",
       "    </tr>\n",
       "  </tbody>\n",
       "</table>\n",
       "<p>7 rows × 101 columns</p>\n",
       "</div>"
      ],
      "text/plain": [
       "                               classifier        T0        T1        T2  \\\n",
       "accuracy                         0.825468  0.812263  0.825366  0.818098   \n",
       "f1                               0.611529  0.602686  0.607094  0.617603   \n",
       "statistical_parity_difference   -0.204459 -0.183168 -0.173759 -0.187010   \n",
       "equal_opportunity_difference    -0.191345 -0.076254 -0.102515 -0.061932   \n",
       "average_abs_odds_difference      0.147658  0.087144  0.092808  0.081091   \n",
       "disparate_impact                -1.313875 -0.965861 -1.069424 -0.975379   \n",
       "theil_index                      0.132264  0.131560  0.134372  0.126129   \n",
       "\n",
       "                                     T3        T4        T5        T6  \\\n",
       "accuracy                       0.825366  0.826492  0.826901  0.825878   \n",
       "f1                             0.623233  0.625745  0.625636  0.623089   \n",
       "statistical_parity_difference -0.188524 -0.186375 -0.186373 -0.184378   \n",
       "equal_opportunity_difference  -0.076409 -0.066125 -0.064094 -0.050543   \n",
       "average_abs_odds_difference    0.087742  0.081767  0.080999  0.074554   \n",
       "disparate_impact              -1.059607 -1.042253 -1.050134 -1.037243   \n",
       "theil_index                    0.126292  0.125458  0.125693  0.126586   \n",
       "\n",
       "                                     T7        T8  ...       T90       T91  \\\n",
       "accuracy                       0.829563  0.831201  ...  0.825775  0.826287   \n",
       "f1                             0.619255  0.622568  ...  0.611416  0.612292   \n",
       "statistical_parity_difference -0.173918 -0.174685  ... -0.201235 -0.201235   \n",
       "equal_opportunity_difference  -0.064137 -0.063850  ... -0.189822 -0.190330   \n",
       "average_abs_odds_difference    0.075044  0.074928  ...  0.145107  0.145203   \n",
       "disparate_impact              -1.048319 -1.057598  ... -1.290512 -1.293428   \n",
       "theil_index                    0.130037  0.129040  ...  0.132435  0.132200   \n",
       "\n",
       "                                    T92       T93       T94       T95  \\\n",
       "accuracy                       0.826901  0.826083  0.824547  0.824956   \n",
       "f1                             0.613132  0.611480  0.610455  0.610833   \n",
       "statistical_parity_difference -0.199853 -0.200160 -0.202466 -0.205228   \n",
       "equal_opportunity_difference  -0.190330 -0.192139 -0.181855 -0.191345   \n",
       "average_abs_odds_difference    0.144259  0.145433  0.142604  0.148209   \n",
       "disparate_impact              -1.285519 -1.286630 -1.283391 -1.316618   \n",
       "theil_index                    0.132021  0.132519  0.132442  0.132411   \n",
       "\n",
       "                                    T96       T97       T98       T99  \n",
       "accuracy                       0.824752  0.825264  0.825775  0.825468  \n",
       "f1                             0.610909  0.611427  0.611770  0.611529  \n",
       "statistical_parity_difference -0.205689 -0.205074 -0.205533 -0.204459  \n",
       "equal_opportunity_difference  -0.189028 -0.188520 -0.194170 -0.191345  \n",
       "average_abs_odds_difference    0.147491  0.146859  0.149477  0.147658  \n",
       "disparate_impact              -1.315281 -1.316070 -1.329787 -1.313875  \n",
       "theil_index                    0.132296  0.132236  0.132262  0.132264  \n",
       "\n",
       "[7 rows x 101 columns]"
      ]
     },
     "execution_count": 24,
     "metadata": {},
     "output_type": "execute_result"
    }
   ],
   "source": [
    "import numpy as np\n",
    "final_result = pd.DataFrame(final_metrics)\n",
    "print(final_result)\n",
    "final_result[3] = np.log(final_result[3])\n",
    "final_result = final_result.transpose()\n",
    "acc_f1 = pd.DataFrame(accuracy)\n",
    "acc_f1['f1'] = f1\n",
    "acc_f1 = pd.DataFrame(acc_f1).transpose()\n",
    "acc = acc_f1.rename(index={0: 'accuracy', 1: 'f1'})\n",
    "final_result = final_result.rename(index={0: 'statistical_parity_difference', 1: 'equal_opportunity_difference', 2: 'average_abs_odds_difference', 3: 'disparate_impact', 4: 'theil_index'})\n",
    "final_result = pd.concat([acc,final_result])\n",
    "final_result.columns = ['T' + str(col) for col in final_result.columns]\n",
    "final_result.insert(0, \"classifier\", final_result['T' + str(num_estimators - 1)])   ##Add final metrics add the beginning of the df\n",
    "final_result.to_csv('../../Results/AdaBoost/' + nb_fname + '.csv')\n",
    "final_result"
   ]
  },
  {
   "cell_type": "code",
   "execution_count": null,
   "metadata": {},
   "outputs": [],
   "source": []
  }
 ],
 "metadata": {
  "kernelspec": {
   "display_name": "Python 3",
   "language": "python",
   "name": "python3"
  },
  "language_info": {
   "codemirror_mode": {
    "name": "ipython",
    "version": 3
   },
   "file_extension": ".py",
   "mimetype": "text/x-python",
   "name": "python",
   "nbconvert_exporter": "python",
   "pygments_lexer": "ipython3",
   "version": "3.8.5"
  },
  "papermill": {
   "default_parameters": {},
   "duration": 1432.173477,
   "end_time": "2021-03-19T06:01:46.424650",
   "environment_variables": {},
   "exception": null,
   "input_path": "__notebook__.ipynb",
   "output_path": "__notebook__.ipynb",
   "parameters": {},
   "start_time": "2021-03-19T05:37:54.251173",
   "version": "2.2.2"
  }
 },
 "nbformat": 4,
 "nbformat_minor": 4
}
