{
 "cells": [
  {
   "cell_type": "markdown",
   "metadata": {
    "_cell_guid": "b1076dfc-b9ad-4769-8c92-a6c4dae69d19",
    "_uuid": "8f2839f25d086af736a60e9eeb907d3b93b6e0e5",
    "papermill": {
     "duration": 0.065363,
     "end_time": "2021-05-22T12:30:06.118296",
     "exception": false,
     "start_time": "2021-05-22T12:30:06.052933",
     "status": "completed"
    },
    "tags": []
   },
   "source": [
    "## Importing Important libraries"
   ]
  },
  {
   "cell_type": "code",
   "execution_count": 1,
   "metadata": {
    "_kg_hide-input": true,
    "execution": {
     "iopub.execute_input": "2021-05-22T12:30:06.250356Z",
     "iopub.status.busy": "2021-05-22T12:30:06.249702Z",
     "iopub.status.idle": "2021-05-22T12:30:08.388760Z",
     "shell.execute_reply": "2021-05-22T12:30:08.387786Z",
     "shell.execute_reply.started": "2021-05-22T10:53:19.935999Z"
    },
    "papermill": {
     "duration": 2.207532,
     "end_time": "2021-05-22T12:30:08.388941",
     "exception": false,
     "start_time": "2021-05-22T12:30:06.181409",
     "status": "completed"
    },
    "tags": []
   },
   "outputs": [],
   "source": [
    "import pandas as pd\n",
    "import numpy as np\n",
    "import matplotlib.pyplot as plt\n",
    "import seaborn as sns\n",
    "import plotly.express as px\n",
    "import warnings\n",
    "warnings.filterwarnings('ignore')"
   ]
  },
  {
   "cell_type": "code",
   "execution_count": 2,
   "metadata": {},
   "outputs": [],
   "source": [
    "from aif360.datasets import StandardDataset\n",
    "from aif360.metrics import BinaryLabelDatasetMetric, ClassificationMetric\n",
    "import matplotlib.patches as patches\n",
    "from aif360.algorithms.preprocessing import Reweighing\n",
    "#from packages import *\n",
    "#from ml_fairness import *\n",
    "import matplotlib.pyplot as plt\n",
    "import seaborn as sns\n",
    "\n",
    "\n",
    "\n",
    "from IPython.display import Markdown, display"
   ]
  },
  {
   "cell_type": "markdown",
   "metadata": {
    "papermill": {
     "duration": 0.063326,
     "end_time": "2021-05-22T12:30:08.515911",
     "exception": false,
     "start_time": "2021-05-22T12:30:08.452585",
     "status": "completed"
    },
    "tags": []
   },
   "source": [
    "#### Loading the data onto notebook."
   ]
  },
  {
   "cell_type": "code",
   "execution_count": 3,
   "metadata": {
    "execution": {
     "iopub.execute_input": "2021-05-22T12:30:08.648437Z",
     "iopub.status.busy": "2021-05-22T12:30:08.647697Z",
     "iopub.status.idle": "2021-05-22T12:30:08.897129Z",
     "shell.execute_reply": "2021-05-22T12:30:08.897736Z",
     "shell.execute_reply.started": "2021-05-22T10:54:54.911570Z"
    },
    "papermill": {
     "duration": 0.318347,
     "end_time": "2021-05-22T12:30:08.897907",
     "exception": false,
     "start_time": "2021-05-22T12:30:08.579560",
     "status": "completed"
    },
    "tags": []
   },
   "outputs": [
    {
     "data": {
      "text/html": [
       "<div>\n",
       "<style scoped>\n",
       "    .dataframe tbody tr th:only-of-type {\n",
       "        vertical-align: middle;\n",
       "    }\n",
       "\n",
       "    .dataframe tbody tr th {\n",
       "        vertical-align: top;\n",
       "    }\n",
       "\n",
       "    .dataframe thead th {\n",
       "        text-align: right;\n",
       "    }\n",
       "</style>\n",
       "<table border=\"1\" class=\"dataframe\">\n",
       "  <thead>\n",
       "    <tr style=\"text-align: right;\">\n",
       "      <th></th>\n",
       "      <th>age</th>\n",
       "      <th>workclass</th>\n",
       "      <th>fnlwgt</th>\n",
       "      <th>education</th>\n",
       "      <th>education.num</th>\n",
       "      <th>marital.status</th>\n",
       "      <th>occupation</th>\n",
       "      <th>relationship</th>\n",
       "      <th>race</th>\n",
       "      <th>sex</th>\n",
       "      <th>capital.gain</th>\n",
       "      <th>capital.loss</th>\n",
       "      <th>hours.per.week</th>\n",
       "      <th>native.country</th>\n",
       "      <th>income</th>\n",
       "    </tr>\n",
       "  </thead>\n",
       "  <tbody>\n",
       "    <tr>\n",
       "      <th>0</th>\n",
       "      <td>90</td>\n",
       "      <td>?</td>\n",
       "      <td>77053</td>\n",
       "      <td>HS-grad</td>\n",
       "      <td>9</td>\n",
       "      <td>Widowed</td>\n",
       "      <td>?</td>\n",
       "      <td>Not-in-family</td>\n",
       "      <td>White</td>\n",
       "      <td>Female</td>\n",
       "      <td>0</td>\n",
       "      <td>4356</td>\n",
       "      <td>40</td>\n",
       "      <td>United-States</td>\n",
       "      <td>&lt;=50K</td>\n",
       "    </tr>\n",
       "    <tr>\n",
       "      <th>1</th>\n",
       "      <td>82</td>\n",
       "      <td>Private</td>\n",
       "      <td>132870</td>\n",
       "      <td>HS-grad</td>\n",
       "      <td>9</td>\n",
       "      <td>Widowed</td>\n",
       "      <td>Exec-managerial</td>\n",
       "      <td>Not-in-family</td>\n",
       "      <td>White</td>\n",
       "      <td>Female</td>\n",
       "      <td>0</td>\n",
       "      <td>4356</td>\n",
       "      <td>18</td>\n",
       "      <td>United-States</td>\n",
       "      <td>&lt;=50K</td>\n",
       "    </tr>\n",
       "    <tr>\n",
       "      <th>2</th>\n",
       "      <td>66</td>\n",
       "      <td>?</td>\n",
       "      <td>186061</td>\n",
       "      <td>Some-college</td>\n",
       "      <td>10</td>\n",
       "      <td>Widowed</td>\n",
       "      <td>?</td>\n",
       "      <td>Unmarried</td>\n",
       "      <td>Black</td>\n",
       "      <td>Female</td>\n",
       "      <td>0</td>\n",
       "      <td>4356</td>\n",
       "      <td>40</td>\n",
       "      <td>United-States</td>\n",
       "      <td>&lt;=50K</td>\n",
       "    </tr>\n",
       "    <tr>\n",
       "      <th>3</th>\n",
       "      <td>54</td>\n",
       "      <td>Private</td>\n",
       "      <td>140359</td>\n",
       "      <td>7th-8th</td>\n",
       "      <td>4</td>\n",
       "      <td>Divorced</td>\n",
       "      <td>Machine-op-inspct</td>\n",
       "      <td>Unmarried</td>\n",
       "      <td>White</td>\n",
       "      <td>Female</td>\n",
       "      <td>0</td>\n",
       "      <td>3900</td>\n",
       "      <td>40</td>\n",
       "      <td>United-States</td>\n",
       "      <td>&lt;=50K</td>\n",
       "    </tr>\n",
       "    <tr>\n",
       "      <th>4</th>\n",
       "      <td>41</td>\n",
       "      <td>Private</td>\n",
       "      <td>264663</td>\n",
       "      <td>Some-college</td>\n",
       "      <td>10</td>\n",
       "      <td>Separated</td>\n",
       "      <td>Prof-specialty</td>\n",
       "      <td>Own-child</td>\n",
       "      <td>White</td>\n",
       "      <td>Female</td>\n",
       "      <td>0</td>\n",
       "      <td>3900</td>\n",
       "      <td>40</td>\n",
       "      <td>United-States</td>\n",
       "      <td>&lt;=50K</td>\n",
       "    </tr>\n",
       "    <tr>\n",
       "      <th>...</th>\n",
       "      <td>...</td>\n",
       "      <td>...</td>\n",
       "      <td>...</td>\n",
       "      <td>...</td>\n",
       "      <td>...</td>\n",
       "      <td>...</td>\n",
       "      <td>...</td>\n",
       "      <td>...</td>\n",
       "      <td>...</td>\n",
       "      <td>...</td>\n",
       "      <td>...</td>\n",
       "      <td>...</td>\n",
       "      <td>...</td>\n",
       "      <td>...</td>\n",
       "      <td>...</td>\n",
       "    </tr>\n",
       "    <tr>\n",
       "      <th>32556</th>\n",
       "      <td>22</td>\n",
       "      <td>Private</td>\n",
       "      <td>310152</td>\n",
       "      <td>Some-college</td>\n",
       "      <td>10</td>\n",
       "      <td>Never-married</td>\n",
       "      <td>Protective-serv</td>\n",
       "      <td>Not-in-family</td>\n",
       "      <td>White</td>\n",
       "      <td>Male</td>\n",
       "      <td>0</td>\n",
       "      <td>0</td>\n",
       "      <td>40</td>\n",
       "      <td>United-States</td>\n",
       "      <td>&lt;=50K</td>\n",
       "    </tr>\n",
       "    <tr>\n",
       "      <th>32557</th>\n",
       "      <td>27</td>\n",
       "      <td>Private</td>\n",
       "      <td>257302</td>\n",
       "      <td>Assoc-acdm</td>\n",
       "      <td>12</td>\n",
       "      <td>Married-civ-spouse</td>\n",
       "      <td>Tech-support</td>\n",
       "      <td>Wife</td>\n",
       "      <td>White</td>\n",
       "      <td>Female</td>\n",
       "      <td>0</td>\n",
       "      <td>0</td>\n",
       "      <td>38</td>\n",
       "      <td>United-States</td>\n",
       "      <td>&lt;=50K</td>\n",
       "    </tr>\n",
       "    <tr>\n",
       "      <th>32558</th>\n",
       "      <td>40</td>\n",
       "      <td>Private</td>\n",
       "      <td>154374</td>\n",
       "      <td>HS-grad</td>\n",
       "      <td>9</td>\n",
       "      <td>Married-civ-spouse</td>\n",
       "      <td>Machine-op-inspct</td>\n",
       "      <td>Husband</td>\n",
       "      <td>White</td>\n",
       "      <td>Male</td>\n",
       "      <td>0</td>\n",
       "      <td>0</td>\n",
       "      <td>40</td>\n",
       "      <td>United-States</td>\n",
       "      <td>&gt;50K</td>\n",
       "    </tr>\n",
       "    <tr>\n",
       "      <th>32559</th>\n",
       "      <td>58</td>\n",
       "      <td>Private</td>\n",
       "      <td>151910</td>\n",
       "      <td>HS-grad</td>\n",
       "      <td>9</td>\n",
       "      <td>Widowed</td>\n",
       "      <td>Adm-clerical</td>\n",
       "      <td>Unmarried</td>\n",
       "      <td>White</td>\n",
       "      <td>Female</td>\n",
       "      <td>0</td>\n",
       "      <td>0</td>\n",
       "      <td>40</td>\n",
       "      <td>United-States</td>\n",
       "      <td>&lt;=50K</td>\n",
       "    </tr>\n",
       "    <tr>\n",
       "      <th>32560</th>\n",
       "      <td>22</td>\n",
       "      <td>Private</td>\n",
       "      <td>201490</td>\n",
       "      <td>HS-grad</td>\n",
       "      <td>9</td>\n",
       "      <td>Never-married</td>\n",
       "      <td>Adm-clerical</td>\n",
       "      <td>Own-child</td>\n",
       "      <td>White</td>\n",
       "      <td>Male</td>\n",
       "      <td>0</td>\n",
       "      <td>0</td>\n",
       "      <td>20</td>\n",
       "      <td>United-States</td>\n",
       "      <td>&lt;=50K</td>\n",
       "    </tr>\n",
       "  </tbody>\n",
       "</table>\n",
       "<p>32561 rows × 15 columns</p>\n",
       "</div>"
      ],
      "text/plain": [
       "       age workclass  fnlwgt     education  education.num      marital.status  \\\n",
       "0       90         ?   77053       HS-grad              9             Widowed   \n",
       "1       82   Private  132870       HS-grad              9             Widowed   \n",
       "2       66         ?  186061  Some-college             10             Widowed   \n",
       "3       54   Private  140359       7th-8th              4            Divorced   \n",
       "4       41   Private  264663  Some-college             10           Separated   \n",
       "...    ...       ...     ...           ...            ...                 ...   \n",
       "32556   22   Private  310152  Some-college             10       Never-married   \n",
       "32557   27   Private  257302    Assoc-acdm             12  Married-civ-spouse   \n",
       "32558   40   Private  154374       HS-grad              9  Married-civ-spouse   \n",
       "32559   58   Private  151910       HS-grad              9             Widowed   \n",
       "32560   22   Private  201490       HS-grad              9       Never-married   \n",
       "\n",
       "              occupation   relationship   race     sex  capital.gain  \\\n",
       "0                      ?  Not-in-family  White  Female             0   \n",
       "1        Exec-managerial  Not-in-family  White  Female             0   \n",
       "2                      ?      Unmarried  Black  Female             0   \n",
       "3      Machine-op-inspct      Unmarried  White  Female             0   \n",
       "4         Prof-specialty      Own-child  White  Female             0   \n",
       "...                  ...            ...    ...     ...           ...   \n",
       "32556    Protective-serv  Not-in-family  White    Male             0   \n",
       "32557       Tech-support           Wife  White  Female             0   \n",
       "32558  Machine-op-inspct        Husband  White    Male             0   \n",
       "32559       Adm-clerical      Unmarried  White  Female             0   \n",
       "32560       Adm-clerical      Own-child  White    Male             0   \n",
       "\n",
       "       capital.loss  hours.per.week native.country income  \n",
       "0              4356              40  United-States  <=50K  \n",
       "1              4356              18  United-States  <=50K  \n",
       "2              4356              40  United-States  <=50K  \n",
       "3              3900              40  United-States  <=50K  \n",
       "4              3900              40  United-States  <=50K  \n",
       "...             ...             ...            ...    ...  \n",
       "32556             0              40  United-States  <=50K  \n",
       "32557             0              38  United-States  <=50K  \n",
       "32558             0              40  United-States   >50K  \n",
       "32559             0              40  United-States  <=50K  \n",
       "32560             0              20  United-States  <=50K  \n",
       "\n",
       "[32561 rows x 15 columns]"
      ]
     },
     "execution_count": 3,
     "metadata": {},
     "output_type": "execute_result"
    }
   ],
   "source": [
    "data = pd.read_csv(\"../../Data/adult.csv\")\n",
    "data"
   ]
  },
  {
   "cell_type": "markdown",
   "metadata": {
    "papermill": {
     "duration": 0.063941,
     "end_time": "2021-05-22T12:30:09.027478",
     "exception": false,
     "start_time": "2021-05-22T12:30:08.963537",
     "status": "completed"
    },
    "tags": []
   },
   "source": [
    "![](https://kiarofoods.com/wp-content/uploads/2019/10/line_break.png)\n",
    "# Exploratory Data Analysis:\n",
    "**Problem Type Identification:** We have the target variable available with us. So, it a supervised machine learning problem. First we try to find out the type of supervised machine learning that we have in this case study by lookin at the target variable"
   ]
  },
  {
   "cell_type": "code",
   "execution_count": 4,
   "metadata": {
    "_kg_hide-input": true,
    "execution": {
     "iopub.execute_input": "2021-05-22T12:30:09.160143Z",
     "iopub.status.busy": "2021-05-22T12:30:09.159494Z",
     "iopub.status.idle": "2021-05-22T12:30:09.177163Z",
     "shell.execute_reply": "2021-05-22T12:30:09.176380Z",
     "shell.execute_reply.started": "2021-05-22T10:57:23.920570Z"
    },
    "papermill": {
     "duration": 0.085203,
     "end_time": "2021-05-22T12:30:09.177368",
     "exception": false,
     "start_time": "2021-05-22T12:30:09.092165",
     "status": "completed"
    },
    "tags": []
   },
   "outputs": [
    {
     "name": "stdout",
     "output_type": "stream",
     "text": [
      "Target: 'Income'\n",
      "Unique Values in Income: ['<=50K' '>50K']\n",
      "Number of unique values: 2\n"
     ]
    }
   ],
   "source": [
    "print(f\"Target: 'Income'\\nUnique Values in Income: {data.income.unique()}\\nNumber of unique values: {data.income.nunique()}\")"
   ]
  },
  {
   "cell_type": "markdown",
   "metadata": {
    "papermill": {
     "duration": 0.064101,
     "end_time": "2021-05-22T12:30:09.308247",
     "exception": false,
     "start_time": "2021-05-22T12:30:09.244146",
     "status": "completed"
    },
    "tags": []
   },
   "source": [
    "In the problem, we have 'Income' as the Target variable. we see that we have only two values which are to be predicted, either the income is greater than 50K, which is Yes, or the income is less than or equal to 50K, which is No. We will label encode the target variable."
   ]
  },
  {
   "cell_type": "code",
   "execution_count": 5,
   "metadata": {
    "execution": {
     "iopub.execute_input": "2021-05-22T12:30:09.455717Z",
     "iopub.status.busy": "2021-05-22T12:30:09.450535Z",
     "iopub.status.idle": "2021-05-22T12:30:09.508216Z",
     "shell.execute_reply": "2021-05-22T12:30:09.507485Z",
     "shell.execute_reply.started": "2021-05-22T10:59:13.993039Z"
    },
    "papermill": {
     "duration": 0.134902,
     "end_time": "2021-05-22T12:30:09.508369",
     "exception": false,
     "start_time": "2021-05-22T12:30:09.373467",
     "status": "completed"
    },
    "tags": []
   },
   "outputs": [],
   "source": [
    "data['income'] = data['income'].str.replace('<=50K', '0')\n",
    "data['income'] = data['income'].str.replace('>50K', '1')\n",
    "data['income'] = data['income'].astype(np.int64)"
   ]
  },
  {
   "cell_type": "code",
   "execution_count": 6,
   "metadata": {
    "execution": {
     "iopub.execute_input": "2021-05-22T12:30:09.643328Z",
     "iopub.status.busy": "2021-05-22T12:30:09.642629Z",
     "iopub.status.idle": "2021-05-22T12:30:09.646984Z",
     "shell.execute_reply": "2021-05-22T12:30:09.646401Z",
     "shell.execute_reply.started": "2021-05-22T10:59:47.496308Z"
    },
    "papermill": {
     "duration": 0.07423,
     "end_time": "2021-05-22T12:30:09.647177",
     "exception": false,
     "start_time": "2021-05-22T12:30:09.572947",
     "status": "completed"
    },
    "tags": []
   },
   "outputs": [
    {
     "data": {
      "text/plain": [
       "dtype('int64')"
      ]
     },
     "execution_count": 6,
     "metadata": {},
     "output_type": "execute_result"
    }
   ],
   "source": [
    "data.income.dtypes"
   ]
  },
  {
   "cell_type": "markdown",
   "metadata": {
    "papermill": {
     "duration": 0.065668,
     "end_time": "2021-05-22T12:30:09.777597",
     "exception": false,
     "start_time": "2021-05-22T12:30:09.711929",
     "status": "completed"
    },
    "tags": []
   },
   "source": [
    "We can see that, we have encoded the values of the target variable, and converted it into int data-type. This problem is a classification problem with 'Income' as the target variable. Making a copy of the dataset to work ahead"
   ]
  },
  {
   "cell_type": "code",
   "execution_count": 7,
   "metadata": {
    "_kg_hide-input": true,
    "execution": {
     "iopub.execute_input": "2021-05-22T12:30:09.914273Z",
     "iopub.status.busy": "2021-05-22T12:30:09.913208Z",
     "iopub.status.idle": "2021-05-22T12:30:09.930876Z",
     "shell.execute_reply": "2021-05-22T12:30:09.930375Z",
     "shell.execute_reply.started": "2021-05-22T11:17:31.947406Z"
    },
    "papermill": {
     "duration": 0.087218,
     "end_time": "2021-05-22T12:30:09.931039",
     "exception": false,
     "start_time": "2021-05-22T12:30:09.843821",
     "status": "completed"
    },
    "tags": []
   },
   "outputs": [
    {
     "name": "stdout",
     "output_type": "stream",
     "text": [
      "Unique values in 'education': 16\n",
      "Unique values in 'Education_num': 16\n"
     ]
    }
   ],
   "source": [
    "ds = data.copy()\n",
    "print(f\"Unique values in 'education': {ds.education.nunique()}\\nUnique values in 'Education_num': {ds['education.num'].nunique()}\")"
   ]
  },
  {
   "cell_type": "markdown",
   "metadata": {
    "papermill": {
     "duration": 0.065555,
     "end_time": "2021-05-22T12:30:10.061681",
     "exception": false,
     "start_time": "2021-05-22T12:30:09.996126",
     "status": "completed"
    },
    "tags": []
   },
   "source": [
    "We see that for the feature 'Education', we already have the encoded values in feature 'Education_num'. 'Education' will be removed from the dataset."
   ]
  },
  {
   "cell_type": "code",
   "execution_count": 8,
   "metadata": {
    "execution": {
     "iopub.execute_input": "2021-05-22T12:30:10.199797Z",
     "iopub.status.busy": "2021-05-22T12:30:10.198623Z",
     "iopub.status.idle": "2021-05-22T12:30:10.207946Z",
     "shell.execute_reply": "2021-05-22T12:30:10.207407Z",
     "shell.execute_reply.started": "2021-05-22T11:17:34.600530Z"
    },
    "papermill": {
     "duration": 0.080077,
     "end_time": "2021-05-22T12:30:10.208151",
     "exception": false,
     "start_time": "2021-05-22T12:30:10.128074",
     "status": "completed"
    },
    "tags": []
   },
   "outputs": [],
   "source": [
    "ds.drop(['education'], axis = 1, inplace = True)"
   ]
  },
  {
   "cell_type": "markdown",
   "metadata": {
    "papermill": {
     "duration": 0.072381,
     "end_time": "2021-05-22T12:30:10.363206",
     "exception": false,
     "start_time": "2021-05-22T12:30:10.290825",
     "status": "completed"
    },
    "tags": []
   },
   "source": [
    "Checking to see that is there any Null values present in the data that we have. Handling the null values will be the first thing that we need to do. Then, we have a look at the data-types of the other features and the value counts and unique values in those features."
   ]
  },
  {
   "cell_type": "code",
   "execution_count": 9,
   "metadata": {
    "_kg_hide-input": true,
    "execution": {
     "iopub.execute_input": "2021-05-22T12:30:10.513390Z",
     "iopub.status.busy": "2021-05-22T12:30:10.512671Z",
     "iopub.status.idle": "2021-05-22T12:30:11.349886Z",
     "shell.execute_reply": "2021-05-22T12:30:11.348807Z",
     "shell.execute_reply.started": "2021-05-22T11:02:17.186379Z"
    },
    "papermill": {
     "duration": 0.921945,
     "end_time": "2021-05-22T12:30:11.350081",
     "exception": false,
     "start_time": "2021-05-22T12:30:10.428136",
     "status": "completed"
    },
    "tags": []
   },
   "outputs": [
    {
     "data": {
      "image/png": "[encoded data removed]",
      "text/plain": [
       "<Figure size 432x288 with 2 Axes>"
      ]
     },
     "metadata": {
      "needs_background": "light"
     },
     "output_type": "display_data"
    }
   ],
   "source": [
    "plt.title(\"Null values in the data\", fontsize = 12)\n",
    "sns.heatmap(ds.isnull(), cmap = 'inferno')\n",
    "plt.show()"
   ]
  },
  {
   "cell_type": "markdown",
   "metadata": {
    "papermill": {
     "duration": 0.066195,
     "end_time": "2021-05-22T12:30:11.484323",
     "exception": false,
     "start_time": "2021-05-22T12:30:11.418128",
     "status": "completed"
    },
    "tags": []
   },
   "source": [
    "From the heatmap, we see that the dataset consists of no null values. But for some features, we have '?' as the values present. **'?' will be considered as null values.** We move ahead with the feature engineering part. Checking the datatypes of the columns"
   ]
  },
  {
   "cell_type": "code",
   "execution_count": 10,
   "metadata": {
    "_kg_hide-input": true,
    "execution": {
     "iopub.execute_input": "2021-05-22T12:30:11.624766Z",
     "iopub.status.busy": "2021-05-22T12:30:11.624073Z",
     "iopub.status.idle": "2021-05-22T12:30:11.630244Z",
     "shell.execute_reply": "2021-05-22T12:30:11.629349Z",
     "shell.execute_reply.started": "2021-05-22T11:17:40.866104Z"
    },
    "papermill": {
     "duration": 0.079565,
     "end_time": "2021-05-22T12:30:11.630434",
     "exception": false,
     "start_time": "2021-05-22T12:30:11.550869",
     "status": "completed"
    },
    "tags": []
   },
   "outputs": [
    {
     "name": "stdout",
     "output_type": "stream",
     "text": [
      "Datatype of every feature: \n"
     ]
    },
    {
     "data": {
      "text/plain": [
       "age                int64\n",
       "workclass         object\n",
       "fnlwgt             int64\n",
       "education.num      int64\n",
       "marital.status    object\n",
       "occupation        object\n",
       "relationship      object\n",
       "race              object\n",
       "sex               object\n",
       "capital.gain       int64\n",
       "capital.loss       int64\n",
       "hours.per.week     int64\n",
       "native.country    object\n",
       "income             int64\n",
       "dtype: object"
      ]
     },
     "execution_count": 10,
     "metadata": {},
     "output_type": "execute_result"
    }
   ],
   "source": [
    "print(\"Datatype of every feature: \")\n",
    "ds.dtypes"
   ]
  },
  {
   "cell_type": "code",
   "execution_count": 11,
   "metadata": {
    "_kg_hide-input": true,
    "execution": {
     "iopub.execute_input": "2021-05-22T12:30:11.769528Z",
     "iopub.status.busy": "2021-05-22T12:30:11.768822Z",
     "iopub.status.idle": "2021-05-22T12:30:11.825548Z",
     "shell.execute_reply": "2021-05-22T12:30:11.824990Z",
     "shell.execute_reply.started": "2021-05-22T11:03:44.817299Z"
    },
    "papermill": {
     "duration": 0.127978,
     "end_time": "2021-05-22T12:30:11.825697",
     "exception": false,
     "start_time": "2021-05-22T12:30:11.697719",
     "status": "completed"
    },
    "tags": []
   },
   "outputs": [
    {
     "name": "stdout",
     "output_type": "stream",
     "text": [
      "Number of unique values in every feature: \n"
     ]
    },
    {
     "data": {
      "text/plain": [
       "age                  73\n",
       "workclass             9\n",
       "fnlwgt            21648\n",
       "education.num        16\n",
       "marital.status        7\n",
       "occupation           15\n",
       "relationship          6\n",
       "race                  5\n",
       "sex                   2\n",
       "capital.gain        119\n",
       "capital.loss         92\n",
       "hours.per.week       94\n",
       "native.country       42\n",
       "income                2\n",
       "dtype: int64"
      ]
     },
     "execution_count": 11,
     "metadata": {},
     "output_type": "execute_result"
    }
   ],
   "source": [
    "print(\"Number of unique values in every feature: \")\n",
    "ds.nunique()"
   ]
  },
  {
   "cell_type": "markdown",
   "metadata": {
    "papermill": {
     "duration": 0.066997,
     "end_time": "2021-05-22T12:30:11.960112",
     "exception": false,
     "start_time": "2021-05-22T12:30:11.893115",
     "status": "completed"
    },
    "tags": []
   },
   "source": [
    "*'Workclass', 'Marital_status', 'Occupation', 'Relationship', 'Race', 'Sex', 'Native_country' are the categorical variables in the data*. Proper encoding or conversion of these variables is necessary for the feature engineering. We will look at these attributes and convert them one by one.\n",
    "\n",
    "**'Workclass':** Starting off with the work class, we look the number of unique values and value counts for those values"
   ]
  },
  {
   "cell_type": "code",
   "execution_count": 12,
   "metadata": {
    "_kg_hide-input": true,
    "execution": {
     "iopub.execute_input": "2021-05-22T12:30:12.111061Z",
     "iopub.status.busy": "2021-05-22T12:30:12.110406Z",
     "iopub.status.idle": "2021-05-22T12:30:12.114569Z",
     "shell.execute_reply": "2021-05-22T12:30:12.113921Z",
     "shell.execute_reply.started": "2021-05-22T11:04:39.967259Z"
    },
    "papermill": {
     "duration": 0.087186,
     "end_time": "2021-05-22T12:30:12.114711",
     "exception": false,
     "start_time": "2021-05-22T12:30:12.027525",
     "status": "completed"
    },
    "tags": []
   },
   "outputs": [
    {
     "data": {
      "text/plain": [
       "Private             22696\n",
       "Self-emp-not-inc     2541\n",
       "Local-gov            2093\n",
       "?                    1836\n",
       "State-gov            1298\n",
       "Self-emp-inc         1116\n",
       "Federal-gov           960\n",
       "Without-pay            14\n",
       "Never-worked            7\n",
       "Name: workclass, dtype: int64"
      ]
     },
     "execution_count": 12,
     "metadata": {},
     "output_type": "execute_result"
    }
   ],
   "source": [
    "ds.workclass.value_counts()"
   ]
  },
  {
   "cell_type": "markdown",
   "metadata": {
    "papermill": {
     "duration": 0.067424,
     "end_time": "2021-05-22T12:30:12.251622",
     "exception": false,
     "start_time": "2021-05-22T12:30:12.184198",
     "status": "completed"
    },
    "tags": []
   },
   "source": [
    "In work class, *majority of the people are private employees*. The *minority of people are either working without-pay or they have never-worked*. We can combine the values of these two values as one. first we remove the blank space from the column is present in any values."
   ]
  },
  {
   "cell_type": "code",
   "execution_count": 13,
   "metadata": {
    "execution": {
     "iopub.execute_input": "2021-05-22T12:30:12.418350Z",
     "iopub.status.busy": "2021-05-22T12:30:12.408434Z",
     "iopub.status.idle": "2021-05-22T12:30:12.421536Z",
     "shell.execute_reply": "2021-05-22T12:30:12.420858Z",
     "shell.execute_reply.started": "2021-05-22T11:17:46.040567Z"
    },
    "papermill": {
     "duration": 0.102325,
     "end_time": "2021-05-22T12:30:12.421692",
     "exception": false,
     "start_time": "2021-05-22T12:30:12.319367",
     "status": "completed"
    },
    "tags": []
   },
   "outputs": [],
   "source": [
    "ds['workclass'] = ds['workclass'].str.replace('Never-worked', 'Without-pay')"
   ]
  },
  {
   "cell_type": "markdown",
   "metadata": {
    "papermill": {
     "duration": 0.06746,
     "end_time": "2021-05-22T12:30:12.556900",
     "exception": false,
     "start_time": "2021-05-22T12:30:12.489440",
     "status": "completed"
    },
    "tags": []
   },
   "source": [
    "Now, we have 8 unique values in this feature. But, we see that **there are some values where we have '?' in the column. This values can be replaced with NaN values.**"
   ]
  },
  {
   "cell_type": "code",
   "execution_count": 14,
   "metadata": {
    "execution": {
     "iopub.execute_input": "2021-05-22T12:30:12.700485Z",
     "iopub.status.busy": "2021-05-22T12:30:12.699627Z",
     "iopub.status.idle": "2021-05-22T12:30:12.703246Z",
     "shell.execute_reply": "2021-05-22T12:30:12.703708Z",
     "shell.execute_reply.started": "2021-05-22T11:17:47.541260Z"
    },
    "papermill": {
     "duration": 0.079086,
     "end_time": "2021-05-22T12:30:12.703893",
     "exception": false,
     "start_time": "2021-05-22T12:30:12.624807",
     "status": "completed"
    },
    "tags": []
   },
   "outputs": [],
   "source": [
    "ds['workclass'] = ds['workclass'].replace('?', np.NaN)"
   ]
  },
  {
   "cell_type": "code",
   "execution_count": 15,
   "metadata": {
    "_kg_hide-input": true,
    "execution": {
     "iopub.execute_input": "2021-05-22T12:30:12.890549Z",
     "iopub.status.busy": "2021-05-22T12:30:12.863584Z",
     "iopub.status.idle": "2021-05-22T12:30:13.135451Z",
     "shell.execute_reply": "2021-05-22T12:30:13.135902Z",
     "shell.execute_reply.started": "2021-05-22T11:06:49.717904Z"
    },
    "papermill": {
     "duration": 0.364176,
     "end_time": "2021-05-22T12:30:13.136099",
     "exception": false,
     "start_time": "2021-05-22T12:30:12.771923",
     "status": "completed"
    },
    "tags": []
   },
   "outputs": [
    {
     "data": {
      "image/png": "[encoded data removed]",
      "text/plain": [
       "<Figure size 720x432 with 1 Axes>"
      ]
     },
     "metadata": {
      "needs_background": "light"
     },
     "output_type": "display_data"
    }
   ],
   "source": [
    "plt.figure(figsize = (10,6))\n",
    "plt.title(\"Income of people according to their workclass\", fontsize = 16)\n",
    "sns.countplot(y = ds['workclass'], hue = ds['income'])\n",
    "plt.show()"
   ]
  },
  {
   "cell_type": "markdown",
   "metadata": {
    "papermill": {
     "duration": 0.068389,
     "end_time": "2021-05-22T12:30:13.272977",
     "exception": false,
     "start_time": "2021-05-22T12:30:13.204588",
     "status": "completed"
    },
    "tags": []
   },
   "source": [
    "We see that the **majority of people who have income more than 50K a year are from private sector**. Same goes for the people with income less than 50K. But *for the Self Employed sector, the number of people whose income > 50K are more than the number of people whose income < 50K.* Now, moving ahead with replacing the null values and encoding the feature. **We will replace the NaN values in the 'Workclass' feature by the mode of the column, grouping it by the 'Occupation' feature.** We now have 7 unique values in Workclass feature. We can encode these values using the frequency encoding technique."
   ]
  },
  {
   "cell_type": "code",
   "execution_count": 16,
   "metadata": {
    "execution": {
     "iopub.execute_input": "2021-05-22T12:30:13.414564Z",
     "iopub.status.busy": "2021-05-22T12:30:13.413527Z",
     "iopub.status.idle": "2021-05-22T12:30:13.495413Z",
     "shell.execute_reply": "2021-05-22T12:30:13.494716Z",
     "shell.execute_reply.started": "2021-05-22T11:17:50.411592Z"
    },
    "papermill": {
     "duration": 0.153793,
     "end_time": "2021-05-22T12:30:13.495561",
     "exception": false,
     "start_time": "2021-05-22T12:30:13.341768",
     "status": "completed"
    },
    "tags": []
   },
   "outputs": [
    {
     "data": {
      "text/html": [
       "<div>\n",
       "<style scoped>\n",
       "    .dataframe tbody tr th:only-of-type {\n",
       "        vertical-align: middle;\n",
       "    }\n",
       "\n",
       "    .dataframe tbody tr th {\n",
       "        vertical-align: top;\n",
       "    }\n",
       "\n",
       "    .dataframe thead th {\n",
       "        text-align: right;\n",
       "    }\n",
       "</style>\n",
       "<table border=\"1\" class=\"dataframe\">\n",
       "  <thead>\n",
       "    <tr style=\"text-align: right;\">\n",
       "      <th>occupation</th>\n",
       "      <th>?</th>\n",
       "      <th>Adm-clerical</th>\n",
       "      <th>Armed-Forces</th>\n",
       "      <th>Craft-repair</th>\n",
       "      <th>Exec-managerial</th>\n",
       "      <th>Farming-fishing</th>\n",
       "      <th>Handlers-cleaners</th>\n",
       "      <th>Machine-op-inspct</th>\n",
       "      <th>Other-service</th>\n",
       "      <th>Priv-house-serv</th>\n",
       "      <th>Prof-specialty</th>\n",
       "      <th>Protective-serv</th>\n",
       "      <th>Sales</th>\n",
       "      <th>Tech-support</th>\n",
       "      <th>Transport-moving</th>\n",
       "    </tr>\n",
       "  </thead>\n",
       "  <tbody>\n",
       "    <tr>\n",
       "      <th>workclass</th>\n",
       "      <td>Without-pay</td>\n",
       "      <td>Private</td>\n",
       "      <td>Federal-gov</td>\n",
       "      <td>Private</td>\n",
       "      <td>Private</td>\n",
       "      <td>Private</td>\n",
       "      <td>Private</td>\n",
       "      <td>Private</td>\n",
       "      <td>Private</td>\n",
       "      <td>Private</td>\n",
       "      <td>Private</td>\n",
       "      <td>Local-gov</td>\n",
       "      <td>Private</td>\n",
       "      <td>Private</td>\n",
       "      <td>Private</td>\n",
       "    </tr>\n",
       "  </tbody>\n",
       "</table>\n",
       "</div>"
      ],
      "text/plain": [
       "occupation            ? Adm-clerical Armed-Forces Craft-repair  \\\n",
       "workclass   Without-pay      Private  Federal-gov      Private   \n",
       "\n",
       "occupation Exec-managerial Farming-fishing Handlers-cleaners  \\\n",
       "workclass          Private         Private           Private   \n",
       "\n",
       "occupation Machine-op-inspct Other-service Priv-house-serv Prof-specialty  \\\n",
       "workclass            Private       Private         Private        Private   \n",
       "\n",
       "occupation Protective-serv    Sales Tech-support Transport-moving  \n",
       "workclass        Local-gov  Private      Private          Private  "
      ]
     },
     "execution_count": 16,
     "metadata": {},
     "output_type": "execute_result"
    }
   ],
   "source": [
    "from scipy.stats import mode\n",
    "workclass_mode = ds.pivot_table(values='workclass', columns='occupation',aggfunc=(lambda x:mode(x).mode[0]))\n",
    "workclass_mode"
   ]
  },
  {
   "cell_type": "code",
   "execution_count": 17,
   "metadata": {
    "execution": {
     "iopub.execute_input": "2021-05-22T12:30:13.650551Z",
     "iopub.status.busy": "2021-05-22T12:30:13.644849Z",
     "iopub.status.idle": "2021-05-22T12:30:13.833796Z",
     "shell.execute_reply": "2021-05-22T12:30:13.833213Z",
     "shell.execute_reply.started": "2021-05-22T11:17:55.728405Z"
    },
    "papermill": {
     "duration": 0.267648,
     "end_time": "2021-05-22T12:30:13.833942",
     "exception": false,
     "start_time": "2021-05-22T12:30:13.566294",
     "status": "completed"
    },
    "tags": []
   },
   "outputs": [],
   "source": [
    "loc1 = ds['workclass'].isnull()\n",
    "ds.loc[loc1, 'workclass'] = ds.loc[loc1,'occupation'].apply(lambda x: workclass_mode[x])"
   ]
  },
  {
   "cell_type": "code",
   "execution_count": 18,
   "metadata": {
    "_kg_hide-input": true,
    "execution": {
     "iopub.execute_input": "2021-05-22T12:30:13.980700Z",
     "iopub.status.busy": "2021-05-22T12:30:13.979664Z",
     "iopub.status.idle": "2021-05-22T12:30:14.174549Z",
     "shell.execute_reply": "2021-05-22T12:30:14.173961Z",
     "shell.execute_reply.started": "2021-05-22T11:17:57.327677Z"
    },
    "papermill": {
     "duration": 0.271639,
     "end_time": "2021-05-22T12:30:14.174691",
     "exception": false,
     "start_time": "2021-05-22T12:30:13.903052",
     "status": "completed"
    },
    "tags": []
   },
   "outputs": [
    {
     "name": "stdout",
     "output_type": "stream",
     "text": [
      "workclass\n",
      "Federal-gov         0.029483\n",
      "Local-gov           0.064279\n",
      "Private             0.697030\n",
      "Self-emp-inc        0.034274\n",
      "Self-emp-not-inc    0.078038\n",
      "State-gov           0.039864\n",
      "Without-pay         0.057031\n",
      "dtype: float64\n"
     ]
    },
    {
     "data": {
      "text/plain": [
       "0    0.057031\n",
       "1    0.697030\n",
       "2    0.057031\n",
       "Name: workclass_enc, dtype: float64"
      ]
     },
     "execution_count": 18,
     "metadata": {},
     "output_type": "execute_result"
    }
   ],
   "source": [
    "workclass_enc = (ds.groupby('workclass').size()) / len(ds)\n",
    "print(workclass_enc)\n",
    "\n",
    "ds['workclass_enc'] = ds['workclass'].apply(lambda x : workclass_enc[x])\n",
    "ds['workclass_enc'].head(3)"
   ]
  },
  {
   "cell_type": "code",
   "execution_count": 19,
   "metadata": {
    "_kg_hide-input": true,
    "execution": {
     "iopub.execute_input": "2021-05-22T12:30:14.324434Z",
     "iopub.status.busy": "2021-05-22T12:30:14.323727Z",
     "iopub.status.idle": "2021-05-22T12:30:14.326590Z",
     "shell.execute_reply": "2021-05-22T12:30:14.327070Z",
     "shell.execute_reply.started": "2021-05-22T11:18:00.236320Z"
    },
    "papermill": {
     "duration": 0.082095,
     "end_time": "2021-05-22T12:30:14.327253",
     "exception": false,
     "start_time": "2021-05-22T12:30:14.245158",
     "status": "completed"
    },
    "tags": []
   },
   "outputs": [],
   "source": [
    "ds.drop(['workclass'], axis = 1, inplace = True)"
   ]
  },
  {
   "cell_type": "markdown",
   "metadata": {
    "papermill": {
     "duration": 0.069931,
     "end_time": "2021-05-22T12:30:14.468863",
     "exception": false,
     "start_time": "2021-05-22T12:30:14.398932",
     "status": "completed"
    },
    "tags": []
   },
   "source": [
    "**'Occupation':** Similar to 'Workclass', we will look at the unique values and value counts in the 'Occupation' feature."
   ]
  },
  {
   "cell_type": "code",
   "execution_count": 20,
   "metadata": {
    "execution": {
     "iopub.execute_input": "2021-05-22T12:30:14.621611Z",
     "iopub.status.busy": "2021-05-22T12:30:14.620840Z",
     "iopub.status.idle": "2021-05-22T12:30:14.627363Z",
     "shell.execute_reply": "2021-05-22T12:30:14.626801Z",
     "shell.execute_reply.started": "2021-05-22T11:10:37.021352Z"
    },
    "papermill": {
     "duration": 0.088877,
     "end_time": "2021-05-22T12:30:14.627506",
     "exception": false,
     "start_time": "2021-05-22T12:30:14.538629",
     "status": "completed"
    },
    "tags": []
   },
   "outputs": [
    {
     "data": {
      "text/plain": [
       "Prof-specialty       4140\n",
       "Craft-repair         4099\n",
       "Exec-managerial      4066\n",
       "Adm-clerical         3770\n",
       "Sales                3650\n",
       "Other-service        3295\n",
       "Machine-op-inspct    2002\n",
       "?                    1843\n",
       "Transport-moving     1597\n",
       "Handlers-cleaners    1370\n",
       "Farming-fishing       994\n",
       "Tech-support          928\n",
       "Protective-serv       649\n",
       "Priv-house-serv       149\n",
       "Armed-Forces            9\n",
       "Name: occupation, dtype: int64"
      ]
     },
     "execution_count": 20,
     "metadata": {},
     "output_type": "execute_result"
    }
   ],
   "source": [
    "ds.occupation.value_counts()"
   ]
  },
  {
   "cell_type": "markdown",
   "metadata": {
    "papermill": {
     "duration": 0.069653,
     "end_time": "2021-05-22T12:30:14.767616",
     "exception": false,
     "start_time": "2021-05-22T12:30:14.697963",
     "status": "completed"
    },
    "tags": []
   },
   "source": [
    "**We will drop the rows where the occupation is NaN.**"
   ]
  },
  {
   "cell_type": "code",
   "execution_count": 21,
   "metadata": {
    "execution": {
     "iopub.execute_input": "2021-05-22T12:30:14.915915Z",
     "iopub.status.busy": "2021-05-22T12:30:14.915269Z",
     "iopub.status.idle": "2021-05-22T12:30:14.946796Z",
     "shell.execute_reply": "2021-05-22T12:30:14.946255Z",
     "shell.execute_reply.started": "2021-05-22T11:18:05.882254Z"
    },
    "papermill": {
     "duration": 0.107727,
     "end_time": "2021-05-22T12:30:14.946943",
     "exception": false,
     "start_time": "2021-05-22T12:30:14.839216",
     "status": "completed"
    },
    "tags": []
   },
   "outputs": [
    {
     "data": {
      "text/html": [
       "<div>\n",
       "<style scoped>\n",
       "    .dataframe tbody tr th:only-of-type {\n",
       "        vertical-align: middle;\n",
       "    }\n",
       "\n",
       "    .dataframe tbody tr th {\n",
       "        vertical-align: top;\n",
       "    }\n",
       "\n",
       "    .dataframe thead th {\n",
       "        text-align: right;\n",
       "    }\n",
       "</style>\n",
       "<table border=\"1\" class=\"dataframe\">\n",
       "  <thead>\n",
       "    <tr style=\"text-align: right;\">\n",
       "      <th></th>\n",
       "      <th>age</th>\n",
       "      <th>fnlwgt</th>\n",
       "      <th>education.num</th>\n",
       "      <th>marital.status</th>\n",
       "      <th>occupation</th>\n",
       "      <th>relationship</th>\n",
       "      <th>race</th>\n",
       "      <th>sex</th>\n",
       "      <th>capital.gain</th>\n",
       "      <th>capital.loss</th>\n",
       "      <th>hours.per.week</th>\n",
       "      <th>native.country</th>\n",
       "      <th>income</th>\n",
       "      <th>workclass_enc</th>\n",
       "    </tr>\n",
       "  </thead>\n",
       "  <tbody>\n",
       "    <tr>\n",
       "      <th>1</th>\n",
       "      <td>82</td>\n",
       "      <td>132870</td>\n",
       "      <td>9</td>\n",
       "      <td>Widowed</td>\n",
       "      <td>Exec-managerial</td>\n",
       "      <td>Not-in-family</td>\n",
       "      <td>White</td>\n",
       "      <td>Female</td>\n",
       "      <td>0</td>\n",
       "      <td>4356</td>\n",
       "      <td>18</td>\n",
       "      <td>United-States</td>\n",
       "      <td>0</td>\n",
       "      <td>0.69703</td>\n",
       "    </tr>\n",
       "    <tr>\n",
       "      <th>3</th>\n",
       "      <td>54</td>\n",
       "      <td>140359</td>\n",
       "      <td>4</td>\n",
       "      <td>Divorced</td>\n",
       "      <td>Machine-op-inspct</td>\n",
       "      <td>Unmarried</td>\n",
       "      <td>White</td>\n",
       "      <td>Female</td>\n",
       "      <td>0</td>\n",
       "      <td>3900</td>\n",
       "      <td>40</td>\n",
       "      <td>United-States</td>\n",
       "      <td>0</td>\n",
       "      <td>0.69703</td>\n",
       "    </tr>\n",
       "    <tr>\n",
       "      <th>4</th>\n",
       "      <td>41</td>\n",
       "      <td>264663</td>\n",
       "      <td>10</td>\n",
       "      <td>Separated</td>\n",
       "      <td>Prof-specialty</td>\n",
       "      <td>Own-child</td>\n",
       "      <td>White</td>\n",
       "      <td>Female</td>\n",
       "      <td>0</td>\n",
       "      <td>3900</td>\n",
       "      <td>40</td>\n",
       "      <td>United-States</td>\n",
       "      <td>0</td>\n",
       "      <td>0.69703</td>\n",
       "    </tr>\n",
       "    <tr>\n",
       "      <th>5</th>\n",
       "      <td>34</td>\n",
       "      <td>216864</td>\n",
       "      <td>9</td>\n",
       "      <td>Divorced</td>\n",
       "      <td>Other-service</td>\n",
       "      <td>Unmarried</td>\n",
       "      <td>White</td>\n",
       "      <td>Female</td>\n",
       "      <td>0</td>\n",
       "      <td>3770</td>\n",
       "      <td>45</td>\n",
       "      <td>United-States</td>\n",
       "      <td>0</td>\n",
       "      <td>0.69703</td>\n",
       "    </tr>\n",
       "    <tr>\n",
       "      <th>6</th>\n",
       "      <td>38</td>\n",
       "      <td>150601</td>\n",
       "      <td>6</td>\n",
       "      <td>Separated</td>\n",
       "      <td>Adm-clerical</td>\n",
       "      <td>Unmarried</td>\n",
       "      <td>White</td>\n",
       "      <td>Male</td>\n",
       "      <td>0</td>\n",
       "      <td>3770</td>\n",
       "      <td>40</td>\n",
       "      <td>United-States</td>\n",
       "      <td>0</td>\n",
       "      <td>0.69703</td>\n",
       "    </tr>\n",
       "    <tr>\n",
       "      <th>...</th>\n",
       "      <td>...</td>\n",
       "      <td>...</td>\n",
       "      <td>...</td>\n",
       "      <td>...</td>\n",
       "      <td>...</td>\n",
       "      <td>...</td>\n",
       "      <td>...</td>\n",
       "      <td>...</td>\n",
       "      <td>...</td>\n",
       "      <td>...</td>\n",
       "      <td>...</td>\n",
       "      <td>...</td>\n",
       "      <td>...</td>\n",
       "      <td>...</td>\n",
       "    </tr>\n",
       "    <tr>\n",
       "      <th>32556</th>\n",
       "      <td>22</td>\n",
       "      <td>310152</td>\n",
       "      <td>10</td>\n",
       "      <td>Never-married</td>\n",
       "      <td>Protective-serv</td>\n",
       "      <td>Not-in-family</td>\n",
       "      <td>White</td>\n",
       "      <td>Male</td>\n",
       "      <td>0</td>\n",
       "      <td>0</td>\n",
       "      <td>40</td>\n",
       "      <td>United-States</td>\n",
       "      <td>0</td>\n",
       "      <td>0.69703</td>\n",
       "    </tr>\n",
       "    <tr>\n",
       "      <th>32557</th>\n",
       "      <td>27</td>\n",
       "      <td>257302</td>\n",
       "      <td>12</td>\n",
       "      <td>Married-civ-spouse</td>\n",
       "      <td>Tech-support</td>\n",
       "      <td>Wife</td>\n",
       "      <td>White</td>\n",
       "      <td>Female</td>\n",
       "      <td>0</td>\n",
       "      <td>0</td>\n",
       "      <td>38</td>\n",
       "      <td>United-States</td>\n",
       "      <td>0</td>\n",
       "      <td>0.69703</td>\n",
       "    </tr>\n",
       "    <tr>\n",
       "      <th>32558</th>\n",
       "      <td>40</td>\n",
       "      <td>154374</td>\n",
       "      <td>9</td>\n",
       "      <td>Married-civ-spouse</td>\n",
       "      <td>Machine-op-inspct</td>\n",
       "      <td>Husband</td>\n",
       "      <td>White</td>\n",
       "      <td>Male</td>\n",
       "      <td>0</td>\n",
       "      <td>0</td>\n",
       "      <td>40</td>\n",
       "      <td>United-States</td>\n",
       "      <td>1</td>\n",
       "      <td>0.69703</td>\n",
       "    </tr>\n",
       "    <tr>\n",
       "      <th>32559</th>\n",
       "      <td>58</td>\n",
       "      <td>151910</td>\n",
       "      <td>9</td>\n",
       "      <td>Widowed</td>\n",
       "      <td>Adm-clerical</td>\n",
       "      <td>Unmarried</td>\n",
       "      <td>White</td>\n",
       "      <td>Female</td>\n",
       "      <td>0</td>\n",
       "      <td>0</td>\n",
       "      <td>40</td>\n",
       "      <td>United-States</td>\n",
       "      <td>0</td>\n",
       "      <td>0.69703</td>\n",
       "    </tr>\n",
       "    <tr>\n",
       "      <th>32560</th>\n",
       "      <td>22</td>\n",
       "      <td>201490</td>\n",
       "      <td>9</td>\n",
       "      <td>Never-married</td>\n",
       "      <td>Adm-clerical</td>\n",
       "      <td>Own-child</td>\n",
       "      <td>White</td>\n",
       "      <td>Male</td>\n",
       "      <td>0</td>\n",
       "      <td>0</td>\n",
       "      <td>20</td>\n",
       "      <td>United-States</td>\n",
       "      <td>0</td>\n",
       "      <td>0.69703</td>\n",
       "    </tr>\n",
       "  </tbody>\n",
       "</table>\n",
       "<p>30718 rows × 14 columns</p>\n",
       "</div>"
      ],
      "text/plain": [
       "       age  fnlwgt  education.num      marital.status         occupation  \\\n",
       "1       82  132870              9             Widowed    Exec-managerial   \n",
       "3       54  140359              4            Divorced  Machine-op-inspct   \n",
       "4       41  264663             10           Separated     Prof-specialty   \n",
       "5       34  216864              9            Divorced      Other-service   \n",
       "6       38  150601              6           Separated       Adm-clerical   \n",
       "...    ...     ...            ...                 ...                ...   \n",
       "32556   22  310152             10       Never-married    Protective-serv   \n",
       "32557   27  257302             12  Married-civ-spouse       Tech-support   \n",
       "32558   40  154374              9  Married-civ-spouse  Machine-op-inspct   \n",
       "32559   58  151910              9             Widowed       Adm-clerical   \n",
       "32560   22  201490              9       Never-married       Adm-clerical   \n",
       "\n",
       "        relationship   race     sex  capital.gain  capital.loss  \\\n",
       "1      Not-in-family  White  Female             0          4356   \n",
       "3          Unmarried  White  Female             0          3900   \n",
       "4          Own-child  White  Female             0          3900   \n",
       "5          Unmarried  White  Female             0          3770   \n",
       "6          Unmarried  White    Male             0          3770   \n",
       "...              ...    ...     ...           ...           ...   \n",
       "32556  Not-in-family  White    Male             0             0   \n",
       "32557           Wife  White  Female             0             0   \n",
       "32558        Husband  White    Male             0             0   \n",
       "32559      Unmarried  White  Female             0             0   \n",
       "32560      Own-child  White    Male             0             0   \n",
       "\n",
       "       hours.per.week native.country  income  workclass_enc  \n",
       "1                  18  United-States       0        0.69703  \n",
       "3                  40  United-States       0        0.69703  \n",
       "4                  40  United-States       0        0.69703  \n",
       "5                  45  United-States       0        0.69703  \n",
       "6                  40  United-States       0        0.69703  \n",
       "...               ...            ...     ...            ...  \n",
       "32556              40  United-States       0        0.69703  \n",
       "32557              38  United-States       0        0.69703  \n",
       "32558              40  United-States       1        0.69703  \n",
       "32559              40  United-States       0        0.69703  \n",
       "32560              20  United-States       0        0.69703  \n",
       "\n",
       "[30718 rows x 14 columns]"
      ]
     },
     "execution_count": 21,
     "metadata": {},
     "output_type": "execute_result"
    }
   ],
   "source": [
    "ds['occupation'] = ds['occupation'].replace('?', np.NaN)\n",
    "ds = ds.loc[ds['occupation'].isnull() == False]\n",
    "ds"
   ]
  },
  {
   "cell_type": "markdown",
   "metadata": {
    "papermill": {
     "duration": 0.071739,
     "end_time": "2021-05-22T12:30:15.089944",
     "exception": false,
     "start_time": "2021-05-22T12:30:15.018205",
     "status": "completed"
    },
    "tags": []
   },
   "source": [
    "As we cannn see that after removing the null values from 'occupation', we are left with 30718 observations."
   ]
  },
  {
   "cell_type": "code",
   "execution_count": 22,
   "metadata": {
    "_kg_hide-input": true,
    "execution": {
     "iopub.execute_input": "2021-05-22T12:30:15.254263Z",
     "iopub.status.busy": "2021-05-22T12:30:15.253499Z",
     "iopub.status.idle": "2021-05-22T12:30:15.582177Z",
     "shell.execute_reply": "2021-05-22T12:30:15.581628Z",
     "shell.execute_reply.started": "2021-05-22T11:12:57.167856Z"
    },
    "papermill": {
     "duration": 0.421429,
     "end_time": "2021-05-22T12:30:15.582322",
     "exception": false,
     "start_time": "2021-05-22T12:30:15.160893",
     "status": "completed"
    },
    "tags": []
   },
   "outputs": [
    {
     "data": {
      "image/png": "[encoded data removed]",
      "text/plain": [
       "<Figure size 720x432 with 1 Axes>"
      ]
     },
     "metadata": {},
     "output_type": "display_data"
    }
   ],
   "source": [
    "plt.style.use('ggplot')\n",
    "plt.figure(figsize = (10,6))\n",
    "plt.title(\"Income of people according to their occupation\", fontsize = 16)\n",
    "sns.countplot(y = ds['occupation'], hue = ds['income'])\n",
    "plt.show()"
   ]
  },
  {
   "cell_type": "markdown",
   "metadata": {
    "papermill": {
     "duration": 0.072034,
     "end_time": "2021-05-22T12:30:15.726655",
     "exception": false,
     "start_time": "2021-05-22T12:30:15.654621",
     "status": "completed"
    },
    "tags": []
   },
   "source": [
    "Majority of people whose income is greater than 50K are either executive managers or they belong to any professional speciality. Now, encoding the occupation by frequency of the values in the column."
   ]
  },
  {
   "cell_type": "code",
   "execution_count": 23,
   "metadata": {
    "_kg_hide-input": true,
    "execution": {
     "iopub.execute_input": "2021-05-22T12:30:15.879859Z",
     "iopub.status.busy": "2021-05-22T12:30:15.879208Z",
     "iopub.status.idle": "2021-05-22T12:30:16.061079Z",
     "shell.execute_reply": "2021-05-22T12:30:16.061999Z",
     "shell.execute_reply.started": "2021-05-22T11:18:10.082984Z"
    },
    "papermill": {
     "duration": 0.262366,
     "end_time": "2021-05-22T12:30:16.062268",
     "exception": false,
     "start_time": "2021-05-22T12:30:15.799902",
     "status": "completed"
    },
    "tags": []
   },
   "outputs": [
    {
     "name": "stdout",
     "output_type": "stream",
     "text": [
      "occupation\n",
      "Adm-clerical         0.122729\n",
      "Armed-Forces         0.000293\n",
      "Craft-repair         0.133440\n",
      "Exec-managerial      0.132365\n",
      "Farming-fishing      0.032359\n",
      "Handlers-cleaners    0.044599\n",
      "Machine-op-inspct    0.065174\n",
      "Other-service        0.107266\n",
      "Priv-house-serv      0.004851\n",
      "Prof-specialty       0.134774\n",
      "Protective-serv      0.021128\n",
      "Sales                0.118823\n",
      "Tech-support         0.030210\n",
      "Transport-moving     0.051989\n",
      "dtype: float64\n"
     ]
    },
    {
     "data": {
      "text/plain": [
       "1    0.132365\n",
       "3    0.065174\n",
       "4    0.134774\n",
       "Name: occupation_enc, dtype: float64"
      ]
     },
     "execution_count": 23,
     "metadata": {},
     "output_type": "execute_result"
    }
   ],
   "source": [
    "occupation_enc = (ds.groupby('occupation').size()) / len(ds)\n",
    "print(occupation_enc)\n",
    "\n",
    "ds['occupation_enc'] = ds['occupation'].apply(lambda x : occupation_enc[x])\n",
    "ds['occupation_enc'].head(3)"
   ]
  },
  {
   "cell_type": "code",
   "execution_count": 24,
   "metadata": {
    "_kg_hide-input": true,
    "execution": {
     "iopub.execute_input": "2021-05-22T12:30:16.215478Z",
     "iopub.status.busy": "2021-05-22T12:30:16.214798Z",
     "iopub.status.idle": "2021-05-22T12:30:16.221828Z",
     "shell.execute_reply": "2021-05-22T12:30:16.221166Z",
     "shell.execute_reply.started": "2021-05-22T11:18:17.564935Z"
    },
    "papermill": {
     "duration": 0.085262,
     "end_time": "2021-05-22T12:30:16.222113",
     "exception": false,
     "start_time": "2021-05-22T12:30:16.136851",
     "status": "completed"
    },
    "tags": []
   },
   "outputs": [],
   "source": [
    "ds.drop(['occupation'], axis = 1, inplace = True)"
   ]
  },
  {
   "cell_type": "markdown",
   "metadata": {
    "papermill": {
     "duration": 0.073071,
     "end_time": "2021-05-22T12:30:16.370188",
     "exception": false,
     "start_time": "2021-05-22T12:30:16.297117",
     "status": "completed"
    },
    "tags": []
   },
   "source": [
    "**'Native_country':** We are checking for the salary on people in USA and outside USA, so , **we will convert all the values where country is not USA to 'non-usa'.** This way, we can encode the values by one-hot encoding without increasing the curse of dimensionality."
   ]
  },
  {
   "cell_type": "code",
   "execution_count": 25,
   "metadata": {
    "execution": {
     "iopub.execute_input": "2021-05-22T12:30:16.540833Z",
     "iopub.status.busy": "2021-05-22T12:30:16.528646Z",
     "iopub.status.idle": "2021-05-22T12:30:16.547837Z",
     "shell.execute_reply": "2021-05-22T12:30:16.547275Z",
     "shell.execute_reply.started": "2021-05-22T11:18:32.023074Z"
    },
    "papermill": {
     "duration": 0.104832,
     "end_time": "2021-05-22T12:30:16.547987",
     "exception": false,
     "start_time": "2021-05-22T12:30:16.443155",
     "status": "completed"
    },
    "tags": []
   },
   "outputs": [
    {
     "data": {
      "text/plain": [
       "usa        27504\n",
       "non_usa     3214\n",
       "Name: native.country, dtype: int64"
      ]
     },
     "execution_count": 25,
     "metadata": {},
     "output_type": "execute_result"
    }
   ],
   "source": [
    "ds['native.country'].loc[ds['native.country'] == 'United-States'] = 'usa'\n",
    "ds['native.country'].loc[ds['native.country'] != 'usa'] = 'non_usa'\n",
    "ds['native.country'].value_counts()"
   ]
  },
  {
   "cell_type": "code",
   "execution_count": 26,
   "metadata": {
    "_kg_hide-input": true,
    "execution": {
     "iopub.execute_input": "2021-05-22T12:30:16.700829Z",
     "iopub.status.busy": "2021-05-22T12:30:16.699868Z",
     "iopub.status.idle": "2021-05-22T12:30:16.703186Z",
     "shell.execute_reply": "2021-05-22T12:30:16.702687Z",
     "shell.execute_reply.started": "2021-05-22T11:18:47.333522Z"
    },
    "papermill": {
     "duration": 0.082085,
     "end_time": "2021-05-22T12:30:16.703328",
     "exception": false,
     "start_time": "2021-05-22T12:30:16.621243",
     "status": "completed"
    },
    "tags": []
   },
   "outputs": [],
   "source": [
    "plt.style.use('default')"
   ]
  },
  {
   "cell_type": "code",
   "execution_count": 27,
   "metadata": {
    "execution": {
     "iopub.execute_input": "2021-05-22T12:30:16.856265Z",
     "iopub.status.busy": "2021-05-22T12:30:16.855165Z",
     "iopub.status.idle": "2021-05-22T12:30:16.858346Z",
     "shell.execute_reply": "2021-05-22T12:30:16.857770Z",
     "shell.execute_reply.started": "2021-05-22T11:18:57.637403Z"
    },
    "papermill": {
     "duration": 0.081734,
     "end_time": "2021-05-22T12:30:16.858501",
     "exception": false,
     "start_time": "2021-05-22T12:30:16.776767",
     "status": "completed"
    },
    "tags": []
   },
   "outputs": [],
   "source": [
    "plt.style.use('seaborn-pastel')"
   ]
  },
  {
   "cell_type": "code",
   "execution_count": 28,
   "metadata": {
    "execution": {
     "iopub.execute_input": "2021-05-22T12:30:17.051126Z",
     "iopub.status.busy": "2021-05-22T12:30:17.050103Z",
     "iopub.status.idle": "2021-05-22T12:30:17.217934Z",
     "shell.execute_reply": "2021-05-22T12:30:17.217358Z",
     "shell.execute_reply.started": "2021-05-22T11:19:20.052456Z"
    },
    "papermill": {
     "duration": 0.285384,
     "end_time": "2021-05-22T12:30:17.218090",
     "exception": false,
     "start_time": "2021-05-22T12:30:16.932706",
     "status": "completed"
    },
    "tags": []
   },
   "outputs": [
    {
     "data": {
      "image/png": "[encoded data removed]",
      "text/plain": [
       "<Figure size 800x300 with 1 Axes>"
      ]
     },
     "metadata": {},
     "output_type": "display_data"
    }
   ],
   "source": [
    "plt.figure(figsize = (8,3))\n",
    "plt.title(\"Income of people according to their native country\", fontsize = 16)\n",
    "sns.countplot(y = ds['native.country'], hue = ds['income'])\n",
    "plt.show()"
   ]
  },
  {
   "cell_type": "markdown",
   "metadata": {
    "papermill": {
     "duration": 0.073712,
     "end_time": "2021-05-22T12:30:17.366425",
     "exception": false,
     "start_time": "2021-05-22T12:30:17.292713",
     "status": "completed"
    },
    "tags": []
   },
   "source": [
    "**Majority of people with higher income belong to the USA**. We also have more number of people from USA then any other country combined in this dataset. Encoding this feature using one hot encoding."
   ]
  },
  {
   "cell_type": "code",
   "execution_count": 29,
   "metadata": {
    "execution": {
     "iopub.execute_input": "2021-05-22T12:30:17.525945Z",
     "iopub.status.busy": "2021-05-22T12:30:17.523481Z",
     "iopub.status.idle": "2021-05-22T12:30:17.532455Z",
     "shell.execute_reply": "2021-05-22T12:30:17.532972Z",
     "shell.execute_reply.started": "2021-05-22T11:20:34.968882Z"
    },
    "papermill": {
     "duration": 0.092714,
     "end_time": "2021-05-22T12:30:17.533176",
     "exception": false,
     "start_time": "2021-05-22T12:30:17.440462",
     "status": "completed"
    },
    "tags": []
   },
   "outputs": [],
   "source": [
    "ds['country_enc'] = ds['native.country'].map({'usa' : 1, 'non_usa' : 0})\n",
    "ds.drop(['native.country'], axis = 1, inplace = True)"
   ]
  },
  {
   "cell_type": "markdown",
   "metadata": {
    "papermill": {
     "duration": 0.076047,
     "end_time": "2021-05-22T12:30:17.683866",
     "exception": false,
     "start_time": "2021-05-22T12:30:17.607819",
     "status": "completed"
    },
    "tags": []
   },
   "source": [
    "**'Sex':** Similarly, encoding the sex using one hot encoding."
   ]
  },
  {
   "cell_type": "code",
   "execution_count": 30,
   "metadata": {
    "_kg_hide-input": true,
    "execution": {
     "iopub.execute_input": "2021-05-22T12:30:17.839468Z",
     "iopub.status.busy": "2021-05-22T12:30:17.838460Z",
     "iopub.status.idle": "2021-05-22T12:30:18.035979Z",
     "shell.execute_reply": "2021-05-22T12:30:18.036582Z",
     "shell.execute_reply.started": "2021-05-22T11:21:11.594136Z"
    },
    "papermill": {
     "duration": 0.277147,
     "end_time": "2021-05-22T12:30:18.036773",
     "exception": false,
     "start_time": "2021-05-22T12:30:17.759626",
     "status": "completed"
    },
    "tags": []
   },
   "outputs": [
    {
     "data": {
      "image/png": "[encoded data removed]",
      "text/plain": [
       "<Figure size 640x480 with 1 Axes>"
      ]
     },
     "metadata": {},
     "output_type": "display_data"
    }
   ],
   "source": [
    "plt.title(\"Income of people by their sex\", fontsize = 16)\n",
    "sns.countplot(x = ds['sex'], hue = ds['income'])\n",
    "plt.show()"
   ]
  },
  {
   "cell_type": "markdown",
   "metadata": {
    "papermill": {
     "duration": 0.075084,
     "end_time": "2021-05-22T12:30:18.188189",
     "exception": false,
     "start_time": "2021-05-22T12:30:18.113105",
     "status": "completed"
    },
    "tags": []
   },
   "source": [
    "We can see that male have more salary than female. Also in the dataset, the number of men are more than women. Encoding this feature with one hot encoding."
   ]
  },
  {
   "cell_type": "code",
   "execution_count": 31,
   "metadata": {
    "execution": {
     "iopub.execute_input": "2021-05-22T12:30:18.347438Z",
     "iopub.status.busy": "2021-05-22T12:30:18.346462Z",
     "iopub.status.idle": "2021-05-22T12:30:18.360862Z",
     "shell.execute_reply": "2021-05-22T12:30:18.361439Z",
     "shell.execute_reply.started": "2021-05-22T11:22:31.975764Z"
    },
    "papermill": {
     "duration": 0.094795,
     "end_time": "2021-05-22T12:30:18.361621",
     "exception": false,
     "start_time": "2021-05-22T12:30:18.266826",
     "status": "completed"
    },
    "tags": []
   },
   "outputs": [],
   "source": [
    "ds['sex_enc'] = ds['sex'].map({'Male' : 1, 'Female' : 0})\n",
    "ds.drop(['sex'], axis = 1, inplace = True)"
   ]
  },
  {
   "cell_type": "markdown",
   "metadata": {
    "papermill": {
     "duration": 0.074775,
     "end_time": "2021-05-22T12:30:18.511496",
     "exception": false,
     "start_time": "2021-05-22T12:30:18.436721",
     "status": "completed"
    },
    "tags": []
   },
   "source": [
    "**'Marital_status':** Looking at the iincome of people according to their marital status."
   ]
  },
  {
   "cell_type": "code",
   "execution_count": 32,
   "metadata": {
    "_kg_hide-input": true,
    "execution": {
     "iopub.execute_input": "2021-05-22T12:30:18.666227Z",
     "iopub.status.busy": "2021-05-22T12:30:18.665253Z",
     "iopub.status.idle": "2021-05-22T12:30:18.670553Z",
     "shell.execute_reply": "2021-05-22T12:30:18.670977Z",
     "shell.execute_reply.started": "2021-05-22T11:23:38.581457Z"
    },
    "papermill": {
     "duration": 0.084086,
     "end_time": "2021-05-22T12:30:18.671178",
     "exception": false,
     "start_time": "2021-05-22T12:30:18.587092",
     "status": "completed"
    },
    "tags": []
   },
   "outputs": [],
   "source": [
    "plt.style.use('default')"
   ]
  },
  {
   "cell_type": "code",
   "execution_count": 33,
   "metadata": {
    "_kg_hide-input": true,
    "execution": {
     "iopub.execute_input": "2021-05-22T12:30:18.826649Z",
     "iopub.status.busy": "2021-05-22T12:30:18.825627Z",
     "iopub.status.idle": "2021-05-22T12:30:18.829705Z",
     "shell.execute_reply": "2021-05-22T12:30:18.830230Z",
     "shell.execute_reply.started": "2021-05-22T11:23:46.109277Z"
    },
    "papermill": {
     "duration": 0.083836,
     "end_time": "2021-05-22T12:30:18.830419",
     "exception": false,
     "start_time": "2021-05-22T12:30:18.746583",
     "status": "completed"
    },
    "tags": []
   },
   "outputs": [],
   "source": [
    "plt.style.use('seaborn-talk')"
   ]
  },
  {
   "cell_type": "code",
   "execution_count": 34,
   "metadata": {
    "execution": {
     "iopub.execute_input": "2021-05-22T12:30:18.985529Z",
     "iopub.status.busy": "2021-05-22T12:30:18.984403Z",
     "iopub.status.idle": "2021-05-22T12:30:19.272397Z",
     "shell.execute_reply": "2021-05-22T12:30:19.271868Z",
     "shell.execute_reply.started": "2021-05-22T11:24:10.729192Z"
    },
    "papermill": {
     "duration": 0.366989,
     "end_time": "2021-05-22T12:30:19.272552",
     "exception": false,
     "start_time": "2021-05-22T12:30:18.905563",
     "status": "completed"
    },
    "tags": []
   },
   "outputs": [
    {
     "data": {
      "image/png": "[encoded data removed]",
      "text/plain": [
       "<Figure size 1040x715 with 1 Axes>"
      ]
     },
     "metadata": {},
     "output_type": "display_data"
    }
   ],
   "source": [
    "plt.title(\"Income of people by Marital Status\", fontsize = 16)\n",
    "sns.countplot(y = ds['marital.status'], hue = ds['income'])\n",
    "plt.show()"
   ]
  },
  {
   "cell_type": "markdown",
   "metadata": {
    "papermill": {
     "duration": 0.076191,
     "end_time": "2021-05-22T12:30:19.425779",
     "exception": false,
     "start_time": "2021-05-22T12:30:19.349588",
     "status": "completed"
    },
    "tags": []
   },
   "source": [
    "**Married people have a higher income as compared to others.** Encoding the feature"
   ]
  },
  {
   "cell_type": "code",
   "execution_count": 35,
   "metadata": {
    "_kg_hide-input": true,
    "execution": {
     "iopub.execute_input": "2021-05-22T12:30:19.585729Z",
     "iopub.status.busy": "2021-05-22T12:30:19.584948Z",
     "iopub.status.idle": "2021-05-22T12:30:19.773916Z",
     "shell.execute_reply": "2021-05-22T12:30:19.773318Z",
     "shell.execute_reply.started": "2021-05-22T11:25:17.105957Z"
    },
    "papermill": {
     "duration": 0.271368,
     "end_time": "2021-05-22T12:30:19.774079",
     "exception": false,
     "start_time": "2021-05-22T12:30:19.502711",
     "status": "completed"
    },
    "tags": []
   },
   "outputs": [
    {
     "name": "stdout",
     "output_type": "stream",
     "text": [
      "marital.status\n",
      "Divorced                 0.138616\n",
      "Married-AF-spouse        0.000684\n",
      "Married-civ-spouse       0.466795\n",
      "Married-spouse-absent    0.012664\n",
      "Never-married            0.322677\n",
      "Separated                0.031219\n",
      "Widowed                  0.027346\n",
      "dtype: float64\n"
     ]
    },
    {
     "data": {
      "text/plain": [
       "1    0.027346\n",
       "3    0.138616\n",
       "4    0.031219\n",
       "Name: marital_status_enc, dtype: float64"
      ]
     },
     "execution_count": 35,
     "metadata": {},
     "output_type": "execute_result"
    }
   ],
   "source": [
    "marital_status_enc = (ds.groupby('marital.status').size()) / len(ds)\n",
    "print(marital_status_enc)\n",
    "\n",
    "ds['marital_status_enc'] = ds['marital.status'].apply(lambda x : marital_status_enc[x])\n",
    "ds['marital_status_enc'].head(3)"
   ]
  },
  {
   "cell_type": "code",
   "execution_count": 36,
   "metadata": {
    "_kg_hide-input": true,
    "execution": {
     "iopub.execute_input": "2021-05-22T12:30:19.935490Z",
     "iopub.status.busy": "2021-05-22T12:30:19.934671Z",
     "iopub.status.idle": "2021-05-22T12:30:19.941378Z",
     "shell.execute_reply": "2021-05-22T12:30:19.940632Z",
     "shell.execute_reply.started": "2021-05-22T11:25:47.132929Z"
    },
    "papermill": {
     "duration": 0.089231,
     "end_time": "2021-05-22T12:30:19.941535",
     "exception": false,
     "start_time": "2021-05-22T12:30:19.852304",
     "status": "completed"
    },
    "tags": []
   },
   "outputs": [],
   "source": [
    "ds.drop(['marital.status'], axis = 1, inplace = True)"
   ]
  },
  {
   "cell_type": "markdown",
   "metadata": {
    "papermill": {
     "duration": 0.078968,
     "end_time": "2021-05-22T12:30:20.098225",
     "exception": false,
     "start_time": "2021-05-22T12:30:20.019257",
     "status": "completed"
    },
    "tags": []
   },
   "source": [
    "Similarly, **for 'Race' and 'Relationship'**"
   ]
  },
  {
   "cell_type": "code",
   "execution_count": 37,
   "metadata": {
    "_kg_hide-input": true,
    "execution": {
     "iopub.execute_input": "2021-05-22T12:30:20.261116Z",
     "iopub.status.busy": "2021-05-22T12:30:20.260120Z",
     "iopub.status.idle": "2021-05-22T12:30:20.263389Z",
     "shell.execute_reply": "2021-05-22T12:30:20.262864Z",
     "shell.execute_reply.started": "2021-05-22T11:26:11.358015Z"
    },
    "papermill": {
     "duration": 0.086967,
     "end_time": "2021-05-22T12:30:20.263537",
     "exception": false,
     "start_time": "2021-05-22T12:30:20.176570",
     "status": "completed"
    },
    "tags": []
   },
   "outputs": [],
   "source": [
    "plt.style.use('bmh')"
   ]
  },
  {
   "cell_type": "code",
   "execution_count": 38,
   "metadata": {
    "_kg_hide-input": true,
    "execution": {
     "iopub.execute_input": "2021-05-22T12:30:20.443373Z",
     "iopub.status.busy": "2021-05-22T12:30:20.442238Z",
     "iopub.status.idle": "2021-05-22T12:30:20.905290Z",
     "shell.execute_reply": "2021-05-22T12:30:20.905794Z",
     "shell.execute_reply.started": "2021-05-22T11:27:07.272687Z"
    },
    "papermill": {
     "duration": 0.56455,
     "end_time": "2021-05-22T12:30:20.905967",
     "exception": false,
     "start_time": "2021-05-22T12:30:20.341417",
     "status": "completed"
    },
    "tags": []
   },
   "outputs": [
    {
     "data": {
      "image/png": "[encoded data removed]",
      "text/plain": [
       "<Figure size 1200x400 with 2 Axes>"
      ]
     },
     "metadata": {},
     "output_type": "display_data"
    }
   ],
   "source": [
    "plt.figure(figsize = (12,4))\n",
    "\n",
    "plt.subplot(1, 2, 1)\n",
    "sns.countplot(y = ds['race'], hue = ds['income'])\n",
    "plt.title(\"Income respective to Race\", fontsize = 12)\n",
    "\n",
    "plt.subplot(1, 2, 2)\n",
    "sns.countplot(y = ds['relationship'], hue = ds['income'])\n",
    "plt.title(\"Income respective to Relationship\", fontsize = 12)\n",
    "\n",
    "plt.tight_layout(pad = 4)\n",
    "plt.show()"
   ]
  },
  {
   "cell_type": "markdown",
   "metadata": {
    "papermill": {
     "duration": 0.080488,
     "end_time": "2021-05-22T12:30:21.066513",
     "exception": false,
     "start_time": "2021-05-22T12:30:20.986025",
     "status": "completed"
    },
    "tags": []
   },
   "source": [
    "**White people have a higher salary as compared to other races**. Similarly, **husband in the family have a higher salary as compared to other relationship in the family.** Encoding both these columns"
   ]
  },
  {
   "cell_type": "code",
   "execution_count": 39,
   "metadata": {
    "_kg_hide-input": true,
    "execution": {
     "iopub.execute_input": "2021-05-22T12:30:21.241277Z",
     "iopub.status.busy": "2021-05-22T12:30:21.240306Z",
     "iopub.status.idle": "2021-05-22T12:30:21.630387Z",
     "shell.execute_reply": "2021-05-22T12:30:21.628912Z",
     "shell.execute_reply.started": "2021-05-22T11:28:23.336326Z"
    },
    "papermill": {
     "duration": 0.48318,
     "end_time": "2021-05-22T12:30:21.630669",
     "exception": false,
     "start_time": "2021-05-22T12:30:21.147489",
     "status": "completed"
    },
    "tags": []
   },
   "outputs": [
    {
     "name": "stdout",
     "output_type": "stream",
     "text": [
      "race\n",
      "Amer-Indian-Eskimo    0.009311\n",
      "Asian-Pac-Islander    0.031708\n",
      "Black                 0.094700\n",
      "Other                 0.008073\n",
      "White                 0.856208\n",
      "dtype: float64 \n",
      "\n",
      "relationship\n",
      "Husband           0.413569\n",
      "Not-in-family     0.256039\n",
      "Other-relative    0.029885\n",
      "Own-child         0.147308\n",
      "Unmarried         0.106485\n",
      "Wife              0.046715\n",
      "dtype: float64\n"
     ]
    }
   ],
   "source": [
    "race_enc = (ds.groupby('race').size()) / len(ds)\n",
    "print(race_enc,'\\n')\n",
    "ds['race_enc'] = ds['race'].apply(lambda x : race_enc[x])\n",
    "\n",
    "relationship_enc = (ds.groupby('relationship').size()) / len(ds)\n",
    "print(relationship_enc)\n",
    "ds['relationship_enc'] = ds['relationship'].apply(lambda x : relationship_enc[x])"
   ]
  },
  {
   "cell_type": "code",
   "execution_count": 40,
   "metadata": {
    "execution": {
     "iopub.execute_input": "2021-05-22T12:30:21.800211Z",
     "iopub.status.busy": "2021-05-22T12:30:21.799498Z",
     "iopub.status.idle": "2021-05-22T12:30:21.829370Z",
     "shell.execute_reply": "2021-05-22T12:30:21.828832Z",
     "shell.execute_reply.started": "2021-05-22T11:29:15.365794Z"
    },
    "papermill": {
     "duration": 0.116653,
     "end_time": "2021-05-22T12:30:21.829529",
     "exception": false,
     "start_time": "2021-05-22T12:30:21.712876",
     "status": "completed"
    },
    "tags": []
   },
   "outputs": [
    {
     "data": {
      "text/html": [
       "<div>\n",
       "<style scoped>\n",
       "    .dataframe tbody tr th:only-of-type {\n",
       "        vertical-align: middle;\n",
       "    }\n",
       "\n",
       "    .dataframe tbody tr th {\n",
       "        vertical-align: top;\n",
       "    }\n",
       "\n",
       "    .dataframe thead th {\n",
       "        text-align: right;\n",
       "    }\n",
       "</style>\n",
       "<table border=\"1\" class=\"dataframe\">\n",
       "  <thead>\n",
       "    <tr style=\"text-align: right;\">\n",
       "      <th></th>\n",
       "      <th>age</th>\n",
       "      <th>fnlwgt</th>\n",
       "      <th>education.num</th>\n",
       "      <th>capital.gain</th>\n",
       "      <th>capital.loss</th>\n",
       "      <th>hours.per.week</th>\n",
       "      <th>workclass_enc</th>\n",
       "      <th>occupation_enc</th>\n",
       "      <th>country_enc</th>\n",
       "      <th>sex_enc</th>\n",
       "      <th>marital_status_enc</th>\n",
       "      <th>race_enc</th>\n",
       "      <th>relationship_enc</th>\n",
       "      <th>income</th>\n",
       "    </tr>\n",
       "  </thead>\n",
       "  <tbody>\n",
       "    <tr>\n",
       "      <th>1</th>\n",
       "      <td>82</td>\n",
       "      <td>132870</td>\n",
       "      <td>9</td>\n",
       "      <td>0</td>\n",
       "      <td>4356</td>\n",
       "      <td>18</td>\n",
       "      <td>0.69703</td>\n",
       "      <td>0.132365</td>\n",
       "      <td>1</td>\n",
       "      <td>0</td>\n",
       "      <td>0.027346</td>\n",
       "      <td>0.856208</td>\n",
       "      <td>0.256039</td>\n",
       "      <td>0</td>\n",
       "    </tr>\n",
       "    <tr>\n",
       "      <th>3</th>\n",
       "      <td>54</td>\n",
       "      <td>140359</td>\n",
       "      <td>4</td>\n",
       "      <td>0</td>\n",
       "      <td>3900</td>\n",
       "      <td>40</td>\n",
       "      <td>0.69703</td>\n",
       "      <td>0.065174</td>\n",
       "      <td>1</td>\n",
       "      <td>0</td>\n",
       "      <td>0.138616</td>\n",
       "      <td>0.856208</td>\n",
       "      <td>0.106485</td>\n",
       "      <td>0</td>\n",
       "    </tr>\n",
       "    <tr>\n",
       "      <th>4</th>\n",
       "      <td>41</td>\n",
       "      <td>264663</td>\n",
       "      <td>10</td>\n",
       "      <td>0</td>\n",
       "      <td>3900</td>\n",
       "      <td>40</td>\n",
       "      <td>0.69703</td>\n",
       "      <td>0.134774</td>\n",
       "      <td>1</td>\n",
       "      <td>0</td>\n",
       "      <td>0.031219</td>\n",
       "      <td>0.856208</td>\n",
       "      <td>0.147308</td>\n",
       "      <td>0</td>\n",
       "    </tr>\n",
       "    <tr>\n",
       "      <th>5</th>\n",
       "      <td>34</td>\n",
       "      <td>216864</td>\n",
       "      <td>9</td>\n",
       "      <td>0</td>\n",
       "      <td>3770</td>\n",
       "      <td>45</td>\n",
       "      <td>0.69703</td>\n",
       "      <td>0.107266</td>\n",
       "      <td>1</td>\n",
       "      <td>0</td>\n",
       "      <td>0.138616</td>\n",
       "      <td>0.856208</td>\n",
       "      <td>0.106485</td>\n",
       "      <td>0</td>\n",
       "    </tr>\n",
       "    <tr>\n",
       "      <th>6</th>\n",
       "      <td>38</td>\n",
       "      <td>150601</td>\n",
       "      <td>6</td>\n",
       "      <td>0</td>\n",
       "      <td>3770</td>\n",
       "      <td>40</td>\n",
       "      <td>0.69703</td>\n",
       "      <td>0.122729</td>\n",
       "      <td>1</td>\n",
       "      <td>1</td>\n",
       "      <td>0.031219</td>\n",
       "      <td>0.856208</td>\n",
       "      <td>0.106485</td>\n",
       "      <td>0</td>\n",
       "    </tr>\n",
       "    <tr>\n",
       "      <th>...</th>\n",
       "      <td>...</td>\n",
       "      <td>...</td>\n",
       "      <td>...</td>\n",
       "      <td>...</td>\n",
       "      <td>...</td>\n",
       "      <td>...</td>\n",
       "      <td>...</td>\n",
       "      <td>...</td>\n",
       "      <td>...</td>\n",
       "      <td>...</td>\n",
       "      <td>...</td>\n",
       "      <td>...</td>\n",
       "      <td>...</td>\n",
       "      <td>...</td>\n",
       "    </tr>\n",
       "    <tr>\n",
       "      <th>32556</th>\n",
       "      <td>22</td>\n",
       "      <td>310152</td>\n",
       "      <td>10</td>\n",
       "      <td>0</td>\n",
       "      <td>0</td>\n",
       "      <td>40</td>\n",
       "      <td>0.69703</td>\n",
       "      <td>0.021128</td>\n",
       "      <td>1</td>\n",
       "      <td>1</td>\n",
       "      <td>0.322677</td>\n",
       "      <td>0.856208</td>\n",
       "      <td>0.256039</td>\n",
       "      <td>0</td>\n",
       "    </tr>\n",
       "    <tr>\n",
       "      <th>32557</th>\n",
       "      <td>27</td>\n",
       "      <td>257302</td>\n",
       "      <td>12</td>\n",
       "      <td>0</td>\n",
       "      <td>0</td>\n",
       "      <td>38</td>\n",
       "      <td>0.69703</td>\n",
       "      <td>0.030210</td>\n",
       "      <td>1</td>\n",
       "      <td>0</td>\n",
       "      <td>0.466795</td>\n",
       "      <td>0.856208</td>\n",
       "      <td>0.046715</td>\n",
       "      <td>0</td>\n",
       "    </tr>\n",
       "    <tr>\n",
       "      <th>32558</th>\n",
       "      <td>40</td>\n",
       "      <td>154374</td>\n",
       "      <td>9</td>\n",
       "      <td>0</td>\n",
       "      <td>0</td>\n",
       "      <td>40</td>\n",
       "      <td>0.69703</td>\n",
       "      <td>0.065174</td>\n",
       "      <td>1</td>\n",
       "      <td>1</td>\n",
       "      <td>0.466795</td>\n",
       "      <td>0.856208</td>\n",
       "      <td>0.413569</td>\n",
       "      <td>1</td>\n",
       "    </tr>\n",
       "    <tr>\n",
       "      <th>32559</th>\n",
       "      <td>58</td>\n",
       "      <td>151910</td>\n",
       "      <td>9</td>\n",
       "      <td>0</td>\n",
       "      <td>0</td>\n",
       "      <td>40</td>\n",
       "      <td>0.69703</td>\n",
       "      <td>0.122729</td>\n",
       "      <td>1</td>\n",
       "      <td>0</td>\n",
       "      <td>0.027346</td>\n",
       "      <td>0.856208</td>\n",
       "      <td>0.106485</td>\n",
       "      <td>0</td>\n",
       "    </tr>\n",
       "    <tr>\n",
       "      <th>32560</th>\n",
       "      <td>22</td>\n",
       "      <td>201490</td>\n",
       "      <td>9</td>\n",
       "      <td>0</td>\n",
       "      <td>0</td>\n",
       "      <td>20</td>\n",
       "      <td>0.69703</td>\n",
       "      <td>0.122729</td>\n",
       "      <td>1</td>\n",
       "      <td>1</td>\n",
       "      <td>0.322677</td>\n",
       "      <td>0.856208</td>\n",
       "      <td>0.147308</td>\n",
       "      <td>0</td>\n",
       "    </tr>\n",
       "  </tbody>\n",
       "</table>\n",
       "<p>30718 rows × 14 columns</p>\n",
       "</div>"
      ],
      "text/plain": [
       "       age  fnlwgt  education.num  capital.gain  capital.loss  hours.per.week  \\\n",
       "1       82  132870              9             0          4356              18   \n",
       "3       54  140359              4             0          3900              40   \n",
       "4       41  264663             10             0          3900              40   \n",
       "5       34  216864              9             0          3770              45   \n",
       "6       38  150601              6             0          3770              40   \n",
       "...    ...     ...            ...           ...           ...             ...   \n",
       "32556   22  310152             10             0             0              40   \n",
       "32557   27  257302             12             0             0              38   \n",
       "32558   40  154374              9             0             0              40   \n",
       "32559   58  151910              9             0             0              40   \n",
       "32560   22  201490              9             0             0              20   \n",
       "\n",
       "       workclass_enc  occupation_enc  country_enc  sex_enc  \\\n",
       "1            0.69703        0.132365            1        0   \n",
       "3            0.69703        0.065174            1        0   \n",
       "4            0.69703        0.134774            1        0   \n",
       "5            0.69703        0.107266            1        0   \n",
       "6            0.69703        0.122729            1        1   \n",
       "...              ...             ...          ...      ...   \n",
       "32556        0.69703        0.021128            1        1   \n",
       "32557        0.69703        0.030210            1        0   \n",
       "32558        0.69703        0.065174            1        1   \n",
       "32559        0.69703        0.122729            1        0   \n",
       "32560        0.69703        0.122729            1        1   \n",
       "\n",
       "       marital_status_enc  race_enc  relationship_enc  income  \n",
       "1                0.027346  0.856208          0.256039       0  \n",
       "3                0.138616  0.856208          0.106485       0  \n",
       "4                0.031219  0.856208          0.147308       0  \n",
       "5                0.138616  0.856208          0.106485       0  \n",
       "6                0.031219  0.856208          0.106485       0  \n",
       "...                   ...       ...               ...     ...  \n",
       "32556            0.322677  0.856208          0.256039       0  \n",
       "32557            0.466795  0.856208          0.046715       0  \n",
       "32558            0.466795  0.856208          0.413569       1  \n",
       "32559            0.027346  0.856208          0.106485       0  \n",
       "32560            0.322677  0.856208          0.147308       0  \n",
       "\n",
       "[30718 rows x 14 columns]"
      ]
     },
     "execution_count": 40,
     "metadata": {},
     "output_type": "execute_result"
    }
   ],
   "source": [
    "ds.drop(['race', 'relationship'], axis = 1, inplace = True)\n",
    "new_ds = ds.drop(['income'], axis = 1)\n",
    "new_ds['income'] = ds['income']\n",
    "new_ds"
   ]
  },
  {
   "cell_type": "markdown",
   "metadata": {
    "papermill": {
     "duration": 0.081008,
     "end_time": "2021-05-22T12:30:21.994515",
     "exception": false,
     "start_time": "2021-05-22T12:30:21.913507",
     "status": "completed"
    },
    "tags": []
   },
   "source": [
    "## Outliers:\n",
    "We check if any outliers are present in the continous attributes of the dataset. We check it both by visualisations and the zscore for the continous columns."
   ]
  },
  {
   "cell_type": "code",
   "execution_count": 41,
   "metadata": {
    "_kg_hide-input": true,
    "execution": {
     "iopub.execute_input": "2021-05-22T12:30:22.165508Z",
     "iopub.status.busy": "2021-05-22T12:30:22.164804Z",
     "iopub.status.idle": "2021-05-22T12:30:22.168031Z",
     "shell.execute_reply": "2021-05-22T12:30:22.167489Z",
     "shell.execute_reply.started": "2021-05-22T11:30:07.896274Z"
    },
    "papermill": {
     "duration": 0.091383,
     "end_time": "2021-05-22T12:30:22.168185",
     "exception": false,
     "start_time": "2021-05-22T12:30:22.076802",
     "status": "completed"
    },
    "tags": []
   },
   "outputs": [],
   "source": [
    "plt.style.use('default')"
   ]
  },
  {
   "cell_type": "code",
   "execution_count": 42,
   "metadata": {
    "_kg_hide-input": true,
    "execution": {
     "iopub.execute_input": "2021-05-22T12:30:22.335724Z",
     "iopub.status.busy": "2021-05-22T12:30:22.335051Z",
     "iopub.status.idle": "2021-05-22T12:30:22.338498Z",
     "shell.execute_reply": "2021-05-22T12:30:22.337777Z",
     "shell.execute_reply.started": "2021-05-22T11:30:17.131225Z"
    },
    "papermill": {
     "duration": 0.089434,
     "end_time": "2021-05-22T12:30:22.338665",
     "exception": false,
     "start_time": "2021-05-22T12:30:22.249231",
     "status": "completed"
    },
    "tags": []
   },
   "outputs": [],
   "source": [
    "plt.style.use('ggplot')"
   ]
  },
  {
   "cell_type": "code",
   "execution_count": 43,
   "metadata": {
    "_kg_hide-input": true,
    "execution": {
     "iopub.execute_input": "2021-05-22T12:30:22.528776Z",
     "iopub.status.busy": "2021-05-22T12:30:22.528095Z",
     "iopub.status.idle": "2021-05-22T12:30:23.037634Z",
     "shell.execute_reply": "2021-05-22T12:30:23.038156Z",
     "shell.execute_reply.started": "2021-05-22T11:31:07.701315Z"
    },
    "papermill": {
     "duration": 0.618655,
     "end_time": "2021-05-22T12:30:23.038333",
     "exception": false,
     "start_time": "2021-05-22T12:30:22.419678",
     "status": "completed"
    },
    "tags": []
   },
   "outputs": [
    {
     "name": "stdout",
     "output_type": "stream",
     "text": [
      "BoxPlots of the features:\n"
     ]
    },
    {
     "data": {
      "image/png": "[encoded data removed]",
      "text/plain": [
       "<Figure size 1200x600 with 5 Axes>"
      ]
     },
     "metadata": {},
     "output_type": "display_data"
    }
   ],
   "source": [
    "clist = ['fnlwgt','age','capital.gain','capital.loss','hours.per.week']\n",
    "plt.figure(figsize = (12,6))\n",
    "for i in range(0, len(clist)):\n",
    "    plt.subplot(2,3, i+1)\n",
    "    sns.boxplot(ds[clist[i]], color = 'skyblue')\n",
    "print(\"BoxPlots of the features:\")\n",
    "plt.show()"
   ]
  },
  {
   "cell_type": "markdown",
   "metadata": {
    "papermill": {
     "duration": 0.082396,
     "end_time": "2021-05-22T12:30:23.203090",
     "exception": false,
     "start_time": "2021-05-22T12:30:23.120694",
     "status": "completed"
    },
    "tags": []
   },
   "source": [
    "**Outliers are present in the continous columns of the feature**. We will check the z-score of the features and and clip them from the data."
   ]
  },
  {
   "cell_type": "code",
   "execution_count": 44,
   "metadata": {
    "_kg_hide-input": true,
    "execution": {
     "iopub.execute_input": "2021-05-22T12:30:23.376732Z",
     "iopub.status.busy": "2021-05-22T12:30:23.376029Z",
     "iopub.status.idle": "2021-05-22T12:30:23.407325Z",
     "shell.execute_reply": "2021-05-22T12:30:23.407861Z",
     "shell.execute_reply.started": "2021-05-22T11:33:22.220652Z"
    },
    "papermill": {
     "duration": 0.122692,
     "end_time": "2021-05-22T12:30:23.408061",
     "exception": false,
     "start_time": "2021-05-22T12:30:23.285369",
     "status": "completed"
    },
    "tags": []
   },
   "outputs": [
    {
     "name": "stdout",
     "output_type": "stream",
     "text": [
      "(2, 2566)\n"
     ]
    },
    {
     "data": {
      "text/html": [
       "<div>\n",
       "<style scoped>\n",
       "    .dataframe tbody tr th:only-of-type {\n",
       "        vertical-align: middle;\n",
       "    }\n",
       "\n",
       "    .dataframe tbody tr th {\n",
       "        vertical-align: top;\n",
       "    }\n",
       "\n",
       "    .dataframe thead th {\n",
       "        text-align: right;\n",
       "    }\n",
       "</style>\n",
       "<table border=\"1\" class=\"dataframe\">\n",
       "  <thead>\n",
       "    <tr style=\"text-align: right;\">\n",
       "      <th></th>\n",
       "      <th>age</th>\n",
       "      <th>fnlwgt</th>\n",
       "      <th>education.num</th>\n",
       "      <th>capital.gain</th>\n",
       "      <th>capital.loss</th>\n",
       "      <th>hours.per.week</th>\n",
       "      <th>workclass_enc</th>\n",
       "      <th>occupation_enc</th>\n",
       "      <th>country_enc</th>\n",
       "      <th>sex_enc</th>\n",
       "      <th>marital_status_enc</th>\n",
       "      <th>race_enc</th>\n",
       "      <th>relationship_enc</th>\n",
       "      <th>income</th>\n",
       "    </tr>\n",
       "  </thead>\n",
       "  <tbody>\n",
       "    <tr>\n",
       "      <th>1470</th>\n",
       "      <td>62</td>\n",
       "      <td>159908</td>\n",
       "      <td>13</td>\n",
       "      <td>0</td>\n",
       "      <td>1258</td>\n",
       "      <td>38</td>\n",
       "      <td>0.064279</td>\n",
       "      <td>0.122729</td>\n",
       "      <td>1</td>\n",
       "      <td>0</td>\n",
       "      <td>0.466795</td>\n",
       "      <td>0.856208</td>\n",
       "      <td>0.046715</td>\n",
       "      <td>0</td>\n",
       "    </tr>\n",
       "    <tr>\n",
       "      <th>1471</th>\n",
       "      <td>72</td>\n",
       "      <td>144515</td>\n",
       "      <td>16</td>\n",
       "      <td>0</td>\n",
       "      <td>1258</td>\n",
       "      <td>40</td>\n",
       "      <td>0.064279</td>\n",
       "      <td>0.132365</td>\n",
       "      <td>1</td>\n",
       "      <td>1</td>\n",
       "      <td>0.466795</td>\n",
       "      <td>0.856208</td>\n",
       "      <td>0.413569</td>\n",
       "      <td>0</td>\n",
       "    </tr>\n",
       "    <tr>\n",
       "      <th>1473</th>\n",
       "      <td>66</td>\n",
       "      <td>350498</td>\n",
       "      <td>10</td>\n",
       "      <td>0</td>\n",
       "      <td>1258</td>\n",
       "      <td>20</td>\n",
       "      <td>0.697030</td>\n",
       "      <td>0.051989</td>\n",
       "      <td>1</td>\n",
       "      <td>1</td>\n",
       "      <td>0.466795</td>\n",
       "      <td>0.856208</td>\n",
       "      <td>0.413569</td>\n",
       "      <td>0</td>\n",
       "    </tr>\n",
       "    <tr>\n",
       "      <th>1474</th>\n",
       "      <td>33</td>\n",
       "      <td>262042</td>\n",
       "      <td>9</td>\n",
       "      <td>0</td>\n",
       "      <td>1138</td>\n",
       "      <td>40</td>\n",
       "      <td>0.064279</td>\n",
       "      <td>0.122729</td>\n",
       "      <td>1</td>\n",
       "      <td>0</td>\n",
       "      <td>0.138616</td>\n",
       "      <td>0.856208</td>\n",
       "      <td>0.147308</td>\n",
       "      <td>0</td>\n",
       "    </tr>\n",
       "    <tr>\n",
       "      <th>1475</th>\n",
       "      <td>29</td>\n",
       "      <td>138190</td>\n",
       "      <td>9</td>\n",
       "      <td>0</td>\n",
       "      <td>1138</td>\n",
       "      <td>40</td>\n",
       "      <td>0.697030</td>\n",
       "      <td>0.118823</td>\n",
       "      <td>1</td>\n",
       "      <td>0</td>\n",
       "      <td>0.322677</td>\n",
       "      <td>0.094700</td>\n",
       "      <td>0.106485</td>\n",
       "      <td>0</td>\n",
       "    </tr>\n",
       "    <tr>\n",
       "      <th>...</th>\n",
       "      <td>...</td>\n",
       "      <td>...</td>\n",
       "      <td>...</td>\n",
       "      <td>...</td>\n",
       "      <td>...</td>\n",
       "      <td>...</td>\n",
       "      <td>...</td>\n",
       "      <td>...</td>\n",
       "      <td>...</td>\n",
       "      <td>...</td>\n",
       "      <td>...</td>\n",
       "      <td>...</td>\n",
       "      <td>...</td>\n",
       "      <td>...</td>\n",
       "    </tr>\n",
       "    <tr>\n",
       "      <th>32556</th>\n",
       "      <td>22</td>\n",
       "      <td>310152</td>\n",
       "      <td>10</td>\n",
       "      <td>0</td>\n",
       "      <td>0</td>\n",
       "      <td>40</td>\n",
       "      <td>0.697030</td>\n",
       "      <td>0.021128</td>\n",
       "      <td>1</td>\n",
       "      <td>1</td>\n",
       "      <td>0.322677</td>\n",
       "      <td>0.856208</td>\n",
       "      <td>0.256039</td>\n",
       "      <td>0</td>\n",
       "    </tr>\n",
       "    <tr>\n",
       "      <th>32557</th>\n",
       "      <td>27</td>\n",
       "      <td>257302</td>\n",
       "      <td>12</td>\n",
       "      <td>0</td>\n",
       "      <td>0</td>\n",
       "      <td>38</td>\n",
       "      <td>0.697030</td>\n",
       "      <td>0.030210</td>\n",
       "      <td>1</td>\n",
       "      <td>0</td>\n",
       "      <td>0.466795</td>\n",
       "      <td>0.856208</td>\n",
       "      <td>0.046715</td>\n",
       "      <td>0</td>\n",
       "    </tr>\n",
       "    <tr>\n",
       "      <th>32558</th>\n",
       "      <td>40</td>\n",
       "      <td>154374</td>\n",
       "      <td>9</td>\n",
       "      <td>0</td>\n",
       "      <td>0</td>\n",
       "      <td>40</td>\n",
       "      <td>0.697030</td>\n",
       "      <td>0.065174</td>\n",
       "      <td>1</td>\n",
       "      <td>1</td>\n",
       "      <td>0.466795</td>\n",
       "      <td>0.856208</td>\n",
       "      <td>0.413569</td>\n",
       "      <td>1</td>\n",
       "    </tr>\n",
       "    <tr>\n",
       "      <th>32559</th>\n",
       "      <td>58</td>\n",
       "      <td>151910</td>\n",
       "      <td>9</td>\n",
       "      <td>0</td>\n",
       "      <td>0</td>\n",
       "      <td>40</td>\n",
       "      <td>0.697030</td>\n",
       "      <td>0.122729</td>\n",
       "      <td>1</td>\n",
       "      <td>0</td>\n",
       "      <td>0.027346</td>\n",
       "      <td>0.856208</td>\n",
       "      <td>0.106485</td>\n",
       "      <td>0</td>\n",
       "    </tr>\n",
       "    <tr>\n",
       "      <th>32560</th>\n",
       "      <td>22</td>\n",
       "      <td>201490</td>\n",
       "      <td>9</td>\n",
       "      <td>0</td>\n",
       "      <td>0</td>\n",
       "      <td>20</td>\n",
       "      <td>0.697030</td>\n",
       "      <td>0.122729</td>\n",
       "      <td>1</td>\n",
       "      <td>1</td>\n",
       "      <td>0.322677</td>\n",
       "      <td>0.856208</td>\n",
       "      <td>0.147308</td>\n",
       "      <td>0</td>\n",
       "    </tr>\n",
       "  </tbody>\n",
       "</table>\n",
       "<p>28214 rows × 14 columns</p>\n",
       "</div>"
      ],
      "text/plain": [
       "       age  fnlwgt  education.num  capital.gain  capital.loss  hours.per.week  \\\n",
       "1470    62  159908             13             0          1258              38   \n",
       "1471    72  144515             16             0          1258              40   \n",
       "1473    66  350498             10             0          1258              20   \n",
       "1474    33  262042              9             0          1138              40   \n",
       "1475    29  138190              9             0          1138              40   \n",
       "...    ...     ...            ...           ...           ...             ...   \n",
       "32556   22  310152             10             0             0              40   \n",
       "32557   27  257302             12             0             0              38   \n",
       "32558   40  154374              9             0             0              40   \n",
       "32559   58  151910              9             0             0              40   \n",
       "32560   22  201490              9             0             0              20   \n",
       "\n",
       "       workclass_enc  occupation_enc  country_enc  sex_enc  \\\n",
       "1470        0.064279        0.122729            1        0   \n",
       "1471        0.064279        0.132365            1        1   \n",
       "1473        0.697030        0.051989            1        1   \n",
       "1474        0.064279        0.122729            1        0   \n",
       "1475        0.697030        0.118823            1        0   \n",
       "...              ...             ...          ...      ...   \n",
       "32556       0.697030        0.021128            1        1   \n",
       "32557       0.697030        0.030210            1        0   \n",
       "32558       0.697030        0.065174            1        1   \n",
       "32559       0.697030        0.122729            1        0   \n",
       "32560       0.697030        0.122729            1        1   \n",
       "\n",
       "       marital_status_enc  race_enc  relationship_enc  income  \n",
       "1470             0.466795  0.856208          0.046715       0  \n",
       "1471             0.466795  0.856208          0.413569       0  \n",
       "1473             0.466795  0.856208          0.413569       0  \n",
       "1474             0.138616  0.856208          0.147308       0  \n",
       "1475             0.322677  0.094700          0.106485       0  \n",
       "...                   ...       ...               ...     ...  \n",
       "32556            0.322677  0.856208          0.256039       0  \n",
       "32557            0.466795  0.856208          0.046715       0  \n",
       "32558            0.466795  0.856208          0.413569       1  \n",
       "32559            0.027346  0.856208          0.106485       0  \n",
       "32560            0.322677  0.856208          0.147308       0  \n",
       "\n",
       "[28214 rows x 14 columns]"
      ]
     },
     "execution_count": 44,
     "metadata": {},
     "output_type": "execute_result"
    }
   ],
   "source": [
    "from scipy.stats import zscore\n",
    "zabs = np.abs(zscore(new_ds.loc[:,'fnlwgt':'hours.per.week']))\n",
    "print(np.shape(np.where(zabs >= 3)))\n",
    "new_ds = new_ds[(zabs < 3).all(axis = 1)]\n",
    "new_ds"
   ]
  },
  {
   "cell_type": "markdown",
   "metadata": {
    "papermill": {
     "duration": 0.084603,
     "end_time": "2021-05-22T12:30:23.578382",
     "exception": false,
     "start_time": "2021-05-22T12:30:23.493779",
     "status": "completed"
    },
    "tags": []
   },
   "source": [
    "WE have a total of 2566 outliers in the data. After removing the outliers, we have 28213 observations left.\n",
    "## Correlation:\n",
    "Checking the correlation between the features and target variable to see which of them columns are more related to target."
   ]
  },
  {
   "cell_type": "code",
   "execution_count": 45,
   "metadata": {
    "execution": {
     "iopub.execute_input": "2021-05-22T12:30:23.768327Z",
     "iopub.status.busy": "2021-05-22T12:30:23.767535Z",
     "iopub.status.idle": "2021-05-22T12:30:24.986767Z",
     "shell.execute_reply": "2021-05-22T12:30:24.987350Z",
     "shell.execute_reply.started": "2021-05-22T11:34:36.955891Z"
    },
    "papermill": {
     "duration": 1.324769,
     "end_time": "2021-05-22T12:30:24.987537",
     "exception": false,
     "start_time": "2021-05-22T12:30:23.662768",
     "status": "completed"
    },
    "tags": []
   },
   "outputs": [
    {
     "data": {
      "image/png": "[encoded data removed]",
      "text/plain": [
       "<Figure size 1400x800 with 2 Axes>"
      ]
     },
     "metadata": {},
     "output_type": "display_data"
    }
   ],
   "source": [
    "plt.figure(figsize = (14, 8))\n",
    "plt.title(\"Correlation between target and features:\")\n",
    "sns.heatmap(new_ds.corr(), annot = True)\n",
    "plt.show()"
   ]
  },
  {
   "cell_type": "markdown",
   "metadata": {
    "papermill": {
     "duration": 0.09336,
     "end_time": "2021-05-22T12:30:25.173898",
     "exception": false,
     "start_time": "2021-05-22T12:30:25.080538",
     "status": "completed"
    },
    "tags": []
   },
   "source": [
    "'Capital_gain', 'Education_num', 'Marital_status_enc', 'Relationship_enc' are most correlated to the Income of the observations.\n",
    "## Scaling:\n",
    "As we see that the values of attributes in the dataset vary largely, so it is important to scale the data. Using the Min-Max scaler in order to bring normalisation in the data."
   ]
  },
  {
   "cell_type": "code",
   "execution_count": 46,
   "metadata": {
    "execution": {
     "iopub.execute_input": "2021-05-22T12:30:25.360215Z",
     "iopub.status.busy": "2021-05-22T12:30:25.357775Z",
     "iopub.status.idle": "2021-05-22T12:30:25.715461Z",
     "shell.execute_reply": "2021-05-22T12:30:25.714735Z",
     "shell.execute_reply.started": "2021-05-22T11:36:04.926356Z"
    },
    "papermill": {
     "duration": 0.450993,
     "end_time": "2021-05-22T12:30:25.715615",
     "exception": false,
     "start_time": "2021-05-22T12:30:25.264622",
     "status": "completed"
    },
    "tags": []
   },
   "outputs": [
    {
     "data": {
      "text/html": [
       "<div>\n",
       "<style scoped>\n",
       "    .dataframe tbody tr th:only-of-type {\n",
       "        vertical-align: middle;\n",
       "    }\n",
       "\n",
       "    .dataframe tbody tr th {\n",
       "        vertical-align: top;\n",
       "    }\n",
       "\n",
       "    .dataframe thead th {\n",
       "        text-align: right;\n",
       "    }\n",
       "</style>\n",
       "<table border=\"1\" class=\"dataframe\">\n",
       "  <thead>\n",
       "    <tr style=\"text-align: right;\">\n",
       "      <th></th>\n",
       "      <th>age</th>\n",
       "      <th>fnlwgt</th>\n",
       "      <th>education.num</th>\n",
       "      <th>capital.gain</th>\n",
       "      <th>capital.loss</th>\n",
       "      <th>hours.per.week</th>\n",
       "      <th>workclass_enc</th>\n",
       "      <th>occupation_enc</th>\n",
       "      <th>country_enc</th>\n",
       "      <th>sex_enc</th>\n",
       "      <th>marital_status_enc</th>\n",
       "      <th>race_enc</th>\n",
       "      <th>relationship_enc</th>\n",
       "      <th>income</th>\n",
       "    </tr>\n",
       "  </thead>\n",
       "  <tbody>\n",
       "    <tr>\n",
       "      <th>1470</th>\n",
       "      <td>0.616438</td>\n",
       "      <td>0.296903</td>\n",
       "      <td>0.769231</td>\n",
       "      <td>0.0</td>\n",
       "      <td>1.00000</td>\n",
       "      <td>0.464789</td>\n",
       "      <td>0.064279</td>\n",
       "      <td>0.122729</td>\n",
       "      <td>1</td>\n",
       "      <td>0</td>\n",
       "      <td>0.466795</td>\n",
       "      <td>0.856208</td>\n",
       "      <td>0.046715</td>\n",
       "      <td>0</td>\n",
       "    </tr>\n",
       "    <tr>\n",
       "      <th>1471</th>\n",
       "      <td>0.753425</td>\n",
       "      <td>0.265630</td>\n",
       "      <td>1.000000</td>\n",
       "      <td>0.0</td>\n",
       "      <td>1.00000</td>\n",
       "      <td>0.492958</td>\n",
       "      <td>0.064279</td>\n",
       "      <td>0.132365</td>\n",
       "      <td>1</td>\n",
       "      <td>1</td>\n",
       "      <td>0.466795</td>\n",
       "      <td>0.856208</td>\n",
       "      <td>0.413569</td>\n",
       "      <td>0</td>\n",
       "    </tr>\n",
       "    <tr>\n",
       "      <th>1473</th>\n",
       "      <td>0.671233</td>\n",
       "      <td>0.684115</td>\n",
       "      <td>0.538462</td>\n",
       "      <td>0.0</td>\n",
       "      <td>1.00000</td>\n",
       "      <td>0.211268</td>\n",
       "      <td>0.697030</td>\n",
       "      <td>0.051989</td>\n",
       "      <td>1</td>\n",
       "      <td>1</td>\n",
       "      <td>0.466795</td>\n",
       "      <td>0.856208</td>\n",
       "      <td>0.413569</td>\n",
       "      <td>0</td>\n",
       "    </tr>\n",
       "    <tr>\n",
       "      <th>1474</th>\n",
       "      <td>0.219178</td>\n",
       "      <td>0.504404</td>\n",
       "      <td>0.461538</td>\n",
       "      <td>0.0</td>\n",
       "      <td>0.90461</td>\n",
       "      <td>0.492958</td>\n",
       "      <td>0.064279</td>\n",
       "      <td>0.122729</td>\n",
       "      <td>1</td>\n",
       "      <td>0</td>\n",
       "      <td>0.138616</td>\n",
       "      <td>0.856208</td>\n",
       "      <td>0.147308</td>\n",
       "      <td>0</td>\n",
       "    </tr>\n",
       "    <tr>\n",
       "      <th>1475</th>\n",
       "      <td>0.164384</td>\n",
       "      <td>0.252780</td>\n",
       "      <td>0.461538</td>\n",
       "      <td>0.0</td>\n",
       "      <td>0.90461</td>\n",
       "      <td>0.492958</td>\n",
       "      <td>0.697030</td>\n",
       "      <td>0.118823</td>\n",
       "      <td>1</td>\n",
       "      <td>0</td>\n",
       "      <td>0.322677</td>\n",
       "      <td>0.094700</td>\n",
       "      <td>0.106485</td>\n",
       "      <td>0</td>\n",
       "    </tr>\n",
       "    <tr>\n",
       "      <th>...</th>\n",
       "      <td>...</td>\n",
       "      <td>...</td>\n",
       "      <td>...</td>\n",
       "      <td>...</td>\n",
       "      <td>...</td>\n",
       "      <td>...</td>\n",
       "      <td>...</td>\n",
       "      <td>...</td>\n",
       "      <td>...</td>\n",
       "      <td>...</td>\n",
       "      <td>...</td>\n",
       "      <td>...</td>\n",
       "      <td>...</td>\n",
       "      <td>...</td>\n",
       "    </tr>\n",
       "    <tr>\n",
       "      <th>32556</th>\n",
       "      <td>0.068493</td>\n",
       "      <td>0.602146</td>\n",
       "      <td>0.538462</td>\n",
       "      <td>0.0</td>\n",
       "      <td>0.00000</td>\n",
       "      <td>0.492958</td>\n",
       "      <td>0.697030</td>\n",
       "      <td>0.021128</td>\n",
       "      <td>1</td>\n",
       "      <td>1</td>\n",
       "      <td>0.322677</td>\n",
       "      <td>0.856208</td>\n",
       "      <td>0.256039</td>\n",
       "      <td>0</td>\n",
       "    </tr>\n",
       "    <tr>\n",
       "      <th>32557</th>\n",
       "      <td>0.136986</td>\n",
       "      <td>0.494774</td>\n",
       "      <td>0.692308</td>\n",
       "      <td>0.0</td>\n",
       "      <td>0.00000</td>\n",
       "      <td>0.464789</td>\n",
       "      <td>0.697030</td>\n",
       "      <td>0.030210</td>\n",
       "      <td>1</td>\n",
       "      <td>0</td>\n",
       "      <td>0.466795</td>\n",
       "      <td>0.856208</td>\n",
       "      <td>0.046715</td>\n",
       "      <td>0</td>\n",
       "    </tr>\n",
       "    <tr>\n",
       "      <th>32558</th>\n",
       "      <td>0.315068</td>\n",
       "      <td>0.285660</td>\n",
       "      <td>0.461538</td>\n",
       "      <td>0.0</td>\n",
       "      <td>0.00000</td>\n",
       "      <td>0.492958</td>\n",
       "      <td>0.697030</td>\n",
       "      <td>0.065174</td>\n",
       "      <td>1</td>\n",
       "      <td>1</td>\n",
       "      <td>0.466795</td>\n",
       "      <td>0.856208</td>\n",
       "      <td>0.413569</td>\n",
       "      <td>1</td>\n",
       "    </tr>\n",
       "    <tr>\n",
       "      <th>32559</th>\n",
       "      <td>0.561644</td>\n",
       "      <td>0.280654</td>\n",
       "      <td>0.461538</td>\n",
       "      <td>0.0</td>\n",
       "      <td>0.00000</td>\n",
       "      <td>0.492958</td>\n",
       "      <td>0.697030</td>\n",
       "      <td>0.122729</td>\n",
       "      <td>1</td>\n",
       "      <td>0</td>\n",
       "      <td>0.027346</td>\n",
       "      <td>0.856208</td>\n",
       "      <td>0.106485</td>\n",
       "      <td>0</td>\n",
       "    </tr>\n",
       "    <tr>\n",
       "      <th>32560</th>\n",
       "      <td>0.068493</td>\n",
       "      <td>0.381383</td>\n",
       "      <td>0.461538</td>\n",
       "      <td>0.0</td>\n",
       "      <td>0.00000</td>\n",
       "      <td>0.211268</td>\n",
       "      <td>0.697030</td>\n",
       "      <td>0.122729</td>\n",
       "      <td>1</td>\n",
       "      <td>1</td>\n",
       "      <td>0.322677</td>\n",
       "      <td>0.856208</td>\n",
       "      <td>0.147308</td>\n",
       "      <td>0</td>\n",
       "    </tr>\n",
       "  </tbody>\n",
       "</table>\n",
       "<p>28214 rows × 14 columns</p>\n",
       "</div>"
      ],
      "text/plain": [
       "            age    fnlwgt  education.num  capital.gain  capital.loss  \\\n",
       "1470   0.616438  0.296903       0.769231           0.0       1.00000   \n",
       "1471   0.753425  0.265630       1.000000           0.0       1.00000   \n",
       "1473   0.671233  0.684115       0.538462           0.0       1.00000   \n",
       "1474   0.219178  0.504404       0.461538           0.0       0.90461   \n",
       "1475   0.164384  0.252780       0.461538           0.0       0.90461   \n",
       "...         ...       ...            ...           ...           ...   \n",
       "32556  0.068493  0.602146       0.538462           0.0       0.00000   \n",
       "32557  0.136986  0.494774       0.692308           0.0       0.00000   \n",
       "32558  0.315068  0.285660       0.461538           0.0       0.00000   \n",
       "32559  0.561644  0.280654       0.461538           0.0       0.00000   \n",
       "32560  0.068493  0.381383       0.461538           0.0       0.00000   \n",
       "\n",
       "       hours.per.week  workclass_enc  occupation_enc  country_enc  sex_enc  \\\n",
       "1470         0.464789       0.064279        0.122729            1        0   \n",
       "1471         0.492958       0.064279        0.132365            1        1   \n",
       "1473         0.211268       0.697030        0.051989            1        1   \n",
       "1474         0.492958       0.064279        0.122729            1        0   \n",
       "1475         0.492958       0.697030        0.118823            1        0   \n",
       "...               ...            ...             ...          ...      ...   \n",
       "32556        0.492958       0.697030        0.021128            1        1   \n",
       "32557        0.464789       0.697030        0.030210            1        0   \n",
       "32558        0.492958       0.697030        0.065174            1        1   \n",
       "32559        0.492958       0.697030        0.122729            1        0   \n",
       "32560        0.211268       0.697030        0.122729            1        1   \n",
       "\n",
       "       marital_status_enc  race_enc  relationship_enc  income  \n",
       "1470             0.466795  0.856208          0.046715       0  \n",
       "1471             0.466795  0.856208          0.413569       0  \n",
       "1473             0.466795  0.856208          0.413569       0  \n",
       "1474             0.138616  0.856208          0.147308       0  \n",
       "1475             0.322677  0.094700          0.106485       0  \n",
       "...                   ...       ...               ...     ...  \n",
       "32556            0.322677  0.856208          0.256039       0  \n",
       "32557            0.466795  0.856208          0.046715       0  \n",
       "32558            0.466795  0.856208          0.413569       1  \n",
       "32559            0.027346  0.856208          0.106485       0  \n",
       "32560            0.322677  0.856208          0.147308       0  \n",
       "\n",
       "[28214 rows x 14 columns]"
      ]
     },
     "execution_count": 46,
     "metadata": {},
     "output_type": "execute_result"
    }
   ],
   "source": [
    "from sklearn.preprocessing import MinMaxScaler\n",
    "scale = MinMaxScaler()\n",
    "new_ds.loc[:,'age':'hours.per.week'] = scale.fit_transform(new_ds.loc[:,'age':'hours.per.week'])\n",
    "new_ds"
   ]
  },
  {
   "cell_type": "markdown",
   "metadata": {
    "papermill": {
     "duration": 0.092515,
     "end_time": "2021-05-22T12:30:25.901974",
     "exception": false,
     "start_time": "2021-05-22T12:30:25.809459",
     "status": "completed"
    },
    "tags": []
   },
   "source": [
    "AS we can see from the above table that the data is now more normalised and can be used by the models for learning.\n",
    "![](https://kiarofoods.com/wp-content/uploads/2019/10/line_break.png)\n",
    "# Data Imbalance:\n",
    "If the data is imbalanced, it can cause the overfitting and bias in the odel prediction. So it is important to check and cure the data imbalance if present. We check the target variable to see if it is balanced or not."
   ]
  },
  {
   "cell_type": "code",
   "execution_count": 47,
   "metadata": {
    "_kg_hide-input": true,
    "execution": {
     "iopub.execute_input": "2021-05-22T12:30:26.103495Z",
     "iopub.status.busy": "2021-05-22T12:30:26.102775Z",
     "iopub.status.idle": "2021-05-22T12:30:26.213357Z",
     "shell.execute_reply": "2021-05-22T12:30:26.213891Z",
     "shell.execute_reply.started": "2021-05-22T11:36:51.890668Z"
    },
    "papermill": {
     "duration": 0.219386,
     "end_time": "2021-05-22T12:30:26.214088",
     "exception": false,
     "start_time": "2021-05-22T12:30:25.994702",
     "status": "completed"
    },
    "tags": []
   },
   "outputs": [
    {
     "data": {
      "image/png": "[encoded data removed]",
      "text/plain": [
       "<Figure size 800x400 with 1 Axes>"
      ]
     },
     "metadata": {},
     "output_type": "display_data"
    }
   ],
   "source": [
    "plt.figure(figsize = (8, 4))\n",
    "plt.title(\"Values distribution in target class: Income\")\n",
    "sns.countplot(data = new_ds, x = 'income')\n",
    "plt.show()"
   ]
  },
  {
   "cell_type": "markdown",
   "metadata": {
    "papermill": {
     "duration": 0.091496,
     "end_time": "2021-05-22T12:30:26.397770",
     "exception": false,
     "start_time": "2021-05-22T12:30:26.306274",
     "status": "completed"
    },
    "tags": []
   },
   "source": [
    "As we can see that data is imbalanced. In order **to remove the data imbalance, we use the SMOTETomek class to create synthetic values using KNN algorithm.**"
   ]
  },
  {
   "cell_type": "code",
   "execution_count": 48,
   "metadata": {
    "execution": {
     "iopub.execute_input": "2021-05-22T12:30:26.586243Z",
     "iopub.status.busy": "2021-05-22T12:30:26.585571Z",
     "iopub.status.idle": "2021-05-22T12:30:33.837113Z",
     "shell.execute_reply": "2021-05-22T12:30:33.837619Z",
     "shell.execute_reply.started": "2021-05-22T11:37:49.485554Z"
    },
    "papermill": {
     "duration": 7.347859,
     "end_time": "2021-05-22T12:30:33.837822",
     "exception": false,
     "start_time": "2021-05-22T12:30:26.489963",
     "status": "completed"
    },
    "tags": []
   },
   "outputs": [],
   "source": [
    "from imblearn.combine import SMOTETomek\n",
    "x = new_ds.loc[:,\"age\":\"relationship_enc\"]\n",
    "y = new_ds.loc[:,\"income\"]\n",
    "smk = SMOTETomek()\n",
    "x_new, y_new = smk.fit_resample(x, y)"
   ]
  },
  {
   "cell_type": "code",
   "execution_count": 49,
   "metadata": {
    "_kg_hide-input": true,
    "execution": {
     "iopub.execute_input": "2021-05-22T12:30:34.054526Z",
     "iopub.status.busy": "2021-05-22T12:30:34.053864Z",
     "iopub.status.idle": "2021-05-22T12:30:34.176570Z",
     "shell.execute_reply": "2021-05-22T12:30:34.175964Z",
     "shell.execute_reply.started": "2021-05-22T11:38:03.630070Z"
    },
    "papermill": {
     "duration": 0.244575,
     "end_time": "2021-05-22T12:30:34.176707",
     "exception": false,
     "start_time": "2021-05-22T12:30:33.932132",
     "status": "completed"
    },
    "tags": []
   },
   "outputs": [
    {
     "data": {
      "image/png": "[encoded data removed]",
      "text/plain": [
       "<Figure size 800x400 with 1 Axes>"
      ]
     },
     "metadata": {},
     "output_type": "display_data"
    }
   ],
   "source": [
    "plt.figure(figsize = (8, 4))\n",
    "plt.title(\"Values in target class after using SMOTETomek\")\n",
    "sns.countplot(x = y_new)\n",
    "plt.show()"
   ]
  },
  {
   "cell_type": "markdown",
   "metadata": {
    "papermill": {
     "duration": 0.092711,
     "end_time": "2021-05-22T12:30:34.361957",
     "exception": false,
     "start_time": "2021-05-22T12:30:34.269246",
     "status": "completed"
    },
    "tags": []
   },
   "source": [
    "As we can see that we now have a balanced dataset, so we can model ahead with the model building part.\n",
    "![](https://kiarofoods.com/wp-content/uploads/2019/10/line_break.png)\n",
    "# Model Building:\n",
    "Starting with the spliting of the training and testing data. For that, we check to see what is the best random state."
   ]
  },
  {
   "cell_type": "code",
   "execution_count": 49,
   "metadata": {
    "_kg_hide-input": true,
    "execution": {
     "iopub.execute_input": "2021-05-22T12:30:34.556744Z",
     "iopub.status.busy": "2021-05-22T12:30:34.555771Z",
     "iopub.status.idle": "2021-05-22T12:31:36.726709Z",
     "shell.execute_reply": "2021-05-22T12:31:36.727474Z",
     "shell.execute_reply.started": "2021-05-22T11:38:47.158036Z"
    },
    "papermill": {
     "duration": 62.273404,
     "end_time": "2021-05-22T12:31:36.727702",
     "exception": false,
     "start_time": "2021-05-22T12:30:34.454298",
     "status": "completed"
    },
    "tags": []
   },
   "outputs": [
    {
     "name": "stdout",
     "output_type": "stream",
     "text": [
      "Best Random State is 18, 81.59223607385198\n"
     ]
    }
   ],
   "source": [
    "from sklearn.linear_model import LogisticRegression\n",
    "from sklearn.metrics import accuracy_score\n",
    "from sklearn.model_selection import train_test_split\n",
    "\n",
    "max_accuracy = 0\n",
    "best_rs = 0\n",
    "for i in range(1, 150):\n",
    "    x_train, x_test, y_train, y_test = train_test_split(x_new, y_new, test_size = 0.30, random_state = i)\n",
    "    lg = LogisticRegression()\n",
    "    lg.fit(x_train, y_train)\n",
    "    pred = lg.predict(x_test)\n",
    "    acc = accuracy_score(y_test, pred)\n",
    "    if acc > max_accuracy: # after each iteration, acc is replace by the best possible accuracy\n",
    "        max_accuracy = acc\n",
    "        best_rs = i\n",
    "print(f\"Best Random State is {best_rs}, {max_accuracy*100}\")"
   ]
  },
  {
   "cell_type": "markdown",
   "metadata": {
    "papermill": {
     "duration": 0.094886,
     "end_time": "2021-05-22T12:31:36.918331",
     "exception": false,
     "start_time": "2021-05-22T12:31:36.823445",
     "status": "completed"
    },
    "tags": []
   },
   "source": [
    "Best possible random state is 67, so using it to split the data"
   ]
  },
  {
   "cell_type": "code",
   "execution_count": 50,
   "metadata": {
    "execution": {
     "iopub.execute_input": "2021-05-22T12:31:37.112825Z",
     "iopub.status.busy": "2021-05-22T12:31:37.112137Z",
     "iopub.status.idle": "2021-05-22T12:31:37.122448Z",
     "shell.execute_reply": "2021-05-22T12:31:37.121866Z",
     "shell.execute_reply.started": "2021-05-22T11:40:52.558648Z"
    },
    "papermill": {
     "duration": 0.110651,
     "end_time": "2021-05-22T12:31:37.122598",
     "exception": false,
     "start_time": "2021-05-22T12:31:37.011947",
     "status": "completed"
    },
    "tags": []
   },
   "outputs": [],
   "source": [
    "x_train, x_test, y_train, y_test = train_test_split(x_new, y_new, test_size = 0.30, random_state = 67)"
   ]
  },
  {
   "cell_type": "code",
   "execution_count": 51,
   "metadata": {
    "_kg_hide-input": true,
    "execution": {
     "iopub.execute_input": "2021-05-22T12:31:37.315385Z",
     "iopub.status.busy": "2021-05-22T12:31:37.314679Z",
     "iopub.status.idle": "2021-05-22T12:31:37.323463Z",
     "shell.execute_reply": "2021-05-22T12:31:37.322754Z",
     "shell.execute_reply.started": "2021-05-22T11:40:54.899139Z"
    },
    "papermill": {
     "duration": 0.10701,
     "end_time": "2021-05-22T12:31:37.323622",
     "exception": false,
     "start_time": "2021-05-22T12:31:37.216612",
     "status": "completed"
    },
    "tags": []
   },
   "outputs": [],
   "source": [
    "from sklearn.linear_model import LogisticRegression\n",
    "from sklearn.ensemble import RandomForestClassifier\n",
    "from sklearn.tree import DecisionTreeClassifier\n",
    "from sklearn.ensemble import AdaBoostClassifier\n",
    "from sklearn.naive_bayes import MultinomialNB\n",
    "from sklearn.neighbors import KNeighborsClassifier\n",
    "from sklearn.svm import SVC"
   ]
  },
  {
   "cell_type": "markdown",
   "metadata": {
    "papermill": {
     "duration": 0.094132,
     "end_time": "2021-05-22T12:31:37.512066",
     "exception": false,
     "start_time": "2021-05-22T12:31:37.417934",
     "status": "completed"
    },
    "tags": []
   },
   "source": [
    "## Model Fitting:\n",
    "Fitting 7 different models to check which model gives the best accuracy."
   ]
  },
  {
   "cell_type": "code",
   "execution_count": 52,
   "metadata": {
    "execution": {
     "iopub.execute_input": "2021-05-22T12:31:37.713318Z",
     "iopub.status.busy": "2021-05-22T12:31:37.709096Z",
     "iopub.status.idle": "2021-05-22T12:32:27.322133Z",
     "shell.execute_reply": "2021-05-22T12:32:27.321427Z",
     "shell.execute_reply.started": "2021-05-22T11:41:50.858711Z"
    },
    "papermill": {
     "duration": 49.716197,
     "end_time": "2021-05-22T12:32:27.322296",
     "exception": false,
     "start_time": "2021-05-22T12:31:37.606099",
     "status": "completed"
    },
    "tags": []
   },
   "outputs": [
    {
     "name": "stdout",
     "output_type": "stream",
     "text": [
      "Accuracy Score of Logistic Regression model is 81.18194729367208\n",
      "Accuracy Score of Decision Tree Classifier model is 86.46047025406344\n",
      "Accuracy Score of K-Nearest Neighbour Classifier model is 86.23954552627427\n",
      "Accuracy Score of Support Vector Classifier model is 82.7836515701436\n",
      "Accuracy Score of Random Forest model is 90.58702856241123\n",
      "Accuracy Score of MultinomialNB model is 64.6836042291305\n",
      "Accuracy Score of ADA Boost model is 84.9139971595392\n"
     ]
    }
   ],
   "source": [
    "# For Logistic Regression\n",
    "lg = LogisticRegression()\n",
    "lg.fit(x_train, y_train)\n",
    "pred_lg = lg.predict(x_test)\n",
    "print(\"Accuracy Score of Logistic Regression model is\", accuracy_score(y_test, pred_lg)*100)\n",
    "\n",
    "# For Decision Tree Classifier\n",
    "dtc = DecisionTreeClassifier()\n",
    "dtc.fit(x_train, y_train)\n",
    "pred_dtc = dtc.predict(x_test)\n",
    "print(\"Accuracy Score of Decision Tree Classifier model is\", accuracy_score(y_test, pred_dtc)*100)\n",
    "\n",
    "# For K-Nearest Neighbour Classifier\n",
    "knc = KNeighborsClassifier(n_neighbors = 5)\n",
    "knc.fit(x_train, y_train)\n",
    "pred_knc = knc.predict(x_test)\n",
    "print(\"Accuracy Score of K-Nearest Neighbour Classifier model is\", accuracy_score(y_test, pred_knc)*100)\n",
    "\n",
    "# For Support Vector Classifier\n",
    "svc = SVC(kernel = 'rbf')\n",
    "svc.fit(x_train, y_train)\n",
    "pred_svc = svc.predict(x_test)\n",
    "print(\"Accuracy Score of Support Vector Classifier model is\", accuracy_score(y_test, pred_svc)*100)\n",
    "\n",
    "# For Random Forest Classifier\n",
    "rfc = RandomForestClassifier()\n",
    "rfc.fit(x_train, y_train)\n",
    "pred_rfc = rfc.predict(x_test)\n",
    "print(\"Accuracy Score of Random Forest model is\", accuracy_score(y_test, pred_rfc)*100)\n",
    "\n",
    "# For MultinomialNB\n",
    "nb = MultinomialNB() # making the Multinomial Naive Bayes class\n",
    "nb.fit(x_train, y_train) # fitting the model\n",
    "pred_nb = nb.predict(x_test) # predicting the values\n",
    "print(\"Accuracy Score of MultinomialNB model is\", accuracy_score(y_test, pred_nb)*100)\n",
    "\n",
    "# For ADA Boost Classifier\n",
    "ada= AdaBoostClassifier()\n",
    "ada.fit(x_train, y_train) # fitting the model\n",
    "pred_ada = ada.predict(x_test) # predicting the values\n",
    "print(\"Accuracy Score of ADA Boost model is\", accuracy_score(y_test, pred_ada)*100)"
   ]
  },
  {
   "cell_type": "markdown",
   "metadata": {
    "papermill": {
     "duration": 0.095308,
     "end_time": "2021-05-22T12:32:27.512871",
     "exception": false,
     "start_time": "2021-05-22T12:32:27.417563",
     "status": "completed"
    },
    "tags": []
   },
   "source": [
    "Best accuracy score is given by Random Forest Classifier model. In order to avoid the bias and overfitting or underfitting, we cross validate the models and check the mean accuracy score of them.\n",
    "## Cross Validation:\n",
    "Cross validating the m,odels to see if they are underfitting or overfitting and to prevent bias. We will compare the mean accuracy scores of the model."
   ]
  },
  {
   "cell_type": "code",
   "execution_count": 53,
   "metadata": {
    "_kg_hide-input": true,
    "execution": {
     "iopub.execute_input": "2021-05-22T12:32:27.715604Z",
     "iopub.status.busy": "2021-05-22T12:32:27.714808Z",
     "iopub.status.idle": "2021-05-22T12:42:47.388711Z",
     "shell.execute_reply": "2021-05-22T12:42:47.388122Z",
     "shell.execute_reply.started": "2021-05-22T11:43:43.797596Z"
    },
    "papermill": {
     "duration": 619.78021,
     "end_time": "2021-05-22T12:42:47.388865",
     "exception": false,
     "start_time": "2021-05-22T12:32:27.608655",
     "status": "completed"
    },
    "tags": []
   },
   "outputs": [
    {
     "name": "stdout",
     "output_type": "stream",
     "text": [
      "[0.74745562 0.78911243 0.79857988 0.80804734 0.81017751 0.81278107\n",
      " 0.82054924 0.8186553  0.82410038 0.81060606]\n",
      "Mean of accuracy scores is for Logistic Regression is 80.40064831002331\n",
      "\n",
      "[0.67029586 0.74130178 0.74579882 0.90414201 0.91810651 0.90982249\n",
      " 0.91548295 0.90932765 0.90980114 0.91098485]\n",
      "Mean of accuracy scores is for Decision Tree Classifier is 85.35064046530391\n",
      "\n",
      "[0.82721893 0.85112426 0.85633136 0.87100592 0.87266272 0.87857988\n",
      " 0.88494318 0.87571023 0.88517992 0.87689394]\n",
      "Mean of accuracy scores is for KNN Classifier is 86.79650349650349\n",
      "\n",
      "[0.78224852 0.82272189 0.82035503 0.8243787  0.82934911 0.8364497\n",
      " 0.84161932 0.83285985 0.83806818 0.8359375 ]\n",
      "Mean of accuracy scores is for SVC Classifier is 82.6398780706473\n",
      "\n",
      "[0.70911243 0.80331361 0.81467456 0.93680473 0.94674556 0.93609467\n",
      " 0.9547822  0.94389205 0.95004735 0.94389205]\n",
      "Mean of accuracy scores is for Random Forest Classifier is 89.39359198493813\n",
      "\n",
      "[0.63029586 0.58721893 0.60284024 0.66366864 0.65680473 0.66792899\n",
      " 0.65648674 0.65767045 0.65482955 0.66998106]\n",
      "Mean of accuracy scores is for MultinomialNB is 64.47725199480007\n",
      "\n",
      "[0.69183432 0.79739645 0.81278107 0.86059172 0.86295858 0.86461538\n",
      " 0.88091856 0.8671875  0.87286932 0.8577178 ]\n",
      "Mean of accuracy scores is for ADA Boost Classifier is 83.68870696611081\n",
      "\n"
     ]
    }
   ],
   "source": [
    "from sklearn.model_selection import cross_val_score\n",
    "\n",
    "lg_scores = cross_val_score(lg, x_new, y_new, cv = 10) # cross validating the model\n",
    "print(lg_scores) # accuracy scores of each cross validation cycle\n",
    "print(f\"Mean of accuracy scores is for Logistic Regression is {lg_scores.mean()*100}\\n\")\n",
    "\n",
    "dtc_scores = cross_val_score(dtc, x_new, y_new, cv = 10)\n",
    "print(dtc_scores)\n",
    "print(f\"Mean of accuracy scores is for Decision Tree Classifier is {dtc_scores.mean()*100}\\n\")\n",
    "\n",
    "knc_scores = cross_val_score(knc, x_new, y_new, cv = 10)\n",
    "print(knc_scores)\n",
    "print(f\"Mean of accuracy scores is for KNN Classifier is {knc_scores.mean()*100}\\n\")\n",
    "\n",
    "svc_scores = cross_val_score(svc, x_new, y_new, cv = 10)\n",
    "print(svc_scores)\n",
    "print(f\"Mean of accuracy scores is for SVC Classifier is {svc_scores.mean()*100}\\n\")\n",
    "\n",
    "rfc_scores = cross_val_score(rfc, x_new, y_new, cv = 10)\n",
    "print(rfc_scores)\n",
    "print(f\"Mean of accuracy scores is for Random Forest Classifier is {rfc_scores.mean()*100}\\n\")\n",
    "\n",
    "nb_scores = cross_val_score(nb, x_new, y_new, cv = 10)\n",
    "print(nb_scores)\n",
    "print(f\"Mean of accuracy scores is for MultinomialNB is {nb_scores.mean()*100}\\n\")\n",
    "\n",
    "ada_scores = cross_val_score(ada, x_new, y_new, cv = 10)\n",
    "print(ada_scores)\n",
    "print(f\"Mean of accuracy scores is for ADA Boost Classifier is {ada_scores.mean()*100}\\n\")"
   ]
  },
  {
   "cell_type": "code",
   "execution_count": 54,
   "metadata": {
    "_kg_hide-input": true,
    "execution": {
     "iopub.execute_input": "2021-05-22T12:42:47.594281Z",
     "iopub.status.busy": "2021-05-22T12:42:47.593497Z",
     "iopub.status.idle": "2021-05-22T12:42:47.609643Z",
     "shell.execute_reply": "2021-05-22T12:42:47.608883Z",
     "shell.execute_reply.started": "2021-05-22T11:59:56.168200Z"
    },
    "papermill": {
     "duration": 0.12282,
     "end_time": "2021-05-22T12:42:47.609856",
     "exception": false,
     "start_time": "2021-05-22T12:42:47.487036",
     "status": "completed"
    },
    "tags": []
   },
   "outputs": [
    {
     "name": "stdout",
     "output_type": "stream",
     "text": [
      "Logistic Regression 0.7812989836487674\n",
      "Decision Tree Classifier 1.1098297887595265\n",
      "KNeighbors Classifier -0.5569579702292202\n",
      "SVC 0.14377349949630513\n",
      "Random Forest Classifier 1.1934365774731077\n",
      "MultinomialNB 0.20635223433042427\n",
      "ADA Boost Classifier 1.2252901934283926\n"
     ]
    }
   ],
   "source": [
    "# Checking for difference between accuracy and mean accuracies.\n",
    "lis3 = ['Logistic Regression','Decision Tree Classifier','KNeighbors Classifier','SVC', 'Random Forest Classifier', \n",
    "        'MultinomialNB', 'ADA Boost Classifier']\n",
    "\n",
    "lis1 = [accuracy_score(y_test, pred_lg)*100, accuracy_score(y_test, pred_dtc)*100, accuracy_score(y_test, pred_knc)*100, \n",
    "        accuracy_score(y_test, pred_svc)*100, accuracy_score(y_test, pred_rfc)*100, accuracy_score(y_test, pred_nb)*100,\n",
    "        accuracy_score(y_test, pred_ada)*100]\n",
    "\n",
    "lis2 = [lg_scores.mean()*100, dtc_scores.mean()*100, knc_scores.mean()*100, svc_scores.mean()*100, rfc_scores.mean()*100, \n",
    "        nb_scores.mean()*100, ada_scores.mean()*100]\n",
    "\n",
    "for i in range(0, 7):\n",
    "    dif = (lis1[i]) - (lis2[i])\n",
    "    print(lis3[i], dif)"
   ]
  },
  {
   "cell_type": "markdown",
   "metadata": {
    "papermill": {
     "duration": 0.098634,
     "end_time": "2021-05-22T12:42:47.807472",
     "exception": false,
     "start_time": "2021-05-22T12:42:47.708838",
     "status": "completed"
    },
    "tags": []
   },
   "source": [
    "**Random forest classifier is the best model with highest cross validation mean score and accuracy score**. We will use it for the model building.\n",
    "## Hyperparameter Tuning:\n",
    "Tuning the parameters of the Random Forest in order to obtain the best possible parameters for model building."
   ]
  },
  {
   "cell_type": "code",
   "execution_count": 55,
   "metadata": {
    "_kg_hide-input": true,
    "execution": {
     "iopub.execute_input": "2021-05-22T12:42:48.017644Z",
     "iopub.status.busy": "2021-05-22T12:42:48.016585Z",
     "iopub.status.idle": "2021-05-22T12:54:44.040321Z",
     "shell.execute_reply": "2021-05-22T12:54:44.040849Z",
     "shell.execute_reply.started": "2021-05-22T12:00:46.048143Z"
    },
    "papermill": {
     "duration": 716.132052,
     "end_time": "2021-05-22T12:54:44.041069",
     "exception": false,
     "start_time": "2021-05-22T12:42:47.909017",
     "status": "completed"
    },
    "tags": []
   },
   "outputs": [
    {
     "name": "stdout",
     "output_type": "stream",
     "text": [
      "0.9065754586536448\n",
      "{'criterion': 'entropy', 'min_samples_split': 2, 'n_estimators': 200}\n"
     ]
    }
   ],
   "source": [
    "from sklearn.model_selection import GridSearchCV\n",
    "rfc = RandomForestClassifier()\n",
    "param = dict()\n",
    "param['criterion'] = ['gini', 'entropy']\n",
    "param['n_estimators'] = [1, 2, 4, 8, 10, 16, 32, 64, 100, 200]\n",
    "param['min_samples_split'] = [1,2,5,8,10,15,20,25,50,55,60,80,100]\n",
    "\n",
    "\n",
    "gs = GridSearchCV(estimator = rfc, param_grid = param, scoring='f1', cv = 5, n_jobs = 3)\n",
    "gs.fit(x_train, y_train)\n",
    "print(gs.best_score_)\n",
    "print(gs.best_params_)"
   ]
  },
  {
   "cell_type": "markdown",
   "metadata": {
    "papermill": {
     "duration": 0.118433,
     "end_time": "2021-05-22T12:54:44.314842",
     "exception": false,
     "start_time": "2021-05-22T12:54:44.196409",
     "status": "completed"
    },
    "tags": []
   },
   "source": [
    "After the hyperparameter tuning, **the best parameters for Random Forest Classifier are 'crietrion' = 'entropy', 'min_samples_split' = 2, 'n_estimators' = 100**. We build the model using these parameters."
   ]
  },
  {
   "cell_type": "code",
   "execution_count": 56,
   "metadata": {
    "execution": {
     "iopub.execute_input": "2021-05-22T12:54:44.521557Z",
     "iopub.status.busy": "2021-05-22T12:54:44.520564Z",
     "iopub.status.idle": "2021-05-22T12:54:50.211701Z",
     "shell.execute_reply": "2021-05-22T12:54:50.210881Z",
     "shell.execute_reply.started": "2021-05-22T12:24:51.545290Z"
    },
    "papermill": {
     "duration": 5.792616,
     "end_time": "2021-05-22T12:54:50.211852",
     "exception": false,
     "start_time": "2021-05-22T12:54:44.419236",
     "status": "completed"
    },
    "tags": []
   },
   "outputs": [
    {
     "name": "stdout",
     "output_type": "stream",
     "text": [
      "1.0\n"
     ]
    }
   ],
   "source": [
    "rfc = RandomForestClassifier(criterion = 'entropy', min_samples_split = 2, n_estimators = 100)\n",
    "rfc.fit(x_train, y_train)\n",
    "print(rfc.score(x_train, y_train))\n",
    "pred_rfc = rfc.predict(x_test)"
   ]
  },
  {
   "cell_type": "markdown",
   "metadata": {
    "papermill": {
     "duration": 0.099384,
     "end_time": "2021-05-22T12:54:50.410658",
     "exception": false,
     "start_time": "2021-05-22T12:54:50.311274",
     "status": "completed"
    },
    "tags": []
   },
   "source": [
    "![](https://kiarofoods.com/wp-content/uploads/2019/10/line_break.png)\n",
    "# Model Evaluation:\n",
    "We have build the model after the cross validation and hyper parameter tuning. It is now time to evaluate the model using the classification report, confusion matrix and ROC curve."
   ]
  },
  {
   "cell_type": "code",
   "execution_count": 57,
   "metadata": {
    "_kg_hide-input": true,
    "execution": {
     "iopub.execute_input": "2021-05-22T12:54:50.617109Z",
     "iopub.status.busy": "2021-05-22T12:54:50.616068Z",
     "iopub.status.idle": "2021-05-22T12:54:51.108082Z",
     "shell.execute_reply": "2021-05-22T12:54:51.107436Z",
     "shell.execute_reply.started": "2021-05-22T12:25:23.573098Z"
    },
    "papermill": {
     "duration": 0.598141,
     "end_time": "2021-05-22T12:54:51.108226",
     "exception": false,
     "start_time": "2021-05-22T12:54:50.510085",
     "status": "completed"
    },
    "tags": []
   },
   "outputs": [
    {
     "name": "stdout",
     "output_type": "stream",
     "text": [
      "Accuracy Score of RFC model is 90.69749092630582\n",
      "Confusion matrix for RFC Model is\n",
      "[[5696  638]\n",
      " [ 541 5799]]\n",
      "Classification Report of the RFC Model is\n",
      "              precision    recall  f1-score   support\n",
      "\n",
      "           0       0.91      0.90      0.91      6334\n",
      "           1       0.90      0.91      0.91      6340\n",
      "\n",
      "    accuracy                           0.91     12674\n",
      "   macro avg       0.91      0.91      0.91     12674\n",
      "weighted avg       0.91      0.91      0.91     12674\n",
      "\n"
     ]
    },
    {
     "data": {
      "image/png": "[encoded data removed]",
      "text/plain": [
       "<Figure size 640x480 with 1 Axes>"
      ]
     },
     "metadata": {},
     "output_type": "display_data"
    }
   ],
   "source": [
    "from sklearn.metrics import plot_roc_curve\n",
    "from sklearn.metrics import confusion_matrix, classification_report\n",
    "\n",
    "print(\"Accuracy Score of RFC model is\", accuracy_score(y_test, pred_rfc)*100)\n",
    "print(\"Confusion matrix for RFC Model is\")\n",
    "print(confusion_matrix(y_test, pred_rfc))\n",
    "print(\"Classification Report of the RFC Model is\")\n",
    "print(classification_report(y_test, pred_rfc))\n",
    "\n",
    "plot_roc_curve(rfc, x_test, y_test) # arg. are model name, feature testing data, label testing data.\n",
    "plt.title(\"Recevier's Operating Characteristic\")\n",
    "plt.xlabel(\"False Positive Rate\")\n",
    "plt.ylabel(\"True Positive Rate\")\n",
    "plt.show()"
   ]
  },
  {
   "cell_type": "markdown",
   "metadata": {
    "papermill": {
     "duration": 0.101577,
     "end_time": "2021-05-22T12:54:51.310273",
     "exception": false,
     "start_time": "2021-05-22T12:54:51.208696",
     "status": "completed"
    },
    "tags": []
   },
   "source": [
    "After the model evaluation , we get the **precision and recall for both the target variable as 0.92 and 0.91**. The **f1- score of the model is 0.92**. The ROC curve gave us **the AUC score which is 0.98**. Model evaluation gives the results that ***the prediction is very accurate.***\n",
    "![](https://miro.medium.com/max/2400/1*IH10jlQEJ7GW1_oq8s7WPw.png)\n",
    "# Serialisation:\n",
    "Now we save the Random Forest Classifier Model as an object using joblib."
   ]
  },
  {
   "cell_type": "code",
   "execution_count": 58,
   "metadata": {
    "execution": {
     "iopub.execute_input": "2021-05-22T12:54:51.522751Z",
     "iopub.status.busy": "2021-05-22T12:54:51.521599Z",
     "iopub.status.idle": "2021-05-22T12:54:51.629887Z",
     "shell.execute_reply": "2021-05-22T12:54:51.629272Z",
     "shell.execute_reply.started": "2021-05-22T12:27:09.000988Z"
    },
    "papermill": {
     "duration": 0.217902,
     "end_time": "2021-05-22T12:54:51.630062",
     "exception": false,
     "start_time": "2021-05-22T12:54:51.412160",
     "status": "completed"
    },
    "tags": []
   },
   "outputs": [
    {
     "data": {
      "text/plain": [
       "['Census Income Prediction.obj']"
      ]
     },
     "execution_count": 58,
     "metadata": {},
     "output_type": "execute_result"
    }
   ],
   "source": [
    "import joblib\n",
    "joblib.dump(rfc, 'Census Income Prediction.obj') # saving the model as an object"
   ]
  },
  {
   "cell_type": "markdown",
   "metadata": {
    "papermill": {
     "duration": 0.101546,
     "end_time": "2021-05-22T12:54:51.835095",
     "exception": false,
     "start_time": "2021-05-22T12:54:51.733549",
     "status": "completed"
    },
    "tags": []
   },
   "source": [
    "## Fairness"
   ]
  },
  {
   "cell_type": "code",
   "execution_count": 50,
   "metadata": {},
   "outputs": [],
   "source": [
    "# This DataFrame is created to stock differents models and fair metrics that we produce in this notebook\n",
    "algo_metrics = pd.DataFrame(columns=['model', 'fair_metrics', 'prediction', 'probs'])\n",
    "\n",
    "def add_to_df_algo_metrics(algo_metrics, model, fair_metrics, preds, probs, name):\n",
    "    return algo_metrics.append(pd.DataFrame(data=[[model, fair_metrics, preds, probs]], columns=['model', 'fair_metrics', 'prediction', 'probs'], index=[name]))"
   ]
  },
  {
   "cell_type": "code",
   "execution_count": 51,
   "metadata": {},
   "outputs": [],
   "source": [
    "def fair_metrics(dataset, pred, pred_is_dataset=False):\n",
    "    if pred_is_dataset:\n",
    "        dataset_pred = pred\n",
    "    else:\n",
    "        dataset_pred = dataset.copy()\n",
    "        dataset_pred.labels = pred\n",
    "    \n",
    "    cols = ['statistical_parity_difference', 'equal_opportunity_difference', 'average_abs_odds_difference',  'disparate_impact', 'theil_index']\n",
    "    obj_fairness = [[0,0,0,1,0]]\n",
    "    \n",
    "    fair_metrics = pd.DataFrame(data=obj_fairness, index=['objective'], columns=cols)\n",
    "    \n",
    "    for attr in dataset_pred.protected_attribute_names:\n",
    "        idx = dataset_pred.protected_attribute_names.index(attr)\n",
    "        privileged_groups =  [{attr:dataset_pred.privileged_protected_attributes[idx][0]}] \n",
    "        unprivileged_groups = [{attr:dataset_pred.unprivileged_protected_attributes[idx][0]}] \n",
    "        \n",
    "        classified_metric = ClassificationMetric(dataset, \n",
    "                                                     dataset_pred,\n",
    "                                                     unprivileged_groups=unprivileged_groups,\n",
    "                                                     privileged_groups=privileged_groups)\n",
    "\n",
    "        metric_pred = BinaryLabelDatasetMetric(dataset_pred,\n",
    "                                                     unprivileged_groups=unprivileged_groups,\n",
    "                                                     privileged_groups=privileged_groups)\n",
    "\n",
    "        acc = classified_metric.accuracy()\n",
    "\n",
    "        row = pd.DataFrame([[metric_pred.mean_difference(),\n",
    "                                classified_metric.equal_opportunity_difference(),\n",
    "                                classified_metric.average_abs_odds_difference(),\n",
    "                                metric_pred.disparate_impact(),\n",
    "                                classified_metric.theil_index()]],\n",
    "                           columns  = cols,\n",
    "                           index = [attr]\n",
    "                          )\n",
    "        fair_metrics = fair_metrics.append(row)    \n",
    "    \n",
    "    fair_metrics = fair_metrics.replace([-np.inf, np.inf], 2)\n",
    "        \n",
    "    return fair_metrics\n",
    "\n",
    "def plot_fair_metrics(fair_metrics):\n",
    "    fig, ax = plt.subplots(figsize=(20,4), ncols=5, nrows=1)\n",
    "\n",
    "    plt.subplots_adjust(\n",
    "        left    =  0.125, \n",
    "        bottom  =  0.1, \n",
    "        right   =  0.9, \n",
    "        top     =  0.9, \n",
    "        wspace  =  .5, \n",
    "        hspace  =  1.1\n",
    "    )\n",
    "\n",
    "    y_title_margin = 1.2\n",
    "\n",
    "    plt.suptitle(\"Fairness metrics\", y = 1.09, fontsize=20)\n",
    "    sns.set(style=\"dark\")\n",
    "\n",
    "    cols = fair_metrics.columns.values\n",
    "    obj = fair_metrics.loc['objective']\n",
    "    size_rect = [0.2,0.2,0.2,0.4,0.25]\n",
    "    rect = [-0.1,-0.1,-0.1,0.8,0]\n",
    "    bottom = [-1,-1,-1,0,0]\n",
    "    top = [1,1,1,2,1]\n",
    "    bound = [[-0.1,0.1],[-0.1,0.1],[-0.1,0.1],[0.8,1.2],[0,0.25]]\n",
    "\n",
    "    display(Markdown(\"### Check bias metrics :\"))\n",
    "    display(Markdown(\"A model can be considered bias if just one of these five metrics show that this model is biased.\"))\n",
    "    for attr in fair_metrics.index[1:len(fair_metrics)].values:\n",
    "        display(Markdown(\"#### For the %s attribute :\"%attr))\n",
    "        check = [bound[i][0] < fair_metrics.loc[attr][i] < bound[i][1] for i in range(0,5)]\n",
    "        display(Markdown(\"With default thresholds, bias against unprivileged group detected in **%d** out of 5 metrics\"%(5 - sum(check))))\n",
    "\n",
    "    for i in range(0,5):\n",
    "        plt.subplot(1, 5, i+1)\n",
    "        ax = sns.barplot(x=fair_metrics.index[1:len(fair_metrics)], y=fair_metrics.iloc[1:len(fair_metrics)][cols[i]])\n",
    "        \n",
    "        for j in range(0,len(fair_metrics)-1):\n",
    "            a, val = ax.patches[j], fair_metrics.iloc[j+1][cols[i]]\n",
    "            marg = -0.2 if val < 0 else 0.1\n",
    "            ax.text(a.get_x()+a.get_width()/5, a.get_y()+a.get_height()+marg, round(val, 3), fontsize=15,color='black')\n",
    "\n",
    "        plt.ylim(bottom[i], top[i])\n",
    "        plt.setp(ax.patches, linewidth=0)\n",
    "        ax.add_patch(patches.Rectangle((-5,rect[i]), 10, size_rect[i], alpha=0.3, facecolor=\"green\", linewidth=1, linestyle='solid'))\n",
    "        plt.axhline(obj[i], color='black', alpha=0.3)\n",
    "        plt.title(cols[i])\n",
    "        ax.set_ylabel('')    \n",
    "        ax.set_xlabel('')"
   ]
  },
  {
   "cell_type": "code",
   "execution_count": 52,
   "metadata": {},
   "outputs": [],
   "source": [
    "def get_fair_metrics_and_plot(data, model, plot=False, model_aif=False):\n",
    "    pred = model.predict(data).labels if model_aif else model.predict(data.features)\n",
    "    # fair_metrics function available in the metrics.py file\n",
    "    fair = fair_metrics(data, pred)\n",
    "\n",
    "    if plot:\n",
    "        # plot_fair_metrics function available in the visualisations.py file\n",
    "        # The visualisation of this function is inspired by the dashboard on the demo of IBM aif360 \n",
    "        plot_fair_metrics(fair)\n",
    "        display(fair)\n",
    "    \n",
    "    return fair"
   ]
  },
  {
   "cell_type": "code",
   "execution_count": 53,
   "metadata": {},
   "outputs": [
    {
     "data": {
      "text/html": [
       "<div>\n",
       "<style scoped>\n",
       "    .dataframe tbody tr th:only-of-type {\n",
       "        vertical-align: middle;\n",
       "    }\n",
       "\n",
       "    .dataframe tbody tr th {\n",
       "        vertical-align: top;\n",
       "    }\n",
       "\n",
       "    .dataframe thead th {\n",
       "        text-align: right;\n",
       "    }\n",
       "</style>\n",
       "<table border=\"1\" class=\"dataframe\">\n",
       "  <thead>\n",
       "    <tr style=\"text-align: right;\">\n",
       "      <th></th>\n",
       "      <th>age</th>\n",
       "      <th>fnlwgt</th>\n",
       "      <th>education.num</th>\n",
       "      <th>capital.gain</th>\n",
       "      <th>capital.loss</th>\n",
       "      <th>hours.per.week</th>\n",
       "      <th>workclass_enc</th>\n",
       "      <th>occupation_enc</th>\n",
       "      <th>country_enc</th>\n",
       "      <th>sex_enc</th>\n",
       "      <th>marital_status_enc</th>\n",
       "      <th>race_enc</th>\n",
       "      <th>relationship_enc</th>\n",
       "      <th>income</th>\n",
       "    </tr>\n",
       "  </thead>\n",
       "  <tbody>\n",
       "    <tr>\n",
       "      <th>0</th>\n",
       "      <td>0.616438</td>\n",
       "      <td>0.296903</td>\n",
       "      <td>0.769231</td>\n",
       "      <td>0.0</td>\n",
       "      <td>1.00000</td>\n",
       "      <td>0.464789</td>\n",
       "      <td>0.064279</td>\n",
       "      <td>0.122729</td>\n",
       "      <td>1</td>\n",
       "      <td>0</td>\n",
       "      <td>0.466795</td>\n",
       "      <td>0.856208</td>\n",
       "      <td>0.046715</td>\n",
       "      <td>0</td>\n",
       "    </tr>\n",
       "    <tr>\n",
       "      <th>1</th>\n",
       "      <td>0.753425</td>\n",
       "      <td>0.265630</td>\n",
       "      <td>1.000000</td>\n",
       "      <td>0.0</td>\n",
       "      <td>1.00000</td>\n",
       "      <td>0.492958</td>\n",
       "      <td>0.064279</td>\n",
       "      <td>0.132365</td>\n",
       "      <td>1</td>\n",
       "      <td>1</td>\n",
       "      <td>0.466795</td>\n",
       "      <td>0.856208</td>\n",
       "      <td>0.413569</td>\n",
       "      <td>0</td>\n",
       "    </tr>\n",
       "    <tr>\n",
       "      <th>2</th>\n",
       "      <td>0.671233</td>\n",
       "      <td>0.684115</td>\n",
       "      <td>0.538462</td>\n",
       "      <td>0.0</td>\n",
       "      <td>1.00000</td>\n",
       "      <td>0.211268</td>\n",
       "      <td>0.697030</td>\n",
       "      <td>0.051989</td>\n",
       "      <td>1</td>\n",
       "      <td>1</td>\n",
       "      <td>0.466795</td>\n",
       "      <td>0.856208</td>\n",
       "      <td>0.413569</td>\n",
       "      <td>0</td>\n",
       "    </tr>\n",
       "    <tr>\n",
       "      <th>3</th>\n",
       "      <td>0.219178</td>\n",
       "      <td>0.504404</td>\n",
       "      <td>0.461538</td>\n",
       "      <td>0.0</td>\n",
       "      <td>0.90461</td>\n",
       "      <td>0.492958</td>\n",
       "      <td>0.064279</td>\n",
       "      <td>0.122729</td>\n",
       "      <td>1</td>\n",
       "      <td>0</td>\n",
       "      <td>0.138616</td>\n",
       "      <td>0.856208</td>\n",
       "      <td>0.147308</td>\n",
       "      <td>0</td>\n",
       "    </tr>\n",
       "    <tr>\n",
       "      <th>4</th>\n",
       "      <td>0.164384</td>\n",
       "      <td>0.252780</td>\n",
       "      <td>0.461538</td>\n",
       "      <td>0.0</td>\n",
       "      <td>0.90461</td>\n",
       "      <td>0.492958</td>\n",
       "      <td>0.697030</td>\n",
       "      <td>0.118823</td>\n",
       "      <td>1</td>\n",
       "      <td>0</td>\n",
       "      <td>0.322677</td>\n",
       "      <td>0.094700</td>\n",
       "      <td>0.106485</td>\n",
       "      <td>0</td>\n",
       "    </tr>\n",
       "  </tbody>\n",
       "</table>\n",
       "</div>"
      ],
      "text/plain": [
       "        age    fnlwgt  education.num  capital.gain  capital.loss  \\\n",
       "0  0.616438  0.296903       0.769231           0.0       1.00000   \n",
       "1  0.753425  0.265630       1.000000           0.0       1.00000   \n",
       "2  0.671233  0.684115       0.538462           0.0       1.00000   \n",
       "3  0.219178  0.504404       0.461538           0.0       0.90461   \n",
       "4  0.164384  0.252780       0.461538           0.0       0.90461   \n",
       "\n",
       "   hours.per.week  workclass_enc  occupation_enc  country_enc  sex_enc  \\\n",
       "0        0.464789       0.064279        0.122729            1        0   \n",
       "1        0.492958       0.064279        0.132365            1        1   \n",
       "2        0.211268       0.697030        0.051989            1        1   \n",
       "3        0.492958       0.064279        0.122729            1        0   \n",
       "4        0.492958       0.697030        0.118823            1        0   \n",
       "\n",
       "   marital_status_enc  race_enc  relationship_enc  income  \n",
       "0            0.466795  0.856208          0.046715       0  \n",
       "1            0.466795  0.856208          0.413569       0  \n",
       "2            0.466795  0.856208          0.413569       0  \n",
       "3            0.138616  0.856208          0.147308       0  \n",
       "4            0.322677  0.094700          0.106485       0  "
      ]
     },
     "execution_count": 53,
     "metadata": {},
     "output_type": "execute_result"
    }
   ],
   "source": [
    "##train['Sex'] = train['Sex'].map( {'female': 1, 'male': 0} ).astype(int)\n",
    "x_new['income'] = y_new\n",
    "x_new.head()\n",
    "#features = [\"Pclass\", \"Sex\", \"SibSp\", \"Parch\", \"Survived\"]\n",
    "#X = pd.get_dummies(train_data[features])"
   ]
  },
  {
   "cell_type": "code",
   "execution_count": 54,
   "metadata": {},
   "outputs": [],
   "source": [
    "privileged_groups = [{'sex_enc': 1}]\n",
    "unprivileged_groups = [{'sex_enc': 0}]\n",
    "dataset_orig = StandardDataset(x_new,\n",
    "                                  label_name='income',\n",
    "                                  protected_attribute_names=['sex_enc'],\n",
    "                                  favorable_classes=[1],\n",
    "                                  privileged_classes=[[1]])"
   ]
  },
  {
   "cell_type": "code",
   "execution_count": 55,
   "metadata": {},
   "outputs": [],
   "source": [
    "import ipynbname\n",
    "nb_fname = ipynbname.name()\n",
    "nb_path = ipynbname.path()\n",
    "\n",
    "from sklearn.ensemble import AdaBoostClassifier\n",
    "import pickle\n",
    "\n",
    "data_orig_train, data_orig_test = dataset_orig.split([0.7], shuffle=True)\n",
    "X_train = data_orig_train.features\n",
    "y_train = data_orig_train.labels.ravel()\n",
    "\n",
    "X_test = data_orig_test.features\n",
    "y_test = data_orig_test.labels.ravel()\n",
    "num_estimators = 100\n",
    "\n",
    "model = AdaBoostClassifier(n_estimators = 1)\n",
    "\n",
    "mdl = model.fit(X_train, y_train)\n",
    "with open('../../Results/AdaBoost/' + nb_fname + '.pkl', 'wb') as f:\n",
    "        pickle.dump(mdl, f)\n",
    "\n",
    "with open('../../Results/AdaBoost/' + nb_fname + '_Train' + '.pkl', 'wb') as f:\n",
    "    pickle.dump(data_orig_train, f) \n",
    "    \n",
    "with open('../../Results/AdaBoost/' + nb_fname + '_Test' + '.pkl', 'wb') as f:\n",
    "    pickle.dump(data_orig_test, f) "
   ]
  },
  {
   "cell_type": "code",
   "execution_count": 56,
   "metadata": {},
   "outputs": [],
   "source": [
    "from csv import writer\n",
    "from sklearn.metrics import accuracy_score, f1_score\n",
    "\n",
    "final_metrics = []\n",
    "accuracy = []\n",
    "f1= []\n",
    "\n",
    "for i in range(1,num_estimators+1):\n",
    "    \n",
    "    model = AdaBoostClassifier(n_estimators= i)\n",
    "    \n",
    "    mdl = model.fit(X_train, y_train)\n",
    "    yy = mdl.predict(X_test)\n",
    "    accuracy.append(accuracy_score(y_test, yy))\n",
    "    f1.append(f1_score(y_test, yy))\n",
    "    fair = get_fair_metrics_and_plot(data_orig_test, mdl)                           \n",
    "    fair_list = fair.iloc[1].tolist()\n",
    "    #fair_list.insert(0, i)\n",
    "    final_metrics.append(fair_list)\n"
   ]
  },
  {
   "cell_type": "code",
   "execution_count": 57,
   "metadata": {},
   "outputs": [
    {
     "name": "stdout",
     "output_type": "stream",
     "text": [
      "           0         1         2         3         4\n",
      "0  -0.489667 -0.274678  0.333797  0.326917  0.114503\n",
      "1  -0.489667 -0.274678  0.333797  0.326917  0.114503\n",
      "2  -0.476012 -0.207990  0.300087  0.356299  0.098364\n",
      "3  -0.463112 -0.223016  0.285508  0.343126  0.103231\n",
      "4  -0.328021 -0.173282  0.167031  0.363957  0.178846\n",
      "..       ...       ...       ...       ...       ...\n",
      "95 -0.382102 -0.147623  0.170351  0.382188  0.090602\n",
      "96 -0.385429 -0.152675  0.173799  0.378979  0.089444\n",
      "97 -0.379574 -0.143573  0.166849  0.384339  0.090467\n",
      "98 -0.383776 -0.152230  0.172284  0.379699  0.089998\n",
      "99 -0.380557 -0.146509  0.168575  0.382854  0.090855\n",
      "\n",
      "[100 rows x 5 columns]\n"
     ]
    },
    {
     "data": {
      "text/html": [
       "<div>\n",
       "<style scoped>\n",
       "    .dataframe tbody tr th:only-of-type {\n",
       "        vertical-align: middle;\n",
       "    }\n",
       "\n",
       "    .dataframe tbody tr th {\n",
       "        vertical-align: top;\n",
       "    }\n",
       "\n",
       "    .dataframe thead th {\n",
       "        text-align: right;\n",
       "    }\n",
       "</style>\n",
       "<table border=\"1\" class=\"dataframe\">\n",
       "  <thead>\n",
       "    <tr style=\"text-align: right;\">\n",
       "      <th></th>\n",
       "      <th>classifier</th>\n",
       "      <th>T0</th>\n",
       "      <th>T1</th>\n",
       "      <th>T2</th>\n",
       "      <th>T3</th>\n",
       "      <th>T4</th>\n",
       "      <th>T5</th>\n",
       "      <th>T6</th>\n",
       "      <th>T7</th>\n",
       "      <th>T8</th>\n",
       "      <th>...</th>\n",
       "      <th>T90</th>\n",
       "      <th>T91</th>\n",
       "      <th>T92</th>\n",
       "      <th>T93</th>\n",
       "      <th>T94</th>\n",
       "      <th>T95</th>\n",
       "      <th>T96</th>\n",
       "      <th>T97</th>\n",
       "      <th>T98</th>\n",
       "      <th>T99</th>\n",
       "    </tr>\n",
       "  </thead>\n",
       "  <tbody>\n",
       "    <tr>\n",
       "      <th>accuracy</th>\n",
       "      <td>0.861107</td>\n",
       "      <td>0.770929</td>\n",
       "      <td>0.770929</td>\n",
       "      <td>0.785039</td>\n",
       "      <td>0.799622</td>\n",
       "      <td>0.789374</td>\n",
       "      <td>0.827053</td>\n",
       "      <td>0.829261</td>\n",
       "      <td>0.820905</td>\n",
       "      <td>0.825792</td>\n",
       "      <td>...</td>\n",
       "      <td>0.859924</td>\n",
       "      <td>0.859924</td>\n",
       "      <td>0.860318</td>\n",
       "      <td>0.861343</td>\n",
       "      <td>0.861659</td>\n",
       "      <td>0.860634</td>\n",
       "      <td>0.861580</td>\n",
       "      <td>0.861580</td>\n",
       "      <td>0.861659</td>\n",
       "      <td>0.861107</td>\n",
       "    </tr>\n",
       "    <tr>\n",
       "      <th>f1</th>\n",
       "      <td>0.863029</td>\n",
       "      <td>0.790875</td>\n",
       "      <td>0.790875</td>\n",
       "      <td>0.806527</td>\n",
       "      <td>0.814480</td>\n",
       "      <td>0.772866</td>\n",
       "      <td>0.839338</td>\n",
       "      <td>0.839031</td>\n",
       "      <td>0.819108</td>\n",
       "      <td>0.830235</td>\n",
       "      <td>...</td>\n",
       "      <td>0.862301</td>\n",
       "      <td>0.862195</td>\n",
       "      <td>0.862614</td>\n",
       "      <td>0.863760</td>\n",
       "      <td>0.863710</td>\n",
       "      <td>0.862754</td>\n",
       "      <td>0.863855</td>\n",
       "      <td>0.863516</td>\n",
       "      <td>0.863732</td>\n",
       "      <td>0.863029</td>\n",
       "    </tr>\n",
       "    <tr>\n",
       "      <th>statistical_parity_difference</th>\n",
       "      <td>-0.380557</td>\n",
       "      <td>-0.489667</td>\n",
       "      <td>-0.489667</td>\n",
       "      <td>-0.476012</td>\n",
       "      <td>-0.463112</td>\n",
       "      <td>-0.328021</td>\n",
       "      <td>-0.412997</td>\n",
       "      <td>-0.424547</td>\n",
       "      <td>-0.385264</td>\n",
       "      <td>-0.381616</td>\n",
       "      <td>...</td>\n",
       "      <td>-0.385786</td>\n",
       "      <td>-0.381909</td>\n",
       "      <td>-0.385429</td>\n",
       "      <td>-0.387233</td>\n",
       "      <td>-0.383160</td>\n",
       "      <td>-0.382102</td>\n",
       "      <td>-0.385429</td>\n",
       "      <td>-0.379574</td>\n",
       "      <td>-0.383776</td>\n",
       "      <td>-0.380557</td>\n",
       "    </tr>\n",
       "    <tr>\n",
       "      <th>equal_opportunity_difference</th>\n",
       "      <td>-0.146509</td>\n",
       "      <td>-0.274678</td>\n",
       "      <td>-0.274678</td>\n",
       "      <td>-0.207990</td>\n",
       "      <td>-0.223016</td>\n",
       "      <td>-0.173282</td>\n",
       "      <td>-0.135784</td>\n",
       "      <td>-0.184808</td>\n",
       "      <td>-0.210735</td>\n",
       "      <td>-0.152325</td>\n",
       "      <td>...</td>\n",
       "      <td>-0.150149</td>\n",
       "      <td>-0.146768</td>\n",
       "      <td>-0.151190</td>\n",
       "      <td>-0.153603</td>\n",
       "      <td>-0.150818</td>\n",
       "      <td>-0.147623</td>\n",
       "      <td>-0.152675</td>\n",
       "      <td>-0.143573</td>\n",
       "      <td>-0.152230</td>\n",
       "      <td>-0.146509</td>\n",
       "    </tr>\n",
       "    <tr>\n",
       "      <th>average_abs_odds_difference</th>\n",
       "      <td>0.168575</td>\n",
       "      <td>0.333797</td>\n",
       "      <td>0.333797</td>\n",
       "      <td>0.300087</td>\n",
       "      <td>0.285508</td>\n",
       "      <td>0.167031</td>\n",
       "      <td>0.210132</td>\n",
       "      <td>0.229861</td>\n",
       "      <td>0.207366</td>\n",
       "      <td>0.188492</td>\n",
       "      <td>...</td>\n",
       "      <td>0.174345</td>\n",
       "      <td>0.170350</td>\n",
       "      <td>0.174090</td>\n",
       "      <td>0.175629</td>\n",
       "      <td>0.171449</td>\n",
       "      <td>0.170351</td>\n",
       "      <td>0.173799</td>\n",
       "      <td>0.166849</td>\n",
       "      <td>0.172284</td>\n",
       "      <td>0.168575</td>\n",
       "    </tr>\n",
       "    <tr>\n",
       "      <th>disparate_impact</th>\n",
       "      <td>-0.960102</td>\n",
       "      <td>-1.118050</td>\n",
       "      <td>-1.118050</td>\n",
       "      <td>-1.031986</td>\n",
       "      <td>-1.069658</td>\n",
       "      <td>-1.010719</td>\n",
       "      <td>-0.917348</td>\n",
       "      <td>-0.990932</td>\n",
       "      <td>-1.045965</td>\n",
       "      <td>-0.933028</td>\n",
       "      <td>...</td>\n",
       "      <td>-0.970081</td>\n",
       "      <td>-0.958494</td>\n",
       "      <td>-0.970275</td>\n",
       "      <td>-0.973950</td>\n",
       "      <td>-0.966613</td>\n",
       "      <td>-0.961843</td>\n",
       "      <td>-0.970275</td>\n",
       "      <td>-0.956230</td>\n",
       "      <td>-0.968377</td>\n",
       "      <td>-0.960102</td>\n",
       "    </tr>\n",
       "    <tr>\n",
       "      <th>theil_index</th>\n",
       "      <td>0.090855</td>\n",
       "      <td>0.114503</td>\n",
       "      <td>0.114503</td>\n",
       "      <td>0.098364</td>\n",
       "      <td>0.103231</td>\n",
       "      <td>0.178846</td>\n",
       "      <td>0.087191</td>\n",
       "      <td>0.092586</td>\n",
       "      <td>0.128684</td>\n",
       "      <td>0.109787</td>\n",
       "      <td>...</td>\n",
       "      <td>0.090349</td>\n",
       "      <td>0.090670</td>\n",
       "      <td>0.090305</td>\n",
       "      <td>0.089190</td>\n",
       "      <td>0.090062</td>\n",
       "      <td>0.090602</td>\n",
       "      <td>0.089444</td>\n",
       "      <td>0.090467</td>\n",
       "      <td>0.089998</td>\n",
       "      <td>0.090855</td>\n",
       "    </tr>\n",
       "  </tbody>\n",
       "</table>\n",
       "<p>7 rows × 101 columns</p>\n",
       "</div>"
      ],
      "text/plain": [
       "                               classifier        T0        T1        T2  \\\n",
       "accuracy                         0.861107  0.770929  0.770929  0.785039   \n",
       "f1                               0.863029  0.790875  0.790875  0.806527   \n",
       "statistical_parity_difference   -0.380557 -0.489667 -0.489667 -0.476012   \n",
       "equal_opportunity_difference    -0.146509 -0.274678 -0.274678 -0.207990   \n",
       "average_abs_odds_difference      0.168575  0.333797  0.333797  0.300087   \n",
       "disparate_impact                -0.960102 -1.118050 -1.118050 -1.031986   \n",
       "theil_index                      0.090855  0.114503  0.114503  0.098364   \n",
       "\n",
       "                                     T3        T4        T5        T6  \\\n",
       "accuracy                       0.799622  0.789374  0.827053  0.829261   \n",
       "f1                             0.814480  0.772866  0.839338  0.839031   \n",
       "statistical_parity_difference -0.463112 -0.328021 -0.412997 -0.424547   \n",
       "equal_opportunity_difference  -0.223016 -0.173282 -0.135784 -0.184808   \n",
       "average_abs_odds_difference    0.285508  0.167031  0.210132  0.229861   \n",
       "disparate_impact              -1.069658 -1.010719 -0.917348 -0.990932   \n",
       "theil_index                    0.103231  0.178846  0.087191  0.092586   \n",
       "\n",
       "                                     T7        T8  ...       T90       T91  \\\n",
       "accuracy                       0.820905  0.825792  ...  0.859924  0.859924   \n",
       "f1                             0.819108  0.830235  ...  0.862301  0.862195   \n",
       "statistical_parity_difference -0.385264 -0.381616  ... -0.385786 -0.381909   \n",
       "equal_opportunity_difference  -0.210735 -0.152325  ... -0.150149 -0.146768   \n",
       "average_abs_odds_difference    0.207366  0.188492  ...  0.174345  0.170350   \n",
       "disparate_impact              -1.045965 -0.933028  ... -0.970081 -0.958494   \n",
       "theil_index                    0.128684  0.109787  ...  0.090349  0.090670   \n",
       "\n",
       "                                    T92       T93       T94       T95  \\\n",
       "accuracy                       0.860318  0.861343  0.861659  0.860634   \n",
       "f1                             0.862614  0.863760  0.863710  0.862754   \n",
       "statistical_parity_difference -0.385429 -0.387233 -0.383160 -0.382102   \n",
       "equal_opportunity_difference  -0.151190 -0.153603 -0.150818 -0.147623   \n",
       "average_abs_odds_difference    0.174090  0.175629  0.171449  0.170351   \n",
       "disparate_impact              -0.970275 -0.973950 -0.966613 -0.961843   \n",
       "theil_index                    0.090305  0.089190  0.090062  0.090602   \n",
       "\n",
       "                                    T96       T97       T98       T99  \n",
       "accuracy                       0.861580  0.861580  0.861659  0.861107  \n",
       "f1                             0.863855  0.863516  0.863732  0.863029  \n",
       "statistical_parity_difference -0.385429 -0.379574 -0.383776 -0.380557  \n",
       "equal_opportunity_difference  -0.152675 -0.143573 -0.152230 -0.146509  \n",
       "average_abs_odds_difference    0.173799  0.166849  0.172284  0.168575  \n",
       "disparate_impact              -0.970275 -0.956230 -0.968377 -0.960102  \n",
       "theil_index                    0.089444  0.090467  0.089998  0.090855  \n",
       "\n",
       "[7 rows x 101 columns]"
      ]
     },
     "execution_count": 57,
     "metadata": {},
     "output_type": "execute_result"
    }
   ],
   "source": [
    "import numpy as np\n",
    "final_result = pd.DataFrame(final_metrics)\n",
    "print(final_result)\n",
    "final_result[3] = np.log(final_result[3])\n",
    "final_result = final_result.transpose()\n",
    "acc_f1 = pd.DataFrame(accuracy)\n",
    "acc_f1['f1'] = f1\n",
    "acc_f1 = pd.DataFrame(acc_f1).transpose()\n",
    "acc = acc_f1.rename(index={0: 'accuracy', 1: 'f1'})\n",
    "final_result = final_result.rename(index={0: 'statistical_parity_difference', 1: 'equal_opportunity_difference', 2: 'average_abs_odds_difference', 3: 'disparate_impact', 4: 'theil_index'})\n",
    "final_result = pd.concat([acc,final_result])\n",
    "final_result.columns = ['T' + str(col) for col in final_result.columns]\n",
    "final_result.insert(0, \"classifier\", final_result['T' + str(num_estimators - 1)])   ##Add final metrics add the beginning of the df\n",
    "final_result.to_csv('../../Results/AdaBoost/' + nb_fname + '.csv')\n",
    "final_result"
   ]
  },
  {
   "cell_type": "code",
   "execution_count": null,
   "metadata": {},
   "outputs": [],
   "source": []
  }
 ],
 "metadata": {
  "kernelspec": {
   "display_name": "Python 3",
   "language": "python",
   "name": "python3"
  },
  "language_info": {
   "codemirror_mode": {
    "name": "ipython",
    "version": 3
   },
   "file_extension": ".py",
   "mimetype": "text/x-python",
   "name": "python",
   "nbconvert_exporter": "python",
   "pygments_lexer": "ipython3",
   "version": "3.8.5"
  },
  "papermill": {
   "default_parameters": {},
   "duration": 1493.075966,
   "end_time": "2021-05-22T12:54:52.947554",
   "environment_variables": {},
   "exception": null,
   "input_path": "__notebook__.ipynb",
   "output_path": "__notebook__.ipynb",
   "parameters": {},
   "start_time": "2021-05-22T12:29:59.871588",
   "version": "2.3.2"
  }
 },
 "nbformat": 4,
 "nbformat_minor": 5
}
