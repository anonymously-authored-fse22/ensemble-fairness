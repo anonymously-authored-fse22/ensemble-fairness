{
 "cells": [
  {
   "cell_type": "markdown",
   "metadata": {
    "_uuid": "8803064b45bd6704aacec900708c6a5a02058cf8"
   },
   "source": [
    "# **ADULT CENSUS INCOME PREDICTION**"
   ]
  },
  {
   "cell_type": "markdown",
   "metadata": {
    "_uuid": "e327a910c2e711ec960fd7ff41d4dc344f1449c8"
   },
   "source": [
    "In this Notebook ,I am going to show my work on the Adult Census Income dataset and how boosting can help increase our accuracy(even by small amount) ,especially using the XGBoost algorithm.\n",
    "\n",
    "I am a beginner ,so please keep in mind that I may have not gone into greater depths of analysis and model tuning.I would greatly appreciate any suggestions so as to improve my model."
   ]
  },
  {
   "cell_type": "markdown",
   "metadata": {
    "_uuid": "f7186c412fdb35417c35ce6913bdd7043265f884"
   },
   "source": [
    "## Overview"
   ]
  },
  {
   "cell_type": "markdown",
   "metadata": {
    "_uuid": "e4090376c50a3a3fb21ecf86c096a85f1d4d29bd"
   },
   "source": [
    "*Prediction task is to determine whether a person makes over 50K or less in a year.*\n",
    " \n",
    " **Attributes**:\n",
    "\n",
    "  *income*: >50K, <=50K\n",
    "\n",
    "  *age*: continuous\n",
    "\n",
    "  *workclass*: Private, Self-emp-not-inc, Self-emp-inc, Federal-gov, Local-gov,\n",
    "  State-gov, Without-pay, Never-worked\n",
    "\n",
    "  *fnlwgt*: continuous\n",
    "\n",
    "  *education*: Bachelors, Some-college, 11th, HS-grad, Prof-school, \n",
    "  Assoc-acdm, Assoc-voc, 9th, 7th-8th, 12th, Masters, 1st-4th, 10th, \n",
    "  Doctorate, 5th-6th, Preschool\n",
    "  education-num: continuous\n",
    "  \n",
    "  *marital-status*: Married-civ-spouse, Divorced, Never-married, Separated, \n",
    "  Widowed, Married-spouse-absent, Married-AF-spouse\n",
    "\n",
    "  *occupation*: Tech-support, Craft-repair, Other-service, Sales, \n",
    "  Exec-managerial, Prof-specialty, Handlers-cleaners, Machine-op-inspct,\n",
    "  Adm-clerical, Farming-fishing, Transport-moving, Priv-house-serv, \n",
    "  Protective-serv, Armed-Forces\n",
    "\n",
    "  *relationship*: Wife, Own-child, Husband, Not-in-family, Other-relative, \n",
    "  Unmarried\n",
    "\n",
    "  *race*: White, Asian-Pac-Islander, Amer-Indian-Eskimo, Other, Black\n",
    "\n",
    "  *sex*: Female, Male\n",
    "\n",
    "  *capital-gain*: continuous\n",
    "\n",
    "  *capital-loss*: continuous\n",
    "\n",
    "  *hours-per-week*: continuous\n",
    "\n",
    "  *native-country*: United-States, Cambodia, England, Puerto-Rico, \n",
    "  Canada, Germany, Outlying-US(Guam-USVI-etc), India, Japan, \n",
    "  Greece, South, China, Cuba, Iran, Honduras, Philippines, \n",
    "  Italy, Poland, Jamaica, Vietnam, Mexico, Portugal, Ireland,\n",
    "  France, Dominican-Republic, Laos, Ecuador, Taiwan, Haiti,\n",
    "  Columbia, Hungary, Guatemala, Nicaragua, Scotland, Thailand,\n",
    "  Yugoslavia, El-Salvador, Trinadad&Tobago, Peru, Hong, Holand-Netherlands"
   ]
  },
  {
   "cell_type": "markdown",
   "metadata": {
    "_uuid": "fadd117333105f89845db5662f3b12d95af83c43"
   },
   "source": [
    "## Load libraries"
   ]
  },
  {
   "cell_type": "code",
   "execution_count": 1,
   "metadata": {
    "_uuid": "0ed4fe5421feeee73da5c0e87cc9915ac72c3d58"
   },
   "outputs": [],
   "source": [
    "import pandas as pd\n",
    "import seaborn as sns\n",
    "import numpy as np\n",
    "import matplotlib.pyplot as plt\n",
    "from sklearn.preprocessing import LabelEncoder\n",
    "from sklearn.tree import DecisionTreeClassifier\n",
    "from sklearn.ensemble import RandomForestClassifier\n",
    "from sklearn.linear_model import LogisticRegression\n",
    "from sklearn.naive_bayes import GaussianNB\n",
    "from sklearn.model_selection import train_test_split,cross_val_score,KFold,GridSearchCV\n",
    "from sklearn.metrics import confusion_matrix,classification_report,accuracy_score\n",
    "import scikitplot as skplt\n"
   ]
  },
  {
   "cell_type": "code",
   "execution_count": 2,
   "metadata": {},
   "outputs": [],
   "source": [
    "from aif360.datasets import StandardDataset\n",
    "from aif360.metrics import BinaryLabelDatasetMetric, ClassificationMetric\n",
    "import matplotlib.patches as patches\n",
    "from aif360.algorithms.preprocessing import Reweighing\n",
    "#from packages import *\n",
    "#from ml_fairness import *\n",
    "import matplotlib.pyplot as plt\n",
    "import seaborn as sns\n",
    "\n",
    "\n",
    "\n",
    "from IPython.display import Markdown, display"
   ]
  },
  {
   "cell_type": "markdown",
   "metadata": {
    "_uuid": "1ed620dccf642ef4a7edb936c581e644e09221dd"
   },
   "source": [
    "## Load Data"
   ]
  },
  {
   "cell_type": "code",
   "execution_count": 3,
   "metadata": {
    "_kg_hide-input": false,
    "_uuid": "832abb89ba17c15c1434614fc41e7e840639d6cb"
   },
   "outputs": [],
   "source": [
    "dataset=pd.read_csv(\"../../data/adult.csv\")"
   ]
  },
  {
   "cell_type": "markdown",
   "metadata": {
    "_uuid": "6a904ee3e3b80c9927a66538f03ef6a58a32d4b3"
   },
   "source": [
    "### *Check for null values and show the datatypes*"
   ]
  },
  {
   "cell_type": "code",
   "execution_count": 4,
   "metadata": {
    "_uuid": "93b4b2129045256771be01a5e8a994caf25e4644"
   },
   "outputs": [
    {
     "name": "stdout",
     "output_type": "stream",
     "text": [
      "age               0\n",
      "workclass         0\n",
      "fnlwgt            0\n",
      "education         0\n",
      "education.num     0\n",
      "marital.status    0\n",
      "occupation        0\n",
      "relationship      0\n",
      "race              0\n",
      "sex               0\n",
      "capital.gain      0\n",
      "capital.loss      0\n",
      "hours.per.week    0\n",
      "native.country    0\n",
      "income            0\n",
      "dtype: int64\n",
      "age                int64\n",
      "workclass         object\n",
      "fnlwgt             int64\n",
      "education         object\n",
      "education.num      int64\n",
      "marital.status    object\n",
      "occupation        object\n",
      "relationship      object\n",
      "race              object\n",
      "sex               object\n",
      "capital.gain       int64\n",
      "capital.loss       int64\n",
      "hours.per.week     int64\n",
      "native.country    object\n",
      "income            object\n",
      "dtype: object\n"
     ]
    }
   ],
   "source": [
    "print(dataset.isnull().sum())\n",
    "print(dataset.dtypes)"
   ]
  },
  {
   "cell_type": "markdown",
   "metadata": {
    "_uuid": "027af1304df54801ab24632745876cd91b200778"
   },
   "source": [
    "### *Look at data*"
   ]
  },
  {
   "cell_type": "code",
   "execution_count": 5,
   "metadata": {
    "_uuid": "0bcf6e74dc31a1a0f1f0b29eb3ae2699246e7f8a"
   },
   "outputs": [
    {
     "data": {
      "text/html": [
       "<div>\n",
       "<style scoped>\n",
       "    .dataframe tbody tr th:only-of-type {\n",
       "        vertical-align: middle;\n",
       "    }\n",
       "\n",
       "    .dataframe tbody tr th {\n",
       "        vertical-align: top;\n",
       "    }\n",
       "\n",
       "    .dataframe thead th {\n",
       "        text-align: right;\n",
       "    }\n",
       "</style>\n",
       "<table border=\"1\" class=\"dataframe\">\n",
       "  <thead>\n",
       "    <tr style=\"text-align: right;\">\n",
       "      <th></th>\n",
       "      <th>age</th>\n",
       "      <th>workclass</th>\n",
       "      <th>fnlwgt</th>\n",
       "      <th>education</th>\n",
       "      <th>education.num</th>\n",
       "      <th>marital.status</th>\n",
       "      <th>occupation</th>\n",
       "      <th>relationship</th>\n",
       "      <th>race</th>\n",
       "      <th>sex</th>\n",
       "      <th>capital.gain</th>\n",
       "      <th>capital.loss</th>\n",
       "      <th>hours.per.week</th>\n",
       "      <th>native.country</th>\n",
       "      <th>income</th>\n",
       "    </tr>\n",
       "  </thead>\n",
       "  <tbody>\n",
       "    <tr>\n",
       "      <th>0</th>\n",
       "      <td>90</td>\n",
       "      <td>?</td>\n",
       "      <td>77053</td>\n",
       "      <td>HS-grad</td>\n",
       "      <td>9</td>\n",
       "      <td>Widowed</td>\n",
       "      <td>?</td>\n",
       "      <td>Not-in-family</td>\n",
       "      <td>White</td>\n",
       "      <td>Female</td>\n",
       "      <td>0</td>\n",
       "      <td>4356</td>\n",
       "      <td>40</td>\n",
       "      <td>United-States</td>\n",
       "      <td>&lt;=50K</td>\n",
       "    </tr>\n",
       "    <tr>\n",
       "      <th>1</th>\n",
       "      <td>82</td>\n",
       "      <td>Private</td>\n",
       "      <td>132870</td>\n",
       "      <td>HS-grad</td>\n",
       "      <td>9</td>\n",
       "      <td>Widowed</td>\n",
       "      <td>Exec-managerial</td>\n",
       "      <td>Not-in-family</td>\n",
       "      <td>White</td>\n",
       "      <td>Female</td>\n",
       "      <td>0</td>\n",
       "      <td>4356</td>\n",
       "      <td>18</td>\n",
       "      <td>United-States</td>\n",
       "      <td>&lt;=50K</td>\n",
       "    </tr>\n",
       "    <tr>\n",
       "      <th>2</th>\n",
       "      <td>66</td>\n",
       "      <td>?</td>\n",
       "      <td>186061</td>\n",
       "      <td>Some-college</td>\n",
       "      <td>10</td>\n",
       "      <td>Widowed</td>\n",
       "      <td>?</td>\n",
       "      <td>Unmarried</td>\n",
       "      <td>Black</td>\n",
       "      <td>Female</td>\n",
       "      <td>0</td>\n",
       "      <td>4356</td>\n",
       "      <td>40</td>\n",
       "      <td>United-States</td>\n",
       "      <td>&lt;=50K</td>\n",
       "    </tr>\n",
       "    <tr>\n",
       "      <th>3</th>\n",
       "      <td>54</td>\n",
       "      <td>Private</td>\n",
       "      <td>140359</td>\n",
       "      <td>7th-8th</td>\n",
       "      <td>4</td>\n",
       "      <td>Divorced</td>\n",
       "      <td>Machine-op-inspct</td>\n",
       "      <td>Unmarried</td>\n",
       "      <td>White</td>\n",
       "      <td>Female</td>\n",
       "      <td>0</td>\n",
       "      <td>3900</td>\n",
       "      <td>40</td>\n",
       "      <td>United-States</td>\n",
       "      <td>&lt;=50K</td>\n",
       "    </tr>\n",
       "    <tr>\n",
       "      <th>4</th>\n",
       "      <td>41</td>\n",
       "      <td>Private</td>\n",
       "      <td>264663</td>\n",
       "      <td>Some-college</td>\n",
       "      <td>10</td>\n",
       "      <td>Separated</td>\n",
       "      <td>Prof-specialty</td>\n",
       "      <td>Own-child</td>\n",
       "      <td>White</td>\n",
       "      <td>Female</td>\n",
       "      <td>0</td>\n",
       "      <td>3900</td>\n",
       "      <td>40</td>\n",
       "      <td>United-States</td>\n",
       "      <td>&lt;=50K</td>\n",
       "    </tr>\n",
       "  </tbody>\n",
       "</table>\n",
       "</div>"
      ],
      "text/plain": [
       "   age workclass  fnlwgt     education  education.num marital.status  \\\n",
       "0   90         ?   77053       HS-grad              9        Widowed   \n",
       "1   82   Private  132870       HS-grad              9        Widowed   \n",
       "2   66         ?  186061  Some-college             10        Widowed   \n",
       "3   54   Private  140359       7th-8th              4       Divorced   \n",
       "4   41   Private  264663  Some-college             10      Separated   \n",
       "\n",
       "          occupation   relationship   race     sex  capital.gain  \\\n",
       "0                  ?  Not-in-family  White  Female             0   \n",
       "1    Exec-managerial  Not-in-family  White  Female             0   \n",
       "2                  ?      Unmarried  Black  Female             0   \n",
       "3  Machine-op-inspct      Unmarried  White  Female             0   \n",
       "4     Prof-specialty      Own-child  White  Female             0   \n",
       "\n",
       "   capital.loss  hours.per.week native.country income  \n",
       "0          4356              40  United-States  <=50K  \n",
       "1          4356              18  United-States  <=50K  \n",
       "2          4356              40  United-States  <=50K  \n",
       "3          3900              40  United-States  <=50K  \n",
       "4          3900              40  United-States  <=50K  "
      ]
     },
     "execution_count": 5,
     "metadata": {},
     "output_type": "execute_result"
    }
   ],
   "source": [
    "dataset.head()"
   ]
  },
  {
   "cell_type": "code",
   "execution_count": 6,
   "metadata": {
    "_uuid": "44a11fe28f9ce1c704570fef5af40bf7f402c567"
   },
   "outputs": [],
   "source": [
    "#removing '?' containing rows\n",
    "dataset = dataset[(dataset != '?').all(axis=1)]\n",
    "#label the income objects as 0 and 1\n",
    "dataset['income']=dataset['income'].map({'<=50K': 0, '>50K': 1})"
   ]
  },
  {
   "cell_type": "markdown",
   "metadata": {
    "_uuid": "35050a77360e10d448b71e16afcb15a523c5b6e1"
   },
   "source": [
    "In this dataset ,just by looking at the columns \"education\" and \"education.num\" you could say that they bot convey the same meaning,one just specifies the degree name and the other specifies a numerical value for that degree ,we could drop any one of these. Numerical data is preferrable so lets keep \"education.num\" and we can remove \"education\".The same could be said about \"marital.status\" and \"relationship\",here, generally one would assume income levels whether a person is married or not.\"relationship\" indirectly conveys the same husband ,wife indirectly means the person is married others like child,etc says that person is single.Hence we can drop any one of these.\n",
    "\n",
    "I will prove these in the following sections."
   ]
  },
  {
   "cell_type": "markdown",
   "metadata": {
    "_uuid": "85bae2bc223c4d9c29f454a06ef01375c6ad3a00"
   },
   "source": [
    "## Analyze data"
   ]
  },
  {
   "cell_type": "code",
   "execution_count": 7,
   "metadata": {
    "_uuid": "eb337270229ca5e2349d7bdf38eb0f21ee8be310"
   },
   "outputs": [
    {
     "data": {
      "image/png": "[encoded data removed]",
      "text/plain": [
       "<Figure size 432x432 with 1 Axes>"
      ]
     },
     "metadata": {
      "needs_background": "light"
     },
     "output_type": "display_data"
    }
   ],
   "source": [
    "sns.catplot(x='education.num',y='income',data=dataset,kind='bar',height=6)\n",
    "plt.show()"
   ]
  },
  {
   "cell_type": "markdown",
   "metadata": {
    "_uuid": "a3e8df84dcb9d534cac81f268698de38b2f3feca"
   },
   "source": [
    "Higher the value ,higher the probability of income greater than 50k(Obviously!)"
   ]
  },
  {
   "cell_type": "code",
   "execution_count": 8,
   "metadata": {
    "_uuid": "f4e9a9d529e852c54cf75c9d71c61558084cba8b"
   },
   "outputs": [
    {
     "data": {
      "image/png": "[encoded data removed]",
      "text/plain": [
       "<Figure size 2736x1008 with 1 Axes>"
      ]
     },
     "metadata": {
      "needs_background": "light"
     },
     "output_type": "display_data"
    }
   ],
   "source": [
    "#explore which country do most people belong\n",
    "plt.figure(figsize=(38,14))\n",
    "sns.countplot(x='native.country',data=dataset)\n",
    "plt.show()"
   ]
  },
  {
   "cell_type": "markdown",
   "metadata": {
    "_uuid": "e5b523d2d1cade987a64ad2733d18009959ee09b"
   },
   "source": [
    "Here most people are from the USA,so we can drop this column as it creates unnecessary bias."
   ]
  },
  {
   "cell_type": "code",
   "execution_count": 9,
   "metadata": {
    "_uuid": "b119c4e127c181b3c8f7c0d23de00738bc8fb975"
   },
   "outputs": [
    {
     "name": "stderr",
     "output_type": "stream",
     "text": [
      "The `factorplot` function has been renamed to `catplot`. The original name will be removed in a future release. Please update your code. Note that the default `kind` in `factorplot` (`'point'`) has changed `'strip'` in `catplot`.\n"
     ]
    },
    {
     "data": {
      "image/png": "[encoded data removed]",
      "text/plain": [
       "<Figure size 576x576 with 1 Axes>"
      ]
     },
     "metadata": {
      "needs_background": "light"
     },
     "output_type": "display_data"
    }
   ],
   "source": [
    "#marital.status vs income\n",
    "sns.factorplot(x='marital.status',y='income',data=dataset,kind='bar',height=8)\n",
    "plt.show()"
   ]
  },
  {
   "cell_type": "code",
   "execution_count": 10,
   "metadata": {
    "_uuid": "ca856f17e4f2dc40d31ff997f36dc5b29777b75b"
   },
   "outputs": [
    {
     "name": "stderr",
     "output_type": "stream",
     "text": [
      "The `factorplot` function has been renamed to `catplot`. The original name will be removed in a future release. Please update your code. Note that the default `kind` in `factorplot` (`'point'`) has changed `'strip'` in `catplot`.\n",
      "The `size` parameter has been renamed to `height`; please update your code.\n"
     ]
    },
    {
     "data": {
      "image/png": "[encoded data removed]",
      "text/plain": [
       "<Figure size 504x504 with 1 Axes>"
      ]
     },
     "metadata": {
      "needs_background": "light"
     },
     "output_type": "display_data"
    }
   ],
   "source": [
    "#relationship vs income\n",
    "sns.factorplot(x='relationship',y='income',data=dataset,kind='bar',size=7)\n",
    "plt.show()"
   ]
  },
  {
   "cell_type": "markdown",
   "metadata": {
    "_uuid": "e601f63fd29fb680638a46289d0156fdae68c3cf"
   },
   "source": [
    "Aha! You can clearly see that \"relationship\" and \"marital.status\", look similar i.e. tell us the same thing.\n",
    "\n",
    "I will prove this now,first let us do some changes to data so it is simpler to understand."
   ]
  },
  {
   "cell_type": "markdown",
   "metadata": {
    "_uuid": "88b66a6c4ca53a34919b2b18d29b7e8a5f077015"
   },
   "source": [
    "## Feature Engineering"
   ]
  },
  {
   "cell_type": "code",
   "execution_count": 11,
   "metadata": {
    "_uuid": "3bc36a2a6ee87b9044ca620841a7fee3ea9202d9"
   },
   "outputs": [],
   "source": [
    "#we can reformat marital.status values to single and married\n",
    "dataset['marital.status']=dataset['marital.status'].map({'Married-civ-spouse':'Married', 'Divorced':'Single', 'Never-married':'Single', 'Separated':'Single', \n",
    "'Widowed':'Single', 'Married-spouse-absent':'Married', 'Married-AF-spouse':'Married'})"
   ]
  },
  {
   "cell_type": "markdown",
   "metadata": {
    "_uuid": "10ad45dacacc2139a392b32b8cec1d0a88daa6b3"
   },
   "source": [
    " ### *Label encoding*"
   ]
  },
  {
   "cell_type": "code",
   "execution_count": 12,
   "metadata": {
    "_uuid": "3d5057f52e14e23133a24ad965979143124d8686"
   },
   "outputs": [],
   "source": [
    "for column in dataset:\n",
    "    enc=LabelEncoder()\n",
    "    if dataset.dtypes[column]==np.object:\n",
    "         dataset[column]=enc.fit_transform(dataset[column])"
   ]
  },
  {
   "cell_type": "markdown",
   "metadata": {
    "_uuid": "1957f3b0a611b5d2d51ceb6f1d4a86b8525ca78b"
   },
   "source": [
    "### *Correlation using heatmap*"
   ]
  },
  {
   "cell_type": "code",
   "execution_count": 13,
   "metadata": {
    "_uuid": "83a97d687b40873590ef161e5f6f2850ab7698f3"
   },
   "outputs": [
    {
     "data": {
      "image/png": "[encoded data removed]",
      "text/plain": [
       "<Figure size 1008x720 with 2 Axes>"
      ]
     },
     "metadata": {
      "needs_background": "light"
     },
     "output_type": "display_data"
    }
   ],
   "source": [
    "plt.figure(figsize=(14,10))\n",
    "sns.heatmap(dataset.corr(),annot=True,fmt='.2f')\n",
    "plt.show()"
   ]
  },
  {
   "cell_type": "markdown",
   "metadata": {
    "_uuid": "9533392b8894b3e8e4a022fabaf1e2a72fd79777"
   },
   "source": [
    " As we can see from the heatmap \"education\" and \"education.num\" are highly correlated, same can be said about the \"marital.status\" and \"relationship\" ,thus,we can drop \"relationship\" and \"education\"."
   ]
  },
  {
   "cell_type": "code",
   "execution_count": 14,
   "metadata": {
    "_uuid": "8f6c0bd297df0f2cfce271549bc493bf0278b417"
   },
   "outputs": [],
   "source": [
    "dataset=dataset.drop(['relationship','education'],axis=1)"
   ]
  },
  {
   "cell_type": "markdown",
   "metadata": {
    "_uuid": "53c05106b9486436169c124e20b236ebcf224712"
   },
   "source": [
    " We can also drop \"occupation\" as \"workclass\" is sufficient.\n",
    "Furthermore,\"fnlwgt\" is not useful to us as it refers to only the sampling in the census conducted and has no practical effect on the label.Also we  drop the \"native.country\" as more are from single country(USA) which can cause bias."
   ]
  },
  {
   "cell_type": "code",
   "execution_count": 15,
   "metadata": {
    "_uuid": "d34e992deb13c8f40931925fce4a06f65110601b"
   },
   "outputs": [],
   "source": [
    "dataset=dataset.drop(['occupation','fnlwgt','native.country'],axis=1)"
   ]
  },
  {
   "cell_type": "markdown",
   "metadata": {
    "_uuid": "1c4a0fb58b58be187d04a5d2f5db9bedb74ad7be"
   },
   "source": [
    " Dataset after preprocessing"
   ]
  },
  {
   "cell_type": "code",
   "execution_count": 16,
   "metadata": {
    "_uuid": "acb5c19246b035b7698aa91cbf986dc0025d5f87"
   },
   "outputs": [
    {
     "name": "stdout",
     "output_type": "stream",
     "text": [
      "   age  workclass  education.num  marital.status  race  sex  capital.gain  \\\n",
      "1   82          2              9               1     4    0             0   \n",
      "3   54          2              4               1     4    0             0   \n",
      "4   41          2             10               1     4    0             0   \n",
      "5   34          2              9               1     4    0             0   \n",
      "6   38          2              6               1     4    1             0   \n",
      "\n",
      "   capital.loss  hours.per.week  income  \n",
      "1          4356              18       0  \n",
      "3          3900              40       0  \n",
      "4          3900              40       0  \n",
      "5          3770              45       0  \n",
      "6          3770              40       0  \n"
     ]
    }
   ],
   "source": [
    "print(dataset.head())"
   ]
  },
  {
   "cell_type": "markdown",
   "metadata": {
    "_uuid": "1744ef43b117742cc5e48185d5464aae15586682"
   },
   "source": [
    "Split the dataset into predictors and target and make training and testing sets"
   ]
  },
  {
   "cell_type": "code",
   "execution_count": 17,
   "metadata": {
    "_uuid": "5573518f430d1b9132b7ff37647a9882f6feb9df"
   },
   "outputs": [
    {
     "name": "stdout",
     "output_type": "stream",
     "text": [
      "   age  workclass  education.num  marital.status  race  sex  capital.gain  \\\n",
      "1   82          2              9               1     4    0             0   \n",
      "3   54          2              4               1     4    0             0   \n",
      "4   41          2             10               1     4    0             0   \n",
      "5   34          2              9               1     4    0             0   \n",
      "6   38          2              6               1     4    1             0   \n",
      "\n",
      "   capital.loss  hours.per.week  \n",
      "1          4356              18  \n",
      "3          3900              40  \n",
      "4          3900              40  \n",
      "5          3770              45  \n",
      "6          3770              40  \n",
      "1    0\n",
      "3    0\n",
      "4    0\n",
      "5    0\n",
      "6    0\n",
      "Name: income, dtype: int64\n"
     ]
    }
   ],
   "source": [
    "X=dataset.iloc[:,0:-1]\n",
    "y=dataset.iloc[:,-1]\n",
    "print(X.head())\n",
    "print(y.head())\n",
    "x_train,x_test,y_train,y_test=train_test_split(X,y,test_size=0.33,shuffle=False)"
   ]
  },
  {
   "cell_type": "markdown",
   "metadata": {
    "_uuid": "e6740f4fe2fb62334922c93949fe89982d51020a"
   },
   "source": [
    " We use cross validation(CV) to select which model to use.In k-fold CV a model is trained using k-1  of the folds as training data.Then the resulting model is validated on the remaining part of the data (i.e., it is used as a test set to compute a performance measure such as accuracy)."
   ]
  },
  {
   "cell_type": "code",
   "execution_count": null,
   "metadata": {
    "_uuid": "926b75654d9408530a43edd9d81c09ea501f5129"
   },
   "outputs": [],
   "source": [
    "clf=GaussianNB()\n",
    "cv_res=cross_val_score(clf,x_train,y_train,cv=10)\n",
    "print(cv_res.mean()*100)"
   ]
  },
  {
   "cell_type": "code",
   "execution_count": null,
   "metadata": {
    "_uuid": "2f75603da90fd5c000c21d022fbc2c47b92faa69"
   },
   "outputs": [],
   "source": [
    "clf=DecisionTreeClassifier()\n",
    "cv_res=cross_val_score(clf,x_train,y_train,cv=10)\n",
    "print(cv_res.mean()*100)"
   ]
  },
  {
   "cell_type": "code",
   "execution_count": 19,
   "metadata": {
    "_uuid": "716dd8b895bde7adcef8b88c147b08cef19ef0af"
   },
   "outputs": [
    {
     "name": "stdout",
     "output_type": "stream",
     "text": [
      "76.59856653651511\n"
     ]
    }
   ],
   "source": [
    "clf=RandomForestClassifier(n_estimators=100)\n",
    "cv_res=cross_val_score(clf,x_train,y_train,cv=10)\n",
    "print(cv_res.mean()*100)"
   ]
  },
  {
   "cell_type": "markdown",
   "metadata": {
    "_uuid": "877f525fede543868d02c06719638ccff758ff2c"
   },
   "source": [
    "We use random forest as it is known for its robustness and less sensitivity.It is a bagging algorithm."
   ]
  },
  {
   "cell_type": "markdown",
   "metadata": {
    "_uuid": "8efc99f9d37ca9743ae56c3af65adac9c3ef91eb"
   },
   "source": [
    "## Model Tuning"
   ]
  },
  {
   "cell_type": "markdown",
   "metadata": {
    "_uuid": "a249efe501eba30fc8e95bb2b59a41ab4e464faf"
   },
   "source": [
    "  Model Tuning is defined as tuning the parameters(hyperparameters) of our model so as to increase the performance of our classifier"
   ]
  },
  {
   "cell_type": "markdown",
   "metadata": {
    "_uuid": "346bab432dc9321ceb5d1ab7bd2817f367bb801d"
   },
   "source": [
    "### Gridsearch"
   ]
  },
  {
   "cell_type": "markdown",
   "metadata": {
    "_uuid": "33a739455010004be60ce6d4fba90d2a27c4a1d1"
   },
   "source": [
    " Instead of manually changing each parameter and comparing results,sklearn provides us with Gridsearch which uses crossvalidation to internally check all the parameters and compare results and gives us the best parameters as output.\n",
    " This is a time taking process."
   ]
  },
  {
   "cell_type": "code",
   "execution_count": null,
   "metadata": {
    "_uuid": "25e06291fce61bf652c6d059b7f478b42485aa83"
   },
   "outputs": [],
   "source": [
    "'''\n",
    "---USED GRIDSEARCH FOR HYPERPARAMETER TUNING-----\n",
    "clf=RandomForestClassifier()\n",
    "kf=KFold(n_splits=3)\n",
    "max_features=np.array([1,2,3,4,5])\n",
    "n_estimators=np.array([25,50,100,150,200])\n",
    "min_samples_leaf=np.array([25,50,75,100])\n",
    "param_grid=dict(n_estimators=n_estimators,max_features=max_features,min_samples_leaf=min_samples_leaf)\n",
    "grid=GridSearchCV(estimator=clf,param_grid=param_grid,cv=kf)\n",
    "gres=grid.fit(x_train,y_train)\n",
    "print(\"Best\",gres.best_score_)\n",
    "print(\"params\",gres.best_params_)\n",
    "\n",
    "----------------OUTPUT------------------------\n",
    "Best 0.810471100554236\n",
    "params {'max_features': 5, 'min_samples_leaf': 50, 'n_estimators': 50}\n",
    "'''"
   ]
  },
  {
   "cell_type": "markdown",
   "metadata": {
    "_uuid": "4d345885a96432d1950ab7f44540c2a93df90461"
   },
   "source": [
    "#### Note:- This  cell is commented out as it takes long time to compute(15-20 mins)"
   ]
  },
  {
   "cell_type": "markdown",
   "metadata": {
    "_uuid": "e57e1291b1b1f5b208db69882abfcdb9872cfc12"
   },
   "source": [
    "## Finalize the Model"
   ]
  },
  {
   "cell_type": "markdown",
   "metadata": {
    "_uuid": "1bdea3b0ad6e499883154232456cf35396fc059d"
   },
   "source": [
    "### *Fit the model with tuned parameters*"
   ]
  },
  {
   "cell_type": "code",
   "execution_count": null,
   "metadata": {
    "_uuid": "4b7d836f9d71cb78e19d50cb66c1dbfe148110b4"
   },
   "outputs": [],
   "source": [
    "clf=RandomForestClassifier(n_estimators=50,max_features=5,min_samples_leaf=50)\n",
    "clf.fit(x_train,y_train)"
   ]
  },
  {
   "cell_type": "markdown",
   "metadata": {
    "_uuid": "a9b24b9cfaaa43a5c55fc0c20f8091b4725b5317"
   },
   "source": [
    "### *Make predictions*"
   ]
  },
  {
   "cell_type": "code",
   "execution_count": null,
   "metadata": {
    "_uuid": "ffdd4c31732c92e0756562ed69e3f01ae5aae0cd"
   },
   "outputs": [],
   "source": [
    "pred=clf.predict(x_test)\n",
    "pred"
   ]
  },
  {
   "cell_type": "markdown",
   "metadata": {
    "_uuid": "2dcff7dcc1ec5f56c8ffd9951c0d0ba4e20c0df5"
   },
   "source": [
    "### *Evaluation metrics*"
   ]
  },
  {
   "cell_type": "code",
   "execution_count": null,
   "metadata": {
    "_uuid": "185a20651524bc18424240e62a08ec8026448704"
   },
   "outputs": [],
   "source": [
    "print(\"Accuracy: %f \" % (100*accuracy_score(y_test, pred)))"
   ]
  },
  {
   "cell_type": "markdown",
   "metadata": {
    "_uuid": "51d122cd4a673389d0e2601dd9a272b7af1dea27"
   },
   "source": [
    "## **XGBoost**"
   ]
  },
  {
   "cell_type": "markdown",
   "metadata": {
    "_uuid": "ceae6558505b0db60debc996ad2e446d20d712fc"
   },
   "source": [
    "Random forest follows the concept of bagging,the other method is boosting.In Boosting algorithms each classifier is trained on data, taking into account the previous classifiers’ success. After each training step, the weights are redistributed. Misclassified data increases its weights to emphasise the most difficult cases. In this way, subsequent learners will focus on them during their training.\n",
    "\n",
    "Few boosting algorihtms are adaboost,gradientboosting,XGBoost.XGBoost is one of the most popular machine learning algorithm these days. \n",
    "\n",
    "[XGBoost](https://xgboost.readthedocs.io/en/latest/) (Extreme Gradient Boosting) belongs to a family of boosting algorithms and uses the gradient boosting (GBM) framework at its core.\n",
    "\n",
    "To install XGBoost on your system using [conda](https://anaconda.org/conda-forge/xgboost)."
   ]
  },
  {
   "cell_type": "code",
   "execution_count": null,
   "metadata": {
    "_uuid": "db0dbd35122befea6fb51013054e4c196b3105d0"
   },
   "outputs": [],
   "source": [
    "import xgboost as xgb\n",
    "xgb.__version__"
   ]
  },
  {
   "cell_type": "markdown",
   "metadata": {
    "_uuid": "6430097a74d7c8b155fa710dc8f24ba99f91e239"
   },
   "source": [
    "As we have already done feature engineering etc. We can move on to tune the hyperparameters.Parameters can be found in the XGboost documetation.\n",
    "\n",
    "But before that we have to convert data into Dmatrix (XGBoost uses data only in this format)."
   ]
  },
  {
   "cell_type": "code",
   "execution_count": null,
   "metadata": {
    "_uuid": "dfc67bb1bacfedb740e34a3b68ecdf11695e8276"
   },
   "outputs": [],
   "source": [
    "dmat=xgb.DMatrix(x_train,y_train)\n",
    "test_dmat=xgb.DMatrix(x_test)"
   ]
  },
  {
   "cell_type": "markdown",
   "metadata": {
    "_uuid": "d473f2ef20fe3d13467faaa951619d9e6c1c4aca"
   },
   "source": [
    "## **Bayesian Optimization**"
   ]
  },
  {
   "cell_type": "markdown",
   "metadata": {
    "_uuid": "f69832982e897c6b45deb79604d1633673094bd3"
   },
   "source": [
    "Grid and random search are completely uninformed by past evaluations, and as a result, often spend a significant amount of time evaluating “bad” hyperparameters.But bayesain optimization are informed of previous evaluations.A very lucid explanation of it,that has helped me a lot, is given by William Koehrsen [here](https://towardsdatascience.com/a-conceptual-explanation-of-bayesian-model-based-hyperparameter-optimization-for-machine-learning-b8172278050f).\n",
    "The library that i have used here is scikit-optimization([skopt](https://scikit-optimize.github.io/)).This library provides us with the BayesSearchCV method."
   ]
  },
  {
   "cell_type": "code",
   "execution_count": null,
   "metadata": {
    "_uuid": "16ea582ac8a2b4a831e9d94dd324b0287eb4b950"
   },
   "outputs": [],
   "source": [
    "from skopt import BayesSearchCV \n",
    "import warnings\n",
    "warnings.filterwarnings('ignore', message='The objective has been evaluated at this point before.')\n",
    "\n",
    "params={'min_child_weight': (0, 10),\n",
    "        'max_depth': (0, 30),\n",
    "        'subsample': (0.5, 1.0, 'uniform'),\n",
    "        'colsample_bytree': (0.5, 1.0, 'uniform'),\n",
    "        'n_estimators':(50,100),\n",
    "        'reg_lambda':(1,100,'log-uniform'),\n",
    "        }\n",
    "\n",
    "bayes=BayesSearchCV(estimator=xgb.XGBClassifier(objective='binary:logistic',eval_metric='error',eta=0.1),search_spaces=params,n_iter=50,scoring='accuracy',cv=5)\n",
    "res=bayes.fit(x_train,y_train)\n",
    "print(res.best_params_)\n",
    "print(res.best_score_)"
   ]
  },
  {
   "cell_type": "markdown",
   "metadata": {
    "_uuid": "10dbb5436abc748802d6983b02affc1d50d7ea74"
   },
   "source": [
    "XGBoost has an inbuilt cvmethod which helps us to find the rounds using early stopping to prevent overfitting"
   ]
  },
  {
   "cell_type": "code",
   "execution_count": null,
   "metadata": {
    "_uuid": "2cf30e817fa355e6d0f17d888b5d2ec1fb8591fe"
   },
   "outputs": [],
   "source": [
    "final_p={'colsample_bytree': 1.0, 'max_depth': 3, 'min_child_weight': 0,'subsample': 0.5,'reg_lambda': 100.0,'objective':'binary:logistic','eta': 0.1,'n_estimators':50, \"silent\": 1}\n",
    "cv_res=xgb.cv(params=final_p,dtrain=dmat,num_boost_round=1000,early_stopping_rounds=100,metrics=['error'],nfold=5)\n",
    "cv_res.tail()"
   ]
  },
  {
   "cell_type": "markdown",
   "metadata": {
    "_uuid": "8dde87f44ffa3c728ab3cc7dab3855f3714ef49b"
   },
   "source": [
    "Now after finding the rounds required we train our final model with the tuned parameters and the rounds.We then validate it on our test set"
   ]
  },
  {
   "cell_type": "code",
   "execution_count": null,
   "metadata": {
    "_uuid": "eb0d3c66669fbfe91e72e5c6325ffab20e6733f4"
   },
   "outputs": [],
   "source": [
    "final_clf=xgb.train(params=final_p,dtrain=dmat,num_boost_round=837)\n",
    "pred=final_clf.predict(test_dmat)\n",
    "print(pred)\n",
    "pred[pred > 0.5 ] = 1\n",
    "pred[pred <= 0.5] = 0\n",
    "print(pred)\n",
    "print(accuracy_score(y_test,pred)*100)\n"
   ]
  },
  {
   "cell_type": "markdown",
   "metadata": {
    "_uuid": "1582e907c473b286f14e880bc8d1f00114800276"
   },
   "source": [
    "As you can see we got a difference of  almost  0.6% ,this is very small but it may help in winning competitions and also I have not taken all parameters into the tuning process(gamma,alpha,etc.).Thus I can say with further tuning we can improve this model even more.I would VERY much appreciate any suggestions for improvments that I could make."
   ]
  },
  {
   "cell_type": "markdown",
   "metadata": {},
   "source": [
    "## Fairness"
   ]
  },
  {
   "cell_type": "code",
   "execution_count": 18,
   "metadata": {},
   "outputs": [],
   "source": [
    "# This DataFrame is created to stock differents models and fair metrics that we produce in this notebook\n",
    "algo_metrics = pd.DataFrame(columns=['model', 'fair_metrics', 'prediction', 'probs'])\n",
    "\n",
    "def add_to_df_algo_metrics(algo_metrics, model, fair_metrics, preds, probs, name):\n",
    "    return algo_metrics.append(pd.DataFrame(data=[[model, fair_metrics, preds, probs]], columns=['model', 'fair_metrics', 'prediction', 'probs'], index=[name]))"
   ]
  },
  {
   "cell_type": "code",
   "execution_count": 19,
   "metadata": {},
   "outputs": [],
   "source": [
    "def fair_metrics(dataset, pred, pred_is_dataset=False):\n",
    "    if pred_is_dataset:\n",
    "        dataset_pred = pred\n",
    "    else:\n",
    "        dataset_pred = dataset.copy()\n",
    "        dataset_pred.labels = pred\n",
    "    \n",
    "    cols = ['statistical_parity_difference', 'equal_opportunity_difference', 'average_abs_odds_difference',  'disparate_impact', 'theil_index']\n",
    "    obj_fairness = [[0,0,0,1,0]]\n",
    "    \n",
    "    fair_metrics = pd.DataFrame(data=obj_fairness, index=['objective'], columns=cols)\n",
    "    \n",
    "    for attr in dataset_pred.protected_attribute_names:\n",
    "        idx = dataset_pred.protected_attribute_names.index(attr)\n",
    "        privileged_groups =  [{attr:dataset_pred.privileged_protected_attributes[idx][0]}] \n",
    "        unprivileged_groups = [{attr:dataset_pred.unprivileged_protected_attributes[idx][0]}] \n",
    "        \n",
    "        classified_metric = ClassificationMetric(dataset, \n",
    "                                                     dataset_pred,\n",
    "                                                     unprivileged_groups=unprivileged_groups,\n",
    "                                                     privileged_groups=privileged_groups)\n",
    "\n",
    "        metric_pred = BinaryLabelDatasetMetric(dataset_pred,\n",
    "                                                     unprivileged_groups=unprivileged_groups,\n",
    "                                                     privileged_groups=privileged_groups)\n",
    "\n",
    "        acc = classified_metric.accuracy()\n",
    "\n",
    "        row = pd.DataFrame([[metric_pred.mean_difference(),\n",
    "                                classified_metric.equal_opportunity_difference(),\n",
    "                                classified_metric.average_abs_odds_difference(),\n",
    "                                metric_pred.disparate_impact(),\n",
    "                                classified_metric.theil_index()]],\n",
    "                           columns  = cols,\n",
    "                           index = [attr]\n",
    "                          )\n",
    "        fair_metrics = fair_metrics.append(row)    \n",
    "    \n",
    "    fair_metrics = fair_metrics.replace([-np.inf, np.inf], 2)\n",
    "        \n",
    "    return fair_metrics\n",
    "\n",
    "def plot_fair_metrics(fair_metrics):\n",
    "    fig, ax = plt.subplots(figsize=(20,4), ncols=5, nrows=1)\n",
    "\n",
    "    plt.subplots_adjust(\n",
    "        left    =  0.125, \n",
    "        bottom  =  0.1, \n",
    "        right   =  0.9, \n",
    "        top     =  0.9, \n",
    "        wspace  =  .5, \n",
    "        hspace  =  1.1\n",
    "    )\n",
    "\n",
    "    y_title_margin = 1.2\n",
    "\n",
    "    plt.suptitle(\"Fairness metrics\", y = 1.09, fontsize=20)\n",
    "    sns.set(style=\"dark\")\n",
    "\n",
    "    cols = fair_metrics.columns.values\n",
    "    obj = fair_metrics.loc['objective']\n",
    "    size_rect = [0.2,0.2,0.2,0.4,0.25]\n",
    "    rect = [-0.1,-0.1,-0.1,0.8,0]\n",
    "    bottom = [-1,-1,-1,0,0]\n",
    "    top = [1,1,1,2,1]\n",
    "    bound = [[-0.1,0.1],[-0.1,0.1],[-0.1,0.1],[0.8,1.2],[0,0.25]]\n",
    "\n",
    "    display(Markdown(\"### Check bias metrics :\"))\n",
    "    display(Markdown(\"A model can be considered bias if just one of these five metrics show that this model is biased.\"))\n",
    "    for attr in fair_metrics.index[1:len(fair_metrics)].values:\n",
    "        display(Markdown(\"#### For the %s attribute :\"%attr))\n",
    "        check = [bound[i][0] < fair_metrics.loc[attr][i] < bound[i][1] for i in range(0,5)]\n",
    "        display(Markdown(\"With default thresholds, bias against unprivileged group detected in **%d** out of 5 metrics\"%(5 - sum(check))))\n",
    "\n",
    "    for i in range(0,5):\n",
    "        plt.subplot(1, 5, i+1)\n",
    "        ax = sns.barplot(x=fair_metrics.index[1:len(fair_metrics)], y=fair_metrics.iloc[1:len(fair_metrics)][cols[i]])\n",
    "        \n",
    "        for j in range(0,len(fair_metrics)-1):\n",
    "            a, val = ax.patches[j], fair_metrics.iloc[j+1][cols[i]]\n",
    "            marg = -0.2 if val < 0 else 0.1\n",
    "            ax.text(a.get_x()+a.get_width()/5, a.get_y()+a.get_height()+marg, round(val, 3), fontsize=15,color='black')\n",
    "\n",
    "        plt.ylim(bottom[i], top[i])\n",
    "        plt.setp(ax.patches, linewidth=0)\n",
    "        ax.add_patch(patches.Rectangle((-5,rect[i]), 10, size_rect[i], alpha=0.3, facecolor=\"green\", linewidth=1, linestyle='solid'))\n",
    "        plt.axhline(obj[i], color='black', alpha=0.3)\n",
    "        plt.title(cols[i])\n",
    "        ax.set_ylabel('')    \n",
    "        ax.set_xlabel('')"
   ]
  },
  {
   "cell_type": "code",
   "execution_count": 20,
   "metadata": {},
   "outputs": [],
   "source": [
    "def get_fair_metrics_and_plot(data, model, plot=False, model_aif=False):\n",
    "    pred = model.predict(data).labels if model_aif else model.predict(data.features)\n",
    "    # fair_metrics function available in the metrics.py file\n",
    "    fair = fair_metrics(data, pred)\n",
    "\n",
    "    if plot:\n",
    "        # plot_fair_metrics function available in the visualisations.py file\n",
    "        # The visualisation of this function is inspired by the dashboard on the demo of IBM aif360 \n",
    "        plot_fair_metrics(fair)\n",
    "        display(fair)\n",
    "    \n",
    "    return fair"
   ]
  },
  {
   "cell_type": "code",
   "execution_count": 21,
   "metadata": {},
   "outputs": [],
   "source": [
    "#print(X)\n",
    "\n",
    "\n",
    "#combine_final = [train_df, test_df]\n",
    "#result = pd.concat(combine_final)\n",
    "#print(result.ifany())\n",
    "#print(result)\n",
    "privileged_groups = [{'sex': 1}]\n",
    "unprivileged_groups = [{'sex': 0}]\n",
    "dataset_orig = StandardDataset(dataset,\n",
    "                                  label_name='income',\n",
    "                                  protected_attribute_names=['sex'],\n",
    "                                  favorable_classes=[1],\n",
    "                                  privileged_classes=[[1]])\n",
    "\n",
    "#metric_orig_train = BinaryLabelDatasetMetric(dataset_orig, \n",
    "#                                             unprivileged_groups=unprivileged_groups,\n",
    "#                                             privileged_groups=privileged_groups)\n",
    "#display(Markdown(\"#### Original training dataset\"))\n",
    "#print(\"Difference in mean outcomes between unprivileged and privileged groups = %f\" % metric_orig_train.mean_difference())\n"
   ]
  },
  {
   "cell_type": "code",
   "execution_count": 22,
   "metadata": {},
   "outputs": [
    {
     "data": {
      "text/markdown": [
       "#### Original training dataset"
      ],
      "text/plain": [
       "<IPython.core.display.Markdown object>"
      ]
     },
     "metadata": {},
     "output_type": "display_data"
    },
    {
     "name": "stdout",
     "output_type": "stream",
     "text": [
      "Difference in mean outcomes between unprivileged and privileged groups = -0.200159\n"
     ]
    }
   ],
   "source": [
    "metric_orig_train = BinaryLabelDatasetMetric(dataset_orig, \n",
    "                                             unprivileged_groups=unprivileged_groups,\n",
    "                                             privileged_groups=privileged_groups)\n",
    "display(Markdown(\"#### Original training dataset\"))\n",
    "print(\"Difference in mean outcomes between unprivileged and privileged groups = %f\" % metric_orig_train.mean_difference())"
   ]
  },
  {
   "cell_type": "code",
   "execution_count": null,
   "metadata": {},
   "outputs": [],
   "source": [
    "(n_estimators=50,max_features=5,min_samples_leaf=50)"
   ]
  },
  {
   "cell_type": "code",
   "execution_count": 23,
   "metadata": {},
   "outputs": [],
   "source": [
    "import ipynbname\n",
    "nb_fname = ipynbname.name()\n",
    "nb_path = ipynbname.path()\n",
    "\n",
    "from xgboost import XGBClassifier\n",
    "import pickle\n",
    "\n",
    "data_orig_train, data_orig_test = dataset_orig.split([0.7], shuffle=True)\n",
    "X_train = data_orig_train.features\n",
    "y_train = data_orig_train.labels.ravel()\n",
    "\n",
    "X_test = data_orig_test.features\n",
    "y_test = data_orig_test.labels.ravel()\n",
    "num_estimators = 50\n",
    "\n",
    "model = RandomForestClassifier(n_estimators=50,max_features=5,min_samples_leaf=50)\n",
    "\n",
    "\n",
    "mdl = model.fit(X_train, y_train)\n",
    "with open('../../Results/RF/' + nb_fname + '.pkl', 'wb') as f:\n",
    "        pickle.dump(mdl, f)\n",
    "\n",
    "with open('../../Results/RF/' + nb_fname + '_Train' + '.pkl', 'wb') as f:\n",
    "    pickle.dump(data_orig_train, f) \n",
    "    \n",
    "with open('../../Results/RF/' + nb_fname + '_Test' + '.pkl', 'wb') as f:\n",
    "    pickle.dump(data_orig_test, f) "
   ]
  },
  {
   "cell_type": "code",
   "execution_count": 24,
   "metadata": {},
   "outputs": [],
   "source": [
    "from csv import writer\n",
    "from sklearn.metrics import accuracy_score, f1_score\n",
    "\n",
    "final_metrics = []\n",
    "accuracy = []\n",
    "f1= []\n",
    "\n",
    "for i in range(1,num_estimators+1):\n",
    "    \n",
    "    model = RandomForestClassifier(n_estimators=i,max_features=5,min_samples_leaf=50)\n",
    "\n",
    "    \n",
    "    mdl = model.fit(X_train, y_train)\n",
    "    yy = mdl.predict(X_test)\n",
    "    accuracy.append(accuracy_score(y_test, yy))\n",
    "    f1.append(f1_score(y_test, yy))\n",
    "    fair = get_fair_metrics_and_plot(data_orig_test, mdl)                           \n",
    "    fair_list = fair.iloc[1].tolist()\n",
    "    fair_list.insert(0, i)\n",
    "    final_metrics.append(fair_list)\n"
   ]
  },
  {
   "cell_type": "code",
   "execution_count": 25,
   "metadata": {},
   "outputs": [
    {
     "name": "stdout",
     "output_type": "stream",
     "text": [
      "     0         1         2         3         4         5\n",
      "0    1 -0.161640 -0.129860  0.095923  0.317186  0.135744\n",
      "1    2 -0.196043 -0.212288  0.145995  0.256052  0.123959\n",
      "2    3 -0.182798 -0.193454  0.130074  0.281523  0.123967\n",
      "3    4 -0.181329 -0.166257  0.119251  0.290918  0.126652\n",
      "4    5 -0.185236 -0.200114  0.135106  0.255793  0.126060\n",
      "5    6 -0.185058 -0.186732  0.127704  0.272176  0.121567\n",
      "6    7 -0.184488 -0.217833  0.141967  0.253441  0.126346\n",
      "7    8 -0.182032 -0.200053  0.133549  0.257036  0.127196\n",
      "8    9 -0.184164 -0.202685  0.135767  0.253774  0.126760\n",
      "9   10 -0.183203 -0.199882  0.133343  0.262037  0.125084\n",
      "10  11 -0.181387 -0.192572  0.129602  0.273152  0.125885\n",
      "11  12 -0.190898 -0.211932  0.142969  0.251122  0.124883\n",
      "12  13 -0.179412 -0.188824  0.127272  0.260869  0.127027\n",
      "13  14 -0.190608 -0.205504  0.139088  0.257462  0.122276\n",
      "14  15 -0.189923 -0.214859  0.142634  0.252085  0.122714\n",
      "15  16 -0.189373 -0.205210  0.138396  0.255683  0.122776\n",
      "16  17 -0.189197 -0.212164  0.142032  0.248702  0.124998\n",
      "17  18 -0.190637 -0.221349  0.146113  0.248315  0.123662\n",
      "18  19 -0.186147 -0.190992  0.132071  0.257944  0.126298\n",
      "19  20 -0.192867 -0.223223  0.147910  0.248184  0.122788\n",
      "20  21 -0.194611 -0.210476  0.143535  0.248522  0.122124\n",
      "21  22 -0.187728 -0.210414  0.139586  0.258362  0.123001\n",
      "22  23 -0.184707 -0.206666  0.137087  0.258404  0.125197\n",
      "23  24 -0.186873 -0.199712  0.134784  0.261263  0.123200\n",
      "24  25 -0.180930 -0.189412  0.127915  0.264459  0.125694\n",
      "25  26 -0.188356 -0.205442  0.138274  0.258733  0.123748\n",
      "26  27 -0.185279 -0.212397  0.139759  0.253674  0.125183\n",
      "27  28 -0.184078 -0.209825  0.137455  0.258024  0.123956\n",
      "28  29 -0.179793 -0.195669  0.129711  0.265686  0.125591\n",
      "29  30 -0.188031 -0.209128  0.139061  0.259064  0.122539\n",
      "30  31 -0.184989 -0.194678  0.132308  0.260165  0.125010\n",
      "31  32 -0.187121 -0.205148  0.137581  0.256946  0.124249\n",
      "32  33 -0.184946 -0.194151  0.132238  0.262252  0.125398\n",
      "33  34 -0.185215 -0.199355  0.134492  0.256848  0.125360\n",
      "34  35 -0.191491 -0.228891  0.150040  0.245429  0.124436\n",
      "35  36 -0.183668 -0.197017  0.132497  0.262572  0.125148\n",
      "36  37 -0.180831 -0.194848  0.130516  0.261446  0.126782\n",
      "37  38 -0.187001 -0.205675  0.137534  0.255020  0.123823\n",
      "38  39 -0.188680 -0.199712  0.136037  0.258403  0.123499\n",
      "39  40 -0.185745 -0.209005  0.138768  0.254237  0.125409\n",
      "40  41 -0.189514 -0.203398  0.137607  0.256551  0.122440\n",
      "41  42 -0.188885 -0.203103  0.137460  0.256173  0.123312\n",
      "42  43 -0.186104 -0.202809  0.135863  0.260030  0.123924\n",
      "43  44 -0.188539 -0.203398  0.136903  0.257536  0.122215\n",
      "44  45 -0.183160 -0.196784  0.131677  0.264134  0.124172\n",
      "45  46 -0.182963 -0.202980  0.134699  0.258150  0.125694\n",
      "46  47 -0.189663 -0.217957  0.144027  0.249272  0.123437\n",
      "47  48 -0.187911 -0.200470  0.136026  0.257160  0.123899\n",
      "48  49 -0.185779 -0.206201  0.137010  0.260366  0.123849\n",
      "49  50 -0.182630 -0.190759  0.129289  0.266740  0.125098\n"
     ]
    },
    {
     "data": {
      "text/html": [
       "<div>\n",
       "<style scoped>\n",
       "    .dataframe tbody tr th:only-of-type {\n",
       "        vertical-align: middle;\n",
       "    }\n",
       "\n",
       "    .dataframe tbody tr th {\n",
       "        vertical-align: top;\n",
       "    }\n",
       "\n",
       "    .dataframe thead th {\n",
       "        text-align: right;\n",
       "    }\n",
       "</style>\n",
       "<table border=\"1\" class=\"dataframe\">\n",
       "  <thead>\n",
       "    <tr style=\"text-align: right;\">\n",
       "      <th></th>\n",
       "      <th>classifier</th>\n",
       "      <th>T0</th>\n",
       "      <th>T1</th>\n",
       "      <th>T2</th>\n",
       "      <th>T3</th>\n",
       "      <th>T4</th>\n",
       "      <th>T5</th>\n",
       "      <th>T6</th>\n",
       "      <th>T7</th>\n",
       "      <th>T8</th>\n",
       "      <th>...</th>\n",
       "      <th>T40</th>\n",
       "      <th>T41</th>\n",
       "      <th>T42</th>\n",
       "      <th>T43</th>\n",
       "      <th>T44</th>\n",
       "      <th>T45</th>\n",
       "      <th>T46</th>\n",
       "      <th>T47</th>\n",
       "      <th>T48</th>\n",
       "      <th>T49</th>\n",
       "    </tr>\n",
       "  </thead>\n",
       "  <tbody>\n",
       "    <tr>\n",
       "      <th>accuracy</th>\n",
       "      <td>0.853022</td>\n",
       "      <td>0.841640</td>\n",
       "      <td>0.849044</td>\n",
       "      <td>0.851696</td>\n",
       "      <td>0.847055</td>\n",
       "      <td>0.852249</td>\n",
       "      <td>0.855454</td>\n",
       "      <td>0.852691</td>\n",
       "      <td>0.852249</td>\n",
       "      <td>0.852249</td>\n",
       "      <td>...</td>\n",
       "      <td>0.854680</td>\n",
       "      <td>0.853907</td>\n",
       "      <td>0.853907</td>\n",
       "      <td>0.855343</td>\n",
       "      <td>0.854459</td>\n",
       "      <td>0.853575</td>\n",
       "      <td>0.854570</td>\n",
       "      <td>0.853464</td>\n",
       "      <td>0.854128</td>\n",
       "      <td>0.853022</td>\n",
       "    </tr>\n",
       "    <tr>\n",
       "      <th>f1</th>\n",
       "      <td>0.665325</td>\n",
       "      <td>0.634718</td>\n",
       "      <td>0.664043</td>\n",
       "      <td>0.666335</td>\n",
       "      <td>0.657256</td>\n",
       "      <td>0.662799</td>\n",
       "      <td>0.674141</td>\n",
       "      <td>0.662617</td>\n",
       "      <td>0.660574</td>\n",
       "      <td>0.661433</td>\n",
       "      <td>...</td>\n",
       "      <td>0.671824</td>\n",
       "      <td>0.669500</td>\n",
       "      <td>0.668339</td>\n",
       "      <td>0.672832</td>\n",
       "      <td>0.668346</td>\n",
       "      <td>0.664642</td>\n",
       "      <td>0.669844</td>\n",
       "      <td>0.668002</td>\n",
       "      <td>0.668675</td>\n",
       "      <td>0.665325</td>\n",
       "    </tr>\n",
       "    <tr>\n",
       "      <th>statistical_parity_difference</th>\n",
       "      <td>-0.182630</td>\n",
       "      <td>-0.161640</td>\n",
       "      <td>-0.196043</td>\n",
       "      <td>-0.182798</td>\n",
       "      <td>-0.181329</td>\n",
       "      <td>-0.185236</td>\n",
       "      <td>-0.185058</td>\n",
       "      <td>-0.184488</td>\n",
       "      <td>-0.182032</td>\n",
       "      <td>-0.184164</td>\n",
       "      <td>...</td>\n",
       "      <td>-0.189514</td>\n",
       "      <td>-0.188885</td>\n",
       "      <td>-0.186104</td>\n",
       "      <td>-0.188539</td>\n",
       "      <td>-0.183160</td>\n",
       "      <td>-0.182963</td>\n",
       "      <td>-0.189663</td>\n",
       "      <td>-0.187911</td>\n",
       "      <td>-0.185779</td>\n",
       "      <td>-0.182630</td>\n",
       "    </tr>\n",
       "    <tr>\n",
       "      <th>equal_opportunity_difference</th>\n",
       "      <td>-0.190759</td>\n",
       "      <td>-0.129860</td>\n",
       "      <td>-0.212288</td>\n",
       "      <td>-0.193454</td>\n",
       "      <td>-0.166257</td>\n",
       "      <td>-0.200114</td>\n",
       "      <td>-0.186732</td>\n",
       "      <td>-0.217833</td>\n",
       "      <td>-0.200053</td>\n",
       "      <td>-0.202685</td>\n",
       "      <td>...</td>\n",
       "      <td>-0.203398</td>\n",
       "      <td>-0.203103</td>\n",
       "      <td>-0.202809</td>\n",
       "      <td>-0.203398</td>\n",
       "      <td>-0.196784</td>\n",
       "      <td>-0.202980</td>\n",
       "      <td>-0.217957</td>\n",
       "      <td>-0.200470</td>\n",
       "      <td>-0.206201</td>\n",
       "      <td>-0.190759</td>\n",
       "    </tr>\n",
       "    <tr>\n",
       "      <th>average_abs_odds_difference</th>\n",
       "      <td>0.129289</td>\n",
       "      <td>0.095923</td>\n",
       "      <td>0.145995</td>\n",
       "      <td>0.130074</td>\n",
       "      <td>0.119251</td>\n",
       "      <td>0.135106</td>\n",
       "      <td>0.127704</td>\n",
       "      <td>0.141967</td>\n",
       "      <td>0.133549</td>\n",
       "      <td>0.135767</td>\n",
       "      <td>...</td>\n",
       "      <td>0.137607</td>\n",
       "      <td>0.137460</td>\n",
       "      <td>0.135863</td>\n",
       "      <td>0.136903</td>\n",
       "      <td>0.131677</td>\n",
       "      <td>0.134699</td>\n",
       "      <td>0.144027</td>\n",
       "      <td>0.136026</td>\n",
       "      <td>0.137010</td>\n",
       "      <td>0.129289</td>\n",
       "    </tr>\n",
       "    <tr>\n",
       "      <th>disparate_impact</th>\n",
       "      <td>-1.321481</td>\n",
       "      <td>-1.148266</td>\n",
       "      <td>-1.362374</td>\n",
       "      <td>-1.267542</td>\n",
       "      <td>-1.234715</td>\n",
       "      <td>-1.363388</td>\n",
       "      <td>-1.301305</td>\n",
       "      <td>-1.372626</td>\n",
       "      <td>-1.358538</td>\n",
       "      <td>-1.371311</td>\n",
       "      <td>...</td>\n",
       "      <td>-1.360426</td>\n",
       "      <td>-1.361902</td>\n",
       "      <td>-1.346960</td>\n",
       "      <td>-1.356597</td>\n",
       "      <td>-1.331300</td>\n",
       "      <td>-1.354214</td>\n",
       "      <td>-1.389209</td>\n",
       "      <td>-1.358058</td>\n",
       "      <td>-1.345668</td>\n",
       "      <td>-1.321481</td>\n",
       "    </tr>\n",
       "    <tr>\n",
       "      <th>theil_index</th>\n",
       "      <td>0.125098</td>\n",
       "      <td>0.135744</td>\n",
       "      <td>0.123959</td>\n",
       "      <td>0.123967</td>\n",
       "      <td>0.126652</td>\n",
       "      <td>0.126060</td>\n",
       "      <td>0.121567</td>\n",
       "      <td>0.126346</td>\n",
       "      <td>0.127196</td>\n",
       "      <td>0.126760</td>\n",
       "      <td>...</td>\n",
       "      <td>0.122440</td>\n",
       "      <td>0.123312</td>\n",
       "      <td>0.123924</td>\n",
       "      <td>0.122215</td>\n",
       "      <td>0.124172</td>\n",
       "      <td>0.125694</td>\n",
       "      <td>0.123437</td>\n",
       "      <td>0.123899</td>\n",
       "      <td>0.123849</td>\n",
       "      <td>0.125098</td>\n",
       "    </tr>\n",
       "  </tbody>\n",
       "</table>\n",
       "<p>7 rows × 51 columns</p>\n",
       "</div>"
      ],
      "text/plain": [
       "                               classifier        T0        T1        T2  \\\n",
       "accuracy                         0.853022  0.841640  0.849044  0.851696   \n",
       "f1                               0.665325  0.634718  0.664043  0.666335   \n",
       "statistical_parity_difference   -0.182630 -0.161640 -0.196043 -0.182798   \n",
       "equal_opportunity_difference    -0.190759 -0.129860 -0.212288 -0.193454   \n",
       "average_abs_odds_difference      0.129289  0.095923  0.145995  0.130074   \n",
       "disparate_impact                -1.321481 -1.148266 -1.362374 -1.267542   \n",
       "theil_index                      0.125098  0.135744  0.123959  0.123967   \n",
       "\n",
       "                                     T3        T4        T5        T6  \\\n",
       "accuracy                       0.847055  0.852249  0.855454  0.852691   \n",
       "f1                             0.657256  0.662799  0.674141  0.662617   \n",
       "statistical_parity_difference -0.181329 -0.185236 -0.185058 -0.184488   \n",
       "equal_opportunity_difference  -0.166257 -0.200114 -0.186732 -0.217833   \n",
       "average_abs_odds_difference    0.119251  0.135106  0.127704  0.141967   \n",
       "disparate_impact              -1.234715 -1.363388 -1.301305 -1.372626   \n",
       "theil_index                    0.126652  0.126060  0.121567  0.126346   \n",
       "\n",
       "                                     T7        T8  ...       T40       T41  \\\n",
       "accuracy                       0.852249  0.852249  ...  0.854680  0.853907   \n",
       "f1                             0.660574  0.661433  ...  0.671824  0.669500   \n",
       "statistical_parity_difference -0.182032 -0.184164  ... -0.189514 -0.188885   \n",
       "equal_opportunity_difference  -0.200053 -0.202685  ... -0.203398 -0.203103   \n",
       "average_abs_odds_difference    0.133549  0.135767  ...  0.137607  0.137460   \n",
       "disparate_impact              -1.358538 -1.371311  ... -1.360426 -1.361902   \n",
       "theil_index                    0.127196  0.126760  ...  0.122440  0.123312   \n",
       "\n",
       "                                    T42       T43       T44       T45  \\\n",
       "accuracy                       0.853907  0.855343  0.854459  0.853575   \n",
       "f1                             0.668339  0.672832  0.668346  0.664642   \n",
       "statistical_parity_difference -0.186104 -0.188539 -0.183160 -0.182963   \n",
       "equal_opportunity_difference  -0.202809 -0.203398 -0.196784 -0.202980   \n",
       "average_abs_odds_difference    0.135863  0.136903  0.131677  0.134699   \n",
       "disparate_impact              -1.346960 -1.356597 -1.331300 -1.354214   \n",
       "theil_index                    0.123924  0.122215  0.124172  0.125694   \n",
       "\n",
       "                                    T46       T47       T48       T49  \n",
       "accuracy                       0.854570  0.853464  0.854128  0.853022  \n",
       "f1                             0.669844  0.668002  0.668675  0.665325  \n",
       "statistical_parity_difference -0.189663 -0.187911 -0.185779 -0.182630  \n",
       "equal_opportunity_difference  -0.217957 -0.200470 -0.206201 -0.190759  \n",
       "average_abs_odds_difference    0.144027  0.136026  0.137010  0.129289  \n",
       "disparate_impact              -1.389209 -1.358058 -1.345668 -1.321481  \n",
       "theil_index                    0.123437  0.123899  0.123849  0.125098  \n",
       "\n",
       "[7 rows x 51 columns]"
      ]
     },
     "execution_count": 25,
     "metadata": {},
     "output_type": "execute_result"
    }
   ],
   "source": [
    "import numpy as np\n",
    "final_result = pd.DataFrame(final_metrics)\n",
    "print(final_result)\n",
    "final_result[4] = np.log(final_result[4])\n",
    "final_result = final_result.transpose()\n",
    "final_result.loc[0] = f1  # add f1 and acc to df\n",
    "acc = pd.DataFrame(accuracy).transpose()\n",
    "acc = acc.rename(index={0: 'accuracy'})\n",
    "final_result = pd.concat([acc,final_result])\n",
    "final_result = final_result.rename(index={0: 'f1', 1: 'statistical_parity_difference', 2: 'equal_opportunity_difference', 3: 'average_abs_odds_difference', 4: 'disparate_impact', 5: 'theil_index'})\n",
    "final_result.columns = ['T' + str(col) for col in final_result.columns]\n",
    "final_result.insert(0, \"classifier\", final_result['T' + str(num_estimators - 1)])   ##Add final metrics add the beginning of the df\n",
    "final_result.to_csv('../../Results/RF/' + nb_fname + '.csv')\n",
    "final_result"
   ]
  },
  {
   "cell_type": "code",
   "execution_count": null,
   "metadata": {},
   "outputs": [],
   "source": []
  }
 ],
 "metadata": {
  "kernelspec": {
   "display_name": "Python 3",
   "language": "python",
   "name": "python3"
  },
  "language_info": {
   "codemirror_mode": {
    "name": "ipython",
    "version": 3
   },
   "file_extension": ".py",
   "mimetype": "text/x-python",
   "name": "python",
   "nbconvert_exporter": "python",
   "pygments_lexer": "ipython3",
   "version": "3.8.5"
  }
 },
 "nbformat": 4,
 "nbformat_minor": 1
}
