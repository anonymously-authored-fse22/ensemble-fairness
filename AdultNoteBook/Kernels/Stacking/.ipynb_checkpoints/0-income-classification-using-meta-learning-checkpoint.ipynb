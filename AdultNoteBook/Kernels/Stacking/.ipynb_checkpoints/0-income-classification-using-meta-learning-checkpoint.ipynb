{
 "cells": [
  {
   "cell_type": "markdown",
   "metadata": {
    "papermill": {
     "duration": 0.061009,
     "end_time": "2020-10-28T08:36:40.988052",
     "exception": false,
     "start_time": "2020-10-28T08:36:40.927043",
     "status": "completed"
    },
    "tags": []
   },
   "source": [
    "# Adult Census Income Classification using Meta Learning"
   ]
  },
  {
   "cell_type": "code",
   "execution_count": 1,
   "metadata": {
    "_cell_guid": "b1076dfc-b9ad-4769-8c92-a6c4dae69d19",
    "_uuid": "8f2839f25d086af736a60e9eeb907d3b93b6e0e5",
    "execution": {
     "iopub.execute_input": "2020-10-28T08:36:41.117414Z",
     "iopub.status.busy": "2020-10-28T08:36:41.116495Z",
     "iopub.status.idle": "2020-10-28T08:36:42.694440Z",
     "shell.execute_reply": "2020-10-28T08:36:42.693723Z"
    },
    "papermill": {
     "duration": 1.645861,
     "end_time": "2020-10-28T08:36:42.694586",
     "exception": false,
     "start_time": "2020-10-28T08:36:41.048725",
     "status": "completed"
    },
    "tags": []
   },
   "outputs": [],
   "source": [
    "#importing the required libraries\n",
    "import numpy as np\n",
    "import pandas as pd\n",
    "import matplotlib.pyplot as plt\n",
    "import seaborn as sns\n",
    "plt.style.use('ggplot')\n",
    "\n",
    "from imblearn.over_sampling import RandomOverSampler\n",
    "from sklearn.model_selection import train_test_split\n",
    "\n",
    "from numpy import mean, std"
   ]
  },
  {
   "cell_type": "code",
   "execution_count": 2,
   "metadata": {},
   "outputs": [],
   "source": [
    "from aif360.datasets import StandardDataset\n",
    "from aif360.metrics import BinaryLabelDatasetMetric, ClassificationMetric\n",
    "import matplotlib.patches as patches\n",
    "from aif360.algorithms.preprocessing import Reweighing\n",
    "#from packages import *\n",
    "#from ml_fairness import *\n",
    "import matplotlib.pyplot as plt\n",
    "import seaborn as sns\n",
    "\n",
    "\n",
    "\n",
    "from IPython.display import Markdown, display"
   ]
  },
  {
   "cell_type": "code",
   "execution_count": 3,
   "metadata": {
    "_cell_guid": "79c7e3d0-c299-4dcb-8224-4455121ee9b0",
    "_uuid": "d629ff2d2480ee46fbb7e2d37f6b5fab8052498a",
    "execution": {
     "iopub.execute_input": "2020-10-28T08:36:42.829035Z",
     "iopub.status.busy": "2020-10-28T08:36:42.828189Z",
     "iopub.status.idle": "2020-10-28T08:36:42.967836Z",
     "shell.execute_reply": "2020-10-28T08:36:42.967005Z"
    },
    "papermill": {
     "duration": 0.212609,
     "end_time": "2020-10-28T08:36:42.967965",
     "exception": false,
     "start_time": "2020-10-28T08:36:42.755356",
     "status": "completed"
    },
    "tags": []
   },
   "outputs": [],
   "source": [
    "#reading the dataset and converting it to dataframe\n",
    "df = pd.read_csv(\"../../Data/adult.csv\")"
   ]
  },
  {
   "cell_type": "code",
   "execution_count": 4,
   "metadata": {
    "execution": {
     "iopub.execute_input": "2020-10-28T08:36:43.109255Z",
     "iopub.status.busy": "2020-10-28T08:36:43.108387Z",
     "iopub.status.idle": "2020-10-28T08:36:43.123630Z",
     "shell.execute_reply": "2020-10-28T08:36:43.122916Z"
    },
    "papermill": {
     "duration": 0.096674,
     "end_time": "2020-10-28T08:36:43.123760",
     "exception": false,
     "start_time": "2020-10-28T08:36:43.027086",
     "status": "completed"
    },
    "tags": []
   },
   "outputs": [
    {
     "data": {
      "text/html": [
       "<div>\n",
       "<style scoped>\n",
       "    .dataframe tbody tr th:only-of-type {\n",
       "        vertical-align: middle;\n",
       "    }\n",
       "\n",
       "    .dataframe tbody tr th {\n",
       "        vertical-align: top;\n",
       "    }\n",
       "\n",
       "    .dataframe thead th {\n",
       "        text-align: right;\n",
       "    }\n",
       "</style>\n",
       "<table border=\"1\" class=\"dataframe\">\n",
       "  <thead>\n",
       "    <tr style=\"text-align: right;\">\n",
       "      <th></th>\n",
       "      <th>age</th>\n",
       "      <th>workclass</th>\n",
       "      <th>fnlwgt</th>\n",
       "      <th>education</th>\n",
       "      <th>education.num</th>\n",
       "      <th>marital.status</th>\n",
       "      <th>occupation</th>\n",
       "      <th>relationship</th>\n",
       "      <th>race</th>\n",
       "      <th>sex</th>\n",
       "      <th>capital.gain</th>\n",
       "      <th>capital.loss</th>\n",
       "      <th>hours.per.week</th>\n",
       "      <th>native.country</th>\n",
       "      <th>income</th>\n",
       "    </tr>\n",
       "  </thead>\n",
       "  <tbody>\n",
       "    <tr>\n",
       "      <th>0</th>\n",
       "      <td>90</td>\n",
       "      <td>?</td>\n",
       "      <td>77053</td>\n",
       "      <td>HS-grad</td>\n",
       "      <td>9</td>\n",
       "      <td>Widowed</td>\n",
       "      <td>?</td>\n",
       "      <td>Not-in-family</td>\n",
       "      <td>White</td>\n",
       "      <td>Female</td>\n",
       "      <td>0</td>\n",
       "      <td>4356</td>\n",
       "      <td>40</td>\n",
       "      <td>United-States</td>\n",
       "      <td>&lt;=50K</td>\n",
       "    </tr>\n",
       "    <tr>\n",
       "      <th>1</th>\n",
       "      <td>82</td>\n",
       "      <td>Private</td>\n",
       "      <td>132870</td>\n",
       "      <td>HS-grad</td>\n",
       "      <td>9</td>\n",
       "      <td>Widowed</td>\n",
       "      <td>Exec-managerial</td>\n",
       "      <td>Not-in-family</td>\n",
       "      <td>White</td>\n",
       "      <td>Female</td>\n",
       "      <td>0</td>\n",
       "      <td>4356</td>\n",
       "      <td>18</td>\n",
       "      <td>United-States</td>\n",
       "      <td>&lt;=50K</td>\n",
       "    </tr>\n",
       "    <tr>\n",
       "      <th>2</th>\n",
       "      <td>66</td>\n",
       "      <td>?</td>\n",
       "      <td>186061</td>\n",
       "      <td>Some-college</td>\n",
       "      <td>10</td>\n",
       "      <td>Widowed</td>\n",
       "      <td>?</td>\n",
       "      <td>Unmarried</td>\n",
       "      <td>Black</td>\n",
       "      <td>Female</td>\n",
       "      <td>0</td>\n",
       "      <td>4356</td>\n",
       "      <td>40</td>\n",
       "      <td>United-States</td>\n",
       "      <td>&lt;=50K</td>\n",
       "    </tr>\n",
       "    <tr>\n",
       "      <th>3</th>\n",
       "      <td>54</td>\n",
       "      <td>Private</td>\n",
       "      <td>140359</td>\n",
       "      <td>7th-8th</td>\n",
       "      <td>4</td>\n",
       "      <td>Divorced</td>\n",
       "      <td>Machine-op-inspct</td>\n",
       "      <td>Unmarried</td>\n",
       "      <td>White</td>\n",
       "      <td>Female</td>\n",
       "      <td>0</td>\n",
       "      <td>3900</td>\n",
       "      <td>40</td>\n",
       "      <td>United-States</td>\n",
       "      <td>&lt;=50K</td>\n",
       "    </tr>\n",
       "    <tr>\n",
       "      <th>4</th>\n",
       "      <td>41</td>\n",
       "      <td>Private</td>\n",
       "      <td>264663</td>\n",
       "      <td>Some-college</td>\n",
       "      <td>10</td>\n",
       "      <td>Separated</td>\n",
       "      <td>Prof-specialty</td>\n",
       "      <td>Own-child</td>\n",
       "      <td>White</td>\n",
       "      <td>Female</td>\n",
       "      <td>0</td>\n",
       "      <td>3900</td>\n",
       "      <td>40</td>\n",
       "      <td>United-States</td>\n",
       "      <td>&lt;=50K</td>\n",
       "    </tr>\n",
       "  </tbody>\n",
       "</table>\n",
       "</div>"
      ],
      "text/plain": [
       "   age workclass  fnlwgt     education  education.num marital.status  \\\n",
       "0   90         ?   77053       HS-grad              9        Widowed   \n",
       "1   82   Private  132870       HS-grad              9        Widowed   \n",
       "2   66         ?  186061  Some-college             10        Widowed   \n",
       "3   54   Private  140359       7th-8th              4       Divorced   \n",
       "4   41   Private  264663  Some-college             10      Separated   \n",
       "\n",
       "          occupation   relationship   race     sex  capital.gain  \\\n",
       "0                  ?  Not-in-family  White  Female             0   \n",
       "1    Exec-managerial  Not-in-family  White  Female             0   \n",
       "2                  ?      Unmarried  Black  Female             0   \n",
       "3  Machine-op-inspct      Unmarried  White  Female             0   \n",
       "4     Prof-specialty      Own-child  White  Female             0   \n",
       "\n",
       "   capital.loss  hours.per.week native.country income  \n",
       "0          4356              40  United-States  <=50K  \n",
       "1          4356              18  United-States  <=50K  \n",
       "2          4356              40  United-States  <=50K  \n",
       "3          3900              40  United-States  <=50K  \n",
       "4          3900              40  United-States  <=50K  "
      ]
     },
     "execution_count": 4,
     "metadata": {},
     "output_type": "execute_result"
    }
   ],
   "source": [
    "#Viewing the top 5 rows of our dataset\n",
    "df.head()"
   ]
  },
  {
   "cell_type": "markdown",
   "metadata": {
    "papermill": {
     "duration": 0.060018,
     "end_time": "2020-10-28T08:36:43.244776",
     "exception": false,
     "start_time": "2020-10-28T08:36:43.184758",
     "status": "completed"
    },
    "tags": []
   },
   "source": [
    "## Exploratory Data Analysis"
   ]
  },
  {
   "cell_type": "markdown",
   "metadata": {
    "papermill": {
     "duration": 0.06009,
     "end_time": "2020-10-28T08:36:43.365338",
     "exception": false,
     "start_time": "2020-10-28T08:36:43.305248",
     "status": "completed"
    },
    "tags": []
   },
   "source": [
    "**Income - Target column**"
   ]
  },
  {
   "cell_type": "code",
   "execution_count": 5,
   "metadata": {
    "execution": {
     "iopub.execute_input": "2020-10-28T08:36:43.497538Z",
     "iopub.status.busy": "2020-10-28T08:36:43.496685Z",
     "iopub.status.idle": "2020-10-28T08:36:43.680879Z",
     "shell.execute_reply": "2020-10-28T08:36:43.680030Z"
    },
    "papermill": {
     "duration": 0.255396,
     "end_time": "2020-10-28T08:36:43.681032",
     "exception": false,
     "start_time": "2020-10-28T08:36:43.425636",
     "status": "completed"
    },
    "tags": []
   },
   "outputs": [
    {
     "name": "stderr",
     "output_type": "stream",
     "text": [
      "Pass the following variable as a keyword arg: x. From version 0.12, the only valid positional argument will be `data`, and passing other arguments without an explicit keyword will result in an error or misinterpretation.\n"
     ]
    },
    {
     "data": {
      "text/plain": [
       "<AxesSubplot:xlabel='income', ylabel='count'>"
      ]
     },
     "execution_count": 5,
     "metadata": {},
     "output_type": "execute_result"
    },
    {
     "data": {
      "image/png": "[encoded data removed]",
      "text/plain": [
       "<Figure size 432x288 with 1 Axes>"
      ]
     },
     "metadata": {},
     "output_type": "display_data"
    }
   ],
   "source": [
    "sns.countplot(df.income)"
   ]
  },
  {
   "cell_type": "markdown",
   "metadata": {
    "papermill": {
     "duration": 0.071527,
     "end_time": "2020-10-28T08:36:43.818119",
     "exception": false,
     "start_time": "2020-10-28T08:36:43.746592",
     "status": "completed"
    },
    "tags": []
   },
   "source": [
    "*As we can see, there is a **class imbalance**. The \">50K\" class is comparatively very less. So, we will do **Random Over-Sampling** during preprocessing.*\n"
   ]
  },
  {
   "cell_type": "markdown",
   "metadata": {
    "papermill": {
     "duration": 0.068469,
     "end_time": "2020-10-28T08:36:43.960681",
     "exception": false,
     "start_time": "2020-10-28T08:36:43.892212",
     "status": "completed"
    },
    "tags": []
   },
   "source": [
    "**Age**"
   ]
  },
  {
   "cell_type": "code",
   "execution_count": 6,
   "metadata": {
    "execution": {
     "iopub.execute_input": "2020-10-28T08:36:44.099436Z",
     "iopub.status.busy": "2020-10-28T08:36:44.098260Z",
     "iopub.status.idle": "2020-10-28T08:36:44.593106Z",
     "shell.execute_reply": "2020-10-28T08:36:44.592040Z"
    },
    "papermill": {
     "duration": 0.570153,
     "end_time": "2020-10-28T08:36:44.593288",
     "exception": false,
     "start_time": "2020-10-28T08:36:44.023135",
     "status": "completed"
    },
    "tags": []
   },
   "outputs": [
    {
     "name": "stderr",
     "output_type": "stream",
     "text": [
      "`distplot` is a deprecated function and will be removed in a future version. Please adapt your code to use either `displot` (a figure-level function with similar flexibility) or `histplot` (an axes-level function for histograms).\n",
      "`distplot` is a deprecated function and will be removed in a future version. Please adapt your code to use either `displot` (a figure-level function with similar flexibility) or `histplot` (an axes-level function for histograms).\n"
     ]
    },
    {
     "data": {
      "text/plain": [
       "<AxesSubplot:xlabel='age', ylabel='Density'>"
      ]
     },
     "execution_count": 6,
     "metadata": {},
     "output_type": "execute_result"
    },
    {
     "data": {
      "image/png": "[encoded data removed]",
      "text/plain": [
       "<Figure size 432x288 with 1 Axes>"
      ]
     },
     "metadata": {},
     "output_type": "display_data"
    }
   ],
   "source": [
    "sns.distplot(df[df.income=='<=50K'].age, color='g')\n",
    "sns.distplot(df[df.income=='>50K'].age, color='r')"
   ]
  },
  {
   "cell_type": "markdown",
   "metadata": {
    "papermill": {
     "duration": 0.063479,
     "end_time": "2020-10-28T08:36:44.723916",
     "exception": false,
     "start_time": "2020-10-28T08:36:44.660437",
     "status": "completed"
    },
    "tags": []
   },
   "source": [
    "*We can observe a rough margin **around 30**. We will divide age into 2 parts ie. under 30 and over 30. We need to check if its useful for our model during testing.*"
   ]
  },
  {
   "cell_type": "markdown",
   "metadata": {
    "papermill": {
     "duration": 0.072609,
     "end_time": "2020-10-28T08:36:44.869673",
     "exception": false,
     "start_time": "2020-10-28T08:36:44.797064",
     "status": "completed"
    },
    "tags": []
   },
   "source": [
    "**Workclass**"
   ]
  },
  {
   "cell_type": "code",
   "execution_count": 7,
   "metadata": {
    "execution": {
     "iopub.execute_input": "2020-10-28T08:36:45.015222Z",
     "iopub.status.busy": "2020-10-28T08:36:45.014109Z",
     "iopub.status.idle": "2020-10-28T08:36:45.300347Z",
     "shell.execute_reply": "2020-10-28T08:36:45.299693Z"
    },
    "papermill": {
     "duration": 0.366115,
     "end_time": "2020-10-28T08:36:45.300483",
     "exception": false,
     "start_time": "2020-10-28T08:36:44.934368",
     "status": "completed"
    },
    "tags": []
   },
   "outputs": [
    {
     "name": "stderr",
     "output_type": "stream",
     "text": [
      "Pass the following variable as a keyword arg: x. From version 0.12, the only valid positional argument will be `data`, and passing other arguments without an explicit keyword will result in an error or misinterpretation.\n"
     ]
    },
    {
     "data": {
      "text/plain": [
       "<AxesSubplot:xlabel='workclass', ylabel='count'>"
      ]
     },
     "execution_count": 7,
     "metadata": {},
     "output_type": "execute_result"
    },
    {
     "data": {
      "image/png": "[encoded data removed]",
      "text/plain": [
       "<Figure size 432x288 with 1 Axes>"
      ]
     },
     "metadata": {},
     "output_type": "display_data"
    }
   ],
   "source": [
    "plt.xticks(rotation=90)\n",
    "sns.countplot(df.workclass, hue=df.income, palette='tab10')"
   ]
  },
  {
   "cell_type": "markdown",
   "metadata": {
    "papermill": {
     "duration": 0.065421,
     "end_time": "2020-10-28T08:36:45.431876",
     "exception": false,
     "start_time": "2020-10-28T08:36:45.366455",
     "status": "completed"
    },
    "tags": []
   },
   "source": [
    "*Majority of the data falls under **Private**. So, we will convert this into Private and not-Private.*"
   ]
  },
  {
   "cell_type": "markdown",
   "metadata": {
    "papermill": {
     "duration": 0.065404,
     "end_time": "2020-10-28T08:36:45.563096",
     "exception": false,
     "start_time": "2020-10-28T08:36:45.497692",
     "status": "completed"
    },
    "tags": []
   },
   "source": [
    "**fnlwgt**"
   ]
  },
  {
   "cell_type": "code",
   "execution_count": 8,
   "metadata": {
    "execution": {
     "iopub.execute_input": "2020-10-28T08:36:45.710016Z",
     "iopub.status.busy": "2020-10-28T08:36:45.709172Z",
     "iopub.status.idle": "2020-10-28T08:36:46.126864Z",
     "shell.execute_reply": "2020-10-28T08:36:46.126062Z"
    },
    "papermill": {
     "duration": 0.497341,
     "end_time": "2020-10-28T08:36:46.127005",
     "exception": false,
     "start_time": "2020-10-28T08:36:45.629664",
     "status": "completed"
    },
    "tags": []
   },
   "outputs": [
    {
     "name": "stderr",
     "output_type": "stream",
     "text": [
      "`distplot` is a deprecated function and will be removed in a future version. Please adapt your code to use either `displot` (a figure-level function with similar flexibility) or `histplot` (an axes-level function for histograms).\n",
      "`distplot` is a deprecated function and will be removed in a future version. Please adapt your code to use either `displot` (a figure-level function with similar flexibility) or `histplot` (an axes-level function for histograms).\n"
     ]
    },
    {
     "data": {
      "text/plain": [
       "<AxesSubplot:xlabel='fnlwgt', ylabel='Density'>"
      ]
     },
     "execution_count": 8,
     "metadata": {},
     "output_type": "execute_result"
    },
    {
     "data": {
      "image/png": "[encoded data removed]",
      "text/plain": [
       "<Figure size 432x288 with 1 Axes>"
      ]
     },
     "metadata": {},
     "output_type": "display_data"
    }
   ],
   "source": [
    "sns.distplot(df[df.income=='<=50K'].fnlwgt, color='r')\n",
    "sns.distplot(df[df.income=='>50K'].fnlwgt, color='g')"
   ]
  },
  {
   "cell_type": "markdown",
   "metadata": {
    "papermill": {
     "duration": 0.067156,
     "end_time": "2020-10-28T08:36:46.261474",
     "exception": false,
     "start_time": "2020-10-28T08:36:46.194318",
     "status": "completed"
    },
    "tags": []
   },
   "source": [
    "*This is a very **ambiguous** attribute. Will check during testing.*"
   ]
  },
  {
   "cell_type": "markdown",
   "metadata": {
    "papermill": {
     "duration": 0.066207,
     "end_time": "2020-10-28T08:36:46.394382",
     "exception": false,
     "start_time": "2020-10-28T08:36:46.328175",
     "status": "completed"
    },
    "tags": []
   },
   "source": [
    "**Education**"
   ]
  },
  {
   "cell_type": "code",
   "execution_count": 9,
   "metadata": {
    "execution": {
     "iopub.execute_input": "2020-10-28T08:36:46.542189Z",
     "iopub.status.busy": "2020-10-28T08:36:46.540181Z",
     "iopub.status.idle": "2020-10-28T08:36:46.894169Z",
     "shell.execute_reply": "2020-10-28T08:36:46.894765Z"
    },
    "papermill": {
     "duration": 0.433762,
     "end_time": "2020-10-28T08:36:46.894983",
     "exception": false,
     "start_time": "2020-10-28T08:36:46.461221",
     "status": "completed"
    },
    "tags": []
   },
   "outputs": [
    {
     "name": "stderr",
     "output_type": "stream",
     "text": [
      "Pass the following variable as a keyword arg: x. From version 0.12, the only valid positional argument will be `data`, and passing other arguments without an explicit keyword will result in an error or misinterpretation.\n"
     ]
    },
    {
     "data": {
      "text/plain": [
       "<AxesSubplot:xlabel='education', ylabel='count'>"
      ]
     },
     "execution_count": 9,
     "metadata": {},
     "output_type": "execute_result"
    },
    {
     "data": {
      "image/png": "[encoded data removed]",
      "text/plain": [
       "<Figure size 432x288 with 1 Axes>"
      ]
     },
     "metadata": {},
     "output_type": "display_data"
    }
   ],
   "source": [
    "plt.xticks(rotation=90)\n",
    "sns.countplot(df.education, hue=df.income, palette='muted')"
   ]
  },
  {
   "cell_type": "markdown",
   "metadata": {
    "papermill": {
     "duration": 0.069051,
     "end_time": "2020-10-28T08:36:47.034493",
     "exception": false,
     "start_time": "2020-10-28T08:36:46.965442",
     "status": "completed"
    },
    "tags": []
   },
   "source": [
    "**education.num**"
   ]
  },
  {
   "cell_type": "code",
   "execution_count": 10,
   "metadata": {
    "execution": {
     "iopub.execute_input": "2020-10-28T08:36:47.194005Z",
     "iopub.status.busy": "2020-10-28T08:36:47.192908Z",
     "iopub.status.idle": "2020-10-28T08:36:47.526601Z",
     "shell.execute_reply": "2020-10-28T08:36:47.527461Z"
    },
    "papermill": {
     "duration": 0.423139,
     "end_time": "2020-10-28T08:36:47.527692",
     "exception": false,
     "start_time": "2020-10-28T08:36:47.104553",
     "status": "completed"
    },
    "tags": []
   },
   "outputs": [
    {
     "name": "stderr",
     "output_type": "stream",
     "text": [
      "Pass the following variable as a keyword arg: x. From version 0.12, the only valid positional argument will be `data`, and passing other arguments without an explicit keyword will result in an error or misinterpretation.\n"
     ]
    },
    {
     "data": {
      "text/plain": [
       "<AxesSubplot:xlabel='education.num', ylabel='count'>"
      ]
     },
     "execution_count": 10,
     "metadata": {},
     "output_type": "execute_result"
    },
    {
     "data": {
      "image/png": "[encoded data removed]",
      "text/plain": [
       "<Figure size 432x288 with 1 Axes>"
      ]
     },
     "metadata": {},
     "output_type": "display_data"
    }
   ],
   "source": [
    "sns.countplot(df[\"education.num\"], hue=df.income)"
   ]
  },
  {
   "cell_type": "markdown",
   "metadata": {
    "papermill": {
     "duration": 0.070591,
     "end_time": "2020-10-28T08:36:47.673540",
     "exception": false,
     "start_time": "2020-10-28T08:36:47.602949",
     "status": "completed"
    },
    "tags": []
   },
   "source": [
    "**marital.status**"
   ]
  },
  {
   "cell_type": "code",
   "execution_count": 11,
   "metadata": {
    "execution": {
     "iopub.execute_input": "2020-10-28T08:36:47.832888Z",
     "iopub.status.busy": "2020-10-28T08:36:47.831554Z",
     "iopub.status.idle": "2020-10-28T08:36:48.091960Z",
     "shell.execute_reply": "2020-10-28T08:36:48.091105Z"
    },
    "papermill": {
     "duration": 0.347106,
     "end_time": "2020-10-28T08:36:48.092150",
     "exception": false,
     "start_time": "2020-10-28T08:36:47.745044",
     "status": "completed"
    },
    "tags": []
   },
   "outputs": [
    {
     "name": "stderr",
     "output_type": "stream",
     "text": [
      "Pass the following variable as a keyword arg: x. From version 0.12, the only valid positional argument will be `data`, and passing other arguments without an explicit keyword will result in an error or misinterpretation.\n"
     ]
    },
    {
     "data": {
      "text/plain": [
       "<AxesSubplot:xlabel='marital.status', ylabel='count'>"
      ]
     },
     "execution_count": 11,
     "metadata": {},
     "output_type": "execute_result"
    },
    {
     "data": {
      "image/png": "[encoded data removed]",
      "text/plain": [
       "<Figure size 432x288 with 1 Axes>"
      ]
     },
     "metadata": {},
     "output_type": "display_data"
    }
   ],
   "source": [
    "plt.xticks(rotation=90)\n",
    "sns.countplot(df['marital.status'], hue=df.income)"
   ]
  },
  {
   "cell_type": "markdown",
   "metadata": {
    "papermill": {
     "duration": 0.071711,
     "end_time": "2020-10-28T08:36:48.236733",
     "exception": false,
     "start_time": "2020-10-28T08:36:48.165022",
     "status": "completed"
    },
    "tags": []
   },
   "source": [
    "*We observe that the majority of \">50K\" class is **Married-civ-spouse**. So we ll make it 1 and others 0*"
   ]
  },
  {
   "cell_type": "markdown",
   "metadata": {
    "papermill": {
     "duration": 0.071897,
     "end_time": "2020-10-28T08:36:48.381491",
     "exception": false,
     "start_time": "2020-10-28T08:36:48.309594",
     "status": "completed"
    },
    "tags": []
   },
   "source": [
    "**occupation**"
   ]
  },
  {
   "cell_type": "code",
   "execution_count": 12,
   "metadata": {
    "execution": {
     "iopub.execute_input": "2020-10-28T08:36:48.539138Z",
     "iopub.status.busy": "2020-10-28T08:36:48.538292Z",
     "iopub.status.idle": "2020-10-28T08:36:48.903172Z",
     "shell.execute_reply": "2020-10-28T08:36:48.902143Z"
    },
    "papermill": {
     "duration": 0.44931,
     "end_time": "2020-10-28T08:36:48.903381",
     "exception": false,
     "start_time": "2020-10-28T08:36:48.454071",
     "status": "completed"
    },
    "tags": []
   },
   "outputs": [
    {
     "name": "stderr",
     "output_type": "stream",
     "text": [
      "Pass the following variable as a keyword arg: x. From version 0.12, the only valid positional argument will be `data`, and passing other arguments without an explicit keyword will result in an error or misinterpretation.\n"
     ]
    },
    {
     "data": {
      "text/plain": [
       "<AxesSubplot:xlabel='occupation', ylabel='count'>"
      ]
     },
     "execution_count": 12,
     "metadata": {},
     "output_type": "execute_result"
    },
    {
     "data": {
      "image/png": "[encoded data removed]",
      "text/plain": [
       "<Figure size 432x288 with 1 Axes>"
      ]
     },
     "metadata": {},
     "output_type": "display_data"
    }
   ],
   "source": [
    "plt.xticks(rotation=90)\n",
    "sns.countplot(df.occupation, hue=df.income, palette='rocket')"
   ]
  },
  {
   "cell_type": "markdown",
   "metadata": {
    "papermill": {
     "duration": 0.07383,
     "end_time": "2020-10-28T08:36:49.052042",
     "exception": false,
     "start_time": "2020-10-28T08:36:48.978212",
     "status": "completed"
    },
    "tags": []
   },
   "source": [
    "**relationship**"
   ]
  },
  {
   "cell_type": "code",
   "execution_count": 13,
   "metadata": {
    "execution": {
     "iopub.execute_input": "2020-10-28T08:36:49.216973Z",
     "iopub.status.busy": "2020-10-28T08:36:49.216113Z",
     "iopub.status.idle": "2020-10-28T08:36:49.471759Z",
     "shell.execute_reply": "2020-10-28T08:36:49.471061Z"
    },
    "papermill": {
     "duration": 0.342724,
     "end_time": "2020-10-28T08:36:49.471980",
     "exception": false,
     "start_time": "2020-10-28T08:36:49.129256",
     "status": "completed"
    },
    "tags": []
   },
   "outputs": [
    {
     "name": "stderr",
     "output_type": "stream",
     "text": [
      "Pass the following variable as a keyword arg: x. From version 0.12, the only valid positional argument will be `data`, and passing other arguments without an explicit keyword will result in an error or misinterpretation.\n"
     ]
    },
    {
     "data": {
      "text/plain": [
       "<AxesSubplot:xlabel='relationship', ylabel='count'>"
      ]
     },
     "execution_count": 13,
     "metadata": {},
     "output_type": "execute_result"
    },
    {
     "data": {
      "image/png": "[encoded data removed]",
      "text/plain": [
       "<Figure size 432x288 with 1 Axes>"
      ]
     },
     "metadata": {},
     "output_type": "display_data"
    }
   ],
   "source": [
    "plt.xticks(rotation=90)\n",
    "sns.countplot(df.relationship, hue=df.income, palette='muted')"
   ]
  },
  {
   "cell_type": "markdown",
   "metadata": {
    "papermill": {
     "duration": 0.075751,
     "end_time": "2020-10-28T08:36:49.625632",
     "exception": false,
     "start_time": "2020-10-28T08:36:49.549881",
     "status": "completed"
    },
    "tags": []
   },
   "source": [
    "**race**"
   ]
  },
  {
   "cell_type": "code",
   "execution_count": 14,
   "metadata": {
    "execution": {
     "iopub.execute_input": "2020-10-28T08:36:49.792885Z",
     "iopub.status.busy": "2020-10-28T08:36:49.792036Z",
     "iopub.status.idle": "2020-10-28T08:36:50.033477Z",
     "shell.execute_reply": "2020-10-28T08:36:50.032747Z"
    },
    "papermill": {
     "duration": 0.330461,
     "end_time": "2020-10-28T08:36:50.033620",
     "exception": false,
     "start_time": "2020-10-28T08:36:49.703159",
     "status": "completed"
    },
    "tags": []
   },
   "outputs": [
    {
     "name": "stderr",
     "output_type": "stream",
     "text": [
      "Pass the following variable as a keyword arg: x. From version 0.12, the only valid positional argument will be `data`, and passing other arguments without an explicit keyword will result in an error or misinterpretation.\n"
     ]
    },
    {
     "data": {
      "text/plain": [
       "<AxesSubplot:xlabel='race', ylabel='count'>"
      ]
     },
     "execution_count": 14,
     "metadata": {},
     "output_type": "execute_result"
    },
    {
     "data": {
      "image/png": "[encoded data removed]",
      "text/plain": [
       "<Figure size 432x288 with 1 Axes>"
      ]
     },
     "metadata": {},
     "output_type": "display_data"
    }
   ],
   "source": [
    "plt.xticks(rotation=90)\n",
    "sns.countplot(df.race, hue=df.income, palette='Set2')"
   ]
  },
  {
   "cell_type": "markdown",
   "metadata": {
    "papermill": {
     "duration": 0.08034,
     "end_time": "2020-10-28T08:36:50.191698",
     "exception": false,
     "start_time": "2020-10-28T08:36:50.111358",
     "status": "completed"
    },
    "tags": []
   },
   "source": [
    "**sex**"
   ]
  },
  {
   "cell_type": "code",
   "execution_count": 15,
   "metadata": {
    "execution": {
     "iopub.execute_input": "2020-10-28T08:36:50.362273Z",
     "iopub.status.busy": "2020-10-28T08:36:50.356259Z",
     "iopub.status.idle": "2020-10-28T08:36:50.561310Z",
     "shell.execute_reply": "2020-10-28T08:36:50.561922Z"
    },
    "papermill": {
     "duration": 0.292381,
     "end_time": "2020-10-28T08:36:50.562105",
     "exception": false,
     "start_time": "2020-10-28T08:36:50.269724",
     "status": "completed"
    },
    "tags": []
   },
   "outputs": [
    {
     "name": "stderr",
     "output_type": "stream",
     "text": [
      "Pass the following variable as a keyword arg: x. From version 0.12, the only valid positional argument will be `data`, and passing other arguments without an explicit keyword will result in an error or misinterpretation.\n"
     ]
    },
    {
     "data": {
      "text/plain": [
       "<AxesSubplot:xlabel='sex', ylabel='count'>"
      ]
     },
     "execution_count": 15,
     "metadata": {},
     "output_type": "execute_result"
    },
    {
     "data": {
      "image/png": "[encoded data removed]",
      "text/plain": [
       "<Figure size 432x288 with 1 Axes>"
      ]
     },
     "metadata": {},
     "output_type": "display_data"
    }
   ],
   "source": [
    "plt.xticks(rotation=90)\n",
    "sns.countplot(df.sex, hue=df.income)"
   ]
  },
  {
   "cell_type": "markdown",
   "metadata": {
    "papermill": {
     "duration": 0.078795,
     "end_time": "2020-10-28T08:36:50.720024",
     "exception": false,
     "start_time": "2020-10-28T08:36:50.641229",
     "status": "completed"
    },
    "tags": []
   },
   "source": [
    "**capital.gain**"
   ]
  },
  {
   "cell_type": "code",
   "execution_count": 16,
   "metadata": {
    "execution": {
     "iopub.execute_input": "2020-10-28T08:36:50.888521Z",
     "iopub.status.busy": "2020-10-28T08:36:50.887632Z",
     "iopub.status.idle": "2020-10-28T08:36:50.896831Z",
     "shell.execute_reply": "2020-10-28T08:36:50.896048Z"
    },
    "papermill": {
     "duration": 0.097205,
     "end_time": "2020-10-28T08:36:50.896980",
     "exception": false,
     "start_time": "2020-10-28T08:36:50.799775",
     "status": "completed"
    },
    "tags": []
   },
   "outputs": [
    {
     "data": {
      "text/plain": [
       "0        29849\n",
       "15024      347\n",
       "7688       284\n",
       "7298       246\n",
       "99999      159\n",
       "         ...  \n",
       "4931         1\n",
       "1455         1\n",
       "6097         1\n",
       "22040        1\n",
       "1111         1\n",
       "Name: capital.gain, Length: 119, dtype: int64"
      ]
     },
     "execution_count": 16,
     "metadata": {},
     "output_type": "execute_result"
    }
   ],
   "source": [
    "df['capital.gain'].value_counts()"
   ]
  },
  {
   "cell_type": "markdown",
   "metadata": {
    "papermill": {
     "duration": 0.078989,
     "end_time": "2020-10-28T08:36:51.055683",
     "exception": false,
     "start_time": "2020-10-28T08:36:50.976694",
     "status": "completed"
    },
    "tags": []
   },
   "source": [
    "**capital.loss**"
   ]
  },
  {
   "cell_type": "code",
   "execution_count": 17,
   "metadata": {
    "execution": {
     "iopub.execute_input": "2020-10-28T08:36:51.221681Z",
     "iopub.status.busy": "2020-10-28T08:36:51.220526Z",
     "iopub.status.idle": "2020-10-28T08:36:51.230192Z",
     "shell.execute_reply": "2020-10-28T08:36:51.229428Z"
    },
    "papermill": {
     "duration": 0.095137,
     "end_time": "2020-10-28T08:36:51.230334",
     "exception": false,
     "start_time": "2020-10-28T08:36:51.135197",
     "status": "completed"
    },
    "tags": []
   },
   "outputs": [
    {
     "data": {
      "text/plain": [
       "0       31042\n",
       "1902      202\n",
       "1977      168\n",
       "1887      159\n",
       "1848       51\n",
       "        ...  \n",
       "1411        1\n",
       "1539        1\n",
       "2472        1\n",
       "1944        1\n",
       "2201        1\n",
       "Name: capital.loss, Length: 92, dtype: int64"
      ]
     },
     "execution_count": 17,
     "metadata": {},
     "output_type": "execute_result"
    }
   ],
   "source": [
    "df['capital.loss'].value_counts()"
   ]
  },
  {
   "cell_type": "markdown",
   "metadata": {
    "papermill": {
     "duration": 0.082267,
     "end_time": "2020-10-28T08:36:51.462360",
     "exception": false,
     "start_time": "2020-10-28T08:36:51.380093",
     "status": "completed"
    },
    "tags": []
   },
   "source": [
    "**hours.per.week**"
   ]
  },
  {
   "cell_type": "code",
   "execution_count": 18,
   "metadata": {
    "execution": {
     "iopub.execute_input": "2020-10-28T08:36:51.641955Z",
     "iopub.status.busy": "2020-10-28T08:36:51.640904Z",
     "iopub.status.idle": "2020-10-28T08:36:52.144354Z",
     "shell.execute_reply": "2020-10-28T08:36:52.143562Z"
    },
    "papermill": {
     "duration": 0.601217,
     "end_time": "2020-10-28T08:36:52.144491",
     "exception": false,
     "start_time": "2020-10-28T08:36:51.543274",
     "status": "completed"
    },
    "tags": []
   },
   "outputs": [
    {
     "name": "stderr",
     "output_type": "stream",
     "text": [
      "`distplot` is a deprecated function and will be removed in a future version. Please adapt your code to use either `displot` (a figure-level function with similar flexibility) or `histplot` (an axes-level function for histograms).\n",
      "`distplot` is a deprecated function and will be removed in a future version. Please adapt your code to use either `displot` (a figure-level function with similar flexibility) or `histplot` (an axes-level function for histograms).\n"
     ]
    },
    {
     "data": {
      "text/plain": [
       "<AxesSubplot:xlabel='hours.per.week', ylabel='Density'>"
      ]
     },
     "execution_count": 18,
     "metadata": {},
     "output_type": "execute_result"
    },
    {
     "data": {
      "image/png": "[encoded data removed]",
      "text/plain": [
       "<Figure size 432x288 with 1 Axes>"
      ]
     },
     "metadata": {},
     "output_type": "display_data"
    }
   ],
   "source": [
    "sns.distplot(df[df.income=='<=50K']['hours.per.week'], color='b')\n",
    "sns.distplot(df[df.income=='>50K']['hours.per.week'], color='r')"
   ]
  },
  {
   "cell_type": "markdown",
   "metadata": {
    "papermill": {
     "duration": 0.080915,
     "end_time": "2020-10-28T08:36:52.306536",
     "exception": false,
     "start_time": "2020-10-28T08:36:52.225621",
     "status": "completed"
    },
    "tags": []
   },
   "source": [
    "**native.country**"
   ]
  },
  {
   "cell_type": "code",
   "execution_count": 19,
   "metadata": {
    "execution": {
     "iopub.execute_input": "2020-10-28T08:36:52.487984Z",
     "iopub.status.busy": "2020-10-28T08:36:52.486943Z",
     "iopub.status.idle": "2020-10-28T08:36:52.491757Z",
     "shell.execute_reply": "2020-10-28T08:36:52.492383Z"
    },
    "papermill": {
     "duration": 0.105072,
     "end_time": "2020-10-28T08:36:52.492545",
     "exception": false,
     "start_time": "2020-10-28T08:36:52.387473",
     "status": "completed"
    },
    "tags": []
   },
   "outputs": [
    {
     "data": {
      "text/plain": [
       "United-States                 29170\n",
       "Mexico                          643\n",
       "?                               583\n",
       "Philippines                     198\n",
       "Germany                         137\n",
       "Canada                          121\n",
       "Puerto-Rico                     114\n",
       "El-Salvador                     106\n",
       "India                           100\n",
       "Cuba                             95\n",
       "England                          90\n",
       "Jamaica                          81\n",
       "South                            80\n",
       "China                            75\n",
       "Italy                            73\n",
       "Dominican-Republic               70\n",
       "Vietnam                          67\n",
       "Guatemala                        64\n",
       "Japan                            62\n",
       "Poland                           60\n",
       "Columbia                         59\n",
       "Taiwan                           51\n",
       "Haiti                            44\n",
       "Iran                             43\n",
       "Portugal                         37\n",
       "Nicaragua                        34\n",
       "Peru                             31\n",
       "Greece                           29\n",
       "France                           29\n",
       "Ecuador                          28\n",
       "Ireland                          24\n",
       "Hong                             20\n",
       "Trinadad&Tobago                  19\n",
       "Cambodia                         19\n",
       "Thailand                         18\n",
       "Laos                             18\n",
       "Yugoslavia                       16\n",
       "Outlying-US(Guam-USVI-etc)       14\n",
       "Hungary                          13\n",
       "Honduras                         13\n",
       "Scotland                         12\n",
       "Holand-Netherlands                1\n",
       "Name: native.country, dtype: int64"
      ]
     },
     "execution_count": 19,
     "metadata": {},
     "output_type": "execute_result"
    }
   ],
   "source": [
    "df['native.country'].value_counts()"
   ]
  },
  {
   "cell_type": "markdown",
   "metadata": {
    "papermill": {
     "duration": 0.085343,
     "end_time": "2020-10-28T08:36:52.659914",
     "exception": false,
     "start_time": "2020-10-28T08:36:52.574571",
     "status": "completed"
    },
    "tags": []
   },
   "source": [
    "## Preprocessing"
   ]
  },
  {
   "cell_type": "markdown",
   "metadata": {
    "papermill": {
     "duration": 0.082816,
     "end_time": "2020-10-28T08:36:52.825695",
     "exception": false,
     "start_time": "2020-10-28T08:36:52.742879",
     "status": "completed"
    },
    "tags": []
   },
   "source": [
    "### Finding and Handling Missing Data\n",
    "\n",
    "*Observing the dataset, I found that the null values are marked as \"?\", So, we will now convert them to numpy.nan(null values).*"
   ]
  },
  {
   "cell_type": "code",
   "execution_count": 20,
   "metadata": {
    "execution": {
     "iopub.execute_input": "2020-10-28T08:36:53.001840Z",
     "iopub.status.busy": "2020-10-28T08:36:53.001042Z",
     "iopub.status.idle": "2020-10-28T08:36:53.264849Z",
     "shell.execute_reply": "2020-10-28T08:36:53.265746Z"
    },
    "papermill": {
     "duration": 0.356481,
     "end_time": "2020-10-28T08:36:53.265954",
     "exception": false,
     "start_time": "2020-10-28T08:36:52.909473",
     "status": "completed"
    },
    "tags": []
   },
   "outputs": [
    {
     "name": "stdout",
     "output_type": "stream",
     "text": [
      "Missing values detected.\n",
      "\n",
      "workclass         1836\n",
      "occupation        1843\n",
      "native.country     583\n",
      "dtype: int64\n"
     ]
    }
   ],
   "source": [
    "df[df.select_dtypes(\"object\") ==\"?\"] = np.nan\n",
    "nans = df.isnull().sum()\n",
    "if len(nans[nans>0]):\n",
    "    print(\"Missing values detected.\\n\")\n",
    "    print(nans[nans>0])\n",
    "else:\n",
    "    print(\"No missing values. You are good to go.\")"
   ]
  },
  {
   "cell_type": "code",
   "execution_count": 21,
   "metadata": {
    "execution": {
     "iopub.execute_input": "2020-10-28T08:36:53.455267Z",
     "iopub.status.busy": "2020-10-28T08:36:53.454105Z",
     "iopub.status.idle": "2020-10-28T08:36:53.458991Z",
     "shell.execute_reply": "2020-10-28T08:36:53.458022Z"
    },
    "papermill": {
     "duration": 0.109928,
     "end_time": "2020-10-28T08:36:53.459143",
     "exception": false,
     "start_time": "2020-10-28T08:36:53.349215",
     "status": "completed"
    },
    "tags": []
   },
   "outputs": [
    {
     "name": "stdout",
     "output_type": "stream",
     "text": [
      "Handled missing values successfully.\n"
     ]
    }
   ],
   "source": [
    "#majority of the values are \"Private\". Lets fill the missing values as \"Private\".\n",
    "df.workclass.fillna(\"Private\", inplace=True)\n",
    "\n",
    "df.occupation.fillna(method='bfill', inplace=True)\n",
    "\n",
    "#majority of the values are \"United-States\". Lets fill the missing values as \"United-States\".\n",
    "df['native.country'].fillna(\"United-States\", inplace=True)\n",
    "\n",
    "print(\"Handled missing values successfully.\")"
   ]
  },
  {
   "cell_type": "code",
   "execution_count": 22,
   "metadata": {
    "execution": {
     "iopub.execute_input": "2020-10-28T08:36:53.640052Z",
     "iopub.status.busy": "2020-10-28T08:36:53.639224Z",
     "iopub.status.idle": "2020-10-28T08:36:53.643396Z",
     "shell.execute_reply": "2020-10-28T08:36:53.642749Z"
    },
    "papermill": {
     "duration": 0.099099,
     "end_time": "2020-10-28T08:36:53.643539",
     "exception": false,
     "start_time": "2020-10-28T08:36:53.544440",
     "status": "completed"
    },
    "tags": []
   },
   "outputs": [],
   "source": [
    "from sklearn.preprocessing import LabelEncoder\n",
    "from sklearn.utils import column_or_1d\n",
    "\n",
    "class MyLabelEncoder(LabelEncoder):\n",
    "\n",
    "    def fit(self, y, arr=[]):\n",
    "        y = column_or_1d(y, warn=True)\n",
    "        if arr == []:\n",
    "            arr=y\n",
    "        self.classes_ = pd.Series(arr).unique()\n",
    "        return self\n",
    "\n",
    "le = MyLabelEncoder()"
   ]
  },
  {
   "cell_type": "markdown",
   "metadata": {
    "papermill": {
     "duration": 0.085395,
     "end_time": "2020-10-28T08:36:53.812951",
     "exception": false,
     "start_time": "2020-10-28T08:36:53.727556",
     "status": "completed"
    },
    "tags": []
   },
   "source": [
    "### Feature Engineering and Encoding the columns"
   ]
  },
  {
   "cell_type": "code",
   "execution_count": 23,
   "metadata": {
    "execution": {
     "iopub.execute_input": "2020-10-28T08:36:54.013205Z",
     "iopub.status.busy": "2020-10-28T08:36:54.008502Z",
     "iopub.status.idle": "2020-10-28T08:36:54.359106Z",
     "shell.execute_reply": "2020-10-28T08:36:54.358185Z"
    },
    "papermill": {
     "duration": 0.459522,
     "end_time": "2020-10-28T08:36:54.359290",
     "exception": false,
     "start_time": "2020-10-28T08:36:53.899768",
     "status": "completed"
    },
    "tags": []
   },
   "outputs": [
    {
     "name": "stdout",
     "output_type": "stream",
     "text": [
      "Encoding complete.\n"
     ]
    }
   ],
   "source": [
    "# age_enc = pd.cut(df.age, bins=(0,25,45,65,100), labels=(0,1,2,3))\n",
    "df['age_enc'] = df.age.apply(lambda x: 1 if x > 30 else 0)\n",
    "\n",
    "def prep_workclass(x):\n",
    "    if x == 'Never-worked' or x == 'Without-pay':\n",
    "        return 0\n",
    "    elif x == 'Private':\n",
    "        return 1\n",
    "    elif x == 'State-gov' or x == 'Local-gov' or x == 'Federal-gov':\n",
    "        return 2\n",
    "    elif x == 'Self-emp-not-inc':\n",
    "        return 3\n",
    "    else:\n",
    "        return 4\n",
    "\n",
    "df['workclass_enc'] = df.workclass.apply(prep_workclass)\n",
    "\n",
    "df['fnlwgt_enc'] = df.fnlwgt.apply(lambda x: 0 if x>200000 else 1)\n",
    "\n",
    "le.fit(df.education, arr=['Preschool', '1st-4th', '5th-6th', '7th-8th', '9th','10th', '11th', '12th', \n",
    "                                             'HS-grad', 'Prof-school', 'Assoc-acdm', 'Assoc-voc', 'Some-college', 'Bachelors', 'Masters', 'Doctorate'])\n",
    "df['education_enc'] = le.transform(df.education)\n",
    "\n",
    "\n",
    "df['education.num_enc'] = df['education.num'].apply(lambda x: 1 if x>=9 else 0)\n",
    "\n",
    "df['marital.status_enc'] = df['marital.status'].apply(lambda x: 1 if x=='Married-civ-spouse' or x == 'Married-AF-spouse' else 0)\n",
    "\n",
    "def prep_occupation(x):\n",
    "    if x in ['Prof-specialty', 'Exec-managerial', 'Tech-support', 'Protective-serv']:\n",
    "        return 2\n",
    "    elif x in ['Sales', 'Craft-repair']:\n",
    "        return 1\n",
    "    else:\n",
    "        return 0\n",
    "\n",
    "df['occupation_enc'] = df.occupation.apply(prep_occupation)\n",
    "\n",
    "df['relationship_enc'] = df.relationship.apply(lambda x: 1 if x in ['Husband', 'Wife'] else 0)\n",
    "\n",
    "df['race_enc'] = df.race.apply(lambda x: 1 if x=='White' else 0)\n",
    "\n",
    "df['sex_enc'] = df.sex.apply(lambda x: 1 if x=='Male' else 0)\n",
    "\n",
    "df['capital.gain_enc'] = pd.cut(df[\"capital.gain\"], \n",
    "                                bins=[-1,0,df[df[\"capital.gain\"]>0][\"capital.gain\"].median(), df[\"capital.gain\"].max()], labels=(0,1,2)).astype('int64')\n",
    "\n",
    "df['capital.loss_enc'] = pd.cut(df[\"capital.loss\"], \n",
    "                                bins=[-1,0,df[df[\"capital.loss\"]>0][\"capital.loss\"].median(), df[\"capital.loss\"].max()], labels=(0,1,2)).astype('int64')\n",
    "\n",
    "# hpw_enc = pd.cut(df['hours.per.week'], bins= (0,30,40,53,168), labels=(0,1,2,3))\n",
    "df['hours.per.week_enc'] = pd.qcut(df['hours.per.week'], q=5, labels=(0,1,2,3), duplicates='drop').astype('int64')\n",
    "\n",
    "df['native.country_enc'] = df['native.country'].apply(lambda x: 1 if x=='United-States' else 0)\n",
    "\n",
    "df['income_enc'] = df.income.apply(lambda x: 1 if x==\">50K\" else 0)\n",
    "\n",
    "print(\"Encoding complete.\")"
   ]
  },
  {
   "cell_type": "code",
   "execution_count": 24,
   "metadata": {
    "execution": {
     "iopub.execute_input": "2020-10-28T08:36:54.535166Z",
     "iopub.status.busy": "2020-10-28T08:36:54.534328Z",
     "iopub.status.idle": "2020-10-28T08:36:54.592946Z",
     "shell.execute_reply": "2020-10-28T08:36:54.592090Z"
    },
    "papermill": {
     "duration": 0.149425,
     "end_time": "2020-10-28T08:36:54.593082",
     "exception": false,
     "start_time": "2020-10-28T08:36:54.443657",
     "status": "completed"
    },
    "tags": []
   },
   "outputs": [
    {
     "name": "stdout",
     "output_type": "stream",
     "text": [
      "<class 'pandas.core.frame.DataFrame'>\n",
      "RangeIndex: 32561 entries, 0 to 32560\n",
      "Data columns (total 9 columns):\n",
      " #   Column          Non-Null Count  Dtype \n",
      "---  ------          --------------  ----- \n",
      " 0   workclass       32561 non-null  object\n",
      " 1   education       32561 non-null  object\n",
      " 2   marital.status  32561 non-null  object\n",
      " 3   occupation      32561 non-null  object\n",
      " 4   relationship    32561 non-null  object\n",
      " 5   race            32561 non-null  object\n",
      " 6   sex             32561 non-null  object\n",
      " 7   native.country  32561 non-null  object\n",
      " 8   income          32561 non-null  object\n",
      "dtypes: object(9)\n",
      "memory usage: 2.2+ MB\n"
     ]
    }
   ],
   "source": [
    "df.select_dtypes(\"object\").info()"
   ]
  },
  {
   "cell_type": "code",
   "execution_count": 25,
   "metadata": {
    "execution": {
     "iopub.execute_input": "2020-10-28T08:36:54.824022Z",
     "iopub.status.busy": "2020-10-28T08:36:54.823235Z",
     "iopub.status.idle": "2020-10-28T08:36:54.827185Z",
     "shell.execute_reply": "2020-10-28T08:36:54.826542Z"
    },
    "papermill": {
     "duration": 0.134723,
     "end_time": "2020-10-28T08:36:54.827324",
     "exception": false,
     "start_time": "2020-10-28T08:36:54.692601",
     "status": "completed"
    },
    "tags": []
   },
   "outputs": [],
   "source": [
    "#dropping encoded columns - education, sex, income\n",
    "df.drop(['education', 'sex', 'income'], 1, inplace=True)"
   ]
  },
  {
   "cell_type": "markdown",
   "metadata": {
    "papermill": {
     "duration": 0.084108,
     "end_time": "2020-10-28T08:36:54.998236",
     "exception": false,
     "start_time": "2020-10-28T08:36:54.914128",
     "status": "completed"
    },
    "tags": []
   },
   "source": [
    "### Label Encoding without Feature Engineering"
   ]
  },
  {
   "cell_type": "code",
   "execution_count": 26,
   "metadata": {
    "execution": {
     "iopub.execute_input": "2020-10-28T08:36:55.194171Z",
     "iopub.status.busy": "2020-10-28T08:36:55.182674Z",
     "iopub.status.idle": "2020-10-28T08:36:55.265152Z",
     "shell.execute_reply": "2020-10-28T08:36:55.264408Z"
    },
    "papermill": {
     "duration": 0.181113,
     "end_time": "2020-10-28T08:36:55.265288",
     "exception": false,
     "start_time": "2020-10-28T08:36:55.084175",
     "status": "completed"
    },
    "tags": []
   },
   "outputs": [],
   "source": [
    "for feature in df.select_dtypes(\"object\").columns:\n",
    "    df[feature]=le.fit_transform(df[feature])"
   ]
  },
  {
   "cell_type": "markdown",
   "metadata": {
    "papermill": {
     "duration": 0.084307,
     "end_time": "2020-10-28T08:36:55.435031",
     "exception": false,
     "start_time": "2020-10-28T08:36:55.350724",
     "status": "completed"
    },
    "tags": []
   },
   "source": [
    "### Feature Selection"
   ]
  },
  {
   "cell_type": "code",
   "execution_count": 27,
   "metadata": {
    "execution": {
     "iopub.execute_input": "2020-10-28T08:36:55.612775Z",
     "iopub.status.busy": "2020-10-28T08:36:55.611536Z",
     "iopub.status.idle": "2020-10-28T08:36:55.636117Z",
     "shell.execute_reply": "2020-10-28T08:36:55.635104Z"
    },
    "papermill": {
     "duration": 0.116127,
     "end_time": "2020-10-28T08:36:55.636286",
     "exception": false,
     "start_time": "2020-10-28T08:36:55.520159",
     "status": "completed"
    },
    "tags": []
   },
   "outputs": [
    {
     "name": "stdout",
     "output_type": "stream",
     "text": [
      "<class 'pandas.core.frame.DataFrame'>\n",
      "RangeIndex: 32561 entries, 0 to 32560\n",
      "Data columns (total 27 columns):\n",
      " #   Column              Non-Null Count  Dtype\n",
      "---  ------              --------------  -----\n",
      " 0   age                 32561 non-null  int64\n",
      " 1   workclass           32561 non-null  int32\n",
      " 2   fnlwgt              32561 non-null  int64\n",
      " 3   education.num       32561 non-null  int64\n",
      " 4   marital.status      32561 non-null  int32\n",
      " 5   occupation          32561 non-null  int32\n",
      " 6   relationship        32561 non-null  int32\n",
      " 7   race                32561 non-null  int32\n",
      " 8   capital.gain        32561 non-null  int64\n",
      " 9   capital.loss        32561 non-null  int64\n",
      " 10  hours.per.week      32561 non-null  int64\n",
      " 11  native.country      32561 non-null  int32\n",
      " 12  age_enc             32561 non-null  int64\n",
      " 13  workclass_enc       32561 non-null  int64\n",
      " 14  fnlwgt_enc          32561 non-null  int64\n",
      " 15  education_enc       32561 non-null  int32\n",
      " 16  education.num_enc   32561 non-null  int64\n",
      " 17  marital.status_enc  32561 non-null  int64\n",
      " 18  occupation_enc      32561 non-null  int64\n",
      " 19  relationship_enc    32561 non-null  int64\n",
      " 20  race_enc            32561 non-null  int64\n",
      " 21  sex_enc             32561 non-null  int64\n",
      " 22  capital.gain_enc    32561 non-null  int64\n",
      " 23  capital.loss_enc    32561 non-null  int64\n",
      " 24  hours.per.week_enc  32561 non-null  int64\n",
      " 25  native.country_enc  32561 non-null  int64\n",
      " 26  income_enc          32561 non-null  int64\n",
      "dtypes: int32(7), int64(20)\n",
      "memory usage: 5.8 MB\n"
     ]
    }
   ],
   "source": [
    "df.info()"
   ]
  },
  {
   "cell_type": "code",
   "execution_count": 28,
   "metadata": {
    "execution": {
     "iopub.execute_input": "2020-10-28T08:36:55.823634Z",
     "iopub.status.busy": "2020-10-28T08:36:55.822887Z",
     "iopub.status.idle": "2020-10-28T08:36:56.167543Z",
     "shell.execute_reply": "2020-10-28T08:36:56.166896Z"
    },
    "papermill": {
     "duration": 0.44535,
     "end_time": "2020-10-28T08:36:56.167669",
     "exception": false,
     "start_time": "2020-10-28T08:36:55.722319",
     "status": "completed"
    },
    "tags": []
   },
   "outputs": [
    {
     "data": {
      "text/plain": [
       "<BarContainer object of 26 artists>"
      ]
     },
     "execution_count": 28,
     "metadata": {},
     "output_type": "execute_result"
    },
    {
     "data": {
      "image/png": "[encoded data removed]",
      "text/plain": [
       "<Figure size 720x432 with 1 Axes>"
      ]
     },
     "metadata": {},
     "output_type": "display_data"
    }
   ],
   "source": [
    "#Visualizing the pearson correlation with the target class\n",
    "pcorr = df.drop('income_enc',1).corrwith(df.income_enc)\n",
    "plt.figure(figsize=(10,6))\n",
    "plt.title(\"Pearson Correlation of Features with Income\")\n",
    "plt.xlabel(\"Features\")\n",
    "plt.ylabel(\"Correlation Coeff\")\n",
    "plt.xticks(rotation=90)\n",
    "plt.bar(pcorr.index, list(map(abs,pcorr.values)))"
   ]
  },
  {
   "cell_type": "markdown",
   "metadata": {
    "papermill": {
     "duration": 0.087728,
     "end_time": "2020-10-28T08:36:56.343394",
     "exception": false,
     "start_time": "2020-10-28T08:36:56.255666",
     "status": "completed"
    },
    "tags": []
   },
   "source": [
    "From the pearson correlation plot, we can see that correlation of few columns are very **low** with the target column, so, we ll drop them."
   ]
  },
  {
   "cell_type": "code",
   "execution_count": 29,
   "metadata": {
    "execution": {
     "iopub.execute_input": "2020-10-28T08:36:56.528737Z",
     "iopub.status.busy": "2020-10-28T08:36:56.527901Z",
     "iopub.status.idle": "2020-10-28T08:36:56.531713Z",
     "shell.execute_reply": "2020-10-28T08:36:56.530974Z"
    },
    "papermill": {
     "duration": 0.101006,
     "end_time": "2020-10-28T08:36:56.531862",
     "exception": false,
     "start_time": "2020-10-28T08:36:56.430856",
     "status": "completed"
    },
    "tags": []
   },
   "outputs": [],
   "source": [
    "df.drop(['workclass', 'fnlwgt','occupation', 'race', 'native.country', 'fnlwgt_enc', 'race_enc', 'native.country_enc'], 1, inplace=True)"
   ]
  },
  {
   "cell_type": "code",
   "execution_count": 30,
   "metadata": {
    "execution": {
     "iopub.execute_input": "2020-10-28T08:36:56.714687Z",
     "iopub.status.busy": "2020-10-28T08:36:56.713949Z",
     "iopub.status.idle": "2020-10-28T08:36:57.190831Z",
     "shell.execute_reply": "2020-10-28T08:36:57.191425Z"
    },
    "papermill": {
     "duration": 0.572038,
     "end_time": "2020-10-28T08:36:57.191590",
     "exception": false,
     "start_time": "2020-10-28T08:36:56.619552",
     "status": "completed"
    },
    "tags": []
   },
   "outputs": [
    {
     "data": {
      "text/plain": [
       "<AxesSubplot:>"
      ]
     },
     "execution_count": 30,
     "metadata": {},
     "output_type": "execute_result"
    },
    {
     "data": {
      "image/png": "[encoded data removed]",
      "text/plain": [
       "<Figure size 432x288 with 2 Axes>"
      ]
     },
     "metadata": {},
     "output_type": "display_data"
    }
   ],
   "source": [
    "sns.heatmap(df.corr().apply(abs))"
   ]
  },
  {
   "cell_type": "markdown",
   "metadata": {
    "papermill": {
     "duration": 0.089285,
     "end_time": "2020-10-28T08:36:57.370575",
     "exception": false,
     "start_time": "2020-10-28T08:36:57.281290",
     "status": "completed"
    },
    "tags": []
   },
   "source": [
    "**Dropping redundant features**"
   ]
  },
  {
   "cell_type": "markdown",
   "metadata": {
    "papermill": {
     "duration": 0.089462,
     "end_time": "2020-10-28T08:36:57.549962",
     "exception": false,
     "start_time": "2020-10-28T08:36:57.460500",
     "status": "completed"
    },
    "tags": []
   },
   "source": [
    "We can see that **education_enc, education.num_enc and education.num** as well as **relationship_enc and marital.status_enc** have **high correlation**. So, we will only keep one of them based on their correlation with income_enc.\n",
    "\n",
    "We also have some redundant feautres as we have engineered features from them(age, capital.gain, etc.)."
   ]
  },
  {
   "cell_type": "code",
   "execution_count": 31,
   "metadata": {
    "execution": {
     "iopub.execute_input": "2020-10-28T08:36:57.741439Z",
     "iopub.status.busy": "2020-10-28T08:36:57.740253Z",
     "iopub.status.idle": "2020-10-28T08:36:57.744370Z",
     "shell.execute_reply": "2020-10-28T08:36:57.743586Z"
    },
    "papermill": {
     "duration": 0.103287,
     "end_time": "2020-10-28T08:36:57.744494",
     "exception": false,
     "start_time": "2020-10-28T08:36:57.641207",
     "status": "completed"
    },
    "tags": []
   },
   "outputs": [],
   "source": [
    "df.drop(['age', 'education.num_enc', 'education_enc', 'marital.status_enc', 'capital.gain', 'capital.loss', 'hours.per.week'], 1, inplace = True)"
   ]
  },
  {
   "cell_type": "code",
   "execution_count": 32,
   "metadata": {
    "execution": {
     "iopub.execute_input": "2020-10-28T08:36:57.933455Z",
     "iopub.status.busy": "2020-10-28T08:36:57.932380Z",
     "iopub.status.idle": "2020-10-28T08:36:57.946520Z",
     "shell.execute_reply": "2020-10-28T08:36:57.945592Z"
    },
    "papermill": {
     "duration": 0.111788,
     "end_time": "2020-10-28T08:36:57.946715",
     "exception": false,
     "start_time": "2020-10-28T08:36:57.834927",
     "status": "completed"
    },
    "tags": []
   },
   "outputs": [
    {
     "name": "stdout",
     "output_type": "stream",
     "text": [
      "<class 'pandas.core.frame.DataFrame'>\n",
      "RangeIndex: 32561 entries, 0 to 32560\n",
      "Data columns (total 12 columns):\n",
      " #   Column              Non-Null Count  Dtype\n",
      "---  ------              --------------  -----\n",
      " 0   education.num       32561 non-null  int64\n",
      " 1   marital.status      32561 non-null  int32\n",
      " 2   relationship        32561 non-null  int32\n",
      " 3   age_enc             32561 non-null  int64\n",
      " 4   workclass_enc       32561 non-null  int64\n",
      " 5   occupation_enc      32561 non-null  int64\n",
      " 6   relationship_enc    32561 non-null  int64\n",
      " 7   sex_enc             32561 non-null  int64\n",
      " 8   capital.gain_enc    32561 non-null  int64\n",
      " 9   capital.loss_enc    32561 non-null  int64\n",
      " 10  hours.per.week_enc  32561 non-null  int64\n",
      " 11  income_enc          32561 non-null  int64\n",
      "dtypes: int32(2), int64(10)\n",
      "memory usage: 2.7 MB\n"
     ]
    }
   ],
   "source": [
    "df.info()"
   ]
  },
  {
   "cell_type": "code",
   "execution_count": 33,
   "metadata": {
    "execution": {
     "iopub.execute_input": "2020-10-28T08:36:58.138907Z",
     "iopub.status.busy": "2020-10-28T08:36:58.138014Z",
     "iopub.status.idle": "2020-10-28T08:36:58.141708Z",
     "shell.execute_reply": "2020-10-28T08:36:58.140909Z"
    },
    "papermill": {
     "duration": 0.103016,
     "end_time": "2020-10-28T08:36:58.141871",
     "exception": false,
     "start_time": "2020-10-28T08:36:58.038855",
     "status": "completed"
    },
    "tags": []
   },
   "outputs": [],
   "source": [
    "X = df.drop('income_enc', 1)\n",
    "y = df.income_enc"
   ]
  },
  {
   "cell_type": "markdown",
   "metadata": {
    "papermill": {
     "duration": 0.091156,
     "end_time": "2020-10-28T08:36:58.324773",
     "exception": false,
     "start_time": "2020-10-28T08:36:58.233617",
     "status": "completed"
    },
    "tags": []
   },
   "source": [
    "### Train Test Split (3:1)"
   ]
  },
  {
   "cell_type": "code",
   "execution_count": 98,
   "metadata": {
    "execution": {
     "iopub.execute_input": "2020-10-28T08:36:58.515670Z",
     "iopub.status.busy": "2020-10-28T08:36:58.514907Z",
     "iopub.status.idle": "2020-10-28T08:36:58.549478Z",
     "shell.execute_reply": "2020-10-28T08:36:58.548606Z"
    },
    "papermill": {
     "duration": 0.133019,
     "end_time": "2020-10-28T08:36:58.549630",
     "exception": false,
     "start_time": "2020-10-28T08:36:58.416611",
     "status": "completed"
    },
    "tags": []
   },
   "outputs": [],
   "source": [
    "X_train, X_test, y_train, y_test = train_test_split(X, y, test_size=0.25, random_state=42, stratify=y)"
   ]
  },
  {
   "cell_type": "code",
   "execution_count": 99,
   "metadata": {
    "execution": {
     "iopub.execute_input": "2020-10-28T08:36:58.740649Z",
     "iopub.status.busy": "2020-10-28T08:36:58.739701Z",
     "iopub.status.idle": "2020-10-28T08:36:58.745922Z",
     "shell.execute_reply": "2020-10-28T08:36:58.745252Z"
    },
    "papermill": {
     "duration": 0.1047,
     "end_time": "2020-10-28T08:36:58.746082",
     "exception": false,
     "start_time": "2020-10-28T08:36:58.641382",
     "status": "completed"
    },
    "tags": []
   },
   "outputs": [
    {
     "name": "stdout",
     "output_type": "stream",
     "text": [
      "No. of rows in training data: 24420\n",
      "No. of rows in testing data: 8141\n"
     ]
    }
   ],
   "source": [
    "print(\"No. of rows in training data:\",X_train.shape[0])\n",
    "print(\"No. of rows in testing data:\",X_test.shape[0])"
   ]
  },
  {
   "cell_type": "markdown",
   "metadata": {
    "papermill": {
     "duration": 0.093667,
     "end_time": "2020-10-28T08:36:58.933943",
     "exception": false,
     "start_time": "2020-10-28T08:36:58.840276",
     "status": "completed"
    },
    "tags": []
   },
   "source": [
    "### Random Over Sampling"
   ]
  },
  {
   "cell_type": "markdown",
   "metadata": {
    "papermill": {
     "duration": 0.09218,
     "end_time": "2020-10-28T08:36:59.118540",
     "exception": false,
     "start_time": "2020-10-28T08:36:59.026360",
     "status": "completed"
    },
    "tags": []
   },
   "source": [
    "*We can see the class imbalance in our target. This results in models that have poor predictive performance, specifically for the minority class. So, we need to random over sampling*"
   ]
  },
  {
   "cell_type": "code",
   "execution_count": 100,
   "metadata": {
    "execution": {
     "iopub.execute_input": "2020-10-28T08:36:59.309918Z",
     "iopub.status.busy": "2020-10-28T08:36:59.309133Z",
     "iopub.status.idle": "2020-10-28T08:36:59.346776Z",
     "shell.execute_reply": "2020-10-28T08:36:59.347364Z"
    },
    "papermill": {
     "duration": 0.136876,
     "end_time": "2020-10-28T08:36:59.347558",
     "exception": false,
     "start_time": "2020-10-28T08:36:59.210682",
     "status": "completed"
    },
    "tags": []
   },
   "outputs": [],
   "source": [
    "oversample = RandomOverSampler(sampling_strategy=0.5) #50% oversampling\n",
    "X_over, y_over = oversample.fit_resample(X_train, y_train)"
   ]
  },
  {
   "cell_type": "code",
   "execution_count": 101,
   "metadata": {
    "execution": {
     "iopub.execute_input": "2020-10-28T08:36:59.537147Z",
     "iopub.status.busy": "2020-10-28T08:36:59.536332Z",
     "iopub.status.idle": "2020-10-28T08:36:59.544316Z",
     "shell.execute_reply": "2020-10-28T08:36:59.543692Z"
    },
    "papermill": {
     "duration": 0.104993,
     "end_time": "2020-10-28T08:36:59.544458",
     "exception": false,
     "start_time": "2020-10-28T08:36:59.439465",
     "status": "completed"
    },
    "tags": []
   },
   "outputs": [
    {
     "data": {
      "text/plain": [
       "0    18539\n",
       "1     9269\n",
       "Name: income_enc, dtype: int64"
      ]
     },
     "execution_count": 101,
     "metadata": {},
     "output_type": "execute_result"
    }
   ],
   "source": [
    "y_over.value_counts()"
   ]
  },
  {
   "cell_type": "markdown",
   "metadata": {
    "papermill": {
     "duration": 0.093829,
     "end_time": "2020-10-28T08:36:59.731470",
     "exception": false,
     "start_time": "2020-10-28T08:36:59.637641",
     "status": "completed"
    },
    "tags": []
   },
   "source": [
    "## Model Preparation"
   ]
  },
  {
   "cell_type": "code",
   "execution_count": 11,
   "metadata": {
    "execution": {
     "iopub.execute_input": "2020-10-28T08:36:59.930648Z",
     "iopub.status.busy": "2020-10-28T08:36:59.929864Z",
     "iopub.status.idle": "2020-10-28T08:37:00.853422Z",
     "shell.execute_reply": "2020-10-28T08:37:00.852569Z"
    },
    "papermill": {
     "duration": 1.028353,
     "end_time": "2020-10-28T08:37:00.853577",
     "exception": false,
     "start_time": "2020-10-28T08:36:59.825224",
     "status": "completed"
    },
    "tags": []
   },
   "outputs": [],
   "source": [
    "#Model Imports\n",
    "from sklearn.model_selection import StratifiedKFold, cross_val_score\n",
    "from sklearn.preprocessing import StandardScaler\n",
    "from sklearn.pipeline import make_pipeline\n",
    "from sklearn.metrics import classification_report, confusion_matrix\n",
    "\n",
    "from sklearn.svm import SVC\n",
    "from sklearn.linear_model import LogisticRegression\n",
    "from sklearn.neighbors import KNeighborsClassifier\n",
    "from sklearn.tree import DecisionTreeClassifier\n",
    "from sklearn.ensemble import AdaBoostClassifier, ExtraTreesClassifier, GradientBoostingClassifier, RandomForestClassifier, StackingClassifier\n",
    "from xgboost import XGBClassifier\n",
    "from lightgbm import LGBMClassifier"
   ]
  },
  {
   "cell_type": "code",
   "execution_count": 13,
   "metadata": {
    "execution": {
     "iopub.execute_input": "2020-10-28T08:37:01.049850Z",
     "iopub.status.busy": "2020-10-28T08:37:01.048910Z",
     "iopub.status.idle": "2020-10-28T08:37:01.052367Z",
     "shell.execute_reply": "2020-10-28T08:37:01.051558Z"
    },
    "papermill": {
     "duration": 0.10278,
     "end_time": "2020-10-28T08:37:01.052510",
     "exception": false,
     "start_time": "2020-10-28T08:37:00.949730",
     "status": "completed"
    },
    "tags": []
   },
   "outputs": [],
   "source": [
    "seed= 42"
   ]
  },
  {
   "cell_type": "code",
   "execution_count": null,
   "metadata": {
    "execution": {
     "iopub.execute_input": "2020-10-28T08:37:01.248252Z",
     "iopub.status.busy": "2020-10-28T08:37:01.247432Z",
     "iopub.status.idle": "2020-10-28T08:37:01.250643Z",
     "shell.execute_reply": "2020-10-28T08:37:01.249891Z"
    },
    "papermill": {
     "duration": 0.105051,
     "end_time": "2020-10-28T08:37:01.250780",
     "exception": false,
     "start_time": "2020-10-28T08:37:01.145729",
     "status": "completed"
    },
    "tags": []
   },
   "outputs": [],
   "source": [
    "models = {\n",
    "    'LR':LogisticRegression(random_state=seed),\n",
    "    'SVC':SVC(random_state=seed),\n",
    "    'AB':AdaBoostClassifier(random_state=seed),\n",
    "    'ET':ExtraTreesClassifier(random_state=seed),\n",
    "    'GB':GradientBoostingClassifier(random_state=seed),\n",
    "    'RF':RandomForestClassifier(random_state=seed),\n",
    "    'XGB':XGBClassifier(random_state=seed),\n",
    "    'LGBM':LGBMClassifier(random_state=seed)\n",
    "    }"
   ]
  },
  {
   "cell_type": "code",
   "execution_count": 105,
   "metadata": {
    "execution": {
     "iopub.execute_input": "2020-10-28T08:37:01.449967Z",
     "iopub.status.busy": "2020-10-28T08:37:01.447155Z",
     "iopub.status.idle": "2020-10-28T08:37:01.454012Z",
     "shell.execute_reply": "2020-10-28T08:37:01.453255Z"
    },
    "papermill": {
     "duration": 0.109057,
     "end_time": "2020-10-28T08:37:01.454142",
     "exception": false,
     "start_time": "2020-10-28T08:37:01.345085",
     "status": "completed"
    },
    "tags": []
   },
   "outputs": [],
   "source": [
    "# evaluate a give model using cross-validation\n",
    "def evaluate_models(model, xtrain, ytrain):\n",
    "    cv = StratifiedKFold(shuffle=True, random_state=seed)\n",
    "    scores = cross_val_score(model, xtrain, ytrain, scoring='accuracy', cv=cv, error_score='raise')\n",
    "    return scores\n",
    "\n",
    "def plot_scores(xval,yval,show_value=False):\n",
    "    plt.ylim(ymax = max(yval)+0.5, ymin = min(yval)-0.5)\n",
    "    plt.xticks(rotation=45)\n",
    "    s = sns.barplot(xval,yval)\n",
    "    if show_value:\n",
    "        for x,y in zip(range(len(yval)),yval):\n",
    "            s.text(x,y+0.1,round(y,2),ha=\"center\")"
   ]
  },
  {
   "cell_type": "code",
   "execution_count": 106,
   "metadata": {
    "execution": {
     "iopub.execute_input": "2020-10-28T08:37:01.655500Z",
     "iopub.status.busy": "2020-10-28T08:37:01.654544Z",
     "iopub.status.idle": "2020-10-28T08:38:25.313821Z",
     "shell.execute_reply": "2020-10-28T08:38:25.314583Z"
    },
    "papermill": {
     "duration": 83.767774,
     "end_time": "2020-10-28T08:38:25.314830",
     "exception": false,
     "start_time": "2020-10-28T08:37:01.547056",
     "status": "completed"
    },
    "tags": []
   },
   "outputs": [
    {
     "name": "stdout",
     "output_type": "stream",
     "text": [
      "*LR 0.846 (0.003)\n",
      "*SVC 0.846 (0.002)\n",
      "*AB 0.852 (0.003)\n",
      "*ET 0.842 (0.003)\n",
      "*GB 0.854 (0.002)\n",
      "*RF 0.842 (0.002)\n",
      "*XGB 0.849 (0.002)\n",
      "*LGBM 0.852 (0.002)\n"
     ]
    }
   ],
   "source": [
    "# evaluate the models and store results for 100% oversampled minority class\n",
    "results, names = list(), list()\n",
    "for name, model in models.items():\n",
    "    scores = evaluate_models(model, X_train, y_train) \n",
    "    results.append(scores) \n",
    "    names.append(name) \n",
    "    print('*%s %.3f (%.3f)' % (name, mean(scores), std(scores)))"
   ]
  },
  {
   "cell_type": "code",
   "execution_count": 107,
   "metadata": {
    "execution": {
     "iopub.execute_input": "2020-10-28T08:38:25.557914Z",
     "iopub.status.busy": "2020-10-28T08:38:25.553172Z",
     "iopub.status.idle": "2020-10-28T08:38:25.804777Z",
     "shell.execute_reply": "2020-10-28T08:38:25.804148Z"
    },
    "papermill": {
     "duration": 0.372895,
     "end_time": "2020-10-28T08:38:25.804938",
     "exception": false,
     "start_time": "2020-10-28T08:38:25.432043",
     "status": "completed"
    },
    "tags": []
   },
   "outputs": [
    {
     "data": {
      "image/png": "[encoded data removed]",
      "text/plain": [
       "<Figure size 432x288 with 1 Axes>"
      ]
     },
     "metadata": {},
     "output_type": "display_data"
    }
   ],
   "source": [
    "plt.boxplot(results, labels=names, showmeans=True)\n",
    "plt.show() "
   ]
  },
  {
   "cell_type": "code",
   "execution_count": 34,
   "metadata": {
    "execution": {
     "iopub.execute_input": "2020-10-28T08:38:26.020876Z",
     "iopub.status.busy": "2020-10-28T08:38:26.018068Z",
     "iopub.status.idle": "2020-10-28T08:38:26.024693Z",
     "shell.execute_reply": "2020-10-28T08:38:26.023921Z"
    },
    "papermill": {
     "duration": 0.120733,
     "end_time": "2020-10-28T08:38:26.024859",
     "exception": false,
     "start_time": "2020-10-28T08:38:25.904126",
     "status": "completed"
    },
    "tags": []
   },
   "outputs": [],
   "source": [
    "param_grids = {\n",
    "    'LR':{'C':[0.001,0.01,0.1,1,10]},\n",
    "    'SVC':{'gamma':[0.01,0.02,0.05,0.08,0.1], 'C':range(1,8)},\n",
    "    \n",
    "    'AB':{'learning_rate': [0.05, 0.1, 0.2], 'n_estimators': [100, 200, 500]},\n",
    "    \n",
    "    'ET':{'max_depth':[5,8,10,12], 'min_samples_split': [5,9,12],\n",
    "          'n_estimators': [100,200,500,800]},\n",
    "    \n",
    "    'GB':{'learning_rate': [0.05, 0.1, 0.2], 'max_depth':[3,5,9],\n",
    "          'min_samples_split': [5,7,9], 'n_estimators': [100,200,500],\n",
    "          'subsample':[0.5,0.7,0.9]},\n",
    "    \n",
    "    'RF':{'max_depth':[3,5,9,15], 'n_estimators': [100, 200, 500, 1000],\n",
    "          'learning_rate': [0.05, 0.1, 0.2], 'min_samples_split': [5,9,12]},\n",
    "    \n",
    "    'XGB':{'max_depth':[3,5,7,9], 'n_estimators': [100, 200, 500],\n",
    "           'learning_rate': [0.05, 0.1, 0.2], 'subsample':[0.5,0.7,0.9]},\n",
    "    \n",
    "    'LGBM':{'n_estimators': [100,200,500],'learning_rate': [0.05, 0.1, 0.2],\n",
    "            'subsample':[0.5,0.7,0.9],'num_leaves': [25,31,50]}\n",
    "}"
   ]
  },
  {
   "cell_type": "code",
   "execution_count": 109,
   "metadata": {
    "execution": {
     "iopub.execute_input": "2020-10-28T08:38:26.230061Z",
     "iopub.status.busy": "2020-10-28T08:38:26.228948Z",
     "iopub.status.idle": "2020-10-28T08:38:26.232698Z",
     "shell.execute_reply": "2020-10-28T08:38:26.231973Z"
    },
    "papermill": {
     "duration": 0.108723,
     "end_time": "2020-10-28T08:38:26.232885",
     "exception": false,
     "start_time": "2020-10-28T08:38:26.124162",
     "status": "completed"
    },
    "tags": []
   },
   "outputs": [],
   "source": [
    "# !pip install sklearn-deap\n",
    "# from evolutionary_search import EvolutionaryAlgorithmSearchCV"
   ]
  },
  {
   "cell_type": "code",
   "execution_count": 110,
   "metadata": {
    "execution": {
     "iopub.execute_input": "2020-10-28T08:38:26.437390Z",
     "iopub.status.busy": "2020-10-28T08:38:26.436290Z",
     "iopub.status.idle": "2020-10-28T08:38:26.440095Z",
     "shell.execute_reply": "2020-10-28T08:38:26.439459Z"
    },
    "papermill": {
     "duration": 0.107748,
     "end_time": "2020-10-28T08:38:26.440228",
     "exception": false,
     "start_time": "2020-10-28T08:38:26.332480",
     "status": "completed"
    },
    "tags": []
   },
   "outputs": [],
   "source": [
    "# evaluate the models and store results\n",
    "# best_params = []\n",
    "# names= []\n",
    "# for name, param_grid, model in zip(param_grids.keys(), param_grids.values(), models.values()):\n",
    "#     eascv = EvolutionaryAlgorithmSearchCV(model, param_grid, verbose=3, cv=3)\n",
    "#     eascv.fit(X_train,y_train)\n",
    "#     names.append(name)\n",
    "#     best_params.append(eascv.best_params_)\n",
    "#     print(name)\n",
    "#     print(\"best score:\",eascv.best_score_)\n",
    "#     print(\"best params:\",eascv.best_params_)"
   ]
  },
  {
   "cell_type": "code",
   "execution_count": 60,
   "metadata": {
    "execution": {
     "iopub.execute_input": "2020-10-28T08:38:26.646981Z",
     "iopub.status.busy": "2020-10-28T08:38:26.646165Z",
     "iopub.status.idle": "2020-10-28T08:38:26.650939Z",
     "shell.execute_reply": "2020-10-28T08:38:26.650309Z"
    },
    "papermill": {
     "duration": 0.112455,
     "end_time": "2020-10-28T08:38:26.651068",
     "exception": false,
     "start_time": "2020-10-28T08:38:26.538613",
     "status": "completed"
    },
    "tags": []
   },
   "outputs": [],
   "source": [
    "best_params=[\n",
    "    #{'C': 10},\n",
    "    #{'gamma': 0.1, 'C': 2},\n",
    "    #{'learning_rate': 0.1, 'n_estimators': 500},\n",
    "    {'max_depth': 12, 'min_samples_split': 9, 'n_estimators': 100},\n",
    "    {'learning_rate': 0.05, 'max_depth': 3, 'min_samples_split': 9, 'n_estimators': 200, 'subsample': 0.9},\n",
    "    {'max_depth': 9, 'n_estimators': 200, 'min_samples_split': 5},\n",
    "    {'max_depth': 3, 'n_estimators': 200, 'learning_rate': 0.1, 'subsample': 0.9},\n",
    "    {'n_estimators': 100, 'learning_rate': 0.05, 'subsample': 0.9, 'num_leaves': 25}\n",
    "            ]"
   ]
  },
  {
   "cell_type": "code",
   "execution_count": 14,
   "metadata": {
    "execution": {
     "iopub.execute_input": "2020-10-28T08:38:26.859625Z",
     "iopub.status.busy": "2020-10-28T08:38:26.858844Z",
     "iopub.status.idle": "2020-10-28T08:38:26.862010Z",
     "shell.execute_reply": "2020-10-28T08:38:26.862595Z"
    },
    "papermill": {
     "duration": 0.111717,
     "end_time": "2020-10-28T08:38:26.862792",
     "exception": false,
     "start_time": "2020-10-28T08:38:26.751075",
     "status": "completed"
    },
    "tags": []
   },
   "outputs": [],
   "source": [
    "models = [\n",
    "    #('LR',LogisticRegression(random_state=seed)),\n",
    "    #('SVC',SVC(random_state=seed)),\n",
    "    #('AB',AdaBoostClassifier(random_state=seed)),\n",
    "    ('ET',ExtraTreesClassifier(random_state=seed)),\n",
    "    ('GB',GradientBoostingClassifier(random_state=seed)),\n",
    "    ('RF',RandomForestClassifier(random_state=seed)),\n",
    "    ('XGB',XGBClassifier(random_state=seed)),\n",
    "    ('LGBM',LGBMClassifier(random_state=seed))\n",
    "]"
   ]
  },
  {
   "cell_type": "code",
   "execution_count": 62,
   "metadata": {
    "execution": {
     "iopub.execute_input": "2020-10-28T08:38:27.074549Z",
     "iopub.status.busy": "2020-10-28T08:38:27.073610Z",
     "iopub.status.idle": "2020-10-28T08:38:27.077329Z",
     "shell.execute_reply": "2020-10-28T08:38:27.076681Z"
    },
    "papermill": {
     "duration": 0.112811,
     "end_time": "2020-10-28T08:38:27.077476",
     "exception": false,
     "start_time": "2020-10-28T08:38:26.964665",
     "status": "completed"
    },
    "tags": []
   },
   "outputs": [
    {
     "name": "stdout",
     "output_type": "stream",
     "text": [
      "ExtraTreesClassifier(random_state=42)\n",
      "GradientBoostingClassifier(random_state=42)\n",
      "RandomForestClassifier(random_state=42)\n",
      "XGBClassifier(base_score=None, booster=None, colsample_bylevel=None,\n",
      "              colsample_bynode=None, colsample_bytree=None, gamma=None,\n",
      "              gpu_id=None, importance_type='gain', interaction_constraints=None,\n",
      "              learning_rate=None, max_delta_step=None, max_depth=None,\n",
      "              min_child_weight=None, missing=nan, monotone_constraints=None,\n",
      "              n_estimators=100, n_jobs=None, num_parallel_tree=None,\n",
      "              random_state=42, reg_alpha=None, reg_lambda=None,\n",
      "              scale_pos_weight=None, subsample=None, tree_method=None,\n",
      "              validate_parameters=None, verbosity=None)\n",
      "LGBMClassifier(random_state=42)\n"
     ]
    }
   ],
   "source": [
    "for model, param in zip(models, best_params):\n",
    "    print(model[1])\n",
    "    model[1].set_params(**param)"
   ]
  },
  {
   "cell_type": "code",
   "execution_count": null,
   "metadata": {
    "execution": {
     "iopub.execute_input": "2020-10-28T08:38:27.284345Z",
     "iopub.status.busy": "2020-10-28T08:38:27.283390Z",
     "iopub.status.idle": "2020-10-28T08:38:27.286860Z",
     "shell.execute_reply": "2020-10-28T08:38:27.286226Z"
    },
    "papermill": {
     "duration": 0.110144,
     "end_time": "2020-10-28T08:38:27.287007",
     "exception": false,
     "start_time": "2020-10-28T08:38:27.176863",
     "status": "completed"
    },
    "tags": []
   },
   "outputs": [],
   "source": [
    "models.append(('MLModel',StackingClassifier(estimators = models[:-1])))"
   ]
  },
  {
   "cell_type": "code",
   "execution_count": 50,
   "metadata": {
    "execution": {
     "iopub.execute_input": "2020-10-28T08:38:27.500726Z",
     "iopub.status.busy": "2020-10-28T08:38:27.499937Z",
     "iopub.status.idle": "2020-10-28T08:42:00.248175Z",
     "shell.execute_reply": "2020-10-28T08:42:00.249017Z"
    },
    "papermill": {
     "duration": 212.860946,
     "end_time": "2020-10-28T08:42:00.249219",
     "exception": false,
     "start_time": "2020-10-28T08:38:27.388273",
     "status": "completed"
    },
    "tags": []
   },
   "outputs": [
    {
     "name": "stdout",
     "output_type": "stream",
     "text": [
      "LR trained.\n",
      "SVC trained.\n",
      "AB trained.\n",
      "ET trained.\n",
      "GB trained.\n",
      "RF trained.\n",
      "XGB trained.\n",
      "LGBM trained.\n",
      "MLModel trained.\n",
      "Results are ready.\n"
     ]
    }
   ],
   "source": [
    "scores=[]\n",
    "preds=[]\n",
    "for model in models:\n",
    "    model[1].fit(X_train,y_train)\n",
    "    print(model[0],\"trained.\")\n",
    "    scores.append(model[1].score(X_test,y_test))\n",
    "    preds.append(model[1].predict(X_test))\n",
    "print(\"Results are ready.\")"
   ]
  },
  {
   "cell_type": "markdown",
   "metadata": {
    "papermill": {
     "duration": 0.10984,
     "end_time": "2020-10-28T08:42:00.506117",
     "exception": false,
     "start_time": "2020-10-28T08:42:00.396277",
     "status": "completed"
    },
    "tags": []
   },
   "source": [
    "## Using Classification Based on Assocation"
   ]
  },
  {
   "cell_type": "code",
   "execution_count": 51,
   "metadata": {
    "execution": {
     "iopub.execute_input": "2020-10-28T08:42:00.722046Z",
     "iopub.status.busy": "2020-10-28T08:42:00.721039Z",
     "iopub.status.idle": "2020-10-28T08:42:42.727019Z",
     "shell.execute_reply": "2020-10-28T08:42:42.726220Z"
    },
    "papermill": {
     "duration": 42.117479,
     "end_time": "2020-10-28T08:42:42.727207",
     "exception": false,
     "start_time": "2020-10-28T08:42:00.609728",
     "status": "completed"
    },
    "tags": []
   },
   "outputs": [
    {
     "name": "stdout",
     "output_type": "stream",
     "text": [
      "Collecting pyarc==1.0.23\r\n",
      "  Downloading pyarc-1.0.23-py2.py3-none-any.whl (23 kB)\r\n",
      "Requirement already satisfied: sklearn in /opt/conda/lib/python3.7/site-packages (from pyarc==1.0.23) (0.0)\r\n",
      "Requirement already satisfied: pandas in /opt/conda/lib/python3.7/site-packages (from pyarc==1.0.23) (1.1.2)\r\n",
      "Requirement already satisfied: numpy in /opt/conda/lib/python3.7/site-packages (from pyarc==1.0.23) (1.18.5)\r\n",
      "Requirement already satisfied: scikit-learn in /opt/conda/lib/python3.7/site-packages (from sklearn->pyarc==1.0.23) (0.23.2)\r\n",
      "Requirement already satisfied: pytz>=2017.2 in /opt/conda/lib/python3.7/site-packages (from pandas->pyarc==1.0.23) (2019.3)\r\n",
      "Requirement already satisfied: python-dateutil>=2.7.3 in /opt/conda/lib/python3.7/site-packages (from pandas->pyarc==1.0.23) (2.8.1)\r\n",
      "Requirement already satisfied: scipy>=0.19.1 in /opt/conda/lib/python3.7/site-packages (from scikit-learn->sklearn->pyarc==1.0.23) (1.4.1)\r\n",
      "Requirement already satisfied: joblib>=0.11 in /opt/conda/lib/python3.7/site-packages (from scikit-learn->sklearn->pyarc==1.0.23) (0.14.1)\r\n",
      "Requirement already satisfied: threadpoolctl>=2.0.0 in /opt/conda/lib/python3.7/site-packages (from scikit-learn->sklearn->pyarc==1.0.23) (2.1.0)\r\n",
      "Requirement already satisfied: six>=1.5 in /opt/conda/lib/python3.7/site-packages (from python-dateutil>=2.7.3->pandas->pyarc==1.0.23) (1.14.0)\r\n",
      "Installing collected packages: pyarc\r\n",
      "Successfully installed pyarc-1.0.23\r\n",
      "\u001b[33mWARNING: You are using pip version 20.2.3; however, version 20.2.4 is available.\r\n",
      "You should consider upgrading via the '/opt/conda/bin/python3.7 -m pip install --upgrade pip' command.\u001b[0m\r\n",
      "Collecting pyfim\r\n",
      "  Downloading pyfim-6.28.tar.gz (357 kB)\r\n",
      "\u001b[K     |████████████████████████████████| 357 kB 585 kB/s \r\n",
      "\u001b[?25hBuilding wheels for collected packages: pyfim\r\n",
      "  Building wheel for pyfim (setup.py) ... \u001b[?25l-\b \b\\\b \b|\b \b/\b \b-\b \b\\\b \b|\b \b/\b \b-\b \b\\\b \b|\b \b/\b \b-\b \b\\\b \b|\b \b/\b \b-\b \b\\\b \b|\b \b/\b \b-\b \b\\\b \b|\b \b/\b \b-\b \b\\\b \b|\b \b/\b \bdone\r\n",
      "\u001b[?25h  Created wheel for pyfim: filename=pyfim-6.28-cp37-cp37m-linux_x86_64.whl size=683916 sha256=7cffa03e3a8b7fc066630ddbed15ac56640f4b167c70f1824b2a05f440233257\r\n",
      "  Stored in directory: /root/.cache/pip/wheels/08/9f/26/09cb4efd027e46f96e0a0f33d0a74be614d3caf89c1eeb75a8\r\n",
      "Successfully built pyfim\r\n",
      "Installing collected packages: pyfim\r\n",
      "Successfully installed pyfim-6.28\r\n",
      "\u001b[33mWARNING: You are using pip version 20.2.3; however, version 20.2.4 is available.\r\n",
      "You should consider upgrading via the '/opt/conda/bin/python3.7 -m pip install --upgrade pip' command.\u001b[0m\r\n"
     ]
    }
   ],
   "source": [
    "!pip install pyarc==1.0.23\n",
    "!pip install pyfim\n",
    "from pyarc import CBA, TransactionDB"
   ]
  },
  {
   "cell_type": "code",
   "execution_count": 52,
   "metadata": {
    "execution": {
     "iopub.execute_input": "2020-10-28T08:42:43.006759Z",
     "iopub.status.busy": "2020-10-28T08:42:43.005945Z",
     "iopub.status.idle": "2020-10-28T08:42:49.716544Z",
     "shell.execute_reply": "2020-10-28T08:42:49.715855Z"
    },
    "papermill": {
     "duration": 6.846881,
     "end_time": "2020-10-28T08:42:49.716705",
     "exception": false,
     "start_time": "2020-10-28T08:42:42.869824",
     "status": "completed"
    },
    "tags": []
   },
   "outputs": [
    {
     "data": {
      "text/plain": [
       "<pyarc.cba.CBA at 0x7f51143f3cd0>"
      ]
     },
     "execution_count": 52,
     "metadata": {},
     "output_type": "execute_result"
    }
   ],
   "source": [
    "txns_train = TransactionDB.from_DataFrame(X_train.join(y_train))\n",
    "txns_test = TransactionDB.from_DataFrame(X_test.join(y_test))\n",
    "\n",
    "\n",
    "cba = CBA(support=0.15, confidence=0.5, algorithm=\"m1\")\n",
    "cba.fit(txns_train)"
   ]
  },
  {
   "cell_type": "code",
   "execution_count": 53,
   "metadata": {
    "execution": {
     "iopub.execute_input": "2020-10-28T08:42:49.986351Z",
     "iopub.status.busy": "2020-10-28T08:42:49.981225Z",
     "iopub.status.idle": "2020-10-28T08:42:50.662022Z",
     "shell.execute_reply": "2020-10-28T08:42:50.662616Z"
    },
    "papermill": {
     "duration": 0.819005,
     "end_time": "2020-10-28T08:42:50.662874",
     "exception": false,
     "start_time": "2020-10-28T08:42:49.843869",
     "status": "completed"
    },
    "tags": []
   },
   "outputs": [],
   "source": [
    "cba_score = cba.rule_model_accuracy(txns_test) \n",
    "scores.append(cba_score)\n",
    "models.append([\"CBA\"])"
   ]
  },
  {
   "cell_type": "code",
   "execution_count": 54,
   "metadata": {
    "execution": {
     "iopub.execute_input": "2020-10-28T08:42:50.925779Z",
     "iopub.status.busy": "2020-10-28T08:42:50.925042Z",
     "iopub.status.idle": "2020-10-28T08:42:50.928771Z",
     "shell.execute_reply": "2020-10-28T08:42:50.928171Z"
    },
    "papermill": {
     "duration": 0.139087,
     "end_time": "2020-10-28T08:42:50.928948",
     "exception": false,
     "start_time": "2020-10-28T08:42:50.789861",
     "status": "completed"
    },
    "tags": []
   },
   "outputs": [],
   "source": [
    "model_names= [i[0] for i in models]\n",
    "scores = list(map(lambda x: x*100, scores))"
   ]
  },
  {
   "cell_type": "code",
   "execution_count": 55,
   "metadata": {
    "execution": {
     "iopub.execute_input": "2020-10-28T08:42:51.196084Z",
     "iopub.status.busy": "2020-10-28T08:42:51.193798Z",
     "iopub.status.idle": "2020-10-28T08:42:51.403573Z",
     "shell.execute_reply": "2020-10-28T08:42:51.402846Z"
    },
    "papermill": {
     "duration": 0.348816,
     "end_time": "2020-10-28T08:42:51.403717",
     "exception": false,
     "start_time": "2020-10-28T08:42:51.054901",
     "status": "completed"
    },
    "tags": []
   },
   "outputs": [
    {
     "data": {
      "image/png": "[encoded data removed]",
      "text/plain": [
       "<Figure size 432x288 with 1 Axes>"
      ]
     },
     "metadata": {},
     "output_type": "display_data"
    }
   ],
   "source": [
    "plot_scores(model_names, scores, True)"
   ]
  },
  {
   "cell_type": "markdown",
   "metadata": {},
   "source": [
    "## Fairness"
   ]
  },
  {
   "cell_type": "code",
   "execution_count": 4,
   "metadata": {},
   "outputs": [],
   "source": [
    "# This DataFrame is created to stock differents models and fair metrics that we produce in this notebook\n",
    "algo_metrics = pd.DataFrame(columns=['model', 'fair_metrics', 'prediction', 'probs'])\n",
    "\n",
    "def add_to_df_algo_metrics(algo_metrics, model, fair_metrics, preds, probs, name):\n",
    "    return algo_metrics.append(pd.DataFrame(data=[[model, fair_metrics, preds, probs]], columns=['model', 'fair_metrics', 'prediction', 'probs'], index=[name]))"
   ]
  },
  {
   "cell_type": "code",
   "execution_count": 5,
   "metadata": {},
   "outputs": [],
   "source": [
    "def fair_metrics(dataset, pred, pred_is_dataset=False):\n",
    "    if pred_is_dataset:\n",
    "        dataset_pred = pred\n",
    "    else:\n",
    "        dataset_pred = dataset.copy()\n",
    "        dataset_pred.labels = pred\n",
    "    \n",
    "    cols = ['statistical_parity_difference', 'equal_opportunity_difference', 'average_abs_odds_difference',  'disparate_impact', 'theil_index']\n",
    "    obj_fairness = [[0,0,0,1,0]]\n",
    "    \n",
    "    fair_metrics = pd.DataFrame(data=obj_fairness, index=['objective'], columns=cols)\n",
    "    \n",
    "    for attr in dataset_pred.protected_attribute_names:\n",
    "        idx = dataset_pred.protected_attribute_names.index(attr)\n",
    "        privileged_groups =  [{attr:dataset_pred.privileged_protected_attributes[idx][0]}] \n",
    "        unprivileged_groups = [{attr:dataset_pred.unprivileged_protected_attributes[idx][0]}] \n",
    "        \n",
    "        classified_metric = ClassificationMetric(dataset, \n",
    "                                                     dataset_pred,\n",
    "                                                     unprivileged_groups=unprivileged_groups,\n",
    "                                                     privileged_groups=privileged_groups)\n",
    "\n",
    "        metric_pred = BinaryLabelDatasetMetric(dataset_pred,\n",
    "                                                     unprivileged_groups=unprivileged_groups,\n",
    "                                                     privileged_groups=privileged_groups)\n",
    "\n",
    "        acc = classified_metric.accuracy()\n",
    "\n",
    "        row = pd.DataFrame([[metric_pred.mean_difference(),\n",
    "                                classified_metric.equal_opportunity_difference(),\n",
    "                                classified_metric.average_abs_odds_difference(),\n",
    "                                metric_pred.disparate_impact(),\n",
    "                                classified_metric.theil_index()]],\n",
    "                           columns  = cols,\n",
    "                           index = [attr]\n",
    "                          )\n",
    "        fair_metrics = fair_metrics.append(row)    \n",
    "    \n",
    "    fair_metrics = fair_metrics.replace([-np.inf, np.inf], 2)\n",
    "        \n",
    "    return fair_metrics\n",
    "\n",
    "def plot_fair_metrics(fair_metrics):\n",
    "    fig, ax = plt.subplots(figsize=(20,4), ncols=5, nrows=1)\n",
    "\n",
    "    plt.subplots_adjust(\n",
    "        left    =  0.125, \n",
    "        bottom  =  0.1, \n",
    "        right   =  0.9, \n",
    "        top     =  0.9, \n",
    "        wspace  =  .5, \n",
    "        hspace  =  1.1\n",
    "    )\n",
    "\n",
    "    y_title_margin = 1.2\n",
    "\n",
    "    plt.suptitle(\"Fairness metrics\", y = 1.09, fontsize=20)\n",
    "    sns.set(style=\"dark\")\n",
    "\n",
    "    cols = fair_metrics.columns.values\n",
    "    obj = fair_metrics.loc['objective']\n",
    "    size_rect = [0.2,0.2,0.2,0.4,0.25]\n",
    "    rect = [-0.1,-0.1,-0.1,0.8,0]\n",
    "    bottom = [-1,-1,-1,0,0]\n",
    "    top = [1,1,1,2,1]\n",
    "    bound = [[-0.1,0.1],[-0.1,0.1],[-0.1,0.1],[0.8,1.2],[0,0.25]]\n",
    "\n",
    "    display(Markdown(\"### Check bias metrics :\"))\n",
    "    display(Markdown(\"A model can be considered bias if just one of these five metrics show that this model is biased.\"))\n",
    "    for attr in fair_metrics.index[1:len(fair_metrics)].values:\n",
    "        display(Markdown(\"#### For the %s attribute :\"%attr))\n",
    "        check = [bound[i][0] < fair_metrics.loc[attr][i] < bound[i][1] for i in range(0,5)]\n",
    "        display(Markdown(\"With default thresholds, bias against unprivileged group detected in **%d** out of 5 metrics\"%(5 - sum(check))))\n",
    "\n",
    "    for i in range(0,5):\n",
    "        plt.subplot(1, 5, i+1)\n",
    "        ax = sns.barplot(x=fair_metrics.index[1:len(fair_metrics)], y=fair_metrics.iloc[1:len(fair_metrics)][cols[i]])\n",
    "        \n",
    "        for j in range(0,len(fair_metrics)-1):\n",
    "            a, val = ax.patches[j], fair_metrics.iloc[j+1][cols[i]]\n",
    "            marg = -0.2 if val < 0 else 0.1\n",
    "            ax.text(a.get_x()+a.get_width()/5, a.get_y()+a.get_height()+marg, round(val, 3), fontsize=15,color='black')\n",
    "\n",
    "        plt.ylim(bottom[i], top[i])\n",
    "        plt.setp(ax.patches, linewidth=0)\n",
    "        ax.add_patch(patches.Rectangle((-5,rect[i]), 10, size_rect[i], alpha=0.3, facecolor=\"green\", linewidth=1, linestyle='solid'))\n",
    "        plt.axhline(obj[i], color='black', alpha=0.3)\n",
    "        plt.title(cols[i])\n",
    "        ax.set_ylabel('')    \n",
    "        ax.set_xlabel('')"
   ]
  },
  {
   "cell_type": "code",
   "execution_count": 6,
   "metadata": {},
   "outputs": [],
   "source": [
    "def get_fair_metrics_and_plot(data, model, plot=False, model_aif=False):\n",
    "    pred = model.predict(data).labels if model_aif else model.predict(data.features)\n",
    "    # fair_metrics function available in the metrics.py file\n",
    "    fair = fair_metrics(data, pred)\n",
    "\n",
    "    if plot:\n",
    "        # plot_fair_metrics function available in the visualisations.py file\n",
    "        # The visualisation of this function is inspired by the dashboard on the demo of IBM aif360 \n",
    "        plot_fair_metrics(fair)\n",
    "        display(fair)\n",
    "    \n",
    "    return fair"
   ]
  },
  {
   "cell_type": "code",
   "execution_count": 66,
   "metadata": {},
   "outputs": [
    {
     "data": {
      "text/html": [
       "<div>\n",
       "<style scoped>\n",
       "    .dataframe tbody tr th:only-of-type {\n",
       "        vertical-align: middle;\n",
       "    }\n",
       "\n",
       "    .dataframe tbody tr th {\n",
       "        vertical-align: top;\n",
       "    }\n",
       "\n",
       "    .dataframe thead th {\n",
       "        text-align: right;\n",
       "    }\n",
       "</style>\n",
       "<table border=\"1\" class=\"dataframe\">\n",
       "  <thead>\n",
       "    <tr style=\"text-align: right;\">\n",
       "      <th></th>\n",
       "      <th>education.num</th>\n",
       "      <th>marital.status</th>\n",
       "      <th>relationship</th>\n",
       "      <th>age_enc</th>\n",
       "      <th>workclass_enc</th>\n",
       "      <th>occupation_enc</th>\n",
       "      <th>relationship_enc</th>\n",
       "      <th>sex_enc</th>\n",
       "      <th>capital.gain_enc</th>\n",
       "      <th>capital.loss_enc</th>\n",
       "      <th>hours.per.week_enc</th>\n",
       "      <th>income_enc</th>\n",
       "    </tr>\n",
       "  </thead>\n",
       "  <tbody>\n",
       "    <tr>\n",
       "      <th>0</th>\n",
       "      <td>9</td>\n",
       "      <td>6</td>\n",
       "      <td>1</td>\n",
       "      <td>1</td>\n",
       "      <td>1</td>\n",
       "      <td>2</td>\n",
       "      <td>0</td>\n",
       "      <td>0</td>\n",
       "      <td>0</td>\n",
       "      <td>2</td>\n",
       "      <td>1</td>\n",
       "      <td>0</td>\n",
       "    </tr>\n",
       "    <tr>\n",
       "      <th>1</th>\n",
       "      <td>9</td>\n",
       "      <td>6</td>\n",
       "      <td>1</td>\n",
       "      <td>1</td>\n",
       "      <td>1</td>\n",
       "      <td>2</td>\n",
       "      <td>0</td>\n",
       "      <td>0</td>\n",
       "      <td>0</td>\n",
       "      <td>2</td>\n",
       "      <td>0</td>\n",
       "      <td>0</td>\n",
       "    </tr>\n",
       "    <tr>\n",
       "      <th>2</th>\n",
       "      <td>10</td>\n",
       "      <td>6</td>\n",
       "      <td>4</td>\n",
       "      <td>1</td>\n",
       "      <td>1</td>\n",
       "      <td>0</td>\n",
       "      <td>0</td>\n",
       "      <td>0</td>\n",
       "      <td>0</td>\n",
       "      <td>2</td>\n",
       "      <td>1</td>\n",
       "      <td>0</td>\n",
       "    </tr>\n",
       "    <tr>\n",
       "      <th>3</th>\n",
       "      <td>4</td>\n",
       "      <td>0</td>\n",
       "      <td>4</td>\n",
       "      <td>1</td>\n",
       "      <td>1</td>\n",
       "      <td>0</td>\n",
       "      <td>0</td>\n",
       "      <td>0</td>\n",
       "      <td>0</td>\n",
       "      <td>2</td>\n",
       "      <td>1</td>\n",
       "      <td>0</td>\n",
       "    </tr>\n",
       "    <tr>\n",
       "      <th>4</th>\n",
       "      <td>10</td>\n",
       "      <td>5</td>\n",
       "      <td>3</td>\n",
       "      <td>1</td>\n",
       "      <td>1</td>\n",
       "      <td>2</td>\n",
       "      <td>0</td>\n",
       "      <td>0</td>\n",
       "      <td>0</td>\n",
       "      <td>2</td>\n",
       "      <td>1</td>\n",
       "      <td>0</td>\n",
       "    </tr>\n",
       "  </tbody>\n",
       "</table>\n",
       "</div>"
      ],
      "text/plain": [
       "   education.num  marital.status  relationship  age_enc  workclass_enc  \\\n",
       "0              9               6             1        1              1   \n",
       "1              9               6             1        1              1   \n",
       "2             10               6             4        1              1   \n",
       "3              4               0             4        1              1   \n",
       "4             10               5             3        1              1   \n",
       "\n",
       "   occupation_enc  relationship_enc  sex_enc  capital.gain_enc  \\\n",
       "0               2                 0        0                 0   \n",
       "1               2                 0        0                 0   \n",
       "2               0                 0        0                 0   \n",
       "3               0                 0        0                 0   \n",
       "4               2                 0        0                 0   \n",
       "\n",
       "   capital.loss_enc  hours.per.week_enc  income_enc  \n",
       "0                 2                   1           0  \n",
       "1                 2                   0           0  \n",
       "2                 2                   1           0  \n",
       "3                 2                   1           0  \n",
       "4                 2                   1           0  "
      ]
     },
     "execution_count": 66,
     "metadata": {},
     "output_type": "execute_result"
    }
   ],
   "source": [
    "##train['Sex'] = train['Sex'].map( {'female': 1, 'male': 0} ).astype(int)\n",
    "df.head()\n",
    "\n",
    "\n",
    "#features = [\"Pclass\", \"Sex\", \"SibSp\", \"Parch\", \"Survived\"]\n",
    "#X = pd.get_dummies(train_data[features])"
   ]
  },
  {
   "cell_type": "code",
   "execution_count": 67,
   "metadata": {},
   "outputs": [],
   "source": [
    "privileged_groups = [{'sex_enc': 1}]\n",
    "unprivileged_groups = [{'sex_enc': 0}]\n",
    "dataset_orig = StandardDataset(df,\n",
    "                                  label_name='income_enc',\n",
    "                                  protected_attribute_names=['sex_enc'],\n",
    "                                  favorable_classes=[1],\n",
    "                                  privileged_classes=[[1]])"
   ]
  },
  {
   "cell_type": "code",
   "execution_count": 68,
   "metadata": {},
   "outputs": [
    {
     "data": {
      "text/markdown": [
       "#### Original training dataset"
      ],
      "text/plain": [
       "<IPython.core.display.Markdown object>"
      ]
     },
     "metadata": {},
     "output_type": "display_data"
    },
    {
     "name": "stdout",
     "output_type": "stream",
     "text": [
      "Difference in mean outcomes between unprivileged and privileged groups = -0.196276\n"
     ]
    }
   ],
   "source": [
    "metric_orig_train = BinaryLabelDatasetMetric(dataset_orig, \n",
    "                                             unprivileged_groups=unprivileged_groups,\n",
    "                                             privileged_groups=privileged_groups)\n",
    "display(Markdown(\"#### Original training dataset\"))\n",
    "print(\"Difference in mean outcomes between unprivileged and privileged groups = %f\" % metric_orig_train.mean_difference())"
   ]
  },
  {
   "cell_type": "code",
   "execution_count": 7,
   "metadata": {},
   "outputs": [],
   "source": [
    "data_orig_train = pd.read_pickle('../../Results/Stacking/0-income-classification-using-meta-learning_Train.pkl')\n",
    "data_orig_test = pd.read_pickle('../../Results/Stacking/0-income-classification-using-meta-learning_Test.pkl')"
   ]
  },
  {
   "cell_type": "code",
   "execution_count": 15,
   "metadata": {},
   "outputs": [],
   "source": [
    "import ipynbname\n",
    "nb_fname = ipynbname.name()\n",
    "nb_path = ipynbname.path()\n",
    "\n",
    "import pickle\n",
    "\n",
    "#data_orig_train, data_orig_test = dataset_orig.split([0.7], shuffle=True)\n",
    "X_train = data_orig_train.features\n",
    "y_train = data_orig_train.labels.ravel()\n",
    "\n",
    "X_test = data_orig_test.features\n",
    "y_test = data_orig_test.labels.ravel()\n",
    "\n",
    "estimators = models\n",
    "\n",
    "\n",
    "model = StackingClassifier(estimators = models, final_estimator=XGBClassifier())\n",
    "\n",
    "mdl = model.fit(X_train, y_train)\n",
    "#with open('../../Results/Stacking/' + nb_fname + '.pkl', 'wb') as f:\n",
    "#        pickle.dump(mdl, f)\n",
    "\n",
    "#with open('../../Results/Stacking/' + nb_fname + '_Train' + '.pkl', 'wb') as f:\n",
    "#    pickle.dump(data_orig_train, f) \n",
    "    \n",
    "#with open('../../Results/Stacking/' + nb_fname + '_Test' + '.pkl', 'wb') as f:\n",
    "#    pickle.dump(data_orig_test, f) "
   ]
  },
  {
   "cell_type": "code",
   "execution_count": 16,
   "metadata": {},
   "outputs": [
    {
     "name": "stdout",
     "output_type": "stream",
     "text": [
      "[('ET', ExtraTreesClassifier(random_state=42))]\n",
      "[('ET', ExtraTreesClassifier(random_state=42)), ('GB', GradientBoostingClassifier(random_state=42))]\n",
      "[('ET', ExtraTreesClassifier(random_state=42)), ('GB', GradientBoostingClassifier(random_state=42)), ('RF', RandomForestClassifier(random_state=42))]\n",
      "[('ET', ExtraTreesClassifier(random_state=42)), ('GB', GradientBoostingClassifier(random_state=42)), ('RF', RandomForestClassifier(random_state=42)), ('XGB', XGBClassifier(base_score=None, booster=None, colsample_bylevel=None,\n",
      "              colsample_bynode=None, colsample_bytree=None, gamma=None,\n",
      "              gpu_id=None, importance_type='gain', interaction_constraints=None,\n",
      "              learning_rate=None, max_delta_step=None, max_depth=None,\n",
      "              min_child_weight=None, missing=nan, monotone_constraints=None,\n",
      "              n_estimators=100, n_jobs=None, num_parallel_tree=None,\n",
      "              random_state=42, reg_alpha=None, reg_lambda=None,\n",
      "              scale_pos_weight=None, subsample=None, tree_method=None,\n",
      "              validate_parameters=None, verbosity=None))]\n",
      "[('ET', ExtraTreesClassifier(random_state=42)), ('GB', GradientBoostingClassifier(random_state=42)), ('RF', RandomForestClassifier(random_state=42)), ('XGB', XGBClassifier(base_score=None, booster=None, colsample_bylevel=None,\n",
      "              colsample_bynode=None, colsample_bytree=None, gamma=None,\n",
      "              gpu_id=None, importance_type='gain', interaction_constraints=None,\n",
      "              learning_rate=None, max_delta_step=None, max_depth=None,\n",
      "              min_child_weight=None, missing=nan, monotone_constraints=None,\n",
      "              n_estimators=100, n_jobs=None, num_parallel_tree=None,\n",
      "              random_state=42, reg_alpha=None, reg_lambda=None,\n",
      "              scale_pos_weight=None, subsample=None, tree_method=None,\n",
      "              validate_parameters=None, verbosity=None)), ('LGBM', LGBMClassifier(random_state=42))]\n"
     ]
    }
   ],
   "source": [
    "from csv import writer\n",
    "from sklearn.metrics import accuracy_score, f1_score\n",
    "\n",
    "final_metrics = []\n",
    "accuracy = []\n",
    "list_estimators = []\n",
    "f1= []\n",
    "\n",
    "for name, ml_model in estimators:\n",
    "    \n",
    "    list_estimators.append((name,ml_model))\n",
    "    print(list_estimators)\n",
    "    model = StackingClassifier(estimators = list_estimators)\n",
    "    \n",
    "    mdl = model.fit(X_train, y_train)\n",
    "    yy = mdl.predict(X_test)\n",
    "    accuracy.append(accuracy_score(y_test, yy))\n",
    "    f1.append(f1_score(y_test, yy))\n",
    "    fair = get_fair_metrics_and_plot(data_orig_test, mdl)                           \n",
    "    fair_list = fair.iloc[1].tolist()\n",
    "    #fair_list.insert(0, i)\n",
    "    final_metrics.append(fair_list)\n"
   ]
  },
  {
   "cell_type": "code",
   "execution_count": 18,
   "metadata": {},
   "outputs": [
    {
     "name": "stdout",
     "output_type": "stream",
     "text": [
      "[('ET', ExtraTreesClassifier(random_state=42))]\n",
      "[('GB', GradientBoostingClassifier(random_state=42))]\n",
      "[('RF', RandomForestClassifier(random_state=42))]\n",
      "[('XGB', XGBClassifier(base_score=None, booster=None, colsample_bylevel=None,\n",
      "              colsample_bynode=None, colsample_bytree=None, gamma=None,\n",
      "              gpu_id=None, importance_type='gain', interaction_constraints=None,\n",
      "              learning_rate=None, max_delta_step=None, max_depth=None,\n",
      "              min_child_weight=None, missing=nan, monotone_constraints=None,\n",
      "              n_estimators=100, n_jobs=None, num_parallel_tree=None,\n",
      "              random_state=42, reg_alpha=None, reg_lambda=None,\n",
      "              scale_pos_weight=None, subsample=None, tree_method=None,\n",
      "              validate_parameters=None, verbosity=None))]\n",
      "[('LGBM', LGBMClassifier(random_state=42))]\n"
     ]
    }
   ],
   "source": [
    "from csv import writer\n",
    "from sklearn.metrics import accuracy_score, f1_score\n",
    "\n",
    "final_metrics = []\n",
    "accuracy = []\n",
    "list_estimators = []\n",
    "f1= []\n",
    "\n",
    "for name, ml_model in estimators:\n",
    "    \n",
    "    list_estimators.append((name,ml_model))\n",
    "    print(list_estimators)\n",
    "    model = ml_model\n",
    "    list_estimators = []\n",
    "\n",
    "    mdl = model.fit(X_train, y_train)\n",
    "    yy = mdl.predict(X_test)\n",
    "    accuracy.append(accuracy_score(y_test, yy))\n",
    "    f1.append(f1_score(y_test, yy))\n",
    "    fair = get_fair_metrics_and_plot(data_orig_test, mdl)                           \n",
    "    fair_list = fair.iloc[1].tolist()\n",
    "    #fair_list.insert(0, i)\n",
    "    final_metrics.append(fair_list)\n"
   ]
  },
  {
   "cell_type": "code",
   "execution_count": 19,
   "metadata": {},
   "outputs": [
    {
     "data": {
      "text/html": [
       "<div>\n",
       "<style scoped>\n",
       "    .dataframe tbody tr th:only-of-type {\n",
       "        vertical-align: middle;\n",
       "    }\n",
       "\n",
       "    .dataframe tbody tr th {\n",
       "        vertical-align: top;\n",
       "    }\n",
       "\n",
       "    .dataframe thead th {\n",
       "        text-align: right;\n",
       "    }\n",
       "</style>\n",
       "<table border=\"1\" class=\"dataframe\">\n",
       "  <thead>\n",
       "    <tr style=\"text-align: right;\">\n",
       "      <th></th>\n",
       "      <th>0</th>\n",
       "      <th>1</th>\n",
       "      <th>2</th>\n",
       "      <th>3</th>\n",
       "      <th>4</th>\n",
       "    </tr>\n",
       "  </thead>\n",
       "  <tbody>\n",
       "    <tr>\n",
       "      <th>accuracy</th>\n",
       "      <td>0.842051</td>\n",
       "      <td>0.853311</td>\n",
       "      <td>0.842358</td>\n",
       "      <td>0.850855</td>\n",
       "      <td>0.851059</td>\n",
       "    </tr>\n",
       "    <tr>\n",
       "      <th>f1</th>\n",
       "      <td>0.640745</td>\n",
       "      <td>0.660989</td>\n",
       "      <td>0.647758</td>\n",
       "      <td>0.660294</td>\n",
       "      <td>0.660760</td>\n",
       "    </tr>\n",
       "    <tr>\n",
       "      <th>statistical_parity_difference</th>\n",
       "      <td>-0.153233</td>\n",
       "      <td>-0.182674</td>\n",
       "      <td>-0.161289</td>\n",
       "      <td>-0.175472</td>\n",
       "      <td>-0.182419</td>\n",
       "    </tr>\n",
       "    <tr>\n",
       "      <th>equal_opportunity_difference</th>\n",
       "      <td>-0.020186</td>\n",
       "      <td>-0.108283</td>\n",
       "      <td>-0.029884</td>\n",
       "      <td>-0.073794</td>\n",
       "      <td>-0.097933</td>\n",
       "    </tr>\n",
       "    <tr>\n",
       "      <th>average_abs_odds_difference</th>\n",
       "      <td>0.040079</td>\n",
       "      <td>0.092215</td>\n",
       "      <td>0.047591</td>\n",
       "      <td>0.073178</td>\n",
       "      <td>0.087411</td>\n",
       "    </tr>\n",
       "    <tr>\n",
       "      <th>disparate_impact</th>\n",
       "      <td>-0.960673</td>\n",
       "      <td>-1.301647</td>\n",
       "      <td>-0.976450</td>\n",
       "      <td>-1.165798</td>\n",
       "      <td>-1.235126</td>\n",
       "    </tr>\n",
       "    <tr>\n",
       "      <th>theil_index</th>\n",
       "      <td>0.127748</td>\n",
       "      <td>0.122350</td>\n",
       "      <td>0.124309</td>\n",
       "      <td>0.121609</td>\n",
       "      <td>0.121460</td>\n",
       "    </tr>\n",
       "  </tbody>\n",
       "</table>\n",
       "</div>"
      ],
      "text/plain": [
       "                                      0         1         2         3  \\\n",
       "accuracy                       0.842051  0.853311  0.842358  0.850855   \n",
       "f1                             0.640745  0.660989  0.647758  0.660294   \n",
       "statistical_parity_difference -0.153233 -0.182674 -0.161289 -0.175472   \n",
       "equal_opportunity_difference  -0.020186 -0.108283 -0.029884 -0.073794   \n",
       "average_abs_odds_difference    0.040079  0.092215  0.047591  0.073178   \n",
       "disparate_impact              -0.960673 -1.301647 -0.976450 -1.165798   \n",
       "theil_index                    0.127748  0.122350  0.124309  0.121609   \n",
       "\n",
       "                                      4  \n",
       "accuracy                       0.851059  \n",
       "f1                             0.660760  \n",
       "statistical_parity_difference -0.182419  \n",
       "equal_opportunity_difference  -0.097933  \n",
       "average_abs_odds_difference    0.087411  \n",
       "disparate_impact              -1.235126  \n",
       "theil_index                    0.121460  "
      ]
     },
     "execution_count": 19,
     "metadata": {},
     "output_type": "execute_result"
    }
   ],
   "source": [
    "import numpy as np\n",
    "final_result = pd.DataFrame(final_metrics)\n",
    "final_result[3] = np.log(final_result[3])\n",
    "final_result = final_result.transpose()\n",
    "acc_f1 = pd.DataFrame(accuracy)\n",
    "acc_f1['f1'] = f1\n",
    "acc_f1 = pd.DataFrame(acc_f1).transpose()\n",
    "acc = acc_f1.rename(index={0: 'accuracy', 1: 'f1'})\n",
    "final_result = final_result.rename(index={0: 'statistical_parity_difference', 1: 'equal_opportunity_difference', 2: 'average_abs_odds_difference', 3: 'disparate_impact', 4: 'theil_index'})\n",
    "final_result = pd.concat([acc,final_result])\n",
    "#final_result.columns = ['T' + str(col) for col in final_result.columns]\n",
    "#final_result.insert(0, \"classifier\", final_result['T' + str(len(list_estimators) - 1)])   ##Add final metrics add the beginning of the df\n",
    "#final_result.to_csv('../../Results/Stacking/' + nb_fname + '.csv')\n",
    "final_result"
   ]
  },
  {
   "cell_type": "code",
   "execution_count": 62,
   "metadata": {},
   "outputs": [],
   "source": [
    "xgb = ExtraTreesClassifier(max_depth=12, min_samples_split=9, random_state=42)\n",
    "from sklearn.metrics import accuracy_score, f1_score"
   ]
  },
  {
   "cell_type": "code",
   "execution_count": 63,
   "metadata": {},
   "outputs": [
    {
     "name": "stdout",
     "output_type": "stream",
     "text": [
      "accuracy 0.850141260287434\n",
      "score 0.6449359720605355\n"
     ]
    },
    {
     "ename": "NameError",
     "evalue": "name 'data_orig_test' is not defined",
     "output_type": "error",
     "traceback": [
      "\u001b[1;31m---------------------------------------------------------------------------\u001b[0m",
      "\u001b[1;31mNameError\u001b[0m                                 Traceback (most recent call last)",
      "\u001b[1;32m<ipython-input-63-6e1a4d0d024f>\u001b[0m in \u001b[0;36m<module>\u001b[1;34m\u001b[0m\n\u001b[0;32m      3\u001b[0m \u001b[0mprint\u001b[0m\u001b[1;33m(\u001b[0m\u001b[1;34m\"accuracy\"\u001b[0m\u001b[1;33m,\u001b[0m \u001b[0maccuracy_score\u001b[0m\u001b[1;33m(\u001b[0m\u001b[0my_test\u001b[0m\u001b[1;33m,\u001b[0m \u001b[0myy\u001b[0m\u001b[1;33m)\u001b[0m\u001b[1;33m)\u001b[0m\u001b[1;33m\u001b[0m\u001b[1;33m\u001b[0m\u001b[0m\n\u001b[0;32m      4\u001b[0m \u001b[0mprint\u001b[0m\u001b[1;33m(\u001b[0m\u001b[1;34m\"score\"\u001b[0m\u001b[1;33m,\u001b[0m \u001b[0mf1_score\u001b[0m\u001b[1;33m(\u001b[0m\u001b[0my_test\u001b[0m\u001b[1;33m,\u001b[0m \u001b[0myy\u001b[0m\u001b[1;33m)\u001b[0m\u001b[1;33m)\u001b[0m\u001b[1;33m\u001b[0m\u001b[1;33m\u001b[0m\u001b[0m\n\u001b[1;32m----> 5\u001b[1;33m \u001b[0mfair\u001b[0m \u001b[1;33m=\u001b[0m \u001b[0mget_fair_metrics_and_plot\u001b[0m\u001b[1;33m(\u001b[0m\u001b[0mdata_orig_test\u001b[0m\u001b[1;33m,\u001b[0m \u001b[0mmdl\u001b[0m\u001b[1;33m)\u001b[0m\u001b[1;33m\u001b[0m\u001b[1;33m\u001b[0m\u001b[0m\n\u001b[0m\u001b[0;32m      6\u001b[0m \u001b[0mfair_list\u001b[0m \u001b[1;33m=\u001b[0m \u001b[0mfair\u001b[0m\u001b[1;33m.\u001b[0m\u001b[0miloc\u001b[0m\u001b[1;33m[\u001b[0m\u001b[1;36m1\u001b[0m\u001b[1;33m]\u001b[0m\u001b[1;33m.\u001b[0m\u001b[0mtolist\u001b[0m\u001b[1;33m(\u001b[0m\u001b[1;33m)\u001b[0m\u001b[1;33m\u001b[0m\u001b[1;33m\u001b[0m\u001b[0m\n\u001b[0;32m      7\u001b[0m \u001b[0mprint\u001b[0m\u001b[1;33m(\u001b[0m\u001b[0mfair_list\u001b[0m\u001b[1;33m)\u001b[0m\u001b[1;33m\u001b[0m\u001b[1;33m\u001b[0m\u001b[0m\n",
      "\u001b[1;31mNameError\u001b[0m: name 'data_orig_test' is not defined"
     ]
    }
   ],
   "source": [
    "mdl = xgb.fit(X_train, y_train)\n",
    "yy = mdl.predict(X_test)\n",
    "print(\"accuracy\", accuracy_score(y_test, yy))\n",
    "print(\"score\", f1_score(y_test, yy))\n",
    "fair = get_fair_metrics_and_plot(data_orig_test, mdl)                           \n",
    "fair_list = fair.iloc[1].tolist()\n",
    "print(fair_list)"
   ]
  },
  {
   "cell_type": "code",
   "execution_count": null,
   "metadata": {},
   "outputs": [],
   "source": []
  }
 ],
 "metadata": {
  "kernelspec": {
   "display_name": "Python 3",
   "language": "python",
   "name": "python3"
  },
  "language_info": {
   "codemirror_mode": {
    "name": "ipython",
    "version": 3
   },
   "file_extension": ".py",
   "mimetype": "text/x-python",
   "name": "python",
   "nbconvert_exporter": "python",
   "pygments_lexer": "ipython3",
   "version": "3.8.5"
  },
  "papermill": {
   "duration": 375.856383,
   "end_time": "2020-10-28T08:42:51.640901",
   "environment_variables": {},
   "exception": null,
   "input_path": "__notebook__.ipynb",
   "output_path": "__notebook__.ipynb",
   "parameters": {},
   "start_time": "2020-10-28T08:36:35.784518",
   "version": "2.1.0"
  }
 },
 "nbformat": 4,
 "nbformat_minor": 4
}
