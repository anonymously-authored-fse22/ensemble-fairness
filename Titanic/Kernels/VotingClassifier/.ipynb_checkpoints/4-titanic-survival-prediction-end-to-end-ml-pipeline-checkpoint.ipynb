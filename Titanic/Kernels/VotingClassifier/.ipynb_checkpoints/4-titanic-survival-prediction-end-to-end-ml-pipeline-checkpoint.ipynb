{
 "cells": [
  {
   "cell_type": "markdown",
   "metadata": {
    "_cell_guid": "ac51b485-dd2c-42d6-1063-30f13cf3447b"
   },
   "source": [
    "## Introduction\n",
    "\n",
    "**_Poonam Ligade_**\n",
    "\n",
    "*27th Dec 2016*\n",
    "\n",
    "I am are trying to find out how many people on titanic survived from disaster.\n",
    "\n",
    "Here goes Titanic Survival Prediction End to End ML Pipeline  \n",
    "\n",
    " 1) **Introduction**\n",
    "\n",
    " 1. Import Libraries\n",
    " 2. Load data\n",
    " 3. Run Statistical summeries\n",
    " 4. Figure out missing value columns\n",
    "\n",
    " \n",
    " \n",
    "2) **Visualizations**\n",
    "\n",
    " 1. Correlation with target variable\n",
    "\n",
    "\n",
    "3) **Missing values imputation**\n",
    "\n",
    " 1. train data Missing columns- Embarked,Age,Cabin\n",
    " 2. test data Missing columns- Age and Fare\n",
    " \n",
    "\n",
    "4) **Feature Engineering**\n",
    "\n",
    " 1. Calculate total family size\n",
    " 2. Get title from name\n",
    " 3. Find out which deck passenger belonged to\n",
    " 4. Dealing with Categorical Variables\n",
    "     * Label encoding\n",
    " 5. Feature Scaling\n",
    "\n",
    "\n",
    "5) **Prediction**\n",
    "\n",
    " 1. Split into training & test sets\n",
    " 2. Build the model\n",
    " 3. Feature importance\n",
    " 4. Predictions\n",
    " 5. Ensemble : Majority voting\n",
    "\n",
    "6) **Submission**"
   ]
  },
  {
   "cell_type": "markdown",
   "metadata": {
    "_cell_guid": "b08fc249-4282-b9df-caf1-8812ccc3c88a"
   },
   "source": [
    "Import libraries\n",
    "================"
   ]
  },
  {
   "cell_type": "code",
   "execution_count": 1,
   "metadata": {
    "_cell_guid": "ca368e06-2fa2-9a36-1193-72f7a9c752f2"
   },
   "outputs": [],
   "source": [
    "# We can use the pandas library in python to read in the csv file.\n",
    "import pandas as pd\n",
    "#for numerical computaions we can use numpy library\n",
    "import numpy as np"
   ]
  },
  {
   "cell_type": "code",
   "execution_count": 2,
   "metadata": {},
   "outputs": [],
   "source": [
    "from aif360.datasets import StandardDataset\n",
    "from aif360.metrics import BinaryLabelDatasetMetric, ClassificationMetric\n",
    "import matplotlib.patches as patches\n",
    "from aif360.algorithms.preprocessing import Reweighing\n",
    "#from packages import *\n",
    "#from ml_fairness import *\n",
    "import matplotlib.pyplot as plt\n",
    "import seaborn as sns\n",
    "\n",
    "\n",
    "\n",
    "from IPython.display import Markdown, display"
   ]
  },
  {
   "cell_type": "markdown",
   "metadata": {
    "_cell_guid": "41422d21-5c02-9fd3-c2fb-6a3de9f5e6a0"
   },
   "source": [
    "Load train & test data\n",
    "======================"
   ]
  },
  {
   "cell_type": "code",
   "execution_count": 3,
   "metadata": {
    "_cell_guid": "e4ab5e1b-0da0-3d9e-b53e-79a17633ca0b"
   },
   "outputs": [
    {
     "data": {
      "text/html": [
       "<div>\n",
       "<style scoped>\n",
       "    .dataframe tbody tr th:only-of-type {\n",
       "        vertical-align: middle;\n",
       "    }\n",
       "\n",
       "    .dataframe tbody tr th {\n",
       "        vertical-align: top;\n",
       "    }\n",
       "\n",
       "    .dataframe thead th {\n",
       "        text-align: right;\n",
       "    }\n",
       "</style>\n",
       "<table border=\"1\" class=\"dataframe\">\n",
       "  <thead>\n",
       "    <tr style=\"text-align: right;\">\n",
       "      <th></th>\n",
       "      <th>PassengerId</th>\n",
       "      <th>Survived</th>\n",
       "      <th>Pclass</th>\n",
       "      <th>Name</th>\n",
       "      <th>Sex</th>\n",
       "      <th>Age</th>\n",
       "      <th>SibSp</th>\n",
       "      <th>Parch</th>\n",
       "      <th>Ticket</th>\n",
       "      <th>Fare</th>\n",
       "      <th>Cabin</th>\n",
       "      <th>Embarked</th>\n",
       "    </tr>\n",
       "  </thead>\n",
       "  <tbody>\n",
       "    <tr>\n",
       "      <th>0</th>\n",
       "      <td>1</td>\n",
       "      <td>0</td>\n",
       "      <td>3</td>\n",
       "      <td>Braund, Mr. Owen Harris</td>\n",
       "      <td>male</td>\n",
       "      <td>22.0</td>\n",
       "      <td>1</td>\n",
       "      <td>0</td>\n",
       "      <td>A/5 21171</td>\n",
       "      <td>7.2500</td>\n",
       "      <td>NaN</td>\n",
       "      <td>S</td>\n",
       "    </tr>\n",
       "    <tr>\n",
       "      <th>1</th>\n",
       "      <td>2</td>\n",
       "      <td>1</td>\n",
       "      <td>1</td>\n",
       "      <td>Cumings, Mrs. John Bradley (Florence Briggs Th...</td>\n",
       "      <td>female</td>\n",
       "      <td>38.0</td>\n",
       "      <td>1</td>\n",
       "      <td>0</td>\n",
       "      <td>PC 17599</td>\n",
       "      <td>71.2833</td>\n",
       "      <td>C85</td>\n",
       "      <td>C</td>\n",
       "    </tr>\n",
       "    <tr>\n",
       "      <th>2</th>\n",
       "      <td>3</td>\n",
       "      <td>1</td>\n",
       "      <td>3</td>\n",
       "      <td>Heikkinen, Miss. Laina</td>\n",
       "      <td>female</td>\n",
       "      <td>26.0</td>\n",
       "      <td>0</td>\n",
       "      <td>0</td>\n",
       "      <td>STON/O2. 3101282</td>\n",
       "      <td>7.9250</td>\n",
       "      <td>NaN</td>\n",
       "      <td>S</td>\n",
       "    </tr>\n",
       "    <tr>\n",
       "      <th>3</th>\n",
       "      <td>4</td>\n",
       "      <td>1</td>\n",
       "      <td>1</td>\n",
       "      <td>Futrelle, Mrs. Jacques Heath (Lily May Peel)</td>\n",
       "      <td>female</td>\n",
       "      <td>35.0</td>\n",
       "      <td>1</td>\n",
       "      <td>0</td>\n",
       "      <td>113803</td>\n",
       "      <td>53.1000</td>\n",
       "      <td>C123</td>\n",
       "      <td>S</td>\n",
       "    </tr>\n",
       "    <tr>\n",
       "      <th>4</th>\n",
       "      <td>5</td>\n",
       "      <td>0</td>\n",
       "      <td>3</td>\n",
       "      <td>Allen, Mr. William Henry</td>\n",
       "      <td>male</td>\n",
       "      <td>35.0</td>\n",
       "      <td>0</td>\n",
       "      <td>0</td>\n",
       "      <td>373450</td>\n",
       "      <td>8.0500</td>\n",
       "      <td>NaN</td>\n",
       "      <td>S</td>\n",
       "    </tr>\n",
       "  </tbody>\n",
       "</table>\n",
       "</div>"
      ],
      "text/plain": [
       "   PassengerId  Survived  Pclass  \\\n",
       "0            1         0       3   \n",
       "1            2         1       1   \n",
       "2            3         1       3   \n",
       "3            4         1       1   \n",
       "4            5         0       3   \n",
       "\n",
       "                                                Name     Sex   Age  SibSp  \\\n",
       "0                            Braund, Mr. Owen Harris    male  22.0      1   \n",
       "1  Cumings, Mrs. John Bradley (Florence Briggs Th...  female  38.0      1   \n",
       "2                             Heikkinen, Miss. Laina  female  26.0      0   \n",
       "3       Futrelle, Mrs. Jacques Heath (Lily May Peel)  female  35.0      1   \n",
       "4                           Allen, Mr. William Henry    male  35.0      0   \n",
       "\n",
       "   Parch            Ticket     Fare Cabin Embarked  \n",
       "0      0         A/5 21171   7.2500   NaN        S  \n",
       "1      0          PC 17599  71.2833   C85        C  \n",
       "2      0  STON/O2. 3101282   7.9250   NaN        S  \n",
       "3      0            113803  53.1000  C123        S  \n",
       "4      0            373450   8.0500   NaN        S  "
      ]
     },
     "execution_count": 3,
     "metadata": {},
     "output_type": "execute_result"
    }
   ],
   "source": [
    "# This creates a pandas dataframe and assigns it to the titanic variable.\n",
    "titanic = pd.read_csv(\"../../Data/train.csv\")\n",
    "\n",
    "# Print the first 5 rows of the dataframe.\n",
    "titanic.head()"
   ]
  },
  {
   "cell_type": "code",
   "execution_count": 5,
   "metadata": {
    "_cell_guid": "b258ce7d-c480-28aa-edca-7cc1fedc2bd3"
   },
   "outputs": [
    {
     "data": {
      "text/html": [
       "<div>\n",
       "<style scoped>\n",
       "    .dataframe tbody tr th:only-of-type {\n",
       "        vertical-align: middle;\n",
       "    }\n",
       "\n",
       "    .dataframe tbody tr th {\n",
       "        vertical-align: top;\n",
       "    }\n",
       "\n",
       "    .dataframe thead th {\n",
       "        text-align: right;\n",
       "    }\n",
       "</style>\n",
       "<table border=\"1\" class=\"dataframe\">\n",
       "  <thead>\n",
       "    <tr style=\"text-align: right;\">\n",
       "      <th></th>\n",
       "      <th>0</th>\n",
       "      <th>1</th>\n",
       "      <th>2</th>\n",
       "      <th>3</th>\n",
       "      <th>4</th>\n",
       "    </tr>\n",
       "  </thead>\n",
       "  <tbody>\n",
       "    <tr>\n",
       "      <th>PassengerId</th>\n",
       "      <td>892</td>\n",
       "      <td>893</td>\n",
       "      <td>894</td>\n",
       "      <td>895</td>\n",
       "      <td>896</td>\n",
       "    </tr>\n",
       "    <tr>\n",
       "      <th>Pclass</th>\n",
       "      <td>3</td>\n",
       "      <td>3</td>\n",
       "      <td>2</td>\n",
       "      <td>3</td>\n",
       "      <td>3</td>\n",
       "    </tr>\n",
       "    <tr>\n",
       "      <th>Name</th>\n",
       "      <td>Kelly, Mr. James</td>\n",
       "      <td>Wilkes, Mrs. James (Ellen Needs)</td>\n",
       "      <td>Myles, Mr. Thomas Francis</td>\n",
       "      <td>Wirz, Mr. Albert</td>\n",
       "      <td>Hirvonen, Mrs. Alexander (Helga E Lindqvist)</td>\n",
       "    </tr>\n",
       "    <tr>\n",
       "      <th>Sex</th>\n",
       "      <td>male</td>\n",
       "      <td>female</td>\n",
       "      <td>male</td>\n",
       "      <td>male</td>\n",
       "      <td>female</td>\n",
       "    </tr>\n",
       "    <tr>\n",
       "      <th>Age</th>\n",
       "      <td>34.5</td>\n",
       "      <td>47</td>\n",
       "      <td>62</td>\n",
       "      <td>27</td>\n",
       "      <td>22</td>\n",
       "    </tr>\n",
       "    <tr>\n",
       "      <th>SibSp</th>\n",
       "      <td>0</td>\n",
       "      <td>1</td>\n",
       "      <td>0</td>\n",
       "      <td>0</td>\n",
       "      <td>1</td>\n",
       "    </tr>\n",
       "    <tr>\n",
       "      <th>Parch</th>\n",
       "      <td>0</td>\n",
       "      <td>0</td>\n",
       "      <td>0</td>\n",
       "      <td>0</td>\n",
       "      <td>1</td>\n",
       "    </tr>\n",
       "    <tr>\n",
       "      <th>Ticket</th>\n",
       "      <td>330911</td>\n",
       "      <td>363272</td>\n",
       "      <td>240276</td>\n",
       "      <td>315154</td>\n",
       "      <td>3101298</td>\n",
       "    </tr>\n",
       "    <tr>\n",
       "      <th>Fare</th>\n",
       "      <td>7.8292</td>\n",
       "      <td>7</td>\n",
       "      <td>9.6875</td>\n",
       "      <td>8.6625</td>\n",
       "      <td>12.2875</td>\n",
       "    </tr>\n",
       "    <tr>\n",
       "      <th>Cabin</th>\n",
       "      <td>NaN</td>\n",
       "      <td>NaN</td>\n",
       "      <td>NaN</td>\n",
       "      <td>NaN</td>\n",
       "      <td>NaN</td>\n",
       "    </tr>\n",
       "    <tr>\n",
       "      <th>Embarked</th>\n",
       "      <td>Q</td>\n",
       "      <td>S</td>\n",
       "      <td>Q</td>\n",
       "      <td>S</td>\n",
       "      <td>S</td>\n",
       "    </tr>\n",
       "  </tbody>\n",
       "</table>\n",
       "</div>"
      ],
      "text/plain": [
       "                            0                                 1  \\\n",
       "PassengerId               892                               893   \n",
       "Pclass                      3                                 3   \n",
       "Name         Kelly, Mr. James  Wilkes, Mrs. James (Ellen Needs)   \n",
       "Sex                      male                            female   \n",
       "Age                      34.5                                47   \n",
       "SibSp                       0                                 1   \n",
       "Parch                       0                                 0   \n",
       "Ticket                 330911                            363272   \n",
       "Fare                   7.8292                                 7   \n",
       "Cabin                     NaN                               NaN   \n",
       "Embarked                    Q                                 S   \n",
       "\n",
       "                                     2                 3  \\\n",
       "PassengerId                        894               895   \n",
       "Pclass                               2                 3   \n",
       "Name         Myles, Mr. Thomas Francis  Wirz, Mr. Albert   \n",
       "Sex                               male              male   \n",
       "Age                                 62                27   \n",
       "SibSp                                0                 0   \n",
       "Parch                                0                 0   \n",
       "Ticket                          240276            315154   \n",
       "Fare                            9.6875            8.6625   \n",
       "Cabin                              NaN               NaN   \n",
       "Embarked                             Q                 S   \n",
       "\n",
       "                                                        4  \n",
       "PassengerId                                           896  \n",
       "Pclass                                                  3  \n",
       "Name         Hirvonen, Mrs. Alexander (Helga E Lindqvist)  \n",
       "Sex                                                female  \n",
       "Age                                                    22  \n",
       "SibSp                                                   1  \n",
       "Parch                                                   1  \n",
       "Ticket                                            3101298  \n",
       "Fare                                              12.2875  \n",
       "Cabin                                                 NaN  \n",
       "Embarked                                                S  "
      ]
     },
     "execution_count": 5,
     "metadata": {},
     "output_type": "execute_result"
    }
   ],
   "source": [
    "titanic_test = train = pd.read_csv(\"../../Data/test.csv\")\n",
    "\n",
    "#transpose\n",
    "titanic_test.head().T\n",
    "#note their is no Survived column here which is our target varible we are trying to predict"
   ]
  },
  {
   "cell_type": "code",
   "execution_count": 6,
   "metadata": {
    "_cell_guid": "cf2a8459-1472-09c1-7c52-0a94f4b07561"
   },
   "outputs": [
    {
     "data": {
      "text/plain": [
       "(891, 12)"
      ]
     },
     "execution_count": 6,
     "metadata": {},
     "output_type": "execute_result"
    }
   ],
   "source": [
    "#shape command will give number of rows/samples/examples and number of columns/features/predictors in dataset\n",
    "#(rows,columns)\n",
    "titanic.shape"
   ]
  },
  {
   "cell_type": "code",
   "execution_count": 7,
   "metadata": {
    "_cell_guid": "5426fa8f-0323-33c4-f16b-13bece60f111"
   },
   "outputs": [
    {
     "data": {
      "text/html": [
       "<div>\n",
       "<style scoped>\n",
       "    .dataframe tbody tr th:only-of-type {\n",
       "        vertical-align: middle;\n",
       "    }\n",
       "\n",
       "    .dataframe tbody tr th {\n",
       "        vertical-align: top;\n",
       "    }\n",
       "\n",
       "    .dataframe thead th {\n",
       "        text-align: right;\n",
       "    }\n",
       "</style>\n",
       "<table border=\"1\" class=\"dataframe\">\n",
       "  <thead>\n",
       "    <tr style=\"text-align: right;\">\n",
       "      <th></th>\n",
       "      <th>PassengerId</th>\n",
       "      <th>Survived</th>\n",
       "      <th>Pclass</th>\n",
       "      <th>Age</th>\n",
       "      <th>SibSp</th>\n",
       "      <th>Parch</th>\n",
       "      <th>Fare</th>\n",
       "    </tr>\n",
       "  </thead>\n",
       "  <tbody>\n",
       "    <tr>\n",
       "      <th>count</th>\n",
       "      <td>891.000000</td>\n",
       "      <td>891.000000</td>\n",
       "      <td>891.000000</td>\n",
       "      <td>714.000000</td>\n",
       "      <td>891.000000</td>\n",
       "      <td>891.000000</td>\n",
       "      <td>891.000000</td>\n",
       "    </tr>\n",
       "    <tr>\n",
       "      <th>mean</th>\n",
       "      <td>446.000000</td>\n",
       "      <td>0.383838</td>\n",
       "      <td>2.308642</td>\n",
       "      <td>29.699118</td>\n",
       "      <td>0.523008</td>\n",
       "      <td>0.381594</td>\n",
       "      <td>32.204208</td>\n",
       "    </tr>\n",
       "    <tr>\n",
       "      <th>std</th>\n",
       "      <td>257.353842</td>\n",
       "      <td>0.486592</td>\n",
       "      <td>0.836071</td>\n",
       "      <td>14.526497</td>\n",
       "      <td>1.102743</td>\n",
       "      <td>0.806057</td>\n",
       "      <td>49.693429</td>\n",
       "    </tr>\n",
       "    <tr>\n",
       "      <th>min</th>\n",
       "      <td>1.000000</td>\n",
       "      <td>0.000000</td>\n",
       "      <td>1.000000</td>\n",
       "      <td>0.420000</td>\n",
       "      <td>0.000000</td>\n",
       "      <td>0.000000</td>\n",
       "      <td>0.000000</td>\n",
       "    </tr>\n",
       "    <tr>\n",
       "      <th>25%</th>\n",
       "      <td>223.500000</td>\n",
       "      <td>0.000000</td>\n",
       "      <td>2.000000</td>\n",
       "      <td>20.125000</td>\n",
       "      <td>0.000000</td>\n",
       "      <td>0.000000</td>\n",
       "      <td>7.910400</td>\n",
       "    </tr>\n",
       "    <tr>\n",
       "      <th>50%</th>\n",
       "      <td>446.000000</td>\n",
       "      <td>0.000000</td>\n",
       "      <td>3.000000</td>\n",
       "      <td>28.000000</td>\n",
       "      <td>0.000000</td>\n",
       "      <td>0.000000</td>\n",
       "      <td>14.454200</td>\n",
       "    </tr>\n",
       "    <tr>\n",
       "      <th>75%</th>\n",
       "      <td>668.500000</td>\n",
       "      <td>1.000000</td>\n",
       "      <td>3.000000</td>\n",
       "      <td>38.000000</td>\n",
       "      <td>1.000000</td>\n",
       "      <td>0.000000</td>\n",
       "      <td>31.000000</td>\n",
       "    </tr>\n",
       "    <tr>\n",
       "      <th>max</th>\n",
       "      <td>891.000000</td>\n",
       "      <td>1.000000</td>\n",
       "      <td>3.000000</td>\n",
       "      <td>80.000000</td>\n",
       "      <td>8.000000</td>\n",
       "      <td>6.000000</td>\n",
       "      <td>512.329200</td>\n",
       "    </tr>\n",
       "  </tbody>\n",
       "</table>\n",
       "</div>"
      ],
      "text/plain": [
       "       PassengerId    Survived      Pclass         Age       SibSp  \\\n",
       "count   891.000000  891.000000  891.000000  714.000000  891.000000   \n",
       "mean    446.000000    0.383838    2.308642   29.699118    0.523008   \n",
       "std     257.353842    0.486592    0.836071   14.526497    1.102743   \n",
       "min       1.000000    0.000000    1.000000    0.420000    0.000000   \n",
       "25%     223.500000    0.000000    2.000000   20.125000    0.000000   \n",
       "50%     446.000000    0.000000    3.000000   28.000000    0.000000   \n",
       "75%     668.500000    1.000000    3.000000   38.000000    1.000000   \n",
       "max     891.000000    1.000000    3.000000   80.000000    8.000000   \n",
       "\n",
       "            Parch        Fare  \n",
       "count  891.000000  891.000000  \n",
       "mean     0.381594   32.204208  \n",
       "std      0.806057   49.693429  \n",
       "min      0.000000    0.000000  \n",
       "25%      0.000000    7.910400  \n",
       "50%      0.000000   14.454200  \n",
       "75%      0.000000   31.000000  \n",
       "max      6.000000  512.329200  "
      ]
     },
     "execution_count": 7,
     "metadata": {},
     "output_type": "execute_result"
    }
   ],
   "source": [
    "#Describe gives statistical information about numerical columns in the dataset\n",
    "titanic.describe()\n",
    "#you can check from count if there are missing vales in columns, here age has got missing values"
   ]
  },
  {
   "cell_type": "code",
   "execution_count": 10,
   "metadata": {
    "_cell_guid": "e3ecec9e-b1b6-f16a-9e1f-81f100e3ec85"
   },
   "outputs": [
    {
     "name": "stdout",
     "output_type": "stream",
     "text": [
      "<class 'pandas.core.frame.DataFrame'>\n",
      "RangeIndex: 891 entries, 0 to 890\n",
      "Data columns (total 12 columns):\n",
      " #   Column       Non-Null Count  Dtype  \n",
      "---  ------       --------------  -----  \n",
      " 0   PassengerId  891 non-null    int64  \n",
      " 1   Survived     891 non-null    int64  \n",
      " 2   Pclass       891 non-null    int64  \n",
      " 3   Name         891 non-null    object \n",
      " 4   Sex          891 non-null    object \n",
      " 5   Age          714 non-null    float64\n",
      " 6   SibSp        891 non-null    int64  \n",
      " 7   Parch        891 non-null    int64  \n",
      " 8   Ticket       891 non-null    object \n",
      " 9   Fare         891 non-null    float64\n",
      " 10  Cabin        204 non-null    object \n",
      " 11  Embarked     889 non-null    object \n",
      "dtypes: float64(2), int64(5), object(5)\n",
      "memory usage: 83.7+ KB\n"
     ]
    }
   ],
   "source": [
    "#info method provides information about dataset like \n",
    "#total values in each column, null/not null, datatype, memory occupied etc\n",
    "titanic.info()"
   ]
  },
  {
   "cell_type": "code",
   "execution_count": 11,
   "metadata": {
    "_cell_guid": "1f252150-c25f-ca25-e981-116fcdd18afc"
   },
   "outputs": [
    {
     "data": {
      "text/plain": [
       "PassengerId      0\n",
       "Survived         0\n",
       "Pclass           0\n",
       "Name             0\n",
       "Sex              0\n",
       "Age            177\n",
       "SibSp            0\n",
       "Parch            0\n",
       "Ticket           0\n",
       "Fare             0\n",
       "Cabin          687\n",
       "Embarked         2\n",
       "dtype: int64"
      ]
     },
     "execution_count": 11,
     "metadata": {},
     "output_type": "execute_result"
    }
   ],
   "source": [
    "#lets see if there are any more columns with missing values \n",
    "null_columns=titanic.columns[titanic.isnull().any()]\n",
    "titanic.isnull().sum()"
   ]
  },
  {
   "cell_type": "markdown",
   "metadata": {
    "_cell_guid": "acd3b9aa-6d66-f572-05fe-85f9c11ba8a8"
   },
   "source": [
    "**yes even Embarked and cabin has missing values.**"
   ]
  },
  {
   "cell_type": "code",
   "execution_count": 12,
   "metadata": {
    "_cell_guid": "45ef8d0c-e417-b9d5-df59-8af551bc9b22"
   },
   "outputs": [
    {
     "data": {
      "text/plain": [
       "PassengerId      0\n",
       "Pclass           0\n",
       "Name             0\n",
       "Sex              0\n",
       "Age             86\n",
       "SibSp            0\n",
       "Parch            0\n",
       "Ticket           0\n",
       "Fare             1\n",
       "Cabin          327\n",
       "Embarked         0\n",
       "dtype: int64"
      ]
     },
     "execution_count": 12,
     "metadata": {},
     "output_type": "execute_result"
    }
   ],
   "source": [
    "#how about test set??\n",
    "titanic_test.isnull().sum()"
   ]
  },
  {
   "cell_type": "markdown",
   "metadata": {
    "_cell_guid": "8e9ebd25-beb4-1cae-31a9-6dec5ad2fba5"
   },
   "source": [
    "**Age, Fare and cabin has missing values.\n",
    "we will see how to fill missing values next.**"
   ]
  },
  {
   "cell_type": "code",
   "execution_count": 13,
   "metadata": {
    "_cell_guid": "272d763e-ec39-8a40-4092-0f52f465f410"
   },
   "outputs": [
    {
     "ename": "OptionError",
     "evalue": "'You can only set the value of existing options'",
     "output_type": "error",
     "traceback": [
      "\u001b[1;31m---------------------------------------------------------------------------\u001b[0m",
      "\u001b[1;31mOptionError\u001b[0m                               Traceback (most recent call last)",
      "\u001b[1;32m<ipython-input-13-57fe0248108d>\u001b[0m in \u001b[0;36m<module>\u001b[1;34m\u001b[0m\n\u001b[0;32m      4\u001b[0m \u001b[0msns\u001b[0m\u001b[1;33m.\u001b[0m\u001b[0mset\u001b[0m\u001b[1;33m(\u001b[0m\u001b[0mfont_scale\u001b[0m\u001b[1;33m=\u001b[0m\u001b[1;36m1\u001b[0m\u001b[1;33m)\u001b[0m\u001b[1;33m\u001b[0m\u001b[1;33m\u001b[0m\u001b[0m\n\u001b[0;32m      5\u001b[0m \u001b[1;33m\u001b[0m\u001b[0m\n\u001b[1;32m----> 6\u001b[1;33m \u001b[0mpd\u001b[0m\u001b[1;33m.\u001b[0m\u001b[0moptions\u001b[0m\u001b[1;33m.\u001b[0m\u001b[0mdisplay\u001b[0m\u001b[1;33m.\u001b[0m\u001b[0mmpl_style\u001b[0m \u001b[1;33m=\u001b[0m \u001b[1;34m'default'\u001b[0m\u001b[1;33m\u001b[0m\u001b[1;33m\u001b[0m\u001b[0m\n\u001b[0m\u001b[0;32m      7\u001b[0m \u001b[0mlabels\u001b[0m \u001b[1;33m=\u001b[0m \u001b[1;33m[\u001b[0m\u001b[1;33m]\u001b[0m\u001b[1;33m\u001b[0m\u001b[1;33m\u001b[0m\u001b[0m\n\u001b[0;32m      8\u001b[0m \u001b[0mvalues\u001b[0m \u001b[1;33m=\u001b[0m \u001b[1;33m[\u001b[0m\u001b[1;33m]\u001b[0m\u001b[1;33m\u001b[0m\u001b[1;33m\u001b[0m\u001b[0m\n",
      "\u001b[1;32m~\\AppData\\Local\\Programs\\Python\\Python38\\lib\\site-packages\\pandas\\_config\\config.py\u001b[0m in \u001b[0;36m__setattr__\u001b[1;34m(self, key, val)\u001b[0m\n\u001b[0;32m    196\u001b[0m             \u001b[0m_set_option\u001b[0m\u001b[1;33m(\u001b[0m\u001b[0mprefix\u001b[0m\u001b[1;33m,\u001b[0m \u001b[0mval\u001b[0m\u001b[1;33m)\u001b[0m\u001b[1;33m\u001b[0m\u001b[1;33m\u001b[0m\u001b[0m\n\u001b[0;32m    197\u001b[0m         \u001b[1;32melse\u001b[0m\u001b[1;33m:\u001b[0m\u001b[1;33m\u001b[0m\u001b[1;33m\u001b[0m\u001b[0m\n\u001b[1;32m--> 198\u001b[1;33m             \u001b[1;32mraise\u001b[0m \u001b[0mOptionError\u001b[0m\u001b[1;33m(\u001b[0m\u001b[1;34m\"You can only set the value of existing options\"\u001b[0m\u001b[1;33m)\u001b[0m\u001b[1;33m\u001b[0m\u001b[1;33m\u001b[0m\u001b[0m\n\u001b[0m\u001b[0;32m    199\u001b[0m \u001b[1;33m\u001b[0m\u001b[0m\n\u001b[0;32m    200\u001b[0m     \u001b[1;32mdef\u001b[0m \u001b[0m__getattr__\u001b[0m\u001b[1;33m(\u001b[0m\u001b[0mself\u001b[0m\u001b[1;33m,\u001b[0m \u001b[0mkey\u001b[0m\u001b[1;33m:\u001b[0m \u001b[0mstr\u001b[0m\u001b[1;33m)\u001b[0m\u001b[1;33m:\u001b[0m\u001b[1;33m\u001b[0m\u001b[1;33m\u001b[0m\u001b[0m\n",
      "\u001b[1;31mOptionError\u001b[0m: 'You can only set the value of existing options'"
     ]
    }
   ],
   "source": [
    "%matplotlib inline\n",
    "import matplotlib.pyplot as plt\n",
    "import seaborn as sns\n",
    "sns.set(font_scale=1)\n",
    "\n",
    "pd.options.display.mpl_style = 'default'\n",
    "labels = []\n",
    "values = []\n",
    "for col in null_columns:\n",
    "    labels.append(col)\n",
    "    values.append(titanic[col].isnull().sum())\n",
    "ind = np.arange(len(labels))\n",
    "width=0.6\n",
    "fig, ax = plt.subplots(figsize=(6,5))\n",
    "rects = ax.barh(ind, np.array(values), color='purple')\n",
    "ax.set_yticks(ind+((width)/2.))\n",
    "ax.set_yticklabels(labels, rotation='horizontal')\n",
    "ax.set_xlabel(\"Count of missing values\")\n",
    "ax.set_ylabel(\"Column Names\")\n",
    "ax.set_title(\"Variables with missing values\");"
   ]
  },
  {
   "cell_type": "markdown",
   "metadata": {
    "_cell_guid": "0cecf155-c3de-71b4-8438-a607071892dc"
   },
   "source": [
    "**Visualizations**\n",
    "=============="
   ]
  },
  {
   "cell_type": "code",
   "execution_count": 14,
   "metadata": {
    "_cell_guid": "7ab94597-9a8d-513f-0a57-22ba0568b1e0"
   },
   "outputs": [
    {
     "data": {
      "image/png": "[encoded data removed]",
      "text/plain": [
       "<Figure size 648x504 with 9 Axes>"
      ]
     },
     "metadata": {},
     "output_type": "display_data"
    }
   ],
   "source": [
    "titanic.hist(bins=10,figsize=(9,7),grid=False);"
   ]
  },
  {
   "cell_type": "markdown",
   "metadata": {
    "_cell_guid": "5fd08b45-dcef-0c2e-853c-7e739a67b8f7"
   },
   "source": [
    "**we can see that Age and Fare are measured on very different scaling. So we need to do feature scaling before predictions.**"
   ]
  },
  {
   "cell_type": "code",
   "execution_count": 15,
   "metadata": {
    "_cell_guid": "6475eac5-337b-b723-6917-613bf61e438c"
   },
   "outputs": [
    {
     "data": {
      "image/png": "[encoded data removed]",
      "text/plain": [
       "<Figure size 432x432 with 4 Axes>"
      ]
     },
     "metadata": {},
     "output_type": "display_data"
    }
   ],
   "source": [
    "g = sns.FacetGrid(titanic, col=\"Sex\", row=\"Survived\", margin_titles=True)\n",
    "g.map(plt.hist, \"Age\",color=\"purple\");"
   ]
  },
  {
   "cell_type": "code",
   "execution_count": 16,
   "metadata": {
    "_cell_guid": "71adfcb6-e71d-60bc-a0d3-ee4ff1c9c404"
   },
   "outputs": [
    {
     "data": {
      "image/png": "[encoded data removed]",
      "text/plain": [
       "<Figure size 703.55x216 with 3 Axes>"
      ]
     },
     "metadata": {},
     "output_type": "display_data"
    }
   ],
   "source": [
    "g = sns.FacetGrid(titanic, hue=\"Survived\", col=\"Pclass\", margin_titles=True,\n",
    "                  palette={1:\"seagreen\", 0:\"gray\"})\n",
    "g=g.map(plt.scatter, \"Fare\", \"Age\",edgecolor=\"w\").add_legend();"
   ]
  },
  {
   "cell_type": "code",
   "execution_count": 17,
   "metadata": {
    "_cell_guid": "9bfbe633-b249-e7cb-2fde-4ec2b9097b3f"
   },
   "outputs": [
    {
     "data": {
      "image/png": "[encoded data removed]",
      "text/plain": [
       "<Figure size 487.55x216 with 2 Axes>"
      ]
     },
     "metadata": {},
     "output_type": "display_data"
    }
   ],
   "source": [
    "g = sns.FacetGrid(titanic, hue=\"Survived\", col=\"Sex\", margin_titles=True,\n",
    "                palette=\"Set1\",hue_kws=dict(marker=[\"^\", \"v\"]))\n",
    "g.map(plt.scatter, \"Fare\", \"Age\",edgecolor=\"w\").add_legend()\n",
    "plt.subplots_adjust(top=0.8)\n",
    "g.fig.suptitle('Survival by Gender , Age and Fare');"
   ]
  },
  {
   "cell_type": "code",
   "execution_count": 18,
   "metadata": {
    "_cell_guid": "551673fc-d91a-623a-41f0-5eebe3567ce1"
   },
   "outputs": [
    {
     "data": {
      "image/png": "[encoded data removed]",
      "text/plain": [
       "<Figure size 432x288 with 1 Axes>"
      ]
     },
     "metadata": {},
     "output_type": "display_data"
    }
   ],
   "source": [
    "titanic.Embarked.value_counts().plot(kind='bar', alpha=0.55)\n",
    "plt.title(\"Passengers per boarding location\");"
   ]
  },
  {
   "cell_type": "code",
   "execution_count": 19,
   "metadata": {
    "_cell_guid": "3d4403b1-daef-2333-5d89-276f25444316"
   },
   "outputs": [
    {
     "name": "stderr",
     "output_type": "stream",
     "text": [
      "The `factorplot` function has been renamed to `catplot`. The original name will be removed in a future release. Please update your code. Note that the default `kind` in `factorplot` (`'point'`) has changed `'strip'` in `catplot`.\n"
     ]
    },
    {
     "data": {
      "image/png": "[encoded data removed]",
      "text/plain": [
       "<Figure size 360x360 with 1 Axes>"
      ]
     },
     "metadata": {},
     "output_type": "display_data"
    }
   ],
   "source": [
    "sns.factorplot(x = 'Embarked',y=\"Survived\", data = titanic,color=\"r\");"
   ]
  },
  {
   "cell_type": "code",
   "execution_count": 20,
   "metadata": {
    "_cell_guid": "c496b777-ca8e-5b3c-af76-5ad8d63b7c95"
   },
   "outputs": [
    {
     "name": "stderr",
     "output_type": "stream",
     "text": [
      "The `factorplot` function has been renamed to `catplot`. The original name will be removed in a future release. Please update your code. Note that the default `kind` in `factorplot` (`'point'`) has changed `'strip'` in `catplot`.\n"
     ]
    },
    {
     "data": {
      "image/png": "[encoded data removed]",
      "text/plain": [
       "<Figure size 648x360 with 3 Axes>"
      ]
     },
     "metadata": {},
     "output_type": "display_data"
    }
   ],
   "source": [
    "sns.set(font_scale=1)\n",
    "g = sns.factorplot(x=\"Sex\", y=\"Survived\", col=\"Pclass\",\n",
    "                    data=titanic, saturation=.5,\n",
    "                    kind=\"bar\", ci=None, aspect=.6)\n",
    "(g.set_axis_labels(\"\", \"Survival Rate\")\n",
    "    .set_xticklabels([\"Men\", \"Women\"])\n",
    "    .set_titles(\"{col_name} {col_var}\")\n",
    "    .set(ylim=(0, 1))\n",
    "    .despine(left=True))  \n",
    "plt.subplots_adjust(top=0.8)\n",
    "g.fig.suptitle('How many Men and Women Survived by Passenger Class');"
   ]
  },
  {
   "cell_type": "code",
   "execution_count": 21,
   "metadata": {
    "_cell_guid": "9b046b29-4116-da22-18df-36b7459e68a1"
   },
   "outputs": [
    {
     "ename": "AttributeError",
     "evalue": "module 'seaborn' has no attribute 'plt'",
     "output_type": "error",
     "traceback": [
      "\u001b[1;31m---------------------------------------------------------------------------\u001b[0m",
      "\u001b[1;31mAttributeError\u001b[0m                            Traceback (most recent call last)",
      "\u001b[1;32m<ipython-input-21-9cd8491b52b9>\u001b[0m in \u001b[0;36m<module>\u001b[1;34m\u001b[0m\n\u001b[0;32m      4\u001b[0m                    \u001b[0mdata\u001b[0m\u001b[1;33m=\u001b[0m\u001b[0mtitanic\u001b[0m\u001b[1;33m,\u001b[0m \u001b[0mjitter\u001b[0m\u001b[1;33m=\u001b[0m\u001b[1;32mTrue\u001b[0m\u001b[1;33m,\u001b[0m\u001b[1;33m\u001b[0m\u001b[1;33m\u001b[0m\u001b[0m\n\u001b[0;32m      5\u001b[0m                    edgecolor=\"gray\")\n\u001b[1;32m----> 6\u001b[1;33m \u001b[0msns\u001b[0m\u001b[1;33m.\u001b[0m\u001b[0mplt\u001b[0m\u001b[1;33m.\u001b[0m\u001b[0mtitle\u001b[0m\u001b[1;33m(\u001b[0m\u001b[1;34m\"Survival by Age\"\u001b[0m\u001b[1;33m,\u001b[0m\u001b[0mfontsize\u001b[0m\u001b[1;33m=\u001b[0m\u001b[1;36m12\u001b[0m\u001b[1;33m)\u001b[0m\u001b[1;33m;\u001b[0m\u001b[1;33m\u001b[0m\u001b[1;33m\u001b[0m\u001b[0m\n\u001b[0m",
      "\u001b[1;31mAttributeError\u001b[0m: module 'seaborn' has no attribute 'plt'"
     ]
    },
    {
     "data": {
      "image/png": "[encoded data removed]",
      "text/plain": [
       "<Figure size 432x288 with 1 Axes>"
      ]
     },
     "metadata": {},
     "output_type": "display_data"
    }
   ],
   "source": [
    "ax = sns.boxplot(x=\"Survived\", y=\"Age\", \n",
    "                data=titanic)\n",
    "ax = sns.stripplot(x=\"Survived\", y=\"Age\",\n",
    "                   data=titanic, jitter=True,\n",
    "                   edgecolor=\"gray\")\n",
    "sns.plt.title(\"Survival by Age\",fontsize=12);"
   ]
  },
  {
   "cell_type": "code",
   "execution_count": null,
   "metadata": {
    "_cell_guid": "2ab7ea3f-ec34-0419-6ac0-b20379a25a49"
   },
   "outputs": [],
   "source": [
    "titanic.Age[titanic.Pclass == 1].plot(kind='kde')    \n",
    "titanic.Age[titanic.Pclass == 2].plot(kind='kde')\n",
    "titanic.Age[titanic.Pclass == 3].plot(kind='kde')\n",
    " # plots an axis lable\n",
    "plt.xlabel(\"Age\")    \n",
    "plt.title(\"Age Distribution within classes\")\n",
    "# sets our legend for our graph.\n",
    "plt.legend(('1st Class', '2nd Class','3rd Class'),loc='best') ;"
   ]
  },
  {
   "cell_type": "code",
   "execution_count": null,
   "metadata": {
    "_cell_guid": "2937ff19-58b1-e044-1254-b5b00e87496c"
   },
   "outputs": [],
   "source": [
    "corr=titanic.corr()#[\"Survived\"]\n",
    "plt.figure(figsize=(10, 10))\n",
    "\n",
    "sns.heatmap(corr, vmax=.8, linewidths=0.01,\n",
    "            square=True,annot=True,cmap='YlGnBu',linecolor=\"white\")\n",
    "plt.title('Correlation between features');"
   ]
  },
  {
   "cell_type": "code",
   "execution_count": null,
   "metadata": {
    "_cell_guid": "c1206942-e525-d6fc-e47b-0c1bfd5de79c"
   },
   "outputs": [],
   "source": [
    "#correlation of features with target variable\n",
    "titanic.corr()[\"Survived\"]"
   ]
  },
  {
   "cell_type": "markdown",
   "metadata": {
    "_cell_guid": "c7dd332b-d578-a4c2-6b7a-86412f4da80d"
   },
   "source": [
    "**Looks like Pclass has got highest negative correlation with \"Survived\" followed by Fare, Parch and Age** "
   ]
  },
  {
   "cell_type": "code",
   "execution_count": null,
   "metadata": {
    "_cell_guid": "b287eec7-bcdb-c034-9246-d07e806d3b40"
   },
   "outputs": [],
   "source": [
    "g = sns.factorplot(x=\"Age\", y=\"Embarked\",\n",
    "                    hue=\"Sex\", row=\"Pclass\",\n",
    "                    data=titanic[titanic.Embarked.notnull()],\n",
    "                    orient=\"h\", size=2, aspect=3.5, \n",
    "                   palette={'male':\"purple\", 'female':\"blue\"},\n",
    "                    kind=\"violin\", split=True, cut=0, bw=.2);"
   ]
  },
  {
   "cell_type": "markdown",
   "metadata": {
    "_cell_guid": "db0d041c-8f3a-bc68-42fb-1c8fd6a5addf"
   },
   "source": [
    "Missing Value Imputation\n",
    "========================\n",
    "\n",
    "**Its important to fill missing values, because some machine learning algorithms can't accept them eg SVM.**\n",
    "\n",
    "*But filling missing values with mean/median/mode is also a prediction which may not be 100% accurate, instead you can use models like Decision Trees and Random Forest which handle missing values very well.*"
   ]
  },
  {
   "cell_type": "markdown",
   "metadata": {
    "_cell_guid": "7e9f9bac-8e0b-d2b9-4d6d-164266d6f237"
   },
   "source": [
    "**Embarked Column**"
   ]
  },
  {
   "cell_type": "code",
   "execution_count": null,
   "metadata": {
    "_cell_guid": "9cef6611-7c95-8a85-0bba-3074e80e46ad"
   },
   "outputs": [],
   "source": [
    "#Lets check which rows have null Embarked column\n",
    "titanic[titanic['Embarked'].isnull()]"
   ]
  },
  {
   "cell_type": "markdown",
   "metadata": {
    "_cell_guid": "882ac871-7370-9b1f-c4c3-f2bb96e6c484"
   },
   "source": [
    "**PassengerId 62 and 830** have missing embarked values\n",
    "\n",
    "Both have ***Passenger class 1*** and ***fare $80.***\n",
    "\n",
    "Lets plot a graph to visualize and try to guess from where they embarked"
   ]
  },
  {
   "cell_type": "code",
   "execution_count": null,
   "metadata": {
    "_cell_guid": "258a79df-363e-3f98-233d-e0be38decdc7"
   },
   "outputs": [],
   "source": [
    "sns.boxplot(x=\"Embarked\", y=\"Fare\", hue=\"Pclass\", data=titanic);"
   ]
  },
  {
   "cell_type": "code",
   "execution_count": null,
   "metadata": {
    "_cell_guid": "0246b387-93c3-fd51-4263-034d1580b774"
   },
   "outputs": [],
   "source": [
    "titanic[\"Embarked\"] = titanic[\"Embarked\"].fillna('C')"
   ]
  },
  {
   "cell_type": "markdown",
   "metadata": {
    "_cell_guid": "7dc1044b-d0bb-91e3-8254-22f35a88dbb1"
   },
   "source": [
    "We can see that for ***1st class*** median line is coming around ***fare $80*** for ***embarked*** value ***'C'***.\n",
    "So we can replace NA values in Embarked column with 'C'"
   ]
  },
  {
   "cell_type": "code",
   "execution_count": null,
   "metadata": {
    "_cell_guid": "ba29dd0b-2809-6dfe-311b-fbf36f649691"
   },
   "outputs": [],
   "source": [
    "#there is an empty fare column in test set\n",
    "titanic_test.describe()"
   ]
  },
  {
   "cell_type": "markdown",
   "metadata": {
    "_cell_guid": "ef40043e-b71a-55a4-6d76-bb153ee46167"
   },
   "source": [
    "***Fare Column***"
   ]
  },
  {
   "cell_type": "code",
   "execution_count": 22,
   "metadata": {
    "_cell_guid": "b12ef788-b106-65b3-4c41-b9074037ccf5"
   },
   "outputs": [
    {
     "data": {
      "text/html": [
       "<div>\n",
       "<style scoped>\n",
       "    .dataframe tbody tr th:only-of-type {\n",
       "        vertical-align: middle;\n",
       "    }\n",
       "\n",
       "    .dataframe tbody tr th {\n",
       "        vertical-align: top;\n",
       "    }\n",
       "\n",
       "    .dataframe thead th {\n",
       "        text-align: right;\n",
       "    }\n",
       "</style>\n",
       "<table border=\"1\" class=\"dataframe\">\n",
       "  <thead>\n",
       "    <tr style=\"text-align: right;\">\n",
       "      <th></th>\n",
       "      <th>PassengerId</th>\n",
       "      <th>Pclass</th>\n",
       "      <th>Name</th>\n",
       "      <th>Sex</th>\n",
       "      <th>Age</th>\n",
       "      <th>SibSp</th>\n",
       "      <th>Parch</th>\n",
       "      <th>Ticket</th>\n",
       "      <th>Fare</th>\n",
       "      <th>Cabin</th>\n",
       "      <th>Embarked</th>\n",
       "    </tr>\n",
       "  </thead>\n",
       "  <tbody>\n",
       "    <tr>\n",
       "      <th>152</th>\n",
       "      <td>1044</td>\n",
       "      <td>3</td>\n",
       "      <td>Storey, Mr. Thomas</td>\n",
       "      <td>male</td>\n",
       "      <td>60.5</td>\n",
       "      <td>0</td>\n",
       "      <td>0</td>\n",
       "      <td>3701</td>\n",
       "      <td>NaN</td>\n",
       "      <td>NaN</td>\n",
       "      <td>S</td>\n",
       "    </tr>\n",
       "  </tbody>\n",
       "</table>\n",
       "</div>"
      ],
      "text/plain": [
       "     PassengerId  Pclass                Name   Sex   Age  SibSp  Parch Ticket  \\\n",
       "152         1044       3  Storey, Mr. Thomas  male  60.5      0      0   3701   \n",
       "\n",
       "     Fare Cabin Embarked  \n",
       "152   NaN   NaN        S  "
      ]
     },
     "execution_count": 22,
     "metadata": {},
     "output_type": "execute_result"
    }
   ],
   "source": [
    "titanic_test[titanic_test['Fare'].isnull()]"
   ]
  },
  {
   "cell_type": "code",
   "execution_count": 23,
   "metadata": {
    "_cell_guid": "bdc9992f-8505-c75c-e851-b9ee44028338"
   },
   "outputs": [],
   "source": [
    "#we can replace missing value in fare by taking median of all fares of those passengers \n",
    "#who share 3rd Passenger class and Embarked from 'S' \n",
    "def fill_missing_fare(df):\n",
    "    median_fare=df[(df['Pclass'] == 3) & (df['Embarked'] == 'S')]['Fare'].median()\n",
    "#'S'\n",
    "       #print(median_fare)\n",
    "    df[\"Fare\"] = df[\"Fare\"].fillna(median_fare)\n",
    "    return df\n",
    "\n",
    "titanic_test=fill_missing_fare(titanic_test)"
   ]
  },
  {
   "cell_type": "markdown",
   "metadata": {
    "_cell_guid": "5233c2f0-2516-47ca-28e6-b95a5ffaed4b"
   },
   "source": [
    "Feature Engineering\n",
    "==================="
   ]
  },
  {
   "cell_type": "markdown",
   "metadata": {
    "_cell_guid": "4556983b-1b5a-3443-0eba-f72131ec9f5a"
   },
   "source": [
    "***Deck- Where exactly were passenger on the ship?***"
   ]
  },
  {
   "cell_type": "code",
   "execution_count": 24,
   "metadata": {
    "_cell_guid": "d063ebb6-4ad3-5669-fd20-eda5a80d4ab1"
   },
   "outputs": [
    {
     "data": {
      "text/plain": [
       "array([nan, 'C', 'E', 'G', 'D', 'A', 'B', 'F', 'T'], dtype=object)"
      ]
     },
     "execution_count": 24,
     "metadata": {},
     "output_type": "execute_result"
    }
   ],
   "source": [
    "titanic[\"Deck\"]=titanic.Cabin.str[0]\n",
    "titanic_test[\"Deck\"]=titanic_test.Cabin.str[0]\n",
    "titanic[\"Deck\"].unique() # 0 is for null values"
   ]
  },
  {
   "cell_type": "code",
   "execution_count": 25,
   "metadata": {
    "_cell_guid": "d7107678-4293-5996-9dbd-16e3ba1d39d1"
   },
   "outputs": [
    {
     "name": "stderr",
     "output_type": "stream",
     "text": [
      "The `factorplot` function has been renamed to `catplot`. The original name will be removed in a future release. Please update your code. Note that the default `kind` in `factorplot` (`'point'`) has changed `'strip'` in `catplot`.\n",
      "The `size` parameter has been renamed to `height`; please update your code.\n",
      "Pass the following variable as a keyword arg: x. From version 0.12, the only valid positional argument will be `data`, and passing other arguments without an explicit keyword will result in an error or misinterpretation.\n"
     ]
    },
    {
     "data": {
      "image/png": "[encoded data removed]",
      "text/plain": [
       "<Figure size 576x360 with 8 Axes>"
      ]
     },
     "metadata": {},
     "output_type": "display_data"
    }
   ],
   "source": [
    "g = sns.factorplot(\"Survived\", col=\"Deck\", col_wrap=4,\n",
    "                    data=titanic[titanic.Deck.notnull()],\n",
    "                    kind=\"count\", size=2.5, aspect=.8);"
   ]
  },
  {
   "cell_type": "code",
   "execution_count": 26,
   "metadata": {
    "_cell_guid": "313b4c34-73aa-be03-e88b-81de3d089b80"
   },
   "outputs": [
    {
     "ename": "AttributeError",
     "evalue": "'DataFrame' object has no attribute 'sort'",
     "output_type": "error",
     "traceback": [
      "\u001b[1;31m---------------------------------------------------------------------------\u001b[0m",
      "\u001b[1;31mAttributeError\u001b[0m                            Traceback (most recent call last)",
      "\u001b[1;32m<ipython-input-26-98b6fec15abd>\u001b[0m in \u001b[0;36m<module>\u001b[1;34m\u001b[0m\n\u001b[1;32m----> 1\u001b[1;33m \u001b[0mtitanic\u001b[0m \u001b[1;33m=\u001b[0m \u001b[0mtitanic\u001b[0m\u001b[1;33m.\u001b[0m\u001b[0massign\u001b[0m\u001b[1;33m(\u001b[0m\u001b[0mDeck\u001b[0m\u001b[1;33m=\u001b[0m\u001b[0mtitanic\u001b[0m\u001b[1;33m.\u001b[0m\u001b[0mDeck\u001b[0m\u001b[1;33m.\u001b[0m\u001b[0mastype\u001b[0m\u001b[1;33m(\u001b[0m\u001b[0mobject\u001b[0m\u001b[1;33m)\u001b[0m\u001b[1;33m)\u001b[0m\u001b[1;33m.\u001b[0m\u001b[0msort\u001b[0m\u001b[1;33m(\u001b[0m\u001b[1;34m\"Deck\"\u001b[0m\u001b[1;33m)\u001b[0m\u001b[1;33m\u001b[0m\u001b[1;33m\u001b[0m\u001b[0m\n\u001b[0m\u001b[0;32m      2\u001b[0m g = sns.FacetGrid(titanic, col=\"Pclass\", sharex=False,\n\u001b[0;32m      3\u001b[0m                   gridspec_kws={\"width_ratios\": [5, 3, 3]})\n\u001b[0;32m      4\u001b[0m \u001b[0mg\u001b[0m\u001b[1;33m.\u001b[0m\u001b[0mmap\u001b[0m\u001b[1;33m(\u001b[0m\u001b[0msns\u001b[0m\u001b[1;33m.\u001b[0m\u001b[0mboxplot\u001b[0m\u001b[1;33m,\u001b[0m \u001b[1;34m\"Deck\"\u001b[0m\u001b[1;33m,\u001b[0m \u001b[1;34m\"Age\"\u001b[0m\u001b[1;33m)\u001b[0m\u001b[1;33m;\u001b[0m\u001b[1;33m\u001b[0m\u001b[1;33m\u001b[0m\u001b[0m\n",
      "\u001b[1;32m~\\AppData\\Local\\Programs\\Python\\Python38\\lib\\site-packages\\pandas\\core\\generic.py\u001b[0m in \u001b[0;36m__getattr__\u001b[1;34m(self, name)\u001b[0m\n\u001b[0;32m   5137\u001b[0m             \u001b[1;32mif\u001b[0m \u001b[0mself\u001b[0m\u001b[1;33m.\u001b[0m\u001b[0m_info_axis\u001b[0m\u001b[1;33m.\u001b[0m\u001b[0m_can_hold_identifiers_and_holds_name\u001b[0m\u001b[1;33m(\u001b[0m\u001b[0mname\u001b[0m\u001b[1;33m)\u001b[0m\u001b[1;33m:\u001b[0m\u001b[1;33m\u001b[0m\u001b[1;33m\u001b[0m\u001b[0m\n\u001b[0;32m   5138\u001b[0m                 \u001b[1;32mreturn\u001b[0m \u001b[0mself\u001b[0m\u001b[1;33m[\u001b[0m\u001b[0mname\u001b[0m\u001b[1;33m]\u001b[0m\u001b[1;33m\u001b[0m\u001b[1;33m\u001b[0m\u001b[0m\n\u001b[1;32m-> 5139\u001b[1;33m             \u001b[1;32mreturn\u001b[0m \u001b[0mobject\u001b[0m\u001b[1;33m.\u001b[0m\u001b[0m__getattribute__\u001b[0m\u001b[1;33m(\u001b[0m\u001b[0mself\u001b[0m\u001b[1;33m,\u001b[0m \u001b[0mname\u001b[0m\u001b[1;33m)\u001b[0m\u001b[1;33m\u001b[0m\u001b[1;33m\u001b[0m\u001b[0m\n\u001b[0m\u001b[0;32m   5140\u001b[0m \u001b[1;33m\u001b[0m\u001b[0m\n\u001b[0;32m   5141\u001b[0m     \u001b[1;32mdef\u001b[0m \u001b[0m__setattr__\u001b[0m\u001b[1;33m(\u001b[0m\u001b[0mself\u001b[0m\u001b[1;33m,\u001b[0m \u001b[0mname\u001b[0m\u001b[1;33m:\u001b[0m \u001b[0mstr\u001b[0m\u001b[1;33m,\u001b[0m \u001b[0mvalue\u001b[0m\u001b[1;33m)\u001b[0m \u001b[1;33m->\u001b[0m \u001b[1;32mNone\u001b[0m\u001b[1;33m:\u001b[0m\u001b[1;33m\u001b[0m\u001b[1;33m\u001b[0m\u001b[0m\n",
      "\u001b[1;31mAttributeError\u001b[0m: 'DataFrame' object has no attribute 'sort'"
     ]
    }
   ],
   "source": [
    "titanic = titanic.assign(Deck=titanic.Deck.astype(object)).sort(\"Deck\")\n",
    "g = sns.FacetGrid(titanic, col=\"Pclass\", sharex=False,\n",
    "                  gridspec_kws={\"width_ratios\": [5, 3, 3]})\n",
    "g.map(sns.boxplot, \"Deck\", \"Age\");"
   ]
  },
  {
   "cell_type": "code",
   "execution_count": null,
   "metadata": {
    "_cell_guid": "e18f90fe-d145-9ca1-f309-b8d256ae500e"
   },
   "outputs": [],
   "source": [
    "titanic.Deck.fillna('Z', inplace=True)\n",
    "titanic_test.Deck.fillna('Z', inplace=True)\n",
    "titanic[\"Deck\"].unique() # Z is for null values"
   ]
  },
  {
   "cell_type": "markdown",
   "metadata": {
    "_cell_guid": "4e74d0c4-2165-90be-bdf0-17e81d180dd4"
   },
   "source": [
    "***How Big is your family?***"
   ]
  },
  {
   "cell_type": "code",
   "execution_count": null,
   "metadata": {
    "_cell_guid": "aa04d676-b171-a229-c235-e68b2cd4c394"
   },
   "outputs": [],
   "source": [
    "# Create a family size variable including the passenger themselves\n",
    "titanic[\"FamilySize\"] = titanic[\"SibSp\"] + titanic[\"Parch\"]+1\n",
    "titanic_test[\"FamilySize\"] = titanic_test[\"SibSp\"] + titanic_test[\"Parch\"]+1\n",
    "print(titanic[\"FamilySize\"].value_counts())"
   ]
  },
  {
   "cell_type": "code",
   "execution_count": null,
   "metadata": {
    "_cell_guid": "d0f690fd-b09e-2e3b-43dd-02818c06c6f9"
   },
   "outputs": [],
   "source": [
    "# Discretize family size\n",
    "titanic.loc[titanic[\"FamilySize\"] == 1, \"FsizeD\"] = 'singleton'\n",
    "titanic.loc[(titanic[\"FamilySize\"] > 1)  &  (titanic[\"FamilySize\"] < 5) , \"FsizeD\"] = 'small'\n",
    "titanic.loc[titanic[\"FamilySize\"] >4, \"FsizeD\"] = 'large'\n",
    "\n",
    "titanic_test.loc[titanic_test[\"FamilySize\"] == 1, \"FsizeD\"] = 'singleton'\n",
    "titanic_test.loc[(titanic_test[\"FamilySize\"] >1) & (titanic_test[\"FamilySize\"] <5) , \"FsizeD\"] = 'small'\n",
    "titanic_test.loc[titanic_test[\"FamilySize\"] >4, \"FsizeD\"] = 'large'\n",
    "print(titanic[\"FsizeD\"].unique())\n",
    "print(titanic[\"FsizeD\"].value_counts())"
   ]
  },
  {
   "cell_type": "code",
   "execution_count": null,
   "metadata": {
    "_cell_guid": "dfb39182-d1e1-1a96-68dc-60728687a548"
   },
   "outputs": [],
   "source": [
    "sns.factorplot(x=\"FsizeD\", y=\"Survived\", data=titanic);"
   ]
  },
  {
   "cell_type": "markdown",
   "metadata": {
    "_cell_guid": "2f29644d-d862-c207-9699-cba9dc2917d1"
   },
   "source": [
    "***Do you have longer names?***"
   ]
  },
  {
   "cell_type": "code",
   "execution_count": 27,
   "metadata": {
    "_cell_guid": "e10d62f7-c270-01c1-3d09-605b995bba80"
   },
   "outputs": [
    {
     "name": "stderr",
     "output_type": "stream",
     "text": [
      "The `factorplot` function has been renamed to `catplot`. The original name will be removed in a future release. Please update your code. Note that the default `kind` in `factorplot` (`'point'`) has changed `'strip'` in `catplot`.\n"
     ]
    },
    {
     "name": "stdout",
     "output_type": "stream",
     "text": [
      "['okay', 'good', 'short', 'long']\n",
      "Categories (4, object): ['short' < 'okay' < 'good' < 'long']\n"
     ]
    },
    {
     "data": {
      "image/png": "[encoded data removed]",
      "text/plain": [
       "<Figure size 360x360 with 1 Axes>"
      ]
     },
     "metadata": {},
     "output_type": "display_data"
    }
   ],
   "source": [
    "#Create feture for length of name \n",
    "# The .apply method generates a new series\n",
    "titanic[\"NameLength\"] = titanic[\"Name\"].apply(lambda x: len(x))\n",
    "\n",
    "titanic_test[\"NameLength\"] = titanic_test[\"Name\"].apply(lambda x: len(x))\n",
    "#print(titanic[\"NameLength\"].value_counts())\n",
    "\n",
    "bins = [0, 20, 40, 57, 85]\n",
    "group_names = ['short', 'okay', 'good', 'long']\n",
    "titanic['NlengthD'] = pd.cut(titanic['NameLength'], bins, labels=group_names)\n",
    "titanic_test['NlengthD'] = pd.cut(titanic_test['NameLength'], bins, labels=group_names)\n",
    "\n",
    "sns.factorplot(x=\"NlengthD\", y=\"Survived\", data=titanic)\n",
    "print(titanic[\"NlengthD\"].unique())"
   ]
  },
  {
   "cell_type": "markdown",
   "metadata": {
    "_cell_guid": "39368ec9-a8be-b5d1-b208-b8674a4be8f8"
   },
   "source": [
    "***Whats in the name?***"
   ]
  },
  {
   "cell_type": "code",
   "execution_count": 28,
   "metadata": {
    "_cell_guid": "179a8eb2-e927-92fa-e33f-57215c5cb2b9"
   },
   "outputs": [
    {
     "name": "stdout",
     "output_type": "stream",
     "text": [
      "Mr          517\n",
      "Miss        182\n",
      "Mrs         125\n",
      "Master       40\n",
      "Dr            7\n",
      "Rev           6\n",
      "Col           2\n",
      "Major         2\n",
      "Mlle          2\n",
      "Mme           1\n",
      "Countess      1\n",
      "Don           1\n",
      "Ms            1\n",
      "Sir           1\n",
      "Lady          1\n",
      "Capt          1\n",
      "Jonkheer      1\n",
      "Name: Name, dtype: int64\n",
      "Mr        240\n",
      "Miss       78\n",
      "Mrs        72\n",
      "Master     21\n",
      "Col         2\n",
      "Rev         2\n",
      "Dr          1\n",
      "Ms          1\n",
      "Dona        1\n",
      "Name: Name, dtype: int64\n"
     ]
    },
    {
     "data": {
      "text/plain": [
       "Mr            240\n",
       "Miss           79\n",
       "Mrs            72\n",
       "Master         21\n",
       "Rare Title      6\n",
       "Name: Title, dtype: int64"
      ]
     },
     "execution_count": 28,
     "metadata": {},
     "output_type": "execute_result"
    }
   ],
   "source": [
    "import re\n",
    "\n",
    "#A function to get the title from a name.\n",
    "def get_title(name):\n",
    "    # Use a regular expression to search for a title.  Titles always consist of capital and lowercase letters, and end with a period.\n",
    "    title_search = re.search(' ([A-Za-z]+)\\.', name)\n",
    "    #If the title exists, extract and return it.\n",
    "    if title_search:\n",
    "        return title_search.group(1)\n",
    "    return \"\"\n",
    "\n",
    "#Get all the titles and print how often each one occurs.\n",
    "titles = titanic[\"Name\"].apply(get_title)\n",
    "print(pd.value_counts(titles))\n",
    "\n",
    "\n",
    "#Add in the title column.\n",
    "titanic[\"Title\"] = titles\n",
    "\n",
    "# Titles with very low cell counts to be combined to \"rare\" level\n",
    "rare_title = ['Dona', 'Lady', 'Countess','Capt', 'Col', 'Don', \n",
    "                'Dr', 'Major', 'Rev', 'Sir', 'Jonkheer']\n",
    "\n",
    "# Also reassign mlle, ms, and mme accordingly\n",
    "titanic.loc[titanic[\"Title\"] == \"Mlle\", \"Title\"] = 'Miss'\n",
    "titanic.loc[titanic[\"Title\"] == \"Ms\", \"Title\"] = 'Miss'\n",
    "titanic.loc[titanic[\"Title\"] == \"Mme\", \"Title\"] = 'Mrs'\n",
    "titanic.loc[titanic[\"Title\"] == \"Dona\", \"Title\"] = 'Rare Title'\n",
    "titanic.loc[titanic[\"Title\"] == \"Lady\", \"Title\"] = 'Rare Title'\n",
    "titanic.loc[titanic[\"Title\"] == \"Countess\", \"Title\"] = 'Rare Title'\n",
    "titanic.loc[titanic[\"Title\"] == \"Capt\", \"Title\"] = 'Rare Title'\n",
    "titanic.loc[titanic[\"Title\"] == \"Col\", \"Title\"] = 'Rare Title'\n",
    "titanic.loc[titanic[\"Title\"] == \"Don\", \"Title\"] = 'Rare Title'\n",
    "titanic.loc[titanic[\"Title\"] == \"Major\", \"Title\"] = 'Rare Title'\n",
    "titanic.loc[titanic[\"Title\"] == \"Rev\", \"Title\"] = 'Rare Title'\n",
    "titanic.loc[titanic[\"Title\"] == \"Sir\", \"Title\"] = 'Rare Title'\n",
    "titanic.loc[titanic[\"Title\"] == \"Jonkheer\", \"Title\"] = 'Rare Title'\n",
    "titanic.loc[titanic[\"Title\"] == \"Dr\", \"Title\"] = 'Rare Title'\n",
    "\n",
    "#titanic.loc[titanic[\"Title\"].isin(['Dona', 'Lady', 'Countess','Capt', 'Col', 'Don', \n",
    "#                'Dr', 'Major', 'Rev', 'Sir', 'Jonkheer']), \"Title\"] = 'Rare Title'\n",
    "\n",
    "#titanic[titanic['Title'].isin(['Dona', 'Lady', 'Countess'])]\n",
    "#titanic.query(\"Title in ('Dona', 'Lady', 'Countess')\")\n",
    "\n",
    "titanic[\"Title\"].value_counts()\n",
    "\n",
    "\n",
    "titles = titanic_test[\"Name\"].apply(get_title)\n",
    "print(pd.value_counts(titles))\n",
    "\n",
    "#Add in the title column.\n",
    "titanic_test[\"Title\"] = titles\n",
    "\n",
    "# Titles with very low cell counts to be combined to \"rare\" level\n",
    "rare_title = ['Dona', 'Lady', 'Countess','Capt', 'Col', 'Don', \n",
    "                'Dr', 'Major', 'Rev', 'Sir', 'Jonkheer']\n",
    "\n",
    "# Also reassign mlle, ms, and mme accordingly\n",
    "titanic_test.loc[titanic_test[\"Title\"] == \"Mlle\", \"Title\"] = 'Miss'\n",
    "titanic_test.loc[titanic_test[\"Title\"] == \"Ms\", \"Title\"] = 'Miss'\n",
    "titanic_test.loc[titanic_test[\"Title\"] == \"Mme\", \"Title\"] = 'Mrs'\n",
    "titanic_test.loc[titanic_test[\"Title\"] == \"Dona\", \"Title\"] = 'Rare Title'\n",
    "titanic_test.loc[titanic_test[\"Title\"] == \"Lady\", \"Title\"] = 'Rare Title'\n",
    "titanic_test.loc[titanic_test[\"Title\"] == \"Countess\", \"Title\"] = 'Rare Title'\n",
    "titanic_test.loc[titanic_test[\"Title\"] == \"Capt\", \"Title\"] = 'Rare Title'\n",
    "titanic_test.loc[titanic_test[\"Title\"] == \"Col\", \"Title\"] = 'Rare Title'\n",
    "titanic_test.loc[titanic_test[\"Title\"] == \"Don\", \"Title\"] = 'Rare Title'\n",
    "titanic_test.loc[titanic_test[\"Title\"] == \"Major\", \"Title\"] = 'Rare Title'\n",
    "titanic_test.loc[titanic_test[\"Title\"] == \"Rev\", \"Title\"] = 'Rare Title'\n",
    "titanic_test.loc[titanic_test[\"Title\"] == \"Sir\", \"Title\"] = 'Rare Title'\n",
    "titanic_test.loc[titanic_test[\"Title\"] == \"Jonkheer\", \"Title\"] = 'Rare Title'\n",
    "titanic_test.loc[titanic_test[\"Title\"] == \"Dr\", \"Title\"] = 'Rare Title'\n",
    "\n",
    "titanic_test[\"Title\"].value_counts()"
   ]
  },
  {
   "cell_type": "markdown",
   "metadata": {
    "_cell_guid": "6b198853-1885-585b-ae20-054116b0a5d3"
   },
   "source": [
    "***Ticket column***"
   ]
  },
  {
   "cell_type": "code",
   "execution_count": 29,
   "metadata": {
    "_cell_guid": "a4b7f87f-b33d-de30-8924-e1d432cd0f9f"
   },
   "outputs": [
    {
     "data": {
      "text/plain": [
       "886        211536\n",
       "887        112053\n",
       "888    W./C. 6607\n",
       "889        111369\n",
       "890        370376\n",
       "Name: Ticket, dtype: object"
      ]
     },
     "execution_count": 29,
     "metadata": {},
     "output_type": "execute_result"
    }
   ],
   "source": [
    "titanic[\"Ticket\"].tail()"
   ]
  },
  {
   "cell_type": "code",
   "execution_count": 30,
   "metadata": {
    "_cell_guid": "547cea2d-409f-40f0-3f9e-78eef0c53666"
   },
   "outputs": [],
   "source": [
    "titanic[\"TicketNumber\"] = titanic[\"Ticket\"].str.extract('(\\d{2,})', expand=True)\n",
    "titanic[\"TicketNumber\"] = titanic[\"TicketNumber\"].apply(pd.to_numeric)\n",
    "\n",
    "\n",
    "titanic_test[\"TicketNumber\"] = titanic_test[\"Ticket\"].str.extract('(\\d{2,})', expand=True)\n",
    "titanic_test[\"TicketNumber\"] = titanic_test[\"TicketNumber\"].apply(pd.to_numeric)"
   ]
  },
  {
   "cell_type": "code",
   "execution_count": 31,
   "metadata": {
    "_cell_guid": "7d44754c-24a3-0dad-3ec8-2c1ee1d9a2aa"
   },
   "outputs": [
    {
     "data": {
      "text/html": [
       "<div>\n",
       "<style scoped>\n",
       "    .dataframe tbody tr th:only-of-type {\n",
       "        vertical-align: middle;\n",
       "    }\n",
       "\n",
       "    .dataframe tbody tr th {\n",
       "        vertical-align: top;\n",
       "    }\n",
       "\n",
       "    .dataframe thead th {\n",
       "        text-align: right;\n",
       "    }\n",
       "</style>\n",
       "<table border=\"1\" class=\"dataframe\">\n",
       "  <thead>\n",
       "    <tr style=\"text-align: right;\">\n",
       "      <th></th>\n",
       "      <th>PassengerId</th>\n",
       "      <th>Survived</th>\n",
       "      <th>Pclass</th>\n",
       "      <th>Name</th>\n",
       "      <th>Sex</th>\n",
       "      <th>Age</th>\n",
       "      <th>SibSp</th>\n",
       "      <th>Parch</th>\n",
       "      <th>Ticket</th>\n",
       "      <th>Fare</th>\n",
       "      <th>Cabin</th>\n",
       "      <th>Embarked</th>\n",
       "      <th>Deck</th>\n",
       "      <th>NameLength</th>\n",
       "      <th>NlengthD</th>\n",
       "      <th>Title</th>\n",
       "      <th>TicketNumber</th>\n",
       "    </tr>\n",
       "  </thead>\n",
       "  <tbody>\n",
       "    <tr>\n",
       "      <th>179</th>\n",
       "      <td>180</td>\n",
       "      <td>0</td>\n",
       "      <td>3</td>\n",
       "      <td>Leonard, Mr. Lionel</td>\n",
       "      <td>male</td>\n",
       "      <td>36.0</td>\n",
       "      <td>0</td>\n",
       "      <td>0</td>\n",
       "      <td>LINE</td>\n",
       "      <td>0.0</td>\n",
       "      <td>NaN</td>\n",
       "      <td>S</td>\n",
       "      <td>NaN</td>\n",
       "      <td>19</td>\n",
       "      <td>short</td>\n",
       "      <td>Mr</td>\n",
       "      <td>NaN</td>\n",
       "    </tr>\n",
       "    <tr>\n",
       "      <th>271</th>\n",
       "      <td>272</td>\n",
       "      <td>1</td>\n",
       "      <td>3</td>\n",
       "      <td>Tornquist, Mr. William Henry</td>\n",
       "      <td>male</td>\n",
       "      <td>25.0</td>\n",
       "      <td>0</td>\n",
       "      <td>0</td>\n",
       "      <td>LINE</td>\n",
       "      <td>0.0</td>\n",
       "      <td>NaN</td>\n",
       "      <td>S</td>\n",
       "      <td>NaN</td>\n",
       "      <td>28</td>\n",
       "      <td>okay</td>\n",
       "      <td>Mr</td>\n",
       "      <td>NaN</td>\n",
       "    </tr>\n",
       "    <tr>\n",
       "      <th>302</th>\n",
       "      <td>303</td>\n",
       "      <td>0</td>\n",
       "      <td>3</td>\n",
       "      <td>Johnson, Mr. William Cahoone Jr</td>\n",
       "      <td>male</td>\n",
       "      <td>19.0</td>\n",
       "      <td>0</td>\n",
       "      <td>0</td>\n",
       "      <td>LINE</td>\n",
       "      <td>0.0</td>\n",
       "      <td>NaN</td>\n",
       "      <td>S</td>\n",
       "      <td>NaN</td>\n",
       "      <td>31</td>\n",
       "      <td>okay</td>\n",
       "      <td>Mr</td>\n",
       "      <td>NaN</td>\n",
       "    </tr>\n",
       "    <tr>\n",
       "      <th>597</th>\n",
       "      <td>598</td>\n",
       "      <td>0</td>\n",
       "      <td>3</td>\n",
       "      <td>Johnson, Mr. Alfred</td>\n",
       "      <td>male</td>\n",
       "      <td>49.0</td>\n",
       "      <td>0</td>\n",
       "      <td>0</td>\n",
       "      <td>LINE</td>\n",
       "      <td>0.0</td>\n",
       "      <td>NaN</td>\n",
       "      <td>S</td>\n",
       "      <td>NaN</td>\n",
       "      <td>19</td>\n",
       "      <td>short</td>\n",
       "      <td>Mr</td>\n",
       "      <td>NaN</td>\n",
       "    </tr>\n",
       "    <tr>\n",
       "      <th>772</th>\n",
       "      <td>773</td>\n",
       "      <td>0</td>\n",
       "      <td>2</td>\n",
       "      <td>Mack, Mrs. (Mary)</td>\n",
       "      <td>female</td>\n",
       "      <td>57.0</td>\n",
       "      <td>0</td>\n",
       "      <td>0</td>\n",
       "      <td>S.O./P.P. 3</td>\n",
       "      <td>10.5</td>\n",
       "      <td>E77</td>\n",
       "      <td>S</td>\n",
       "      <td>E</td>\n",
       "      <td>17</td>\n",
       "      <td>short</td>\n",
       "      <td>Mrs</td>\n",
       "      <td>NaN</td>\n",
       "    </tr>\n",
       "    <tr>\n",
       "      <th>841</th>\n",
       "      <td>842</td>\n",
       "      <td>0</td>\n",
       "      <td>2</td>\n",
       "      <td>Mudd, Mr. Thomas Charles</td>\n",
       "      <td>male</td>\n",
       "      <td>16.0</td>\n",
       "      <td>0</td>\n",
       "      <td>0</td>\n",
       "      <td>S.O./P.P. 3</td>\n",
       "      <td>10.5</td>\n",
       "      <td>NaN</td>\n",
       "      <td>S</td>\n",
       "      <td>NaN</td>\n",
       "      <td>24</td>\n",
       "      <td>okay</td>\n",
       "      <td>Mr</td>\n",
       "      <td>NaN</td>\n",
       "    </tr>\n",
       "  </tbody>\n",
       "</table>\n",
       "</div>"
      ],
      "text/plain": [
       "     PassengerId  Survived  Pclass                             Name     Sex  \\\n",
       "179          180         0       3              Leonard, Mr. Lionel    male   \n",
       "271          272         1       3     Tornquist, Mr. William Henry    male   \n",
       "302          303         0       3  Johnson, Mr. William Cahoone Jr    male   \n",
       "597          598         0       3              Johnson, Mr. Alfred    male   \n",
       "772          773         0       2                Mack, Mrs. (Mary)  female   \n",
       "841          842         0       2         Mudd, Mr. Thomas Charles    male   \n",
       "\n",
       "      Age  SibSp  Parch       Ticket  Fare Cabin Embarked Deck  NameLength  \\\n",
       "179  36.0      0      0         LINE   0.0   NaN        S  NaN          19   \n",
       "271  25.0      0      0         LINE   0.0   NaN        S  NaN          28   \n",
       "302  19.0      0      0         LINE   0.0   NaN        S  NaN          31   \n",
       "597  49.0      0      0         LINE   0.0   NaN        S  NaN          19   \n",
       "772  57.0      0      0  S.O./P.P. 3  10.5   E77        S    E          17   \n",
       "841  16.0      0      0  S.O./P.P. 3  10.5   NaN        S  NaN          24   \n",
       "\n",
       "    NlengthD Title  TicketNumber  \n",
       "179    short    Mr           NaN  \n",
       "271     okay    Mr           NaN  \n",
       "302     okay    Mr           NaN  \n",
       "597    short    Mr           NaN  \n",
       "772    short   Mrs           NaN  \n",
       "841     okay    Mr           NaN  "
      ]
     },
     "execution_count": 31,
     "metadata": {},
     "output_type": "execute_result"
    }
   ],
   "source": [
    "#some rows in ticket column dont have numeric value so we got NaN there\n",
    "titanic[titanic[\"TicketNumber\"].isnull()]"
   ]
  },
  {
   "cell_type": "code",
   "execution_count": 32,
   "metadata": {
    "_cell_guid": "43df4f5b-e871-4bf0-b2d4-2b9f65fa38ec"
   },
   "outputs": [],
   "source": [
    "titanic.TicketNumber.fillna(titanic[\"TicketNumber\"].median(), inplace=True)\n",
    "titanic_test.TicketNumber.fillna(titanic_test[\"TicketNumber\"].median(), inplace=True)"
   ]
  },
  {
   "cell_type": "markdown",
   "metadata": {
    "_cell_guid": "062dec4a-6e51-910c-18cc-3f343a51f542"
   },
   "source": [
    "Convert Categorical variables into Numerical ones\n",
    "================================================="
   ]
  },
  {
   "cell_type": "code",
   "execution_count": 33,
   "metadata": {
    "_cell_guid": "539e9eaa-7b17-2e4e-d433-133e6b7ab91b"
   },
   "outputs": [
    {
     "ename": "TypeError",
     "evalue": "Encoders require their input to be uniformly strings or numbers. Got ['float', 'str']",
     "output_type": "error",
     "traceback": [
      "\u001b[1;31m---------------------------------------------------------------------------\u001b[0m",
      "\u001b[1;31mTypeError\u001b[0m                                 Traceback (most recent call last)",
      "\u001b[1;32m~\\AppData\\Roaming\\Python\\Python38\\site-packages\\sklearn\\preprocessing\\_label.py\u001b[0m in \u001b[0;36m_encode\u001b[1;34m(values, uniques, encode, check_unknown)\u001b[0m\n\u001b[0;32m    112\u001b[0m         \u001b[1;32mtry\u001b[0m\u001b[1;33m:\u001b[0m\u001b[1;33m\u001b[0m\u001b[1;33m\u001b[0m\u001b[0m\n\u001b[1;32m--> 113\u001b[1;33m             \u001b[0mres\u001b[0m \u001b[1;33m=\u001b[0m \u001b[0m_encode_python\u001b[0m\u001b[1;33m(\u001b[0m\u001b[0mvalues\u001b[0m\u001b[1;33m,\u001b[0m \u001b[0muniques\u001b[0m\u001b[1;33m,\u001b[0m \u001b[0mencode\u001b[0m\u001b[1;33m)\u001b[0m\u001b[1;33m\u001b[0m\u001b[1;33m\u001b[0m\u001b[0m\n\u001b[0m\u001b[0;32m    114\u001b[0m         \u001b[1;32mexcept\u001b[0m \u001b[0mTypeError\u001b[0m\u001b[1;33m:\u001b[0m\u001b[1;33m\u001b[0m\u001b[1;33m\u001b[0m\u001b[0m\n",
      "\u001b[1;32m~\\AppData\\Roaming\\Python\\Python38\\site-packages\\sklearn\\preprocessing\\_label.py\u001b[0m in \u001b[0;36m_encode_python\u001b[1;34m(values, uniques, encode)\u001b[0m\n\u001b[0;32m     60\u001b[0m     \u001b[1;32mif\u001b[0m \u001b[0muniques\u001b[0m \u001b[1;32mis\u001b[0m \u001b[1;32mNone\u001b[0m\u001b[1;33m:\u001b[0m\u001b[1;33m\u001b[0m\u001b[1;33m\u001b[0m\u001b[0m\n\u001b[1;32m---> 61\u001b[1;33m         \u001b[0muniques\u001b[0m \u001b[1;33m=\u001b[0m \u001b[0msorted\u001b[0m\u001b[1;33m(\u001b[0m\u001b[0mset\u001b[0m\u001b[1;33m(\u001b[0m\u001b[0mvalues\u001b[0m\u001b[1;33m)\u001b[0m\u001b[1;33m)\u001b[0m\u001b[1;33m\u001b[0m\u001b[1;33m\u001b[0m\u001b[0m\n\u001b[0m\u001b[0;32m     62\u001b[0m         \u001b[0muniques\u001b[0m \u001b[1;33m=\u001b[0m \u001b[0mnp\u001b[0m\u001b[1;33m.\u001b[0m\u001b[0marray\u001b[0m\u001b[1;33m(\u001b[0m\u001b[0muniques\u001b[0m\u001b[1;33m,\u001b[0m \u001b[0mdtype\u001b[0m\u001b[1;33m=\u001b[0m\u001b[0mvalues\u001b[0m\u001b[1;33m.\u001b[0m\u001b[0mdtype\u001b[0m\u001b[1;33m)\u001b[0m\u001b[1;33m\u001b[0m\u001b[1;33m\u001b[0m\u001b[0m\n",
      "\u001b[1;31mTypeError\u001b[0m: '<' not supported between instances of 'str' and 'float'",
      "\nDuring handling of the above exception, another exception occurred:\n",
      "\u001b[1;31mTypeError\u001b[0m                                 Traceback (most recent call last)",
      "\u001b[1;32m<ipython-input-33-370e1eef8cde>\u001b[0m in \u001b[0;36m<module>\u001b[1;34m\u001b[0m\n\u001b[0;32m      5\u001b[0m \u001b[0mcat_vars\u001b[0m\u001b[1;33m=\u001b[0m\u001b[1;33m[\u001b[0m\u001b[1;34m'Embarked'\u001b[0m\u001b[1;33m,\u001b[0m\u001b[1;34m'Sex'\u001b[0m\u001b[1;33m,\u001b[0m\u001b[1;34m\"Title\"\u001b[0m\u001b[1;33m,\u001b[0m\u001b[1;34m\"FsizeD\"\u001b[0m\u001b[1;33m,\u001b[0m\u001b[1;34m\"NlengthD\"\u001b[0m\u001b[1;33m,\u001b[0m\u001b[1;34m'Deck'\u001b[0m\u001b[1;33m]\u001b[0m\u001b[1;33m\u001b[0m\u001b[1;33m\u001b[0m\u001b[0m\n\u001b[0;32m      6\u001b[0m \u001b[1;32mfor\u001b[0m \u001b[0mcol\u001b[0m \u001b[1;32min\u001b[0m \u001b[0mcat_vars\u001b[0m\u001b[1;33m:\u001b[0m\u001b[1;33m\u001b[0m\u001b[1;33m\u001b[0m\u001b[0m\n\u001b[1;32m----> 7\u001b[1;33m     \u001b[0mtitanic\u001b[0m\u001b[1;33m[\u001b[0m\u001b[0mcol\u001b[0m\u001b[1;33m]\u001b[0m\u001b[1;33m=\u001b[0m\u001b[0mlabelEnc\u001b[0m\u001b[1;33m.\u001b[0m\u001b[0mfit_transform\u001b[0m\u001b[1;33m(\u001b[0m\u001b[0mtitanic\u001b[0m\u001b[1;33m[\u001b[0m\u001b[0mcol\u001b[0m\u001b[1;33m]\u001b[0m\u001b[1;33m)\u001b[0m\u001b[1;33m\u001b[0m\u001b[1;33m\u001b[0m\u001b[0m\n\u001b[0m\u001b[0;32m      8\u001b[0m     \u001b[0mtitanic_test\u001b[0m\u001b[1;33m[\u001b[0m\u001b[0mcol\u001b[0m\u001b[1;33m]\u001b[0m\u001b[1;33m=\u001b[0m\u001b[0mlabelEnc\u001b[0m\u001b[1;33m.\u001b[0m\u001b[0mfit_transform\u001b[0m\u001b[1;33m(\u001b[0m\u001b[0mtitanic_test\u001b[0m\u001b[1;33m[\u001b[0m\u001b[0mcol\u001b[0m\u001b[1;33m]\u001b[0m\u001b[1;33m)\u001b[0m\u001b[1;33m\u001b[0m\u001b[1;33m\u001b[0m\u001b[0m\n\u001b[0;32m      9\u001b[0m \u001b[1;33m\u001b[0m\u001b[0m\n",
      "\u001b[1;32m~\\AppData\\Roaming\\Python\\Python38\\site-packages\\sklearn\\preprocessing\\_label.py\u001b[0m in \u001b[0;36mfit_transform\u001b[1;34m(self, y)\u001b[0m\n\u001b[0;32m    254\u001b[0m         \"\"\"\n\u001b[0;32m    255\u001b[0m         \u001b[0my\u001b[0m \u001b[1;33m=\u001b[0m \u001b[0mcolumn_or_1d\u001b[0m\u001b[1;33m(\u001b[0m\u001b[0my\u001b[0m\u001b[1;33m,\u001b[0m \u001b[0mwarn\u001b[0m\u001b[1;33m=\u001b[0m\u001b[1;32mTrue\u001b[0m\u001b[1;33m)\u001b[0m\u001b[1;33m\u001b[0m\u001b[1;33m\u001b[0m\u001b[0m\n\u001b[1;32m--> 256\u001b[1;33m         \u001b[0mself\u001b[0m\u001b[1;33m.\u001b[0m\u001b[0mclasses_\u001b[0m\u001b[1;33m,\u001b[0m \u001b[0my\u001b[0m \u001b[1;33m=\u001b[0m \u001b[0m_encode\u001b[0m\u001b[1;33m(\u001b[0m\u001b[0my\u001b[0m\u001b[1;33m,\u001b[0m \u001b[0mencode\u001b[0m\u001b[1;33m=\u001b[0m\u001b[1;32mTrue\u001b[0m\u001b[1;33m)\u001b[0m\u001b[1;33m\u001b[0m\u001b[1;33m\u001b[0m\u001b[0m\n\u001b[0m\u001b[0;32m    257\u001b[0m         \u001b[1;32mreturn\u001b[0m \u001b[0my\u001b[0m\u001b[1;33m\u001b[0m\u001b[1;33m\u001b[0m\u001b[0m\n\u001b[0;32m    258\u001b[0m \u001b[1;33m\u001b[0m\u001b[0m\n",
      "\u001b[1;32m~\\AppData\\Roaming\\Python\\Python38\\site-packages\\sklearn\\preprocessing\\_label.py\u001b[0m in \u001b[0;36m_encode\u001b[1;34m(values, uniques, encode, check_unknown)\u001b[0m\n\u001b[0;32m    115\u001b[0m             types = sorted(t.__qualname__\n\u001b[0;32m    116\u001b[0m                            for t in set(type(v) for v in values))\n\u001b[1;32m--> 117\u001b[1;33m             raise TypeError(\"Encoders require their input to be uniformly \"\n\u001b[0m\u001b[0;32m    118\u001b[0m                             f\"strings or numbers. Got {types}\")\n\u001b[0;32m    119\u001b[0m         \u001b[1;32mreturn\u001b[0m \u001b[0mres\u001b[0m\u001b[1;33m\u001b[0m\u001b[1;33m\u001b[0m\u001b[0m\n",
      "\u001b[1;31mTypeError\u001b[0m: Encoders require their input to be uniformly strings or numbers. Got ['float', 'str']"
     ]
    }
   ],
   "source": [
    "from sklearn.preprocessing import LabelEncoder,OneHotEncoder\n",
    "\n",
    "labelEnc=LabelEncoder()\n",
    "\n",
    "cat_vars=['Embarked','Sex',\"Title\",\"FsizeD\",\"NlengthD\",'Deck']\n",
    "for col in cat_vars:\n",
    "    titanic[col]=labelEnc.fit_transform(titanic[col])\n",
    "    titanic_test[col]=labelEnc.fit_transform(titanic_test[col])\n",
    "\n",
    "titanic.head()"
   ]
  },
  {
   "cell_type": "markdown",
   "metadata": {
    "_cell_guid": "361f67a8-fa29-eb74-12d9-806dd27a5655"
   },
   "source": [
    "***Age Column***\n",
    "\n",
    "Age seems to be promising feature.\n",
    "So it doesnt make sense to simply fill null values out with median/mean/mode.\n",
    "\n",
    "We will use ***Random Forest*** algorithm to predict ages. "
   ]
  },
  {
   "cell_type": "code",
   "execution_count": 34,
   "metadata": {
    "_cell_guid": "749e5a8c-eaa6-4e65-3ffb-9c463cc55be1"
   },
   "outputs": [
    {
     "name": "stderr",
     "output_type": "stream",
     "text": [
      "`distplot` is a deprecated function and will be removed in a future version. Please adapt your code to use either `displot` (a figure-level function with similar flexibility) or `histplot` (an axes-level function for histograms).\n"
     ]
    },
    {
     "ename": "AttributeError",
     "evalue": "module 'seaborn' has no attribute 'plt'",
     "output_type": "error",
     "traceback": [
      "\u001b[1;31m---------------------------------------------------------------------------\u001b[0m",
      "\u001b[1;31mAttributeError\u001b[0m                            Traceback (most recent call last)",
      "\u001b[1;32m<ipython-input-34-dd862ce8a76c>\u001b[0m in \u001b[0;36m<module>\u001b[1;34m\u001b[0m\n\u001b[0;32m      5\u001b[0m                  \u001b[0mkde\u001b[0m\u001b[1;33m=\u001b[0m\u001b[1;32mFalse\u001b[0m\u001b[1;33m,\u001b[0m\u001b[1;33m\u001b[0m\u001b[1;33m\u001b[0m\u001b[0m\n\u001b[0;32m      6\u001b[0m                  color=\"red\")\n\u001b[1;32m----> 7\u001b[1;33m     \u001b[0msns\u001b[0m\u001b[1;33m.\u001b[0m\u001b[0mplt\u001b[0m\u001b[1;33m.\u001b[0m\u001b[0mtitle\u001b[0m\u001b[1;33m(\u001b[0m\u001b[1;34m\"Age Distribution\"\u001b[0m\u001b[1;33m)\u001b[0m\u001b[1;33m\u001b[0m\u001b[1;33m\u001b[0m\u001b[0m\n\u001b[0m\u001b[0;32m      8\u001b[0m     \u001b[0mplt\u001b[0m\u001b[1;33m.\u001b[0m\u001b[0mylabel\u001b[0m\u001b[1;33m(\u001b[0m\u001b[1;34m\"Count\"\u001b[0m\u001b[1;33m)\u001b[0m\u001b[1;33m;\u001b[0m\u001b[1;33m\u001b[0m\u001b[1;33m\u001b[0m\u001b[0m\n",
      "\u001b[1;31mAttributeError\u001b[0m: module 'seaborn' has no attribute 'plt'"
     ]
    },
    {
     "data": {
      "image/png": "[encoded data removed]",
      "text/plain": [
       "<Figure size 432x288 with 1 Axes>"
      ]
     },
     "metadata": {},
     "output_type": "display_data"
    }
   ],
   "source": [
    "with sns.plotting_context(\"notebook\",font_scale=1.5):\n",
    "    sns.set_style(\"whitegrid\")\n",
    "    sns.distplot(titanic[\"Age\"].dropna(),\n",
    "                 bins=80,\n",
    "                 kde=False,\n",
    "                 color=\"red\")\n",
    "    sns.plt.title(\"Age Distribution\")\n",
    "    plt.ylabel(\"Count\");"
   ]
  },
  {
   "cell_type": "code",
   "execution_count": null,
   "metadata": {
    "_cell_guid": "1fd4adce-c3c2-9857-7bd5-aa92e7839096"
   },
   "outputs": [],
   "source": [
    "from sklearn.ensemble import RandomForestRegressor\n",
    "#predicting missing values in age using Random Forest\n",
    "def fill_missing_age(df):\n",
    "    \n",
    "    #Feature set\n",
    "    age_df = df[['Age','Embarked','Fare', 'Parch', 'SibSp',\n",
    "                 'TicketNumber', 'Title','Pclass','FamilySize',\n",
    "                 'FsizeD','NameLength',\"NlengthD\",'Deck']]\n",
    "    # Split sets into train and test\n",
    "    train  = age_df.loc[ (df.Age.notnull()) ]# known Age values\n",
    "    test = age_df.loc[ (df.Age.isnull()) ]# null Ages\n",
    "    \n",
    "    # All age values are stored in a target array\n",
    "    y = train.values[:, 0]\n",
    "    \n",
    "    # All the other values are stored in the feature array\n",
    "    X = train.values[:, 1::]\n",
    "    \n",
    "    # Create and fit a model\n",
    "    rtr = RandomForestRegressor(n_estimators=2000, n_jobs=-1)\n",
    "    rtr.fit(X, y)\n",
    "    \n",
    "    # Use the fitted model to predict the missing values\n",
    "    predictedAges = rtr.predict(test.values[:, 1::])\n",
    "    \n",
    "    # Assign those predictions to the full data set\n",
    "    df.loc[ (df.Age.isnull()), 'Age' ] = predictedAges \n",
    "    \n",
    "    return df"
   ]
  },
  {
   "cell_type": "code",
   "execution_count": 35,
   "metadata": {
    "_cell_guid": "fae9d082-458a-4f94-1ac5-70b1e9ab8e6e"
   },
   "outputs": [
    {
     "ename": "NameError",
     "evalue": "name 'fill_missing_age' is not defined",
     "output_type": "error",
     "traceback": [
      "\u001b[1;31m---------------------------------------------------------------------------\u001b[0m",
      "\u001b[1;31mNameError\u001b[0m                                 Traceback (most recent call last)",
      "\u001b[1;32m<ipython-input-35-3408f007ebe0>\u001b[0m in \u001b[0;36m<module>\u001b[1;34m\u001b[0m\n\u001b[1;32m----> 1\u001b[1;33m \u001b[0mtitanic\u001b[0m\u001b[1;33m=\u001b[0m\u001b[0mfill_missing_age\u001b[0m\u001b[1;33m(\u001b[0m\u001b[0mtitanic\u001b[0m\u001b[1;33m)\u001b[0m\u001b[1;33m\u001b[0m\u001b[1;33m\u001b[0m\u001b[0m\n\u001b[0m\u001b[0;32m      2\u001b[0m \u001b[0mtitanic_test\u001b[0m\u001b[1;33m=\u001b[0m\u001b[0mfill_missing_age\u001b[0m\u001b[1;33m(\u001b[0m\u001b[0mtitanic_test\u001b[0m\u001b[1;33m)\u001b[0m\u001b[1;33m\u001b[0m\u001b[1;33m\u001b[0m\u001b[0m\n",
      "\u001b[1;31mNameError\u001b[0m: name 'fill_missing_age' is not defined"
     ]
    }
   ],
   "source": [
    "titanic=fill_missing_age(titanic)\n",
    "titanic_test=fill_missing_age(titanic_test)"
   ]
  },
  {
   "cell_type": "code",
   "execution_count": 36,
   "metadata": {
    "_cell_guid": "28e70904-dcd9-158c-eb2c-3c114c6fc166"
   },
   "outputs": [
    {
     "ename": "AttributeError",
     "evalue": "module 'seaborn' has no attribute 'plt'",
     "output_type": "error",
     "traceback": [
      "\u001b[1;31m---------------------------------------------------------------------------\u001b[0m",
      "\u001b[1;31mAttributeError\u001b[0m                            Traceback (most recent call last)",
      "\u001b[1;32m<ipython-input-36-4d36673c9351>\u001b[0m in \u001b[0;36m<module>\u001b[1;34m\u001b[0m\n\u001b[0;32m      5\u001b[0m                  \u001b[0mkde\u001b[0m\u001b[1;33m=\u001b[0m\u001b[1;32mFalse\u001b[0m\u001b[1;33m,\u001b[0m\u001b[1;33m\u001b[0m\u001b[1;33m\u001b[0m\u001b[0m\n\u001b[0;32m      6\u001b[0m                  color=\"tomato\")\n\u001b[1;32m----> 7\u001b[1;33m     \u001b[0msns\u001b[0m\u001b[1;33m.\u001b[0m\u001b[0mplt\u001b[0m\u001b[1;33m.\u001b[0m\u001b[0mtitle\u001b[0m\u001b[1;33m(\u001b[0m\u001b[1;34m\"Age Distribution\"\u001b[0m\u001b[1;33m)\u001b[0m\u001b[1;33m\u001b[0m\u001b[1;33m\u001b[0m\u001b[0m\n\u001b[0m\u001b[0;32m      8\u001b[0m     \u001b[0mplt\u001b[0m\u001b[1;33m.\u001b[0m\u001b[0mylabel\u001b[0m\u001b[1;33m(\u001b[0m\u001b[1;34m\"Count\"\u001b[0m\u001b[1;33m)\u001b[0m\u001b[1;33m\u001b[0m\u001b[1;33m\u001b[0m\u001b[0m\n\u001b[0;32m      9\u001b[0m     \u001b[0mplt\u001b[0m\u001b[1;33m.\u001b[0m\u001b[0mxlim\u001b[0m\u001b[1;33m(\u001b[0m\u001b[1;33m(\u001b[0m\u001b[1;36m15\u001b[0m\u001b[1;33m,\u001b[0m\u001b[1;36m100\u001b[0m\u001b[1;33m)\u001b[0m\u001b[1;33m)\u001b[0m\u001b[1;33m;\u001b[0m\u001b[1;33m\u001b[0m\u001b[1;33m\u001b[0m\u001b[0m\n",
      "\u001b[1;31mAttributeError\u001b[0m: module 'seaborn' has no attribute 'plt'"
     ]
    },
    {
     "data": {
      "image/png": "[encoded data removed]",
      "text/plain": [
       "<Figure size 432x288 with 1 Axes>"
      ]
     },
     "metadata": {},
     "output_type": "display_data"
    }
   ],
   "source": [
    "with sns.plotting_context(\"notebook\",font_scale=1.5):\n",
    "    sns.set_style(\"whitegrid\")\n",
    "    sns.distplot(titanic[\"Age\"].dropna(),\n",
    "                 bins=80,\n",
    "                 kde=False,\n",
    "                 color=\"tomato\")\n",
    "    sns.plt.title(\"Age Distribution\")\n",
    "    plt.ylabel(\"Count\")\n",
    "    plt.xlim((15,100));"
   ]
  },
  {
   "cell_type": "markdown",
   "metadata": {
    "_cell_guid": "e3ea673a-769a-de7b-a95b-5105c3bec1ef"
   },
   "source": [
    "**Feature Scaling**\n",
    "===============\n",
    "\n",
    "We can see that Age, Fare are measured on different scales, so we need to do Feature Scaling first before we proceed with predictions."
   ]
  },
  {
   "cell_type": "code",
   "execution_count": 37,
   "metadata": {
    "_cell_guid": "e32e691e-1d4b-f9b8-c0b6-bf422879679b"
   },
   "outputs": [],
   "source": [
    "from sklearn import preprocessing\n",
    "\n",
    "std_scale = preprocessing.StandardScaler().fit(titanic[['Age', 'Fare']])\n",
    "titanic[['Age', 'Fare']] = std_scale.transform(titanic[['Age', 'Fare']])\n",
    "\n",
    "\n",
    "std_scale = preprocessing.StandardScaler().fit(titanic_test[['Age', 'Fare']])\n",
    "titanic_test[['Age', 'Fare']] = std_scale.transform(titanic_test[['Age', 'Fare']])"
   ]
  },
  {
   "cell_type": "markdown",
   "metadata": {
    "_cell_guid": "1322bdd4-2438-b77f-1489-21a319a92883"
   },
   "source": [
    "Correlation of features with target \n",
    "======================="
   ]
  },
  {
   "cell_type": "code",
   "execution_count": 38,
   "metadata": {
    "_cell_guid": "c66dd526-36a1-f3b2-ed34-4ecfe02bca69"
   },
   "outputs": [
    {
     "data": {
      "text/plain": [
       "PassengerId    -0.005007\n",
       "Survived        1.000000\n",
       "Pclass         -0.338481\n",
       "Age            -0.077221\n",
       "SibSp          -0.035322\n",
       "Parch           0.081629\n",
       "Fare            0.257307\n",
       "NameLength      0.332350\n",
       "TicketNumber   -0.096161\n",
       "Name: Survived, dtype: float64"
      ]
     },
     "execution_count": 38,
     "metadata": {},
     "output_type": "execute_result"
    }
   ],
   "source": [
    "titanic.corr()[\"Survived\"]"
   ]
  },
  {
   "cell_type": "markdown",
   "metadata": {
    "_cell_guid": "dc110fb3-3ac8-f68e-af62-c4d9caef0271"
   },
   "source": [
    "Predict Survival\n",
    "================"
   ]
  },
  {
   "cell_type": "markdown",
   "metadata": {
    "_cell_guid": "2e105e15-4ca1-c6a9-d52c-1f140eb0a733"
   },
   "source": [
    "*Linear Regression*\n",
    "-------------------"
   ]
  },
  {
   "cell_type": "code",
   "execution_count": 39,
   "metadata": {
    "_cell_guid": "ef0672f1-9b05-e0d0-6d6b-6334704fbb77"
   },
   "outputs": [
    {
     "ename": "ModuleNotFoundError",
     "evalue": "No module named 'sklearn.cross_validation'",
     "output_type": "error",
     "traceback": [
      "\u001b[1;31m---------------------------------------------------------------------------\u001b[0m",
      "\u001b[1;31mModuleNotFoundError\u001b[0m                       Traceback (most recent call last)",
      "\u001b[1;32m<ipython-input-39-48e6bd18c35b>\u001b[0m in \u001b[0;36m<module>\u001b[1;34m\u001b[0m\n\u001b[0;32m      2\u001b[0m \u001b[1;32mfrom\u001b[0m \u001b[0msklearn\u001b[0m\u001b[1;33m.\u001b[0m\u001b[0mlinear_model\u001b[0m \u001b[1;32mimport\u001b[0m \u001b[0mLinearRegression\u001b[0m\u001b[1;33m\u001b[0m\u001b[1;33m\u001b[0m\u001b[0m\n\u001b[0;32m      3\u001b[0m \u001b[1;31m# Sklearn also has a helper that makes it easy to do cross validation\u001b[0m\u001b[1;33m\u001b[0m\u001b[1;33m\u001b[0m\u001b[1;33m\u001b[0m\u001b[0m\n\u001b[1;32m----> 4\u001b[1;33m \u001b[1;32mfrom\u001b[0m \u001b[0msklearn\u001b[0m\u001b[1;33m.\u001b[0m\u001b[0mcross_validation\u001b[0m \u001b[1;32mimport\u001b[0m \u001b[0mKFold\u001b[0m\u001b[1;33m\u001b[0m\u001b[1;33m\u001b[0m\u001b[0m\n\u001b[0m\u001b[0;32m      5\u001b[0m \u001b[1;33m\u001b[0m\u001b[0m\n\u001b[0;32m      6\u001b[0m \u001b[1;31m# The columns we'll use to predict the target\u001b[0m\u001b[1;33m\u001b[0m\u001b[1;33m\u001b[0m\u001b[1;33m\u001b[0m\u001b[0m\n",
      "\u001b[1;31mModuleNotFoundError\u001b[0m: No module named 'sklearn.cross_validation'"
     ]
    }
   ],
   "source": [
    "# Import the linear regression class\n",
    "from sklearn.linear_model import LinearRegression\n",
    "# Sklearn also has a helper that makes it easy to do cross validation\n",
    "from sklearn.cross_validation import KFold\n",
    "\n",
    "# The columns we'll use to predict the target\n",
    "predictors = [\"Pclass\", \"Sex\", \"Age\",\"SibSp\", \"Parch\", \"Fare\",\n",
    "              \"Embarked\",\"NlengthD\", \"FsizeD\", \"Title\",\"Deck\"]\n",
    "target=\"Survived\"\n",
    "# Initialize our algorithm class\n",
    "alg = LinearRegression()\n",
    "\n",
    "# Generate cross validation folds for the titanic dataset.  It return the row indices corresponding to train and test.\n",
    "# We set random_state to ensure we get the same splits every time we run this.\n",
    "kf = KFold(titanic.shape[0], n_folds=3, random_state=1)\n",
    "\n",
    "predictions = []"
   ]
  },
  {
   "cell_type": "code",
   "execution_count": 49,
   "metadata": {
    "_cell_guid": "425ab117-b2ea-72d5-651b-15ed0d2f14f8"
   },
   "outputs": [],
   "source": [
    "for train, test in kf:\n",
    "    # The predictors we're using the train the algorithm.  Note how we only take the rows in the train folds.\n",
    "    train_predictors = (titanic[predictors].iloc[train,:])\n",
    "    # The target we're using to train the algorithm.\n",
    "    train_target = titanic[target].iloc[train]\n",
    "    # Training the algorithm using the predictors and target.\n",
    "    alg.fit(train_predictors, train_target)\n",
    "    # We can now make predictions on the test fold\n",
    "    test_predictions = alg.predict(titanic[predictors].iloc[test,:])\n",
    "    predictions.append(test_predictions)"
   ]
  },
  {
   "cell_type": "code",
   "execution_count": 50,
   "metadata": {
    "_cell_guid": "e4aacd69-0228-3a8e-5f94-a5e52f834e59"
   },
   "outputs": [
    {
     "data": {
      "text/plain": [
       "0.81144781144781142"
      ]
     },
     "execution_count": 50,
     "metadata": {},
     "output_type": "execute_result"
    }
   ],
   "source": [
    "predictions = np.concatenate(predictions, axis=0)\n",
    "# Map predictions to outcomes (only possible outcomes are 1 and 0)\n",
    "predictions[predictions > .5] = 1\n",
    "predictions[predictions <=.5] = 0\n",
    "\n",
    "\n",
    "accuracy=sum(titanic[\"Survived\"]==predictions)/len(titanic[\"Survived\"])\n",
    "accuracy"
   ]
  },
  {
   "cell_type": "markdown",
   "metadata": {
    "_cell_guid": "5b7a8c8c-e97c-a4f1-677b-3daea73885e9"
   },
   "source": [
    "*Logistic Regression*\n",
    "-------------------"
   ]
  },
  {
   "cell_type": "code",
   "execution_count": 51,
   "metadata": {
    "_cell_guid": "c4332e05-2db0-88ff-0a3a-e4d2d5cbb861"
   },
   "outputs": [
    {
     "name": "stdout",
     "output_type": "stream",
     "text": [
      "0.750354672845\n"
     ]
    }
   ],
   "source": [
    "from sklearn import cross_validation\n",
    "from sklearn.linear_model import LogisticRegression\n",
    "from sklearn.model_selection import cross_val_score\n",
    "from sklearn.model_selection import ShuffleSplit\n",
    "\n",
    "predictors = [\"Pclass\", \"Sex\", \"Fare\", \"Embarked\",\"Deck\",\"Age\",\n",
    "              \"FsizeD\", \"NlengthD\",\"Title\",\"Parch\"]\n",
    "\n",
    "# Initialize our algorithm\n",
    "lr = LogisticRegression(random_state=1)\n",
    "# Compute the accuracy score for all the cross validation folds.\n",
    "cv = ShuffleSplit(n_splits=10, test_size=0.3, random_state=50)\n",
    "\n",
    "scores = cross_val_score(lr, titanic[predictors], \n",
    "                                          titanic[\"Survived\"],scoring='f1', cv=cv)\n",
    "# Take the mean of the scores (because we have one for each fold)\n",
    "print(scores.mean())"
   ]
  },
  {
   "cell_type": "markdown",
   "metadata": {
    "_cell_guid": "c8eee663-2c77-77da-f370-0f7372a3c8e1"
   },
   "source": [
    "*Random Forest *\n",
    "-------------------"
   ]
  },
  {
   "cell_type": "code",
   "execution_count": 52,
   "metadata": {
    "_cell_guid": "0eedacc0-6a3f-d35c-ab71-0da403d5d773"
   },
   "outputs": [
    {
     "name": "stdout",
     "output_type": "stream",
     "text": [
      "0.751674196347\n"
     ]
    }
   ],
   "source": [
    "from sklearn import cross_validation\n",
    "from sklearn.ensemble import RandomForestClassifier\n",
    "from sklearn.cross_validation import KFold\n",
    "from sklearn.model_selection import cross_val_predict\n",
    "\n",
    "import numpy as np\n",
    "predictors = [\"Pclass\", \"Sex\", \"Age\",\n",
    "              \"Fare\",\"NlengthD\",\"NameLength\", \"FsizeD\", \"Title\",\"Deck\"]\n",
    "\n",
    "# Initialize our algorithm with the default paramters\n",
    "# n_estimators is the number of trees we want to make\n",
    "# min_samples_split is the minimum number of rows we need to make a split\n",
    "# min_samples_leaf is the minimum number of samples we can have at the place where a tree branch ends (the bottom points of the tree)\n",
    "rf = RandomForestClassifier(random_state=1, n_estimators=10, min_samples_split=2, \n",
    "                            min_samples_leaf=1)\n",
    "kf = KFold(titanic.shape[0], n_folds=5, random_state=1)\n",
    "cv = ShuffleSplit(n_splits=10, test_size=0.3, random_state=50)\n",
    "\n",
    "predictions = cross_validation.cross_val_predict(rf, titanic[predictors],titanic[\"Survived\"],cv=kf)\n",
    "predictions = pd.Series(predictions)\n",
    "scores = cross_val_score(rf, titanic[predictors], titanic[\"Survived\"],\n",
    "                                          scoring='f1', cv=kf)\n",
    "# Take the mean of the scores (because we have one for each fold)\n",
    "print(scores.mean())"
   ]
  },
  {
   "cell_type": "code",
   "execution_count": 53,
   "metadata": {
    "_cell_guid": "d86a3faa-d10b-5b4f-54c8-583e11a5da8d"
   },
   "outputs": [
    {
     "name": "stdout",
     "output_type": "stream",
     "text": [
      "0.768120629796\n"
     ]
    }
   ],
   "source": [
    "predictors = [\"Pclass\", \"Sex\", \"Age\",\n",
    "              \"Fare\",\"NlengthD\",\"NameLength\", \"FsizeD\", \"Title\",\"Deck\",\"TicketNumber\"]\n",
    "rf = RandomForestClassifier(random_state=1, n_estimators=50, max_depth=9,min_samples_split=6, min_samples_leaf=4)\n",
    "rf.fit(titanic[predictors],titanic[\"Survived\"])\n",
    "kf = KFold(titanic.shape[0], n_folds=5, random_state=1)\n",
    "predictions = cross_validation.cross_val_predict(rf, titanic[predictors],titanic[\"Survived\"],cv=kf)\n",
    "predictions = pd.Series(predictions)\n",
    "scores = cross_val_score(rf, titanic[predictors], titanic[\"Survived\"],scoring='f1', cv=kf)\n",
    "# Take the mean of the scores (because we have one for each fold)\n",
    "print(scores.mean())"
   ]
  },
  {
   "cell_type": "markdown",
   "metadata": {
    "_cell_guid": "b4a08e76-1dfe-468b-d3f8-a6198c59b7bb"
   },
   "source": [
    "Important features\n",
    "=================="
   ]
  },
  {
   "cell_type": "code",
   "execution_count": 54,
   "metadata": {
    "_cell_guid": "2567e540-6c3c-0f17-46ce-7f204f0da8fc"
   },
   "outputs": [
    {
     "data": {
      "image/png": "[encoded data removed]",
      "text/plain": [
       "<matplotlib.figure.Figure at 0x7f86f4ea21d0>"
      ]
     },
     "metadata": {},
     "output_type": "display_data"
    }
   ],
   "source": [
    "importances=rf.feature_importances_\n",
    "std = np.std([rf.feature_importances_ for tree in rf.estimators_],\n",
    "             axis=0)\n",
    "indices = np.argsort(importances)[::-1]\n",
    "sorted_important_features=[]\n",
    "for i in indices:\n",
    "    sorted_important_features.append(predictors[i])\n",
    "#predictors=titanic.columns\n",
    "plt.figure()\n",
    "plt.title(\"Feature Importances By Random Forest Model\")\n",
    "plt.bar(range(np.size(predictors)), importances[indices],\n",
    "       color=\"r\", yerr=std[indices], align=\"center\")\n",
    "plt.xticks(range(np.size(predictors)), sorted_important_features, rotation='vertical')\n",
    "\n",
    "plt.xlim([-1, np.size(predictors)]);"
   ]
  },
  {
   "cell_type": "markdown",
   "metadata": {
    "_cell_guid": "214e9136-49a1-bcc8-6ff3-063f6907a735"
   },
   "source": [
    "*Gradient Boosting*\n",
    "-------------------"
   ]
  },
  {
   "cell_type": "code",
   "execution_count": 55,
   "metadata": {
    "_cell_guid": "440b4b19-c73b-00cf-8263-ae42daddb889"
   },
   "outputs": [
    {
     "data": {
      "image/png": "[encoded data removed]",
      "text/plain": [
       "<matplotlib.figure.Figure at 0x7f86f4966c50>"
      ]
     },
     "metadata": {},
     "output_type": "display_data"
    }
   ],
   "source": [
    "import numpy as np\n",
    "from sklearn.ensemble import GradientBoostingClassifier\n",
    "\n",
    "from sklearn.feature_selection import SelectKBest, f_classif\n",
    "from sklearn.cross_validation import KFold\n",
    "%matplotlib inline\n",
    "import matplotlib.pyplot as plt\n",
    "#predictors = [\"Pclass\", \"Sex\", \"Age\", \"Fare\",\n",
    " #             \"FsizeD\", \"Embarked\", \"NlengthD\",\"Deck\",\"TicketNumber\"]\n",
    "predictors = [\"Pclass\", \"Sex\", \"Age\",\n",
    "              \"Fare\",\"NlengthD\", \"FsizeD\",\"NameLength\",\"Deck\",\"Embarked\"]\n",
    "# Perform feature selection\n",
    "selector = SelectKBest(f_classif, k=5)\n",
    "selector.fit(titanic[predictors], titanic[\"Survived\"])\n",
    "\n",
    "# Get the raw p-values for each feature, and transform from p-values into scores\n",
    "scores = -np.log10(selector.pvalues_)\n",
    "\n",
    "indices = np.argsort(scores)[::-1]\n",
    "\n",
    "sorted_important_features=[]\n",
    "for i in indices:\n",
    "    sorted_important_features.append(predictors[i])\n",
    "\n",
    "plt.figure()\n",
    "plt.title(\"Feature Importances By SelectKBest\")\n",
    "plt.bar(range(np.size(predictors)), scores[indices],\n",
    "       color=\"seagreen\", yerr=std[indices], align=\"center\")\n",
    "plt.xticks(range(np.size(predictors)), sorted_important_features, rotation='vertical')\n",
    "\n",
    "plt.xlim([-1, np.size(predictors)]);"
   ]
  },
  {
   "cell_type": "code",
   "execution_count": 56,
   "metadata": {
    "_cell_guid": "7b54f7e1-2c1a-5568-bfc1-e6dd70990678"
   },
   "outputs": [
    {
     "name": "stdout",
     "output_type": "stream",
     "text": [
      "0.747366422735\n"
     ]
    }
   ],
   "source": [
    "from sklearn import cross_validation\n",
    "from sklearn.linear_model import LogisticRegression\n",
    "predictors = [\"Pclass\", \"Sex\", \"Age\", \"Fare\", \"Embarked\",\"NlengthD\",\n",
    "              \"FsizeD\", \"Title\",\"Deck\"]\n",
    "\n",
    "# Initialize our algorithm\n",
    "lr = LogisticRegression(random_state=1)\n",
    "# Compute the accuracy score for all the cross validation folds.  \n",
    "cv = ShuffleSplit(n_splits=10, test_size=0.3, random_state=50)\n",
    "scores = cross_val_score(lr, titanic[predictors], titanic[\"Survived\"], scoring='f1',cv=cv)\n",
    "print(scores.mean())"
   ]
  },
  {
   "cell_type": "markdown",
   "metadata": {
    "_cell_guid": "096fcc02-e23b-d9f4-f3a1-d4a9ec23f89a"
   },
   "source": [
    "*AdaBoost *\n",
    "--------------------"
   ]
  },
  {
   "cell_type": "code",
   "execution_count": 57,
   "metadata": {
    "_cell_guid": "892414ea-998b-21c6-85a8-86c8e0c71127"
   },
   "outputs": [
    {
     "name": "stdout",
     "output_type": "stream",
     "text": [
      "0.767650120062\n"
     ]
    }
   ],
   "source": [
    "from sklearn.ensemble import AdaBoostClassifier\n",
    "predictors = [\"Pclass\", \"Sex\", \"Age\", \"Fare\", \"Embarked\",\"NlengthD\",\n",
    "              \"FsizeD\", \"Title\",\"Deck\",\"TicketNumber\"]\n",
    "adb=AdaBoostClassifier()\n",
    "adb.fit(titanic[predictors],titanic[\"Survived\"])\n",
    "cv = ShuffleSplit(n_splits=10, test_size=0.3, random_state=50)\n",
    "scores = cross_val_score(adb, titanic[predictors], titanic[\"Survived\"], scoring='f1',cv=cv)\n",
    "print(scores.mean())"
   ]
  },
  {
   "cell_type": "markdown",
   "metadata": {
    "_cell_guid": "deb63887-1f64-482d-3ad6-bd5179a8448a"
   },
   "source": [
    "Maximum Voting ensemble and Submission\n",
    "======="
   ]
  },
  {
   "cell_type": "code",
   "execution_count": 58,
   "metadata": {
    "_cell_guid": "5b98fa41-2376-096f-8dff-525e521c1973"
   },
   "outputs": [],
   "source": [
    "predictions=[\"Pclass\", \"Sex\", \"Age\", \"Fare\", \"Embarked\",\"NlengthD\",\n",
    "              \"FsizeD\", \"Title\",\"Deck\",\"NameLength\",\"TicketNumber\"]\n",
    "from sklearn.ensemble import VotingClassifier\n",
    "eclf1 = VotingClassifier(estimators=[\n",
    "        ('lr', lr), ('rf', rf), ('adb', adb)], voting='soft')\n",
    "eclf1 = eclf1.fit(titanic[predictors], titanic[\"Survived\"])\n",
    "predictions=eclf1.predict(titanic[predictors])\n",
    "predictions\n",
    "\n",
    "test_predictions=eclf1.predict(titanic_test[predictors])\n",
    "\n",
    "test_predictions=test_predictions.astype(int)\n",
    "submission = pd.DataFrame({\n",
    "        \"PassengerId\": titanic_test[\"PassengerId\"],\n",
    "        \"Survived\": test_predictions\n",
    "    })\n",
    "\n",
    "submission.to_csv(\"titanic_submission.csv\", index=False)"
   ]
  },
  {
   "cell_type": "markdown",
   "metadata": {
    "_cell_guid": "141131e6-ccc2-c5fb-f1d7-43ca7f121703"
   },
   "source": [
    "***To do: stacking!. Watch this space…***"
   ]
  },
  {
   "cell_type": "markdown",
   "metadata": {
    "_cell_guid": "0f6cee21-6591-453b-1afa-867fec86cdfb"
   },
   "source": [
    "***Hope you find it useful. :)please upvote***"
   ]
  },
  {
   "cell_type": "code",
   "execution_count": null,
   "metadata": {},
   "outputs": [],
   "source": [
    "## Fairness"
   ]
  }
 ],
 "metadata": {
  "_change_revision": 358,
  "_is_fork": false,
  "kernelspec": {
   "display_name": "Python 3",
   "language": "python",
   "name": "python3"
  },
  "language_info": {
   "codemirror_mode": {
    "name": "ipython",
    "version": 3
   },
   "file_extension": ".py",
   "mimetype": "text/x-python",
   "name": "python",
   "nbconvert_exporter": "python",
   "pygments_lexer": "ipython3",
   "version": "3.8.5"
  }
 },
 "nbformat": 4,
 "nbformat_minor": 1
}
