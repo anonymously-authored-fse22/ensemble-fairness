{
 "cells": [
  {
   "cell_type": "markdown",
   "metadata": {},
   "source": [
    "<a class=\"anchor\" id=\"0\"></a>\n",
    "\n",
    "## FE, tuning and comparison of the 20 popular models with  predictions on the example of competition \"Titanic: Machine Learning from Disaster\""
   ]
  },
  {
   "cell_type": "markdown",
   "metadata": {},
   "source": [
    "Features engineering (FE) from Titanic Top 3%\n",
    "\n",
    "Build of the 20 most popular models, the most complex models from them are tuned (optimized)\n",
    "\n",
    "Comparison of the optimal for each type models by CV and LB"
   ]
  },
  {
   "cell_type": "markdown",
   "metadata": {},
   "source": [
    "## Acknowledgements"
   ]
  },
  {
   "cell_type": "markdown",
   "metadata": {},
   "source": [
    "Thanks for most popular models to:\n",
    "* https://www.kaggle.com/kabure/titanic-eda-model-pipeline-keras-nn\n",
    "* https://www.kaggle.com/startupsci/titanic-data-science-solutions \n",
    "* https://www.kaggle.com/nhlr21/complete-titanic-tutorial-with-ml-nn-ensembling\n",
    "\n",
    "Thanks for FE:\n",
    "* https://www.kaggle.com/vbmokin/three-lines-of-code-for-titanic-top-15\n",
    "* https://www.kaggle.com/vbmokin/three-lines-of-code-for-titanic-top-20\n",
    "* https://www.kaggle.com/mauricef/titanic\n",
    "* https://www.kaggle.com/kpacocha/top-6-titanic-machine-learning-from-disaster\n",
    "* https://www.kaggle.com/erinsweet/simpledetect"
   ]
  },
  {
   "cell_type": "markdown",
   "metadata": {},
   "source": [
    "<a class=\"anchor\" id=\"0.1\"></a>\n",
    "\n",
    "## Table of Contents\n",
    "\n",
    "1. [Import libraries](#1)\n",
    "1. [Download datasets](#2)\n",
    "1. [Features engineering (FE)](#3)\n",
    "1. [Preparing to modeling](#4)\n",
    "    -  [Encoding categorical features](#4.1)\n",
    "    -  [Creation of training and validation sets](#4.2)\n",
    "1. [Tuning models and test for all 16 features](#5)\n",
    "    -  [Logistic Regression](#5.1)\n",
    "    -  [Support Vector Machines](#5.2)\n",
    "    -  [Linear SVC](#5.3)\n",
    "    -  [k-Nearest Neighbors algorithm with GridSearchCV](#5.4)\n",
    "    -  [Naive Bayes](#5.5)\n",
    "    -  [Perceptron](#5.6)\n",
    "    -  [Stochastic Gradient Descent](#5.7)\n",
    "    -  [Decision Tree Classifier](#5.8)\n",
    "    -  [Random Forests with GridSearchCV](#5.9)\n",
    "    -  [XGB Classifier with HyperOpt](#5.10)\n",
    "    -  [LGBM Classifier with HyperOpt](#5.11)\n",
    "    -  [GradientBoostingClassifier with HyperOpt](#5.12)\n",
    "    -  [RidgeClassifier](#5.13)\n",
    "    -  [BaggingClassifier](#5.14)\n",
    "    -  [ExtraTreesClassifier with HyperOpt](#5.15)\n",
    "    -  [Neural Network 1](#5.16)\n",
    "    -  [Neural Network 2](#5.17)\n",
    "    -  [VotingClassifier (hard voting)](#5.18)\n",
    "    -  [VotingClassifier (soft voting) with GridSearchCV](#5.19)\n",
    "    -  [The simple rule in one line](#5.20)\n",
    "1. [Tuning models and test for 3 features](#6)\n",
    "1. [Models evaluation](#7)\n",
    "1. [Conclusion](#8)\n"
   ]
  },
  {
   "cell_type": "markdown",
   "metadata": {},
   "source": [
    "## 1. Import libraries <a class=\"anchor\" id=\"1\"></a>\n",
    "\n",
    "[Back to Table of Contents](#0.1)"
   ]
  },
  {
   "cell_type": "code",
   "execution_count": 1,
   "metadata": {
    "_cell_guid": "b1076dfc-b9ad-4769-8c92-a6c4dae69d19",
    "_uuid": "8f2839f25d086af736a60e9eeb907d3b93b6e0e5",
    "execution": {
     "iopub.execute_input": "2021-08-07T20:41:56.809578Z",
     "iopub.status.busy": "2021-08-07T20:41:56.809258Z",
     "iopub.status.idle": "2021-08-07T20:41:56.831214Z",
     "shell.execute_reply": "2021-08-07T20:41:56.830171Z",
     "shell.execute_reply.started": "2021-08-07T20:41:56.809523Z"
    }
   },
   "outputs": [
    {
     "name": "stderr",
     "output_type": "stream",
     "text": [
      "Using TensorFlow backend.\n"
     ]
    }
   ],
   "source": [
    "import numpy as np\n",
    "import pandas as pd\n",
    "import matplotlib.pyplot as plt\n",
    "%matplotlib inline\n",
    "\n",
    "# preprocessing\n",
    "from sklearn.preprocessing import LabelEncoder\n",
    "from sklearn.model_selection import train_test_split, cross_val_score, GridSearchCV\n",
    "\n",
    "# models\n",
    "from sklearn.linear_model import LogisticRegression, Perceptron, RidgeClassifier, SGDClassifier\n",
    "from sklearn.svm import SVC, LinearSVC\n",
    "from sklearn.ensemble import RandomForestClassifier, GradientBoostingClassifier, ExtraTreesClassifier \n",
    "from sklearn.ensemble import BaggingClassifier, VotingClassifier \n",
    "from sklearn.neighbors import KNeighborsClassifier\n",
    "from sklearn.naive_bayes import GaussianNB\n",
    "from sklearn.tree import DecisionTreeClassifier\n",
    "from sklearn import metrics\n",
    "import xgboost as xgb\n",
    "from xgboost import XGBClassifier\n",
    "import lightgbm as lgb\n",
    "from lightgbm import LGBMClassifier\n",
    "\n",
    "# NN models\n",
    "import keras\n",
    "from keras.models import Sequential\n",
    "from keras.layers import Dense, Dropout\n",
    "from keras import optimizers\n",
    "from keras.wrappers.scikit_learn import KerasClassifier\n",
    "from keras.callbacks import EarlyStopping, ModelCheckpoint\n",
    "\n",
    "# model tuning\n",
    "from hyperopt import STATUS_OK, Trials, fmin, hp, tpe, space_eval\n",
    "\n",
    "# import warnings filter\n",
    "from warnings import simplefilter\n",
    "# ignore all future warnings\n",
    "simplefilter(action='ignore', category=FutureWarning)"
   ]
  },
  {
   "cell_type": "code",
   "execution_count": 2,
   "metadata": {
    "execution": {
     "iopub.execute_input": "2021-08-07T20:41:56.849217Z",
     "iopub.status.busy": "2021-08-07T20:41:56.848826Z",
     "iopub.status.idle": "2021-08-07T20:41:56.853983Z",
     "shell.execute_reply": "2021-08-07T20:41:56.853083Z",
     "shell.execute_reply.started": "2021-08-07T20:41:56.849149Z"
    }
   },
   "outputs": [],
   "source": [
    "cv_number = 5"
   ]
  },
  {
   "cell_type": "markdown",
   "metadata": {},
   "source": [
    "## 2. Download datasets <a class=\"anchor\" id=\"2\"></a>\n",
    "\n",
    "[Back to Table of Contents](#0.1)"
   ]
  },
  {
   "cell_type": "code",
   "execution_count": 3,
   "metadata": {
    "execution": {
     "iopub.execute_input": "2021-08-07T20:41:56.909635Z",
     "iopub.status.busy": "2021-08-07T20:41:56.909309Z",
     "iopub.status.idle": "2021-08-07T20:41:56.940245Z",
     "shell.execute_reply": "2021-08-07T20:41:56.939272Z",
     "shell.execute_reply.started": "2021-08-07T20:41:56.909585Z"
    }
   },
   "outputs": [],
   "source": [
    "traindf = pd.read_csv('../input/titanic/train.csv').set_index('PassengerId')\n",
    "testdf = pd.read_csv('../input/titanic/test.csv').set_index('PassengerId')\n",
    "submission = pd.read_csv('../input/titanic/gender_submission.csv')"
   ]
  },
  {
   "cell_type": "markdown",
   "metadata": {},
   "source": [
    "## 3. Features engineering (FE) <a class=\"anchor\" id=\"3\"></a>\n",
    "\n",
    "[Back to Table of Contents](#0.1)"
   ]
  },
  {
   "cell_type": "code",
   "execution_count": 4,
   "metadata": {
    "execution": {
     "iopub.execute_input": "2021-08-07T20:41:56.946011Z",
     "iopub.status.busy": "2021-08-07T20:41:56.94571Z",
     "iopub.status.idle": "2021-08-07T20:41:59.543018Z",
     "shell.execute_reply": "2021-08-07T20:41:59.542122Z",
     "shell.execute_reply.started": "2021-08-07T20:41:56.945955Z"
    }
   },
   "outputs": [],
   "source": [
    "#Thanks to:\n",
    "# https://www.kaggle.com/mauricef/titanic\n",
    "# https://www.kaggle.com/vbmokin/titanic-top-3-one-line-of-the-prediction-code\n",
    "#\n",
    "df = pd.concat([traindf, testdf], axis=0, sort=False)\n",
    "df['Title'] = df.Name.str.split(',').str[1].str.split('.').str[0].str.strip()\n",
    "df['Title'] = df.Name.str.split(',').str[1].str.split('.').str[0].str.strip()\n",
    "df['IsWomanOrBoy'] = ((df.Title == 'Master') | (df.Sex == 'female'))\n",
    "df['LastName'] = df.Name.str.split(',').str[0]\n",
    "family = df.groupby(df.LastName).Survived\n",
    "df['WomanOrBoyCount'] = family.transform(lambda s: s[df.IsWomanOrBoy].fillna(0).count())\n",
    "df['WomanOrBoyCount'] = df.mask(df.IsWomanOrBoy, df.WomanOrBoyCount - 1, axis=0)\n",
    "df['FamilySurvivedCount'] = family.transform(lambda s: s[df.IsWomanOrBoy].fillna(0).sum())\n",
    "df['FamilySurvivedCount'] = df.mask(df.IsWomanOrBoy, df.FamilySurvivedCount - \\\n",
    "                                    df.Survived.fillna(0), axis=0)\n",
    "df['WomanOrBoySurvived'] = df.FamilySurvivedCount / df.WomanOrBoyCount.replace(0, np.nan)\n",
    "df.WomanOrBoyCount = df.WomanOrBoyCount.replace(np.nan, 0)\n",
    "df['Alone'] = (df.WomanOrBoyCount == 0)\n",
    "\n",
    "#Thanks to https://www.kaggle.com/kpacocha/top-6-titanic-machine-learning-from-disaster\n",
    "#\"Title\" improvement\n",
    "df['Title'] = df['Title'].replace('Ms','Miss')\n",
    "df['Title'] = df['Title'].replace('Mlle','Miss')\n",
    "df['Title'] = df['Title'].replace('Mme','Mrs')\n",
    "# Embarked\n",
    "df['Embarked'] = df['Embarked'].fillna('S')\n",
    "# Cabin, Deck\n",
    "df['Deck'] = df['Cabin'].apply(lambda s: s[0] if pd.notnull(s) else 'M')\n",
    "df.loc[(df['Deck'] == 'T'), 'Deck'] = 'A'\n",
    "\n",
    "# Thanks to https://www.kaggle.com/erinsweet/simpledetect\n",
    "# Fare\n",
    "med_fare = df.groupby(['Pclass', 'Parch', 'SibSp']).Fare.median()[3][0][0]\n",
    "df['Fare'] = df['Fare'].fillna(med_fare)\n",
    "#Age\n",
    "df['Age'] = df.groupby(['Sex', 'Pclass', 'Title'])['Age'].apply(lambda x: x.fillna(x.median()))\n",
    "# Family_Size\n",
    "df['Family_Size'] = df['SibSp'] + df['Parch'] + 1\n",
    "\n",
    "# Thanks to https://www.kaggle.com/vbmokin/titanic-top-3-cluster-analysis\n",
    "cols_to_drop = ['Name','Ticket','Cabin']\n",
    "df = df.drop(cols_to_drop, axis=1)\n",
    "\n",
    "df.WomanOrBoySurvived = df.WomanOrBoySurvived.fillna(0)\n",
    "df.WomanOrBoyCount = df.WomanOrBoyCount.fillna(0)\n",
    "df.FamilySurvivedCount = df.FamilySurvivedCount.fillna(0)\n",
    "df.Alone = df.Alone.fillna(0)"
   ]
  },
  {
   "cell_type": "code",
   "execution_count": 5,
   "metadata": {
    "execution": {
     "iopub.execute_input": "2021-08-07T20:41:59.544913Z",
     "iopub.status.busy": "2021-08-07T20:41:59.544657Z",
     "iopub.status.idle": "2021-08-07T20:41:59.555242Z",
     "shell.execute_reply": "2021-08-07T20:41:59.554088Z",
     "shell.execute_reply.started": "2021-08-07T20:41:59.544869Z"
    }
   },
   "outputs": [],
   "source": [
    "target = df.Survived.loc[traindf.index]\n",
    "df = df.drop(['Survived'], axis=1)\n",
    "train, test = df.loc[traindf.index], df.loc[testdf.index]"
   ]
  },
  {
   "cell_type": "code",
   "execution_count": 6,
   "metadata": {
    "execution": {
     "iopub.execute_input": "2021-08-07T20:41:59.556776Z",
     "iopub.status.busy": "2021-08-07T20:41:59.556506Z",
     "iopub.status.idle": "2021-08-07T20:41:59.583829Z",
     "shell.execute_reply": "2021-08-07T20:41:59.583186Z",
     "shell.execute_reply.started": "2021-08-07T20:41:59.556734Z"
    }
   },
   "outputs": [
    {
     "data": {
      "text/html": [
       "<div>\n",
       "<style scoped>\n",
       "    .dataframe tbody tr th:only-of-type {\n",
       "        vertical-align: middle;\n",
       "    }\n",
       "\n",
       "    .dataframe tbody tr th {\n",
       "        vertical-align: top;\n",
       "    }\n",
       "\n",
       "    .dataframe thead th {\n",
       "        text-align: right;\n",
       "    }\n",
       "</style>\n",
       "<table border=\"1\" class=\"dataframe\">\n",
       "  <thead>\n",
       "    <tr style=\"text-align: right;\">\n",
       "      <th></th>\n",
       "      <th>Pclass</th>\n",
       "      <th>Sex</th>\n",
       "      <th>Age</th>\n",
       "      <th>SibSp</th>\n",
       "      <th>Parch</th>\n",
       "      <th>Fare</th>\n",
       "      <th>Embarked</th>\n",
       "      <th>Title</th>\n",
       "      <th>IsWomanOrBoy</th>\n",
       "      <th>LastName</th>\n",
       "      <th>WomanOrBoyCount</th>\n",
       "      <th>FamilySurvivedCount</th>\n",
       "      <th>WomanOrBoySurvived</th>\n",
       "      <th>Alone</th>\n",
       "      <th>Deck</th>\n",
       "      <th>Family_Size</th>\n",
       "    </tr>\n",
       "    <tr>\n",
       "      <th>PassengerId</th>\n",
       "      <th></th>\n",
       "      <th></th>\n",
       "      <th></th>\n",
       "      <th></th>\n",
       "      <th></th>\n",
       "      <th></th>\n",
       "      <th></th>\n",
       "      <th></th>\n",
       "      <th></th>\n",
       "      <th></th>\n",
       "      <th></th>\n",
       "      <th></th>\n",
       "      <th></th>\n",
       "      <th></th>\n",
       "      <th></th>\n",
       "      <th></th>\n",
       "    </tr>\n",
       "  </thead>\n",
       "  <tbody>\n",
       "    <tr>\n",
       "      <td>1</td>\n",
       "      <td>3</td>\n",
       "      <td>male</td>\n",
       "      <td>22.0</td>\n",
       "      <td>1</td>\n",
       "      <td>0</td>\n",
       "      <td>7.2500</td>\n",
       "      <td>S</td>\n",
       "      <td>Mr</td>\n",
       "      <td>False</td>\n",
       "      <td>Braund</td>\n",
       "      <td>0.0</td>\n",
       "      <td>0.0</td>\n",
       "      <td>0.0</td>\n",
       "      <td>True</td>\n",
       "      <td>M</td>\n",
       "      <td>2</td>\n",
       "    </tr>\n",
       "    <tr>\n",
       "      <td>2</td>\n",
       "      <td>1</td>\n",
       "      <td>female</td>\n",
       "      <td>38.0</td>\n",
       "      <td>1</td>\n",
       "      <td>0</td>\n",
       "      <td>71.2833</td>\n",
       "      <td>C</td>\n",
       "      <td>Mrs</td>\n",
       "      <td>True</td>\n",
       "      <td>Cumings</td>\n",
       "      <td>0.0</td>\n",
       "      <td>0.0</td>\n",
       "      <td>0.0</td>\n",
       "      <td>True</td>\n",
       "      <td>C</td>\n",
       "      <td>2</td>\n",
       "    </tr>\n",
       "    <tr>\n",
       "      <td>3</td>\n",
       "      <td>3</td>\n",
       "      <td>female</td>\n",
       "      <td>26.0</td>\n",
       "      <td>0</td>\n",
       "      <td>0</td>\n",
       "      <td>7.9250</td>\n",
       "      <td>S</td>\n",
       "      <td>Miss</td>\n",
       "      <td>True</td>\n",
       "      <td>Heikkinen</td>\n",
       "      <td>0.0</td>\n",
       "      <td>0.0</td>\n",
       "      <td>0.0</td>\n",
       "      <td>True</td>\n",
       "      <td>M</td>\n",
       "      <td>1</td>\n",
       "    </tr>\n",
       "  </tbody>\n",
       "</table>\n",
       "</div>"
      ],
      "text/plain": [
       "             Pclass     Sex   Age  SibSp  Parch     Fare Embarked Title  \\\n",
       "PassengerId                                                               \n",
       "1                 3    male  22.0      1      0   7.2500        S    Mr   \n",
       "2                 1  female  38.0      1      0  71.2833        C   Mrs   \n",
       "3                 3  female  26.0      0      0   7.9250        S  Miss   \n",
       "\n",
       "             IsWomanOrBoy   LastName  WomanOrBoyCount  FamilySurvivedCount  \\\n",
       "PassengerId                                                                  \n",
       "1                   False     Braund              0.0                  0.0   \n",
       "2                    True    Cumings              0.0                  0.0   \n",
       "3                    True  Heikkinen              0.0                  0.0   \n",
       "\n",
       "             WomanOrBoySurvived  Alone Deck  Family_Size  \n",
       "PassengerId                                               \n",
       "1                           0.0   True    M            2  \n",
       "2                           0.0   True    C            2  \n",
       "3                           0.0   True    M            1  "
      ]
     },
     "execution_count": 6,
     "metadata": {},
     "output_type": "execute_result"
    }
   ],
   "source": [
    "train.head(3)"
   ]
  },
  {
   "cell_type": "code",
   "execution_count": 7,
   "metadata": {
    "execution": {
     "iopub.execute_input": "2021-08-07T20:41:59.585178Z",
     "iopub.status.busy": "2021-08-07T20:41:59.584811Z",
     "iopub.status.idle": "2021-08-07T20:41:59.604925Z",
     "shell.execute_reply": "2021-08-07T20:41:59.604195Z",
     "shell.execute_reply.started": "2021-08-07T20:41:59.58514Z"
    }
   },
   "outputs": [
    {
     "data": {
      "text/html": [
       "<div>\n",
       "<style scoped>\n",
       "    .dataframe tbody tr th:only-of-type {\n",
       "        vertical-align: middle;\n",
       "    }\n",
       "\n",
       "    .dataframe tbody tr th {\n",
       "        vertical-align: top;\n",
       "    }\n",
       "\n",
       "    .dataframe thead th {\n",
       "        text-align: right;\n",
       "    }\n",
       "</style>\n",
       "<table border=\"1\" class=\"dataframe\">\n",
       "  <thead>\n",
       "    <tr style=\"text-align: right;\">\n",
       "      <th></th>\n",
       "      <th>Pclass</th>\n",
       "      <th>Sex</th>\n",
       "      <th>Age</th>\n",
       "      <th>SibSp</th>\n",
       "      <th>Parch</th>\n",
       "      <th>Fare</th>\n",
       "      <th>Embarked</th>\n",
       "      <th>Title</th>\n",
       "      <th>IsWomanOrBoy</th>\n",
       "      <th>LastName</th>\n",
       "      <th>WomanOrBoyCount</th>\n",
       "      <th>FamilySurvivedCount</th>\n",
       "      <th>WomanOrBoySurvived</th>\n",
       "      <th>Alone</th>\n",
       "      <th>Deck</th>\n",
       "      <th>Family_Size</th>\n",
       "    </tr>\n",
       "    <tr>\n",
       "      <th>PassengerId</th>\n",
       "      <th></th>\n",
       "      <th></th>\n",
       "      <th></th>\n",
       "      <th></th>\n",
       "      <th></th>\n",
       "      <th></th>\n",
       "      <th></th>\n",
       "      <th></th>\n",
       "      <th></th>\n",
       "      <th></th>\n",
       "      <th></th>\n",
       "      <th></th>\n",
       "      <th></th>\n",
       "      <th></th>\n",
       "      <th></th>\n",
       "      <th></th>\n",
       "    </tr>\n",
       "  </thead>\n",
       "  <tbody>\n",
       "    <tr>\n",
       "      <td>892</td>\n",
       "      <td>3</td>\n",
       "      <td>male</td>\n",
       "      <td>34.5</td>\n",
       "      <td>0</td>\n",
       "      <td>0</td>\n",
       "      <td>7.8292</td>\n",
       "      <td>Q</td>\n",
       "      <td>Mr</td>\n",
       "      <td>False</td>\n",
       "      <td>Kelly</td>\n",
       "      <td>0.0</td>\n",
       "      <td>0.0</td>\n",
       "      <td>0.0</td>\n",
       "      <td>True</td>\n",
       "      <td>M</td>\n",
       "      <td>1</td>\n",
       "    </tr>\n",
       "    <tr>\n",
       "      <td>893</td>\n",
       "      <td>3</td>\n",
       "      <td>female</td>\n",
       "      <td>47.0</td>\n",
       "      <td>1</td>\n",
       "      <td>0</td>\n",
       "      <td>7.0000</td>\n",
       "      <td>S</td>\n",
       "      <td>Mrs</td>\n",
       "      <td>True</td>\n",
       "      <td>Wilkes</td>\n",
       "      <td>0.0</td>\n",
       "      <td>0.0</td>\n",
       "      <td>0.0</td>\n",
       "      <td>True</td>\n",
       "      <td>M</td>\n",
       "      <td>2</td>\n",
       "    </tr>\n",
       "    <tr>\n",
       "      <td>894</td>\n",
       "      <td>2</td>\n",
       "      <td>male</td>\n",
       "      <td>62.0</td>\n",
       "      <td>0</td>\n",
       "      <td>0</td>\n",
       "      <td>9.6875</td>\n",
       "      <td>Q</td>\n",
       "      <td>Mr</td>\n",
       "      <td>False</td>\n",
       "      <td>Myles</td>\n",
       "      <td>0.0</td>\n",
       "      <td>0.0</td>\n",
       "      <td>0.0</td>\n",
       "      <td>True</td>\n",
       "      <td>M</td>\n",
       "      <td>1</td>\n",
       "    </tr>\n",
       "  </tbody>\n",
       "</table>\n",
       "</div>"
      ],
      "text/plain": [
       "             Pclass     Sex   Age  SibSp  Parch    Fare Embarked Title  \\\n",
       "PassengerId                                                              \n",
       "892               3    male  34.5      0      0  7.8292        Q    Mr   \n",
       "893               3  female  47.0      1      0  7.0000        S   Mrs   \n",
       "894               2    male  62.0      0      0  9.6875        Q    Mr   \n",
       "\n",
       "             IsWomanOrBoy LastName  WomanOrBoyCount  FamilySurvivedCount  \\\n",
       "PassengerId                                                                \n",
       "892                 False    Kelly              0.0                  0.0   \n",
       "893                  True   Wilkes              0.0                  0.0   \n",
       "894                 False    Myles              0.0                  0.0   \n",
       "\n",
       "             WomanOrBoySurvived  Alone Deck  Family_Size  \n",
       "PassengerId                                               \n",
       "892                         0.0   True    M            1  \n",
       "893                         0.0   True    M            2  \n",
       "894                         0.0   True    M            1  "
      ]
     },
     "execution_count": 7,
     "metadata": {},
     "output_type": "execute_result"
    }
   ],
   "source": [
    "test.head(3)"
   ]
  },
  {
   "cell_type": "code",
   "execution_count": 8,
   "metadata": {
    "execution": {
     "iopub.execute_input": "2021-08-07T20:41:59.608138Z",
     "iopub.status.busy": "2021-08-07T20:41:59.607743Z",
     "iopub.status.idle": "2021-08-07T20:41:59.613858Z",
     "shell.execute_reply": "2021-08-07T20:41:59.613238Z",
     "shell.execute_reply.started": "2021-08-07T20:41:59.60808Z"
    }
   },
   "outputs": [
    {
     "data": {
      "text/plain": [
       "PassengerId\n",
       "1    0.0\n",
       "2    1.0\n",
       "3    1.0\n",
       "Name: Survived, dtype: float64"
      ]
     },
     "execution_count": 8,
     "metadata": {},
     "output_type": "execute_result"
    }
   ],
   "source": [
    "target[:3]"
   ]
  },
  {
   "cell_type": "markdown",
   "metadata": {},
   "source": [
    "All models were tuned for a complete set of 16 features, solutions were calculated, that were uploaded to the competition, which made it possible to determine the error LB_all.\n",
    "After which the decision was taken into account\n",
    "* https://www.kaggle.com/mauricef/titanic\n",
    "* https://www.kaggle.com/vbmokin/titanic-top-3-one-line-of-the-prediction-code\n",
    "\n",
    "calculated on only three features ('WomanOrBoySurvived', 'Alone', 'Sex') - an error LB is defined for this option."
   ]
  },
  {
   "cell_type": "markdown",
   "metadata": {},
   "source": [
    "## 4. Preparing to modeling <a class=\"anchor\" id=\"4\"></a>\n",
    "\n",
    "[Back to Table of Contents](#0.1)"
   ]
  },
  {
   "cell_type": "markdown",
   "metadata": {},
   "source": [
    "### 4.1 Encoding categorical features <a class=\"anchor\" id=\"4.1\"></a>"
   ]
  },
  {
   "cell_type": "code",
   "execution_count": 9,
   "metadata": {
    "execution": {
     "iopub.execute_input": "2021-08-07T20:41:59.616419Z",
     "iopub.status.busy": "2021-08-07T20:41:59.616044Z",
     "iopub.status.idle": "2021-08-07T20:41:59.630951Z",
     "shell.execute_reply": "2021-08-07T20:41:59.630194Z",
     "shell.execute_reply.started": "2021-08-07T20:41:59.61638Z"
    }
   },
   "outputs": [
    {
     "data": {
      "text/plain": [
       "['Sex', 'Embarked', 'Title', 'IsWomanOrBoy', 'LastName', 'Alone', 'Deck']"
      ]
     },
     "execution_count": 9,
     "metadata": {},
     "output_type": "execute_result"
    }
   ],
   "source": [
    "# Determination categorical features\n",
    "numerics = ['int8', 'int16', 'int32', 'int64', 'float16', 'float32', 'float64']\n",
    "categorical_columns = []\n",
    "features = train.columns.values.tolist()\n",
    "for col in features:\n",
    "    if train[col].dtype in numerics: continue\n",
    "    categorical_columns.append(col)\n",
    "categorical_columns"
   ]
  },
  {
   "cell_type": "code",
   "execution_count": 10,
   "metadata": {
    "execution": {
     "iopub.execute_input": "2021-08-07T20:41:59.63254Z",
     "iopub.status.busy": "2021-08-07T20:41:59.632288Z",
     "iopub.status.idle": "2021-08-07T20:41:59.680279Z",
     "shell.execute_reply": "2021-08-07T20:41:59.679467Z",
     "shell.execute_reply.started": "2021-08-07T20:41:59.632498Z"
    }
   },
   "outputs": [],
   "source": [
    "# Encoding categorical features\n",
    "for col in categorical_columns:\n",
    "    if col in train.columns:\n",
    "        le = LabelEncoder()\n",
    "        le.fit(list(train[col].astype(str).values) + list(test[col].astype(str).values))\n",
    "        train[col] = le.transform(list(train[col].astype(str).values))\n",
    "        test[col] = le.transform(list(test[col].astype(str).values))   "
   ]
  },
  {
   "cell_type": "code",
   "execution_count": 11,
   "metadata": {
    "execution": {
     "iopub.execute_input": "2021-08-07T20:41:59.682739Z",
     "iopub.status.busy": "2021-08-07T20:41:59.682233Z",
     "iopub.status.idle": "2021-08-07T20:41:59.696305Z",
     "shell.execute_reply": "2021-08-07T20:41:59.695189Z",
     "shell.execute_reply.started": "2021-08-07T20:41:59.682679Z"
    }
   },
   "outputs": [
    {
     "name": "stdout",
     "output_type": "stream",
     "text": [
      "<class 'pandas.core.frame.DataFrame'>\n",
      "Int64Index: 891 entries, 1 to 891\n",
      "Data columns (total 16 columns):\n",
      "Pclass                 891 non-null int64\n",
      "Sex                    891 non-null int64\n",
      "Age                    891 non-null float64\n",
      "SibSp                  891 non-null int64\n",
      "Parch                  891 non-null int64\n",
      "Fare                   891 non-null float64\n",
      "Embarked               891 non-null int64\n",
      "Title                  891 non-null int64\n",
      "IsWomanOrBoy           891 non-null int64\n",
      "LastName               891 non-null int64\n",
      "WomanOrBoyCount        891 non-null float64\n",
      "FamilySurvivedCount    891 non-null float64\n",
      "WomanOrBoySurvived     891 non-null float64\n",
      "Alone                  891 non-null int64\n",
      "Deck                   891 non-null int64\n",
      "Family_Size            891 non-null int64\n",
      "dtypes: float64(5), int64(11)\n",
      "memory usage: 118.3 KB\n"
     ]
    }
   ],
   "source": [
    "train.info()"
   ]
  },
  {
   "cell_type": "code",
   "execution_count": 12,
   "metadata": {
    "execution": {
     "iopub.execute_input": "2021-08-07T20:41:59.698312Z",
     "iopub.status.busy": "2021-08-07T20:41:59.697891Z",
     "iopub.status.idle": "2021-08-07T20:41:59.711423Z",
     "shell.execute_reply": "2021-08-07T20:41:59.710441Z",
     "shell.execute_reply.started": "2021-08-07T20:41:59.698232Z"
    }
   },
   "outputs": [
    {
     "name": "stdout",
     "output_type": "stream",
     "text": [
      "<class 'pandas.core.frame.DataFrame'>\n",
      "Int64Index: 418 entries, 892 to 1309\n",
      "Data columns (total 16 columns):\n",
      "Pclass                 418 non-null int64\n",
      "Sex                    418 non-null int64\n",
      "Age                    418 non-null float64\n",
      "SibSp                  418 non-null int64\n",
      "Parch                  418 non-null int64\n",
      "Fare                   418 non-null float64\n",
      "Embarked               418 non-null int64\n",
      "Title                  418 non-null int64\n",
      "IsWomanOrBoy           418 non-null int64\n",
      "LastName               418 non-null int64\n",
      "WomanOrBoyCount        418 non-null float64\n",
      "FamilySurvivedCount    418 non-null float64\n",
      "WomanOrBoySurvived     418 non-null float64\n",
      "Alone                  418 non-null int64\n",
      "Deck                   418 non-null int64\n",
      "Family_Size            418 non-null int64\n",
      "dtypes: float64(5), int64(11)\n",
      "memory usage: 55.5 KB\n"
     ]
    }
   ],
   "source": [
    "test.info()"
   ]
  },
  {
   "cell_type": "markdown",
   "metadata": {},
   "source": [
    "### 4.2 Creation of training and validation sets <a class=\"anchor\" id=\"4.2\"></a>\n",
    "\n",
    "[Back to Table of Contents](#0.1)"
   ]
  },
  {
   "cell_type": "code",
   "execution_count": 13,
   "metadata": {
    "execution": {
     "iopub.execute_input": "2021-08-07T20:41:59.713554Z",
     "iopub.status.busy": "2021-08-07T20:41:59.713005Z",
     "iopub.status.idle": "2021-08-07T20:41:59.722648Z",
     "shell.execute_reply": "2021-08-07T20:41:59.721656Z",
     "shell.execute_reply.started": "2021-08-07T20:41:59.713491Z"
    }
   },
   "outputs": [],
   "source": [
    "#%% split training set to validation set\n",
    "SEED = 100\n",
    "Xtrain, Xval, Ztrain, Zval = train_test_split(train, target, test_size=0.3, random_state=SEED)"
   ]
  },
  {
   "cell_type": "markdown",
   "metadata": {},
   "source": [
    "## 5. Tuning models and test for all 16 features <a class=\"anchor\" id=\"5\"></a>\n",
    "\n",
    "[Back to Table of Contents](#0.1)"
   ]
  },
  {
   "cell_type": "markdown",
   "metadata": {},
   "source": [
    "Thanks to https://www.kaggle.com/startupsci/titanic-data-science-solutions\n",
    "\n",
    "Now we are ready to train a model and predict the required solution. There are 60+ predictive modelling algorithms to choose from. We must understand the type of problem and solution requirement to narrow down to a select few models which we can evaluate. Our problem is a classification and regression problem. We want to identify relationship between output (Survived or not) with other variables or features (Gender, Age, Port...). We are also perfoming a category of machine learning which is called supervised learning as we are training our model with a given dataset. With these two criteria - Supervised Learning plus Classification and Regression, we can narrow down our choice of models to a few. These include:\n",
    "\n",
    "- Logistic Regression\n",
    "- Support Vector Machines and Linear SVC\n",
    "- KNN or k-Nearest Neighbors\n",
    "- Naive Bayes Classifier or Gaussian Naive Bayes\n",
    "- Stochastic Gradient Descent, GradientBoostingClassifier, RidgeClassifier, BaggingClassifier\n",
    "- Decision Tree Classifier, Random Forest, XGB Classifier, LGBM Classifier, ExtraTreesClassifier\n",
    "- Perceptron, Neural Networks with different archictures (Deep Learning)\n",
    "- VotingClassifier (hard or soft voting)"
   ]
  },
  {
   "cell_type": "markdown",
   "metadata": {},
   "source": [
    "### 5.1 Logistic Regression <a class=\"anchor\" id=\"5.1\"></a>\n",
    "\n",
    "[Back to Table of Contents](#0.1)"
   ]
  },
  {
   "cell_type": "markdown",
   "metadata": {},
   "source": [
    "Thanks to https://www.kaggle.com/startupsci/titanic-data-science-solutions"
   ]
  },
  {
   "cell_type": "markdown",
   "metadata": {},
   "source": [
    "**Logistic Regression** is a useful model to run early in the workflow. Logistic regression measures the relationship between the categorical dependent variable (feature) and one or more independent variables (features) by estimating probabilities using a logistic function, which is the cumulative logistic distribution. Reference [Wikipedia](https://en.wikipedia.org/wiki/Logistic_regression).\n",
    "\n",
    "Note the confidence score generated by the model based on our training dataset."
   ]
  },
  {
   "cell_type": "code",
   "execution_count": 14,
   "metadata": {
    "execution": {
     "iopub.execute_input": "2021-08-07T20:41:59.725011Z",
     "iopub.status.busy": "2021-08-07T20:41:59.724733Z",
     "iopub.status.idle": "2021-08-07T20:41:59.752173Z",
     "shell.execute_reply": "2021-08-07T20:41:59.750959Z",
     "shell.execute_reply.started": "2021-08-07T20:41:59.724963Z"
    }
   },
   "outputs": [
    {
     "data": {
      "text/plain": [
       "93.6"
      ]
     },
     "execution_count": 14,
     "metadata": {},
     "output_type": "execute_result"
    }
   ],
   "source": [
    "# Logistic Regression\n",
    "\n",
    "logreg = LogisticRegression()\n",
    "logreg.fit(train, target)\n",
    "Y_pred = logreg.predict(test).astype(int)\n",
    "acc_log = round(logreg.score(train, target) * 100, 2)\n",
    "acc_log"
   ]
  },
  {
   "cell_type": "code",
   "execution_count": 15,
   "metadata": {
    "execution": {
     "iopub.execute_input": "2021-08-07T20:41:59.754165Z",
     "iopub.status.busy": "2021-08-07T20:41:59.75366Z",
     "iopub.status.idle": "2021-08-07T20:41:59.760266Z",
     "shell.execute_reply": "2021-08-07T20:41:59.759208Z",
     "shell.execute_reply.started": "2021-08-07T20:41:59.753895Z"
    }
   },
   "outputs": [],
   "source": [
    "submission = pd.DataFrame({\"PassengerId\": submission[\"PassengerId\"],\"Survived\": Y_pred})\n",
    "#submission.to_csv('output/submission_logreg.csv', index=False)\n",
    "LB_log_all = 0.79904  # old version"
   ]
  },
  {
   "cell_type": "markdown",
   "metadata": {},
   "source": [
    "We can use Logistic Regression to validate our assumptions and decisions for feature creating and completing goals. This can be done by calculating the coefficient of the features in the decision function.\n",
    "\n",
    "Positive coefficients increase the log-odds of the response (and thus increase the probability), and negative coefficients decrease the log-odds of the response (and thus decrease the probability).\n",
    "\n",
    "- Alone is highest positivie coefficient, implying as the Alone value increases (0 to 1), the probability of Survived=1 increases the most.\n",
    "- Inversely as Sex increases (male: 0 to female: 1), probability of Survived=1 decreases the most.\n",
    "- This way Age has second highest negative correlation with Survived.\n",
    "- So is LastName as second highest positive correlation."
   ]
  },
  {
   "cell_type": "code",
   "execution_count": 16,
   "metadata": {
    "execution": {
     "iopub.execute_input": "2021-08-07T20:41:59.762526Z",
     "iopub.status.busy": "2021-08-07T20:41:59.761957Z",
     "iopub.status.idle": "2021-08-07T20:41:59.784167Z",
     "shell.execute_reply": "2021-08-07T20:41:59.783083Z",
     "shell.execute_reply.started": "2021-08-07T20:41:59.762466Z"
    }
   },
   "outputs": [
    {
     "data": {
      "text/html": [
       "<div>\n",
       "<style scoped>\n",
       "    .dataframe tbody tr th:only-of-type {\n",
       "        vertical-align: middle;\n",
       "    }\n",
       "\n",
       "    .dataframe tbody tr th {\n",
       "        vertical-align: top;\n",
       "    }\n",
       "\n",
       "    .dataframe thead th {\n",
       "        text-align: right;\n",
       "    }\n",
       "</style>\n",
       "<table border=\"1\" class=\"dataframe\">\n",
       "  <thead>\n",
       "    <tr style=\"text-align: right;\">\n",
       "      <th></th>\n",
       "      <th>Feature</th>\n",
       "      <th>Correlation</th>\n",
       "    </tr>\n",
       "  </thead>\n",
       "  <tbody>\n",
       "    <tr>\n",
       "      <td>12</td>\n",
       "      <td>Alone</td>\n",
       "      <td>4.806590</td>\n",
       "    </tr>\n",
       "    <tr>\n",
       "      <td>8</td>\n",
       "      <td>LastName</td>\n",
       "      <td>3.836475</td>\n",
       "    </tr>\n",
       "    <tr>\n",
       "      <td>11</td>\n",
       "      <td>WomanOrBoySurvived</td>\n",
       "      <td>1.434728</td>\n",
       "    </tr>\n",
       "    <tr>\n",
       "      <td>7</td>\n",
       "      <td>IsWomanOrBoy</td>\n",
       "      <td>0.168430</td>\n",
       "    </tr>\n",
       "    <tr>\n",
       "      <td>14</td>\n",
       "      <td>Family_Size</td>\n",
       "      <td>0.050806</td>\n",
       "    </tr>\n",
       "    <tr>\n",
       "      <td>5</td>\n",
       "      <td>Embarked</td>\n",
       "      <td>0.001786</td>\n",
       "    </tr>\n",
       "    <tr>\n",
       "      <td>9</td>\n",
       "      <td>WomanOrBoyCount</td>\n",
       "      <td>0.000120</td>\n",
       "    </tr>\n",
       "    <tr>\n",
       "      <td>2</td>\n",
       "      <td>SibSp</td>\n",
       "      <td>-0.027352</td>\n",
       "    </tr>\n",
       "    <tr>\n",
       "      <td>6</td>\n",
       "      <td>Title</td>\n",
       "      <td>-0.185026</td>\n",
       "    </tr>\n",
       "    <tr>\n",
       "      <td>3</td>\n",
       "      <td>Parch</td>\n",
       "      <td>-0.203336</td>\n",
       "    </tr>\n",
       "    <tr>\n",
       "      <td>4</td>\n",
       "      <td>Fare</td>\n",
       "      <td>-0.260847</td>\n",
       "    </tr>\n",
       "    <tr>\n",
       "      <td>10</td>\n",
       "      <td>FamilySurvivedCount</td>\n",
       "      <td>-0.593419</td>\n",
       "    </tr>\n",
       "    <tr>\n",
       "      <td>13</td>\n",
       "      <td>Deck</td>\n",
       "      <td>-0.838817</td>\n",
       "    </tr>\n",
       "    <tr>\n",
       "      <td>1</td>\n",
       "      <td>Age</td>\n",
       "      <td>-1.169061</td>\n",
       "    </tr>\n",
       "    <tr>\n",
       "      <td>0</td>\n",
       "      <td>Sex</td>\n",
       "      <td>-1.300208</td>\n",
       "    </tr>\n",
       "  </tbody>\n",
       "</table>\n",
       "</div>"
      ],
      "text/plain": [
       "                Feature  Correlation\n",
       "12                Alone     4.806590\n",
       "8              LastName     3.836475\n",
       "11   WomanOrBoySurvived     1.434728\n",
       "7          IsWomanOrBoy     0.168430\n",
       "14          Family_Size     0.050806\n",
       "5              Embarked     0.001786\n",
       "9       WomanOrBoyCount     0.000120\n",
       "2                 SibSp    -0.027352\n",
       "6                 Title    -0.185026\n",
       "3                 Parch    -0.203336\n",
       "4                  Fare    -0.260847\n",
       "10  FamilySurvivedCount    -0.593419\n",
       "13                 Deck    -0.838817\n",
       "1                   Age    -1.169061\n",
       "0                   Sex    -1.300208"
      ]
     },
     "execution_count": 16,
     "metadata": {},
     "output_type": "execute_result"
    }
   ],
   "source": [
    "coeff_df = pd.DataFrame(train.columns.delete(0))\n",
    "coeff_df.columns = ['Feature']\n",
    "coeff_df[\"Correlation\"] = pd.Series(logreg.coef_[0])\n",
    "\n",
    "coeff_df.sort_values(by='Correlation', ascending=False)"
   ]
  },
  {
   "cell_type": "markdown",
   "metadata": {},
   "source": [
    "### 5.2 Support Vector Machines <a class=\"anchor\" id=\"5.2\"></a>\n",
    "\n",
    "[Back to Table of Contents](#0.1)"
   ]
  },
  {
   "cell_type": "markdown",
   "metadata": {},
   "source": [
    "Thanks to https://www.kaggle.com/startupsci/titanic-data-science-solutions"
   ]
  },
  {
   "cell_type": "markdown",
   "metadata": {},
   "source": [
    "**Support Vector Machines** are supervised learning models with associated learning algorithms that analyze data used for classification and regression analysis. Given a set of training samples, each marked as belonging to one or the other of two categories, an SVM training algorithm builds a model that assigns new test samples to one category or the other, making it a non-probabilistic binary linear classifier. Reference [Wikipedia](https://en.wikipedia.org/wiki/Support_vector_machine)."
   ]
  },
  {
   "cell_type": "code",
   "execution_count": 17,
   "metadata": {
    "execution": {
     "iopub.execute_input": "2021-08-07T20:41:59.786783Z",
     "iopub.status.busy": "2021-08-07T20:41:59.7862Z",
     "iopub.status.idle": "2021-08-07T20:41:59.896231Z",
     "shell.execute_reply": "2021-08-07T20:41:59.895273Z",
     "shell.execute_reply.started": "2021-08-07T20:41:59.78672Z"
    }
   },
   "outputs": [
    {
     "data": {
      "text/plain": [
       "98.99"
      ]
     },
     "execution_count": 17,
     "metadata": {},
     "output_type": "execute_result"
    }
   ],
   "source": [
    "# Support Vector Machines\n",
    "\n",
    "svc = SVC()\n",
    "svc.fit(train, target)\n",
    "Y_pred = svc.predict(test).astype(int)\n",
    "acc_svc = round(svc.score(train, target) * 100, 2)\n",
    "acc_svc"
   ]
  },
  {
   "cell_type": "code",
   "execution_count": 18,
   "metadata": {
    "execution": {
     "iopub.execute_input": "2021-08-07T20:41:59.89821Z",
     "iopub.status.busy": "2021-08-07T20:41:59.897685Z",
     "iopub.status.idle": "2021-08-07T20:41:59.904885Z",
     "shell.execute_reply": "2021-08-07T20:41:59.90413Z",
     "shell.execute_reply.started": "2021-08-07T20:41:59.898149Z"
    }
   },
   "outputs": [],
   "source": [
    "submission = pd.DataFrame({\"PassengerId\": submission[\"PassengerId\"],\"Survived\": Y_pred})\n",
    "#submission.to_csv('output/submission_svm.csv', index=False)\n",
    "LB_svc_all = 0.62200  # old version"
   ]
  },
  {
   "cell_type": "markdown",
   "metadata": {},
   "source": [
    "### 5.3 Linear SVC <a class=\"anchor\" id=\"5.3\"></a>\n",
    "\n",
    "[Back to Table of Contents](#0.1)"
   ]
  },
  {
   "cell_type": "markdown",
   "metadata": {},
   "source": [
    "Thanks to https://www.kaggle.com/startupsci/titanic-data-science-solutions"
   ]
  },
  {
   "cell_type": "markdown",
   "metadata": {},
   "source": [
    "**SVC** is a similar to SVM method. Its also builds on kernel functions but is appropriate for unsupervised learning. Reference [Wikipedia](https://en.wikipedia.org/wiki/Support-vector_machine#Support-vector_clustering_(SVC)."
   ]
  },
  {
   "cell_type": "code",
   "execution_count": 19,
   "metadata": {
    "execution": {
     "iopub.execute_input": "2021-08-07T20:41:59.908191Z",
     "iopub.status.busy": "2021-08-07T20:41:59.907541Z",
     "iopub.status.idle": "2021-08-07T20:41:59.932445Z",
     "shell.execute_reply": "2021-08-07T20:41:59.931626Z",
     "shell.execute_reply.started": "2021-08-07T20:41:59.908125Z"
    }
   },
   "outputs": [
    {
     "data": {
      "text/plain": [
       "94.61"
      ]
     },
     "execution_count": 19,
     "metadata": {},
     "output_type": "execute_result"
    }
   ],
   "source": [
    "# Linear SVC\n",
    "\n",
    "linear_svc = LinearSVC(dual=False)  # dual=False when n_samples > n_features.\n",
    "linear_svc.fit(train, target)\n",
    "Y_pred = linear_svc.predict(test).astype(int)\n",
    "acc_linear_svc = round(linear_svc.score(train, target) * 100, 2)\n",
    "acc_linear_svc"
   ]
  },
  {
   "cell_type": "code",
   "execution_count": 20,
   "metadata": {
    "execution": {
     "iopub.execute_input": "2021-08-07T20:41:59.934263Z",
     "iopub.status.busy": "2021-08-07T20:41:59.933965Z",
     "iopub.status.idle": "2021-08-07T20:41:59.940447Z",
     "shell.execute_reply": "2021-08-07T20:41:59.939459Z",
     "shell.execute_reply.started": "2021-08-07T20:41:59.934218Z"
    }
   },
   "outputs": [],
   "source": [
    "submission = pd.DataFrame({\"PassengerId\": submission[\"PassengerId\"],\"Survived\": Y_pred})\n",
    "#submission.to_csv('output/submission_linear_svc.csv', index=False)\n",
    "LB_linear_svc_all = 0.81339  # old version"
   ]
  },
  {
   "cell_type": "markdown",
   "metadata": {},
   "source": [
    "### 5.4 k-Nearest Neighbors algorithm <a class=\"anchor\" id=\"5.4\"></a>\n",
    "\n",
    "[Back to Table of Contents](#0.1)"
   ]
  },
  {
   "cell_type": "markdown",
   "metadata": {},
   "source": [
    "Thanks to https://www.kaggle.com/startupsci/titanic-data-science-solutions"
   ]
  },
  {
   "cell_type": "markdown",
   "metadata": {},
   "source": [
    "In pattern recognition, the **k-Nearest Neighbors algorithm** (or k-NN for short) is a non-parametric method used for classification and regression. A sample is classified by a majority vote of its neighbors, with the sample being assigned to the class most common among its k nearest neighbors (k is a positive integer, typically small). Reference [Wikipedia](https://en.wikipedia.org/wiki/K-nearest_neighbors_algorithm)."
   ]
  },
  {
   "cell_type": "code",
   "execution_count": 21,
   "metadata": {
    "execution": {
     "iopub.execute_input": "2021-08-07T20:41:59.942436Z",
     "iopub.status.busy": "2021-08-07T20:41:59.942042Z",
     "iopub.status.idle": "2021-08-07T20:42:00.206989Z",
     "shell.execute_reply": "2021-08-07T20:42:00.205961Z",
     "shell.execute_reply.started": "2021-08-07T20:41:59.942368Z"
    }
   },
   "outputs": [
    {
     "name": "stdout",
     "output_type": "stream",
     "text": [
      "76.32 {'n_neighbors': 4}\n"
     ]
    }
   ],
   "source": [
    "# k-Nearest Neighbors algorithm\n",
    "\n",
    "knn = GridSearchCV(estimator=KNeighborsClassifier(), param_grid={'n_neighbors': [2, 3, 4]}, cv=cv_number).fit(train, target)\n",
    "Y_pred = knn.predict(test).astype(int)\n",
    "acc_knn = round(knn.score(train, target) * 100, 2)\n",
    "print(acc_knn, knn.best_params_)"
   ]
  },
  {
   "cell_type": "code",
   "execution_count": 22,
   "metadata": {
    "execution": {
     "iopub.execute_input": "2021-08-07T20:42:00.211314Z",
     "iopub.status.busy": "2021-08-07T20:42:00.210994Z",
     "iopub.status.idle": "2021-08-07T20:42:00.216471Z",
     "shell.execute_reply": "2021-08-07T20:42:00.215698Z",
     "shell.execute_reply.started": "2021-08-07T20:42:00.211263Z"
    }
   },
   "outputs": [],
   "source": [
    "submission = pd.DataFrame({\"PassengerId\": submission[\"PassengerId\"],\"Survived\": Y_pred})\n",
    "#submission.to_csv('output/submission_knn.csv', index=False)\n",
    "LB_knn_all = 0.62679  # old version"
   ]
  },
  {
   "cell_type": "markdown",
   "metadata": {},
   "source": [
    "### 5.5 Naive Bayes <a class=\"anchor\" id=\"5.5\"></a>\n",
    "\n",
    "[Back to Table of Contents](#0.1)"
   ]
  },
  {
   "cell_type": "markdown",
   "metadata": {},
   "source": [
    "Thanks to https://www.kaggle.com/startupsci/titanic-data-science-solutions"
   ]
  },
  {
   "cell_type": "markdown",
   "metadata": {},
   "source": [
    "In machine learning, **Naive Bayes classifiers** are a family of simple probabilistic classifiers based on applying Bayes' theorem with strong (naive) independence assumptions between the features. Naive Bayes classifiers are highly scalable, requiring a number of parameters linear in the number of variables (features) in a learning problem. Reference [Wikipedia](https://en.wikipedia.org/wiki/Naive_Bayes_classifier)."
   ]
  },
  {
   "cell_type": "code",
   "execution_count": 23,
   "metadata": {
    "execution": {
     "iopub.execute_input": "2021-08-07T20:42:00.217598Z",
     "iopub.status.busy": "2021-08-07T20:42:00.217379Z",
     "iopub.status.idle": "2021-08-07T20:42:00.238145Z",
     "shell.execute_reply": "2021-08-07T20:42:00.236976Z",
     "shell.execute_reply.started": "2021-08-07T20:42:00.217564Z"
    }
   },
   "outputs": [
    {
     "data": {
      "text/plain": [
       "86.53"
      ]
     },
     "execution_count": 23,
     "metadata": {},
     "output_type": "execute_result"
    }
   ],
   "source": [
    "# Gaussian Naive Bayes\n",
    "\n",
    "gaussian = GaussianNB()\n",
    "gaussian.fit(train, target)\n",
    "Y_pred = gaussian.predict(test).astype(int)\n",
    "acc_gaussian = round(gaussian.score(train, target) * 100, 2)\n",
    "acc_gaussian"
   ]
  },
  {
   "cell_type": "code",
   "execution_count": 24,
   "metadata": {
    "execution": {
     "iopub.execute_input": "2021-08-07T20:42:00.240456Z",
     "iopub.status.busy": "2021-08-07T20:42:00.240075Z",
     "iopub.status.idle": "2021-08-07T20:42:00.247525Z",
     "shell.execute_reply": "2021-08-07T20:42:00.246377Z",
     "shell.execute_reply.started": "2021-08-07T20:42:00.240388Z"
    }
   },
   "outputs": [],
   "source": [
    "submission = pd.DataFrame({\"PassengerId\": submission[\"PassengerId\"],\"Survived\": Y_pred})\n",
    "#submission.to_csv('output/submission_GaussianNB.csv', index=False)\n",
    "LB_gaussian_all = 0.73205  # old version"
   ]
  },
  {
   "cell_type": "markdown",
   "metadata": {},
   "source": [
    "### 5.6 Perceptron <a class=\"anchor\" id=\"5.6\"></a>\n",
    "\n",
    "[Back to Table of Contents](#0.1)"
   ]
  },
  {
   "cell_type": "markdown",
   "metadata": {},
   "source": [
    "Thanks to https://www.kaggle.com/startupsci/titanic-data-science-solutions"
   ]
  },
  {
   "cell_type": "markdown",
   "metadata": {},
   "source": [
    "The **Perceptron** is an algorithm for supervised learning of binary classifiers (functions that can decide whether an input, represented by a vector of numbers, belongs to some specific class or not). It is a type of linear classifier, i.e. a classification algorithm that makes its predictions based on a linear predictor function combining a set of weights with the feature vector. The algorithm allows for online learning, in that it processes elements in the training set one at a time. Reference [Wikipedia](https://en.wikipedia.org/wiki/Perceptron)."
   ]
  },
  {
   "cell_type": "code",
   "execution_count": 25,
   "metadata": {
    "execution": {
     "iopub.execute_input": "2021-08-07T20:42:00.250107Z",
     "iopub.status.busy": "2021-08-07T20:42:00.249573Z",
     "iopub.status.idle": "2021-08-07T20:42:00.267766Z",
     "shell.execute_reply": "2021-08-07T20:42:00.267025Z",
     "shell.execute_reply.started": "2021-08-07T20:42:00.249943Z"
    }
   },
   "outputs": [
    {
     "data": {
      "text/plain": [
       "50.73"
      ]
     },
     "execution_count": 25,
     "metadata": {},
     "output_type": "execute_result"
    }
   ],
   "source": [
    "# Perceptron\n",
    "\n",
    "perceptron = Perceptron()\n",
    "perceptron.fit(train, target)\n",
    "Y_pred = perceptron.predict(test).astype(int)\n",
    "acc_perceptron = round(perceptron.score(train, target) * 100, 2)\n",
    "acc_perceptron"
   ]
  },
  {
   "cell_type": "code",
   "execution_count": 26,
   "metadata": {
    "execution": {
     "iopub.execute_input": "2021-08-07T20:42:00.268911Z",
     "iopub.status.busy": "2021-08-07T20:42:00.268692Z",
     "iopub.status.idle": "2021-08-07T20:42:00.274333Z",
     "shell.execute_reply": "2021-08-07T20:42:00.273653Z",
     "shell.execute_reply.started": "2021-08-07T20:42:00.268878Z"
    }
   },
   "outputs": [],
   "source": [
    "submission = pd.DataFrame({\"PassengerId\": submission[\"PassengerId\"],\"Survived\": Y_pred})\n",
    "#submission.to_csv('output/submission_perceptron.csv', index=False)\n",
    "LB_perceptron_all = 0.46889  # old version"
   ]
  },
  {
   "cell_type": "markdown",
   "metadata": {},
   "source": [
    "### 5.7 Stochastic Gradient Descent <a class=\"anchor\" id=\"5.7\"></a>\n",
    "\n",
    "[Back to Table of Contents](#0.1)"
   ]
  },
  {
   "cell_type": "markdown",
   "metadata": {},
   "source": [
    "Thanks to https://www.kaggle.com/startupsci/titanic-data-science-solutions"
   ]
  },
  {
   "cell_type": "markdown",
   "metadata": {},
   "source": [
    "**Stochastic gradient descent** (often abbreviated **SGD**) is an iterative method for optimizing an objective function with suitable smoothness properties (e.g. differentiable or subdifferentiable). It can be regarded as a stochastic approximation of gradient descent optimization, since it replaces the actual gradient (calculated from the entire data set) by an estimate thereof (calculated from a randomly selected subset of the data). Especially in big data applications this reduces the computational burden, achieving faster iterations in trade for a slightly lower convergence rate. Reference [Wikipedia](https://en.wikipedia.org/wiki/Stochastic_gradient_descent)."
   ]
  },
  {
   "cell_type": "code",
   "execution_count": 27,
   "metadata": {
    "execution": {
     "iopub.execute_input": "2021-08-07T20:42:00.275683Z",
     "iopub.status.busy": "2021-08-07T20:42:00.275324Z",
     "iopub.status.idle": "2021-08-07T20:42:00.297004Z",
     "shell.execute_reply": "2021-08-07T20:42:00.296293Z",
     "shell.execute_reply.started": "2021-08-07T20:42:00.275644Z"
    }
   },
   "outputs": [
    {
     "data": {
      "text/plain": [
       "72.17"
      ]
     },
     "execution_count": 27,
     "metadata": {},
     "output_type": "execute_result"
    }
   ],
   "source": [
    "# Stochastic Gradient Descent\n",
    "\n",
    "sgd = SGDClassifier()\n",
    "sgd.fit(train, target)\n",
    "Y_pred = sgd.predict(test).astype(int)\n",
    "acc_sgd = round(sgd.score(train, target) * 100, 2)\n",
    "acc_sgd"
   ]
  },
  {
   "cell_type": "code",
   "execution_count": 28,
   "metadata": {
    "execution": {
     "iopub.execute_input": "2021-08-07T20:42:00.298425Z",
     "iopub.status.busy": "2021-08-07T20:42:00.298062Z",
     "iopub.status.idle": "2021-08-07T20:42:00.303507Z",
     "shell.execute_reply": "2021-08-07T20:42:00.302546Z",
     "shell.execute_reply.started": "2021-08-07T20:42:00.298387Z"
    }
   },
   "outputs": [],
   "source": [
    "submission = pd.DataFrame({\"PassengerId\": submission[\"PassengerId\"],\"Survived\": Y_pred})\n",
    "#submission.to_csv('output/submission_sgd.csv', index=False)\n",
    "LB_sgd_all = 0.64593  # old version"
   ]
  },
  {
   "cell_type": "markdown",
   "metadata": {},
   "source": [
    "### 5.8 Decision Tree Classifier <a class=\"anchor\" id=\"5.8\"></a>\n",
    "\n",
    "[Back to Table of Contents](#0.1)"
   ]
  },
  {
   "cell_type": "markdown",
   "metadata": {},
   "source": [
    "Thanks to https://www.kaggle.com/startupsci/titanic-data-science-solutions"
   ]
  },
  {
   "cell_type": "markdown",
   "metadata": {},
   "source": [
    "This model uses a **Decision Tree** as a predictive model which maps features (tree branches) to conclusions about the target value (tree leaves). Tree models where the target variable can take a finite set of values are called classification trees; in these tree structures, leaves represent class labels and branches represent conjunctions of features that lead to those class labels. Decision trees where the target variable can take continuous values (typically real numbers) are called regression trees. Reference [Wikipedia](https://en.wikipedia.org/wiki/Decision_tree_learning)."
   ]
  },
  {
   "cell_type": "code",
   "execution_count": 29,
   "metadata": {
    "execution": {
     "iopub.execute_input": "2021-08-07T20:42:00.306309Z",
     "iopub.status.busy": "2021-08-07T20:42:00.305657Z",
     "iopub.status.idle": "2021-08-07T20:42:00.33046Z",
     "shell.execute_reply": "2021-08-07T20:42:00.32945Z",
     "shell.execute_reply.started": "2021-08-07T20:42:00.306052Z"
    }
   },
   "outputs": [
    {
     "data": {
      "text/plain": [
       "100.0"
      ]
     },
     "execution_count": 29,
     "metadata": {},
     "output_type": "execute_result"
    }
   ],
   "source": [
    "# Decision Tree Classifier\n",
    "\n",
    "decision_tree = DecisionTreeClassifier()\n",
    "decision_tree.fit(train, target)\n",
    "Y_pred = decision_tree.predict(test).astype(int)\n",
    "acc_decision_tree = round(decision_tree.score(train, target) * 100, 2)\n",
    "acc_decision_tree"
   ]
  },
  {
   "cell_type": "code",
   "execution_count": 30,
   "metadata": {
    "execution": {
     "iopub.execute_input": "2021-08-07T20:42:00.33444Z",
     "iopub.status.busy": "2021-08-07T20:42:00.333887Z",
     "iopub.status.idle": "2021-08-07T20:42:00.34177Z",
     "shell.execute_reply": "2021-08-07T20:42:00.340527Z",
     "shell.execute_reply.started": "2021-08-07T20:42:00.334373Z"
    }
   },
   "outputs": [],
   "source": [
    "submission = pd.DataFrame({\"PassengerId\": submission[\"PassengerId\"],\"Survived\": Y_pred})\n",
    "#submission.to_csv('output/submission_decision_tree.csv', index=False)\n",
    "LB_decision_tree_all = 0.77990  # old version"
   ]
  },
  {
   "cell_type": "markdown",
   "metadata": {},
   "source": [
    "### 5.9 Random Forests <a class=\"anchor\" id=\"5.9\"></a>\n",
    "\n",
    "[Back to Table of Contents](#0.1)"
   ]
  },
  {
   "cell_type": "markdown",
   "metadata": {},
   "source": [
    "Thanks to https://www.kaggle.com/startupsci/titanic-data-science-solutions"
   ]
  },
  {
   "cell_type": "markdown",
   "metadata": {},
   "source": [
    "**Random Forests** is one of the most popular model. Random forests or random decision forests are an ensemble learning method for classification, regression and other tasks, that operate by constructing a multitude of decision trees (n_estimators= [100, 300]) at training time and outputting the class that is the mode of the classes (classification) or mean prediction (regression) of the individual trees. Reference [Wikipedia](https://en.wikipedia.org/wiki/Random_forest)."
   ]
  },
  {
   "cell_type": "code",
   "execution_count": 31,
   "metadata": {
    "execution": {
     "iopub.execute_input": "2021-08-07T20:42:00.343926Z",
     "iopub.status.busy": "2021-08-07T20:42:00.343561Z",
     "iopub.status.idle": "2021-08-07T20:42:19.206557Z",
     "shell.execute_reply": "2021-08-07T20:42:19.205653Z",
     "shell.execute_reply.started": "2021-08-07T20:42:00.343858Z"
    }
   },
   "outputs": [
    {
     "name": "stdout",
     "output_type": "stream",
     "text": [
      "100.0 {'n_estimators': 300}\n"
     ]
    }
   ],
   "source": [
    "# Random Forest\n",
    "\n",
    "random_forest = GridSearchCV(estimator=RandomForestClassifier(), param_grid={'n_estimators': [200, 300, 400, 500]}, cv=cv_number).fit(train, target)\n",
    "random_forest.fit(train, target)\n",
    "Y_pred = random_forest.predict(test).astype(int)\n",
    "random_forest.score(train, target)\n",
    "acc_random_forest = round(random_forest.score(train, target) * 100, 2)\n",
    "print(acc_random_forest,random_forest.best_params_)"
   ]
  },
  {
   "cell_type": "code",
   "execution_count": 32,
   "metadata": {
    "execution": {
     "iopub.execute_input": "2021-08-07T20:42:19.208156Z",
     "iopub.status.busy": "2021-08-07T20:42:19.207836Z",
     "iopub.status.idle": "2021-08-07T20:42:19.214121Z",
     "shell.execute_reply": "2021-08-07T20:42:19.213287Z",
     "shell.execute_reply.started": "2021-08-07T20:42:19.208068Z"
    }
   },
   "outputs": [],
   "source": [
    "submission = pd.DataFrame({\"PassengerId\": submission[\"PassengerId\"],\"Survived\": Y_pred})\n",
    "#submission.to_csv('output/submission_random_forest.csv', index=False)\n",
    "LB_random_forest_all = 0.81339  # old version"
   ]
  },
  {
   "cell_type": "markdown",
   "metadata": {},
   "source": [
    "### 5.10 XGB Classifier <a class=\"anchor\" id=\"5.10\"></a>\n",
    "\n",
    "[Back to Table of Contents](#0.1)"
   ]
  },
  {
   "cell_type": "markdown",
   "metadata": {},
   "source": [
    "XGBoost is an ensemble tree method that apply the principle of boosting weak learners (CARTs generally) using the gradient descent architecture. XGBoost improves upon the base Gradient Boosting Machines (GBM) framework through systems optimization and algorithmic enhancements. Reference [Towards Data Science.](https://towardsdatascience.com/https-medium-com-vishalmorde-xgboost-algorithm-long-she-may-rein-edd9f99be63d)"
   ]
  },
  {
   "cell_type": "markdown",
   "metadata": {},
   "source": [
    "We will tuning the hyperparameters of the XGBClassifier model using the HyperOpt and 10-fold crossvalidation"
   ]
  },
  {
   "cell_type": "code",
   "execution_count": 33,
   "metadata": {
    "execution": {
     "iopub.execute_input": "2021-08-07T20:42:19.216132Z",
     "iopub.status.busy": "2021-08-07T20:42:19.215832Z",
     "iopub.status.idle": "2021-08-07T20:42:38.288871Z",
     "shell.execute_reply": "2021-08-07T20:42:38.287991Z",
     "shell.execute_reply.started": "2021-08-07T20:42:19.216066Z"
    }
   },
   "outputs": [
    {
     "name": "stdout",
     "output_type": "stream",
     "text": [
      "0.9282083008397443\n",
      "{'booster': 'gbtree', 'colsample_bytree': 0.78, 'eval_metric': 'auc', 'gamma': 0.665, 'learning_rate': 0.0088, 'max_depth': 7, 'min_child_weight': 3.8000000000000003, 'missing': None, 'n_estimators': 378, 'objective': 'binary:logistic', 'silent': 1, 'subsample': 0.595, 'tree_method': 'exact'}\n",
      "0.9315791582839413\n",
      "{'booster': 'gbtree', 'colsample_bytree': 0.755, 'eval_metric': 'auc', 'gamma': 0.985, 'learning_rate': 0.0304, 'max_depth': 5, 'min_child_weight': 1.925, 'missing': None, 'n_estimators': 112, 'objective': 'binary:logistic', 'silent': 1, 'subsample': 0.67, 'tree_method': 'exact'}\n",
      "0.9338263492951772\n",
      "{'booster': 'gbtree', 'colsample_bytree': 0.745, 'eval_metric': 'auc', 'gamma': 0.855, 'learning_rate': 0.0028, 'max_depth': 5, 'min_child_weight': 8.6, 'missing': None, 'n_estimators': 175, 'objective': 'binary:logistic', 'silent': 1, 'subsample': 0.88, 'tree_method': 'exact'}\n",
      "0.9315728812140776\n",
      "{'booster': 'gbtree', 'colsample_bytree': 0.6900000000000001, 'eval_metric': 'auc', 'gamma': 0.595, 'learning_rate': 0.0263, 'max_depth': 5, 'min_child_weight': 6.65, 'missing': None, 'n_estimators': 547, 'objective': 'binary:logistic', 'silent': 1, 'subsample': 0.91, 'tree_method': 'exact'}\n",
      "0.9260240223818323\n",
      "{'booster': 'gbtree', 'colsample_bytree': 0.8, 'eval_metric': 'auc', 'gamma': 0.595, 'learning_rate': 0.0015, 'max_depth': 7, 'min_child_weight': 8.575000000000001, 'missing': None, 'n_estimators': 970, 'objective': 'binary:logistic', 'silent': 1, 'subsample': 0.5700000000000001, 'tree_method': 'exact'}\n",
      "0.9315602561470069\n",
      "{'booster': 'gbtree', 'colsample_bytree': 0.9550000000000001, 'eval_metric': 'auc', 'gamma': 0.66, 'learning_rate': 0.032100000000000004, 'max_depth': 7, 'min_child_weight': 8.450000000000001, 'missing': None, 'n_estimators': 551, 'objective': 'binary:logistic', 'silent': 1, 'subsample': 0.895, 'tree_method': 'exact'}\n",
      "0.9304492147811164\n",
      "{'booster': 'gbtree', 'colsample_bytree': 0.985, 'eval_metric': 'auc', 'gamma': 0.855, 'learning_rate': 0.023700000000000002, 'max_depth': 7, 'min_child_weight': 4.0, 'missing': None, 'n_estimators': 723, 'objective': 'binary:logistic', 'silent': 1, 'subsample': 0.875, 'tree_method': 'exact'}\n",
      "0.9293256192754985\n",
      "{'booster': 'gbtree', 'colsample_bytree': 0.9550000000000001, 'eval_metric': 'auc', 'gamma': 0.64, 'learning_rate': 0.0218, 'max_depth': 7, 'min_child_weight': 1.6, 'missing': None, 'n_estimators': 552, 'objective': 'binary:logistic', 'silent': 1, 'subsample': 0.855, 'tree_method': 'exact'}\n",
      "0.9338137951554497\n",
      "{'booster': 'gbtree', 'colsample_bytree': 0.65, 'eval_metric': 'auc', 'gamma': 0.78, 'learning_rate': 0.0349, 'max_depth': 7, 'min_child_weight': 4.4, 'missing': None, 'n_estimators': 600, 'objective': 'binary:logistic', 'silent': 1, 'subsample': 0.53, 'tree_method': 'exact'}\n",
      "0.9371656795353692\n",
      "{'booster': 'gbtree', 'colsample_bytree': 0.9500000000000001, 'eval_metric': 'auc', 'gamma': 0.6900000000000001, 'learning_rate': 0.0325, 'max_depth': 5, 'min_child_weight': 4.4750000000000005, 'missing': None, 'n_estimators': 815, 'objective': 'binary:logistic', 'silent': 1, 'subsample': 0.685, 'tree_method': 'exact'}\n",
      "100%|██████████| 10/10 [00:20<00:00,  2.07s/it, best loss: 0.9260240223818323]\n",
      "best:\n",
      "{'colsample_bytree': 0.8, 'gamma': 0.595, 'learning_rate': 0.0015, 'max_depth': 2, 'min_child_weight': 8.575000000000001, 'n_estimators': 870, 'subsample': 0.5700000000000001}\n",
      "CPU times: user 20.8 s, sys: 350 ms, total: 21.1 s\n",
      "Wall time: 21.1 s\n"
     ]
    }
   ],
   "source": [
    "%%time\n",
    "def hyperopt_xgb_score(params):\n",
    "    clf = XGBClassifier(**params)\n",
    "    current_score = cross_val_score(clf, train, target, cv=cv_number).mean()\n",
    "    print(current_score, params)\n",
    "    return current_score \n",
    " \n",
    "space_xgb = {\n",
    "            'learning_rate': hp.quniform('learning_rate', 0, 0.05, 0.0001),\n",
    "            'n_estimators': hp.choice('n_estimators', range(100, 1000)),\n",
    "            'max_depth':  hp.choice('max_depth', np.arange(5, 8, dtype=int)),\n",
    "            'min_child_weight': hp.quniform('min_child_weight', 1, 9, 0.025),\n",
    "            'subsample': hp.quniform('subsample', 0.5, 1, 0.005),\n",
    "            'gamma': hp.quniform('gamma', 0.5, 1, 0.005),\n",
    "            'colsample_bytree': hp.quniform('colsample_bytree', 0.5, 1, 0.005),\n",
    "            'eval_metric': 'auc',\n",
    "            'objective': 'binary:logistic',\n",
    "            'booster': 'gbtree',\n",
    "            'tree_method': 'exact',\n",
    "            'silent': 1,\n",
    "            'missing': None\n",
    "        }\n",
    " \n",
    "best = fmin(fn=hyperopt_xgb_score, space=space_xgb, algo=tpe.suggest, max_evals=10)\n",
    "print('best:')\n",
    "print(best)"
   ]
  },
  {
   "cell_type": "code",
   "execution_count": 34,
   "metadata": {
    "execution": {
     "iopub.execute_input": "2021-08-07T20:42:38.29053Z",
     "iopub.status.busy": "2021-08-07T20:42:38.290285Z",
     "iopub.status.idle": "2021-08-07T20:42:38.321229Z",
     "shell.execute_reply": "2021-08-07T20:42:38.320073Z",
     "shell.execute_reply.started": "2021-08-07T20:42:38.290488Z"
    }
   },
   "outputs": [
    {
     "data": {
      "text/plain": [
       "{'booster': 'gbtree',\n",
       " 'colsample_bytree': 0.8,\n",
       " 'eval_metric': 'auc',\n",
       " 'gamma': 0.595,\n",
       " 'learning_rate': 0.0015,\n",
       " 'max_depth': 7,\n",
       " 'min_child_weight': 8.575000000000001,\n",
       " 'missing': None,\n",
       " 'n_estimators': 970,\n",
       " 'objective': 'binary:logistic',\n",
       " 'silent': 1,\n",
       " 'subsample': 0.5700000000000001,\n",
       " 'tree_method': 'exact'}"
      ]
     },
     "execution_count": 34,
     "metadata": {},
     "output_type": "execute_result"
    }
   ],
   "source": [
    "params = space_eval(space_xgb, best)\n",
    "params"
   ]
  },
  {
   "cell_type": "code",
   "execution_count": 35,
   "metadata": {
    "execution": {
     "iopub.execute_input": "2021-08-07T20:42:38.330438Z",
     "iopub.status.busy": "2021-08-07T20:42:38.330146Z",
     "iopub.status.idle": "2021-08-07T20:42:38.742389Z",
     "shell.execute_reply": "2021-08-07T20:42:38.741368Z",
     "shell.execute_reply.started": "2021-08-07T20:42:38.330392Z"
    }
   },
   "outputs": [
    {
     "data": {
      "text/plain": [
       "94.39"
      ]
     },
     "execution_count": 35,
     "metadata": {},
     "output_type": "execute_result"
    }
   ],
   "source": [
    "XGB_Classifier = XGBClassifier(**params)\n",
    "XGB_Classifier.fit(train, target)\n",
    "Y_pred = XGB_Classifier.predict(test).astype(int)\n",
    "XGB_Classifier.score(train, target)\n",
    "acc_XGB_Classifier = round(XGB_Classifier.score(train, target) * 100, 2)\n",
    "acc_XGB_Classifier"
   ]
  },
  {
   "cell_type": "code",
   "execution_count": 36,
   "metadata": {
    "execution": {
     "iopub.execute_input": "2021-08-07T20:42:38.74423Z",
     "iopub.status.busy": "2021-08-07T20:42:38.743952Z",
     "iopub.status.idle": "2021-08-07T20:42:38.750579Z",
     "shell.execute_reply": "2021-08-07T20:42:38.749459Z",
     "shell.execute_reply.started": "2021-08-07T20:42:38.744186Z"
    }
   },
   "outputs": [],
   "source": [
    "submission = pd.DataFrame({\"PassengerId\": submission[\"PassengerId\"],\"Survived\": Y_pred})\n",
    "#submission.to_csv('output/submission_XGB_Classifier.csv', index=False)\n",
    "LB_XGB_Classifier_all = 0.80861  # old version"
   ]
  },
  {
   "cell_type": "code",
   "execution_count": 37,
   "metadata": {
    "execution": {
     "iopub.execute_input": "2021-08-07T20:42:38.752133Z",
     "iopub.status.busy": "2021-08-07T20:42:38.751861Z",
     "iopub.status.idle": "2021-08-07T20:42:39.12985Z",
     "shell.execute_reply": "2021-08-07T20:42:39.128883Z",
     "shell.execute_reply.started": "2021-08-07T20:42:38.75208Z"
    }
   },
   "outputs": [
    {
     "data": {
      "image/png": "[encoded data removed]",
      "text/plain": [
       "<Figure size 1080x1080 with 1 Axes>"
      ]
     },
     "metadata": {
      "needs_background": "light"
     },
     "output_type": "display_data"
    }
   ],
   "source": [
    "fig =  plt.figure(figsize = (15,15))\n",
    "axes = fig.add_subplot(111)\n",
    "xgb.plot_importance(XGB_Classifier,ax = axes,height =0.5)\n",
    "plt.show();\n",
    "plt.close()"
   ]
  },
  {
   "cell_type": "markdown",
   "metadata": {},
   "source": [
    "### 5.11 LGBM Classifier <a class=\"anchor\" id=\"5.11\"></a>\n",
    "\n",
    "[Back to Table of Contents](#0.1)"
   ]
  },
  {
   "cell_type": "markdown",
   "metadata": {},
   "source": [
    "Light GBM is a fast, distributed, high-performance gradient boosting framework based on decision tree algorithms. It splits the tree leaf wise with the best fit whereas other boosting algorithms split the tree depth wise or level wise rather than leaf-wise. So when growing on the same leaf in Light GBM, the leaf-wise algorithm can reduce more loss than the level-wise algorithm and hence results in much better accuracy which can rarely be achieved by any of the existing boosting algorithms. Also, it is surprisingly very fast, hence the word ‘Light’. Reference [Analytics Vidhya](https://www.analyticsvidhya.com/blog/2017/06/which-algorithm-takes-the-crown-light-gbm-vs-xgboost/)."
   ]
  },
  {
   "cell_type": "markdown",
   "metadata": {},
   "source": [
    "We will tuning the hyperparameters of the LGBMClassifier model using the HyperOpt and 10-fold crossvalidation"
   ]
  },
  {
   "cell_type": "code",
   "execution_count": 38,
   "metadata": {
    "execution": {
     "iopub.execute_input": "2021-08-07T20:42:39.131405Z",
     "iopub.status.busy": "2021-08-07T20:42:39.13116Z",
     "iopub.status.idle": "2021-08-07T20:42:48.894167Z",
     "shell.execute_reply": "2021-08-07T20:42:48.893332Z",
     "shell.execute_reply.started": "2021-08-07T20:42:39.131362Z"
    }
   },
   "outputs": [
    {
     "name": "stdout",
     "output_type": "stream",
     "text": [
      "0.9315664622895274\n",
      "{'boosting_type': 'gbdt', 'colsample_bytree': 0.96, 'learning_rate': 0.0341, 'max_depth': 5, 'min_child_weight': 3.725, 'n_estimators': 488, 'num_leaves': 106, 'objective': 'binary'}\n",
      "0.9326964057923524\n",
      "{'boosting_type': 'gbdt', 'colsample_bytree': 0.64, 'learning_rate': 0.0455, 'max_depth': 6, 'min_child_weight': 3.225, 'n_estimators': 267, 'num_leaves': 62, 'objective': 'binary'}\n",
      "0.9259736639682359\n",
      "{'boosting_type': 'gbdt', 'colsample_bytree': 0.635, 'learning_rate': 0.015300000000000001, 'max_depth': 6, 'min_child_weight': 4.675, 'n_estimators': 249, 'num_leaves': 116, 'objective': 'binary'}\n",
      "0.9315665332168706\n",
      "{'boosting_type': 'gbdt', 'colsample_bytree': 0.625, 'learning_rate': 0.039900000000000005, 'max_depth': 6, 'min_child_weight': 5.300000000000001, 'n_estimators': 340, 'num_leaves': 56, 'objective': 'binary'}\n",
      "0.9349373906610676\n",
      "{'boosting_type': 'gbdt', 'colsample_bytree': 0.59, 'learning_rate': 0.0483, 'max_depth': 6, 'min_child_weight': 5.800000000000001, 'n_estimators': 308, 'num_leaves': 58, 'objective': 'binary'}\n",
      "0.9315601852196638\n",
      "{'boosting_type': 'gbdt', 'colsample_bytree': 0.7000000000000001, 'learning_rate': 0.0224, 'max_depth': 4, 'min_child_weight': 7.45, 'n_estimators': 697, 'num_leaves': 92, 'objective': 'binary'}\n",
      "0.9282146488369512\n",
      "{'boosting_type': 'gbdt', 'colsample_bytree': 0.6, 'learning_rate': 0.0047, 'max_depth': 4, 'min_child_weight': 6.875, 'n_estimators': 982, 'num_leaves': 40, 'objective': 'binary'}\n",
      "0.9304492857084595\n",
      "{'boosting_type': 'gbdt', 'colsample_bytree': 0.845, 'learning_rate': 0.0077, 'max_depth': 4, 'min_child_weight': 8.525, 'n_estimators': 816, 'num_leaves': 40, 'objective': 'binary'}\n",
      "0.931591783351012\n",
      "{'boosting_type': 'gbdt', 'colsample_bytree': 0.8250000000000001, 'learning_rate': 0.0059, 'max_depth': 5, 'min_child_weight': 2.625, 'n_estimators': 735, 'num_leaves': 98, 'objective': 'binary'}\n",
      "0.936048361099615\n",
      "{'boosting_type': 'gbdt', 'colsample_bytree': 0.98, 'learning_rate': 0.0281, 'max_depth': 4, 'min_child_weight': 6.8500000000000005, 'n_estimators': 828, 'num_leaves': 44, 'objective': 'binary'}\n",
      "100%|██████████| 10/10 [00:09<00:00,  1.00it/s, best loss: 0.9259736639682359]\n",
      "best:\n",
      "{'colsample_bytree': 0.635, 'learning_rate': 0.015300000000000001, 'max_depth': 2, 'min_child_weight': 4.675, 'n_estimators': 149, 'num_leaves': 38}\n",
      "CPU times: user 9.68 s, sys: 760 ms, total: 10.4 s\n",
      "Wall time: 10.4 s\n"
     ]
    }
   ],
   "source": [
    "%%time\n",
    "def hyperopt_lgb_score(params):\n",
    "    clf = LGBMClassifier(**params)\n",
    "    current_score = cross_val_score(clf, train, target, cv=cv_number).mean()\n",
    "    print(current_score, params)\n",
    "    return current_score \n",
    " \n",
    "space_lgb = {\n",
    "            'learning_rate': hp.quniform('learning_rate', 0, 0.05, 0.0001),\n",
    "            'n_estimators': hp.choice('n_estimators', range(100, 1000)),\n",
    "            'max_depth':  hp.choice('max_depth', np.arange(4, 7, dtype=int)),\n",
    "            'num_leaves': hp.choice('num_leaves', 2*np.arange(20, 2**6, dtype=int)),\n",
    "            'min_child_weight': hp.quniform('min_child_weight', 1, 9, 0.025),\n",
    "            'colsample_bytree': hp.quniform('colsample_bytree', 0.5, 1, 0.005),\n",
    "            'objective': 'binary',\n",
    "            'boosting_type': 'gbdt',\n",
    "            }\n",
    " \n",
    "best = fmin(fn=hyperopt_lgb_score, space=space_lgb, algo=tpe.suggest, max_evals=10)\n",
    "print('best:')\n",
    "print(best)"
   ]
  },
  {
   "cell_type": "code",
   "execution_count": 39,
   "metadata": {
    "execution": {
     "iopub.execute_input": "2021-08-07T20:42:48.895969Z",
     "iopub.status.busy": "2021-08-07T20:42:48.89554Z",
     "iopub.status.idle": "2021-08-07T20:42:48.92523Z",
     "shell.execute_reply": "2021-08-07T20:42:48.923803Z",
     "shell.execute_reply.started": "2021-08-07T20:42:48.895898Z"
    }
   },
   "outputs": [
    {
     "data": {
      "text/plain": [
       "{'boosting_type': 'gbdt',\n",
       " 'colsample_bytree': 0.635,\n",
       " 'learning_rate': 0.015300000000000001,\n",
       " 'max_depth': 6,\n",
       " 'min_child_weight': 4.675,\n",
       " 'n_estimators': 249,\n",
       " 'num_leaves': 116,\n",
       " 'objective': 'binary'}"
      ]
     },
     "execution_count": 39,
     "metadata": {},
     "output_type": "execute_result"
    }
   ],
   "source": [
    "params = space_eval(space_lgb, best)\n",
    "params"
   ]
  },
  {
   "cell_type": "code",
   "execution_count": 40,
   "metadata": {
    "execution": {
     "iopub.execute_input": "2021-08-07T20:42:48.926883Z",
     "iopub.status.busy": "2021-08-07T20:42:48.926646Z",
     "iopub.status.idle": "2021-08-07T20:42:49.251324Z",
     "shell.execute_reply": "2021-08-07T20:42:49.250352Z",
     "shell.execute_reply.started": "2021-08-07T20:42:48.926848Z"
    }
   },
   "outputs": [
    {
     "data": {
      "text/plain": [
       "96.07"
      ]
     },
     "execution_count": 40,
     "metadata": {},
     "output_type": "execute_result"
    }
   ],
   "source": [
    "LGB_Classifier = LGBMClassifier(**params)\n",
    "LGB_Classifier.fit(train, target)\n",
    "Y_pred = LGB_Classifier.predict(test).astype(int)\n",
    "LGB_Classifier.score(train, target)\n",
    "acc_LGB_Classifier = round(LGB_Classifier.score(train, target) * 100, 2)\n",
    "acc_LGB_Classifier"
   ]
  },
  {
   "cell_type": "code",
   "execution_count": 41,
   "metadata": {
    "execution": {
     "iopub.execute_input": "2021-08-07T20:42:49.253155Z",
     "iopub.status.busy": "2021-08-07T20:42:49.252808Z",
     "iopub.status.idle": "2021-08-07T20:42:49.260374Z",
     "shell.execute_reply": "2021-08-07T20:42:49.259146Z",
     "shell.execute_reply.started": "2021-08-07T20:42:49.253104Z"
    }
   },
   "outputs": [],
   "source": [
    "submission = pd.DataFrame({\"PassengerId\": submission[\"PassengerId\"],\"Survived\": Y_pred})\n",
    "#submission.to_csv('output/submission_LGB_Classifier.csv', index=False)\n",
    "LB_LGB_Classifier_all = 0.82296  # old version"
   ]
  },
  {
   "cell_type": "code",
   "execution_count": 42,
   "metadata": {
    "execution": {
     "iopub.execute_input": "2021-08-07T20:42:49.262322Z",
     "iopub.status.busy": "2021-08-07T20:42:49.261949Z",
     "iopub.status.idle": "2021-08-07T20:42:49.632376Z",
     "shell.execute_reply": "2021-08-07T20:42:49.631219Z",
     "shell.execute_reply.started": "2021-08-07T20:42:49.262265Z"
    }
   },
   "outputs": [
    {
     "data": {
      "image/png": "[encoded data removed]",
      "text/plain": [
       "<Figure size 1080x1080 with 1 Axes>"
      ]
     },
     "metadata": {
      "needs_background": "light"
     },
     "output_type": "display_data"
    }
   ],
   "source": [
    "fig =  plt.figure(figsize = (15,15))\n",
    "axes = fig.add_subplot(111)\n",
    "lgb.plot_importance(LGB_Classifier,ax = axes,height = 0.5)\n",
    "plt.show();\n",
    "plt.close()"
   ]
  },
  {
   "cell_type": "markdown",
   "metadata": {},
   "source": [
    "### 5.12 GradientBoostingClassifier <a class=\"anchor\" id=\"5.12\"></a>\n",
    "\n",
    "[Back to Table of Contents](#0.1)"
   ]
  },
  {
   "cell_type": "markdown",
   "metadata": {},
   "source": [
    "Thanks to https://www.kaggle.com/kabure/titanic-eda-model-pipeline-keras-nn"
   ]
  },
  {
   "cell_type": "markdown",
   "metadata": {},
   "source": [
    "**Gradient Boosting** builds an additive model in a forward stage-wise fashion; it allows for the optimization of arbitrary differentiable loss functions. In each stage n_classes_ regression trees are fit on the negative gradient of the binomial or multinomial deviance loss function. Binary classification is a special case where only a single regression tree is induced. The features are always randomly permuted at each split. Therefore, the best found split may vary, even with the same training data and max_features=n_features, if the improvement of the criterion is identical for several splits enumerated during the search of the best split. To obtain a deterministic behaviour during fitting, random_state has to be fixed. Reference [sklearn documentation](https://scikit-learn.org/stable/modules/generated/sklearn.ensemble.GradientBoostingClassifier.html)."
   ]
  },
  {
   "cell_type": "code",
   "execution_count": 43,
   "metadata": {
    "execution": {
     "iopub.execute_input": "2021-08-07T20:42:49.634426Z",
     "iopub.status.busy": "2021-08-07T20:42:49.634038Z",
     "iopub.status.idle": "2021-08-07T20:43:20.839579Z",
     "shell.execute_reply": "2021-08-07T20:43:20.838859Z",
     "shell.execute_reply.started": "2021-08-07T20:42:49.634359Z"
    }
   },
   "outputs": [
    {
     "name": "stdout",
     "output_type": "stream",
     "text": [
      "0.9349372488063814\n",
      "{'max_depth': 7, 'n_estimators': 412}\n",
      "0.9315664622895274\n",
      "{'max_depth': 6, 'n_estimators': 644}\n",
      "0.9338073053035565\n",
      "{'max_depth': 7, 'n_estimators': 721}\n",
      "0.9371466355437486\n",
      "{'max_depth': 5, 'n_estimators': 269}\n",
      "0.9326837807252817\n",
      "{'max_depth': 6, 'n_estimators': 271}\n",
      "0.9326900577951454\n",
      "{'max_depth': 6, 'n_estimators': 414}\n",
      "0.9371593315381623\n",
      "{'max_depth': 5, 'n_estimators': 867}\n",
      "0.9338073762308996\n",
      "{'max_depth': 6, 'n_estimators': 441}\n",
      "0.9326837097979386\n",
      "{'max_depth': 7, 'n_estimators': 632}\n",
      "0.9349309008091746\n",
      "{'max_depth': 7, 'n_estimators': 656}\n",
      "100%|██████████| 10/10 [00:32<00:00,  3.28s/it, best loss: 0.9315664622895274]\n",
      "best:\n",
      "{'max_depth': 1, 'n_estimators': 544}\n",
      "CPU times: user 33.2 s, sys: 72.1 ms, total: 33.2 s\n",
      "Wall time: 33.2 s\n"
     ]
    }
   ],
   "source": [
    "%%time\n",
    "def hyperopt_gb_score(params):\n",
    "    clf = GradientBoostingClassifier(**params)\n",
    "    current_score = cross_val_score(clf, train, target, cv=cv_number).mean()\n",
    "    print(current_score, params)\n",
    "    return current_score \n",
    " \n",
    "space_gb = {\n",
    "            'n_estimators': hp.choice('n_estimators', range(100, 1000)),\n",
    "            'max_depth': hp.choice('max_depth', np.arange(5, 8, dtype=int))            \n",
    "        }\n",
    " \n",
    "best = fmin(fn=hyperopt_gb_score, space=space_gb, algo=tpe.suggest, max_evals=10)\n",
    "print('best:')\n",
    "print(best)"
   ]
  },
  {
   "cell_type": "code",
   "execution_count": 44,
   "metadata": {
    "execution": {
     "iopub.execute_input": "2021-08-07T20:43:20.840866Z",
     "iopub.status.busy": "2021-08-07T20:43:20.840582Z",
     "iopub.status.idle": "2021-08-07T20:43:20.866228Z",
     "shell.execute_reply": "2021-08-07T20:43:20.865405Z",
     "shell.execute_reply.started": "2021-08-07T20:43:20.840813Z"
    }
   },
   "outputs": [
    {
     "data": {
      "text/plain": [
       "{'max_depth': 6, 'n_estimators': 644}"
      ]
     },
     "execution_count": 44,
     "metadata": {},
     "output_type": "execute_result"
    }
   ],
   "source": [
    "params = space_eval(space_gb, best)\n",
    "params"
   ]
  },
  {
   "cell_type": "code",
   "execution_count": 45,
   "metadata": {
    "execution": {
     "iopub.execute_input": "2021-08-07T20:43:20.868334Z",
     "iopub.status.busy": "2021-08-07T20:43:20.86803Z",
     "iopub.status.idle": "2021-08-07T20:43:21.188364Z",
     "shell.execute_reply": "2021-08-07T20:43:21.187365Z",
     "shell.execute_reply.started": "2021-08-07T20:43:20.868281Z"
    }
   },
   "outputs": [
    {
     "data": {
      "text/plain": [
       "100.0"
      ]
     },
     "execution_count": 45,
     "metadata": {},
     "output_type": "execute_result"
    }
   ],
   "source": [
    "# Gradient Boosting Classifier\n",
    "\n",
    "gradient_boosting = GradientBoostingClassifier(**params)\n",
    "gradient_boosting.fit(train, target)\n",
    "Y_pred = gradient_boosting.predict(test).astype(int)\n",
    "gradient_boosting.score(train, target)\n",
    "acc_gradient_boosting = round(gradient_boosting.score(train, target) * 100, 2)\n",
    "acc_gradient_boosting"
   ]
  },
  {
   "cell_type": "code",
   "execution_count": 46,
   "metadata": {
    "execution": {
     "iopub.execute_input": "2021-08-07T20:43:21.189858Z",
     "iopub.status.busy": "2021-08-07T20:43:21.189598Z",
     "iopub.status.idle": "2021-08-07T20:43:21.195948Z",
     "shell.execute_reply": "2021-08-07T20:43:21.19514Z",
     "shell.execute_reply.started": "2021-08-07T20:43:21.189816Z"
    }
   },
   "outputs": [],
   "source": [
    "submission = pd.DataFrame({\"PassengerId\": submission[\"PassengerId\"],\"Survived\": Y_pred})\n",
    "#submission.to_csv('output/submission_gradient_boosting.csv', index=False)\n",
    "LB_GBC_all = 0.82296  # old version"
   ]
  },
  {
   "cell_type": "markdown",
   "metadata": {},
   "source": [
    "### 5.13 RidgeClassifier <a class=\"anchor\" id=\"5.13\"></a>\n",
    "\n",
    "[Back to Table of Contents](#0.1)"
   ]
  },
  {
   "cell_type": "markdown",
   "metadata": {},
   "source": [
    "Thanks to https://www.kaggle.com/kabure/titanic-eda-model-pipeline-keras-nn"
   ]
  },
  {
   "cell_type": "markdown",
   "metadata": {},
   "source": [
    "Tikhonov Regularization, colloquially known as **Ridge Regression**, is the most commonly used regression algorithm to approximate an answer for an equation with no unique solution. This type of problem is very common in machine learning tasks, where the \"best\" solution must be chosen using limited data. If a unique solution exists, algorithm will return the optimal value. However, if multiple solutions exist, it may choose any of them. Reference [Brilliant.org](https://brilliant.org/wiki/ridge-regression/)."
   ]
  },
  {
   "cell_type": "code",
   "execution_count": 47,
   "metadata": {
    "execution": {
     "iopub.execute_input": "2021-08-07T20:43:21.197731Z",
     "iopub.status.busy": "2021-08-07T20:43:21.197451Z",
     "iopub.status.idle": "2021-08-07T20:43:21.222396Z",
     "shell.execute_reply": "2021-08-07T20:43:21.221442Z",
     "shell.execute_reply.started": "2021-08-07T20:43:21.197678Z"
    }
   },
   "outputs": [
    {
     "data": {
      "text/plain": [
       "93.15"
      ]
     },
     "execution_count": 47,
     "metadata": {},
     "output_type": "execute_result"
    }
   ],
   "source": [
    "# Ridge Classifier\n",
    "\n",
    "ridge_classifier = RidgeClassifier()\n",
    "ridge_classifier.fit(train, target)\n",
    "Y_pred = ridge_classifier.predict(test).astype(int)\n",
    "ridge_classifier.score(train, target)\n",
    "acc_ridge_classifier = round(ridge_classifier.score(train, target) * 100, 2)\n",
    "acc_ridge_classifier"
   ]
  },
  {
   "cell_type": "code",
   "execution_count": 48,
   "metadata": {
    "execution": {
     "iopub.execute_input": "2021-08-07T20:43:21.223715Z",
     "iopub.status.busy": "2021-08-07T20:43:21.223475Z",
     "iopub.status.idle": "2021-08-07T20:43:21.230468Z",
     "shell.execute_reply": "2021-08-07T20:43:21.229459Z",
     "shell.execute_reply.started": "2021-08-07T20:43:21.223678Z"
    }
   },
   "outputs": [],
   "source": [
    "submission = pd.DataFrame({\"PassengerId\": submission[\"PassengerId\"],\"Survived\": Y_pred})\n",
    "#submission.to_csv('output/submission_ridge_classifier.csv', index=False)\n",
    "LB_RidgeClassifier_all = 0.80861  # old version"
   ]
  },
  {
   "cell_type": "markdown",
   "metadata": {},
   "source": [
    "### 5.14 BaggingClassifier <a class=\"anchor\" id=\"5.14\"></a>\n",
    "\n",
    "[Back to Table of Contents](#0.1)"
   ]
  },
  {
   "cell_type": "markdown",
   "metadata": {},
   "source": [
    "Thanks to https://www.kaggle.com/kabure/titanic-eda-model-pipeline-keras-nn"
   ]
  },
  {
   "cell_type": "markdown",
   "metadata": {},
   "source": [
    "Bootstrap aggregating, also called **bagging**, is a machine learning ensemble meta-algorithm designed to improve the stability and accuracy of machine learning algorithms used in statistical classification and regression. It also reduces variance and helps to avoid overfitting. Although it is usually applied to decision tree methods, it can be used with any type of method. Bagging is a special case of the model averaging approach. Bagging leads to \"improvements for unstable procedures\", which include, for example, artificial neural networks, classification and regression trees, and subset selection in linear regression. On the other hand, it can mildly degrade the performance of stable methods such as K-nearest neighbors. Reference [Wikipedia](https://en.wikipedia.org/wiki/Bootstrap_aggregating).\n",
    "\n",
    "A **Bagging classifier** is an ensemble meta-estimator that fits base classifiers each on random subsets of the original dataset and then aggregate their individual predictions (either by voting or by averaging) to form a final prediction. Such a meta-estimator can typically be used as a way to reduce the variance of a black-box estimator (e.g., a decision tree), by introducing randomization into its construction procedure and then making an ensemble out of it. Reference [sklearn documentation](https://scikit-learn.org/stable/modules/generated/sklearn.ensemble.BaggingClassifier.html)."
   ]
  },
  {
   "cell_type": "code",
   "execution_count": 49,
   "metadata": {
    "execution": {
     "iopub.execute_input": "2021-08-07T20:43:21.232223Z",
     "iopub.status.busy": "2021-08-07T20:43:21.231888Z",
     "iopub.status.idle": "2021-08-07T20:43:21.280117Z",
     "shell.execute_reply": "2021-08-07T20:43:21.279206Z",
     "shell.execute_reply.started": "2021-08-07T20:43:21.232169Z"
    }
   },
   "outputs": [
    {
     "data": {
      "text/plain": [
       "99.66"
      ]
     },
     "execution_count": 49,
     "metadata": {},
     "output_type": "execute_result"
    }
   ],
   "source": [
    "# Bagging Classifier\n",
    "\n",
    "bagging_classifier = BaggingClassifier()\n",
    "bagging_classifier.fit(train, target)\n",
    "Y_pred = bagging_classifier.predict(test).astype(int)\n",
    "bagging_classifier.score(train, target)\n",
    "acc_bagging_classifier = round(bagging_classifier.score(train, target) * 100, 2)\n",
    "acc_bagging_classifier"
   ]
  },
  {
   "cell_type": "code",
   "execution_count": 50,
   "metadata": {
    "execution": {
     "iopub.execute_input": "2021-08-07T20:43:21.282143Z",
     "iopub.status.busy": "2021-08-07T20:43:21.281758Z",
     "iopub.status.idle": "2021-08-07T20:43:21.28882Z",
     "shell.execute_reply": "2021-08-07T20:43:21.287656Z",
     "shell.execute_reply.started": "2021-08-07T20:43:21.282057Z"
    }
   },
   "outputs": [],
   "source": [
    "submission = pd.DataFrame({\"PassengerId\": submission[\"PassengerId\"],\"Survived\": Y_pred})\n",
    "#submission.to_csv('output/submission_bagging_classifier.csv', index=False)\n",
    "LB_bagging_classifier_all = 0.80861  # old version"
   ]
  },
  {
   "cell_type": "markdown",
   "metadata": {},
   "source": [
    "### 5.15 ExtraTreesClassifier <a class=\"anchor\" id=\"5.15\"></a>\n",
    "\n",
    "[Back to Table of Contents](#0.1)"
   ]
  },
  {
   "cell_type": "markdown",
   "metadata": {},
   "source": [
    "Thanks to https://www.kaggle.com/kabure/titanic-eda-model-pipeline-keras-nn"
   ]
  },
  {
   "cell_type": "markdown",
   "metadata": {},
   "source": [
    "**ExtraTreesClassifier** implements a meta estimator that fits a number of randomized decision trees (a.k.a. extra-trees) on various sub-samples of the dataset and uses averaging to improve the predictive accuracy and control over-fitting. The default values for the parameters controlling the size of the trees (e.g. max_depth, min_samples_leaf, etc.) lead to fully grown and unpruned trees which can potentially be very large on some data sets. To reduce memory consumption, the complexity and size of the trees should be controlled by setting those parameter values. Reference [sklearn documentation](https://scikit-learn.org/stable/modules/generated/sklearn.ensemble.ExtraTreesClassifier.html). \n",
    "\n",
    "In extremely randomized trees, randomness goes one step further in the way splits are computed. As in random forests, a random subset of candidate features is used, but instead of looking for the most discriminative thresholds, thresholds are drawn at random for each candidate feature and the best of these randomly-generated thresholds is picked as the splitting rule. This usually allows to reduce the variance of the model a bit more, at the expense of a slightly greater increase in bias. Reference [sklearn documentation](https://scikit-learn.org/stable/modules/ensemble.html#Extremely%20Randomized%20Trees)."
   ]
  },
  {
   "cell_type": "code",
   "execution_count": 51,
   "metadata": {
    "execution": {
     "iopub.execute_input": "2021-08-07T20:43:21.29049Z",
     "iopub.status.busy": "2021-08-07T20:43:21.290209Z",
     "iopub.status.idle": "2021-08-07T20:43:53.482359Z",
     "shell.execute_reply": "2021-08-07T20:43:53.481322Z",
     "shell.execute_reply.started": "2021-08-07T20:43:21.290432Z"
    }
   },
   "outputs": [
    {
     "name": "stdout",
     "output_type": "stream",
     "text": [
      "0.9293508694096397\n",
      "{'max_depth': 5, 'max_features': 3, 'min_samples_leaf': 4, 'n_estimators': 699}\n",
      "0.9372098318064449\n",
      "{'max_depth': 7, 'max_features': 8, 'min_samples_leaf': 2, 'n_estimators': 181}\n",
      "0.9383145961024715\n",
      "{'max_depth': 5, 'max_features': 8, 'min_samples_leaf': 3, 'n_estimators': 671}\n",
      "0.9405617871137075\n",
      "{'max_depth': 6, 'max_features': 4, 'min_samples_leaf': 1, 'n_estimators': 662}\n",
      "0.9394444686779533\n",
      "{'max_depth': 7, 'max_features': 4, 'min_samples_leaf': 2, 'n_estimators': 440}\n",
      "0.9349626407952091\n",
      "{'max_depth': 7, 'max_features': 9, 'min_samples_leaf': 2, 'n_estimators': 838}\n",
      "0.932715449783973\n",
      "{'max_depth': 4, 'max_features': 6, 'min_samples_leaf': 3, 'n_estimators': 742}\n",
      "0.9383208731723354\n",
      "{'max_depth': 6, 'max_features': 5, 'min_samples_leaf': 2, 'n_estimators': 336}\n",
      "0.9315981313482189\n",
      "{'max_depth': 4, 'max_features': 6, 'min_samples_leaf': 3, 'n_estimators': 191}\n",
      "0.928220925906815\n",
      "{'max_depth': 4, 'max_features': 4, 'min_samples_leaf': 3, 'n_estimators': 622}\n",
      "100%|██████████| 10/10 [00:27<00:00,  2.80s/it, best loss: 0.928220925906815]\n",
      "best:\n",
      "{'max_depth': 0, 'max_features': 2, 'min_samples_leaf': 2, 'n_estimators': 522}\n"
     ]
    }
   ],
   "source": [
    "def hyperopt_etc_score(params):\n",
    "    clf = ExtraTreesClassifier(**params)\n",
    "    current_score = cross_val_score(clf, train, target, cv=cv_number).mean()\n",
    "    print(current_score, params)\n",
    "    return current_score \n",
    " \n",
    "space_etc = {\n",
    "            'n_estimators': hp.choice('n_estimators', range(100, 1000)),\n",
    "            'max_features': hp.choice('max_features', np.arange(2, 10, dtype=int)),\n",
    "            'min_samples_leaf': hp.choice('min_samples_leaf', np.arange(1, 5, dtype=int)),\n",
    "            'max_depth':  hp.choice('max_depth', np.arange(4, 8, dtype=int)),\n",
    "        }\n",
    " \n",
    "best = fmin(fn=hyperopt_etc_score, space=space_etc, algo=tpe.suggest, max_evals=10)\n",
    "print('best:')\n",
    "print(best)"
   ]
  },
  {
   "cell_type": "code",
   "execution_count": 52,
   "metadata": {
    "execution": {
     "iopub.execute_input": "2021-08-07T20:43:53.484321Z",
     "iopub.status.busy": "2021-08-07T20:43:53.483852Z",
     "iopub.status.idle": "2021-08-07T20:43:53.513189Z",
     "shell.execute_reply": "2021-08-07T20:43:53.512349Z",
     "shell.execute_reply.started": "2021-08-07T20:43:53.484075Z"
    }
   },
   "outputs": [
    {
     "data": {
      "text/plain": [
       "{'max_depth': 4, 'max_features': 4, 'min_samples_leaf': 3, 'n_estimators': 622}"
      ]
     },
     "execution_count": 52,
     "metadata": {},
     "output_type": "execute_result"
    }
   ],
   "source": [
    "params = space_eval(space_etc, best)\n",
    "params"
   ]
  },
  {
   "cell_type": "code",
   "execution_count": 53,
   "metadata": {
    "execution": {
     "iopub.execute_input": "2021-08-07T20:43:53.514686Z",
     "iopub.status.busy": "2021-08-07T20:43:53.514397Z",
     "iopub.status.idle": "2021-08-07T20:43:54.735248Z",
     "shell.execute_reply": "2021-08-07T20:43:54.734372Z",
     "shell.execute_reply.started": "2021-08-07T20:43:53.514635Z"
    }
   },
   "outputs": [
    {
     "data": {
      "text/plain": [
       "93.38"
      ]
     },
     "execution_count": 53,
     "metadata": {},
     "output_type": "execute_result"
    }
   ],
   "source": [
    "# Extra Trees Classifier\n",
    "\n",
    "extra_trees_classifier = ExtraTreesClassifier(**params)\n",
    "extra_trees_classifier.fit(train, target)\n",
    "Y_pred = extra_trees_classifier.predict(test).astype(int)\n",
    "extra_trees_classifier.score(train, target)\n",
    "acc_etc = round(extra_trees_classifier.score(train, target) * 100, 2)\n",
    "acc_etc"
   ]
  },
  {
   "cell_type": "code",
   "execution_count": 54,
   "metadata": {
    "execution": {
     "iopub.execute_input": "2021-08-07T20:43:54.737228Z",
     "iopub.status.busy": "2021-08-07T20:43:54.736954Z",
     "iopub.status.idle": "2021-08-07T20:43:54.74362Z",
     "shell.execute_reply": "2021-08-07T20:43:54.742666Z",
     "shell.execute_reply.started": "2021-08-07T20:43:54.73719Z"
    }
   },
   "outputs": [],
   "source": [
    "submission = pd.DataFrame({\"PassengerId\": submission[\"PassengerId\"],\"Survived\": Y_pred})\n",
    "#submission.to_csv('output/submission_etc.csv', index=False)\n",
    "LB_ETC_all = 0.80861  # old version"
   ]
  },
  {
   "cell_type": "markdown",
   "metadata": {},
   "source": [
    "### 5.16 Neural Network 1 <a class=\"anchor\" id=\"5.16\"></a>\n",
    "\n",
    "[Back to Table of Contents](#0.1)"
   ]
  },
  {
   "cell_type": "markdown",
   "metadata": {},
   "source": [
    "Thanks to https://www.kaggle.com/nhlr21/complete-titanic-tutorial-with-ml-nn-ensembling"
   ]
  },
  {
   "cell_type": "markdown",
   "metadata": {},
   "source": [
    "**Neural networks** are more complex and more powerful algorithm than standars machine learning, it belongs to deep learning models. To build a neural network use Keras. Keras is a high level API for tensorflow, which is a tensor-manipulation framework made by google. Keras allows you to build neural networks by assembling blocks (which are the layers of neural network). "
   ]
  },
  {
   "cell_type": "code",
   "execution_count": 55,
   "metadata": {
    "execution": {
     "iopub.execute_input": "2021-08-07T20:43:54.745388Z",
     "iopub.status.busy": "2021-08-07T20:43:54.745022Z",
     "iopub.status.idle": "2021-08-07T20:43:54.758386Z",
     "shell.execute_reply": "2021-08-07T20:43:54.757233Z",
     "shell.execute_reply.started": "2021-08-07T20:43:54.745334Z"
    }
   },
   "outputs": [],
   "source": [
    "def build_ann(optimizer='adam'):\n",
    "    \n",
    "    # Initializing the ANN\n",
    "    ann = Sequential()\n",
    "    \n",
    "    # Adding the input layer and the first hidden layer of the ANN with dropout\n",
    "    ann.add(Dense(units=32, kernel_initializer='glorot_uniform', activation='relu', input_shape=(16,)))\n",
    "    \n",
    "    # Add other layers, it is not necessary to pass the shape because there is a layer before\n",
    "    ann.add(Dense(units=64, kernel_initializer='glorot_uniform', activation='relu'))\n",
    "    ann.add(Dropout(rate=0.5))\n",
    "    ann.add(Dense(units=64, kernel_initializer='glorot_uniform', activation='relu'))\n",
    "    ann.add(Dropout(rate=0.5))\n",
    "    \n",
    "    # Adding the output layer\n",
    "    ann.add(Dense(units=1, kernel_initializer='glorot_uniform', activation='sigmoid'))\n",
    "    \n",
    "    # Compiling the ANN\n",
    "    ann.compile(optimizer=optimizer, loss='binary_crossentropy', metrics=['accuracy'])\n",
    "    \n",
    "    return ann"
   ]
  },
  {
   "cell_type": "code",
   "execution_count": 56,
   "metadata": {
    "execution": {
     "iopub.execute_input": "2021-08-07T20:43:54.760026Z",
     "iopub.status.busy": "2021-08-07T20:43:54.759723Z",
     "iopub.status.idle": "2021-08-07T20:44:05.680333Z",
     "shell.execute_reply": "2021-08-07T20:44:05.678313Z",
     "shell.execute_reply.started": "2021-08-07T20:43:54.759974Z"
    }
   },
   "outputs": [
    {
     "name": "stdout",
     "output_type": "stream",
     "text": [
      "Train on 623 samples, validate on 268 samples\n",
      "Epoch 1/100\n",
      "623/623 [==============================] - 0s 748us/step - loss: 11.0590 - accuracy: 0.5457 - val_loss: 4.8565 - val_accuracy: 0.5933\n",
      "Epoch 2/100\n",
      "623/623 [==============================] - 0s 206us/step - loss: 5.2457 - accuracy: 0.5201 - val_loss: 2.2716 - val_accuracy: 0.6194\n",
      "Epoch 3/100\n",
      "623/623 [==============================] - 0s 176us/step - loss: 3.1837 - accuracy: 0.5409 - val_loss: 1.0874 - val_accuracy: 0.6530\n",
      "Epoch 4/100\n",
      "623/623 [==============================] - 0s 169us/step - loss: 1.6270 - accuracy: 0.5730 - val_loss: 0.7815 - val_accuracy: 0.6530\n",
      "Epoch 5/100\n",
      "623/623 [==============================] - 0s 166us/step - loss: 1.1755 - accuracy: 0.5827 - val_loss: 0.6427 - val_accuracy: 0.6604\n",
      "Epoch 6/100\n",
      "623/623 [==============================] - 0s 183us/step - loss: 0.8752 - accuracy: 0.5618 - val_loss: 0.6425 - val_accuracy: 0.6716\n",
      "Epoch 7/100\n",
      "623/623 [==============================] - 0s 174us/step - loss: 0.8974 - accuracy: 0.6260 - val_loss: 0.6614 - val_accuracy: 0.6455\n",
      "Epoch 8/100\n",
      "623/623 [==============================] - 0s 169us/step - loss: 0.7519 - accuracy: 0.6356 - val_loss: 0.6508 - val_accuracy: 0.6493\n",
      "Epoch 9/100\n",
      "623/623 [==============================] - 0s 169us/step - loss: 0.6961 - accuracy: 0.6388 - val_loss: 0.6594 - val_accuracy: 0.6306\n",
      "Epoch 10/100\n",
      "623/623 [==============================] - 0s 171us/step - loss: 0.6912 - accuracy: 0.6517 - val_loss: 0.6613 - val_accuracy: 0.6231\n",
      "Epoch 11/100\n",
      "623/623 [==============================] - 0s 165us/step - loss: 0.6821 - accuracy: 0.6549 - val_loss: 0.6417 - val_accuracy: 0.6493\n",
      "Epoch 12/100\n",
      "623/623 [==============================] - 0s 172us/step - loss: 0.6512 - accuracy: 0.6501 - val_loss: 0.6608 - val_accuracy: 0.6306\n",
      "Epoch 13/100\n",
      "623/623 [==============================] - 0s 170us/step - loss: 0.6699 - accuracy: 0.6453 - val_loss: 0.6591 - val_accuracy: 0.6157\n",
      "Epoch 14/100\n",
      "623/623 [==============================] - 0s 167us/step - loss: 0.6647 - accuracy: 0.6372 - val_loss: 0.6449 - val_accuracy: 0.6269\n",
      "Epoch 15/100\n",
      "623/623 [==============================] - 0s 167us/step - loss: 0.6707 - accuracy: 0.6404 - val_loss: 0.6637 - val_accuracy: 0.6269\n",
      "Epoch 16/100\n",
      "623/623 [==============================] - 0s 163us/step - loss: 0.6492 - accuracy: 0.6437 - val_loss: 0.6473 - val_accuracy: 0.6269\n",
      "Epoch 17/100\n",
      "623/623 [==============================] - 0s 162us/step - loss: 0.6424 - accuracy: 0.6469 - val_loss: 0.6348 - val_accuracy: 0.6269\n",
      "Epoch 18/100\n",
      "623/623 [==============================] - 0s 168us/step - loss: 0.6774 - accuracy: 0.6485 - val_loss: 0.6330 - val_accuracy: 0.6343\n",
      "Epoch 19/100\n",
      "623/623 [==============================] - 0s 170us/step - loss: 0.6586 - accuracy: 0.6485 - val_loss: 0.6482 - val_accuracy: 0.6343\n",
      "Epoch 20/100\n",
      "623/623 [==============================] - 0s 174us/step - loss: 0.6413 - accuracy: 0.6421 - val_loss: 0.6609 - val_accuracy: 0.6343\n",
      "Epoch 21/100\n",
      "623/623 [==============================] - 0s 162us/step - loss: 0.6555 - accuracy: 0.6421 - val_loss: 0.6599 - val_accuracy: 0.6269\n",
      "Epoch 22/100\n",
      "623/623 [==============================] - 0s 165us/step - loss: 0.6493 - accuracy: 0.6501 - val_loss: 0.6624 - val_accuracy: 0.6269\n",
      "Epoch 23/100\n",
      "623/623 [==============================] - 0s 171us/step - loss: 0.6365 - accuracy: 0.6485 - val_loss: 0.6577 - val_accuracy: 0.6231\n",
      "Epoch 24/100\n",
      "623/623 [==============================] - 0s 164us/step - loss: 0.6527 - accuracy: 0.6421 - val_loss: 0.6573 - val_accuracy: 0.6269\n",
      "Epoch 25/100\n",
      "623/623 [==============================] - 0s 156us/step - loss: 0.6244 - accuracy: 0.6581 - val_loss: 0.6487 - val_accuracy: 0.6306\n",
      "Epoch 26/100\n",
      "623/623 [==============================] - 0s 165us/step - loss: 0.6698 - accuracy: 0.6292 - val_loss: 0.6261 - val_accuracy: 0.6231\n",
      "Epoch 27/100\n",
      "623/623 [==============================] - 0s 162us/step - loss: 0.6253 - accuracy: 0.6421 - val_loss: 0.6424 - val_accuracy: 0.6231\n",
      "Epoch 28/100\n",
      "623/623 [==============================] - 0s 164us/step - loss: 0.6429 - accuracy: 0.6469 - val_loss: 0.6655 - val_accuracy: 0.6269\n",
      "Epoch 29/100\n",
      "623/623 [==============================] - 0s 161us/step - loss: 0.6374 - accuracy: 0.6581 - val_loss: 0.6632 - val_accuracy: 0.6343\n",
      "Epoch 30/100\n",
      "623/623 [==============================] - 0s 158us/step - loss: 0.6436 - accuracy: 0.6565 - val_loss: 0.6608 - val_accuracy: 0.6343\n",
      "Epoch 31/100\n",
      "623/623 [==============================] - 0s 164us/step - loss: 0.6333 - accuracy: 0.6661 - val_loss: 0.6528 - val_accuracy: 0.6418\n",
      "Epoch 32/100\n",
      "623/623 [==============================] - 0s 167us/step - loss: 0.6457 - accuracy: 0.6404 - val_loss: 0.6433 - val_accuracy: 0.6306\n",
      "Epoch 33/100\n",
      "623/623 [==============================] - 0s 165us/step - loss: 0.6389 - accuracy: 0.6485 - val_loss: 0.6252 - val_accuracy: 0.6269\n",
      "Epoch 34/100\n",
      "623/623 [==============================] - 0s 168us/step - loss: 0.6245 - accuracy: 0.6693 - val_loss: 0.6086 - val_accuracy: 0.6604\n",
      "Epoch 35/100\n",
      "623/623 [==============================] - 0s 156us/step - loss: 0.6418 - accuracy: 0.6629 - val_loss: 0.6431 - val_accuracy: 0.6381\n",
      "Epoch 36/100\n",
      "623/623 [==============================] - 0s 164us/step - loss: 0.6253 - accuracy: 0.6709 - val_loss: 0.5964 - val_accuracy: 0.6567\n",
      "Epoch 37/100\n",
      "623/623 [==============================] - 0s 164us/step - loss: 0.6105 - accuracy: 0.6613 - val_loss: 0.5954 - val_accuracy: 0.6530\n",
      "Epoch 38/100\n",
      "623/623 [==============================] - 0s 157us/step - loss: 0.6199 - accuracy: 0.6581 - val_loss: 0.6227 - val_accuracy: 0.6381\n",
      "Epoch 39/100\n",
      "623/623 [==============================] - 0s 164us/step - loss: 0.6284 - accuracy: 0.6629 - val_loss: 0.6481 - val_accuracy: 0.6418\n",
      "Epoch 40/100\n",
      "623/623 [==============================] - 0s 157us/step - loss: 0.6320 - accuracy: 0.6581 - val_loss: 0.6233 - val_accuracy: 0.6530\n",
      "Epoch 41/100\n",
      "623/623 [==============================] - 0s 169us/step - loss: 0.5928 - accuracy: 0.6597 - val_loss: 0.6018 - val_accuracy: 0.6455\n",
      "Epoch 42/100\n",
      "623/623 [==============================] - 0s 167us/step - loss: 0.6154 - accuracy: 0.6565 - val_loss: 0.6165 - val_accuracy: 0.6306\n",
      "Epoch 43/100\n",
      "623/623 [==============================] - 0s 164us/step - loss: 0.5999 - accuracy: 0.6581 - val_loss: 0.6204 - val_accuracy: 0.6381\n",
      "Epoch 44/100\n",
      "623/623 [==============================] - 0s 170us/step - loss: 0.6221 - accuracy: 0.6613 - val_loss: 0.6560 - val_accuracy: 0.6306\n",
      "Epoch 45/100\n",
      "623/623 [==============================] - 0s 164us/step - loss: 0.6177 - accuracy: 0.6870 - val_loss: 0.6413 - val_accuracy: 0.6604\n",
      "Epoch 46/100\n",
      "623/623 [==============================] - 0s 201us/step - loss: 0.6250 - accuracy: 0.6645 - val_loss: 0.6308 - val_accuracy: 0.6567\n",
      "Epoch 47/100\n",
      "623/623 [==============================] - 0s 186us/step - loss: 0.6188 - accuracy: 0.6661 - val_loss: 0.5917 - val_accuracy: 0.6493\n",
      "Epoch 48/100\n",
      "623/623 [==============================] - 0s 193us/step - loss: 0.6194 - accuracy: 0.6677 - val_loss: 0.6603 - val_accuracy: 0.6418\n",
      "Epoch 49/100\n",
      "623/623 [==============================] - 0s 183us/step - loss: 0.6269 - accuracy: 0.6693 - val_loss: 0.6581 - val_accuracy: 0.6269\n",
      "Epoch 50/100\n",
      "623/623 [==============================] - 0s 183us/step - loss: 0.6161 - accuracy: 0.6629 - val_loss: 0.5938 - val_accuracy: 0.6716\n",
      "Epoch 51/100\n",
      "623/623 [==============================] - 0s 181us/step - loss: 0.5908 - accuracy: 0.6726 - val_loss: 0.6082 - val_accuracy: 0.6418\n",
      "Epoch 52/100\n",
      "623/623 [==============================] - 0s 191us/step - loss: 0.5905 - accuracy: 0.6661 - val_loss: 0.6110 - val_accuracy: 0.6530\n",
      "Epoch 53/100\n",
      "623/623 [==============================] - 0s 181us/step - loss: 0.6012 - accuracy: 0.6726 - val_loss: 0.6438 - val_accuracy: 0.6642\n",
      "Epoch 54/100\n",
      "623/623 [==============================] - 0s 182us/step - loss: 0.6238 - accuracy: 0.6806 - val_loss: 0.6298 - val_accuracy: 0.6791\n",
      "Epoch 55/100\n",
      "623/623 [==============================] - 0s 167us/step - loss: 0.6283 - accuracy: 0.6790 - val_loss: 0.5868 - val_accuracy: 0.6530\n",
      "Epoch 56/100\n",
      "623/623 [==============================] - 0s 159us/step - loss: 0.5815 - accuracy: 0.6693 - val_loss: 0.6013 - val_accuracy: 0.6455\n",
      "Epoch 57/100\n",
      "623/623 [==============================] - 0s 167us/step - loss: 0.6193 - accuracy: 0.6613 - val_loss: 0.6136 - val_accuracy: 0.6269\n",
      "Epoch 58/100\n",
      "623/623 [==============================] - 0s 163us/step - loss: 0.6023 - accuracy: 0.6677 - val_loss: 0.5653 - val_accuracy: 0.6679\n",
      "Epoch 59/100\n",
      "623/623 [==============================] - 0s 159us/step - loss: 0.5933 - accuracy: 0.6902 - val_loss: 0.5942 - val_accuracy: 0.6530\n",
      "Epoch 60/100\n",
      "623/623 [==============================] - 0s 156us/step - loss: 0.5916 - accuracy: 0.6677 - val_loss: 0.5656 - val_accuracy: 0.6791\n",
      "Epoch 61/100\n",
      "623/623 [==============================] - 0s 168us/step - loss: 0.5677 - accuracy: 0.6758 - val_loss: 0.6210 - val_accuracy: 0.6716\n",
      "Epoch 62/100\n",
      "623/623 [==============================] - 0s 166us/step - loss: 0.5659 - accuracy: 0.6950 - val_loss: 0.5651 - val_accuracy: 0.6493\n",
      "Epoch 63/100\n",
      "623/623 [==============================] - 0s 160us/step - loss: 0.5551 - accuracy: 0.6806 - val_loss: 0.5672 - val_accuracy: 0.6791\n",
      "Epoch 64/100\n",
      "623/623 [==============================] - 0s 159us/step - loss: 0.5967 - accuracy: 0.7014 - val_loss: 0.6415 - val_accuracy: 0.6493\n",
      "Epoch 65/100\n",
      "623/623 [==============================] - 0s 162us/step - loss: 0.5943 - accuracy: 0.6838 - val_loss: 0.6288 - val_accuracy: 0.6418\n",
      "Epoch 66/100\n",
      "623/623 [==============================] - 0s 169us/step - loss: 0.5929 - accuracy: 0.6902 - val_loss: 0.6604 - val_accuracy: 0.6418\n",
      "Epoch 67/100\n",
      "623/623 [==============================] - 0s 159us/step - loss: 0.6062 - accuracy: 0.6581 - val_loss: 0.5817 - val_accuracy: 0.6642\n",
      "Epoch 68/100\n",
      "623/623 [==============================] - 0s 163us/step - loss: 0.5646 - accuracy: 0.7159 - val_loss: 0.5792 - val_accuracy: 0.6679\n",
      "Epoch 69/100\n",
      "623/623 [==============================] - 0s 158us/step - loss: 0.5813 - accuracy: 0.7159 - val_loss: 0.6136 - val_accuracy: 0.8134\n",
      "Epoch 70/100\n",
      "623/623 [==============================] - 0s 160us/step - loss: 0.5916 - accuracy: 0.7030 - val_loss: 0.5700 - val_accuracy: 0.6567\n",
      "Epoch 71/100\n",
      "623/623 [==============================] - 0s 165us/step - loss: 0.5584 - accuracy: 0.7014 - val_loss: 0.5374 - val_accuracy: 0.6903\n",
      "Epoch 72/100\n",
      "623/623 [==============================] - 0s 165us/step - loss: 0.5562 - accuracy: 0.7287 - val_loss: 0.5613 - val_accuracy: 0.6828\n",
      "Epoch 73/100\n",
      "623/623 [==============================] - 0s 160us/step - loss: 0.5631 - accuracy: 0.6742 - val_loss: 0.6013 - val_accuracy: 0.6343\n",
      "Epoch 74/100\n",
      "623/623 [==============================] - 0s 175us/step - loss: 0.5841 - accuracy: 0.7014 - val_loss: 0.5745 - val_accuracy: 0.7836\n",
      "Epoch 75/100\n",
      "623/623 [==============================] - 0s 159us/step - loss: 0.5783 - accuracy: 0.7063 - val_loss: 0.5170 - val_accuracy: 0.7425\n",
      "Epoch 76/100\n",
      "623/623 [==============================] - 0s 169us/step - loss: 0.5433 - accuracy: 0.6838 - val_loss: 0.5659 - val_accuracy: 0.6567\n",
      "Epoch 77/100\n",
      "623/623 [==============================] - 0s 159us/step - loss: 0.5299 - accuracy: 0.7255 - val_loss: 0.5275 - val_accuracy: 0.8060\n",
      "Epoch 78/100\n",
      "623/623 [==============================] - 0s 159us/step - loss: 0.5303 - accuracy: 0.7287 - val_loss: 0.5114 - val_accuracy: 0.7239\n",
      "Epoch 79/100\n",
      "623/623 [==============================] - 0s 170us/step - loss: 0.5322 - accuracy: 0.7127 - val_loss: 0.4695 - val_accuracy: 0.7612\n",
      "Epoch 80/100\n",
      "623/623 [==============================] - 0s 169us/step - loss: 0.4957 - accuracy: 0.7496 - val_loss: 0.4377 - val_accuracy: 0.8507\n",
      "Epoch 81/100\n",
      "623/623 [==============================] - 0s 173us/step - loss: 0.5046 - accuracy: 0.7448 - val_loss: 0.4392 - val_accuracy: 0.8246\n",
      "Epoch 82/100\n",
      "623/623 [==============================] - 0s 159us/step - loss: 0.4840 - accuracy: 0.7368 - val_loss: 0.4791 - val_accuracy: 0.7948\n",
      "Epoch 83/100\n",
      "623/623 [==============================] - 0s 174us/step - loss: 0.5155 - accuracy: 0.7512 - val_loss: 0.3824 - val_accuracy: 0.8358\n",
      "Epoch 84/100\n",
      "623/623 [==============================] - 0s 161us/step - loss: 0.5019 - accuracy: 0.7223 - val_loss: 0.4909 - val_accuracy: 0.7164\n",
      "Epoch 85/100\n",
      "623/623 [==============================] - 0s 218us/step - loss: 0.5393 - accuracy: 0.7239 - val_loss: 0.6398 - val_accuracy: 0.6940\n",
      "Epoch 86/100\n",
      "623/623 [==============================] - 0s 178us/step - loss: 0.5693 - accuracy: 0.7416 - val_loss: 0.5782 - val_accuracy: 0.7612\n",
      "Epoch 87/100\n",
      "623/623 [==============================] - 0s 159us/step - loss: 0.5785 - accuracy: 0.7191 - val_loss: 0.5697 - val_accuracy: 0.7425\n",
      "Epoch 88/100\n",
      "623/623 [==============================] - 0s 170us/step - loss: 0.5150 - accuracy: 0.7223 - val_loss: 0.4088 - val_accuracy: 0.8209\n",
      "Epoch 89/100\n",
      "623/623 [==============================] - 0s 169us/step - loss: 0.4400 - accuracy: 0.7881 - val_loss: 0.3991 - val_accuracy: 0.8955\n",
      "Epoch 90/100\n",
      "623/623 [==============================] - 0s 169us/step - loss: 0.5006 - accuracy: 0.7528 - val_loss: 0.6254 - val_accuracy: 0.6716\n",
      "Epoch 91/100\n",
      "623/623 [==============================] - 0s 152us/step - loss: 0.5478 - accuracy: 0.6934 - val_loss: 0.3992 - val_accuracy: 0.8694\n",
      "Epoch 92/100\n",
      "623/623 [==============================] - 0s 155us/step - loss: 0.5405 - accuracy: 0.7030 - val_loss: 0.6259 - val_accuracy: 0.6567\n",
      "Epoch 93/100\n",
      "623/623 [==============================] - 0s 158us/step - loss: 0.5793 - accuracy: 0.6806 - val_loss: 0.5835 - val_accuracy: 0.7052\n",
      "Epoch 94/100\n",
      "623/623 [==============================] - 0s 162us/step - loss: 0.5030 - accuracy: 0.7368 - val_loss: 0.4124 - val_accuracy: 0.8396\n",
      "Epoch 95/100\n",
      "623/623 [==============================] - 0s 172us/step - loss: 0.4738 - accuracy: 0.7384 - val_loss: 0.3676 - val_accuracy: 0.8955\n",
      "Epoch 96/100\n",
      "623/623 [==============================] - 0s 158us/step - loss: 0.4600 - accuracy: 0.7560 - val_loss: 0.4546 - val_accuracy: 0.8246\n",
      "Epoch 97/100\n",
      "623/623 [==============================] - 0s 159us/step - loss: 0.4367 - accuracy: 0.7592 - val_loss: 0.4510 - val_accuracy: 0.7313\n",
      "Epoch 98/100\n",
      "623/623 [==============================] - 0s 160us/step - loss: 0.4647 - accuracy: 0.7464 - val_loss: 0.4317 - val_accuracy: 0.7127\n",
      "Epoch 99/100\n",
      "623/623 [==============================] - 0s 157us/step - loss: 0.4410 - accuracy: 0.7560 - val_loss: 0.4406 - val_accuracy: 0.7873\n",
      "Epoch 100/100\n",
      "623/623 [==============================] - 0s 162us/step - loss: 0.4995 - accuracy: 0.7544 - val_loss: 0.4734 - val_accuracy: 0.8881\n"
     ]
    }
   ],
   "source": [
    "opt = optimizers.Adam(lr=0.001)\n",
    "ann = build_ann(opt)\n",
    "# Training the ANN\n",
    "history = ann.fit(Xtrain, Ztrain, batch_size=16, epochs=100, validation_data=(Xval, Zval))"
   ]
  },
  {
   "cell_type": "code",
   "execution_count": 57,
   "metadata": {
    "execution": {
     "iopub.execute_input": "2021-08-07T20:44:05.681815Z",
     "iopub.status.busy": "2021-08-07T20:44:05.681595Z",
     "iopub.status.idle": "2021-08-07T20:44:05.858275Z",
     "shell.execute_reply": "2021-08-07T20:44:05.857262Z",
     "shell.execute_reply.started": "2021-08-07T20:44:05.681781Z"
    }
   },
   "outputs": [],
   "source": [
    "# Predicting the Test set results\n",
    "Y_pred = ann.predict(test)\n",
    "Y_pred = (Y_pred > 0.5)*1 # convert probabilities to binary output"
   ]
  },
  {
   "cell_type": "code",
   "execution_count": 58,
   "metadata": {
    "execution": {
     "iopub.execute_input": "2021-08-07T20:44:05.85968Z",
     "iopub.status.busy": "2021-08-07T20:44:05.859432Z",
     "iopub.status.idle": "2021-08-07T20:44:05.887645Z",
     "shell.execute_reply": "2021-08-07T20:44:05.886549Z",
     "shell.execute_reply.started": "2021-08-07T20:44:05.859638Z"
    }
   },
   "outputs": [
    {
     "data": {
      "text/plain": [
       "90.35"
      ]
     },
     "execution_count": 58,
     "metadata": {},
     "output_type": "execute_result"
    }
   ],
   "source": [
    "# Predicting the Train set results\n",
    "ann_prediction = ann.predict(train)\n",
    "ann_prediction = (ann_prediction > 0.5)*1 # convert probabilities to binary output\n",
    "\n",
    "# Compute error between predicted data and true response and display it in confusion matrix\n",
    "acc_ann1 = round(metrics.accuracy_score(target, ann_prediction) * 100, 2)\n",
    "acc_ann1"
   ]
  },
  {
   "cell_type": "code",
   "execution_count": 59,
   "metadata": {
    "execution": {
     "iopub.execute_input": "2021-08-07T20:44:05.889268Z",
     "iopub.status.busy": "2021-08-07T20:44:05.888845Z",
     "iopub.status.idle": "2021-08-07T20:44:05.895874Z",
     "shell.execute_reply": "2021-08-07T20:44:05.894724Z",
     "shell.execute_reply.started": "2021-08-07T20:44:05.889055Z"
    }
   },
   "outputs": [],
   "source": [
    "submission = pd.DataFrame({\"PassengerId\": submission[\"PassengerId\"],\"Survived\": np.reshape(Y_pred, len(Y_pred))})\n",
    "#submission.to_csv('output/submission_ann1.csv', index=False)\n",
    "LB_ann1_all = 0.59330  # old version"
   ]
  },
  {
   "cell_type": "markdown",
   "metadata": {},
   "source": [
    "### 5.17 Neural Network 2 <a class=\"anchor\" id=\"5.17\"></a>\n",
    "\n",
    "[Back to Table of Contents](#0.1)"
   ]
  },
  {
   "cell_type": "markdown",
   "metadata": {},
   "source": [
    "Thanks to https://www.kaggle.com/junheeshin/titanic-analyze-and-predict-nn"
   ]
  },
  {
   "cell_type": "code",
   "execution_count": 60,
   "metadata": {
    "execution": {
     "iopub.execute_input": "2021-08-07T20:44:05.897513Z",
     "iopub.status.busy": "2021-08-07T20:44:05.897228Z",
     "iopub.status.idle": "2021-08-07T20:44:06.024263Z",
     "shell.execute_reply": "2021-08-07T20:44:06.023217Z",
     "shell.execute_reply.started": "2021-08-07T20:44:05.897451Z"
    }
   },
   "outputs": [
    {
     "name": "stdout",
     "output_type": "stream",
     "text": [
      "Model: \"sequential_2\"\n",
      "_________________________________________________________________\n",
      "Layer (type)                 Output Shape              Param #   \n",
      "=================================================================\n",
      "dense_5 (Dense)              (None, 16)                272       \n",
      "_________________________________________________________________\n",
      "dropout_3 (Dropout)          (None, 16)                0         \n",
      "_________________________________________________________________\n",
      "dense_6 (Dense)              (None, 64)                1088      \n",
      "_________________________________________________________________\n",
      "dropout_4 (Dropout)          (None, 64)                0         \n",
      "_________________________________________________________________\n",
      "dense_7 (Dense)              (None, 32)                2080      \n",
      "_________________________________________________________________\n",
      "dense_8 (Dense)              (None, 1)                 33        \n",
      "=================================================================\n",
      "Total params: 3,473\n",
      "Trainable params: 3,473\n",
      "Non-trainable params: 0\n",
      "_________________________________________________________________\n"
     ]
    },
    {
     "name": "stderr",
     "output_type": "stream",
     "text": [
      "/opt/conda/lib/python3.6/site-packages/ipykernel_launcher.py:3: UserWarning: Update your `Dense` call to the Keras 2 API: `Dense(16, input_dim=16, activation=\"relu\", kernel_initializer=\"he_normal\")`\n",
      "  This is separate from the ipykernel package so we can avoid doing imports until\n",
      "/opt/conda/lib/python3.6/site-packages/ipykernel_launcher.py:5: UserWarning: Update your `Dense` call to the Keras 2 API: `Dense(64, activation=\"relu\", kernel_initializer=\"he_normal\")`\n",
      "  \"\"\"\n",
      "/opt/conda/lib/python3.6/site-packages/ipykernel_launcher.py:7: UserWarning: Update your `Dense` call to the Keras 2 API: `Dense(32, activation=\"relu\", kernel_initializer=\"he_normal\")`\n",
      "  import sys\n"
     ]
    }
   ],
   "source": [
    "# Model\n",
    "model = Sequential()\n",
    "model.add(Dense(16, input_dim = train.shape[1], init = 'he_normal', activation = 'relu'))\n",
    "model.add(Dropout(0.3))\n",
    "model.add(Dense(64, init = 'he_normal', activation = 'relu'))\n",
    "model.add(Dropout(0.3))\n",
    "model.add(Dense(32, init = 'he_normal', activation = 'relu'))\n",
    "model.add(Dense(1, activation = 'sigmoid'))\n",
    "model.summary()"
   ]
  },
  {
   "cell_type": "code",
   "execution_count": 61,
   "metadata": {
    "execution": {
     "iopub.execute_input": "2021-08-07T20:44:06.026382Z",
     "iopub.status.busy": "2021-08-07T20:44:06.02599Z",
     "iopub.status.idle": "2021-08-07T20:44:06.095852Z",
     "shell.execute_reply": "2021-08-07T20:44:06.09492Z",
     "shell.execute_reply.started": "2021-08-07T20:44:06.026313Z"
    }
   },
   "outputs": [],
   "source": [
    "model.compile(loss='binary_crossentropy', optimizer='adam', metrics=['accuracy'])"
   ]
  },
  {
   "cell_type": "code",
   "execution_count": 62,
   "metadata": {
    "execution": {
     "iopub.execute_input": "2021-08-07T20:44:06.097733Z",
     "iopub.status.busy": "2021-08-07T20:44:06.097354Z",
     "iopub.status.idle": "2021-08-07T20:44:09.317013Z",
     "shell.execute_reply": "2021-08-07T20:44:09.316083Z",
     "shell.execute_reply.started": "2021-08-07T20:44:06.097666Z"
    }
   },
   "outputs": [
    {
     "name": "stdout",
     "output_type": "stream",
     "text": [
      "Train on 891 samples, validate on 268 samples\n",
      "Epoch 1/500\n",
      "891/891 [==============================] - 0s 374us/step - loss: 25.0711 - accuracy: 0.5309 - val_loss: 9.7298 - val_accuracy: 0.3806\n",
      "Epoch 2/500\n",
      "891/891 [==============================] - 0s 52us/step - loss: 18.0006 - accuracy: 0.5477 - val_loss: 2.6885 - val_accuracy: 0.5075\n",
      "Epoch 3/500\n",
      "891/891 [==============================] - 0s 51us/step - loss: 12.9629 - accuracy: 0.5387 - val_loss: 1.2955 - val_accuracy: 0.6455\n",
      "Epoch 4/500\n",
      "891/891 [==============================] - 0s 48us/step - loss: 12.3413 - accuracy: 0.5230 - val_loss: 3.8303 - val_accuracy: 0.4925\n",
      "Epoch 5/500\n",
      "891/891 [==============================] - 0s 49us/step - loss: 10.6057 - accuracy: 0.5668 - val_loss: 4.7341 - val_accuracy: 0.4925\n",
      "Epoch 6/500\n",
      "891/891 [==============================] - 0s 48us/step - loss: 8.8485 - accuracy: 0.5511 - val_loss: 1.0228 - val_accuracy: 0.6455\n",
      "Epoch 7/500\n",
      "891/891 [==============================] - 0s 56us/step - loss: 8.1929 - accuracy: 0.5657 - val_loss: 0.8268 - val_accuracy: 0.6940\n",
      "Epoch 8/500\n",
      "891/891 [==============================] - 0s 46us/step - loss: 7.2472 - accuracy: 0.5859 - val_loss: 4.6903 - val_accuracy: 0.4739\n",
      "Epoch 9/500\n",
      "891/891 [==============================] - 0s 49us/step - loss: 8.0046 - accuracy: 0.5488 - val_loss: 4.4030 - val_accuracy: 0.4851\n",
      "Epoch 10/500\n",
      "891/891 [==============================] - 0s 49us/step - loss: 6.5279 - accuracy: 0.5421 - val_loss: 1.1221 - val_accuracy: 0.5597\n",
      "Epoch 11/500\n",
      "891/891 [==============================] - 0s 44us/step - loss: 5.3860 - accuracy: 0.5780 - val_loss: 0.7990 - val_accuracy: 0.6418\n",
      "Epoch 12/500\n",
      "891/891 [==============================] - 0s 46us/step - loss: 5.9367 - accuracy: 0.5443 - val_loss: 1.7462 - val_accuracy: 0.5112\n",
      "Epoch 13/500\n",
      "891/891 [==============================] - 0s 47us/step - loss: 5.2609 - accuracy: 0.5499 - val_loss: 1.9253 - val_accuracy: 0.5037\n",
      "Epoch 14/500\n",
      "891/891 [==============================] - 0s 45us/step - loss: 5.0915 - accuracy: 0.5432 - val_loss: 1.2492 - val_accuracy: 0.5112\n",
      "Epoch 15/500\n",
      "891/891 [==============================] - 0s 47us/step - loss: 4.4295 - accuracy: 0.5600 - val_loss: 1.2512 - val_accuracy: 0.4813\n",
      "Epoch 16/500\n",
      "891/891 [==============================] - 0s 50us/step - loss: 4.1835 - accuracy: 0.5668 - val_loss: 1.0897 - val_accuracy: 0.4888\n",
      "Epoch 17/500\n",
      "891/891 [==============================] - 0s 50us/step - loss: 4.4014 - accuracy: 0.5443 - val_loss: 0.7713 - val_accuracy: 0.4963\n",
      "Epoch 18/500\n",
      "891/891 [==============================] - 0s 44us/step - loss: 3.7271 - accuracy: 0.5657 - val_loss: 0.7754 - val_accuracy: 0.6082\n",
      "Epoch 19/500\n",
      "891/891 [==============================] - 0s 45us/step - loss: 3.7165 - accuracy: 0.5724 - val_loss: 1.0677 - val_accuracy: 0.6679\n",
      "Epoch 20/500\n",
      "891/891 [==============================] - 0s 50us/step - loss: 3.6902 - accuracy: 0.5544 - val_loss: 0.8156 - val_accuracy: 0.6716\n",
      "Epoch 21/500\n",
      "891/891 [==============================] - 0s 43us/step - loss: 3.4103 - accuracy: 0.5511 - val_loss: 0.7478 - val_accuracy: 0.6716\n",
      "Epoch 22/500\n",
      "891/891 [==============================] - 0s 42us/step - loss: 2.9781 - accuracy: 0.5634 - val_loss: 0.8204 - val_accuracy: 0.4813\n",
      "Epoch 23/500\n",
      "891/891 [==============================] - 0s 46us/step - loss: 3.0719 - accuracy: 0.5421 - val_loss: 0.6711 - val_accuracy: 0.6679\n",
      "Epoch 24/500\n",
      "891/891 [==============================] - 0s 45us/step - loss: 2.8862 - accuracy: 0.5398 - val_loss: 0.6914 - val_accuracy: 0.6604\n",
      "Epoch 25/500\n",
      "891/891 [==============================] - 0s 45us/step - loss: 2.9357 - accuracy: 0.5477 - val_loss: 0.6391 - val_accuracy: 0.6978\n",
      "Epoch 26/500\n",
      "891/891 [==============================] - 0s 47us/step - loss: 3.0120 - accuracy: 0.5264 - val_loss: 0.7198 - val_accuracy: 0.5896\n",
      "Epoch 27/500\n",
      "891/891 [==============================] - 0s 49us/step - loss: 2.6170 - accuracy: 0.5556 - val_loss: 0.8151 - val_accuracy: 0.6716\n",
      "Epoch 28/500\n",
      "891/891 [==============================] - 0s 48us/step - loss: 2.2656 - accuracy: 0.5511 - val_loss: 0.8254 - val_accuracy: 0.5000\n",
      "Epoch 29/500\n",
      "891/891 [==============================] - 0s 48us/step - loss: 2.6968 - accuracy: 0.5354 - val_loss: 0.6864 - val_accuracy: 0.6791\n",
      "Epoch 30/500\n",
      "891/891 [==============================] - 0s 52us/step - loss: 2.4431 - accuracy: 0.5432 - val_loss: 0.6882 - val_accuracy: 0.6716\n",
      "Epoch 31/500\n",
      "891/891 [==============================] - 0s 53us/step - loss: 2.0363 - accuracy: 0.5836 - val_loss: 0.6479 - val_accuracy: 0.6567\n",
      "Epoch 32/500\n",
      "891/891 [==============================] - 0s 46us/step - loss: 1.9775 - accuracy: 0.5634 - val_loss: 0.6794 - val_accuracy: 0.6791\n",
      "Epoch 33/500\n",
      "891/891 [==============================] - 0s 48us/step - loss: 2.0414 - accuracy: 0.5376 - val_loss: 0.6435 - val_accuracy: 0.7015\n",
      "Epoch 34/500\n",
      "891/891 [==============================] - 0s 48us/step - loss: 1.8541 - accuracy: 0.5713 - val_loss: 0.7289 - val_accuracy: 0.6269\n",
      "Epoch 35/500\n",
      "891/891 [==============================] - 0s 48us/step - loss: 1.9536 - accuracy: 0.5679 - val_loss: 0.8198 - val_accuracy: 0.6418\n",
      "Epoch 36/500\n",
      "891/891 [==============================] - 0s 43us/step - loss: 2.0477 - accuracy: 0.5275 - val_loss: 0.6507 - val_accuracy: 0.6679\n",
      "Epoch 37/500\n",
      "891/891 [==============================] - 0s 45us/step - loss: 1.7126 - accuracy: 0.5780 - val_loss: 0.6971 - val_accuracy: 0.6866\n",
      "Epoch 38/500\n",
      "891/891 [==============================] - 0s 43us/step - loss: 1.7558 - accuracy: 0.5701 - val_loss: 0.6974 - val_accuracy: 0.5821\n",
      "Epoch 39/500\n",
      "891/891 [==============================] - 0s 44us/step - loss: 1.7265 - accuracy: 0.5533 - val_loss: 0.6542 - val_accuracy: 0.6791\n",
      "Epoch 40/500\n",
      "891/891 [==============================] - 0s 48us/step - loss: 1.6784 - accuracy: 0.5802 - val_loss: 0.6252 - val_accuracy: 0.6978\n",
      "Epoch 41/500\n",
      "891/891 [==============================] - 0s 43us/step - loss: 1.6809 - accuracy: 0.5499 - val_loss: 0.6418 - val_accuracy: 0.6791\n",
      "Epoch 42/500\n",
      "891/891 [==============================] - 0s 42us/step - loss: 1.5274 - accuracy: 0.5398 - val_loss: 0.6621 - val_accuracy: 0.6493\n",
      "Epoch 43/500\n",
      "891/891 [==============================] - 0s 48us/step - loss: 1.5074 - accuracy: 0.5937 - val_loss: 0.7801 - val_accuracy: 0.6455\n",
      "Epoch 44/500\n",
      "891/891 [==============================] - 0s 48us/step - loss: 1.4387 - accuracy: 0.5769 - val_loss: 0.8564 - val_accuracy: 0.4664\n",
      "Epoch 45/500\n",
      "891/891 [==============================] - 0s 49us/step - loss: 1.4446 - accuracy: 0.5657 - val_loss: 0.6611 - val_accuracy: 0.6418\n",
      "Epoch 46/500\n",
      "891/891 [==============================] - 0s 46us/step - loss: 1.3542 - accuracy: 0.6016 - val_loss: 0.6254 - val_accuracy: 0.6866\n",
      "Epoch 47/500\n",
      "891/891 [==============================] - 0s 45us/step - loss: 1.3040 - accuracy: 0.6072 - val_loss: 0.6598 - val_accuracy: 0.6530\n",
      "Epoch 48/500\n",
      "891/891 [==============================] - 0s 46us/step - loss: 1.4123 - accuracy: 0.5410 - val_loss: 0.6227 - val_accuracy: 0.7090\n",
      "Epoch 49/500\n",
      "891/891 [==============================] - 0s 43us/step - loss: 1.3642 - accuracy: 0.5634 - val_loss: 0.6391 - val_accuracy: 0.6978\n",
      "Epoch 50/500\n",
      "891/891 [==============================] - 0s 47us/step - loss: 1.5352 - accuracy: 0.5859 - val_loss: 0.6239 - val_accuracy: 0.6903\n",
      "Epoch 51/500\n",
      "891/891 [==============================] - 0s 41us/step - loss: 1.2741 - accuracy: 0.5634 - val_loss: 0.6239 - val_accuracy: 0.7127\n",
      "Epoch 52/500\n",
      "891/891 [==============================] - 0s 49us/step - loss: 1.4157 - accuracy: 0.5477 - val_loss: 0.6762 - val_accuracy: 0.5896\n",
      "Epoch 53/500\n",
      "891/891 [==============================] - 0s 50us/step - loss: 1.3279 - accuracy: 0.5533 - val_loss: 0.6497 - val_accuracy: 0.6269\n",
      "Epoch 54/500\n",
      "891/891 [==============================] - 0s 47us/step - loss: 1.1089 - accuracy: 0.5836 - val_loss: 0.6643 - val_accuracy: 0.6045\n",
      "Epoch 55/500\n",
      "891/891 [==============================] - 0s 47us/step - loss: 1.1347 - accuracy: 0.5802 - val_loss: 0.6867 - val_accuracy: 0.6381\n",
      "Epoch 56/500\n",
      "891/891 [==============================] - 0s 43us/step - loss: 1.2473 - accuracy: 0.5657 - val_loss: 0.6880 - val_accuracy: 0.5970\n",
      "Epoch 57/500\n",
      "891/891 [==============================] - 0s 45us/step - loss: 1.1294 - accuracy: 0.5746 - val_loss: 0.6410 - val_accuracy: 0.6754\n",
      "Epoch 58/500\n",
      "891/891 [==============================] - 0s 45us/step - loss: 1.1752 - accuracy: 0.5825 - val_loss: 0.6467 - val_accuracy: 0.6716\n",
      "Epoch 59/500\n",
      "891/891 [==============================] - 0s 43us/step - loss: 1.1029 - accuracy: 0.5488 - val_loss: 0.6810 - val_accuracy: 0.6530\n",
      "Epoch 60/500\n",
      "891/891 [==============================] - 0s 40us/step - loss: 1.2477 - accuracy: 0.5881 - val_loss: 0.7116 - val_accuracy: 0.4664\n",
      "Epoch 61/500\n",
      "891/891 [==============================] - 0s 53us/step - loss: 1.2835 - accuracy: 0.5140 - val_loss: 0.6520 - val_accuracy: 0.6567\n",
      "Epoch 62/500\n",
      "891/891 [==============================] - 0s 51us/step - loss: 1.0730 - accuracy: 0.5903 - val_loss: 0.6515 - val_accuracy: 0.6866\n",
      "Epoch 63/500\n",
      "891/891 [==============================] - 0s 46us/step - loss: 1.0383 - accuracy: 0.5758 - val_loss: 0.6618 - val_accuracy: 0.6567\n",
      "Epoch 64/500\n",
      "891/891 [==============================] - 0s 44us/step - loss: 1.0639 - accuracy: 0.5881 - val_loss: 0.6917 - val_accuracy: 0.6231\n",
      "Epoch 65/500\n",
      "891/891 [==============================] - 0s 46us/step - loss: 1.0511 - accuracy: 0.5634 - val_loss: 0.6566 - val_accuracy: 0.6493\n",
      "Epoch 66/500\n",
      "891/891 [==============================] - 0s 44us/step - loss: 0.9867 - accuracy: 0.5589 - val_loss: 0.6490 - val_accuracy: 0.6866\n",
      "Epoch 67/500\n",
      "891/891 [==============================] - 0s 44us/step - loss: 0.9466 - accuracy: 0.5814 - val_loss: 0.6543 - val_accuracy: 0.6567\n",
      "Epoch 68/500\n",
      "891/891 [==============================] - 0s 46us/step - loss: 1.0188 - accuracy: 0.5926 - val_loss: 0.6491 - val_accuracy: 0.6418\n",
      "Epoch 69/500\n",
      "891/891 [==============================] - 0s 44us/step - loss: 1.0083 - accuracy: 0.5690 - val_loss: 0.6599 - val_accuracy: 0.6791\n",
      "Epoch 70/500\n",
      "891/891 [==============================] - 0s 43us/step - loss: 0.9858 - accuracy: 0.6027 - val_loss: 0.7501 - val_accuracy: 0.6306\n",
      "Epoch 71/500\n",
      "891/891 [==============================] - 0s 43us/step - loss: 1.0165 - accuracy: 0.5769 - val_loss: 0.6677 - val_accuracy: 0.6679\n"
     ]
    }
   ],
   "source": [
    "es = EarlyStopping(monitor='val_accuracy', patience=20, mode='max')\n",
    "hist = model.fit(train, target, batch_size=64, validation_data=(Xval, Zval), \n",
    "               epochs=500, verbose=1, callbacks=[es])"
   ]
  },
  {
   "cell_type": "code",
   "execution_count": 63,
   "metadata": {
    "execution": {
     "iopub.execute_input": "2021-08-07T20:44:09.319008Z",
     "iopub.status.busy": "2021-08-07T20:44:09.318615Z",
     "iopub.status.idle": "2021-08-07T20:44:09.529118Z",
     "shell.execute_reply": "2021-08-07T20:44:09.5282Z",
     "shell.execute_reply.started": "2021-08-07T20:44:09.31893Z"
    }
   },
   "outputs": [
    {
     "data": {
      "text/plain": [
       "<matplotlib.legend.Legend at 0x7f7bcc5b7358>"
      ]
     },
     "execution_count": 63,
     "metadata": {},
     "output_type": "execute_result"
    },
    {
     "data": {
      "image/png": "[encoded data removed]",
      "text/plain": [
       "<Figure size 432x288 with 1 Axes>"
      ]
     },
     "metadata": {
      "needs_background": "light"
     },
     "output_type": "display_data"
    }
   ],
   "source": [
    "plt.plot(hist.history['accuracy'], label='acc')\n",
    "plt.plot(hist.history['val_accuracy'], label='val_acc')\n",
    "# plt.plot(hist.history['acc'], label='acc')\n",
    "# plt.plot(hist.history['val_acc'], label='val_acc')\n",
    "plt.ylim((0, 1))\n",
    "plt.legend()"
   ]
  },
  {
   "cell_type": "code",
   "execution_count": 64,
   "metadata": {
    "execution": {
     "iopub.execute_input": "2021-08-07T20:44:09.531303Z",
     "iopub.status.busy": "2021-08-07T20:44:09.530734Z",
     "iopub.status.idle": "2021-08-07T20:44:09.748992Z",
     "shell.execute_reply": "2021-08-07T20:44:09.748071Z",
     "shell.execute_reply.started": "2021-08-07T20:44:09.531038Z"
    }
   },
   "outputs": [],
   "source": [
    "# Predicting the Test set results\n",
    "Y_pred = model.predict(test)\n",
    "Y_pred = (Y_pred > 0.5)*1 # convert probabilities to binary output"
   ]
  },
  {
   "cell_type": "code",
   "execution_count": 65,
   "metadata": {
    "execution": {
     "iopub.execute_input": "2021-08-07T20:44:09.75171Z",
     "iopub.status.busy": "2021-08-07T20:44:09.751327Z",
     "iopub.status.idle": "2021-08-07T20:44:09.78339Z",
     "shell.execute_reply": "2021-08-07T20:44:09.782238Z",
     "shell.execute_reply.started": "2021-08-07T20:44:09.751642Z"
    }
   },
   "outputs": [
    {
     "data": {
      "text/plain": [
       "61.17"
      ]
     },
     "execution_count": 65,
     "metadata": {},
     "output_type": "execute_result"
    }
   ],
   "source": [
    "# Predicting the Train set results\n",
    "nn_prediction = model.predict(train)\n",
    "nn_prediction = (nn_prediction > 0.5)*1 # convert probabilities to binary output\n",
    "\n",
    "# Compute error between predicted data and true response\n",
    "acc_ann2 = round(metrics.accuracy_score(target, nn_prediction) * 100, 2)\n",
    "acc_ann2"
   ]
  },
  {
   "cell_type": "code",
   "execution_count": 66,
   "metadata": {
    "execution": {
     "iopub.execute_input": "2021-08-07T20:44:09.78543Z",
     "iopub.status.busy": "2021-08-07T20:44:09.785014Z",
     "iopub.status.idle": "2021-08-07T20:44:09.792382Z",
     "shell.execute_reply": "2021-08-07T20:44:09.79124Z",
     "shell.execute_reply.started": "2021-08-07T20:44:09.78536Z"
    }
   },
   "outputs": [],
   "source": [
    "submission = pd.DataFrame({\"PassengerId\": submission[\"PassengerId\"],\"Survived\": np.reshape(Y_pred, len(Y_pred))})\n",
    "#submission.to_csv('output/submission_ann2.csv', index=False)\n",
    "LB_ann2_all = 0.64114  # old version"
   ]
  },
  {
   "cell_type": "markdown",
   "metadata": {},
   "source": [
    "### 5.18 VotingClassifier (hard voting) <a class=\"anchor\" id=\"5.18\"></a>\n",
    "\n",
    "[Back to Table of Contents](#0.1)"
   ]
  },
  {
   "cell_type": "markdown",
   "metadata": {},
   "source": [
    "Thanks for the example of ensemling different models from \n",
    "https://scikit-learn.org/stable/modules/ensemble.html#Extremely%20Randomized%20Trees"
   ]
  },
  {
   "cell_type": "markdown",
   "metadata": {},
   "source": [
    "The idea behind the **VotingClassifier** is to combine conceptually different machine learning classifiers and use a majority vote (hard vote) or the average predicted probabilities (soft vote) to predict the class labels. Such a classifier can be useful for a set of equally well performing model in order to balance out their individual weaknesses. Reference [sklearn documentation](https://scikit-learn.org/stable/modules/ensemble.html#Voting%20Classifier)."
   ]
  },
  {
   "cell_type": "markdown",
   "metadata": {},
   "source": [
    "The VotingClassifier (with **hard voting**) would classify the sample as “class 1” based on the **majority class label**. Reference [sklearn documentation](https://scikit-learn.org/stable/modules/ensemble.html#Voting%20Classifier)."
   ]
  },
  {
   "cell_type": "code",
   "execution_count": 67,
   "metadata": {
    "execution": {
     "iopub.execute_input": "2021-08-07T20:44:09.794154Z",
     "iopub.status.busy": "2021-08-07T20:44:09.793782Z",
     "iopub.status.idle": "2021-08-07T20:45:38.970325Z",
     "shell.execute_reply": "2021-08-07T20:45:38.969464Z",
     "shell.execute_reply.started": "2021-08-07T20:44:09.794074Z"
    }
   },
   "outputs": [
    {
     "name": "stdout",
     "output_type": "stream",
     "text": [
      "Accuracy: 0.93 (+/- 0.01) [Logistic Regression]\n",
      "Accuracy: 0.94 (+/- 0.02) [Random Forest]\n",
      "Accuracy: 0.93 (+/- 0.02) [Gradient Boosting Classifier]\n",
      "Accuracy: 0.93 (+/- 0.02) [Ensemble]\n"
     ]
    }
   ],
   "source": [
    "Voting_Classifier_hard = VotingClassifier(estimators=[('lr', logreg), ('rf', random_forest), ('gbc', gradient_boosting)], voting='hard')\n",
    "for clf, label in zip([logreg, random_forest, gradient_boosting, Voting_Classifier_hard], \n",
    "                      ['Logistic Regression', 'Random Forest', 'Gradient Boosting Classifier', 'Ensemble']):\n",
    "    scores = cross_val_score(clf, train, target, cv=cv_number, scoring='accuracy')\n",
    "    print(\"Accuracy: %0.2f (+/- %0.2f) [%s]\" % (scores.mean(), scores.std(), label))"
   ]
  },
  {
   "cell_type": "code",
   "execution_count": 68,
   "metadata": {
    "execution": {
     "iopub.execute_input": "2021-08-07T20:45:38.972654Z",
     "iopub.status.busy": "2021-08-07T20:45:38.972342Z",
     "iopub.status.idle": "2021-08-07T20:45:48.373579Z",
     "shell.execute_reply": "2021-08-07T20:45:48.372369Z",
     "shell.execute_reply.started": "2021-08-07T20:45:38.9726Z"
    }
   },
   "outputs": [
    {
     "data": {
      "text/plain": [
       "100.0"
      ]
     },
     "execution_count": 68,
     "metadata": {},
     "output_type": "execute_result"
    }
   ],
   "source": [
    "Voting_Classifier_hard.fit(train, target)\n",
    "Y_pred = Voting_Classifier_hard.predict(test).astype(int)\n",
    "Voting_Classifier_hard.score(train, target)\n",
    "acc_VC_hard = round(Voting_Classifier_hard.score(train, target) * 100, 2)\n",
    "acc_VC_hard"
   ]
  },
  {
   "cell_type": "code",
   "execution_count": 69,
   "metadata": {
    "execution": {
     "iopub.execute_input": "2021-08-07T20:45:48.375499Z",
     "iopub.status.busy": "2021-08-07T20:45:48.375114Z",
     "iopub.status.idle": "2021-08-07T20:45:48.382176Z",
     "shell.execute_reply": "2021-08-07T20:45:48.380909Z",
     "shell.execute_reply.started": "2021-08-07T20:45:48.37543Z"
    }
   },
   "outputs": [],
   "source": [
    "submission = pd.DataFrame({\"PassengerId\": submission[\"PassengerId\"],\"Survived\": Y_pred})\n",
    "#submission.to_csv('output/submission_VC_hard.csv', index=False)\n",
    "LB_VC_hard_all = 0.81339  # old version"
   ]
  },
  {
   "cell_type": "markdown",
   "metadata": {},
   "source": [
    "### 5.19 VotingClassifier (soft voting) <a class=\"anchor\" id=\"5.19\"></a>\n",
    "\n",
    "[Back to Table of Contents](#0.1)"
   ]
  },
  {
   "cell_type": "markdown",
   "metadata": {},
   "source": [
    "Thanks for the example of ensemling different models from \n",
    "https://scikit-learn.org/stable/modules/ensemble.html#Extremely%20Randomized%20Trees"
   ]
  },
  {
   "cell_type": "markdown",
   "metadata": {},
   "source": [
    "In contrast to majority voting (hard voting), **soft voting** returns the class label as argmax of the **sum of predicted probabilities**.\n",
    "Specific weights can be assigned to each classifier via the weights parameter. When weights are provided, the predicted class probabilities for each classifier are collected, multiplied by the classifier weight, and averaged. The final class label is then derived from the class label with the highest average probability. Reference [sklearn documentation](https://scikit-learn.org/stable/modules/ensemble.html#Voting%20Classifier)."
   ]
  },
  {
   "cell_type": "code",
   "execution_count": 70,
   "metadata": {
    "execution": {
     "iopub.execute_input": "2021-08-07T20:45:48.384235Z",
     "iopub.status.busy": "2021-08-07T20:45:48.383904Z",
     "iopub.status.idle": "2021-08-07T20:48:53.382681Z",
     "shell.execute_reply": "2021-08-07T20:48:53.381708Z",
     "shell.execute_reply.started": "2021-08-07T20:45:48.384176Z"
    }
   },
   "outputs": [
    {
     "data": {
      "text/plain": [
       "100.0"
      ]
     },
     "execution_count": 70,
     "metadata": {},
     "output_type": "execute_result"
    }
   ],
   "source": [
    "eclf = VotingClassifier(estimators=[('lr', logreg), ('rf', random_forest), ('gbc', gradient_boosting)], voting='soft')\n",
    "params = {'lr__C': [1.0, 100.0], 'gbc__learning_rate': [0.05, 1]}\n",
    "Voting_Classifier_soft = GridSearchCV(estimator=eclf, param_grid=params, cv=cv_number)\n",
    "Voting_Classifier_soft.fit(train, target)\n",
    "Y_pred = Voting_Classifier_soft.predict(test).astype(int)\n",
    "Voting_Classifier_soft.score(train, target)\n",
    "acc_VC_soft = round(Voting_Classifier_soft.score(train, target) * 100, 2)\n",
    "acc_VC_soft"
   ]
  },
  {
   "cell_type": "code",
   "execution_count": 71,
   "metadata": {
    "execution": {
     "iopub.execute_input": "2021-08-07T20:48:53.384355Z",
     "iopub.status.busy": "2021-08-07T20:48:53.383955Z",
     "iopub.status.idle": "2021-08-07T20:48:53.390312Z",
     "shell.execute_reply": "2021-08-07T20:48:53.389185Z",
     "shell.execute_reply.started": "2021-08-07T20:48:53.384177Z"
    }
   },
   "outputs": [],
   "source": [
    "submission = pd.DataFrame({\"PassengerId\": submission[\"PassengerId\"],\"Survived\": Y_pred})\n",
    "#submission.to_csv('output/submission_VC_soft.csv', index=False)\n",
    "LB_VC_soft_all = 0.81339  # old version"
   ]
  },
  {
   "cell_type": "markdown",
   "metadata": {},
   "source": [
    "### 5.20 The simple rule in one line <a class=\"anchor\" id=\"5.20\"></a>\n",
    "\n",
    "[Back to Table of Contents](#0.1)"
   ]
  },
  {
   "cell_type": "markdown",
   "metadata": {},
   "source": [
    "Thanks to:\n",
    "* https://www.kaggle.com/vbmokin/titanic-top-3-one-line-of-the-prediction-code\n",
    "* https://www.kaggle.com/vbmokin/titanic-top-3-cluster-analysis\n",
    "* https://www.kaggle.com/mauricef/titanic"
   ]
  },
  {
   "cell_type": "code",
   "execution_count": 72,
   "metadata": {
    "execution": {
     "iopub.execute_input": "2021-08-07T20:48:53.391652Z",
     "iopub.status.busy": "2021-08-07T20:48:53.391418Z",
     "iopub.status.idle": "2021-08-07T20:48:53.410503Z",
     "shell.execute_reply": "2021-08-07T20:48:53.409471Z",
     "shell.execute_reply.started": "2021-08-07T20:48:53.391612Z"
    }
   },
   "outputs": [],
   "source": [
    "Y_pred = (((test.WomanOrBoySurvived <= 0.238) & (test.Sex > 0.5) & (test.Alone > 0.5)) | \\\n",
    "          ((test.WomanOrBoySurvived > 0.238) & \\\n",
    "           ~((test.WomanOrBoySurvived > 0.55) & (test.WomanOrBoySurvived <= 0.633))))"
   ]
  },
  {
   "cell_type": "markdown",
   "metadata": {},
   "source": [
    "It's solution generate tuned DecisionTreeClassifier by the GridSearchCV from kernels:\n",
    "https://www.kaggle.com/vbmokin/titanic-top-3-one-line-of-the-prediction-code"
   ]
  },
  {
   "cell_type": "code",
   "execution_count": 73,
   "metadata": {
    "execution": {
     "iopub.execute_input": "2021-08-07T20:48:53.412355Z",
     "iopub.status.busy": "2021-08-07T20:48:53.412045Z",
     "iopub.status.idle": "2021-08-07T20:48:53.43069Z",
     "shell.execute_reply": "2021-08-07T20:48:53.429608Z",
     "shell.execute_reply.started": "2021-08-07T20:48:53.412306Z"
    }
   },
   "outputs": [
    {
     "data": {
      "text/plain": [
       "92.7"
      ]
     },
     "execution_count": 73,
     "metadata": {},
     "output_type": "execute_result"
    }
   ],
   "source": [
    "simple_rule_model = DecisionTreeClassifier(class_weight=None, criterion='gini', max_depth=3,\n",
    "                       max_features=None, max_leaf_nodes=None,\n",
    "                       min_impurity_decrease=0.0, min_impurity_split=None,\n",
    "                       min_samples_leaf=1, min_samples_split=2,\n",
    "                       min_weight_fraction_leaf=0.0, presort=False,\n",
    "                       random_state=1118, splitter='best') \n",
    "simple_rule_model.fit(train, target)\n",
    "Y_pred = simple_rule_model.predict(test).astype(int)\n",
    "simple_rule_model.score(train, target)\n",
    "acc_simple_rule = round(simple_rule_model.score(train, target) * 100, 2)\n",
    "acc_simple_rule"
   ]
  },
  {
   "cell_type": "code",
   "execution_count": 74,
   "metadata": {
    "execution": {
     "iopub.execute_input": "2021-08-07T20:48:53.433563Z",
     "iopub.status.busy": "2021-08-07T20:48:53.432769Z",
     "iopub.status.idle": "2021-08-07T20:48:53.440071Z",
     "shell.execute_reply": "2021-08-07T20:48:53.439471Z",
     "shell.execute_reply.started": "2021-08-07T20:48:53.433486Z"
    }
   },
   "outputs": [],
   "source": [
    "submission = pd.DataFrame({\"PassengerId\": submission[\"PassengerId\"],\"Survived\": Y_pred})\n",
    "#submission.to_csv('output/submission_simple_rule.csv', index=False)\n",
    "LB_simple_rule_all = 0.83253  # old version"
   ]
  },
  {
   "cell_type": "markdown",
   "metadata": {},
   "source": [
    "## 6. Tuning models and test for 3 features <a class=\"anchor\" id=\"6\"></a>\n",
    "\n",
    "[Back to Table of Contents](#0.1)"
   ]
  },
  {
   "cell_type": "markdown",
   "metadata": {},
   "source": [
    "My kernels\n",
    "\n",
    "* [Titanic : one line of the prediction code](https://www.kaggle.com/vbmokin/titanic-top-3-one-line-of-the-prediction-code)\n",
    "* [Titanic : cluster analysis](https://www.kaggle.com/vbmokin/titanic-top-3-cluster-analysis)\n",
    "\n",
    "presents a solutions using a simple rule and only 3 features ('WomanOrBoySurvived', 'Sex', 'Alone'). Let's look at how all these models are tuned for those 3 features and whether we can find an even better solution."
   ]
  },
  {
   "cell_type": "code",
   "execution_count": 75,
   "metadata": {
    "execution": {
     "iopub.execute_input": "2021-08-07T20:48:53.441956Z",
     "iopub.status.busy": "2021-08-07T20:48:53.441367Z",
     "iopub.status.idle": "2021-08-07T20:48:53.462773Z",
     "shell.execute_reply": "2021-08-07T20:48:53.46162Z",
     "shell.execute_reply.started": "2021-08-07T20:48:53.441788Z"
    }
   },
   "outputs": [
    {
     "name": "stdout",
     "output_type": "stream",
     "text": [
      "<class 'pandas.core.frame.DataFrame'>\n",
      "Int64Index: 891 entries, 1 to 891\n",
      "Data columns (total 3 columns):\n",
      "Sex                   891 non-null int64\n",
      "WomanOrBoySurvived    891 non-null float64\n",
      "Alone                 891 non-null int64\n",
      "dtypes: float64(1), int64(2)\n",
      "memory usage: 27.8 KB\n"
     ]
    }
   ],
   "source": [
    "# Preparing datasets for only 3 features ('WomanOrBoySurvived', 'Sex', 'Alone')\n",
    "cols_to_drop3 = ['SibSp', 'Parch', 'Fare', 'LastName', 'Deck',\n",
    "               'Pclass', 'Age', 'Embarked', 'Title', 'IsWomanOrBoy',\n",
    "               'WomanOrBoyCount', 'FamilySurvivedCount', 'Family_Size']\n",
    "train = train.drop(cols_to_drop3, axis=1)\n",
    "test = test.drop(cols_to_drop3, axis=1)\n",
    "Xtrain, Xval, Ztrain, Zval = train_test_split(train, target, test_size=0.3, random_state=SEED)\n",
    "train.info()"
   ]
  },
  {
   "cell_type": "code",
   "execution_count": 76,
   "metadata": {
    "execution": {
     "iopub.execute_input": "2021-08-07T20:48:53.46432Z",
     "iopub.status.busy": "2021-08-07T20:48:53.464031Z",
     "iopub.status.idle": "2021-08-07T20:48:53.480763Z",
     "shell.execute_reply": "2021-08-07T20:48:53.479946Z",
     "shell.execute_reply.started": "2021-08-07T20:48:53.464269Z"
    }
   },
   "outputs": [],
   "source": [
    "# 1. Logistic Regression\n",
    "\n",
    "logreg = LogisticRegression()\n",
    "logreg.fit(train, target)\n",
    "Y_pred = logreg.predict(test).astype(int)\n",
    "acc3_log = round(logreg.score(train, target) * 100, 2)\n",
    "submission = pd.DataFrame({\"PassengerId\": submission[\"PassengerId\"],\"Survived\": Y_pred})\n",
    "submission.to_csv('submission_logreg3.csv', index=False)\n",
    "LB_log = 0.77033"
   ]
  },
  {
   "cell_type": "code",
   "execution_count": 77,
   "metadata": {
    "execution": {
     "iopub.execute_input": "2021-08-07T20:48:53.482967Z",
     "iopub.status.busy": "2021-08-07T20:48:53.482476Z",
     "iopub.status.idle": "2021-08-07T20:48:53.515956Z",
     "shell.execute_reply": "2021-08-07T20:48:53.515043Z",
     "shell.execute_reply.started": "2021-08-07T20:48:53.48291Z"
    }
   },
   "outputs": [],
   "source": [
    "# 2. Support Vector Machines\n",
    "\n",
    "svc = SVC()\n",
    "svc.fit(train, target)\n",
    "Y_pred = svc.predict(test).astype(int)\n",
    "acc3_svc = round(svc.score(train, target) * 100, 2)\n",
    "submission = pd.DataFrame({\"PassengerId\": submission[\"PassengerId\"],\"Survived\": Y_pred})\n",
    "submission.to_csv('submission_svm3.csv', index=False)\n",
    "LB_svc = 0.79904"
   ]
  },
  {
   "cell_type": "code",
   "execution_count": 78,
   "metadata": {
    "execution": {
     "iopub.execute_input": "2021-08-07T20:48:53.517427Z",
     "iopub.status.busy": "2021-08-07T20:48:53.517123Z",
     "iopub.status.idle": "2021-08-07T20:48:53.535463Z",
     "shell.execute_reply": "2021-08-07T20:48:53.534388Z",
     "shell.execute_reply.started": "2021-08-07T20:48:53.517324Z"
    }
   },
   "outputs": [],
   "source": [
    "# 3. Linear SVC\n",
    "\n",
    "linear_svc = LinearSVC(dual=False)\n",
    "linear_svc.fit(train, target)\n",
    "Y_pred = linear_svc.predict(test).astype(int)\n",
    "acc3_linear_svc = round(linear_svc.score(train, target) * 100, 2)\n",
    "submission = pd.DataFrame({\"PassengerId\": submission[\"PassengerId\"],\"Survived\": Y_pred})\n",
    "submission.to_csv('submission_linear_svc3.csv', index=False)\n",
    "LB_linear_svc = 0.77033"
   ]
  },
  {
   "cell_type": "code",
   "execution_count": 79,
   "metadata": {
    "execution": {
     "iopub.execute_input": "2021-08-07T20:48:53.53765Z",
     "iopub.status.busy": "2021-08-07T20:48:53.537113Z",
     "iopub.status.idle": "2021-08-07T20:48:53.791983Z",
     "shell.execute_reply": "2021-08-07T20:48:53.791073Z",
     "shell.execute_reply.started": "2021-08-07T20:48:53.537572Z"
    }
   },
   "outputs": [],
   "source": [
    "# 4. k-Nearest Neighbors algorithm\n",
    "\n",
    "knn = GridSearchCV(estimator=KNeighborsClassifier(), param_grid={'n_neighbors': [2, 3, 4]}, cv=cv_number).fit(train, target)\n",
    "Y_pred = knn.predict(test).astype(int)\n",
    "acc3_knn = round(knn.score(train, target) * 100, 2)\n",
    "submission = pd.DataFrame({\"PassengerId\": submission[\"PassengerId\"],\"Survived\": Y_pred})\n",
    "submission.to_csv('submission_knn3.csv', index=False)\n",
    "LB_knn = 0.77751"
   ]
  },
  {
   "cell_type": "code",
   "execution_count": 80,
   "metadata": {
    "execution": {
     "iopub.execute_input": "2021-08-07T20:48:53.794616Z",
     "iopub.status.busy": "2021-08-07T20:48:53.794221Z",
     "iopub.status.idle": "2021-08-07T20:48:53.813412Z",
     "shell.execute_reply": "2021-08-07T20:48:53.812457Z",
     "shell.execute_reply.started": "2021-08-07T20:48:53.794549Z"
    }
   },
   "outputs": [],
   "source": [
    "# 5. Gaussian Naive Bayes\n",
    "\n",
    "gaussian = GaussianNB()\n",
    "gaussian.fit(train, target)\n",
    "Y_pred = gaussian.predict(test).astype(int)\n",
    "acc3_gaussian = round(gaussian.score(train, target) * 100, 2)\n",
    "submission = pd.DataFrame({\"PassengerId\": submission[\"PassengerId\"],\"Survived\": Y_pred})\n",
    "submission.to_csv('submission_GaussianNB3.csv', index=False)\n",
    "LB_gaussian = 0.68899"
   ]
  },
  {
   "cell_type": "code",
   "execution_count": 81,
   "metadata": {
    "execution": {
     "iopub.execute_input": "2021-08-07T20:48:53.815421Z",
     "iopub.status.busy": "2021-08-07T20:48:53.815057Z",
     "iopub.status.idle": "2021-08-07T20:48:53.833338Z",
     "shell.execute_reply": "2021-08-07T20:48:53.832424Z",
     "shell.execute_reply.started": "2021-08-07T20:48:53.815356Z"
    }
   },
   "outputs": [],
   "source": [
    "# 6. Perceptron\n",
    "\n",
    "perceptron = Perceptron()\n",
    "perceptron.fit(train, target)\n",
    "Y_pred = perceptron.predict(test).astype(int)\n",
    "acc3_perceptron = round(perceptron.score(train, target) * 100, 2)\n",
    "submission = pd.DataFrame({\"PassengerId\": submission[\"PassengerId\"],\"Survived\": Y_pred})\n",
    "submission.to_csv('submission_perceptron3.csv', index=False)\n",
    "LB_perceptron = 0.77511"
   ]
  },
  {
   "cell_type": "code",
   "execution_count": 82,
   "metadata": {
    "execution": {
     "iopub.execute_input": "2021-08-07T20:48:53.835568Z",
     "iopub.status.busy": "2021-08-07T20:48:53.835216Z",
     "iopub.status.idle": "2021-08-07T20:48:53.857728Z",
     "shell.execute_reply": "2021-08-07T20:48:53.856828Z",
     "shell.execute_reply.started": "2021-08-07T20:48:53.835503Z"
    }
   },
   "outputs": [],
   "source": [
    "# 7. Stochastic Gradient Descent\n",
    "\n",
    "sgd = SGDClassifier()\n",
    "sgd.fit(train, target)\n",
    "Y_pred = sgd.predict(test).astype(int)\n",
    "acc3_sgd = round(sgd.score(train, target) * 100, 2)\n",
    "submission = pd.DataFrame({\"PassengerId\": submission[\"PassengerId\"],\"Survived\": Y_pred})\n",
    "submission.to_csv('submission_sgd3.csv', index=False)\n",
    "LB_sgd = 0.77511"
   ]
  },
  {
   "cell_type": "code",
   "execution_count": 83,
   "metadata": {
    "execution": {
     "iopub.execute_input": "2021-08-07T20:48:53.859542Z",
     "iopub.status.busy": "2021-08-07T20:48:53.859198Z",
     "iopub.status.idle": "2021-08-07T20:48:53.878432Z",
     "shell.execute_reply": "2021-08-07T20:48:53.877343Z",
     "shell.execute_reply.started": "2021-08-07T20:48:53.85948Z"
    }
   },
   "outputs": [],
   "source": [
    "# 8. Decision Tree Classifier\n",
    "\n",
    "decision_tree = DecisionTreeClassifier()\n",
    "decision_tree.fit(train, target)\n",
    "Y_pred = decision_tree.predict(test).astype(int)\n",
    "acc3_decision_tree = round(decision_tree.score(train, target) * 100, 2)\n",
    "submission = pd.DataFrame({\"PassengerId\": submission[\"PassengerId\"],\"Survived\": Y_pred})\n",
    "submission.to_csv('submission_decision_tree3.csv', index=False)\n",
    "LB_decision_tree = 0.80382"
   ]
  },
  {
   "cell_type": "code",
   "execution_count": 84,
   "metadata": {
    "execution": {
     "iopub.execute_input": "2021-08-07T20:48:53.880166Z",
     "iopub.status.busy": "2021-08-07T20:48:53.879794Z",
     "iopub.status.idle": "2021-08-07T20:49:08.530277Z",
     "shell.execute_reply": "2021-08-07T20:49:08.529275Z",
     "shell.execute_reply.started": "2021-08-07T20:48:53.880076Z"
    }
   },
   "outputs": [],
   "source": [
    "# 9. Random Forest\n",
    "\n",
    "random_forest = GridSearchCV(estimator=RandomForestClassifier(), param_grid={'n_estimators': [200, 300, 400, 500]}, cv=cv_number).fit(train, target)\n",
    "random_forest.fit(train, target)\n",
    "Y_pred = random_forest.predict(test).astype(int)\n",
    "random_forest.score(train, target)\n",
    "acc3_random_forest = round(random_forest.score(train, target) * 100, 2)\n",
    "submission = pd.DataFrame({\"PassengerId\": submission[\"PassengerId\"],\"Survived\": Y_pred})\n",
    "submission.to_csv('submission_random_forest3.csv', index=False)\n",
    "LB_random_forest = 0.80382"
   ]
  },
  {
   "cell_type": "code",
   "execution_count": 85,
   "metadata": {
    "execution": {
     "iopub.execute_input": "2021-08-07T20:49:08.53178Z",
     "iopub.status.busy": "2021-08-07T20:49:08.531527Z",
     "iopub.status.idle": "2021-08-07T20:49:18.573879Z",
     "shell.execute_reply": "2021-08-07T20:49:18.572756Z",
     "shell.execute_reply.started": "2021-08-07T20:49:08.53173Z"
    }
   },
   "outputs": [
    {
     "name": "stdout",
     "output_type": "stream",
     "text": [
      "0.777744808384463\n",
      "{'booster': 'gbtree', 'colsample_bytree': 0.525, 'eta': 0.45, 'eval_metric': 'auc', 'gamma': 0.935, 'learning_rate': 0.0015, 'max_depth': 4, 'min_child_weight': 7.300000000000001, 'missing': None, 'n_estimators': 948, 'objective': 'binary:logistic', 'silent': 1, 'subsample': 0.995, 'tree_method': 'exact'}\n",
      "0.9091068935348663\n",
      "{'booster': 'gbtree', 'colsample_bytree': 0.67, 'eta': 0.315, 'eval_metric': 'auc', 'gamma': 0.665, 'learning_rate': 0.047, 'max_depth': 5, 'min_child_weight': 6.625, 'missing': None, 'n_estimators': 452, 'objective': 'binary:logistic', 'silent': 1, 'subsample': 0.555, 'tree_method': 'exact'}\n",
      "0.9214665150240071\n",
      "{'booster': 'gbtree', 'colsample_bytree': 0.86, 'eta': 0.35000000000000003, 'eval_metric': 'auc', 'gamma': 0.875, 'learning_rate': 0.0358, 'max_depth': 6, 'min_child_weight': 6.0, 'missing': None, 'n_estimators': 408, 'objective': 'binary:logistic', 'silent': 1, 'subsample': 0.9400000000000001, 'tree_method': 'exact'}\n",
      "0.9158484665685741\n",
      "{'booster': 'gbtree', 'colsample_bytree': 0.975, 'eta': 0.115, 'eval_metric': 'auc', 'gamma': 0.6900000000000001, 'learning_rate': 0.0402, 'max_depth': 7, 'min_child_weight': 8.375, 'missing': None, 'n_estimators': 494, 'objective': 'binary:logistic', 'silent': 1, 'subsample': 0.965, 'tree_method': 'exact'}\n",
      "0.8989817670625477\n",
      "{'booster': 'gbtree', 'colsample_bytree': 0.61, 'eta': 0.365, 'eval_metric': 'auc', 'gamma': 0.91, 'learning_rate': 0.0342, 'max_depth': 7, 'min_child_weight': 1.75, 'missing': None, 'n_estimators': 399, 'objective': 'binary:logistic', 'silent': 1, 'subsample': 0.6, 'tree_method': 'exact'}\n",
      "0.9214665150240071\n",
      "{'booster': 'gbtree', 'colsample_bytree': 0.79, 'eta': 0.275, 'eval_metric': 'auc', 'gamma': 0.875, 'learning_rate': 0.041600000000000005, 'max_depth': 4, 'min_child_weight': 1.2750000000000001, 'missing': None, 'n_estimators': 704, 'objective': 'binary:logistic', 'silent': 1, 'subsample': 0.795, 'tree_method': 'exact'}\n",
      "0.89675975525811\n",
      "{'booster': 'gbtree', 'colsample_bytree': 0.715, 'eta': 0.335, 'eval_metric': 'auc', 'gamma': 0.775, 'learning_rate': 0.003, 'max_depth': 6, 'min_child_weight': 7.825, 'missing': None, 'n_estimators': 805, 'objective': 'binary:logistic', 'silent': 1, 'subsample': 0.58, 'tree_method': 'exact'}\n",
      "0.9180957285071532\n",
      "{'booster': 'gbtree', 'colsample_bytree': 0.885, 'eta': 0.085, 'eval_metric': 'auc', 'gamma': 0.635, 'learning_rate': 0.0368, 'max_depth': 5, 'min_child_weight': 5.125, 'missing': None, 'n_estimators': 726, 'objective': 'binary:logistic', 'silent': 1, 'subsample': 0.8150000000000001, 'tree_method': 'exact'}\n",
      "0.9012290290011267\n",
      "{'booster': 'gbtree', 'colsample_bytree': 0.96, 'eta': 0.28500000000000003, 'eval_metric': 'auc', 'gamma': 0.73, 'learning_rate': 0.0004, 'max_depth': 7, 'min_child_weight': 8.0, 'missing': None, 'n_estimators': 960, 'objective': 'binary:logistic', 'silent': 1, 'subsample': 0.89, 'tree_method': 'exact'}\n",
      "0.9214665150240071\n",
      "{'booster': 'gbtree', 'colsample_bytree': 0.8150000000000001, 'eta': 0.48, 'eval_metric': 'auc', 'gamma': 0.6950000000000001, 'learning_rate': 0.0291, 'max_depth': 4, 'min_child_weight': 2.5, 'missing': None, 'n_estimators': 788, 'objective': 'binary:logistic', 'silent': 1, 'subsample': 0.925, 'tree_method': 'exact'}\n",
      "100%|██████████| 10/10 [00:10<00:00,  1.01s/it, best loss: 0.777744808384463]\n",
      "{'booster': 'gbtree', 'colsample_bytree': 0.525, 'eta': 0.45, 'eval_metric': 'auc', 'gamma': 0.935, 'learning_rate': 0.0015, 'max_depth': 4, 'min_child_weight': 7.300000000000001, 'missing': None, 'n_estimators': 948, 'objective': 'binary:logistic', 'silent': 1, 'subsample': 0.995, 'tree_method': 'exact'}\n"
     ]
    }
   ],
   "source": [
    "# 10. XGB_Classifier\n",
    "\n",
    "def hyperopt_xgb_score(params):\n",
    "    clf = XGBClassifier(**params)\n",
    "    current_score = cross_val_score(clf, train, target, cv=cv_number).mean()\n",
    "    print(current_score, params)\n",
    "    return current_score \n",
    " \n",
    "space_xgb = {\n",
    "            'learning_rate': hp.quniform('learning_rate', 0, 0.05, 0.0001),\n",
    "            'n_estimators': hp.choice('n_estimators', range(100, 1000)),\n",
    "            'eta': hp.quniform('eta', 0.025, 0.5, 0.005),\n",
    "            'max_depth':  hp.choice('max_depth', np.arange(4, 8, dtype=int)),\n",
    "            'min_child_weight': hp.quniform('min_child_weight', 1, 9, 0.025),\n",
    "            'subsample': hp.quniform('subsample', 0.5, 1, 0.005),\n",
    "            'gamma': hp.quniform('gamma', 0.5, 1, 0.005),\n",
    "            'colsample_bytree': hp.quniform('colsample_bytree', 0.5, 1, 0.005),\n",
    "            'eval_metric': 'auc',\n",
    "            'objective': 'binary:logistic',\n",
    "            'booster': 'gbtree',\n",
    "            'tree_method': 'exact',\n",
    "            'silent': 1,\n",
    "            'missing': None\n",
    "        }\n",
    " \n",
    "best = fmin(fn=hyperopt_xgb_score, space=space_xgb, algo=tpe.suggest, max_evals=10)\n",
    "params = space_eval(space_xgb, best)\n",
    "XGB_Classifier = XGBClassifier(**params)\n",
    "XGB_Classifier.fit(train, target)\n",
    "Y_pred = XGB_Classifier.predict(test).astype(int)\n",
    "XGB_Classifier.score(train, target)\n",
    "acc3_XGB_Classifier = round(XGB_Classifier.score(train, target) * 100, 2)\n",
    "submission = pd.DataFrame({\"PassengerId\": submission[\"PassengerId\"],\"Survived\": Y_pred})\n",
    "submission.to_csv('submission_XGB_Classifier3.csv', index=False)\n",
    "LB_XGB_Classifier = 0.68899\n",
    "print(params)"
   ]
  },
  {
   "cell_type": "code",
   "execution_count": 86,
   "metadata": {
    "execution": {
     "iopub.execute_input": "2021-08-07T20:49:18.576372Z",
     "iopub.status.busy": "2021-08-07T20:49:18.576104Z",
     "iopub.status.idle": "2021-08-07T20:49:24.015635Z",
     "shell.execute_reply": "2021-08-07T20:49:24.014709Z",
     "shell.execute_reply.started": "2021-08-07T20:49:18.576333Z"
    }
   },
   "outputs": [
    {
     "name": "stdout",
     "output_type": "stream",
     "text": [
      "0.8710614312357636\n",
      "{'boosting_type': 'gbdt', 'colsample_bytree': 0.64, 'learning_rate': 0.0083, 'max_depth': 5, 'min_child_weight': 3.575, 'n_estimators': 546, 'num_leaves': 88, 'objective': 'binary'}\n",
      "0.9214665150240071\n",
      "{'boosting_type': 'gbdt', 'colsample_bytree': 0.77, 'learning_rate': 0.0179, 'max_depth': 5, 'min_child_weight': 5.3500000000000005, 'n_estimators': 815, 'num_leaves': 92, 'objective': 'binary'}\n",
      "0.9001495857665847\n",
      "{'boosting_type': 'gbdt', 'colsample_bytree': 0.885, 'learning_rate': 0.013800000000000002, 'max_depth': 5, 'min_child_weight': 6.0, 'n_estimators': 130, 'num_leaves': 120, 'objective': 'binary'}\n",
      "0.9012290290011267\n",
      "{'boosting_type': 'gbdt', 'colsample_bytree': 0.53, 'learning_rate': 0.009600000000000001, 'max_depth': 6, 'min_child_weight': 1.75, 'n_estimators': 962, 'num_leaves': 90, 'objective': 'binary'}\n",
      "0.9091068935348663\n",
      "{'boosting_type': 'gbdt', 'colsample_bytree': 0.725, 'learning_rate': 0.019200000000000002, 'max_depth': 4, 'min_child_weight': 8.9, 'n_estimators': 952, 'num_leaves': 96, 'objective': 'binary'}\n",
      "0.9214665150240071\n",
      "{'boosting_type': 'gbdt', 'colsample_bytree': 0.685, 'learning_rate': 0.012100000000000001, 'max_depth': 4, 'min_child_weight': 3.3000000000000003, 'n_estimators': 918, 'num_leaves': 86, 'objective': 'binary'}\n",
      "0.9024030538476844\n",
      "{'boosting_type': 'gbdt', 'colsample_bytree': 0.54, 'learning_rate': 0.0494, 'max_depth': 4, 'min_child_weight': 1.75, 'n_estimators': 666, 'num_leaves': 44, 'objective': 'binary'}\n",
      "0.8990196422637597\n",
      "{'boosting_type': 'gbdt', 'colsample_bytree': 0.54, 'learning_rate': 0.0379, 'max_depth': 6, 'min_child_weight': 7.9, 'n_estimators': 827, 'num_leaves': 60, 'objective': 'binary'}\n",
      "0.9214665150240071\n",
      "{'boosting_type': 'gbdt', 'colsample_bytree': 0.865, 'learning_rate': 0.0076, 'max_depth': 4, 'min_child_weight': 6.800000000000001, 'n_estimators': 639, 'num_leaves': 54, 'objective': 'binary'}\n",
      "0.9214665150240071\n",
      "{'boosting_type': 'gbdt', 'colsample_bytree': 0.8300000000000001, 'learning_rate': 0.017, 'max_depth': 5, 'min_child_weight': 4.325, 'n_estimators': 548, 'num_leaves': 60, 'objective': 'binary'}\n",
      "100%|██████████| 10/10 [00:05<00:00,  1.73it/s, best loss: 0.8710614312357636]\n",
      "{'boosting_type': 'gbdt', 'colsample_bytree': 0.64, 'learning_rate': 0.0083, 'max_depth': 5, 'min_child_weight': 3.575, 'n_estimators': 546, 'num_leaves': 88, 'objective': 'binary'}\n"
     ]
    }
   ],
   "source": [
    "# 11. LGBM_Classifier\n",
    "\n",
    "def hyperopt_lgb_score(params):\n",
    "    clf = LGBMClassifier(**params)\n",
    "    current_score = cross_val_score(clf, train, target, cv=cv_number).mean()\n",
    "    print(current_score, params)\n",
    "    return current_score \n",
    " \n",
    "space_lgb = {\n",
    "            'learning_rate': hp.quniform('learning_rate', 0, 0.05, 0.0001),\n",
    "            'n_estimators': hp.choice('n_estimators', range(100, 1000)),\n",
    "            'max_depth':  hp.choice('max_depth', np.arange(4, 7, dtype=int)),\n",
    "            'num_leaves': hp.choice('num_leaves', 2*np.arange(20, 2**6, dtype=int)),\n",
    "            'min_child_weight': hp.quniform('min_child_weight', 1, 9, 0.025),\n",
    "            'colsample_bytree': hp.quniform('colsample_bytree', 0.5, 1, 0.005),\n",
    "            'objective': 'binary',\n",
    "            'boosting_type': 'gbdt',\n",
    "            }\n",
    " \n",
    "best = fmin(fn=hyperopt_lgb_score, space=space_lgb, algo=tpe.suggest, max_evals=10)\n",
    "params = space_eval(space_lgb, best)\n",
    "LGB_Classifier = LGBMClassifier(**params)\n",
    "LGB_Classifier.fit(train, target)\n",
    "Y_pred = LGB_Classifier.predict(test).astype(int)\n",
    "LGB_Classifier.score(train, target)\n",
    "acc3_LGB_Classifier = round(LGB_Classifier.score(train, target) * 100, 2)\n",
    "submission = pd.DataFrame({\"PassengerId\": submission[\"PassengerId\"],\"Survived\": Y_pred})\n",
    "submission.to_csv('submission_LGB_Classifier3.csv', index=False)\n",
    "LB_LGB_Classifier = 0.62200\n",
    "print(params)"
   ]
  },
  {
   "cell_type": "code",
   "execution_count": 87,
   "metadata": {
    "execution": {
     "iopub.execute_input": "2021-08-07T20:49:24.017295Z",
     "iopub.status.busy": "2021-08-07T20:49:24.016979Z",
     "iopub.status.idle": "2021-08-07T20:49:41.499985Z",
     "shell.execute_reply": "2021-08-07T20:49:41.499089Z",
     "shell.execute_reply.started": "2021-08-07T20:49:24.017194Z"
    }
   },
   "outputs": [
    {
     "name": "stdout",
     "output_type": "stream",
     "text": [
      "0.9214665150240071\n",
      "{'max_depth': 5, 'max_features': None, 'n_estimators': 360}\n",
      "0.9214665150240071\n",
      "{'max_depth': 6, 'max_features': None, 'n_estimators': 324}\n",
      "0.9214665150240071\n",
      "{'max_depth': 6, 'max_features': None, 'n_estimators': 603}\n",
      "0.9214665150240071\n",
      "{'max_depth': 7, 'max_features': None, 'n_estimators': 288}\n",
      "0.9214665150240071\n",
      "{'max_depth': 4, 'max_features': None, 'n_estimators': 739}\n",
      "100%|██████████| 5/5 [00:09<00:00,  1.92s/it, best loss: 0.9214665150240071]\n",
      "{'max_depth': 5, 'max_features': None, 'n_estimators': 360}\n"
     ]
    }
   ],
   "source": [
    "# 12. GradientBoostingClassifier\n",
    "\n",
    "def hyperopt_gb_score(params):\n",
    "    clf = GradientBoostingClassifier(**params)\n",
    "    current_score = cross_val_score(clf, train, target, cv=cv_number).mean()\n",
    "    print(current_score, params)\n",
    "    return current_score \n",
    " \n",
    "space_gb = {\n",
    "            'n_estimators': hp.choice('n_estimators', range(100, 1000)),\n",
    "            'max_depth': hp.choice('max_depth', np.arange(4, 8, dtype=int)),\n",
    "            'max_features': None\n",
    "        }\n",
    " \n",
    "best = fmin(fn=hyperopt_gb_score, space=space_gb, algo=tpe.suggest, max_evals=5)\n",
    "params = space_eval(space_gb, best)\n",
    "gradient_boosting = GradientBoostingClassifier(**params)\n",
    "gradient_boosting.fit(train, target)\n",
    "Y_pred = gradient_boosting.predict(test).astype(int)\n",
    "gradient_boosting.score(train, target)\n",
    "acc3_gradient_boosting = round(gradient_boosting.score(train, target) * 100, 2)\n",
    "submission = pd.DataFrame({\"PassengerId\": submission[\"PassengerId\"],\"Survived\": Y_pred})\n",
    "submission.to_csv('submission_gradient_boosting3.csv', index=False)\n",
    "LB_GBC = 0.80382\n",
    "print(params)"
   ]
  },
  {
   "cell_type": "code",
   "execution_count": 88,
   "metadata": {
    "execution": {
     "iopub.execute_input": "2021-08-07T20:49:41.501961Z",
     "iopub.status.busy": "2021-08-07T20:49:41.501602Z",
     "iopub.status.idle": "2021-08-07T20:49:41.521745Z",
     "shell.execute_reply": "2021-08-07T20:49:41.521Z",
     "shell.execute_reply.started": "2021-08-07T20:49:41.501889Z"
    }
   },
   "outputs": [],
   "source": [
    "# 13. Ridge Classifier\n",
    "\n",
    "ridge_classifier = RidgeClassifier()\n",
    "ridge_classifier.fit(train, target)\n",
    "Y_pred = ridge_classifier.predict(test).astype(int)\n",
    "ridge_classifier.score(train, target)\n",
    "acc3_ridge_classifier = round(ridge_classifier.score(train, target) * 100, 2)\n",
    "submission = pd.DataFrame({\"PassengerId\": submission[\"PassengerId\"],\"Survived\": Y_pred})\n",
    "submission.to_csv('submission_ridge_classifier3.csv', index=False)\n",
    "LB_RidgeClassifier = 0.77511"
   ]
  },
  {
   "cell_type": "code",
   "execution_count": 89,
   "metadata": {
    "execution": {
     "iopub.execute_input": "2021-08-07T20:49:41.523443Z",
     "iopub.status.busy": "2021-08-07T20:49:41.523176Z",
     "iopub.status.idle": "2021-08-07T20:49:41.559749Z",
     "shell.execute_reply": "2021-08-07T20:49:41.558857Z",
     "shell.execute_reply.started": "2021-08-07T20:49:41.523399Z"
    }
   },
   "outputs": [],
   "source": [
    "# 14. Bagging Classifier\n",
    "\n",
    "bagging_classifier = BaggingClassifier()\n",
    "bagging_classifier.fit(train, target)\n",
    "Y_pred = bagging_classifier.predict(test).astype(int)\n",
    "bagging_classifier.score(train, target)\n",
    "acc3_bagging_classifier = round(bagging_classifier.score(train, target) * 100, 2)\n",
    "submission = pd.DataFrame({\"PassengerId\": submission[\"PassengerId\"],\"Survived\": Y_pred})\n",
    "submission.to_csv('submission_bagging_classifier3.csv', index=False)\n",
    "LB_bagging_classifier = 0.80382"
   ]
  },
  {
   "cell_type": "code",
   "execution_count": 90,
   "metadata": {
    "execution": {
     "iopub.execute_input": "2021-08-07T20:49:41.561682Z",
     "iopub.status.busy": "2021-08-07T20:49:41.561311Z",
     "iopub.status.idle": "2021-08-07T20:49:56.058734Z",
     "shell.execute_reply": "2021-08-07T20:49:56.057565Z",
     "shell.execute_reply.started": "2021-08-07T20:49:41.561615Z"
    }
   },
   "outputs": [
    {
     "name": "stdout",
     "output_type": "stream",
     "text": [
      "0.9180957285071532\n",
      "{'max_depth': 3, 'max_features': None, 'min_samples_leaf': 1, 'n_estimators': 211}\n",
      "0.9180957285071532\n",
      "{'max_depth': 3, 'max_features': None, 'min_samples_leaf': 4, 'n_estimators': 719}\n",
      "0.9214665150240071\n",
      "{'max_depth': 5, 'max_features': None, 'min_samples_leaf': 2, 'n_estimators': 668}\n",
      "0.9180957285071532\n",
      "{'max_depth': 3, 'max_features': None, 'min_samples_leaf': 4, 'n_estimators': 469}\n",
      "0.9180957285071532\n",
      "{'max_depth': 4, 'max_features': None, 'min_samples_leaf': 3, 'n_estimators': 850}\n",
      "100%|██████████| 5/5 [00:13<00:00,  2.70s/it, best loss: 0.9180957285071532]\n",
      "{'max_depth': 3, 'max_features': None, 'min_samples_leaf': 1, 'n_estimators': 211}\n"
     ]
    }
   ],
   "source": [
    "# 15. Extra Trees Classifier\n",
    "\n",
    "def hyperopt_etc_score(params):\n",
    "    clf = ExtraTreesClassifier(**params)\n",
    "    current_score = cross_val_score(clf, train, target, cv=cv_number).mean()\n",
    "    print(current_score, params)\n",
    "    return current_score \n",
    " \n",
    "space_etc = {\n",
    "            'n_estimators': hp.choice('n_estimators', range(100, 1000)),\n",
    "            'max_features': hp.choice('max_features', np.arange(2, 10, dtype=int)),\n",
    "            'min_samples_leaf': hp.choice('min_samples_leaf', np.arange(1, 5, dtype=int)),\n",
    "            'max_depth':  hp.choice('max_depth', np.arange(2, 8, dtype=int)),\n",
    "            'max_features': None\n",
    "        }\n",
    " \n",
    "best = fmin(fn=hyperopt_etc_score, space=space_etc, algo=tpe.suggest, max_evals=5)\n",
    "params = space_eval(space_etc, best)\n",
    "extra_trees_classifier = ExtraTreesClassifier(**params)\n",
    "extra_trees_classifier.fit(train, target)\n",
    "Y_pred = extra_trees_classifier.predict(test).astype(int)\n",
    "extra_trees_classifier.score(train, target)\n",
    "acc3_etc = round(extra_trees_classifier.score(train, target) * 100, 2)\n",
    "submission = pd.DataFrame({\"PassengerId\": submission[\"PassengerId\"],\"Survived\": Y_pred})\n",
    "submission.to_csv('submission_etc3.csv', index=False)\n",
    "LB_ETC = 0.79904\n",
    "print(params)"
   ]
  },
  {
   "cell_type": "code",
   "execution_count": 91,
   "metadata": {
    "execution": {
     "iopub.execute_input": "2021-08-07T20:49:56.060829Z",
     "iopub.status.busy": "2021-08-07T20:49:56.060566Z",
     "iopub.status.idle": "2021-08-07T20:50:08.167285Z",
     "shell.execute_reply": "2021-08-07T20:50:08.166413Z",
     "shell.execute_reply.started": "2021-08-07T20:49:56.060785Z"
    }
   },
   "outputs": [
    {
     "name": "stdout",
     "output_type": "stream",
     "text": [
      "Train on 623 samples, validate on 268 samples\n",
      "Epoch 1/100\n",
      "623/623 [==============================] - 0s 642us/step - loss: 0.6393 - accuracy: 0.6838 - val_loss: 0.5469 - val_accuracy: 0.7910\n",
      "Epoch 2/100\n",
      "623/623 [==============================] - 0s 166us/step - loss: 0.4670 - accuracy: 0.8074 - val_loss: 0.3263 - val_accuracy: 0.9030\n",
      "Epoch 3/100\n",
      "623/623 [==============================] - 0s 186us/step - loss: 0.2969 - accuracy: 0.8748 - val_loss: 0.2122 - val_accuracy: 0.9030\n",
      "Epoch 4/100\n",
      "623/623 [==============================] - 0s 175us/step - loss: 0.2476 - accuracy: 0.8925 - val_loss: 0.1987 - val_accuracy: 0.9030\n",
      "Epoch 5/100\n",
      "623/623 [==============================] - 0s 167us/step - loss: 0.2209 - accuracy: 0.8957 - val_loss: 0.1929 - val_accuracy: 0.9030\n",
      "Epoch 6/100\n",
      "623/623 [==============================] - 0s 164us/step - loss: 0.2270 - accuracy: 0.9021 - val_loss: 0.1989 - val_accuracy: 0.9142\n",
      "Epoch 7/100\n",
      "623/623 [==============================] - 0s 161us/step - loss: 0.2202 - accuracy: 0.9021 - val_loss: 0.1889 - val_accuracy: 0.9142\n",
      "Epoch 8/100\n",
      "623/623 [==============================] - 0s 170us/step - loss: 0.2114 - accuracy: 0.9165 - val_loss: 0.1925 - val_accuracy: 0.9142\n",
      "Epoch 9/100\n",
      "623/623 [==============================] - 0s 172us/step - loss: 0.2081 - accuracy: 0.9181 - val_loss: 0.1889 - val_accuracy: 0.9142\n",
      "Epoch 10/100\n",
      "623/623 [==============================] - 0s 162us/step - loss: 0.1994 - accuracy: 0.9037 - val_loss: 0.1867 - val_accuracy: 0.9142\n",
      "Epoch 11/100\n",
      "623/623 [==============================] - 0s 167us/step - loss: 0.1969 - accuracy: 0.9133 - val_loss: 0.1904 - val_accuracy: 0.9142\n",
      "Epoch 12/100\n",
      "623/623 [==============================] - 0s 194us/step - loss: 0.2035 - accuracy: 0.9133 - val_loss: 0.1861 - val_accuracy: 0.9142\n",
      "Epoch 13/100\n",
      "623/623 [==============================] - 0s 189us/step - loss: 0.2035 - accuracy: 0.9149 - val_loss: 0.1935 - val_accuracy: 0.9142\n",
      "Epoch 14/100\n",
      "623/623 [==============================] - 0s 172us/step - loss: 0.2016 - accuracy: 0.9165 - val_loss: 0.1918 - val_accuracy: 0.9142\n",
      "Epoch 15/100\n",
      "623/623 [==============================] - 0s 159us/step - loss: 0.2067 - accuracy: 0.9133 - val_loss: 0.1874 - val_accuracy: 0.9142\n",
      "Epoch 16/100\n",
      "623/623 [==============================] - 0s 169us/step - loss: 0.2053 - accuracy: 0.9149 - val_loss: 0.1833 - val_accuracy: 0.9142\n",
      "Epoch 17/100\n",
      "623/623 [==============================] - 0s 161us/step - loss: 0.1914 - accuracy: 0.9181 - val_loss: 0.1851 - val_accuracy: 0.9142\n",
      "Epoch 18/100\n",
      "623/623 [==============================] - 0s 167us/step - loss: 0.1938 - accuracy: 0.9197 - val_loss: 0.1871 - val_accuracy: 0.9142\n",
      "Epoch 19/100\n",
      "623/623 [==============================] - 0s 167us/step - loss: 0.1946 - accuracy: 0.9181 - val_loss: 0.1920 - val_accuracy: 0.9142\n",
      "Epoch 20/100\n",
      "623/623 [==============================] - 0s 182us/step - loss: 0.1956 - accuracy: 0.9149 - val_loss: 0.1851 - val_accuracy: 0.9142\n",
      "Epoch 21/100\n",
      "623/623 [==============================] - 0s 172us/step - loss: 0.1981 - accuracy: 0.9181 - val_loss: 0.1840 - val_accuracy: 0.9142\n",
      "Epoch 22/100\n",
      "623/623 [==============================] - 0s 173us/step - loss: 0.2087 - accuracy: 0.9149 - val_loss: 0.1894 - val_accuracy: 0.9179\n",
      "Epoch 23/100\n",
      "623/623 [==============================] - 0s 170us/step - loss: 0.1985 - accuracy: 0.9197 - val_loss: 0.1883 - val_accuracy: 0.9179\n",
      "Epoch 24/100\n",
      "623/623 [==============================] - 0s 164us/step - loss: 0.1955 - accuracy: 0.9165 - val_loss: 0.1927 - val_accuracy: 0.9179\n",
      "Epoch 25/100\n",
      "623/623 [==============================] - 0s 160us/step - loss: 0.2001 - accuracy: 0.9197 - val_loss: 0.1900 - val_accuracy: 0.9179\n",
      "Epoch 26/100\n",
      "623/623 [==============================] - 0s 157us/step - loss: 0.2025 - accuracy: 0.9230 - val_loss: 0.1881 - val_accuracy: 0.9179\n",
      "Epoch 27/100\n",
      "623/623 [==============================] - 0s 179us/step - loss: 0.1952 - accuracy: 0.9230 - val_loss: 0.1919 - val_accuracy: 0.9179\n",
      "Epoch 28/100\n",
      "623/623 [==============================] - 0s 167us/step - loss: 0.1936 - accuracy: 0.9197 - val_loss: 0.1910 - val_accuracy: 0.9179\n",
      "Epoch 29/100\n",
      "623/623 [==============================] - 0s 168us/step - loss: 0.1849 - accuracy: 0.9230 - val_loss: 0.1876 - val_accuracy: 0.9179\n",
      "Epoch 30/100\n",
      "623/623 [==============================] - 0s 162us/step - loss: 0.1930 - accuracy: 0.9213 - val_loss: 0.1876 - val_accuracy: 0.9179\n",
      "Epoch 31/100\n",
      "623/623 [==============================] - 0s 179us/step - loss: 0.2008 - accuracy: 0.9197 - val_loss: 0.1865 - val_accuracy: 0.9179\n",
      "Epoch 32/100\n",
      "623/623 [==============================] - 0s 165us/step - loss: 0.1915 - accuracy: 0.9230 - val_loss: 0.1835 - val_accuracy: 0.9142\n",
      "Epoch 33/100\n",
      "623/623 [==============================] - 0s 173us/step - loss: 0.1867 - accuracy: 0.9213 - val_loss: 0.1914 - val_accuracy: 0.9179\n",
      "Epoch 34/100\n",
      "623/623 [==============================] - 0s 166us/step - loss: 0.1884 - accuracy: 0.9230 - val_loss: 0.1902 - val_accuracy: 0.9179\n",
      "Epoch 35/100\n",
      "623/623 [==============================] - 0s 169us/step - loss: 0.1963 - accuracy: 0.9230 - val_loss: 0.1897 - val_accuracy: 0.9179\n",
      "Epoch 36/100\n",
      "623/623 [==============================] - 0s 170us/step - loss: 0.1844 - accuracy: 0.9230 - val_loss: 0.1914 - val_accuracy: 0.9179\n",
      "Epoch 37/100\n",
      "623/623 [==============================] - 0s 178us/step - loss: 0.1835 - accuracy: 0.9213 - val_loss: 0.1896 - val_accuracy: 0.9179\n",
      "Epoch 38/100\n",
      "623/623 [==============================] - 0s 169us/step - loss: 0.1992 - accuracy: 0.9213 - val_loss: 0.1888 - val_accuracy: 0.9179\n",
      "Epoch 39/100\n",
      "623/623 [==============================] - 0s 181us/step - loss: 0.2007 - accuracy: 0.9230 - val_loss: 0.1877 - val_accuracy: 0.9179\n",
      "Epoch 40/100\n",
      "623/623 [==============================] - 0s 185us/step - loss: 0.1947 - accuracy: 0.9230 - val_loss: 0.1858 - val_accuracy: 0.9179\n",
      "Epoch 41/100\n",
      "623/623 [==============================] - 0s 171us/step - loss: 0.1938 - accuracy: 0.9230 - val_loss: 0.1856 - val_accuracy: 0.9179\n",
      "Epoch 42/100\n",
      "623/623 [==============================] - 0s 166us/step - loss: 0.1929 - accuracy: 0.9230 - val_loss: 0.1857 - val_accuracy: 0.9179\n",
      "Epoch 43/100\n",
      "623/623 [==============================] - 0s 171us/step - loss: 0.1841 - accuracy: 0.9246 - val_loss: 0.1879 - val_accuracy: 0.9179\n",
      "Epoch 44/100\n",
      "623/623 [==============================] - 0s 187us/step - loss: 0.1858 - accuracy: 0.9213 - val_loss: 0.1915 - val_accuracy: 0.9179\n",
      "Epoch 45/100\n",
      "623/623 [==============================] - 0s 176us/step - loss: 0.1966 - accuracy: 0.9230 - val_loss: 0.1863 - val_accuracy: 0.9179\n",
      "Epoch 46/100\n",
      "623/623 [==============================] - 0s 157us/step - loss: 0.1961 - accuracy: 0.9230 - val_loss: 0.1863 - val_accuracy: 0.9179\n",
      "Epoch 47/100\n",
      "623/623 [==============================] - 0s 169us/step - loss: 0.1841 - accuracy: 0.9230 - val_loss: 0.1848 - val_accuracy: 0.9179\n",
      "Epoch 48/100\n",
      "623/623 [==============================] - 0s 170us/step - loss: 0.1816 - accuracy: 0.9246 - val_loss: 0.1821 - val_accuracy: 0.9179\n",
      "Epoch 49/100\n",
      "623/623 [==============================] - 0s 188us/step - loss: 0.1853 - accuracy: 0.9197 - val_loss: 0.1873 - val_accuracy: 0.9179\n",
      "Epoch 50/100\n",
      "623/623 [==============================] - 0s 168us/step - loss: 0.1916 - accuracy: 0.9230 - val_loss: 0.1857 - val_accuracy: 0.9179\n",
      "Epoch 51/100\n",
      "623/623 [==============================] - 0s 173us/step - loss: 0.1881 - accuracy: 0.9230 - val_loss: 0.1938 - val_accuracy: 0.9179\n",
      "Epoch 52/100\n",
      "623/623 [==============================] - 0s 166us/step - loss: 0.1910 - accuracy: 0.9213 - val_loss: 0.1895 - val_accuracy: 0.9179\n",
      "Epoch 53/100\n",
      "623/623 [==============================] - 0s 167us/step - loss: 0.1959 - accuracy: 0.9230 - val_loss: 0.1850 - val_accuracy: 0.9179\n",
      "Epoch 54/100\n",
      "623/623 [==============================] - 0s 167us/step - loss: 0.1987 - accuracy: 0.9213 - val_loss: 0.1875 - val_accuracy: 0.9179\n",
      "Epoch 55/100\n",
      "623/623 [==============================] - 0s 166us/step - loss: 0.1983 - accuracy: 0.9230 - val_loss: 0.1862 - val_accuracy: 0.9179\n",
      "Epoch 56/100\n",
      "623/623 [==============================] - 0s 186us/step - loss: 0.1889 - accuracy: 0.9230 - val_loss: 0.1824 - val_accuracy: 0.9142\n",
      "Epoch 57/100\n",
      "623/623 [==============================] - 0s 168us/step - loss: 0.1879 - accuracy: 0.9230 - val_loss: 0.1871 - val_accuracy: 0.9179\n",
      "Epoch 58/100\n",
      "623/623 [==============================] - 0s 161us/step - loss: 0.1868 - accuracy: 0.9230 - val_loss: 0.1870 - val_accuracy: 0.9179\n",
      "Epoch 59/100\n",
      "623/623 [==============================] - 0s 165us/step - loss: 0.1928 - accuracy: 0.9213 - val_loss: 0.1867 - val_accuracy: 0.9179\n",
      "Epoch 60/100\n",
      "623/623 [==============================] - 0s 170us/step - loss: 0.1976 - accuracy: 0.9213 - val_loss: 0.1888 - val_accuracy: 0.9179\n",
      "Epoch 61/100\n",
      "623/623 [==============================] - 0s 163us/step - loss: 0.1888 - accuracy: 0.9230 - val_loss: 0.1882 - val_accuracy: 0.9179\n",
      "Epoch 62/100\n",
      "623/623 [==============================] - 0s 171us/step - loss: 0.1886 - accuracy: 0.9230 - val_loss: 0.1868 - val_accuracy: 0.9179\n",
      "Epoch 63/100\n",
      "623/623 [==============================] - 0s 179us/step - loss: 0.1921 - accuracy: 0.9230 - val_loss: 0.1847 - val_accuracy: 0.9142\n",
      "Epoch 64/100\n",
      "623/623 [==============================] - 0s 164us/step - loss: 0.1943 - accuracy: 0.9230 - val_loss: 0.1851 - val_accuracy: 0.9179\n",
      "Epoch 65/100\n",
      "623/623 [==============================] - 0s 165us/step - loss: 0.1941 - accuracy: 0.9197 - val_loss: 0.1806 - val_accuracy: 0.9142\n",
      "Epoch 66/100\n",
      "623/623 [==============================] - 0s 168us/step - loss: 0.1867 - accuracy: 0.9213 - val_loss: 0.1837 - val_accuracy: 0.9179\n",
      "Epoch 67/100\n",
      "623/623 [==============================] - 0s 163us/step - loss: 0.1898 - accuracy: 0.9213 - val_loss: 0.1856 - val_accuracy: 0.9179\n",
      "Epoch 68/100\n",
      "623/623 [==============================] - 0s 180us/step - loss: 0.1895 - accuracy: 0.9230 - val_loss: 0.1850 - val_accuracy: 0.9179\n",
      "Epoch 69/100\n",
      "623/623 [==============================] - 0s 161us/step - loss: 0.1895 - accuracy: 0.9230 - val_loss: 0.1857 - val_accuracy: 0.9179\n",
      "Epoch 70/100\n",
      "623/623 [==============================] - 0s 157us/step - loss: 0.1904 - accuracy: 0.9213 - val_loss: 0.1881 - val_accuracy: 0.9179\n",
      "Epoch 71/100\n",
      "623/623 [==============================] - 0s 179us/step - loss: 0.1853 - accuracy: 0.9230 - val_loss: 0.1823 - val_accuracy: 0.9142\n",
      "Epoch 72/100\n",
      "623/623 [==============================] - 0s 163us/step - loss: 0.1860 - accuracy: 0.9213 - val_loss: 0.1850 - val_accuracy: 0.9179\n",
      "Epoch 73/100\n",
      "623/623 [==============================] - 0s 169us/step - loss: 0.1831 - accuracy: 0.9230 - val_loss: 0.1852 - val_accuracy: 0.9179\n",
      "Epoch 74/100\n",
      "623/623 [==============================] - 0s 170us/step - loss: 0.1951 - accuracy: 0.9230 - val_loss: 0.1820 - val_accuracy: 0.9142\n",
      "Epoch 75/100\n",
      "623/623 [==============================] - 0s 162us/step - loss: 0.1903 - accuracy: 0.9230 - val_loss: 0.1820 - val_accuracy: 0.9142\n",
      "Epoch 76/100\n",
      "623/623 [==============================] - 0s 174us/step - loss: 0.1939 - accuracy: 0.9230 - val_loss: 0.1887 - val_accuracy: 0.9179\n",
      "Epoch 77/100\n",
      "623/623 [==============================] - 0s 175us/step - loss: 0.1853 - accuracy: 0.9262 - val_loss: 0.1833 - val_accuracy: 0.9179\n",
      "Epoch 78/100\n",
      "623/623 [==============================] - 0s 160us/step - loss: 0.2056 - accuracy: 0.9213 - val_loss: 0.1870 - val_accuracy: 0.9179\n",
      "Epoch 79/100\n",
      "623/623 [==============================] - 0s 169us/step - loss: 0.1917 - accuracy: 0.9213 - val_loss: 0.1817 - val_accuracy: 0.9142\n",
      "Epoch 80/100\n",
      "623/623 [==============================] - 0s 168us/step - loss: 0.1871 - accuracy: 0.9197 - val_loss: 0.1813 - val_accuracy: 0.9142\n",
      "Epoch 81/100\n",
      "623/623 [==============================] - 0s 170us/step - loss: 0.1832 - accuracy: 0.9246 - val_loss: 0.1824 - val_accuracy: 0.9142\n",
      "Epoch 82/100\n",
      "623/623 [==============================] - 0s 164us/step - loss: 0.1880 - accuracy: 0.9213 - val_loss: 0.1841 - val_accuracy: 0.9179\n",
      "Epoch 83/100\n",
      "623/623 [==============================] - 0s 165us/step - loss: 0.1813 - accuracy: 0.9197 - val_loss: 0.1833 - val_accuracy: 0.9179\n",
      "Epoch 84/100\n",
      "623/623 [==============================] - 0s 187us/step - loss: 0.1977 - accuracy: 0.9230 - val_loss: 0.1869 - val_accuracy: 0.9179\n",
      "Epoch 85/100\n",
      "623/623 [==============================] - 0s 165us/step - loss: 0.1940 - accuracy: 0.9230 - val_loss: 0.1826 - val_accuracy: 0.9179\n",
      "Epoch 86/100\n",
      "623/623 [==============================] - 0s 173us/step - loss: 0.1934 - accuracy: 0.9213 - val_loss: 0.1845 - val_accuracy: 0.9179\n",
      "Epoch 87/100\n",
      "623/623 [==============================] - 0s 168us/step - loss: 0.1857 - accuracy: 0.9181 - val_loss: 0.1849 - val_accuracy: 0.9179\n",
      "Epoch 88/100\n",
      "623/623 [==============================] - 0s 160us/step - loss: 0.1878 - accuracy: 0.9262 - val_loss: 0.1833 - val_accuracy: 0.9179\n",
      "Epoch 89/100\n",
      "623/623 [==============================] - 0s 164us/step - loss: 0.1908 - accuracy: 0.9197 - val_loss: 0.1854 - val_accuracy: 0.9179\n",
      "Epoch 90/100\n",
      "623/623 [==============================] - 0s 168us/step - loss: 0.1931 - accuracy: 0.9181 - val_loss: 0.1848 - val_accuracy: 0.9179\n",
      "Epoch 91/100\n",
      "623/623 [==============================] - 0s 169us/step - loss: 0.1959 - accuracy: 0.9230 - val_loss: 0.1829 - val_accuracy: 0.9179\n",
      "Epoch 92/100\n",
      "623/623 [==============================] - 0s 174us/step - loss: 0.1815 - accuracy: 0.9262 - val_loss: 0.1848 - val_accuracy: 0.9179\n",
      "Epoch 93/100\n",
      "623/623 [==============================] - 0s 167us/step - loss: 0.1864 - accuracy: 0.9246 - val_loss: 0.1854 - val_accuracy: 0.9179\n",
      "Epoch 94/100\n",
      "623/623 [==============================] - 0s 173us/step - loss: 0.1905 - accuracy: 0.9230 - val_loss: 0.1863 - val_accuracy: 0.9179\n",
      "Epoch 95/100\n",
      "623/623 [==============================] - 0s 173us/step - loss: 0.1850 - accuracy: 0.9213 - val_loss: 0.1830 - val_accuracy: 0.9179\n",
      "Epoch 96/100\n",
      "623/623 [==============================] - 0s 187us/step - loss: 0.1991 - accuracy: 0.9197 - val_loss: 0.1837 - val_accuracy: 0.9179\n",
      "Epoch 97/100\n",
      "623/623 [==============================] - 0s 170us/step - loss: 0.1968 - accuracy: 0.9230 - val_loss: 0.1877 - val_accuracy: 0.9179\n",
      "Epoch 98/100\n",
      "623/623 [==============================] - 0s 162us/step - loss: 0.1853 - accuracy: 0.9230 - val_loss: 0.1854 - val_accuracy: 0.9179\n",
      "Epoch 99/100\n",
      "623/623 [==============================] - 0s 163us/step - loss: 0.1891 - accuracy: 0.9213 - val_loss: 0.1837 - val_accuracy: 0.9179\n",
      "Epoch 100/100\n",
      "623/623 [==============================] - 0s 181us/step - loss: 0.1958 - accuracy: 0.9213 - val_loss: 0.1843 - val_accuracy: 0.9179\n"
     ]
    }
   ],
   "source": [
    "# 16. Neural Network 1 \n",
    "\n",
    "def build_ann(optimizer='adam'):\n",
    "    \n",
    "    # Initializing the ANN\n",
    "    ann = Sequential()\n",
    "    \n",
    "    # Adding the input layer and the first hidden layer of the ANN with dropout\n",
    "    ann.add(Dense(units=32, kernel_initializer='glorot_uniform', activation='relu', input_shape=(3,)))\n",
    "    \n",
    "    # Add other layers, it is not necessary to pass the shape because there is a layer before\n",
    "    ann.add(Dense(units=64, kernel_initializer='glorot_uniform', activation='relu'))\n",
    "    ann.add(Dropout(rate=0.5))\n",
    "    ann.add(Dense(units=64, kernel_initializer='glorot_uniform', activation='relu'))\n",
    "    ann.add(Dropout(rate=0.5))\n",
    "    \n",
    "    # Adding the output layer\n",
    "    ann.add(Dense(units=1, kernel_initializer='glorot_uniform', activation='sigmoid'))\n",
    "    \n",
    "    # Compiling the ANN\n",
    "    ann.compile(optimizer=optimizer, loss='binary_crossentropy', metrics=['accuracy'])\n",
    "    \n",
    "    return ann\n",
    "opt = optimizers.Adam(lr=0.001)\n",
    "ann = build_ann(opt)\n",
    "history = ann.fit(Xtrain, Ztrain, batch_size=16, epochs=100, validation_data=(Xval, Zval))\n",
    "Y_pred = ann.predict(test)\n",
    "Y_pred = (Y_pred > 0.5)*1 # convert probabilities to binary output\n",
    "ann_prediction = ann.predict(train)\n",
    "ann_prediction = (ann_prediction > 0.5)*1 # convert probabilities to binary output\n",
    "acc3_ann1 = round(metrics.accuracy_score(target, ann_prediction) * 100, 2)\n",
    "submission = pd.DataFrame({\"PassengerId\": submission[\"PassengerId\"],\"Survived\": np.reshape(Y_pred, len(Y_pred))})\n",
    "submission.to_csv('submission_ann1_3.csv', index=False)\n",
    "LB_ann1 = 0.79904"
   ]
  },
  {
   "cell_type": "code",
   "execution_count": 92,
   "metadata": {
    "execution": {
     "iopub.execute_input": "2021-08-07T20:50:08.169237Z",
     "iopub.status.busy": "2021-08-07T20:50:08.168813Z",
     "iopub.status.idle": "2021-08-07T20:50:11.98452Z",
     "shell.execute_reply": "2021-08-07T20:50:11.983732Z",
     "shell.execute_reply.started": "2021-08-07T20:50:08.169108Z"
    }
   },
   "outputs": [
    {
     "name": "stderr",
     "output_type": "stream",
     "text": [
      "/opt/conda/lib/python3.6/site-packages/ipykernel_launcher.py:5: UserWarning: Update your `Dense` call to the Keras 2 API: `Dense(16, input_dim=3, activation=\"relu\", kernel_initializer=\"he_normal\")`\n",
      "  \"\"\"\n",
      "/opt/conda/lib/python3.6/site-packages/ipykernel_launcher.py:7: UserWarning: Update your `Dense` call to the Keras 2 API: `Dense(64, activation=\"relu\", kernel_initializer=\"he_normal\")`\n",
      "  import sys\n",
      "/opt/conda/lib/python3.6/site-packages/ipykernel_launcher.py:9: UserWarning: Update your `Dense` call to the Keras 2 API: `Dense(32, activation=\"relu\", kernel_initializer=\"he_normal\")`\n",
      "  if __name__ == '__main__':\n"
     ]
    },
    {
     "name": "stdout",
     "output_type": "stream",
     "text": [
      "Train on 891 samples, validate on 268 samples\n",
      "Epoch 1/500\n",
      "891/891 [==============================] - 0s 470us/step - loss: 0.6562 - accuracy: 0.6330 - val_loss: 0.5167 - val_accuracy: 0.7724\n",
      "Epoch 2/500\n",
      "891/891 [==============================] - 0s 71us/step - loss: 0.5283 - accuracy: 0.7262 - val_loss: 0.4046 - val_accuracy: 0.7799\n",
      "Epoch 3/500\n",
      "891/891 [==============================] - 0s 46us/step - loss: 0.4659 - accuracy: 0.7654 - val_loss: 0.3357 - val_accuracy: 0.8955\n",
      "Epoch 4/500\n",
      "891/891 [==============================] - 0s 60us/step - loss: 0.4176 - accuracy: 0.7856 - val_loss: 0.2857 - val_accuracy: 0.8955\n",
      "Epoch 5/500\n",
      "891/891 [==============================] - 0s 57us/step - loss: 0.3676 - accuracy: 0.8148 - val_loss: 0.2524 - val_accuracy: 0.8955\n",
      "Epoch 6/500\n",
      "891/891 [==============================] - 0s 49us/step - loss: 0.3430 - accuracy: 0.8182 - val_loss: 0.2312 - val_accuracy: 0.8955\n",
      "Epoch 7/500\n",
      "891/891 [==============================] - 0s 46us/step - loss: 0.3360 - accuracy: 0.8238 - val_loss: 0.2177 - val_accuracy: 0.8955\n",
      "Epoch 8/500\n",
      "891/891 [==============================] - 0s 56us/step - loss: 0.3144 - accuracy: 0.8406 - val_loss: 0.2103 - val_accuracy: 0.8955\n",
      "Epoch 9/500\n",
      "891/891 [==============================] - 0s 50us/step - loss: 0.3260 - accuracy: 0.8328 - val_loss: 0.2039 - val_accuracy: 0.8955\n",
      "Epoch 10/500\n",
      "891/891 [==============================] - 0s 49us/step - loss: 0.2881 - accuracy: 0.8552 - val_loss: 0.2003 - val_accuracy: 0.8955\n",
      "Epoch 11/500\n",
      "891/891 [==============================] - 0s 48us/step - loss: 0.2965 - accuracy: 0.8608 - val_loss: 0.1964 - val_accuracy: 0.9067\n",
      "Epoch 12/500\n",
      "891/891 [==============================] - 0s 47us/step - loss: 0.2671 - accuracy: 0.8844 - val_loss: 0.1929 - val_accuracy: 0.9067\n",
      "Epoch 13/500\n",
      "891/891 [==============================] - 0s 44us/step - loss: 0.2642 - accuracy: 0.8765 - val_loss: 0.1923 - val_accuracy: 0.9067\n",
      "Epoch 14/500\n",
      "891/891 [==============================] - 0s 50us/step - loss: 0.2531 - accuracy: 0.8855 - val_loss: 0.1892 - val_accuracy: 0.9067\n",
      "Epoch 15/500\n",
      "891/891 [==============================] - 0s 45us/step - loss: 0.2659 - accuracy: 0.8765 - val_loss: 0.1868 - val_accuracy: 0.9067\n",
      "Epoch 16/500\n",
      "891/891 [==============================] - 0s 41us/step - loss: 0.2476 - accuracy: 0.9035 - val_loss: 0.1856 - val_accuracy: 0.9067\n",
      "Epoch 17/500\n",
      "891/891 [==============================] - 0s 44us/step - loss: 0.2601 - accuracy: 0.8799 - val_loss: 0.1856 - val_accuracy: 0.9067\n",
      "Epoch 18/500\n",
      "891/891 [==============================] - 0s 46us/step - loss: 0.2499 - accuracy: 0.8934 - val_loss: 0.1849 - val_accuracy: 0.9067\n",
      "Epoch 19/500\n",
      "891/891 [==============================] - 0s 42us/step - loss: 0.2418 - accuracy: 0.8923 - val_loss: 0.1838 - val_accuracy: 0.9067\n",
      "Epoch 20/500\n",
      "891/891 [==============================] - 0s 48us/step - loss: 0.2469 - accuracy: 0.8889 - val_loss: 0.1829 - val_accuracy: 0.9104\n",
      "Epoch 21/500\n",
      "891/891 [==============================] - 0s 48us/step - loss: 0.2563 - accuracy: 0.8967 - val_loss: 0.1829 - val_accuracy: 0.9104\n",
      "Epoch 22/500\n",
      "891/891 [==============================] - 0s 45us/step - loss: 0.2461 - accuracy: 0.8923 - val_loss: 0.1822 - val_accuracy: 0.9104\n",
      "Epoch 23/500\n",
      "891/891 [==============================] - 0s 44us/step - loss: 0.2277 - accuracy: 0.9035 - val_loss: 0.1826 - val_accuracy: 0.9104\n",
      "Epoch 24/500\n",
      "891/891 [==============================] - 0s 46us/step - loss: 0.2346 - accuracy: 0.8945 - val_loss: 0.1818 - val_accuracy: 0.9104\n",
      "Epoch 25/500\n",
      "891/891 [==============================] - 0s 45us/step - loss: 0.2470 - accuracy: 0.8945 - val_loss: 0.1819 - val_accuracy: 0.9104\n",
      "Epoch 26/500\n",
      "891/891 [==============================] - 0s 48us/step - loss: 0.2282 - accuracy: 0.8979 - val_loss: 0.1822 - val_accuracy: 0.9104\n",
      "Epoch 27/500\n",
      "891/891 [==============================] - 0s 43us/step - loss: 0.2340 - accuracy: 0.9024 - val_loss: 0.1820 - val_accuracy: 0.9104\n",
      "Epoch 28/500\n",
      "891/891 [==============================] - 0s 49us/step - loss: 0.2372 - accuracy: 0.8967 - val_loss: 0.1818 - val_accuracy: 0.9104\n",
      "Epoch 29/500\n",
      "891/891 [==============================] - 0s 46us/step - loss: 0.2320 - accuracy: 0.8979 - val_loss: 0.1820 - val_accuracy: 0.9142\n",
      "Epoch 30/500\n",
      "891/891 [==============================] - 0s 46us/step - loss: 0.2182 - accuracy: 0.9102 - val_loss: 0.1818 - val_accuracy: 0.9104\n",
      "Epoch 31/500\n",
      "891/891 [==============================] - 0s 48us/step - loss: 0.2225 - accuracy: 0.8967 - val_loss: 0.1807 - val_accuracy: 0.9104\n",
      "Epoch 32/500\n",
      "891/891 [==============================] - 0s 47us/step - loss: 0.2382 - accuracy: 0.8934 - val_loss: 0.1816 - val_accuracy: 0.9104\n",
      "Epoch 33/500\n",
      "891/891 [==============================] - 0s 47us/step - loss: 0.2271 - accuracy: 0.8979 - val_loss: 0.1817 - val_accuracy: 0.9104\n",
      "Epoch 34/500\n",
      "891/891 [==============================] - 0s 45us/step - loss: 0.2143 - accuracy: 0.9192 - val_loss: 0.1817 - val_accuracy: 0.9104\n",
      "Epoch 35/500\n",
      "891/891 [==============================] - 0s 48us/step - loss: 0.2230 - accuracy: 0.9113 - val_loss: 0.1813 - val_accuracy: 0.9104\n",
      "Epoch 36/500\n",
      "891/891 [==============================] - 0s 46us/step - loss: 0.2234 - accuracy: 0.9068 - val_loss: 0.1813 - val_accuracy: 0.9104\n",
      "Epoch 37/500\n",
      "891/891 [==============================] - 0s 46us/step - loss: 0.2214 - accuracy: 0.9102 - val_loss: 0.1807 - val_accuracy: 0.9104\n",
      "Epoch 38/500\n",
      "891/891 [==============================] - 0s 44us/step - loss: 0.2134 - accuracy: 0.9068 - val_loss: 0.1811 - val_accuracy: 0.9104\n",
      "Epoch 39/500\n",
      "891/891 [==============================] - 0s 43us/step - loss: 0.2218 - accuracy: 0.9113 - val_loss: 0.1818 - val_accuracy: 0.9104\n",
      "Epoch 40/500\n",
      "891/891 [==============================] - 0s 46us/step - loss: 0.2221 - accuracy: 0.9046 - val_loss: 0.1821 - val_accuracy: 0.9104\n",
      "Epoch 41/500\n",
      "891/891 [==============================] - 0s 45us/step - loss: 0.2053 - accuracy: 0.9091 - val_loss: 0.1814 - val_accuracy: 0.9104\n",
      "Epoch 42/500\n",
      "891/891 [==============================] - 0s 42us/step - loss: 0.2216 - accuracy: 0.9046 - val_loss: 0.1808 - val_accuracy: 0.9104\n",
      "Epoch 43/500\n",
      "891/891 [==============================] - 0s 41us/step - loss: 0.2132 - accuracy: 0.9091 - val_loss: 0.1825 - val_accuracy: 0.9142\n",
      "Epoch 44/500\n",
      "891/891 [==============================] - 0s 45us/step - loss: 0.2044 - accuracy: 0.9136 - val_loss: 0.1820 - val_accuracy: 0.9142\n",
      "Epoch 45/500\n",
      "891/891 [==============================] - 0s 47us/step - loss: 0.2045 - accuracy: 0.9091 - val_loss: 0.1810 - val_accuracy: 0.9142\n",
      "Epoch 46/500\n",
      "891/891 [==============================] - 0s 50us/step - loss: 0.2048 - accuracy: 0.9136 - val_loss: 0.1796 - val_accuracy: 0.9142\n",
      "Epoch 47/500\n",
      "891/891 [==============================] - 0s 47us/step - loss: 0.2058 - accuracy: 0.9102 - val_loss: 0.1815 - val_accuracy: 0.9142\n",
      "Epoch 48/500\n",
      "891/891 [==============================] - 0s 46us/step - loss: 0.2164 - accuracy: 0.9091 - val_loss: 0.1823 - val_accuracy: 0.9142\n",
      "Epoch 49/500\n",
      "891/891 [==============================] - 0s 46us/step - loss: 0.2249 - accuracy: 0.9035 - val_loss: 0.1810 - val_accuracy: 0.9104\n"
     ]
    }
   ],
   "source": [
    "# 17. Neural Network 2\n",
    "\n",
    "# Model\n",
    "model = Sequential()\n",
    "model.add(Dense(16, input_dim = train.shape[1], init = 'he_normal', activation = 'relu'))\n",
    "model.add(Dropout(0.3))\n",
    "model.add(Dense(64, init = 'he_normal', activation = 'relu'))\n",
    "model.add(Dropout(0.3))\n",
    "model.add(Dense(32, init = 'he_normal', activation = 'relu'))\n",
    "model.add(Dense(1, activation = 'sigmoid'))\n",
    "model.compile(loss='binary_crossentropy', optimizer='adam', metrics=['accuracy'])\n",
    "es = EarlyStopping(monitor='val_accuracy', patience=20, mode='max')\n",
    "hist = model.fit(train, target, batch_size=64, validation_data=(Xval, Zval), \n",
    "               epochs=500, verbose=1, callbacks=[es])\n",
    "Y_pred = model.predict(test)\n",
    "Y_pred = (Y_pred > 0.5)*1 # convert probabilities to binary output\n",
    "nn_prediction = model.predict(train)\n",
    "nn_prediction = (nn_prediction > 0.5)*1 # convert probabilities to binary output\n",
    "acc3_ann2 = round(metrics.accuracy_score(target, nn_prediction) * 100, 2)\n",
    "submission = pd.DataFrame({\"PassengerId\": submission[\"PassengerId\"],\"Survived\": np.reshape(Y_pred, len(Y_pred))})\n",
    "submission.to_csv('submission_ann2_3.csv', index=False)\n",
    "LB_ann2 = 0.79665"
   ]
  },
  {
   "cell_type": "code",
   "execution_count": 93,
   "metadata": {
    "execution": {
     "iopub.execute_input": "2021-08-07T20:50:11.986049Z",
     "iopub.status.busy": "2021-08-07T20:50:11.985804Z",
     "iopub.status.idle": "2021-08-07T20:51:37.270177Z",
     "shell.execute_reply": "2021-08-07T20:51:37.269218Z",
     "shell.execute_reply.started": "2021-08-07T20:50:11.986007Z"
    }
   },
   "outputs": [
    {
     "name": "stdout",
     "output_type": "stream",
     "text": [
      "Accuracy: 0.90 (+/- 0.00) [Logistic Regression]\n",
      "Accuracy: 0.92 (+/- 0.03) [Random Forest]\n",
      "Accuracy: 0.92 (+/- 0.03) [Gradient Boosting Classifier]\n",
      "Accuracy: 0.92 (+/- 0.03) [Ensemble]\n"
     ]
    }
   ],
   "source": [
    "# 5.18 VotingClassifier (hard voting)\n",
    "\n",
    "Voting_Classifier_hard = VotingClassifier(estimators=[('lr', logreg), ('rf', random_forest), ('gbc', gradient_boosting)], voting='hard')\n",
    "for clf, label in zip([logreg, random_forest, gradient_boosting, Voting_Classifier_hard], \n",
    "                      ['Logistic Regression', 'Random Forest', 'Gradient Boosting Classifier', 'Ensemble']):\n",
    "    scores = cross_val_score(clf, train, target, cv=cv_number, scoring='accuracy')\n",
    "    print(\"Accuracy: %0.2f (+/- %0.2f) [%s]\" % (scores.mean(), scores.std(), label))\n",
    "Voting_Classifier_hard.fit(train, target)\n",
    "Y_pred = Voting_Classifier_hard.predict(test).astype(int)\n",
    "Voting_Classifier_hard.score(train, target)\n",
    "acc3_VC_hard = round(Voting_Classifier_hard.score(train, target) * 100, 2)\n",
    "submission = pd.DataFrame({\"PassengerId\": submission[\"PassengerId\"],\"Survived\": Y_pred})\n",
    "submission.to_csv('submission_VC_hard3.csv', index=False)\n",
    "LB_VC_hard = 0.80382"
   ]
  },
  {
   "cell_type": "code",
   "execution_count": 94,
   "metadata": {
    "execution": {
     "iopub.execute_input": "2021-08-07T20:51:37.271993Z",
     "iopub.status.busy": "2021-08-07T20:51:37.271663Z",
     "iopub.status.idle": "2021-08-07T20:54:19.564692Z",
     "shell.execute_reply": "2021-08-07T20:54:19.563894Z",
     "shell.execute_reply.started": "2021-08-07T20:51:37.271939Z"
    }
   },
   "outputs": [],
   "source": [
    "# 5.19 VotingClassifier (soft voting)\n",
    "\n",
    "eclf = VotingClassifier(estimators=[('lr', logreg), ('rf', random_forest), ('gbc', gradient_boosting)], voting='soft')\n",
    "params = {'lr__C': [1.0, 100.0], 'gbc__learning_rate': [0.05, 1]}\n",
    "Voting_Classifier_soft = GridSearchCV(estimator=eclf, param_grid=params, cv=cv_number)\n",
    "Voting_Classifier_soft.fit(train, target)\n",
    "Y_pred = Voting_Classifier_soft.predict(test).astype(int)\n",
    "Voting_Classifier_soft.score(train, target)\n",
    "acc3_VC_soft = round(Voting_Classifier_soft.score(train, target) * 100, 2)\n",
    "submission = pd.DataFrame({\"PassengerId\": submission[\"PassengerId\"],\"Survived\": Y_pred})\n",
    "submission.to_csv('submission_VC_soft3.csv', index=False)\n",
    "LB_VC_soft = 0.80382"
   ]
  },
  {
   "cell_type": "code",
   "execution_count": 95,
   "metadata": {
    "execution": {
     "iopub.execute_input": "2021-08-07T20:54:19.567056Z",
     "iopub.status.busy": "2021-08-07T20:54:19.566411Z",
     "iopub.status.idle": "2021-08-07T20:54:19.579509Z",
     "shell.execute_reply": "2021-08-07T20:54:19.578689Z",
     "shell.execute_reply.started": "2021-08-07T20:54:19.566978Z"
    }
   },
   "outputs": [],
   "source": [
    "# 5.20 The simple rule in one line\n",
    "Y_pred = (((test.WomanOrBoySurvived <= 0.238) & (test.Sex > 0.5) & (test.Alone > 0.5)) | \\\n",
    "          ((test.WomanOrBoySurvived > 0.238) & \\\n",
    "           ~((test.WomanOrBoySurvived > 0.55) & (test.WomanOrBoySurvived <= 0.633))))\n",
    "acc3_simple_rule = acc_simple_rule\n",
    "LB_simple_rule = 0.80382"
   ]
  },
  {
   "cell_type": "markdown",
   "metadata": {},
   "source": [
    "## 7. Models evaluation <a class=\"anchor\" id=\"7\"></a>\n",
    "\n",
    "[Back to Table of Contents](#0.1)"
   ]
  },
  {
   "cell_type": "markdown",
   "metadata": {},
   "source": [
    "We can now rank our evaluation of all the models to choose the best one for our problem."
   ]
  },
  {
   "cell_type": "code",
   "execution_count": 96,
   "metadata": {
    "execution": {
     "iopub.execute_input": "2021-08-07T20:54:19.581812Z",
     "iopub.status.busy": "2021-08-07T20:54:19.581214Z",
     "iopub.status.idle": "2021-08-07T20:54:19.599451Z",
     "shell.execute_reply": "2021-08-07T20:54:19.59838Z",
     "shell.execute_reply.started": "2021-08-07T20:54:19.581753Z"
    }
   },
   "outputs": [],
   "source": [
    "models = pd.DataFrame({\n",
    "    'Model': ['Logistic Regression', 'Support Vector Machines', 'Linear SVC', 'k-Nearest Neighbors', 'Naive Bayes', \n",
    "              'Perceptron', 'Stochastic Gradient Decent', \n",
    "              'Decision Tree Classifier', 'Random Forest',  'XGBClassifier', 'LGBMClassifier',\n",
    "              'GradientBoostingClassifier', 'RidgeClassifier', 'BaggingClassifier', 'ExtraTreesClassifier', \n",
    "              'Neural Network 1', 'Neural Network 2', \n",
    "              'VotingClassifier-hard voiting', 'VotingClassifier-soft voting',\n",
    "              'Simple rule'],\n",
    "    \n",
    "    'Score16': [acc_log, acc_svc, acc_linear_svc, acc_knn, acc_gaussian, \n",
    "              acc_perceptron, acc_sgd, \n",
    "              acc_decision_tree, acc_random_forest, acc_XGB_Classifier, acc_LGB_Classifier,\n",
    "              acc_gradient_boosting, acc_ridge_classifier, acc_bagging_classifier, acc_etc, \n",
    "              acc_ann1, acc_ann2, \n",
    "              acc_VC_hard, acc_VC_soft,\n",
    "              acc_simple_rule],\n",
    "\n",
    "    'Score3': [acc3_log, acc3_svc, acc3_linear_svc, acc3_knn, acc3_gaussian, \n",
    "              acc3_perceptron, acc3_sgd, \n",
    "              acc3_decision_tree, acc3_random_forest, acc3_XGB_Classifier, acc3_LGB_Classifier,\n",
    "              acc3_gradient_boosting, acc3_ridge_classifier, acc3_bagging_classifier, acc3_etc, \n",
    "              acc3_ann1, acc3_ann2, \n",
    "              acc3_VC_hard, acc3_VC_soft,\n",
    "              acc3_simple_rule],\n",
    "\n",
    "    'LB_all': [LB_log_all, LB_svc_all, LB_linear_svc_all, LB_knn_all, LB_gaussian_all, \n",
    "              LB_perceptron_all, LB_sgd_all, \n",
    "              LB_decision_tree_all, LB_random_forest_all, LB_XGB_Classifier_all, LB_LGB_Classifier_all,\n",
    "              LB_GBC_all, LB_RidgeClassifier_all, LB_bagging_classifier_all, LB_ETC_all, \n",
    "              LB_ann1_all, LB_ann2_all, \n",
    "              LB_VC_hard_all, LB_VC_soft_all,\n",
    "              LB_simple_rule_all],\n",
    "    \n",
    "    'LB':    [LB_log, LB_svc, LB_linear_svc, LB_knn, LB_gaussian, \n",
    "              LB_perceptron, LB_sgd, \n",
    "              LB_decision_tree, LB_random_forest, LB_XGB_Classifier, LB_LGB_Classifier,\n",
    "              LB_GBC, LB_RidgeClassifier, LB_bagging_classifier, LB_ETC, \n",
    "              LB_ann1, LB_ann2, \n",
    "              LB_VC_hard, LB_VC_soft,\n",
    "              LB_simple_rule]})"
   ]
  },
  {
   "cell_type": "code",
   "execution_count": 97,
   "metadata": {
    "execution": {
     "iopub.execute_input": "2021-08-07T20:54:19.602358Z",
     "iopub.status.busy": "2021-08-07T20:54:19.601596Z",
     "iopub.status.idle": "2021-08-07T20:54:19.63718Z",
     "shell.execute_reply": "2021-08-07T20:54:19.636153Z",
     "shell.execute_reply.started": "2021-08-07T20:54:19.602267Z"
    }
   },
   "outputs": [
    {
     "data": {
      "text/html": [
       "<div>\n",
       "<style scoped>\n",
       "    .dataframe tbody tr th:only-of-type {\n",
       "        vertical-align: middle;\n",
       "    }\n",
       "\n",
       "    .dataframe tbody tr th {\n",
       "        vertical-align: top;\n",
       "    }\n",
       "\n",
       "    .dataframe thead th {\n",
       "        text-align: right;\n",
       "    }\n",
       "</style>\n",
       "<table border=\"1\" class=\"dataframe\">\n",
       "  <thead>\n",
       "    <tr style=\"text-align: right;\">\n",
       "      <th></th>\n",
       "      <th>Model</th>\n",
       "      <th>Score16</th>\n",
       "      <th>Score3</th>\n",
       "      <th>LB_all</th>\n",
       "      <th>LB</th>\n",
       "    </tr>\n",
       "  </thead>\n",
       "  <tbody>\n",
       "    <tr>\n",
       "      <td>11</td>\n",
       "      <td>GradientBoostingClassifier</td>\n",
       "      <td>100.00</td>\n",
       "      <td>92.26</td>\n",
       "      <td>0.82296</td>\n",
       "      <td>0.80382</td>\n",
       "    </tr>\n",
       "    <tr>\n",
       "      <td>8</td>\n",
       "      <td>Random Forest</td>\n",
       "      <td>100.00</td>\n",
       "      <td>92.26</td>\n",
       "      <td>0.81339</td>\n",
       "      <td>0.80382</td>\n",
       "    </tr>\n",
       "    <tr>\n",
       "      <td>17</td>\n",
       "      <td>VotingClassifier-hard voiting</td>\n",
       "      <td>100.00</td>\n",
       "      <td>92.26</td>\n",
       "      <td>0.81339</td>\n",
       "      <td>0.80382</td>\n",
       "    </tr>\n",
       "    <tr>\n",
       "      <td>18</td>\n",
       "      <td>VotingClassifier-soft voting</td>\n",
       "      <td>100.00</td>\n",
       "      <td>92.26</td>\n",
       "      <td>0.81339</td>\n",
       "      <td>0.80382</td>\n",
       "    </tr>\n",
       "    <tr>\n",
       "      <td>7</td>\n",
       "      <td>Decision Tree Classifier</td>\n",
       "      <td>100.00</td>\n",
       "      <td>92.26</td>\n",
       "      <td>0.77990</td>\n",
       "      <td>0.80382</td>\n",
       "    </tr>\n",
       "    <tr>\n",
       "      <td>13</td>\n",
       "      <td>BaggingClassifier</td>\n",
       "      <td>99.66</td>\n",
       "      <td>92.26</td>\n",
       "      <td>0.80861</td>\n",
       "      <td>0.80382</td>\n",
       "    </tr>\n",
       "    <tr>\n",
       "      <td>1</td>\n",
       "      <td>Support Vector Machines</td>\n",
       "      <td>98.99</td>\n",
       "      <td>92.14</td>\n",
       "      <td>0.62200</td>\n",
       "      <td>0.79904</td>\n",
       "    </tr>\n",
       "    <tr>\n",
       "      <td>10</td>\n",
       "      <td>LGBMClassifier</td>\n",
       "      <td>96.07</td>\n",
       "      <td>90.12</td>\n",
       "      <td>0.82296</td>\n",
       "      <td>0.62200</td>\n",
       "    </tr>\n",
       "    <tr>\n",
       "      <td>2</td>\n",
       "      <td>Linear SVC</td>\n",
       "      <td>94.61</td>\n",
       "      <td>89.45</td>\n",
       "      <td>0.81339</td>\n",
       "      <td>0.77033</td>\n",
       "    </tr>\n",
       "    <tr>\n",
       "      <td>9</td>\n",
       "      <td>XGBClassifier</td>\n",
       "      <td>94.39</td>\n",
       "      <td>77.78</td>\n",
       "      <td>0.80861</td>\n",
       "      <td>0.68899</td>\n",
       "    </tr>\n",
       "    <tr>\n",
       "      <td>0</td>\n",
       "      <td>Logistic Regression</td>\n",
       "      <td>93.60</td>\n",
       "      <td>89.45</td>\n",
       "      <td>0.79904</td>\n",
       "      <td>0.77033</td>\n",
       "    </tr>\n",
       "    <tr>\n",
       "      <td>14</td>\n",
       "      <td>ExtraTreesClassifier</td>\n",
       "      <td>93.38</td>\n",
       "      <td>92.14</td>\n",
       "      <td>0.80861</td>\n",
       "      <td>0.79904</td>\n",
       "    </tr>\n",
       "    <tr>\n",
       "      <td>12</td>\n",
       "      <td>RidgeClassifier</td>\n",
       "      <td>93.15</td>\n",
       "      <td>89.56</td>\n",
       "      <td>0.80861</td>\n",
       "      <td>0.77511</td>\n",
       "    </tr>\n",
       "    <tr>\n",
       "      <td>19</td>\n",
       "      <td>Simple rule</td>\n",
       "      <td>92.70</td>\n",
       "      <td>92.70</td>\n",
       "      <td>0.83253</td>\n",
       "      <td>0.80382</td>\n",
       "    </tr>\n",
       "    <tr>\n",
       "      <td>15</td>\n",
       "      <td>Neural Network 1</td>\n",
       "      <td>90.35</td>\n",
       "      <td>92.14</td>\n",
       "      <td>0.59330</td>\n",
       "      <td>0.79904</td>\n",
       "    </tr>\n",
       "    <tr>\n",
       "      <td>4</td>\n",
       "      <td>Naive Bayes</td>\n",
       "      <td>86.53</td>\n",
       "      <td>77.67</td>\n",
       "      <td>0.73205</td>\n",
       "      <td>0.68899</td>\n",
       "    </tr>\n",
       "    <tr>\n",
       "      <td>3</td>\n",
       "      <td>k-Nearest Neighbors</td>\n",
       "      <td>76.32</td>\n",
       "      <td>90.68</td>\n",
       "      <td>0.62679</td>\n",
       "      <td>0.77751</td>\n",
       "    </tr>\n",
       "    <tr>\n",
       "      <td>6</td>\n",
       "      <td>Stochastic Gradient Decent</td>\n",
       "      <td>72.17</td>\n",
       "      <td>91.36</td>\n",
       "      <td>0.64593</td>\n",
       "      <td>0.77511</td>\n",
       "    </tr>\n",
       "    <tr>\n",
       "      <td>16</td>\n",
       "      <td>Neural Network 2</td>\n",
       "      <td>61.17</td>\n",
       "      <td>91.47</td>\n",
       "      <td>0.64114</td>\n",
       "      <td>0.79665</td>\n",
       "    </tr>\n",
       "    <tr>\n",
       "      <td>5</td>\n",
       "      <td>Perceptron</td>\n",
       "      <td>50.73</td>\n",
       "      <td>89.90</td>\n",
       "      <td>0.46889</td>\n",
       "      <td>0.77511</td>\n",
       "    </tr>\n",
       "  </tbody>\n",
       "</table>\n",
       "</div>"
      ],
      "text/plain": [
       "                            Model  Score16  Score3   LB_all       LB\n",
       "11     GradientBoostingClassifier   100.00   92.26  0.82296  0.80382\n",
       "8                   Random Forest   100.00   92.26  0.81339  0.80382\n",
       "17  VotingClassifier-hard voiting   100.00   92.26  0.81339  0.80382\n",
       "18   VotingClassifier-soft voting   100.00   92.26  0.81339  0.80382\n",
       "7        Decision Tree Classifier   100.00   92.26  0.77990  0.80382\n",
       "13              BaggingClassifier    99.66   92.26  0.80861  0.80382\n",
       "1         Support Vector Machines    98.99   92.14  0.62200  0.79904\n",
       "10                 LGBMClassifier    96.07   90.12  0.82296  0.62200\n",
       "2                      Linear SVC    94.61   89.45  0.81339  0.77033\n",
       "9                   XGBClassifier    94.39   77.78  0.80861  0.68899\n",
       "0             Logistic Regression    93.60   89.45  0.79904  0.77033\n",
       "14           ExtraTreesClassifier    93.38   92.14  0.80861  0.79904\n",
       "12                RidgeClassifier    93.15   89.56  0.80861  0.77511\n",
       "19                    Simple rule    92.70   92.70  0.83253  0.80382\n",
       "15               Neural Network 1    90.35   92.14  0.59330  0.79904\n",
       "4                     Naive Bayes    86.53   77.67  0.73205  0.68899\n",
       "3             k-Nearest Neighbors    76.32   90.68  0.62679  0.77751\n",
       "6      Stochastic Gradient Decent    72.17   91.36  0.64593  0.77511\n",
       "16               Neural Network 2    61.17   91.47  0.64114  0.79665\n",
       "5                      Perceptron    50.73   89.90  0.46889  0.77511"
      ]
     },
     "execution_count": 97,
     "metadata": {},
     "output_type": "execute_result"
    }
   ],
   "source": [
    "models.sort_values(by=['Score16', 'LB_all', 'LB'], ascending=False)"
   ]
  },
  {
   "cell_type": "code",
   "execution_count": 98,
   "metadata": {
    "execution": {
     "iopub.execute_input": "2021-08-07T20:54:19.639243Z",
     "iopub.status.busy": "2021-08-07T20:54:19.638833Z",
     "iopub.status.idle": "2021-08-07T20:54:19.660575Z",
     "shell.execute_reply": "2021-08-07T20:54:19.6595Z",
     "shell.execute_reply.started": "2021-08-07T20:54:19.639171Z"
    }
   },
   "outputs": [
    {
     "data": {
      "text/html": [
       "<div>\n",
       "<style scoped>\n",
       "    .dataframe tbody tr th:only-of-type {\n",
       "        vertical-align: middle;\n",
       "    }\n",
       "\n",
       "    .dataframe tbody tr th {\n",
       "        vertical-align: top;\n",
       "    }\n",
       "\n",
       "    .dataframe thead th {\n",
       "        text-align: right;\n",
       "    }\n",
       "</style>\n",
       "<table border=\"1\" class=\"dataframe\">\n",
       "  <thead>\n",
       "    <tr style=\"text-align: right;\">\n",
       "      <th></th>\n",
       "      <th>Model</th>\n",
       "      <th>Score16</th>\n",
       "      <th>Score3</th>\n",
       "      <th>LB_all</th>\n",
       "      <th>LB</th>\n",
       "    </tr>\n",
       "  </thead>\n",
       "  <tbody>\n",
       "    <tr>\n",
       "      <td>19</td>\n",
       "      <td>Simple rule</td>\n",
       "      <td>92.70</td>\n",
       "      <td>92.70</td>\n",
       "      <td>0.83253</td>\n",
       "      <td>0.80382</td>\n",
       "    </tr>\n",
       "    <tr>\n",
       "      <td>11</td>\n",
       "      <td>GradientBoostingClassifier</td>\n",
       "      <td>100.00</td>\n",
       "      <td>92.26</td>\n",
       "      <td>0.82296</td>\n",
       "      <td>0.80382</td>\n",
       "    </tr>\n",
       "    <tr>\n",
       "      <td>8</td>\n",
       "      <td>Random Forest</td>\n",
       "      <td>100.00</td>\n",
       "      <td>92.26</td>\n",
       "      <td>0.81339</td>\n",
       "      <td>0.80382</td>\n",
       "    </tr>\n",
       "    <tr>\n",
       "      <td>17</td>\n",
       "      <td>VotingClassifier-hard voiting</td>\n",
       "      <td>100.00</td>\n",
       "      <td>92.26</td>\n",
       "      <td>0.81339</td>\n",
       "      <td>0.80382</td>\n",
       "    </tr>\n",
       "    <tr>\n",
       "      <td>18</td>\n",
       "      <td>VotingClassifier-soft voting</td>\n",
       "      <td>100.00</td>\n",
       "      <td>92.26</td>\n",
       "      <td>0.81339</td>\n",
       "      <td>0.80382</td>\n",
       "    </tr>\n",
       "    <tr>\n",
       "      <td>13</td>\n",
       "      <td>BaggingClassifier</td>\n",
       "      <td>99.66</td>\n",
       "      <td>92.26</td>\n",
       "      <td>0.80861</td>\n",
       "      <td>0.80382</td>\n",
       "    </tr>\n",
       "    <tr>\n",
       "      <td>7</td>\n",
       "      <td>Decision Tree Classifier</td>\n",
       "      <td>100.00</td>\n",
       "      <td>92.26</td>\n",
       "      <td>0.77990</td>\n",
       "      <td>0.80382</td>\n",
       "    </tr>\n",
       "    <tr>\n",
       "      <td>14</td>\n",
       "      <td>ExtraTreesClassifier</td>\n",
       "      <td>93.38</td>\n",
       "      <td>92.14</td>\n",
       "      <td>0.80861</td>\n",
       "      <td>0.79904</td>\n",
       "    </tr>\n",
       "    <tr>\n",
       "      <td>1</td>\n",
       "      <td>Support Vector Machines</td>\n",
       "      <td>98.99</td>\n",
       "      <td>92.14</td>\n",
       "      <td>0.62200</td>\n",
       "      <td>0.79904</td>\n",
       "    </tr>\n",
       "    <tr>\n",
       "      <td>15</td>\n",
       "      <td>Neural Network 1</td>\n",
       "      <td>90.35</td>\n",
       "      <td>92.14</td>\n",
       "      <td>0.59330</td>\n",
       "      <td>0.79904</td>\n",
       "    </tr>\n",
       "    <tr>\n",
       "      <td>16</td>\n",
       "      <td>Neural Network 2</td>\n",
       "      <td>61.17</td>\n",
       "      <td>91.47</td>\n",
       "      <td>0.64114</td>\n",
       "      <td>0.79665</td>\n",
       "    </tr>\n",
       "    <tr>\n",
       "      <td>6</td>\n",
       "      <td>Stochastic Gradient Decent</td>\n",
       "      <td>72.17</td>\n",
       "      <td>91.36</td>\n",
       "      <td>0.64593</td>\n",
       "      <td>0.77511</td>\n",
       "    </tr>\n",
       "    <tr>\n",
       "      <td>3</td>\n",
       "      <td>k-Nearest Neighbors</td>\n",
       "      <td>76.32</td>\n",
       "      <td>90.68</td>\n",
       "      <td>0.62679</td>\n",
       "      <td>0.77751</td>\n",
       "    </tr>\n",
       "    <tr>\n",
       "      <td>10</td>\n",
       "      <td>LGBMClassifier</td>\n",
       "      <td>96.07</td>\n",
       "      <td>90.12</td>\n",
       "      <td>0.82296</td>\n",
       "      <td>0.62200</td>\n",
       "    </tr>\n",
       "    <tr>\n",
       "      <td>5</td>\n",
       "      <td>Perceptron</td>\n",
       "      <td>50.73</td>\n",
       "      <td>89.90</td>\n",
       "      <td>0.46889</td>\n",
       "      <td>0.77511</td>\n",
       "    </tr>\n",
       "    <tr>\n",
       "      <td>12</td>\n",
       "      <td>RidgeClassifier</td>\n",
       "      <td>93.15</td>\n",
       "      <td>89.56</td>\n",
       "      <td>0.80861</td>\n",
       "      <td>0.77511</td>\n",
       "    </tr>\n",
       "    <tr>\n",
       "      <td>2</td>\n",
       "      <td>Linear SVC</td>\n",
       "      <td>94.61</td>\n",
       "      <td>89.45</td>\n",
       "      <td>0.81339</td>\n",
       "      <td>0.77033</td>\n",
       "    </tr>\n",
       "    <tr>\n",
       "      <td>0</td>\n",
       "      <td>Logistic Regression</td>\n",
       "      <td>93.60</td>\n",
       "      <td>89.45</td>\n",
       "      <td>0.79904</td>\n",
       "      <td>0.77033</td>\n",
       "    </tr>\n",
       "    <tr>\n",
       "      <td>9</td>\n",
       "      <td>XGBClassifier</td>\n",
       "      <td>94.39</td>\n",
       "      <td>77.78</td>\n",
       "      <td>0.80861</td>\n",
       "      <td>0.68899</td>\n",
       "    </tr>\n",
       "    <tr>\n",
       "      <td>4</td>\n",
       "      <td>Naive Bayes</td>\n",
       "      <td>86.53</td>\n",
       "      <td>77.67</td>\n",
       "      <td>0.73205</td>\n",
       "      <td>0.68899</td>\n",
       "    </tr>\n",
       "  </tbody>\n",
       "</table>\n",
       "</div>"
      ],
      "text/plain": [
       "                            Model  Score16  Score3   LB_all       LB\n",
       "19                    Simple rule    92.70   92.70  0.83253  0.80382\n",
       "11     GradientBoostingClassifier   100.00   92.26  0.82296  0.80382\n",
       "8                   Random Forest   100.00   92.26  0.81339  0.80382\n",
       "17  VotingClassifier-hard voiting   100.00   92.26  0.81339  0.80382\n",
       "18   VotingClassifier-soft voting   100.00   92.26  0.81339  0.80382\n",
       "13              BaggingClassifier    99.66   92.26  0.80861  0.80382\n",
       "7        Decision Tree Classifier   100.00   92.26  0.77990  0.80382\n",
       "14           ExtraTreesClassifier    93.38   92.14  0.80861  0.79904\n",
       "1         Support Vector Machines    98.99   92.14  0.62200  0.79904\n",
       "15               Neural Network 1    90.35   92.14  0.59330  0.79904\n",
       "16               Neural Network 2    61.17   91.47  0.64114  0.79665\n",
       "6      Stochastic Gradient Decent    72.17   91.36  0.64593  0.77511\n",
       "3             k-Nearest Neighbors    76.32   90.68  0.62679  0.77751\n",
       "10                 LGBMClassifier    96.07   90.12  0.82296  0.62200\n",
       "5                      Perceptron    50.73   89.90  0.46889  0.77511\n",
       "12                RidgeClassifier    93.15   89.56  0.80861  0.77511\n",
       "2                      Linear SVC    94.61   89.45  0.81339  0.77033\n",
       "0             Logistic Regression    93.60   89.45  0.79904  0.77033\n",
       "9                   XGBClassifier    94.39   77.78  0.80861  0.68899\n",
       "4                     Naive Bayes    86.53   77.67  0.73205  0.68899"
      ]
     },
     "execution_count": 98,
     "metadata": {},
     "output_type": "execute_result"
    }
   ],
   "source": [
    "models.sort_values(by=['Score3', 'LB_all', 'LB'], ascending=False)"
   ]
  },
  {
   "cell_type": "code",
   "execution_count": 99,
   "metadata": {
    "execution": {
     "iopub.execute_input": "2021-08-07T20:54:19.66223Z",
     "iopub.status.busy": "2021-08-07T20:54:19.661898Z",
     "iopub.status.idle": "2021-08-07T20:54:19.687272Z",
     "shell.execute_reply": "2021-08-07T20:54:19.686624Z",
     "shell.execute_reply.started": "2021-08-07T20:54:19.662175Z"
    }
   },
   "outputs": [
    {
     "data": {
      "text/html": [
       "<div>\n",
       "<style scoped>\n",
       "    .dataframe tbody tr th:only-of-type {\n",
       "        vertical-align: middle;\n",
       "    }\n",
       "\n",
       "    .dataframe tbody tr th {\n",
       "        vertical-align: top;\n",
       "    }\n",
       "\n",
       "    .dataframe thead th {\n",
       "        text-align: right;\n",
       "    }\n",
       "</style>\n",
       "<table border=\"1\" class=\"dataframe\">\n",
       "  <thead>\n",
       "    <tr style=\"text-align: right;\">\n",
       "      <th></th>\n",
       "      <th>Model</th>\n",
       "      <th>Score16</th>\n",
       "      <th>Score3</th>\n",
       "      <th>LB_all</th>\n",
       "      <th>LB</th>\n",
       "    </tr>\n",
       "  </thead>\n",
       "  <tbody>\n",
       "    <tr>\n",
       "      <td>19</td>\n",
       "      <td>Simple rule</td>\n",
       "      <td>92.70</td>\n",
       "      <td>92.70</td>\n",
       "      <td>0.83253</td>\n",
       "      <td>0.80382</td>\n",
       "    </tr>\n",
       "    <tr>\n",
       "      <td>11</td>\n",
       "      <td>GradientBoostingClassifier</td>\n",
       "      <td>100.00</td>\n",
       "      <td>92.26</td>\n",
       "      <td>0.82296</td>\n",
       "      <td>0.80382</td>\n",
       "    </tr>\n",
       "    <tr>\n",
       "      <td>10</td>\n",
       "      <td>LGBMClassifier</td>\n",
       "      <td>96.07</td>\n",
       "      <td>90.12</td>\n",
       "      <td>0.82296</td>\n",
       "      <td>0.62200</td>\n",
       "    </tr>\n",
       "    <tr>\n",
       "      <td>8</td>\n",
       "      <td>Random Forest</td>\n",
       "      <td>100.00</td>\n",
       "      <td>92.26</td>\n",
       "      <td>0.81339</td>\n",
       "      <td>0.80382</td>\n",
       "    </tr>\n",
       "    <tr>\n",
       "      <td>17</td>\n",
       "      <td>VotingClassifier-hard voiting</td>\n",
       "      <td>100.00</td>\n",
       "      <td>92.26</td>\n",
       "      <td>0.81339</td>\n",
       "      <td>0.80382</td>\n",
       "    </tr>\n",
       "    <tr>\n",
       "      <td>18</td>\n",
       "      <td>VotingClassifier-soft voting</td>\n",
       "      <td>100.00</td>\n",
       "      <td>92.26</td>\n",
       "      <td>0.81339</td>\n",
       "      <td>0.80382</td>\n",
       "    </tr>\n",
       "    <tr>\n",
       "      <td>2</td>\n",
       "      <td>Linear SVC</td>\n",
       "      <td>94.61</td>\n",
       "      <td>89.45</td>\n",
       "      <td>0.81339</td>\n",
       "      <td>0.77033</td>\n",
       "    </tr>\n",
       "    <tr>\n",
       "      <td>13</td>\n",
       "      <td>BaggingClassifier</td>\n",
       "      <td>99.66</td>\n",
       "      <td>92.26</td>\n",
       "      <td>0.80861</td>\n",
       "      <td>0.80382</td>\n",
       "    </tr>\n",
       "    <tr>\n",
       "      <td>14</td>\n",
       "      <td>ExtraTreesClassifier</td>\n",
       "      <td>93.38</td>\n",
       "      <td>92.14</td>\n",
       "      <td>0.80861</td>\n",
       "      <td>0.79904</td>\n",
       "    </tr>\n",
       "    <tr>\n",
       "      <td>12</td>\n",
       "      <td>RidgeClassifier</td>\n",
       "      <td>93.15</td>\n",
       "      <td>89.56</td>\n",
       "      <td>0.80861</td>\n",
       "      <td>0.77511</td>\n",
       "    </tr>\n",
       "    <tr>\n",
       "      <td>9</td>\n",
       "      <td>XGBClassifier</td>\n",
       "      <td>94.39</td>\n",
       "      <td>77.78</td>\n",
       "      <td>0.80861</td>\n",
       "      <td>0.68899</td>\n",
       "    </tr>\n",
       "    <tr>\n",
       "      <td>0</td>\n",
       "      <td>Logistic Regression</td>\n",
       "      <td>93.60</td>\n",
       "      <td>89.45</td>\n",
       "      <td>0.79904</td>\n",
       "      <td>0.77033</td>\n",
       "    </tr>\n",
       "    <tr>\n",
       "      <td>7</td>\n",
       "      <td>Decision Tree Classifier</td>\n",
       "      <td>100.00</td>\n",
       "      <td>92.26</td>\n",
       "      <td>0.77990</td>\n",
       "      <td>0.80382</td>\n",
       "    </tr>\n",
       "    <tr>\n",
       "      <td>4</td>\n",
       "      <td>Naive Bayes</td>\n",
       "      <td>86.53</td>\n",
       "      <td>77.67</td>\n",
       "      <td>0.73205</td>\n",
       "      <td>0.68899</td>\n",
       "    </tr>\n",
       "    <tr>\n",
       "      <td>6</td>\n",
       "      <td>Stochastic Gradient Decent</td>\n",
       "      <td>72.17</td>\n",
       "      <td>91.36</td>\n",
       "      <td>0.64593</td>\n",
       "      <td>0.77511</td>\n",
       "    </tr>\n",
       "    <tr>\n",
       "      <td>16</td>\n",
       "      <td>Neural Network 2</td>\n",
       "      <td>61.17</td>\n",
       "      <td>91.47</td>\n",
       "      <td>0.64114</td>\n",
       "      <td>0.79665</td>\n",
       "    </tr>\n",
       "    <tr>\n",
       "      <td>3</td>\n",
       "      <td>k-Nearest Neighbors</td>\n",
       "      <td>76.32</td>\n",
       "      <td>90.68</td>\n",
       "      <td>0.62679</td>\n",
       "      <td>0.77751</td>\n",
       "    </tr>\n",
       "    <tr>\n",
       "      <td>1</td>\n",
       "      <td>Support Vector Machines</td>\n",
       "      <td>98.99</td>\n",
       "      <td>92.14</td>\n",
       "      <td>0.62200</td>\n",
       "      <td>0.79904</td>\n",
       "    </tr>\n",
       "    <tr>\n",
       "      <td>15</td>\n",
       "      <td>Neural Network 1</td>\n",
       "      <td>90.35</td>\n",
       "      <td>92.14</td>\n",
       "      <td>0.59330</td>\n",
       "      <td>0.79904</td>\n",
       "    </tr>\n",
       "    <tr>\n",
       "      <td>5</td>\n",
       "      <td>Perceptron</td>\n",
       "      <td>50.73</td>\n",
       "      <td>89.90</td>\n",
       "      <td>0.46889</td>\n",
       "      <td>0.77511</td>\n",
       "    </tr>\n",
       "  </tbody>\n",
       "</table>\n",
       "</div>"
      ],
      "text/plain": [
       "                            Model  Score16  Score3   LB_all       LB\n",
       "19                    Simple rule    92.70   92.70  0.83253  0.80382\n",
       "11     GradientBoostingClassifier   100.00   92.26  0.82296  0.80382\n",
       "10                 LGBMClassifier    96.07   90.12  0.82296  0.62200\n",
       "8                   Random Forest   100.00   92.26  0.81339  0.80382\n",
       "17  VotingClassifier-hard voiting   100.00   92.26  0.81339  0.80382\n",
       "18   VotingClassifier-soft voting   100.00   92.26  0.81339  0.80382\n",
       "2                      Linear SVC    94.61   89.45  0.81339  0.77033\n",
       "13              BaggingClassifier    99.66   92.26  0.80861  0.80382\n",
       "14           ExtraTreesClassifier    93.38   92.14  0.80861  0.79904\n",
       "12                RidgeClassifier    93.15   89.56  0.80861  0.77511\n",
       "9                   XGBClassifier    94.39   77.78  0.80861  0.68899\n",
       "0             Logistic Regression    93.60   89.45  0.79904  0.77033\n",
       "7        Decision Tree Classifier   100.00   92.26  0.77990  0.80382\n",
       "4                     Naive Bayes    86.53   77.67  0.73205  0.68899\n",
       "6      Stochastic Gradient Decent    72.17   91.36  0.64593  0.77511\n",
       "16               Neural Network 2    61.17   91.47  0.64114  0.79665\n",
       "3             k-Nearest Neighbors    76.32   90.68  0.62679  0.77751\n",
       "1         Support Vector Machines    98.99   92.14  0.62200  0.79904\n",
       "15               Neural Network 1    90.35   92.14  0.59330  0.79904\n",
       "5                      Perceptron    50.73   89.90  0.46889  0.77511"
      ]
     },
     "execution_count": 99,
     "metadata": {},
     "output_type": "execute_result"
    }
   ],
   "source": [
    "models.sort_values(by=['LB_all', 'LB', 'Score3'], ascending=False)"
   ]
  },
  {
   "cell_type": "code",
   "execution_count": 100,
   "metadata": {
    "execution": {
     "iopub.execute_input": "2021-08-07T20:54:19.688821Z",
     "iopub.status.busy": "2021-08-07T20:54:19.688553Z",
     "iopub.status.idle": "2021-08-07T20:54:19.717794Z",
     "shell.execute_reply": "2021-08-07T20:54:19.716912Z",
     "shell.execute_reply.started": "2021-08-07T20:54:19.688776Z"
    }
   },
   "outputs": [
    {
     "data": {
      "text/html": [
       "<div>\n",
       "<style scoped>\n",
       "    .dataframe tbody tr th:only-of-type {\n",
       "        vertical-align: middle;\n",
       "    }\n",
       "\n",
       "    .dataframe tbody tr th {\n",
       "        vertical-align: top;\n",
       "    }\n",
       "\n",
       "    .dataframe thead th {\n",
       "        text-align: right;\n",
       "    }\n",
       "</style>\n",
       "<table border=\"1\" class=\"dataframe\">\n",
       "  <thead>\n",
       "    <tr style=\"text-align: right;\">\n",
       "      <th></th>\n",
       "      <th>Model</th>\n",
       "      <th>Score16</th>\n",
       "      <th>Score3</th>\n",
       "      <th>LB_all</th>\n",
       "      <th>LB</th>\n",
       "    </tr>\n",
       "  </thead>\n",
       "  <tbody>\n",
       "    <tr>\n",
       "      <td>19</td>\n",
       "      <td>Simple rule</td>\n",
       "      <td>92.70</td>\n",
       "      <td>92.70</td>\n",
       "      <td>0.83253</td>\n",
       "      <td>0.80382</td>\n",
       "    </tr>\n",
       "    <tr>\n",
       "      <td>11</td>\n",
       "      <td>GradientBoostingClassifier</td>\n",
       "      <td>100.00</td>\n",
       "      <td>92.26</td>\n",
       "      <td>0.82296</td>\n",
       "      <td>0.80382</td>\n",
       "    </tr>\n",
       "    <tr>\n",
       "      <td>8</td>\n",
       "      <td>Random Forest</td>\n",
       "      <td>100.00</td>\n",
       "      <td>92.26</td>\n",
       "      <td>0.81339</td>\n",
       "      <td>0.80382</td>\n",
       "    </tr>\n",
       "    <tr>\n",
       "      <td>17</td>\n",
       "      <td>VotingClassifier-hard voiting</td>\n",
       "      <td>100.00</td>\n",
       "      <td>92.26</td>\n",
       "      <td>0.81339</td>\n",
       "      <td>0.80382</td>\n",
       "    </tr>\n",
       "    <tr>\n",
       "      <td>18</td>\n",
       "      <td>VotingClassifier-soft voting</td>\n",
       "      <td>100.00</td>\n",
       "      <td>92.26</td>\n",
       "      <td>0.81339</td>\n",
       "      <td>0.80382</td>\n",
       "    </tr>\n",
       "    <tr>\n",
       "      <td>13</td>\n",
       "      <td>BaggingClassifier</td>\n",
       "      <td>99.66</td>\n",
       "      <td>92.26</td>\n",
       "      <td>0.80861</td>\n",
       "      <td>0.80382</td>\n",
       "    </tr>\n",
       "    <tr>\n",
       "      <td>7</td>\n",
       "      <td>Decision Tree Classifier</td>\n",
       "      <td>100.00</td>\n",
       "      <td>92.26</td>\n",
       "      <td>0.77990</td>\n",
       "      <td>0.80382</td>\n",
       "    </tr>\n",
       "    <tr>\n",
       "      <td>14</td>\n",
       "      <td>ExtraTreesClassifier</td>\n",
       "      <td>93.38</td>\n",
       "      <td>92.14</td>\n",
       "      <td>0.80861</td>\n",
       "      <td>0.79904</td>\n",
       "    </tr>\n",
       "    <tr>\n",
       "      <td>1</td>\n",
       "      <td>Support Vector Machines</td>\n",
       "      <td>98.99</td>\n",
       "      <td>92.14</td>\n",
       "      <td>0.62200</td>\n",
       "      <td>0.79904</td>\n",
       "    </tr>\n",
       "    <tr>\n",
       "      <td>15</td>\n",
       "      <td>Neural Network 1</td>\n",
       "      <td>90.35</td>\n",
       "      <td>92.14</td>\n",
       "      <td>0.59330</td>\n",
       "      <td>0.79904</td>\n",
       "    </tr>\n",
       "    <tr>\n",
       "      <td>16</td>\n",
       "      <td>Neural Network 2</td>\n",
       "      <td>61.17</td>\n",
       "      <td>91.47</td>\n",
       "      <td>0.64114</td>\n",
       "      <td>0.79665</td>\n",
       "    </tr>\n",
       "    <tr>\n",
       "      <td>3</td>\n",
       "      <td>k-Nearest Neighbors</td>\n",
       "      <td>76.32</td>\n",
       "      <td>90.68</td>\n",
       "      <td>0.62679</td>\n",
       "      <td>0.77751</td>\n",
       "    </tr>\n",
       "    <tr>\n",
       "      <td>12</td>\n",
       "      <td>RidgeClassifier</td>\n",
       "      <td>93.15</td>\n",
       "      <td>89.56</td>\n",
       "      <td>0.80861</td>\n",
       "      <td>0.77511</td>\n",
       "    </tr>\n",
       "    <tr>\n",
       "      <td>6</td>\n",
       "      <td>Stochastic Gradient Decent</td>\n",
       "      <td>72.17</td>\n",
       "      <td>91.36</td>\n",
       "      <td>0.64593</td>\n",
       "      <td>0.77511</td>\n",
       "    </tr>\n",
       "    <tr>\n",
       "      <td>5</td>\n",
       "      <td>Perceptron</td>\n",
       "      <td>50.73</td>\n",
       "      <td>89.90</td>\n",
       "      <td>0.46889</td>\n",
       "      <td>0.77511</td>\n",
       "    </tr>\n",
       "    <tr>\n",
       "      <td>2</td>\n",
       "      <td>Linear SVC</td>\n",
       "      <td>94.61</td>\n",
       "      <td>89.45</td>\n",
       "      <td>0.81339</td>\n",
       "      <td>0.77033</td>\n",
       "    </tr>\n",
       "    <tr>\n",
       "      <td>0</td>\n",
       "      <td>Logistic Regression</td>\n",
       "      <td>93.60</td>\n",
       "      <td>89.45</td>\n",
       "      <td>0.79904</td>\n",
       "      <td>0.77033</td>\n",
       "    </tr>\n",
       "    <tr>\n",
       "      <td>9</td>\n",
       "      <td>XGBClassifier</td>\n",
       "      <td>94.39</td>\n",
       "      <td>77.78</td>\n",
       "      <td>0.80861</td>\n",
       "      <td>0.68899</td>\n",
       "    </tr>\n",
       "    <tr>\n",
       "      <td>4</td>\n",
       "      <td>Naive Bayes</td>\n",
       "      <td>86.53</td>\n",
       "      <td>77.67</td>\n",
       "      <td>0.73205</td>\n",
       "      <td>0.68899</td>\n",
       "    </tr>\n",
       "    <tr>\n",
       "      <td>10</td>\n",
       "      <td>LGBMClassifier</td>\n",
       "      <td>96.07</td>\n",
       "      <td>90.12</td>\n",
       "      <td>0.82296</td>\n",
       "      <td>0.62200</td>\n",
       "    </tr>\n",
       "  </tbody>\n",
       "</table>\n",
       "</div>"
      ],
      "text/plain": [
       "                            Model  Score16  Score3   LB_all       LB\n",
       "19                    Simple rule    92.70   92.70  0.83253  0.80382\n",
       "11     GradientBoostingClassifier   100.00   92.26  0.82296  0.80382\n",
       "8                   Random Forest   100.00   92.26  0.81339  0.80382\n",
       "17  VotingClassifier-hard voiting   100.00   92.26  0.81339  0.80382\n",
       "18   VotingClassifier-soft voting   100.00   92.26  0.81339  0.80382\n",
       "13              BaggingClassifier    99.66   92.26  0.80861  0.80382\n",
       "7        Decision Tree Classifier   100.00   92.26  0.77990  0.80382\n",
       "14           ExtraTreesClassifier    93.38   92.14  0.80861  0.79904\n",
       "1         Support Vector Machines    98.99   92.14  0.62200  0.79904\n",
       "15               Neural Network 1    90.35   92.14  0.59330  0.79904\n",
       "16               Neural Network 2    61.17   91.47  0.64114  0.79665\n",
       "3             k-Nearest Neighbors    76.32   90.68  0.62679  0.77751\n",
       "12                RidgeClassifier    93.15   89.56  0.80861  0.77511\n",
       "6      Stochastic Gradient Decent    72.17   91.36  0.64593  0.77511\n",
       "5                      Perceptron    50.73   89.90  0.46889  0.77511\n",
       "2                      Linear SVC    94.61   89.45  0.81339  0.77033\n",
       "0             Logistic Regression    93.60   89.45  0.79904  0.77033\n",
       "9                   XGBClassifier    94.39   77.78  0.80861  0.68899\n",
       "4                     Naive Bayes    86.53   77.67  0.73205  0.68899\n",
       "10                 LGBMClassifier    96.07   90.12  0.82296  0.62200"
      ]
     },
     "execution_count": 100,
     "metadata": {},
     "output_type": "execute_result"
    }
   ],
   "source": [
    "models.sort_values(by=['LB', 'LB_all', 'Score3'], ascending=False)"
   ]
  },
  {
   "cell_type": "markdown",
   "metadata": {},
   "source": [
    "## 8. Conclusion <a class=\"anchor\" id=\"8\"></a>\n",
    "\n",
    "[Back to Table of Contents](#0.1)"
   ]
  },
  {
   "cell_type": "markdown",
   "metadata": {},
   "source": [
    "- The best model is the **simple rule in one line** from [\"Titanic Top 3% : one line of the prediction code\"](https://www.kaggle.com/vbmokin/titanic-top-3-one-line-of-the-prediction-code). Surprisingly, that the simple rule in one line gives the best result. This once again proves the enormous value of features engineering. The optimal selection of features is the key to success!\n",
    "\n",
    "- Models **GradientBoostingClassifier, Random Forests, VotingClassifiers, BaggingClassifier, Decision Tree Classifier** have provided the same accuracy LB on the test dataset as the simple rule, although on the training dataset they are much more accurate up to 100%.\n",
    "\n",
    "- The **VotingClassifier** for both voting options (\"*hard*\" and \"*soft*\") aggregation gave the same result for all the variants of features, that is, the solution found is indeed optimal, although a **Logistic Regression**, which is not one of the best, was selected for voting. This confirms the high efficiency of this method of aggregating (ensembling) predictions.\n",
    "\n",
    "- The models **GradientBoostingClassifier, BaggingClassifier, Random Forests, VotingClassifiers** did a good job of optimizing the features themselves, providing comparable accuracy for the different number of features in the test dataset, but the models **Decision Tree Classifier, Stochastic Gradient Descent, Support Vector Machines, Perceptron, Neural Networks, k-Nearest Neighbors algorithm** are very sensitive to the feature sets, because the accuracy of LB_all and LB is very different. Models **XGB Classifier, LGBM Classifier, ExtraTreesClassifier, Logistic Regression, Linear SVC, Naive Bayes, RidgeClassifier** depend on FE, but not so significantly.\n",
    "\n",
    "- The methods **LGBM Classifier, Perceptron, Neural Networks, Linear SVC, Naive Bayes, Logistic Regression, k-Nearest Neighbors algorithm, RidgeClassifier** have low accuracy LB, especially methods **Naive Bayes, Logistic Regression, Linear SVC**, compared to other models, although the \"***Titanic: Machine Learning from Disaster***\" contest is not indicative for the machine learning tasks because it contains too little data.\n",
    "\n",
    "- In all models, except **LGBM Classifier, Linear SVC, RidgeClassifier, Logistic Regression, Naive Bayes**, the prediction of test dataset based on 3 features yielded a more accurate result, possibly because these models perform worse under conditions of low number of features or under conditions of significant data dependence (in fact, feature \"*WomanOrBoySurvived*\" is, in part derived from others features \"*Sex*\" and \"*Alone*\") or with a small number of points (millions of points may vary greatly). Particularly interesting is that the **LGBM Classifier** model and method gave comparatively low accuracy on both the training and test datasets for the variant with three features, unlike **XGB Classifier** and other decision tree-based methods in which LB > LB_all.\n",
    "\n",
    "- To increase the accuracy of predictions, its need to increase the number of features and further improve their processing, that is FE (for example, add the processed feature \"**Tickets**\" - context is consist of a good kernels with have examples of such processing ([\"Advanced Feature Engineering Tutorial with Titanic\"](https://www.kaggle.com/gunesevitan/advanced-feature-engineering-tutorial-with-titanic) etc.)."
   ]
  },
  {
   "cell_type": "markdown",
   "metadata": {},
   "source": [
    "I hope you find this kernel useful and enjoyable."
   ]
  },
  {
   "cell_type": "markdown",
   "metadata": {},
   "source": [
    "Your comments and feedback are most welcome."
   ]
  },
  {
   "cell_type": "markdown",
   "metadata": {},
   "source": [
    "[Go to Top](#0)"
   ]
  }
 ],
 "metadata": {
  "kernelspec": {
   "display_name": "Python 3",
   "language": "python",
   "name": "python3"
  },
  "language_info": {
   "codemirror_mode": {
    "name": "ipython",
    "version": 3
   },
   "file_extension": ".py",
   "mimetype": "text/x-python",
   "name": "python",
   "nbconvert_exporter": "python",
   "pygments_lexer": "ipython3",
   "version": "3.6.6"
  }
 },
 "nbformat": 4,
 "nbformat_minor": 4
}
