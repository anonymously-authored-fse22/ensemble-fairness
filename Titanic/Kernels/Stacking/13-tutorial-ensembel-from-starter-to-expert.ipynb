{
 "cells": [
  {
   "cell_type": "markdown",
   "metadata": {
    "papermill": {
     "duration": 0.023446,
     "end_time": "2021-03-02T01:49:52.341461",
     "exception": false,
     "start_time": "2021-03-02T01:49:52.318015",
     "status": "completed"
    },
    "tags": []
   },
   "source": [
    "# Ensembel from starter to Expert!\n",
    "\n",
    "## Overview\n",
    "![](https://miro.medium.com/max/1000/1*QDnOdWR7dL69rYVP3z0WaQ.png)\n",
    "Image from: miro.medium.com\n",
    "\n",
    "\n",
    "\n",
    "> In this notebook, I'll trying to build as many as Ensemble model for Kaggler\n",
    "<br>\n",
    "\n",
    "<code>Ensemble</code> is the method that ensembling same or different model to build powerful model<br>\n",
    "Especially if you are kaggler then you must use Ensemble for hight performance and get highest score!<br>"
   ]
  },
  {
   "cell_type": "markdown",
   "metadata": {
    "papermill": {
     "duration": 0.021659,
     "end_time": "2021-03-02T01:49:52.385337",
     "exception": false,
     "start_time": "2021-03-02T01:49:52.363678",
     "status": "completed"
    },
    "tags": []
   },
   "source": [
    "We're going to learn about Vanilla Ensemble, Bagging, Boosting, XGBoost, LightGBM and Stacking\n",
    "* Vanilla Ensemble\n",
    "* Bagging\n",
    "* Boosting\n",
    "* XGBoost\n",
    "* LightGBM\n",
    "* Stacking\n",
    "\n",
    "Okay Let's get it started~!\n"
   ]
  },
  {
   "cell_type": "markdown",
   "metadata": {
    "papermill": {
     "duration": 0.022221,
     "end_time": "2021-03-02T01:49:52.429401",
     "exception": false,
     "start_time": "2021-03-02T01:49:52.407180",
     "status": "completed"
    },
    "tags": []
   },
   "source": [
    "[[](http://)](http://)<h3 style=\"color:green\">If you think this notebook is helpful, upvotes would be greatly appreciated :-) </h3>"
   ]
  },
  {
   "cell_type": "markdown",
   "metadata": {
    "papermill": {
     "duration": 0.021641,
     "end_time": "2021-03-02T01:49:52.473168",
     "exception": false,
     "start_time": "2021-03-02T01:49:52.451527",
     "status": "completed"
    },
    "tags": []
   },
   "source": [
    "## What is Ensemble?\n",
    "* Emsemble is the method that makes many model & vote their results to get one score\n",
    "* e.g. for regression problems, we try to get mean of many models\n",
    "* <code>Mete Classifier</code> : meta_classifier is simply the classifier that makes a final prediction among all the predictions by using those predictions as features.\n",
    "* <code>Stacking(Meta-ensemble)</code>: It involves combining the predictions from multiple machine learning models on the same dataset, like bagging and boosting.\n",
    "* Ensemble **takes long time**, but it is really **powerful method**\n",
    "* Especially for *structured dataset!*"
   ]
  },
  {
   "cell_type": "markdown",
   "metadata": {
    "papermill": {
     "duration": 0.023059,
     "end_time": "2021-03-02T01:49:52.518092",
     "exception": false,
     "start_time": "2021-03-02T01:49:52.495033",
     "status": "completed"
    },
    "tags": []
   },
   "source": [
    "<table><tr>\n",
    "<td> <img src=\"https://encrypted-tbn0.gstatic.com/images?q=tbn:ANd9GcQ6sEJxaMhsqcQkNKCUE7Zm45qhwVmPfYJ4Cw&usqp=CAU\" alt=\"Drawing\" style=\"width: 520px;\"/> </td>\n",
    "<td> <img src=\"https://machinelearningmastery.com/wp-content/uploads/2020/07/Example-of-Combining-Decision-Boundaries-Using-an-Ensemble.png\" alt=\"Drawing\" style=\"width: 550px;\"/> </td>\n",
    "</tr></table>"
   ]
  },
  {
   "cell_type": "markdown",
   "metadata": {
    "papermill": {
     "duration": 0.021511,
     "end_time": "2021-03-02T01:49:52.561694",
     "exception": false,
     "start_time": "2021-03-02T01:49:52.540183",
     "status": "completed"
    },
    "tags": []
   },
   "source": [
    "# Import Library"
   ]
  },
  {
   "cell_type": "code",
   "execution_count": 1,
   "metadata": {
    "execution": {
     "iopub.execute_input": "2021-03-02T01:49:52.617377Z",
     "iopub.status.busy": "2021-03-02T01:49:52.614532Z",
     "iopub.status.idle": "2021-03-02T01:49:54.498559Z",
     "shell.execute_reply": "2021-03-02T01:49:54.496917Z"
    },
    "papermill": {
     "duration": 1.915135,
     "end_time": "2021-03-02T01:49:54.498846",
     "exception": false,
     "start_time": "2021-03-02T01:49:52.583711",
     "status": "completed"
    },
    "tags": []
   },
   "outputs": [
    {
     "data": {
      "text/html": [
       "<style type='text/css'>\n",
       ".datatable table.frame { margin-bottom: 0; }\n",
       ".datatable table.frame thead { border-bottom: none; }\n",
       ".datatable table.frame tr.coltypes td {  color: #FFFFFF;  line-height: 6px;  padding: 0 0.5em;}\n",
       ".datatable .bool    { background: #DDDD99; }\n",
       ".datatable .object  { background: #565656; }\n",
       ".datatable .int     { background: #5D9E5D; }\n",
       ".datatable .float   { background: #4040CC; }\n",
       ".datatable .str     { background: #CC4040; }\n",
       ".datatable .row_index {  background: var(--jp-border-color3);  border-right: 1px solid var(--jp-border-color0);  color: var(--jp-ui-font-color3);  font-size: 9px;}\n",
       ".datatable .frame tr.coltypes .row_index {  background: var(--jp-border-color0);}\n",
       ".datatable th:nth-child(2) { padding-left: 12px; }\n",
       ".datatable .hellipsis {  color: var(--jp-cell-editor-border-color);}\n",
       ".datatable .vellipsis {  background: var(--jp-layout-color0);  color: var(--jp-cell-editor-border-color);}\n",
       ".datatable .na {  color: var(--jp-cell-editor-border-color);  font-size: 80%;}\n",
       ".datatable .footer { font-size: 9px; }\n",
       ".datatable .frame_dimensions {  background: var(--jp-border-color3);  border-top: 1px solid var(--jp-border-color0);  color: var(--jp-ui-font-color3);  display: inline-block;  opacity: 0.6;  padding: 1px 10px 1px 5px;}\n",
       "</style>\n"
      ],
      "text/plain": [
       "<IPython.core.display.HTML object>"
      ]
     },
     "metadata": {},
     "output_type": "display_data"
    }
   ],
   "source": [
    "# Import Library\n",
    "\n",
    "import numpy as np  # for linear algebra\n",
    "import pandas as pd  # for dataframe\n",
    "\n",
    "import matplotlib.pyplot as plt  # for visualization\n",
    "import seaborn as sns\n",
    "%matplotlib inline\n",
    "\n",
    "# Pipelines for Training\n",
    "from sklearn.compose import ColumnTransformer\n",
    "from sklearn.pipeline import Pipeline\n",
    "from sklearn.pipeline import make_pipeline\n",
    "from sklearn.impute import SimpleImputer\n",
    "from sklearn.preprocessing import OneHotEncoder\n",
    "from sklearn.preprocessing import StandardScaler\n",
    "\n",
    "from sklearn.model_selection import train_test_split\n",
    "\n",
    "from sklearn.ensemble import RandomForestClassifier\n",
    "from sklearn.ensemble import VotingClassifier  # for voting classifier\n",
    "from sklearn.ensemble import AdaBoostClassifier\n",
    "from sklearn.ensemble import GradientBoostingClassifier\n",
    "from xgboost import XGBClassifier\n",
    "from lightgbm import LGBMClassifier\n",
    "from sklearn.ensemble import StackingClassifier\n",
    "\n",
    "from sklearn.model_selection import GridSearchCV  # for hyperparameter search\n",
    "\n",
    "from sklearn.model_selection import cross_val_score\n",
    "from sklearn.metrics import classification_report  # for report\n",
    "\n",
    "\n",
    "import warnings\n",
    "warnings.filterwarnings(\"ignore\")"
   ]
  },
  {
   "cell_type": "markdown",
   "metadata": {
    "papermill": {
     "duration": 0.022279,
     "end_time": "2021-03-02T01:49:54.544408",
     "exception": false,
     "start_time": "2021-03-02T01:49:54.522129",
     "status": "completed"
    },
    "tags": []
   },
   "source": [
    "# Data Preprocessing (Using Pipelines)\n",
    "* Load Data\n",
    "* Remove Null Values\n",
    "* Feature Engineering"
   ]
  },
  {
   "cell_type": "code",
   "execution_count": 2,
   "metadata": {
    "execution": {
     "iopub.execute_input": "2021-03-02T01:49:54.598407Z",
     "iopub.status.busy": "2021-03-02T01:49:54.597729Z",
     "iopub.status.idle": "2021-03-02T01:49:54.667886Z",
     "shell.execute_reply": "2021-03-02T01:49:54.667375Z"
    },
    "papermill": {
     "duration": 0.101199,
     "end_time": "2021-03-02T01:49:54.668033",
     "exception": false,
     "start_time": "2021-03-02T01:49:54.566834",
     "status": "completed"
    },
    "tags": []
   },
   "outputs": [],
   "source": [
    "# Load Data & Remove rows\n",
    "X = pd.read_csv(\"../input/titanic/train.csv\", index_col='PassengerId')\n",
    "X_test = pd.read_csv(\"../input/titanic/test.csv\", index_col='PassengerId')\n",
    "\n",
    "# Remove rows\n",
    "X.dropna(axis=0, subset=['Survived'], inplace=True)\n",
    "y = X.Survived\n",
    "X.drop(labels=['Survived'], axis=1, inplace=True)\n",
    "\n",
    "# \"Cardinality\" means the number of unique values in columns\n",
    "# Select categorical columns with relatively low cardinality\n",
    "categorical_cols = [cname for cname in  X.columns if X[cname].nunique() < 10 and X[cname].dtype=='object']\n",
    "# Select numerical columns\n",
    "numerical_cols = [cname for cname in X.columns if X[cname].dtype in [\"int64\", \"float64\"]]\n",
    "\n",
    "# keep selected columns only\n",
    "my_cols = categorical_cols + numerical_cols\n",
    "X = X[my_cols].copy()\n",
    "X_test = X_test[my_cols].copy()"
   ]
  },
  {
   "cell_type": "code",
   "execution_count": 3,
   "metadata": {
    "execution": {
     "iopub.execute_input": "2021-03-02T01:49:54.719333Z",
     "iopub.status.busy": "2021-03-02T01:49:54.718576Z",
     "iopub.status.idle": "2021-03-02T01:49:54.725166Z",
     "shell.execute_reply": "2021-03-02T01:49:54.726150Z"
    },
    "papermill": {
     "duration": 0.035891,
     "end_time": "2021-03-02T01:49:54.726487",
     "exception": false,
     "start_time": "2021-03-02T01:49:54.690596",
     "status": "completed"
    },
    "tags": []
   },
   "outputs": [
    {
     "name": "stdout",
     "output_type": "stream",
     "text": [
      "(891, 7) (891,) (418, 7)\n"
     ]
    }
   ],
   "source": [
    "print(X.shape, y.shape, X_test.shape)"
   ]
  },
  {
   "cell_type": "code",
   "execution_count": 4,
   "metadata": {
    "execution": {
     "iopub.execute_input": "2021-03-02T01:49:54.781967Z",
     "iopub.status.busy": "2021-03-02T01:49:54.781300Z",
     "iopub.status.idle": "2021-03-02T01:49:55.057311Z",
     "shell.execute_reply": "2021-03-02T01:49:55.057773Z"
    },
    "papermill": {
     "duration": 0.307343,
     "end_time": "2021-03-02T01:49:55.057991",
     "exception": false,
     "start_time": "2021-03-02T01:49:54.750648",
     "status": "completed"
    },
    "tags": []
   },
   "outputs": [
    {
     "data": {
      "text/plain": [
       "<AxesSubplot:xlabel='Survived', ylabel='count'>"
      ]
     },
     "execution_count": 4,
     "metadata": {},
     "output_type": "execute_result"
    },
    {
     "data": {
      "image/png": "[encoded data removed]",
      "text/plain": [
       "<Figure size 864x288 with 2 Axes>"
      ]
     },
     "metadata": {
      "needs_background": "light"
     },
     "output_type": "display_data"
    }
   ],
   "source": [
    "X_ = pd.read_csv('../input/titanic/train.csv')\n",
    "\n",
    "f, ax = plt.subplots(1, 2, figsize=(12, 4))\n",
    "X_['Survived'].value_counts().plot.pie(autopct='%1.1f%%', ax=ax[0])\n",
    "sns.countplot('Survived', data=X_, ax=ax[1])"
   ]
  },
  {
   "cell_type": "markdown",
   "metadata": {
    "papermill": {
     "duration": 0.029619,
     "end_time": "2021-03-02T01:49:55.120207",
     "exception": false,
     "start_time": "2021-03-02T01:49:55.090588",
     "status": "completed"
    },
    "tags": []
   },
   "source": [
    "### Pipelines for training\n",
    "* numerical_transformer/categorical_transformer\n",
    "* preprocessor(ColumnTransformer)\n",
    "* define model\n",
    "* Bundle preprocessing and modeling\n",
    "* Preprocessing of training data, fit model\n",
    "* Preprocessing of validation data, get predictions"
   ]
  },
  {
   "cell_type": "code",
   "execution_count": 5,
   "metadata": {
    "execution": {
     "iopub.execute_input": "2021-03-02T01:49:55.178236Z",
     "iopub.status.busy": "2021-03-02T01:49:55.177314Z",
     "iopub.status.idle": "2021-03-02T01:49:55.183565Z",
     "shell.execute_reply": "2021-03-02T01:49:55.184011Z"
    },
    "papermill": {
     "duration": 0.037544,
     "end_time": "2021-03-02T01:49:55.184244",
     "exception": false,
     "start_time": "2021-03-02T01:49:55.146700",
     "status": "completed"
    },
    "tags": []
   },
   "outputs": [],
   "source": [
    "# Preprocessing for numerical data\n",
    "numerical_transformer = SimpleImputer(strategy='most_frequent')\n",
    "\n",
    "# Preprocessing for categorical data\n",
    "categorical_transformer = Pipeline(steps=[\n",
    "    ('imputer', SimpleImputer(strategy='most_frequent')),\n",
    "    ('onehot', OneHotEncoder(handle_unknown='ignore'))\n",
    "])  # pipeline steps: list of tuples that are chained, in the order in which they are chained\n",
    "\n",
    "# Preprocessing for numerical and categorical data\n",
    "# column transformer: Applies transformers to columns of an array or pandas DataFrame.\n",
    "preprocessor = ColumnTransformer(\n",
    "    transformers=[\n",
    "        ('num', numerical_transformer, numerical_cols),\n",
    "        ('cat', categorical_transformer, categorical_cols)\n",
    "    ])"
   ]
  },
  {
   "cell_type": "markdown",
   "metadata": {
    "papermill": {
     "duration": 0.024631,
     "end_time": "2021-03-02T01:49:55.233974",
     "exception": false,
     "start_time": "2021-03-02T01:49:55.209343",
     "status": "completed"
    },
    "tags": []
   },
   "source": [
    "## Baseline"
   ]
  },
  {
   "cell_type": "markdown",
   "metadata": {
    "papermill": {
     "duration": 0.024297,
     "end_time": "2021-03-02T01:49:55.283194",
     "exception": false,
     "start_time": "2021-03-02T01:49:55.258897",
     "status": "completed"
    },
    "tags": []
   },
   "source": [
    "* we need to define baseline for comparison"
   ]
  },
  {
   "cell_type": "code",
   "execution_count": 6,
   "metadata": {
    "execution": {
     "iopub.execute_input": "2021-03-02T01:49:55.341206Z",
     "iopub.status.busy": "2021-03-02T01:49:55.340346Z",
     "iopub.status.idle": "2021-03-02T01:49:57.923867Z",
     "shell.execute_reply": "2021-03-02T01:49:57.924385Z"
    },
    "papermill": {
     "duration": 2.616496,
     "end_time": "2021-03-02T01:49:57.924595",
     "exception": false,
     "start_time": "2021-03-02T01:49:55.308099",
     "status": "completed"
    },
    "tags": []
   },
   "outputs": [
    {
     "name": "stdout",
     "output_type": "stream",
     "text": [
      "0.8115106117353308\n"
     ]
    }
   ],
   "source": [
    "rf_clf = RandomForestClassifier()\n",
    "\n",
    "# Bundle preprocessing and modeling code in a pipeline\n",
    "# pipeline steps: list of tuples that are chained, in the order in which they are chained\n",
    "clf = Pipeline(steps=[\n",
    "    ('preprocessor', preprocessor),\n",
    "    ('scaler', StandardScaler()),\n",
    "    ('model', rf_clf)])\n",
    "\n",
    "print(cross_val_score(clf, X, y, cv=10).mean())"
   ]
  },
  {
   "cell_type": "code",
   "execution_count": 7,
   "metadata": {
    "execution": {
     "iopub.execute_input": "2021-03-02T01:49:57.980569Z",
     "iopub.status.busy": "2021-03-02T01:49:57.979618Z",
     "iopub.status.idle": "2021-03-02T01:49:58.245426Z",
     "shell.execute_reply": "2021-03-02T01:49:58.245888Z"
    },
    "papermill": {
     "duration": 0.295977,
     "end_time": "2021-03-02T01:49:58.246172",
     "exception": false,
     "start_time": "2021-03-02T01:49:57.950195",
     "status": "completed"
    },
    "tags": []
   },
   "outputs": [
    {
     "name": "stdout",
     "output_type": "stream",
     "text": [
      "              precision    recall  f1-score   support\n",
      "\n",
      "           0       0.85      0.85      0.85       110\n",
      "           1       0.76      0.77      0.76        69\n",
      "\n",
      "    accuracy                           0.82       179\n",
      "   macro avg       0.81      0.81      0.81       179\n",
      "weighted avg       0.82      0.82      0.82       179\n",
      "\n"
     ]
    }
   ],
   "source": [
    "X_train, X_val, y_train, y_val = train_test_split(X, y, test_size=0.2)\n",
    "clf.fit(X_train, y_train)\n",
    "preds = clf.predict(X_val)\n",
    "\n",
    "print(classification_report(y_val, preds))"
   ]
  },
  {
   "cell_type": "markdown",
   "metadata": {
    "papermill": {
     "duration": 0.025376,
     "end_time": "2021-03-02T01:49:58.297360",
     "exception": false,
     "start_time": "2021-03-02T01:49:58.271984",
     "status": "completed"
    },
    "tags": []
   },
   "source": [
    "# 1. Voting Classifier\n",
    "*a.k.a Majority Voting or Vanilla Ensemble*<br>\n",
    "\n",
    "A <code>Voting Classifier</code> is a machine learning model that trains on an ensemble of numerous models and predicts an output (class) based on their highest probability of chosen class as the output\n",
    "\n",
    "* Voting Classifier is basic Ensemble Classifier\n",
    "* using Majority Voting"
   ]
  },
  {
   "cell_type": "markdown",
   "metadata": {
    "papermill": {
     "duration": 0.025262,
     "end_time": "2021-03-02T01:49:58.348256",
     "exception": false,
     "start_time": "2021-03-02T01:49:58.322994",
     "status": "completed"
    },
    "tags": []
   },
   "source": [
    "> Let's do it!"
   ]
  },
  {
   "cell_type": "markdown",
   "metadata": {
    "papermill": {
     "duration": 0.026743,
     "end_time": "2021-03-02T01:49:58.401170",
     "exception": false,
     "start_time": "2021-03-02T01:49:58.374427",
     "status": "completed"
    },
    "tags": []
   },
   "source": [
    "### Practice Voting Classifier"
   ]
  },
  {
   "cell_type": "code",
   "execution_count": 8,
   "metadata": {
    "execution": {
     "iopub.execute_input": "2021-03-02T01:49:58.461912Z",
     "iopub.status.busy": "2021-03-02T01:49:58.461152Z",
     "iopub.status.idle": "2021-03-02T01:49:58.838133Z",
     "shell.execute_reply": "2021-03-02T01:49:58.837120Z"
    },
    "papermill": {
     "duration": 0.411183,
     "end_time": "2021-03-02T01:49:58.838452",
     "exception": false,
     "start_time": "2021-03-02T01:49:58.427269",
     "status": "completed"
    },
    "tags": []
   },
   "outputs": [
    {
     "name": "stdout",
     "output_type": "stream",
     "text": [
      "0.7968539325842697\n"
     ]
    }
   ],
   "source": [
    "from sklearn.linear_model import LogisticRegression\n",
    "from sklearn.tree import DecisionTreeClassifier\n",
    "from sklearn.naive_bayes import GaussianNB\n",
    "from sklearn.ensemble import VotingClassifier\n",
    "# Add Scaler\n",
    "from sklearn.preprocessing import StandardScaler\n",
    "\n",
    "clf1 = LogisticRegression(random_state=42)\n",
    "clf2 = DecisionTreeClassifier(random_state=42)\n",
    "clf3 = GaussianNB()\n",
    "\n",
    "# Voting Classifier\n",
    "clf = VotingClassifier(estimators=[\n",
    "    ('lr', clf1),\n",
    "    ('rf', clf2),\n",
    "    ('gnb', clf3)],\n",
    "    voting = 'hard')\n",
    "\n",
    "\n",
    "eclf = Pipeline(steps=[\n",
    "    ('preprocessor', preprocessor),\n",
    "    ('scaler', StandardScaler()),\n",
    "    ('model', clf)\n",
    "])\n",
    "\n",
    "print(cross_val_score(eclf, X, y, cv=10).mean())"
   ]
  },
  {
   "cell_type": "markdown",
   "metadata": {
    "papermill": {
     "duration": 0.02653,
     "end_time": "2021-03-02T01:49:58.892983",
     "exception": false,
     "start_time": "2021-03-02T01:49:58.866453",
     "status": "completed"
    },
    "tags": []
   },
   "source": [
    "# 2. Bagging\n",
    "* <code>Bagging Classifiers</code> that are simply made with the same dataset are meaningless (e.g. if you consider multiple trees made with the same dataset, they will be made very similar and do not affect performance)\n",
    "* The data we are seeing is only a fraction of the very large data\n",
    "* Likewise, if we think of the sample itself as a population and create a model by sampling this population, we can make a very robust model.\n",
    "* It would be good to apply it to malware classification research that lacks data.\n",
    "\n",
    "## TL;DR\n",
    "> Let's make various classifiers with various sampling datasets!"
   ]
  },
  {
   "cell_type": "code",
   "execution_count": 9,
   "metadata": {
    "execution": {
     "iopub.execute_input": "2021-03-02T01:49:58.958411Z",
     "iopub.status.busy": "2021-03-02T01:49:58.953772Z",
     "iopub.status.idle": "2021-03-02T01:49:59.207059Z",
     "shell.execute_reply": "2021-03-02T01:49:59.206466Z"
    },
    "papermill": {
     "duration": 0.287892,
     "end_time": "2021-03-02T01:49:59.207253",
     "exception": false,
     "start_time": "2021-03-02T01:49:58.919361",
     "status": "completed"
    },
    "tags": []
   },
   "outputs": [
    {
     "name": "stdout",
     "output_type": "stream",
     "text": [
      "0.7912858926342073\n"
     ]
    }
   ],
   "source": [
    "clf2 = DecisionTreeClassifier(random_state=42)\n",
    "eclf2 = Pipeline(steps=[\n",
    "    ('preprocessor', preprocessor),\n",
    "    ('sacler', StandardScaler()),\n",
    "    ('model', clf2)\n",
    "])\n",
    "\n",
    "print(cross_val_score(eclf2, X, y, cv=10).mean())"
   ]
  },
  {
   "cell_type": "markdown",
   "metadata": {
    "papermill": {
     "duration": 0.026868,
     "end_time": "2021-03-02T01:49:59.260764",
     "exception": false,
     "start_time": "2021-03-02T01:49:59.233896",
     "status": "completed"
    },
    "tags": []
   },
   "source": [
    "# 3. Adaboost\n",
    "*What is Boosting?*<br>\n",
    "\n",
    "* Proceeding the training round, creating a model -> updating the weight of each row by model\n",
    "* Model creation centered on rows with high instance weight (misclassified)\n",
    "* Create an ensemble model from these models\n",
    "* The purpose is to better categorize misclassified data.\n",
    "<br>\n",
    "\n",
    "> TL;DR - makes week learner stronger!"
   ]
  },
  {
   "cell_type": "code",
   "execution_count": 10,
   "metadata": {
    "execution": {
     "iopub.execute_input": "2021-03-02T01:49:59.321818Z",
     "iopub.status.busy": "2021-03-02T01:49:59.321139Z",
     "iopub.status.idle": "2021-03-02T01:50:02.155757Z",
     "shell.execute_reply": "2021-03-02T01:50:02.154658Z"
    },
    "papermill": {
     "duration": 2.868462,
     "end_time": "2021-03-02T01:50:02.156000",
     "exception": false,
     "start_time": "2021-03-02T01:49:59.287538",
     "status": "completed"
    },
    "tags": []
   },
   "outputs": [
    {
     "name": "stdout",
     "output_type": "stream",
     "text": [
      "0.8059675405742821\n"
     ]
    }
   ],
   "source": [
    "clf3 = AdaBoostClassifier(base_estimator=DecisionTreeClassifier())\n",
    "eclf3 = Pipeline(steps=[\n",
    "    ('preprocessor', preprocessor),\n",
    "    ('scaler', StandardScaler()),\n",
    "    ('model', clf3)\n",
    "])\n",
    "\n",
    "print(cross_val_score(eclf3, X, y, cv=10).mean())"
   ]
  },
  {
   "cell_type": "markdown",
   "metadata": {
    "papermill": {
     "duration": 0.026487,
     "end_time": "2021-03-02T01:50:02.212300",
     "exception": false,
     "start_time": "2021-03-02T01:50:02.185813",
     "status": "completed"
    },
    "tags": []
   },
   "source": [
    "# 4. Gradient Boosting\n",
    "* Some kind of boosting technique like Adaboost\n",
    "* can be used for both Regression, Classification\n",
    "* Sequential + Additive Model\n",
    "* Reinforcing the model with the residual of the previous model\n",
    "* Weak learner developing by predicting residual"
   ]
  },
  {
   "cell_type": "code",
   "execution_count": 11,
   "metadata": {
    "execution": {
     "iopub.execute_input": "2021-03-02T01:50:02.275023Z",
     "iopub.status.busy": "2021-03-02T01:50:02.274379Z",
     "iopub.status.idle": "2021-03-02T01:50:03.702827Z",
     "shell.execute_reply": "2021-03-02T01:50:03.702243Z"
    },
    "papermill": {
     "duration": 1.462992,
     "end_time": "2021-03-02T01:50:03.702991",
     "exception": false,
     "start_time": "2021-03-02T01:50:02.239999",
     "status": "completed"
    },
    "tags": []
   },
   "outputs": [
    {
     "name": "stdout",
     "output_type": "stream",
     "text": [
      "0.8283021223470662\n"
     ]
    }
   ],
   "source": [
    "clf4 = GradientBoostingClassifier()\n",
    "eclf4 = Pipeline(steps=[\n",
    "    ('preprocessor', preprocessor),\n",
    "    ('scaler', StandardScaler()),\n",
    "    ('model', clf4)\n",
    "])\n",
    "\n",
    "print(cross_val_score(eclf4, X, y, cv=10).mean())"
   ]
  },
  {
   "cell_type": "markdown",
   "metadata": {
    "papermill": {
     "duration": 0.027497,
     "end_time": "2021-03-02T01:50:03.758687",
     "exception": false,
     "start_time": "2021-03-02T01:50:03.731190",
     "status": "completed"
    },
    "tags": []
   },
   "source": [
    "# 5. XGboost & LightGBM\n",
    "* There is a package for parallel processing with GBM associative quantity.\n",
    "* Representative packages are XGBoost and LightGBM\n",
    "* <code>XGBoost</code>: eXtremeGradient Boosting\n",
    "* <code>LightGBM</codE>: Light Gradient Boosting Machine\n",
    "* Implementation algorithm differs in some parts, but the goal is similar\n",
    "* Both are *Tree-based Gradient Boosting!!*\n",
    "<br>\n",
    "\n",
    "![XGBoost-LGB](https://image.slidesharecdn.com/xgboostandlightgbm-180201121028/95/xgboost-lightgbm-21-638.jpg?cb=1517487076)\n",
    "from slidehsarecdn"
   ]
  },
  {
   "cell_type": "markdown",
   "metadata": {
    "papermill": {
     "duration": 0.02726,
     "end_time": "2021-03-02T01:50:03.813709",
     "exception": false,
     "start_time": "2021-03-02T01:50:03.786449",
     "status": "completed"
    },
    "tags": []
   },
   "source": [
    "## 5.1. XGBoost"
   ]
  },
  {
   "cell_type": "code",
   "execution_count": 12,
   "metadata": {
    "_kg_hide-output": true,
    "collapsed": true,
    "execution": {
     "iopub.execute_input": "2021-03-02T01:50:03.878771Z",
     "iopub.status.busy": "2021-03-02T01:50:03.877722Z",
     "iopub.status.idle": "2021-03-02T01:50:05.193215Z",
     "shell.execute_reply": "2021-03-02T01:50:05.193891Z"
    },
    "papermill": {
     "duration": 1.352509,
     "end_time": "2021-03-02T01:50:05.194132",
     "exception": false,
     "start_time": "2021-03-02T01:50:03.841623",
     "status": "completed"
    },
    "tags": []
   },
   "outputs": [
    {
     "name": "stdout",
     "output_type": "stream",
     "text": [
      "[01:50:03] WARNING: ../src/learner.cc:1061: Starting in XGBoost 1.3.0, the default evaluation metric used with the objective 'binary:logistic' was changed from 'error' to 'logloss'. Explicitly set eval_metric if you'd like to restore the old behavior.\n",
      "[01:50:04] WARNING: ../src/learner.cc:1061: Starting in XGBoost 1.3.0, the default evaluation metric used with the objective 'binary:logistic' was changed from 'error' to 'logloss'. Explicitly set eval_metric if you'd like to restore the old behavior.\n",
      "[01:50:04] WARNING: ../src/learner.cc:1061: Starting in XGBoost 1.3.0, the default evaluation metric used with the objective 'binary:logistic' was changed from 'error' to 'logloss'. Explicitly set eval_metric if you'd like to restore the old behavior.\n",
      "[01:50:04] WARNING: ../src/learner.cc:1061: Starting in XGBoost 1.3.0, the default evaluation metric used with the objective 'binary:logistic' was changed from 'error' to 'logloss'. Explicitly set eval_metric if you'd like to restore the old behavior.\n",
      "[01:50:04] WARNING: ../src/learner.cc:1061: Starting in XGBoost 1.3.0, the default evaluation metric used with the objective 'binary:logistic' was changed from 'error' to 'logloss'. Explicitly set eval_metric if you'd like to restore the old behavior.\n",
      "[01:50:04] WARNING: ../src/learner.cc:1061: Starting in XGBoost 1.3.0, the default evaluation metric used with the objective 'binary:logistic' was changed from 'error' to 'logloss'. Explicitly set eval_metric if you'd like to restore the old behavior.\n",
      "[01:50:04] WARNING: ../src/learner.cc:1061: Starting in XGBoost 1.3.0, the default evaluation metric used with the objective 'binary:logistic' was changed from 'error' to 'logloss'. Explicitly set eval_metric if you'd like to restore the old behavior.\n",
      "[01:50:04] WARNING: ../src/learner.cc:1061: Starting in XGBoost 1.3.0, the default evaluation metric used with the objective 'binary:logistic' was changed from 'error' to 'logloss'. Explicitly set eval_metric if you'd like to restore the old behavior.\n",
      "[01:50:04] WARNING: ../src/learner.cc:1061: Starting in XGBoost 1.3.0, the default evaluation metric used with the objective 'binary:logistic' was changed from 'error' to 'logloss'. Explicitly set eval_metric if you'd like to restore the old behavior.\n",
      "[01:50:05] WARNING: ../src/learner.cc:1061: Starting in XGBoost 1.3.0, the default evaluation metric used with the objective 'binary:logistic' was changed from 'error' to 'logloss'. Explicitly set eval_metric if you'd like to restore the old behavior.\n",
      "0.8227215980024969\n"
     ]
    }
   ],
   "source": [
    "clf5_1 = XGBClassifier()\n",
    "eclf5_1 = Pipeline(steps=[\n",
    "    ('preprocessor', preprocessor),\n",
    "    ('scaler', StandardScaler()),\n",
    "    ('model', clf5_1)\n",
    "])\n",
    "\n",
    "print(cross_val_score(eclf5_1, X, y, cv=10).mean())"
   ]
  },
  {
   "cell_type": "markdown",
   "metadata": {
    "papermill": {
     "duration": 0.029108,
     "end_time": "2021-03-02T01:50:05.256838",
     "exception": false,
     "start_time": "2021-03-02T01:50:05.227730",
     "status": "completed"
    },
    "tags": []
   },
   "source": [
    "0.8227215980024969"
   ]
  },
  {
   "cell_type": "markdown",
   "metadata": {
    "papermill": {
     "duration": 0.028698,
     "end_time": "2021-03-02T01:50:05.314982",
     "exception": false,
     "start_time": "2021-03-02T01:50:05.286284",
     "status": "completed"
    },
    "tags": []
   },
   "source": [
    "## 5.2. LightGBM"
   ]
  },
  {
   "cell_type": "code",
   "execution_count": 13,
   "metadata": {
    "_kg_hide-output": true,
    "execution": {
     "iopub.execute_input": "2021-03-02T01:50:05.382229Z",
     "iopub.status.busy": "2021-03-02T01:50:05.381088Z",
     "iopub.status.idle": "2021-03-02T01:50:07.103867Z",
     "shell.execute_reply": "2021-03-02T01:50:07.104606Z"
    },
    "papermill": {
     "duration": 1.760122,
     "end_time": "2021-03-02T01:50:07.104837",
     "exception": false,
     "start_time": "2021-03-02T01:50:05.344715",
     "status": "completed"
    },
    "tags": []
   },
   "outputs": [
    {
     "name": "stdout",
     "output_type": "stream",
     "text": [
      "0.8226966292134831\n"
     ]
    }
   ],
   "source": [
    "clf5_2 = LGBMClassifier()\n",
    "eclf5_2 = Pipeline(steps=[\n",
    "    ('preprocessor', preprocessor),\n",
    "    ('scaler', StandardScaler()),\n",
    "    ('model', clf5_2)\n",
    "])\n",
    "\n",
    "print(cross_val_score(eclf5_2, X, y, cv=10).mean())"
   ]
  },
  {
   "cell_type": "markdown",
   "metadata": {
    "papermill": {
     "duration": 0.030211,
     "end_time": "2021-03-02T01:50:07.167240",
     "exception": false,
     "start_time": "2021-03-02T01:50:07.137029",
     "status": "completed"
    },
    "tags": []
   },
   "source": [
    "# 6. Stacking\n",
    "* Stack of estimators with final classifier\n",
    "* Stacked generalization consists in stacking the output of individual estimator and use a classifier to compute the final prediction. Stacking allows to use the strength of each individual estimator by using their output as input of a final estimator.\n",
    "\n"
   ]
  },
  {
   "cell_type": "code",
   "execution_count": 14,
   "metadata": {
    "_kg_hide-output": true,
    "collapsed": true,
    "execution": {
     "iopub.execute_input": "2021-03-02T01:50:07.240324Z",
     "iopub.status.busy": "2021-03-02T01:50:07.239600Z",
     "iopub.status.idle": "2021-03-02T01:50:40.320847Z",
     "shell.execute_reply": "2021-03-02T01:50:40.322086Z"
    },
    "papermill": {
     "duration": 33.122766,
     "end_time": "2021-03-02T01:50:40.322364",
     "exception": false,
     "start_time": "2021-03-02T01:50:07.199598",
     "status": "completed"
    },
    "tags": []
   },
   "outputs": [
    {
     "name": "stdout",
     "output_type": "stream",
     "text": [
      "[01:50:07] WARNING: ../src/learner.cc:1061: Starting in XGBoost 1.3.0, the default evaluation metric used with the objective 'binary:logistic' was changed from 'error' to 'logloss'. Explicitly set eval_metric if you'd like to restore the old behavior.\n",
      "[01:50:09] WARNING: ../src/learner.cc:1061: Starting in XGBoost 1.3.0, the default evaluation metric used with the objective 'binary:logistic' was changed from 'error' to 'logloss'. Explicitly set eval_metric if you'd like to restore the old behavior.\n",
      "[01:50:09] WARNING: ../src/learner.cc:1061: Starting in XGBoost 1.3.0, the default evaluation metric used with the objective 'binary:logistic' was changed from 'error' to 'logloss'. Explicitly set eval_metric if you'd like to restore the old behavior.\n",
      "[01:50:09] WARNING: ../src/learner.cc:1061: Starting in XGBoost 1.3.0, the default evaluation metric used with the objective 'binary:logistic' was changed from 'error' to 'logloss'. Explicitly set eval_metric if you'd like to restore the old behavior.\n",
      "[01:50:09] WARNING: ../src/learner.cc:1061: Starting in XGBoost 1.3.0, the default evaluation metric used with the objective 'binary:logistic' was changed from 'error' to 'logloss'. Explicitly set eval_metric if you'd like to restore the old behavior.\n",
      "[01:50:09] WARNING: ../src/learner.cc:1061: Starting in XGBoost 1.3.0, the default evaluation metric used with the objective 'binary:logistic' was changed from 'error' to 'logloss'. Explicitly set eval_metric if you'd like to restore the old behavior.\n",
      "[01:50:10] WARNING: ../src/learner.cc:1061: Starting in XGBoost 1.3.0, the default evaluation metric used with the objective 'binary:logistic' was changed from 'error' to 'logloss'. Explicitly set eval_metric if you'd like to restore the old behavior.\n",
      "[01:50:12] WARNING: ../src/learner.cc:1061: Starting in XGBoost 1.3.0, the default evaluation metric used with the objective 'binary:logistic' was changed from 'error' to 'logloss'. Explicitly set eval_metric if you'd like to restore the old behavior.\n",
      "[01:50:13] WARNING: ../src/learner.cc:1061: Starting in XGBoost 1.3.0, the default evaluation metric used with the objective 'binary:logistic' was changed from 'error' to 'logloss'. Explicitly set eval_metric if you'd like to restore the old behavior.\n",
      "[01:50:13] WARNING: ../src/learner.cc:1061: Starting in XGBoost 1.3.0, the default evaluation metric used with the objective 'binary:logistic' was changed from 'error' to 'logloss'. Explicitly set eval_metric if you'd like to restore the old behavior.\n",
      "[01:50:13] WARNING: ../src/learner.cc:1061: Starting in XGBoost 1.3.0, the default evaluation metric used with the objective 'binary:logistic' was changed from 'error' to 'logloss'. Explicitly set eval_metric if you'd like to restore the old behavior.\n",
      "[01:50:13] WARNING: ../src/learner.cc:1061: Starting in XGBoost 1.3.0, the default evaluation metric used with the objective 'binary:logistic' was changed from 'error' to 'logloss'. Explicitly set eval_metric if you'd like to restore the old behavior.\n",
      "[01:50:14] WARNING: ../src/learner.cc:1061: Starting in XGBoost 1.3.0, the default evaluation metric used with the objective 'binary:logistic' was changed from 'error' to 'logloss'. Explicitly set eval_metric if you'd like to restore the old behavior.\n",
      "[01:50:16] WARNING: ../src/learner.cc:1061: Starting in XGBoost 1.3.0, the default evaluation metric used with the objective 'binary:logistic' was changed from 'error' to 'logloss'. Explicitly set eval_metric if you'd like to restore the old behavior.\n",
      "[01:50:16] WARNING: ../src/learner.cc:1061: Starting in XGBoost 1.3.0, the default evaluation metric used with the objective 'binary:logistic' was changed from 'error' to 'logloss'. Explicitly set eval_metric if you'd like to restore the old behavior.\n",
      "[01:50:16] WARNING: ../src/learner.cc:1061: Starting in XGBoost 1.3.0, the default evaluation metric used with the objective 'binary:logistic' was changed from 'error' to 'logloss'. Explicitly set eval_metric if you'd like to restore the old behavior.\n",
      "[01:50:16] WARNING: ../src/learner.cc:1061: Starting in XGBoost 1.3.0, the default evaluation metric used with the objective 'binary:logistic' was changed from 'error' to 'logloss'. Explicitly set eval_metric if you'd like to restore the old behavior.\n",
      "[01:50:16] WARNING: ../src/learner.cc:1061: Starting in XGBoost 1.3.0, the default evaluation metric used with the objective 'binary:logistic' was changed from 'error' to 'logloss'. Explicitly set eval_metric if you'd like to restore the old behavior.\n",
      "[01:50:18] WARNING: ../src/learner.cc:1061: Starting in XGBoost 1.3.0, the default evaluation metric used with the objective 'binary:logistic' was changed from 'error' to 'logloss'. Explicitly set eval_metric if you'd like to restore the old behavior.\n",
      "[01:50:19] WARNING: ../src/learner.cc:1061: Starting in XGBoost 1.3.0, the default evaluation metric used with the objective 'binary:logistic' was changed from 'error' to 'logloss'. Explicitly set eval_metric if you'd like to restore the old behavior.\n",
      "[01:50:20] WARNING: ../src/learner.cc:1061: Starting in XGBoost 1.3.0, the default evaluation metric used with the objective 'binary:logistic' was changed from 'error' to 'logloss'. Explicitly set eval_metric if you'd like to restore the old behavior.\n",
      "[01:50:20] WARNING: ../src/learner.cc:1061: Starting in XGBoost 1.3.0, the default evaluation metric used with the objective 'binary:logistic' was changed from 'error' to 'logloss'. Explicitly set eval_metric if you'd like to restore the old behavior.\n",
      "[01:50:20] WARNING: ../src/learner.cc:1061: Starting in XGBoost 1.3.0, the default evaluation metric used with the objective 'binary:logistic' was changed from 'error' to 'logloss'. Explicitly set eval_metric if you'd like to restore the old behavior.\n",
      "[01:50:20] WARNING: ../src/learner.cc:1061: Starting in XGBoost 1.3.0, the default evaluation metric used with the objective 'binary:logistic' was changed from 'error' to 'logloss'. Explicitly set eval_metric if you'd like to restore the old behavior.\n",
      "[01:50:21] WARNING: ../src/learner.cc:1061: Starting in XGBoost 1.3.0, the default evaluation metric used with the objective 'binary:logistic' was changed from 'error' to 'logloss'. Explicitly set eval_metric if you'd like to restore the old behavior.\n",
      "[01:50:23] WARNING: ../src/learner.cc:1061: Starting in XGBoost 1.3.0, the default evaluation metric used with the objective 'binary:logistic' was changed from 'error' to 'logloss'. Explicitly set eval_metric if you'd like to restore the old behavior.\n",
      "[01:50:23] WARNING: ../src/learner.cc:1061: Starting in XGBoost 1.3.0, the default evaluation metric used with the objective 'binary:logistic' was changed from 'error' to 'logloss'. Explicitly set eval_metric if you'd like to restore the old behavior.\n",
      "[01:50:23] WARNING: ../src/learner.cc:1061: Starting in XGBoost 1.3.0, the default evaluation metric used with the objective 'binary:logistic' was changed from 'error' to 'logloss'. Explicitly set eval_metric if you'd like to restore the old behavior.\n",
      "[01:50:23] WARNING: ../src/learner.cc:1061: Starting in XGBoost 1.3.0, the default evaluation metric used with the objective 'binary:logistic' was changed from 'error' to 'logloss'. Explicitly set eval_metric if you'd like to restore the old behavior.\n",
      "[01:50:23] WARNING: ../src/learner.cc:1061: Starting in XGBoost 1.3.0, the default evaluation metric used with the objective 'binary:logistic' was changed from 'error' to 'logloss'. Explicitly set eval_metric if you'd like to restore the old behavior.\n",
      "[01:50:24] WARNING: ../src/learner.cc:1061: Starting in XGBoost 1.3.0, the default evaluation metric used with the objective 'binary:logistic' was changed from 'error' to 'logloss'. Explicitly set eval_metric if you'd like to restore the old behavior.\n",
      "[01:50:26] WARNING: ../src/learner.cc:1061: Starting in XGBoost 1.3.0, the default evaluation metric used with the objective 'binary:logistic' was changed from 'error' to 'logloss'. Explicitly set eval_metric if you'd like to restore the old behavior.\n",
      "[01:50:26] WARNING: ../src/learner.cc:1061: Starting in XGBoost 1.3.0, the default evaluation metric used with the objective 'binary:logistic' was changed from 'error' to 'logloss'. Explicitly set eval_metric if you'd like to restore the old behavior.\n",
      "[01:50:26] WARNING: ../src/learner.cc:1061: Starting in XGBoost 1.3.0, the default evaluation metric used with the objective 'binary:logistic' was changed from 'error' to 'logloss'. Explicitly set eval_metric if you'd like to restore the old behavior.\n",
      "[01:50:26] WARNING: ../src/learner.cc:1061: Starting in XGBoost 1.3.0, the default evaluation metric used with the objective 'binary:logistic' was changed from 'error' to 'logloss'. Explicitly set eval_metric if you'd like to restore the old behavior.\n",
      "[01:50:26] WARNING: ../src/learner.cc:1061: Starting in XGBoost 1.3.0, the default evaluation metric used with the objective 'binary:logistic' was changed from 'error' to 'logloss'. Explicitly set eval_metric if you'd like to restore the old behavior.\n",
      "[01:50:27] WARNING: ../src/learner.cc:1061: Starting in XGBoost 1.3.0, the default evaluation metric used with the objective 'binary:logistic' was changed from 'error' to 'logloss'. Explicitly set eval_metric if you'd like to restore the old behavior.\n",
      "[01:50:29] WARNING: ../src/learner.cc:1061: Starting in XGBoost 1.3.0, the default evaluation metric used with the objective 'binary:logistic' was changed from 'error' to 'logloss'. Explicitly set eval_metric if you'd like to restore the old behavior.\n",
      "[01:50:29] WARNING: ../src/learner.cc:1061: Starting in XGBoost 1.3.0, the default evaluation metric used with the objective 'binary:logistic' was changed from 'error' to 'logloss'. Explicitly set eval_metric if you'd like to restore the old behavior.\n",
      "[01:50:29] WARNING: ../src/learner.cc:1061: Starting in XGBoost 1.3.0, the default evaluation metric used with the objective 'binary:logistic' was changed from 'error' to 'logloss'. Explicitly set eval_metric if you'd like to restore the old behavior.\n",
      "[01:50:30] WARNING: ../src/learner.cc:1061: Starting in XGBoost 1.3.0, the default evaluation metric used with the objective 'binary:logistic' was changed from 'error' to 'logloss'. Explicitly set eval_metric if you'd like to restore the old behavior.\n",
      "[01:50:30] WARNING: ../src/learner.cc:1061: Starting in XGBoost 1.3.0, the default evaluation metric used with the objective 'binary:logistic' was changed from 'error' to 'logloss'. Explicitly set eval_metric if you'd like to restore the old behavior.\n",
      "[01:50:31] WARNING: ../src/learner.cc:1061: Starting in XGBoost 1.3.0, the default evaluation metric used with the objective 'binary:logistic' was changed from 'error' to 'logloss'. Explicitly set eval_metric if you'd like to restore the old behavior.\n",
      "[01:50:32] WARNING: ../src/learner.cc:1061: Starting in XGBoost 1.3.0, the default evaluation metric used with the objective 'binary:logistic' was changed from 'error' to 'logloss'. Explicitly set eval_metric if you'd like to restore the old behavior.\n",
      "[01:50:33] WARNING: ../src/learner.cc:1061: Starting in XGBoost 1.3.0, the default evaluation metric used with the objective 'binary:logistic' was changed from 'error' to 'logloss'. Explicitly set eval_metric if you'd like to restore the old behavior.\n",
      "[01:50:33] WARNING: ../src/learner.cc:1061: Starting in XGBoost 1.3.0, the default evaluation metric used with the objective 'binary:logistic' was changed from 'error' to 'logloss'. Explicitly set eval_metric if you'd like to restore the old behavior.\n",
      "[01:50:33] WARNING: ../src/learner.cc:1061: Starting in XGBoost 1.3.0, the default evaluation metric used with the objective 'binary:logistic' was changed from 'error' to 'logloss'. Explicitly set eval_metric if you'd like to restore the old behavior.\n",
      "[01:50:33] WARNING: ../src/learner.cc:1061: Starting in XGBoost 1.3.0, the default evaluation metric used with the objective 'binary:logistic' was changed from 'error' to 'logloss'. Explicitly set eval_metric if you'd like to restore the old behavior.\n",
      "[01:50:34] WARNING: ../src/learner.cc:1061: Starting in XGBoost 1.3.0, the default evaluation metric used with the objective 'binary:logistic' was changed from 'error' to 'logloss'. Explicitly set eval_metric if you'd like to restore the old behavior.\n",
      "[01:50:36] WARNING: ../src/learner.cc:1061: Starting in XGBoost 1.3.0, the default evaluation metric used with the objective 'binary:logistic' was changed from 'error' to 'logloss'. Explicitly set eval_metric if you'd like to restore the old behavior.\n",
      "[01:50:36] WARNING: ../src/learner.cc:1061: Starting in XGBoost 1.3.0, the default evaluation metric used with the objective 'binary:logistic' was changed from 'error' to 'logloss'. Explicitly set eval_metric if you'd like to restore the old behavior.\n",
      "[01:50:36] WARNING: ../src/learner.cc:1061: Starting in XGBoost 1.3.0, the default evaluation metric used with the objective 'binary:logistic' was changed from 'error' to 'logloss'. Explicitly set eval_metric if you'd like to restore the old behavior.\n",
      "[01:50:36] WARNING: ../src/learner.cc:1061: Starting in XGBoost 1.3.0, the default evaluation metric used with the objective 'binary:logistic' was changed from 'error' to 'logloss'. Explicitly set eval_metric if you'd like to restore the old behavior.\n",
      "[01:50:36] WARNING: ../src/learner.cc:1061: Starting in XGBoost 1.3.0, the default evaluation metric used with the objective 'binary:logistic' was changed from 'error' to 'logloss'. Explicitly set eval_metric if you'd like to restore the old behavior.\n",
      "[01:50:37] WARNING: ../src/learner.cc:1061: Starting in XGBoost 1.3.0, the default evaluation metric used with the objective 'binary:logistic' was changed from 'error' to 'logloss'. Explicitly set eval_metric if you'd like to restore the old behavior.\n",
      "[01:50:39] WARNING: ../src/learner.cc:1061: Starting in XGBoost 1.3.0, the default evaluation metric used with the objective 'binary:logistic' was changed from 'error' to 'logloss'. Explicitly set eval_metric if you'd like to restore the old behavior.\n",
      "[01:50:39] WARNING: ../src/learner.cc:1061: Starting in XGBoost 1.3.0, the default evaluation metric used with the objective 'binary:logistic' was changed from 'error' to 'logloss'. Explicitly set eval_metric if you'd like to restore the old behavior.\n",
      "[01:50:39] WARNING: ../src/learner.cc:1061: Starting in XGBoost 1.3.0, the default evaluation metric used with the objective 'binary:logistic' was changed from 'error' to 'logloss'. Explicitly set eval_metric if you'd like to restore the old behavior.\n",
      "[01:50:39] WARNING: ../src/learner.cc:1061: Starting in XGBoost 1.3.0, the default evaluation metric used with the objective 'binary:logistic' was changed from 'error' to 'logloss'. Explicitly set eval_metric if you'd like to restore the old behavior.\n",
      "[01:50:39] WARNING: ../src/learner.cc:1061: Starting in XGBoost 1.3.0, the default evaluation metric used with the objective 'binary:logistic' was changed from 'error' to 'logloss'. Explicitly set eval_metric if you'd like to restore the old behavior.\n",
      "0.8327840199750313\n"
     ]
    }
   ],
   "source": [
    "estimators = [\n",
    "    ('voting_clf', clf1),\n",
    "    ('bagging_clf', clf2),\n",
    "    ('adaboost_clf', clf3),\n",
    "    ('gb_clf', clf4),\n",
    "    ('XGB_clf', clf5_1),\n",
    "    ('LGBM_clf', clf5_2)]\n",
    "\n",
    "stack_clf = StackingClassifier(estimators=estimators)\n",
    "\n",
    "stack_clf_pip = Pipeline(steps=[\n",
    "    ('preprocessor', preprocessor),\n",
    "    ('scaler', StandardScaler()),\n",
    "    ('model', stack_clf)\n",
    "])\n",
    "\n",
    "print(cross_val_score(stack_clf_pip, X, y, cv=10).mean())"
   ]
  },
  {
   "cell_type": "markdown",
   "metadata": {
    "papermill": {
     "duration": 0.039453,
     "end_time": "2021-03-02T01:50:40.405251",
     "exception": false,
     "start_time": "2021-03-02T01:50:40.365798",
     "status": "completed"
    },
    "tags": []
   },
   "source": [
    "0.835043695380774"
   ]
  },
  {
   "cell_type": "markdown",
   "metadata": {
    "papermill": {
     "duration": 0.039958,
     "end_time": "2021-03-02T01:50:40.485417",
     "exception": false,
     "start_time": "2021-03-02T01:50:40.445459",
     "status": "completed"
    },
    "tags": []
   },
   "source": [
    "## Classification Report"
   ]
  },
  {
   "cell_type": "code",
   "execution_count": 15,
   "metadata": {
    "_kg_hide-input": false,
    "_kg_hide-output": false,
    "execution": {
     "iopub.execute_input": "2021-03-02T01:50:40.576491Z",
     "iopub.status.busy": "2021-03-02T01:50:40.575437Z",
     "iopub.status.idle": "2021-03-02T01:50:43.641250Z",
     "shell.execute_reply": "2021-03-02T01:50:43.642332Z"
    },
    "papermill": {
     "duration": 3.116699,
     "end_time": "2021-03-02T01:50:43.642598",
     "exception": false,
     "start_time": "2021-03-02T01:50:40.525899",
     "status": "completed"
    },
    "tags": []
   },
   "outputs": [
    {
     "name": "stdout",
     "output_type": "stream",
     "text": [
      "[01:50:40] WARNING: ../src/learner.cc:1061: Starting in XGBoost 1.3.0, the default evaluation metric used with the objective 'binary:logistic' was changed from 'error' to 'logloss'. Explicitly set eval_metric if you'd like to restore the old behavior.\n",
      "[01:50:42] WARNING: ../src/learner.cc:1061: Starting in XGBoost 1.3.0, the default evaluation metric used with the objective 'binary:logistic' was changed from 'error' to 'logloss'. Explicitly set eval_metric if you'd like to restore the old behavior.\n",
      "[01:50:42] WARNING: ../src/learner.cc:1061: Starting in XGBoost 1.3.0, the default evaluation metric used with the objective 'binary:logistic' was changed from 'error' to 'logloss'. Explicitly set eval_metric if you'd like to restore the old behavior.\n",
      "[01:50:42] WARNING: ../src/learner.cc:1061: Starting in XGBoost 1.3.0, the default evaluation metric used with the objective 'binary:logistic' was changed from 'error' to 'logloss'. Explicitly set eval_metric if you'd like to restore the old behavior.\n",
      "[01:50:42] WARNING: ../src/learner.cc:1061: Starting in XGBoost 1.3.0, the default evaluation metric used with the objective 'binary:logistic' was changed from 'error' to 'logloss'. Explicitly set eval_metric if you'd like to restore the old behavior.\n",
      "[01:50:43] WARNING: ../src/learner.cc:1061: Starting in XGBoost 1.3.0, the default evaluation metric used with the objective 'binary:logistic' was changed from 'error' to 'logloss'. Explicitly set eval_metric if you'd like to restore the old behavior.\n",
      "              precision    recall  f1-score   support\n",
      "\n",
      "           0       0.77      0.90      0.83       100\n",
      "           1       0.84      0.66      0.74        79\n",
      "\n",
      "    accuracy                           0.79       179\n",
      "   macro avg       0.80      0.78      0.78       179\n",
      "weighted avg       0.80      0.79      0.79       179\n",
      "\n"
     ]
    }
   ],
   "source": [
    "X_train, X_val, y_train, y_val = train_test_split(X, y, test_size=0.2)\n",
    "\n",
    "stack_clf_pip.fit(X_train, y_train)\n",
    "preds = stack_clf_pip.predict(X_val)\n",
    "\n",
    "print(classification_report(y_val, preds))"
   ]
  },
  {
   "cell_type": "markdown",
   "metadata": {
    "papermill": {
     "duration": 0.041075,
     "end_time": "2021-03-02T01:50:43.725609",
     "exception": false,
     "start_time": "2021-03-02T01:50:43.684534",
     "status": "completed"
    },
    "tags": []
   },
   "source": [
    "### AUC-ROC Curve"
   ]
  },
  {
   "cell_type": "code",
   "execution_count": 16,
   "metadata": {
    "execution": {
     "iopub.execute_input": "2021-03-02T01:50:43.820571Z",
     "iopub.status.busy": "2021-03-02T01:50:43.817334Z",
     "iopub.status.idle": "2021-03-02T01:50:44.001597Z",
     "shell.execute_reply": "2021-03-02T01:50:44.000459Z"
    },
    "papermill": {
     "duration": 0.234756,
     "end_time": "2021-03-02T01:50:44.001815",
     "exception": false,
     "start_time": "2021-03-02T01:50:43.767059",
     "status": "completed"
    },
    "tags": []
   },
   "outputs": [
    {
     "data": {
      "text/plain": [
       "<matplotlib.legend.Legend at 0x7f9534d97290>"
      ]
     },
     "execution_count": 16,
     "metadata": {},
     "output_type": "execute_result"
    },
    {
     "data": {
      "image/png": "[encoded data removed]",
      "text/plain": [
       "<Figure size 432x288 with 1 Axes>"
      ]
     },
     "metadata": {
      "needs_background": "light"
     },
     "output_type": "display_data"
    }
   ],
   "source": [
    "from sklearn.metrics import roc_curve\n",
    "import matplotlib.pyplot as plt\n",
    "%matplotlib inline\n",
    "\n",
    "fpr, tpr, thresholds = roc_curve(y_val,preds)\n",
    "plt.plot(fpr, tpr, label='ROC curve')\n",
    "plt.plot([0, 1], [0, 1], 'k--', label='Random guess')\n",
    "plt.xlabel('False Positive Rate')\n",
    "plt.ylabel('True Positive Rate')\n",
    "plt.title('ROC Curve')\n",
    "plt.xlim([-0.02, 1])\n",
    "plt.ylim([0, 1.02])\n",
    "plt.legend(loc=\"lower right\")"
   ]
  },
  {
   "cell_type": "markdown",
   "metadata": {
    "papermill": {
     "duration": 0.042671,
     "end_time": "2021-03-02T01:50:44.087947",
     "exception": false,
     "start_time": "2021-03-02T01:50:44.045276",
     "status": "completed"
    },
    "tags": []
   },
   "source": [
    "## Interpretation\n",
    "* Accuracy: 83%\n",
    "* f1-score(macro avg): 81%\n",
    "* f1-score(weighted avg): 82%\n",
    "* for class 1, f1-score is relatively low..."
   ]
  },
  {
   "cell_type": "markdown",
   "metadata": {
    "papermill": {
     "duration": 0.042105,
     "end_time": "2021-03-02T01:50:44.172737",
     "exception": false,
     "start_time": "2021-03-02T01:50:44.130632",
     "status": "completed"
    },
    "tags": []
   },
   "source": [
    "# Conclusion"
   ]
  },
  {
   "cell_type": "markdown",
   "metadata": {
    "papermill": {
     "duration": 0.042395,
     "end_time": "2021-03-02T01:50:44.258678",
     "exception": false,
     "start_time": "2021-03-02T01:50:44.216283",
     "status": "completed"
    },
    "tags": []
   },
   "source": [
    "* In this tutorial we studied various Ensemble Model from sklearn\n",
    "* Vanilla Ensemble, Voting Classifier, Bagging Classifier, Adaboost, XGBoost, lightGBM and Stacking\n",
    "* <code>Stacking</code> is Stack of estimators with final classifier and gave us better results\n",
    "* But But besides the ensemble, I think we have to learn a lot of things.\n",
    "    * e.g. Hypterparameter tuning, Feature Engineering, etc...\n",
    "* Therefore, in the next notebook, I'll look at the data a little more and do modeling and hyperparameter tuning :)"
   ]
  },
  {
   "cell_type": "markdown",
   "metadata": {
    "papermill": {
     "duration": 0.042345,
     "end_time": "2021-03-02T01:50:44.343813",
     "exception": false,
     "start_time": "2021-03-02T01:50:44.301468",
     "status": "completed"
    },
    "tags": []
   },
   "source": [
    "[[](http://)](http://)<h3 style=\"color:green\">If you think this notebook is helpful, upvotes would be greatly appreciated :-) </h3>"
   ]
  },
  {
   "cell_type": "markdown",
   "metadata": {
    "papermill": {
     "duration": 0.042319,
     "end_time": "2021-03-02T01:50:44.428802",
     "exception": false,
     "start_time": "2021-03-02T01:50:44.386483",
     "status": "completed"
    },
    "tags": []
   },
   "source": [
    "## More about...\n",
    "[[Model Evaluation]1. Classification Metrics](https://www.kaggle.com/leeyj0511/model-evaluation-1-classification-metrics)\n",
    "\n",
    "[[for Starter] top 30%, Machine Learning Pipelines](https://www.kaggle.com/leeyj0511/for-starter-top-30-machine-learning-pipelines)"
   ]
  }
 ],
 "metadata": {
  "kernelspec": {
   "display_name": "Python 3",
   "language": "python",
   "name": "python3"
  },
  "language_info": {
   "codemirror_mode": {
    "name": "ipython",
    "version": 3
   },
   "file_extension": ".py",
   "mimetype": "text/x-python",
   "name": "python",
   "nbconvert_exporter": "python",
   "pygments_lexer": "ipython3",
   "version": "3.7.9"
  },
  "papermill": {
   "default_parameters": {},
   "duration": 59.094752,
   "end_time": "2021-03-02T01:50:45.286590",
   "environment_variables": {},
   "exception": null,
   "input_path": "__notebook__.ipynb",
   "output_path": "__notebook__.ipynb",
   "parameters": {},
   "start_time": "2021-03-02T01:49:46.191838",
   "version": "2.2.2"
  }
 },
 "nbformat": 4,
 "nbformat_minor": 4
}
