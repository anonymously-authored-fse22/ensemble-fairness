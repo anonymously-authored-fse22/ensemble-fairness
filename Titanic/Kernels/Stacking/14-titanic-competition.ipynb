{
 "cells": [
  {
   "cell_type": "markdown",
   "execution_count": null,
   "metadata": {
    "papermill": {
     "duration": 0.035465,
     "end_time": "2020-08-13T13:45:20.588029",
     "exception": false,
     "start_time": "2020-08-13T13:45:20.552564",
     "status": "completed"
    },
    "tags": []
   },
   "source": [
    "### Author: Abdelwahed Ashraf \n",
    "\n",
    "### Linkedin: [Link](https://www.linkedin.com/in/abdelwahed-ashraf-090523169/)\n",
    "\n",
    "### Kaggle: [Link](https://www.kaggle.com/abdelwahed43)\n",
    "\n",
    "*If this Kernel helped you in any way,I would be very much appreciated to your <font color='red'>UPVOTES</font>*\n",
    "\n",
    "# Notebook Objective\n",
    "The objective of this notebook is to follow a step-by-step workflow, explaining each step and rationale for every decision we take during solution development.\n",
    "\n",
    "For this project, the problem statement is given to us on a golden plater, develop an algorithm to predict the survival outcome of passengers on the Titanic.\n",
    "\n",
    "## Overview\n",
    "The Challenge\n",
    "The sinking of the Titanic is one of the most infamous shipwrecks in history.\n",
    "\n",
    "On April 15, 1912, during her maiden voyage, the widely considered “unsinkable” RMS Titanic sank after colliding with an iceberg. Unfortunately, there weren’t enough lifeboats for everyone onboard, resulting in the death of 1502 out of 2224 passengers and crew.\n",
    "\n",
    "While there was some element of luck involved in surviving, it seems some groups of people were more likely to survive than others.\n",
    "\n",
    "In this challenge, we ask you to build a predictive model that answers the question: “what sorts of people were more likely to survive?” using passenger data (ie name, age, gender, socio-economic class, etc).\n",
    "\n",
    "### Why using pipelines to do preprocessing is important?\n",
    "Pipelines are great because they package your data processing and model fitting into a single package. This makes it easy to manage complex models and do feature engineering. Pipelines are even better becuase they eliminate aspects of data leakage. \n",
    "\n",
    "Data leakage is a major problem when developing a machine learning model. Typically, it causes a model to have seemingly high performance in the training and even validation stages. However, once the model is deployed in production (i.e. predicting unseen test data) it is likely to perform much worse than anticipated. A common cause of data leakage is Train-Test split contamination. This can occur, for example, when a preprocessing step is fit to both train and validation datasets (i.e. fitting a SimpleImpute before calling train-test split). With pipelines this can easily be avoided as perprocessing is applied independtly on the train and validation data. \n"
   ]
  },
  {
   "cell_type": "markdown",
   "execution_count": null,
   "metadata": {
    "papermill": {
     "duration": 0.033466,
     "end_time": "2020-08-13T13:45:20.656879",
     "exception": false,
     "start_time": "2020-08-13T13:45:20.623413",
     "status": "completed"
    },
    "tags": []
   },
   "source": [
    "## Outline\n",
    "The following sections are included in this notebook:\n",
    "\n",
    "### A. [Load and Parse Data](#section-one)\n",
    "\n",
    "### B. [Exploratory Data Analysis (EDA)](#section-two)\n",
    "   1. [Missing Data](#section-two-a)    \n",
    "   2. [Distribution of the Target Variable](#section-two-b)    \n",
    "   3. [Distribution of the Numeric Feature Variable](#section-two-c)\n",
    "   4. [Outliers](#section-two-d)\n",
    "   5. [Categorical Feature Cardinality](#section-two-e)\n",
    "    \n",
    "### C. [Preprocessing](#section-three)\n",
    "   1. [Initial Preprocessing](#section-three-a)\n",
    "   2. [Building a Preprocessing Pipeline](#section-three-b)\n",
    "       * [Define custom transformers](#section-three-b1)\n",
    "       * [Define helper functions](#section-three-b2)\n",
    "       * [Define Training Data](#section-three-b3)\n",
    "       * [Define datatypes and encoding](#section-three-b4)\n",
    "       * [Build the preprocessing pipeline](#section-three-b5)\n",
    "      \n",
    "        \n",
    "### D. [Fit and Evaluate the Model](#section-four)\n",
    "   1. [Cross-Validation](#section-four-a)\n",
    "       \n",
    "       * Naive Bayes classifier\n",
    "       * KNN or k-Nearest Neighbors  \n",
    "       * Random Forest \n",
    "       * Logistic Regression             \n",
    "       * Support Vector Machines  \n",
    "       * Decision Tree\n",
    "       * XGBOOST Classifier \n",
    "       * AdaBoosting Classifier\n",
    "       * GradientBoostingClassifier \n",
    "       * HistGradientBoostingClassifier\n",
    "       * Principal Component Analysis (PCA) \n",
    "       * Gaussian Mixture \n",
    "       * Grid Search\n",
    "      \n",
    "   \n",
    "   2. [Model Stacking](#section-four-c)\n",
    "    \n",
    "### E. [Predict Test Dataset and Submit](#section-five)"
   ]
  },
  {
   "cell_type": "markdown",
   "execution_count": null,
   "metadata": {
    "papermill": {
     "duration": 0.033694,
     "end_time": "2020-08-13T13:45:20.724699",
     "exception": false,
     "start_time": "2020-08-13T13:45:20.691005",
     "status": "completed"
    },
    "tags": []
   },
   "source": [
    "<a id=\"section-one\"></a>\n",
    "# A. Load and Parse Data\n",
    "\n",
    "The Python Pandas packages helps us work with our datasets. We start by acquiring the training and testing datasets into Pandas DataFrames.\n",
    "We also combine these datasets to run certain operations on both datasets together."
   ]
  },
  {
   "cell_type": "code",
   "execution_count": 1,
   "metadata": {
    "_cell_guid": "79c7e3d0-c299-4dcb-8224-4455121ee9b0",
    "_uuid": "d629ff2d2480ee46fbb7e2d37f6b5fab8052498a",
    "execution": {
     "iopub.execute_input": "2020-08-13T13:45:20.808329Z",
     "iopub.status.busy": "2020-08-13T13:45:20.807630Z",
     "iopub.status.idle": "2020-08-13T13:45:21.968362Z",
     "shell.execute_reply": "2020-08-13T13:45:21.967088Z"
    },
    "papermill": {
     "duration": 1.209624,
     "end_time": "2020-08-13T13:45:21.968520",
     "exception": false,
     "start_time": "2020-08-13T13:45:20.758896",
     "status": "completed"
    },
    "tags": []
   },
   "outputs": [
    {
     "name": "stdout",
     "output_type": "stream",
     "text": [
      "/kaggle/input/titanic/gender_submission.csv\n",
      "/kaggle/input/titanic/test.csv\n",
      "/kaggle/input/titanic/train.csv\n"
     ]
    }
   ],
   "source": [
    "\n",
    "# This Python 3 environment comes with many helpful analytics libraries installed\n",
    "# It is defined by the kaggle/python Docker image: https://github.com/kaggle/docker-python\n",
    "# For example, here's several helpful packages to load\n",
    "\n",
    "import numpy as np # linear algebra\n",
    "import pandas as pd # data processing, CSV file I/O (e.g. pd.read_csv)\n",
    "\n",
    "# Input data files are available in the read-only \"../input/\" directory\n",
    "# For example, running this (by clicking run or pressing Shift+Enter) will list all files under the input directory\n",
    "\n",
    "import os\n",
    "for dirname, _, filenames in os.walk('/kaggle/input'):\n",
    "    for filename in filenames:\n",
    "        print(os.path.join(dirname, filename))\n",
    "\n",
    "# You can write up to 5GB to the current directory (/kaggle/working/) that gets preserved as output when you create a version using \"Save & Run All\" \n",
    "# You can also write temporary files to /kaggle/temp/, but they won't be saved outside of the current session\n",
    "\n",
    "\n",
    "\n",
    "# data analysis and wrangling\n",
    "import pandas as pd\n",
    "import numpy as np\n",
    "import random as rnd\n",
    "\n",
    "# visualization\n",
    "import seaborn as sns\n",
    "import matplotlib.pyplot as plt\n",
    "%matplotlib inline\n",
    "\n",
    "# machine learning\n",
    "from sklearn.linear_model import LogisticRegression\n",
    "from sklearn.svm import SVC, LinearSVC\n",
    "from sklearn.ensemble import RandomForestClassifier\n",
    "from sklearn.neighbors import KNeighborsClassifier\n",
    "from sklearn.naive_bayes import GaussianNB\n",
    "from sklearn.linear_model import Perceptron\n",
    "from sklearn.linear_model import SGDClassifier\n",
    "from sklearn.tree import DecisionTreeClassifier"
   ]
  },
  {
   "cell_type": "code",
   "execution_count": 2,
   "metadata": {
    "execution": {
     "iopub.execute_input": "2020-08-13T13:45:22.046685Z",
     "iopub.status.busy": "2020-08-13T13:45:22.045857Z",
     "iopub.status.idle": "2020-08-13T13:45:22.065547Z",
     "shell.execute_reply": "2020-08-13T13:45:22.064974Z"
    },
    "papermill": {
     "duration": 0.060729,
     "end_time": "2020-08-13T13:45:22.065659",
     "exception": false,
     "start_time": "2020-08-13T13:45:22.004930",
     "status": "completed"
    },
    "tags": []
   },
   "outputs": [],
   "source": [
    "#Read data from csv file\n",
    "df_train = pd.read_csv('/kaggle/input/titanic/train.csv')\n",
    "df_test=pd.read_csv('/kaggle/input/titanic/test.csv')"
   ]
  },
  {
   "cell_type": "markdown",
   "execution_count": null,
   "metadata": {
    "papermill": {
     "duration": 0.036022,
     "end_time": "2020-08-13T13:45:22.136514",
     "exception": false,
     "start_time": "2020-08-13T13:45:22.100492",
     "status": "completed"
    },
    "tags": []
   },
   "source": [
    "<a id=\"section-two\"></a>\n",
    "# B. Exploratory Data Analysis (EDA)\n",
    "The purpose of EDA is to get familiar with our data, but not so familiar that we begin making assumptions about the model fit! In Kaggle competitions it can be tempting to overfit the training data in hopes of a lower test score, but this often doesn't bode well for real world applications. Typically, it's best to let the data speak for itself and allow the model the flexibility to find correlations between the target and features. Afterall, the models in todays age are very robust. \n",
    "\n",
    "### Do Preprocessing Later!\n",
    "This is really more of a personal opinion. I find it hard to keep track of data processing done in cells throughout an EDA section. Typically, I prefer to do all the preprocessing in a single code block or even better in a pipeline. This way I know the preprocessing is being applied the same way to the train, validation, and test datasets. I use EDA as a way to identify the preprocessing steps that need to take place and potential feature engineering opportunities. \n",
    "\n",
    "Remember, it's best to do preprocessing in a pipeline!!!\n",
    "\n",
    "In this section I will explore the following common issues:\n",
    "1. Missing Data\n",
    "2. Distribution of the Target Variable\n",
    "3. Distribution of the Feature Variables\n",
    "4. Outliers\n",
    "5. Categorical Feature Cardinality"
   ]
  },
  {
   "cell_type": "markdown",
   "execution_count": null,
   "metadata": {
    "papermill": {
     "duration": 0.033956,
     "end_time": "2020-08-13T13:45:22.204266",
     "exception": false,
     "start_time": "2020-08-13T13:45:22.170310",
     "status": "completed"
    },
    "tags": []
   },
   "source": [
    "# check shape of training and test set"
   ]
  },
  {
   "cell_type": "code",
   "execution_count": 3,
   "metadata": {
    "execution": {
     "iopub.execute_input": "2020-08-13T13:45:22.281040Z",
     "iopub.status.busy": "2020-08-13T13:45:22.280086Z",
     "iopub.status.idle": "2020-08-13T13:45:22.285197Z",
     "shell.execute_reply": "2020-08-13T13:45:22.285673Z"
    },
    "papermill": {
     "duration": 0.047736,
     "end_time": "2020-08-13T13:45:22.285804",
     "exception": false,
     "start_time": "2020-08-13T13:45:22.238068",
     "status": "completed"
    },
    "tags": []
   },
   "outputs": [
    {
     "name": "stdout",
     "output_type": "stream",
     "text": [
      "The shape of our training set:  891 Passengers and 11 features 12 columns\n",
      "The shape of our testing set:  418 Passengers and 11 features\n",
      "The testing set has 1 column  less than the training set, which is Survived , the target to predict  \n"
     ]
    }
   ],
   "source": [
    "print('The shape of our training set: ',df_train.shape[0], 'Passengers', 'and', df_train.shape[1] -1 , 'features' ,df_train.shape[1] , 'columns' )\n",
    "print('The shape of our testing set: ',df_test.shape[0], 'Passengers', 'and', df_test.shape[1], 'features')\n",
    "print('The testing set has 1 column  less than the training set, which is Survived , the target to predict  ')"
   ]
  },
  {
   "cell_type": "markdown",
   "execution_count": null,
   "metadata": {
    "papermill": {
     "duration": 0.034061,
     "end_time": "2020-08-13T13:45:22.353989",
     "exception": false,
     "start_time": "2020-08-13T13:45:22.319928",
     "status": "completed"
    },
    "tags": []
   },
   "source": [
    "## Analyze by describing data\n",
    "Pandas also helps describe the datasets answering following questions early in our project.\n",
    "\n",
    "\n",
    "### Which features are available in the dataset?\n",
    "\n",
    "Noting the feature names for directly manipulating or analyzing these. These feature names are described on the [link](https://www.kaggle.com/c/titanic/data)"
   ]
  },
  {
   "cell_type": "code",
   "execution_count": 4,
   "metadata": {
    "execution": {
     "iopub.execute_input": "2020-08-13T13:45:22.428896Z",
     "iopub.status.busy": "2020-08-13T13:45:22.428117Z",
     "iopub.status.idle": "2020-08-13T13:45:22.431634Z",
     "shell.execute_reply": "2020-08-13T13:45:22.432156Z"
    },
    "papermill": {
     "duration": 0.043728,
     "end_time": "2020-08-13T13:45:22.432306",
     "exception": false,
     "start_time": "2020-08-13T13:45:22.388578",
     "status": "completed"
    },
    "tags": []
   },
   "outputs": [
    {
     "name": "stdout",
     "output_type": "stream",
     "text": [
      "['PassengerId' 'Survived' 'Pclass' 'Name' 'Sex' 'Age' 'SibSp' 'Parch'\n",
      " 'Ticket' 'Fare' 'Cabin' 'Embarked']\n"
     ]
    }
   ],
   "source": [
    "print(df_train.columns.values)"
   ]
  },
  {
   "cell_type": "code",
   "execution_count": 5,
   "metadata": {
    "execution": {
     "iopub.execute_input": "2020-08-13T13:45:22.516166Z",
     "iopub.status.busy": "2020-08-13T13:45:22.515155Z",
     "iopub.status.idle": "2020-08-13T13:45:22.527693Z",
     "shell.execute_reply": "2020-08-13T13:45:22.527212Z"
    },
    "papermill": {
     "duration": 0.061709,
     "end_time": "2020-08-13T13:45:22.527800",
     "exception": false,
     "start_time": "2020-08-13T13:45:22.466091",
     "status": "completed"
    },
    "tags": []
   },
   "outputs": [
    {
     "data": {
      "text/html": [
       "<div>\n",
       "<style scoped>\n",
       "    .dataframe tbody tr th:only-of-type {\n",
       "        vertical-align: middle;\n",
       "    }\n",
       "\n",
       "    .dataframe tbody tr th {\n",
       "        vertical-align: top;\n",
       "    }\n",
       "\n",
       "    .dataframe thead th {\n",
       "        text-align: right;\n",
       "    }\n",
       "</style>\n",
       "<table border=\"1\" class=\"dataframe\">\n",
       "  <thead>\n",
       "    <tr style=\"text-align: right;\">\n",
       "      <th></th>\n",
       "      <th>PassengerId</th>\n",
       "      <th>Survived</th>\n",
       "      <th>Pclass</th>\n",
       "      <th>Name</th>\n",
       "      <th>Sex</th>\n",
       "      <th>Age</th>\n",
       "      <th>SibSp</th>\n",
       "      <th>Parch</th>\n",
       "      <th>Ticket</th>\n",
       "      <th>Fare</th>\n",
       "      <th>Cabin</th>\n",
       "      <th>Embarked</th>\n",
       "    </tr>\n",
       "  </thead>\n",
       "  <tbody>\n",
       "    <tr>\n",
       "      <th>0</th>\n",
       "      <td>1</td>\n",
       "      <td>0</td>\n",
       "      <td>3</td>\n",
       "      <td>Braund, Mr. Owen Harris</td>\n",
       "      <td>male</td>\n",
       "      <td>22.0</td>\n",
       "      <td>1</td>\n",
       "      <td>0</td>\n",
       "      <td>A/5 21171</td>\n",
       "      <td>7.2500</td>\n",
       "      <td>NaN</td>\n",
       "      <td>S</td>\n",
       "    </tr>\n",
       "    <tr>\n",
       "      <th>1</th>\n",
       "      <td>2</td>\n",
       "      <td>1</td>\n",
       "      <td>1</td>\n",
       "      <td>Cumings, Mrs. John Bradley (Florence Briggs Th...</td>\n",
       "      <td>female</td>\n",
       "      <td>38.0</td>\n",
       "      <td>1</td>\n",
       "      <td>0</td>\n",
       "      <td>PC 17599</td>\n",
       "      <td>71.2833</td>\n",
       "      <td>C85</td>\n",
       "      <td>C</td>\n",
       "    </tr>\n",
       "    <tr>\n",
       "      <th>2</th>\n",
       "      <td>3</td>\n",
       "      <td>1</td>\n",
       "      <td>3</td>\n",
       "      <td>Heikkinen, Miss. Laina</td>\n",
       "      <td>female</td>\n",
       "      <td>26.0</td>\n",
       "      <td>0</td>\n",
       "      <td>0</td>\n",
       "      <td>STON/O2. 3101282</td>\n",
       "      <td>7.9250</td>\n",
       "      <td>NaN</td>\n",
       "      <td>S</td>\n",
       "    </tr>\n",
       "  </tbody>\n",
       "</table>\n",
       "</div>"
      ],
      "text/plain": [
       "   PassengerId  Survived  Pclass  \\\n",
       "0            1         0       3   \n",
       "1            2         1       1   \n",
       "2            3         1       3   \n",
       "\n",
       "                                                Name     Sex   Age  SibSp  \\\n",
       "0                            Braund, Mr. Owen Harris    male  22.0      1   \n",
       "1  Cumings, Mrs. John Bradley (Florence Briggs Th...  female  38.0      1   \n",
       "2                             Heikkinen, Miss. Laina  female  26.0      0   \n",
       "\n",
       "   Parch            Ticket     Fare Cabin Embarked  \n",
       "0      0         A/5 21171   7.2500   NaN        S  \n",
       "1      0          PC 17599  71.2833   C85        C  \n",
       "2      0  STON/O2. 3101282   7.9250   NaN        S  "
      ]
     },
     "execution_count": 5,
     "metadata": {},
     "output_type": "execute_result"
    }
   ],
   "source": [
    "# preview the data from head\n",
    "df_train.head(3)"
   ]
  },
  {
   "cell_type": "code",
   "execution_count": 6,
   "metadata": {
    "execution": {
     "iopub.execute_input": "2020-08-13T13:45:22.662113Z",
     "iopub.status.busy": "2020-08-13T13:45:22.660991Z",
     "iopub.status.idle": "2020-08-13T13:45:22.665794Z",
     "shell.execute_reply": "2020-08-13T13:45:22.665091Z"
    },
    "papermill": {
     "duration": 0.099507,
     "end_time": "2020-08-13T13:45:22.665928",
     "exception": false,
     "start_time": "2020-08-13T13:45:22.566421",
     "status": "completed"
    },
    "tags": []
   },
   "outputs": [
    {
     "data": {
      "text/html": [
       "<div>\n",
       "<style scoped>\n",
       "    .dataframe tbody tr th:only-of-type {\n",
       "        vertical-align: middle;\n",
       "    }\n",
       "\n",
       "    .dataframe tbody tr th {\n",
       "        vertical-align: top;\n",
       "    }\n",
       "\n",
       "    .dataframe thead th {\n",
       "        text-align: right;\n",
       "    }\n",
       "</style>\n",
       "<table border=\"1\" class=\"dataframe\">\n",
       "  <thead>\n",
       "    <tr style=\"text-align: right;\">\n",
       "      <th></th>\n",
       "      <th>PassengerId</th>\n",
       "      <th>Survived</th>\n",
       "      <th>Pclass</th>\n",
       "      <th>Name</th>\n",
       "      <th>Sex</th>\n",
       "      <th>Age</th>\n",
       "      <th>SibSp</th>\n",
       "      <th>Parch</th>\n",
       "      <th>Ticket</th>\n",
       "      <th>Fare</th>\n",
       "      <th>Cabin</th>\n",
       "      <th>Embarked</th>\n",
       "    </tr>\n",
       "  </thead>\n",
       "  <tbody>\n",
       "    <tr>\n",
       "      <th>888</th>\n",
       "      <td>889</td>\n",
       "      <td>0</td>\n",
       "      <td>3</td>\n",
       "      <td>Johnston, Miss. Catherine Helen \"Carrie\"</td>\n",
       "      <td>female</td>\n",
       "      <td>NaN</td>\n",
       "      <td>1</td>\n",
       "      <td>2</td>\n",
       "      <td>W./C. 6607</td>\n",
       "      <td>23.45</td>\n",
       "      <td>NaN</td>\n",
       "      <td>S</td>\n",
       "    </tr>\n",
       "    <tr>\n",
       "      <th>889</th>\n",
       "      <td>890</td>\n",
       "      <td>1</td>\n",
       "      <td>1</td>\n",
       "      <td>Behr, Mr. Karl Howell</td>\n",
       "      <td>male</td>\n",
       "      <td>26.0</td>\n",
       "      <td>0</td>\n",
       "      <td>0</td>\n",
       "      <td>111369</td>\n",
       "      <td>30.00</td>\n",
       "      <td>C148</td>\n",
       "      <td>C</td>\n",
       "    </tr>\n",
       "    <tr>\n",
       "      <th>890</th>\n",
       "      <td>891</td>\n",
       "      <td>0</td>\n",
       "      <td>3</td>\n",
       "      <td>Dooley, Mr. Patrick</td>\n",
       "      <td>male</td>\n",
       "      <td>32.0</td>\n",
       "      <td>0</td>\n",
       "      <td>0</td>\n",
       "      <td>370376</td>\n",
       "      <td>7.75</td>\n",
       "      <td>NaN</td>\n",
       "      <td>Q</td>\n",
       "    </tr>\n",
       "  </tbody>\n",
       "</table>\n",
       "</div>"
      ],
      "text/plain": [
       "     PassengerId  Survived  Pclass                                      Name  \\\n",
       "888          889         0       3  Johnston, Miss. Catherine Helen \"Carrie\"   \n",
       "889          890         1       1                     Behr, Mr. Karl Howell   \n",
       "890          891         0       3                       Dooley, Mr. Patrick   \n",
       "\n",
       "        Sex   Age  SibSp  Parch      Ticket   Fare Cabin Embarked  \n",
       "888  female   NaN      1      2  W./C. 6607  23.45   NaN        S  \n",
       "889    male  26.0      0      0      111369  30.00  C148        C  \n",
       "890    male  32.0      0      0      370376   7.75   NaN        Q  "
      ]
     },
     "execution_count": 6,
     "metadata": {},
     "output_type": "execute_result"
    }
   ],
   "source": [
    "# preview the data from tail\n",
    "df_train.tail(3)"
   ]
  },
  {
   "cell_type": "markdown",
   "execution_count": null,
   "metadata": {
    "papermill": {
     "duration": 0.034955,
     "end_time": "2020-08-13T13:45:22.738935",
     "exception": false,
     "start_time": "2020-08-13T13:45:22.703980",
     "status": "completed"
    },
    "tags": []
   },
   "source": [
    "## Descriptive statistics"
   ]
  },
  {
   "cell_type": "markdown",
   "execution_count": null,
   "metadata": {
    "papermill": {
     "duration": 0.034974,
     "end_time": "2020-08-13T13:45:22.808717",
     "exception": false,
     "start_time": "2020-08-13T13:45:22.773743",
     "status": "completed"
    },
    "tags": []
   },
   "source": [
    "### split training data into numeric and categorical data"
   ]
  },
  {
   "cell_type": "code",
   "execution_count": 7,
   "metadata": {
    "execution": {
     "iopub.execute_input": "2020-08-13T13:45:22.896023Z",
     "iopub.status.busy": "2020-08-13T13:45:22.895076Z",
     "iopub.status.idle": "2020-08-13T13:45:22.897614Z",
     "shell.execute_reply": "2020-08-13T13:45:22.898071Z"
    },
    "papermill": {
     "duration": 0.055084,
     "end_time": "2020-08-13T13:45:22.898232",
     "exception": false,
     "start_time": "2020-08-13T13:45:22.843148",
     "status": "completed"
    },
    "tags": []
   },
   "outputs": [],
   "source": [
    "# split data train into Numeric and Categorocal\n",
    "numeric = df_train.select_dtypes(exclude='object')\n",
    "categorical = df_train.select_dtypes(include='object')"
   ]
  },
  {
   "cell_type": "markdown",
   "execution_count": null,
   "metadata": {
    "papermill": {
     "duration": 0.034303,
     "end_time": "2020-08-13T13:45:22.967803",
     "exception": false,
     "start_time": "2020-08-13T13:45:22.933500",
     "status": "completed"
    },
    "tags": []
   },
   "source": [
    "#### Which features are categorical?\n",
    "\n",
    "\n",
    " * These values classify the samples into sets of similar samples.\n",
    " * Within categorical features are the values nominal, ordinal, ratio, or interval based? \n",
    " * Among other things this helps us select the appropriate plots for visualization."
   ]
  },
  {
   "cell_type": "code",
   "execution_count": 8,
   "metadata": {
    "execution": {
     "iopub.execute_input": "2020-08-13T13:45:23.051711Z",
     "iopub.status.busy": "2020-08-13T13:45:23.042465Z",
     "iopub.status.idle": "2020-08-13T13:45:23.056418Z",
     "shell.execute_reply": "2020-08-13T13:45:23.056906Z"
    },
    "papermill": {
     "duration": 0.054745,
     "end_time": "2020-08-13T13:45:23.057050",
     "exception": false,
     "start_time": "2020-08-13T13:45:23.002305",
     "status": "completed"
    },
    "tags": []
   },
   "outputs": [
    {
     "name": "stdout",
     "output_type": "stream",
     "text": [
      "\n",
      "Number of categorical features :  5\n",
      "\n",
      " Index(['Name', 'Sex', 'Ticket', 'Cabin', 'Embarked'], dtype='object')\n"
     ]
    },
    {
     "data": {
      "text/html": [
       "<div>\n",
       "<style scoped>\n",
       "    .dataframe tbody tr th:only-of-type {\n",
       "        vertical-align: middle;\n",
       "    }\n",
       "\n",
       "    .dataframe tbody tr th {\n",
       "        vertical-align: top;\n",
       "    }\n",
       "\n",
       "    .dataframe thead th {\n",
       "        text-align: right;\n",
       "    }\n",
       "</style>\n",
       "<table border=\"1\" class=\"dataframe\">\n",
       "  <thead>\n",
       "    <tr style=\"text-align: right;\">\n",
       "      <th></th>\n",
       "      <th>Name</th>\n",
       "      <th>Sex</th>\n",
       "      <th>Ticket</th>\n",
       "      <th>Cabin</th>\n",
       "      <th>Embarked</th>\n",
       "    </tr>\n",
       "  </thead>\n",
       "  <tbody>\n",
       "    <tr>\n",
       "      <th>0</th>\n",
       "      <td>Braund, Mr. Owen Harris</td>\n",
       "      <td>male</td>\n",
       "      <td>A/5 21171</td>\n",
       "      <td>NaN</td>\n",
       "      <td>S</td>\n",
       "    </tr>\n",
       "    <tr>\n",
       "      <th>1</th>\n",
       "      <td>Cumings, Mrs. John Bradley (Florence Briggs Th...</td>\n",
       "      <td>female</td>\n",
       "      <td>PC 17599</td>\n",
       "      <td>C85</td>\n",
       "      <td>C</td>\n",
       "    </tr>\n",
       "    <tr>\n",
       "      <th>2</th>\n",
       "      <td>Heikkinen, Miss. Laina</td>\n",
       "      <td>female</td>\n",
       "      <td>STON/O2. 3101282</td>\n",
       "      <td>NaN</td>\n",
       "      <td>S</td>\n",
       "    </tr>\n",
       "    <tr>\n",
       "      <th>3</th>\n",
       "      <td>Futrelle, Mrs. Jacques Heath (Lily May Peel)</td>\n",
       "      <td>female</td>\n",
       "      <td>113803</td>\n",
       "      <td>C123</td>\n",
       "      <td>S</td>\n",
       "    </tr>\n",
       "    <tr>\n",
       "      <th>4</th>\n",
       "      <td>Allen, Mr. William Henry</td>\n",
       "      <td>male</td>\n",
       "      <td>373450</td>\n",
       "      <td>NaN</td>\n",
       "      <td>S</td>\n",
       "    </tr>\n",
       "  </tbody>\n",
       "</table>\n",
       "</div>"
      ],
      "text/plain": [
       "                                                Name     Sex  \\\n",
       "0                            Braund, Mr. Owen Harris    male   \n",
       "1  Cumings, Mrs. John Bradley (Florence Briggs Th...  female   \n",
       "2                             Heikkinen, Miss. Laina  female   \n",
       "3       Futrelle, Mrs. Jacques Heath (Lily May Peel)  female   \n",
       "4                           Allen, Mr. William Henry    male   \n",
       "\n",
       "             Ticket Cabin Embarked  \n",
       "0         A/5 21171   NaN        S  \n",
       "1          PC 17599   C85        C  \n",
       "2  STON/O2. 3101282   NaN        S  \n",
       "3            113803  C123        S  \n",
       "4            373450   NaN        S  "
      ]
     },
     "execution_count": 8,
     "metadata": {},
     "output_type": "execute_result"
    }
   ],
   "source": [
    "print(\"\\nNumber of categorical features : \",(len(categorical.axes[1])))\n",
    "print(\"\\n\", categorical.axes[1])\n",
    "categorical.head()"
   ]
  },
  {
   "cell_type": "code",
   "execution_count": 9,
   "metadata": {
    "execution": {
     "iopub.execute_input": "2020-08-13T13:45:23.141459Z",
     "iopub.status.busy": "2020-08-13T13:45:23.140565Z",
     "iopub.status.idle": "2020-08-13T13:45:23.170056Z",
     "shell.execute_reply": "2020-08-13T13:45:23.169519Z"
    },
    "papermill": {
     "duration": 0.077187,
     "end_time": "2020-08-13T13:45:23.170178",
     "exception": false,
     "start_time": "2020-08-13T13:45:23.092991",
     "status": "completed"
    },
    "tags": []
   },
   "outputs": [
    {
     "data": {
      "text/html": [
       "<div>\n",
       "<style scoped>\n",
       "    .dataframe tbody tr th:only-of-type {\n",
       "        vertical-align: middle;\n",
       "    }\n",
       "\n",
       "    .dataframe tbody tr th {\n",
       "        vertical-align: top;\n",
       "    }\n",
       "\n",
       "    .dataframe thead th {\n",
       "        text-align: right;\n",
       "    }\n",
       "</style>\n",
       "<table border=\"1\" class=\"dataframe\">\n",
       "  <thead>\n",
       "    <tr style=\"text-align: right;\">\n",
       "      <th></th>\n",
       "      <th>Name</th>\n",
       "      <th>Sex</th>\n",
       "      <th>Ticket</th>\n",
       "      <th>Cabin</th>\n",
       "      <th>Embarked</th>\n",
       "    </tr>\n",
       "  </thead>\n",
       "  <tbody>\n",
       "    <tr>\n",
       "      <th>count</th>\n",
       "      <td>891</td>\n",
       "      <td>891</td>\n",
       "      <td>891</td>\n",
       "      <td>204</td>\n",
       "      <td>889</td>\n",
       "    </tr>\n",
       "    <tr>\n",
       "      <th>unique</th>\n",
       "      <td>891</td>\n",
       "      <td>2</td>\n",
       "      <td>681</td>\n",
       "      <td>147</td>\n",
       "      <td>3</td>\n",
       "    </tr>\n",
       "    <tr>\n",
       "      <th>top</th>\n",
       "      <td>Gronnestad, Mr. Daniel Danielsen</td>\n",
       "      <td>male</td>\n",
       "      <td>CA. 2343</td>\n",
       "      <td>G6</td>\n",
       "      <td>S</td>\n",
       "    </tr>\n",
       "    <tr>\n",
       "      <th>freq</th>\n",
       "      <td>1</td>\n",
       "      <td>577</td>\n",
       "      <td>7</td>\n",
       "      <td>4</td>\n",
       "      <td>644</td>\n",
       "    </tr>\n",
       "  </tbody>\n",
       "</table>\n",
       "</div>"
      ],
      "text/plain": [
       "                                    Name   Sex    Ticket Cabin Embarked\n",
       "count                                891   891       891   204      889\n",
       "unique                               891     2       681   147        3\n",
       "top     Gronnestad, Mr. Daniel Danielsen  male  CA. 2343    G6        S\n",
       "freq                                   1   577         7     4      644"
      ]
     },
     "execution_count": 9,
     "metadata": {},
     "output_type": "execute_result"
    }
   ],
   "source": [
    "df_train.describe(include=['O'])"
   ]
  },
  {
   "cell_type": "markdown",
   "execution_count": null,
   "metadata": {
    "papermill": {
     "duration": 0.035604,
     "end_time": "2020-08-13T13:45:23.241876",
     "exception": false,
     "start_time": "2020-08-13T13:45:23.206272",
     "status": "completed"
    },
    "tags": []
   },
   "source": [
    "#### Which features are numerical?\n",
    "\n",
    "* Which features are numerical? These values change from sample to sample.\n",
    "* Within numerical features are the values discrete, continuous, or timeseries based?\n",
    "* Among other things this helps us select the appropriate plots for visualization."
   ]
  },
  {
   "cell_type": "code",
   "execution_count": 10,
   "metadata": {
    "execution": {
     "iopub.execute_input": "2020-08-13T13:45:23.318365Z",
     "iopub.status.busy": "2020-08-13T13:45:23.317421Z",
     "iopub.status.idle": "2020-08-13T13:45:23.322745Z",
     "shell.execute_reply": "2020-08-13T13:45:23.322000Z"
    },
    "papermill": {
     "duration": 0.046028,
     "end_time": "2020-08-13T13:45:23.322934",
     "exception": false,
     "start_time": "2020-08-13T13:45:23.276906",
     "status": "completed"
    },
    "tags": []
   },
   "outputs": [
    {
     "name": "stdout",
     "output_type": "stream",
     "text": [
      "\n",
      "Number of numeric features :  7\n",
      "\n",
      " Index(['PassengerId', 'Survived', 'Pclass', 'Age', 'SibSp', 'Parch', 'Fare'], dtype='object')\n"
     ]
    }
   ],
   "source": [
    "print(\"\\nNumber of numeric features : \",(len(numeric.axes[1])))\n",
    "print(\"\\n\", numeric.axes[1])"
   ]
  },
  {
   "cell_type": "code",
   "execution_count": 11,
   "metadata": {
    "execution": {
     "iopub.execute_input": "2020-08-13T13:45:23.403541Z",
     "iopub.status.busy": "2020-08-13T13:45:23.402623Z",
     "iopub.status.idle": "2020-08-13T13:45:23.436500Z",
     "shell.execute_reply": "2020-08-13T13:45:23.437053Z"
    },
    "papermill": {
     "duration": 0.077851,
     "end_time": "2020-08-13T13:45:23.437195",
     "exception": false,
     "start_time": "2020-08-13T13:45:23.359344",
     "status": "completed"
    },
    "tags": []
   },
   "outputs": [
    {
     "data": {
      "text/html": [
       "<div>\n",
       "<style scoped>\n",
       "    .dataframe tbody tr th:only-of-type {\n",
       "        vertical-align: middle;\n",
       "    }\n",
       "\n",
       "    .dataframe tbody tr th {\n",
       "        vertical-align: top;\n",
       "    }\n",
       "\n",
       "    .dataframe thead th {\n",
       "        text-align: right;\n",
       "    }\n",
       "</style>\n",
       "<table border=\"1\" class=\"dataframe\">\n",
       "  <thead>\n",
       "    <tr style=\"text-align: right;\">\n",
       "      <th></th>\n",
       "      <th>PassengerId</th>\n",
       "      <th>Survived</th>\n",
       "      <th>Pclass</th>\n",
       "      <th>Age</th>\n",
       "      <th>SibSp</th>\n",
       "      <th>Parch</th>\n",
       "      <th>Fare</th>\n",
       "    </tr>\n",
       "  </thead>\n",
       "  <tbody>\n",
       "    <tr>\n",
       "      <th>count</th>\n",
       "      <td>891.000000</td>\n",
       "      <td>891.000000</td>\n",
       "      <td>891.000000</td>\n",
       "      <td>714.000000</td>\n",
       "      <td>891.000000</td>\n",
       "      <td>891.000000</td>\n",
       "      <td>891.000000</td>\n",
       "    </tr>\n",
       "    <tr>\n",
       "      <th>mean</th>\n",
       "      <td>446.000000</td>\n",
       "      <td>0.383838</td>\n",
       "      <td>2.308642</td>\n",
       "      <td>29.699118</td>\n",
       "      <td>0.523008</td>\n",
       "      <td>0.381594</td>\n",
       "      <td>32.204208</td>\n",
       "    </tr>\n",
       "    <tr>\n",
       "      <th>std</th>\n",
       "      <td>257.353842</td>\n",
       "      <td>0.486592</td>\n",
       "      <td>0.836071</td>\n",
       "      <td>14.526497</td>\n",
       "      <td>1.102743</td>\n",
       "      <td>0.806057</td>\n",
       "      <td>49.693429</td>\n",
       "    </tr>\n",
       "    <tr>\n",
       "      <th>min</th>\n",
       "      <td>1.000000</td>\n",
       "      <td>0.000000</td>\n",
       "      <td>1.000000</td>\n",
       "      <td>0.420000</td>\n",
       "      <td>0.000000</td>\n",
       "      <td>0.000000</td>\n",
       "      <td>0.000000</td>\n",
       "    </tr>\n",
       "    <tr>\n",
       "      <th>25%</th>\n",
       "      <td>223.500000</td>\n",
       "      <td>0.000000</td>\n",
       "      <td>2.000000</td>\n",
       "      <td>20.125000</td>\n",
       "      <td>0.000000</td>\n",
       "      <td>0.000000</td>\n",
       "      <td>7.910400</td>\n",
       "    </tr>\n",
       "    <tr>\n",
       "      <th>50%</th>\n",
       "      <td>446.000000</td>\n",
       "      <td>0.000000</td>\n",
       "      <td>3.000000</td>\n",
       "      <td>28.000000</td>\n",
       "      <td>0.000000</td>\n",
       "      <td>0.000000</td>\n",
       "      <td>14.454200</td>\n",
       "    </tr>\n",
       "    <tr>\n",
       "      <th>75%</th>\n",
       "      <td>668.500000</td>\n",
       "      <td>1.000000</td>\n",
       "      <td>3.000000</td>\n",
       "      <td>38.000000</td>\n",
       "      <td>1.000000</td>\n",
       "      <td>0.000000</td>\n",
       "      <td>31.000000</td>\n",
       "    </tr>\n",
       "    <tr>\n",
       "      <th>max</th>\n",
       "      <td>891.000000</td>\n",
       "      <td>1.000000</td>\n",
       "      <td>3.000000</td>\n",
       "      <td>80.000000</td>\n",
       "      <td>8.000000</td>\n",
       "      <td>6.000000</td>\n",
       "      <td>512.329200</td>\n",
       "    </tr>\n",
       "  </tbody>\n",
       "</table>\n",
       "</div>"
      ],
      "text/plain": [
       "       PassengerId    Survived      Pclass         Age       SibSp  \\\n",
       "count   891.000000  891.000000  891.000000  714.000000  891.000000   \n",
       "mean    446.000000    0.383838    2.308642   29.699118    0.523008   \n",
       "std     257.353842    0.486592    0.836071   14.526497    1.102743   \n",
       "min       1.000000    0.000000    1.000000    0.420000    0.000000   \n",
       "25%     223.500000    0.000000    2.000000   20.125000    0.000000   \n",
       "50%     446.000000    0.000000    3.000000   28.000000    0.000000   \n",
       "75%     668.500000    1.000000    3.000000   38.000000    1.000000   \n",
       "max     891.000000    1.000000    3.000000   80.000000    8.000000   \n",
       "\n",
       "            Parch        Fare  \n",
       "count  891.000000  891.000000  \n",
       "mean     0.381594   32.204208  \n",
       "std      0.806057   49.693429  \n",
       "min      0.000000    0.000000  \n",
       "25%      0.000000    7.910400  \n",
       "50%      0.000000   14.454200  \n",
       "75%      0.000000   31.000000  \n",
       "max      6.000000  512.329200  "
      ]
     },
     "execution_count": 11,
     "metadata": {},
     "output_type": "execute_result"
    }
   ],
   "source": [
    "df_train.describe()"
   ]
  },
  {
   "cell_type": "markdown",
   "execution_count": null,
   "metadata": {
    "papermill": {
     "duration": 0.038413,
     "end_time": "2020-08-13T13:45:23.513733",
     "exception": false,
     "start_time": "2020-08-13T13:45:23.475320",
     "status": "completed"
    },
    "tags": []
   },
   "source": [
    "### What are the data types for various features?\n",
    "\n",
    "* Helping us during converting goal.\n",
    "\n"
   ]
  },
  {
   "cell_type": "markdown",
   "execution_count": null,
   "metadata": {
    "papermill": {
     "duration": 0.039633,
     "end_time": "2020-08-13T13:45:23.592397",
     "exception": false,
     "start_time": "2020-08-13T13:45:23.552764",
     "status": "completed"
    },
    "tags": []
   },
   "source": [
    "### Quantitative data:\n",
    "*  discrete, continuous\n",
    "* are measures of values or counts and are expressed as numbers.\n",
    "\n",
    "* Quantitative data are data about numeric variables (e.g. how many; how much; or how often).\n",
    "\n",
    "### Qualitative data:\n",
    "*  ordinal , nominal\n",
    "* are measures of 'types' and may be represented by a name, symbol, or a number code.\n",
    "\n",
    "* Qualitative data are data about categorical variables (e.g. what type)."
   ]
  },
  {
   "cell_type": "markdown",
   "execution_count": null,
   "metadata": {
    "papermill": {
     "duration": 0.040505,
     "end_time": "2020-08-13T13:45:23.672668",
     "exception": false,
     "start_time": "2020-08-13T13:45:23.632163",
     "status": "completed"
    },
    "tags": []
   },
   "source": [
    "#### Categorical: \n",
    "       Survived     nominal datatype\n",
    "       Sex          nominal datatype\n",
    "       Embarked     nominal datatype\n",
    "       Name         nominal datatype\n",
    "       Cabin        nominal datatype\n",
    "       Ticket       nominal datatype\n",
    "      \n",
    "       Pclass       ordinal datatype\n",
    "\n",
    "#### Numerical : \n",
    "      Age         continuous quantitative datatypes.\n",
    "      Fare        continuous quantitative datatypes.\n",
    "      \n",
    "      \n",
    "      PassengerId discrete quantitative datatypes\n",
    "      SibSp       discrete quantitative datatypes\n",
    "      Parch.      discrete quantitative datatypes"
   ]
  },
  {
   "cell_type": "markdown",
   "execution_count": null,
   "metadata": {
    "papermill": {
     "duration": 0.039389,
     "end_time": "2020-08-13T13:45:23.752477",
     "exception": false,
     "start_time": "2020-08-13T13:45:23.713088",
     "status": "completed"
    },
    "tags": []
   },
   "source": [
    "\n",
    "\n",
    "* 1.The Survived variable is our outcome or dependent variable. It is a binary nominal datatype of 1 for survived and 0 for did   not   survive. All other variables are potential predictor or independent variables. It's important to note, more predictor variables   do not make a better model, but the right variables.\n",
    "\n",
    "* 2.The PassengerID and Ticket variables are assumed to be random unique identifiers, that have no impact on the outcome variable.     Thus, they will be excluded from analysis.\n",
    "\n",
    "* 3.The Pclass variable is an ordinal datatype for the ticket class, a proxy for socio-economic status (SES), representing 1 = upper   class, 2 = middle class, and 3 = lower class.\n",
    "\n",
    "* 4.The Name variable is a nominal datatype. It could be used in feature engineering to derive the gender from title, family size     from surname, and SES from titles like doctor or master. Since these variables already exist, we'll make use of it to see if       title, like master, makes a difference.\n",
    "\n",
    "* 5.The Sex and Embarked variables are a nominal datatype. They will be converted to dummy variables for mathematical calculations.\n",
    "\n",
    "* 6.The Age and Fare variable are continuous quantitative datatypes.\n",
    "\n",
    "* 7.The SibSp represents number of related siblings/spouse aboard and Parch represents number of related parents/children aboard.\n",
    "  Both are discrete quantitative datatypes. \n",
    "  This can be used for feature engineering to create a family size and is alone variable.\n",
    "\n",
    "* 8.The Cabin variable is a nominal datatype that can be used in feature engineering for approximate position on ship when the         incident occurred and SES from deck levels. However, since there are many null values, it does not add value and thus is           excluded from analysis."
   ]
  },
  {
   "cell_type": "code",
   "execution_count": 12,
   "metadata": {
    "execution": {
     "iopub.execute_input": "2020-08-13T13:45:23.850417Z",
     "iopub.status.busy": "2020-08-13T13:45:23.849550Z",
     "iopub.status.idle": "2020-08-13T13:45:23.854795Z",
     "shell.execute_reply": "2020-08-13T13:45:23.854234Z"
    },
    "papermill": {
     "duration": 0.063296,
     "end_time": "2020-08-13T13:45:23.854929",
     "exception": false,
     "start_time": "2020-08-13T13:45:23.791633",
     "status": "completed"
    },
    "tags": []
   },
   "outputs": [
    {
     "name": "stdout",
     "output_type": "stream",
     "text": [
      "<class 'pandas.core.frame.DataFrame'>\n",
      "RangeIndex: 891 entries, 0 to 890\n",
      "Data columns (total 12 columns):\n",
      " #   Column       Non-Null Count  Dtype  \n",
      "---  ------       --------------  -----  \n",
      " 0   PassengerId  891 non-null    int64  \n",
      " 1   Survived     891 non-null    int64  \n",
      " 2   Pclass       891 non-null    int64  \n",
      " 3   Name         891 non-null    object \n",
      " 4   Sex          891 non-null    object \n",
      " 5   Age          714 non-null    float64\n",
      " 6   SibSp        891 non-null    int64  \n",
      " 7   Parch        891 non-null    int64  \n",
      " 8   Ticket       891 non-null    object \n",
      " 9   Fare         891 non-null    float64\n",
      " 10  Cabin        204 non-null    object \n",
      " 11  Embarked     889 non-null    object \n",
      "dtypes: float64(2), int64(5), object(5)\n",
      "memory usage: 83.7+ KB\n",
      "__________________________________________________\n",
      "<class 'pandas.core.frame.DataFrame'>\n",
      "RangeIndex: 418 entries, 0 to 417\n",
      "Data columns (total 11 columns):\n",
      " #   Column       Non-Null Count  Dtype  \n",
      "---  ------       --------------  -----  \n",
      " 0   PassengerId  418 non-null    int64  \n",
      " 1   Pclass       418 non-null    int64  \n",
      " 2   Name         418 non-null    object \n",
      " 3   Sex          418 non-null    object \n",
      " 4   Age          332 non-null    float64\n",
      " 5   SibSp        418 non-null    int64  \n",
      " 6   Parch        418 non-null    int64  \n",
      " 7   Ticket       418 non-null    object \n",
      " 8   Fare         417 non-null    float64\n",
      " 9   Cabin        91 non-null     object \n",
      " 10  Embarked     418 non-null    object \n",
      "dtypes: float64(2), int64(4), object(5)\n",
      "memory usage: 36.0+ KB\n"
     ]
    }
   ],
   "source": [
    "df_train.info()\n",
    "print('_'*50)\n",
    "df_test.info()"
   ]
  },
  {
   "cell_type": "code",
   "execution_count": 13,
   "metadata": {
    "execution": {
     "iopub.execute_input": "2020-08-13T13:45:23.947209Z",
     "iopub.status.busy": "2020-08-13T13:45:23.946278Z",
     "iopub.status.idle": "2020-08-13T13:45:24.146685Z",
     "shell.execute_reply": "2020-08-13T13:45:24.146133Z"
    },
    "papermill": {
     "duration": 0.251254,
     "end_time": "2020-08-13T13:45:24.146830",
     "exception": false,
     "start_time": "2020-08-13T13:45:23.895576",
     "status": "completed"
    },
    "tags": []
   },
   "outputs": [
    {
     "data": {
      "text/html": [
       "<style  type=\"text/css\" >\n",
       "    #T_3ce8a83e_dd6b_11ea_a76f_0242ac130202row0_col0 {\n",
       "            background-color:  #008000;\n",
       "            color:  #f1f1f1;\n",
       "        }    #T_3ce8a83e_dd6b_11ea_a76f_0242ac130202row1_col0 {\n",
       "            background-color:  #80c780;\n",
       "            color:  #000000;\n",
       "        }    #T_3ce8a83e_dd6b_11ea_a76f_0242ac130202row2_col0 {\n",
       "            background-color:  #9ed79e;\n",
       "            color:  #000000;\n",
       "        }    #T_3ce8a83e_dd6b_11ea_a76f_0242ac130202row3_col0 {\n",
       "            background-color:  #ade0ad;\n",
       "            color:  #000000;\n",
       "        }    #T_3ce8a83e_dd6b_11ea_a76f_0242ac130202row4_col0 {\n",
       "            background-color:  #b2e3b2;\n",
       "            color:  #000000;\n",
       "        }    #T_3ce8a83e_dd6b_11ea_a76f_0242ac130202row5_col0 {\n",
       "            background-color:  #b9e7b9;\n",
       "            color:  #000000;\n",
       "        }    #T_3ce8a83e_dd6b_11ea_a76f_0242ac130202row6_col0 {\n",
       "            background-color:  #e5ffe5;\n",
       "            color:  #000000;\n",
       "        }</style><table id=\"T_3ce8a83e_dd6b_11ea_a76f_0242ac130202\" ><thead>    <tr>        <th class=\"blank level0\" ></th>        <th class=\"col_heading level0 col0\" >Survived</th>    </tr></thead><tbody>\n",
       "                <tr>\n",
       "                        <th id=\"T_3ce8a83e_dd6b_11ea_a76f_0242ac130202level0_row0\" class=\"row_heading level0 row0\" >Survived</th>\n",
       "                        <td id=\"T_3ce8a83e_dd6b_11ea_a76f_0242ac130202row0_col0\" class=\"data row0 col0\" >1.000000</td>\n",
       "            </tr>\n",
       "            <tr>\n",
       "                        <th id=\"T_3ce8a83e_dd6b_11ea_a76f_0242ac130202level0_row1\" class=\"row_heading level0 row1\" >Fare</th>\n",
       "                        <td id=\"T_3ce8a83e_dd6b_11ea_a76f_0242ac130202row1_col0\" class=\"data row1 col0\" >0.257307</td>\n",
       "            </tr>\n",
       "            <tr>\n",
       "                        <th id=\"T_3ce8a83e_dd6b_11ea_a76f_0242ac130202level0_row2\" class=\"row_heading level0 row2\" >Parch</th>\n",
       "                        <td id=\"T_3ce8a83e_dd6b_11ea_a76f_0242ac130202row2_col0\" class=\"data row2 col0\" >0.081629</td>\n",
       "            </tr>\n",
       "            <tr>\n",
       "                        <th id=\"T_3ce8a83e_dd6b_11ea_a76f_0242ac130202level0_row3\" class=\"row_heading level0 row3\" >PassengerId</th>\n",
       "                        <td id=\"T_3ce8a83e_dd6b_11ea_a76f_0242ac130202row3_col0\" class=\"data row3 col0\" >-0.005007</td>\n",
       "            </tr>\n",
       "            <tr>\n",
       "                        <th id=\"T_3ce8a83e_dd6b_11ea_a76f_0242ac130202level0_row4\" class=\"row_heading level0 row4\" >SibSp</th>\n",
       "                        <td id=\"T_3ce8a83e_dd6b_11ea_a76f_0242ac130202row4_col0\" class=\"data row4 col0\" >-0.035322</td>\n",
       "            </tr>\n",
       "            <tr>\n",
       "                        <th id=\"T_3ce8a83e_dd6b_11ea_a76f_0242ac130202level0_row5\" class=\"row_heading level0 row5\" >Age</th>\n",
       "                        <td id=\"T_3ce8a83e_dd6b_11ea_a76f_0242ac130202row5_col0\" class=\"data row5 col0\" >-0.077221</td>\n",
       "            </tr>\n",
       "            <tr>\n",
       "                        <th id=\"T_3ce8a83e_dd6b_11ea_a76f_0242ac130202level0_row6\" class=\"row_heading level0 row6\" >Pclass</th>\n",
       "                        <td id=\"T_3ce8a83e_dd6b_11ea_a76f_0242ac130202row6_col0\" class=\"data row6 col0\" >-0.338481</td>\n",
       "            </tr>\n",
       "    </tbody></table>"
      ],
      "text/plain": [
       "<pandas.io.formats.style.Styler at 0x7fcb26686a90>"
      ]
     },
     "execution_count": 13,
     "metadata": {},
     "output_type": "execute_result"
    }
   ],
   "source": [
    "# Isolate the numeric features and check his relevance\n",
    "\n",
    "num_corr = numeric.corr()\n",
    "table = num_corr['Survived'].sort_values(ascending=False).to_frame()\n",
    "cm = sns.light_palette(\"green\", as_cmap=True)\n",
    "tb = table.style.background_gradient(cmap=cm)\n",
    "tb"
   ]
  },
  {
   "cell_type": "code",
   "execution_count": 14,
   "metadata": {
    "execution": {
     "iopub.execute_input": "2020-08-13T13:45:24.233582Z",
     "iopub.status.busy": "2020-08-13T13:45:24.232534Z",
     "iopub.status.idle": "2020-08-13T13:45:24.645372Z",
     "shell.execute_reply": "2020-08-13T13:45:24.645933Z"
    },
    "papermill": {
     "duration": 0.460481,
     "end_time": "2020-08-13T13:45:24.646105",
     "exception": false,
     "start_time": "2020-08-13T13:45:24.185624",
     "status": "completed"
    },
    "tags": []
   },
   "outputs": [
    {
     "data": {
      "image/png": "[encoded data removed]",
      "text/plain": [
       "<Figure size 432x288 with 2 Axes>"
      ]
     },
     "metadata": {},
     "output_type": "display_data"
    }
   ],
   "source": [
    "#Survived correlation matrix\n",
    "k = 5 #number of variables for heatmap\n",
    "cols = df_train.corr().nlargest(k, 'Survived')['Survived'].index\n",
    "cm = np.corrcoef(df_train[cols].values.T)\n",
    "sns.set(font_scale=1.25)\n",
    "hm = sns.heatmap(cm, cbar=True, annot=True, square=True, fmt='.2f', annot_kws={'size': 10}, yticklabels=cols.values, xticklabels=cols.values)\n",
    "plt.show()"
   ]
  },
  {
   "cell_type": "code",
   "execution_count": 15,
   "metadata": {
    "execution": {
     "iopub.execute_input": "2020-08-13T13:45:24.742442Z",
     "iopub.status.busy": "2020-08-13T13:45:24.741318Z",
     "iopub.status.idle": "2020-08-13T13:45:25.278297Z",
     "shell.execute_reply": "2020-08-13T13:45:25.277774Z"
    },
    "papermill": {
     "duration": 0.589845,
     "end_time": "2020-08-13T13:45:25.278412",
     "exception": false,
     "start_time": "2020-08-13T13:45:24.688567",
     "status": "completed"
    },
    "tags": []
   },
   "outputs": [
    {
     "data": {
      "image/png": "[encoded data removed]",
      "text/plain": [
       "<Figure size 1008x864 with 2 Axes>"
      ]
     },
     "metadata": {},
     "output_type": "display_data"
    }
   ],
   "source": [
    "#correlation heatmap of dataset\n",
    "def correlation_heatmap(df):\n",
    "    _ , ax = plt.subplots(figsize =(14, 12))\n",
    "    colormap = sns.diverging_palette(220, 10, as_cmap = True)\n",
    "    \n",
    "    _ = sns.heatmap(\n",
    "        df.corr(), \n",
    "        cmap = colormap,\n",
    "        square=True, \n",
    "        cbar_kws={'shrink':.9 }, \n",
    "        ax=ax,\n",
    "        annot=True, \n",
    "        linewidths=0.1,vmax=1.0, linecolor='blue',\n",
    "        annot_kws={'fontsize':12 }\n",
    "    )\n",
    "    \n",
    "    plt.title('Pearson Correlation of Features', y=1.05, size=15)\n",
    "\n",
    "correlation_heatmap(df_train)"
   ]
  },
  {
   "cell_type": "markdown",
   "execution_count": null,
   "metadata": {
    "papermill": {
     "duration": 0.042421,
     "end_time": "2020-08-13T13:45:25.363298",
     "exception": false,
     "start_time": "2020-08-13T13:45:25.320877",
     "status": "completed"
    },
    "tags": []
   },
   "source": [
    "**What is the distribution of numerical feature values across the samples?**\n",
    "\n",
    "This helps us determine, among other early insights, how representative is the training dataset of the actual problem domain.\n",
    "\n",
    "- Total samples are 891 or 40% of the actual number of passengers on board the Titanic (2,224).\n",
    "- Survived is a categorical feature with 0 or 1 values.\n",
    "- Around 38% samples survived representative of the actual survival rate at 32%.\n",
    "- Most passengers (> 75%) did not travel with parents or children.\n",
    "- Nearly 30% of the passengers had siblings and/or spouse aboard.\n",
    "- Fares varied significantly with few passengers (<1%) paying as high as $512.\n",
    "- Few elderly passengers (<1%) within age range 65-80."
   ]
  },
  {
   "cell_type": "markdown",
   "execution_count": null,
   "metadata": {
    "papermill": {
     "duration": 0.044714,
     "end_time": "2020-08-13T13:45:25.451583",
     "exception": false,
     "start_time": "2020-08-13T13:45:25.406869",
     "status": "completed"
    },
    "tags": []
   },
   "source": [
    "**What is the distribution of categorical features?**\n",
    "\n",
    "- Names are unique across the dataset (count=unique=891)\n",
    "- Sex variable as two possible values with 65% male (top=male, freq=577/count=891).\n",
    "- Cabin values have several dupicates across samples. Alternatively several passengers shared a cabin.\n",
    "- Embarked takes three possible values. S port used by most passengers (top=S)\n",
    "- Ticket feature has high ratio (22%) of duplicate values (unique=681)."
   ]
  },
  {
   "cell_type": "markdown",
   "execution_count": null,
   "metadata": {
    "papermill": {
     "duration": 0.0386,
     "end_time": "2020-08-13T13:45:25.533365",
     "exception": false,
     "start_time": "2020-08-13T13:45:25.494765",
     "status": "completed"
    },
    "tags": []
   },
   "source": [
    "### Assumtions based on data analysis\n",
    "\n",
    "We arrive at following assumptions based on data analysis done so far. We may validate these assumptions further before taking appropriate actions.\n",
    "\n",
    "**Correlating.**\n",
    "\n",
    "We want to know how well does each feature correlate with Survival. We want to do this early in our project and match these quick correlations with modelled correlations later in the project.\n",
    "\n",
    "**Completing.**\n",
    "\n",
    "1. We may want to complete Age feature as it is definitely correlated to survival.\n",
    "2. We may want to complete the Embarked feature as it may also correlate with survival or another important feature.\n",
    "\n",
    "**Correcting.**\n",
    "\n",
    "1. Ticket feature may be dropped from our analysis as it contains high ratio of duplicates (22%) and there may not be a correlation between Ticket and survival.\n",
    "2. Cabin feature may be dropped as it is highly incomplete or contains many null values both in training and test dataset.\n",
    "3. PassengerId may be dropped from training dataset as it does not contribute to survival.\n",
    "4. Name feature is relatively non-standard, may not contribute directly to survival, so maybe dropped.\n",
    "\n",
    "**Creating.**\n",
    "\n",
    "1. We may want to create a new feature called Family based on Parch and SibSp to get total count of family members on board.\n",
    "2. We may want to engineer the Name feature to extract Title as a new feature.\n",
    "3. We may want to create new feature for Age bands. This turns a continous numerical feature into an ordinal categorical feature.\n",
    "4. We may also want to create a Fare range feature if it helps our analysis.\n",
    "\n",
    "**Classifying.**\n",
    "\n",
    "We may also add to our assumptions based on the problem description noted earlier.\n",
    "\n",
    "1. Women (Sex=female) were more likely to have survived.\n",
    "2. Children (Age<?) were more likely to have survived. \n",
    "3. The upper-class passengers (Pclass=1) were more likely to have survived."
   ]
  },
  {
   "cell_type": "markdown",
   "execution_count": null,
   "metadata": {
    "papermill": {
     "duration": 0.038219,
     "end_time": "2020-08-13T13:45:25.610788",
     "exception": false,
     "start_time": "2020-08-13T13:45:25.572569",
     "status": "completed"
    },
    "tags": []
   },
   "source": [
    "## Analyze by pivoting features\n",
    "\n",
    "To confirm some of our observations and assumptions, we can quickly analyze our feature correlations by pivoting features against each other. We can only do so at this stage for features which do not have any empty values. It also makes sense doing so only for features which are categorical (Sex), ordinal (Pclass) or discrete (SibSp, Parch) type.\n",
    "\n",
    "- **Pclass** We observe significant correlation (>0.5) among Pclass=1 and Survived (classifying #3). We decide to include this feature in our model.\n",
    "- **Sex** We confirm the observation during problem definition that Sex=female had very high survival rate at 74% (classifying #1).\n",
    "- **SibSp and Parch** These features have zero correlation for certain values. It may be best to derive a feature or a set of features from these individual features (creating #1)."
   ]
  },
  {
   "cell_type": "code",
   "execution_count": 16,
   "metadata": {
    "execution": {
     "iopub.execute_input": "2020-08-13T13:45:25.713464Z",
     "iopub.status.busy": "2020-08-13T13:45:25.712509Z",
     "iopub.status.idle": "2020-08-13T13:45:25.716467Z",
     "shell.execute_reply": "2020-08-13T13:45:25.717054Z"
    },
    "papermill": {
     "duration": 0.062931,
     "end_time": "2020-08-13T13:45:25.717238",
     "exception": false,
     "start_time": "2020-08-13T13:45:25.654307",
     "status": "completed"
    },
    "tags": []
   },
   "outputs": [
    {
     "data": {
      "text/html": [
       "<div>\n",
       "<style scoped>\n",
       "    .dataframe tbody tr th:only-of-type {\n",
       "        vertical-align: middle;\n",
       "    }\n",
       "\n",
       "    .dataframe tbody tr th {\n",
       "        vertical-align: top;\n",
       "    }\n",
       "\n",
       "    .dataframe thead th {\n",
       "        text-align: right;\n",
       "    }\n",
       "</style>\n",
       "<table border=\"1\" class=\"dataframe\">\n",
       "  <thead>\n",
       "    <tr style=\"text-align: right;\">\n",
       "      <th></th>\n",
       "      <th>Pclass</th>\n",
       "      <th>Survived</th>\n",
       "    </tr>\n",
       "  </thead>\n",
       "  <tbody>\n",
       "    <tr>\n",
       "      <th>0</th>\n",
       "      <td>1</td>\n",
       "      <td>0.629630</td>\n",
       "    </tr>\n",
       "    <tr>\n",
       "      <th>1</th>\n",
       "      <td>2</td>\n",
       "      <td>0.472826</td>\n",
       "    </tr>\n",
       "    <tr>\n",
       "      <th>2</th>\n",
       "      <td>3</td>\n",
       "      <td>0.242363</td>\n",
       "    </tr>\n",
       "  </tbody>\n",
       "</table>\n",
       "</div>"
      ],
      "text/plain": [
       "   Pclass  Survived\n",
       "0       1  0.629630\n",
       "1       2  0.472826\n",
       "2       3  0.242363"
      ]
     },
     "execution_count": 16,
     "metadata": {},
     "output_type": "execute_result"
    }
   ],
   "source": [
    "df_train[['Pclass', 'Survived']].groupby(['Pclass'], as_index=False).mean().sort_values(by='Survived', ascending=False)\n",
    "#print('_'*50)"
   ]
  },
  {
   "cell_type": "code",
   "execution_count": 17,
   "metadata": {
    "execution": {
     "iopub.execute_input": "2020-08-13T13:45:25.814604Z",
     "iopub.status.busy": "2020-08-13T13:45:25.813512Z",
     "iopub.status.idle": "2020-08-13T13:45:25.818126Z",
     "shell.execute_reply": "2020-08-13T13:45:25.817451Z"
    },
    "papermill": {
     "duration": 0.059073,
     "end_time": "2020-08-13T13:45:25.818321",
     "exception": false,
     "start_time": "2020-08-13T13:45:25.759248",
     "status": "completed"
    },
    "tags": []
   },
   "outputs": [
    {
     "data": {
      "text/html": [
       "<div>\n",
       "<style scoped>\n",
       "    .dataframe tbody tr th:only-of-type {\n",
       "        vertical-align: middle;\n",
       "    }\n",
       "\n",
       "    .dataframe tbody tr th {\n",
       "        vertical-align: top;\n",
       "    }\n",
       "\n",
       "    .dataframe thead th {\n",
       "        text-align: right;\n",
       "    }\n",
       "</style>\n",
       "<table border=\"1\" class=\"dataframe\">\n",
       "  <thead>\n",
       "    <tr style=\"text-align: right;\">\n",
       "      <th></th>\n",
       "      <th>Sex</th>\n",
       "      <th>Survived</th>\n",
       "    </tr>\n",
       "  </thead>\n",
       "  <tbody>\n",
       "    <tr>\n",
       "      <th>0</th>\n",
       "      <td>female</td>\n",
       "      <td>0.742038</td>\n",
       "    </tr>\n",
       "    <tr>\n",
       "      <th>1</th>\n",
       "      <td>male</td>\n",
       "      <td>0.188908</td>\n",
       "    </tr>\n",
       "  </tbody>\n",
       "</table>\n",
       "</div>"
      ],
      "text/plain": [
       "      Sex  Survived\n",
       "0  female  0.742038\n",
       "1    male  0.188908"
      ]
     },
     "execution_count": 17,
     "metadata": {},
     "output_type": "execute_result"
    }
   ],
   "source": [
    "df_train[['Sex', 'Survived']].groupby(['Sex'], as_index=False).mean().sort_values(by='Survived', ascending=False)\n",
    "\n"
   ]
  },
  {
   "cell_type": "code",
   "execution_count": 18,
   "metadata": {
    "execution": {
     "iopub.execute_input": "2020-08-13T13:45:25.921093Z",
     "iopub.status.busy": "2020-08-13T13:45:25.919876Z",
     "iopub.status.idle": "2020-08-13T13:45:25.928445Z",
     "shell.execute_reply": "2020-08-13T13:45:25.927727Z"
    },
    "papermill": {
     "duration": 0.067725,
     "end_time": "2020-08-13T13:45:25.928566",
     "exception": false,
     "start_time": "2020-08-13T13:45:25.860841",
     "status": "completed"
    },
    "tags": []
   },
   "outputs": [
    {
     "data": {
      "text/html": [
       "<div>\n",
       "<style scoped>\n",
       "    .dataframe tbody tr th:only-of-type {\n",
       "        vertical-align: middle;\n",
       "    }\n",
       "\n",
       "    .dataframe tbody tr th {\n",
       "        vertical-align: top;\n",
       "    }\n",
       "\n",
       "    .dataframe thead th {\n",
       "        text-align: right;\n",
       "    }\n",
       "</style>\n",
       "<table border=\"1\" class=\"dataframe\">\n",
       "  <thead>\n",
       "    <tr style=\"text-align: right;\">\n",
       "      <th></th>\n",
       "      <th>SibSp</th>\n",
       "      <th>Survived</th>\n",
       "    </tr>\n",
       "  </thead>\n",
       "  <tbody>\n",
       "    <tr>\n",
       "      <th>1</th>\n",
       "      <td>1</td>\n",
       "      <td>0.535885</td>\n",
       "    </tr>\n",
       "    <tr>\n",
       "      <th>2</th>\n",
       "      <td>2</td>\n",
       "      <td>0.464286</td>\n",
       "    </tr>\n",
       "    <tr>\n",
       "      <th>0</th>\n",
       "      <td>0</td>\n",
       "      <td>0.345395</td>\n",
       "    </tr>\n",
       "    <tr>\n",
       "      <th>3</th>\n",
       "      <td>3</td>\n",
       "      <td>0.250000</td>\n",
       "    </tr>\n",
       "    <tr>\n",
       "      <th>4</th>\n",
       "      <td>4</td>\n",
       "      <td>0.166667</td>\n",
       "    </tr>\n",
       "    <tr>\n",
       "      <th>5</th>\n",
       "      <td>5</td>\n",
       "      <td>0.000000</td>\n",
       "    </tr>\n",
       "    <tr>\n",
       "      <th>6</th>\n",
       "      <td>8</td>\n",
       "      <td>0.000000</td>\n",
       "    </tr>\n",
       "  </tbody>\n",
       "</table>\n",
       "</div>"
      ],
      "text/plain": [
       "   SibSp  Survived\n",
       "1      1  0.535885\n",
       "2      2  0.464286\n",
       "0      0  0.345395\n",
       "3      3  0.250000\n",
       "4      4  0.166667\n",
       "5      5  0.000000\n",
       "6      8  0.000000"
      ]
     },
     "execution_count": 18,
     "metadata": {},
     "output_type": "execute_result"
    }
   ],
   "source": [
    "df_train[[\"SibSp\", \"Survived\"]].groupby(['SibSp'], as_index=False).mean().sort_values(by='Survived', ascending=False)"
   ]
  },
  {
   "cell_type": "code",
   "execution_count": 19,
   "metadata": {
    "execution": {
     "iopub.execute_input": "2020-08-13T13:45:26.024941Z",
     "iopub.status.busy": "2020-08-13T13:45:26.023941Z",
     "iopub.status.idle": "2020-08-13T13:45:26.035875Z",
     "shell.execute_reply": "2020-08-13T13:45:26.035268Z"
    },
    "papermill": {
     "duration": 0.063779,
     "end_time": "2020-08-13T13:45:26.036001",
     "exception": false,
     "start_time": "2020-08-13T13:45:25.972222",
     "status": "completed"
    },
    "tags": []
   },
   "outputs": [
    {
     "data": {
      "text/html": [
       "<div>\n",
       "<style scoped>\n",
       "    .dataframe tbody tr th:only-of-type {\n",
       "        vertical-align: middle;\n",
       "    }\n",
       "\n",
       "    .dataframe tbody tr th {\n",
       "        vertical-align: top;\n",
       "    }\n",
       "\n",
       "    .dataframe thead th {\n",
       "        text-align: right;\n",
       "    }\n",
       "</style>\n",
       "<table border=\"1\" class=\"dataframe\">\n",
       "  <thead>\n",
       "    <tr style=\"text-align: right;\">\n",
       "      <th></th>\n",
       "      <th>Parch</th>\n",
       "      <th>Survived</th>\n",
       "    </tr>\n",
       "  </thead>\n",
       "  <tbody>\n",
       "    <tr>\n",
       "      <th>3</th>\n",
       "      <td>3</td>\n",
       "      <td>0.600000</td>\n",
       "    </tr>\n",
       "    <tr>\n",
       "      <th>1</th>\n",
       "      <td>1</td>\n",
       "      <td>0.550847</td>\n",
       "    </tr>\n",
       "    <tr>\n",
       "      <th>2</th>\n",
       "      <td>2</td>\n",
       "      <td>0.500000</td>\n",
       "    </tr>\n",
       "    <tr>\n",
       "      <th>0</th>\n",
       "      <td>0</td>\n",
       "      <td>0.343658</td>\n",
       "    </tr>\n",
       "    <tr>\n",
       "      <th>5</th>\n",
       "      <td>5</td>\n",
       "      <td>0.200000</td>\n",
       "    </tr>\n",
       "    <tr>\n",
       "      <th>4</th>\n",
       "      <td>4</td>\n",
       "      <td>0.000000</td>\n",
       "    </tr>\n",
       "    <tr>\n",
       "      <th>6</th>\n",
       "      <td>6</td>\n",
       "      <td>0.000000</td>\n",
       "    </tr>\n",
       "  </tbody>\n",
       "</table>\n",
       "</div>"
      ],
      "text/plain": [
       "   Parch  Survived\n",
       "3      3  0.600000\n",
       "1      1  0.550847\n",
       "2      2  0.500000\n",
       "0      0  0.343658\n",
       "5      5  0.200000\n",
       "4      4  0.000000\n",
       "6      6  0.000000"
      ]
     },
     "execution_count": 19,
     "metadata": {},
     "output_type": "execute_result"
    }
   ],
   "source": [
    "df_train[[\"Parch\", \"Survived\"]].groupby(['Parch'], as_index=False).mean().sort_values(by='Survived', ascending=False)"
   ]
  },
  {
   "cell_type": "code",
   "execution_count": 20,
   "metadata": {
    "execution": {
     "iopub.execute_input": "2020-08-13T13:45:26.142510Z",
     "iopub.status.busy": "2020-08-13T13:45:26.141490Z",
     "iopub.status.idle": "2020-08-13T13:45:26.146119Z",
     "shell.execute_reply": "2020-08-13T13:45:26.145439Z"
    },
    "papermill": {
     "duration": 0.0675,
     "end_time": "2020-08-13T13:45:26.146238",
     "exception": false,
     "start_time": "2020-08-13T13:45:26.078738",
     "status": "completed"
    },
    "tags": []
   },
   "outputs": [
    {
     "data": {
      "text/html": [
       "<div>\n",
       "<style scoped>\n",
       "    .dataframe tbody tr th:only-of-type {\n",
       "        vertical-align: middle;\n",
       "    }\n",
       "\n",
       "    .dataframe tbody tr th {\n",
       "        vertical-align: top;\n",
       "    }\n",
       "\n",
       "    .dataframe thead th {\n",
       "        text-align: right;\n",
       "    }\n",
       "</style>\n",
       "<table border=\"1\" class=\"dataframe\">\n",
       "  <thead>\n",
       "    <tr style=\"text-align: right;\">\n",
       "      <th></th>\n",
       "      <th>Embarked</th>\n",
       "      <th>Survived</th>\n",
       "    </tr>\n",
       "  </thead>\n",
       "  <tbody>\n",
       "    <tr>\n",
       "      <th>0</th>\n",
       "      <td>C</td>\n",
       "      <td>0.553571</td>\n",
       "    </tr>\n",
       "    <tr>\n",
       "      <th>1</th>\n",
       "      <td>Q</td>\n",
       "      <td>0.389610</td>\n",
       "    </tr>\n",
       "    <tr>\n",
       "      <th>2</th>\n",
       "      <td>S</td>\n",
       "      <td>0.336957</td>\n",
       "    </tr>\n",
       "  </tbody>\n",
       "</table>\n",
       "</div>"
      ],
      "text/plain": [
       "  Embarked  Survived\n",
       "0        C  0.553571\n",
       "1        Q  0.389610\n",
       "2        S  0.336957"
      ]
     },
     "execution_count": 20,
     "metadata": {},
     "output_type": "execute_result"
    }
   ],
   "source": [
    "\n",
    "df_train[[\"Embarked\", \"Survived\"]].groupby(['Embarked'], as_index=False).mean().sort_values(by='Survived', ascending=False)"
   ]
  },
  {
   "cell_type": "markdown",
   "execution_count": null,
   "metadata": {
    "papermill": {
     "duration": 0.04406,
     "end_time": "2020-08-13T13:45:26.232626",
     "exception": false,
     "start_time": "2020-08-13T13:45:26.188566",
     "status": "completed"
    },
    "tags": []
   },
   "source": [
    "## Analyze by visualizing data\n",
    "\n",
    "Now we can continue confirming some of our assumptions using visualizations for analyzing the data.\n",
    "\n",
    "### Correlating numerical features\n",
    "\n",
    "Let us start by understanding correlations between numerical features and our solution goal (Survived).\n",
    "\n",
    "A histogram chart is useful for analyzing continous numerical variables like Age where banding or ranges will help identify useful patterns. The histogram can indicate distribution of samples using automatically defined bins or equally ranged bands. This helps us answer questions relating to specific bands (Did infants have better survival rate?)\n",
    "\n",
    "Note that x-axis in historgram visualizations represents the count of samples or passengers.\n",
    "\n",
    "**Observations.**\n",
    "\n",
    "- Infants (Age <=4) had high survival rate.\n",
    "- Oldest passengers (Age = 80) survived.\n",
    "- Large number of 15-25 year olds did not survive.\n",
    "- Most passengers are in 15-35 age range.\n",
    "\n",
    "**Decisions.**\n",
    "\n",
    "This simple analysis confirms our assumptions as decisions for subsequent workflow stages.\n",
    "\n",
    "- We should consider Age (our assumption classifying #2) in our model training.\n",
    "- Complete the Age feature for null values (completing #1).\n",
    "- We should band age groups (creating #3)."
   ]
  },
  {
   "cell_type": "markdown",
   "execution_count": null,
   "metadata": {
    "papermill": {
     "duration": 0.044432,
     "end_time": "2020-08-13T13:45:26.320979",
     "exception": false,
     "start_time": "2020-08-13T13:45:26.276547",
     "status": "completed"
    },
    "tags": []
   },
   "source": [
    "### Target Distribution"
   ]
  },
  {
   "cell_type": "code",
   "execution_count": 21,
   "metadata": {
    "execution": {
     "iopub.execute_input": "2020-08-13T13:45:26.432868Z",
     "iopub.status.busy": "2020-08-13T13:45:26.431714Z",
     "iopub.status.idle": "2020-08-13T13:45:26.486236Z",
     "shell.execute_reply": "2020-08-13T13:45:26.486852Z"
    },
    "papermill": {
     "duration": 0.121829,
     "end_time": "2020-08-13T13:45:26.487031",
     "exception": false,
     "start_time": "2020-08-13T13:45:26.365202",
     "status": "completed"
    },
    "tags": []
   },
   "outputs": [
    {
     "data": {
      "image/png": "[encoded data removed]",
      "text/plain": [
       "<Figure size 432x288 with 1 Axes>"
      ]
     },
     "metadata": {},
     "output_type": "display_data"
    }
   ],
   "source": [
    "fig1, ax1 = plt.subplots()\n",
    "ax1.pie(df_train['Survived'].groupby(df_train['Survived']).count(), \n",
    "        labels = ['Not Survived', 'Survived'], autopct = '%1.1f%%')\n",
    "ax1.axis('equal')\n",
    "\n",
    "plt.show()"
   ]
  },
  {
   "cell_type": "code",
   "execution_count": 22,
   "metadata": {
    "execution": {
     "iopub.execute_input": "2020-08-13T13:45:26.690559Z",
     "iopub.status.busy": "2020-08-13T13:45:26.689466Z",
     "iopub.status.idle": "2020-08-13T13:45:27.738328Z",
     "shell.execute_reply": "2020-08-13T13:45:27.738984Z"
    },
    "papermill": {
     "duration": 1.16303,
     "end_time": "2020-08-13T13:45:27.739165",
     "exception": false,
     "start_time": "2020-08-13T13:45:26.576135",
     "status": "completed"
    },
    "tags": []
   },
   "outputs": [
    {
     "data": {
      "text/plain": [
       "<seaborn.axisgrid.FacetGrid at 0x7fcb24895350>"
      ]
     },
     "execution_count": 22,
     "metadata": {},
     "output_type": "execute_result"
    },
    {
     "data": {
      "image/png": "[encoded data removed]",
      "text/plain": [
       "<Figure size 432x216 with 2 Axes>"
      ]
     },
     "metadata": {},
     "output_type": "display_data"
    }
   ],
   "source": [
    "g = sns.FacetGrid(df_train, col='Survived')\n",
    "g.map(plt.hist, 'Age', bins=20)"
   ]
  },
  {
   "cell_type": "code",
   "execution_count": 23,
   "metadata": {
    "execution": {
     "iopub.execute_input": "2020-08-13T13:45:27.835092Z",
     "iopub.status.busy": "2020-08-13T13:45:27.834028Z",
     "iopub.status.idle": "2020-08-13T13:45:28.850316Z",
     "shell.execute_reply": "2020-08-13T13:45:28.851334Z"
    },
    "papermill": {
     "duration": 1.067925,
     "end_time": "2020-08-13T13:45:28.851570",
     "exception": false,
     "start_time": "2020-08-13T13:45:27.783645",
     "status": "completed"
    },
    "tags": []
   },
   "outputs": [
    {
     "data": {
      "text/plain": [
       "<seaborn.axisgrid.FacetGrid at 0x7fcb24b40a50>"
      ]
     },
     "execution_count": 23,
     "metadata": {},
     "output_type": "execute_result"
    },
    {
     "data": {
      "image/png": "[encoded data removed]",
      "text/plain": [
       "<Figure size 432x216 with 2 Axes>"
      ]
     },
     "metadata": {},
     "output_type": "display_data"
    }
   ],
   "source": [
    "g = sns.FacetGrid(df_train, col='Survived')\n",
    "g.map(plt.hist, 'Fare', bins=30)"
   ]
  },
  {
   "cell_type": "markdown",
   "execution_count": null,
   "metadata": {
    "papermill": {
     "duration": 0.066535,
     "end_time": "2020-08-13T13:45:28.982581",
     "exception": false,
     "start_time": "2020-08-13T13:45:28.916046",
     "status": "completed"
    },
    "tags": []
   },
   "source": [
    "### Correlating numerical and ordinal features\n",
    "\n",
    "We can combine multiple features for identifying correlations using a single plot. This can be done with numerical and categorical features which have numeric values.\n",
    "\n",
    "**Observations.**\n",
    "\n",
    "- Pclass=3 had most passengers, however most did not survive. Confirms our classifying assumption #2.\n",
    "- Infant passengers in Pclass=2 and Pclass=3 mostly survived. Further qualifies our classifying assumption #2.\n",
    "- Most passengers in Pclass=1 survived. Confirms our classifying assumption #3.\n",
    "- Pclass varies in terms of Age distribution of passengers.\n",
    "\n",
    "**Decisions.**\n",
    "\n",
    "- Consider Pclass for model training."
   ]
  },
  {
   "cell_type": "code",
   "execution_count": 24,
   "metadata": {
    "execution": {
     "iopub.execute_input": "2020-08-13T13:45:29.135127Z",
     "iopub.status.busy": "2020-08-13T13:45:29.133810Z",
     "iopub.status.idle": "2020-08-13T13:45:32.535655Z",
     "shell.execute_reply": "2020-08-13T13:45:32.535011Z"
    },
    "papermill": {
     "duration": 3.480289,
     "end_time": "2020-08-13T13:45:32.535796",
     "exception": false,
     "start_time": "2020-08-13T13:45:29.055507",
     "status": "completed"
    },
    "tags": []
   },
   "outputs": [
    {
     "name": "stderr",
     "output_type": "stream",
     "text": [
      "/opt/conda/lib/python3.7/site-packages/seaborn/axisgrid.py:243: UserWarning: The `size` parameter has been renamed to `height`; please update your code.\n",
      "  warnings.warn(msg, UserWarning)\n"
     ]
    },
    {
     "data": {
      "image/png": "[encoded data removed]",
      "text/plain": [
       "<Figure size 517.88x475.2 with 6 Axes>"
      ]
     },
     "metadata": {},
     "output_type": "display_data"
    }
   ],
   "source": [
    "# grid = sns.FacetGrid(train_df, col='Pclass', hue='Survived')\n",
    "grid = sns.FacetGrid(df_train, col='Survived', row='Pclass', size=2.2, aspect=1.6)\n",
    "grid.map(plt.hist, 'Age', alpha=.5, bins=20)\n",
    "grid.add_legend();"
   ]
  },
  {
   "cell_type": "markdown",
   "execution_count": null,
   "metadata": {
    "papermill": {
     "duration": 0.039765,
     "end_time": "2020-08-13T13:45:32.618619",
     "exception": false,
     "start_time": "2020-08-13T13:45:32.578854",
     "status": "completed"
    },
    "tags": []
   },
   "source": [
    "### Correlating categorical features\n",
    "\n",
    "Now we can correlate categorical features with our solution goal.\n",
    "\n",
    "**Observations.**\n",
    "\n",
    "- Female passengers had much better survival rate than males. Confirms classifying (#1).\n",
    "- Exception in Embarked=C where males had higher survival rate. This could be a correlation between Pclass and Embarked and in turn Pclass and Survived, not necessarily direct correlation between Embarked and Survived.\n",
    "- Males had better survival rate in Pclass=3 when compared with Pclass=2 for C and Q ports. Completing (#2).\n",
    "- Ports of embarkation have varying survival rates for Pclass=3 and among male passengers. Correlating (#1).\n",
    "\n",
    "**Decisions.**\n",
    "\n",
    "- Add Sex feature to model training.\n",
    "- Complete and add Embarked feature to model training."
   ]
  },
  {
   "cell_type": "code",
   "execution_count": 25,
   "metadata": {
    "execution": {
     "iopub.execute_input": "2020-08-13T13:45:32.721124Z",
     "iopub.status.busy": "2020-08-13T13:45:32.719683Z",
     "iopub.status.idle": "2020-08-13T13:45:34.022032Z",
     "shell.execute_reply": "2020-08-13T13:45:34.022538Z"
    },
    "papermill": {
     "duration": 1.357434,
     "end_time": "2020-08-13T13:45:34.022690",
     "exception": false,
     "start_time": "2020-08-13T13:45:32.665256",
     "status": "completed"
    },
    "tags": []
   },
   "outputs": [
    {
     "name": "stderr",
     "output_type": "stream",
     "text": [
      "/opt/conda/lib/python3.7/site-packages/seaborn/axisgrid.py:728: UserWarning: Using the pointplot function without specifying `order` is likely to produce an incorrect plot.\n",
      "  warnings.warn(warning)\n",
      "/opt/conda/lib/python3.7/site-packages/seaborn/axisgrid.py:733: UserWarning: Using the pointplot function without specifying `hue_order` is likely to produce an incorrect plot.\n",
      "  warnings.warn(warning)\n"
     ]
    },
    {
     "data": {
      "text/plain": [
       "<seaborn.axisgrid.FacetGrid at 0x7fcb249a0690>"
      ]
     },
     "execution_count": 25,
     "metadata": {},
     "output_type": "execute_result"
    },
    {
     "data": {
      "image/png": "[encoded data removed]",
      "text/plain": [
       "<Figure size 350.69x475.2 with 3 Axes>"
      ]
     },
     "metadata": {},
     "output_type": "display_data"
    }
   ],
   "source": [
    "# grid = sns.FacetGrid(train_df, col='Embarked')\n",
    "grid = sns.FacetGrid(df_train, row='Embarked', size=2.2, aspect=1.6)\n",
    "grid.map(sns.pointplot, 'Pclass', 'Survived', 'Sex', palette='deep')\n",
    "grid.add_legend()"
   ]
  },
  {
   "cell_type": "markdown",
   "execution_count": null,
   "metadata": {
    "papermill": {
     "duration": 0.042556,
     "end_time": "2020-08-13T13:45:34.107622",
     "exception": false,
     "start_time": "2020-08-13T13:45:34.065066",
     "status": "completed"
    },
    "tags": []
   },
   "source": [
    "### Correlating categorical and numerical features\n",
    "\n",
    "We may also want to correlate categorical features (with non-numeric values) and numeric features. We can consider correlating Embarked (Categorical non-numeric), Sex (Categorical non-numeric), Fare (Numeric continuous), with Survived (Categorical numeric).\n",
    "\n",
    "**Observations.**\n",
    "\n",
    "- Higher fare paying passengers had better survival. Confirms our assumption for creating (#4) fare ranges.\n",
    "- Port of embarkation correlates with survival rates. Confirms correlating (#1) and completing (#2).\n",
    "\n",
    "**Decisions.**\n",
    "\n",
    "- Consider banding Fare feature."
   ]
  },
  {
   "cell_type": "code",
   "execution_count": 26,
   "metadata": {
    "execution": {
     "iopub.execute_input": "2020-08-13T13:45:34.205313Z",
     "iopub.status.busy": "2020-08-13T13:45:34.198506Z",
     "iopub.status.idle": "2020-08-13T13:45:35.514783Z",
     "shell.execute_reply": "2020-08-13T13:45:35.515378Z"
    },
    "papermill": {
     "duration": 1.365835,
     "end_time": "2020-08-13T13:45:35.515534",
     "exception": false,
     "start_time": "2020-08-13T13:45:34.149699",
     "status": "completed"
    },
    "tags": []
   },
   "outputs": [
    {
     "name": "stderr",
     "output_type": "stream",
     "text": [
      "/opt/conda/lib/python3.7/site-packages/seaborn/axisgrid.py:243: UserWarning: The `size` parameter has been renamed to `height`; please update your code.\n",
      "  warnings.warn(msg, UserWarning)\n",
      "/opt/conda/lib/python3.7/site-packages/seaborn/axisgrid.py:728: UserWarning: Using the barplot function without specifying `order` is likely to produce an incorrect plot.\n",
      "  warnings.warn(warning)\n"
     ]
    },
    {
     "data": {
      "text/plain": [
       "<seaborn.axisgrid.FacetGrid at 0x7fcb1edb3950>"
      ]
     },
     "execution_count": 26,
     "metadata": {},
     "output_type": "execute_result"
    },
    {
     "data": {
      "image/png": "[encoded data removed]",
      "text/plain": [
       "<Figure size 517.88x475.2 with 6 Axes>"
      ]
     },
     "metadata": {},
     "output_type": "display_data"
    }
   ],
   "source": [
    "\n",
    "\n",
    "# grid = sns.FacetGrid(train_df, col='Embarked', hue='Survived', palette={0: 'k', 1: 'w'})\n",
    "grid = sns.FacetGrid(df_train, row='Embarked', col='Survived', size=2.2, aspect=1.6)\n",
    "grid.map(sns.barplot, 'Sex', 'Fare', alpha=.5, ci=None)\n",
    "grid.add_legend()"
   ]
  },
  {
   "cell_type": "code",
   "execution_count": 27,
   "metadata": {
    "execution": {
     "iopub.execute_input": "2020-08-13T13:45:35.618508Z",
     "iopub.status.busy": "2020-08-13T13:45:35.611252Z",
     "iopub.status.idle": "2020-08-13T13:45:36.859535Z",
     "shell.execute_reply": "2020-08-13T13:45:36.860139Z"
    },
    "papermill": {
     "duration": 1.297216,
     "end_time": "2020-08-13T13:45:36.860312",
     "exception": false,
     "start_time": "2020-08-13T13:45:35.563096",
     "status": "completed"
    },
    "tags": []
   },
   "outputs": [
    {
     "data": {
      "text/plain": [
       "<seaborn.axisgrid.FacetGrid at 0x7fcb1ed4f390>"
      ]
     },
     "execution_count": 27,
     "metadata": {},
     "output_type": "execute_result"
    },
    {
     "data": {
      "image/png": "[encoded data removed]",
      "text/plain": [
       "<Figure size 517.88x475.2 with 6 Axes>"
      ]
     },
     "metadata": {},
     "output_type": "display_data"
    }
   ],
   "source": [
    "# grid = sns.FacetGrid(train_df, col='Pclass', hue='Survived', palette={0: 'k', 1: 'w'})\n",
    "grid = sns.FacetGrid(df_train, row='Pclass', col='Survived', size=2.2, aspect=1.6)\n",
    "grid.map(sns.barplot, 'Sex', 'Fare', alpha=.5, ci=None)\n",
    "grid.add_legend()"
   ]
  },
  {
   "cell_type": "code",
   "execution_count": 28,
   "metadata": {
    "execution": {
     "iopub.execute_input": "2020-08-13T13:45:36.959669Z",
     "iopub.status.busy": "2020-08-13T13:45:36.956230Z",
     "iopub.status.idle": "2020-08-13T13:45:37.282029Z",
     "shell.execute_reply": "2020-08-13T13:45:37.282662Z"
    },
    "papermill": {
     "duration": 0.37738,
     "end_time": "2020-08-13T13:45:37.282851",
     "exception": false,
     "start_time": "2020-08-13T13:45:36.905471",
     "status": "completed"
    },
    "tags": []
   },
   "outputs": [
    {
     "data": {
      "text/plain": [
       "<seaborn.axisgrid.FacetGrid at 0x7fcb1ea76ed0>"
      ]
     },
     "execution_count": 28,
     "metadata": {},
     "output_type": "execute_result"
    },
    {
     "data": {
      "image/png": "[encoded data removed]",
      "text/plain": [
       "<Figure size 427.25x360 with 1 Axes>"
      ]
     },
     "metadata": {},
     "output_type": "display_data"
    }
   ],
   "source": [
    "# Countplot \n",
    "\n",
    "sns.catplot(x =\"Sex\", hue =\"Survived\", kind =\"count\", data = df_train) "
   ]
  },
  {
   "cell_type": "markdown",
   "execution_count": null,
   "metadata": {
    "papermill": {
     "duration": 0.047369,
     "end_time": "2020-08-13T13:45:37.377732",
     "exception": false,
     "start_time": "2020-08-13T13:45:37.330363",
     "status": "completed"
    },
    "tags": []
   },
   "source": [
    "After observing the above graph, we can say that women were more likely to survived than men as they have high rate of survival than man. Hence, in determining whether a passenger will survive or not, gender(male or female) plays an important role."
   ]
  },
  {
   "cell_type": "code",
   "execution_count": 29,
   "metadata": {
    "execution": {
     "iopub.execute_input": "2020-08-13T13:45:37.488666Z",
     "iopub.status.busy": "2020-08-13T13:45:37.482801Z",
     "iopub.status.idle": "2020-08-13T13:45:37.868249Z",
     "shell.execute_reply": "2020-08-13T13:45:37.868718Z"
    },
    "papermill": {
     "duration": 0.441093,
     "end_time": "2020-08-13T13:45:37.868937",
     "exception": false,
     "start_time": "2020-08-13T13:45:37.427844",
     "status": "completed"
    },
    "tags": []
   },
   "outputs": [
    {
     "data": {
      "text/plain": [
       "<seaborn.axisgrid.FacetGrid at 0x7fcb1ea3bc50>"
      ]
     },
     "execution_count": 29,
     "metadata": {},
     "output_type": "execute_result"
    },
    {
     "data": {
      "image/png": "[encoded data removed]",
      "text/plain": [
       "<Figure size 427.25x360 with 1 Axes>"
      ]
     },
     "metadata": {},
     "output_type": "display_data"
    }
   ],
   "source": [
    "# Countplot \n",
    "\n",
    "sns.catplot(x =\"Embarked\", hue =\"Survived\", kind =\"count\", data = df_train) "
   ]
  },
  {
   "cell_type": "code",
   "execution_count": 30,
   "metadata": {
    "execution": {
     "iopub.execute_input": "2020-08-13T13:45:37.976700Z",
     "iopub.status.busy": "2020-08-13T13:45:37.975663Z",
     "iopub.status.idle": "2020-08-13T13:45:38.336056Z",
     "shell.execute_reply": "2020-08-13T13:45:38.336591Z"
    },
    "papermill": {
     "duration": 0.419581,
     "end_time": "2020-08-13T13:45:38.336746",
     "exception": false,
     "start_time": "2020-08-13T13:45:37.917165",
     "status": "completed"
    },
    "tags": []
   },
   "outputs": [
    {
     "data": {
      "text/plain": [
       "<seaborn.axisgrid.FacetGrid at 0x7fcb1e956ad0>"
      ]
     },
     "execution_count": 30,
     "metadata": {},
     "output_type": "execute_result"
    },
    {
     "data": {
      "image/png": "[encoded data removed]",
      "text/plain": [
       "<Figure size 427.25x360 with 1 Axes>"
      ]
     },
     "metadata": {},
     "output_type": "display_data"
    }
   ],
   "source": [
    "# Countplot \n",
    "\n",
    "sns.catplot(x =\"Pclass\", hue =\"Survived\", kind =\"count\", data = df_train) "
   ]
  },
  {
   "cell_type": "code",
   "execution_count": 31,
   "metadata": {
    "execution": {
     "iopub.execute_input": "2020-08-13T13:45:38.442627Z",
     "iopub.status.busy": "2020-08-13T13:45:38.441453Z",
     "iopub.status.idle": "2020-08-13T13:45:38.905128Z",
     "shell.execute_reply": "2020-08-13T13:45:38.904473Z"
    },
    "papermill": {
     "duration": 0.518737,
     "end_time": "2020-08-13T13:45:38.905262",
     "exception": false,
     "start_time": "2020-08-13T13:45:38.386525",
     "status": "completed"
    },
    "tags": []
   },
   "outputs": [
    {
     "data": {
      "text/plain": [
       "<seaborn.axisgrid.FacetGrid at 0x7fcb1e9506d0>"
      ]
     },
     "execution_count": 31,
     "metadata": {},
     "output_type": "execute_result"
    },
    {
     "data": {
      "image/png": "[encoded data removed]",
      "text/plain": [
       "<Figure size 427.25x360 with 1 Axes>"
      ]
     },
     "metadata": {},
     "output_type": "display_data"
    }
   ],
   "source": [
    "# Countplot \n",
    "\n",
    "sns.catplot(x =\"SibSp\", hue =\"Survived\", kind =\"count\", data = df_train) "
   ]
  },
  {
   "cell_type": "code",
   "execution_count": 32,
   "metadata": {
    "execution": {
     "iopub.execute_input": "2020-08-13T13:45:39.017969Z",
     "iopub.status.busy": "2020-08-13T13:45:39.010257Z",
     "iopub.status.idle": "2020-08-13T13:45:39.453565Z",
     "shell.execute_reply": "2020-08-13T13:45:39.454160Z"
    },
    "papermill": {
     "duration": 0.49891,
     "end_time": "2020-08-13T13:45:39.454322",
     "exception": false,
     "start_time": "2020-08-13T13:45:38.955412",
     "status": "completed"
    },
    "tags": []
   },
   "outputs": [
    {
     "data": {
      "text/plain": [
       "<seaborn.axisgrid.FacetGrid at 0x7fcb1e86fe10>"
      ]
     },
     "execution_count": 32,
     "metadata": {},
     "output_type": "execute_result"
    },
    {
     "data": {
      "image/png": "[encoded data removed]",
      "text/plain": [
       "<Figure size 427.25x360 with 1 Axes>"
      ]
     },
     "metadata": {},
     "output_type": "display_data"
    }
   ],
   "source": [
    "# Countplot \n",
    "\n",
    "sns.catplot(x =\"Parch\", hue =\"Survived\", kind =\"count\", data = df_train) \n",
    "\n"
   ]
  },
  {
   "cell_type": "code",
   "execution_count": 33,
   "metadata": {
    "execution": {
     "iopub.execute_input": "2020-08-13T13:45:39.609653Z",
     "iopub.status.busy": "2020-08-13T13:45:39.608572Z",
     "iopub.status.idle": "2020-08-13T13:45:39.942971Z",
     "shell.execute_reply": "2020-08-13T13:45:39.944270Z"
    },
    "papermill": {
     "duration": 0.427907,
     "end_time": "2020-08-13T13:45:39.944509",
     "exception": false,
     "start_time": "2020-08-13T13:45:39.516602",
     "status": "completed"
    },
    "tags": []
   },
   "outputs": [
    {
     "data": {
      "text/plain": [
       "<matplotlib.axes._subplots.AxesSubplot at 0x7fcb1e7d3ed0>"
      ]
     },
     "execution_count": 33,
     "metadata": {},
     "output_type": "execute_result"
    },
    {
     "data": {
      "image/png": "[encoded data removed]",
      "text/plain": [
       "<Figure size 720x504 with 1 Axes>"
      ]
     },
     "metadata": {},
     "output_type": "display_data"
    }
   ],
   "source": [
    "plt.figure(figsize=(10,7))\n",
    "sns.boxplot(x='Pclass',y='Age',data=df_train)\n"
   ]
  },
  {
   "cell_type": "code",
   "execution_count": 34,
   "metadata": {
    "execution": {
     "iopub.execute_input": "2020-08-13T13:45:40.121086Z",
     "iopub.status.busy": "2020-08-13T13:45:40.120060Z",
     "iopub.status.idle": "2020-08-13T13:45:40.381037Z",
     "shell.execute_reply": "2020-08-13T13:45:40.381684Z"
    },
    "papermill": {
     "duration": 0.352316,
     "end_time": "2020-08-13T13:45:40.381926",
     "exception": false,
     "start_time": "2020-08-13T13:45:40.029610",
     "status": "completed"
    },
    "tags": []
   },
   "outputs": [
    {
     "data": {
      "text/plain": [
       "<matplotlib.axes._subplots.AxesSubplot at 0x7fcb1e713450>"
      ]
     },
     "execution_count": 34,
     "metadata": {},
     "output_type": "execute_result"
    },
    {
     "data": {
      "image/png": "[encoded data removed]",
      "text/plain": [
       "<Figure size 720x432 with 1 Axes>"
      ]
     },
     "metadata": {},
     "output_type": "display_data"
    }
   ],
   "source": [
    "plt.figure(figsize=(10,6))\n",
    "sns.boxplot(x='Pclass',y='Fare',data=df_train)\n"
   ]
  },
  {
   "cell_type": "code",
   "execution_count": 35,
   "metadata": {
    "execution": {
     "iopub.execute_input": "2020-08-13T13:45:40.582737Z",
     "iopub.status.busy": "2020-08-13T13:45:40.581893Z",
     "iopub.status.idle": "2020-08-13T13:45:40.796444Z",
     "shell.execute_reply": "2020-08-13T13:45:40.795882Z"
    },
    "papermill": {
     "duration": 0.320826,
     "end_time": "2020-08-13T13:45:40.796564",
     "exception": false,
     "start_time": "2020-08-13T13:45:40.475738",
     "status": "completed"
    },
    "tags": []
   },
   "outputs": [
    {
     "data": {
      "text/plain": [
       "<matplotlib.axes._subplots.AxesSubplot at 0x7fcb1e638850>"
      ]
     },
     "execution_count": 35,
     "metadata": {},
     "output_type": "execute_result"
    },
    {
     "data": {
      "image/png": "[encoded data removed]",
      "text/plain": [
       "<Figure size 720x504 with 1 Axes>"
      ]
     },
     "metadata": {},
     "output_type": "display_data"
    }
   ],
   "source": [
    "plt.figure(figsize=(10,7))\n",
    "sns.boxplot(x='Survived',y='Fare',data=df_train)\n"
   ]
  },
  {
   "cell_type": "code",
   "execution_count": 36,
   "metadata": {
    "execution": {
     "iopub.execute_input": "2020-08-13T13:45:40.915650Z",
     "iopub.status.busy": "2020-08-13T13:45:40.914178Z",
     "iopub.status.idle": "2020-08-13T13:45:41.107903Z",
     "shell.execute_reply": "2020-08-13T13:45:41.108463Z"
    },
    "papermill": {
     "duration": 0.260562,
     "end_time": "2020-08-13T13:45:41.108617",
     "exception": false,
     "start_time": "2020-08-13T13:45:40.848055",
     "status": "completed"
    },
    "tags": []
   },
   "outputs": [
    {
     "data": {
      "text/plain": [
       "<matplotlib.axes._subplots.AxesSubplot at 0x7fcb1e5bba50>"
      ]
     },
     "execution_count": 36,
     "metadata": {},
     "output_type": "execute_result"
    },
    {
     "data": {
      "image/png": "[encoded data removed]",
      "text/plain": [
       "<Figure size 720x504 with 1 Axes>"
      ]
     },
     "metadata": {},
     "output_type": "display_data"
    }
   ],
   "source": [
    "#Embarked\n",
    "plt.figure(figsize=(10,7))\n",
    "sns.boxplot(x='Embarked',y='Fare',data=df_train)\n"
   ]
  },
  {
   "cell_type": "code",
   "execution_count": 37,
   "metadata": {
    "execution": {
     "iopub.execute_input": "2020-08-13T13:45:41.216241Z",
     "iopub.status.busy": "2020-08-13T13:45:41.215347Z",
     "iopub.status.idle": "2020-08-13T13:45:41.442848Z",
     "shell.execute_reply": "2020-08-13T13:45:41.443449Z"
    },
    "papermill": {
     "duration": 0.28227,
     "end_time": "2020-08-13T13:45:41.443636",
     "exception": false,
     "start_time": "2020-08-13T13:45:41.161366",
     "status": "completed"
    },
    "tags": []
   },
   "outputs": [
    {
     "data": {
      "text/plain": [
       "<matplotlib.axes._subplots.AxesSubplot at 0x7fcb1e4c5950>"
      ]
     },
     "execution_count": 37,
     "metadata": {},
     "output_type": "execute_result"
    },
    {
     "data": {
      "image/png": "[encoded data removed]",
      "text/plain": [
       "<Figure size 432x288 with 2 Axes>"
      ]
     },
     "metadata": {},
     "output_type": "display_data"
    }
   ],
   "source": [
    "group = df_train.groupby(['Pclass', 'Survived']) \n",
    "pclass_survived = group.size().unstack() \n",
    "  \n",
    "sns.heatmap(pclass_survived, annot = True, fmt =\"d\") "
   ]
  },
  {
   "cell_type": "code",
   "execution_count": 38,
   "metadata": {
    "execution": {
     "iopub.execute_input": "2020-08-13T13:45:41.563371Z",
     "iopub.status.busy": "2020-08-13T13:45:41.562286Z",
     "iopub.status.idle": "2020-08-13T13:45:41.953301Z",
     "shell.execute_reply": "2020-08-13T13:45:41.953975Z"
    },
    "papermill": {
     "duration": 0.457003,
     "end_time": "2020-08-13T13:45:41.954135",
     "exception": false,
     "start_time": "2020-08-13T13:45:41.497132",
     "status": "completed"
    },
    "tags": []
   },
   "outputs": [
    {
     "data": {
      "text/plain": [
       "<matplotlib.axes._subplots.AxesSubplot at 0x7fcb1e45b190>"
      ]
     },
     "execution_count": 38,
     "metadata": {},
     "output_type": "execute_result"
    },
    {
     "data": {
      "image/png": "[encoded data removed]",
      "text/plain": [
       "<Figure size 432x288 with 2 Axes>"
      ]
     },
     "metadata": {},
     "output_type": "display_data"
    }
   ],
   "source": [
    "group = df_train.groupby(['Embarked', 'Survived']) \n",
    "pclass_survived = group.size().unstack() \n",
    "  \n",
    "sns.heatmap(pclass_survived, annot = True, fmt =\"d\") "
   ]
  },
  {
   "cell_type": "code",
   "execution_count": 39,
   "metadata": {
    "execution": {
     "iopub.execute_input": "2020-08-13T13:45:42.103400Z",
     "iopub.status.busy": "2020-08-13T13:45:42.101611Z",
     "iopub.status.idle": "2020-08-13T13:45:42.313078Z",
     "shell.execute_reply": "2020-08-13T13:45:42.313610Z"
    },
    "papermill": {
     "duration": 0.267302,
     "end_time": "2020-08-13T13:45:42.313787",
     "exception": false,
     "start_time": "2020-08-13T13:45:42.046485",
     "status": "completed"
    },
    "tags": []
   },
   "outputs": [
    {
     "data": {
      "text/plain": [
       "<matplotlib.axes._subplots.AxesSubplot at 0x7fcb24d8ba50>"
      ]
     },
     "execution_count": 39,
     "metadata": {},
     "output_type": "execute_result"
    },
    {
     "data": {
      "image/png": "[encoded data removed]",
      "text/plain": [
       "<Figure size 432x288 with 2 Axes>"
      ]
     },
     "metadata": {},
     "output_type": "display_data"
    }
   ],
   "source": [
    "group = df_train.groupby(['Sex', 'Survived']) \n",
    "pclass_survived = group.size().unstack() \n",
    "  \n",
    "sns.heatmap(pclass_survived, annot = True, fmt =\"d\")"
   ]
  },
  {
   "cell_type": "markdown",
   "execution_count": null,
   "metadata": {
    "papermill": {
     "duration": 0.047798,
     "end_time": "2020-08-13T13:45:42.412446",
     "exception": false,
     "start_time": "2020-08-13T13:45:42.364648",
     "status": "completed"
    },
    "tags": []
   },
   "source": [
    "<a id=\"section-two-a\"></a>\n",
    "### 1. Missing Data\n",
    "\n",
    "We have collected several assumptions and decisions regarding our datasets and solution requirements. So far we did not have to change a single feature or value to arrive at these. Let us now execute our decisions and assumptions for correcting, creating, and completing goals.\n",
    "\n",
    "* Correcting by dropping features\n",
    "* Correcting by fill features\n"
   ]
  },
  {
   "cell_type": "code",
   "execution_count": 40,
   "metadata": {
    "execution": {
     "iopub.execute_input": "2020-08-13T13:45:42.515942Z",
     "iopub.status.busy": "2020-08-13T13:45:42.514953Z",
     "iopub.status.idle": "2020-08-13T13:45:42.532990Z",
     "shell.execute_reply": "2020-08-13T13:45:42.532395Z"
    },
    "papermill": {
     "duration": 0.073722,
     "end_time": "2020-08-13T13:45:42.533110",
     "exception": false,
     "start_time": "2020-08-13T13:45:42.459388",
     "status": "completed"
    },
    "tags": []
   },
   "outputs": [
    {
     "data": {
      "text/html": [
       "<div>\n",
       "<style scoped>\n",
       "    .dataframe tbody tr th:only-of-type {\n",
       "        vertical-align: middle;\n",
       "    }\n",
       "\n",
       "    .dataframe tbody tr th {\n",
       "        vertical-align: top;\n",
       "    }\n",
       "\n",
       "    .dataframe thead th {\n",
       "        text-align: right;\n",
       "    }\n",
       "</style>\n",
       "<table border=\"1\" class=\"dataframe\">\n",
       "  <thead>\n",
       "    <tr style=\"text-align: right;\">\n",
       "      <th></th>\n",
       "      <th>Total</th>\n",
       "      <th>Percent</th>\n",
       "    </tr>\n",
       "  </thead>\n",
       "  <tbody>\n",
       "    <tr>\n",
       "      <th>Cabin</th>\n",
       "      <td>687</td>\n",
       "      <td>0.771044</td>\n",
       "    </tr>\n",
       "    <tr>\n",
       "      <th>Age</th>\n",
       "      <td>177</td>\n",
       "      <td>0.198653</td>\n",
       "    </tr>\n",
       "    <tr>\n",
       "      <th>Embarked</th>\n",
       "      <td>2</td>\n",
       "      <td>0.002245</td>\n",
       "    </tr>\n",
       "    <tr>\n",
       "      <th>Fare</th>\n",
       "      <td>0</td>\n",
       "      <td>0.000000</td>\n",
       "    </tr>\n",
       "    <tr>\n",
       "      <th>Ticket</th>\n",
       "      <td>0</td>\n",
       "      <td>0.000000</td>\n",
       "    </tr>\n",
       "    <tr>\n",
       "      <th>Parch</th>\n",
       "      <td>0</td>\n",
       "      <td>0.000000</td>\n",
       "    </tr>\n",
       "    <tr>\n",
       "      <th>SibSp</th>\n",
       "      <td>0</td>\n",
       "      <td>0.000000</td>\n",
       "    </tr>\n",
       "    <tr>\n",
       "      <th>Sex</th>\n",
       "      <td>0</td>\n",
       "      <td>0.000000</td>\n",
       "    </tr>\n",
       "    <tr>\n",
       "      <th>Name</th>\n",
       "      <td>0</td>\n",
       "      <td>0.000000</td>\n",
       "    </tr>\n",
       "    <tr>\n",
       "      <th>Pclass</th>\n",
       "      <td>0</td>\n",
       "      <td>0.000000</td>\n",
       "    </tr>\n",
       "    <tr>\n",
       "      <th>Survived</th>\n",
       "      <td>0</td>\n",
       "      <td>0.000000</td>\n",
       "    </tr>\n",
       "    <tr>\n",
       "      <th>PassengerId</th>\n",
       "      <td>0</td>\n",
       "      <td>0.000000</td>\n",
       "    </tr>\n",
       "  </tbody>\n",
       "</table>\n",
       "</div>"
      ],
      "text/plain": [
       "             Total   Percent\n",
       "Cabin          687  0.771044\n",
       "Age            177  0.198653\n",
       "Embarked         2  0.002245\n",
       "Fare             0  0.000000\n",
       "Ticket           0  0.000000\n",
       "Parch            0  0.000000\n",
       "SibSp            0  0.000000\n",
       "Sex              0  0.000000\n",
       "Name             0  0.000000\n",
       "Pclass           0  0.000000\n",
       "Survived         0  0.000000\n",
       "PassengerId      0  0.000000"
      ]
     },
     "execution_count": 40,
     "metadata": {},
     "output_type": "execute_result"
    }
   ],
   "source": [
    "#missing data in Traing examples\n",
    "total = df_train.isnull().sum().sort_values(ascending=False)\n",
    "percent = (df_train.isnull().sum()/df_train.isnull().count()).sort_values(ascending=False)\n",
    "missing_data = pd.concat([total, percent], axis=1, keys=['Total', 'Percent'])\n",
    "\n",
    "missing_data.head(12)\n"
   ]
  },
  {
   "cell_type": "markdown",
   "execution_count": null,
   "metadata": {
    "papermill": {
     "duration": 0.053715,
     "end_time": "2020-08-13T13:45:42.640198",
     "exception": false,
     "start_time": "2020-08-13T13:45:42.586483",
     "status": "completed"
    },
    "tags": []
   },
   "source": [
    "before the cleaning data we combine training and test data in order to remain keep the same structure\n",
    "\n",
    "\n",
    "Clean and Edit Dataframes We must combine train and test datasets. Because This processes are must be carried out together"
   ]
  },
  {
   "cell_type": "code",
   "execution_count": 41,
   "metadata": {
    "execution": {
     "iopub.execute_input": "2020-08-13T13:45:42.755299Z",
     "iopub.status.busy": "2020-08-13T13:45:42.754416Z",
     "iopub.status.idle": "2020-08-13T13:45:42.758849Z",
     "shell.execute_reply": "2020-08-13T13:45:42.759341Z"
    },
    "papermill": {
     "duration": 0.064708,
     "end_time": "2020-08-13T13:45:42.759491",
     "exception": false,
     "start_time": "2020-08-13T13:45:42.694783",
     "status": "completed"
    },
    "tags": []
   },
   "outputs": [
    {
     "name": "stdout",
     "output_type": "stream",
     "text": [
      "(891, 12)\n",
      "(418, 11)\n"
     ]
    }
   ],
   "source": [
    "print(df_train.shape)\n",
    "print(df_test.shape)"
   ]
  },
  {
   "cell_type": "code",
   "execution_count": 42,
   "metadata": {
    "execution": {
     "iopub.execute_input": "2020-08-13T13:45:42.877915Z",
     "iopub.status.busy": "2020-08-13T13:45:42.876916Z",
     "iopub.status.idle": "2020-08-13T13:45:42.886072Z",
     "shell.execute_reply": "2020-08-13T13:45:42.886882Z"
    },
    "papermill": {
     "duration": 0.075149,
     "end_time": "2020-08-13T13:45:42.887075",
     "exception": false,
     "start_time": "2020-08-13T13:45:42.811926",
     "status": "completed"
    },
    "tags": []
   },
   "outputs": [
    {
     "name": "stdout",
     "output_type": "stream",
     "text": [
      "Total size for train and test sets is : (1309, 10)\n"
     ]
    }
   ],
   "source": [
    "na = df_train.shape[0] #na is the number of rows of the original training set\n",
    "nb = df_test.shape[0]  #nb is the number of rows of the original test set\n",
    "y_target = df_train['Survived'].to_frame()\n",
    "#Combine train and test sets\n",
    "c1 = pd.concat((df_train, df_test), sort=False).reset_index(drop=True)\n",
    "#Drop the target \"Survived\" and Id columns\n",
    "c1.drop(['Survived'], axis=1, inplace=True)\n",
    "c1.drop(['PassengerId'], axis=1, inplace=True)\n",
    "print(\"Total size for train and test sets is :\",c1.shape)"
   ]
  },
  {
   "cell_type": "code",
   "execution_count": 43,
   "metadata": {
    "execution": {
     "iopub.execute_input": "2020-08-13T13:45:43.002085Z",
     "iopub.status.busy": "2020-08-13T13:45:43.001097Z",
     "iopub.status.idle": "2020-08-13T13:45:43.015442Z",
     "shell.execute_reply": "2020-08-13T13:45:43.014899Z"
    },
    "papermill": {
     "duration": 0.075328,
     "end_time": "2020-08-13T13:45:43.015596",
     "exception": false,
     "start_time": "2020-08-13T13:45:42.940268",
     "status": "completed"
    },
    "tags": []
   },
   "outputs": [],
   "source": [
    "##msv1 method to visualize missing values per columns\n",
    "def msv1(data, thresh=20, color='black', edgecolor='black', width=15, height=3): \n",
    "    \"\"\"\n",
    "    SOURCE: https://www.kaggle.com/amiiiney/price-prediction-regularization-stacking\n",
    "    \"\"\"\n",
    "    \n",
    "    plt.figure(figsize=(width,height))\n",
    "    percentage=(data.isnull().mean())*100\n",
    "    percentage.sort_values(ascending=False).plot.bar(color=color, edgecolor=edgecolor)\n",
    "    plt.axhline(y=thresh, color='r', linestyle='-')\n",
    "    plt.title('Missing values percentage per column', fontsize=20, weight='bold' )\n",
    "    plt.text(len(data.isnull().sum()/len(data))/1.7, thresh+12.5, 'Columns with more than %s%s missing values' %(thresh, '%'), fontsize=12, color='crimson',\n",
    "         ha='left' ,va='top')\n",
    "    plt.text(len(data.isnull().sum()/len(data))/1.7, thresh - 5, 'Columns with less than %s%s missing values' %(thresh, '%'), fontsize=12, color='green',\n",
    "         ha='left' ,va='top')\n",
    "    plt.xlabel('Columns', size=15, weight='bold')\n",
    "    plt.ylabel('Missing values percentage')\n",
    "    plt.yticks(weight ='bold')\n",
    "    \n",
    "    return plt.show()"
   ]
  },
  {
   "cell_type": "code",
   "execution_count": 44,
   "metadata": {
    "execution": {
     "iopub.execute_input": "2020-08-13T13:45:43.148781Z",
     "iopub.status.busy": "2020-08-13T13:45:43.142994Z",
     "iopub.status.idle": "2020-08-13T13:45:43.152915Z",
     "shell.execute_reply": "2020-08-13T13:45:43.153473Z"
    },
    "papermill": {
     "duration": 0.088904,
     "end_time": "2020-08-13T13:45:43.153636",
     "exception": false,
     "start_time": "2020-08-13T13:45:43.064732",
     "status": "completed"
    },
    "tags": []
   },
   "outputs": [
    {
     "data": {
      "text/html": [
       "<div>\n",
       "<style scoped>\n",
       "    .dataframe tbody tr th:only-of-type {\n",
       "        vertical-align: middle;\n",
       "    }\n",
       "\n",
       "    .dataframe tbody tr th {\n",
       "        vertical-align: top;\n",
       "    }\n",
       "\n",
       "    .dataframe thead th {\n",
       "        text-align: right;\n",
       "    }\n",
       "</style>\n",
       "<table border=\"1\" class=\"dataframe\">\n",
       "  <thead>\n",
       "    <tr style=\"text-align: right;\">\n",
       "      <th></th>\n",
       "      <th>Total</th>\n",
       "      <th>Percent</th>\n",
       "    </tr>\n",
       "  </thead>\n",
       "  <tbody>\n",
       "    <tr>\n",
       "      <th>Cabin</th>\n",
       "      <td>1014</td>\n",
       "      <td>0.774637</td>\n",
       "    </tr>\n",
       "    <tr>\n",
       "      <th>Age</th>\n",
       "      <td>263</td>\n",
       "      <td>0.200917</td>\n",
       "    </tr>\n",
       "    <tr>\n",
       "      <th>Embarked</th>\n",
       "      <td>2</td>\n",
       "      <td>0.001528</td>\n",
       "    </tr>\n",
       "    <tr>\n",
       "      <th>Fare</th>\n",
       "      <td>1</td>\n",
       "      <td>0.000764</td>\n",
       "    </tr>\n",
       "    <tr>\n",
       "      <th>Ticket</th>\n",
       "      <td>0</td>\n",
       "      <td>0.000000</td>\n",
       "    </tr>\n",
       "    <tr>\n",
       "      <th>Parch</th>\n",
       "      <td>0</td>\n",
       "      <td>0.000000</td>\n",
       "    </tr>\n",
       "    <tr>\n",
       "      <th>SibSp</th>\n",
       "      <td>0</td>\n",
       "      <td>0.000000</td>\n",
       "    </tr>\n",
       "    <tr>\n",
       "      <th>Sex</th>\n",
       "      <td>0</td>\n",
       "      <td>0.000000</td>\n",
       "    </tr>\n",
       "    <tr>\n",
       "      <th>Name</th>\n",
       "      <td>0</td>\n",
       "      <td>0.000000</td>\n",
       "    </tr>\n",
       "    <tr>\n",
       "      <th>Pclass</th>\n",
       "      <td>0</td>\n",
       "      <td>0.000000</td>\n",
       "    </tr>\n",
       "  </tbody>\n",
       "</table>\n",
       "</div>"
      ],
      "text/plain": [
       "          Total   Percent\n",
       "Cabin      1014  0.774637\n",
       "Age         263  0.200917\n",
       "Embarked      2  0.001528\n",
       "Fare          1  0.000764\n",
       "Ticket        0  0.000000\n",
       "Parch         0  0.000000\n",
       "SibSp         0  0.000000\n",
       "Sex           0  0.000000\n",
       "Name          0  0.000000\n",
       "Pclass        0  0.000000"
      ]
     },
     "execution_count": 44,
     "metadata": {},
     "output_type": "execute_result"
    }
   ],
   "source": [
    "#missing data in Traing examples and test set \n",
    "total = c1.isnull().sum().sort_values(ascending=False)\n",
    "percent = (c1.isnull().sum()/c1.isnull().count()).sort_values(ascending=False)\n",
    "missing_data = pd.concat([total, percent], axis=1, keys=['Total', 'Percent'])\n",
    "\n",
    "missing_data.head(12)"
   ]
  },
  {
   "cell_type": "code",
   "execution_count": 45,
   "metadata": {
    "execution": {
     "iopub.execute_input": "2020-08-13T13:45:43.265222Z",
     "iopub.status.busy": "2020-08-13T13:45:43.264245Z",
     "iopub.status.idle": "2020-08-13T13:45:43.554196Z",
     "shell.execute_reply": "2020-08-13T13:45:43.554744Z"
    },
    "papermill": {
     "duration": 0.348948,
     "end_time": "2020-08-13T13:45:43.554932",
     "exception": false,
     "start_time": "2020-08-13T13:45:43.205984",
     "status": "completed"
    },
    "tags": []
   },
   "outputs": [
    {
     "data": {
      "image/png": "[encoded data removed]",
      "text/plain": [
       "<Figure size 1080x216 with 1 Axes>"
      ]
     },
     "metadata": {},
     "output_type": "display_data"
    }
   ],
   "source": [
    "#call method msv1 to visualization missing value per columns \n",
    "msv1(c1, 77, color=('silver', 'gold', 'lightgreen', 'skyblue', 'lightpink'))"
   ]
  },
  {
   "cell_type": "markdown",
   "execution_count": null,
   "metadata": {
    "papermill": {
     "duration": 0.048652,
     "end_time": "2020-08-13T13:45:43.654289",
     "exception": false,
     "start_time": "2020-08-13T13:45:43.605637",
     "status": "completed"
    },
    "tags": []
   },
   "source": [
    "* But before going any further, we start by cleaning the data from missing values. I set the threshold to 21% (red line), all columns with more than 21% missing values will be dropped.\n",
    "\n",
    "* First thing to do is get rid of the features with more than 21 % missing values (figure above). For example the Cabine's missing values ,. But replacing those (more than 21%) missing values with \"no Cabine\" will leave us with a feature with low variance, and low variance features are uniformative for machine learning models. So we drop the features with more than 21 % missing values.\n",
    "\n",
    "* Features with >21 % missing values , we will drop"
   ]
  },
  {
   "cell_type": "code",
   "execution_count": 46,
   "metadata": {
    "execution": {
     "iopub.execute_input": "2020-08-13T13:45:43.761247Z",
     "iopub.status.busy": "2020-08-13T13:45:43.760263Z",
     "iopub.status.idle": "2020-08-13T13:45:43.764858Z",
     "shell.execute_reply": "2020-08-13T13:45:43.765436Z"
    },
    "papermill": {
     "duration": 0.064111,
     "end_time": "2020-08-13T13:45:43.765602",
     "exception": false,
     "start_time": "2020-08-13T13:45:43.701491",
     "status": "completed"
    },
    "tags": []
   },
   "outputs": [
    {
     "name": "stdout",
     "output_type": "stream",
     "text": [
      "We dropped  0  features in the combined set\n"
     ]
    }
   ],
   "source": [
    "# drop columns (features ) with > 79% missing vales\n",
    "c=c1.dropna(thresh=len(c1)*0.15, axis=1)\n",
    "print('We dropped ',c1.shape[1]-c.shape[1], ' features in the combined set')"
   ]
  },
  {
   "cell_type": "code",
   "execution_count": 47,
   "metadata": {
    "execution": {
     "iopub.execute_input": "2020-08-13T13:45:43.867749Z",
     "iopub.status.busy": "2020-08-13T13:45:43.867022Z",
     "iopub.status.idle": "2020-08-13T13:45:43.871794Z",
     "shell.execute_reply": "2020-08-13T13:45:43.872493Z"
    },
    "papermill": {
     "duration": 0.058633,
     "end_time": "2020-08-13T13:45:43.872664",
     "exception": false,
     "start_time": "2020-08-13T13:45:43.814031",
     "status": "completed"
    },
    "tags": []
   },
   "outputs": [
    {
     "name": "stdout",
     "output_type": "stream",
     "text": [
      "The shape of the combined dataset after dropping features with more than 21% M.V. (1309, 10)\n"
     ]
    }
   ],
   "source": [
    "print('The shape of the combined dataset after dropping features with more than 21% M.V.', c.shape)"
   ]
  },
  {
   "cell_type": "markdown",
   "execution_count": null,
   "metadata": {
    "papermill": {
     "duration": 0.047912,
     "end_time": "2020-08-13T13:45:43.969370",
     "exception": false,
     "start_time": "2020-08-13T13:45:43.921458",
     "status": "completed"
    },
    "tags": []
   },
   "source": [
    "### Now what do we do in combine data that contains less than 21% missing values"
   ]
  },
  {
   "cell_type": "code",
   "execution_count": 48,
   "metadata": {
    "execution": {
     "iopub.execute_input": "2020-08-13T13:45:44.092304Z",
     "iopub.status.busy": "2020-08-13T13:45:44.091360Z",
     "iopub.status.idle": "2020-08-13T13:45:44.096219Z",
     "shell.execute_reply": "2020-08-13T13:45:44.095614Z"
    },
    "papermill": {
     "duration": 0.074609,
     "end_time": "2020-08-13T13:45:44.096339",
     "exception": false,
     "start_time": "2020-08-13T13:45:44.021730",
     "status": "completed"
    },
    "tags": []
   },
   "outputs": [],
   "source": [
    "allna = (c.isnull().sum() / len(c))*100\n",
    "allna = allna.drop(allna[allna == 0].index).sort_values()\n",
    "\n",
    "\n",
    "##msv2 method to visualize missing values per columns less than threshold \n",
    "def msv2(data, width=12, height=8, color=('silver', 'gold','lightgreen','skyblue','lightpink'), edgecolor='black'):\n",
    "    \"\"\"\n",
    "    SOURCE: https://www.kaggle.com/amiiiney/price-prediction-regularization-stacking\n",
    "    \"\"\"\n",
    "    fig, ax = plt.subplots(figsize=(width, height))\n",
    "\n",
    "    allna = (data.isnull().sum() / len(data))*100\n",
    "    tightout= 0.008*max(allna)\n",
    "    allna = allna.drop(allna[allna == 0].index).sort_values().reset_index()\n",
    "    mn= ax.barh(allna.iloc[:,0], allna.iloc[:,1], color=color, edgecolor=edgecolor)\n",
    "    ax.set_title('Missing values percentage per column', fontsize=15, weight='bold' )\n",
    "    ax.set_xlabel('Percentage', weight='bold', size=15)\n",
    "    ax.set_ylabel('Features with missing values', weight='bold')\n",
    "    plt.yticks(weight='bold')\n",
    "    plt.xticks(weight='bold')\n",
    "    for i in ax.patches:\n",
    "        ax.text(i.get_width()+ tightout, i.get_y()+0.1, str(round((i.get_width()), 2))+'%',\n",
    "            fontsize=10, fontweight='bold', color='grey')\n",
    "    return plt.show()"
   ]
  },
  {
   "cell_type": "markdown",
   "execution_count": null,
   "metadata": {
    "papermill": {
     "duration": 0.048002,
     "end_time": "2020-08-13T13:45:44.195879",
     "exception": false,
     "start_time": "2020-08-13T13:45:44.147877",
     "status": "completed"
    },
    "tags": []
   },
   "source": [
    "### Missing values percentage per column with less than 21 %"
   ]
  },
  {
   "cell_type": "code",
   "execution_count": 49,
   "metadata": {
    "execution": {
     "iopub.execute_input": "2020-08-13T13:45:44.303078Z",
     "iopub.status.busy": "2020-08-13T13:45:44.297417Z",
     "iopub.status.idle": "2020-08-13T13:45:44.623419Z",
     "shell.execute_reply": "2020-08-13T13:45:44.623914Z"
    },
    "papermill": {
     "duration": 0.380287,
     "end_time": "2020-08-13T13:45:44.624064",
     "exception": false,
     "start_time": "2020-08-13T13:45:44.243777",
     "status": "completed"
    },
    "tags": []
   },
   "outputs": [
    {
     "data": {
      "image/png": "[encoded data removed]",
      "text/plain": [
       "<Figure size 864x576 with 1 Axes>"
      ]
     },
     "metadata": {},
     "output_type": "display_data"
    }
   ],
   "source": [
    "#call method msv2 to visualization missing value per columns less than threshold\n",
    "msv2(c)"
   ]
  },
  {
   "cell_type": "markdown",
   "execution_count": null,
   "metadata": {
    "papermill": {
     "duration": 0.04823,
     "end_time": "2020-08-13T13:45:44.721120",
     "exception": false,
     "start_time": "2020-08-13T13:45:44.672890",
     "status": "completed"
    },
    "tags": []
   },
   "source": [
    "Before compelete cleaning the data, we zoom at the features with missing values, those missing values won't be treated equally. Some features have barely 1 or 2 missing values, we will use thesome methods to fill them."
   ]
  },
  {
   "cell_type": "markdown",
   "execution_count": null,
   "metadata": {
    "papermill": {
     "duration": 0.049006,
     "end_time": "2020-08-13T13:45:44.818308",
     "exception": false,
     "start_time": "2020-08-13T13:45:44.769302",
     "status": "completed"
    },
    "tags": []
   },
   "source": [
    "### We isolate the missing values from the rest of the dataset to have a good idea of how to treat them"
   ]
  },
  {
   "cell_type": "code",
   "execution_count": 50,
   "metadata": {
    "execution": {
     "iopub.execute_input": "2020-08-13T13:45:44.920711Z",
     "iopub.status.busy": "2020-08-13T13:45:44.919716Z",
     "iopub.status.idle": "2020-08-13T13:45:44.922399Z",
     "shell.execute_reply": "2020-08-13T13:45:44.922863Z"
    },
    "papermill": {
     "duration": 0.057154,
     "end_time": "2020-08-13T13:45:44.923005",
     "exception": false,
     "start_time": "2020-08-13T13:45:44.865851",
     "status": "completed"
    },
    "tags": []
   },
   "outputs": [],
   "source": [
    "NA=c[allna.index.to_list()]"
   ]
  },
  {
   "cell_type": "markdown",
   "execution_count": null,
   "metadata": {
    "papermill": {
     "duration": 0.054164,
     "end_time": "2020-08-13T13:45:45.028330",
     "exception": false,
     "start_time": "2020-08-13T13:45:44.974166",
     "status": "completed"
    },
    "tags": []
   },
   "source": [
    "### We split them to:\n",
    "\n",
    "* Categorical features\n",
    "* Numerical features"
   ]
  },
  {
   "cell_type": "code",
   "execution_count": 51,
   "metadata": {
    "execution": {
     "iopub.execute_input": "2020-08-13T13:45:45.142768Z",
     "iopub.status.busy": "2020-08-13T13:45:45.141870Z",
     "iopub.status.idle": "2020-08-13T13:45:45.146760Z",
     "shell.execute_reply": "2020-08-13T13:45:45.147418Z"
    },
    "papermill": {
     "duration": 0.068442,
     "end_time": "2020-08-13T13:45:45.147587",
     "exception": false,
     "start_time": "2020-08-13T13:45:45.079145",
     "status": "completed"
    },
    "tags": []
   },
   "outputs": [
    {
     "name": "stdout",
     "output_type": "stream",
     "text": [
      "We have : 2 categorical features with missing values\n",
      "We have : 2 numerical features with missing values\n"
     ]
    }
   ],
   "source": [
    "NAcat=NA.select_dtypes(include='object')\n",
    "NAnum=NA.select_dtypes(exclude='object')\n",
    "print('We have :',NAcat.shape[1],'categorical features with missing values')\n",
    "print('We have :',NAnum.shape[1],'numerical features with missing values')"
   ]
  },
  {
   "cell_type": "markdown",
   "execution_count": null,
   "metadata": {
    "papermill": {
     "duration": 0.048332,
     "end_time": "2020-08-13T13:45:45.244096",
     "exception": false,
     "start_time": "2020-08-13T13:45:45.195764",
     "status": "completed"
    },
    "tags": []
   },
   "source": [
    "### * Numerical features:"
   ]
  },
  {
   "cell_type": "code",
   "execution_count": 52,
   "metadata": {
    "execution": {
     "iopub.execute_input": "2020-08-13T13:45:45.358419Z",
     "iopub.status.busy": "2020-08-13T13:45:45.356985Z",
     "iopub.status.idle": "2020-08-13T13:45:45.360925Z",
     "shell.execute_reply": "2020-08-13T13:45:45.361474Z"
    },
    "papermill": {
     "duration": 0.067361,
     "end_time": "2020-08-13T13:45:45.361609",
     "exception": false,
     "start_time": "2020-08-13T13:45:45.294248",
     "status": "completed"
    },
    "tags": []
   },
   "outputs": [
    {
     "data": {
      "text/html": [
       "<div>\n",
       "<style scoped>\n",
       "    .dataframe tbody tr th:only-of-type {\n",
       "        vertical-align: middle;\n",
       "    }\n",
       "\n",
       "    .dataframe tbody tr th {\n",
       "        vertical-align: top;\n",
       "    }\n",
       "\n",
       "    .dataframe thead th {\n",
       "        text-align: right;\n",
       "    }\n",
       "</style>\n",
       "<table border=\"1\" class=\"dataframe\">\n",
       "  <thead>\n",
       "    <tr style=\"text-align: right;\">\n",
       "      <th></th>\n",
       "      <th>Fare</th>\n",
       "      <th>Age</th>\n",
       "    </tr>\n",
       "  </thead>\n",
       "  <tbody>\n",
       "    <tr>\n",
       "      <th>0</th>\n",
       "      <td>7.2500</td>\n",
       "      <td>22.0</td>\n",
       "    </tr>\n",
       "    <tr>\n",
       "      <th>1</th>\n",
       "      <td>71.2833</td>\n",
       "      <td>38.0</td>\n",
       "    </tr>\n",
       "    <tr>\n",
       "      <th>2</th>\n",
       "      <td>7.9250</td>\n",
       "      <td>26.0</td>\n",
       "    </tr>\n",
       "    <tr>\n",
       "      <th>3</th>\n",
       "      <td>53.1000</td>\n",
       "      <td>35.0</td>\n",
       "    </tr>\n",
       "    <tr>\n",
       "      <th>4</th>\n",
       "      <td>8.0500</td>\n",
       "      <td>35.0</td>\n",
       "    </tr>\n",
       "  </tbody>\n",
       "</table>\n",
       "</div>"
      ],
      "text/plain": [
       "      Fare   Age\n",
       "0   7.2500  22.0\n",
       "1  71.2833  38.0\n",
       "2   7.9250  26.0\n",
       "3  53.1000  35.0\n",
       "4   8.0500  35.0"
      ]
     },
     "execution_count": 52,
     "metadata": {},
     "output_type": "execute_result"
    }
   ],
   "source": [
    "NAnum.head()"
   ]
  },
  {
   "cell_type": "code",
   "execution_count": 53,
   "metadata": {
    "execution": {
     "iopub.execute_input": "2020-08-13T13:45:45.486297Z",
     "iopub.status.busy": "2020-08-13T13:45:45.485469Z",
     "iopub.status.idle": "2020-08-13T13:45:45.490669Z",
     "shell.execute_reply": "2020-08-13T13:45:45.491158Z"
    },
    "papermill": {
     "duration": 0.074054,
     "end_time": "2020-08-13T13:45:45.491289",
     "exception": false,
     "start_time": "2020-08-13T13:45:45.417235",
     "status": "completed"
    },
    "tags": []
   },
   "outputs": [
    {
     "data": {
      "text/html": [
       "<style  type=\"text/css\" >\n",
       "    #T_49a24d32_dd6b_11ea_a76f_0242ac130202row0_col0 {\n",
       "            background-color:  #e5ffe5;\n",
       "            color:  #000000;\n",
       "        }    #T_49a24d32_dd6b_11ea_a76f_0242ac130202row0_col1 {\n",
       "            background-color:  #e5ffe5;\n",
       "            color:  #000000;\n",
       "        }</style><table id=\"T_49a24d32_dd6b_11ea_a76f_0242ac130202\" ><thead>    <tr>        <th class=\"blank level0\" ></th>        <th class=\"col_heading level0 col0\" >Fare</th>        <th class=\"col_heading level0 col1\" >Age</th>    </tr></thead><tbody>\n",
       "                <tr>\n",
       "                        <th id=\"T_49a24d32_dd6b_11ea_a76f_0242ac130202level0_row0\" class=\"row_heading level0 row0\" >0</th>\n",
       "                        <td id=\"T_49a24d32_dd6b_11ea_a76f_0242ac130202row0_col0\" class=\"data row0 col0\" >1</td>\n",
       "                        <td id=\"T_49a24d32_dd6b_11ea_a76f_0242ac130202row0_col1\" class=\"data row0 col1\" >263</td>\n",
       "            </tr>\n",
       "    </tbody></table>"
      ],
      "text/plain": [
       "<pandas.io.formats.style.Styler at 0x7fcb249dec90>"
      ]
     },
     "execution_count": 53,
     "metadata": {},
     "output_type": "execute_result"
    }
   ],
   "source": [
    "NANUM= NAnum.isnull().sum().to_frame().sort_values(by=[0]).T\n",
    "cm = sns.light_palette(\"lime\", as_cmap=True)\n",
    "\n",
    "NANUM = NANUM.style.background_gradient(cmap=cm)\n",
    "NANUM"
   ]
  },
  {
   "cell_type": "code",
   "execution_count": 54,
   "metadata": {
    "execution": {
     "iopub.execute_input": "2020-08-13T13:45:45.599525Z",
     "iopub.status.busy": "2020-08-13T13:45:45.598681Z",
     "iopub.status.idle": "2020-08-13T13:45:45.601878Z",
     "shell.execute_reply": "2020-08-13T13:45:45.602493Z"
    },
    "papermill": {
     "duration": 0.061432,
     "end_time": "2020-08-13T13:45:45.602628",
     "exception": false,
     "start_time": "2020-08-13T13:45:45.541196",
     "status": "completed"
    },
    "tags": []
   },
   "outputs": [],
   "source": [
    "#complete missing age with median\n",
    "\n",
    "c['Age']=c.Age.fillna(c.Age.median())\n",
    "\n",
    "#complete missing Fare (ticket price) with median\n",
    "\n",
    "c['Fare']=c.Age.fillna(c.Fare.median())\n"
   ]
  },
  {
   "cell_type": "code",
   "execution_count": 55,
   "metadata": {
    "execution": {
     "iopub.execute_input": "2020-08-13T13:45:45.726346Z",
     "iopub.status.busy": "2020-08-13T13:45:45.725391Z",
     "iopub.status.idle": "2020-08-13T13:45:45.733515Z",
     "shell.execute_reply": "2020-08-13T13:45:45.733022Z"
    },
    "papermill": {
     "duration": 0.076041,
     "end_time": "2020-08-13T13:45:45.733621",
     "exception": false,
     "start_time": "2020-08-13T13:45:45.657580",
     "status": "completed"
    },
    "tags": []
   },
   "outputs": [
    {
     "data": {
      "text/html": [
       "<style  type=\"text/css\" >\n",
       "    #T_49c78796_dd6b_11ea_a76f_0242ac130202row0_col0 {\n",
       "            background-color:  #e5ffe5;\n",
       "            color:  #000000;\n",
       "        }    #T_49c78796_dd6b_11ea_a76f_0242ac130202row0_col1 {\n",
       "            background-color:  #e5ffe5;\n",
       "            color:  #000000;\n",
       "        }</style><table id=\"T_49c78796_dd6b_11ea_a76f_0242ac130202\" ><thead>    <tr>        <th class=\"blank level0\" ></th>        <th class=\"col_heading level0 col0\" >Fare</th>        <th class=\"col_heading level0 col1\" >Age</th>    </tr></thead><tbody>\n",
       "                <tr>\n",
       "                        <th id=\"T_49c78796_dd6b_11ea_a76f_0242ac130202level0_row0\" class=\"row_heading level0 row0\" >0</th>\n",
       "                        <td id=\"T_49c78796_dd6b_11ea_a76f_0242ac130202row0_col0\" class=\"data row0 col0\" >0</td>\n",
       "                        <td id=\"T_49c78796_dd6b_11ea_a76f_0242ac130202row0_col1\" class=\"data row0 col1\" >0</td>\n",
       "            </tr>\n",
       "    </tbody></table>"
      ],
      "text/plain": [
       "<pandas.io.formats.style.Styler at 0x7fcb1ef7b190>"
      ]
     },
     "execution_count": 55,
     "metadata": {},
     "output_type": "execute_result"
    }
   ],
   "source": [
    "bb=c[allna.index.to_list()]\n",
    "nan=bb.select_dtypes(exclude='object')\n",
    "N= nan.isnull().sum().to_frame().sort_values(by=[0]).T\n",
    "cm = sns.light_palette(\"lime\", as_cmap=True)\n",
    "\n",
    "N= N.style.background_gradient(cmap=cm)\n",
    "N"
   ]
  },
  {
   "cell_type": "markdown",
   "execution_count": null,
   "metadata": {
    "papermill": {
     "duration": 0.051165,
     "end_time": "2020-08-13T13:45:45.834540",
     "exception": false,
     "start_time": "2020-08-13T13:45:45.783375",
     "status": "completed"
    },
    "tags": []
   },
   "source": [
    "### * Categorical features:"
   ]
  },
  {
   "cell_type": "code",
   "execution_count": 56,
   "metadata": {
    "execution": {
     "iopub.execute_input": "2020-08-13T13:45:45.946948Z",
     "iopub.status.busy": "2020-08-13T13:45:45.946095Z",
     "iopub.status.idle": "2020-08-13T13:45:45.949570Z",
     "shell.execute_reply": "2020-08-13T13:45:45.950027Z"
    },
    "papermill": {
     "duration": 0.064307,
     "end_time": "2020-08-13T13:45:45.950169",
     "exception": false,
     "start_time": "2020-08-13T13:45:45.885862",
     "status": "completed"
    },
    "tags": []
   },
   "outputs": [
    {
     "data": {
      "text/html": [
       "<div>\n",
       "<style scoped>\n",
       "    .dataframe tbody tr th:only-of-type {\n",
       "        vertical-align: middle;\n",
       "    }\n",
       "\n",
       "    .dataframe tbody tr th {\n",
       "        vertical-align: top;\n",
       "    }\n",
       "\n",
       "    .dataframe thead th {\n",
       "        text-align: right;\n",
       "    }\n",
       "</style>\n",
       "<table border=\"1\" class=\"dataframe\">\n",
       "  <thead>\n",
       "    <tr style=\"text-align: right;\">\n",
       "      <th></th>\n",
       "      <th>Embarked</th>\n",
       "      <th>Cabin</th>\n",
       "    </tr>\n",
       "  </thead>\n",
       "  <tbody>\n",
       "    <tr>\n",
       "      <th>0</th>\n",
       "      <td>S</td>\n",
       "      <td>NaN</td>\n",
       "    </tr>\n",
       "    <tr>\n",
       "      <th>1</th>\n",
       "      <td>C</td>\n",
       "      <td>C85</td>\n",
       "    </tr>\n",
       "    <tr>\n",
       "      <th>2</th>\n",
       "      <td>S</td>\n",
       "      <td>NaN</td>\n",
       "    </tr>\n",
       "    <tr>\n",
       "      <th>3</th>\n",
       "      <td>S</td>\n",
       "      <td>C123</td>\n",
       "    </tr>\n",
       "    <tr>\n",
       "      <th>4</th>\n",
       "      <td>S</td>\n",
       "      <td>NaN</td>\n",
       "    </tr>\n",
       "  </tbody>\n",
       "</table>\n",
       "</div>"
      ],
      "text/plain": [
       "  Embarked Cabin\n",
       "0        S   NaN\n",
       "1        C   C85\n",
       "2        S   NaN\n",
       "3        S  C123\n",
       "4        S   NaN"
      ]
     },
     "execution_count": 56,
     "metadata": {},
     "output_type": "execute_result"
    }
   ],
   "source": [
    "NAcat.head()"
   ]
  },
  {
   "cell_type": "code",
   "execution_count": 57,
   "metadata": {
    "execution": {
     "iopub.execute_input": "2020-08-13T13:45:46.073526Z",
     "iopub.status.busy": "2020-08-13T13:45:46.072689Z",
     "iopub.status.idle": "2020-08-13T13:45:46.076089Z",
     "shell.execute_reply": "2020-08-13T13:45:46.076599Z"
    },
    "papermill": {
     "duration": 0.074749,
     "end_time": "2020-08-13T13:45:46.076748",
     "exception": false,
     "start_time": "2020-08-13T13:45:46.001999",
     "status": "completed"
    },
    "tags": []
   },
   "outputs": [
    {
     "data": {
      "text/html": [
       "<style  type=\"text/css\" >\n",
       "    #T_49fbd42e_dd6b_11ea_a76f_0242ac130202row0_col0 {\n",
       "            background-color:  #e5ffe5;\n",
       "            color:  #000000;\n",
       "        }    #T_49fbd42e_dd6b_11ea_a76f_0242ac130202row0_col1 {\n",
       "            background-color:  #e5ffe5;\n",
       "            color:  #000000;\n",
       "        }</style><table id=\"T_49fbd42e_dd6b_11ea_a76f_0242ac130202\" ><thead>    <tr>        <th class=\"blank level0\" ></th>        <th class=\"col_heading level0 col0\" >Embarked</th>        <th class=\"col_heading level0 col1\" >Cabin</th>    </tr></thead><tbody>\n",
       "                <tr>\n",
       "                        <th id=\"T_49fbd42e_dd6b_11ea_a76f_0242ac130202level0_row0\" class=\"row_heading level0 row0\" >0</th>\n",
       "                        <td id=\"T_49fbd42e_dd6b_11ea_a76f_0242ac130202row0_col0\" class=\"data row0 col0\" >2</td>\n",
       "                        <td id=\"T_49fbd42e_dd6b_11ea_a76f_0242ac130202row0_col1\" class=\"data row0 col1\" >1014</td>\n",
       "            </tr>\n",
       "    </tbody></table>"
      ],
      "text/plain": [
       "<pandas.io.formats.style.Styler at 0x7fcb249a3b10>"
      ]
     },
     "execution_count": 57,
     "metadata": {},
     "output_type": "execute_result"
    }
   ],
   "source": [
    "NAcat1= NAcat.isnull().sum().to_frame().sort_values(by=[0]).T\n",
    "cm = sns.light_palette(\"lime\", as_cmap=True)\n",
    "\n",
    "NAcat1 = NAcat1.style.background_gradient(cmap=cm)\n",
    "NAcat1"
   ]
  },
  {
   "cell_type": "code",
   "execution_count": 58,
   "metadata": {
    "execution": {
     "iopub.execute_input": "2020-08-13T13:45:46.191027Z",
     "iopub.status.busy": "2020-08-13T13:45:46.190027Z",
     "iopub.status.idle": "2020-08-13T13:45:46.193201Z",
     "shell.execute_reply": "2020-08-13T13:45:46.192692Z"
    },
    "papermill": {
     "duration": 0.061344,
     "end_time": "2020-08-13T13:45:46.193315",
     "exception": false,
     "start_time": "2020-08-13T13:45:46.131971",
     "status": "completed"
    },
    "tags": []
   },
   "outputs": [],
   "source": [
    "#complete embarked with mode\n",
    "    \n",
    "c['Embarked'].fillna(c['Embarked'].mode()[0], inplace = True)"
   ]
  },
  {
   "cell_type": "code",
   "execution_count": 59,
   "metadata": {
    "execution": {
     "iopub.execute_input": "2020-08-13T13:45:46.302175Z",
     "iopub.status.busy": "2020-08-13T13:45:46.301352Z",
     "iopub.status.idle": "2020-08-13T13:45:46.304489Z",
     "shell.execute_reply": "2020-08-13T13:45:46.304010Z"
    },
    "papermill": {
     "duration": 0.060242,
     "end_time": "2020-08-13T13:45:46.304597",
     "exception": false,
     "start_time": "2020-08-13T13:45:46.244355",
     "status": "completed"
    },
    "tags": []
   },
   "outputs": [],
   "source": [
    "# Replace the Cabin number by the type of cabin 'X' if not\n",
    "c[\"Cabin\"] = pd.Series([i[0] if not pd.isnull(i) else 'X' for i in c['Cabin'] ])"
   ]
  },
  {
   "cell_type": "code",
   "execution_count": 60,
   "metadata": {
    "execution": {
     "iopub.execute_input": "2020-08-13T13:45:46.414785Z",
     "iopub.status.busy": "2020-08-13T13:45:46.413858Z",
     "iopub.status.idle": "2020-08-13T13:45:46.434698Z",
     "shell.execute_reply": "2020-08-13T13:45:46.434061Z"
    },
    "papermill": {
     "duration": 0.078768,
     "end_time": "2020-08-13T13:45:46.434809",
     "exception": false,
     "start_time": "2020-08-13T13:45:46.356041",
     "status": "completed"
    },
    "tags": []
   },
   "outputs": [
    {
     "data": {
      "text/html": [
       "<style  type=\"text/css\" >\n",
       "    #T_4a326dc2_dd6b_11ea_a76f_0242ac130202row0_col0 {\n",
       "            background-color:  #e5ffe5;\n",
       "            color:  #000000;\n",
       "        }    #T_4a326dc2_dd6b_11ea_a76f_0242ac130202row0_col1 {\n",
       "            background-color:  #e5ffe5;\n",
       "            color:  #000000;\n",
       "        }</style><table id=\"T_4a326dc2_dd6b_11ea_a76f_0242ac130202\" ><thead>    <tr>        <th class=\"blank level0\" ></th>        <th class=\"col_heading level0 col0\" >Embarked</th>        <th class=\"col_heading level0 col1\" >Cabin</th>    </tr></thead><tbody>\n",
       "                <tr>\n",
       "                        <th id=\"T_4a326dc2_dd6b_11ea_a76f_0242ac130202level0_row0\" class=\"row_heading level0 row0\" >0</th>\n",
       "                        <td id=\"T_4a326dc2_dd6b_11ea_a76f_0242ac130202row0_col0\" class=\"data row0 col0\" >0</td>\n",
       "                        <td id=\"T_4a326dc2_dd6b_11ea_a76f_0242ac130202row0_col1\" class=\"data row0 col1\" >0</td>\n",
       "            </tr>\n",
       "    </tbody></table>"
      ],
      "text/plain": [
       "<pandas.io.formats.style.Styler at 0x7fcb249a3810>"
      ]
     },
     "execution_count": 60,
     "metadata": {},
     "output_type": "execute_result"
    }
   ],
   "source": [
    "FillNA=c[allna.index.to_list()]\n",
    "\n",
    "\n",
    "\n",
    "FillNAcat=FillNA.select_dtypes(include='object')\n",
    "\n",
    "FC= FillNAcat.isnull().sum().to_frame().sort_values(by=[0]).T\n",
    "cm = sns.light_palette(\"lime\", as_cmap=True)\n",
    "\n",
    "FC= FC.style.background_gradient(cmap=cm)\n",
    "FC"
   ]
  },
  {
   "cell_type": "code",
   "execution_count": 61,
   "metadata": {
    "execution": {
     "iopub.execute_input": "2020-08-13T13:45:46.557615Z",
     "iopub.status.busy": "2020-08-13T13:45:46.556878Z",
     "iopub.status.idle": "2020-08-13T13:45:46.564008Z",
     "shell.execute_reply": "2020-08-13T13:45:46.563429Z"
    },
    "papermill": {
     "duration": 0.078858,
     "end_time": "2020-08-13T13:45:46.564120",
     "exception": false,
     "start_time": "2020-08-13T13:45:46.485262",
     "status": "completed"
    },
    "tags": []
   },
   "outputs": [
    {
     "data": {
      "text/html": [
       "<style  type=\"text/css\" >\n",
       "    #T_4a45c462_dd6b_11ea_a76f_0242ac130202row0_col0 {\n",
       "            background-color:  #e5ffe5;\n",
       "            color:  #000000;\n",
       "        }    #T_4a45c462_dd6b_11ea_a76f_0242ac130202row0_col1 {\n",
       "            background-color:  #e5ffe5;\n",
       "            color:  #000000;\n",
       "        }</style><table id=\"T_4a45c462_dd6b_11ea_a76f_0242ac130202\" ><thead>    <tr>        <th class=\"blank level0\" ></th>        <th class=\"col_heading level0 col0\" >Fare</th>        <th class=\"col_heading level0 col1\" >Age</th>    </tr></thead><tbody>\n",
       "                <tr>\n",
       "                        <th id=\"T_4a45c462_dd6b_11ea_a76f_0242ac130202level0_row0\" class=\"row_heading level0 row0\" >0</th>\n",
       "                        <td id=\"T_4a45c462_dd6b_11ea_a76f_0242ac130202row0_col0\" class=\"data row0 col0\" >0</td>\n",
       "                        <td id=\"T_4a45c462_dd6b_11ea_a76f_0242ac130202row0_col1\" class=\"data row0 col1\" >0</td>\n",
       "            </tr>\n",
       "    </tbody></table>"
      ],
      "text/plain": [
       "<pandas.io.formats.style.Styler at 0x7fcb1ef2e290>"
      ]
     },
     "execution_count": 61,
     "metadata": {},
     "output_type": "execute_result"
    }
   ],
   "source": [
    "FillNAnum=FillNA.select_dtypes(exclude='object')\n",
    "\n",
    "FM= FillNAnum.isnull().sum().to_frame().sort_values(by=[0]).T\n",
    "cm = sns.light_palette(\"lime\", as_cmap=True)\n",
    "\n",
    "FM= FM.style.background_gradient(cmap=cm)\n",
    "FM"
   ]
  },
  {
   "cell_type": "code",
   "execution_count": 62,
   "metadata": {
    "execution": {
     "iopub.execute_input": "2020-08-13T13:45:46.678280Z",
     "iopub.status.busy": "2020-08-13T13:45:46.677217Z",
     "iopub.status.idle": "2020-08-13T13:45:46.681909Z",
     "shell.execute_reply": "2020-08-13T13:45:46.681277Z"
    },
    "papermill": {
     "duration": 0.067554,
     "end_time": "2020-08-13T13:45:46.682028",
     "exception": false,
     "start_time": "2020-08-13T13:45:46.614474",
     "status": "completed"
    },
    "tags": []
   },
   "outputs": [
    {
     "data": {
      "text/plain": [
       "Embarked    0\n",
       "Cabin       0\n",
       "Fare        0\n",
       "Ticket      0\n",
       "Parch       0\n",
       "SibSp       0\n",
       "Age         0\n",
       "Sex         0\n",
       "Name        0\n",
       "Pclass      0\n",
       "dtype: int64"
      ]
     },
     "execution_count": 62,
     "metadata": {},
     "output_type": "execute_result"
    }
   ],
   "source": [
    "c.isnull().sum().sort_values(ascending=False).head(10)"
   ]
  },
  {
   "cell_type": "markdown",
   "execution_count": null,
   "metadata": {
    "papermill": {
     "duration": 0.051688,
     "end_time": "2020-08-13T13:45:46.786549",
     "exception": false,
     "start_time": "2020-08-13T13:45:46.734861",
     "status": "completed"
    },
    "tags": []
   },
   "source": [
    "### 1-Feature engineering\n",
    "Feature engineering is very important to improve the model's performance"
   ]
  },
  {
   "cell_type": "code",
   "execution_count": 63,
   "metadata": {
    "execution": {
     "iopub.execute_input": "2020-08-13T13:45:46.897607Z",
     "iopub.status.busy": "2020-08-13T13:45:46.896850Z",
     "iopub.status.idle": "2020-08-13T13:45:46.900395Z",
     "shell.execute_reply": "2020-08-13T13:45:46.900995Z"
    },
    "papermill": {
     "duration": 0.061454,
     "end_time": "2020-08-13T13:45:46.901139",
     "exception": false,
     "start_time": "2020-08-13T13:45:46.839685",
     "status": "completed"
    },
    "tags": []
   },
   "outputs": [
    {
     "data": {
      "text/plain": [
       "(1309, 10)"
      ]
     },
     "execution_count": 63,
     "metadata": {},
     "output_type": "execute_result"
    }
   ],
   "source": [
    "c.shape"
   ]
  },
  {
   "cell_type": "markdown",
   "execution_count": null,
   "metadata": {
    "papermill": {
     "duration": 0.051161,
     "end_time": "2020-08-13T13:45:47.004667",
     "exception": false,
     "start_time": "2020-08-13T13:45:46.953506",
     "status": "completed"
    },
    "tags": []
   },
   "source": [
    "#### Creating new feature extracting from existing\n",
    "\n",
    "We want to analyze if Name feature can be engineered to extract titles and test correlation between titles and survival, before dropping Name and PassengerId features.\n",
    "\n",
    "In the following code we extract Title feature using regular expressions. The RegEx pattern `(\\w+\\.)` matches the first word which ends with a dot character within Name feature. The `expand=False` flag returns a DataFrame.\n",
    "\n",
    "**Observations.**\n",
    "\n",
    "When we plot Title, Age, and Survived, we note the following observations.\n",
    "\n",
    "- Most titles band Age groups accurately. For example: Master title has Age mean of 5 years.\n",
    "- Survival among Title Age bands varies slightly.\n",
    "- Certain titles mostly survived (Mme, Lady, Sir) or did not (Don, Rev, Jonkheer).\n",
    "\n",
    "**Decision.**\n",
    "\n",
    "- We decide to retain the new Title feature for model training."
   ]
  },
  {
   "cell_type": "code",
   "execution_count": 64,
   "metadata": {
    "execution": {
     "iopub.execute_input": "2020-08-13T13:45:47.124687Z",
     "iopub.status.busy": "2020-08-13T13:45:47.123601Z",
     "iopub.status.idle": "2020-08-13T13:45:47.127720Z",
     "shell.execute_reply": "2020-08-13T13:45:47.128290Z"
    },
    "papermill": {
     "duration": 0.07129,
     "end_time": "2020-08-13T13:45:47.128448",
     "exception": false,
     "start_time": "2020-08-13T13:45:47.057158",
     "status": "completed"
    },
    "tags": []
   },
   "outputs": [
    {
     "data": {
      "text/html": [
       "<div>\n",
       "<style scoped>\n",
       "    .dataframe tbody tr th:only-of-type {\n",
       "        vertical-align: middle;\n",
       "    }\n",
       "\n",
       "    .dataframe tbody tr th {\n",
       "        vertical-align: top;\n",
       "    }\n",
       "\n",
       "    .dataframe thead th {\n",
       "        text-align: right;\n",
       "    }\n",
       "</style>\n",
       "<table border=\"1\" class=\"dataframe\">\n",
       "  <thead>\n",
       "    <tr style=\"text-align: right;\">\n",
       "      <th></th>\n",
       "      <th>Pclass</th>\n",
       "      <th>Name</th>\n",
       "      <th>Sex</th>\n",
       "      <th>Age</th>\n",
       "      <th>SibSp</th>\n",
       "      <th>Parch</th>\n",
       "      <th>Ticket</th>\n",
       "      <th>Fare</th>\n",
       "      <th>Cabin</th>\n",
       "      <th>Embarked</th>\n",
       "    </tr>\n",
       "  </thead>\n",
       "  <tbody>\n",
       "    <tr>\n",
       "      <th>0</th>\n",
       "      <td>3</td>\n",
       "      <td>Braund, Mr. Owen Harris</td>\n",
       "      <td>male</td>\n",
       "      <td>22.0</td>\n",
       "      <td>1</td>\n",
       "      <td>0</td>\n",
       "      <td>A/5 21171</td>\n",
       "      <td>22.0</td>\n",
       "      <td>X</td>\n",
       "      <td>S</td>\n",
       "    </tr>\n",
       "  </tbody>\n",
       "</table>\n",
       "</div>"
      ],
      "text/plain": [
       "   Pclass                     Name   Sex   Age  SibSp  Parch     Ticket  Fare  \\\n",
       "0       3  Braund, Mr. Owen Harris  male  22.0      1      0  A/5 21171  22.0   \n",
       "\n",
       "  Cabin Embarked  \n",
       "0     X        S  "
      ]
     },
     "execution_count": 64,
     "metadata": {},
     "output_type": "execute_result"
    }
   ],
   "source": [
    "c.head(1)"
   ]
  },
  {
   "cell_type": "markdown",
   "execution_count": null,
   "metadata": {
    "papermill": {
     "duration": 0.05048,
     "end_time": "2020-08-13T13:45:47.231583",
     "exception": false,
     "start_time": "2020-08-13T13:45:47.181103",
     "status": "completed"
    },
    "tags": []
   },
   "source": [
    "#### Categorical Feature"
   ]
  },
  {
   "cell_type": "markdown",
   "execution_count": null,
   "metadata": {
    "papermill": {
     "duration": 0.050887,
     "end_time": "2020-08-13T13:45:47.334374",
     "exception": false,
     "start_time": "2020-08-13T13:45:47.283487",
     "status": "completed"
    },
    "tags": []
   },
   "source": [
    "### 1.1-Name"
   ]
  },
  {
   "cell_type": "code",
   "execution_count": 65,
   "metadata": {
    "execution": {
     "iopub.execute_input": "2020-08-13T13:45:47.449269Z",
     "iopub.status.busy": "2020-08-13T13:45:47.447358Z",
     "iopub.status.idle": "2020-08-13T13:45:47.450096Z",
     "shell.execute_reply": "2020-08-13T13:45:47.450613Z"
    },
    "papermill": {
     "duration": 0.064443,
     "end_time": "2020-08-13T13:45:47.450756",
     "exception": false,
     "start_time": "2020-08-13T13:45:47.386313",
     "status": "completed"
    },
    "tags": []
   },
   "outputs": [],
   "source": [
    "c['Title'] = c['Name'].str.extract(' ([A-Za-z]+)\\.', expand=False)\n",
    "\n"
   ]
  },
  {
   "cell_type": "code",
   "execution_count": 66,
   "metadata": {
    "execution": {
     "iopub.execute_input": "2020-08-13T13:45:47.562599Z",
     "iopub.status.busy": "2020-08-13T13:45:47.561662Z",
     "iopub.status.idle": "2020-08-13T13:45:47.567930Z",
     "shell.execute_reply": "2020-08-13T13:45:47.568398Z"
    },
    "papermill": {
     "duration": 0.064813,
     "end_time": "2020-08-13T13:45:47.568558",
     "exception": false,
     "start_time": "2020-08-13T13:45:47.503745",
     "status": "completed"
    },
    "tags": []
   },
   "outputs": [],
   "source": [
    "\n",
    "c_t=pd.concat([c, y_target], axis=1)"
   ]
  },
  {
   "cell_type": "code",
   "execution_count": 67,
   "metadata": {
    "execution": {
     "iopub.execute_input": "2020-08-13T13:45:47.682180Z",
     "iopub.status.busy": "2020-08-13T13:45:47.681464Z",
     "iopub.status.idle": "2020-08-13T13:45:47.707774Z",
     "shell.execute_reply": "2020-08-13T13:45:47.707189Z"
    },
    "papermill": {
     "duration": 0.088265,
     "end_time": "2020-08-13T13:45:47.707909",
     "exception": false,
     "start_time": "2020-08-13T13:45:47.619644",
     "status": "completed"
    },
    "tags": []
   },
   "outputs": [
    {
     "data": {
      "text/html": [
       "<div>\n",
       "<style scoped>\n",
       "    .dataframe tbody tr th:only-of-type {\n",
       "        vertical-align: middle;\n",
       "    }\n",
       "\n",
       "    .dataframe tbody tr th {\n",
       "        vertical-align: top;\n",
       "    }\n",
       "\n",
       "    .dataframe thead th {\n",
       "        text-align: right;\n",
       "    }\n",
       "</style>\n",
       "<table border=\"1\" class=\"dataframe\">\n",
       "  <thead>\n",
       "    <tr style=\"text-align: right;\">\n",
       "      <th>Sex</th>\n",
       "      <th>female</th>\n",
       "      <th>male</th>\n",
       "    </tr>\n",
       "    <tr>\n",
       "      <th>Title</th>\n",
       "      <th></th>\n",
       "      <th></th>\n",
       "    </tr>\n",
       "  </thead>\n",
       "  <tbody>\n",
       "    <tr>\n",
       "      <th>Capt</th>\n",
       "      <td>0</td>\n",
       "      <td>1</td>\n",
       "    </tr>\n",
       "    <tr>\n",
       "      <th>Col</th>\n",
       "      <td>0</td>\n",
       "      <td>4</td>\n",
       "    </tr>\n",
       "    <tr>\n",
       "      <th>Countess</th>\n",
       "      <td>1</td>\n",
       "      <td>0</td>\n",
       "    </tr>\n",
       "    <tr>\n",
       "      <th>Don</th>\n",
       "      <td>0</td>\n",
       "      <td>1</td>\n",
       "    </tr>\n",
       "    <tr>\n",
       "      <th>Dona</th>\n",
       "      <td>1</td>\n",
       "      <td>0</td>\n",
       "    </tr>\n",
       "    <tr>\n",
       "      <th>Dr</th>\n",
       "      <td>1</td>\n",
       "      <td>7</td>\n",
       "    </tr>\n",
       "    <tr>\n",
       "      <th>Jonkheer</th>\n",
       "      <td>0</td>\n",
       "      <td>1</td>\n",
       "    </tr>\n",
       "    <tr>\n",
       "      <th>Lady</th>\n",
       "      <td>1</td>\n",
       "      <td>0</td>\n",
       "    </tr>\n",
       "    <tr>\n",
       "      <th>Major</th>\n",
       "      <td>0</td>\n",
       "      <td>2</td>\n",
       "    </tr>\n",
       "    <tr>\n",
       "      <th>Master</th>\n",
       "      <td>0</td>\n",
       "      <td>61</td>\n",
       "    </tr>\n",
       "    <tr>\n",
       "      <th>Miss</th>\n",
       "      <td>260</td>\n",
       "      <td>0</td>\n",
       "    </tr>\n",
       "    <tr>\n",
       "      <th>Mlle</th>\n",
       "      <td>2</td>\n",
       "      <td>0</td>\n",
       "    </tr>\n",
       "    <tr>\n",
       "      <th>Mme</th>\n",
       "      <td>1</td>\n",
       "      <td>0</td>\n",
       "    </tr>\n",
       "    <tr>\n",
       "      <th>Mr</th>\n",
       "      <td>0</td>\n",
       "      <td>757</td>\n",
       "    </tr>\n",
       "    <tr>\n",
       "      <th>Mrs</th>\n",
       "      <td>197</td>\n",
       "      <td>0</td>\n",
       "    </tr>\n",
       "    <tr>\n",
       "      <th>Ms</th>\n",
       "      <td>2</td>\n",
       "      <td>0</td>\n",
       "    </tr>\n",
       "    <tr>\n",
       "      <th>Rev</th>\n",
       "      <td>0</td>\n",
       "      <td>8</td>\n",
       "    </tr>\n",
       "    <tr>\n",
       "      <th>Sir</th>\n",
       "      <td>0</td>\n",
       "      <td>1</td>\n",
       "    </tr>\n",
       "  </tbody>\n",
       "</table>\n",
       "</div>"
      ],
      "text/plain": [
       "Sex       female  male\n",
       "Title                 \n",
       "Capt           0     1\n",
       "Col            0     4\n",
       "Countess       1     0\n",
       "Don            0     1\n",
       "Dona           1     0\n",
       "Dr             1     7\n",
       "Jonkheer       0     1\n",
       "Lady           1     0\n",
       "Major          0     2\n",
       "Master         0    61\n",
       "Miss         260     0\n",
       "Mlle           2     0\n",
       "Mme            1     0\n",
       "Mr             0   757\n",
       "Mrs          197     0\n",
       "Ms             2     0\n",
       "Rev            0     8\n",
       "Sir            0     1"
      ]
     },
     "execution_count": 67,
     "metadata": {},
     "output_type": "execute_result"
    }
   ],
   "source": [
    "pd.crosstab(c_t['Title'], c_t['Sex'])"
   ]
  },
  {
   "cell_type": "markdown",
   "execution_count": null,
   "metadata": {
    "papermill": {
     "duration": 0.057136,
     "end_time": "2020-08-13T13:45:47.823612",
     "exception": false,
     "start_time": "2020-08-13T13:45:47.766476",
     "status": "completed"
    },
    "tags": []
   },
   "source": [
    "* We can replace many titles with a more common name or classify them as `Rare`."
   ]
  },
  {
   "cell_type": "code",
   "execution_count": 68,
   "metadata": {
    "execution": {
     "iopub.execute_input": "2020-08-13T13:45:47.971087Z",
     "iopub.status.busy": "2020-08-13T13:45:47.969901Z",
     "iopub.status.idle": "2020-08-13T13:45:47.999893Z",
     "shell.execute_reply": "2020-08-13T13:45:47.999140Z"
    },
    "papermill": {
     "duration": 0.100326,
     "end_time": "2020-08-13T13:45:48.000045",
     "exception": false,
     "start_time": "2020-08-13T13:45:47.899719",
     "status": "completed"
    },
    "tags": []
   },
   "outputs": [
    {
     "data": {
      "text/html": [
       "<div>\n",
       "<style scoped>\n",
       "    .dataframe tbody tr th:only-of-type {\n",
       "        vertical-align: middle;\n",
       "    }\n",
       "\n",
       "    .dataframe tbody tr th {\n",
       "        vertical-align: top;\n",
       "    }\n",
       "\n",
       "    .dataframe thead th {\n",
       "        text-align: right;\n",
       "    }\n",
       "</style>\n",
       "<table border=\"1\" class=\"dataframe\">\n",
       "  <thead>\n",
       "    <tr style=\"text-align: right;\">\n",
       "      <th></th>\n",
       "      <th>Title</th>\n",
       "      <th>Survived</th>\n",
       "    </tr>\n",
       "  </thead>\n",
       "  <tbody>\n",
       "    <tr>\n",
       "      <th>0</th>\n",
       "      <td>Master</td>\n",
       "      <td>0.575000</td>\n",
       "    </tr>\n",
       "    <tr>\n",
       "      <th>1</th>\n",
       "      <td>Miss</td>\n",
       "      <td>0.697802</td>\n",
       "    </tr>\n",
       "    <tr>\n",
       "      <th>2</th>\n",
       "      <td>Mlle</td>\n",
       "      <td>1.000000</td>\n",
       "    </tr>\n",
       "    <tr>\n",
       "      <th>3</th>\n",
       "      <td>Mme</td>\n",
       "      <td>1.000000</td>\n",
       "    </tr>\n",
       "    <tr>\n",
       "      <th>4</th>\n",
       "      <td>Mr</td>\n",
       "      <td>0.156673</td>\n",
       "    </tr>\n",
       "    <tr>\n",
       "      <th>5</th>\n",
       "      <td>Mrs</td>\n",
       "      <td>0.792000</td>\n",
       "    </tr>\n",
       "    <tr>\n",
       "      <th>6</th>\n",
       "      <td>Ms</td>\n",
       "      <td>1.000000</td>\n",
       "    </tr>\n",
       "    <tr>\n",
       "      <th>7</th>\n",
       "      <td>Rare</td>\n",
       "      <td>0.347826</td>\n",
       "    </tr>\n",
       "  </tbody>\n",
       "</table>\n",
       "</div>"
      ],
      "text/plain": [
       "    Title  Survived\n",
       "0  Master  0.575000\n",
       "1    Miss  0.697802\n",
       "2    Mlle  1.000000\n",
       "3     Mme  1.000000\n",
       "4      Mr  0.156673\n",
       "5     Mrs  0.792000\n",
       "6      Ms  1.000000\n",
       "7    Rare  0.347826"
      ]
     },
     "execution_count": 68,
     "metadata": {},
     "output_type": "execute_result"
    }
   ],
   "source": [
    "#we will just 'None' in categorical features\n",
    "#Categorical missing values\n",
    "NAcols=c.columns\n",
    "for col in NAcols:\n",
    "    if c[col].dtype == \"object\":\n",
    "        c[col] = c[col].fillna(\"None\")\n",
    "c['Title'] = c['Title'].replace(['Lady', 'Countess','Capt', 'Col',\\\n",
    " \t'Don', 'Dr', 'Major', 'Rev', 'Sir', 'Jonkheer', 'Dona'], 'Rare')\n",
    "\n",
    "\n",
    "c_t=pd.concat([c, y_target], axis=1)\n",
    "c_t[['Title', 'Survived']].groupby(['Title'], as_index=False).mean()"
   ]
  },
  {
   "cell_type": "markdown",
   "execution_count": null,
   "metadata": {
    "papermill": {
     "duration": 0.054513,
     "end_time": "2020-08-13T13:45:48.208459",
     "exception": false,
     "start_time": "2020-08-13T13:45:48.153946",
     "status": "completed"
    },
    "tags": []
   },
   "source": [
    "* so we have titles. let's categorize it and check the title impact on survival rate."
   ]
  },
  {
   "cell_type": "code",
   "execution_count": 69,
   "metadata": {
    "execution": {
     "iopub.execute_input": "2020-08-13T13:45:48.325207Z",
     "iopub.status.busy": "2020-08-13T13:45:48.324084Z",
     "iopub.status.idle": "2020-08-13T13:45:48.341141Z",
     "shell.execute_reply": "2020-08-13T13:45:48.341832Z"
    },
    "papermill": {
     "duration": 0.08083,
     "end_time": "2020-08-13T13:45:48.341983",
     "exception": false,
     "start_time": "2020-08-13T13:45:48.261153",
     "status": "completed"
    },
    "tags": []
   },
   "outputs": [
    {
     "data": {
      "text/html": [
       "<div>\n",
       "<style scoped>\n",
       "    .dataframe tbody tr th:only-of-type {\n",
       "        vertical-align: middle;\n",
       "    }\n",
       "\n",
       "    .dataframe tbody tr th {\n",
       "        vertical-align: top;\n",
       "    }\n",
       "\n",
       "    .dataframe thead th {\n",
       "        text-align: right;\n",
       "    }\n",
       "</style>\n",
       "<table border=\"1\" class=\"dataframe\">\n",
       "  <thead>\n",
       "    <tr style=\"text-align: right;\">\n",
       "      <th></th>\n",
       "      <th>Title</th>\n",
       "      <th>Survived</th>\n",
       "    </tr>\n",
       "  </thead>\n",
       "  <tbody>\n",
       "    <tr>\n",
       "      <th>0</th>\n",
       "      <td>Master</td>\n",
       "      <td>0.575000</td>\n",
       "    </tr>\n",
       "    <tr>\n",
       "      <th>1</th>\n",
       "      <td>Miss</td>\n",
       "      <td>0.702703</td>\n",
       "    </tr>\n",
       "    <tr>\n",
       "      <th>2</th>\n",
       "      <td>Mr</td>\n",
       "      <td>0.156673</td>\n",
       "    </tr>\n",
       "    <tr>\n",
       "      <th>3</th>\n",
       "      <td>Mrs</td>\n",
       "      <td>0.793651</td>\n",
       "    </tr>\n",
       "    <tr>\n",
       "      <th>4</th>\n",
       "      <td>Rare</td>\n",
       "      <td>0.347826</td>\n",
       "    </tr>\n",
       "  </tbody>\n",
       "</table>\n",
       "</div>"
      ],
      "text/plain": [
       "    Title  Survived\n",
       "0  Master  0.575000\n",
       "1    Miss  0.702703\n",
       "2      Mr  0.156673\n",
       "3     Mrs  0.793651\n",
       "4    Rare  0.347826"
      ]
     },
     "execution_count": 69,
     "metadata": {},
     "output_type": "execute_result"
    }
   ],
   "source": [
    "#for dataset in c:\n",
    "\n",
    "\n",
    "\n",
    "\n",
    "c['Title'] = c['Title'].replace('Mlle', 'Miss')\n",
    "c['Title'] = c['Title'].replace('Ms', 'Miss')\n",
    "c['Title'] = c['Title'].replace('Mme', 'Mrs')\n",
    "\n",
    "\n",
    "c_t=pd.concat([c, y_target], axis=1)\n",
    "c_t[['Title', 'Survived']].groupby(['Title'], as_index=False).mean()\n",
    "\n",
    "\n"
   ]
  },
  {
   "cell_type": "raw",
   "execution_count": null,
   "metadata": {
    "papermill": {
     "duration": 0.059632,
     "end_time": "2020-08-13T13:45:48.460501",
     "exception": false,
     "start_time": "2020-08-13T13:45:48.400869",
     "status": "completed"
    },
    "tags": []
   },
   "source": [
    "##### Categorical "
   ]
  },
  {
   "cell_type": "markdown",
   "execution_count": null,
   "metadata": {
    "papermill": {
     "duration": 0.058672,
     "end_time": "2020-08-13T13:45:48.575265",
     "exception": false,
     "start_time": "2020-08-13T13:45:48.516593",
     "status": "completed"
    },
    "tags": []
   },
   "source": [
    "###  1.2-SibSp and Parch (Family)"
   ]
  },
  {
   "cell_type": "markdown",
   "execution_count": null,
   "metadata": {
    "papermill": {
     "duration": 0.057438,
     "end_time": "2020-08-13T13:45:48.691242",
     "exception": false,
     "start_time": "2020-08-13T13:45:48.633804",
     "status": "completed"
    },
    "tags": []
   },
   "source": [
    "* With the number of siblings/spouse and the number of children/parents we can create new feature called Family Size."
   ]
  },
  {
   "cell_type": "code",
   "execution_count": 70,
   "metadata": {
    "execution": {
     "iopub.execute_input": "2020-08-13T13:45:48.808506Z",
     "iopub.status.busy": "2020-08-13T13:45:48.807567Z",
     "iopub.status.idle": "2020-08-13T13:45:48.826216Z",
     "shell.execute_reply": "2020-08-13T13:45:48.825619Z"
    },
    "papermill": {
     "duration": 0.080394,
     "end_time": "2020-08-13T13:45:48.826341",
     "exception": false,
     "start_time": "2020-08-13T13:45:48.745947",
     "status": "completed"
    },
    "tags": []
   },
   "outputs": [
    {
     "data": {
      "text/html": [
       "<div>\n",
       "<style scoped>\n",
       "    .dataframe tbody tr th:only-of-type {\n",
       "        vertical-align: middle;\n",
       "    }\n",
       "\n",
       "    .dataframe tbody tr th {\n",
       "        vertical-align: top;\n",
       "    }\n",
       "\n",
       "    .dataframe thead th {\n",
       "        text-align: right;\n",
       "    }\n",
       "</style>\n",
       "<table border=\"1\" class=\"dataframe\">\n",
       "  <thead>\n",
       "    <tr style=\"text-align: right;\">\n",
       "      <th></th>\n",
       "      <th>FamilySize</th>\n",
       "      <th>Survived</th>\n",
       "    </tr>\n",
       "  </thead>\n",
       "  <tbody>\n",
       "    <tr>\n",
       "      <th>3</th>\n",
       "      <td>4</td>\n",
       "      <td>0.724138</td>\n",
       "    </tr>\n",
       "    <tr>\n",
       "      <th>2</th>\n",
       "      <td>3</td>\n",
       "      <td>0.578431</td>\n",
       "    </tr>\n",
       "    <tr>\n",
       "      <th>1</th>\n",
       "      <td>2</td>\n",
       "      <td>0.552795</td>\n",
       "    </tr>\n",
       "    <tr>\n",
       "      <th>6</th>\n",
       "      <td>7</td>\n",
       "      <td>0.333333</td>\n",
       "    </tr>\n",
       "    <tr>\n",
       "      <th>0</th>\n",
       "      <td>1</td>\n",
       "      <td>0.303538</td>\n",
       "    </tr>\n",
       "    <tr>\n",
       "      <th>4</th>\n",
       "      <td>5</td>\n",
       "      <td>0.200000</td>\n",
       "    </tr>\n",
       "    <tr>\n",
       "      <th>5</th>\n",
       "      <td>6</td>\n",
       "      <td>0.136364</td>\n",
       "    </tr>\n",
       "    <tr>\n",
       "      <th>7</th>\n",
       "      <td>8</td>\n",
       "      <td>0.000000</td>\n",
       "    </tr>\n",
       "    <tr>\n",
       "      <th>8</th>\n",
       "      <td>11</td>\n",
       "      <td>0.000000</td>\n",
       "    </tr>\n",
       "  </tbody>\n",
       "</table>\n",
       "</div>"
      ],
      "text/plain": [
       "   FamilySize  Survived\n",
       "3           4  0.724138\n",
       "2           3  0.578431\n",
       "1           2  0.552795\n",
       "6           7  0.333333\n",
       "0           1  0.303538\n",
       "4           5  0.200000\n",
       "5           6  0.136364\n",
       "7           8  0.000000\n",
       "8          11  0.000000"
      ]
     },
     "execution_count": 70,
     "metadata": {},
     "output_type": "execute_result"
    }
   ],
   "source": [
    "#for dataset in c:\n",
    "c['FamilySize'] = c['SibSp'] + c['Parch'] + 1\n",
    "\n",
    "\n",
    "\n",
    "c_t=pd.concat([c, y_target], axis=1)\n",
    "c_t[['FamilySize', 'Survived']].groupby(['FamilySize'], as_index=False).mean().sort_values(by='Survived', ascending=False)\n",
    "\n",
    "#c_t[['FamilySize', 'Survived']].groupby(['FamilySize'], as_index=False).mean()"
   ]
  },
  {
   "cell_type": "markdown",
   "execution_count": null,
   "metadata": {
    "papermill": {
     "duration": 0.059481,
     "end_time": "2020-08-13T13:45:48.944331",
     "exception": false,
     "start_time": "2020-08-13T13:45:48.884850",
     "status": "completed"
    },
    "tags": []
   },
   "source": [
    "* it seems has a good effect on our prediction but let's go further and categorize people to check whether they are alone in this ship or not\n",
    "* We can create another feature called IsAlone."
   ]
  },
  {
   "cell_type": "code",
   "execution_count": 71,
   "metadata": {
    "execution": {
     "iopub.execute_input": "2020-08-13T13:45:49.074456Z",
     "iopub.status.busy": "2020-08-13T13:45:49.073524Z",
     "iopub.status.idle": "2020-08-13T13:45:49.090461Z",
     "shell.execute_reply": "2020-08-13T13:45:49.091404Z"
    },
    "papermill": {
     "duration": 0.087232,
     "end_time": "2020-08-13T13:45:49.091595",
     "exception": false,
     "start_time": "2020-08-13T13:45:49.004363",
     "status": "completed"
    },
    "tags": []
   },
   "outputs": [
    {
     "name": "stdout",
     "output_type": "stream",
     "text": [
      "   IsAlone  Survived\n",
      "0        0  0.505650\n",
      "1        1  0.303538\n"
     ]
    }
   ],
   "source": [
    "c['IsAlone'] = 0\n",
    "c.loc[c['FamilySize'] == 1, 'IsAlone'] = 1\n",
    "\n",
    "\n",
    "c_t=pd.concat([c, y_target], axis=1)\n",
    "print (c_t[['IsAlone', 'Survived']].groupby(['IsAlone'], as_index=False).mean())"
   ]
  },
  {
   "cell_type": "markdown",
   "execution_count": null,
   "metadata": {
    "papermill": {
     "duration": 0.0535,
     "end_time": "2020-08-13T13:45:49.205917",
     "exception": false,
     "start_time": "2020-08-13T13:45:49.152417",
     "status": "completed"
    },
    "tags": []
   },
   "source": [
    "### 1.3-Fare categorize it into 4 ranges."
   ]
  },
  {
   "cell_type": "code",
   "execution_count": 72,
   "metadata": {
    "execution": {
     "iopub.execute_input": "2020-08-13T13:45:49.363742Z",
     "iopub.status.busy": "2020-08-13T13:45:49.362850Z",
     "iopub.status.idle": "2020-08-13T13:45:49.378967Z",
     "shell.execute_reply": "2020-08-13T13:45:49.379724Z"
    },
    "papermill": {
     "duration": 0.106526,
     "end_time": "2020-08-13T13:45:49.379945",
     "exception": false,
     "start_time": "2020-08-13T13:45:49.273419",
     "status": "completed"
    },
    "tags": []
   },
   "outputs": [],
   "source": [
    "c.loc[ c['Fare'] <= 7.91, 'Fare'] = 0\n",
    "c.loc[(c['Fare'] > 7.91) & (c['Fare'] <= 14.454), 'Fare'] = 1\n",
    "c.loc[(c['Fare'] > 14.454) & (c['Fare'] <= 31), 'Fare']   = 2\n",
    "c.loc[ c['Fare'] > 31, 'Fare'] = 3"
   ]
  },
  {
   "cell_type": "code",
   "execution_count": 73,
   "metadata": {
    "execution": {
     "iopub.execute_input": "2020-08-13T13:45:49.547919Z",
     "iopub.status.busy": "2020-08-13T13:45:49.546922Z",
     "iopub.status.idle": "2020-08-13T13:45:49.568715Z",
     "shell.execute_reply": "2020-08-13T13:45:49.569540Z"
    },
    "papermill": {
     "duration": 0.111807,
     "end_time": "2020-08-13T13:45:49.569773",
     "exception": false,
     "start_time": "2020-08-13T13:45:49.457966",
     "status": "completed"
    },
    "tags": []
   },
   "outputs": [
    {
     "name": "stdout",
     "output_type": "stream",
     "text": [
      "   Fare  Survived\n",
      "0   0.0  0.680000\n",
      "1   1.0  0.407407\n",
      "2   2.0  0.342803\n",
      "3   3.0  0.405594\n"
     ]
    }
   ],
   "source": [
    "#c['CategoricalFare'] = pd.qcut(c['Fare'], 4)\n",
    "c_t=pd.concat([c, y_target], axis=1)\n",
    "print (c_t[['Fare', 'Survived']].groupby(['Fare'], as_index=False).mean())"
   ]
  },
  {
   "cell_type": "markdown",
   "execution_count": null,
   "metadata": {
    "papermill": {
     "duration": 0.075619,
     "end_time": "2020-08-13T13:45:49.730277",
     "exception": false,
     "start_time": "2020-08-13T13:45:49.654658",
     "status": "completed"
    },
    "tags": []
   },
   "source": [
    "### 1.4-Age\n",
    "* Age is a continous feature, there is a problem with Continous Variables in Machine Learning Models.\n",
    "* We need to convert these continous values into categorical values\n",
    "* The maximum age of a passenger was 80. So lets divide the range from 0-80 into 5 bins. So 80/5=16. So bins of size 16"
   ]
  },
  {
   "cell_type": "code",
   "execution_count": 74,
   "metadata": {
    "execution": {
     "iopub.execute_input": "2020-08-13T13:45:49.871367Z",
     "iopub.status.busy": "2020-08-13T13:45:49.870344Z",
     "iopub.status.idle": "2020-08-13T13:45:49.889469Z",
     "shell.execute_reply": "2020-08-13T13:45:49.890192Z"
    },
    "papermill": {
     "duration": 0.100749,
     "end_time": "2020-08-13T13:45:49.890352",
     "exception": false,
     "start_time": "2020-08-13T13:45:49.789603",
     "status": "completed"
    },
    "tags": []
   },
   "outputs": [
    {
     "name": "stdout",
     "output_type": "stream",
     "text": [
      "    Age  Survived\n",
      "0   0.0  0.590361\n",
      "1   1.0  0.344168\n",
      "2   2.0  0.404255\n",
      "3   3.0  0.434783\n",
      "4   4.0  0.090909\n",
      "5  16.0  0.352941\n"
     ]
    }
   ],
   "source": [
    "  \n",
    "c.loc[c['Age']<16,'Age'] = 0\n",
    "c.loc[(c['Age']>16) & (c['Age']<=32),'Age'] =1\n",
    "c.loc[(c['Age']>32) & (c['Age']<=48),'Age'] =2\n",
    "c.loc[(c['Age']>48) & (c['Age']<=64),'Age'] =3\n",
    "c.loc[c['Age']>64,'Age'] =4\n",
    "    \n",
    "#c['CategoricalAge'] = pd.qcut(c['Age'], 4)\n",
    "c_t=pd.concat([c, y_target], axis=1)\n",
    "print (c_t[['Age', 'Survived']].groupby(['Age'], as_index=False).mean())    \n",
    "    \n",
    "    \n",
    "    \n"
   ]
  },
  {
   "cell_type": "code",
   "execution_count": 75,
   "metadata": {
    "execution": {
     "iopub.execute_input": "2020-08-13T13:45:50.027614Z",
     "iopub.status.busy": "2020-08-13T13:45:50.026530Z",
     "iopub.status.idle": "2020-08-13T13:45:50.031369Z",
     "shell.execute_reply": "2020-08-13T13:45:50.030765Z"
    },
    "papermill": {
     "duration": 0.081886,
     "end_time": "2020-08-13T13:45:50.031493",
     "exception": false,
     "start_time": "2020-08-13T13:45:49.949607",
     "status": "completed"
    },
    "tags": []
   },
   "outputs": [
    {
     "data": {
      "text/html": [
       "<div>\n",
       "<style scoped>\n",
       "    .dataframe tbody tr th:only-of-type {\n",
       "        vertical-align: middle;\n",
       "    }\n",
       "\n",
       "    .dataframe tbody tr th {\n",
       "        vertical-align: top;\n",
       "    }\n",
       "\n",
       "    .dataframe thead th {\n",
       "        text-align: right;\n",
       "    }\n",
       "</style>\n",
       "<table border=\"1\" class=\"dataframe\">\n",
       "  <thead>\n",
       "    <tr style=\"text-align: right;\">\n",
       "      <th></th>\n",
       "      <th>Pclass</th>\n",
       "      <th>Name</th>\n",
       "      <th>Sex</th>\n",
       "      <th>Age</th>\n",
       "      <th>SibSp</th>\n",
       "      <th>Parch</th>\n",
       "      <th>Ticket</th>\n",
       "      <th>Fare</th>\n",
       "      <th>Cabin</th>\n",
       "      <th>Embarked</th>\n",
       "      <th>Title</th>\n",
       "      <th>FamilySize</th>\n",
       "      <th>IsAlone</th>\n",
       "      <th>Survived</th>\n",
       "    </tr>\n",
       "  </thead>\n",
       "  <tbody>\n",
       "    <tr>\n",
       "      <th>0</th>\n",
       "      <td>3</td>\n",
       "      <td>Braund, Mr. Owen Harris</td>\n",
       "      <td>male</td>\n",
       "      <td>1.0</td>\n",
       "      <td>1</td>\n",
       "      <td>0</td>\n",
       "      <td>A/5 21171</td>\n",
       "      <td>2.0</td>\n",
       "      <td>X</td>\n",
       "      <td>S</td>\n",
       "      <td>Mr</td>\n",
       "      <td>2</td>\n",
       "      <td>0</td>\n",
       "      <td>0.0</td>\n",
       "    </tr>\n",
       "    <tr>\n",
       "      <th>1</th>\n",
       "      <td>1</td>\n",
       "      <td>Cumings, Mrs. John Bradley (Florence Briggs Th...</td>\n",
       "      <td>female</td>\n",
       "      <td>2.0</td>\n",
       "      <td>1</td>\n",
       "      <td>0</td>\n",
       "      <td>PC 17599</td>\n",
       "      <td>3.0</td>\n",
       "      <td>C</td>\n",
       "      <td>C</td>\n",
       "      <td>Mrs</td>\n",
       "      <td>2</td>\n",
       "      <td>0</td>\n",
       "      <td>1.0</td>\n",
       "    </tr>\n",
       "    <tr>\n",
       "      <th>2</th>\n",
       "      <td>3</td>\n",
       "      <td>Heikkinen, Miss. Laina</td>\n",
       "      <td>female</td>\n",
       "      <td>1.0</td>\n",
       "      <td>0</td>\n",
       "      <td>0</td>\n",
       "      <td>STON/O2. 3101282</td>\n",
       "      <td>2.0</td>\n",
       "      <td>X</td>\n",
       "      <td>S</td>\n",
       "      <td>Miss</td>\n",
       "      <td>1</td>\n",
       "      <td>1</td>\n",
       "      <td>1.0</td>\n",
       "    </tr>\n",
       "  </tbody>\n",
       "</table>\n",
       "</div>"
      ],
      "text/plain": [
       "   Pclass                                               Name     Sex  Age  \\\n",
       "0       3                            Braund, Mr. Owen Harris    male  1.0   \n",
       "1       1  Cumings, Mrs. John Bradley (Florence Briggs Th...  female  2.0   \n",
       "2       3                             Heikkinen, Miss. Laina  female  1.0   \n",
       "\n",
       "   SibSp  Parch            Ticket  Fare Cabin Embarked Title  FamilySize  \\\n",
       "0      1      0         A/5 21171   2.0     X        S    Mr           2   \n",
       "1      1      0          PC 17599   3.0     C        C   Mrs           2   \n",
       "2      0      0  STON/O2. 3101282   2.0     X        S  Miss           1   \n",
       "\n",
       "   IsAlone  Survived  \n",
       "0        0       0.0  \n",
       "1        0       1.0  \n",
       "2        1       1.0  "
      ]
     },
     "execution_count": 75,
     "metadata": {},
     "output_type": "execute_result"
    }
   ],
   "source": [
    "c_t.head(3)"
   ]
  },
  {
   "cell_type": "markdown",
   "execution_count": null,
   "metadata": {
    "papermill": {
     "duration": 0.056835,
     "end_time": "2020-08-13T13:45:50.147799",
     "exception": false,
     "start_time": "2020-08-13T13:45:50.090964",
     "status": "completed"
    },
    "tags": []
   },
   "source": [
    "### 1.5-Ticket\n"
   ]
  },
  {
   "cell_type": "code",
   "execution_count": 76,
   "metadata": {
    "execution": {
     "iopub.execute_input": "2020-08-13T13:45:50.275315Z",
     "iopub.status.busy": "2020-08-13T13:45:50.274213Z",
     "iopub.status.idle": "2020-08-13T13:45:50.279257Z",
     "shell.execute_reply": "2020-08-13T13:45:50.278575Z"
    },
    "papermill": {
     "duration": 0.077616,
     "end_time": "2020-08-13T13:45:50.279398",
     "exception": false,
     "start_time": "2020-08-13T13:45:50.201782",
     "status": "completed"
    },
    "tags": []
   },
   "outputs": [
    {
     "data": {
      "text/html": [
       "<div>\n",
       "<style scoped>\n",
       "    .dataframe tbody tr th:only-of-type {\n",
       "        vertical-align: middle;\n",
       "    }\n",
       "\n",
       "    .dataframe tbody tr th {\n",
       "        vertical-align: top;\n",
       "    }\n",
       "\n",
       "    .dataframe thead th {\n",
       "        text-align: right;\n",
       "    }\n",
       "</style>\n",
       "<table border=\"1\" class=\"dataframe\">\n",
       "  <thead>\n",
       "    <tr style=\"text-align: right;\">\n",
       "      <th></th>\n",
       "      <th>Pclass</th>\n",
       "      <th>Name</th>\n",
       "      <th>Sex</th>\n",
       "      <th>Age</th>\n",
       "      <th>SibSp</th>\n",
       "      <th>Parch</th>\n",
       "      <th>Ticket</th>\n",
       "      <th>Fare</th>\n",
       "      <th>Cabin</th>\n",
       "      <th>Embarked</th>\n",
       "      <th>Title</th>\n",
       "      <th>FamilySize</th>\n",
       "      <th>IsAlone</th>\n",
       "    </tr>\n",
       "  </thead>\n",
       "  <tbody>\n",
       "    <tr>\n",
       "      <th>179</th>\n",
       "      <td>3</td>\n",
       "      <td>Leonard, Mr. Lionel</td>\n",
       "      <td>male</td>\n",
       "      <td>2.0</td>\n",
       "      <td>0</td>\n",
       "      <td>0</td>\n",
       "      <td>LINE</td>\n",
       "      <td>3.0</td>\n",
       "      <td>X</td>\n",
       "      <td>S</td>\n",
       "      <td>Mr</td>\n",
       "      <td>1</td>\n",
       "      <td>1</td>\n",
       "    </tr>\n",
       "    <tr>\n",
       "      <th>271</th>\n",
       "      <td>3</td>\n",
       "      <td>Tornquist, Mr. William Henry</td>\n",
       "      <td>male</td>\n",
       "      <td>1.0</td>\n",
       "      <td>0</td>\n",
       "      <td>0</td>\n",
       "      <td>LINE</td>\n",
       "      <td>2.0</td>\n",
       "      <td>X</td>\n",
       "      <td>S</td>\n",
       "      <td>Mr</td>\n",
       "      <td>1</td>\n",
       "      <td>1</td>\n",
       "    </tr>\n",
       "    <tr>\n",
       "      <th>302</th>\n",
       "      <td>3</td>\n",
       "      <td>Johnson, Mr. William Cahoone Jr</td>\n",
       "      <td>male</td>\n",
       "      <td>1.0</td>\n",
       "      <td>0</td>\n",
       "      <td>0</td>\n",
       "      <td>LINE</td>\n",
       "      <td>2.0</td>\n",
       "      <td>X</td>\n",
       "      <td>S</td>\n",
       "      <td>Mr</td>\n",
       "      <td>1</td>\n",
       "      <td>1</td>\n",
       "    </tr>\n",
       "    <tr>\n",
       "      <th>597</th>\n",
       "      <td>3</td>\n",
       "      <td>Johnson, Mr. Alfred</td>\n",
       "      <td>male</td>\n",
       "      <td>3.0</td>\n",
       "      <td>0</td>\n",
       "      <td>0</td>\n",
       "      <td>LINE</td>\n",
       "      <td>3.0</td>\n",
       "      <td>X</td>\n",
       "      <td>S</td>\n",
       "      <td>Mr</td>\n",
       "      <td>1</td>\n",
       "      <td>1</td>\n",
       "    </tr>\n",
       "  </tbody>\n",
       "</table>\n",
       "</div>"
      ],
      "text/plain": [
       "     Pclass                             Name   Sex  Age  SibSp  Parch Ticket  \\\n",
       "179       3              Leonard, Mr. Lionel  male  2.0      0      0   LINE   \n",
       "271       3     Tornquist, Mr. William Henry  male  1.0      0      0   LINE   \n",
       "302       3  Johnson, Mr. William Cahoone Jr  male  1.0      0      0   LINE   \n",
       "597       3              Johnson, Mr. Alfred  male  3.0      0      0   LINE   \n",
       "\n",
       "     Fare Cabin Embarked Title  FamilySize  IsAlone  \n",
       "179   3.0     X        S    Mr           1        1  \n",
       "271   2.0     X        S    Mr           1        1  \n",
       "302   2.0     X        S    Mr           1        1  \n",
       "597   3.0     X        S    Mr           1        1  "
      ]
     },
     "execution_count": 76,
     "metadata": {},
     "output_type": "execute_result"
    }
   ],
   "source": [
    "c.loc[c['Ticket']=='LINE']"
   ]
  },
  {
   "cell_type": "code",
   "execution_count": 77,
   "metadata": {
    "execution": {
     "iopub.execute_input": "2020-08-13T13:45:50.404688Z",
     "iopub.status.busy": "2020-08-13T13:45:50.403702Z",
     "iopub.status.idle": "2020-08-13T13:45:50.407494Z",
     "shell.execute_reply": "2020-08-13T13:45:50.406672Z"
    },
    "papermill": {
     "duration": 0.06982,
     "end_time": "2020-08-13T13:45:50.407666",
     "exception": false,
     "start_time": "2020-08-13T13:45:50.337846",
     "status": "completed"
    },
    "tags": []
   },
   "outputs": [],
   "source": [
    "c['Ticket'] = c['Ticket'].replace('LINE','LINE 0')"
   ]
  },
  {
   "cell_type": "code",
   "execution_count": 78,
   "metadata": {
    "execution": {
     "iopub.execute_input": "2020-08-13T13:45:50.555114Z",
     "iopub.status.busy": "2020-08-13T13:45:50.553913Z",
     "iopub.status.idle": "2020-08-13T13:45:50.563258Z",
     "shell.execute_reply": "2020-08-13T13:45:50.564537Z"
    },
    "papermill": {
     "duration": 0.100218,
     "end_time": "2020-08-13T13:45:50.564760",
     "exception": false,
     "start_time": "2020-08-13T13:45:50.464542",
     "status": "completed"
    },
    "tags": []
   },
   "outputs": [],
   "source": [
    "# remove dots and slashes\n",
    "c['Ticket'] = c['Ticket'].apply(lambda x: x.replace('.','').replace('/','').lower())\n",
    "def get_prefix(ticket):\n",
    "    lead = ticket.split(' ')[0][0]\n",
    "    if lead.isalpha():\n",
    "        return ticket.split(' ')[0]\n",
    "    else:\n",
    "        return 'NoPrefix'\n",
    "    \n",
    "c['Prefix'] = c['Ticket'].apply(lambda x: get_prefix(x))"
   ]
  },
  {
   "cell_type": "markdown",
   "execution_count": null,
   "metadata": {
    "papermill": {
     "duration": 0.082578,
     "end_time": "2020-08-13T13:45:50.737217",
     "exception": false,
     "start_time": "2020-08-13T13:45:50.654639",
     "status": "completed"
    },
    "tags": []
   },
   "source": [
    "#### Next we extract the numeric portion of the ticket. We create extra features such as:\n",
    "\n",
    " * 1-The numerical component (TNumeric)\n",
    " * 2-Number of digits (TNlen)\n",
    " * 3-Leading digit (LeadingDigit)\n",
    " * 4-Group similar tickets by discarding the last digits (TGroup)\n",
    " \n",
    "TGroup is a feature that I thought it would help to capture what has been discussed in here. The idea is similar ticket numbers (not just identical numbers) is tied to groups of people. This is important because we know that identifying groups is helpful and looking at just family ties is not sufficient for the best model."
   ]
  },
  {
   "cell_type": "code",
   "execution_count": 79,
   "metadata": {
    "execution": {
     "iopub.execute_input": "2020-08-13T13:45:50.911540Z",
     "iopub.status.busy": "2020-08-13T13:45:50.910590Z",
     "iopub.status.idle": "2020-08-13T13:45:50.959708Z",
     "shell.execute_reply": "2020-08-13T13:45:50.961043Z"
    },
    "papermill": {
     "duration": 0.142499,
     "end_time": "2020-08-13T13:45:50.961259",
     "exception": false,
     "start_time": "2020-08-13T13:45:50.818760",
     "status": "completed"
    },
    "tags": []
   },
   "outputs": [
    {
     "data": {
      "text/html": [
       "<div>\n",
       "<style scoped>\n",
       "    .dataframe tbody tr th:only-of-type {\n",
       "        vertical-align: middle;\n",
       "    }\n",
       "\n",
       "    .dataframe tbody tr th {\n",
       "        vertical-align: top;\n",
       "    }\n",
       "\n",
       "    .dataframe thead th {\n",
       "        text-align: right;\n",
       "    }\n",
       "</style>\n",
       "<table border=\"1\" class=\"dataframe\">\n",
       "  <thead>\n",
       "    <tr style=\"text-align: right;\">\n",
       "      <th></th>\n",
       "      <th>Pclass</th>\n",
       "      <th>Name</th>\n",
       "      <th>Sex</th>\n",
       "      <th>Age</th>\n",
       "      <th>SibSp</th>\n",
       "      <th>Parch</th>\n",
       "      <th>Ticket</th>\n",
       "      <th>Fare</th>\n",
       "      <th>Cabin</th>\n",
       "      <th>Embarked</th>\n",
       "      <th>Title</th>\n",
       "      <th>FamilySize</th>\n",
       "      <th>IsAlone</th>\n",
       "      <th>Prefix</th>\n",
       "      <th>TNumeric</th>\n",
       "      <th>TNlen</th>\n",
       "      <th>LeadingDigit</th>\n",
       "      <th>TGroup</th>\n",
       "    </tr>\n",
       "  </thead>\n",
       "  <tbody>\n",
       "    <tr>\n",
       "      <th>0</th>\n",
       "      <td>3</td>\n",
       "      <td>Braund, Mr. Owen Harris</td>\n",
       "      <td>male</td>\n",
       "      <td>1.0</td>\n",
       "      <td>1</td>\n",
       "      <td>0</td>\n",
       "      <td>a5 21171</td>\n",
       "      <td>2.0</td>\n",
       "      <td>X</td>\n",
       "      <td>S</td>\n",
       "      <td>Mr</td>\n",
       "      <td>2</td>\n",
       "      <td>0</td>\n",
       "      <td>a5</td>\n",
       "      <td>21171</td>\n",
       "      <td>5</td>\n",
       "      <td>2</td>\n",
       "      <td>2117</td>\n",
       "    </tr>\n",
       "    <tr>\n",
       "      <th>1</th>\n",
       "      <td>1</td>\n",
       "      <td>Cumings, Mrs. John Bradley (Florence Briggs Th...</td>\n",
       "      <td>female</td>\n",
       "      <td>2.0</td>\n",
       "      <td>1</td>\n",
       "      <td>0</td>\n",
       "      <td>pc 17599</td>\n",
       "      <td>3.0</td>\n",
       "      <td>C</td>\n",
       "      <td>C</td>\n",
       "      <td>Mrs</td>\n",
       "      <td>2</td>\n",
       "      <td>0</td>\n",
       "      <td>pc</td>\n",
       "      <td>17599</td>\n",
       "      <td>5</td>\n",
       "      <td>1</td>\n",
       "      <td>1759</td>\n",
       "    </tr>\n",
       "    <tr>\n",
       "      <th>2</th>\n",
       "      <td>3</td>\n",
       "      <td>Heikkinen, Miss. Laina</td>\n",
       "      <td>female</td>\n",
       "      <td>1.0</td>\n",
       "      <td>0</td>\n",
       "      <td>0</td>\n",
       "      <td>stono2 3101282</td>\n",
       "      <td>2.0</td>\n",
       "      <td>X</td>\n",
       "      <td>S</td>\n",
       "      <td>Miss</td>\n",
       "      <td>1</td>\n",
       "      <td>1</td>\n",
       "      <td>stono2</td>\n",
       "      <td>3101282</td>\n",
       "      <td>7</td>\n",
       "      <td>3</td>\n",
       "      <td>310128</td>\n",
       "    </tr>\n",
       "    <tr>\n",
       "      <th>3</th>\n",
       "      <td>1</td>\n",
       "      <td>Futrelle, Mrs. Jacques Heath (Lily May Peel)</td>\n",
       "      <td>female</td>\n",
       "      <td>2.0</td>\n",
       "      <td>1</td>\n",
       "      <td>0</td>\n",
       "      <td>113803</td>\n",
       "      <td>3.0</td>\n",
       "      <td>C</td>\n",
       "      <td>S</td>\n",
       "      <td>Mrs</td>\n",
       "      <td>2</td>\n",
       "      <td>0</td>\n",
       "      <td>NoPrefix</td>\n",
       "      <td>113803</td>\n",
       "      <td>6</td>\n",
       "      <td>1</td>\n",
       "      <td>11380</td>\n",
       "    </tr>\n",
       "    <tr>\n",
       "      <th>4</th>\n",
       "      <td>3</td>\n",
       "      <td>Allen, Mr. William Henry</td>\n",
       "      <td>male</td>\n",
       "      <td>2.0</td>\n",
       "      <td>0</td>\n",
       "      <td>0</td>\n",
       "      <td>373450</td>\n",
       "      <td>3.0</td>\n",
       "      <td>X</td>\n",
       "      <td>S</td>\n",
       "      <td>Mr</td>\n",
       "      <td>1</td>\n",
       "      <td>1</td>\n",
       "      <td>NoPrefix</td>\n",
       "      <td>373450</td>\n",
       "      <td>6</td>\n",
       "      <td>3</td>\n",
       "      <td>37345</td>\n",
       "    </tr>\n",
       "  </tbody>\n",
       "</table>\n",
       "</div>"
      ],
      "text/plain": [
       "   Pclass                                               Name     Sex  Age  \\\n",
       "0       3                            Braund, Mr. Owen Harris    male  1.0   \n",
       "1       1  Cumings, Mrs. John Bradley (Florence Briggs Th...  female  2.0   \n",
       "2       3                             Heikkinen, Miss. Laina  female  1.0   \n",
       "3       1       Futrelle, Mrs. Jacques Heath (Lily May Peel)  female  2.0   \n",
       "4       3                           Allen, Mr. William Henry    male  2.0   \n",
       "\n",
       "   SibSp  Parch          Ticket  Fare Cabin Embarked Title  FamilySize  \\\n",
       "0      1      0        a5 21171   2.0     X        S    Mr           2   \n",
       "1      1      0        pc 17599   3.0     C        C   Mrs           2   \n",
       "2      0      0  stono2 3101282   2.0     X        S  Miss           1   \n",
       "3      1      0          113803   3.0     C        S   Mrs           2   \n",
       "4      0      0          373450   3.0     X        S    Mr           1   \n",
       "\n",
       "   IsAlone    Prefix  TNumeric  TNlen  LeadingDigit  TGroup  \n",
       "0        0        a5     21171      5             2    2117  \n",
       "1        0        pc     17599      5             1    1759  \n",
       "2        1    stono2   3101282      7             3  310128  \n",
       "3        0  NoPrefix    113803      6             1   11380  \n",
       "4        1  NoPrefix    373450      6             3   37345  "
      ]
     },
     "execution_count": 79,
     "metadata": {},
     "output_type": "execute_result"
    }
   ],
   "source": [
    "c['TNumeric'] = c['Ticket'].apply(lambda x: int(x.split(' ')[-1])//1)\n",
    "c['TNlen'] = c['TNumeric'].apply(lambda x : len(str(x)))\n",
    "c['LeadingDigit'] = c['TNumeric'].apply(lambda x : int(str(x)[0]))\n",
    "c['TGroup'] = c['Ticket'].apply(lambda x: str(int(x.split(' ')[-1])//10))\n",
    "\n",
    "c.head()"
   ]
  },
  {
   "cell_type": "code",
   "execution_count": 80,
   "metadata": {
    "execution": {
     "iopub.execute_input": "2020-08-13T13:45:51.159174Z",
     "iopub.status.busy": "2020-08-13T13:45:51.158129Z",
     "iopub.status.idle": "2020-08-13T13:45:51.179219Z",
     "shell.execute_reply": "2020-08-13T13:45:51.180320Z"
    },
    "papermill": {
     "duration": 0.118596,
     "end_time": "2020-08-13T13:45:51.180517",
     "exception": false,
     "start_time": "2020-08-13T13:45:51.061921",
     "status": "completed"
    },
    "tags": []
   },
   "outputs": [
    {
     "name": "stdout",
     "output_type": "stream",
     "text": [
      "   LeadingDigit  Survived\n",
      "0             0  0.250000\n",
      "1             1  0.606061\n",
      "2             2  0.408696\n",
      "3             3  0.258856\n",
      "4             4  0.133333\n",
      "5             5  0.222222\n",
      "6             6  0.071429\n",
      "7             7  0.266667\n",
      "8             8  0.000000\n",
      "9             9  1.000000\n"
     ]
    }
   ],
   "source": [
    "#c['CategoricalAge'] = pd.qcut(c['Age'], 4)\n",
    "c_t=pd.concat([c, y_target], axis=1)\n",
    "print (c_t[['LeadingDigit', 'Survived']].groupby(['LeadingDigit'], as_index=False).mean())    \n",
    "    "
   ]
  },
  {
   "cell_type": "markdown",
   "execution_count": null,
   "metadata": {
    "papermill": {
     "duration": 0.060999,
     "end_time": "2020-08-13T13:45:51.322267",
     "exception": false,
     "start_time": "2020-08-13T13:45:51.261268",
     "status": "completed"
    },
    "tags": []
   },
   "source": [
    "# 1.6-Cabin"
   ]
  },
  {
   "cell_type": "code",
   "execution_count": 81,
   "metadata": {
    "execution": {
     "iopub.execute_input": "2020-08-13T13:45:51.513593Z",
     "iopub.status.busy": "2020-08-13T13:45:51.512802Z",
     "iopub.status.idle": "2020-08-13T13:45:51.521209Z",
     "shell.execute_reply": "2020-08-13T13:45:51.522543Z"
    },
    "papermill": {
     "duration": 0.128679,
     "end_time": "2020-08-13T13:45:51.522738",
     "exception": false,
     "start_time": "2020-08-13T13:45:51.394059",
     "status": "completed"
    },
    "tags": []
   },
   "outputs": [
    {
     "name": "stdout",
     "output_type": "stream",
     "text": [
      "  Cabin  Survived\n",
      "0     A  0.466667\n",
      "1     B  0.744681\n",
      "2     C  0.593220\n",
      "3     D  0.757576\n",
      "4     E  0.750000\n",
      "5     F  0.615385\n",
      "6     G  0.500000\n",
      "7     T  0.000000\n",
      "8     X  0.299854\n"
     ]
    }
   ],
   "source": [
    "#c['CategoricalAge'] = pd.qcut(c['Age'], 4)\n",
    "c_t=pd.concat([c, y_target], axis=1)\n",
    "print (c_t[['Cabin', 'Survived']].groupby(['Cabin'], as_index=False).mean())    \n",
    "    "
   ]
  },
  {
   "cell_type": "code",
   "execution_count": 82,
   "metadata": {
    "execution": {
     "iopub.execute_input": "2020-08-13T13:45:51.707929Z",
     "iopub.status.busy": "2020-08-13T13:45:51.698370Z",
     "iopub.status.idle": "2020-08-13T13:45:51.711094Z",
     "shell.execute_reply": "2020-08-13T13:45:51.710476Z"
    },
    "papermill": {
     "duration": 0.097428,
     "end_time": "2020-08-13T13:45:51.711226",
     "exception": false,
     "start_time": "2020-08-13T13:45:51.613798",
     "status": "completed"
    },
    "tags": []
   },
   "outputs": [],
   "source": [
    "c['Cabin'] = c['Cabin'].replace('A', 'Y')\n",
    "c['Cabin'] = c['Cabin'].replace('B', 'Y')\n",
    "c['Cabin'] = c['Cabin'].replace('C', 'Y')\n",
    "c['Cabin'] = c['Cabin'].replace('D', 'Y')\n",
    "c['Cabin'] = c['Cabin'].replace('E', 'Y')\n",
    "c['Cabin'] = c['Cabin'].replace('F', 'Y')\n",
    "c['Cabin'] = c['Cabin'].replace('G', 'Y')\n",
    "c['Cabin'] = c['Cabin'].replace('T', 'Y')\n",
    "c['Cabin'] = c['Cabin'].replace('X', 'X')"
   ]
  },
  {
   "cell_type": "code",
   "execution_count": 83,
   "metadata": {
    "execution": {
     "iopub.execute_input": "2020-08-13T13:45:51.832595Z",
     "iopub.status.busy": "2020-08-13T13:45:51.828634Z",
     "iopub.status.idle": "2020-08-13T13:45:51.846276Z",
     "shell.execute_reply": "2020-08-13T13:45:51.847128Z"
    },
    "papermill": {
     "duration": 0.080398,
     "end_time": "2020-08-13T13:45:51.847293",
     "exception": false,
     "start_time": "2020-08-13T13:45:51.766895",
     "status": "completed"
    },
    "tags": []
   },
   "outputs": [
    {
     "name": "stdout",
     "output_type": "stream",
     "text": [
      "  Cabin  Survived\n",
      "0     X  0.299854\n",
      "1     Y  0.666667\n"
     ]
    }
   ],
   "source": [
    "#c['CategoricalAge'] = pd.qcut(c['Age'], 4)\n",
    "c_t=pd.concat([c, y_target], axis=1)\n",
    "print (c_t[['Cabin', 'Survived']].groupby(['Cabin'], as_index=False).mean())   "
   ]
  },
  {
   "cell_type": "markdown",
   "execution_count": null,
   "metadata": {
    "papermill": {
     "duration": 0.061351,
     "end_time": "2020-08-13T13:45:51.969685",
     "exception": false,
     "start_time": "2020-08-13T13:45:51.908334",
     "status": "completed"
    },
    "tags": []
   },
   "source": [
    "# 4- Encoding categorical features:"
   ]
  },
  {
   "cell_type": "markdown",
   "execution_count": null,
   "metadata": {
    "papermill": {
     "duration": 0.055149,
     "end_time": "2020-08-13T13:45:52.087115",
     "exception": false,
     "start_time": "2020-08-13T13:45:52.031966",
     "status": "completed"
    },
    "tags": []
   },
   "source": [
    "### 4.1 Numerical features:\n",
    "We start with numerical features that are actually categorical, for example \"Pclass\", the values are from 1 to 12, each number is assigned to a month November is number 11 while March is number 3. 11 is just the order of the months and not a given value, so we convert the \"Month Sold\" feature to categorical"
   ]
  },
  {
   "cell_type": "markdown",
   "execution_count": null,
   "metadata": {
    "papermill": {
     "duration": 0.05653,
     "end_time": "2020-08-13T13:45:52.201617",
     "exception": false,
     "start_time": "2020-08-13T13:45:52.145087",
     "status": "completed"
    },
    "tags": []
   },
   "source": [
    "### Mapping Feature "
   ]
  },
  {
   "cell_type": "code",
   "execution_count": 84,
   "metadata": {
    "execution": {
     "iopub.execute_input": "2020-08-13T13:45:52.320307Z",
     "iopub.status.busy": "2020-08-13T13:45:52.319230Z",
     "iopub.status.idle": "2020-08-13T13:45:52.351369Z",
     "shell.execute_reply": "2020-08-13T13:45:52.350790Z"
    },
    "papermill": {
     "duration": 0.094896,
     "end_time": "2020-08-13T13:45:52.351486",
     "exception": false,
     "start_time": "2020-08-13T13:45:52.256590",
     "status": "completed"
    },
    "tags": []
   },
   "outputs": [
    {
     "data": {
      "text/html": [
       "<div>\n",
       "<style scoped>\n",
       "    .dataframe tbody tr th:only-of-type {\n",
       "        vertical-align: middle;\n",
       "    }\n",
       "\n",
       "    .dataframe tbody tr th {\n",
       "        vertical-align: top;\n",
       "    }\n",
       "\n",
       "    .dataframe thead th {\n",
       "        text-align: right;\n",
       "    }\n",
       "</style>\n",
       "<table border=\"1\" class=\"dataframe\">\n",
       "  <thead>\n",
       "    <tr style=\"text-align: right;\">\n",
       "      <th></th>\n",
       "      <th>Pclass</th>\n",
       "      <th>Name</th>\n",
       "      <th>Sex</th>\n",
       "      <th>Age</th>\n",
       "      <th>SibSp</th>\n",
       "      <th>Parch</th>\n",
       "      <th>Ticket</th>\n",
       "      <th>Fare</th>\n",
       "      <th>Cabin</th>\n",
       "      <th>Embarked</th>\n",
       "      <th>Title</th>\n",
       "      <th>FamilySize</th>\n",
       "      <th>IsAlone</th>\n",
       "      <th>Prefix</th>\n",
       "      <th>TNumeric</th>\n",
       "      <th>TNlen</th>\n",
       "      <th>LeadingDigit</th>\n",
       "      <th>TGroup</th>\n",
       "    </tr>\n",
       "  </thead>\n",
       "  <tbody>\n",
       "    <tr>\n",
       "      <th>0</th>\n",
       "      <td>3</td>\n",
       "      <td>Braund, Mr. Owen Harris</td>\n",
       "      <td>0</td>\n",
       "      <td>1.0</td>\n",
       "      <td>1</td>\n",
       "      <td>0</td>\n",
       "      <td>a5 21171</td>\n",
       "      <td>2.0</td>\n",
       "      <td>X</td>\n",
       "      <td>0</td>\n",
       "      <td>1</td>\n",
       "      <td>2</td>\n",
       "      <td>0</td>\n",
       "      <td>a5</td>\n",
       "      <td>21171</td>\n",
       "      <td>5</td>\n",
       "      <td>2</td>\n",
       "      <td>2117</td>\n",
       "    </tr>\n",
       "    <tr>\n",
       "      <th>1</th>\n",
       "      <td>1</td>\n",
       "      <td>Cumings, Mrs. John Bradley (Florence Briggs Th...</td>\n",
       "      <td>1</td>\n",
       "      <td>2.0</td>\n",
       "      <td>1</td>\n",
       "      <td>0</td>\n",
       "      <td>pc 17599</td>\n",
       "      <td>3.0</td>\n",
       "      <td>Y</td>\n",
       "      <td>1</td>\n",
       "      <td>3</td>\n",
       "      <td>2</td>\n",
       "      <td>0</td>\n",
       "      <td>pc</td>\n",
       "      <td>17599</td>\n",
       "      <td>5</td>\n",
       "      <td>1</td>\n",
       "      <td>1759</td>\n",
       "    </tr>\n",
       "    <tr>\n",
       "      <th>2</th>\n",
       "      <td>3</td>\n",
       "      <td>Heikkinen, Miss. Laina</td>\n",
       "      <td>1</td>\n",
       "      <td>1.0</td>\n",
       "      <td>0</td>\n",
       "      <td>0</td>\n",
       "      <td>stono2 3101282</td>\n",
       "      <td>2.0</td>\n",
       "      <td>X</td>\n",
       "      <td>0</td>\n",
       "      <td>2</td>\n",
       "      <td>1</td>\n",
       "      <td>1</td>\n",
       "      <td>stono2</td>\n",
       "      <td>3101282</td>\n",
       "      <td>7</td>\n",
       "      <td>3</td>\n",
       "      <td>310128</td>\n",
       "    </tr>\n",
       "    <tr>\n",
       "      <th>3</th>\n",
       "      <td>1</td>\n",
       "      <td>Futrelle, Mrs. Jacques Heath (Lily May Peel)</td>\n",
       "      <td>1</td>\n",
       "      <td>2.0</td>\n",
       "      <td>1</td>\n",
       "      <td>0</td>\n",
       "      <td>113803</td>\n",
       "      <td>3.0</td>\n",
       "      <td>Y</td>\n",
       "      <td>0</td>\n",
       "      <td>3</td>\n",
       "      <td>2</td>\n",
       "      <td>0</td>\n",
       "      <td>NoPrefix</td>\n",
       "      <td>113803</td>\n",
       "      <td>6</td>\n",
       "      <td>1</td>\n",
       "      <td>11380</td>\n",
       "    </tr>\n",
       "    <tr>\n",
       "      <th>4</th>\n",
       "      <td>3</td>\n",
       "      <td>Allen, Mr. William Henry</td>\n",
       "      <td>0</td>\n",
       "      <td>2.0</td>\n",
       "      <td>0</td>\n",
       "      <td>0</td>\n",
       "      <td>373450</td>\n",
       "      <td>3.0</td>\n",
       "      <td>X</td>\n",
       "      <td>0</td>\n",
       "      <td>1</td>\n",
       "      <td>1</td>\n",
       "      <td>1</td>\n",
       "      <td>NoPrefix</td>\n",
       "      <td>373450</td>\n",
       "      <td>6</td>\n",
       "      <td>3</td>\n",
       "      <td>37345</td>\n",
       "    </tr>\n",
       "    <tr>\n",
       "      <th>5</th>\n",
       "      <td>3</td>\n",
       "      <td>Moran, Mr. James</td>\n",
       "      <td>0</td>\n",
       "      <td>1.0</td>\n",
       "      <td>0</td>\n",
       "      <td>0</td>\n",
       "      <td>330877</td>\n",
       "      <td>2.0</td>\n",
       "      <td>X</td>\n",
       "      <td>2</td>\n",
       "      <td>1</td>\n",
       "      <td>1</td>\n",
       "      <td>1</td>\n",
       "      <td>NoPrefix</td>\n",
       "      <td>330877</td>\n",
       "      <td>6</td>\n",
       "      <td>3</td>\n",
       "      <td>33087</td>\n",
       "    </tr>\n",
       "    <tr>\n",
       "      <th>6</th>\n",
       "      <td>1</td>\n",
       "      <td>McCarthy, Mr. Timothy J</td>\n",
       "      <td>0</td>\n",
       "      <td>3.0</td>\n",
       "      <td>0</td>\n",
       "      <td>0</td>\n",
       "      <td>17463</td>\n",
       "      <td>3.0</td>\n",
       "      <td>Y</td>\n",
       "      <td>0</td>\n",
       "      <td>1</td>\n",
       "      <td>1</td>\n",
       "      <td>1</td>\n",
       "      <td>NoPrefix</td>\n",
       "      <td>17463</td>\n",
       "      <td>5</td>\n",
       "      <td>1</td>\n",
       "      <td>1746</td>\n",
       "    </tr>\n",
       "    <tr>\n",
       "      <th>7</th>\n",
       "      <td>3</td>\n",
       "      <td>Palsson, Master. Gosta Leonard</td>\n",
       "      <td>0</td>\n",
       "      <td>0.0</td>\n",
       "      <td>3</td>\n",
       "      <td>1</td>\n",
       "      <td>349909</td>\n",
       "      <td>0.0</td>\n",
       "      <td>X</td>\n",
       "      <td>0</td>\n",
       "      <td>4</td>\n",
       "      <td>5</td>\n",
       "      <td>0</td>\n",
       "      <td>NoPrefix</td>\n",
       "      <td>349909</td>\n",
       "      <td>6</td>\n",
       "      <td>3</td>\n",
       "      <td>34990</td>\n",
       "    </tr>\n",
       "    <tr>\n",
       "      <th>8</th>\n",
       "      <td>3</td>\n",
       "      <td>Johnson, Mrs. Oscar W (Elisabeth Vilhelmina Berg)</td>\n",
       "      <td>1</td>\n",
       "      <td>1.0</td>\n",
       "      <td>0</td>\n",
       "      <td>2</td>\n",
       "      <td>347742</td>\n",
       "      <td>2.0</td>\n",
       "      <td>X</td>\n",
       "      <td>0</td>\n",
       "      <td>3</td>\n",
       "      <td>3</td>\n",
       "      <td>0</td>\n",
       "      <td>NoPrefix</td>\n",
       "      <td>347742</td>\n",
       "      <td>6</td>\n",
       "      <td>3</td>\n",
       "      <td>34774</td>\n",
       "    </tr>\n",
       "    <tr>\n",
       "      <th>9</th>\n",
       "      <td>2</td>\n",
       "      <td>Nasser, Mrs. Nicholas (Adele Achem)</td>\n",
       "      <td>1</td>\n",
       "      <td>0.0</td>\n",
       "      <td>1</td>\n",
       "      <td>0</td>\n",
       "      <td>237736</td>\n",
       "      <td>1.0</td>\n",
       "      <td>X</td>\n",
       "      <td>1</td>\n",
       "      <td>3</td>\n",
       "      <td>2</td>\n",
       "      <td>0</td>\n",
       "      <td>NoPrefix</td>\n",
       "      <td>237736</td>\n",
       "      <td>6</td>\n",
       "      <td>2</td>\n",
       "      <td>23773</td>\n",
       "    </tr>\n",
       "  </tbody>\n",
       "</table>\n",
       "</div>"
      ],
      "text/plain": [
       "   Pclass                                               Name  Sex  Age  SibSp  \\\n",
       "0       3                            Braund, Mr. Owen Harris    0  1.0      1   \n",
       "1       1  Cumings, Mrs. John Bradley (Florence Briggs Th...    1  2.0      1   \n",
       "2       3                             Heikkinen, Miss. Laina    1  1.0      0   \n",
       "3       1       Futrelle, Mrs. Jacques Heath (Lily May Peel)    1  2.0      1   \n",
       "4       3                           Allen, Mr. William Henry    0  2.0      0   \n",
       "5       3                                   Moran, Mr. James    0  1.0      0   \n",
       "6       1                            McCarthy, Mr. Timothy J    0  3.0      0   \n",
       "7       3                     Palsson, Master. Gosta Leonard    0  0.0      3   \n",
       "8       3  Johnson, Mrs. Oscar W (Elisabeth Vilhelmina Berg)    1  1.0      0   \n",
       "9       2                Nasser, Mrs. Nicholas (Adele Achem)    1  0.0      1   \n",
       "\n",
       "   Parch          Ticket  Fare Cabin  Embarked  Title  FamilySize  IsAlone  \\\n",
       "0      0        a5 21171   2.0     X         0      1           2        0   \n",
       "1      0        pc 17599   3.0     Y         1      3           2        0   \n",
       "2      0  stono2 3101282   2.0     X         0      2           1        1   \n",
       "3      0          113803   3.0     Y         0      3           2        0   \n",
       "4      0          373450   3.0     X         0      1           1        1   \n",
       "5      0          330877   2.0     X         2      1           1        1   \n",
       "6      0           17463   3.0     Y         0      1           1        1   \n",
       "7      1          349909   0.0     X         0      4           5        0   \n",
       "8      2          347742   2.0     X         0      3           3        0   \n",
       "9      0          237736   1.0     X         1      3           2        0   \n",
       "\n",
       "     Prefix  TNumeric  TNlen  LeadingDigit  TGroup  \n",
       "0        a5     21171      5             2    2117  \n",
       "1        pc     17599      5             1    1759  \n",
       "2    stono2   3101282      7             3  310128  \n",
       "3  NoPrefix    113803      6             1   11380  \n",
       "4  NoPrefix    373450      6             3   37345  \n",
       "5  NoPrefix    330877      6             3   33087  \n",
       "6  NoPrefix     17463      5             1    1746  \n",
       "7  NoPrefix    349909      6             3   34990  \n",
       "8  NoPrefix    347742      6             3   34774  \n",
       "9  NoPrefix    237736      6             2   23773  "
      ]
     },
     "execution_count": 84,
     "metadata": {},
     "output_type": "execute_result"
    }
   ],
   "source": [
    "title_mapping = {\"Mr\": 1, \"Miss\": 2, \"Mrs\": 3, \"Master\": 4, \"Rare\": 5}\n",
    "\n",
    "c['Title'] = c['Title'].map(title_mapping)\n",
    "c['Title'] = c['Title'].fillna(0)\n",
    "\n",
    "\n",
    "\n",
    "c['Sex'] = c['Sex'].map( {'female': 1, 'male': 0} ).astype(int)\n",
    "\n",
    "c.head()\n",
    "\n",
    "c['Embarked'] = c['Embarked'].map( {'S': 0, 'C': 1, 'Q': 2} ).astype(int)\n",
    "\n",
    "c.head(10)"
   ]
  },
  {
   "cell_type": "markdown",
   "execution_count": null,
   "metadata": {
    "papermill": {
     "duration": 0.055796,
     "end_time": "2020-08-13T13:45:52.470155",
     "exception": false,
     "start_time": "2020-08-13T13:45:52.414359",
     "status": "completed"
    },
    "tags": []
   },
   "source": [
    "#### Extract new feature after mapping"
   ]
  },
  {
   "cell_type": "code",
   "execution_count": 85,
   "metadata": {
    "execution": {
     "iopub.execute_input": "2020-08-13T13:45:52.599609Z",
     "iopub.status.busy": "2020-08-13T13:45:52.598542Z",
     "iopub.status.idle": "2020-08-13T13:45:52.616340Z",
     "shell.execute_reply": "2020-08-13T13:45:52.616857Z"
    },
    "papermill": {
     "duration": 0.091999,
     "end_time": "2020-08-13T13:45:52.617003",
     "exception": false,
     "start_time": "2020-08-13T13:45:52.525004",
     "status": "completed"
    },
    "tags": []
   },
   "outputs": [],
   "source": [
    "\n",
    "#c['Sex_Class_Embark'] = 0 \n",
    "    \n",
    "c.loc[(c['Sex'] == 1) & ((c['Pclass'] == 1) | (c['Pclass'] == 2) ) & ((c['Embarked'] == 0)  | (c['Embarked'] == 1)  | (c['Embarked'] == 2)),'Sex_Class_Embark'] = 0\n",
    "    \n",
    "    \n",
    "c.loc[(c['Sex'] == 1) & (c['Pclass'] == 3) & ((c['Embarked'] == 1)  | (c['Embarked'] == 2)),'Sex_Class_Embark'] = 1\n",
    "    \n",
    "\n",
    "c.loc[(c['Sex'] == 0) & (c['Pclass'] == 1) & ((c['Embarked'] == 0)  | (c['Embarked'] == 1)),'Sex_Class_Embark'] = 2\n",
    "c.loc[(c['Sex'] == 1) & (c['Pclass'] == 3) & (c['Embarked'] == 0),'Sex_Class_Embark'] = 2\n",
    "    \n",
    "    \n",
    "c.loc[(c['Sex'] == 0) & ((c['Pclass'] == 2)  | (c['Pclass'] == 3) ) & ((c['Embarked'] == 0)  | (c['Embarked'] == 1)  | (c['Embarked'] == 2)),'Sex_Class_Embark'] = 3\n",
    "    \n",
    "    \n",
    "c.loc[(c['Sex'] == 0) & ((c['Pclass'] == 1)  |(c['Pclass'] == 2) ) & (c['Embarked'] == 2),'Sex_Class_Embark'] = 4\n",
    "    \n",
    "    "
   ]
  },
  {
   "cell_type": "code",
   "execution_count": 86,
   "metadata": {
    "execution": {
     "iopub.execute_input": "2020-08-13T13:45:52.740105Z",
     "iopub.status.busy": "2020-08-13T13:45:52.738967Z",
     "iopub.status.idle": "2020-08-13T13:45:52.755722Z",
     "shell.execute_reply": "2020-08-13T13:45:52.756238Z"
    },
    "papermill": {
     "duration": 0.082026,
     "end_time": "2020-08-13T13:45:52.756383",
     "exception": false,
     "start_time": "2020-08-13T13:45:52.674357",
     "status": "completed"
    },
    "tags": []
   },
   "outputs": [
    {
     "name": "stdout",
     "output_type": "stream",
     "text": [
      "   Sex_Class_Embark  Survived\n",
      "0               0.0  0.947059\n",
      "1               1.0  0.696429\n",
      "2               2.0  0.373206\n",
      "3               3.0  0.140969\n",
      "4               4.0  0.000000\n"
     ]
    }
   ],
   "source": [
    "#c['CategoricalFare'] = pd.qcut(c['Fare'], 4)\n",
    "c_t=pd.concat([c, y_target], axis=1)\n",
    "print (c_t[['Sex_Class_Embark', 'Survived']].groupby(['Sex_Class_Embark'], as_index=False).mean())"
   ]
  },
  {
   "cell_type": "code",
   "execution_count": 87,
   "metadata": {
    "execution": {
     "iopub.execute_input": "2020-08-13T13:45:52.901145Z",
     "iopub.status.busy": "2020-08-13T13:45:52.900063Z",
     "iopub.status.idle": "2020-08-13T13:45:52.905383Z",
     "shell.execute_reply": "2020-08-13T13:45:52.904675Z"
    },
    "papermill": {
     "duration": 0.087227,
     "end_time": "2020-08-13T13:45:52.905518",
     "exception": false,
     "start_time": "2020-08-13T13:45:52.818291",
     "status": "completed"
    },
    "tags": []
   },
   "outputs": [
    {
     "data": {
      "text/html": [
       "<div>\n",
       "<style scoped>\n",
       "    .dataframe tbody tr th:only-of-type {\n",
       "        vertical-align: middle;\n",
       "    }\n",
       "\n",
       "    .dataframe tbody tr th {\n",
       "        vertical-align: top;\n",
       "    }\n",
       "\n",
       "    .dataframe thead th {\n",
       "        text-align: right;\n",
       "    }\n",
       "</style>\n",
       "<table border=\"1\" class=\"dataframe\">\n",
       "  <thead>\n",
       "    <tr style=\"text-align: right;\">\n",
       "      <th></th>\n",
       "      <th>Pclass</th>\n",
       "      <th>Name</th>\n",
       "      <th>Sex</th>\n",
       "      <th>Age</th>\n",
       "      <th>SibSp</th>\n",
       "      <th>Parch</th>\n",
       "      <th>Ticket</th>\n",
       "      <th>Fare</th>\n",
       "      <th>Cabin</th>\n",
       "      <th>Embarked</th>\n",
       "      <th>Title</th>\n",
       "      <th>FamilySize</th>\n",
       "      <th>IsAlone</th>\n",
       "      <th>Prefix</th>\n",
       "      <th>TNumeric</th>\n",
       "      <th>TNlen</th>\n",
       "      <th>LeadingDigit</th>\n",
       "      <th>TGroup</th>\n",
       "      <th>Sex_Class_Embark</th>\n",
       "    </tr>\n",
       "  </thead>\n",
       "  <tbody>\n",
       "    <tr>\n",
       "      <th>0</th>\n",
       "      <td>3</td>\n",
       "      <td>Braund, Mr. Owen Harris</td>\n",
       "      <td>0</td>\n",
       "      <td>1.0</td>\n",
       "      <td>1</td>\n",
       "      <td>0</td>\n",
       "      <td>a5 21171</td>\n",
       "      <td>2.0</td>\n",
       "      <td>X</td>\n",
       "      <td>0</td>\n",
       "      <td>1</td>\n",
       "      <td>2</td>\n",
       "      <td>0</td>\n",
       "      <td>a5</td>\n",
       "      <td>21171</td>\n",
       "      <td>5</td>\n",
       "      <td>2</td>\n",
       "      <td>2117</td>\n",
       "      <td>3.0</td>\n",
       "    </tr>\n",
       "    <tr>\n",
       "      <th>1</th>\n",
       "      <td>1</td>\n",
       "      <td>Cumings, Mrs. John Bradley (Florence Briggs Th...</td>\n",
       "      <td>1</td>\n",
       "      <td>2.0</td>\n",
       "      <td>1</td>\n",
       "      <td>0</td>\n",
       "      <td>pc 17599</td>\n",
       "      <td>3.0</td>\n",
       "      <td>Y</td>\n",
       "      <td>1</td>\n",
       "      <td>3</td>\n",
       "      <td>2</td>\n",
       "      <td>0</td>\n",
       "      <td>pc</td>\n",
       "      <td>17599</td>\n",
       "      <td>5</td>\n",
       "      <td>1</td>\n",
       "      <td>1759</td>\n",
       "      <td>0.0</td>\n",
       "    </tr>\n",
       "  </tbody>\n",
       "</table>\n",
       "</div>"
      ],
      "text/plain": [
       "   Pclass                                               Name  Sex  Age  SibSp  \\\n",
       "0       3                            Braund, Mr. Owen Harris    0  1.0      1   \n",
       "1       1  Cumings, Mrs. John Bradley (Florence Briggs Th...    1  2.0      1   \n",
       "\n",
       "   Parch    Ticket  Fare Cabin  Embarked  Title  FamilySize  IsAlone Prefix  \\\n",
       "0      0  a5 21171   2.0     X         0      1           2        0     a5   \n",
       "1      0  pc 17599   3.0     Y         1      3           2        0     pc   \n",
       "\n",
       "   TNumeric  TNlen  LeadingDigit TGroup  Sex_Class_Embark  \n",
       "0     21171      5             2   2117               3.0  \n",
       "1     17599      5             1   1759               0.0  "
      ]
     },
     "execution_count": 87,
     "metadata": {},
     "output_type": "execute_result"
    }
   ],
   "source": [
    "\n",
    "\n",
    "c.head(2)"
   ]
  },
  {
   "cell_type": "code",
   "execution_count": 88,
   "metadata": {
    "execution": {
     "iopub.execute_input": "2020-08-13T13:45:53.189321Z",
     "iopub.status.busy": "2020-08-13T13:45:53.185966Z",
     "iopub.status.idle": "2020-08-13T13:45:53.277934Z",
     "shell.execute_reply": "2020-08-13T13:45:53.278603Z"
    },
    "papermill": {
     "duration": 0.31092,
     "end_time": "2020-08-13T13:45:53.278855",
     "exception": false,
     "start_time": "2020-08-13T13:45:52.967935",
     "status": "completed"
    },
    "tags": []
   },
   "outputs": [
    {
     "name": "stdout",
     "output_type": "stream",
     "text": [
      "   Sex  Survived\n",
      "1    1  0.742038\n",
      "0    0  0.188908\n",
      "____________________________________________________________\n",
      "   Embarked  Survived\n",
      "1         1  0.553571\n",
      "2         2  0.389610\n",
      "0         0  0.339009\n",
      "____________________________________________________________\n",
      "   Sex_Class_Embark  Survived\n",
      "0               0.0  0.947059\n",
      "1               1.0  0.696429\n",
      "2               2.0  0.373206\n",
      "3               3.0  0.140969\n",
      "4               4.0  0.000000\n",
      "____________________________________________________________\n",
      "   Title  Survived\n",
      "2      3  0.793651\n",
      "1      2  0.702703\n",
      "3      4  0.575000\n",
      "4      5  0.347826\n",
      "0      1  0.156673\n",
      "____________________________________________________________\n",
      "   Pclass  Survived\n",
      "0       1  0.629630\n",
      "1       2  0.472826\n",
      "2       3  0.242363\n",
      "____________________________________________________________\n",
      "    Age  Survived\n",
      "0   0.0  0.590361\n",
      "3   3.0  0.434783\n",
      "2   2.0  0.404255\n",
      "5  16.0  0.352941\n",
      "1   1.0  0.344168\n",
      "4   4.0  0.090909\n",
      "____________________________________________________________\n",
      "   Fare  Survived\n",
      "0   0.0  0.680000\n",
      "1   1.0  0.407407\n",
      "3   3.0  0.405594\n",
      "2   2.0  0.342803\n",
      "____________________________________________________________\n",
      "   SibSp  Survived\n",
      "1      1  0.535885\n",
      "2      2  0.464286\n",
      "0      0  0.345395\n",
      "3      3  0.250000\n",
      "4      4  0.166667\n",
      "5      5  0.000000\n",
      "6      8  0.000000\n",
      "____________________________________________________________\n",
      "   Parch  Survived\n",
      "3      3  0.600000\n",
      "1      1  0.550847\n",
      "2      2  0.500000\n",
      "0      0  0.343658\n",
      "5      5  0.200000\n",
      "4      4  0.000000\n",
      "6      6  0.000000\n",
      "7      9       NaN\n",
      "____________________________________________________________\n",
      "   FamilySize  Survived\n",
      "3           4  0.724138\n",
      "2           3  0.578431\n",
      "1           2  0.552795\n",
      "6           7  0.333333\n",
      "0           1  0.303538\n",
      "4           5  0.200000\n",
      "5           6  0.136364\n",
      "7           8  0.000000\n",
      "8          11  0.000000\n",
      "____________________________________________________________\n",
      "   IsAlone  Survived\n",
      "0        0  0.505650\n",
      "1        1  0.303538\n",
      "____________________________________________________________\n",
      "  Cabin  Survived\n",
      "1     Y  0.666667\n",
      "0     X  0.299854\n",
      "____________________________________________________________\n"
     ]
    }
   ],
   "source": [
    "print (c_t[['Sex', 'Survived']].groupby(['Sex'], as_index=False).mean().sort_values(by='Survived', ascending=False))\n",
    "print('_'*60)\n",
    "\n",
    "print (c_t[['Embarked', 'Survived']].groupby(['Embarked'], as_index=False).mean().sort_values(by='Survived', ascending=False))\n",
    "print('_'*60)\n",
    "\n",
    "\n",
    "print (c_t[['Sex_Class_Embark', 'Survived']].groupby(['Sex_Class_Embark'], as_index=False).mean().sort_values(by='Survived', ascending=False))\n",
    "print('_'*60)\n",
    "#print (c_t[['Name', 'Survived']].groupby(['Name'], as_index=False).mean().sort_values(by='Survived', ascending=False))\n",
    "#print('_'*60)\n",
    "\n",
    "print (c_t[['Title', 'Survived']].groupby(['Title'], as_index=False).mean().sort_values(by='Survived', ascending=False))\n",
    "print('_'*60)\n",
    "\n",
    "print (c_t[['Pclass', 'Survived']].groupby(['Pclass'], as_index=False).mean().sort_values(by='Survived', ascending=False))\n",
    "print('_'*60)\n",
    "\n",
    "\n",
    "#print (c_t[['Ticket', 'Survived']].groupby(['Ticket'], as_index=False).mean().sort_values(by='Survived', ascending=False))\n",
    "#print('_'*60)\n",
    "\n",
    "\n",
    "print (c_t[['Age', 'Survived']].groupby(['Age'], as_index=False).mean().sort_values(by='Survived', ascending=False))\n",
    "print('_'*60)\n",
    "\n",
    "\n",
    "\n",
    "print (c_t[['Fare', 'Survived']].groupby(['Fare'], as_index=False).mean().sort_values(by='Survived', ascending=False))\n",
    "print('_'*60)\n",
    "\n",
    "print (c_t[['SibSp', 'Survived']].groupby(['SibSp'], as_index=False).mean().sort_values(by='Survived', ascending=False))\n",
    "print('_'*60)\n",
    "\n",
    "\n",
    "print (c_t[['Parch', 'Survived']].groupby(['Parch'], as_index=False).mean().sort_values(by='Survived', ascending=False))\n",
    "print('_'*60)\n",
    "\n",
    "\n",
    "print (c_t[['FamilySize', 'Survived']].groupby(['FamilySize'], as_index=False).mean().sort_values(by='Survived', ascending=False))\n",
    "print('_'*60)\n",
    "\n",
    "\n",
    "print (c_t[['IsAlone', 'Survived']].groupby(['IsAlone'], as_index=False).mean().sort_values(by='Survived', ascending=False))\n",
    "print('_'*60)\n",
    "\n",
    "print (c_t[['Cabin', 'Survived']].groupby(['Cabin'], as_index=False).mean().sort_values(by='Survived', ascending=False))\n",
    "print('_'*60)\n",
    "\n",
    "\n"
   ]
  },
  {
   "cell_type": "markdown",
   "execution_count": null,
   "metadata": {
    "papermill": {
     "duration": 0.063157,
     "end_time": "2020-08-13T13:45:53.406282",
     "exception": false,
     "start_time": "2020-08-13T13:45:53.343125",
     "status": "completed"
    },
    "tags": []
   },
   "source": [
    "#### Dropping UnNeeded Features\n",
    "\n",
    "Name--> We don't need name feature as it cannot be converted into any categorical value, we extract Title  \n",
    "\n",
    "Age--> We have the Age_band feature, so no need of this, we extract Age  Range\n",
    "\n",
    "Ticket--> It is any random string that cannot be categorised.\n",
    "\n",
    "Fare--> We have the Fare_cat feature, so unneeded , we extract Fare Range\n",
    "\n",
    "TNumeric -->We don't need name feature as it cannot be converted into any categorical value.\n",
    "\n",
    "\n",
    "\n",
    "\n"
   ]
  },
  {
   "cell_type": "code",
   "execution_count": 89,
   "metadata": {
    "execution": {
     "iopub.execute_input": "2020-08-13T13:45:53.538417Z",
     "iopub.status.busy": "2020-08-13T13:45:53.537309Z",
     "iopub.status.idle": "2020-08-13T13:45:53.540984Z",
     "shell.execute_reply": "2020-08-13T13:45:53.540356Z"
    },
    "papermill": {
     "duration": 0.073165,
     "end_time": "2020-08-13T13:45:53.541099",
     "exception": false,
     "start_time": "2020-08-13T13:45:53.467934",
     "status": "completed"
    },
    "tags": []
   },
   "outputs": [],
   "source": [
    "#c = c.drop([ 'Parch' ,'SibSp','FamilySize',], axis = 1)\n",
    "#c = c.drop(['Name','Ticket' ,'Parch', 'SibSp' ,'FamilySize' ,'Sex_Class_Embark' ], axis = 1)\n",
    "#c = c.drop(['Name','Ticket' ,'Parch', 'SibSp' ,'FamilySize' ,'Sex_Class_Embark'], axis = 1)\n",
    "#c = c.drop(['Name','Ticket','TNumeric','FamilySize' ,'Parch', 'SibSp' ], axis = 1)\n",
    "c = c.drop(['Name','Ticket','TNumeric','FamilySize'], axis = 1)"
   ]
  },
  {
   "cell_type": "code",
   "execution_count": 90,
   "metadata": {
    "execution": {
     "iopub.execute_input": "2020-08-13T13:45:53.667594Z",
     "iopub.status.busy": "2020-08-13T13:45:53.666658Z",
     "iopub.status.idle": "2020-08-13T13:45:53.670580Z",
     "shell.execute_reply": "2020-08-13T13:45:53.671084Z"
    },
    "papermill": {
     "duration": 0.070323,
     "end_time": "2020-08-13T13:45:53.671216",
     "exception": false,
     "start_time": "2020-08-13T13:45:53.600893",
     "status": "completed"
    },
    "tags": []
   },
   "outputs": [
    {
     "data": {
      "text/plain": [
       "Sex_Class_Embark    0\n",
       "TGroup              0\n",
       "LeadingDigit        0\n",
       "TNlen               0\n",
       "Prefix              0\n",
       "IsAlone             0\n",
       "Title               0\n",
       "Embarked            0\n",
       "Cabin               0\n",
       "Fare                0\n",
       "Parch               0\n",
       "SibSp               0\n",
       "Age                 0\n",
       "Sex                 0\n",
       "Pclass              0\n",
       "dtype: int64"
      ]
     },
     "execution_count": 90,
     "metadata": {},
     "output_type": "execute_result"
    }
   ],
   "source": [
    "c.isnull().sum().sort_values(ascending=False).head(20)"
   ]
  },
  {
   "cell_type": "code",
   "execution_count": 91,
   "metadata": {
    "execution": {
     "iopub.execute_input": "2020-08-13T13:45:53.798435Z",
     "iopub.status.busy": "2020-08-13T13:45:53.791373Z",
     "iopub.status.idle": "2020-08-13T13:45:53.841169Z",
     "shell.execute_reply": "2020-08-13T13:45:53.841679Z"
    },
    "papermill": {
     "duration": 0.114061,
     "end_time": "2020-08-13T13:45:53.841809",
     "exception": false,
     "start_time": "2020-08-13T13:45:53.727748",
     "status": "completed"
    },
    "tags": []
   },
   "outputs": [
    {
     "data": {
      "text/html": [
       "<div>\n",
       "<style scoped>\n",
       "    .dataframe tbody tr th:only-of-type {\n",
       "        vertical-align: middle;\n",
       "    }\n",
       "\n",
       "    .dataframe tbody tr th {\n",
       "        vertical-align: top;\n",
       "    }\n",
       "\n",
       "    .dataframe thead th {\n",
       "        text-align: right;\n",
       "    }\n",
       "</style>\n",
       "<table border=\"1\" class=\"dataframe\">\n",
       "  <thead>\n",
       "    <tr style=\"text-align: right;\">\n",
       "      <th></th>\n",
       "      <th>Pclass</th>\n",
       "      <th>Sex</th>\n",
       "      <th>Age</th>\n",
       "      <th>SibSp</th>\n",
       "      <th>Parch</th>\n",
       "      <th>Fare</th>\n",
       "      <th>Embarked</th>\n",
       "      <th>Title</th>\n",
       "      <th>IsAlone</th>\n",
       "      <th>TNlen</th>\n",
       "      <th>LeadingDigit</th>\n",
       "      <th>Sex_Class_Embark</th>\n",
       "    </tr>\n",
       "  </thead>\n",
       "  <tbody>\n",
       "    <tr>\n",
       "      <th>count</th>\n",
       "      <td>1309.000000</td>\n",
       "      <td>1309.000000</td>\n",
       "      <td>1309.00000</td>\n",
       "      <td>1309.000000</td>\n",
       "      <td>1309.000000</td>\n",
       "      <td>1309.000000</td>\n",
       "      <td>1309.000000</td>\n",
       "      <td>1309.000000</td>\n",
       "      <td>1309.000000</td>\n",
       "      <td>1309.000000</td>\n",
       "      <td>1309.000000</td>\n",
       "      <td>1309.000000</td>\n",
       "    </tr>\n",
       "    <tr>\n",
       "      <th>mean</th>\n",
       "      <td>2.294882</td>\n",
       "      <td>0.355997</td>\n",
       "      <td>1.52712</td>\n",
       "      <td>0.498854</td>\n",
       "      <td>0.385027</td>\n",
       "      <td>2.182582</td>\n",
       "      <td>0.394194</td>\n",
       "      <td>1.732620</td>\n",
       "      <td>0.603514</td>\n",
       "      <td>5.323147</td>\n",
       "      <td>2.385027</td>\n",
       "      <td>2.064171</td>\n",
       "    </tr>\n",
       "    <tr>\n",
       "      <th>std</th>\n",
       "      <td>0.837836</td>\n",
       "      <td>0.478997</td>\n",
       "      <td>1.92288</td>\n",
       "      <td>1.041658</td>\n",
       "      <td>0.865560</td>\n",
       "      <td>0.717498</td>\n",
       "      <td>0.653499</td>\n",
       "      <td>1.022087</td>\n",
       "      <td>0.489354</td>\n",
       "      <td>0.931240</td>\n",
       "      <td>1.277285</td>\n",
       "      <td>1.161503</td>\n",
       "    </tr>\n",
       "    <tr>\n",
       "      <th>min</th>\n",
       "      <td>1.000000</td>\n",
       "      <td>0.000000</td>\n",
       "      <td>0.00000</td>\n",
       "      <td>0.000000</td>\n",
       "      <td>0.000000</td>\n",
       "      <td>0.000000</td>\n",
       "      <td>0.000000</td>\n",
       "      <td>1.000000</td>\n",
       "      <td>0.000000</td>\n",
       "      <td>1.000000</td>\n",
       "      <td>0.000000</td>\n",
       "      <td>0.000000</td>\n",
       "    </tr>\n",
       "    <tr>\n",
       "      <th>25%</th>\n",
       "      <td>2.000000</td>\n",
       "      <td>0.000000</td>\n",
       "      <td>1.00000</td>\n",
       "      <td>0.000000</td>\n",
       "      <td>0.000000</td>\n",
       "      <td>2.000000</td>\n",
       "      <td>0.000000</td>\n",
       "      <td>1.000000</td>\n",
       "      <td>0.000000</td>\n",
       "      <td>5.000000</td>\n",
       "      <td>1.000000</td>\n",
       "      <td>1.000000</td>\n",
       "    </tr>\n",
       "    <tr>\n",
       "      <th>50%</th>\n",
       "      <td>3.000000</td>\n",
       "      <td>0.000000</td>\n",
       "      <td>1.00000</td>\n",
       "      <td>0.000000</td>\n",
       "      <td>0.000000</td>\n",
       "      <td>2.000000</td>\n",
       "      <td>0.000000</td>\n",
       "      <td>1.000000</td>\n",
       "      <td>1.000000</td>\n",
       "      <td>6.000000</td>\n",
       "      <td>2.000000</td>\n",
       "      <td>3.000000</td>\n",
       "    </tr>\n",
       "    <tr>\n",
       "      <th>75%</th>\n",
       "      <td>3.000000</td>\n",
       "      <td>1.000000</td>\n",
       "      <td>2.00000</td>\n",
       "      <td>1.000000</td>\n",
       "      <td>0.000000</td>\n",
       "      <td>3.000000</td>\n",
       "      <td>1.000000</td>\n",
       "      <td>2.000000</td>\n",
       "      <td>1.000000</td>\n",
       "      <td>6.000000</td>\n",
       "      <td>3.000000</td>\n",
       "      <td>3.000000</td>\n",
       "    </tr>\n",
       "    <tr>\n",
       "      <th>max</th>\n",
       "      <td>3.000000</td>\n",
       "      <td>1.000000</td>\n",
       "      <td>16.00000</td>\n",
       "      <td>8.000000</td>\n",
       "      <td>9.000000</td>\n",
       "      <td>3.000000</td>\n",
       "      <td>2.000000</td>\n",
       "      <td>5.000000</td>\n",
       "      <td>1.000000</td>\n",
       "      <td>7.000000</td>\n",
       "      <td>9.000000</td>\n",
       "      <td>4.000000</td>\n",
       "    </tr>\n",
       "  </tbody>\n",
       "</table>\n",
       "</div>"
      ],
      "text/plain": [
       "            Pclass          Sex         Age        SibSp        Parch  \\\n",
       "count  1309.000000  1309.000000  1309.00000  1309.000000  1309.000000   \n",
       "mean      2.294882     0.355997     1.52712     0.498854     0.385027   \n",
       "std       0.837836     0.478997     1.92288     1.041658     0.865560   \n",
       "min       1.000000     0.000000     0.00000     0.000000     0.000000   \n",
       "25%       2.000000     0.000000     1.00000     0.000000     0.000000   \n",
       "50%       3.000000     0.000000     1.00000     0.000000     0.000000   \n",
       "75%       3.000000     1.000000     2.00000     1.000000     0.000000   \n",
       "max       3.000000     1.000000    16.00000     8.000000     9.000000   \n",
       "\n",
       "              Fare     Embarked        Title      IsAlone        TNlen  \\\n",
       "count  1309.000000  1309.000000  1309.000000  1309.000000  1309.000000   \n",
       "mean      2.182582     0.394194     1.732620     0.603514     5.323147   \n",
       "std       0.717498     0.653499     1.022087     0.489354     0.931240   \n",
       "min       0.000000     0.000000     1.000000     0.000000     1.000000   \n",
       "25%       2.000000     0.000000     1.000000     0.000000     5.000000   \n",
       "50%       2.000000     0.000000     1.000000     1.000000     6.000000   \n",
       "75%       3.000000     1.000000     2.000000     1.000000     6.000000   \n",
       "max       3.000000     2.000000     5.000000     1.000000     7.000000   \n",
       "\n",
       "       LeadingDigit  Sex_Class_Embark  \n",
       "count   1309.000000       1309.000000  \n",
       "mean       2.385027          2.064171  \n",
       "std        1.277285          1.161503  \n",
       "min        0.000000          0.000000  \n",
       "25%        1.000000          1.000000  \n",
       "50%        2.000000          3.000000  \n",
       "75%        3.000000          3.000000  \n",
       "max        9.000000          4.000000  "
      ]
     },
     "execution_count": 91,
     "metadata": {},
     "output_type": "execute_result"
    }
   ],
   "source": [
    "c.describe()"
   ]
  },
  {
   "cell_type": "code",
   "execution_count": 92,
   "metadata": {
    "execution": {
     "iopub.execute_input": "2020-08-13T13:45:53.985460Z",
     "iopub.status.busy": "2020-08-13T13:45:53.984454Z",
     "iopub.status.idle": "2020-08-13T13:45:53.988632Z",
     "shell.execute_reply": "2020-08-13T13:45:53.989226Z"
    },
    "papermill": {
     "duration": 0.088695,
     "end_time": "2020-08-13T13:45:53.989391",
     "exception": false,
     "start_time": "2020-08-13T13:45:53.900696",
     "status": "completed"
    },
    "tags": []
   },
   "outputs": [
    {
     "data": {
      "text/html": [
       "<div>\n",
       "<style scoped>\n",
       "    .dataframe tbody tr th:only-of-type {\n",
       "        vertical-align: middle;\n",
       "    }\n",
       "\n",
       "    .dataframe tbody tr th {\n",
       "        vertical-align: top;\n",
       "    }\n",
       "\n",
       "    .dataframe thead th {\n",
       "        text-align: right;\n",
       "    }\n",
       "</style>\n",
       "<table border=\"1\" class=\"dataframe\">\n",
       "  <thead>\n",
       "    <tr style=\"text-align: right;\">\n",
       "      <th></th>\n",
       "      <th>Cabin</th>\n",
       "      <th>Prefix</th>\n",
       "      <th>TGroup</th>\n",
       "    </tr>\n",
       "  </thead>\n",
       "  <tbody>\n",
       "    <tr>\n",
       "      <th>count</th>\n",
       "      <td>1309</td>\n",
       "      <td>1309</td>\n",
       "      <td>1309</td>\n",
       "    </tr>\n",
       "    <tr>\n",
       "      <th>unique</th>\n",
       "      <td>2</td>\n",
       "      <td>36</td>\n",
       "      <td>409</td>\n",
       "    </tr>\n",
       "    <tr>\n",
       "      <th>top</th>\n",
       "      <td>X</td>\n",
       "      <td>NoPrefix</td>\n",
       "      <td>34708</td>\n",
       "    </tr>\n",
       "    <tr>\n",
       "      <th>freq</th>\n",
       "      <td>1014</td>\n",
       "      <td>957</td>\n",
       "      <td>22</td>\n",
       "    </tr>\n",
       "  </tbody>\n",
       "</table>\n",
       "</div>"
      ],
      "text/plain": [
       "       Cabin    Prefix TGroup\n",
       "count   1309      1309   1309\n",
       "unique     2        36    409\n",
       "top        X  NoPrefix  34708\n",
       "freq    1014       957     22"
      ]
     },
     "execution_count": 92,
     "metadata": {},
     "output_type": "execute_result"
    }
   ],
   "source": [
    "c.describe(include=['O'])"
   ]
  },
  {
   "cell_type": "code",
   "execution_count": null,
   "metadata": {
    "papermill": {
     "duration": 0.059163,
     "end_time": "2020-08-13T13:45:54.110511",
     "exception": false,
     "start_time": "2020-08-13T13:45:54.051348",
     "status": "completed"
    },
    "tags": []
   },
   "outputs": [],
   "source": []
  },
  {
   "cell_type": "code",
   "execution_count": 93,
   "metadata": {
    "execution": {
     "iopub.execute_input": "2020-08-13T13:45:54.247798Z",
     "iopub.status.busy": "2020-08-13T13:45:54.246784Z",
     "iopub.status.idle": "2020-08-13T13:45:54.250713Z",
     "shell.execute_reply": "2020-08-13T13:45:54.251287Z"
    },
    "papermill": {
     "duration": 0.080795,
     "end_time": "2020-08-13T13:45:54.251448",
     "exception": false,
     "start_time": "2020-08-13T13:45:54.170653",
     "status": "completed"
    },
    "tags": []
   },
   "outputs": [
    {
     "data": {
      "text/html": [
       "<div>\n",
       "<style scoped>\n",
       "    .dataframe tbody tr th:only-of-type {\n",
       "        vertical-align: middle;\n",
       "    }\n",
       "\n",
       "    .dataframe tbody tr th {\n",
       "        vertical-align: top;\n",
       "    }\n",
       "\n",
       "    .dataframe thead th {\n",
       "        text-align: right;\n",
       "    }\n",
       "</style>\n",
       "<table border=\"1\" class=\"dataframe\">\n",
       "  <thead>\n",
       "    <tr style=\"text-align: right;\">\n",
       "      <th></th>\n",
       "      <th>Pclass</th>\n",
       "      <th>Sex</th>\n",
       "      <th>Age</th>\n",
       "      <th>SibSp</th>\n",
       "      <th>Parch</th>\n",
       "      <th>Fare</th>\n",
       "      <th>Cabin</th>\n",
       "      <th>Embarked</th>\n",
       "      <th>Title</th>\n",
       "      <th>IsAlone</th>\n",
       "      <th>Prefix</th>\n",
       "      <th>TNlen</th>\n",
       "      <th>LeadingDigit</th>\n",
       "      <th>TGroup</th>\n",
       "      <th>Sex_Class_Embark</th>\n",
       "    </tr>\n",
       "  </thead>\n",
       "  <tbody>\n",
       "    <tr>\n",
       "      <th>0</th>\n",
       "      <td>3</td>\n",
       "      <td>0</td>\n",
       "      <td>1.0</td>\n",
       "      <td>1</td>\n",
       "      <td>0</td>\n",
       "      <td>2.0</td>\n",
       "      <td>X</td>\n",
       "      <td>0</td>\n",
       "      <td>1</td>\n",
       "      <td>0</td>\n",
       "      <td>a5</td>\n",
       "      <td>5</td>\n",
       "      <td>2</td>\n",
       "      <td>2117</td>\n",
       "      <td>3.0</td>\n",
       "    </tr>\n",
       "    <tr>\n",
       "      <th>1</th>\n",
       "      <td>1</td>\n",
       "      <td>1</td>\n",
       "      <td>2.0</td>\n",
       "      <td>1</td>\n",
       "      <td>0</td>\n",
       "      <td>3.0</td>\n",
       "      <td>Y</td>\n",
       "      <td>1</td>\n",
       "      <td>3</td>\n",
       "      <td>0</td>\n",
       "      <td>pc</td>\n",
       "      <td>5</td>\n",
       "      <td>1</td>\n",
       "      <td>1759</td>\n",
       "      <td>0.0</td>\n",
       "    </tr>\n",
       "  </tbody>\n",
       "</table>\n",
       "</div>"
      ],
      "text/plain": [
       "   Pclass  Sex  Age  SibSp  Parch  Fare Cabin  Embarked  Title  IsAlone  \\\n",
       "0       3    0  1.0      1      0   2.0     X         0      1        0   \n",
       "1       1    1  2.0      1      0   3.0     Y         1      3        0   \n",
       "\n",
       "  Prefix  TNlen  LeadingDigit TGroup  Sex_Class_Embark  \n",
       "0     a5      5             2   2117               3.0  \n",
       "1     pc      5             1   1759               0.0  "
      ]
     },
     "execution_count": 93,
     "metadata": {},
     "output_type": "execute_result"
    }
   ],
   "source": [
    "\n",
    "c.head(2) "
   ]
  },
  {
   "cell_type": "code",
   "execution_count": 94,
   "metadata": {
    "execution": {
     "iopub.execute_input": "2020-08-13T13:45:54.404153Z",
     "iopub.status.busy": "2020-08-13T13:45:54.403179Z",
     "iopub.status.idle": "2020-08-13T13:45:54.411608Z",
     "shell.execute_reply": "2020-08-13T13:45:54.411087Z"
    },
    "papermill": {
     "duration": 0.097762,
     "end_time": "2020-08-13T13:45:54.411731",
     "exception": false,
     "start_time": "2020-08-13T13:45:54.313969",
     "status": "completed"
    },
    "tags": []
   },
   "outputs": [],
   "source": [
    "#c = c.drop(['Name','Ticket','TNumeric','FamilySize' ,'Parch' , 'SibSp','Sex_Class_Embark'], axis = 1)\n",
    "#c['Sex_Class_Embark'] = c['Sex_Class_Embark'].astype(str)\n",
    "#c = c.drop(['Name','Ticket','TNumeric','FamilySize'], axis = 1)\n",
    "c['LeadingDigit'] = c['LeadingDigit'].astype(str)\n",
    "c['TNlen'] = c['TNlen'].astype(str)\n",
    "c['IsAlone'] = c['IsAlone'].astype(str)\n",
    "#c['FamilySize'] = c['FamilySize'].astype(str)\n",
    "c['Title'] = c['Title'].astype(str)\n",
    "c['Embarked'] = c['Embarked'].astype(str)\n",
    "c['Fare'] = c['Fare'].astype(str)\n",
    "c['Parch'] = c['Parch'].astype(str)\n",
    "c['SibSp'] = c['SibSp'].astype(str)\n",
    "\n",
    "c['Age'] = c['Age'].astype(str)\n",
    "c['Sex'] = c['Sex'].astype(str)\n",
    "c['Pclass'] = c['Pclass'].astype(str)\n",
    "c['Cabin'] = c['Cabin'].astype(str)\n",
    "c['Sex_Class_Embark'] = c['Sex_Class_Embark'].astype(str) \n",
    "\n",
    " "
   ]
  },
  {
   "cell_type": "code",
   "execution_count": 95,
   "metadata": {
    "execution": {
     "iopub.execute_input": "2020-08-13T13:45:54.533051Z",
     "iopub.status.busy": "2020-08-13T13:45:54.532100Z",
     "iopub.status.idle": "2020-08-13T13:45:54.604393Z",
     "shell.execute_reply": "2020-08-13T13:45:54.604994Z"
    },
    "papermill": {
     "duration": 0.134805,
     "end_time": "2020-08-13T13:45:54.605184",
     "exception": false,
     "start_time": "2020-08-13T13:45:54.470379",
     "status": "completed"
    },
    "tags": []
   },
   "outputs": [
    {
     "data": {
      "text/html": [
       "<div>\n",
       "<style scoped>\n",
       "    .dataframe tbody tr th:only-of-type {\n",
       "        vertical-align: middle;\n",
       "    }\n",
       "\n",
       "    .dataframe tbody tr th {\n",
       "        vertical-align: top;\n",
       "    }\n",
       "\n",
       "    .dataframe thead th {\n",
       "        text-align: right;\n",
       "    }\n",
       "</style>\n",
       "<table border=\"1\" class=\"dataframe\">\n",
       "  <thead>\n",
       "    <tr style=\"text-align: right;\">\n",
       "      <th></th>\n",
       "      <th>Pclass</th>\n",
       "      <th>Sex</th>\n",
       "      <th>Age</th>\n",
       "      <th>SibSp</th>\n",
       "      <th>Parch</th>\n",
       "      <th>Fare</th>\n",
       "      <th>Cabin</th>\n",
       "      <th>Embarked</th>\n",
       "      <th>Title</th>\n",
       "      <th>IsAlone</th>\n",
       "      <th>Prefix</th>\n",
       "      <th>TNlen</th>\n",
       "      <th>LeadingDigit</th>\n",
       "      <th>TGroup</th>\n",
       "      <th>Sex_Class_Embark</th>\n",
       "    </tr>\n",
       "  </thead>\n",
       "  <tbody>\n",
       "    <tr>\n",
       "      <th>count</th>\n",
       "      <td>1309</td>\n",
       "      <td>1309</td>\n",
       "      <td>1309</td>\n",
       "      <td>1309</td>\n",
       "      <td>1309</td>\n",
       "      <td>1309</td>\n",
       "      <td>1309</td>\n",
       "      <td>1309</td>\n",
       "      <td>1309</td>\n",
       "      <td>1309</td>\n",
       "      <td>1309</td>\n",
       "      <td>1309</td>\n",
       "      <td>1309</td>\n",
       "      <td>1309</td>\n",
       "      <td>1309</td>\n",
       "    </tr>\n",
       "    <tr>\n",
       "      <th>unique</th>\n",
       "      <td>3</td>\n",
       "      <td>2</td>\n",
       "      <td>6</td>\n",
       "      <td>7</td>\n",
       "      <td>8</td>\n",
       "      <td>4</td>\n",
       "      <td>2</td>\n",
       "      <td>3</td>\n",
       "      <td>5</td>\n",
       "      <td>2</td>\n",
       "      <td>36</td>\n",
       "      <td>6</td>\n",
       "      <td>10</td>\n",
       "      <td>409</td>\n",
       "      <td>5</td>\n",
       "    </tr>\n",
       "    <tr>\n",
       "      <th>top</th>\n",
       "      <td>3</td>\n",
       "      <td>0</td>\n",
       "      <td>1.0</td>\n",
       "      <td>0</td>\n",
       "      <td>0</td>\n",
       "      <td>2.0</td>\n",
       "      <td>X</td>\n",
       "      <td>0</td>\n",
       "      <td>1</td>\n",
       "      <td>1</td>\n",
       "      <td>NoPrefix</td>\n",
       "      <td>6</td>\n",
       "      <td>3</td>\n",
       "      <td>34708</td>\n",
       "      <td>3.0</td>\n",
       "    </tr>\n",
       "    <tr>\n",
       "      <th>freq</th>\n",
       "      <td>709</td>\n",
       "      <td>843</td>\n",
       "      <td>787</td>\n",
       "      <td>891</td>\n",
       "      <td>1002</td>\n",
       "      <td>790</td>\n",
       "      <td>1014</td>\n",
       "      <td>916</td>\n",
       "      <td>757</td>\n",
       "      <td>790</td>\n",
       "      <td>957</td>\n",
       "      <td>606</td>\n",
       "      <td>531</td>\n",
       "      <td>22</td>\n",
       "      <td>659</td>\n",
       "    </tr>\n",
       "  </tbody>\n",
       "</table>\n",
       "</div>"
      ],
      "text/plain": [
       "       Pclass   Sex   Age SibSp Parch  Fare Cabin Embarked Title IsAlone  \\\n",
       "count    1309  1309  1309  1309  1309  1309  1309     1309  1309    1309   \n",
       "unique      3     2     6     7     8     4     2        3     5       2   \n",
       "top         3     0   1.0     0     0   2.0     X        0     1       1   \n",
       "freq      709   843   787   891  1002   790  1014      916   757     790   \n",
       "\n",
       "          Prefix TNlen LeadingDigit TGroup Sex_Class_Embark  \n",
       "count       1309  1309         1309   1309             1309  \n",
       "unique        36     6           10    409                5  \n",
       "top     NoPrefix     6            3  34708              3.0  \n",
       "freq         957   606          531     22              659  "
      ]
     },
     "execution_count": 95,
     "metadata": {},
     "output_type": "execute_result"
    }
   ],
   "source": [
    "c.describe(include=['O'])"
   ]
  },
  {
   "cell_type": "code",
   "execution_count": 96,
   "metadata": {
    "execution": {
     "iopub.execute_input": "2020-08-13T13:45:54.731204Z",
     "iopub.status.busy": "2020-08-13T13:45:54.730368Z",
     "iopub.status.idle": "2020-08-13T13:45:54.734029Z",
     "shell.execute_reply": "2020-08-13T13:45:54.734594Z"
    },
    "papermill": {
     "duration": 0.069074,
     "end_time": "2020-08-13T13:45:54.734760",
     "exception": false,
     "start_time": "2020-08-13T13:45:54.665686",
     "status": "completed"
    },
    "tags": []
   },
   "outputs": [
    {
     "data": {
      "text/plain": [
       "(1309, 15)"
      ]
     },
     "execution_count": 96,
     "metadata": {},
     "output_type": "execute_result"
    }
   ],
   "source": [
    "c.shape"
   ]
  },
  {
   "cell_type": "code",
   "execution_count": 97,
   "metadata": {
    "execution": {
     "iopub.execute_input": "2020-08-13T13:45:54.872705Z",
     "iopub.status.busy": "2020-08-13T13:45:54.871639Z",
     "iopub.status.idle": "2020-08-13T13:45:54.929477Z",
     "shell.execute_reply": "2020-08-13T13:45:54.930015Z"
    },
    "papermill": {
     "duration": 0.135175,
     "end_time": "2020-08-13T13:45:54.930213",
     "exception": false,
     "start_time": "2020-08-13T13:45:54.795038",
     "status": "completed"
    },
    "tags": []
   },
   "outputs": [
    {
     "data": {
      "text/html": [
       "<div>\n",
       "<style scoped>\n",
       "    .dataframe tbody tr th:only-of-type {\n",
       "        vertical-align: middle;\n",
       "    }\n",
       "\n",
       "    .dataframe tbody tr th {\n",
       "        vertical-align: top;\n",
       "    }\n",
       "\n",
       "    .dataframe thead th {\n",
       "        text-align: right;\n",
       "    }\n",
       "</style>\n",
       "<table border=\"1\" class=\"dataframe\">\n",
       "  <thead>\n",
       "    <tr style=\"text-align: right;\">\n",
       "      <th></th>\n",
       "      <th>Pclass</th>\n",
       "      <th>Sex</th>\n",
       "      <th>Age</th>\n",
       "      <th>SibSp</th>\n",
       "      <th>Parch</th>\n",
       "      <th>Fare</th>\n",
       "      <th>Cabin</th>\n",
       "      <th>Embarked</th>\n",
       "      <th>Title</th>\n",
       "      <th>IsAlone</th>\n",
       "      <th>Prefix</th>\n",
       "      <th>TNlen</th>\n",
       "      <th>LeadingDigit</th>\n",
       "      <th>TGroup</th>\n",
       "      <th>Sex_Class_Embark</th>\n",
       "    </tr>\n",
       "  </thead>\n",
       "  <tbody>\n",
       "    <tr>\n",
       "      <th>count</th>\n",
       "      <td>1309</td>\n",
       "      <td>1309</td>\n",
       "      <td>1309</td>\n",
       "      <td>1309</td>\n",
       "      <td>1309</td>\n",
       "      <td>1309</td>\n",
       "      <td>1309</td>\n",
       "      <td>1309</td>\n",
       "      <td>1309</td>\n",
       "      <td>1309</td>\n",
       "      <td>1309</td>\n",
       "      <td>1309</td>\n",
       "      <td>1309</td>\n",
       "      <td>1309</td>\n",
       "      <td>1309</td>\n",
       "    </tr>\n",
       "    <tr>\n",
       "      <th>unique</th>\n",
       "      <td>3</td>\n",
       "      <td>2</td>\n",
       "      <td>6</td>\n",
       "      <td>7</td>\n",
       "      <td>8</td>\n",
       "      <td>4</td>\n",
       "      <td>2</td>\n",
       "      <td>3</td>\n",
       "      <td>5</td>\n",
       "      <td>2</td>\n",
       "      <td>36</td>\n",
       "      <td>6</td>\n",
       "      <td>10</td>\n",
       "      <td>409</td>\n",
       "      <td>5</td>\n",
       "    </tr>\n",
       "    <tr>\n",
       "      <th>top</th>\n",
       "      <td>3</td>\n",
       "      <td>0</td>\n",
       "      <td>1.0</td>\n",
       "      <td>0</td>\n",
       "      <td>0</td>\n",
       "      <td>2.0</td>\n",
       "      <td>X</td>\n",
       "      <td>0</td>\n",
       "      <td>1</td>\n",
       "      <td>1</td>\n",
       "      <td>NoPrefix</td>\n",
       "      <td>6</td>\n",
       "      <td>3</td>\n",
       "      <td>34708</td>\n",
       "      <td>3.0</td>\n",
       "    </tr>\n",
       "    <tr>\n",
       "      <th>freq</th>\n",
       "      <td>709</td>\n",
       "      <td>843</td>\n",
       "      <td>787</td>\n",
       "      <td>891</td>\n",
       "      <td>1002</td>\n",
       "      <td>790</td>\n",
       "      <td>1014</td>\n",
       "      <td>916</td>\n",
       "      <td>757</td>\n",
       "      <td>790</td>\n",
       "      <td>957</td>\n",
       "      <td>606</td>\n",
       "      <td>531</td>\n",
       "      <td>22</td>\n",
       "      <td>659</td>\n",
       "    </tr>\n",
       "  </tbody>\n",
       "</table>\n",
       "</div>"
      ],
      "text/plain": [
       "       Pclass   Sex   Age SibSp Parch  Fare Cabin Embarked Title IsAlone  \\\n",
       "count    1309  1309  1309  1309  1309  1309  1309     1309  1309    1309   \n",
       "unique      3     2     6     7     8     4     2        3     5       2   \n",
       "top         3     0   1.0     0     0   2.0     X        0     1       1   \n",
       "freq      709   843   787   891  1002   790  1014      916   757     790   \n",
       "\n",
       "          Prefix TNlen LeadingDigit TGroup Sex_Class_Embark  \n",
       "count       1309  1309         1309   1309             1309  \n",
       "unique        36     6           10    409                5  \n",
       "top     NoPrefix     6            3  34708              3.0  \n",
       "freq         957   606          531     22              659  "
      ]
     },
     "execution_count": 97,
     "metadata": {},
     "output_type": "execute_result"
    }
   ],
   "source": [
    "c.describe()"
   ]
  },
  {
   "cell_type": "code",
   "execution_count": null,
   "metadata": {
    "papermill": {
     "duration": 0.059,
     "end_time": "2020-08-13T13:45:55.059540",
     "exception": false,
     "start_time": "2020-08-13T13:45:55.000540",
     "status": "completed"
    },
    "tags": []
   },
   "outputs": [],
   "source": []
  },
  {
   "cell_type": "code",
   "execution_count": null,
   "metadata": {
    "papermill": {
     "duration": 0.059927,
     "end_time": "2020-08-13T13:45:55.178158",
     "exception": false,
     "start_time": "2020-08-13T13:45:55.118231",
     "status": "completed"
    },
    "tags": []
   },
   "outputs": [],
   "source": []
  },
  {
   "cell_type": "markdown",
   "execution_count": null,
   "metadata": {
    "papermill": {
     "duration": 0.058528,
     "end_time": "2020-08-13T13:45:55.295198",
     "exception": false,
     "start_time": "2020-08-13T13:45:55.236670",
     "status": "completed"
    },
    "tags": []
   },
   "source": [
    "### 4.2 One hot encoding"
   ]
  },
  {
   "cell_type": "code",
   "execution_count": 98,
   "metadata": {
    "execution": {
     "iopub.execute_input": "2020-08-13T13:45:55.429634Z",
     "iopub.status.busy": "2020-08-13T13:45:55.428588Z",
     "iopub.status.idle": "2020-08-13T13:45:55.455074Z",
     "shell.execute_reply": "2020-08-13T13:45:55.455634Z"
    },
    "papermill": {
     "duration": 0.101473,
     "end_time": "2020-08-13T13:45:55.455777",
     "exception": false,
     "start_time": "2020-08-13T13:45:55.354304",
     "status": "completed"
    },
    "tags": []
   },
   "outputs": [
    {
     "name": "stdout",
     "output_type": "stream",
     "text": [
      "the shape of the original dataset (1309, 15)\n",
      "the shape of the encoded dataset (1309, 508)\n",
      "We have  493 new encoded features\n"
     ]
    }
   ],
   "source": [
    "cb=pd.get_dummies(c)\n",
    "print(\"the shape of the original dataset\",c.shape)\n",
    "print(\"the shape of the encoded dataset\",cb.shape)\n",
    "print(\"We have \",cb.shape[1]- c.shape[1], 'new encoded features')"
   ]
  },
  {
   "cell_type": "code",
   "execution_count": 99,
   "metadata": {
    "execution": {
     "iopub.execute_input": "2020-08-13T13:45:55.581171Z",
     "iopub.status.busy": "2020-08-13T13:45:55.580063Z",
     "iopub.status.idle": "2020-08-13T13:45:55.598121Z",
     "shell.execute_reply": "2020-08-13T13:45:55.597548Z"
    },
    "papermill": {
     "duration": 0.084188,
     "end_time": "2020-08-13T13:45:55.598298",
     "exception": false,
     "start_time": "2020-08-13T13:45:55.514110",
     "status": "completed"
    },
    "tags": []
   },
   "outputs": [
    {
     "data": {
      "text/html": [
       "<div>\n",
       "<style scoped>\n",
       "    .dataframe tbody tr th:only-of-type {\n",
       "        vertical-align: middle;\n",
       "    }\n",
       "\n",
       "    .dataframe tbody tr th {\n",
       "        vertical-align: top;\n",
       "    }\n",
       "\n",
       "    .dataframe thead th {\n",
       "        text-align: right;\n",
       "    }\n",
       "</style>\n",
       "<table border=\"1\" class=\"dataframe\">\n",
       "  <thead>\n",
       "    <tr style=\"text-align: right;\">\n",
       "      <th></th>\n",
       "      <th>Pclass_1</th>\n",
       "      <th>Pclass_2</th>\n",
       "      <th>Pclass_3</th>\n",
       "      <th>Sex_0</th>\n",
       "      <th>Sex_1</th>\n",
       "      <th>Age_0.0</th>\n",
       "      <th>Age_1.0</th>\n",
       "      <th>Age_16.0</th>\n",
       "      <th>Age_2.0</th>\n",
       "      <th>Age_3.0</th>\n",
       "      <th>...</th>\n",
       "      <th>TGroup_793</th>\n",
       "      <th>TGroup_847</th>\n",
       "      <th>TGroup_85</th>\n",
       "      <th>TGroup_923</th>\n",
       "      <th>TGroup_954</th>\n",
       "      <th>Sex_Class_Embark_0.0</th>\n",
       "      <th>Sex_Class_Embark_1.0</th>\n",
       "      <th>Sex_Class_Embark_2.0</th>\n",
       "      <th>Sex_Class_Embark_3.0</th>\n",
       "      <th>Sex_Class_Embark_4.0</th>\n",
       "    </tr>\n",
       "  </thead>\n",
       "  <tbody>\n",
       "    <tr>\n",
       "      <th>0</th>\n",
       "      <td>0</td>\n",
       "      <td>0</td>\n",
       "      <td>1</td>\n",
       "      <td>1</td>\n",
       "      <td>0</td>\n",
       "      <td>0</td>\n",
       "      <td>1</td>\n",
       "      <td>0</td>\n",
       "      <td>0</td>\n",
       "      <td>0</td>\n",
       "      <td>...</td>\n",
       "      <td>0</td>\n",
       "      <td>0</td>\n",
       "      <td>0</td>\n",
       "      <td>0</td>\n",
       "      <td>0</td>\n",
       "      <td>0</td>\n",
       "      <td>0</td>\n",
       "      <td>0</td>\n",
       "      <td>1</td>\n",
       "      <td>0</td>\n",
       "    </tr>\n",
       "    <tr>\n",
       "      <th>1</th>\n",
       "      <td>1</td>\n",
       "      <td>0</td>\n",
       "      <td>0</td>\n",
       "      <td>0</td>\n",
       "      <td>1</td>\n",
       "      <td>0</td>\n",
       "      <td>0</td>\n",
       "      <td>0</td>\n",
       "      <td>1</td>\n",
       "      <td>0</td>\n",
       "      <td>...</td>\n",
       "      <td>0</td>\n",
       "      <td>0</td>\n",
       "      <td>0</td>\n",
       "      <td>0</td>\n",
       "      <td>0</td>\n",
       "      <td>1</td>\n",
       "      <td>0</td>\n",
       "      <td>0</td>\n",
       "      <td>0</td>\n",
       "      <td>0</td>\n",
       "    </tr>\n",
       "  </tbody>\n",
       "</table>\n",
       "<p>2 rows × 508 columns</p>\n",
       "</div>"
      ],
      "text/plain": [
       "   Pclass_1  Pclass_2  Pclass_3  Sex_0  Sex_1  Age_0.0  Age_1.0  Age_16.0  \\\n",
       "0         0         0         1      1      0        0        1         0   \n",
       "1         1         0         0      0      1        0        0         0   \n",
       "\n",
       "   Age_2.0  Age_3.0  ...  TGroup_793  TGroup_847  TGroup_85  TGroup_923  \\\n",
       "0        0        0  ...           0           0          0           0   \n",
       "1        1        0  ...           0           0          0           0   \n",
       "\n",
       "   TGroup_954  Sex_Class_Embark_0.0  Sex_Class_Embark_1.0  \\\n",
       "0           0                     0                     0   \n",
       "1           0                     1                     0   \n",
       "\n",
       "   Sex_Class_Embark_2.0  Sex_Class_Embark_3.0  Sex_Class_Embark_4.0  \n",
       "0                     0                     1                     0  \n",
       "1                     0                     0                     0  \n",
       "\n",
       "[2 rows x 508 columns]"
      ]
     },
     "execution_count": 99,
     "metadata": {},
     "output_type": "execute_result"
    }
   ],
   "source": [
    "cb.head(2)"
   ]
  },
  {
   "cell_type": "code",
   "execution_count": 100,
   "metadata": {
    "execution": {
     "iopub.execute_input": "2020-08-13T13:45:55.729394Z",
     "iopub.status.busy": "2020-08-13T13:45:55.728430Z",
     "iopub.status.idle": "2020-08-13T13:45:55.755491Z",
     "shell.execute_reply": "2020-08-13T13:45:55.756165Z"
    },
    "papermill": {
     "duration": 0.095653,
     "end_time": "2020-08-13T13:45:55.756346",
     "exception": false,
     "start_time": "2020-08-13T13:45:55.660693",
     "status": "completed"
    },
    "tags": []
   },
   "outputs": [
    {
     "name": "stdout",
     "output_type": "stream",
     "text": [
      "the shape of the original dataset (1309, 15)\n",
      "the shape of the encoded dataset (1309, 493)\n",
      "We have  478 new encoded features\n"
     ]
    }
   ],
   "source": [
    "cb1=pd.get_dummies(c,drop_first=True)\n",
    "print(\"the shape of the original dataset\",c.shape)\n",
    "print(\"the shape of the encoded dataset\",cb1.shape)\n",
    "print(\"We have \",cb1.shape[1]- c.shape[1], 'new encoded features')"
   ]
  },
  {
   "cell_type": "code",
   "execution_count": 101,
   "metadata": {
    "execution": {
     "iopub.execute_input": "2020-08-13T13:45:55.886338Z",
     "iopub.status.busy": "2020-08-13T13:45:55.885343Z",
     "iopub.status.idle": "2020-08-13T13:45:55.904671Z",
     "shell.execute_reply": "2020-08-13T13:45:55.904128Z"
    },
    "papermill": {
     "duration": 0.088328,
     "end_time": "2020-08-13T13:45:55.904789",
     "exception": false,
     "start_time": "2020-08-13T13:45:55.816461",
     "status": "completed"
    },
    "tags": []
   },
   "outputs": [
    {
     "data": {
      "text/html": [
       "<div>\n",
       "<style scoped>\n",
       "    .dataframe tbody tr th:only-of-type {\n",
       "        vertical-align: middle;\n",
       "    }\n",
       "\n",
       "    .dataframe tbody tr th {\n",
       "        vertical-align: top;\n",
       "    }\n",
       "\n",
       "    .dataframe thead th {\n",
       "        text-align: right;\n",
       "    }\n",
       "</style>\n",
       "<table border=\"1\" class=\"dataframe\">\n",
       "  <thead>\n",
       "    <tr style=\"text-align: right;\">\n",
       "      <th></th>\n",
       "      <th>Pclass_2</th>\n",
       "      <th>Pclass_3</th>\n",
       "      <th>Sex_1</th>\n",
       "      <th>Age_1.0</th>\n",
       "      <th>Age_16.0</th>\n",
       "      <th>Age_2.0</th>\n",
       "      <th>Age_3.0</th>\n",
       "      <th>Age_4.0</th>\n",
       "      <th>SibSp_1</th>\n",
       "      <th>SibSp_2</th>\n",
       "      <th>...</th>\n",
       "      <th>TGroup_759</th>\n",
       "      <th>TGroup_793</th>\n",
       "      <th>TGroup_847</th>\n",
       "      <th>TGroup_85</th>\n",
       "      <th>TGroup_923</th>\n",
       "      <th>TGroup_954</th>\n",
       "      <th>Sex_Class_Embark_1.0</th>\n",
       "      <th>Sex_Class_Embark_2.0</th>\n",
       "      <th>Sex_Class_Embark_3.0</th>\n",
       "      <th>Sex_Class_Embark_4.0</th>\n",
       "    </tr>\n",
       "  </thead>\n",
       "  <tbody>\n",
       "    <tr>\n",
       "      <th>0</th>\n",
       "      <td>0</td>\n",
       "      <td>1</td>\n",
       "      <td>0</td>\n",
       "      <td>1</td>\n",
       "      <td>0</td>\n",
       "      <td>0</td>\n",
       "      <td>0</td>\n",
       "      <td>0</td>\n",
       "      <td>1</td>\n",
       "      <td>0</td>\n",
       "      <td>...</td>\n",
       "      <td>0</td>\n",
       "      <td>0</td>\n",
       "      <td>0</td>\n",
       "      <td>0</td>\n",
       "      <td>0</td>\n",
       "      <td>0</td>\n",
       "      <td>0</td>\n",
       "      <td>0</td>\n",
       "      <td>1</td>\n",
       "      <td>0</td>\n",
       "    </tr>\n",
       "    <tr>\n",
       "      <th>1</th>\n",
       "      <td>0</td>\n",
       "      <td>0</td>\n",
       "      <td>1</td>\n",
       "      <td>0</td>\n",
       "      <td>0</td>\n",
       "      <td>1</td>\n",
       "      <td>0</td>\n",
       "      <td>0</td>\n",
       "      <td>1</td>\n",
       "      <td>0</td>\n",
       "      <td>...</td>\n",
       "      <td>0</td>\n",
       "      <td>0</td>\n",
       "      <td>0</td>\n",
       "      <td>0</td>\n",
       "      <td>0</td>\n",
       "      <td>0</td>\n",
       "      <td>0</td>\n",
       "      <td>0</td>\n",
       "      <td>0</td>\n",
       "      <td>0</td>\n",
       "    </tr>\n",
       "  </tbody>\n",
       "</table>\n",
       "<p>2 rows × 493 columns</p>\n",
       "</div>"
      ],
      "text/plain": [
       "   Pclass_2  Pclass_3  Sex_1  Age_1.0  Age_16.0  Age_2.0  Age_3.0  Age_4.0  \\\n",
       "0         0         1      0        1         0        0        0        0   \n",
       "1         0         0      1        0         0        1        0        0   \n",
       "\n",
       "   SibSp_1  SibSp_2  ...  TGroup_759  TGroup_793  TGroup_847  TGroup_85  \\\n",
       "0        1        0  ...           0           0           0          0   \n",
       "1        1        0  ...           0           0           0          0   \n",
       "\n",
       "   TGroup_923  TGroup_954  Sex_Class_Embark_1.0  Sex_Class_Embark_2.0  \\\n",
       "0           0           0                     0                     0   \n",
       "1           0           0                     0                     0   \n",
       "\n",
       "   Sex_Class_Embark_3.0  Sex_Class_Embark_4.0  \n",
       "0                     1                     0  \n",
       "1                     0                     0  \n",
       "\n",
       "[2 rows x 493 columns]"
      ]
     },
     "execution_count": 101,
     "metadata": {},
     "output_type": "execute_result"
    }
   ],
   "source": [
    "cb1.head(2)"
   ]
  },
  {
   "cell_type": "markdown",
   "execution_count": null,
   "metadata": {
    "papermill": {
     "duration": 0.060189,
     "end_time": "2020-08-13T13:45:56.025650",
     "exception": false,
     "start_time": "2020-08-13T13:45:55.965461",
     "status": "completed"
    },
    "tags": []
   },
   "source": [
    "## Model, predict and solve\n",
    "\n",
    "Now we are ready to train a model and predict the required solution. There are 60+ predictive modelling algorithms to choose from. We must understand the type of problem and solution requirement to narrow down to a select few models which we can evaluate. Our problem is a classification and regression problem. We want to identify relationship between output (Survived or not) with other variables or features (Gender, Age, Port...). We are also perfoming a category of machine learning which is called supervised learning as we are training our model with a given dataset. With these two criteria - Supervised Learning plus Classification and Regression, we can narrow down our choice of models to a few. These include:\n",
    "\n",
    "- Grid Search\n",
    "- Naive Bayes classifier\n",
    "- KNN or k-Nearest Neighbors\n",
    "- Random Forrest\n",
    "- Logistic Regression\n",
    "- Support Vector Machines\n",
    "- Decision Tree\n",
    "- XGBOOST Classifier\n",
    "- AdaBoosting Classifier\n",
    "- GradientBoostingClassifier\n",
    "- HistGradientBoostingClassifier\n",
    "- Principal Component Analysis (PCA)\n",
    "- Gaussian Mixture"
   ]
  },
  {
   "cell_type": "markdown",
   "execution_count": null,
   "metadata": {
    "papermill": {
     "duration": 0.061588,
     "end_time": "2020-08-13T13:45:56.146230",
     "exception": false,
     "start_time": "2020-08-13T13:45:56.084642",
     "status": "completed"
    },
    "tags": []
   },
   "source": [
    "We split the dataframe to get our original passenger data from the training set and the test set."
   ]
  },
  {
   "cell_type": "code",
   "execution_count": 102,
   "metadata": {
    "execution": {
     "iopub.execute_input": "2020-08-13T13:45:56.270797Z",
     "iopub.status.busy": "2020-08-13T13:45:56.269856Z",
     "iopub.status.idle": "2020-08-13T13:45:56.278086Z",
     "shell.execute_reply": "2020-08-13T13:45:56.277455Z"
    },
    "papermill": {
     "duration": 0.073079,
     "end_time": "2020-08-13T13:45:56.278211",
     "exception": false,
     "start_time": "2020-08-13T13:45:56.205132",
     "status": "completed"
    },
    "tags": []
   },
   "outputs": [],
   "source": [
    "# dummy with  dont drop frist\n",
    "Train = cb[:na]  #na is the number of rows of the original training set\n",
    "                 \n",
    "Test = cb[na:]  #testset  after clean missing values and feature engineering and encoder  we do NOT apply outliers on it\n",
    "\n",
    "# dummy with  drop frist\n",
    "train_1 = cb1[:na] \n",
    "test_1 =  cb1[na:]"
   ]
  },
  {
   "cell_type": "code",
   "execution_count": 103,
   "metadata": {
    "execution": {
     "iopub.execute_input": "2020-08-13T13:45:56.401692Z",
     "iopub.status.busy": "2020-08-13T13:45:56.400976Z",
     "iopub.status.idle": "2020-08-13T13:45:56.409156Z",
     "shell.execute_reply": "2020-08-13T13:45:56.410046Z"
    },
    "papermill": {
     "duration": 0.07434,
     "end_time": "2020-08-13T13:45:56.410250",
     "exception": false,
     "start_time": "2020-08-13T13:45:56.335910",
     "status": "completed"
    },
    "tags": []
   },
   "outputs": [
    {
     "name": "stdout",
     "output_type": "stream",
     "text": [
      "(891, 493)\n",
      "(891, 1)\n",
      "(418, 493)\n"
     ]
    }
   ],
   "source": [
    "print(train_1.shape)\n",
    "print(y_target.shape)\n",
    "print(test_1.shape)\n"
   ]
  },
  {
   "cell_type": "code",
   "execution_count": 104,
   "metadata": {
    "execution": {
     "iopub.execute_input": "2020-08-13T13:45:56.549248Z",
     "iopub.status.busy": "2020-08-13T13:45:56.548509Z",
     "iopub.status.idle": "2020-08-13T13:45:57.453140Z",
     "shell.execute_reply": "2020-08-13T13:45:57.452290Z"
    },
    "papermill": {
     "duration": 0.974146,
     "end_time": "2020-08-13T13:45:57.453267",
     "exception": false,
     "start_time": "2020-08-13T13:45:56.479121",
     "status": "completed"
    },
    "tags": []
   },
   "outputs": [],
   "source": [
    "import pandas as pd\n",
    "import numpy as np\n",
    "import matplotlib.pyplot as plt\n",
    "import seaborn as sns\n",
    "from scipy.stats import norm\n",
    "from sklearn.preprocessing import LabelEncoder\n",
    "\n",
    "# NAIBE BAYES\n",
    "from sklearn.naive_bayes import GaussianNB\n",
    "#KNN\n",
    "from sklearn.neighbors import KNeighborsClassifier\n",
    "#RANDOM FOREST\n",
    "from sklearn.ensemble import RandomForestClassifier\n",
    "#LOGISTIC REGRESSION\n",
    "from sklearn.linear_model import LogisticRegression\n",
    "#SVM\n",
    "from sklearn.svm import SVC\n",
    "#DECISON TREE\n",
    "from sklearn.tree import DecisionTreeClassifier\n",
    "#XGBOOST\n",
    "from xgboost import XGBClassifier\n",
    "#AdaBoosting Classifier\n",
    "from sklearn.ensemble import AdaBoostClassifier\n",
    "#GradientBoosting Classifier\n",
    "from sklearn.ensemble import GradientBoostingClassifier\n",
    "#HistGradientBoostingClassifier\n",
    "from sklearn.experimental import enable_hist_gradient_boosting\n",
    "from sklearn.ensemble import HistGradientBoostingClassifier, StackingClassifier\n",
    "\n",
    "from sklearn.model_selection import cross_val_score,StratifiedKFold,GridSearchCV\n",
    "\n",
    "\n",
    "\n",
    "\n",
    "from sklearn.preprocessing import StandardScaler ,Normalizer , MinMaxScaler, RobustScaler \n",
    "from sklearn.metrics import confusion_matrix\n",
    "from sklearn.model_selection import train_test_split\n",
    "import warnings\n",
    "warnings.filterwarnings(\"ignore\")"
   ]
  },
  {
   "cell_type": "markdown",
   "execution_count": null,
   "metadata": {
    "papermill": {
     "duration": 0.060213,
     "end_time": "2020-08-13T13:45:57.573558",
     "exception": false,
     "start_time": "2020-08-13T13:45:57.513345",
     "status": "completed"
    },
    "tags": []
   },
   "source": [
    "We further split the training set in to a train and test set to validate our model."
   ]
  },
  {
   "cell_type": "code",
   "execution_count": 105,
   "metadata": {
    "execution": {
     "iopub.execute_input": "2020-08-13T13:45:57.705334Z",
     "iopub.status.busy": "2020-08-13T13:45:57.704410Z",
     "iopub.status.idle": "2020-08-13T13:45:57.711181Z",
     "shell.execute_reply": "2020-08-13T13:45:57.710651Z"
    },
    "papermill": {
     "duration": 0.077714,
     "end_time": "2020-08-13T13:45:57.711311",
     "exception": false,
     "start_time": "2020-08-13T13:45:57.633597",
     "status": "completed"
    },
    "tags": []
   },
   "outputs": [],
   "source": [
    "X_train,X_test,y_train,y_test = train_test_split(train_1,y_target,test_size=0.30 ,  shuffle=True, random_state=42)"
   ]
  },
  {
   "cell_type": "markdown",
   "execution_count": null,
   "metadata": {
    "papermill": {
     "duration": 0.091581,
     "end_time": "2020-08-13T13:45:57.862905",
     "exception": false,
     "start_time": "2020-08-13T13:45:57.771324",
     "status": "completed"
    },
    "tags": []
   },
   "source": [
    "### Traing Models with Feature Scaling\n",
    "\n",
    "### **Feature Scaling**\n",
    "\n",
    "Two approaches are shown below:\n",
    "1. The **StandardScaler** assumes your data is normally distributed within each feature and will scale them such that the distribution is now centred around 0, with a standard deviation of 1.\n",
    "\n",
    "2. The **normalizer** scales each value by dividing each value by its magnitude in n-dimensional space for n number of features."
   ]
  },
  {
   "cell_type": "markdown",
   "execution_count": null,
   "metadata": {
    "papermill": {
     "duration": 0.061994,
     "end_time": "2020-08-13T13:45:57.983784",
     "exception": false,
     "start_time": "2020-08-13T13:45:57.921790",
     "status": "completed"
    },
    "tags": []
   },
   "source": [
    "Coming to the modeling part. We first scale the data using standard scaler.\n",
    "We use grid search with stratified kfold validation for 9 algorithms.\n",
    "We get the scores from the cross validation for all these models and run a prediction on the test data from our train_test_split.\n",
    "For stacking we get the accuracy based on fitting the train and test set."
   ]
  },
  {
   "cell_type": "code",
   "execution_count": 106,
   "metadata": {
    "execution": {
     "iopub.execute_input": "2020-08-13T13:45:58.250636Z",
     "iopub.status.busy": "2020-08-13T13:45:58.249230Z",
     "iopub.status.idle": "2020-08-13T14:17:56.470953Z",
     "shell.execute_reply": "2020-08-13T14:17:56.471860Z"
    },
    "papermill": {
     "duration": 1918.3266,
     "end_time": "2020-08-13T14:17:56.472245",
     "exception": false,
     "start_time": "2020-08-13T13:45:58.145645",
     "status": "completed"
    },
    "tags": []
   },
   "outputs": [
    {
     "data": {
      "text/html": [
       "<div>\n",
       "<style scoped>\n",
       "    .dataframe tbody tr th:only-of-type {\n",
       "        vertical-align: middle;\n",
       "    }\n",
       "\n",
       "    .dataframe tbody tr th {\n",
       "        vertical-align: top;\n",
       "    }\n",
       "\n",
       "    .dataframe thead th {\n",
       "        text-align: right;\n",
       "    }\n",
       "</style>\n",
       "<table border=\"1\" class=\"dataframe\">\n",
       "  <thead>\n",
       "    <tr style=\"text-align: right;\">\n",
       "      <th></th>\n",
       "      <th>Name</th>\n",
       "      <th>Train Score</th>\n",
       "      <th>Test Score</th>\n",
       "    </tr>\n",
       "  </thead>\n",
       "  <tbody>\n",
       "    <tr>\n",
       "      <th>0</th>\n",
       "      <td>Naive Bayes</td>\n",
       "      <td>0.560113</td>\n",
       "      <td>0.548507</td>\n",
       "    </tr>\n",
       "    <tr>\n",
       "      <th>1</th>\n",
       "      <td>K Nearest</td>\n",
       "      <td>0.707604</td>\n",
       "      <td>0.667910</td>\n",
       "    </tr>\n",
       "    <tr>\n",
       "      <th>2</th>\n",
       "      <td>Random Forest</td>\n",
       "      <td>0.797670</td>\n",
       "      <td>0.798507</td>\n",
       "    </tr>\n",
       "    <tr>\n",
       "      <th>3</th>\n",
       "      <td>Logistic Regression</td>\n",
       "      <td>0.832924</td>\n",
       "      <td>0.805970</td>\n",
       "    </tr>\n",
       "    <tr>\n",
       "      <th>4</th>\n",
       "      <td>Support Vector</td>\n",
       "      <td>0.836150</td>\n",
       "      <td>0.820896</td>\n",
       "    </tr>\n",
       "    <tr>\n",
       "      <th>5</th>\n",
       "      <td>Decision Tree</td>\n",
       "      <td>0.805709</td>\n",
       "      <td>0.817164</td>\n",
       "    </tr>\n",
       "    <tr>\n",
       "      <th>6</th>\n",
       "      <td>XGBoost</td>\n",
       "      <td>0.840911</td>\n",
       "      <td>0.802239</td>\n",
       "    </tr>\n",
       "    <tr>\n",
       "      <th>7</th>\n",
       "      <td>Adapative Boost</td>\n",
       "      <td>0.826523</td>\n",
       "      <td>0.847015</td>\n",
       "    </tr>\n",
       "    <tr>\n",
       "      <th>8</th>\n",
       "      <td>Gradient Boost</td>\n",
       "      <td>0.839273</td>\n",
       "      <td>0.835821</td>\n",
       "    </tr>\n",
       "    <tr>\n",
       "      <th>9</th>\n",
       "      <td>Histogram GB</td>\n",
       "      <td>0.826523</td>\n",
       "      <td>0.798507</td>\n",
       "    </tr>\n",
       "    <tr>\n",
       "      <th>10</th>\n",
       "      <td>Stacking</td>\n",
       "      <td>0.942215</td>\n",
       "      <td>0.843284</td>\n",
       "    </tr>\n",
       "  </tbody>\n",
       "</table>\n",
       "</div>"
      ],
      "text/plain": [
       "                   Name  Train Score  Test Score\n",
       "0           Naive Bayes     0.560113    0.548507\n",
       "1             K Nearest     0.707604    0.667910\n",
       "2         Random Forest     0.797670    0.798507\n",
       "3   Logistic Regression     0.832924    0.805970\n",
       "4        Support Vector     0.836150    0.820896\n",
       "5         Decision Tree     0.805709    0.817164\n",
       "6               XGBoost     0.840911    0.802239\n",
       "7       Adapative Boost     0.826523    0.847015\n",
       "8        Gradient Boost     0.839273    0.835821\n",
       "9          Histogram GB     0.826523    0.798507\n",
       "10             Stacking     0.942215    0.843284"
      ]
     },
     "execution_count": 106,
     "metadata": {},
     "output_type": "execute_result"
    }
   ],
   "source": [
    "sk_fold = StratifiedKFold(10,shuffle=True, random_state=42)\n",
    "#sc =StandardScaler()\n",
    "\n",
    "sc =StandardScaler()\n",
    "#sc =Normalizer()\n",
    "#sc = MinMaxScaler()\n",
    "\n",
    "\n",
    "X_train= sc.fit_transform(X_train)\n",
    "\n",
    "X_train_1= sc.transform(train_1.values)\n",
    "\n",
    "X_test= sc.transform(X_test)\n",
    "\n",
    "X_submit= sc.transform(test_1.values)\n",
    "\n",
    "\n",
    "g_nb = GaussianNB()\n",
    "knn = KNeighborsClassifier()\n",
    "ran_for  = RandomForestClassifier()\n",
    "log_reg = LogisticRegression()\n",
    "svc = SVC()\n",
    "tree= DecisionTreeClassifier()\n",
    "xgb = XGBClassifier()\n",
    "\n",
    "ada_boost = AdaBoostClassifier()\n",
    "grad_boost = GradientBoostingClassifier(n_estimators=100)\n",
    "hist_grad_boost = HistGradientBoostingClassifier()\n",
    "\n",
    "\n",
    "\n",
    "\n",
    "clf = [(\"Naive Bayes\",g_nb,{}),\\\n",
    "       (\"K Nearest\",knn,{\"n_neighbors\":[3,5,8],\"leaf_size\":[25,30,35]}),\\\n",
    "       (\"Random Forest\",ran_for,{\"n_estimators\":[100],\"random_state\":[42],\"min_samples_leaf\":[5,10,20,40,50],\"bootstrap\":[False]}),\\\n",
    "       (\"Logistic Regression\",log_reg,{\"penalty\":['l2'],\"C\":[100, 10, 1.0, 0.1, 0.01] , \"solver\":['saga']}),\\\n",
    "       (\"Support Vector\",svc,{\"kernel\": [\"linear\",\"rbf\"],\"gamma\":['auto'],\"C\":[0.1, 1, 10, 100, 1000]}),\\\n",
    "       (\"Decision Tree\", tree, {}),\\\n",
    "       (\"XGBoost\",xgb,{\"n_estimators\":[200],\"max_depth\":[3,4,5],\"learning_rate\":[.01,.1,.2],\"subsample\":[.8],\"colsample_bytree\":[1],\"gamma\":[0,1,5],\"lambda\":[.01,.1,1]}),\\\n",
    "       \n",
    "       (\"Adapative Boost\",ada_boost,{\"n_estimators\":[100],\"learning_rate\":[.6,.8,1]}),\\\n",
    "       (\"Gradient Boost\",grad_boost,{}),\\\n",
    "     \n",
    "       (\"Histogram GB\",hist_grad_boost,{\"loss\":[\"binary_crossentropy\"],\"min_samples_leaf\":[5,10,20,40,50],\"l2_regularization\":[0,.1,1]})]\n",
    "\n",
    "\n",
    "stack_list=[]\n",
    "train_scores = pd.DataFrame(columns=[\"Name\",\"Train Score\",\"Test Score\"])\n",
    "\n",
    "i=0\n",
    "for name,clf1,param_grid in clf:\n",
    "    clf = GridSearchCV(clf1,param_grid=param_grid,scoring=\"accuracy\",cv=sk_fold,return_train_score=True)\n",
    "    clf.fit(X_train,y_train) #.reshape(-1,1)\n",
    "    y_pred = clf.best_estimator_.predict(X_test)\n",
    "    cm = confusion_matrix(y_test,y_pred)\n",
    "    \n",
    "    #train_scores.loc[i]= [name,cross_val_score(clf,X_train,y_train,cv=sk_fold,scoring=\"accuracy\").mean(),(cm[0,0]+cm[1,1,])/(cm[0,0]+cm[0,1]+cm[1,0]+cm[1,1])]\n",
    "    train_scores.loc[i]= [name,clf.best_score_,(cm[0,0]+cm[1,1,])/(cm[0,0]+cm[0,1]+cm[1,0]+cm[1,1])]\n",
    "    stack_list.append(clf.best_estimator_)\n",
    "    i=i+1\n",
    "    \n",
    "est = [(\"g_nb\",stack_list[0]),\\\n",
    "       (\"knn\",stack_list[1]),\\\n",
    "       (\"ran_for\",stack_list[2]),\\\n",
    "       (\"log_reg\",stack_list[3]),\\\n",
    "       (\"svc\",stack_list[4]),\\\n",
    "       (\"dec_tree\",stack_list[5]),\\\n",
    "       (\"XGBoost\",stack_list[6]),\\\n",
    "       (\"ada_boost\",stack_list[7]),\\\n",
    "       (\"grad_boost\",stack_list[8]),\\\n",
    "       (\"hist_grad_boost\",stack_list[9])]\n",
    "\n",
    "\n",
    "\n",
    "sc = StackingClassifier(estimators=est,final_estimator = None,cv=sk_fold,passthrough=False)\n",
    "sc.fit(X_train,y_train)\n",
    "y_pred = sc.predict(X_test)\n",
    "cm1 = confusion_matrix(y_test,y_pred)\n",
    "y_pred_train = sc.predict(X_train)\n",
    "cm2 = confusion_matrix(y_train,y_pred_train)\n",
    "train_scores.append(pd.Series([\"Stacking\",(cm2[0,0]+cm2[1,1,])/(cm2[0,0]+cm2[0,1]+cm2[1,0]+cm2[1,1]),(cm1[0,0]+cm1[1,1,])/(cm1[0,0]+cm1[0,1]+cm1[1,0]+cm1[1,1])],index=train_scores.columns),ignore_index=True)\n"
   ]
  },
  {
   "cell_type": "code",
   "execution_count": 107,
   "metadata": {
    "execution": {
     "iopub.execute_input": "2020-08-13T14:17:56.617388Z",
     "iopub.status.busy": "2020-08-13T14:17:56.616710Z",
     "iopub.status.idle": "2020-08-13T14:17:57.651873Z",
     "shell.execute_reply": "2020-08-13T14:17:57.652908Z"
    },
    "papermill": {
     "duration": 1.101743,
     "end_time": "2020-08-13T14:17:57.653074",
     "exception": false,
     "start_time": "2020-08-13T14:17:56.551331",
     "status": "completed"
    },
    "tags": []
   },
   "outputs": [
    {
     "name": "stdout",
     "output_type": "stream",
     "text": [
      "VotingClassifierModel Train Score is :  0.9406099518459069\n",
      "VotingClassifierModel Test Score is :  0.8432835820895522\n",
      "----------------------------------------------------\n"
     ]
    }
   ],
   "source": [
    "#Import Libraries\n",
    "from sklearn.ensemble import VotingClassifier\n",
    "#----------------------------------------------------\n",
    "#Applying VotingClassifier Model \n",
    "'''\n",
    "ensemble.VotingClassifier(estimators, voting=’hard’, weights=None,n_jobs=None, flatten_transform=None)\n",
    "'''\n",
    "#loading Voting Classifier\n",
    "VotingClassifierModel = VotingClassifier(estimators=[(\"grad_boost\",stack_list[8]),(\"svc\",stack_list[4]) , (\"ada_boost\",stack_list[7])], voting='hard')\n",
    "VotingClassifierModel.fit(X_train, y_train)\n",
    "\n",
    "\n",
    "#Calculating Details\n",
    "print('VotingClassifierModel Train Score is : ' , VotingClassifierModel.score(X_train, y_train))\n",
    "print('VotingClassifierModel Test Score is : ' , VotingClassifierModel.score(X_test, y_test))\n",
    "print('----------------------------------------------------')"
   ]
  },
  {
   "cell_type": "markdown",
   "execution_count": null,
   "metadata": {
    "papermill": {
     "duration": 0.062575,
     "end_time": "2020-08-13T14:17:57.773047",
     "exception": false,
     "start_time": "2020-08-13T14:17:57.710472",
     "status": "completed"
    },
    "tags": []
   },
   "source": [
    "We fit and predict on the best SVC model that we derived based on the scores."
   ]
  },
  {
   "cell_type": "code",
   "execution_count": 108,
   "metadata": {
    "execution": {
     "iopub.execute_input": "2020-08-13T14:17:57.893567Z",
     "iopub.status.busy": "2020-08-13T14:17:57.892862Z",
     "iopub.status.idle": "2020-08-13T14:17:57.898372Z",
     "shell.execute_reply": "2020-08-13T14:17:57.899135Z"
    },
    "papermill": {
     "duration": 0.069321,
     "end_time": "2020-08-13T14:17:57.899346",
     "exception": false,
     "start_time": "2020-08-13T14:17:57.830025",
     "status": "completed"
    },
    "tags": []
   },
   "outputs": [
    {
     "name": "stdout",
     "output_type": "stream",
     "text": [
      "(891, 493)\n",
      "(891, 1)\n",
      "(418, 493)\n"
     ]
    }
   ],
   "source": [
    "y=df_train['Survived'].to_frame()\n",
    "print(X_train_1.shape)\n",
    "print(y.shape)\n",
    "print(X_submit.shape)\n",
    "\n"
   ]
  },
  {
   "cell_type": "code",
   "execution_count": 109,
   "metadata": {
    "execution": {
     "iopub.execute_input": "2020-08-13T14:17:58.019766Z",
     "iopub.status.busy": "2020-08-13T14:17:58.018907Z",
     "iopub.status.idle": "2020-08-13T14:17:58.136833Z",
     "shell.execute_reply": "2020-08-13T14:17:58.136318Z"
    },
    "papermill": {
     "duration": 0.180221,
     "end_time": "2020-08-13T14:17:58.136943",
     "exception": false,
     "start_time": "2020-08-13T14:17:57.956722",
     "status": "completed"
    },
    "tags": []
   },
   "outputs": [],
   "source": [
    "#Calculating Prediction\n",
    "\n",
    "y_submit = VotingClassifierModel.predict(X_submit)\n",
    "submit = pd.DataFrame({\n",
    "        \"PassengerId\": df_test.PassengerId,\n",
    "        \"Survived\": y_submit\n",
    "    })"
   ]
  },
  {
   "cell_type": "markdown",
   "execution_count": null,
   "metadata": {
    "papermill": {
     "duration": 0.057028,
     "end_time": "2020-08-13T14:17:58.251595",
     "exception": false,
     "start_time": "2020-08-13T14:17:58.194567",
     "status": "completed"
    },
    "tags": []
   },
   "source": [
    "Exporting the data to submit."
   ]
  },
  {
   "cell_type": "code",
   "execution_count": 110,
   "metadata": {
    "execution": {
     "iopub.execute_input": "2020-08-13T14:17:58.371562Z",
     "iopub.status.busy": "2020-08-13T14:17:58.371017Z",
     "iopub.status.idle": "2020-08-13T14:17:58.394631Z",
     "shell.execute_reply": "2020-08-13T14:17:58.394146Z"
    },
    "papermill": {
     "duration": 0.086125,
     "end_time": "2020-08-13T14:17:58.394735",
     "exception": false,
     "start_time": "2020-08-13T14:17:58.308610",
     "status": "completed"
    },
    "tags": []
   },
   "outputs": [],
   "source": [
    "\n",
    "submit.PassengerId = submit.PassengerId.astype(int)\n",
    "submit.Survived = submit.Survived.astype(int)\n",
    "submit.to_csv(\"titanic_submit.csv\", index=False)"
   ]
  },
  {
   "cell_type": "code",
   "execution_count": 111,
   "metadata": {
    "execution": {
     "iopub.execute_input": "2020-08-13T14:17:58.513553Z",
     "iopub.status.busy": "2020-08-13T14:17:58.512809Z",
     "iopub.status.idle": "2020-08-13T14:17:58.525757Z",
     "shell.execute_reply": "2020-08-13T14:17:58.526518Z"
    },
    "papermill": {
     "duration": 0.074352,
     "end_time": "2020-08-13T14:17:58.526702",
     "exception": false,
     "start_time": "2020-08-13T14:17:58.452350",
     "status": "completed"
    },
    "tags": []
   },
   "outputs": [
    {
     "name": "stdout",
     "output_type": "stream",
     "text": [
      "Predicted Value for VotingClassifierModel is :  [0 1 0 0 1 0 1 0 1 0]\n"
     ]
    }
   ],
   "source": [
    "print('Predicted Value for VotingClassifierModel is : ' , y_submit[:10])\n",
    " \n",
    "\n"
   ]
  },
  {
   "cell_type": "markdown",
   "execution_count": null,
   "metadata": {
    "papermill": {
     "duration": 0.057231,
     "end_time": "2020-08-13T14:17:58.644010",
     "exception": false,
     "start_time": "2020-08-13T14:17:58.586779",
     "status": "completed"
    },
    "tags": []
   },
   "source": [
    "## **Principal Component Analysis**\n",
    "\n",
    "PCA helps us to identify patterns in data based on the correlation between features. Used to reduce number of variables in your data by extracting important one from a large pool. Thus, it reduces the dimension of your data with the aim of retaining as much information as possible.\n",
    "\n",
    "Here we will use a straightforward PCA, asking it to preserve 85% of the variance in the projected data."
   ]
  },
  {
   "cell_type": "code",
   "execution_count": 112,
   "metadata": {
    "execution": {
     "iopub.execute_input": "2020-08-13T14:17:58.763312Z",
     "iopub.status.busy": "2020-08-13T14:17:58.762661Z",
     "iopub.status.idle": "2020-08-13T14:17:58.767635Z",
     "shell.execute_reply": "2020-08-13T14:17:58.768123Z"
    },
    "papermill": {
     "duration": 0.067161,
     "end_time": "2020-08-13T14:17:58.768250",
     "exception": false,
     "start_time": "2020-08-13T14:17:58.701089",
     "status": "completed"
    },
    "tags": []
   },
   "outputs": [
    {
     "data": {
      "text/plain": [
       "'\\n# dummy with  dont drop frist\\nTrain = cb[:na]  #na is the number of rows of the original training set\\n                 \\nTest = cb[na:]  #testset  after clean missing values and feature engineering and encoder  we do NOT apply outliers on it\\n\\n# dummy with  drop frist\\ntrain_1 = cb1[:na] \\ntest_1 =  cb1[na:]\\n\\nprint(train_1.shape)\\nprint(y_target.shape)\\nprint(test_1.shape)\\n'"
      ]
     },
     "execution_count": 112,
     "metadata": {},
     "output_type": "execute_result"
    }
   ],
   "source": [
    "'''\n",
    "# dummy with  dont drop frist\n",
    "Train = cb[:na]  #na is the number of rows of the original training set\n",
    "                 \n",
    "Test = cb[na:]  #testset  after clean missing values and feature engineering and encoder  we do NOT apply outliers on it\n",
    "\n",
    "# dummy with  drop frist\n",
    "train_1 = cb1[:na] \n",
    "test_1 =  cb1[na:]\n",
    "\n",
    "print(train_1.shape)\n",
    "print(y_target.shape)\n",
    "print(test_1.shape)\n",
    "'''"
   ]
  },
  {
   "cell_type": "code",
   "execution_count": 113,
   "metadata": {
    "execution": {
     "iopub.execute_input": "2020-08-13T14:17:58.888957Z",
     "iopub.status.busy": "2020-08-13T14:17:58.888052Z",
     "iopub.status.idle": "2020-08-13T14:17:58.892409Z",
     "shell.execute_reply": "2020-08-13T14:17:58.891928Z"
    },
    "papermill": {
     "duration": 0.066411,
     "end_time": "2020-08-13T14:17:58.892512",
     "exception": false,
     "start_time": "2020-08-13T14:17:58.826101",
     "status": "completed"
    },
    "tags": []
   },
   "outputs": [
    {
     "data": {
      "text/plain": [
       "\"\\nfrom sklearn.decomposition import PCA\\n\\npca = PCA(0.95, whiten=True)\\npca_train_data = pca.fit_transform(train_1)\\nprint(pca_train_data.shape,'\\n')\\n\\nexplained_variance = pca.explained_variance_ratio_ \\nprint(explained_variance)\\n\""
      ]
     },
     "execution_count": 113,
     "metadata": {},
     "output_type": "execute_result"
    }
   ],
   "source": [
    "'''\n",
    "from sklearn.decomposition import PCA\n",
    "\n",
    "pca = PCA(0.95, whiten=True)\n",
    "pca_train_data = pca.fit_transform(train_1)\n",
    "print(pca_train_data.shape,'\\n')\n",
    "\n",
    "explained_variance = pca.explained_variance_ratio_ \n",
    "print(explained_variance)\n",
    "'''"
   ]
  },
  {
   "cell_type": "markdown",
   "execution_count": null,
   "metadata": {
    "papermill": {
     "duration": 0.057999,
     "end_time": "2020-08-13T14:17:59.009186",
     "exception": false,
     "start_time": "2020-08-13T14:17:58.951187",
     "status": "completed"
    },
    "tags": []
   },
   "source": [
    "Introducing another concept now i.e. **K-Fold Cross-validation**, sometimes called rotation estimation, is a model validation technique for assessing how the results of a statistical analysis will generalize to an independent data set.\n",
    "\n",
    "Cross-Validation can be used to evaluate performance of a model by handling the variance problem of the result set.\n",
    "\n",
    "In this approach, the data used for training and testing are non-overlapping. To implement, first separate your data set into two subsets. One subset you use for training and other for testing. Now, do the exercise again by swapping the data sets. Report the average test result. This is call 2-fold cross validation. \n",
    "\n",
    "Similarly if you divide your entire data set in to five sub sets and perform the exercise ten times and report the average test result then that would be 10-fold cross validation (which is what we'll be doing now)."
   ]
  },
  {
   "cell_type": "code",
   "execution_count": 114,
   "metadata": {
    "execution": {
     "iopub.execute_input": "2020-08-13T14:17:59.129396Z",
     "iopub.status.busy": "2020-08-13T14:17:59.128505Z",
     "iopub.status.idle": "2020-08-13T14:17:59.132529Z",
     "shell.execute_reply": "2020-08-13T14:17:59.132029Z"
    },
    "papermill": {
     "duration": 0.065873,
     "end_time": "2020-08-13T14:17:59.132635",
     "exception": false,
     "start_time": "2020-08-13T14:17:59.066762",
     "status": "completed"
    },
    "tags": []
   },
   "outputs": [
    {
     "data": {
      "text/plain": [
       "'\\ntrain_1=pd.DataFrame(pca_train_data)\\ntest_1=pd.DataFrame(pca.transform(test_1))\\n\\nprint(train_1.shape)\\nprint(y_target.shape)\\nprint(test_1.shape)\\n'"
      ]
     },
     "execution_count": 114,
     "metadata": {},
     "output_type": "execute_result"
    }
   ],
   "source": [
    "'''\n",
    "train_1=pd.DataFrame(pca_train_data)\n",
    "test_1=pd.DataFrame(pca.transform(test_1))\n",
    "\n",
    "print(train_1.shape)\n",
    "print(y_target.shape)\n",
    "print(test_1.shape)\n",
    "'''"
   ]
  },
  {
   "cell_type": "markdown",
   "execution_count": null,
   "metadata": {
    "papermill": {
     "duration": 0.057533,
     "end_time": "2020-08-13T14:17:59.250107",
     "exception": false,
     "start_time": "2020-08-13T14:17:59.192574",
     "status": "completed"
    },
    "tags": []
   },
   "source": [
    "We further split the training set in to a train and test set to validate our model."
   ]
  },
  {
   "cell_type": "code",
   "execution_count": 115,
   "metadata": {
    "execution": {
     "iopub.execute_input": "2020-08-13T14:17:59.370316Z",
     "iopub.status.busy": "2020-08-13T14:17:59.369525Z",
     "iopub.status.idle": "2020-08-13T14:17:59.372803Z",
     "shell.execute_reply": "2020-08-13T14:17:59.373364Z"
    },
    "papermill": {
     "duration": 0.065655,
     "end_time": "2020-08-13T14:17:59.373490",
     "exception": false,
     "start_time": "2020-08-13T14:17:59.307835",
     "status": "completed"
    },
    "tags": []
   },
   "outputs": [
    {
     "data": {
      "text/plain": [
       "'\\nX_train,X_test,y_train,y_test = train_test_split(train_1,y_target,test_size=0.30, random_state=42)\\n'"
      ]
     },
     "execution_count": 115,
     "metadata": {},
     "output_type": "execute_result"
    }
   ],
   "source": [
    "'''\n",
    "X_train,X_test,y_train,y_test = train_test_split(train_1,y_target,test_size=0.30, random_state=42)\n",
    "'''"
   ]
  },
  {
   "cell_type": "code",
   "execution_count": 116,
   "metadata": {
    "execution": {
     "iopub.execute_input": "2020-08-13T14:17:59.496742Z",
     "iopub.status.busy": "2020-08-13T14:17:59.495803Z",
     "iopub.status.idle": "2020-08-13T14:17:59.500197Z",
     "shell.execute_reply": "2020-08-13T14:17:59.499714Z"
    },
    "papermill": {
     "duration": 0.06868,
     "end_time": "2020-08-13T14:17:59.500298",
     "exception": false,
     "start_time": "2020-08-13T14:17:59.431618",
     "status": "completed"
    },
    "tags": []
   },
   "outputs": [
    {
     "data": {
      "text/plain": [
       "'\\nsk_fold = StratifiedKFold(10,shuffle=True, random_state=42)\\n#sc =StandardScaler()\\n\\nsc =StandardScaler()\\n#sc =Normalizer()\\n#sc = MinMaxScaler()\\n\\n\\nX_train= sc.fit_transform(X_train)\\n\\nX_train_1= sc.transform(train_1.values)\\n\\nX_test= sc.transform(X_test)\\n\\nX_submit= sc.transform(test_1.values)\\n\\n\\ng_nb = GaussianNB()\\nknn = KNeighborsClassifier()\\nran_for  = RandomForestClassifier()\\nlog_reg = LogisticRegression()\\nsvc = SVC()\\ntree= DecisionTreeClassifier()\\nxgb = XGBClassifier()\\n\\nada_boost = AdaBoostClassifier()\\ngrad_boost = GradientBoostingClassifier(n_estimators=100)\\nhist_grad_boost = HistGradientBoostingClassifier()\\n\\n\\n\\n\\nclf = [(\"Naive Bayes\",g_nb,{}),       (\"K Nearest\",knn,{\"n_neighbors\":[3,5,8],\"leaf_size\":[25,30,35]}),       (\"Random Forest\",ran_for,{\"n_estimators\":[100],\"random_state\":[42],\"min_samples_leaf\":[5,10,20,40,50],\"bootstrap\":[False]}),       (\"Logistic Regression\",log_reg,{\"penalty\":[\\'l2\\'],\"C\":[100, 10, 1.0, 0.1, 0.01] , \"solver\":[\\'saga\\']}),       (\"Support Vector\",svc,{\"kernel\": [\"linear\",\"rbf\"],\"gamma\":[\\'auto\\'],\"C\":[0.1, 1, 10, 100, 1000]}),       (\"Decision Tree\", tree, {}),       (\"XGBoost\",xgb,{\"n_estimators\":[200],\"max_depth\":[3,4,5],\"learning_rate\":[.01,.1,.2],\"subsample\":[.8],\"colsample_bytree\":[1],\"gamma\":[0,1,5],\"lambda\":[.01,.1,1]}),       \\n       (\"Adapative Boost\",ada_boost,{\"n_estimators\":[100],\"learning_rate\":[.6,.8,1]}),       (\"Gradient Boost\",grad_boost,{}),     \\n       (\"Histogram GB\",hist_grad_boost,{\"loss\":[\"binary_crossentropy\"],\"min_samples_leaf\":[5,10,20,40,50],\"l2_regularization\":[0,.1,1]})]\\n\\n\\nstack_list=[]\\ntrain_scores = pd.DataFrame(columns=[\"Name\",\"Train Score\",\"Test Score\"])\\n\\ni=0\\nfor name,clf1,param_grid in clf:\\n    clf = GridSearchCV(clf1,param_grid=param_grid,scoring=\"accuracy\",cv=sk_fold,return_train_score=True)\\n    clf.fit(X_train,y_train) #.reshape(-1,1)\\n    y_pred = clf.best_estimator_.predict(X_test)\\n    cm = confusion_matrix(y_test,y_pred)\\n    \\n    #train_scores.loc[i]= [name,cross_val_score(clf,X_train,y_train,cv=sk_fold,scoring=\"accuracy\").mean(),(cm[0,0]+cm[1,1,])/(cm[0,0]+cm[0,1]+cm[1,0]+cm[1,1])]\\n    train_scores.loc[i]= [name,clf.best_score_,(cm[0,0]+cm[1,1,])/(cm[0,0]+cm[0,1]+cm[1,0]+cm[1,1])]\\n    stack_list.append(clf.best_estimator_)\\n    i=i+1\\n    \\nest = [(\"g_nb\",stack_list[0]),       (\"knn\",stack_list[1]),       (\"ran_for\",stack_list[2]),       (\"log_reg\",stack_list[3]),       (\"svc\",stack_list[4]),       (\"dec_tree\",stack_list[5]),       (\"XGBoost\",stack_list[6]),       (\"ada_boost\",stack_list[7]),       (\"grad_boost\",stack_list[8]),       (\"hist_grad_boost\",stack_list[9])]\\n\\n\\n\\n\\n'"
      ]
     },
     "execution_count": 116,
     "metadata": {},
     "output_type": "execute_result"
    }
   ],
   "source": [
    "'''\n",
    "sk_fold = StratifiedKFold(10,shuffle=True, random_state=42)\n",
    "#sc =StandardScaler()\n",
    "\n",
    "sc =StandardScaler()\n",
    "#sc =Normalizer()\n",
    "#sc = MinMaxScaler()\n",
    "\n",
    "\n",
    "X_train= sc.fit_transform(X_train)\n",
    "\n",
    "X_train_1= sc.transform(train_1.values)\n",
    "\n",
    "X_test= sc.transform(X_test)\n",
    "\n",
    "X_submit= sc.transform(test_1.values)\n",
    "\n",
    "\n",
    "g_nb = GaussianNB()\n",
    "knn = KNeighborsClassifier()\n",
    "ran_for  = RandomForestClassifier()\n",
    "log_reg = LogisticRegression()\n",
    "svc = SVC()\n",
    "tree= DecisionTreeClassifier()\n",
    "xgb = XGBClassifier()\n",
    "\n",
    "ada_boost = AdaBoostClassifier()\n",
    "grad_boost = GradientBoostingClassifier(n_estimators=100)\n",
    "hist_grad_boost = HistGradientBoostingClassifier()\n",
    "\n",
    "\n",
    "\n",
    "\n",
    "clf = [(\"Naive Bayes\",g_nb,{}),\\\n",
    "       (\"K Nearest\",knn,{\"n_neighbors\":[3,5,8],\"leaf_size\":[25,30,35]}),\\\n",
    "       (\"Random Forest\",ran_for,{\"n_estimators\":[100],\"random_state\":[42],\"min_samples_leaf\":[5,10,20,40,50],\"bootstrap\":[False]}),\\\n",
    "       (\"Logistic Regression\",log_reg,{\"penalty\":['l2'],\"C\":[100, 10, 1.0, 0.1, 0.01] , \"solver\":['saga']}),\\\n",
    "       (\"Support Vector\",svc,{\"kernel\": [\"linear\",\"rbf\"],\"gamma\":['auto'],\"C\":[0.1, 1, 10, 100, 1000]}),\\\n",
    "       (\"Decision Tree\", tree, {}),\\\n",
    "       (\"XGBoost\",xgb,{\"n_estimators\":[200],\"max_depth\":[3,4,5],\"learning_rate\":[.01,.1,.2],\"subsample\":[.8],\"colsample_bytree\":[1],\"gamma\":[0,1,5],\"lambda\":[.01,.1,1]}),\\\n",
    "       \n",
    "       (\"Adapative Boost\",ada_boost,{\"n_estimators\":[100],\"learning_rate\":[.6,.8,1]}),\\\n",
    "       (\"Gradient Boost\",grad_boost,{}),\\\n",
    "     \n",
    "       (\"Histogram GB\",hist_grad_boost,{\"loss\":[\"binary_crossentropy\"],\"min_samples_leaf\":[5,10,20,40,50],\"l2_regularization\":[0,.1,1]})]\n",
    "\n",
    "\n",
    "stack_list=[]\n",
    "train_scores = pd.DataFrame(columns=[\"Name\",\"Train Score\",\"Test Score\"])\n",
    "\n",
    "i=0\n",
    "for name,clf1,param_grid in clf:\n",
    "    clf = GridSearchCV(clf1,param_grid=param_grid,scoring=\"accuracy\",cv=sk_fold,return_train_score=True)\n",
    "    clf.fit(X_train,y_train) #.reshape(-1,1)\n",
    "    y_pred = clf.best_estimator_.predict(X_test)\n",
    "    cm = confusion_matrix(y_test,y_pred)\n",
    "    \n",
    "    #train_scores.loc[i]= [name,cross_val_score(clf,X_train,y_train,cv=sk_fold,scoring=\"accuracy\").mean(),(cm[0,0]+cm[1,1,])/(cm[0,0]+cm[0,1]+cm[1,0]+cm[1,1])]\n",
    "    train_scores.loc[i]= [name,clf.best_score_,(cm[0,0]+cm[1,1,])/(cm[0,0]+cm[0,1]+cm[1,0]+cm[1,1])]\n",
    "    stack_list.append(clf.best_estimator_)\n",
    "    i=i+1\n",
    "    \n",
    "est = [(\"g_nb\",stack_list[0]),\\\n",
    "       (\"knn\",stack_list[1]),\\\n",
    "       (\"ran_for\",stack_list[2]),\\\n",
    "       (\"log_reg\",stack_list[3]),\\\n",
    "       (\"svc\",stack_list[4]),\\\n",
    "       (\"dec_tree\",stack_list[5]),\\\n",
    "       (\"XGBoost\",stack_list[6]),\\\n",
    "       (\"ada_boost\",stack_list[7]),\\\n",
    "       (\"grad_boost\",stack_list[8]),\\\n",
    "       (\"hist_grad_boost\",stack_list[9])]\n",
    "\n",
    "\n",
    "\n",
    "\n",
    "'''"
   ]
  },
  {
   "cell_type": "code",
   "execution_count": 117,
   "metadata": {
    "execution": {
     "iopub.execute_input": "2020-08-13T14:17:59.620317Z",
     "iopub.status.busy": "2020-08-13T14:17:59.619301Z",
     "iopub.status.idle": "2020-08-13T14:17:59.623479Z",
     "shell.execute_reply": "2020-08-13T14:17:59.622881Z"
    },
    "papermill": {
     "duration": 0.066024,
     "end_time": "2020-08-13T14:17:59.623581",
     "exception": false,
     "start_time": "2020-08-13T14:17:59.557557",
     "status": "completed"
    },
    "tags": []
   },
   "outputs": [
    {
     "data": {
      "text/plain": [
       "'\\nsc = StackingClassifier(estimators=est,final_estimator = None,cv=sk_fold,passthrough=False)\\nsc.fit(X_train,y_train)\\ny_pred = sc.predict(X_test)\\ncm1 = confusion_matrix(y_test,y_pred)\\ny_pred_train = sc.predict(X_train)\\ncm2 = confusion_matrix(y_train,y_pred_train)\\ntrain_scores.append(pd.Series([\"Stacking\",(cm2[0,0]+cm2[1,1,])/(cm2[0,0]+cm2[0,1]+cm2[1,0]+cm2[1,1]),(cm1[0,0]+cm1[1,1,])/(cm1[0,0]+cm1[0,1]+cm1[1,0]+cm1[1,1])],index=train_scores.columns),ignore_index=True)\\n\\n'"
      ]
     },
     "execution_count": 117,
     "metadata": {},
     "output_type": "execute_result"
    }
   ],
   "source": [
    "'''\n",
    "sc = StackingClassifier(estimators=est,final_estimator = None,cv=sk_fold,passthrough=False)\n",
    "sc.fit(X_train,y_train)\n",
    "y_pred = sc.predict(X_test)\n",
    "cm1 = confusion_matrix(y_test,y_pred)\n",
    "y_pred_train = sc.predict(X_train)\n",
    "cm2 = confusion_matrix(y_train,y_pred_train)\n",
    "train_scores.append(pd.Series([\"Stacking\",(cm2[0,0]+cm2[1,1,])/(cm2[0,0]+cm2[0,1]+cm2[1,0]+cm2[1,1]),(cm1[0,0]+cm1[1,1,])/(cm1[0,0]+cm1[0,1]+cm1[1,0]+cm1[1,1])],index=train_scores.columns),ignore_index=True)\n",
    "\n",
    "'''"
   ]
  },
  {
   "cell_type": "markdown",
   "execution_count": null,
   "metadata": {
    "papermill": {
     "duration": 0.057236,
     "end_time": "2020-08-13T14:17:59.738629",
     "exception": false,
     "start_time": "2020-08-13T14:17:59.681393",
     "status": "completed"
    },
    "tags": []
   },
   "source": [
    "## **Applying Gaussian Mixture and Grid Search to improve the accuracy**\n",
    "\n",
    "We select the above three algorithms **(KNN, Random Forest and SVM)** which  gave maximum accuracy for further analysis"
   ]
  },
  {
   "cell_type": "code",
   "execution_count": 118,
   "metadata": {
    "execution": {
     "iopub.execute_input": "2020-08-13T14:17:59.860792Z",
     "iopub.status.busy": "2020-08-13T14:17:59.859986Z",
     "iopub.status.idle": "2020-08-13T14:17:59.863903Z",
     "shell.execute_reply": "2020-08-13T14:17:59.863381Z"
    },
    "papermill": {
     "duration": 0.066129,
     "end_time": "2020-08-13T14:17:59.864004",
     "exception": false,
     "start_time": "2020-08-13T14:17:59.797875",
     "status": "completed"
    },
    "tags": []
   },
   "outputs": [
    {
     "data": {
      "text/plain": [
       "'\\n# dummy with  dont drop frist\\ntrain = cb[:na]  #na is the number of rows of the original training set\\n                 \\ntest = cb[na:]  #testset  after clean missing values and feature engineering and encoder  we do NOT apply outliers on it\\n\\n# dummy with  drop frist\\ntrain_1 = cb1[:na] \\ntest_1 =  cb1[na:]\\n\\nprint(train_1.shape)\\nprint(y_target.shape)\\nprint(test_1.shape)\\nprint(\"****************************************************\")\\nprint(train.shape)\\nprint(y_target.shape)\\nprint(test.shape)\\n\\n'"
      ]
     },
     "execution_count": 118,
     "metadata": {},
     "output_type": "execute_result"
    }
   ],
   "source": [
    "'''\n",
    "# dummy with  dont drop frist\n",
    "train = cb[:na]  #na is the number of rows of the original training set\n",
    "                 \n",
    "test = cb[na:]  #testset  after clean missing values and feature engineering and encoder  we do NOT apply outliers on it\n",
    "\n",
    "# dummy with  drop frist\n",
    "train_1 = cb1[:na] \n",
    "test_1 =  cb1[na:]\n",
    "\n",
    "print(train_1.shape)\n",
    "print(y_target.shape)\n",
    "print(test_1.shape)\n",
    "print(\"****************************************************\")\n",
    "print(train.shape)\n",
    "print(y_target.shape)\n",
    "print(test.shape)\n",
    "\n",
    "'''"
   ]
  },
  {
   "cell_type": "code",
   "execution_count": 119,
   "metadata": {
    "execution": {
     "iopub.execute_input": "2020-08-13T14:17:59.986394Z",
     "iopub.status.busy": "2020-08-13T14:17:59.985482Z",
     "iopub.status.idle": "2020-08-13T14:17:59.989548Z",
     "shell.execute_reply": "2020-08-13T14:17:59.989078Z"
    },
    "papermill": {
     "duration": 0.067358,
     "end_time": "2020-08-13T14:17:59.989643",
     "exception": false,
     "start_time": "2020-08-13T14:17:59.922285",
     "status": "completed"
    },
    "tags": []
   },
   "outputs": [
    {
     "data": {
      "text/plain": [
       "\"\\n# Importing libraries\\nfrom sklearn.neighbors import KNeighborsClassifier\\nfrom sklearn.ensemble import RandomForestClassifier\\nfrom sklearn.model_selection import GridSearchCV, cross_val_score\\nfrom sklearn.mixture import GaussianMixture\\nfrom sklearn.svm import SVC\\n\\nX = np.r_[train,test]\\nprint('X shape :',X.shape)\\nprint('\\n')\\n\\n# USING THE GAUSSIAN MIXTURE MODEL \\n\\n#The Bayesian information criterion (BIC) can be used to select the number of components in a Gaussian Mixture in an efficient way. \\n#In theory, it recovers the true number of components only in the asymptotic regime\\nlowest_bic = np.infty\\nbic = []\\nn_components_range = range(1, 7)\\n\\n#The GaussianMixture comes with different options to constrain the covariance of the difference classes estimated: \\n# spherical, diagonal, tied or full covariance.\\ncv_types = ['spherical', 'tied', 'diag', 'full']\\nfor cv_type in cv_types:\\n    for n_components in n_components_range:\\n        gmm = GaussianMixture(n_components=n_components,covariance_type=cv_type)\\n        gmm.fit(X)\\n        bic.append(gmm.aic(X))\\n        if bic[-1] < lowest_bic:\\n            lowest_bic = bic[-1]\\n            best_gmm = gmm\\n            \\nbest_gmm.fit(X)\\ngmm_train = best_gmm.predict_proba(train)\\ngmm_test = best_gmm.predict_proba(test)\\n\""
      ]
     },
     "execution_count": 119,
     "metadata": {},
     "output_type": "execute_result"
    }
   ],
   "source": [
    "'''\n",
    "# Importing libraries\n",
    "from sklearn.neighbors import KNeighborsClassifier\n",
    "from sklearn.ensemble import RandomForestClassifier\n",
    "from sklearn.model_selection import GridSearchCV, cross_val_score\n",
    "from sklearn.mixture import GaussianMixture\n",
    "from sklearn.svm import SVC\n",
    "\n",
    "X = np.r_[train,test]\n",
    "print('X shape :',X.shape)\n",
    "print('\\n')\n",
    "\n",
    "# USING THE GAUSSIAN MIXTURE MODEL \n",
    "\n",
    "#The Bayesian information criterion (BIC) can be used to select the number of components in a Gaussian Mixture in an efficient way. \n",
    "#In theory, it recovers the true number of components only in the asymptotic regime\n",
    "lowest_bic = np.infty\n",
    "bic = []\n",
    "n_components_range = range(1, 7)\n",
    "\n",
    "#The GaussianMixture comes with different options to constrain the covariance of the difference classes estimated: \n",
    "# spherical, diagonal, tied or full covariance.\n",
    "cv_types = ['spherical', 'tied', 'diag', 'full']\n",
    "for cv_type in cv_types:\n",
    "    for n_components in n_components_range:\n",
    "        gmm = GaussianMixture(n_components=n_components,covariance_type=cv_type)\n",
    "        gmm.fit(X)\n",
    "        bic.append(gmm.aic(X))\n",
    "        if bic[-1] < lowest_bic:\n",
    "            lowest_bic = bic[-1]\n",
    "            best_gmm = gmm\n",
    "            \n",
    "best_gmm.fit(X)\n",
    "gmm_train = best_gmm.predict_proba(train)\n",
    "gmm_test = best_gmm.predict_proba(test)\n",
    "'''"
   ]
  },
  {
   "cell_type": "markdown",
   "execution_count": null,
   "metadata": {
    "papermill": {
     "duration": 0.05783,
     "end_time": "2020-08-13T14:18:00.106131",
     "exception": false,
     "start_time": "2020-08-13T14:18:00.048301",
     "status": "completed"
    },
    "tags": []
   },
   "source": [
    "The **predict_proba** method will take in new data points and predict the responsibilities for each Gaussian. In other words, the probability that this data point came from each distribution.\n",
    "\n",
    "\n",
    "\n",
    "**Now Applying Grid Search Algorithm:** \n",
    "\n",
    "To identify the best algorithm and best parameters"
   ]
  },
  {
   "cell_type": "code",
   "execution_count": 120,
   "metadata": {
    "execution": {
     "iopub.execute_input": "2020-08-13T14:18:00.226999Z",
     "iopub.status.busy": "2020-08-13T14:18:00.226193Z",
     "iopub.status.idle": "2020-08-13T14:18:00.230060Z",
     "shell.execute_reply": "2020-08-13T14:18:00.229570Z"
    },
    "papermill": {
     "duration": 0.066275,
     "end_time": "2020-08-13T14:18:00.230162",
     "exception": false,
     "start_time": "2020-08-13T14:18:00.163887",
     "status": "completed"
    },
    "tags": []
   },
   "outputs": [
    {
     "data": {
      "text/plain": [
       "'\\nX_train,X_test,y_train,y_test = train_test_split(gmm_train,y_target,test_size=0.30, random_state=101)\\nX_train.shape,X_test.shape,y_train.shape,y_test.shape\\n'"
      ]
     },
     "execution_count": 120,
     "metadata": {},
     "output_type": "execute_result"
    }
   ],
   "source": [
    "'''\n",
    "X_train,X_test,y_train,y_test = train_test_split(gmm_train,y_target,test_size=0.30, random_state=101)\n",
    "X_train.shape,X_test.shape,y_train.shape,y_test.shape\n",
    "'''"
   ]
  },
  {
   "cell_type": "code",
   "execution_count": 121,
   "metadata": {
    "execution": {
     "iopub.execute_input": "2020-08-13T14:18:00.398514Z",
     "iopub.status.busy": "2020-08-13T14:18:00.397454Z",
     "iopub.status.idle": "2020-08-13T14:18:00.401851Z",
     "shell.execute_reply": "2020-08-13T14:18:00.401322Z"
    },
    "papermill": {
     "duration": 0.0696,
     "end_time": "2020-08-13T14:18:00.401954",
     "exception": false,
     "start_time": "2020-08-13T14:18:00.332354",
     "status": "completed"
    },
    "tags": []
   },
   "outputs": [
    {
     "data": {
      "text/plain": [
       "'\\nsk_fold = StratifiedKFold(10,shuffle=True, random_state=42)\\n\\n\\nX_train= X_train\\n\\n\\nX_train_1= pd.DataFrame(gmm_train).values\\n\\nX_test= X_test\\n\\nX_submit =  pd.DataFrame(gmm_test).values\\n\\ng_nb = GaussianNB()\\nknn = KNeighborsClassifier()\\nran_for  = RandomForestClassifier()\\nlog_reg = LogisticRegression()\\nsvc = SVC()\\ntree= DecisionTreeClassifier()\\nxgb = XGBClassifier()\\n\\nada_boost = AdaBoostClassifier()\\ngrad_boost = GradientBoostingClassifier(n_estimators=100)\\nhist_grad_boost = HistGradientBoostingClassifier()\\n\\n\\n\\n\\nclf = [(\"Naive Bayes\",g_nb,{}),       (\"K Nearest\",knn,{\"n_neighbors\":[3,5,6,7,8,9,10],\"leaf_size\":[25,30,35]}),       (\"Random Forest\",ran_for,{\"n_estimators\":[10, 50, 100, 200,400],\"max_depth\":[3, 10, 20, 40],\"random_state\":[99],\"min_samples_leaf\":[5,10,20,40,50],\"bootstrap\":[False]}),       (\"Logistic Regression\",log_reg,{\"penalty\":[\\'l2\\'],\"C\":[100, 10, 1.0, 0.1, 0.01] , \"solver\":[\\'saga\\']}),       (\"Support Vector\",svc,{\"kernel\": [\"linear\",\"rbf\"],\"gamma\":[0.05,0.0001,0.01,0.001],\"C\":[0.1, 1, 10, 100, 1000]},),      \\n       (\"Decision Tree\", tree, {}),       (\"XGBoost\",xgb,{\"n_estimators\":[200],\"max_depth\":[3,4,5],\"learning_rate\":[.01,.1,.2],\"subsample\":[.8],\"colsample_bytree\":[1],\"gamma\":[0,1,5],\"lambda\":[.01,.1,1]}),       \\n       (\"Adapative Boost\",ada_boost,{\"n_estimators\":[100],\"learning_rate\":[.6,.8,1]}),       (\"Gradient Boost\",grad_boost,{}),     \\n       (\"Histogram GB\",hist_grad_boost,{\"loss\":[\"binary_crossentropy\"],\"min_samples_leaf\":[5,10,20,40,50],\"l2_regularization\":[0,.1,1]})]\\n\\n\\nstack_list=[]\\ntrain_scores = pd.DataFrame(columns=[\"Name\",\"Train Score\",\"Test Score\"])\\n\\ni=0\\nfor name,clf1,param_grid in clf:\\n    clf = GridSearchCV(clf1,param_grid=param_grid,scoring=\"accuracy\",cv=sk_fold,return_train_score=True)\\n    clf.fit(X_train,y_train) #.reshape(-1,1)\\n    y_pred = clf.best_estimator_.predict(X_test)\\n    cm = confusion_matrix(y_test,y_pred)\\n    \\n    #train_scores.loc[i]= [name,cross_val_score(clf,X_train,y_train,cv=sk_fold,scoring=\"accuracy\").mean(),(cm[0,0]+cm[1,1,])/(cm[0,0]+cm[0,1]+cm[1,0]+cm[1,1])]\\n    train_scores.loc[i]= [name,clf.best_score_,(cm[0,0]+cm[1,1,])/(cm[0,0]+cm[0,1]+cm[1,0]+cm[1,1])]\\n    stack_list.append(clf.best_estimator_)\\n    i=i+1\\n    \\nest = [(\"g_nb\",stack_list[0]),       (\"knn\",stack_list[1]),       (\"ran_for\",stack_list[2]),       (\"log_reg\",stack_list[3]),       (\"svc\",stack_list[4]),       (\"dec_tree\",stack_list[5]),       (\"XGBoost\",stack_list[6]),       (\"ada_boost\",stack_list[7]),       (\"grad_boost\",stack_list[8]),       (\"hist_grad_boost\",stack_list[9])]\\n\\n\\n\\n\\n'"
      ]
     },
     "execution_count": 121,
     "metadata": {},
     "output_type": "execute_result"
    }
   ],
   "source": [
    "'''\n",
    "sk_fold = StratifiedKFold(10,shuffle=True, random_state=42)\n",
    "\n",
    "\n",
    "X_train= X_train\n",
    "\n",
    "\n",
    "X_train_1= pd.DataFrame(gmm_train).values\n",
    "\n",
    "X_test= X_test\n",
    "\n",
    "X_submit =  pd.DataFrame(gmm_test).values\n",
    "\n",
    "g_nb = GaussianNB()\n",
    "knn = KNeighborsClassifier()\n",
    "ran_for  = RandomForestClassifier()\n",
    "log_reg = LogisticRegression()\n",
    "svc = SVC()\n",
    "tree= DecisionTreeClassifier()\n",
    "xgb = XGBClassifier()\n",
    "\n",
    "ada_boost = AdaBoostClassifier()\n",
    "grad_boost = GradientBoostingClassifier(n_estimators=100)\n",
    "hist_grad_boost = HistGradientBoostingClassifier()\n",
    "\n",
    "\n",
    "\n",
    "\n",
    "clf = [(\"Naive Bayes\",g_nb,{}),\\\n",
    "       (\"K Nearest\",knn,{\"n_neighbors\":[3,5,6,7,8,9,10],\"leaf_size\":[25,30,35]}),\\\n",
    "       (\"Random Forest\",ran_for,{\"n_estimators\":[10, 50, 100, 200,400],\"max_depth\":[3, 10, 20, 40],\"random_state\":[99],\"min_samples_leaf\":[5,10,20,40,50],\"bootstrap\":[False]}),\\\n",
    "       (\"Logistic Regression\",log_reg,{\"penalty\":['l2'],\"C\":[100, 10, 1.0, 0.1, 0.01] , \"solver\":['saga']}),\\\n",
    "       (\"Support Vector\",svc,{\"kernel\": [\"linear\",\"rbf\"],\"gamma\":[0.05,0.0001,0.01,0.001],\"C\":[0.1, 1, 10, 100, 1000]},),\\\n",
    "      \n",
    "       (\"Decision Tree\", tree, {}),\\\n",
    "       (\"XGBoost\",xgb,{\"n_estimators\":[200],\"max_depth\":[3,4,5],\"learning_rate\":[.01,.1,.2],\"subsample\":[.8],\"colsample_bytree\":[1],\"gamma\":[0,1,5],\"lambda\":[.01,.1,1]}),\\\n",
    "       \n",
    "       (\"Adapative Boost\",ada_boost,{\"n_estimators\":[100],\"learning_rate\":[.6,.8,1]}),\\\n",
    "       (\"Gradient Boost\",grad_boost,{}),\\\n",
    "     \n",
    "       (\"Histogram GB\",hist_grad_boost,{\"loss\":[\"binary_crossentropy\"],\"min_samples_leaf\":[5,10,20,40,50],\"l2_regularization\":[0,.1,1]})]\n",
    "\n",
    "\n",
    "stack_list=[]\n",
    "train_scores = pd.DataFrame(columns=[\"Name\",\"Train Score\",\"Test Score\"])\n",
    "\n",
    "i=0\n",
    "for name,clf1,param_grid in clf:\n",
    "    clf = GridSearchCV(clf1,param_grid=param_grid,scoring=\"accuracy\",cv=sk_fold,return_train_score=True)\n",
    "    clf.fit(X_train,y_train) #.reshape(-1,1)\n",
    "    y_pred = clf.best_estimator_.predict(X_test)\n",
    "    cm = confusion_matrix(y_test,y_pred)\n",
    "    \n",
    "    #train_scores.loc[i]= [name,cross_val_score(clf,X_train,y_train,cv=sk_fold,scoring=\"accuracy\").mean(),(cm[0,0]+cm[1,1,])/(cm[0,0]+cm[0,1]+cm[1,0]+cm[1,1])]\n",
    "    train_scores.loc[i]= [name,clf.best_score_,(cm[0,0]+cm[1,1,])/(cm[0,0]+cm[0,1]+cm[1,0]+cm[1,1])]\n",
    "    stack_list.append(clf.best_estimator_)\n",
    "    i=i+1\n",
    "    \n",
    "est = [(\"g_nb\",stack_list[0]),\\\n",
    "       (\"knn\",stack_list[1]),\\\n",
    "       (\"ran_for\",stack_list[2]),\\\n",
    "       (\"log_reg\",stack_list[3]),\\\n",
    "       (\"svc\",stack_list[4]),\\\n",
    "       (\"dec_tree\",stack_list[5]),\\\n",
    "       (\"XGBoost\",stack_list[6]),\\\n",
    "       (\"ada_boost\",stack_list[7]),\\\n",
    "       (\"grad_boost\",stack_list[8]),\\\n",
    "       (\"hist_grad_boost\",stack_list[9])]\n",
    "\n",
    "\n",
    "\n",
    "\n",
    "'''\n"
   ]
  },
  {
   "cell_type": "code",
   "execution_count": 122,
   "metadata": {
    "execution": {
     "iopub.execute_input": "2020-08-13T14:18:00.524868Z",
     "iopub.status.busy": "2020-08-13T14:18:00.523931Z",
     "iopub.status.idle": "2020-08-13T14:18:00.527529Z",
     "shell.execute_reply": "2020-08-13T14:18:00.527985Z"
    },
    "papermill": {
     "duration": 0.066409,
     "end_time": "2020-08-13T14:18:00.528108",
     "exception": false,
     "start_time": "2020-08-13T14:18:00.461699",
     "status": "completed"
    },
    "tags": []
   },
   "outputs": [
    {
     "data": {
      "text/plain": [
       "'\\nsc = StackingClassifier(estimators=est,final_estimator = None,cv=sk_fold,passthrough=False)\\nsc.fit(X_train,y_train)\\ny_pred = sc.predict(X_test)\\ncm1 = confusion_matrix(y_test,y_pred)\\ny_pred_train = sc.predict(X_train)\\ncm2 = confusion_matrix(y_train,y_pred_train)\\ntrain_scores.append(pd.Series([\"Stacking\",(cm2[0,0]+cm2[1,1,])/(cm2[0,0]+cm2[0,1]+cm2[1,0]+cm2[1,1]),(cm1[0,0]+cm1[1,1,])/(cm1[0,0]+cm1[0,1]+cm1[1,0]+cm1[1,1])],index=train_scores.columns),ignore_index=True)\\n\\n'"
      ]
     },
     "execution_count": 122,
     "metadata": {},
     "output_type": "execute_result"
    }
   ],
   "source": [
    "'''\n",
    "sc = StackingClassifier(estimators=est,final_estimator = None,cv=sk_fold,passthrough=False)\n",
    "sc.fit(X_train,y_train)\n",
    "y_pred = sc.predict(X_test)\n",
    "cm1 = confusion_matrix(y_test,y_pred)\n",
    "y_pred_train = sc.predict(X_train)\n",
    "cm2 = confusion_matrix(y_train,y_pred_train)\n",
    "train_scores.append(pd.Series([\"Stacking\",(cm2[0,0]+cm2[1,1,])/(cm2[0,0]+cm2[0,1]+cm2[1,0]+cm2[1,1]),(cm1[0,0]+cm1[1,1,])/(cm1[0,0]+cm1[0,1]+cm1[1,0]+cm1[1,1])],index=train_scores.columns),ignore_index=True)\n",
    "\n",
    "'''"
   ]
  },
  {
   "cell_type": "markdown",
   "execution_count": null,
   "metadata": {
    "papermill": {
     "duration": 0.058668,
     "end_time": "2020-08-13T14:18:00.644748",
     "exception": false,
     "start_time": "2020-08-13T14:18:00.586080",
     "status": "completed"
    },
    "tags": []
   },
   "source": [
    "\n",
    "We fit and predict on the best XGB model that we derived based on the scores."
   ]
  },
  {
   "cell_type": "code",
   "execution_count": 123,
   "metadata": {
    "execution": {
     "iopub.execute_input": "2020-08-13T14:18:00.767516Z",
     "iopub.status.busy": "2020-08-13T14:18:00.766712Z",
     "iopub.status.idle": "2020-08-13T14:18:00.770548Z",
     "shell.execute_reply": "2020-08-13T14:18:00.770049Z"
    },
    "papermill": {
     "duration": 0.067015,
     "end_time": "2020-08-13T14:18:00.770642",
     "exception": false,
     "start_time": "2020-08-13T14:18:00.703627",
     "status": "completed"
    },
    "tags": []
   },
   "outputs": [
    {
     "data": {
      "text/plain": [
       "\"\\ny=df_train['Survived'].to_frame()\\n\""
      ]
     },
     "execution_count": 123,
     "metadata": {},
     "output_type": "execute_result"
    }
   ],
   "source": [
    "'''\n",
    "y=df_train['Survived'].to_frame()\n",
    "'''"
   ]
  },
  {
   "cell_type": "code",
   "execution_count": 124,
   "metadata": {
    "execution": {
     "iopub.execute_input": "2020-08-13T14:18:00.893194Z",
     "iopub.status.busy": "2020-08-13T14:18:00.892302Z",
     "iopub.status.idle": "2020-08-13T14:18:00.896380Z",
     "shell.execute_reply": "2020-08-13T14:18:00.895875Z"
    },
    "papermill": {
     "duration": 0.066811,
     "end_time": "2020-08-13T14:18:00.896480",
     "exception": false,
     "start_time": "2020-08-13T14:18:00.829669",
     "status": "completed"
    },
    "tags": []
   },
   "outputs": [
    {
     "data": {
      "text/plain": [
       "'\\nprint(X_train_1.shape)\\nprint(y.shape)\\nprint(X_submit.shape)\\n'"
      ]
     },
     "execution_count": 124,
     "metadata": {},
     "output_type": "execute_result"
    }
   ],
   "source": [
    "'''\n",
    "print(X_train_1.shape)\n",
    "print(y.shape)\n",
    "print(X_submit.shape)\n",
    "'''\n",
    "\n"
   ]
  },
  {
   "cell_type": "code",
   "execution_count": 125,
   "metadata": {
    "execution": {
     "iopub.execute_input": "2020-08-13T14:18:01.019939Z",
     "iopub.status.busy": "2020-08-13T14:18:01.019036Z",
     "iopub.status.idle": "2020-08-13T14:18:01.023003Z",
     "shell.execute_reply": "2020-08-13T14:18:01.022409Z"
    },
    "papermill": {
     "duration": 0.067627,
     "end_time": "2020-08-13T14:18:01.023103",
     "exception": false,
     "start_time": "2020-08-13T14:18:00.955476",
     "status": "completed"
    },
    "tags": []
   },
   "outputs": [
    {
     "data": {
      "text/plain": [
       "'\\nstack_list[7].fit(X_train_1,y)\\ny_submit = stack_list[7].predict(X_submit)\\nsubmit = pd.DataFrame({\\n        \"PassengerId\": df_test.PassengerId,\\n        \"Survived\": y_submit\\n    })\\n    \\n'"
      ]
     },
     "execution_count": 125,
     "metadata": {},
     "output_type": "execute_result"
    }
   ],
   "source": [
    "\n",
    "'''\n",
    "stack_list[7].fit(X_train_1,y)\n",
    "y_submit = stack_list[7].predict(X_submit)\n",
    "submit = pd.DataFrame({\n",
    "        \"PassengerId\": df_test.PassengerId,\n",
    "        \"Survived\": y_submit\n",
    "    })\n",
    "    \n",
    "'''"
   ]
  },
  {
   "cell_type": "markdown",
   "execution_count": null,
   "metadata": {
    "papermill": {
     "duration": 0.059191,
     "end_time": "2020-08-13T14:18:01.140508",
     "exception": false,
     "start_time": "2020-08-13T14:18:01.081317",
     "status": "completed"
    },
    "tags": []
   },
   "source": [
    "Exporting the data to submit."
   ]
  },
  {
   "cell_type": "code",
   "execution_count": 126,
   "metadata": {
    "execution": {
     "iopub.execute_input": "2020-08-13T14:18:01.263560Z",
     "iopub.status.busy": "2020-08-13T14:18:01.262672Z",
     "iopub.status.idle": "2020-08-13T14:18:01.266666Z",
     "shell.execute_reply": "2020-08-13T14:18:01.266191Z"
    },
    "papermill": {
     "duration": 0.066619,
     "end_time": "2020-08-13T14:18:01.266766",
     "exception": false,
     "start_time": "2020-08-13T14:18:01.200147",
     "status": "completed"
    },
    "tags": []
   },
   "outputs": [
    {
     "data": {
      "text/plain": [
       "'\\nsubmit.PassengerId = submit.PassengerId.astype(int)\\nsubmit.Survived = submit.Survived.astype(int)\\nsubmit.to_csv(\"titanic_submit.csv\", index=False)\\n    \\n'"
      ]
     },
     "execution_count": 126,
     "metadata": {},
     "output_type": "execute_result"
    }
   ],
   "source": [
    "    \n",
    "'''\n",
    "submit.PassengerId = submit.PassengerId.astype(int)\n",
    "submit.Survived = submit.Survived.astype(int)\n",
    "submit.to_csv(\"titanic_submit.csv\", index=False)\n",
    "    \n",
    "'''"
   ]
  },
  {
   "cell_type": "code",
   "execution_count": 127,
   "metadata": {
    "execution": {
     "iopub.execute_input": "2020-08-13T14:18:01.390153Z",
     "iopub.status.busy": "2020-08-13T14:18:01.389275Z",
     "iopub.status.idle": "2020-08-13T14:18:01.393555Z",
     "shell.execute_reply": "2020-08-13T14:18:01.393060Z"
    },
    "papermill": {
     "duration": 0.067461,
     "end_time": "2020-08-13T14:18:01.393685",
     "exception": false,
     "start_time": "2020-08-13T14:18:01.326224",
     "status": "completed"
    },
    "tags": []
   },
   "outputs": [
    {
     "data": {
      "text/plain": [
       "'\\nsubmit.PassengerId = submit.PassengerId.astype(int)\\nsubmit.Survived = submit.Survived.astype(int)\\nsubmit.to_csv(\"titanic_submit.csv\", index=False)\\n    \\n'"
      ]
     },
     "execution_count": 127,
     "metadata": {},
     "output_type": "execute_result"
    }
   ],
   "source": [
    "    \n",
    "'''\n",
    "submit.PassengerId = submit.PassengerId.astype(int)\n",
    "submit.Survived = submit.Survived.astype(int)\n",
    "submit.to_csv(\"titanic_submit.csv\", index=False)\n",
    "    \n",
    "'''"
   ]
  }
 ],
 "metadata": {
  "kernelspec": {
   "display_name": "Python 3",
   "language": "python",
   "name": "python3"
  },
  "language_info": {
   "codemirror_mode": {
    "name": "ipython",
    "version": 3
   },
   "file_extension": ".py",
   "mimetype": "text/x-python",
   "name": "python",
   "nbconvert_exporter": "python",
   "pygments_lexer": "ipython3",
   "version": "3.7.6"
  },
  "papermill": {
   "duration": 1972.684877,
   "end_time": "2020-08-13T14:18:01.962949",
   "environment_variables": {},
   "exception": null,
   "input_path": "__notebook__.ipynb",
   "output_path": "__notebook__.ipynb",
   "parameters": {},
   "start_time": "2020-08-13T13:45:09.278072",
   "version": "2.1.0"
  }
 },
 "nbformat": 4,
 "nbformat_minor": 4
}
