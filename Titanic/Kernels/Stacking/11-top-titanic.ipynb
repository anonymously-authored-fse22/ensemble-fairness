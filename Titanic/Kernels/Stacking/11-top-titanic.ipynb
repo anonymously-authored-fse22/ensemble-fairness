{
 "cells": [
  {
   "cell_type": "markdown",
   "metadata": {
    "papermill": {
     "duration": 0.05051,
     "end_time": "2020-10-18T22:45:20.437181",
     "exception": false,
     "start_time": "2020-10-18T22:45:20.386671",
     "status": "completed"
    },
    "tags": []
   },
   "source": [
    "# TOP 10% TITANIC - MY APPROACH TO A LEADING SCORE\n",
    "\n",
    "Hi, thanks for reading. Outlined below I set out the following procedure for predicting the survivability of passengers from the famous Titanic sinking. My approach for building a prediction model is as follows:\n",
    "\n",
    "1. Load the data\n",
    "2. Explore the data\n",
    "3. Modify the data\n",
    "    3.1 Impute\n",
    "    3.2 Remove outliers\n",
    "    3.3 Scale\n",
    "    3.4 Drop where too many missing values\n",
    "4. Create new features\n",
    "5. Build an Sklearn Pipeline\n",
    "6. Train and Test several models\n",
    "7. Generate submission file\n",
    "    "
   ]
  },
  {
   "cell_type": "markdown",
   "metadata": {
    "papermill": {
     "duration": 0.048295,
     "end_time": "2020-10-18T22:45:20.535161",
     "exception": false,
     "start_time": "2020-10-18T22:45:20.486866",
     "status": "completed"
    },
    "tags": []
   },
   "source": [
    "## Import basic packages"
   ]
  },
  {
   "cell_type": "code",
   "execution_count": 1,
   "metadata": {
    "_cell_guid": "b1076dfc-b9ad-4769-8c92-a6c4dae69d19",
    "_uuid": "8f2839f25d086af736a60e9eeb907d3b93b6e0e5",
    "execution": {
     "iopub.execute_input": "2020-10-18T22:45:20.641253Z",
     "iopub.status.busy": "2020-10-18T22:45:20.640452Z",
     "iopub.status.idle": "2020-10-18T22:45:21.987866Z",
     "shell.execute_reply": "2020-10-18T22:45:21.987018Z"
    },
    "papermill": {
     "duration": 1.403799,
     "end_time": "2020-10-18T22:45:21.987996",
     "exception": false,
     "start_time": "2020-10-18T22:45:20.584197",
     "status": "completed"
    },
    "tags": []
   },
   "outputs": [],
   "source": [
    "import numpy as np\n",
    "import pandas as pd \n",
    "import os\n",
    "import math\n",
    "from matplotlib import pyplot as plt\n",
    "import seaborn as sns\n",
    "from sklearn.metrics import accuracy_score\n",
    "from sklearn.impute import SimpleImputer"
   ]
  },
  {
   "cell_type": "markdown",
   "metadata": {
    "papermill": {
     "duration": 0.048472,
     "end_time": "2020-10-18T22:45:22.085681",
     "exception": false,
     "start_time": "2020-10-18T22:45:22.037209",
     "status": "completed"
    },
    "tags": []
   },
   "source": [
    "## Load the data"
   ]
  },
  {
   "cell_type": "code",
   "execution_count": 2,
   "metadata": {
    "_cell_guid": "79c7e3d0-c299-4dcb-8224-4455121ee9b0",
    "_uuid": "d629ff2d2480ee46fbb7e2d37f6b5fab8052498a",
    "execution": {
     "iopub.execute_input": "2020-10-18T22:45:22.191856Z",
     "iopub.status.busy": "2020-10-18T22:45:22.191069Z",
     "iopub.status.idle": "2020-10-18T22:45:22.259184Z",
     "shell.execute_reply": "2020-10-18T22:45:22.259759Z"
    },
    "papermill": {
     "duration": 0.125784,
     "end_time": "2020-10-18T22:45:22.259940",
     "exception": false,
     "start_time": "2020-10-18T22:45:22.134156",
     "status": "completed"
    },
    "tags": []
   },
   "outputs": [
    {
     "data": {
      "text/html": [
       "<div>\n",
       "<style scoped>\n",
       "    .dataframe tbody tr th:only-of-type {\n",
       "        vertical-align: middle;\n",
       "    }\n",
       "\n",
       "    .dataframe tbody tr th {\n",
       "        vertical-align: top;\n",
       "    }\n",
       "\n",
       "    .dataframe thead th {\n",
       "        text-align: right;\n",
       "    }\n",
       "</style>\n",
       "<table border=\"1\" class=\"dataframe\">\n",
       "  <thead>\n",
       "    <tr style=\"text-align: right;\">\n",
       "      <th></th>\n",
       "      <th>Pclass</th>\n",
       "      <th>Name</th>\n",
       "      <th>Sex</th>\n",
       "      <th>Age</th>\n",
       "      <th>SibSp</th>\n",
       "      <th>Parch</th>\n",
       "      <th>Ticket</th>\n",
       "      <th>Fare</th>\n",
       "      <th>Cabin</th>\n",
       "      <th>Embarked</th>\n",
       "    </tr>\n",
       "    <tr>\n",
       "      <th>PassengerId</th>\n",
       "      <th></th>\n",
       "      <th></th>\n",
       "      <th></th>\n",
       "      <th></th>\n",
       "      <th></th>\n",
       "      <th></th>\n",
       "      <th></th>\n",
       "      <th></th>\n",
       "      <th></th>\n",
       "      <th></th>\n",
       "    </tr>\n",
       "  </thead>\n",
       "  <tbody>\n",
       "    <tr>\n",
       "      <th>1</th>\n",
       "      <td>3</td>\n",
       "      <td>Braund, Mr. Owen Harris</td>\n",
       "      <td>male</td>\n",
       "      <td>22.0</td>\n",
       "      <td>1</td>\n",
       "      <td>0</td>\n",
       "      <td>A/5 21171</td>\n",
       "      <td>7.2500</td>\n",
       "      <td>NaN</td>\n",
       "      <td>S</td>\n",
       "    </tr>\n",
       "    <tr>\n",
       "      <th>2</th>\n",
       "      <td>1</td>\n",
       "      <td>Cumings, Mrs. John Bradley (Florence Briggs Th...</td>\n",
       "      <td>female</td>\n",
       "      <td>38.0</td>\n",
       "      <td>1</td>\n",
       "      <td>0</td>\n",
       "      <td>PC 17599</td>\n",
       "      <td>71.2833</td>\n",
       "      <td>C85</td>\n",
       "      <td>C</td>\n",
       "    </tr>\n",
       "    <tr>\n",
       "      <th>3</th>\n",
       "      <td>3</td>\n",
       "      <td>Heikkinen, Miss. Laina</td>\n",
       "      <td>female</td>\n",
       "      <td>26.0</td>\n",
       "      <td>0</td>\n",
       "      <td>0</td>\n",
       "      <td>STON/O2. 3101282</td>\n",
       "      <td>7.9250</td>\n",
       "      <td>NaN</td>\n",
       "      <td>S</td>\n",
       "    </tr>\n",
       "    <tr>\n",
       "      <th>4</th>\n",
       "      <td>1</td>\n",
       "      <td>Futrelle, Mrs. Jacques Heath (Lily May Peel)</td>\n",
       "      <td>female</td>\n",
       "      <td>35.0</td>\n",
       "      <td>1</td>\n",
       "      <td>0</td>\n",
       "      <td>113803</td>\n",
       "      <td>53.1000</td>\n",
       "      <td>C123</td>\n",
       "      <td>S</td>\n",
       "    </tr>\n",
       "    <tr>\n",
       "      <th>5</th>\n",
       "      <td>3</td>\n",
       "      <td>Allen, Mr. William Henry</td>\n",
       "      <td>male</td>\n",
       "      <td>35.0</td>\n",
       "      <td>0</td>\n",
       "      <td>0</td>\n",
       "      <td>373450</td>\n",
       "      <td>8.0500</td>\n",
       "      <td>NaN</td>\n",
       "      <td>S</td>\n",
       "    </tr>\n",
       "  </tbody>\n",
       "</table>\n",
       "</div>"
      ],
      "text/plain": [
       "             Pclass                                               Name  \\\n",
       "PassengerId                                                              \n",
       "1                 3                            Braund, Mr. Owen Harris   \n",
       "2                 1  Cumings, Mrs. John Bradley (Florence Briggs Th...   \n",
       "3                 3                             Heikkinen, Miss. Laina   \n",
       "4                 1       Futrelle, Mrs. Jacques Heath (Lily May Peel)   \n",
       "5                 3                           Allen, Mr. William Henry   \n",
       "\n",
       "                Sex   Age  SibSp  Parch            Ticket     Fare Cabin  \\\n",
       "PassengerId                                                                \n",
       "1              male  22.0      1      0         A/5 21171   7.2500   NaN   \n",
       "2            female  38.0      1      0          PC 17599  71.2833   C85   \n",
       "3            female  26.0      0      0  STON/O2. 3101282   7.9250   NaN   \n",
       "4            female  35.0      1      0            113803  53.1000  C123   \n",
       "5              male  35.0      0      0            373450   8.0500   NaN   \n",
       "\n",
       "            Embarked  \n",
       "PassengerId           \n",
       "1                  S  \n",
       "2                  C  \n",
       "3                  S  \n",
       "4                  S  \n",
       "5                  S  "
      ]
     },
     "metadata": {},
     "output_type": "display_data"
    },
    {
     "data": {
      "text/html": [
       "<div>\n",
       "<style scoped>\n",
       "    .dataframe tbody tr th:only-of-type {\n",
       "        vertical-align: middle;\n",
       "    }\n",
       "\n",
       "    .dataframe tbody tr th {\n",
       "        vertical-align: top;\n",
       "    }\n",
       "\n",
       "    .dataframe thead th {\n",
       "        text-align: right;\n",
       "    }\n",
       "</style>\n",
       "<table border=\"1\" class=\"dataframe\">\n",
       "  <thead>\n",
       "    <tr style=\"text-align: right;\">\n",
       "      <th></th>\n",
       "      <th>Pclass</th>\n",
       "      <th>Name</th>\n",
       "      <th>Sex</th>\n",
       "      <th>Age</th>\n",
       "      <th>SibSp</th>\n",
       "      <th>Parch</th>\n",
       "      <th>Ticket</th>\n",
       "      <th>Fare</th>\n",
       "      <th>Cabin</th>\n",
       "      <th>Embarked</th>\n",
       "    </tr>\n",
       "    <tr>\n",
       "      <th>PassengerId</th>\n",
       "      <th></th>\n",
       "      <th></th>\n",
       "      <th></th>\n",
       "      <th></th>\n",
       "      <th></th>\n",
       "      <th></th>\n",
       "      <th></th>\n",
       "      <th></th>\n",
       "      <th></th>\n",
       "      <th></th>\n",
       "    </tr>\n",
       "  </thead>\n",
       "  <tbody>\n",
       "    <tr>\n",
       "      <th>892</th>\n",
       "      <td>3</td>\n",
       "      <td>Kelly, Mr. James</td>\n",
       "      <td>male</td>\n",
       "      <td>34.5</td>\n",
       "      <td>0</td>\n",
       "      <td>0</td>\n",
       "      <td>330911</td>\n",
       "      <td>7.8292</td>\n",
       "      <td>NaN</td>\n",
       "      <td>Q</td>\n",
       "    </tr>\n",
       "    <tr>\n",
       "      <th>893</th>\n",
       "      <td>3</td>\n",
       "      <td>Wilkes, Mrs. James (Ellen Needs)</td>\n",
       "      <td>female</td>\n",
       "      <td>47.0</td>\n",
       "      <td>1</td>\n",
       "      <td>0</td>\n",
       "      <td>363272</td>\n",
       "      <td>7.0000</td>\n",
       "      <td>NaN</td>\n",
       "      <td>S</td>\n",
       "    </tr>\n",
       "    <tr>\n",
       "      <th>894</th>\n",
       "      <td>2</td>\n",
       "      <td>Myles, Mr. Thomas Francis</td>\n",
       "      <td>male</td>\n",
       "      <td>62.0</td>\n",
       "      <td>0</td>\n",
       "      <td>0</td>\n",
       "      <td>240276</td>\n",
       "      <td>9.6875</td>\n",
       "      <td>NaN</td>\n",
       "      <td>Q</td>\n",
       "    </tr>\n",
       "    <tr>\n",
       "      <th>895</th>\n",
       "      <td>3</td>\n",
       "      <td>Wirz, Mr. Albert</td>\n",
       "      <td>male</td>\n",
       "      <td>27.0</td>\n",
       "      <td>0</td>\n",
       "      <td>0</td>\n",
       "      <td>315154</td>\n",
       "      <td>8.6625</td>\n",
       "      <td>NaN</td>\n",
       "      <td>S</td>\n",
       "    </tr>\n",
       "    <tr>\n",
       "      <th>896</th>\n",
       "      <td>3</td>\n",
       "      <td>Hirvonen, Mrs. Alexander (Helga E Lindqvist)</td>\n",
       "      <td>female</td>\n",
       "      <td>22.0</td>\n",
       "      <td>1</td>\n",
       "      <td>1</td>\n",
       "      <td>3101298</td>\n",
       "      <td>12.2875</td>\n",
       "      <td>NaN</td>\n",
       "      <td>S</td>\n",
       "    </tr>\n",
       "  </tbody>\n",
       "</table>\n",
       "</div>"
      ],
      "text/plain": [
       "             Pclass                                          Name     Sex  \\\n",
       "PassengerId                                                                 \n",
       "892               3                              Kelly, Mr. James    male   \n",
       "893               3              Wilkes, Mrs. James (Ellen Needs)  female   \n",
       "894               2                     Myles, Mr. Thomas Francis    male   \n",
       "895               3                              Wirz, Mr. Albert    male   \n",
       "896               3  Hirvonen, Mrs. Alexander (Helga E Lindqvist)  female   \n",
       "\n",
       "              Age  SibSp  Parch   Ticket     Fare Cabin Embarked  \n",
       "PassengerId                                                       \n",
       "892          34.5      0      0   330911   7.8292   NaN        Q  \n",
       "893          47.0      1      0   363272   7.0000   NaN        S  \n",
       "894          62.0      0      0   240276   9.6875   NaN        Q  \n",
       "895          27.0      0      0   315154   8.6625   NaN        S  \n",
       "896          22.0      1      1  3101298  12.2875   NaN        S  "
      ]
     },
     "metadata": {},
     "output_type": "display_data"
    }
   ],
   "source": [
    "train = pd.read_csv(\"../input/titanic/train.csv\").set_index('PassengerId')\n",
    "test = pd.read_csv(\"../input/titanic/test.csv\").set_index('PassengerId')\n",
    "\n",
    "y = train['Survived']\n",
    "train = train.drop('Survived',axis=1)\n",
    "\n",
    "display(train.head())\n",
    "display(test.head())\n"
   ]
  },
  {
   "cell_type": "markdown",
   "metadata": {
    "papermill": {
     "duration": 0.051797,
     "end_time": "2020-10-18T22:45:22.363154",
     "exception": false,
     "start_time": "2020-10-18T22:45:22.311357",
     "status": "completed"
    },
    "tags": []
   },
   "source": [
    "## View the data"
   ]
  },
  {
   "cell_type": "code",
   "execution_count": 3,
   "metadata": {
    "execution": {
     "iopub.execute_input": "2020-10-18T22:45:22.490462Z",
     "iopub.status.busy": "2020-10-18T22:45:22.489433Z",
     "iopub.status.idle": "2020-10-18T22:45:22.494551Z",
     "shell.execute_reply": "2020-10-18T22:45:22.495139Z"
    },
    "papermill": {
     "duration": 0.080245,
     "end_time": "2020-10-18T22:45:22.495318",
     "exception": false,
     "start_time": "2020-10-18T22:45:22.415073",
     "status": "completed"
    },
    "tags": []
   },
   "outputs": [
    {
     "data": {
      "text/html": [
       "<div>\n",
       "<style scoped>\n",
       "    .dataframe tbody tr th:only-of-type {\n",
       "        vertical-align: middle;\n",
       "    }\n",
       "\n",
       "    .dataframe tbody tr th {\n",
       "        vertical-align: top;\n",
       "    }\n",
       "\n",
       "    .dataframe thead th {\n",
       "        text-align: right;\n",
       "    }\n",
       "</style>\n",
       "<table border=\"1\" class=\"dataframe\">\n",
       "  <thead>\n",
       "    <tr style=\"text-align: right;\">\n",
       "      <th></th>\n",
       "      <th>Pclass</th>\n",
       "      <th>Name</th>\n",
       "      <th>Sex</th>\n",
       "      <th>Age</th>\n",
       "      <th>SibSp</th>\n",
       "      <th>Parch</th>\n",
       "      <th>Ticket</th>\n",
       "      <th>Fare</th>\n",
       "      <th>Cabin</th>\n",
       "      <th>Embarked</th>\n",
       "    </tr>\n",
       "    <tr>\n",
       "      <th>PassengerId</th>\n",
       "      <th></th>\n",
       "      <th></th>\n",
       "      <th></th>\n",
       "      <th></th>\n",
       "      <th></th>\n",
       "      <th></th>\n",
       "      <th></th>\n",
       "      <th></th>\n",
       "      <th></th>\n",
       "      <th></th>\n",
       "    </tr>\n",
       "  </thead>\n",
       "  <tbody>\n",
       "    <tr>\n",
       "      <th>1</th>\n",
       "      <td>3</td>\n",
       "      <td>Braund, Mr. Owen Harris</td>\n",
       "      <td>male</td>\n",
       "      <td>22.0</td>\n",
       "      <td>1</td>\n",
       "      <td>0</td>\n",
       "      <td>A/5 21171</td>\n",
       "      <td>7.2500</td>\n",
       "      <td>NaN</td>\n",
       "      <td>S</td>\n",
       "    </tr>\n",
       "    <tr>\n",
       "      <th>2</th>\n",
       "      <td>1</td>\n",
       "      <td>Cumings, Mrs. John Bradley (Florence Briggs Th...</td>\n",
       "      <td>female</td>\n",
       "      <td>38.0</td>\n",
       "      <td>1</td>\n",
       "      <td>0</td>\n",
       "      <td>PC 17599</td>\n",
       "      <td>71.2833</td>\n",
       "      <td>C85</td>\n",
       "      <td>C</td>\n",
       "    </tr>\n",
       "    <tr>\n",
       "      <th>3</th>\n",
       "      <td>3</td>\n",
       "      <td>Heikkinen, Miss. Laina</td>\n",
       "      <td>female</td>\n",
       "      <td>26.0</td>\n",
       "      <td>0</td>\n",
       "      <td>0</td>\n",
       "      <td>STON/O2. 3101282</td>\n",
       "      <td>7.9250</td>\n",
       "      <td>NaN</td>\n",
       "      <td>S</td>\n",
       "    </tr>\n",
       "    <tr>\n",
       "      <th>4</th>\n",
       "      <td>1</td>\n",
       "      <td>Futrelle, Mrs. Jacques Heath (Lily May Peel)</td>\n",
       "      <td>female</td>\n",
       "      <td>35.0</td>\n",
       "      <td>1</td>\n",
       "      <td>0</td>\n",
       "      <td>113803</td>\n",
       "      <td>53.1000</td>\n",
       "      <td>C123</td>\n",
       "      <td>S</td>\n",
       "    </tr>\n",
       "    <tr>\n",
       "      <th>5</th>\n",
       "      <td>3</td>\n",
       "      <td>Allen, Mr. William Henry</td>\n",
       "      <td>male</td>\n",
       "      <td>35.0</td>\n",
       "      <td>0</td>\n",
       "      <td>0</td>\n",
       "      <td>373450</td>\n",
       "      <td>8.0500</td>\n",
       "      <td>NaN</td>\n",
       "      <td>S</td>\n",
       "    </tr>\n",
       "  </tbody>\n",
       "</table>\n",
       "</div>"
      ],
      "text/plain": [
       "             Pclass                                               Name  \\\n",
       "PassengerId                                                              \n",
       "1                 3                            Braund, Mr. Owen Harris   \n",
       "2                 1  Cumings, Mrs. John Bradley (Florence Briggs Th...   \n",
       "3                 3                             Heikkinen, Miss. Laina   \n",
       "4                 1       Futrelle, Mrs. Jacques Heath (Lily May Peel)   \n",
       "5                 3                           Allen, Mr. William Henry   \n",
       "\n",
       "                Sex   Age  SibSp  Parch            Ticket     Fare Cabin  \\\n",
       "PassengerId                                                                \n",
       "1              male  22.0      1      0         A/5 21171   7.2500   NaN   \n",
       "2            female  38.0      1      0          PC 17599  71.2833   C85   \n",
       "3            female  26.0      0      0  STON/O2. 3101282   7.9250   NaN   \n",
       "4            female  35.0      1      0            113803  53.1000  C123   \n",
       "5              male  35.0      0      0            373450   8.0500   NaN   \n",
       "\n",
       "            Embarked  \n",
       "PassengerId           \n",
       "1                  S  \n",
       "2                  C  \n",
       "3                  S  \n",
       "4                  S  \n",
       "5                  S  "
      ]
     },
     "execution_count": 3,
     "metadata": {},
     "output_type": "execute_result"
    }
   ],
   "source": [
    "X = pd.concat([train,test])\n",
    "X.head()"
   ]
  },
  {
   "cell_type": "code",
   "execution_count": 4,
   "metadata": {
    "execution": {
     "iopub.execute_input": "2020-10-18T22:45:22.607602Z",
     "iopub.status.busy": "2020-10-18T22:45:22.606746Z",
     "iopub.status.idle": "2020-10-18T22:45:22.611153Z",
     "shell.execute_reply": "2020-10-18T22:45:22.611684Z"
    },
    "papermill": {
     "duration": 0.064668,
     "end_time": "2020-10-18T22:45:22.611856",
     "exception": false,
     "start_time": "2020-10-18T22:45:22.547188",
     "status": "completed"
    },
    "tags": []
   },
   "outputs": [
    {
     "data": {
      "text/plain": [
       "Pclass        int64\n",
       "Name         object\n",
       "Sex          object\n",
       "Age         float64\n",
       "SibSp         int64\n",
       "Parch         int64\n",
       "Ticket       object\n",
       "Fare        float64\n",
       "Cabin        object\n",
       "Embarked     object\n",
       "dtype: object"
      ]
     },
     "execution_count": 4,
     "metadata": {},
     "output_type": "execute_result"
    }
   ],
   "source": [
    "X.dtypes"
   ]
  },
  {
   "cell_type": "code",
   "execution_count": 5,
   "metadata": {
    "execution": {
     "iopub.execute_input": "2020-10-18T22:45:22.726065Z",
     "iopub.status.busy": "2020-10-18T22:45:22.725265Z",
     "iopub.status.idle": "2020-10-18T22:45:22.755468Z",
     "shell.execute_reply": "2020-10-18T22:45:22.754587Z"
    },
    "papermill": {
     "duration": 0.091157,
     "end_time": "2020-10-18T22:45:22.755621",
     "exception": false,
     "start_time": "2020-10-18T22:45:22.664464",
     "status": "completed"
    },
    "tags": []
   },
   "outputs": [
    {
     "data": {
      "text/html": [
       "<div>\n",
       "<style scoped>\n",
       "    .dataframe tbody tr th:only-of-type {\n",
       "        vertical-align: middle;\n",
       "    }\n",
       "\n",
       "    .dataframe tbody tr th {\n",
       "        vertical-align: top;\n",
       "    }\n",
       "\n",
       "    .dataframe thead th {\n",
       "        text-align: right;\n",
       "    }\n",
       "</style>\n",
       "<table border=\"1\" class=\"dataframe\">\n",
       "  <thead>\n",
       "    <tr style=\"text-align: right;\">\n",
       "      <th></th>\n",
       "      <th>Pclass</th>\n",
       "      <th>Age</th>\n",
       "      <th>SibSp</th>\n",
       "      <th>Parch</th>\n",
       "      <th>Fare</th>\n",
       "    </tr>\n",
       "  </thead>\n",
       "  <tbody>\n",
       "    <tr>\n",
       "      <th>count</th>\n",
       "      <td>1309.000000</td>\n",
       "      <td>1046.000000</td>\n",
       "      <td>1309.000000</td>\n",
       "      <td>1309.000000</td>\n",
       "      <td>1308.000000</td>\n",
       "    </tr>\n",
       "    <tr>\n",
       "      <th>mean</th>\n",
       "      <td>2.294882</td>\n",
       "      <td>29.881138</td>\n",
       "      <td>0.498854</td>\n",
       "      <td>0.385027</td>\n",
       "      <td>33.295479</td>\n",
       "    </tr>\n",
       "    <tr>\n",
       "      <th>std</th>\n",
       "      <td>0.837836</td>\n",
       "      <td>14.413493</td>\n",
       "      <td>1.041658</td>\n",
       "      <td>0.865560</td>\n",
       "      <td>51.758668</td>\n",
       "    </tr>\n",
       "    <tr>\n",
       "      <th>min</th>\n",
       "      <td>1.000000</td>\n",
       "      <td>0.170000</td>\n",
       "      <td>0.000000</td>\n",
       "      <td>0.000000</td>\n",
       "      <td>0.000000</td>\n",
       "    </tr>\n",
       "    <tr>\n",
       "      <th>25%</th>\n",
       "      <td>2.000000</td>\n",
       "      <td>21.000000</td>\n",
       "      <td>0.000000</td>\n",
       "      <td>0.000000</td>\n",
       "      <td>7.895800</td>\n",
       "    </tr>\n",
       "    <tr>\n",
       "      <th>50%</th>\n",
       "      <td>3.000000</td>\n",
       "      <td>28.000000</td>\n",
       "      <td>0.000000</td>\n",
       "      <td>0.000000</td>\n",
       "      <td>14.454200</td>\n",
       "    </tr>\n",
       "    <tr>\n",
       "      <th>75%</th>\n",
       "      <td>3.000000</td>\n",
       "      <td>39.000000</td>\n",
       "      <td>1.000000</td>\n",
       "      <td>0.000000</td>\n",
       "      <td>31.275000</td>\n",
       "    </tr>\n",
       "    <tr>\n",
       "      <th>max</th>\n",
       "      <td>3.000000</td>\n",
       "      <td>80.000000</td>\n",
       "      <td>8.000000</td>\n",
       "      <td>9.000000</td>\n",
       "      <td>512.329200</td>\n",
       "    </tr>\n",
       "  </tbody>\n",
       "</table>\n",
       "</div>"
      ],
      "text/plain": [
       "            Pclass          Age        SibSp        Parch         Fare\n",
       "count  1309.000000  1046.000000  1309.000000  1309.000000  1308.000000\n",
       "mean      2.294882    29.881138     0.498854     0.385027    33.295479\n",
       "std       0.837836    14.413493     1.041658     0.865560    51.758668\n",
       "min       1.000000     0.170000     0.000000     0.000000     0.000000\n",
       "25%       2.000000    21.000000     0.000000     0.000000     7.895800\n",
       "50%       3.000000    28.000000     0.000000     0.000000    14.454200\n",
       "75%       3.000000    39.000000     1.000000     0.000000    31.275000\n",
       "max       3.000000    80.000000     8.000000     9.000000   512.329200"
      ]
     },
     "execution_count": 5,
     "metadata": {},
     "output_type": "execute_result"
    }
   ],
   "source": [
    "X.describe()"
   ]
  },
  {
   "cell_type": "markdown",
   "metadata": {
    "papermill": {
     "duration": 0.064542,
     "end_time": "2020-10-18T22:45:22.886256",
     "exception": false,
     "start_time": "2020-10-18T22:45:22.821714",
     "status": "completed"
    },
    "tags": []
   },
   "source": [
    "Convert Pclass to categorical, as it is made up of class either 1,2 or 3."
   ]
  },
  {
   "cell_type": "code",
   "execution_count": 6,
   "metadata": {
    "execution": {
     "iopub.execute_input": "2020-10-18T22:45:23.041397Z",
     "iopub.status.busy": "2020-10-18T22:45:23.040288Z",
     "iopub.status.idle": "2020-10-18T22:45:23.043836Z",
     "shell.execute_reply": "2020-10-18T22:45:23.042770Z"
    },
    "papermill": {
     "duration": 0.091783,
     "end_time": "2020-10-18T22:45:23.044015",
     "exception": false,
     "start_time": "2020-10-18T22:45:22.952232",
     "status": "completed"
    },
    "tags": []
   },
   "outputs": [],
   "source": [
    "#Pclass is actually categorical\n",
    "X['Pclass'] = X['Pclass'].astype(object)\n",
    "\n",
    "num_col = X.select_dtypes(include=['float64','int64']).columns\n",
    "cat_col = X.select_dtypes(include=['object']).columns"
   ]
  },
  {
   "cell_type": "markdown",
   "metadata": {
    "papermill": {
     "duration": 0.059289,
     "end_time": "2020-10-18T22:45:23.179184",
     "exception": false,
     "start_time": "2020-10-18T22:45:23.119895",
     "status": "completed"
    },
    "tags": []
   },
   "source": [
    "## View the Seaborn Pairplot for Numerical Data"
   ]
  },
  {
   "cell_type": "code",
   "execution_count": 7,
   "metadata": {
    "execution": {
     "iopub.execute_input": "2020-10-18T22:45:23.294925Z",
     "iopub.status.busy": "2020-10-18T22:45:23.294151Z",
     "iopub.status.idle": "2020-10-18T22:45:26.328814Z",
     "shell.execute_reply": "2020-10-18T22:45:26.329445Z"
    },
    "papermill": {
     "duration": 3.095628,
     "end_time": "2020-10-18T22:45:26.329602",
     "exception": false,
     "start_time": "2020-10-18T22:45:23.233974",
     "status": "completed"
    },
    "tags": []
   },
   "outputs": [
    {
     "data": {
      "text/plain": [
       "<seaborn.axisgrid.PairGrid at 0x7f0dd4d88710>"
      ]
     },
     "execution_count": 7,
     "metadata": {},
     "output_type": "execute_result"
    },
    {
     "data": {
      "image/png": "[encoded data removed]",
      "text/plain": [
       "<Figure size 720x720 with 14 Axes>"
      ]
     },
     "metadata": {
      "needs_background": "light"
     },
     "output_type": "display_data"
    }
   ],
   "source": [
    "sns.pairplot(X[num_col],corner=True)"
   ]
  },
  {
   "cell_type": "markdown",
   "metadata": {
    "papermill": {
     "duration": 0.055209,
     "end_time": "2020-10-18T22:45:26.450149",
     "exception": false,
     "start_time": "2020-10-18T22:45:26.394940",
     "status": "completed"
    },
    "tags": []
   },
   "source": [
    "From this, I would make the following points:\n",
    "* Most of the data is positively skewed\n",
    "* There are a couple of outliers in Fare\n",
    "* There are no glaringly obvious strong correlations here"
   ]
  },
  {
   "cell_type": "code",
   "execution_count": 8,
   "metadata": {
    "execution": {
     "iopub.execute_input": "2020-10-18T22:45:26.579794Z",
     "iopub.status.busy": "2020-10-18T22:45:26.568381Z",
     "iopub.status.idle": "2020-10-18T22:45:26.784334Z",
     "shell.execute_reply": "2020-10-18T22:45:26.783540Z"
    },
    "papermill": {
     "duration": 0.279303,
     "end_time": "2020-10-18T22:45:26.784465",
     "exception": false,
     "start_time": "2020-10-18T22:45:26.505162",
     "status": "completed"
    },
    "tags": []
   },
   "outputs": [
    {
     "data": {
      "text/plain": [
       "<matplotlib.axes._subplots.AxesSubplot at 0x7f0ddedb30d0>"
      ]
     },
     "execution_count": 8,
     "metadata": {},
     "output_type": "execute_result"
    },
    {
     "data": {
      "image/png": "[encoded data removed]",
      "text/plain": [
       "<Figure size 576x432 with 2 Axes>"
      ]
     },
     "metadata": {
      "needs_background": "light"
     },
     "output_type": "display_data"
    }
   ],
   "source": [
    "plt.figure(figsize=(8,6))\n",
    "correlation = X[num_col].corr()\n",
    "sns.heatmap(correlation, mask = correlation <0.4, cmap='Blues')"
   ]
  },
  {
   "cell_type": "markdown",
   "metadata": {
    "papermill": {
     "duration": 0.056346,
     "end_time": "2020-10-18T22:45:26.897602",
     "exception": false,
     "start_time": "2020-10-18T22:45:26.841256",
     "status": "completed"
    },
    "tags": []
   },
   "source": [
    "As discussed above, there are no correlations between our features here, so there is no **multicolinearity**. What does this mean? In essense a model with features that share some form of relationship won't improve our model. It's probable that it won't negatively effect are model but it's far more likely to result in an overfitted and biased model. Leaving any variables in that have multicolinearity will make your fit appear to be good but when you come to submit the model, you will find poor results. "
   ]
  },
  {
   "cell_type": "markdown",
   "metadata": {
    "papermill": {
     "duration": 0.056438,
     "end_time": "2020-10-18T22:45:27.010591",
     "exception": false,
     "start_time": "2020-10-18T22:45:26.954153",
     "status": "completed"
    },
    "tags": []
   },
   "source": [
    "## Imputation for Numerical Columns\n"
   ]
  },
  {
   "cell_type": "code",
   "execution_count": 9,
   "metadata": {
    "execution": {
     "iopub.execute_input": "2020-10-18T22:45:27.134790Z",
     "iopub.status.busy": "2020-10-18T22:45:27.133680Z",
     "iopub.status.idle": "2020-10-18T22:45:27.137797Z",
     "shell.execute_reply": "2020-10-18T22:45:27.138488Z"
    },
    "papermill": {
     "duration": 0.071116,
     "end_time": "2020-10-18T22:45:27.138657",
     "exception": false,
     "start_time": "2020-10-18T22:45:27.067541",
     "status": "completed"
    },
    "tags": []
   },
   "outputs": [
    {
     "data": {
      "text/plain": [
       "Age      263\n",
       "SibSp      0\n",
       "Parch      0\n",
       "Fare       1\n",
       "dtype: int64"
      ]
     },
     "execution_count": 9,
     "metadata": {},
     "output_type": "execute_result"
    }
   ],
   "source": [
    "X[num_col].isnull().sum()"
   ]
  },
  {
   "cell_type": "markdown",
   "metadata": {
    "papermill": {
     "duration": 0.058426,
     "end_time": "2020-10-18T22:45:27.254573",
     "exception": false,
     "start_time": "2020-10-18T22:45:27.196147",
     "status": "completed"
    },
    "tags": []
   },
   "source": [
    "### Age"
   ]
  },
  {
   "cell_type": "markdown",
   "metadata": {
    "papermill": {
     "duration": 0.059421,
     "end_time": "2020-10-18T22:45:27.372264",
     "exception": false,
     "start_time": "2020-10-18T22:45:27.312843",
     "status": "completed"
    },
    "tags": []
   },
   "source": []
  },
  {
   "cell_type": "markdown",
   "metadata": {
    "papermill": {
     "duration": 0.056824,
     "end_time": "2020-10-18T22:45:27.486386",
     "exception": false,
     "start_time": "2020-10-18T22:45:27.429562",
     "status": "completed"
    },
    "tags": []
   },
   "source": [
    "In order to deal with the above missing values, we explore a few approaches. The most troublesome at the moment is the missing values in age. Simply imputing the median has a huge effect on the distribution, see charts below:"
   ]
  },
  {
   "cell_type": "code",
   "execution_count": 10,
   "metadata": {
    "_kg_hide-input": true,
    "execution": {
     "iopub.execute_input": "2020-10-18T22:45:27.612759Z",
     "iopub.status.busy": "2020-10-18T22:45:27.607183Z",
     "iopub.status.idle": "2020-10-18T22:45:27.817789Z",
     "shell.execute_reply": "2020-10-18T22:45:27.818379Z"
    },
    "papermill": {
     "duration": 0.274619,
     "end_time": "2020-10-18T22:45:27.818532",
     "exception": false,
     "start_time": "2020-10-18T22:45:27.543913",
     "status": "completed"
    },
    "tags": []
   },
   "outputs": [
    {
     "data": {
      "text/plain": [
       "Text(0.5, 1.0, 'Age Before Imputing')"
      ]
     },
     "execution_count": 10,
     "metadata": {},
     "output_type": "execute_result"
    },
    {
     "data": {
      "image/png": "[encoded data removed]",
      "text/plain": [
       "<Figure size 432x288 with 1 Axes>"
      ]
     },
     "metadata": {
      "needs_background": "light"
     },
     "output_type": "display_data"
    }
   ],
   "source": [
    "sns.distplot(X.Age).set_title(\"Age Before Imputing\")"
   ]
  },
  {
   "cell_type": "markdown",
   "metadata": {
    "papermill": {
     "duration": 0.058973,
     "end_time": "2020-10-18T22:45:27.937047",
     "exception": false,
     "start_time": "2020-10-18T22:45:27.878074",
     "status": "completed"
    },
    "tags": []
   },
   "source": [
    "Now let's see the median imputed results..."
   ]
  },
  {
   "cell_type": "code",
   "execution_count": 11,
   "metadata": {
    "_kg_hide-input": true,
    "execution": {
     "iopub.execute_input": "2020-10-18T22:45:28.065094Z",
     "iopub.status.busy": "2020-10-18T22:45:28.064305Z",
     "iopub.status.idle": "2020-10-18T22:45:28.326165Z",
     "shell.execute_reply": "2020-10-18T22:45:28.327018Z"
    },
    "papermill": {
     "duration": 0.331168,
     "end_time": "2020-10-18T22:45:28.327224",
     "exception": false,
     "start_time": "2020-10-18T22:45:27.996056",
     "status": "completed"
    },
    "tags": []
   },
   "outputs": [
    {
     "data": {
      "text/plain": [
       "Text(0.5, 1.0, 'Age After Median Imputing')"
      ]
     },
     "execution_count": 11,
     "metadata": {},
     "output_type": "execute_result"
    },
    {
     "data": {
      "image/png": "[encoded data removed]",
      "text/plain": [
       "<Figure size 432x288 with 1 Axes>"
      ]
     },
     "metadata": {
      "needs_background": "light"
     },
     "output_type": "display_data"
    }
   ],
   "source": [
    "imputer = SimpleImputer(strategy='median')\n",
    "imputed = imputer.fit_transform(X[['Age']])\n",
    "\n",
    "sns.distplot(imputed).set_title(\"Age After Median Imputing\")"
   ]
  },
  {
   "cell_type": "markdown",
   "metadata": {
    "papermill": {
     "duration": 0.072643,
     "end_time": "2020-10-18T22:45:28.484457",
     "exception": false,
     "start_time": "2020-10-18T22:45:28.411814",
     "status": "completed"
    },
    "tags": []
   },
   "source": [
    "This isn't great, as our model may end up thinking that being 28 is super important in determining chance of survival, which it probably wasn't. As such, I have created a random imputer in the range 20,55 to retain the distribution. This is a somewhat arbitrary choice and a more scientific method would be preferred but for our purposes here, this should be fine:"
   ]
  },
  {
   "cell_type": "code",
   "execution_count": 12,
   "metadata": {
    "execution": {
     "iopub.execute_input": "2020-10-18T22:45:28.623283Z",
     "iopub.status.busy": "2020-10-18T22:45:28.622463Z",
     "iopub.status.idle": "2020-10-18T22:45:28.626379Z",
     "shell.execute_reply": "2020-10-18T22:45:28.625735Z"
    },
    "papermill": {
     "duration": 0.074743,
     "end_time": "2020-10-18T22:45:28.626507",
     "exception": false,
     "start_time": "2020-10-18T22:45:28.551764",
     "status": "completed"
    },
    "tags": []
   },
   "outputs": [],
   "source": [
    "def replace_with_random(a):\n",
    "    \"\"\"\n",
    "    a: Value or NaN to be replaced\n",
    "    \n",
    "    Cannot set a random state as it would generate the same value each time this function\n",
    "    is called. This is unlikely to be the derired behaviour\n",
    "    \"\"\"    \n",
    "    \n",
    "    from random import randint\n",
    "        \n",
    "    if pd.isnull(a):\n",
    "        return randint(20,55)\n",
    "    else:\n",
    "        return a"
   ]
  },
  {
   "cell_type": "code",
   "execution_count": 13,
   "metadata": {
    "execution": {
     "iopub.execute_input": "2020-10-18T22:45:28.771758Z",
     "iopub.status.busy": "2020-10-18T22:45:28.770649Z",
     "iopub.status.idle": "2020-10-18T22:45:29.002536Z",
     "shell.execute_reply": "2020-10-18T22:45:29.001809Z"
    },
    "papermill": {
     "duration": 0.312342,
     "end_time": "2020-10-18T22:45:29.002678",
     "exception": false,
     "start_time": "2020-10-18T22:45:28.690336",
     "status": "completed"
    },
    "tags": []
   },
   "outputs": [
    {
     "data": {
      "text/plain": [
       "Text(0.5, 1.0, 'Age After Random Imputing')"
      ]
     },
     "execution_count": 13,
     "metadata": {},
     "output_type": "execute_result"
    },
    {
     "data": {
      "image/png": "[encoded data removed]",
      "text/plain": [
       "<Figure size 432x288 with 1 Axes>"
      ]
     },
     "metadata": {
      "needs_background": "light"
     },
     "output_type": "display_data"
    }
   ],
   "source": [
    "randimpute = X['Age'].apply(lambda a: replace_with_random(a))\n",
    "\n",
    "sns.distplot(randimpute).set_title(\"Age After Random Imputing\")"
   ]
  },
  {
   "cell_type": "markdown",
   "metadata": {
    "papermill": {
     "duration": 0.061982,
     "end_time": "2020-10-18T22:45:29.127353",
     "exception": false,
     "start_time": "2020-10-18T22:45:29.065371",
     "status": "completed"
    },
    "tags": []
   },
   "source": [
    "And this is the direibution of ages we will use."
   ]
  },
  {
   "cell_type": "code",
   "execution_count": 14,
   "metadata": {
    "execution": {
     "iopub.execute_input": "2020-10-18T22:45:29.258763Z",
     "iopub.status.busy": "2020-10-18T22:45:29.257998Z",
     "iopub.status.idle": "2020-10-18T22:45:29.261169Z",
     "shell.execute_reply": "2020-10-18T22:45:29.260479Z"
    },
    "papermill": {
     "duration": 0.071686,
     "end_time": "2020-10-18T22:45:29.261303",
     "exception": false,
     "start_time": "2020-10-18T22:45:29.189617",
     "status": "completed"
    },
    "tags": []
   },
   "outputs": [],
   "source": [
    "# For now I will use my random approach for Age\n",
    "X['Age'] = randimpute"
   ]
  },
  {
   "cell_type": "markdown",
   "metadata": {
    "papermill": {
     "duration": 0.061531,
     "end_time": "2020-10-18T22:45:29.385187",
     "exception": false,
     "start_time": "2020-10-18T22:45:29.323656",
     "status": "completed"
    },
    "tags": []
   },
   "source": [
    "### Fare"
   ]
  },
  {
   "cell_type": "markdown",
   "metadata": {
    "papermill": {
     "duration": 0.061753,
     "end_time": "2020-10-18T22:45:29.509279",
     "exception": false,
     "start_time": "2020-10-18T22:45:29.447526",
     "status": "completed"
    },
    "tags": []
   },
   "source": [
    "There is only one value to impute in Fare, using a median seems sensible"
   ]
  },
  {
   "cell_type": "code",
   "execution_count": 15,
   "metadata": {
    "execution": {
     "iopub.execute_input": "2020-10-18T22:45:29.643745Z",
     "iopub.status.busy": "2020-10-18T22:45:29.642969Z",
     "iopub.status.idle": "2020-10-18T22:45:29.648668Z",
     "shell.execute_reply": "2020-10-18T22:45:29.649254Z"
    },
    "papermill": {
     "duration": 0.077812,
     "end_time": "2020-10-18T22:45:29.649415",
     "exception": false,
     "start_time": "2020-10-18T22:45:29.571603",
     "status": "completed"
    },
    "tags": []
   },
   "outputs": [],
   "source": [
    "imputer = SimpleImputer(strategy='median')\n",
    "X['Fare'] = imputer.fit_transform(X[['Fare']])"
   ]
  },
  {
   "cell_type": "markdown",
   "metadata": {
    "papermill": {
     "duration": 0.062525,
     "end_time": "2020-10-18T22:45:29.775404",
     "exception": false,
     "start_time": "2020-10-18T22:45:29.712879",
     "status": "completed"
    },
    "tags": []
   },
   "source": [
    "That should be it for missing data in numerical columns"
   ]
  },
  {
   "cell_type": "code",
   "execution_count": 16,
   "metadata": {
    "execution": {
     "iopub.execute_input": "2020-10-18T22:45:29.911532Z",
     "iopub.status.busy": "2020-10-18T22:45:29.910701Z",
     "iopub.status.idle": "2020-10-18T22:45:29.915242Z",
     "shell.execute_reply": "2020-10-18T22:45:29.914572Z"
    },
    "papermill": {
     "duration": 0.075933,
     "end_time": "2020-10-18T22:45:29.915371",
     "exception": false,
     "start_time": "2020-10-18T22:45:29.839438",
     "status": "completed"
    },
    "tags": []
   },
   "outputs": [
    {
     "data": {
      "text/plain": [
       "Age      0\n",
       "SibSp    0\n",
       "Parch    0\n",
       "Fare     0\n",
       "dtype: int64"
      ]
     },
     "execution_count": 16,
     "metadata": {},
     "output_type": "execute_result"
    }
   ],
   "source": [
    "X[num_col].isnull().sum()"
   ]
  },
  {
   "cell_type": "code",
   "execution_count": 17,
   "metadata": {
    "execution": {
     "iopub.execute_input": "2020-10-18T22:45:30.052706Z",
     "iopub.status.busy": "2020-10-18T22:45:30.050087Z",
     "iopub.status.idle": "2020-10-18T22:45:30.074213Z",
     "shell.execute_reply": "2020-10-18T22:45:30.073410Z"
    },
    "papermill": {
     "duration": 0.095563,
     "end_time": "2020-10-18T22:45:30.074344",
     "exception": false,
     "start_time": "2020-10-18T22:45:29.978781",
     "status": "completed"
    },
    "tags": []
   },
   "outputs": [
    {
     "data": {
      "text/html": [
       "<div>\n",
       "<style scoped>\n",
       "    .dataframe tbody tr th:only-of-type {\n",
       "        vertical-align: middle;\n",
       "    }\n",
       "\n",
       "    .dataframe tbody tr th {\n",
       "        vertical-align: top;\n",
       "    }\n",
       "\n",
       "    .dataframe thead th {\n",
       "        text-align: right;\n",
       "    }\n",
       "</style>\n",
       "<table border=\"1\" class=\"dataframe\">\n",
       "  <thead>\n",
       "    <tr style=\"text-align: right;\">\n",
       "      <th></th>\n",
       "      <th>Age</th>\n",
       "      <th>SibSp</th>\n",
       "      <th>Parch</th>\n",
       "      <th>Fare</th>\n",
       "    </tr>\n",
       "  </thead>\n",
       "  <tbody>\n",
       "    <tr>\n",
       "      <th>count</th>\n",
       "      <td>1309.000000</td>\n",
       "      <td>1309.000000</td>\n",
       "      <td>1309.000000</td>\n",
       "      <td>1309.000000</td>\n",
       "    </tr>\n",
       "    <tr>\n",
       "      <th>mean</th>\n",
       "      <td>31.472628</td>\n",
       "      <td>0.498854</td>\n",
       "      <td>0.385027</td>\n",
       "      <td>33.281086</td>\n",
       "    </tr>\n",
       "    <tr>\n",
       "      <th>std</th>\n",
       "      <td>14.074005</td>\n",
       "      <td>1.041658</td>\n",
       "      <td>0.865560</td>\n",
       "      <td>51.741500</td>\n",
       "    </tr>\n",
       "    <tr>\n",
       "      <th>min</th>\n",
       "      <td>0.170000</td>\n",
       "      <td>0.000000</td>\n",
       "      <td>0.000000</td>\n",
       "      <td>0.000000</td>\n",
       "    </tr>\n",
       "    <tr>\n",
       "      <th>25%</th>\n",
       "      <td>22.000000</td>\n",
       "      <td>0.000000</td>\n",
       "      <td>0.000000</td>\n",
       "      <td>7.895800</td>\n",
       "    </tr>\n",
       "    <tr>\n",
       "      <th>50%</th>\n",
       "      <td>30.000000</td>\n",
       "      <td>0.000000</td>\n",
       "      <td>0.000000</td>\n",
       "      <td>14.454200</td>\n",
       "    </tr>\n",
       "    <tr>\n",
       "      <th>75%</th>\n",
       "      <td>41.000000</td>\n",
       "      <td>1.000000</td>\n",
       "      <td>0.000000</td>\n",
       "      <td>31.275000</td>\n",
       "    </tr>\n",
       "    <tr>\n",
       "      <th>max</th>\n",
       "      <td>80.000000</td>\n",
       "      <td>8.000000</td>\n",
       "      <td>9.000000</td>\n",
       "      <td>512.329200</td>\n",
       "    </tr>\n",
       "  </tbody>\n",
       "</table>\n",
       "</div>"
      ],
      "text/plain": [
       "               Age        SibSp        Parch         Fare\n",
       "count  1309.000000  1309.000000  1309.000000  1309.000000\n",
       "mean     31.472628     0.498854     0.385027    33.281086\n",
       "std      14.074005     1.041658     0.865560    51.741500\n",
       "min       0.170000     0.000000     0.000000     0.000000\n",
       "25%      22.000000     0.000000     0.000000     7.895800\n",
       "50%      30.000000     0.000000     0.000000    14.454200\n",
       "75%      41.000000     1.000000     0.000000    31.275000\n",
       "max      80.000000     8.000000     9.000000   512.329200"
      ]
     },
     "execution_count": 17,
     "metadata": {},
     "output_type": "execute_result"
    }
   ],
   "source": [
    "X.describe()"
   ]
  },
  {
   "cell_type": "markdown",
   "metadata": {
    "papermill": {
     "duration": 0.063521,
     "end_time": "2020-10-18T22:45:30.202129",
     "exception": false,
     "start_time": "2020-10-18T22:45:30.138608",
     "status": "completed"
    },
    "tags": []
   },
   "source": [
    "### ... beautiful!"
   ]
  },
  {
   "cell_type": "markdown",
   "metadata": {
    "papermill": {
     "duration": 0.063612,
     "end_time": "2020-10-18T22:45:30.379967",
     "exception": false,
     "start_time": "2020-10-18T22:45:30.316355",
     "status": "completed"
    },
    "tags": []
   },
   "source": [
    "## Imputation for categorical columns"
   ]
  },
  {
   "cell_type": "code",
   "execution_count": 18,
   "metadata": {
    "execution": {
     "iopub.execute_input": "2020-10-18T22:45:30.529984Z",
     "iopub.status.busy": "2020-10-18T22:45:30.528936Z",
     "iopub.status.idle": "2020-10-18T22:45:30.534297Z",
     "shell.execute_reply": "2020-10-18T22:45:30.533735Z"
    },
    "papermill": {
     "duration": 0.090217,
     "end_time": "2020-10-18T22:45:30.534421",
     "exception": false,
     "start_time": "2020-10-18T22:45:30.444204",
     "status": "completed"
    },
    "tags": []
   },
   "outputs": [
    {
     "data": {
      "text/html": [
       "<div>\n",
       "<style scoped>\n",
       "    .dataframe tbody tr th:only-of-type {\n",
       "        vertical-align: middle;\n",
       "    }\n",
       "\n",
       "    .dataframe tbody tr th {\n",
       "        vertical-align: top;\n",
       "    }\n",
       "\n",
       "    .dataframe thead th {\n",
       "        text-align: right;\n",
       "    }\n",
       "</style>\n",
       "<table border=\"1\" class=\"dataframe\">\n",
       "  <thead>\n",
       "    <tr style=\"text-align: right;\">\n",
       "      <th></th>\n",
       "      <th>Pclass</th>\n",
       "      <th>Name</th>\n",
       "      <th>Sex</th>\n",
       "      <th>Ticket</th>\n",
       "      <th>Cabin</th>\n",
       "      <th>Embarked</th>\n",
       "    </tr>\n",
       "    <tr>\n",
       "      <th>PassengerId</th>\n",
       "      <th></th>\n",
       "      <th></th>\n",
       "      <th></th>\n",
       "      <th></th>\n",
       "      <th></th>\n",
       "      <th></th>\n",
       "    </tr>\n",
       "  </thead>\n",
       "  <tbody>\n",
       "    <tr>\n",
       "      <th>1</th>\n",
       "      <td>3</td>\n",
       "      <td>Braund, Mr. Owen Harris</td>\n",
       "      <td>male</td>\n",
       "      <td>A/5 21171</td>\n",
       "      <td>NaN</td>\n",
       "      <td>S</td>\n",
       "    </tr>\n",
       "    <tr>\n",
       "      <th>2</th>\n",
       "      <td>1</td>\n",
       "      <td>Cumings, Mrs. John Bradley (Florence Briggs Th...</td>\n",
       "      <td>female</td>\n",
       "      <td>PC 17599</td>\n",
       "      <td>C85</td>\n",
       "      <td>C</td>\n",
       "    </tr>\n",
       "    <tr>\n",
       "      <th>3</th>\n",
       "      <td>3</td>\n",
       "      <td>Heikkinen, Miss. Laina</td>\n",
       "      <td>female</td>\n",
       "      <td>STON/O2. 3101282</td>\n",
       "      <td>NaN</td>\n",
       "      <td>S</td>\n",
       "    </tr>\n",
       "    <tr>\n",
       "      <th>4</th>\n",
       "      <td>1</td>\n",
       "      <td>Futrelle, Mrs. Jacques Heath (Lily May Peel)</td>\n",
       "      <td>female</td>\n",
       "      <td>113803</td>\n",
       "      <td>C123</td>\n",
       "      <td>S</td>\n",
       "    </tr>\n",
       "    <tr>\n",
       "      <th>5</th>\n",
       "      <td>3</td>\n",
       "      <td>Allen, Mr. William Henry</td>\n",
       "      <td>male</td>\n",
       "      <td>373450</td>\n",
       "      <td>NaN</td>\n",
       "      <td>S</td>\n",
       "    </tr>\n",
       "    <tr>\n",
       "      <th>...</th>\n",
       "      <td>...</td>\n",
       "      <td>...</td>\n",
       "      <td>...</td>\n",
       "      <td>...</td>\n",
       "      <td>...</td>\n",
       "      <td>...</td>\n",
       "    </tr>\n",
       "    <tr>\n",
       "      <th>1305</th>\n",
       "      <td>3</td>\n",
       "      <td>Spector, Mr. Woolf</td>\n",
       "      <td>male</td>\n",
       "      <td>A.5. 3236</td>\n",
       "      <td>NaN</td>\n",
       "      <td>S</td>\n",
       "    </tr>\n",
       "    <tr>\n",
       "      <th>1306</th>\n",
       "      <td>1</td>\n",
       "      <td>Oliva y Ocana, Dona. Fermina</td>\n",
       "      <td>female</td>\n",
       "      <td>PC 17758</td>\n",
       "      <td>C105</td>\n",
       "      <td>C</td>\n",
       "    </tr>\n",
       "    <tr>\n",
       "      <th>1307</th>\n",
       "      <td>3</td>\n",
       "      <td>Saether, Mr. Simon Sivertsen</td>\n",
       "      <td>male</td>\n",
       "      <td>SOTON/O.Q. 3101262</td>\n",
       "      <td>NaN</td>\n",
       "      <td>S</td>\n",
       "    </tr>\n",
       "    <tr>\n",
       "      <th>1308</th>\n",
       "      <td>3</td>\n",
       "      <td>Ware, Mr. Frederick</td>\n",
       "      <td>male</td>\n",
       "      <td>359309</td>\n",
       "      <td>NaN</td>\n",
       "      <td>S</td>\n",
       "    </tr>\n",
       "    <tr>\n",
       "      <th>1309</th>\n",
       "      <td>3</td>\n",
       "      <td>Peter, Master. Michael J</td>\n",
       "      <td>male</td>\n",
       "      <td>2668</td>\n",
       "      <td>NaN</td>\n",
       "      <td>C</td>\n",
       "    </tr>\n",
       "  </tbody>\n",
       "</table>\n",
       "<p>1309 rows × 6 columns</p>\n",
       "</div>"
      ],
      "text/plain": [
       "            Pclass                                               Name     Sex  \\\n",
       "PassengerId                                                                     \n",
       "1                3                            Braund, Mr. Owen Harris    male   \n",
       "2                1  Cumings, Mrs. John Bradley (Florence Briggs Th...  female   \n",
       "3                3                             Heikkinen, Miss. Laina  female   \n",
       "4                1       Futrelle, Mrs. Jacques Heath (Lily May Peel)  female   \n",
       "5                3                           Allen, Mr. William Henry    male   \n",
       "...            ...                                                ...     ...   \n",
       "1305             3                                 Spector, Mr. Woolf    male   \n",
       "1306             1                       Oliva y Ocana, Dona. Fermina  female   \n",
       "1307             3                       Saether, Mr. Simon Sivertsen    male   \n",
       "1308             3                                Ware, Mr. Frederick    male   \n",
       "1309             3                           Peter, Master. Michael J    male   \n",
       "\n",
       "                         Ticket Cabin Embarked  \n",
       "PassengerId                                     \n",
       "1                     A/5 21171   NaN        S  \n",
       "2                      PC 17599   C85        C  \n",
       "3              STON/O2. 3101282   NaN        S  \n",
       "4                        113803  C123        S  \n",
       "5                        373450   NaN        S  \n",
       "...                         ...   ...      ...  \n",
       "1305                  A.5. 3236   NaN        S  \n",
       "1306                   PC 17758  C105        C  \n",
       "1307         SOTON/O.Q. 3101262   NaN        S  \n",
       "1308                     359309   NaN        S  \n",
       "1309                       2668   NaN        C  \n",
       "\n",
       "[1309 rows x 6 columns]"
      ]
     },
     "execution_count": 18,
     "metadata": {},
     "output_type": "execute_result"
    }
   ],
   "source": [
    "cat_col = X.select_dtypes(include=['object']).columns\n",
    "X[cat_col]"
   ]
  },
  {
   "cell_type": "code",
   "execution_count": 19,
   "metadata": {
    "execution": {
     "iopub.execute_input": "2020-10-18T22:45:30.676087Z",
     "iopub.status.busy": "2020-10-18T22:45:30.675102Z",
     "iopub.status.idle": "2020-10-18T22:45:30.679626Z",
     "shell.execute_reply": "2020-10-18T22:45:30.678918Z"
    },
    "papermill": {
     "duration": 0.080338,
     "end_time": "2020-10-18T22:45:30.679784",
     "exception": false,
     "start_time": "2020-10-18T22:45:30.599446",
     "status": "completed"
    },
    "tags": []
   },
   "outputs": [
    {
     "data": {
      "text/plain": [
       "Pclass         0\n",
       "Name           0\n",
       "Sex            0\n",
       "Ticket         0\n",
       "Cabin       1014\n",
       "Embarked       2\n",
       "dtype: int64"
      ]
     },
     "execution_count": 19,
     "metadata": {},
     "output_type": "execute_result"
    }
   ],
   "source": [
    "X[cat_col].isnull().sum()"
   ]
  },
  {
   "cell_type": "markdown",
   "metadata": {
    "papermill": {
     "duration": 0.066095,
     "end_time": "2020-10-18T22:45:30.813383",
     "exception": false,
     "start_time": "2020-10-18T22:45:30.747288",
     "status": "completed"
    },
    "tags": []
   },
   "source": [
    "That's a lot of missing data for cabin, lets explore deck from it:"
   ]
  },
  {
   "cell_type": "code",
   "execution_count": 20,
   "metadata": {
    "_kg_hide-input": true,
    "execution": {
     "iopub.execute_input": "2020-10-18T22:45:30.970658Z",
     "iopub.status.busy": "2020-10-18T22:45:30.959121Z",
     "iopub.status.idle": "2020-10-18T22:45:31.126206Z",
     "shell.execute_reply": "2020-10-18T22:45:31.125558Z"
    },
    "papermill": {
     "duration": 0.246076,
     "end_time": "2020-10-18T22:45:31.126341",
     "exception": false,
     "start_time": "2020-10-18T22:45:30.880265",
     "status": "completed"
    },
    "tags": []
   },
   "outputs": [
    {
     "data": {
      "text/plain": [
       "<matplotlib.axes._subplots.AxesSubplot at 0x7f0dd1d8fd50>"
      ]
     },
     "execution_count": 20,
     "metadata": {},
     "output_type": "execute_result"
    },
    {
     "data": {
      "image/png": "[encoded data removed]",
      "text/plain": [
       "<Figure size 576x432 with 1 Axes>"
      ]
     },
     "metadata": {
      "needs_background": "light"
     },
     "output_type": "display_data"
    }
   ],
   "source": [
    "# Do something about cabin feature, at least extract deck where possible\n",
    "plt.figure(figsize=(8,6))\n",
    "X['Deck'] = X['Cabin'].str[0]\n",
    "sns.countplot(x='Deck',data=X,palette=\"husl\")"
   ]
  },
  {
   "cell_type": "markdown",
   "metadata": {
    "papermill": {
     "duration": 0.066663,
     "end_time": "2020-10-18T22:45:31.259928",
     "exception": false,
     "start_time": "2020-10-18T22:45:31.193265",
     "status": "completed"
    },
    "tags": []
   },
   "source": [
    "What does survival look like by Deck?"
   ]
  },
  {
   "cell_type": "code",
   "execution_count": 21,
   "metadata": {
    "_kg_hide-input": true,
    "execution": {
     "iopub.execute_input": "2020-10-18T22:45:31.403034Z",
     "iopub.status.busy": "2020-10-18T22:45:31.402148Z",
     "iopub.status.idle": "2020-10-18T22:45:31.625043Z",
     "shell.execute_reply": "2020-10-18T22:45:31.624291Z"
    },
    "papermill": {
     "duration": 0.298187,
     "end_time": "2020-10-18T22:45:31.625171",
     "exception": false,
     "start_time": "2020-10-18T22:45:31.326984",
     "status": "completed"
    },
    "tags": []
   },
   "outputs": [
    {
     "data": {
      "text/plain": [
       "<matplotlib.axes._subplots.AxesSubplot at 0x7f0dd1d1cd10>"
      ]
     },
     "execution_count": 21,
     "metadata": {},
     "output_type": "execute_result"
    },
    {
     "data": {
      "image/png": "[encoded data removed]",
      "text/plain": [
       "<Figure size 432x288 with 1 Axes>"
      ]
     },
     "metadata": {
      "needs_background": "light"
     },
     "output_type": "display_data"
    }
   ],
   "source": [
    "temp_data = pd.merge(X['Deck'],y,on='PassengerId')\n",
    "temp_data = temp_data.groupby('Deck').sum()\n",
    "sns.barplot(x=temp_data.index,y=temp_data['Survived'],palette='husl')"
   ]
  },
  {
   "cell_type": "markdown",
   "metadata": {
    "papermill": {
     "duration": 0.068102,
     "end_time": "2020-10-18T22:45:31.762958",
     "exception": false,
     "start_time": "2020-10-18T22:45:31.694856",
     "status": "completed"
    },
    "tags": []
   },
   "source": [
    "So on the limited data we have, clearly being in the upper decks improves survival. It would be nice to include this, but 1,014 values is just too many to impute. For now I will drop Deck/Cabin\n",
    "\n",
    "An idea would be to try to infer Deck from ticket, as there seems to be some information in there that might help."
   ]
  },
  {
   "cell_type": "code",
   "execution_count": 22,
   "metadata": {
    "execution": {
     "iopub.execute_input": "2020-10-18T22:45:31.908886Z",
     "iopub.status.busy": "2020-10-18T22:45:31.908126Z",
     "iopub.status.idle": "2020-10-18T22:45:31.911549Z",
     "shell.execute_reply": "2020-10-18T22:45:31.910966Z"
    },
    "papermill": {
     "duration": 0.079222,
     "end_time": "2020-10-18T22:45:31.911697",
     "exception": false,
     "start_time": "2020-10-18T22:45:31.832475",
     "status": "completed"
    },
    "tags": []
   },
   "outputs": [],
   "source": [
    "X = X.drop(['Cabin','Deck'],axis=1)"
   ]
  },
  {
   "cell_type": "code",
   "execution_count": 23,
   "metadata": {
    "execution": {
     "iopub.execute_input": "2020-10-18T22:45:32.061069Z",
     "iopub.status.busy": "2020-10-18T22:45:32.060249Z",
     "iopub.status.idle": "2020-10-18T22:45:32.064975Z",
     "shell.execute_reply": "2020-10-18T22:45:32.064348Z"
    },
    "papermill": {
     "duration": 0.084663,
     "end_time": "2020-10-18T22:45:32.065100",
     "exception": false,
     "start_time": "2020-10-18T22:45:31.980437",
     "status": "completed"
    },
    "tags": []
   },
   "outputs": [
    {
     "data": {
      "text/plain": [
       "Pclass      0\n",
       "Name        0\n",
       "Sex         0\n",
       "Ticket      0\n",
       "Embarked    2\n",
       "dtype: int64"
      ]
     },
     "execution_count": 23,
     "metadata": {},
     "output_type": "execute_result"
    }
   ],
   "source": [
    "cat_col = X.select_dtypes(include=['object']).columns\n",
    "X[cat_col].isnull().sum()"
   ]
  },
  {
   "cell_type": "markdown",
   "metadata": {
    "papermill": {
     "duration": 0.06856,
     "end_time": "2020-10-18T22:45:32.202729",
     "exception": false,
     "start_time": "2020-10-18T22:45:32.134169",
     "status": "completed"
    },
    "tags": []
   },
   "source": [
    "There are still two missing values for \"Embarked\", but we will let pipline handle the missing embarked value, see below for embedded iumputation using Sklearn's pipeline functions. There are only 2, so \"most common\" method should be OK."
   ]
  },
  {
   "cell_type": "markdown",
   "metadata": {
    "papermill": {
     "duration": 0.069886,
     "end_time": "2020-10-18T22:45:32.341979",
     "exception": false,
     "start_time": "2020-10-18T22:45:32.272093",
     "status": "completed"
    },
    "tags": []
   },
   "source": [
    "## Remove outliers\n",
    "Back to the numerical data. Let's clean up those outliers from before. Pipline imputation will take care of any missing values"
   ]
  },
  {
   "cell_type": "code",
   "execution_count": 24,
   "metadata": {
    "execution": {
     "iopub.execute_input": "2020-10-18T22:45:32.490054Z",
     "iopub.status.busy": "2020-10-18T22:45:32.488954Z",
     "iopub.status.idle": "2020-10-18T22:45:32.492390Z",
     "shell.execute_reply": "2020-10-18T22:45:32.491613Z"
    },
    "papermill": {
     "duration": 0.080536,
     "end_time": "2020-10-18T22:45:32.492522",
     "exception": false,
     "start_time": "2020-10-18T22:45:32.411986",
     "status": "completed"
    },
    "tags": []
   },
   "outputs": [],
   "source": [
    "X['Fare'] = X['Fare'][X['Fare']<400]"
   ]
  },
  {
   "cell_type": "markdown",
   "metadata": {
    "papermill": {
     "duration": 0.06984,
     "end_time": "2020-10-18T22:45:32.632383",
     "exception": false,
     "start_time": "2020-10-18T22:45:32.562543",
     "status": "completed"
    },
    "tags": []
   },
   "source": [
    "## Feature Engineering"
   ]
  },
  {
   "cell_type": "markdown",
   "metadata": {
    "papermill": {
     "duration": 0.069865,
     "end_time": "2020-10-18T22:45:32.772049",
     "exception": false,
     "start_time": "2020-10-18T22:45:32.702184",
     "status": "completed"
    },
    "tags": []
   },
   "source": [
    "In order to simplify our features, let's create a family variable that combines Parch and SibSp. It would be preferalble to have 1 dimension with only 60% zeros over 2 dimensions with at least 70% zeros. This is OK to do because, the data Parent/Child and Sibling/Spouse is of the same kind: they are counts of people."
   ]
  },
  {
   "cell_type": "code",
   "execution_count": 25,
   "metadata": {
    "execution": {
     "iopub.execute_input": "2020-10-18T22:45:32.923015Z",
     "iopub.status.busy": "2020-10-18T22:45:32.919825Z",
     "iopub.status.idle": "2020-10-18T22:45:32.925938Z",
     "shell.execute_reply": "2020-10-18T22:45:32.926465Z"
    },
    "papermill": {
     "duration": 0.083709,
     "end_time": "2020-10-18T22:45:32.926656",
     "exception": false,
     "start_time": "2020-10-18T22:45:32.842947",
     "status": "completed"
    },
    "tags": []
   },
   "outputs": [],
   "source": [
    "X['FamilySize'] = X['SibSp'] + X['Parch']\n",
    "X = X.drop(['SibSp','Parch'],axis=1)\n",
    "\n",
    "num_col = X.select_dtypes(include=['float64','int64']).columns"
   ]
  },
  {
   "cell_type": "markdown",
   "metadata": {
    "papermill": {
     "duration": 0.069254,
     "end_time": "2020-10-18T22:45:33.066423",
     "exception": false,
     "start_time": "2020-10-18T22:45:32.997169",
     "status": "completed"
    },
    "tags": []
   },
   "source": [
    "## Pipline"
   ]
  },
  {
   "cell_type": "markdown",
   "metadata": {
    "papermill": {
     "duration": 0.06904,
     "end_time": "2020-10-18T22:45:33.204981",
     "exception": false,
     "start_time": "2020-10-18T22:45:33.135941",
     "status": "completed"
    },
    "tags": []
   },
   "source": [
    "Here we prepare the pipeline. See sklearn for further imformation"
   ]
  },
  {
   "cell_type": "code",
   "execution_count": 26,
   "metadata": {
    "execution": {
     "iopub.execute_input": "2020-10-18T22:45:33.354241Z",
     "iopub.status.busy": "2020-10-18T22:45:33.353392Z",
     "iopub.status.idle": "2020-10-18T22:45:33.367339Z",
     "shell.execute_reply": "2020-10-18T22:45:33.366539Z"
    },
    "papermill": {
     "duration": 0.092894,
     "end_time": "2020-10-18T22:45:33.367478",
     "exception": false,
     "start_time": "2020-10-18T22:45:33.274584",
     "status": "completed"
    },
    "tags": []
   },
   "outputs": [],
   "source": [
    "from sklearn.impute import SimpleImputer\n",
    "from sklearn.preprocessing import OneHotEncoder\n",
    "from sklearn.preprocessing import StandardScaler\n",
    "from sklearn.pipeline import Pipeline\n",
    "from sklearn.compose import ColumnTransformer\n",
    "\n",
    "# Preprocessing for numerical data\n",
    "numerical_transformer = Pipeline(steps=[\n",
    "    ('imputer',SimpleImputer(strategy='constant')),\n",
    "    ('scaler',StandardScaler())\n",
    "    ])\n",
    "\n",
    "# Preprocessing for categorical data\n",
    "categorical_transformer = Pipeline(steps=[\n",
    "    ('imputer', SimpleImputer(strategy='most_frequent')),\n",
    "    ('onehot', OneHotEncoder(handle_unknown='ignore'))\n",
    "    ])\n",
    "\n",
    "preprocessor = ColumnTransformer(\n",
    "    transformers=[\n",
    "        ('num', numerical_transformer, num_col),\n",
    "        ('cat', categorical_transformer, cat_col)\n",
    "    ])"
   ]
  },
  {
   "cell_type": "markdown",
   "metadata": {
    "papermill": {
     "duration": 0.069462,
     "end_time": "2020-10-18T22:45:33.507290",
     "exception": false,
     "start_time": "2020-10-18T22:45:33.437828",
     "status": "completed"
    },
    "tags": []
   },
   "source": [
    "Split the data back into train and test datasets and split for modelling purposes."
   ]
  },
  {
   "cell_type": "code",
   "execution_count": 27,
   "metadata": {
    "execution": {
     "iopub.execute_input": "2020-10-18T22:45:33.657816Z",
     "iopub.status.busy": "2020-10-18T22:45:33.656218Z",
     "iopub.status.idle": "2020-10-18T22:45:33.662959Z",
     "shell.execute_reply": "2020-10-18T22:45:33.662343Z"
    },
    "papermill": {
     "duration": 0.085932,
     "end_time": "2020-10-18T22:45:33.663091",
     "exception": false,
     "start_time": "2020-10-18T22:45:33.577159",
     "status": "completed"
    },
    "tags": []
   },
   "outputs": [],
   "source": [
    "# IMPORTANT: Now data is pre-processed, put it back into train and test sets and then split X and y.\n",
    "test = X.loc[test.index]\n",
    "X = X.loc[train.index]\n",
    "y = y.loc[train.index]\n",
    "\n",
    "from sklearn.model_selection import train_test_split\n",
    "\n",
    "X_train, X_test, y_train, y_test = train_test_split(X,y,train_size=0.75,random_state=81)"
   ]
  },
  {
   "cell_type": "code",
   "execution_count": 28,
   "metadata": {
    "execution": {
     "iopub.execute_input": "2020-10-18T22:45:33.811580Z",
     "iopub.status.busy": "2020-10-18T22:45:33.810830Z",
     "iopub.status.idle": "2020-10-18T22:45:33.867133Z",
     "shell.execute_reply": "2020-10-18T22:45:33.866353Z"
    },
    "papermill": {
     "duration": 0.133906,
     "end_time": "2020-10-18T22:45:33.867293",
     "exception": false,
     "start_time": "2020-10-18T22:45:33.733387",
     "status": "completed"
    },
    "tags": []
   },
   "outputs": [],
   "source": [
    "# Import models\n",
    "from sklearn.ensemble import RandomForestClassifier\n",
    "from sklearn.linear_model import LogisticRegressionCV\n",
    "from sklearn.linear_model import Perceptron\n",
    "from sklearn.ensemble import AdaBoostClassifier"
   ]
  },
  {
   "cell_type": "code",
   "execution_count": 29,
   "metadata": {
    "_kg_hide-input": true,
    "_kg_hide-output": true,
    "execution": {
     "iopub.execute_input": "2020-10-18T22:45:34.026013Z",
     "iopub.status.busy": "2020-10-18T22:45:34.024850Z",
     "iopub.status.idle": "2020-10-18T22:45:34.029420Z",
     "shell.execute_reply": "2020-10-18T22:45:34.030028Z"
    },
    "papermill": {
     "duration": 0.092132,
     "end_time": "2020-10-18T22:45:34.030218",
     "exception": false,
     "start_time": "2020-10-18T22:45:33.938086",
     "status": "completed"
    },
    "tags": []
   },
   "outputs": [
    {
     "data": {
      "text/plain": [
       "'\\nfrom sklearn.model_selection import GridSearchCV\\nfrom sklearn.metrics import make_scorer\\n\\nparameters = {\\'model__n_estimators\\':[100,200,500],\\n              \\'model__min_samples_split\\':[2],\\n              \\'model__min_samples_leaf\\':[1]}\\n\\nscorer = make_scorer(accuracy_score,greater_is_better=True)\\n\\ngrid = GridSearchCV(pipeline,parameters,scoring=scorer)\\n\\ngrid.fit(X_train,y_train)\\n\\ny_pred = grid.predict(X_test)\\n\\naccuracy = accuracy_score(y_test,y_pred)\\n\\nprint(\"Accuracy:\",accuracy)\\n\\n#final_params = grid.best_params_\\n\\n'"
      ]
     },
     "execution_count": 29,
     "metadata": {},
     "output_type": "execute_result"
    }
   ],
   "source": [
    "\"\"\"\n",
    "from sklearn.model_selection import GridSearchCV\n",
    "from sklearn.metrics import make_scorer\n",
    "\n",
    "parameters = {'model__n_estimators':[100,200,500],\n",
    "              'model__min_samples_split':[2],\n",
    "              'model__min_samples_leaf':[1]}\n",
    "\n",
    "scorer = make_scorer(accuracy_score,greater_is_better=True)\n",
    "\n",
    "grid = GridSearchCV(pipeline,parameters,scoring=scorer)\n",
    "\n",
    "grid.fit(X_train,y_train)\n",
    "\n",
    "y_pred = grid.predict(X_test)\n",
    "\n",
    "accuracy = accuracy_score(y_test,y_pred)\n",
    "\n",
    "print(\"Accuracy:\",accuracy)\n",
    "\n",
    "#final_params = grid.best_params_\n",
    "\n",
    "\"\"\""
   ]
  },
  {
   "cell_type": "markdown",
   "metadata": {
    "papermill": {
     "duration": 0.072761,
     "end_time": "2020-10-18T22:45:34.185174",
     "exception": false,
     "start_time": "2020-10-18T22:45:34.112413",
     "status": "completed"
    },
    "tags": []
   },
   "source": [
    "### Random Forest"
   ]
  },
  {
   "cell_type": "code",
   "execution_count": 30,
   "metadata": {
    "execution": {
     "iopub.execute_input": "2020-10-18T22:45:34.344431Z",
     "iopub.status.busy": "2020-10-18T22:45:34.337056Z",
     "iopub.status.idle": "2020-10-18T22:45:36.320616Z",
     "shell.execute_reply": "2020-10-18T22:45:36.321284Z"
    },
    "papermill": {
     "duration": 2.065106,
     "end_time": "2020-10-18T22:45:36.321446",
     "exception": false,
     "start_time": "2020-10-18T22:45:34.256340",
     "status": "completed"
    },
    "tags": []
   },
   "outputs": [
    {
     "name": "stdout",
     "output_type": "stream",
     "text": [
      "Accuracy: 0.8251121076233184\n"
     ]
    }
   ],
   "source": [
    "#Train RF model model, I did a Grid Search CV on this, and it yielded the following setup of parameters:\n",
    "RandomForest = RandomForestClassifier(n_estimators=500,\n",
    "                                      min_samples_split=2,\n",
    "                                      min_samples_leaf=1,\n",
    "                                      random_state=81)\n",
    "\n",
    "RF_pipeline = Pipeline(steps=[('preprocessor', preprocessor),('model', RandomForest)])\n",
    "\n",
    "RF_pipeline.fit(X_train, y_train)\n",
    "\n",
    "y_pred = RF_pipeline.predict(X_test)\n",
    "\n",
    "RF_accuracy = accuracy_score(y_test,y_pred)\n",
    "\n",
    "print(\"Accuracy:\",RF_accuracy)"
   ]
  },
  {
   "cell_type": "markdown",
   "metadata": {
    "papermill": {
     "duration": 0.072182,
     "end_time": "2020-10-18T22:45:36.465126",
     "exception": false,
     "start_time": "2020-10-18T22:45:36.392944",
     "status": "completed"
    },
    "tags": []
   },
   "source": [
    "### Perceptron"
   ]
  },
  {
   "cell_type": "code",
   "execution_count": 31,
   "metadata": {
    "execution": {
     "iopub.execute_input": "2020-10-18T22:45:36.625894Z",
     "iopub.status.busy": "2020-10-18T22:45:36.624740Z",
     "iopub.status.idle": "2020-10-18T22:45:36.661698Z",
     "shell.execute_reply": "2020-10-18T22:45:36.662280Z"
    },
    "papermill": {
     "duration": 0.125887,
     "end_time": "2020-10-18T22:45:36.662467",
     "exception": false,
     "start_time": "2020-10-18T22:45:36.536580",
     "status": "completed"
    },
    "tags": []
   },
   "outputs": [
    {
     "name": "stdout",
     "output_type": "stream",
     "text": [
      "Accuracy: 0.7847533632286996\n"
     ]
    }
   ],
   "source": [
    "Perceptron = Perceptron()\n",
    "\n",
    "Perc_pipeline = Pipeline(steps=[('preprocessor',preprocessor),('model',Perceptron)])\n",
    "\n",
    "Perc_pipeline.fit(X_train,y_train)\n",
    "\n",
    "y_pred = Perc_pipeline.predict(X_test)\n",
    "\n",
    "Perceptron_accuracy = accuracy_score(y_test,y_pred)\n",
    "\n",
    "print(\"Accuracy:\",Perceptron_accuracy)"
   ]
  },
  {
   "cell_type": "markdown",
   "metadata": {
    "papermill": {
     "duration": 0.072634,
     "end_time": "2020-10-18T22:45:36.807529",
     "exception": false,
     "start_time": "2020-10-18T22:45:36.734895",
     "status": "completed"
    },
    "tags": []
   },
   "source": [
    "### Logistic Regression"
   ]
  },
  {
   "cell_type": "code",
   "execution_count": 32,
   "metadata": {
    "execution": {
     "iopub.execute_input": "2020-10-18T22:45:36.968082Z",
     "iopub.status.busy": "2020-10-18T22:45:36.966954Z",
     "iopub.status.idle": "2020-10-18T22:45:38.541381Z",
     "shell.execute_reply": "2020-10-18T22:45:38.541964Z"
    },
    "papermill": {
     "duration": 1.662134,
     "end_time": "2020-10-18T22:45:38.542130",
     "exception": false,
     "start_time": "2020-10-18T22:45:36.879996",
     "status": "completed"
    },
    "tags": []
   },
   "outputs": [
    {
     "name": "stderr",
     "output_type": "stream",
     "text": [
      "/opt/conda/lib/python3.7/site-packages/sklearn/linear_model/_logistic.py:764: ConvergenceWarning: lbfgs failed to converge (status=1):\n",
      "STOP: TOTAL NO. of ITERATIONS REACHED LIMIT.\n",
      "\n",
      "Increase the number of iterations (max_iter) or scale the data as shown in:\n",
      "    https://scikit-learn.org/stable/modules/preprocessing.html\n",
      "Please also refer to the documentation for alternative solver options:\n",
      "    https://scikit-learn.org/stable/modules/linear_model.html#logistic-regression\n",
      "  extra_warning_msg=_LOGISTIC_SOLVER_CONVERGENCE_MSG)\n",
      "/opt/conda/lib/python3.7/site-packages/sklearn/linear_model/_logistic.py:764: ConvergenceWarning: lbfgs failed to converge (status=1):\n",
      "STOP: TOTAL NO. of ITERATIONS REACHED LIMIT.\n",
      "\n",
      "Increase the number of iterations (max_iter) or scale the data as shown in:\n",
      "    https://scikit-learn.org/stable/modules/preprocessing.html\n",
      "Please also refer to the documentation for alternative solver options:\n",
      "    https://scikit-learn.org/stable/modules/linear_model.html#logistic-regression\n",
      "  extra_warning_msg=_LOGISTIC_SOLVER_CONVERGENCE_MSG)\n"
     ]
    },
    {
     "name": "stdout",
     "output_type": "stream",
     "text": [
      "Accuracy: 0.7982062780269058\n"
     ]
    }
   ],
   "source": [
    "LogRegCV = LogisticRegressionCV(cv=5)\n",
    "\n",
    "LR_pipeline = Pipeline(steps=[('preprocessor',preprocessor),('model',LogRegCV)])\n",
    "\n",
    "LR_pipeline.fit(X_train,y_train)\n",
    "\n",
    "y_pred = LR_pipeline.predict(X_test)\n",
    "\n",
    "LogReg_accuracy = accuracy_score(y_test,y_pred)\n",
    "\n",
    "print(\"Accuracy:\",LogReg_accuracy)"
   ]
  },
  {
   "cell_type": "markdown",
   "metadata": {
    "papermill": {
     "duration": 0.07495,
     "end_time": "2020-10-18T22:45:38.691201",
     "exception": false,
     "start_time": "2020-10-18T22:45:38.616251",
     "status": "completed"
    },
    "tags": []
   },
   "source": [
    "### Ada Boost"
   ]
  },
  {
   "cell_type": "code",
   "execution_count": 33,
   "metadata": {
    "execution": {
     "iopub.execute_input": "2020-10-18T22:45:38.855392Z",
     "iopub.status.busy": "2020-10-18T22:45:38.854295Z",
     "iopub.status.idle": "2020-10-18T22:45:39.050440Z",
     "shell.execute_reply": "2020-10-18T22:45:39.051226Z"
    },
    "papermill": {
     "duration": 0.285953,
     "end_time": "2020-10-18T22:45:39.051413",
     "exception": false,
     "start_time": "2020-10-18T22:45:38.765460",
     "status": "completed"
    },
    "tags": []
   },
   "outputs": [
    {
     "name": "stdout",
     "output_type": "stream",
     "text": [
      "Accuracy: 0.7757847533632287\n"
     ]
    }
   ],
   "source": [
    "ADA = AdaBoostClassifier()\n",
    "\n",
    "ADA_pipeline = Pipeline(steps=[('preprocessor',preprocessor),('model',ADA)])\n",
    "\n",
    "ADA_pipeline.fit(X_train,y_train)\n",
    "\n",
    "y_pred = ADA_pipeline.predict(X_test)\n",
    "\n",
    "ADA_accuracy = accuracy_score(y_test,y_pred)\n",
    "\n",
    "print(\"Accuracy:\",ADA_accuracy)\n"
   ]
  },
  {
   "cell_type": "markdown",
   "metadata": {
    "papermill": {
     "duration": 0.07365,
     "end_time": "2020-10-18T22:45:39.199087",
     "exception": false,
     "start_time": "2020-10-18T22:45:39.125437",
     "status": "completed"
    },
    "tags": []
   },
   "source": [
    "### Stacking for all models\n",
    "This combines all the models, to see if the combined models can predict better. Logistic Regression is used to choose the overall result from amongst the underlying models."
   ]
  },
  {
   "cell_type": "code",
   "execution_count": 34,
   "metadata": {
    "execution": {
     "iopub.execute_input": "2020-10-18T22:45:39.369485Z",
     "iopub.status.busy": "2020-10-18T22:45:39.368576Z",
     "iopub.status.idle": "2020-10-18T22:45:58.974019Z",
     "shell.execute_reply": "2020-10-18T22:45:58.974800Z"
    },
    "papermill": {
     "duration": 19.70179,
     "end_time": "2020-10-18T22:45:58.975020",
     "exception": false,
     "start_time": "2020-10-18T22:45:39.273230",
     "status": "completed"
    },
    "tags": []
   },
   "outputs": [
    {
     "name": "stderr",
     "output_type": "stream",
     "text": [
      "/opt/conda/lib/python3.7/site-packages/sklearn/linear_model/_logistic.py:764: ConvergenceWarning: lbfgs failed to converge (status=1):\n",
      "STOP: TOTAL NO. of ITERATIONS REACHED LIMIT.\n",
      "\n",
      "Increase the number of iterations (max_iter) or scale the data as shown in:\n",
      "    https://scikit-learn.org/stable/modules/preprocessing.html\n",
      "Please also refer to the documentation for alternative solver options:\n",
      "    https://scikit-learn.org/stable/modules/linear_model.html#logistic-regression\n",
      "  extra_warning_msg=_LOGISTIC_SOLVER_CONVERGENCE_MSG)\n",
      "/opt/conda/lib/python3.7/site-packages/sklearn/linear_model/_logistic.py:764: ConvergenceWarning: lbfgs failed to converge (status=1):\n",
      "STOP: TOTAL NO. of ITERATIONS REACHED LIMIT.\n",
      "\n",
      "Increase the number of iterations (max_iter) or scale the data as shown in:\n",
      "    https://scikit-learn.org/stable/modules/preprocessing.html\n",
      "Please also refer to the documentation for alternative solver options:\n",
      "    https://scikit-learn.org/stable/modules/linear_model.html#logistic-regression\n",
      "  extra_warning_msg=_LOGISTIC_SOLVER_CONVERGENCE_MSG)\n"
     ]
    },
    {
     "name": "stdout",
     "output_type": "stream",
     "text": [
      "Accruacy: 0.8026905829596412\n",
      "CPU times: user 19.7 s, sys: 89.3 ms, total: 19.8 s\n",
      "Wall time: 19.6 s\n"
     ]
    }
   ],
   "source": [
    "%%time\n",
    "\n",
    "from sklearn.ensemble import StackingClassifier\n",
    "\n",
    "estimators = [('RF',RF_pipeline),\n",
    "              ('Perceptron',Perc_pipeline),\n",
    "              ('ADA',ADA_pipeline),\n",
    "              ('LogReg',LR_pipeline)]\n",
    "\n",
    "stack = StackingClassifier(estimators=estimators)\n",
    "stack.fit(X_train,y_train)\n",
    "y_pred = stack.predict(X_test)\n",
    "stack_accuracy = accuracy_score(y_test,y_pred)\n",
    "print(\"Accruacy:\",stack_accuracy)"
   ]
  },
  {
   "cell_type": "code",
   "execution_count": 35,
   "metadata": {
    "_kg_hide-input": true,
    "execution": {
     "iopub.execute_input": "2020-10-18T22:45:59.137845Z",
     "iopub.status.busy": "2020-10-18T22:45:59.136848Z",
     "iopub.status.idle": "2020-10-18T22:45:59.140178Z",
     "shell.execute_reply": "2020-10-18T22:45:59.139397Z"
    },
    "papermill": {
     "duration": 0.086885,
     "end_time": "2020-10-18T22:45:59.140306",
     "exception": false,
     "start_time": "2020-10-18T22:45:59.053421",
     "status": "completed"
    },
    "tags": []
   },
   "outputs": [],
   "source": [
    "results = pd.DataFrame({'Model':['Random Forest','Perceptron','Logistic Regression','ADA Boost','Stacked Model'],\n",
    "                        'Accuracy':[RF_accuracy, Perceptron_accuracy,LogReg_accuracy,ADA_accuracy,stack_accuracy]}).set_index('Model')"
   ]
  },
  {
   "cell_type": "code",
   "execution_count": 36,
   "metadata": {
    "_kg_hide-input": true,
    "execution": {
     "iopub.execute_input": "2020-10-18T22:45:59.303777Z",
     "iopub.status.busy": "2020-10-18T22:45:59.302680Z",
     "iopub.status.idle": "2020-10-18T22:45:59.307210Z",
     "shell.execute_reply": "2020-10-18T22:45:59.306462Z"
    },
    "papermill": {
     "duration": 0.090595,
     "end_time": "2020-10-18T22:45:59.307336",
     "exception": false,
     "start_time": "2020-10-18T22:45:59.216741",
     "status": "completed"
    },
    "tags": []
   },
   "outputs": [
    {
     "data": {
      "text/html": [
       "<div>\n",
       "<style scoped>\n",
       "    .dataframe tbody tr th:only-of-type {\n",
       "        vertical-align: middle;\n",
       "    }\n",
       "\n",
       "    .dataframe tbody tr th {\n",
       "        vertical-align: top;\n",
       "    }\n",
       "\n",
       "    .dataframe thead th {\n",
       "        text-align: right;\n",
       "    }\n",
       "</style>\n",
       "<table border=\"1\" class=\"dataframe\">\n",
       "  <thead>\n",
       "    <tr style=\"text-align: right;\">\n",
       "      <th></th>\n",
       "      <th>Accuracy</th>\n",
       "    </tr>\n",
       "    <tr>\n",
       "      <th>Model</th>\n",
       "      <th></th>\n",
       "    </tr>\n",
       "  </thead>\n",
       "  <tbody>\n",
       "    <tr>\n",
       "      <th>Random Forest</th>\n",
       "      <td>0.825112</td>\n",
       "    </tr>\n",
       "    <tr>\n",
       "      <th>Stacked Model</th>\n",
       "      <td>0.802691</td>\n",
       "    </tr>\n",
       "    <tr>\n",
       "      <th>Logistic Regression</th>\n",
       "      <td>0.798206</td>\n",
       "    </tr>\n",
       "    <tr>\n",
       "      <th>Perceptron</th>\n",
       "      <td>0.784753</td>\n",
       "    </tr>\n",
       "    <tr>\n",
       "      <th>ADA Boost</th>\n",
       "      <td>0.775785</td>\n",
       "    </tr>\n",
       "  </tbody>\n",
       "</table>\n",
       "</div>"
      ],
      "text/plain": [
       "                     Accuracy\n",
       "Model                        \n",
       "Random Forest        0.825112\n",
       "Stacked Model        0.802691\n",
       "Logistic Regression  0.798206\n",
       "Perceptron           0.784753\n",
       "ADA Boost            0.775785"
      ]
     },
     "execution_count": 36,
     "metadata": {},
     "output_type": "execute_result"
    }
   ],
   "source": [
    "results.sort_values('Accuracy',ascending=False)"
   ]
  },
  {
   "cell_type": "markdown",
   "metadata": {
    "papermill": {
     "duration": 0.076155,
     "end_time": "2020-10-18T22:45:59.460262",
     "exception": false,
     "start_time": "2020-10-18T22:45:59.384107",
     "status": "completed"
    },
    "tags": []
   },
   "source": [
    "So the Random Forest model performs best. It is possible that running a GridSearchCV on ADA Boost and Perceptron may lead to better results and ultimately the Stack may improve by extension."
   ]
  },
  {
   "cell_type": "markdown",
   "metadata": {
    "papermill": {
     "duration": 0.078435,
     "end_time": "2020-10-18T22:45:59.615275",
     "exception": false,
     "start_time": "2020-10-18T22:45:59.536840",
     "status": "completed"
    },
    "tags": []
   },
   "source": [
    "## Generate Submission"
   ]
  },
  {
   "cell_type": "markdown",
   "metadata": {
    "papermill": {
     "duration": 0.075994,
     "end_time": "2020-10-18T22:45:59.768576",
     "exception": false,
     "start_time": "2020-10-18T22:45:59.692582",
     "status": "completed"
    },
    "tags": []
   },
   "source": []
  },
  {
   "cell_type": "markdown",
   "metadata": {
    "papermill": {
     "duration": 0.07652,
     "end_time": "2020-10-18T22:45:59.922344",
     "exception": false,
     "start_time": "2020-10-18T22:45:59.845824",
     "status": "completed"
    },
    "tags": []
   },
   "source": [
    "When I submitted this, it yielded a score of **0.79186**. Which at time of submission was in the Top 8%.\n",
    "\n",
    "Thank you for reading. Please upvote if you have enjoyed and leave a comment to indicate any suggestions for improvement, either to my approach or code. \n",
    "\n",
    "Thanks again\n",
    "\n",
    "**Jon**"
   ]
  },
  {
   "cell_type": "markdown",
   "metadata": {
    "papermill": {
     "duration": 0.076662,
     "end_time": "2020-10-18T22:46:00.075269",
     "exception": false,
     "start_time": "2020-10-18T22:45:59.998607",
     "status": "completed"
    },
    "tags": []
   },
   "source": [
    "![UPVOTE](https://i.imgur.com/RVyQY7r.png)"
   ]
  },
  {
   "cell_type": "code",
   "execution_count": 37,
   "metadata": {
    "execution": {
     "iopub.execute_input": "2020-10-18T22:46:00.246666Z",
     "iopub.status.busy": "2020-10-18T22:46:00.245879Z",
     "iopub.status.idle": "2020-10-18T22:46:00.661507Z",
     "shell.execute_reply": "2020-10-18T22:46:00.660800Z"
    },
    "papermill": {
     "duration": 0.509722,
     "end_time": "2020-10-18T22:46:00.661660",
     "exception": false,
     "start_time": "2020-10-18T22:46:00.151938",
     "status": "completed"
    },
    "tags": []
   },
   "outputs": [],
   "source": [
    "#Choosing RF pipeline, seems best...\n",
    "test_pred = RF_pipeline.predict(test)\n",
    "\n",
    "submission = pd.DataFrame(test_pred,index=test.index,columns=['Survived'])\n",
    "\n",
    "submission.to_csv(\"./submission.csv\")"
   ]
  }
 ],
 "metadata": {
  "kernelspec": {
   "display_name": "Python 3",
   "language": "python",
   "name": "python3"
  },
  "language_info": {
   "codemirror_mode": {
    "name": "ipython",
    "version": 3
   },
   "file_extension": ".py",
   "mimetype": "text/x-python",
   "name": "python",
   "nbconvert_exporter": "python",
   "pygments_lexer": "ipython3",
   "version": "3.7.6"
  },
  "papermill": {
   "duration": 45.688903,
   "end_time": "2020-10-18T22:46:00.847033",
   "environment_variables": {},
   "exception": null,
   "input_path": "__notebook__.ipynb",
   "output_path": "__notebook__.ipynb",
   "parameters": {},
   "start_time": "2020-10-18T22:45:15.158130",
   "version": "2.1.0"
  }
 },
 "nbformat": 4,
 "nbformat_minor": 4
}
